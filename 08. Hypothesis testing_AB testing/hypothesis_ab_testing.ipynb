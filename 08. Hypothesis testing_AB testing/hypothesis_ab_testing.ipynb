{
 "cells": [
  {
   "cell_type": "markdown",
   "metadata": {
    "toc": true
   },
   "source": [
    "<h1>Содержание<span class=\"tocSkip\"></span></h1>\n",
    "<div class=\"toc\"><ul class=\"toc-item\"><li><span><a href=\"#Приоритизация-гипотез\" data-toc-modified-id=\"Приоритизация-гипотез-1\"><span class=\"toc-item-num\">1&nbsp;&nbsp;</span>Приоритизация гипотез</a></span></li><li><span><a href=\"#Анализ-A/B-теста\" data-toc-modified-id=\"Анализ-A/B-теста-2\"><span class=\"toc-item-num\">2&nbsp;&nbsp;</span>Анализ A/B-теста</a></span><ul class=\"toc-item\"><li><span><a href=\"#Задача-1\" data-toc-modified-id=\"Задача-1-2.1\"><span class=\"toc-item-num\">2.1&nbsp;&nbsp;</span>Задача 1</a></span></li><li><span><a href=\"#Задача-2\" data-toc-modified-id=\"Задача-2-2.2\"><span class=\"toc-item-num\">2.2&nbsp;&nbsp;</span>Задача 2</a></span></li><li><span><a href=\"#Задача-3\" data-toc-modified-id=\"Задача-3-2.3\"><span class=\"toc-item-num\">2.3&nbsp;&nbsp;</span>Задача 3</a></span></li><li><span><a href=\"#Задача-4\" data-toc-modified-id=\"Задача-4-2.4\"><span class=\"toc-item-num\">2.4&nbsp;&nbsp;</span>Задача 4</a></span></li><li><span><a href=\"#Задача-5\" data-toc-modified-id=\"Задача-5-2.5\"><span class=\"toc-item-num\">2.5&nbsp;&nbsp;</span>Задача 5</a></span></li><li><span><a href=\"#Задача-6\" data-toc-modified-id=\"Задача-6-2.6\"><span class=\"toc-item-num\">2.6&nbsp;&nbsp;</span>Задача 6</a></span></li><li><span><a href=\"#Задача-7\" data-toc-modified-id=\"Задача-7-2.7\"><span class=\"toc-item-num\">2.7&nbsp;&nbsp;</span>Задача 7</a></span></li><li><span><a href=\"#Задача-8\" data-toc-modified-id=\"Задача-8-2.8\"><span class=\"toc-item-num\">2.8&nbsp;&nbsp;</span>Задача 8</a></span></li><li><span><a href=\"#Задача-9\" data-toc-modified-id=\"Задача-9-2.9\"><span class=\"toc-item-num\">2.9&nbsp;&nbsp;</span>Задача 9</a></span></li><li><span><a href=\"#Задача-10\" data-toc-modified-id=\"Задача-10-2.10\"><span class=\"toc-item-num\">2.10&nbsp;&nbsp;</span>Задача 10</a></span></li><li><span><a href=\"#Задача-11\" data-toc-modified-id=\"Задача-11-2.11\"><span class=\"toc-item-num\">2.11&nbsp;&nbsp;</span>Задача 11</a></span></li><li><span><a href=\"#Задача-12\" data-toc-modified-id=\"Задача-12-2.12\"><span class=\"toc-item-num\">2.12&nbsp;&nbsp;</span>Задача 12</a></span></li><li><span><a href=\"#Задача-13\" data-toc-modified-id=\"Задача-13-2.13\"><span class=\"toc-item-num\">2.13&nbsp;&nbsp;</span>Задача 13</a></span></li><li><span><a href=\"#Задача-14\" data-toc-modified-id=\"Задача-14-2.14\"><span class=\"toc-item-num\">2.14&nbsp;&nbsp;</span>Задача 14</a></span></li></ul></li><li><span><a href=\"#Вывод\" data-toc-modified-id=\"Вывод-3\"><span class=\"toc-item-num\">3&nbsp;&nbsp;</span>Вывод</a></span></li></ul></div>"
   ]
  },
  {
   "cell_type": "markdown",
   "metadata": {},
   "source": [
    "## Приоритизация гипотез"
   ]
  },
  {
   "cell_type": "markdown",
   "metadata": {},
   "source": [
    "В файле `/datasets/hypothesis.csv` 9 гипотез по увеличению выручки интернет-магазина с указанными параметрами `Reach`, `Impact`, `Confidence`, `Effort`."
   ]
  },
  {
   "cell_type": "markdown",
   "metadata": {},
   "source": [
    "Для приоритезации гипотез воспользуемся фреймворками ICE и RICE. Изучим, как изменится приоритезация в используемых фреймвоках.\n",
    "\n",
    "Для начала подготовим нашу таблицу к работе."
   ]
  },
  {
   "cell_type": "code",
   "execution_count": 1,
   "metadata": {},
   "outputs": [],
   "source": [
    "# Для начала подгрузим необходимые нам библиотеки\n",
    "import pandas as pd\n",
    "import matplotlib.pyplot as plt\n",
    "import numpy as np\n",
    "import datetime as dt\n",
    "import scipy.stats as stats"
   ]
  },
  {
   "cell_type": "code",
   "execution_count": 2,
   "metadata": {},
   "outputs": [
    {
     "data": {
      "text/html": [
       "<div>\n",
       "<style scoped>\n",
       "    .dataframe tbody tr th:only-of-type {\n",
       "        vertical-align: middle;\n",
       "    }\n",
       "\n",
       "    .dataframe tbody tr th {\n",
       "        vertical-align: top;\n",
       "    }\n",
       "\n",
       "    .dataframe thead th {\n",
       "        text-align: right;\n",
       "    }\n",
       "</style>\n",
       "<table border=\"1\" class=\"dataframe\">\n",
       "  <thead>\n",
       "    <tr style=\"text-align: right;\">\n",
       "      <th></th>\n",
       "      <th>Hypothesis</th>\n",
       "      <th>Reach</th>\n",
       "      <th>Impact</th>\n",
       "      <th>Confidence</th>\n",
       "      <th>Efforts</th>\n",
       "    </tr>\n",
       "  </thead>\n",
       "  <tbody>\n",
       "    <tr>\n",
       "      <th>0</th>\n",
       "      <td>Добавить два новых канала привлечения трафика, что позволит привлекать на 30% больше пользователей</td>\n",
       "      <td>3</td>\n",
       "      <td>10</td>\n",
       "      <td>8</td>\n",
       "      <td>6</td>\n",
       "    </tr>\n",
       "    <tr>\n",
       "      <th>1</th>\n",
       "      <td>Запустить собственную службу доставки, что сократит срок доставки заказов</td>\n",
       "      <td>2</td>\n",
       "      <td>5</td>\n",
       "      <td>4</td>\n",
       "      <td>10</td>\n",
       "    </tr>\n",
       "    <tr>\n",
       "      <th>2</th>\n",
       "      <td>Добавить блоки рекомендаций товаров на сайт интернет магазина, чтобы повысить конверсию и средний чек заказа</td>\n",
       "      <td>8</td>\n",
       "      <td>3</td>\n",
       "      <td>7</td>\n",
       "      <td>3</td>\n",
       "    </tr>\n",
       "    <tr>\n",
       "      <th>3</th>\n",
       "      <td>Изменить структура категорий, что увеличит конверсию, т.к. пользователи быстрее найдут нужный товар</td>\n",
       "      <td>8</td>\n",
       "      <td>3</td>\n",
       "      <td>3</td>\n",
       "      <td>8</td>\n",
       "    </tr>\n",
       "    <tr>\n",
       "      <th>4</th>\n",
       "      <td>Изменить цвет фона главной страницы, чтобы увеличить вовлеченность пользователей</td>\n",
       "      <td>3</td>\n",
       "      <td>1</td>\n",
       "      <td>1</td>\n",
       "      <td>1</td>\n",
       "    </tr>\n",
       "    <tr>\n",
       "      <th>5</th>\n",
       "      <td>Добавить страницу отзывов клиентов о магазине, что позволит увеличить количество заказов</td>\n",
       "      <td>3</td>\n",
       "      <td>2</td>\n",
       "      <td>2</td>\n",
       "      <td>3</td>\n",
       "    </tr>\n",
       "    <tr>\n",
       "      <th>6</th>\n",
       "      <td>Показать на главной странице баннеры с актуальными акциями и распродажами, чтобы увеличить конверсию</td>\n",
       "      <td>5</td>\n",
       "      <td>3</td>\n",
       "      <td>8</td>\n",
       "      <td>3</td>\n",
       "    </tr>\n",
       "    <tr>\n",
       "      <th>7</th>\n",
       "      <td>Добавить форму подписки на все основные страницы, чтобы собрать базу клиентов для email-рассылок</td>\n",
       "      <td>10</td>\n",
       "      <td>7</td>\n",
       "      <td>8</td>\n",
       "      <td>5</td>\n",
       "    </tr>\n",
       "    <tr>\n",
       "      <th>8</th>\n",
       "      <td>Запустить акцию, дающую скидку на товар в день рождения</td>\n",
       "      <td>1</td>\n",
       "      <td>9</td>\n",
       "      <td>9</td>\n",
       "      <td>5</td>\n",
       "    </tr>\n",
       "  </tbody>\n",
       "</table>\n",
       "</div>"
      ],
      "text/plain": [
       "                                                                                                     Hypothesis  \\\n",
       "0            Добавить два новых канала привлечения трафика, что позволит привлекать на 30% больше пользователей   \n",
       "1                                     Запустить собственную службу доставки, что сократит срок доставки заказов   \n",
       "2  Добавить блоки рекомендаций товаров на сайт интернет магазина, чтобы повысить конверсию и средний чек заказа   \n",
       "3           Изменить структура категорий, что увеличит конверсию, т.к. пользователи быстрее найдут нужный товар   \n",
       "4                              Изменить цвет фона главной страницы, чтобы увеличить вовлеченность пользователей   \n",
       "5                      Добавить страницу отзывов клиентов о магазине, что позволит увеличить количество заказов   \n",
       "6          Показать на главной странице баннеры с актуальными акциями и распродажами, чтобы увеличить конверсию   \n",
       "7              Добавить форму подписки на все основные страницы, чтобы собрать базу клиентов для email-рассылок   \n",
       "8                                                       Запустить акцию, дающую скидку на товар в день рождения   \n",
       "\n",
       "   Reach  Impact  Confidence  Efforts  \n",
       "0      3      10           8        6  \n",
       "1      2       5           4       10  \n",
       "2      8       3           7        3  \n",
       "3      8       3           3        8  \n",
       "4      3       1           1        1  \n",
       "5      3       2           2        3  \n",
       "6      5       3           8        3  \n",
       "7     10       7           8        5  \n",
       "8      1       9           9        5  "
      ]
     },
     "execution_count": 2,
     "metadata": {},
     "output_type": "execute_result"
    }
   ],
   "source": [
    "# Подгрузим файл и сохраним его в переменной data_hyp\n",
    "data_hyp = pd.read_csv('/datasets/hypothesis.csv')\n",
    "\n",
    "#Увеличим ширину строк, что бы изучить все предлагаемые нам гипотезы\n",
    "pd.set_option('max_colwidth', 120) \n",
    "\n",
    "#Вывеедм на экран наш файл\n",
    "data_hyp.head(9)"
   ]
  },
  {
   "cell_type": "code",
   "execution_count": 3,
   "metadata": {},
   "outputs": [
    {
     "name": "stdout",
     "output_type": "stream",
     "text": [
      "<class 'pandas.core.frame.DataFrame'>\n",
      "RangeIndex: 9 entries, 0 to 8\n",
      "Data columns (total 5 columns):\n",
      " #   Column      Non-Null Count  Dtype \n",
      "---  ------      --------------  ----- \n",
      " 0   Hypothesis  9 non-null      object\n",
      " 1   Reach       9 non-null      int64 \n",
      " 2   Impact      9 non-null      int64 \n",
      " 3   Confidence  9 non-null      int64 \n",
      " 4   Efforts     9 non-null      int64 \n",
      "dtypes: int64(4), object(1)\n",
      "memory usage: 488.0+ bytes\n"
     ]
    }
   ],
   "source": [
    "#Изучим данные о типе данных, чтобы все расчеты были проведены верно\n",
    "data_hyp.info()"
   ]
  },
  {
   "cell_type": "code",
   "execution_count": 4,
   "metadata": {},
   "outputs": [
    {
     "data": {
      "text/html": [
       "<div>\n",
       "<style scoped>\n",
       "    .dataframe tbody tr th:only-of-type {\n",
       "        vertical-align: middle;\n",
       "    }\n",
       "\n",
       "    .dataframe tbody tr th {\n",
       "        vertical-align: top;\n",
       "    }\n",
       "\n",
       "    .dataframe thead th {\n",
       "        text-align: right;\n",
       "    }\n",
       "</style>\n",
       "<table border=\"1\" class=\"dataframe\">\n",
       "  <thead>\n",
       "    <tr style=\"text-align: right;\">\n",
       "      <th></th>\n",
       "      <th>hypothesis</th>\n",
       "      <th>reach</th>\n",
       "      <th>impact</th>\n",
       "      <th>confidence</th>\n",
       "      <th>efforts</th>\n",
       "    </tr>\n",
       "  </thead>\n",
       "  <tbody>\n",
       "    <tr>\n",
       "      <th>0</th>\n",
       "      <td>Добавить два новых канала привлечения трафика, что позволит привлекать на 30% больше пользователей</td>\n",
       "      <td>3</td>\n",
       "      <td>10</td>\n",
       "      <td>8</td>\n",
       "      <td>6</td>\n",
       "    </tr>\n",
       "    <tr>\n",
       "      <th>1</th>\n",
       "      <td>Запустить собственную службу доставки, что сократит срок доставки заказов</td>\n",
       "      <td>2</td>\n",
       "      <td>5</td>\n",
       "      <td>4</td>\n",
       "      <td>10</td>\n",
       "    </tr>\n",
       "    <tr>\n",
       "      <th>2</th>\n",
       "      <td>Добавить блоки рекомендаций товаров на сайт интернет магазина, чтобы повысить конверсию и средний чек заказа</td>\n",
       "      <td>8</td>\n",
       "      <td>3</td>\n",
       "      <td>7</td>\n",
       "      <td>3</td>\n",
       "    </tr>\n",
       "    <tr>\n",
       "      <th>3</th>\n",
       "      <td>Изменить структура категорий, что увеличит конверсию, т.к. пользователи быстрее найдут нужный товар</td>\n",
       "      <td>8</td>\n",
       "      <td>3</td>\n",
       "      <td>3</td>\n",
       "      <td>8</td>\n",
       "    </tr>\n",
       "    <tr>\n",
       "      <th>4</th>\n",
       "      <td>Изменить цвет фона главной страницы, чтобы увеличить вовлеченность пользователей</td>\n",
       "      <td>3</td>\n",
       "      <td>1</td>\n",
       "      <td>1</td>\n",
       "      <td>1</td>\n",
       "    </tr>\n",
       "  </tbody>\n",
       "</table>\n",
       "</div>"
      ],
      "text/plain": [
       "                                                                                                     hypothesis  \\\n",
       "0            Добавить два новых канала привлечения трафика, что позволит привлекать на 30% больше пользователей   \n",
       "1                                     Запустить собственную службу доставки, что сократит срок доставки заказов   \n",
       "2  Добавить блоки рекомендаций товаров на сайт интернет магазина, чтобы повысить конверсию и средний чек заказа   \n",
       "3           Изменить структура категорий, что увеличит конверсию, т.к. пользователи быстрее найдут нужный товар   \n",
       "4                              Изменить цвет фона главной страницы, чтобы увеличить вовлеченность пользователей   \n",
       "\n",
       "   reach  impact  confidence  efforts  \n",
       "0      3      10           8        6  \n",
       "1      2       5           4       10  \n",
       "2      8       3           7        3  \n",
       "3      8       3           3        8  \n",
       "4      3       1           1        1  "
      ]
     },
     "execution_count": 4,
     "metadata": {},
     "output_type": "execute_result"
    }
   ],
   "source": [
    "#Для удобства приведем название столбцов к нижнему регистру\n",
    "data_hyp.columns = data_hyp.columns.str.lower()\n",
    "data_hyp.head()"
   ]
  },
  {
   "cell_type": "markdown",
   "metadata": {},
   "source": [
    "Для начала приоритезируем гипотезы с помощью фреймворка ICE. Для этого расчитаем показатель ICE для каждой гипотезы и добавим в таблицу. После чего выведем на экран гипотезу и показатель ICE. Для наглядности отсортируем данные по убыванию."
   ]
  },
  {
   "cell_type": "code",
   "execution_count": 5,
   "metadata": {},
   "outputs": [
    {
     "data": {
      "text/html": [
       "<div>\n",
       "<style scoped>\n",
       "    .dataframe tbody tr th:only-of-type {\n",
       "        vertical-align: middle;\n",
       "    }\n",
       "\n",
       "    .dataframe tbody tr th {\n",
       "        vertical-align: top;\n",
       "    }\n",
       "\n",
       "    .dataframe thead th {\n",
       "        text-align: right;\n",
       "    }\n",
       "</style>\n",
       "<table border=\"1\" class=\"dataframe\">\n",
       "  <thead>\n",
       "    <tr style=\"text-align: right;\">\n",
       "      <th></th>\n",
       "      <th>hypothesis</th>\n",
       "      <th>ICE</th>\n",
       "    </tr>\n",
       "  </thead>\n",
       "  <tbody>\n",
       "    <tr>\n",
       "      <th>8</th>\n",
       "      <td>Запустить акцию, дающую скидку на товар в день рождения</td>\n",
       "      <td>16.200000</td>\n",
       "    </tr>\n",
       "    <tr>\n",
       "      <th>0</th>\n",
       "      <td>Добавить два новых канала привлечения трафика, что позволит привлекать на 30% больше пользователей</td>\n",
       "      <td>13.333333</td>\n",
       "    </tr>\n",
       "    <tr>\n",
       "      <th>7</th>\n",
       "      <td>Добавить форму подписки на все основные страницы, чтобы собрать базу клиентов для email-рассылок</td>\n",
       "      <td>11.200000</td>\n",
       "    </tr>\n",
       "    <tr>\n",
       "      <th>6</th>\n",
       "      <td>Показать на главной странице баннеры с актуальными акциями и распродажами, чтобы увеличить конверсию</td>\n",
       "      <td>8.000000</td>\n",
       "    </tr>\n",
       "    <tr>\n",
       "      <th>2</th>\n",
       "      <td>Добавить блоки рекомендаций товаров на сайт интернет магазина, чтобы повысить конверсию и средний чек заказа</td>\n",
       "      <td>7.000000</td>\n",
       "    </tr>\n",
       "    <tr>\n",
       "      <th>1</th>\n",
       "      <td>Запустить собственную службу доставки, что сократит срок доставки заказов</td>\n",
       "      <td>2.000000</td>\n",
       "    </tr>\n",
       "    <tr>\n",
       "      <th>5</th>\n",
       "      <td>Добавить страницу отзывов клиентов о магазине, что позволит увеличить количество заказов</td>\n",
       "      <td>1.333333</td>\n",
       "    </tr>\n",
       "    <tr>\n",
       "      <th>3</th>\n",
       "      <td>Изменить структура категорий, что увеличит конверсию, т.к. пользователи быстрее найдут нужный товар</td>\n",
       "      <td>1.125000</td>\n",
       "    </tr>\n",
       "    <tr>\n",
       "      <th>4</th>\n",
       "      <td>Изменить цвет фона главной страницы, чтобы увеличить вовлеченность пользователей</td>\n",
       "      <td>1.000000</td>\n",
       "    </tr>\n",
       "  </tbody>\n",
       "</table>\n",
       "</div>"
      ],
      "text/plain": [
       "                                                                                                     hypothesis  \\\n",
       "8                                                       Запустить акцию, дающую скидку на товар в день рождения   \n",
       "0            Добавить два новых канала привлечения трафика, что позволит привлекать на 30% больше пользователей   \n",
       "7              Добавить форму подписки на все основные страницы, чтобы собрать базу клиентов для email-рассылок   \n",
       "6          Показать на главной странице баннеры с актуальными акциями и распродажами, чтобы увеличить конверсию   \n",
       "2  Добавить блоки рекомендаций товаров на сайт интернет магазина, чтобы повысить конверсию и средний чек заказа   \n",
       "1                                     Запустить собственную службу доставки, что сократит срок доставки заказов   \n",
       "5                      Добавить страницу отзывов клиентов о магазине, что позволит увеличить количество заказов   \n",
       "3           Изменить структура категорий, что увеличит конверсию, т.к. пользователи быстрее найдут нужный товар   \n",
       "4                              Изменить цвет фона главной страницы, чтобы увеличить вовлеченность пользователей   \n",
       "\n",
       "         ICE  \n",
       "8  16.200000  \n",
       "0  13.333333  \n",
       "7  11.200000  \n",
       "6   8.000000  \n",
       "2   7.000000  \n",
       "1   2.000000  \n",
       "5   1.333333  \n",
       "3   1.125000  \n",
       "4   1.000000  "
      ]
     },
     "execution_count": 5,
     "metadata": {},
     "output_type": "execute_result"
    }
   ],
   "source": [
    "data_hyp['ICE'] = (data_hyp['impact'] * data_hyp['confidence']) / data_hyp['efforts']\n",
    "data_hyp[['hypothesis', 'ICE']].sort_values(by='ICE', ascending=False)"
   ]
  },
  {
   "cell_type": "markdown",
   "metadata": {},
   "source": [
    "Приоритет отдался гипотезе \"Запустить акцию, дающую скидку на товарь в день рождения\". \n",
    "\n",
    "Теперь воспользуемся фреймворком RICE."
   ]
  },
  {
   "cell_type": "code",
   "execution_count": 6,
   "metadata": {},
   "outputs": [
    {
     "data": {
      "text/html": [
       "<style  type=\"text/css\" >\n",
       "#T_0a8d3_row0_col1,#T_0a8d3_row4_col2{\n",
       "            background-color:  #00441b;\n",
       "            color:  #f1f1f1;\n",
       "        }#T_0a8d3_row0_col2{\n",
       "            background-color:  #36a164;\n",
       "            color:  #000000;\n",
       "        }#T_0a8d3_row1_col1{\n",
       "            background-color:  #6cc4a8;\n",
       "            color:  #000000;\n",
       "        }#T_0a8d3_row1_col2{\n",
       "            background-color:  #90d4c3;\n",
       "            color:  #000000;\n",
       "        }#T_0a8d3_row2_col1,#T_0a8d3_row3_col1{\n",
       "            background-color:  #a8ded2;\n",
       "            color:  #000000;\n",
       "        }#T_0a8d3_row2_col2{\n",
       "            background-color:  #127c39;\n",
       "            color:  #f1f1f1;\n",
       "        }#T_0a8d3_row3_col2{\n",
       "            background-color:  #77c9b0;\n",
       "            color:  #000000;\n",
       "        }#T_0a8d3_row4_col1{\n",
       "            background-color:  #e5f5f9;\n",
       "            color:  #000000;\n",
       "        }#T_0a8d3_row5_col1{\n",
       "            background-color:  #eff9fb;\n",
       "            color:  #000000;\n",
       "        }#T_0a8d3_row5_col2,#T_0a8d3_row6_col1,#T_0a8d3_row7_col1{\n",
       "            background-color:  #f6fcfd;\n",
       "            color:  #000000;\n",
       "        }#T_0a8d3_row6_col2{\n",
       "            background-color:  #eef8fb;\n",
       "            color:  #000000;\n",
       "        }#T_0a8d3_row7_col2{\n",
       "            background-color:  #f4fbfc;\n",
       "            color:  #000000;\n",
       "        }#T_0a8d3_row8_col1,#T_0a8d3_row8_col2{\n",
       "            background-color:  #f7fcfd;\n",
       "            color:  #000000;\n",
       "        }</style><table id=\"T_0a8d3_\" ><thead>    <tr>        <th class=\"blank level0\" ></th>        <th class=\"col_heading level0 col0\" >hypothesis</th>        <th class=\"col_heading level0 col1\" >RICE</th>        <th class=\"col_heading level0 col2\" >ICE</th>    </tr></thead><tbody>\n",
       "                <tr>\n",
       "                        <th id=\"T_0a8d3_level0_row0\" class=\"row_heading level0 row0\" >7</th>\n",
       "                        <td id=\"T_0a8d3_row0_col0\" class=\"data row0 col0\" >Добавить форму подписки на все основные страницы, чтобы собрать базу клиентов для email-рассылок</td>\n",
       "                        <td id=\"T_0a8d3_row0_col1\" class=\"data row0 col1\" >112.000000</td>\n",
       "                        <td id=\"T_0a8d3_row0_col2\" class=\"data row0 col2\" >11.200000</td>\n",
       "            </tr>\n",
       "            <tr>\n",
       "                        <th id=\"T_0a8d3_level0_row1\" class=\"row_heading level0 row1\" >2</th>\n",
       "                        <td id=\"T_0a8d3_row1_col0\" class=\"data row1 col0\" >Добавить блоки рекомендаций товаров на сайт интернет магазина, чтобы повысить конверсию и средний чек заказа</td>\n",
       "                        <td id=\"T_0a8d3_row1_col1\" class=\"data row1 col1\" >56.000000</td>\n",
       "                        <td id=\"T_0a8d3_row1_col2\" class=\"data row1 col2\" >7.000000</td>\n",
       "            </tr>\n",
       "            <tr>\n",
       "                        <th id=\"T_0a8d3_level0_row2\" class=\"row_heading level0 row2\" >0</th>\n",
       "                        <td id=\"T_0a8d3_row2_col0\" class=\"data row2 col0\" >Добавить два новых канала привлечения трафика, что позволит привлекать на 30% больше пользователей</td>\n",
       "                        <td id=\"T_0a8d3_row2_col1\" class=\"data row2 col1\" >40.000000</td>\n",
       "                        <td id=\"T_0a8d3_row2_col2\" class=\"data row2 col2\" >13.333333</td>\n",
       "            </tr>\n",
       "            <tr>\n",
       "                        <th id=\"T_0a8d3_level0_row3\" class=\"row_heading level0 row3\" >6</th>\n",
       "                        <td id=\"T_0a8d3_row3_col0\" class=\"data row3 col0\" >Показать на главной странице баннеры с актуальными акциями и распродажами, чтобы увеличить конверсию</td>\n",
       "                        <td id=\"T_0a8d3_row3_col1\" class=\"data row3 col1\" >40.000000</td>\n",
       "                        <td id=\"T_0a8d3_row3_col2\" class=\"data row3 col2\" >8.000000</td>\n",
       "            </tr>\n",
       "            <tr>\n",
       "                        <th id=\"T_0a8d3_level0_row4\" class=\"row_heading level0 row4\" >8</th>\n",
       "                        <td id=\"T_0a8d3_row4_col0\" class=\"data row4 col0\" >Запустить акцию, дающую скидку на товар в день рождения</td>\n",
       "                        <td id=\"T_0a8d3_row4_col1\" class=\"data row4 col1\" >16.200000</td>\n",
       "                        <td id=\"T_0a8d3_row4_col2\" class=\"data row4 col2\" >16.200000</td>\n",
       "            </tr>\n",
       "            <tr>\n",
       "                        <th id=\"T_0a8d3_level0_row5\" class=\"row_heading level0 row5\" >3</th>\n",
       "                        <td id=\"T_0a8d3_row5_col0\" class=\"data row5 col0\" >Изменить структура категорий, что увеличит конверсию, т.к. пользователи быстрее найдут нужный товар</td>\n",
       "                        <td id=\"T_0a8d3_row5_col1\" class=\"data row5 col1\" >9.000000</td>\n",
       "                        <td id=\"T_0a8d3_row5_col2\" class=\"data row5 col2\" >1.125000</td>\n",
       "            </tr>\n",
       "            <tr>\n",
       "                        <th id=\"T_0a8d3_level0_row6\" class=\"row_heading level0 row6\" >1</th>\n",
       "                        <td id=\"T_0a8d3_row6_col0\" class=\"data row6 col0\" >Запустить собственную службу доставки, что сократит срок доставки заказов</td>\n",
       "                        <td id=\"T_0a8d3_row6_col1\" class=\"data row6 col1\" >4.000000</td>\n",
       "                        <td id=\"T_0a8d3_row6_col2\" class=\"data row6 col2\" >2.000000</td>\n",
       "            </tr>\n",
       "            <tr>\n",
       "                        <th id=\"T_0a8d3_level0_row7\" class=\"row_heading level0 row7\" >5</th>\n",
       "                        <td id=\"T_0a8d3_row7_col0\" class=\"data row7 col0\" >Добавить страницу отзывов клиентов о магазине, что позволит увеличить количество заказов</td>\n",
       "                        <td id=\"T_0a8d3_row7_col1\" class=\"data row7 col1\" >4.000000</td>\n",
       "                        <td id=\"T_0a8d3_row7_col2\" class=\"data row7 col2\" >1.333333</td>\n",
       "            </tr>\n",
       "            <tr>\n",
       "                        <th id=\"T_0a8d3_level0_row8\" class=\"row_heading level0 row8\" >4</th>\n",
       "                        <td id=\"T_0a8d3_row8_col0\" class=\"data row8 col0\" >Изменить цвет фона главной страницы, чтобы увеличить вовлеченность пользователей</td>\n",
       "                        <td id=\"T_0a8d3_row8_col1\" class=\"data row8 col1\" >3.000000</td>\n",
       "                        <td id=\"T_0a8d3_row8_col2\" class=\"data row8 col2\" >1.000000</td>\n",
       "            </tr>\n",
       "    </tbody></table>"
      ],
      "text/plain": [
       "<pandas.io.formats.style.Styler at 0x7f71aebf46a0>"
      ]
     },
     "execution_count": 6,
     "metadata": {},
     "output_type": "execute_result"
    }
   ],
   "source": [
    "data_hyp['RICE'] = (data_hyp['reach'] * data_hyp['impact'] * data_hyp['confidence']) / data_hyp['efforts']\n",
    "(\n",
    "    data_hyp[['hypothesis', 'RICE', 'ICE']]\n",
    "    .sort_values(by='RICE', ascending=False)\n",
    "    .style.background_gradient(subset=['RICE', 'ICE'], cmap='BuGn')\n",
    ")"
   ]
  },
  {
   "cell_type": "markdown",
   "metadata": {},
   "source": [
    "Теперь приоритет отдался гипотезе \"Добавить форму подпивки на все страницы, что бы собрать базу клиентов для email-рассылок\".\n",
    "\n",
    "При использовании разных фреймворком, мы получили разные приоритезации гипотез. Это связано с показателем \"Reach\", который сильно влияет на приоритезацию гипотез. С помощью данного показателя мы можем оценить на какое количество пользователей повлияет наша гипотеза."
   ]
  },
  {
   "cell_type": "markdown",
   "metadata": {},
   "source": [
    "## Анализ A/B-теста"
   ]
  },
  {
   "cell_type": "markdown",
   "metadata": {},
   "source": [
    "Мы провели A/B-тест и получили результаты, которые описаны в файлах `/datasets/orders.csv` и `/datasets/visitors.csv`. Сохраним результаты в соответствующих переменных, после чего изучим данные и при необходимости обработаем."
   ]
  },
  {
   "cell_type": "code",
   "execution_count": 7,
   "metadata": {},
   "outputs": [
    {
     "data": {
      "text/html": [
       "<div>\n",
       "<style scoped>\n",
       "    .dataframe tbody tr th:only-of-type {\n",
       "        vertical-align: middle;\n",
       "    }\n",
       "\n",
       "    .dataframe tbody tr th {\n",
       "        vertical-align: top;\n",
       "    }\n",
       "\n",
       "    .dataframe thead th {\n",
       "        text-align: right;\n",
       "    }\n",
       "</style>\n",
       "<table border=\"1\" class=\"dataframe\">\n",
       "  <thead>\n",
       "    <tr style=\"text-align: right;\">\n",
       "      <th></th>\n",
       "      <th>transactionId</th>\n",
       "      <th>visitorId</th>\n",
       "      <th>date</th>\n",
       "      <th>revenue</th>\n",
       "      <th>group</th>\n",
       "    </tr>\n",
       "  </thead>\n",
       "  <tbody>\n",
       "    <tr>\n",
       "      <th>0</th>\n",
       "      <td>3667963787</td>\n",
       "      <td>3312258926</td>\n",
       "      <td>2019-08-15</td>\n",
       "      <td>1650</td>\n",
       "      <td>B</td>\n",
       "    </tr>\n",
       "    <tr>\n",
       "      <th>1</th>\n",
       "      <td>2804400009</td>\n",
       "      <td>3642806036</td>\n",
       "      <td>2019-08-15</td>\n",
       "      <td>730</td>\n",
       "      <td>B</td>\n",
       "    </tr>\n",
       "    <tr>\n",
       "      <th>2</th>\n",
       "      <td>2961555356</td>\n",
       "      <td>4069496402</td>\n",
       "      <td>2019-08-15</td>\n",
       "      <td>400</td>\n",
       "      <td>A</td>\n",
       "    </tr>\n",
       "    <tr>\n",
       "      <th>3</th>\n",
       "      <td>3797467345</td>\n",
       "      <td>1196621759</td>\n",
       "      <td>2019-08-15</td>\n",
       "      <td>9759</td>\n",
       "      <td>B</td>\n",
       "    </tr>\n",
       "    <tr>\n",
       "      <th>4</th>\n",
       "      <td>2282983706</td>\n",
       "      <td>2322279887</td>\n",
       "      <td>2019-08-15</td>\n",
       "      <td>2308</td>\n",
       "      <td>B</td>\n",
       "    </tr>\n",
       "  </tbody>\n",
       "</table>\n",
       "</div>"
      ],
      "text/plain": [
       "   transactionId   visitorId        date  revenue group\n",
       "0     3667963787  3312258926  2019-08-15     1650     B\n",
       "1     2804400009  3642806036  2019-08-15      730     B\n",
       "2     2961555356  4069496402  2019-08-15      400     A\n",
       "3     3797467345  1196621759  2019-08-15     9759     B\n",
       "4     2282983706  2322279887  2019-08-15     2308     B"
      ]
     },
     "execution_count": 7,
     "metadata": {},
     "output_type": "execute_result"
    }
   ],
   "source": [
    "orders = pd.read_csv('/datasets/orders.csv')\n",
    "orders.head(5)"
   ]
  },
  {
   "cell_type": "code",
   "execution_count": 8,
   "metadata": {},
   "outputs": [
    {
     "name": "stdout",
     "output_type": "stream",
     "text": [
      "<class 'pandas.core.frame.DataFrame'>\n",
      "RangeIndex: 1197 entries, 0 to 1196\n",
      "Data columns (total 5 columns):\n",
      " #   Column         Non-Null Count  Dtype \n",
      "---  ------         --------------  ----- \n",
      " 0   transactionId  1197 non-null   int64 \n",
      " 1   visitorId      1197 non-null   int64 \n",
      " 2   date           1197 non-null   object\n",
      " 3   revenue        1197 non-null   int64 \n",
      " 4   group          1197 non-null   object\n",
      "dtypes: int64(3), object(2)\n",
      "memory usage: 46.9+ KB\n"
     ]
    }
   ],
   "source": [
    "orders.info()"
   ]
  },
  {
   "cell_type": "code",
   "execution_count": 9,
   "metadata": {},
   "outputs": [],
   "source": [
    "orders['date'] = orders['date'].map(lambda x: dt.datetime.strptime(x, '%Y-%m-%d'))"
   ]
  },
  {
   "cell_type": "code",
   "execution_count": 10,
   "metadata": {},
   "outputs": [
    {
     "data": {
      "text/html": [
       "<div>\n",
       "<style scoped>\n",
       "    .dataframe tbody tr th:only-of-type {\n",
       "        vertical-align: middle;\n",
       "    }\n",
       "\n",
       "    .dataframe tbody tr th {\n",
       "        vertical-align: top;\n",
       "    }\n",
       "\n",
       "    .dataframe thead th {\n",
       "        text-align: right;\n",
       "    }\n",
       "</style>\n",
       "<table border=\"1\" class=\"dataframe\">\n",
       "  <thead>\n",
       "    <tr style=\"text-align: right;\">\n",
       "      <th></th>\n",
       "      <th>date</th>\n",
       "      <th>group</th>\n",
       "      <th>visitors</th>\n",
       "    </tr>\n",
       "  </thead>\n",
       "  <tbody>\n",
       "    <tr>\n",
       "      <th>0</th>\n",
       "      <td>2019-08-01</td>\n",
       "      <td>A</td>\n",
       "      <td>719</td>\n",
       "    </tr>\n",
       "    <tr>\n",
       "      <th>1</th>\n",
       "      <td>2019-08-02</td>\n",
       "      <td>A</td>\n",
       "      <td>619</td>\n",
       "    </tr>\n",
       "    <tr>\n",
       "      <th>2</th>\n",
       "      <td>2019-08-03</td>\n",
       "      <td>A</td>\n",
       "      <td>507</td>\n",
       "    </tr>\n",
       "    <tr>\n",
       "      <th>3</th>\n",
       "      <td>2019-08-04</td>\n",
       "      <td>A</td>\n",
       "      <td>717</td>\n",
       "    </tr>\n",
       "    <tr>\n",
       "      <th>4</th>\n",
       "      <td>2019-08-05</td>\n",
       "      <td>A</td>\n",
       "      <td>756</td>\n",
       "    </tr>\n",
       "  </tbody>\n",
       "</table>\n",
       "</div>"
      ],
      "text/plain": [
       "         date group  visitors\n",
       "0  2019-08-01     A       719\n",
       "1  2019-08-02     A       619\n",
       "2  2019-08-03     A       507\n",
       "3  2019-08-04     A       717\n",
       "4  2019-08-05     A       756"
      ]
     },
     "execution_count": 10,
     "metadata": {},
     "output_type": "execute_result"
    }
   ],
   "source": [
    "visitors = pd.read_csv('/datasets/visitors.csv')\n",
    "visitors.head(5)"
   ]
  },
  {
   "cell_type": "code",
   "execution_count": 11,
   "metadata": {},
   "outputs": [
    {
     "name": "stdout",
     "output_type": "stream",
     "text": [
      "<class 'pandas.core.frame.DataFrame'>\n",
      "RangeIndex: 62 entries, 0 to 61\n",
      "Data columns (total 3 columns):\n",
      " #   Column    Non-Null Count  Dtype \n",
      "---  ------    --------------  ----- \n",
      " 0   date      62 non-null     object\n",
      " 1   group     62 non-null     object\n",
      " 2   visitors  62 non-null     int64 \n",
      "dtypes: int64(1), object(2)\n",
      "memory usage: 1.6+ KB\n"
     ]
    }
   ],
   "source": [
    "visitors.info()"
   ]
  },
  {
   "cell_type": "code",
   "execution_count": 12,
   "metadata": {},
   "outputs": [],
   "source": [
    "visitors['date'] = visitors['date'].map(lambda x: dt.datetime.strptime(x, '%Y-%m-%d'))"
   ]
  },
  {
   "cell_type": "markdown",
   "metadata": {},
   "source": [
    "Проверим есть ли в таблице `orders`, пользователи, которые одновременно попали в обе группы тестирования. "
   ]
  },
  {
   "cell_type": "code",
   "execution_count": 13,
   "metadata": {},
   "outputs": [
    {
     "data": {
      "text/plain": [
       "58"
      ]
     },
     "metadata": {},
     "output_type": "display_data"
    },
    {
     "data": {
      "text/html": [
       "<div>\n",
       "<style scoped>\n",
       "    .dataframe tbody tr th:only-of-type {\n",
       "        vertical-align: middle;\n",
       "    }\n",
       "\n",
       "    .dataframe tbody tr th {\n",
       "        vertical-align: top;\n",
       "    }\n",
       "\n",
       "    .dataframe thead th {\n",
       "        text-align: right;\n",
       "    }\n",
       "</style>\n",
       "<table border=\"1\" class=\"dataframe\">\n",
       "  <thead>\n",
       "    <tr style=\"text-align: right;\">\n",
       "      <th></th>\n",
       "      <th>visitorId</th>\n",
       "      <th>group_x</th>\n",
       "      <th>group_y</th>\n",
       "    </tr>\n",
       "  </thead>\n",
       "  <tbody>\n",
       "    <tr>\n",
       "      <th>0</th>\n",
       "      <td>4069496402</td>\n",
       "      <td>A</td>\n",
       "      <td>B</td>\n",
       "    </tr>\n",
       "    <tr>\n",
       "      <th>1</th>\n",
       "      <td>199603092</td>\n",
       "      <td>A</td>\n",
       "      <td>B</td>\n",
       "    </tr>\n",
       "    <tr>\n",
       "      <th>5</th>\n",
       "      <td>3803269165</td>\n",
       "      <td>A</td>\n",
       "      <td>B</td>\n",
       "    </tr>\n",
       "    <tr>\n",
       "      <th>9</th>\n",
       "      <td>2378935119</td>\n",
       "      <td>A</td>\n",
       "      <td>B</td>\n",
       "    </tr>\n",
       "    <tr>\n",
       "      <th>29</th>\n",
       "      <td>237748145</td>\n",
       "      <td>A</td>\n",
       "      <td>B</td>\n",
       "    </tr>\n",
       "  </tbody>\n",
       "</table>\n",
       "</div>"
      ],
      "text/plain": [
       "     visitorId group_x group_y\n",
       "0   4069496402       A       B\n",
       "1    199603092       A       B\n",
       "5   3803269165       A       B\n",
       "9   2378935119       A       B\n",
       "29   237748145       A       B"
      ]
     },
     "execution_count": 13,
     "metadata": {},
     "output_type": "execute_result"
    }
   ],
   "source": [
    "# создадим датафреймы в разбивке по группам со столбцами visitoId и group\n",
    "ordersA = orders.query('group == \"A\"')[['visitorId','group']]\n",
    "ordersB = orders.query('group == \"B\"')[['visitorId','group']]\n",
    "\n",
    "# теперь соединим полученные датафреймы по столбцу userId, соединение произойдет только тех значений, \n",
    "# которые есть сразу в обоих таблицах\n",
    "orders_non_unique = ordersA.merge(ordersB, left_on='visitorId', right_on='visitorId')\n",
    "\n",
    "# снесем дубликаты, чтобы оставить только уникальные значения\n",
    "orders_non_unique = orders_non_unique.drop_duplicates()\n",
    "\n",
    "# посмотрим на количество повторяющихся пользователей\n",
    "display(orders_non_unique.shape[0])\n",
    "orders_non_unique.head()"
   ]
  },
  {
   "cell_type": "markdown",
   "metadata": {},
   "source": [
    "Как видно из полученной таблицы, у нас есть пользователи, которые попали в обе группы одновременно. Это говорит об ошибке в сборе данных. Мы можем удалить этих пользователей из датафрейма `orders`, но не сможем удалить из датафрейма `visitors`, ввиду того что данные там агрегированы за день. Удаление этих пользователей только из одного датафрейма, скажется на показателе конверсии. Следовательно данных пользователей лучше не удалять."
   ]
  },
  {
   "cell_type": "markdown",
   "metadata": {},
   "source": [
    "### Задача 1"
   ]
  },
  {
   "cell_type": "markdown",
   "metadata": {},
   "source": [
    "Построим график кумулятивной выручки по группам. Для этого соберём агрегированные кумулятивные по дням данные о заказах."
   ]
  },
  {
   "cell_type": "code",
   "execution_count": 14,
   "metadata": {},
   "outputs": [
    {
     "name": "stdout",
     "output_type": "stream",
     "text": [
      "        date group  orders  buyers  revenue  visitors\n",
      "0 2019-08-01     A      24      20   148579       719\n",
      "1 2019-08-01     B      21      20   101217       713\n",
      "2 2019-08-02     A      44      38   242401      1338\n",
      "3 2019-08-02     B      45      43   266748      1294\n",
      "4 2019-08-03     A      68      62   354874      1845\n"
     ]
    }
   ],
   "source": [
    "# создаем массив уникальных пар значений дат и групп теста\n",
    "datesGroups = orders[['date','group']].drop_duplicates()\n",
    "\n",
    "# получаем агрегированные кумулятивные по дням данные о заказах \n",
    "ordersAggregated = (\n",
    "    datesGroups\n",
    "    .apply(lambda x: orders[np.logical_and(orders['date'] <= x['date'], orders['group'] == x['group'])]\n",
    "    .agg({'date' : 'max', 'group' : 'max', 'transactionId' : 'nunique', 'visitorId' : 'nunique', 'revenue' : 'sum'}), axis=1)\n",
    "    .sort_values(by=['date','group'])\n",
    ")\n",
    "\n",
    "# получаем агрегированные кумулятивные по дням данные о посетителях интернет-магазина \n",
    "visitorsAggregated = (\n",
    "    datesGroups\n",
    "    .apply(lambda x: visitors[np.logical_and(visitors['date'] <= x['date'], visitors['group'] == x['group'])]\n",
    "    .agg({'date' : 'max', 'group' : 'max', 'visitors' : 'sum'}), axis=1)\n",
    "    .sort_values(by=['date','group'])\n",
    ")\n",
    "\n",
    "# объединяем кумулятивные данные в одной таблице и присваиваем соответствующие названия\n",
    "cumulativeData = ordersAggregated.merge(visitorsAggregated, left_on=['date', 'group'], right_on=['date', 'group'])\n",
    "cumulativeData.columns = ['date', 'group', 'orders', 'buyers', 'revenue', 'visitors']\n",
    "\n",
    "print(cumulativeData.head(5))"
   ]
  },
  {
   "cell_type": "markdown",
   "metadata": {},
   "source": [
    "Построим графики кумулятивной выручки по дням и группам A/B-тестирования: "
   ]
  },
  {
   "cell_type": "code",
   "execution_count": 15,
   "metadata": {},
   "outputs": [
    {
     "data": {
      "image/png": "[encoded data removed]",
      "text/plain": [
       "<Figure size 1440x504 with 1 Axes>"
      ]
     },
     "metadata": {
      "needs_background": "light"
     },
     "output_type": "display_data"
    }
   ],
   "source": [
    "# датафреймы с кумулятивным количеством заказов и кумулятивной выручкой по дням в разбивке по группам\n",
    "cumulativeRevenueA = cumulativeData[cumulativeData['group']=='A'][['date','revenue', 'orders']]\n",
    "cumulativeRevenueB = cumulativeData[cumulativeData['group']=='B'][['date','revenue', 'orders']]\n",
    "\n",
    "# зададим размеры графика\n",
    "plt.figure(figsize=(20,7))\n",
    "\n",
    "# Строим график выручки по групам\n",
    "plt.plot(cumulativeRevenueA['date'], cumulativeRevenueA['revenue'], label='A')\n",
    "plt.plot(cumulativeRevenueB['date'], cumulativeRevenueB['revenue'], label='B')\n",
    "\n",
    "# Приведем график в порядок\n",
    "plt.title('График кумулятивной выручки по дням')\n",
    "plt.ylabel('Выручка, млн. руб.')\n",
    "plt.xlabel('Дата')\n",
    "plt.legend()\n",
    "plt.grid()"
   ]
  },
  {
   "cell_type": "markdown",
   "metadata": {},
   "source": [
    "Выручка в группе А почти равномерно увеличивается в течение всего теста. У группы В наблюдается резкий рост выручки в один из дней. Это может быть как рост числа заказов, так и аномально дорогой заказ в этот день."
   ]
  },
  {
   "cell_type": "markdown",
   "metadata": {},
   "source": [
    "### Задача 2"
   ]
  },
  {
   "cell_type": "markdown",
   "metadata": {},
   "source": [
    "Построим график кумулятивного среднего чека по группам. Для этого разделим кумулятивную выручку на кумулятивное количество заказов."
   ]
  },
  {
   "cell_type": "code",
   "execution_count": 16,
   "metadata": {},
   "outputs": [
    {
     "data": {
      "image/png": "[encoded data removed]",
      "text/plain": [
       "<Figure size 1440x504 with 1 Axes>"
      ]
     },
     "metadata": {
      "needs_background": "light"
     },
     "output_type": "display_data"
    }
   ],
   "source": [
    "plt.figure(figsize=(20,7))\n",
    "plt.plot(cumulativeRevenueA['date'], cumulativeRevenueA['revenue']/cumulativeRevenueA['orders'], label='A')\n",
    "plt.plot(cumulativeRevenueB['date'], cumulativeRevenueB['revenue']/cumulativeRevenueB['orders'], label='B')\n",
    "plt.title('График кумулятивного среднего чека по дням')\n",
    "plt.ylabel('Средний чек, руб.')\n",
    "plt.xlabel('Дата')\n",
    "plt.legend()\n",
    "plt.grid()"
   ]
  },
  {
   "cell_type": "markdown",
   "metadata": {},
   "source": [
    "Средний чек группы A стал более менее равномерным ближе к середиине теста, чего не скажешь о среднем чеке для группы B. На графике видно что в один из дней в грппе В был сделан крупный заказ, который сильно сместил данные о среднем чеке. Теперь чтобы нивелировать эту аномалию и выровняться, группе В необходимо больше данных."
   ]
  },
  {
   "cell_type": "markdown",
   "metadata": {},
   "source": [
    "### Задача 3"
   ]
  },
  {
   "cell_type": "markdown",
   "metadata": {},
   "source": [
    "Построим график относительного изменения кумулятивного среднего чека группы B к группе A. Для этого соберем данные в одном датафрейме."
   ]
  },
  {
   "cell_type": "code",
   "execution_count": 17,
   "metadata": {},
   "outputs": [
    {
     "data": {
      "image/png": "[encoded data removed]",
      "text/plain": [
       "<Figure size 1440x504 with 1 Axes>"
      ]
     },
     "metadata": {
      "needs_background": "light"
     },
     "output_type": "display_data"
    }
   ],
   "source": [
    "# собираем данные в одном датафрейме\n",
    "mergedCumulativeRevenue = (\n",
    "    cumulativeRevenueA\n",
    "    .merge(cumulativeRevenueB, left_on='date', right_on='date', how='left', suffixes=['A', 'B'])\n",
    ")\n",
    "# задаем размер графика\n",
    "plt.figure(figsize=(20,7))\n",
    "\n",
    "# cтроим отношение средних чеков\n",
    "plt.plot(\n",
    "    mergedCumulativeRevenue['date'], \n",
    "    (mergedCumulativeRevenue['revenueB']/mergedCumulativeRevenue['ordersB'])\n",
    "    /(mergedCumulativeRevenue['revenueA']/mergedCumulativeRevenue['ordersA'])-1)\n",
    "\n",
    "# добавляем ось X\n",
    "plt.axhline(y=0, color='black', linestyle='--')\n",
    "\n",
    "plt.title('График относительного изменения кумулятивного среднего чека группы B к группе A')\n",
    "plt.xlabel('Дата')\n",
    "plt.grid()"
   ]
  },
  {
   "cell_type": "markdown",
   "metadata": {},
   "source": [
    "В нескольких точках график относительного изменения резко меняется, что говорит о наличие крупных заказов и выбросов. По большей части, такие скачки происходят в группе В."
   ]
  },
  {
   "cell_type": "markdown",
   "metadata": {},
   "source": [
    "### Задача 4"
   ]
  },
  {
   "cell_type": "markdown",
   "metadata": {},
   "source": [
    "Построим график кумулятивного среднего количества заказов на посетителя по группам."
   ]
  },
  {
   "cell_type": "code",
   "execution_count": 18,
   "metadata": {
    "scrolled": false
   },
   "outputs": [
    {
     "data": {
      "image/png": "[encoded data removed]",
      "text/plain": [
       "<Figure size 1440x504 with 1 Axes>"
      ]
     },
     "metadata": {
      "needs_background": "light"
     },
     "output_type": "display_data"
    }
   ],
   "source": [
    "# считаем кумулятивную конверсию\n",
    "cumulativeData['conversion'] = cumulativeData['orders']/cumulativeData['visitors']\n",
    "\n",
    "# отделяем данные по группам\n",
    "cumulativeDataA = cumulativeData[cumulativeData['group']=='A']\n",
    "cumulativeDataB = cumulativeData[cumulativeData['group']=='B']\n",
    "\n",
    "# зададим размеры графика\n",
    "plt.figure(figsize=(20,7))\n",
    "\n",
    "# строим графики\n",
    "plt.plot(cumulativeDataA['date'], cumulativeDataA['conversion'], label='A')\n",
    "plt.plot(cumulativeDataB['date'], cumulativeDataB['conversion'], label='B')\n",
    "plt.title('График кумулятивного среднего количества заказов на посетителя')\n",
    "plt.ylabel('Количество заказов')\n",
    "plt.xlabel('Дата')\n",
    "plt.legend()\n",
    "plt.grid()\n"
   ]
  },
  {
   "cell_type": "markdown",
   "metadata": {},
   "source": [
    "Группы коллебались в начале теста. Ближе к концу теста среднее количество заказов становится равномерной в каждой группе. В среднее количество заказов B конверсия стабильно выше."
   ]
  },
  {
   "cell_type": "markdown",
   "metadata": {},
   "source": [
    "### Задача 5"
   ]
  },
  {
   "cell_type": "markdown",
   "metadata": {},
   "source": [
    "Построим график относительного изменения кумулятивного среднего количества заказов на посетителя группы B к группе A."
   ]
  },
  {
   "cell_type": "code",
   "execution_count": 19,
   "metadata": {},
   "outputs": [
    {
     "data": {
      "image/png": "[encoded data removed]",
      "text/plain": [
       "<Figure size 1440x504 with 1 Axes>"
      ]
     },
     "metadata": {
      "needs_background": "light"
     },
     "output_type": "display_data"
    }
   ],
   "source": [
    "# Соберем данные в одном датафрейме\n",
    "mergedCumulativeConversions = (\n",
    "    cumulativeDataA[['date','conversion']]\n",
    "    .merge(cumulativeDataB[['date','conversion']], left_on='date', right_on='date', how='left', suffixes=['A', 'B'])\n",
    ")\n",
    "\n",
    "plt.figure(figsize=(20,7))\n",
    "\n",
    "plt.plot(\n",
    "    mergedCumulativeConversions['date'], \n",
    "    mergedCumulativeConversions['conversionB']/mergedCumulativeConversions['conversionA']-1, \n",
    "    label=\"Относительный прирост конверсии группы B относительно группы A\"\n",
    ")\n",
    "\n",
    "plt.axhline(y=0, color='black', linestyle='--')\n",
    "\n",
    "plt.title('График относительного изменения кумулятивного среднего количества заказов на посетителя')\n",
    "plt.xlabel('Дата')\n",
    "plt.legend()\n",
    "plt.grid()"
   ]
  },
  {
   "cell_type": "markdown",
   "metadata": {},
   "source": [
    "В начале теста группа B проигрывала группе A, затем вырвалась вперёд. После чего ее конверсия постпенно падает, однако ближе к концу теста наблюдаются небольшие колебания между значениями 0.10-0.15. В целом отношение конверсии установилось, группа В отрабатывает лучше группы А, однако, сейчас делать какие-либо выводы по тесту нельзя. Для начала изучим данные на аномалии и взглянем, как они изменят ситуацию."
   ]
  },
  {
   "cell_type": "markdown",
   "metadata": {},
   "source": [
    "### Задача 6"
   ]
  },
  {
   "cell_type": "markdown",
   "metadata": {},
   "source": [
    "Построим точечный график количества заказов по пользователям."
   ]
  },
  {
   "cell_type": "code",
   "execution_count": 20,
   "metadata": {},
   "outputs": [
    {
     "data": {
      "text/html": [
       "<div>\n",
       "<style scoped>\n",
       "    .dataframe tbody tr th:only-of-type {\n",
       "        vertical-align: middle;\n",
       "    }\n",
       "\n",
       "    .dataframe tbody tr th {\n",
       "        vertical-align: top;\n",
       "    }\n",
       "\n",
       "    .dataframe thead th {\n",
       "        text-align: right;\n",
       "    }\n",
       "</style>\n",
       "<table border=\"1\" class=\"dataframe\">\n",
       "  <thead>\n",
       "    <tr style=\"text-align: right;\">\n",
       "      <th></th>\n",
       "      <th>visitorId</th>\n",
       "      <th>orders</th>\n",
       "    </tr>\n",
       "  </thead>\n",
       "  <tbody>\n",
       "    <tr>\n",
       "      <th>1023</th>\n",
       "      <td>4256040402</td>\n",
       "      <td>11</td>\n",
       "    </tr>\n",
       "    <tr>\n",
       "      <th>591</th>\n",
       "      <td>2458001652</td>\n",
       "      <td>11</td>\n",
       "    </tr>\n",
       "    <tr>\n",
       "      <th>569</th>\n",
       "      <td>2378935119</td>\n",
       "      <td>9</td>\n",
       "    </tr>\n",
       "    <tr>\n",
       "      <th>487</th>\n",
       "      <td>2038680547</td>\n",
       "      <td>8</td>\n",
       "    </tr>\n",
       "    <tr>\n",
       "      <th>44</th>\n",
       "      <td>199603092</td>\n",
       "      <td>5</td>\n",
       "    </tr>\n",
       "  </tbody>\n",
       "</table>\n",
       "</div>"
      ],
      "text/plain": [
       "       visitorId  orders\n",
       "1023  4256040402      11\n",
       "591   2458001652      11\n",
       "569   2378935119       9\n",
       "487   2038680547       8\n",
       "44     199603092       5"
      ]
     },
     "execution_count": 20,
     "metadata": {},
     "output_type": "execute_result"
    }
   ],
   "source": [
    "# Найдем количество заказов у каждого пользователя\n",
    "ordersByVisitors = (\n",
    "    orders.groupby('visitorId', as_index=False)\n",
    "    .agg({'transactionId': 'nunique'})\n",
    ")\n",
    "ordersByVisitors.columns = ['visitorId', 'orders']\n",
    "\n",
    "ordersByVisitors.sort_values(by='orders', ascending=False).head(5)"
   ]
  },
  {
   "cell_type": "markdown",
   "metadata": {},
   "source": [
    "Некоторые пользователи совершили по 8, 9 и 11 заказов - больше, чем обычный покупатель. Посмотрим на график."
   ]
  },
  {
   "cell_type": "code",
   "execution_count": 21,
   "metadata": {},
   "outputs": [
    {
     "data": {
      "image/png": "[encoded data removed]",
      "text/plain": [
       "<Figure size 1440x504 with 1 Axes>"
      ]
     },
     "metadata": {
      "needs_background": "light"
     },
     "output_type": "display_data"
    }
   ],
   "source": [
    "plt.figure(figsize=(20,7))\n",
    "plt.scatter(range(0, len(ordersByVisitors['visitorId'])), ordersByVisitors['orders'])\n",
    "plt.title('Точечный график количества заказов по пользователям')\n",
    "plt.ylabel('Количество заказов')\n",
    "plt.xlabel('Пользователи')\n",
    "plt.grid()"
   ]
  },
  {
   "cell_type": "markdown",
   "metadata": {},
   "source": [
    "Большинство пользователей делали покупку только 1 раз. Но также видно, что есть доля пользователей с 2-3 покупками. Пока не ясно считать их аномалиями или нет. Для этого посчитаем выборочные перцентили количества заказов на одного пользователя"
   ]
  },
  {
   "cell_type": "markdown",
   "metadata": {},
   "source": [
    "### Задача 7"
   ]
  },
  {
   "cell_type": "markdown",
   "metadata": {},
   "source": [
    "Посчитаем 95-й и 99-й перцентили количества заказов на пользователя и выберем границу для определения аномальных пользователей."
   ]
  },
  {
   "cell_type": "code",
   "execution_count": 22,
   "metadata": {},
   "outputs": [
    {
     "data": {
      "text/plain": [
       "array([2., 4.])"
      ]
     },
     "execution_count": 22,
     "metadata": {},
     "output_type": "execute_result"
    }
   ],
   "source": [
    "np.percentile(ordersByVisitors['orders'], [95, 99])"
   ]
  },
  {
   "cell_type": "markdown",
   "metadata": {},
   "source": [
    "Не более 5% пользователей оформляли больше чем 2 заказа. И 1% пользователей заказывали более 4 раз. На мой взгляд, нет ничего аномального в 2 заказах. Аномальными пользователями будем считать тех, кто совершил 3 и более заказов."
   ]
  },
  {
   "cell_type": "markdown",
   "metadata": {},
   "source": [
    "### Задача 8"
   ]
  },
  {
   "cell_type": "markdown",
   "metadata": {},
   "source": [
    "Построим точечный график стоимостей заказов."
   ]
  },
  {
   "cell_type": "code",
   "execution_count": 23,
   "metadata": {},
   "outputs": [
    {
     "data": {
      "image/png": "[encoded data removed]",
      "text/plain": [
       "<Figure size 1440x504 with 1 Axes>"
      ]
     },
     "metadata": {
      "needs_background": "light"
     },
     "output_type": "display_data"
    }
   ],
   "source": [
    "plt.figure(figsize=(20,7))\n",
    "plt.scatter(range(0, len(orders['revenue'])), orders['revenue'])\n",
    "plt.title('Точечный график стоимости заказа')\n",
    "plt.ylabel('Стоимость заказа')\n",
    "plt.xlabel('Заказы')\n",
    "plt.grid()"
   ]
  },
  {
   "cell_type": "markdown",
   "metadata": {},
   "source": [
    "Есть небольшое количество дорогих заказов, и один аномально дорогой. Визуально сложно определить где ничинается граница дорогих заказов. Для понимания посчитае выборочные перцентили."
   ]
  },
  {
   "cell_type": "markdown",
   "metadata": {},
   "source": [
    "### Задача 9"
   ]
  },
  {
   "cell_type": "markdown",
   "metadata": {},
   "source": [
    "Посчитаем 95-й и 99-й перцентили стоимости заказов. "
   ]
  },
  {
   "cell_type": "code",
   "execution_count": 24,
   "metadata": {},
   "outputs": [
    {
     "data": {
      "text/plain": [
       "array([28000. , 58233.2])"
      ]
     },
     "execution_count": 24,
     "metadata": {},
     "output_type": "execute_result"
    }
   ],
   "source": [
    "np.percentile(orders['revenue'], [95, 99])"
   ]
  },
  {
   "cell_type": "markdown",
   "metadata": {},
   "source": [
    "95 процентов пользователей укладываются в сумму заказа до 28000 рублей. Возьмем сумму в 28000 рублей как границу для определения аномальных пользователей."
   ]
  },
  {
   "cell_type": "markdown",
   "metadata": {},
   "source": [
    "### Задача 10"
   ]
  },
  {
   "cell_type": "markdown",
   "metadata": {},
   "source": [
    "Посчитаем статистическую значимость различий в среднем количестве заказов на посетителя между группами по «сырым» данным. Сформулируем гипотезы. Нулевая: различий в среднем количестве заказов между группами нет. Альтернативная: различия в среднем между группами есть. Подготовим данные."
   ]
  },
  {
   "cell_type": "code",
   "execution_count": 25,
   "metadata": {},
   "outputs": [
    {
     "name": "stdout",
     "output_type": "stream",
     "text": [
      "        date  ordersPerDateA  revenuePerDateA  ordersPerDateB  \\\n",
      "0 2019-08-01              24           148579              21   \n",
      "1 2019-08-02              20            93822              24   \n",
      "2 2019-08-03              24           112473              16   \n",
      "3 2019-08-04              16            70825              17   \n",
      "4 2019-08-05              25           124218              23   \n",
      "\n",
      "   revenuePerDateB  ordersCummulativeA  revenueCummulativeA  \\\n",
      "0           101217                  24               148579   \n",
      "1           165531                  44               242401   \n",
      "2           114248                  68               354874   \n",
      "3           108571                  84               425699   \n",
      "4            92428                 109               549917   \n",
      "\n",
      "   ordersCummulativeB  revenueCummulativeB  visitorsPerDateA  \\\n",
      "0                  21               101217               719   \n",
      "1                  45               266748               619   \n",
      "2                  61               380996               507   \n",
      "3                  78               489567               717   \n",
      "4                 101               581995               756   \n",
      "\n",
      "   visitorsPerDateB  visitorsCummulativeA  visitorsCummulativeB  \n",
      "0               713                   719                   713  \n",
      "1               581                  1338                  1294  \n",
      "2               509                  1845                  1803  \n",
      "3               770                  2562                  2573  \n",
      "4               707                  3318                  3280  \n"
     ]
    }
   ],
   "source": [
    "# подготовим данные\n",
    "visitorsADaily = visitors[visitors['group'] == 'A'][['date', 'visitors']]\n",
    "visitorsADaily.columns = ['date', 'visitorsPerDateA']\n",
    "\n",
    "visitorsACummulative = visitorsADaily.apply(\n",
    "    lambda x: visitorsADaily[visitorsADaily['date'] <= x['date']].agg(\n",
    "        {'date': 'max', 'visitorsPerDateA': 'sum'}\n",
    "    ),\n",
    "    axis=1,\n",
    ")\n",
    "visitorsACummulative.columns = ['date', 'visitorsCummulativeA']\n",
    "\n",
    "visitorsBDaily = visitors[visitors['group'] == 'B'][['date', 'visitors']]\n",
    "visitorsBDaily.columns = ['date', 'visitorsPerDateB']\n",
    "\n",
    "visitorsBCummulative = visitorsBDaily.apply(\n",
    "    lambda x: visitorsBDaily[visitorsBDaily['date'] <= x['date']].agg(\n",
    "        {'date': 'max', 'visitorsPerDateB': 'sum'}\n",
    "    ),\n",
    "    axis=1,\n",
    ")\n",
    "visitorsBCummulative.columns = ['date', 'visitorsCummulativeB']\n",
    "\n",
    "ordersADaily = (\n",
    "    orders[orders['group'] == 'A'][['date', 'transactionId', 'visitorId', 'revenue']]\n",
    "    .groupby('date', as_index=False)\n",
    "    .agg({'transactionId': pd.Series.nunique, 'revenue': 'sum'})\n",
    ")\n",
    "ordersADaily.columns = ['date', 'ordersPerDateA', 'revenuePerDateA']\n",
    "\n",
    "ordersACummulative = ordersADaily.apply(\n",
    "    lambda x: ordersADaily[ordersADaily['date'] <= x['date']].agg(\n",
    "        {'date': 'max', 'ordersPerDateA': 'sum', 'revenuePerDateA': 'sum'}\n",
    "    ),\n",
    "    axis=1,\n",
    ").sort_values(by=['date'])\n",
    "ordersACummulative.columns = [\n",
    "    'date',\n",
    "    'ordersCummulativeA',\n",
    "    'revenueCummulativeA',\n",
    "]\n",
    "\n",
    "ordersBDaily = (\n",
    "    orders[orders['group'] == 'B'][['date', 'transactionId', 'visitorId', 'revenue']]\n",
    "    .groupby('date', as_index=False)\n",
    "    .agg({'transactionId': pd.Series.nunique, 'revenue': 'sum'})\n",
    ")\n",
    "ordersBDaily.columns = ['date', 'ordersPerDateB', 'revenuePerDateB']\n",
    "\n",
    "ordersBCummulative = ordersBDaily.apply(\n",
    "    lambda x: ordersBDaily[ordersBDaily['date'] <= x['date']].agg(\n",
    "        {'date': 'max', 'ordersPerDateB': 'sum', 'revenuePerDateB': 'sum'}\n",
    "    ),\n",
    "    axis=1,\n",
    ").sort_values(by=['date'])\n",
    "ordersBCummulative.columns = [\n",
    "    'date',\n",
    "    'ordersCummulativeB',\n",
    "    'revenueCummulativeB',\n",
    "]\n",
    "\n",
    "data = (\n",
    "    ordersADaily.merge(\n",
    "        ordersBDaily, left_on='date', right_on='date', how='left'\n",
    "    )\n",
    "    .merge(ordersACummulative, left_on='date', right_on='date', how='left')\n",
    "    .merge(ordersBCummulative, left_on='date', right_on='date', how='left')\n",
    "    .merge(visitorsADaily, left_on='date', right_on='date', how='left')\n",
    "    .merge(visitorsBDaily, left_on='date', right_on='date', how='left')\n",
    "    .merge(visitorsACummulative, left_on='date', right_on='date', how='left')\n",
    "    .merge(visitorsBCummulative, left_on='date', right_on='date', how='left')\n",
    ")\n",
    "\n",
    "print(data.head(5))"
   ]
  },
  {
   "cell_type": "markdown",
   "metadata": {},
   "source": [
    "Пропишем названия столбцов:\n",
    "- `date` — дата;\n",
    "- `ordersPerDateA` — количество заказов в выбранную дату в группе A;\n",
    "- `revenuePerDateA` — суммарная выручка в выбранную дату в группе A;\n",
    "- `ordersPerDateB` — количество заказов в выбранную дату в группе B;\n",
    "- `revenuePerDateB` — суммарная выручка в выбранную дату в группе B;\n",
    "- `ordersCummulativeA` — суммарное число заказов до выбранной даты включительно в группе A;\n",
    "- `revenueCummulativeA` — суммарная выручка до выбранной даты включительно в группе A;\n",
    "- `ordersCummulativeB` — суммарное количество заказов до выбранной даты включительно в группе B;\n",
    "- `revenueCummulativeB` — суммарная выручка до выбранной даты включительно в группе B;\n",
    "- `visitorsPerDateA` — количество пользователей в выбранную дату в группе A;\n",
    "- `visitorsPerDateB` — количество пользователей в выбранную дату в группе B;\n",
    "- `visitorsCummulativeA` — количество пользователей до выбранной даты включительно в группе A;\n",
    "- `visitorsCummulativeB` — количество пользователей до выбранной даты включительно в группе B."
   ]
  },
  {
   "cell_type": "markdown",
   "metadata": {},
   "source": [
    "Посчитаем статистическую значимость различия в среднем количестве заказов между группами. Создадим переменные `ordersByUsersA` и `ordersByUsersB` со столбцами `['userId', 'orders']`. В них для пользователей, которые заказывали хотя бы 1 раз, укажем число совершённых заказов. "
   ]
  },
  {
   "cell_type": "code",
   "execution_count": 26,
   "metadata": {},
   "outputs": [],
   "source": [
    "ordersByUsersA = (\n",
    "    orders[orders['group'] == 'A']\n",
    "    .groupby('visitorId', as_index=False)\n",
    "    .agg({'transactionId': pd.Series.nunique})\n",
    ")\n",
    "ordersByUsersA.columns = ['userId', 'orders']\n",
    "\n",
    "ordersByUsersB = (\n",
    "    orders[orders['group'] == 'B']\n",
    "    .groupby('visitorId', as_index=False)\n",
    "    .agg({'transactionId': pd.Series.nunique})\n",
    ")\n",
    "ordersByUsersB.columns = ['userId', 'orders']"
   ]
  },
  {
   "cell_type": "markdown",
   "metadata": {},
   "source": [
    "Подготовим выборки к проверке критерием Манна-Уитни. Для этого объявим переменные `sampleA` и `sampleB`, в которых пользователям из разных групп будет соответствовать количество заказов. Тем, кто ничего не заказал, будут соответствовать нули. "
   ]
  },
  {
   "cell_type": "code",
   "execution_count": 27,
   "metadata": {},
   "outputs": [],
   "source": [
    "sampleA = pd.concat(\n",
    "    [\n",
    "        ordersByUsersA['orders'],\n",
    "        pd.Series(\n",
    "            0,\n",
    "            index=np.arange(\n",
    "                data['visitorsPerDateA'].sum() - len(ordersByUsersA['orders'])\n",
    "            ),\n",
    "            name='orders',\n",
    "        ),\n",
    "    ],\n",
    "    axis=0,\n",
    ")\n",
    "\n",
    "sampleB = pd.concat(\n",
    "    [\n",
    "        ordersByUsersB['orders'],\n",
    "        pd.Series(\n",
    "            0,\n",
    "            index=np.arange(\n",
    "                data['visitorsPerDateB'].sum() - len(ordersByUsersB['orders'])\n",
    "            ),\n",
    "            name='orders',\n",
    "        ),\n",
    "    ],\n",
    "    axis=0,\n",
    ")"
   ]
  },
  {
   "cell_type": "markdown",
   "metadata": {},
   "source": [
    "В `sampleA` сохранили выборку, где каждый элемент — число заказов определённого пользователя, в том числе ноль. Значит, число элементов `sampleA` — это количество пользователей, сумма всех элементов — количество заказов. Чтобы получить среднее число заказов на пользователя, поделим сумму заказов на число пользователей — найдём среднее в выборке `sampleA` методом `mean()`. Аналогично найдём среднее группы B: `SampleB.mean()`.\n",
    "Выведем относительный прирост среднего числа заказов группы B: `cреднее число заказов группы B / среднее число заказов группы A - 1`.  Округлим до трёх знаков после запятой."
   ]
  },
  {
   "cell_type": "code",
   "execution_count": 28,
   "metadata": {},
   "outputs": [
    {
     "data": {
      "text/plain": [
       "'0.017'"
      ]
     },
     "metadata": {},
     "output_type": "display_data"
    },
    {
     "data": {
      "text/plain": [
       "'0.138'"
      ]
     },
     "metadata": {},
     "output_type": "display_data"
    }
   ],
   "source": [
    "display(\"{0:.3f}\".format(stats.mannwhitneyu(sampleA, sampleB)[1]))\n",
    "\n",
    "display(\"{0:.3f}\".format(sampleB.mean() / sampleA.mean() - 1))"
   ]
  },
  {
   "cell_type": "markdown",
   "metadata": {},
   "source": [
    "По «сырым» данным есть различия в среднем числе заказов групп A и B. \n",
    "Первое число — p-value = 0.017, что меньше 0.05. Значит, нулевую гипотезу о том, что статистически значимых различий в среднем числе заказов между группами нет - мы отвергаем. Относительный проигрыш группы А равен 13.8%."
   ]
  },
  {
   "cell_type": "markdown",
   "metadata": {},
   "source": [
    "### Задача 11"
   ]
  },
  {
   "cell_type": "markdown",
   "metadata": {},
   "source": [
    "Посчитаем статистическую значимость различий в среднем чеке заказа между группами по «сырым» данным. Нулевая гипотеза: различий в среднем чеке между группами нет. Альтернативная гипотеза: различия в среднем чеке между группами есть. \n",
    "\n",
    "Чтобы рассчитать статистическую значимость различий в среднем чеке, передадим критерию `mannwhitneyu()` данные о выручке с заказов. Также найдём относительные различия в среднем чеке между группами:"
   ]
  },
  {
   "cell_type": "code",
   "execution_count": 29,
   "metadata": {},
   "outputs": [
    {
     "data": {
      "text/plain": [
       "'0.729'"
      ]
     },
     "metadata": {},
     "output_type": "display_data"
    },
    {
     "data": {
      "text/plain": [
       "'0.259'"
      ]
     },
     "metadata": {},
     "output_type": "display_data"
    }
   ],
   "source": [
    "display('{0:.3f}'.format(stats.mannwhitneyu(orders[orders['group']=='A']['revenue'], orders[orders['group']=='B']['revenue'])[1]))\n",
    "display('{0:.3f}'.format(orders[orders['group']=='B']['revenue'].mean()/orders[orders['group']=='A']['revenue'].mean()-1))"
   ]
  },
  {
   "cell_type": "markdown",
   "metadata": {},
   "source": [
    "P-value значительно больше 0.05. Значит, причин отвергать нулевую гипотезу и считать, что в среднем чеке есть различия, нет. Средний чек группы B значительно выше среднего чека группы A."
   ]
  },
  {
   "cell_type": "markdown",
   "metadata": {},
   "source": [
    "### Задача 12"
   ]
  },
  {
   "cell_type": "markdown",
   "metadata": {},
   "source": [
    "Посчитаем статистическую значимость различий в среднем количестве заказов на посетителя между группами по «очищенным» данным. Сформулируем гипотезы. Нулевая: различий в среднем количестве заказов по \"очищенным\" данным между группами нет. Альтернативная: различия в среднем между группами есть.\n",
    "\n",
    "Примем за аномальных пользователей тех, кто совершил более 2 заказов или совершил заказ дороже 28 000 рублей. Так мы уберём 1-5% пользователей с наибольшим числом заказов и пользователей с дорогими заказами. Сделаем срезы пользователей с числом заказов больше 2 — `usersWithManyOrders` и пользователей, совершивших заказы дороже 28 000 — `usersWithExpensiveOrders`. Объединим их в таблице `abnormalUsers`. "
   ]
  },
  {
   "cell_type": "code",
   "execution_count": 30,
   "metadata": {},
   "outputs": [
    {
     "name": "stdout",
     "output_type": "stream",
     "text": [
      "1099    148427295\n",
      "18      199603092\n",
      "928     204675465\n",
      "23      237748145\n",
      "37      249864742\n",
      "dtype: int64\n",
      "74\n"
     ]
    }
   ],
   "source": [
    "usersWithManyOrders = pd.concat(\n",
    "    [\n",
    "        ordersByUsersA[ordersByUsersA['orders'] > 2]['userId'],\n",
    "        ordersByUsersB[ordersByUsersB['orders'] > 2]['userId'],\n",
    "    ],\n",
    "    axis=0,\n",
    ")\n",
    "usersWithExpensiveOrders = orders[orders['revenue'] > 28000]['visitorId']\n",
    "abnormalUsers = (\n",
    "    pd.concat([usersWithManyOrders, usersWithExpensiveOrders], axis=0)\n",
    "    .drop_duplicates()\n",
    "    .sort_values()\n",
    ")\n",
    "\n",
    "# Узнаем, сколько всего аномальных пользователей\n",
    "print(abnormalUsers.head(5))\n",
    "print(abnormalUsers.shape[0])"
   ]
  },
  {
   "cell_type": "markdown",
   "metadata": {},
   "source": [
    "Итого у нас получилось всего 74 аномальных пользователей которые совершили более 2 покупок или купили на сумму превышающую 28000 рублей. Узнаем, как их действия повлияли на результаты теста. Подготовим выборки количества заказов по пользователям по группам теста:"
   ]
  },
  {
   "cell_type": "code",
   "execution_count": 31,
   "metadata": {},
   "outputs": [
    {
     "data": {
      "text/plain": [
       "'Результаты \"очищенных\" данных:'"
      ]
     },
     "metadata": {},
     "output_type": "display_data"
    },
    {
     "data": {
      "text/plain": [
       "'P-value: 0.013'"
      ]
     },
     "metadata": {},
     "output_type": "display_data"
    },
    {
     "data": {
      "text/plain": [
       "'Относительный прирост среднего числа заказов группы B: 0.173'"
      ]
     },
     "metadata": {},
     "output_type": "display_data"
    },
    {
     "data": {
      "text/plain": [
       "'Результаты \"сырых\" данных:'"
      ]
     },
     "metadata": {},
     "output_type": "display_data"
    },
    {
     "data": {
      "text/plain": [
       "'P-value: 0.017'"
      ]
     },
     "metadata": {},
     "output_type": "display_data"
    },
    {
     "data": {
      "text/plain": [
       "'Относительный прирост среднего числа заказов группы B: 0.138'"
      ]
     },
     "metadata": {},
     "output_type": "display_data"
    }
   ],
   "source": [
    "sampleAFiltered = pd.concat(\n",
    "    [\n",
    "        ordersByUsersA[\n",
    "            np.logical_not(ordersByUsersA['userId'].isin(abnormalUsers))\n",
    "        ]['orders'],\n",
    "        pd.Series(\n",
    "            0,\n",
    "            index=np.arange(\n",
    "                data['visitorsPerDateA'].sum() - len(ordersByUsersA['orders'])\n",
    "            ),\n",
    "            name='orders',\n",
    "        ),\n",
    "    ],\n",
    "    axis=0,\n",
    ")\n",
    "\n",
    "sampleBFiltered = pd.concat(\n",
    "    [\n",
    "        ordersByUsersB[\n",
    "            np.logical_not(ordersByUsersB['userId'].isin(abnormalUsers))\n",
    "        ]['orders'],\n",
    "        pd.Series(\n",
    "            0,\n",
    "            index=np.arange(\n",
    "                data['visitorsPerDateB'].sum() - len(ordersByUsersB['orders'])\n",
    "            ),\n",
    "            name='orders',\n",
    "        ),\n",
    "    ],\n",
    "    axis=0,\n",
    ")\n",
    "\n",
    "# Применим статистический критерий Манна-Уитни к полученным выборкам\n",
    "display('Результаты \"очищенных\" данных:')\n",
    "display('P-value: {0:.3f}'.format(stats.mannwhitneyu(sampleAFiltered, sampleBFiltered)[1]))\n",
    "display(\n",
    "    'Относительный прирост среднего числа заказов группы B: {0:.3f}'\n",
    "    .format(sampleBFiltered.mean()/sampleAFiltered.mean()-1)\n",
    ")\n",
    "display('Результаты \"сырых\" данных:')\n",
    "display('P-value: {0:.3f}'.format(stats.mannwhitneyu(sampleA, sampleB)[1]))\n",
    "display(\n",
    "    'Относительный прирост среднего числа заказов группы B: {0:.3f}'\n",
    "    .format(sampleB.mean() / sampleA.mean() - 1)\n",
    ")"
   ]
  },
  {
   "cell_type": "markdown",
   "metadata": {},
   "source": [
    "Результаты по среднему количеству заказов практически не изменились, следовательно аномальные пользователи никак на них не влияли. P-value = 0.013 < 0.05, следовательно, нулевую гипотезу о том, что статистически значимых различий в среднем числе заказов между группами нет - мы отвергаем."
   ]
  },
  {
   "cell_type": "markdown",
   "metadata": {},
   "source": [
    "### Задача 13"
   ]
  },
  {
   "cell_type": "markdown",
   "metadata": {},
   "source": [
    "Посчитаем статистическую значимость различий в среднем чеке заказа между группами по «очищенным» данным. Нулевая гипотеза: различий в среднем чеке между группами нет. Альтернативная гипотеза: различия в среднем чеке между группами есть. "
   ]
  },
  {
   "cell_type": "code",
   "execution_count": 32,
   "metadata": {},
   "outputs": [
    {
     "name": "stdout",
     "output_type": "stream",
     "text": [
      "0.738\n",
      "-0.020\n"
     ]
    }
   ],
   "source": [
    "print(\n",
    "    '{0:.3f}'.format(\n",
    "        stats.mannwhitneyu(\n",
    "            orders[\n",
    "                np.logical_and(\n",
    "                    orders['group'] == 'A',\n",
    "                    np.logical_not(orders['visitorId'].isin(abnormalUsers)),\n",
    "                )\n",
    "            ]['revenue'],\n",
    "            orders[\n",
    "                np.logical_and(\n",
    "                    orders['group'] == 'B',\n",
    "                    np.logical_not(orders['visitorId'].isin(abnormalUsers)),\n",
    "                )\n",
    "            ]['revenue'],\n",
    "        )[1]\n",
    "    )\n",
    ")\n",
    "\n",
    "print(\n",
    "    \"{0:.3f}\".format(\n",
    "        orders[\n",
    "            np.logical_and(\n",
    "                orders['group'] == 'B',\n",
    "                np.logical_not(orders['visitorId'].isin(abnormalUsers)),\n",
    "            )\n",
    "        ]['revenue'].mean()\n",
    "        / orders[\n",
    "            np.logical_and(\n",
    "                orders['group'] == 'A',\n",
    "                np.logical_not(orders['visitorId'].isin(abnormalUsers)),\n",
    "            )\n",
    "        ]['revenue'].mean()\n",
    "        - 1\n",
    "    )\n",
    ")"
   ]
  },
  {
   "cell_type": "markdown",
   "metadata": {},
   "source": [
    "P-value незначительно уменьшился, но он все также больше 0,05, следовательно причин отвергать нулевую гипотезу и считать, что в среднем чеке есть различия, нет. Сильно сократилась разница между сегментами По очищенным данным средний чек группы А на 2% выше среднего чека группы В, хотя по сырым данным разница между сегментами была 26% в пользу группы В."
   ]
  },
  {
   "cell_type": "markdown",
   "metadata": {},
   "source": [
    "### Задача 14"
   ]
  },
  {
   "cell_type": "markdown",
   "metadata": {},
   "source": [
    "Примим решение по результатам теста.\n",
    "Варианты решений:\n",
    "1. Остановить тест, зафиксировать победу одной из групп.\n",
    "2. Остановить тест, зафиксировать отсутствие различий между группами.\n",
    "3. Продолжить тест.\n",
    "\n",
    "Есть статистически значимое различие по среднему количеству заказов между группами как по \"сырым\" данным, так по данным после фильтрации аномалий;\n",
    "Нет статистически значимого различия по среднему чеку между группами ни по «сырым», ни по данным после фильтрации аномалий;\n",
    "График различия среднего количества заказов между группами сообщает, что результаты группы B лучше группы A и наблюдается тенденция к улучшению.\n",
    "Несмотря на то, что средний чек сохранился на прежнем уровне, количество заказов в группе В выше на 13.8%, что повлечет за собой увеличение выручки.\n",
    "Исходя из обнаруженных фактов, тест следует остановить и признать его успешным. "
   ]
  },
  {
   "cell_type": "markdown",
   "metadata": {},
   "source": [
    "## Вывод"
   ]
  },
  {
   "cell_type": "markdown",
   "metadata": {},
   "source": [
    "В данном проекте перед нами стояла задача приоретизировать гипотезы и проанализировать результаты А/В теста.\n",
    "\n",
    "Для приоритезации гипотез были использованы фреймворки ICE и RICE, которые в свою очередь, приоритезировали гипотезы по разному, ввиду наличия показателя Reach, который отвечает за охват пользователе и исользуется в фреймворке RICE.\n",
    "\n",
    "Далее перед нами стояла задача проанализировать результаты А/В теста. Перед началом работы данные были подргужены и обработаны, для удобства работы с ними. В данных оказались пользователи, которые попали в обе группы одновременно. Это говорит об ошибке в сборе данных. Было принято решение не удалять данных пользователей, так как это повлечет за собой искажение информации, ввижу того что данные в датафрейме visitors агреггированы.\n",
    "\n",
    "После чего мы приступили непосредственно к анализу результатов А/В теста:\n",
    "1. Построили и изучили полученные результаты по графикам:\n",
    "    - кумулятивной выручки по группам;\n",
    "    - кумулятивного среднего чека по группам;\n",
    "    - относительного изменения кумулятивного среднего чека группы B к группе A;\n",
    "    - кумулятивного среднего количества заказов на посетителя по группам;\n",
    "    - относительного изменения кумулятивного среднего количества заказов на посетителя группы B к группе A;\n",
    "2. Построили точечные графики количества заказов по пользователям и стоимостей заказов, чтобы выявить наличие аномалий\n",
    "3. Посчитли 95-й и 99-й перцентили количества заказов на пользователя и стоимости заказов, что помогло нам выбрать границу для определения аномальных пользователей и заказов.\n",
    "4. Посчитали статистическую значимость различий в среднем количестве заказов на посетителя между группами и в среднем чеке заказа между группами по «сырым» данным.\n",
    "5. После чего посчитали статистическую значимость различий в среднем количестве заказов на посетителя между группами и в среднем чеке заказа между группами по «очищенным» данным.\n",
    "\n",
    "На основании полученных результатов тест следует остановить и признать успешным. При неизменном среднем чеке у обеих групп, в группе В среднее количество заказов на 13.8% выше, чем в группе А, что влечет за собой рост выручки."
   ]
  }
 ],
 "metadata": {
  "ExecuteTimeLog": [
   {
    "duration": 844,
    "start_time": "2023-02-11T11:07:41.456Z"
   },
   {
    "duration": 157,
    "start_time": "2023-02-11T11:08:10.471Z"
   },
   {
    "duration": 34,
    "start_time": "2023-02-11T11:08:17.847Z"
   },
   {
    "duration": 33,
    "start_time": "2023-02-11T11:19:50.588Z"
   },
   {
    "duration": 31,
    "start_time": "2023-02-11T11:19:53.820Z"
   },
   {
    "duration": 12,
    "start_time": "2023-02-11T11:20:48.765Z"
   },
   {
    "duration": 4,
    "start_time": "2023-02-11T11:21:18.336Z"
   },
   {
    "duration": 3,
    "start_time": "2023-02-11T11:21:34.038Z"
   },
   {
    "duration": 9,
    "start_time": "2023-02-11T11:21:37.273Z"
   },
   {
    "duration": 11,
    "start_time": "2023-02-11T11:23:17.769Z"
   },
   {
    "duration": 3,
    "start_time": "2023-02-11T11:24:13.875Z"
   },
   {
    "duration": 12,
    "start_time": "2023-02-11T11:24:15.970Z"
   },
   {
    "duration": 3,
    "start_time": "2023-02-11T11:24:33.265Z"
   },
   {
    "duration": 10,
    "start_time": "2023-02-11T11:24:35.739Z"
   },
   {
    "duration": 706,
    "start_time": "2023-02-11T11:25:23.844Z"
   },
   {
    "duration": 34,
    "start_time": "2023-02-11T11:25:24.552Z"
   },
   {
    "duration": 11,
    "start_time": "2023-02-11T11:25:24.588Z"
   },
   {
    "duration": 19,
    "start_time": "2023-02-11T11:25:24.601Z"
   },
   {
    "duration": 41,
    "start_time": "2023-02-11T11:25:24.622Z"
   },
   {
    "duration": 4,
    "start_time": "2023-02-11T11:25:24.665Z"
   },
   {
    "duration": 3,
    "start_time": "2023-02-11T11:25:28.351Z"
   },
   {
    "duration": 11,
    "start_time": "2023-02-11T11:25:30.573Z"
   },
   {
    "duration": 3,
    "start_time": "2023-02-11T11:26:03.899Z"
   },
   {
    "duration": 12,
    "start_time": "2023-02-11T11:26:06.240Z"
   },
   {
    "duration": 9,
    "start_time": "2023-02-11T11:26:08.506Z"
   },
   {
    "duration": 77,
    "start_time": "2023-02-11T11:26:25.718Z"
   },
   {
    "duration": 10,
    "start_time": "2023-02-11T11:26:31.547Z"
   },
   {
    "duration": 30,
    "start_time": "2023-02-11T11:26:34.825Z"
   },
   {
    "duration": 32,
    "start_time": "2023-02-11T11:27:02.732Z"
   },
   {
    "duration": 1140,
    "start_time": "2023-02-11T11:27:40.104Z"
   },
   {
    "duration": 651,
    "start_time": "2023-02-11T11:28:23.537Z"
   },
   {
    "duration": 35,
    "start_time": "2023-02-11T11:28:24.190Z"
   },
   {
    "duration": 10,
    "start_time": "2023-02-11T11:28:24.227Z"
   },
   {
    "duration": 13,
    "start_time": "2023-02-11T11:28:24.239Z"
   },
   {
    "duration": 15,
    "start_time": "2023-02-11T11:28:24.254Z"
   },
   {
    "duration": 12,
    "start_time": "2023-02-11T11:28:24.272Z"
   },
   {
    "duration": 11,
    "start_time": "2023-02-11T11:54:07.602Z"
   },
   {
    "duration": 13,
    "start_time": "2023-02-11T12:01:07.375Z"
   },
   {
    "duration": 45,
    "start_time": "2023-02-12T07:58:21.881Z"
   },
   {
    "duration": 877,
    "start_time": "2023-02-12T07:58:28.391Z"
   },
   {
    "duration": 149,
    "start_time": "2023-02-12T07:58:29.270Z"
   },
   {
    "duration": 0,
    "start_time": "2023-02-12T07:58:29.422Z"
   },
   {
    "duration": 0,
    "start_time": "2023-02-12T07:58:29.423Z"
   },
   {
    "duration": 0,
    "start_time": "2023-02-12T07:58:29.424Z"
   },
   {
    "duration": 0,
    "start_time": "2023-02-12T07:58:29.426Z"
   },
   {
    "duration": 0,
    "start_time": "2023-02-12T07:58:29.428Z"
   },
   {
    "duration": 638,
    "start_time": "2023-02-12T07:59:28.370Z"
   },
   {
    "duration": 35,
    "start_time": "2023-02-12T07:59:29.010Z"
   },
   {
    "duration": 11,
    "start_time": "2023-02-12T07:59:29.047Z"
   },
   {
    "duration": 8,
    "start_time": "2023-02-12T07:59:29.060Z"
   },
   {
    "duration": 24,
    "start_time": "2023-02-12T07:59:29.069Z"
   },
   {
    "duration": 11,
    "start_time": "2023-02-12T07:59:29.094Z"
   },
   {
    "duration": 106,
    "start_time": "2023-02-12T07:59:29.107Z"
   },
   {
    "duration": 17,
    "start_time": "2023-02-12T07:59:55.747Z"
   },
   {
    "duration": 2,
    "start_time": "2023-02-12T08:00:28.271Z"
   },
   {
    "duration": 79,
    "start_time": "2023-02-12T08:02:31.183Z"
   },
   {
    "duration": 34,
    "start_time": "2023-02-12T08:02:43.340Z"
   },
   {
    "duration": 18,
    "start_time": "2023-02-12T08:02:47.620Z"
   },
   {
    "duration": 69,
    "start_time": "2023-02-12T08:03:13.381Z"
   },
   {
    "duration": 90,
    "start_time": "2023-02-12T08:05:21.942Z"
   },
   {
    "duration": 13,
    "start_time": "2023-02-12T08:05:30.542Z"
   },
   {
    "duration": 36,
    "start_time": "2023-02-12T08:05:41.369Z"
   },
   {
    "duration": 5,
    "start_time": "2023-02-12T08:06:53.179Z"
   },
   {
    "duration": 15,
    "start_time": "2023-02-12T08:06:55.642Z"
   },
   {
    "duration": 34,
    "start_time": "2023-02-12T08:06:58.718Z"
   },
   {
    "duration": 750,
    "start_time": "2023-02-12T08:07:07.860Z"
   },
   {
    "duration": 39,
    "start_time": "2023-02-12T08:07:08.613Z"
   },
   {
    "duration": 12,
    "start_time": "2023-02-12T08:07:08.654Z"
   },
   {
    "duration": 9,
    "start_time": "2023-02-12T08:07:08.669Z"
   },
   {
    "duration": 28,
    "start_time": "2023-02-12T08:07:08.680Z"
   },
   {
    "duration": 36,
    "start_time": "2023-02-12T08:07:08.709Z"
   },
   {
    "duration": 54,
    "start_time": "2023-02-12T08:07:08.747Z"
   },
   {
    "duration": 13,
    "start_time": "2023-02-12T08:07:08.809Z"
   },
   {
    "duration": 16,
    "start_time": "2023-02-12T08:07:08.824Z"
   },
   {
    "duration": 28,
    "start_time": "2023-02-12T08:07:08.842Z"
   },
   {
    "duration": 12,
    "start_time": "2023-02-12T08:07:08.872Z"
   },
   {
    "duration": 12,
    "start_time": "2023-02-12T08:07:08.892Z"
   },
   {
    "duration": 103,
    "start_time": "2023-02-12T08:34:52.982Z"
   },
   {
    "duration": 348,
    "start_time": "2023-02-12T08:37:14.583Z"
   },
   {
    "duration": 298,
    "start_time": "2023-02-12T08:39:32.716Z"
   },
   {
    "duration": 186,
    "start_time": "2023-02-12T08:54:42.583Z"
   },
   {
    "duration": 199,
    "start_time": "2023-02-12T08:55:36.640Z"
   },
   {
    "duration": 236,
    "start_time": "2023-02-12T08:56:46.084Z"
   },
   {
    "duration": 286,
    "start_time": "2023-02-12T08:57:34.880Z"
   },
   {
    "duration": 363,
    "start_time": "2023-02-12T08:57:49.493Z"
   },
   {
    "duration": 197,
    "start_time": "2023-02-12T08:58:39.565Z"
   },
   {
    "duration": 189,
    "start_time": "2023-02-12T08:59:36.509Z"
   },
   {
    "duration": 187,
    "start_time": "2023-02-12T08:59:45.426Z"
   },
   {
    "duration": 79,
    "start_time": "2023-02-12T08:59:50.961Z"
   },
   {
    "duration": 156,
    "start_time": "2023-02-12T08:59:59.531Z"
   },
   {
    "duration": 227,
    "start_time": "2023-02-12T09:00:30.245Z"
   },
   {
    "duration": 212,
    "start_time": "2023-02-12T09:00:35.748Z"
   },
   {
    "duration": 205,
    "start_time": "2023-02-12T09:00:41.946Z"
   },
   {
    "duration": 263,
    "start_time": "2023-02-12T09:00:47.479Z"
   },
   {
    "duration": 317,
    "start_time": "2023-02-12T09:00:52.661Z"
   },
   {
    "duration": 256,
    "start_time": "2023-02-12T09:03:29.051Z"
   },
   {
    "duration": 277,
    "start_time": "2023-02-12T09:03:36.211Z"
   },
   {
    "duration": 273,
    "start_time": "2023-02-12T09:04:11.373Z"
   },
   {
    "duration": 243,
    "start_time": "2023-02-12T09:05:57.921Z"
   },
   {
    "duration": 246,
    "start_time": "2023-02-12T09:06:38.419Z"
   },
   {
    "duration": 230,
    "start_time": "2023-02-12T09:06:53.725Z"
   },
   {
    "duration": 257,
    "start_time": "2023-02-12T09:07:00.089Z"
   },
   {
    "duration": 226,
    "start_time": "2023-02-12T09:07:18.920Z"
   },
   {
    "duration": 261,
    "start_time": "2023-02-12T09:07:29.875Z"
   },
   {
    "duration": 6,
    "start_time": "2023-02-12T09:08:21.334Z"
   },
   {
    "duration": 232,
    "start_time": "2023-02-12T09:08:27.856Z"
   },
   {
    "duration": 354,
    "start_time": "2023-02-12T09:08:48.004Z"
   },
   {
    "duration": 237,
    "start_time": "2023-02-12T09:09:20.357Z"
   },
   {
    "duration": 248,
    "start_time": "2023-02-12T09:09:43.271Z"
   },
   {
    "duration": 255,
    "start_time": "2023-02-12T09:09:49.686Z"
   },
   {
    "duration": 190,
    "start_time": "2023-02-12T09:18:15.217Z"
   },
   {
    "duration": 218,
    "start_time": "2023-02-12T09:18:26.521Z"
   },
   {
    "duration": 240,
    "start_time": "2023-02-12T09:18:40.118Z"
   },
   {
    "duration": 245,
    "start_time": "2023-02-12T09:19:09.368Z"
   },
   {
    "duration": 229,
    "start_time": "2023-02-12T09:20:47.558Z"
   },
   {
    "duration": 9,
    "start_time": "2023-02-12T09:33:07.254Z"
   },
   {
    "duration": 265,
    "start_time": "2023-02-12T09:33:09.518Z"
   },
   {
    "duration": 11,
    "start_time": "2023-02-12T09:33:12.375Z"
   },
   {
    "duration": 301,
    "start_time": "2023-02-12T09:33:57.821Z"
   },
   {
    "duration": 400,
    "start_time": "2023-02-12T09:35:29.431Z"
   },
   {
    "duration": 208,
    "start_time": "2023-02-12T09:36:57.637Z"
   },
   {
    "duration": 356,
    "start_time": "2023-02-12T09:37:15.857Z"
   },
   {
    "duration": 313,
    "start_time": "2023-02-12T09:37:26.910Z"
   },
   {
    "duration": 331,
    "start_time": "2023-02-12T09:38:48.034Z"
   },
   {
    "duration": 350,
    "start_time": "2023-02-12T09:38:55.094Z"
   },
   {
    "duration": 352,
    "start_time": "2023-02-12T09:39:27.907Z"
   },
   {
    "duration": 355,
    "start_time": "2023-02-12T09:40:22.686Z"
   },
   {
    "duration": 10,
    "start_time": "2023-02-12T09:50:14.715Z"
   },
   {
    "duration": 11,
    "start_time": "2023-02-12T09:51:04.629Z"
   },
   {
    "duration": 16,
    "start_time": "2023-02-12T10:02:10.629Z"
   },
   {
    "duration": 216,
    "start_time": "2023-02-12T10:02:20.126Z"
   },
   {
    "duration": 272,
    "start_time": "2023-02-12T10:02:28.268Z"
   },
   {
    "duration": 352,
    "start_time": "2023-02-12T10:03:13.928Z"
   },
   {
    "duration": 244,
    "start_time": "2023-02-12T10:11:32.503Z"
   },
   {
    "duration": 200,
    "start_time": "2023-02-12T10:11:41.883Z"
   },
   {
    "duration": 218,
    "start_time": "2023-02-12T10:13:00.523Z"
   },
   {
    "duration": 279,
    "start_time": "2023-02-12T10:13:43.603Z"
   },
   {
    "duration": 321,
    "start_time": "2023-02-12T10:14:06.503Z"
   },
   {
    "duration": 283,
    "start_time": "2023-02-12T10:14:40.649Z"
   },
   {
    "duration": 301,
    "start_time": "2023-02-12T10:15:56.711Z"
   },
   {
    "duration": 316,
    "start_time": "2023-02-12T10:18:20.512Z"
   },
   {
    "duration": 337,
    "start_time": "2023-02-12T10:18:25.376Z"
   },
   {
    "duration": 339,
    "start_time": "2023-02-12T10:18:57.450Z"
   },
   {
    "duration": 477,
    "start_time": "2023-02-12T10:21:07.806Z"
   },
   {
    "duration": 7,
    "start_time": "2023-02-12T10:22:22.774Z"
   },
   {
    "duration": 357,
    "start_time": "2023-02-12T10:22:38.822Z"
   },
   {
    "duration": 381,
    "start_time": "2023-02-12T10:23:09.161Z"
   },
   {
    "duration": 388,
    "start_time": "2023-02-12T10:23:14.710Z"
   },
   {
    "duration": 107,
    "start_time": "2023-02-12T10:27:58.767Z"
   },
   {
    "duration": 14,
    "start_time": "2023-02-12T10:36:26.652Z"
   },
   {
    "duration": 82,
    "start_time": "2023-02-12T10:36:46.331Z"
   },
   {
    "duration": 8,
    "start_time": "2023-02-12T10:37:07.225Z"
   },
   {
    "duration": 11,
    "start_time": "2023-02-12T10:37:18.160Z"
   },
   {
    "duration": 12,
    "start_time": "2023-02-12T10:37:46.516Z"
   },
   {
    "duration": 14,
    "start_time": "2023-02-12T10:38:12.034Z"
   },
   {
    "duration": 12,
    "start_time": "2023-02-12T10:38:23.051Z"
   },
   {
    "duration": 14,
    "start_time": "2023-02-12T10:39:33.893Z"
   },
   {
    "duration": 12,
    "start_time": "2023-02-12T10:39:45.256Z"
   },
   {
    "duration": 12,
    "start_time": "2023-02-12T10:40:03.454Z"
   },
   {
    "duration": 13,
    "start_time": "2023-02-12T10:40:12.162Z"
   },
   {
    "duration": 8,
    "start_time": "2023-02-12T10:44:09.154Z"
   },
   {
    "duration": 9,
    "start_time": "2023-02-12T10:44:17.929Z"
   },
   {
    "duration": 8,
    "start_time": "2023-02-12T10:44:21.513Z"
   },
   {
    "duration": 8,
    "start_time": "2023-02-12T10:44:24.579Z"
   },
   {
    "duration": 7,
    "start_time": "2023-02-12T10:45:26.371Z"
   },
   {
    "duration": 128,
    "start_time": "2023-02-12T10:45:37.886Z"
   },
   {
    "duration": 126,
    "start_time": "2023-02-12T10:46:07.374Z"
   },
   {
    "duration": 4,
    "start_time": "2023-02-12T10:46:21.178Z"
   },
   {
    "duration": 126,
    "start_time": "2023-02-12T10:47:41.890Z"
   },
   {
    "duration": 220,
    "start_time": "2023-02-12T10:48:18.482Z"
   },
   {
    "duration": 169,
    "start_time": "2023-02-12T10:48:25.612Z"
   },
   {
    "duration": 181,
    "start_time": "2023-02-12T10:49:17.834Z"
   },
   {
    "duration": 171,
    "start_time": "2023-02-12T10:49:41.249Z"
   },
   {
    "duration": 4,
    "start_time": "2023-02-12T10:56:12.200Z"
   },
   {
    "duration": 7,
    "start_time": "2023-02-12T10:56:16.183Z"
   },
   {
    "duration": 6,
    "start_time": "2023-02-12T10:57:25.129Z"
   },
   {
    "duration": 5,
    "start_time": "2023-02-12T10:57:51.867Z"
   },
   {
    "duration": 5,
    "start_time": "2023-02-12T10:58:12.463Z"
   },
   {
    "duration": 5,
    "start_time": "2023-02-12T10:58:39.935Z"
   },
   {
    "duration": 6,
    "start_time": "2023-02-12T10:58:41.971Z"
   },
   {
    "duration": 13,
    "start_time": "2023-02-12T10:58:47.868Z"
   },
   {
    "duration": 4,
    "start_time": "2023-02-12T10:58:50.820Z"
   },
   {
    "duration": 6,
    "start_time": "2023-02-12T10:58:52.746Z"
   },
   {
    "duration": 104,
    "start_time": "2023-02-12T10:59:37.697Z"
   },
   {
    "duration": 9,
    "start_time": "2023-02-12T11:00:32.038Z"
   },
   {
    "duration": 5,
    "start_time": "2023-02-12T11:00:47.372Z"
   },
   {
    "duration": 5,
    "start_time": "2023-02-12T11:00:54.269Z"
   },
   {
    "duration": 9,
    "start_time": "2023-02-12T11:01:49.344Z"
   },
   {
    "duration": 6,
    "start_time": "2023-02-12T11:01:58.049Z"
   },
   {
    "duration": 5,
    "start_time": "2023-02-12T11:02:11.575Z"
   },
   {
    "duration": 6,
    "start_time": "2023-02-12T11:02:19.014Z"
   },
   {
    "duration": 79,
    "start_time": "2023-02-12T11:05:28.756Z"
   },
   {
    "duration": 13,
    "start_time": "2023-02-12T11:06:03.159Z"
   },
   {
    "duration": 176,
    "start_time": "2023-02-12T11:07:52.812Z"
   },
   {
    "duration": 185,
    "start_time": "2023-02-12T11:08:35.397Z"
   },
   {
    "duration": 5,
    "start_time": "2023-02-12T11:11:47.110Z"
   },
   {
    "duration": 5,
    "start_time": "2023-02-12T11:12:08.071Z"
   },
   {
    "duration": 5,
    "start_time": "2023-02-12T11:12:35.891Z"
   },
   {
    "duration": 16,
    "start_time": "2023-02-12T11:25:16.417Z"
   },
   {
    "duration": 1088,
    "start_time": "2023-02-12T11:26:19.444Z"
   },
   {
    "duration": 1157,
    "start_time": "2023-02-12T11:26:22.462Z"
   },
   {
    "duration": 9,
    "start_time": "2023-02-12T11:26:38.587Z"
   },
   {
    "duration": 11,
    "start_time": "2023-02-12T11:27:01.596Z"
   },
   {
    "duration": 7,
    "start_time": "2023-02-12T11:27:20.441Z"
   },
   {
    "duration": 18,
    "start_time": "2023-02-12T11:27:46.492Z"
   },
   {
    "duration": 14,
    "start_time": "2023-02-12T11:29:21.294Z"
   },
   {
    "duration": 14,
    "start_time": "2023-02-12T11:29:46.579Z"
   },
   {
    "duration": 659,
    "start_time": "2023-02-12T11:30:08.471Z"
   },
   {
    "duration": 37,
    "start_time": "2023-02-12T11:30:09.133Z"
   },
   {
    "duration": 15,
    "start_time": "2023-02-12T11:30:09.172Z"
   },
   {
    "duration": 14,
    "start_time": "2023-02-12T11:30:09.189Z"
   },
   {
    "duration": 15,
    "start_time": "2023-02-12T11:30:09.206Z"
   },
   {
    "duration": 12,
    "start_time": "2023-02-12T11:30:09.223Z"
   },
   {
    "duration": 44,
    "start_time": "2023-02-12T11:30:09.236Z"
   },
   {
    "duration": 17,
    "start_time": "2023-02-12T11:30:09.282Z"
   },
   {
    "duration": 15,
    "start_time": "2023-02-12T11:30:09.300Z"
   },
   {
    "duration": 22,
    "start_time": "2023-02-12T11:30:09.316Z"
   },
   {
    "duration": 10,
    "start_time": "2023-02-12T11:30:09.340Z"
   },
   {
    "duration": 9,
    "start_time": "2023-02-12T11:30:09.352Z"
   },
   {
    "duration": 43,
    "start_time": "2023-02-12T11:30:09.363Z"
   },
   {
    "duration": 13,
    "start_time": "2023-02-12T11:30:09.408Z"
   },
   {
    "duration": 325,
    "start_time": "2023-02-12T11:30:09.423Z"
   },
   {
    "duration": 356,
    "start_time": "2023-02-12T11:30:09.750Z"
   },
   {
    "duration": 272,
    "start_time": "2023-02-12T11:30:10.107Z"
   },
   {
    "duration": 392,
    "start_time": "2023-02-12T11:30:10.381Z"
   },
   {
    "duration": 330,
    "start_time": "2023-02-12T11:30:10.775Z"
   },
   {
    "duration": 360,
    "start_time": "2023-02-12T11:30:11.107Z"
   },
   {
    "duration": 24,
    "start_time": "2023-02-12T11:30:11.469Z"
   },
   {
    "duration": 191,
    "start_time": "2023-02-12T11:30:11.494Z"
   },
   {
    "duration": 6,
    "start_time": "2023-02-12T11:30:11.688Z"
   },
   {
    "duration": 199,
    "start_time": "2023-02-12T11:30:11.695Z"
   },
   {
    "duration": 5,
    "start_time": "2023-02-12T11:30:11.896Z"
   },
   {
    "duration": 8,
    "start_time": "2023-02-12T11:30:52.029Z"
   },
   {
    "duration": 15,
    "start_time": "2023-02-12T11:31:05.696Z"
   },
   {
    "duration": 9,
    "start_time": "2023-02-12T11:34:35.965Z"
   },
   {
    "duration": 16,
    "start_time": "2023-02-12T11:34:53.570Z"
   },
   {
    "duration": 14,
    "start_time": "2023-02-12T11:39:39.296Z"
   },
   {
    "duration": 16,
    "start_time": "2023-02-12T11:39:55.105Z"
   },
   {
    "duration": 14,
    "start_time": "2023-02-12T11:40:14.601Z"
   },
   {
    "duration": 79,
    "start_time": "2023-02-12T11:48:08.151Z"
   },
   {
    "duration": 10,
    "start_time": "2023-02-12T11:48:37.171Z"
   },
   {
    "duration": 10,
    "start_time": "2023-02-12T11:48:46.182Z"
   },
   {
    "duration": 7,
    "start_time": "2023-02-12T11:50:32.520Z"
   },
   {
    "duration": 10,
    "start_time": "2023-02-12T11:50:41.903Z"
   },
   {
    "duration": 53,
    "start_time": "2023-02-12T19:05:57.732Z"
   },
   {
    "duration": 796,
    "start_time": "2023-02-12T19:06:07.570Z"
   },
   {
    "duration": 72,
    "start_time": "2023-02-12T19:06:08.368Z"
   },
   {
    "duration": 13,
    "start_time": "2023-02-12T19:06:08.442Z"
   },
   {
    "duration": 14,
    "start_time": "2023-02-12T19:06:08.457Z"
   },
   {
    "duration": 14,
    "start_time": "2023-02-12T19:06:08.473Z"
   },
   {
    "duration": 15,
    "start_time": "2023-02-12T19:06:08.489Z"
   },
   {
    "duration": 139,
    "start_time": "2023-02-12T19:06:08.506Z"
   },
   {
    "duration": 11,
    "start_time": "2023-02-12T19:06:08.647Z"
   },
   {
    "duration": 21,
    "start_time": "2023-02-12T19:06:08.660Z"
   },
   {
    "duration": 71,
    "start_time": "2023-02-12T19:06:08.684Z"
   },
   {
    "duration": 11,
    "start_time": "2023-02-12T19:06:08.757Z"
   },
   {
    "duration": 7,
    "start_time": "2023-02-12T19:06:08.769Z"
   },
   {
    "duration": 12,
    "start_time": "2023-02-12T19:06:08.777Z"
   },
   {
    "duration": 428,
    "start_time": "2023-02-12T19:06:08.791Z"
   },
   {
    "duration": 0,
    "start_time": "2023-02-12T19:06:09.220Z"
   },
   {
    "duration": 0,
    "start_time": "2023-02-12T19:06:09.222Z"
   },
   {
    "duration": 0,
    "start_time": "2023-02-12T19:06:09.224Z"
   },
   {
    "duration": 0,
    "start_time": "2023-02-12T19:06:09.225Z"
   },
   {
    "duration": 0,
    "start_time": "2023-02-12T19:06:09.226Z"
   },
   {
    "duration": 0,
    "start_time": "2023-02-12T19:06:09.228Z"
   },
   {
    "duration": 0,
    "start_time": "2023-02-12T19:06:09.229Z"
   },
   {
    "duration": 0,
    "start_time": "2023-02-12T19:06:09.230Z"
   },
   {
    "duration": 0,
    "start_time": "2023-02-12T19:06:09.232Z"
   },
   {
    "duration": 0,
    "start_time": "2023-02-12T19:06:09.233Z"
   },
   {
    "duration": 0,
    "start_time": "2023-02-12T19:06:09.234Z"
   },
   {
    "duration": 0,
    "start_time": "2023-02-12T19:06:09.236Z"
   },
   {
    "duration": 704,
    "start_time": "2023-02-12T19:06:54.857Z"
   },
   {
    "duration": 16,
    "start_time": "2023-02-12T19:07:24.262Z"
   },
   {
    "duration": 18,
    "start_time": "2023-02-12T19:09:29.548Z"
   },
   {
    "duration": 15,
    "start_time": "2023-02-12T19:10:14.894Z"
   },
   {
    "duration": 21,
    "start_time": "2023-02-12T19:10:22.374Z"
   },
   {
    "duration": 22,
    "start_time": "2023-02-12T19:10:58.002Z"
   },
   {
    "duration": 19,
    "start_time": "2023-02-12T19:11:16.069Z"
   },
   {
    "duration": 22,
    "start_time": "2023-02-12T19:12:11.291Z"
   },
   {
    "duration": 9,
    "start_time": "2023-02-12T19:12:17.742Z"
   },
   {
    "duration": 15,
    "start_time": "2023-02-12T19:12:44.645Z"
   },
   {
    "duration": 25,
    "start_time": "2023-02-12T19:12:51.157Z"
   },
   {
    "duration": 18,
    "start_time": "2023-02-12T19:13:09.755Z"
   },
   {
    "duration": 20,
    "start_time": "2023-02-12T19:17:37.095Z"
   },
   {
    "duration": 20,
    "start_time": "2023-02-12T19:17:43.008Z"
   },
   {
    "duration": 15,
    "start_time": "2023-02-12T19:17:54.117Z"
   },
   {
    "duration": 53,
    "start_time": "2023-02-12T19:17:58.859Z"
   },
   {
    "duration": 22,
    "start_time": "2023-02-12T19:18:01.173Z"
   },
   {
    "duration": 25,
    "start_time": "2023-02-12T19:18:18.149Z"
   },
   {
    "duration": 15,
    "start_time": "2023-02-12T19:18:26.796Z"
   },
   {
    "duration": 19,
    "start_time": "2023-02-12T19:20:35.301Z"
   },
   {
    "duration": 22,
    "start_time": "2023-02-12T19:20:47.784Z"
   },
   {
    "duration": 21,
    "start_time": "2023-02-12T19:20:56.669Z"
   },
   {
    "duration": 750,
    "start_time": "2023-02-13T03:17:58.044Z"
   },
   {
    "duration": 90,
    "start_time": "2023-02-13T03:17:58.797Z"
   },
   {
    "duration": 13,
    "start_time": "2023-02-13T03:17:58.889Z"
   },
   {
    "duration": 12,
    "start_time": "2023-02-13T03:17:58.903Z"
   },
   {
    "duration": 11,
    "start_time": "2023-02-13T03:17:58.917Z"
   },
   {
    "duration": 9,
    "start_time": "2023-02-13T03:17:58.930Z"
   },
   {
    "duration": 95,
    "start_time": "2023-02-13T03:17:58.941Z"
   },
   {
    "duration": 11,
    "start_time": "2023-02-13T03:17:59.037Z"
   },
   {
    "duration": 13,
    "start_time": "2023-02-13T03:17:59.050Z"
   },
   {
    "duration": 69,
    "start_time": "2023-02-13T03:17:59.065Z"
   },
   {
    "duration": 9,
    "start_time": "2023-02-13T03:17:59.135Z"
   },
   {
    "duration": 8,
    "start_time": "2023-02-13T03:17:59.145Z"
   },
   {
    "duration": 20,
    "start_time": "2023-02-13T03:17:59.154Z"
   },
   {
    "duration": 277,
    "start_time": "2023-02-13T03:17:59.176Z"
   },
   {
    "duration": 310,
    "start_time": "2023-02-13T03:17:59.454Z"
   },
   {
    "duration": 220,
    "start_time": "2023-02-13T03:17:59.765Z"
   },
   {
    "duration": 408,
    "start_time": "2023-02-13T03:17:59.987Z"
   },
   {
    "duration": 322,
    "start_time": "2023-02-13T03:18:00.396Z"
   },
   {
    "duration": 350,
    "start_time": "2023-02-13T03:18:00.720Z"
   },
   {
    "duration": 10,
    "start_time": "2023-02-13T03:18:01.072Z"
   },
   {
    "duration": 186,
    "start_time": "2023-02-13T03:18:01.083Z"
   },
   {
    "duration": 5,
    "start_time": "2023-02-13T03:18:01.271Z"
   },
   {
    "duration": 189,
    "start_time": "2023-02-13T03:18:01.277Z"
   },
   {
    "duration": 5,
    "start_time": "2023-02-13T03:18:01.467Z"
   },
   {
    "duration": 160,
    "start_time": "2023-02-13T03:18:40.375Z"
   },
   {
    "duration": 17,
    "start_time": "2023-02-13T03:20:13.848Z"
   },
   {
    "duration": 18,
    "start_time": "2023-02-13T03:20:28.293Z"
   },
   {
    "duration": 10,
    "start_time": "2023-02-13T03:20:47.383Z"
   },
   {
    "duration": 6,
    "start_time": "2023-02-13T03:21:25.596Z"
   },
   {
    "duration": 454,
    "start_time": "2023-02-13T03:21:54.953Z"
   },
   {
    "duration": 10,
    "start_time": "2023-02-13T03:22:55.744Z"
   },
   {
    "duration": 8,
    "start_time": "2023-02-13T03:23:53.658Z"
   },
   {
    "duration": 1133,
    "start_time": "2023-02-13T03:24:09.755Z"
   },
   {
    "duration": 37,
    "start_time": "2023-02-13T03:24:10.890Z"
   },
   {
    "duration": 12,
    "start_time": "2023-02-13T03:24:10.930Z"
   },
   {
    "duration": 14,
    "start_time": "2023-02-13T03:24:10.944Z"
   },
   {
    "duration": 14,
    "start_time": "2023-02-13T03:24:10.959Z"
   },
   {
    "duration": 12,
    "start_time": "2023-02-13T03:24:10.975Z"
   },
   {
    "duration": 50,
    "start_time": "2023-02-13T03:24:10.989Z"
   },
   {
    "duration": 13,
    "start_time": "2023-02-13T03:24:11.040Z"
   },
   {
    "duration": 18,
    "start_time": "2023-02-13T03:24:11.055Z"
   },
   {
    "duration": 22,
    "start_time": "2023-02-13T03:24:11.076Z"
   },
   {
    "duration": 11,
    "start_time": "2023-02-13T03:24:11.100Z"
   },
   {
    "duration": 5,
    "start_time": "2023-02-13T03:24:11.113Z"
   },
   {
    "duration": 37,
    "start_time": "2023-02-13T03:24:11.119Z"
   },
   {
    "duration": 273,
    "start_time": "2023-02-13T03:24:11.158Z"
   },
   {
    "duration": 295,
    "start_time": "2023-02-13T03:24:11.433Z"
   },
   {
    "duration": 228,
    "start_time": "2023-02-13T03:24:11.730Z"
   },
   {
    "duration": 315,
    "start_time": "2023-02-13T03:24:11.959Z"
   },
   {
    "duration": 259,
    "start_time": "2023-02-13T03:24:12.276Z"
   },
   {
    "duration": 356,
    "start_time": "2023-02-13T03:24:12.537Z"
   },
   {
    "duration": 9,
    "start_time": "2023-02-13T03:24:12.895Z"
   },
   {
    "duration": 173,
    "start_time": "2023-02-13T03:24:12.906Z"
   },
   {
    "duration": 5,
    "start_time": "2023-02-13T03:24:13.081Z"
   },
   {
    "duration": 177,
    "start_time": "2023-02-13T03:24:13.087Z"
   },
   {
    "duration": 4,
    "start_time": "2023-02-13T03:24:13.265Z"
   },
   {
    "duration": 12,
    "start_time": "2023-02-13T03:24:13.271Z"
   },
   {
    "duration": 105,
    "start_time": "2023-02-13T03:24:13.284Z"
   },
   {
    "duration": 8,
    "start_time": "2023-02-13T03:24:28.914Z"
   },
   {
    "duration": 7,
    "start_time": "2023-02-13T03:24:47.193Z"
   },
   {
    "duration": 11,
    "start_time": "2023-02-13T03:24:51.647Z"
   },
   {
    "duration": 197,
    "start_time": "2023-02-13T03:25:56.964Z"
   },
   {
    "duration": 15,
    "start_time": "2023-02-13T03:30:16.288Z"
   },
   {
    "duration": 124,
    "start_time": "2023-02-13T03:30:52.499Z"
   },
   {
    "duration": 8,
    "start_time": "2023-02-13T03:41:44.156Z"
   },
   {
    "duration": 5,
    "start_time": "2023-02-13T03:44:11.582Z"
   },
   {
    "duration": 22,
    "start_time": "2023-02-13T03:46:13.403Z"
   },
   {
    "duration": 30,
    "start_time": "2023-02-13T03:46:32.824Z"
   },
   {
    "duration": 25,
    "start_time": "2023-02-13T03:46:35.507Z"
   },
   {
    "duration": 10,
    "start_time": "2023-02-13T03:55:08.376Z"
   },
   {
    "duration": 5,
    "start_time": "2023-02-13T04:03:16.185Z"
   },
   {
    "duration": 5,
    "start_time": "2023-02-13T04:03:26.161Z"
   },
   {
    "duration": 5,
    "start_time": "2023-02-13T04:03:31.300Z"
   },
   {
    "duration": 4,
    "start_time": "2023-02-13T04:03:38.524Z"
   },
   {
    "duration": 5,
    "start_time": "2023-02-13T04:03:42.171Z"
   },
   {
    "duration": 5,
    "start_time": "2023-02-13T04:03:51.544Z"
   },
   {
    "duration": 4,
    "start_time": "2023-02-13T04:03:55.454Z"
   },
   {
    "duration": 1120,
    "start_time": "2023-02-13T04:09:18.353Z"
   },
   {
    "duration": 1207,
    "start_time": "2023-02-13T04:10:11.799Z"
   },
   {
    "duration": 8,
    "start_time": "2023-02-13T04:11:15.790Z"
   },
   {
    "duration": 27,
    "start_time": "2023-02-13T04:30:20.627Z"
   },
   {
    "duration": 35,
    "start_time": "2023-02-13T04:35:05.163Z"
   },
   {
    "duration": 51,
    "start_time": "2023-02-13T04:36:47.163Z"
   },
   {
    "duration": 1385,
    "start_time": "2023-02-13T04:40:05.452Z"
   },
   {
    "duration": 13,
    "start_time": "2023-02-13T04:40:48.232Z"
   },
   {
    "duration": 12,
    "start_time": "2023-02-13T04:41:13.979Z"
   },
   {
    "duration": 73,
    "start_time": "2023-02-13T04:57:08.937Z"
   },
   {
    "duration": 1064,
    "start_time": "2023-02-13T07:20:44.567Z"
   },
   {
    "duration": 33,
    "start_time": "2023-02-13T07:20:45.633Z"
   },
   {
    "duration": 10,
    "start_time": "2023-02-13T07:20:45.667Z"
   },
   {
    "duration": 27,
    "start_time": "2023-02-13T07:20:45.679Z"
   },
   {
    "duration": 13,
    "start_time": "2023-02-13T07:20:45.708Z"
   },
   {
    "duration": 15,
    "start_time": "2023-02-13T07:20:45.723Z"
   },
   {
    "duration": 35,
    "start_time": "2023-02-13T07:20:45.740Z"
   },
   {
    "duration": 10,
    "start_time": "2023-02-13T07:20:45.776Z"
   },
   {
    "duration": 16,
    "start_time": "2023-02-13T07:20:45.788Z"
   },
   {
    "duration": 23,
    "start_time": "2023-02-13T07:20:45.807Z"
   },
   {
    "duration": 13,
    "start_time": "2023-02-13T07:20:45.832Z"
   },
   {
    "duration": 7,
    "start_time": "2023-02-13T07:20:45.848Z"
   },
   {
    "duration": 21,
    "start_time": "2023-02-13T07:20:45.856Z"
   },
   {
    "duration": 295,
    "start_time": "2023-02-13T07:20:45.879Z"
   },
   {
    "duration": 320,
    "start_time": "2023-02-13T07:20:46.175Z"
   },
   {
    "duration": 234,
    "start_time": "2023-02-13T07:20:46.496Z"
   },
   {
    "duration": 351,
    "start_time": "2023-02-13T07:20:46.732Z"
   },
   {
    "duration": 270,
    "start_time": "2023-02-13T07:20:47.084Z"
   },
   {
    "duration": 342,
    "start_time": "2023-02-13T07:20:47.356Z"
   },
   {
    "duration": 11,
    "start_time": "2023-02-13T07:20:47.709Z"
   },
   {
    "duration": 176,
    "start_time": "2023-02-13T07:20:47.721Z"
   },
   {
    "duration": 13,
    "start_time": "2023-02-13T07:20:47.898Z"
   },
   {
    "duration": 194,
    "start_time": "2023-02-13T07:20:47.912Z"
   },
   {
    "duration": 4,
    "start_time": "2023-02-13T07:20:48.108Z"
   },
   {
    "duration": 216,
    "start_time": "2023-02-13T07:20:48.114Z"
   },
   {
    "duration": 154,
    "start_time": "2023-02-13T07:20:48.331Z"
   },
   {
    "duration": 6,
    "start_time": "2023-02-13T07:20:48.487Z"
   },
   {
    "duration": 23,
    "start_time": "2023-02-13T07:20:48.509Z"
   },
   {
    "duration": 12,
    "start_time": "2023-02-13T07:20:48.533Z"
   },
   {
    "duration": 9,
    "start_time": "2023-02-13T07:20:48.546Z"
   },
   {
    "duration": 109,
    "start_time": "2023-02-13T07:20:48.556Z"
   },
   {
    "duration": 14,
    "start_time": "2023-02-13T07:20:48.666Z"
   },
   {
    "duration": 1319,
    "start_time": "2023-02-14T03:08:12.100Z"
   },
   {
    "duration": 88,
    "start_time": "2023-02-14T03:08:13.421Z"
   },
   {
    "duration": 13,
    "start_time": "2023-02-14T03:08:13.511Z"
   },
   {
    "duration": 29,
    "start_time": "2023-02-14T03:08:13.526Z"
   },
   {
    "duration": 39,
    "start_time": "2023-02-14T03:08:13.557Z"
   },
   {
    "duration": 23,
    "start_time": "2023-02-14T03:08:13.598Z"
   },
   {
    "duration": 114,
    "start_time": "2023-02-14T03:08:13.623Z"
   },
   {
    "duration": 11,
    "start_time": "2023-02-14T03:08:13.738Z"
   },
   {
    "duration": 36,
    "start_time": "2023-02-14T03:08:13.750Z"
   },
   {
    "duration": 82,
    "start_time": "2023-02-14T03:08:13.788Z"
   },
   {
    "duration": 11,
    "start_time": "2023-02-14T03:08:13.872Z"
   },
   {
    "duration": 49,
    "start_time": "2023-02-14T03:08:13.884Z"
   },
   {
    "duration": 41,
    "start_time": "2023-02-14T03:08:13.935Z"
   },
   {
    "duration": 285,
    "start_time": "2023-02-14T03:08:13.978Z"
   },
   {
    "duration": 334,
    "start_time": "2023-02-14T03:08:14.265Z"
   },
   {
    "duration": 243,
    "start_time": "2023-02-14T03:08:14.600Z"
   },
   {
    "duration": 392,
    "start_time": "2023-02-14T03:08:14.844Z"
   },
   {
    "duration": 301,
    "start_time": "2023-02-14T03:08:15.238Z"
   },
   {
    "duration": 378,
    "start_time": "2023-02-14T03:08:15.541Z"
   },
   {
    "duration": 22,
    "start_time": "2023-02-14T03:08:15.920Z"
   },
   {
    "duration": 189,
    "start_time": "2023-02-14T03:08:15.944Z"
   },
   {
    "duration": 5,
    "start_time": "2023-02-14T03:08:16.136Z"
   },
   {
    "duration": 214,
    "start_time": "2023-02-14T03:08:16.143Z"
   },
   {
    "duration": 6,
    "start_time": "2023-02-14T03:08:16.358Z"
   },
   {
    "duration": 243,
    "start_time": "2023-02-14T03:08:16.365Z"
   },
   {
    "duration": 151,
    "start_time": "2023-02-14T03:08:16.609Z"
   },
   {
    "duration": 7,
    "start_time": "2023-02-14T03:08:16.762Z"
   },
   {
    "duration": 41,
    "start_time": "2023-02-14T03:08:16.772Z"
   },
   {
    "duration": 23,
    "start_time": "2023-02-14T03:08:16.815Z"
   },
   {
    "duration": 33,
    "start_time": "2023-02-14T03:08:16.839Z"
   },
   {
    "duration": 96,
    "start_time": "2023-02-14T03:08:16.874Z"
   },
   {
    "duration": 14,
    "start_time": "2023-02-14T03:08:16.972Z"
   },
   {
    "duration": 102,
    "start_time": "2023-02-14T03:09:01.626Z"
   },
   {
    "duration": 131,
    "start_time": "2023-02-14T03:09:06.656Z"
   },
   {
    "duration": 16,
    "start_time": "2023-02-14T03:09:59.592Z"
   },
   {
    "duration": 14,
    "start_time": "2023-02-14T03:10:18.919Z"
   },
   {
    "duration": 11,
    "start_time": "2023-02-14T03:10:30.877Z"
   },
   {
    "duration": 74,
    "start_time": "2023-02-14T03:10:37.619Z"
   },
   {
    "duration": 16,
    "start_time": "2023-02-14T03:10:43.927Z"
   },
   {
    "duration": 15,
    "start_time": "2023-02-14T03:11:28.817Z"
   },
   {
    "duration": 13,
    "start_time": "2023-02-14T03:12:03.666Z"
   },
   {
    "duration": 13,
    "start_time": "2023-02-14T03:12:50.964Z"
   },
   {
    "duration": 14,
    "start_time": "2023-02-14T03:13:05.522Z"
   },
   {
    "duration": 90,
    "start_time": "2023-02-14T03:14:22.598Z"
   },
   {
    "duration": 4,
    "start_time": "2023-02-14T03:14:35.778Z"
   },
   {
    "duration": 14,
    "start_time": "2023-02-14T03:14:43.081Z"
   },
   {
    "duration": 18,
    "start_time": "2023-02-14T03:14:52.280Z"
   },
   {
    "duration": 15,
    "start_time": "2023-02-14T03:15:01.891Z"
   },
   {
    "duration": 17,
    "start_time": "2023-02-14T03:15:13.393Z"
   },
   {
    "duration": 16,
    "start_time": "2023-02-14T03:15:40.739Z"
   },
   {
    "duration": 7,
    "start_time": "2023-02-14T03:21:31.267Z"
   },
   {
    "duration": 11,
    "start_time": "2023-02-14T03:26:07.310Z"
   },
   {
    "duration": 1038,
    "start_time": "2023-02-14T05:50:07.240Z"
   },
   {
    "duration": 33,
    "start_time": "2023-02-14T05:50:08.280Z"
   },
   {
    "duration": 10,
    "start_time": "2023-02-14T05:50:08.314Z"
   },
   {
    "duration": 10,
    "start_time": "2023-02-14T05:50:08.326Z"
   },
   {
    "duration": 12,
    "start_time": "2023-02-14T05:50:08.337Z"
   },
   {
    "duration": 77,
    "start_time": "2023-02-14T05:50:08.351Z"
   },
   {
    "duration": 37,
    "start_time": "2023-02-14T05:50:08.429Z"
   },
   {
    "duration": 10,
    "start_time": "2023-02-14T05:50:08.467Z"
   },
   {
    "duration": 14,
    "start_time": "2023-02-14T05:50:08.478Z"
   },
   {
    "duration": 21,
    "start_time": "2023-02-14T05:50:08.494Z"
   },
   {
    "duration": 10,
    "start_time": "2023-02-14T05:50:08.517Z"
   },
   {
    "duration": 6,
    "start_time": "2023-02-14T05:50:08.528Z"
   },
   {
    "duration": 20,
    "start_time": "2023-02-14T05:50:08.536Z"
   },
   {
    "duration": 291,
    "start_time": "2023-02-14T05:50:08.557Z"
   },
   {
    "duration": 339,
    "start_time": "2023-02-14T05:50:08.850Z"
   },
   {
    "duration": 255,
    "start_time": "2023-02-14T05:50:09.190Z"
   },
   {
    "duration": 323,
    "start_time": "2023-02-14T05:50:09.446Z"
   },
   {
    "duration": 274,
    "start_time": "2023-02-14T05:50:09.770Z"
   },
   {
    "duration": 322,
    "start_time": "2023-02-14T05:50:10.046Z"
   },
   {
    "duration": 11,
    "start_time": "2023-02-14T05:50:10.369Z"
   },
   {
    "duration": 183,
    "start_time": "2023-02-14T05:50:10.381Z"
   },
   {
    "duration": 5,
    "start_time": "2023-02-14T05:50:10.565Z"
   },
   {
    "duration": 191,
    "start_time": "2023-02-14T05:50:10.571Z"
   },
   {
    "duration": 5,
    "start_time": "2023-02-14T05:50:10.764Z"
   },
   {
    "duration": 273,
    "start_time": "2023-02-14T05:50:10.770Z"
   },
   {
    "duration": 138,
    "start_time": "2023-02-14T05:50:11.045Z"
   },
   {
    "duration": 6,
    "start_time": "2023-02-14T05:50:11.185Z"
   },
   {
    "duration": 35,
    "start_time": "2023-02-14T05:50:11.194Z"
   },
   {
    "duration": 12,
    "start_time": "2023-02-14T05:50:11.231Z"
   },
   {
    "duration": 8,
    "start_time": "2023-02-14T05:50:11.244Z"
   },
   {
    "duration": 86,
    "start_time": "2023-02-14T05:50:11.254Z"
   },
   {
    "duration": 14,
    "start_time": "2023-02-14T05:50:11.341Z"
   },
   {
    "duration": 1066,
    "start_time": "2023-02-14T06:46:35.265Z"
   },
   {
    "duration": 47,
    "start_time": "2023-02-14T06:46:36.333Z"
   },
   {
    "duration": 10,
    "start_time": "2023-02-14T06:46:36.382Z"
   },
   {
    "duration": 10,
    "start_time": "2023-02-14T06:46:36.394Z"
   },
   {
    "duration": 22,
    "start_time": "2023-02-14T06:46:36.406Z"
   },
   {
    "duration": 60,
    "start_time": "2023-02-14T06:46:36.430Z"
   },
   {
    "duration": 44,
    "start_time": "2023-02-14T06:46:36.492Z"
   },
   {
    "duration": 12,
    "start_time": "2023-02-14T06:46:36.538Z"
   },
   {
    "duration": 32,
    "start_time": "2023-02-14T06:46:36.552Z"
   },
   {
    "duration": 41,
    "start_time": "2023-02-14T06:46:36.587Z"
   },
   {
    "duration": 10,
    "start_time": "2023-02-14T06:46:36.630Z"
   },
   {
    "duration": 11,
    "start_time": "2023-02-14T06:46:36.642Z"
   },
   {
    "duration": 24,
    "start_time": "2023-02-14T06:46:36.655Z"
   },
   {
    "duration": 292,
    "start_time": "2023-02-14T06:46:36.681Z"
   },
   {
    "duration": 321,
    "start_time": "2023-02-14T06:46:36.975Z"
   },
   {
    "duration": 244,
    "start_time": "2023-02-14T06:46:37.298Z"
   },
   {
    "duration": 316,
    "start_time": "2023-02-14T06:46:37.543Z"
   },
   {
    "duration": 279,
    "start_time": "2023-02-14T06:46:37.861Z"
   },
   {
    "duration": 334,
    "start_time": "2023-02-14T06:46:38.142Z"
   },
   {
    "duration": 12,
    "start_time": "2023-02-14T06:46:38.478Z"
   },
   {
    "duration": 179,
    "start_time": "2023-02-14T06:46:38.492Z"
   },
   {
    "duration": 5,
    "start_time": "2023-02-14T06:46:38.672Z"
   },
   {
    "duration": 202,
    "start_time": "2023-02-14T06:46:38.678Z"
   },
   {
    "duration": 4,
    "start_time": "2023-02-14T06:46:38.881Z"
   },
   {
    "duration": 277,
    "start_time": "2023-02-14T06:46:38.887Z"
   },
   {
    "duration": 135,
    "start_time": "2023-02-14T06:46:39.165Z"
   },
   {
    "duration": 14,
    "start_time": "2023-02-14T06:46:39.301Z"
   },
   {
    "duration": 23,
    "start_time": "2023-02-14T06:46:39.319Z"
   },
   {
    "duration": 12,
    "start_time": "2023-02-14T06:46:39.344Z"
   },
   {
    "duration": 10,
    "start_time": "2023-02-14T06:46:39.358Z"
   },
   {
    "duration": 77,
    "start_time": "2023-02-14T06:46:39.370Z"
   },
   {
    "duration": 13,
    "start_time": "2023-02-14T06:46:39.449Z"
   }
  ],
  "kernelspec": {
   "display_name": "Python 3 (ipykernel)",
   "language": "python",
   "name": "python3"
  },
  "language_info": {
   "codemirror_mode": {
    "name": "ipython",
    "version": 3
   },
   "file_extension": ".py",
   "mimetype": "text/x-python",
   "name": "python",
   "nbconvert_exporter": "python",
   "pygments_lexer": "ipython3",
   "version": "3.9.13"
  },
  "toc": {
   "base_numbering": 1,
   "nav_menu": {},
   "number_sections": true,
   "sideBar": true,
   "skip_h1_title": true,
   "title_cell": "Содержание",
   "title_sidebar": "Contents",
   "toc_cell": true,
   "toc_position": {
    "height": "calc(100% - 180px)",
    "left": "10px",
    "top": "150px",
    "width": "366.188px"
   },
   "toc_section_display": true,
   "toc_window_display": false
  }
 },
 "nbformat": 4,
 "nbformat_minor": 2
}
