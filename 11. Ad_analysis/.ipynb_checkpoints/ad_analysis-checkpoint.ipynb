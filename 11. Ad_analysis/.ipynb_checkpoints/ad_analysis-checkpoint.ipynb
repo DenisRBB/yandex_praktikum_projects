{
 "cells": [
  {
   "cell_type": "markdown",
   "metadata": {},
   "source": [
    "# Анализ рекламных источников игры \"Космические братья\" #\n",
    "--------------------------------------------"
   ]
  },
  {
   "cell_type": "markdown",
   "metadata": {},
   "source": [
    "# Материалы"
   ]
  },
  {
   "cell_type": "markdown",
   "metadata": {},
   "source": [
    "1. [Презентация](https://drive.google.com/file/d/1M655OsRNsgFVxmjMhxGV29B9MIH7GDaK/view?usp=sharing)\n",
    "2. [Дашборд №2](https://public.tableau.com/app/profile/denis.rosel/viz/Final_project_games_2/Dashboard1?publish=yes)"
   ]
  },
  {
   "cell_type": "markdown",
   "metadata": {
    "toc": true
   },
   "source": [
    "<h1>Содержание<span class=\"tocSkip\"></span></h1>\n",
    "<div class=\"toc\"><ul class=\"toc-item\"><li><span><a href=\"#Загрузка,-изучение-и-подготовка-данных-к-анализу\" data-toc-modified-id=\"Загрузка,-изучение-и-подготовка-данных-к-анализу-1\"><span class=\"toc-item-num\">1&nbsp;&nbsp;</span>Загрузка, изучение и подготовка данных к анализу</a></span><ul class=\"toc-item\"><li><span><a href=\"#Изучение-данных\" data-toc-modified-id=\"Изучение-данных-1.1\"><span class=\"toc-item-num\">1.1&nbsp;&nbsp;</span>Изучение данных</a></span></li><li><span><a href=\"#Предобработка-данных\" data-toc-modified-id=\"Предобработка-данных-1.2\"><span class=\"toc-item-num\">1.2&nbsp;&nbsp;</span>Предобработка данных</a></span></li></ul></li><li><span><a href=\"#Подготовка-к-исследовательскому-анализу-данных\" data-toc-modified-id=\"Подготовка-к-исследовательскому-анализу-данных-2\"><span class=\"toc-item-num\">2&nbsp;&nbsp;</span>Подготовка к исследовательскому анализу данных</a></span></li><li><span><a href=\"#Исследовательский-анализ-данных\" data-toc-modified-id=\"Исследовательский-анализ-данных-3\"><span class=\"toc-item-num\">3&nbsp;&nbsp;</span>Исследовательский анализ данных</a></span></li><li><span><a href=\"#Проверка-статистических-гипотез\" data-toc-modified-id=\"Проверка-статистических-гипотез-4\"><span class=\"toc-item-num\">4&nbsp;&nbsp;</span>Проверка статистических гипотез</a></span></li><li><span><a href=\"#Предложение-по-монетизации\" data-toc-modified-id=\"Предложение-по-монетизации-5\"><span class=\"toc-item-num\">5&nbsp;&nbsp;</span>Предложение по монетизации</a></span></li><li><span><a href=\"#Выводы-и-рекомендации\" data-toc-modified-id=\"Выводы-и-рекомендации-6\"><span class=\"toc-item-num\">6&nbsp;&nbsp;</span>Выводы и рекомендации</a></span></li></ul></div>"
   ]
  },
  {
   "cell_type": "markdown",
   "metadata": {},
   "source": [
    "# План работы"
   ]
  },
  {
   "cell_type": "markdown",
   "metadata": {},
   "source": [
    "1. Загрузка и изучение данных\n",
    "2. Предобработка данных\n",
    "3. Подготовка данных к исследовательскому анализу\n",
    "4. Исследовательский анализ данных\n",
    "5. Проверка статистическиз гипотез\n",
    "6. Предложения по монетизации\n",
    "7. Выводы\n",
    "--------------------"
   ]
  },
  {
   "cell_type": "markdown",
   "metadata": {},
   "source": [
    "## Загрузка, изучение и подготовка данных к анализу"
   ]
  },
  {
   "cell_type": "markdown",
   "metadata": {},
   "source": [
    "### Изучение данных"
   ]
  },
  {
   "cell_type": "code",
   "execution_count": 1,
   "metadata": {},
   "outputs": [],
   "source": [
    "# Для начала загрузим необходимые нам бибилиотеки\n",
    "import pandas as pd\n",
    "import datetime\n",
    "import numpy as np\n",
    "import matplotlib.pyplot as plt\n",
    "import seaborn as sns\n",
    "import warnings\n",
    "warnings.simplefilter(action='ignore', category=FutureWarning)\n",
    "from scipy import stats as st"
   ]
  },
  {
   "cell_type": "markdown",
   "metadata": {},
   "source": [
    "Загрузим данные о пользователях и рекламных активностях, и сохраним их в соответствующие переменные."
   ]
  },
  {
   "cell_type": "code",
   "execution_count": 2,
   "metadata": {},
   "outputs": [],
   "source": [
    "try:\n",
    "    game_actions = pd.read_csv('https://code.s3.yandex.net/datasets/game_actions.csv')\n",
    "except:\n",
    "    game_actions = pd.read_csv('https://clck.ru/343DAL')"
   ]
  },
  {
   "cell_type": "code",
   "execution_count": 3,
   "metadata": {},
   "outputs": [],
   "source": [
    "try:\n",
    "    ad_costs = pd.read_csv('https://code.s3.yandex.net/datasets/ad_costs.csv')\n",
    "except:\n",
    "    ad_costs = pd.read_csv('https://clck.ru/343DAX')"
   ]
  },
  {
   "cell_type": "code",
   "execution_count": 4,
   "metadata": {},
   "outputs": [],
   "source": [
    "try:\n",
    "    user_source = pd.read_csv('https://code.s3.yandex.net/datasets/user_source.csv')\n",
    "except:\n",
    "    user_source = pd.read_csv('https://clck.ru/343DA8')"
   ]
  },
  {
   "cell_type": "markdown",
   "metadata": {},
   "source": [
    "Проверим корректность загруженных датафреймов."
   ]
  },
  {
   "cell_type": "code",
   "execution_count": 5,
   "metadata": {},
   "outputs": [
    {
     "data": {
      "text/html": [
       "<div>\n",
       "<style scoped>\n",
       "    .dataframe tbody tr th:only-of-type {\n",
       "        vertical-align: middle;\n",
       "    }\n",
       "\n",
       "    .dataframe tbody tr th {\n",
       "        vertical-align: top;\n",
       "    }\n",
       "\n",
       "    .dataframe thead th {\n",
       "        text-align: right;\n",
       "    }\n",
       "</style>\n",
       "<table border=\"1\" class=\"dataframe\">\n",
       "  <thead>\n",
       "    <tr style=\"text-align: right;\">\n",
       "      <th></th>\n",
       "      <th>event_datetime</th>\n",
       "      <th>event</th>\n",
       "      <th>building_type</th>\n",
       "      <th>user_id</th>\n",
       "      <th>project_type</th>\n",
       "    </tr>\n",
       "  </thead>\n",
       "  <tbody>\n",
       "    <tr>\n",
       "      <th>0</th>\n",
       "      <td>2020-05-04 00:00:01</td>\n",
       "      <td>building</td>\n",
       "      <td>assembly_shop</td>\n",
       "      <td>55e92310-cb8e-4754-b622-597e124b03de</td>\n",
       "      <td>NaN</td>\n",
       "    </tr>\n",
       "    <tr>\n",
       "      <th>1</th>\n",
       "      <td>2020-05-04 00:00:03</td>\n",
       "      <td>building</td>\n",
       "      <td>assembly_shop</td>\n",
       "      <td>c07b1c10-f477-44dc-81dc-ec82254b1347</td>\n",
       "      <td>NaN</td>\n",
       "    </tr>\n",
       "    <tr>\n",
       "      <th>2</th>\n",
       "      <td>2020-05-04 00:00:16</td>\n",
       "      <td>building</td>\n",
       "      <td>assembly_shop</td>\n",
       "      <td>6edd42cc-e753-4ff6-a947-2107cd560710</td>\n",
       "      <td>NaN</td>\n",
       "    </tr>\n",
       "    <tr>\n",
       "      <th>3</th>\n",
       "      <td>2020-05-04 00:00:16</td>\n",
       "      <td>building</td>\n",
       "      <td>assembly_shop</td>\n",
       "      <td>92c69003-d60a-444a-827f-8cc51bf6bf4c</td>\n",
       "      <td>NaN</td>\n",
       "    </tr>\n",
       "    <tr>\n",
       "      <th>4</th>\n",
       "      <td>2020-05-04 00:00:35</td>\n",
       "      <td>building</td>\n",
       "      <td>assembly_shop</td>\n",
       "      <td>cdc6bb92-0ccb-4490-9866-ef142f09139d</td>\n",
       "      <td>NaN</td>\n",
       "    </tr>\n",
       "  </tbody>\n",
       "</table>\n",
       "</div>"
      ],
      "text/plain": [
       "        event_datetime     event  building_type  \\\n",
       "0  2020-05-04 00:00:01  building  assembly_shop   \n",
       "1  2020-05-04 00:00:03  building  assembly_shop   \n",
       "2  2020-05-04 00:00:16  building  assembly_shop   \n",
       "3  2020-05-04 00:00:16  building  assembly_shop   \n",
       "4  2020-05-04 00:00:35  building  assembly_shop   \n",
       "\n",
       "                                user_id project_type  \n",
       "0  55e92310-cb8e-4754-b622-597e124b03de          NaN  \n",
       "1  c07b1c10-f477-44dc-81dc-ec82254b1347          NaN  \n",
       "2  6edd42cc-e753-4ff6-a947-2107cd560710          NaN  \n",
       "3  92c69003-d60a-444a-827f-8cc51bf6bf4c          NaN  \n",
       "4  cdc6bb92-0ccb-4490-9866-ef142f09139d          NaN  "
      ]
     },
     "metadata": {},
     "output_type": "display_data"
    },
    {
     "name": "stdout",
     "output_type": "stream",
     "text": [
      "<class 'pandas.core.frame.DataFrame'>\n",
      "RangeIndex: 135640 entries, 0 to 135639\n",
      "Data columns (total 5 columns):\n",
      " #   Column          Non-Null Count   Dtype \n",
      "---  ------          --------------   ----- \n",
      " 0   event_datetime  135640 non-null  object\n",
      " 1   event           135640 non-null  object\n",
      " 2   building_type   127957 non-null  object\n",
      " 3   user_id         135640 non-null  object\n",
      " 4   project_type    1866 non-null    object\n",
      "dtypes: object(5)\n",
      "memory usage: 5.2+ MB\n"
     ]
    }
   ],
   "source": [
    "display(game_actions.head())\n",
    "game_actions.info()"
   ]
  },
  {
   "cell_type": "markdown",
   "metadata": {},
   "source": [
    "Изучим информацию о каждом датафрейме."
   ]
  },
  {
   "cell_type": "code",
   "execution_count": 6,
   "metadata": {},
   "outputs": [
    {
     "data": {
      "text/html": [
       "<div>\n",
       "<style scoped>\n",
       "    .dataframe tbody tr th:only-of-type {\n",
       "        vertical-align: middle;\n",
       "    }\n",
       "\n",
       "    .dataframe tbody tr th {\n",
       "        vertical-align: top;\n",
       "    }\n",
       "\n",
       "    .dataframe thead th {\n",
       "        text-align: right;\n",
       "    }\n",
       "</style>\n",
       "<table border=\"1\" class=\"dataframe\">\n",
       "  <thead>\n",
       "    <tr style=\"text-align: right;\">\n",
       "      <th></th>\n",
       "      <th>source</th>\n",
       "      <th>day</th>\n",
       "      <th>cost</th>\n",
       "    </tr>\n",
       "  </thead>\n",
       "  <tbody>\n",
       "    <tr>\n",
       "      <th>0</th>\n",
       "      <td>facebook_ads</td>\n",
       "      <td>2020-05-03</td>\n",
       "      <td>935.882786</td>\n",
       "    </tr>\n",
       "    <tr>\n",
       "      <th>1</th>\n",
       "      <td>facebook_ads</td>\n",
       "      <td>2020-05-04</td>\n",
       "      <td>548.354480</td>\n",
       "    </tr>\n",
       "    <tr>\n",
       "      <th>2</th>\n",
       "      <td>facebook_ads</td>\n",
       "      <td>2020-05-05</td>\n",
       "      <td>260.185754</td>\n",
       "    </tr>\n",
       "    <tr>\n",
       "      <th>3</th>\n",
       "      <td>facebook_ads</td>\n",
       "      <td>2020-05-06</td>\n",
       "      <td>177.982200</td>\n",
       "    </tr>\n",
       "    <tr>\n",
       "      <th>4</th>\n",
       "      <td>facebook_ads</td>\n",
       "      <td>2020-05-07</td>\n",
       "      <td>111.766796</td>\n",
       "    </tr>\n",
       "  </tbody>\n",
       "</table>\n",
       "</div>"
      ],
      "text/plain": [
       "         source         day        cost\n",
       "0  facebook_ads  2020-05-03  935.882786\n",
       "1  facebook_ads  2020-05-04  548.354480\n",
       "2  facebook_ads  2020-05-05  260.185754\n",
       "3  facebook_ads  2020-05-06  177.982200\n",
       "4  facebook_ads  2020-05-07  111.766796"
      ]
     },
     "metadata": {},
     "output_type": "display_data"
    },
    {
     "name": "stdout",
     "output_type": "stream",
     "text": [
      "<class 'pandas.core.frame.DataFrame'>\n",
      "RangeIndex: 28 entries, 0 to 27\n",
      "Data columns (total 3 columns):\n",
      " #   Column  Non-Null Count  Dtype  \n",
      "---  ------  --------------  -----  \n",
      " 0   source  28 non-null     object \n",
      " 1   day     28 non-null     object \n",
      " 2   cost    28 non-null     float64\n",
      "dtypes: float64(1), object(2)\n",
      "memory usage: 800.0+ bytes\n"
     ]
    }
   ],
   "source": [
    "display(ad_costs.head())\n",
    "ad_costs.info()"
   ]
  },
  {
   "cell_type": "code",
   "execution_count": 7,
   "metadata": {},
   "outputs": [
    {
     "data": {
      "text/html": [
       "<div>\n",
       "<style scoped>\n",
       "    .dataframe tbody tr th:only-of-type {\n",
       "        vertical-align: middle;\n",
       "    }\n",
       "\n",
       "    .dataframe tbody tr th {\n",
       "        vertical-align: top;\n",
       "    }\n",
       "\n",
       "    .dataframe thead th {\n",
       "        text-align: right;\n",
       "    }\n",
       "</style>\n",
       "<table border=\"1\" class=\"dataframe\">\n",
       "  <thead>\n",
       "    <tr style=\"text-align: right;\">\n",
       "      <th></th>\n",
       "      <th>user_id</th>\n",
       "      <th>source</th>\n",
       "    </tr>\n",
       "  </thead>\n",
       "  <tbody>\n",
       "    <tr>\n",
       "      <th>0</th>\n",
       "      <td>0001f83c-c6ac-4621-b7f0-8a28b283ac30</td>\n",
       "      <td>facebook_ads</td>\n",
       "    </tr>\n",
       "    <tr>\n",
       "      <th>1</th>\n",
       "      <td>00151b4f-ba38-44a8-a650-d7cf130a0105</td>\n",
       "      <td>yandex_direct</td>\n",
       "    </tr>\n",
       "    <tr>\n",
       "      <th>2</th>\n",
       "      <td>001aaea6-3d14-43f1-8ca8-7f48820f17aa</td>\n",
       "      <td>youtube_channel_reklama</td>\n",
       "    </tr>\n",
       "    <tr>\n",
       "      <th>3</th>\n",
       "      <td>001d39dc-366c-4021-9604-6a3b9ff01e25</td>\n",
       "      <td>instagram_new_adverts</td>\n",
       "    </tr>\n",
       "    <tr>\n",
       "      <th>4</th>\n",
       "      <td>002f508f-67b6-479f-814b-b05f00d4e995</td>\n",
       "      <td>facebook_ads</td>\n",
       "    </tr>\n",
       "  </tbody>\n",
       "</table>\n",
       "</div>"
      ],
      "text/plain": [
       "                                user_id                   source\n",
       "0  0001f83c-c6ac-4621-b7f0-8a28b283ac30             facebook_ads\n",
       "1  00151b4f-ba38-44a8-a650-d7cf130a0105            yandex_direct\n",
       "2  001aaea6-3d14-43f1-8ca8-7f48820f17aa  youtube_channel_reklama\n",
       "3  001d39dc-366c-4021-9604-6a3b9ff01e25    instagram_new_adverts\n",
       "4  002f508f-67b6-479f-814b-b05f00d4e995             facebook_ads"
      ]
     },
     "metadata": {},
     "output_type": "display_data"
    },
    {
     "name": "stdout",
     "output_type": "stream",
     "text": [
      "<class 'pandas.core.frame.DataFrame'>\n",
      "RangeIndex: 13576 entries, 0 to 13575\n",
      "Data columns (total 2 columns):\n",
      " #   Column   Non-Null Count  Dtype \n",
      "---  ------   --------------  ----- \n",
      " 0   user_id  13576 non-null  object\n",
      " 1   source   13576 non-null  object\n",
      "dtypes: object(2)\n",
      "memory usage: 212.2+ KB\n"
     ]
    }
   ],
   "source": [
    "display(user_source.head())\n",
    "user_source.info()"
   ]
  },
  {
   "cell_type": "markdown",
   "metadata": {},
   "source": [
    "Датафреймы корректно загружены."
   ]
  },
  {
   "cell_type": "markdown",
   "metadata": {},
   "source": [
    "### Предобработка данных"
   ]
  },
  {
   "cell_type": "markdown",
   "metadata": {},
   "source": [
    "Перед анализом подготовим наши данные к работе. Для начала приведем все данные к соответствующим типам."
   ]
  },
  {
   "cell_type": "code",
   "execution_count": 8,
   "metadata": {},
   "outputs": [],
   "source": [
    "# Столбцы с датами приведем к формату datetime\n",
    "game_actions['event_datetime'] = pd.to_datetime(game_actions['event_datetime'])\n",
    "ad_costs['day'] = pd.to_datetime(ad_costs['day'])"
   ]
  },
  {
   "cell_type": "markdown",
   "metadata": {},
   "source": [
    "Во всех датафреймах столбцы приведены к нужному нам типу данных.\n",
    "\n",
    "Теперь проверим данными за какой период мы располагаем и соответствуют ли они заданию. Согласно заданию: *В датасете содержатся данные первых пользователей приложения — когорты пользователей, которые начали пользоваться приложением в период с 4 по 10 мая включительно.*"
   ]
  },
  {
   "cell_type": "code",
   "execution_count": 9,
   "metadata": {},
   "outputs": [
    {
     "data": {
      "text/plain": [
       "'В датасете с рекламными активностями содержаться данные с 2020-05-03 00:00:00 по 2020-05-09 00:00:00'"
      ]
     },
     "execution_count": 9,
     "metadata": {},
     "output_type": "execute_result"
    }
   ],
   "source": [
    "'В датасете с рекламными активностями содержаться данные с {} по {}'.format(ad_costs[\"day\"].min(), ad_costs[\"day\"].max())"
   ]
  },
  {
   "cell_type": "code",
   "execution_count": 10,
   "metadata": {},
   "outputs": [
    {
     "data": {
      "text/plain": [
       "'В датасете с игровыми логами содержаться данные с 2020-05-04 00:00:01 по 2020-06-05 12:32:49'"
      ]
     },
     "execution_count": 10,
     "metadata": {},
     "output_type": "execute_result"
    }
   ],
   "source": [
    "(\n",
    "    'В датасете с игровыми логами содержаться данные с {} по {}'.format(\n",
    "        game_actions[\"event_datetime\"].min(), game_actions[\"event_datetime\"].max()\n",
    "    )\n",
    ")"
   ]
  },
  {
   "cell_type": "markdown",
   "metadata": {},
   "source": [
    "Согласно данным от заказчика, расхождение дат в файле с затратами на рекламные активности, обусловлено предоплатой за лиды, которые будут совершены на следующий день. Для удобства подсчетов сместим даты в датарейме `ad_costs` на 1 день вперед."
   ]
  },
  {
   "cell_type": "code",
   "execution_count": 11,
   "metadata": {},
   "outputs": [],
   "source": [
    "ad_costs['day'] = ad_costs['day'] + datetime.timedelta(days=1)"
   ]
  },
  {
   "cell_type": "markdown",
   "metadata": {},
   "source": [
    "Далее изучим датафреймы на наличие явных и неявных дубликатов. Начнем с внутриигровых данных пользователя."
   ]
  },
  {
   "cell_type": "code",
   "execution_count": 12,
   "metadata": {},
   "outputs": [
    {
     "data": {
      "text/plain": [
       "1"
      ]
     },
     "execution_count": 12,
     "metadata": {},
     "output_type": "execute_result"
    }
   ],
   "source": [
    "# Начнем с датафрейма game_actions\n",
    "game_actions.duplicated().sum()"
   ]
  },
  {
   "cell_type": "code",
   "execution_count": 13,
   "metadata": {},
   "outputs": [
    {
     "data": {
      "text/plain": [
       "(135640, 5)"
      ]
     },
     "execution_count": 13,
     "metadata": {},
     "output_type": "execute_result"
    }
   ],
   "source": [
    "# Перед удалением зафиксируем количесвто строк\n",
    "game_actions.shape"
   ]
  },
  {
   "cell_type": "code",
   "execution_count": 14,
   "metadata": {},
   "outputs": [],
   "source": [
    "# Данный дубликат удалим, так как это явное задвоение лога\n",
    "game_actions = game_actions.drop_duplicates().reset_index(drop=True)"
   ]
  },
  {
   "cell_type": "code",
   "execution_count": 15,
   "metadata": {},
   "outputs": [
    {
     "data": {
      "text/plain": [
       "(135639, 5)"
      ]
     },
     "execution_count": 15,
     "metadata": {},
     "output_type": "execute_result"
    }
   ],
   "source": [
    "# Проверим корректность удаления\n",
    "game_actions.shape"
   ]
  },
  {
   "cell_type": "code",
   "execution_count": 16,
   "metadata": {},
   "outputs": [
    {
     "data": {
      "text/html": [
       "<div>\n",
       "<style scoped>\n",
       "    .dataframe tbody tr th:only-of-type {\n",
       "        vertical-align: middle;\n",
       "    }\n",
       "\n",
       "    .dataframe tbody tr th {\n",
       "        vertical-align: top;\n",
       "    }\n",
       "\n",
       "    .dataframe thead th {\n",
       "        text-align: right;\n",
       "    }\n",
       "</style>\n",
       "<table border=\"1\" class=\"dataframe\">\n",
       "  <thead>\n",
       "    <tr style=\"text-align: right;\">\n",
       "      <th></th>\n",
       "      <th>event_datetime</th>\n",
       "      <th>event</th>\n",
       "      <th>building_type</th>\n",
       "      <th>user_id</th>\n",
       "      <th>project_type</th>\n",
       "    </tr>\n",
       "  </thead>\n",
       "  <tbody>\n",
       "  </tbody>\n",
       "</table>\n",
       "</div>"
      ],
      "text/plain": [
       "Empty DataFrame\n",
       "Columns: [event_datetime, event, building_type, user_id, project_type]\n",
       "Index: []"
      ]
     },
     "execution_count": 16,
     "metadata": {},
     "output_type": "execute_result"
    }
   ],
   "source": [
    "# Проверим на наличие неявных дубликатов\n",
    "game_actions[game_actions.duplicated(subset=['event_datetime', 'user_id'])]"
   ]
  },
  {
   "cell_type": "markdown",
   "metadata": {},
   "source": [
    "В `game_actions` был зафиксирован всего 1 дубликат, от которого мы избавились, так как это явно задвоение лога.\n",
    "\n",
    "Далее изучим датафрейм `user_source`, который содержит в себе информацию от том, с какого канала пришел пользователь."
   ]
  },
  {
   "cell_type": "code",
   "execution_count": 17,
   "metadata": {},
   "outputs": [
    {
     "data": {
      "text/plain": [
       "0"
      ]
     },
     "execution_count": 17,
     "metadata": {},
     "output_type": "execute_result"
    }
   ],
   "source": [
    "# Проверим на общие дубликаты\n",
    "user_source.duplicated().sum()"
   ]
  },
  {
   "cell_type": "code",
   "execution_count": 18,
   "metadata": {},
   "outputs": [
    {
     "data": {
      "text/plain": [
       "0"
      ]
     },
     "execution_count": 18,
     "metadata": {},
     "output_type": "execute_result"
    }
   ],
   "source": [
    "# Проверим не дублируется ли user_id, так как за пользователем должен закрепляться только первый источник перехода.\n",
    "user_source.duplicated('user_id').sum()"
   ]
  },
  {
   "cell_type": "markdown",
   "metadata": {},
   "source": [
    "В данных отображаются уникальные пользователи с первым источником перехода.\n",
    "\n",
    "Также изучим датафрейм `ad_costs`."
   ]
  },
  {
   "cell_type": "code",
   "execution_count": 19,
   "metadata": {},
   "outputs": [
    {
     "data": {
      "text/plain": [
       "0"
      ]
     },
     "execution_count": 19,
     "metadata": {},
     "output_type": "execute_result"
    }
   ],
   "source": [
    "ad_costs.duplicated().sum()"
   ]
  },
  {
   "cell_type": "markdown",
   "metadata": {},
   "source": [
    "Проверим датафреймы на наличие пропусков.Проверим датафрейм `game_actions`."
   ]
  },
  {
   "cell_type": "code",
   "execution_count": 20,
   "metadata": {},
   "outputs": [
    {
     "data": {
      "text/plain": [
       "event_datetime         0\n",
       "event                  0\n",
       "building_type       7683\n",
       "user_id                0\n",
       "project_type      133773\n",
       "dtype: int64"
      ]
     },
     "execution_count": 20,
     "metadata": {},
     "output_type": "execute_result"
    }
   ],
   "source": [
    "game_actions.isna().sum()"
   ]
  },
  {
   "cell_type": "markdown",
   "metadata": {},
   "source": [
    "Пропуски содержатся в столбцах `building_type` и `project_type`. Согласно условиям сбора логов, пропуски в `building_type` могут быть только при том условии, если `event` != `building`. Что касается пропусков в `project_type`, то тут пропуски могут буть тольеко при условии, что `event` != `project`. Проверим пропуски при этих условиях."
   ]
  },
  {
   "cell_type": "code",
   "execution_count": 21,
   "metadata": {},
   "outputs": [
    {
     "data": {
      "text/html": [
       "<div>\n",
       "<style scoped>\n",
       "    .dataframe tbody tr th:only-of-type {\n",
       "        vertical-align: middle;\n",
       "    }\n",
       "\n",
       "    .dataframe tbody tr th {\n",
       "        vertical-align: top;\n",
       "    }\n",
       "\n",
       "    .dataframe thead th {\n",
       "        text-align: right;\n",
       "    }\n",
       "</style>\n",
       "<table border=\"1\" class=\"dataframe\">\n",
       "  <thead>\n",
       "    <tr style=\"text-align: right;\">\n",
       "      <th></th>\n",
       "      <th>event_datetime</th>\n",
       "      <th>event</th>\n",
       "      <th>building_type</th>\n",
       "      <th>user_id</th>\n",
       "      <th>project_type</th>\n",
       "    </tr>\n",
       "  </thead>\n",
       "  <tbody>\n",
       "  </tbody>\n",
       "</table>\n",
       "</div>"
      ],
      "text/plain": [
       "Empty DataFrame\n",
       "Columns: [event_datetime, event, building_type, user_id, project_type]\n",
       "Index: []"
      ]
     },
     "execution_count": 21,
     "metadata": {},
     "output_type": "execute_result"
    }
   ],
   "source": [
    "game_actions.loc[(game_actions['event'] == 'building') & game_actions['building_type'].isna()]"
   ]
  },
  {
   "cell_type": "code",
   "execution_count": 22,
   "metadata": {},
   "outputs": [
    {
     "data": {
      "text/html": [
       "<div>\n",
       "<style scoped>\n",
       "    .dataframe tbody tr th:only-of-type {\n",
       "        vertical-align: middle;\n",
       "    }\n",
       "\n",
       "    .dataframe tbody tr th {\n",
       "        vertical-align: top;\n",
       "    }\n",
       "\n",
       "    .dataframe thead th {\n",
       "        text-align: right;\n",
       "    }\n",
       "</style>\n",
       "<table border=\"1\" class=\"dataframe\">\n",
       "  <thead>\n",
       "    <tr style=\"text-align: right;\">\n",
       "      <th></th>\n",
       "      <th>event_datetime</th>\n",
       "      <th>event</th>\n",
       "      <th>building_type</th>\n",
       "      <th>user_id</th>\n",
       "      <th>project_type</th>\n",
       "    </tr>\n",
       "  </thead>\n",
       "  <tbody>\n",
       "  </tbody>\n",
       "</table>\n",
       "</div>"
      ],
      "text/plain": [
       "Empty DataFrame\n",
       "Columns: [event_datetime, event, building_type, user_id, project_type]\n",
       "Index: []"
      ]
     },
     "execution_count": 22,
     "metadata": {},
     "output_type": "execute_result"
    }
   ],
   "source": [
    "game_actions.loc[(game_actions['event'] == 'project') & game_actions['project_type'].isna()]"
   ]
  },
  {
   "cell_type": "markdown",
   "metadata": {},
   "source": [
    "Все пропуски, которые содержатся в датафрейме `game_actions`, обусловлены только особенностью сбора логов, каких либо лишних пропусков не найдено. Также проверим оставшиеся данные на наличие пропусков."
   ]
  },
  {
   "cell_type": "code",
   "execution_count": 23,
   "metadata": {},
   "outputs": [
    {
     "data": {
      "text/plain": [
       "user_id    0\n",
       "source     0\n",
       "dtype: int64"
      ]
     },
     "execution_count": 23,
     "metadata": {},
     "output_type": "execute_result"
    }
   ],
   "source": [
    "user_source.isna().sum()"
   ]
  },
  {
   "cell_type": "code",
   "execution_count": 24,
   "metadata": {
    "scrolled": true
   },
   "outputs": [
    {
     "data": {
      "text/plain": [
       "source    0\n",
       "day       0\n",
       "cost      0\n",
       "dtype: int64"
      ]
     },
     "execution_count": 24,
     "metadata": {},
     "output_type": "execute_result"
    }
   ],
   "source": [
    "ad_costs.isna().sum()"
   ]
  },
  {
   "cell_type": "markdown",
   "metadata": {},
   "source": [
    "Пропусков в данных больше не замечено. "
   ]
  },
  {
   "cell_type": "markdown",
   "metadata": {},
   "source": [
    "Теперь проверим соответствие по количеству уникальных пользователей в датафреймах `game_actions` и `user_source`"
   ]
  },
  {
   "cell_type": "code",
   "execution_count": 25,
   "metadata": {},
   "outputs": [
    {
     "data": {
      "text/plain": [
       "13576"
      ]
     },
     "metadata": {},
     "output_type": "display_data"
    },
    {
     "data": {
      "text/plain": [
       "13576"
      ]
     },
     "metadata": {},
     "output_type": "display_data"
    }
   ],
   "source": [
    "display(game_actions['user_id'].nunique())\n",
    "display(user_source['user_id'].nunique())"
   ]
  },
  {
   "cell_type": "markdown",
   "metadata": {},
   "source": [
    "В данном разделе мы подробно изучили предоставленные нами данные. Привели столбцы к соответствующим типам данных. Также внимательно проверили на наличие дубликатов. Данные полностью предобработаны и готовы к исследовательскому анализу."
   ]
  },
  {
   "cell_type": "markdown",
   "metadata": {},
   "source": [
    "## Подготовка к исследовательскому анализу данных"
   ]
  },
  {
   "cell_type": "markdown",
   "metadata": {},
   "source": [
    "Для исследовательского анализа, нам понадобятся профили пользователей, в которых будет содержаться вся основная информация об игроке:\n",
    "- id пользователя\n",
    "- дата и время первого лога в игре\n",
    "- дата первого лога в игре\n",
    "- дата и время последнего лога в игре\n",
    "- длительность игры или прохождения уровня - дни и часы\n",
    "- длительность игры или прохождения уровня - дни\n",
    "- pve/pvp игрок (обязательное условие переход на следующий уровень) или LNC(level not completed)\n",
    "- количество событий\n",
    "- количество построенных зданий\n",
    "- источник перехода\n",
    "- стоимость привлечения"
   ]
  },
  {
   "cell_type": "code",
   "execution_count": 26,
   "metadata": {},
   "outputs": [
    {
     "data": {
      "text/html": [
       "<div>\n",
       "<style scoped>\n",
       "    .dataframe tbody tr th:only-of-type {\n",
       "        vertical-align: middle;\n",
       "    }\n",
       "\n",
       "    .dataframe tbody tr th {\n",
       "        vertical-align: top;\n",
       "    }\n",
       "\n",
       "    .dataframe thead th {\n",
       "        text-align: right;\n",
       "    }\n",
       "</style>\n",
       "<table border=\"1\" class=\"dataframe\">\n",
       "  <thead>\n",
       "    <tr style=\"text-align: right;\">\n",
       "      <th></th>\n",
       "      <th>user_id</th>\n",
       "      <th>first_event_datetime</th>\n",
       "      <th>first_date</th>\n",
       "      <th>last_event_datetime</th>\n",
       "      <th>game_duration_datetime</th>\n",
       "      <th>game_duration_date</th>\n",
       "      <th>lvl_finished</th>\n",
       "      <th>events_count</th>\n",
       "      <th>buildings_count</th>\n",
       "      <th>source</th>\n",
       "      <th>user_cost</th>\n",
       "    </tr>\n",
       "  </thead>\n",
       "  <tbody>\n",
       "    <tr>\n",
       "      <th>0</th>\n",
       "      <td>0001f83c-c6ac-4621-b7f0-8a28b283ac30</td>\n",
       "      <td>2020-05-06 01:07:37</td>\n",
       "      <td>2020-05-06</td>\n",
       "      <td>2020-05-20 11:26:06</td>\n",
       "      <td>14 days 10:18:29</td>\n",
       "      <td>14</td>\n",
       "      <td>LNC</td>\n",
       "      <td>13</td>\n",
       "      <td>13</td>\n",
       "      <td>facebook_ads</td>\n",
       "      <td>0.754162</td>\n",
       "    </tr>\n",
       "    <tr>\n",
       "      <th>1</th>\n",
       "      <td>01303c2e-7de1-4742-8c3e-daf182b67b9f</td>\n",
       "      <td>2020-05-06 07:05:11</td>\n",
       "      <td>2020-05-06</td>\n",
       "      <td>2020-05-08 22:30:49</td>\n",
       "      <td>2 days 15:25:38</td>\n",
       "      <td>2</td>\n",
       "      <td>LNC</td>\n",
       "      <td>4</td>\n",
       "      <td>4</td>\n",
       "      <td>facebook_ads</td>\n",
       "      <td>0.754162</td>\n",
       "    </tr>\n",
       "    <tr>\n",
       "      <th>2</th>\n",
       "      <td>0136963c-c45c-4edb-92d8-205bd50a4d36</td>\n",
       "      <td>2020-05-06 14:00:20</td>\n",
       "      <td>2020-05-06</td>\n",
       "      <td>2020-05-25 08:56:48</td>\n",
       "      <td>18 days 18:56:28</td>\n",
       "      <td>18</td>\n",
       "      <td>PVE</td>\n",
       "      <td>12</td>\n",
       "      <td>10</td>\n",
       "      <td>facebook_ads</td>\n",
       "      <td>0.754162</td>\n",
       "    </tr>\n",
       "    <tr>\n",
       "      <th>3</th>\n",
       "      <td>018793d6-38c8-450a-bd54-8c181d920f1a</td>\n",
       "      <td>2020-05-06 07:05:52</td>\n",
       "      <td>2020-05-06</td>\n",
       "      <td>2020-05-24 23:52:53</td>\n",
       "      <td>18 days 16:47:01</td>\n",
       "      <td>18</td>\n",
       "      <td>PVE</td>\n",
       "      <td>14</td>\n",
       "      <td>12</td>\n",
       "      <td>facebook_ads</td>\n",
       "      <td>0.754162</td>\n",
       "    </tr>\n",
       "    <tr>\n",
       "      <th>4</th>\n",
       "      <td>01e2b256-4519-493f-b010-4a90a2755245</td>\n",
       "      <td>2020-05-06 22:16:07</td>\n",
       "      <td>2020-05-06</td>\n",
       "      <td>2020-05-21 04:52:31</td>\n",
       "      <td>14 days 06:36:24</td>\n",
       "      <td>14</td>\n",
       "      <td>LNC</td>\n",
       "      <td>9</td>\n",
       "      <td>9</td>\n",
       "      <td>facebook_ads</td>\n",
       "      <td>0.754162</td>\n",
       "    </tr>\n",
       "  </tbody>\n",
       "</table>\n",
       "</div>"
      ],
      "text/plain": [
       "                                user_id first_event_datetime first_date  \\\n",
       "0  0001f83c-c6ac-4621-b7f0-8a28b283ac30  2020-05-06 01:07:37 2020-05-06   \n",
       "1  01303c2e-7de1-4742-8c3e-daf182b67b9f  2020-05-06 07:05:11 2020-05-06   \n",
       "2  0136963c-c45c-4edb-92d8-205bd50a4d36  2020-05-06 14:00:20 2020-05-06   \n",
       "3  018793d6-38c8-450a-bd54-8c181d920f1a  2020-05-06 07:05:52 2020-05-06   \n",
       "4  01e2b256-4519-493f-b010-4a90a2755245  2020-05-06 22:16:07 2020-05-06   \n",
       "\n",
       "  last_event_datetime game_duration_datetime  game_duration_date lvl_finished  \\\n",
       "0 2020-05-20 11:26:06       14 days 10:18:29                  14          LNC   \n",
       "1 2020-05-08 22:30:49        2 days 15:25:38                   2          LNC   \n",
       "2 2020-05-25 08:56:48       18 days 18:56:28                  18          PVE   \n",
       "3 2020-05-24 23:52:53       18 days 16:47:01                  18          PVE   \n",
       "4 2020-05-21 04:52:31       14 days 06:36:24                  14          LNC   \n",
       "\n",
       "   events_count  buildings_count        source  user_cost  \n",
       "0            13               13  facebook_ads   0.754162  \n",
       "1             4                4  facebook_ads   0.754162  \n",
       "2            12               10  facebook_ads   0.754162  \n",
       "3            14               12  facebook_ads   0.754162  \n",
       "4             9                9  facebook_ads   0.754162  "
      ]
     },
     "execution_count": 26,
     "metadata": {},
     "output_type": "execute_result"
    }
   ],
   "source": [
    "# Перейдем к подготовке датафрейма users, где будет содержаться вся основная информация о пользователе.\n",
    "users = (\n",
    "    game_actions.sort_values(by=['user_id', 'event_datetime'])\n",
    "    .groupby('user_id')\n",
    "    .agg(\n",
    "        {'event_datetime':['first','last'],\n",
    "         'event':'count',\n",
    "         'building_type':'count',\n",
    "         'project_type':'nunique'}\n",
    "    \n",
    "    )\n",
    ").reset_index()\n",
    "\n",
    "# Переиминуем название столбцов\n",
    "users.columns = ['user_id', 'first_event_datetime', 'last_event_datetime', 'events_count', 'buildings_count', 'project_info' ]\n",
    "\n",
    "# Добавим столбец с продолжительностью игры пользователя\n",
    "# За окончание возьмем последний лог в игре, что будет равняться либо переходу на новый уровень, либо прекращением игры\n",
    "users['game_duration_datetime'] = (users['last_event_datetime'] - users['first_event_datetime'])\n",
    "users['game_duration_date'] = (\n",
    "    (users['last_event_datetime'] - users['first_event_datetime']) / np.timedelta64 ( 1 , 'D')\n",
    ").astype('int')\n",
    "\n",
    "# Найдем пользователей, которые завершили уровень и сохраним в виде списка\n",
    "fin_users = game_actions.query('event == \"finished_stage_1\"')['user_id'].to_list()\n",
    "\n",
    "# Создадим функцию, которая пройдется по строчкам датафрема и разделит пользователей на 3 категории\n",
    "def fin_cat(df):\n",
    "    if df['user_id'] in fin_users:\n",
    "        if df['project_info'] == 1:\n",
    "            return \"PVE\"\n",
    "        else:\n",
    "            return 'PVP'\n",
    "    else:\n",
    "        return 'LNC' # LNC - level not completed\n",
    "    \n",
    "users['lvl_finished'] = users.apply(fin_cat, axis=1)\n",
    "\n",
    "# Теперь добавим источник данных\n",
    "users = users.merge(user_source, on='user_id')\n",
    "\n",
    "# Добавим затраты на пользователя\n",
    "# Для начала приведем столбец firs_date к дате без времени\n",
    "users['first_date'] = users['first_event_datetime'].dt.date.astype('datetime64[D]')\n",
    "\n",
    "user_cost = (\n",
    "    users\n",
    "    .pivot_table(index=['first_date', 'source'], values='user_id', aggfunc='count')\n",
    "    .sort_values(by=['source', 'first_date'])\n",
    "    .reset_index()\n",
    ")\n",
    "\n",
    "user_cost = user_cost.merge(ad_costs, left_on=['first_date', 'source'], right_on=['day', 'source'])\n",
    "\n",
    "user_cost['user_cost'] = user_cost['cost'] / user_cost['user_id']\n",
    "\n",
    "user_cost = user_cost.drop(columns=['user_id', 'day', 'cost']) # Снесем лишние столбцы\n",
    "\n",
    "users = users.merge(user_cost, left_on=['first_date', 'source'], right_on=['first_date', 'source'])\n",
    "\n",
    "# Приведем датафрейм в порядок удалив ненужные столбцы и преместив для удобства\n",
    "users = users.drop(columns='project_info')\n",
    "\n",
    "users = users[\n",
    "    [\n",
    "        'user_id', 'first_event_datetime', 'first_date', 'last_event_datetime',\n",
    "        'game_duration_datetime', 'game_duration_date', 'lvl_finished','events_count',\n",
    "        'buildings_count', 'source', 'user_cost'\n",
    "    ]\n",
    "]\n",
    "\n",
    "users.head()"
   ]
  },
  {
   "cell_type": "markdown",
   "metadata": {},
   "source": [
    "Мы получили таблицу, которая содержит всю основную информацию о пользователе."
   ]
  },
  {
   "cell_type": "markdown",
   "metadata": {},
   "source": [
    "## Исследовательский анализ данных"
   ]
  },
  {
   "cell_type": "markdown",
   "metadata": {},
   "source": [
    "Главная цель данного проекта - проанализровать поведение игроков в зависимости от источника перехода. \n",
    "\n",
    "Для начала рассмотрим, как распределены игроки в зависимости от канала привлечения."
   ]
  },
  {
   "cell_type": "code",
   "execution_count": 27,
   "metadata": {},
   "outputs": [
    {
     "data": {
      "image/png": "[encoded data removed]",
      "text/plain": [
       "<Figure size 1080x360 with 1 Axes>"
      ]
     },
     "metadata": {
      "needs_background": "light"
     },
     "output_type": "display_data"
    }
   ],
   "source": [
    "# Создадим временную таблицу и на ее основании построим граффик распредеоения позьзователей по канала привлечения\n",
    "temp = users.groupby('source').agg({'user_id':'count'}).reset_index().sort_values(by='user_id', ascending=False)\n",
    "\n",
    "plt.figure(figsize=(15, 5))\n",
    "\n",
    "with plt.style.context('seaborn-notebook'):\n",
    "    sns.barplot(\n",
    "        x='user_id', \n",
    "        y='source', \n",
    "        data=users.groupby('source').agg({'user_id':'count'}).reset_index().sort_values(by='user_id', ascending=False), \n",
    "        palette='mako')\n",
    "\n",
    "plt.title('Количество пользователей привлеченных рекламными источниками', weight='bold', size=15)\n",
    "plt.xlabel('Количество пользователей')\n",
    "plt.ylabel('')\n",
    "plt.show()"
   ]
  },
  {
   "cell_type": "markdown",
   "metadata": {},
   "source": [
    "Больше всего пользователей пришло с рекламного канала `yandex_direct`, что может быть обусловлено либо затраченным бюджетом на данный рекламный канал, либо меньшей стоимостью привлечения пользователя. Меньше всего пользователей пришло с источника `youtube_channel_reklama`. Взглянем на общие затраты на маркетинг и в разрезе по каналам"
   ]
  },
  {
   "cell_type": "code",
   "execution_count": 28,
   "metadata": {},
   "outputs": [
    {
     "data": {
      "image/png": "[encoded data removed]",
      "text/plain": [
       "<Figure size 1080x360 with 1 Axes>"
      ]
     },
     "metadata": {
      "needs_background": "light"
     },
     "output_type": "display_data"
    }
   ],
   "source": [
    "plt.figure(figsize=(15, 5))\n",
    "with plt.style.context('seaborn-notebook'):\n",
    "    sns.barplot(\n",
    "        x='cost', \n",
    "        y='source', \n",
    "        data=ad_costs.groupby('source').agg({'cost':'sum'}).sort_values(by='cost', ascending=False).reset_index(), \n",
    "        palette='mako')\n",
    "plt.title('Общие затраты на привлечение пользователей', weight='bold', size=15)\n",
    "plt.xlabel('Затраты в у.е.')\n",
    "plt.ylabel('')\n",
    "plt.show()"
   ]
  },
  {
   "cell_type": "markdown",
   "metadata": {},
   "source": [
    "Количество привлеченных пользователей сопоставимо с затратами на их привлечение, однако у площадок `instagram` и `facebook`, затраты на привлечение превышают количество привлеченных пользователей. Для определения самого выгодного канала с точки зрения затрат на привлечение пользователей, рассмотрим CAC в разбивке по рекламным источникам и дням."
   ]
  },
  {
   "cell_type": "code",
   "execution_count": 29,
   "metadata": {},
   "outputs": [
    {
     "data": {
      "image/png": "[encoded data removed]",
      "text/plain": [
       "<Figure size 1080x360 with 1 Axes>"
      ]
     },
     "metadata": {
      "needs_background": "light"
     },
     "output_type": "display_data"
    }
   ],
   "source": [
    "# Создадим временную таблицу и изменим тип данных для корректного отображения на графике\n",
    "temp = users.groupby(['first_date', 'source']).agg({'user_cost':'mean'}).reset_index()\n",
    "temp['first_date'] = pd.to_datetime(temp['first_date']).dt.date\n",
    "\n",
    "plt.figure(figsize=(15, 5))\n",
    "with plt.style.context('seaborn-notebook'):\n",
    "    ax = sns.barplot(\n",
    "        y='user_cost', \n",
    "        x='first_date', \n",
    "        hue='source', \n",
    "        data=temp, \n",
    "        palette='mako'\n",
    "    )\n",
    "plt.title('Стоимость привлечения пользователя', weight='bold', size=15)\n",
    "plt.ylabel('CAC')\n",
    "plt.xlabel('Дата')\n",
    "plt.legend(title=\"Рекламный источник\")\n",
    "\n",
    "plt.show()"
   ]
  },
  {
   "cell_type": "markdown",
   "metadata": {},
   "source": [
    "За рассматриваемый период стоимость пользователя не сильно меняется, поэтому рассмотрим общий показатель CAC.\n"
   ]
  },
  {
   "cell_type": "code",
   "execution_count": 30,
   "metadata": {},
   "outputs": [
    {
     "data": {
      "image/png": "[encoded data removed]",
      "text/plain": [
       "<Figure size 1080x360 with 1 Axes>"
      ]
     },
     "metadata": {
      "needs_background": "light"
     },
     "output_type": "display_data"
    }
   ],
   "source": [
    "# Создадим временную таблицу и изменим тип данных для корректного отображения на графике\n",
    "temp = users.groupby('source').agg({'user_cost':'mean'}).reset_index()\n",
    "\n",
    "\n",
    "plt.figure(figsize=(15, 5))\n",
    "with plt.style.context('seaborn-notebook'):\n",
    "    ax = sns.barplot(\n",
    "        y='user_cost', \n",
    "        x='source', \n",
    "        data=temp, \n",
    "        palette='mako'\n",
    "    )\n",
    "plt.title('Стоимость привлечения пользователя', weight='bold', size=15)\n",
    "plt.ylabel('CAC')\n",
    "plt.xlabel('')\n",
    "\n",
    "\n",
    "plt.show()"
   ]
  },
  {
   "cell_type": "markdown",
   "metadata": {},
   "source": [
    "Самыми затратными каналами оказались `facebook` и `instagram`, где стоимость пользователя превышает 0,6 у.е., на протяжении всего рассмтриваемого периода. Самым выгодным каналом, с точки зрения маркетинга оказался `youtube`, где CAC в среднем составляет 0,4 у.е. Однако не только стоимость является ключевой метрикой для оценки эффективности рекламного канала. Рассмотрим качество траффика, в нашем случае пользователей, которые пришли с исследуемых источников.\n",
    "\n",
    "Для начала рассмотрим в целом какой процент пользователей прошли первый уровень."
   ]
  },
  {
   "cell_type": "code",
   "execution_count": 31,
   "metadata": {
    "scrolled": false
   },
   "outputs": [
    {
     "data": {
      "image/png": "[encoded data removed]",
      "text/plain": [
       "<Figure size 720x720 with 1 Axes>"
      ]
     },
     "metadata": {},
     "output_type": "display_data"
    }
   ],
   "source": [
    "t = users.groupby('lvl_finished').agg({'user_id':'count'}).reset_index()\n",
    "\n",
    "plt.figure(figsize=(10, 10))\n",
    "colors = sns.color_palette('crest')\n",
    "\n",
    "plt.pie(t['user_id'], labels=t['lvl_finished'], colors = colors, autopct='%.0f%%')\n",
    "plt.title('Доля игроков завершивших и незавершивших уровень', weight='bold', size=15)\n",
    "plt.show()"
   ]
  },
  {
   "cell_type": "markdown",
   "metadata": {},
   "source": [
    "Исходя из полученной диаграммы, видно что меньше половины привлеченных пользователей прошли 1 уровень. Из тех что прошли, 14% завершили уровень с помощью изучения проекта (PVE), а 29% путем победы противника. Теперь рассмотрим распределение пользователей в разрезе по прохождению уровня в разбивке по источником привлечения."
   ]
  },
  {
   "cell_type": "code",
   "execution_count": 32,
   "metadata": {},
   "outputs": [
    {
     "data": {
      "image/png": "[encoded data removed]",
      "text/plain": [
       "<Figure size 1080x720 with 1 Axes>"
      ]
     },
     "metadata": {
      "needs_background": "light"
     },
     "output_type": "display_data"
    }
   ],
   "source": [
    "# Создадим временную таблицу и изменим тип данных для корректного отображения на графике\n",
    "temp = users.groupby(['source', 'lvl_finished']).agg({'user_id':'count'}).sort_values('user_id', ascending=False).reset_index()\n",
    "\n",
    "\n",
    "plt.figure(figsize=(15, 10))\n",
    "with plt.style.context('seaborn-notebook'):\n",
    "    ax = sns.barplot(\n",
    "        y='user_id', \n",
    "        x='source', \n",
    "        hue='lvl_finished', \n",
    "        data=temp, \n",
    "        palette='mako'\n",
    "    )\n",
    "plt.title('Количество пользователей завершивших и не завершивших уровень', weight='bold', size=15)\n",
    "plt.ylabel('Количество пользователей')\n",
    "plt.xlabel('')\n",
    "\n",
    "plt.legend(title=\"Тип игрока\")\n",
    "plt.show()"
   ]
  },
  {
   "cell_type": "markdown",
   "metadata": {},
   "source": [
    "Больше всего пользователей не завершивших уровень у канала `yandex`, но также чтоит отметить, что у данного источника больше всего приведенных пользователей, следовательно рассматривать данные значения в абсолютных велечинах неккоректно. Посмотрим долю игроков, которые не завершили уровень в разбивке по каналам."
   ]
  },
  {
   "cell_type": "code",
   "execution_count": 33,
   "metadata": {},
   "outputs": [
    {
     "data": {
      "image/png": "[encoded data removed]",
      "text/plain": [
       "<Figure size 1440x864 with 4 Axes>"
      ]
     },
     "metadata": {},
     "output_type": "display_data"
    }
   ],
   "source": [
    "# Создадим временную таблицу и сделаем срез по каждому источнику\n",
    "t = users.groupby(['source', 'lvl_finished']).agg({'user_id':'count'}).sort_values('user_id', ascending=False).reset_index()\n",
    "t1 = t.query('source == \"yandex_direct\"')\n",
    "t2 = t.query('source == \"instagram_new_adverts\"')\n",
    "t3 = t.query('source == \"facebook_ads\"')\n",
    "t4 = t.query('source == \"youtube_channel_reklama\"')\n",
    "\n",
    "plt.figure(figsize=(20, 12))\n",
    "plt.subplot(2, 2, 1)\n",
    "colors = sns.color_palette('crest')\n",
    "plt.pie(t1['user_id'], labels=t1['lvl_finished'], colors = colors, autopct='%.0f%%')\n",
    "plt.title('yandex_direct')\n",
    "\n",
    "plt.subplot(2, 2, 2)\n",
    "colors = sns.color_palette('crest')\n",
    "plt.pie(t2['user_id'], labels=t2['lvl_finished'], colors = colors, autopct='%.0f%%')\n",
    "plt.title('instagram_new_adverts')\n",
    "\n",
    "plt.subplot(2, 2, 3)\n",
    "colors = sns.color_palette('crest')\n",
    "plt.pie(t3['user_id'], labels=t3['lvl_finished'], colors = colors, autopct='%.0f%%')\n",
    "plt.title('facebook_ads')\n",
    "\n",
    "plt.subplot(2, 2, 4)\n",
    "colors = sns.color_palette('crest')\n",
    "plt.pie(t4['user_id'], labels=t4['lvl_finished'], colors = colors, autopct='%.0f%%')\n",
    "plt.title('youtube_channel_reklama')\n",
    "\n",
    "plt.suptitle(\"Доля игроков завершивших и незавершивших уровень в разбивке по каналам\", weight='bold', size=15)\n",
    "plt.show()"
   ]
  },
  {
   "cell_type": "markdown",
   "metadata": {},
   "source": [
    "Исходя из полученных диаграмм, видно что процент игроков, которые не завершили уровень примерно одинаковый и варьируется в диапазоне от 56% до 58%. Также можно обратить внимание на то, что процент PVE и PVP пользователей, также примерно одинаковый, и максимальная разница между каналами по типу завершения составляет 2 п.п. Следовательно из источников приходит примерно одинаковая аудитория.\n",
    "\n",
    "Рассмотрим среднее количество зданий построенных пользователем в разрезе по источнику перехода."
   ]
  },
  {
   "cell_type": "code",
   "execution_count": 34,
   "metadata": {},
   "outputs": [
    {
     "data": {
      "image/png": "[encoded data removed]",
      "text/plain": [
       "<Figure size 1080x504 with 1 Axes>"
      ]
     },
     "metadata": {
      "needs_background": "light"
     },
     "output_type": "display_data"
    }
   ],
   "source": [
    "# Создадим временную таблицу и изменим тип данных для корректного отображения на графике\n",
    "temp = (\n",
    "    users.groupby(['source', 'lvl_finished'])\n",
    "    .agg({'buildings_count':'median'})\n",
    "    .sort_values('buildings_count', ascending=False)\n",
    "    .reset_index()\n",
    ")\n",
    "\n",
    "\n",
    "plt.figure(figsize=(15, 7))\n",
    "with plt.style.context('seaborn-notebook'):\n",
    "    ax = sns.barplot(\n",
    "        y='buildings_count', \n",
    "        x='source', \n",
    "        hue='lvl_finished', \n",
    "        data=temp, \n",
    "        palette='mako'\n",
    "    )\n",
    "plt.title('Медианное количество построенных зданий', weight='bold', size=15)\n",
    "plt.ylabel('Количество построенных зданий')\n",
    "plt.xlabel('')\n",
    "\n",
    "plt.legend(title=\"Тип игрока\", loc='upper right')\n",
    "plt.show()"
   ]
  },
  {
   "cell_type": "markdown",
   "metadata": {},
   "source": [
    "Количество построенных зданий зависит непосредственно от стиля прохождения игры пользователем. В случае если игрок выбирает путь строителя (PVE), то на него приходится в среднем 12 построек для прохождения уровня, если же пользователь решает пройти уровень с помощью победы над другим игроком, то ему достаточно 10 построек. Рассматривать пользователей, которые не прошли уровень нет смысла, так как количесвто построенных зданий зависит только от времени проведенной в игре, перед тем как прекратить в нее играть.\n",
    "\n",
    "Рассмотриим среднее количество дней, которое понадобилось игрокам на прохождение первого уровня в зависимости от стиля игры и источника привлечения."
   ]
  },
  {
   "cell_type": "code",
   "execution_count": 35,
   "metadata": {},
   "outputs": [
    {
     "data": {
      "image/png": "[encoded data removed]",
      "text/plain": [
       "<Figure size 1080x504 with 1 Axes>"
      ]
     },
     "metadata": {
      "needs_background": "light"
     },
     "output_type": "display_data"
    }
   ],
   "source": [
    "plt.figure(figsize=(15, 7))\n",
    "with plt.style.context('seaborn-notebook'):\n",
    "    ax = sns.barplot(\n",
    "        y='game_duration_date', \n",
    "        x='source', \n",
    "        hue='lvl_finished', \n",
    "        data=users, \n",
    "        palette='mako'\n",
    "    )\n",
    "plt.title('Время нахождения пользователей в игре в зависимости от типа игрока и источника привлечения', weight='bold', size=15)\n",
    "plt.ylabel('Количество дней')\n",
    "plt.xlabel('')\n",
    "\n",
    "plt.legend(title=\"Тип игрока\", loc='upper right')\n",
    "plt.show()"
   ]
  },
  {
   "cell_type": "markdown",
   "metadata": {},
   "source": [
    "Исходя из графика нахождение пользователя в игре напрямую зависит от типа прохождения уровня и никак не зависит от источника перехода. PVE игрокам в среднем необходимо 13 дней на прохождение уровня, а PVP пользователи проходят уровень в среднем за 10-11 дней. Игроки которые не проходят уровень, в среднем находятся в игре чуть более 9 дней."
   ]
  },
  {
   "cell_type": "markdown",
   "metadata": {},
   "source": [
    "После проведенного исследовательского анализа можно сделать следующие выводы:\n",
    "- Самый дорогой канал, если рассматривать с точки зрения затрат на привлечения пользователя, является `facebook`, а свмым недорогим - `youtube`\n",
    "- Соотношение игроков не завершивших уровень и завершивших разными способами, у всех источников привлечения примерно одинаковый\n",
    "- Среднее количество построенных зданий зависит только от стиля прохождения игры пользователя, так как в разбивке по источникам это количество одинаковое\n",
    "- В среднем на прохождение уровня тратится от 10 до 13 дней в зависимости от стиля игры и никак не зависит от источника привлечения\n",
    "\n",
    "Из всех источников канала приходит примерно одинаковая аудитория, разница между каналами, только в стоимости привлечения пользователя. В нашем случае самым недорогим каналом является `youtube`, где CAC составляет приблезительно 0.4 у.е., а самым дорогим каналом является `facebook`, где стоимость достигает 0.79 у.е."
   ]
  },
  {
   "cell_type": "markdown",
   "metadata": {},
   "source": [
    "## Проверка статистических гипотез"
   ]
  },
  {
   "cell_type": "markdown",
   "metadata": {},
   "source": [
    "Проверим гипотезу о том, что время завершения уровня различается в зависимости способа прохождения.\n",
    "\n",
    "Получим время завершения уровня для каждого из способов прохождения - PVE и PVP. Для проверки гипотезы будем использовать `ttest` для проверки гипотезы о равенстве среднего двух генеральных совокупностей по взятым из них выборкам. Сфорумулируем гипотезы. \n",
    "\n",
    "```\n",
    "H_0: Время завершения уровня PVP и PVE пользователями равно\n",
    "H_a: Время завершения уровня PVP и PVE пользователями различается\n",
    "```"
   ]
  },
  {
   "cell_type": "code",
   "execution_count": 36,
   "metadata": {},
   "outputs": [
    {
     "name": "stdout",
     "output_type": "stream",
     "text": [
      "2.6237027268065705e-106\n",
      "Отвергаем нулевую гипотезу\n"
     ]
    }
   ],
   "source": [
    "# Так как у нас нет оснований думать, что дисперсии генеральных совокупностей равны, то параметр equal_var укажем как False.\n",
    "results = st.ttest_ind(\n",
    "    users.query('lvl_finished == \"PVP\"')['game_duration_date'],\n",
    "    users.query('lvl_finished == \"PVE\"')['game_duration_date'],\n",
    "    equal_var = False)\n",
    "\n",
    "# alpha возьмем равным 0.05\n",
    "alpha = .05\n",
    "\n",
    "print(results.pvalue)\n",
    "if results.pvalue < alpha:\n",
    "    print(\"Отвергаем нулевую гипотезу\")\n",
    "else:\n",
    "    print(\"Не получилось отвергнуть нулевую гипотезу\") \n"
   ]
  },
  {
   "cell_type": "markdown",
   "metadata": {},
   "source": [
    "У нас не получилось потвердить нулевую гипотезу. Следовательно можно предположить, что время заверешения уровня PVP и PVE пользователей различается"
   ]
  },
  {
   "cell_type": "markdown",
   "metadata": {},
   "source": [
    "Проверим следующую гипотезу, что количество построенных зданий отличается в зависимости от канала привлечения (для проверки гипотезы в расчет будем брать только PVE пользователей). Сравним между собой все источники. Сфорумулируем гипотезы. \n",
    "\n",
    "```\n",
    "H_0: Количество построенных зданий PVE пользователей у сравниваемых источников привлечения равны\n",
    "H_a: Количество построенных зданий PVE пользователей у сравниваемых источников привлечения различается\n",
    "```"
   ]
  },
  {
   "cell_type": "code",
   "execution_count": 37,
   "metadata": {},
   "outputs": [],
   "source": [
    "# Для удобства завернем все в функцию\n",
    "def ttest(ad1, ad2):\n",
    "\n",
    "# Так как у нас нет оснований думать, что дисперсии генеральных совокупностей равны, то параметр equal_var укажем как False.\n",
    "    results = st.ttest_ind(\n",
    "        users.query('source == @ad1 & lvl_finished == \"PVE\"')['buildings_count'],\n",
    "        users.query('source == @ad2 & lvl_finished == \"PVE\"')['buildings_count'],\n",
    "        equal_var = False)\n",
    "\n",
    "# alpha возьмем равным 0.05\n",
    "    alpha = .05\n",
    "\n",
    "    print('Значение pvalue равно {}'.format(results.pvalue))\n",
    "    if results.pvalue < alpha:\n",
    "        print(\"Отвергаем нулевую гипотезу\")\n",
    "        print(\n",
    "            'Можно предположить, что количество построенных зданий PVE игроков у источников привлечения {} и {} различаются'\n",
    "            .format(ad1, ad2)\n",
    "        )\n",
    "    else:\n",
    "        print(\"Не получилось отвергнуть нулевую гипотезу\")\n",
    "        print(\n",
    "            'Можно предположить, что количество построенных зданий PVE игроков у источников привлечения {} и {} равны'\n",
    "            .format(ad1, ad2)\n",
    "        )"
   ]
  },
  {
   "cell_type": "code",
   "execution_count": 38,
   "metadata": {},
   "outputs": [
    {
     "name": "stdout",
     "output_type": "stream",
     "text": [
      "Значение pvalue равно 0.6993606879754357\n",
      "Не получилось отвергнуть нулевую гипотезу\n",
      "Можно предположить, что количество построенных зданий PVE игроков у источников привлечения facebook_ads и yandex_direct равны\n",
      "-----------------------------------------------------------------------------------------------------------------------\n",
      "Значение pvalue равно 0.736602207010302\n",
      "Не получилось отвергнуть нулевую гипотезу\n",
      "Можно предположить, что количество построенных зданий PVE игроков у источников привлечения facebook_ads и youtube_channel_reklama равны\n",
      "-----------------------------------------------------------------------------------------------------------------------\n",
      "Значение pvalue равно 0.46959467588687265\n",
      "Не получилось отвергнуть нулевую гипотезу\n",
      "Можно предположить, что количество построенных зданий PVE игроков у источников привлечения facebook_ads и instagram_new_adverts равны\n",
      "-----------------------------------------------------------------------------------------------------------------------\n",
      "Значение pvalue равно 0.9935831326070662\n",
      "Не получилось отвергнуть нулевую гипотезу\n",
      "Можно предположить, что количество построенных зданий PVE игроков у источников привлечения yandex_direct и youtube_channel_reklama равны\n",
      "-----------------------------------------------------------------------------------------------------------------------\n",
      "Значение pvalue равно 0.21531515596066708\n",
      "Не получилось отвергнуть нулевую гипотезу\n",
      "Можно предположить, что количество построенных зданий PVE игроков у источников привлечения yandex_direct и instagram_new_adverts равны\n",
      "-----------------------------------------------------------------------------------------------------------------------\n",
      "Значение pvalue равно 0.2824075602909223\n",
      "Не получилось отвергнуть нулевую гипотезу\n",
      "Можно предположить, что количество построенных зданий PVE игроков у источников привлечения youtube_channel_reklama и instagram_new_adverts равны\n",
      "-----------------------------------------------------------------------------------------------------------------------\n"
     ]
    }
   ],
   "source": [
    "# С помощью функции проверим все источники между собой\n",
    "ttest(\"facebook_ads\", \"yandex_direct\")\n",
    "print('-----------------------------------------------------------------------------------------------------------------------')\n",
    "ttest(\"facebook_ads\", \"youtube_channel_reklama\")\n",
    "print('-----------------------------------------------------------------------------------------------------------------------')\n",
    "ttest(\"facebook_ads\", \"instagram_new_adverts\")\n",
    "print('-----------------------------------------------------------------------------------------------------------------------')\n",
    "ttest(\"yandex_direct\", \"youtube_channel_reklama\")\n",
    "print('-----------------------------------------------------------------------------------------------------------------------')\n",
    "ttest(\"yandex_direct\", \"instagram_new_adverts\")\n",
    "print('-----------------------------------------------------------------------------------------------------------------------')\n",
    "ttest(\"youtube_channel_reklama\", \"instagram_new_adverts\")\n",
    "print('-----------------------------------------------------------------------------------------------------------------------')"
   ]
  },
  {
   "cell_type": "markdown",
   "metadata": {},
   "source": [
    "По результатам статистического теста мы не можем отвергнуть нулевую гипотезу о равенстве построенных зданий PVE игроков между источиками привлечения. Следовательно, можно считать, что все PVE игроки, не зависимо от источника привлечения, строят одинаковое количесвто зданий."
   ]
  },
  {
   "cell_type": "markdown",
   "metadata": {},
   "source": [
    "## Предложение по монетизации"
   ]
  },
  {
   "cell_type": "markdown",
   "metadata": {},
   "source": [
    "Так как заказчик планирует размещать рекламу в меню выбора постройки, то еще раз рассмотрим количество затрат на рекламу, а также количество построенных пользователями объектов."
   ]
  },
  {
   "cell_type": "code",
   "execution_count": 39,
   "metadata": {},
   "outputs": [
    {
     "name": "stdout",
     "output_type": "stream",
     "text": [
      "Количество затрат на рекламу составило 7603.58 y.e\n"
     ]
    }
   ],
   "source": [
    "print('Количество затрат на рекламу составило {:.2F} y.e'.format(ad_costs['cost'].sum()))"
   ]
  },
  {
   "cell_type": "code",
   "execution_count": 40,
   "metadata": {},
   "outputs": [
    {
     "name": "stdout",
     "output_type": "stream",
     "text": [
      "Количество построенных объектов пользователями 127956.00\n"
     ]
    }
   ],
   "source": [
    "print('Количество построенных объектов пользователями {:.2F}'.format(game_actions['building_type'].count()))"
   ]
  },
  {
   "cell_type": "markdown",
   "metadata": {},
   "source": [
    "Чтобы окупить рекламные затраты, стоимость рекламного объявления во время выбора постройки должна стоить:"
   ]
  },
  {
   "cell_type": "code",
   "execution_count": 41,
   "metadata": {},
   "outputs": [
    {
     "name": "stdout",
     "output_type": "stream",
     "text": [
      "Рекомендованная стоимость показа 1 рекламного объявления на экране выбора постройки 0.06 y.e\n"
     ]
    }
   ],
   "source": [
    "print(\n",
    "    'Рекомендованная стоимость показа 1 рекламного объявления на экране выбора постройки {:.2F} y.e'\n",
    "    .format(ad_costs['cost'].sum() / game_actions['building_type'].count())\n",
    ")"
   ]
  },
  {
   "cell_type": "markdown",
   "metadata": {},
   "source": [
    "В данном случае, при стоимости 1 рекламного объявления 0.06 у.е., предполагаемая модель монетизации позволить окупить затраты на рекламные кампании. Следовательно для получения прибыли, стоимость рекламного объявления необходимо повысить.\n",
    "\n",
    "Также надо учитывать, что любая монетизация игры, несет за собой негатив со стороны игроков. Возможно стоить рассмотреть вариант с ускорением постройки за просмотр рекламы, что должно позитивно сказаться на игроках. Кампания заработает на рекламе, а игрок сократит время постройки.\n",
    "\n",
    "На этапе исследовательского анализа данных мы выяснили, что лишь 14% из всех числа пользователей проходят уровень посредством постройки зданий и изучения проекта. На этих пользователей приходится большая часть построенных зданий. Для увеличения прибыли за счет монетизации следует увеличить долю игроков, которые проходят уровень таким способом, может за счет заданий, за которые игроки смогут покупать бустеры, или поощрений за количество построек."
   ]
  },
  {
   "cell_type": "markdown",
   "metadata": {},
   "source": [
    "Ранее мы выяснили, что рекламные источники приводят практически одинаковую аудиторию, следовательно. единственный вариант, за счет чего возможно варьировать стоимость рекламы и увеличить прибыль - это показатель CAC, так как чем меньше затрыта, тем больше прибыль.\n",
    " Еще раз взглянем на показател CAC в разбивке по источникам привлечения."
   ]
  },
  {
   "cell_type": "code",
   "execution_count": 43,
   "metadata": {},
   "outputs": [
    {
     "data": {
      "text/html": [
       "<div>\n",
       "<style scoped>\n",
       "    .dataframe tbody tr th:only-of-type {\n",
       "        vertical-align: middle;\n",
       "    }\n",
       "\n",
       "    .dataframe tbody tr th {\n",
       "        vertical-align: top;\n",
       "    }\n",
       "\n",
       "    .dataframe thead th {\n",
       "        text-align: right;\n",
       "    }\n",
       "</style>\n",
       "<table border=\"1\" class=\"dataframe\">\n",
       "  <thead>\n",
       "    <tr style=\"text-align: right;\">\n",
       "      <th></th>\n",
       "      <th>source</th>\n",
       "      <th>user_cost</th>\n",
       "    </tr>\n",
       "  </thead>\n",
       "  <tbody>\n",
       "    <tr>\n",
       "      <th>0</th>\n",
       "      <td>facebook_ads</td>\n",
       "      <td>0.785365</td>\n",
       "    </tr>\n",
       "    <tr>\n",
       "      <th>1</th>\n",
       "      <td>instagram_new_adverts</td>\n",
       "      <td>0.645785</td>\n",
       "    </tr>\n",
       "    <tr>\n",
       "      <th>2</th>\n",
       "      <td>yandex_direct</td>\n",
       "      <td>0.463590</td>\n",
       "    </tr>\n",
       "    <tr>\n",
       "      <th>3</th>\n",
       "      <td>youtube_channel_reklama</td>\n",
       "      <td>0.397662</td>\n",
       "    </tr>\n",
       "  </tbody>\n",
       "</table>\n",
       "</div>"
      ],
      "text/plain": [
       "                    source  user_cost\n",
       "0             facebook_ads   0.785365\n",
       "1    instagram_new_adverts   0.645785\n",
       "2            yandex_direct   0.463590\n",
       "3  youtube_channel_reklama   0.397662"
      ]
     },
     "execution_count": 43,
     "metadata": {},
     "output_type": "execute_result"
    }
   ],
   "source": [
    "users.groupby('source').agg({'user_cost':'mean'}).reset_index()"
   ]
  },
  {
   "cell_type": "markdown",
   "metadata": {},
   "source": [
    "Самые низкие затраты на привлечение пользователей у рекламного канала `youtube_channel_reklama`. При этом на данный канал выделенно меньше всего бюджета. Возможено стоит пересмотреть сплит бюджета между площадками, при условии, что траффик индетичен."
   ]
  },
  {
   "cell_type": "markdown",
   "metadata": {},
   "source": [
    "## Выводы и рекомендации"
   ]
  },
  {
   "cell_type": "markdown",
   "metadata": {},
   "source": [
    "В ходе работы был проведен исследовательский анализ данных о дейтсвиях пользователей в игре \"Космические братья\". Перед нами стояла задача проанализировать действия игроков в зависимости от источника привлечения. Для анализа нам были предоставлены данные о действиях пользователей в игре, а также данные о рекламных активностях. Благодаря проделанной работе, нам удалось выяснить, что:\n",
    "- Больше всего пользователей пришло с рекламного канала `yandex_direct`, что сопоставимо с затраченным бюджетом\n",
    "- Самыми затратными каналами оказались `facebook` и `instagram`, где стоимость привлечения пользователя превышает 0,6 у.е., на протяжении всего рассмтриваемого периода. Самым выгодным каналом, с точки зрения маркетинга оказался `youtube`, где CAC в среднем составляет 0,4 у.е. \n",
    "- Доля игроков, которые не завершили уровень, примерно одинаковая у всех источников привлечения и варьируется в диапазоне от 56% до 58%. Процент PVE и PVP пользователей, также примерно одинаковый, и максимальная разница между каналами по типу завершения составляет 2 п.п.\n",
    "- Количество построенных зданий зависит непосредственно от стиля прохождения игры пользователем. В случае если игрок выбирает путь строителя (PVE), то на него приходится в среднем 12 построек для прохождения уровня, если же пользователь решает пройти уровень с помощью победы над другим игроком, то ему достаточно 10 построек.\n",
    "- Количество дней, которое треюуется пользователмя на завершение уровня, напрямую зависит от стиля прохождения игры. PVE игрокам в среднем необходимо 10-13 дней на прохождение уровня, а PVP пользователи проходят уровень в среднем за 9-11 дней.\n",
    "\n",
    "Благодаря проверке статистических гипотез, мы предположили, что:\n",
    "- Время заверешения уровня PVP и PVE пользователей различается\n",
    "- PVE игроки, не зависимо от источника привлечения, строят одинаковое количесвто зданий\n",
    "\n",
    "В качестве монетизации рекомендовано следующее:\n",
    "- Для того чтобы окупить затраты на рекламные кампании на первом уровне, стоимость реклмного объявления на экране выбора постройки, должна составлять 0.06 у.е.\n",
    " - Любая монетизация игры, несет за собой негатив со стороны игроков. Возможно стоить рассмотреть вариант с ускорением постройки за просмотр рекламы, что должно позитивно сказаться на игроках. Кампания заработает на рекламе, а игрок сократит время постройки\n",
    " - Лишь 14% из всех числа пользователей проходят уровень посредством постройки зданий и изучения проекта. На этих пользователей приходится большая часть построенных зданий. Для увеличения прибыли за счет монетизации следует увеличить долю игроков, которые проходят уровень таким способом, может за счет заданий, за которые игроки смогут покупать бустеры, или поощрений за количество построек.\n",
    " \n",
    "В целом, исходя из проделанного анализа, можно сделать вывод, что рекламные каналы приводят практически одинаковую аудиторию, если расхождения по их поведению и есть, то они минимальны. Единственное отличие между рекламнымы каналами - это стоимость привлечения пользователя, которое составляет:\n",
    "- `youtube_channel_reklama` - 0.40\n",
    "- `yandex_direct` - 0.46\n",
    "- `instagram_new_adverts` - 0.65\n",
    "- `facebook_ads` - 0.79\n",
    "\n",
    "Самым выгодным рекламным каналом с точки зрения стоимости привлечения пользователей является канал `youtube`. Следовательно, в дальнейших маркетинговых кампаниях рекомендуем закладывать больше объемов на данный канал, а также протестировать новые площадки, которые могут оказаться более выгодными или смогут приводить более качественную аудиторию, с меньшей долей игроков, которые не завершили уровень."
   ]
  },
  {
   "cell_type": "code",
   "execution_count": null,
   "metadata": {},
   "outputs": [],
   "source": []
  }
 ],
 "metadata": {
  "ExecuteTimeLog": [
   {
    "duration": 380,
    "start_time": "2023-04-03T20:44:44.587Z"
   },
   {
    "duration": 375,
    "start_time": "2023-04-03T20:52:00.308Z"
   },
   {
    "duration": 106,
    "start_time": "2023-04-03T20:52:02.512Z"
   },
   {
    "duration": 118,
    "start_time": "2023-04-03T20:52:03.684Z"
   },
   {
    "duration": 18,
    "start_time": "2023-04-03T20:52:21.344Z"
   },
   {
    "duration": 8,
    "start_time": "2023-04-03T20:52:31.076Z"
   },
   {
    "duration": 9,
    "start_time": "2023-04-03T20:53:30.329Z"
   },
   {
    "duration": 7,
    "start_time": "2023-04-03T20:53:39.898Z"
   },
   {
    "duration": 65,
    "start_time": "2023-04-03T20:53:55.638Z"
   },
   {
    "duration": 15,
    "start_time": "2023-04-03T20:54:00.927Z"
   },
   {
    "duration": 18,
    "start_time": "2023-04-03T20:54:13.232Z"
   },
   {
    "duration": 33,
    "start_time": "2023-04-03T20:55:12.620Z"
   },
   {
    "duration": 170,
    "start_time": "2023-04-03T20:55:53.935Z"
   },
   {
    "duration": 31,
    "start_time": "2023-04-03T20:56:15.758Z"
   },
   {
    "duration": 23,
    "start_time": "2023-04-03T20:57:57.541Z"
   },
   {
    "duration": 42,
    "start_time": "2023-04-03T20:58:00.211Z"
   },
   {
    "duration": 13,
    "start_time": "2023-04-03T20:58:12.070Z"
   },
   {
    "duration": 89,
    "start_time": "2023-04-03T20:58:15.732Z"
   },
   {
    "duration": 94,
    "start_time": "2023-04-03T20:58:52.541Z"
   },
   {
    "duration": 30,
    "start_time": "2023-04-03T20:58:59.455Z"
   },
   {
    "duration": 400,
    "start_time": "2023-04-04T19:53:33.215Z"
   },
   {
    "duration": 628,
    "start_time": "2023-04-04T19:53:35.734Z"
   },
   {
    "duration": 122,
    "start_time": "2023-04-04T19:53:36.946Z"
   },
   {
    "duration": 168,
    "start_time": "2023-04-04T19:53:38.027Z"
   },
   {
    "duration": 24,
    "start_time": "2023-04-04T19:53:39.344Z"
   },
   {
    "duration": 36,
    "start_time": "2023-04-04T19:54:08.000Z"
   },
   {
    "duration": 10,
    "start_time": "2023-04-04T19:54:11.130Z"
   },
   {
    "duration": 11,
    "start_time": "2023-04-04T19:54:21.962Z"
   },
   {
    "duration": 40,
    "start_time": "2023-04-04T19:56:14.724Z"
   },
   {
    "duration": 17,
    "start_time": "2023-04-04T19:56:45.500Z"
   },
   {
    "duration": 14,
    "start_time": "2023-04-04T19:56:48.399Z"
   },
   {
    "duration": 36,
    "start_time": "2023-04-04T20:04:08.396Z"
   },
   {
    "duration": 31,
    "start_time": "2023-04-04T20:04:25.095Z"
   },
   {
    "duration": 10,
    "start_time": "2023-04-04T20:04:32.132Z"
   },
   {
    "duration": 57,
    "start_time": "2023-04-04T20:05:40.629Z"
   },
   {
    "duration": 10,
    "start_time": "2023-04-04T20:06:15.681Z"
   },
   {
    "duration": 61,
    "start_time": "2023-04-04T20:11:54.028Z"
   },
   {
    "duration": 64,
    "start_time": "2023-04-04T20:11:59.699Z"
   },
   {
    "duration": 76,
    "start_time": "2023-04-04T20:12:40.431Z"
   },
   {
    "duration": 76,
    "start_time": "2023-04-04T20:14:07.298Z"
   },
   {
    "duration": 69,
    "start_time": "2023-04-04T20:14:17.280Z"
   },
   {
    "duration": 57,
    "start_time": "2023-04-04T20:14:27.924Z"
   },
   {
    "duration": 4,
    "start_time": "2023-04-04T20:17:49.124Z"
   },
   {
    "duration": 4,
    "start_time": "2023-04-04T20:18:20.709Z"
   },
   {
    "duration": 76,
    "start_time": "2023-04-04T20:18:22.729Z"
   },
   {
    "duration": 4,
    "start_time": "2023-04-04T20:18:39.661Z"
   },
   {
    "duration": 63,
    "start_time": "2023-04-04T20:19:05.123Z"
   },
   {
    "duration": 9,
    "start_time": "2023-04-04T20:19:10.241Z"
   },
   {
    "duration": 8,
    "start_time": "2023-04-04T20:19:17.675Z"
   },
   {
    "duration": 8,
    "start_time": "2023-04-04T20:19:25.009Z"
   },
   {
    "duration": 9,
    "start_time": "2023-04-04T20:19:32.204Z"
   },
   {
    "duration": 444,
    "start_time": "2023-04-04T20:20:10.346Z"
   },
   {
    "duration": 408,
    "start_time": "2023-04-04T20:20:10.792Z"
   },
   {
    "duration": 50,
    "start_time": "2023-04-04T20:20:11.202Z"
   },
   {
    "duration": 62,
    "start_time": "2023-04-04T20:20:11.254Z"
   },
   {
    "duration": 50,
    "start_time": "2023-04-04T20:20:11.318Z"
   },
   {
    "duration": 17,
    "start_time": "2023-04-04T20:20:11.370Z"
   },
   {
    "duration": 56,
    "start_time": "2023-04-04T20:20:11.389Z"
   },
   {
    "duration": 37,
    "start_time": "2023-04-04T20:20:11.447Z"
   },
   {
    "duration": 61,
    "start_time": "2023-04-04T20:20:11.486Z"
   },
   {
    "duration": 4,
    "start_time": "2023-04-04T20:20:11.549Z"
   },
   {
    "duration": 8,
    "start_time": "2023-04-04T20:20:11.555Z"
   },
   {
    "duration": 26,
    "start_time": "2023-04-04T20:20:11.565Z"
   },
   {
    "duration": 12,
    "start_time": "2023-04-04T20:20:17.936Z"
   },
   {
    "duration": 74,
    "start_time": "2023-04-04T20:20:30.717Z"
   },
   {
    "duration": 14,
    "start_time": "2023-04-04T20:20:35.720Z"
   },
   {
    "duration": 69,
    "start_time": "2023-04-04T20:20:44.466Z"
   },
   {
    "duration": 88,
    "start_time": "2023-04-04T20:20:47.437Z"
   },
   {
    "duration": 135,
    "start_time": "2023-04-04T20:21:09.130Z"
   },
   {
    "duration": 73,
    "start_time": "2023-04-04T20:21:28.015Z"
   },
   {
    "duration": 63,
    "start_time": "2023-04-04T20:21:34.289Z"
   },
   {
    "duration": 13,
    "start_time": "2023-04-04T20:21:36.934Z"
   },
   {
    "duration": 9,
    "start_time": "2023-04-04T20:23:25.468Z"
   },
   {
    "duration": 39,
    "start_time": "2023-04-04T20:23:53.061Z"
   },
   {
    "duration": 37,
    "start_time": "2023-04-04T20:24:18.883Z"
   },
   {
    "duration": 39,
    "start_time": "2023-04-04T20:24:32.859Z"
   },
   {
    "duration": 41,
    "start_time": "2023-04-04T20:25:09.314Z"
   },
   {
    "duration": 57,
    "start_time": "2023-04-04T20:25:31.642Z"
   },
   {
    "duration": 44,
    "start_time": "2023-04-04T20:25:56.819Z"
   },
   {
    "duration": 5,
    "start_time": "2023-04-04T20:32:52.282Z"
   },
   {
    "duration": 10,
    "start_time": "2023-04-04T20:36:01.980Z"
   },
   {
    "duration": 13,
    "start_time": "2023-04-04T20:36:08.516Z"
   },
   {
    "duration": 13,
    "start_time": "2023-04-04T20:36:12.328Z"
   },
   {
    "duration": 10,
    "start_time": "2023-04-04T20:36:16.245Z"
   },
   {
    "duration": 11,
    "start_time": "2023-04-04T20:38:45.546Z"
   },
   {
    "duration": 9,
    "start_time": "2023-04-04T20:38:54.359Z"
   },
   {
    "duration": 9,
    "start_time": "2023-04-04T20:40:29.011Z"
   },
   {
    "duration": 8,
    "start_time": "2023-04-04T20:40:33.511Z"
   },
   {
    "duration": 6,
    "start_time": "2023-04-04T20:40:38.516Z"
   },
   {
    "duration": 5,
    "start_time": "2023-04-04T20:40:41.495Z"
   },
   {
    "duration": 42,
    "start_time": "2023-04-04T20:42:27.177Z"
   },
   {
    "duration": 42,
    "start_time": "2023-04-04T20:42:36.807Z"
   },
   {
    "duration": 10,
    "start_time": "2023-04-04T20:44:47.483Z"
   },
   {
    "duration": 32,
    "start_time": "2023-04-04T20:44:53.191Z"
   },
   {
    "duration": 12,
    "start_time": "2023-04-04T20:56:12.538Z"
   },
   {
    "duration": 97,
    "start_time": "2023-04-04T20:56:56.071Z"
   },
   {
    "duration": 5,
    "start_time": "2023-04-04T20:57:26.453Z"
   },
   {
    "duration": 4,
    "start_time": "2023-04-04T20:57:29.507Z"
   },
   {
    "duration": 10,
    "start_time": "2023-04-04T20:58:07.730Z"
   },
   {
    "duration": 6,
    "start_time": "2023-04-04T20:58:17.039Z"
   },
   {
    "duration": 5,
    "start_time": "2023-04-04T20:58:20.709Z"
   },
   {
    "duration": 7,
    "start_time": "2023-04-04T20:59:18.536Z"
   },
   {
    "duration": 6,
    "start_time": "2023-04-04T20:59:33.351Z"
   },
   {
    "duration": 110,
    "start_time": "2023-04-04T21:00:13.680Z"
   },
   {
    "duration": 4,
    "start_time": "2023-04-04T21:00:21.217Z"
   },
   {
    "duration": 4,
    "start_time": "2023-04-04T21:00:24.100Z"
   },
   {
    "duration": 5,
    "start_time": "2023-04-04T21:00:42.806Z"
   },
   {
    "duration": 4,
    "start_time": "2023-04-04T21:02:25.820Z"
   },
   {
    "duration": 5,
    "start_time": "2023-04-04T21:03:03.902Z"
   },
   {
    "duration": 6,
    "start_time": "2023-04-04T21:04:31.169Z"
   },
   {
    "duration": 6,
    "start_time": "2023-04-04T21:04:41.105Z"
   },
   {
    "duration": 76,
    "start_time": "2023-04-04T21:14:30.557Z"
   },
   {
    "duration": 16,
    "start_time": "2023-04-04T21:14:33.628Z"
   },
   {
    "duration": 76,
    "start_time": "2023-04-04T21:16:28.104Z"
   },
   {
    "duration": 16,
    "start_time": "2023-04-04T21:16:32.466Z"
   },
   {
    "duration": 420,
    "start_time": "2023-04-04T21:16:38.789Z"
   },
   {
    "duration": 529,
    "start_time": "2023-04-04T21:16:39.210Z"
   },
   {
    "duration": 88,
    "start_time": "2023-04-04T21:16:39.741Z"
   },
   {
    "duration": 122,
    "start_time": "2023-04-04T21:16:39.832Z"
   },
   {
    "duration": 54,
    "start_time": "2023-04-04T21:16:39.956Z"
   },
   {
    "duration": 17,
    "start_time": "2023-04-04T21:16:40.012Z"
   },
   {
    "duration": 21,
    "start_time": "2023-04-04T21:16:40.031Z"
   },
   {
    "duration": 59,
    "start_time": "2023-04-04T21:16:40.054Z"
   },
   {
    "duration": 6,
    "start_time": "2023-04-04T21:16:40.115Z"
   },
   {
    "duration": 14,
    "start_time": "2023-04-04T21:16:40.125Z"
   },
   {
    "duration": 80,
    "start_time": "2023-04-04T21:16:40.140Z"
   },
   {
    "duration": 3,
    "start_time": "2023-04-04T21:16:40.222Z"
   },
   {
    "duration": 90,
    "start_time": "2023-04-04T21:16:40.227Z"
   },
   {
    "duration": 4,
    "start_time": "2023-04-04T21:16:40.319Z"
   },
   {
    "duration": 43,
    "start_time": "2023-04-04T21:16:40.325Z"
   },
   {
    "duration": 21,
    "start_time": "2023-04-04T21:16:40.370Z"
   },
   {
    "duration": 36,
    "start_time": "2023-04-04T21:16:40.393Z"
   },
   {
    "duration": 6,
    "start_time": "2023-04-04T21:16:40.431Z"
   },
   {
    "duration": 56,
    "start_time": "2023-04-04T21:16:40.439Z"
   },
   {
    "duration": 103,
    "start_time": "2023-04-04T21:16:40.498Z"
   },
   {
    "duration": 16,
    "start_time": "2023-04-04T21:16:40.603Z"
   },
   {
    "duration": 16,
    "start_time": "2023-04-04T21:19:37.295Z"
   },
   {
    "duration": 48,
    "start_time": "2023-04-07T08:50:48.682Z"
   },
   {
    "duration": 393,
    "start_time": "2023-04-07T08:50:57.002Z"
   },
   {
    "duration": 488,
    "start_time": "2023-04-07T08:50:57.397Z"
   },
   {
    "duration": 72,
    "start_time": "2023-04-07T08:50:57.887Z"
   },
   {
    "duration": 199,
    "start_time": "2023-04-07T08:50:57.960Z"
   },
   {
    "duration": 49,
    "start_time": "2023-04-07T08:50:58.161Z"
   },
   {
    "duration": 17,
    "start_time": "2023-04-07T08:50:58.212Z"
   },
   {
    "duration": 38,
    "start_time": "2023-04-07T08:50:58.231Z"
   },
   {
    "duration": 33,
    "start_time": "2023-04-07T08:50:58.271Z"
   },
   {
    "duration": 4,
    "start_time": "2023-04-07T08:50:58.306Z"
   },
   {
    "duration": 7,
    "start_time": "2023-04-07T08:50:58.312Z"
   },
   {
    "duration": 83,
    "start_time": "2023-04-07T08:50:58.320Z"
   },
   {
    "duration": 4,
    "start_time": "2023-04-07T08:50:58.404Z"
   },
   {
    "duration": 75,
    "start_time": "2023-04-07T08:50:58.409Z"
   },
   {
    "duration": 4,
    "start_time": "2023-04-07T08:50:58.486Z"
   },
   {
    "duration": 36,
    "start_time": "2023-04-07T08:50:58.492Z"
   },
   {
    "duration": 9,
    "start_time": "2023-04-07T08:50:58.530Z"
   },
   {
    "duration": 9,
    "start_time": "2023-04-07T08:50:58.562Z"
   },
   {
    "duration": 7,
    "start_time": "2023-04-07T08:50:58.573Z"
   },
   {
    "duration": 28,
    "start_time": "2023-04-07T08:50:58.581Z"
   },
   {
    "duration": 95,
    "start_time": "2023-04-07T08:50:58.610Z"
   },
   {
    "duration": 73,
    "start_time": "2023-04-07T08:50:58.706Z"
   },
   {
    "duration": 0,
    "start_time": "2023-04-07T08:50:58.781Z"
   },
   {
    "duration": 86,
    "start_time": "2023-04-07T08:57:28.530Z"
   },
   {
    "duration": 31,
    "start_time": "2023-04-07T08:57:38.428Z"
   },
   {
    "duration": 199,
    "start_time": "2023-04-07T08:58:19.174Z"
   },
   {
    "duration": 29,
    "start_time": "2023-04-07T08:58:37.344Z"
   },
   {
    "duration": 21,
    "start_time": "2023-04-07T08:58:42.150Z"
   },
   {
    "duration": 21,
    "start_time": "2023-04-07T08:58:55.713Z"
   },
   {
    "duration": 8,
    "start_time": "2023-04-07T09:01:35.425Z"
   },
   {
    "duration": 11,
    "start_time": "2023-04-07T09:01:45.370Z"
   },
   {
    "duration": 47,
    "start_time": "2023-04-07T09:02:34.034Z"
   },
   {
    "duration": 35,
    "start_time": "2023-04-07T09:02:45.305Z"
   },
   {
    "duration": 34,
    "start_time": "2023-04-07T09:04:47.790Z"
   },
   {
    "duration": 19,
    "start_time": "2023-04-07T09:05:00.910Z"
   },
   {
    "duration": 6,
    "start_time": "2023-04-07T09:07:17.525Z"
   },
   {
    "duration": 7,
    "start_time": "2023-04-07T09:07:27.425Z"
   },
   {
    "duration": 15,
    "start_time": "2023-04-07T09:37:19.393Z"
   },
   {
    "duration": 77,
    "start_time": "2023-04-07T09:38:22.787Z"
   },
   {
    "duration": 118,
    "start_time": "2023-04-07T09:38:34.089Z"
   },
   {
    "duration": 8,
    "start_time": "2023-04-07T09:38:38.078Z"
   },
   {
    "duration": 85,
    "start_time": "2023-04-07T09:38:59.854Z"
   },
   {
    "duration": 10,
    "start_time": "2023-04-07T09:39:01.866Z"
   },
   {
    "duration": 91,
    "start_time": "2023-04-07T09:40:07.684Z"
   },
   {
    "duration": 10,
    "start_time": "2023-04-07T09:40:09.750Z"
   },
   {
    "duration": 99,
    "start_time": "2023-04-07T09:42:48.043Z"
   },
   {
    "duration": 10,
    "start_time": "2023-04-07T09:42:50.601Z"
   },
   {
    "duration": 123,
    "start_time": "2023-04-07T09:44:38.784Z"
   },
   {
    "duration": 12,
    "start_time": "2023-04-07T09:44:40.914Z"
   },
   {
    "duration": 104,
    "start_time": "2023-04-07T09:46:56.283Z"
   },
   {
    "duration": 12,
    "start_time": "2023-04-07T09:46:58.290Z"
   },
   {
    "duration": 168,
    "start_time": "2023-04-07T09:48:11.139Z"
   },
   {
    "duration": 16,
    "start_time": "2023-04-07T09:48:12.295Z"
   },
   {
    "duration": 146,
    "start_time": "2023-04-07T09:50:23.749Z"
   },
   {
    "duration": 17,
    "start_time": "2023-04-07T09:50:25.870Z"
   },
   {
    "duration": 145,
    "start_time": "2023-04-07T09:50:35.017Z"
   },
   {
    "duration": 15,
    "start_time": "2023-04-07T09:50:36.990Z"
   },
   {
    "duration": 17,
    "start_time": "2023-04-07T09:52:03.087Z"
   },
   {
    "duration": 133,
    "start_time": "2023-04-07T09:53:05.609Z"
   },
   {
    "duration": 17,
    "start_time": "2023-04-07T09:53:06.496Z"
   },
   {
    "duration": 443,
    "start_time": "2023-04-07T09:53:14.737Z"
   },
   {
    "duration": 509,
    "start_time": "2023-04-07T09:53:15.182Z"
   },
   {
    "duration": 116,
    "start_time": "2023-04-07T09:53:15.694Z"
   },
   {
    "duration": 97,
    "start_time": "2023-04-07T09:53:15.812Z"
   },
   {
    "duration": 49,
    "start_time": "2023-04-07T09:53:15.911Z"
   },
   {
    "duration": 16,
    "start_time": "2023-04-07T09:53:15.962Z"
   },
   {
    "duration": 15,
    "start_time": "2023-04-07T09:53:15.980Z"
   },
   {
    "duration": 35,
    "start_time": "2023-04-07T09:53:15.996Z"
   },
   {
    "duration": 30,
    "start_time": "2023-04-07T09:53:16.033Z"
   },
   {
    "duration": 9,
    "start_time": "2023-04-07T09:53:16.065Z"
   },
   {
    "duration": 57,
    "start_time": "2023-04-07T09:53:16.076Z"
   },
   {
    "duration": 4,
    "start_time": "2023-04-07T09:53:16.135Z"
   },
   {
    "duration": 62,
    "start_time": "2023-04-07T09:53:16.161Z"
   },
   {
    "duration": 3,
    "start_time": "2023-04-07T09:53:16.227Z"
   },
   {
    "duration": 54,
    "start_time": "2023-04-07T09:53:16.231Z"
   },
   {
    "duration": 10,
    "start_time": "2023-04-07T09:53:16.287Z"
   },
   {
    "duration": 8,
    "start_time": "2023-04-07T09:53:16.298Z"
   },
   {
    "duration": 4,
    "start_time": "2023-04-07T09:53:16.307Z"
   },
   {
    "duration": 51,
    "start_time": "2023-04-07T09:53:16.313Z"
   },
   {
    "duration": 19,
    "start_time": "2023-04-07T09:53:16.365Z"
   },
   {
    "duration": 17,
    "start_time": "2023-04-07T09:53:16.386Z"
   },
   {
    "duration": 6,
    "start_time": "2023-04-07T09:53:16.404Z"
   },
   {
    "duration": 5,
    "start_time": "2023-04-07T09:53:16.412Z"
   },
   {
    "duration": 95,
    "start_time": "2023-04-07T09:53:16.418Z"
   },
   {
    "duration": 0,
    "start_time": "2023-04-07T09:53:16.515Z"
   },
   {
    "duration": 0,
    "start_time": "2023-04-07T09:53:16.516Z"
   },
   {
    "duration": 0,
    "start_time": "2023-04-07T09:53:16.517Z"
   },
   {
    "duration": 145,
    "start_time": "2023-04-07T09:53:40.053Z"
   },
   {
    "duration": 16,
    "start_time": "2023-04-07T09:53:42.828Z"
   },
   {
    "duration": 153,
    "start_time": "2023-04-07T09:59:23.834Z"
   },
   {
    "duration": 13,
    "start_time": "2023-04-07T09:59:26.669Z"
   },
   {
    "duration": 17,
    "start_time": "2023-04-07T10:00:28.110Z"
   },
   {
    "duration": 15,
    "start_time": "2023-04-07T10:00:43.114Z"
   },
   {
    "duration": 137,
    "start_time": "2023-04-07T10:02:50.091Z"
   },
   {
    "duration": 11,
    "start_time": "2023-04-07T11:12:32.697Z"
   },
   {
    "duration": 11,
    "start_time": "2023-04-07T11:12:46.606Z"
   },
   {
    "duration": 10,
    "start_time": "2023-04-07T11:12:57.053Z"
   },
   {
    "duration": 9,
    "start_time": "2023-04-07T11:13:00.422Z"
   },
   {
    "duration": 3,
    "start_time": "2023-04-07T11:13:25.010Z"
   },
   {
    "duration": 1005,
    "start_time": "2023-04-07T11:14:29.806Z"
   },
   {
    "duration": 5,
    "start_time": "2023-04-07T11:14:37.901Z"
   },
   {
    "duration": 9,
    "start_time": "2023-04-07T11:14:45.726Z"
   },
   {
    "duration": 34,
    "start_time": "2023-04-07T11:17:17.801Z"
   },
   {
    "duration": 148,
    "start_time": "2023-04-07T11:21:48.902Z"
   },
   {
    "duration": 2,
    "start_time": "2023-04-07T11:22:11.742Z"
   },
   {
    "duration": 147,
    "start_time": "2023-04-07T11:22:17.895Z"
   },
   {
    "duration": 15,
    "start_time": "2023-04-07T11:22:20.015Z"
   },
   {
    "duration": 145,
    "start_time": "2023-04-07T11:23:22.528Z"
   },
   {
    "duration": 15,
    "start_time": "2023-04-07T11:23:23.742Z"
   },
   {
    "duration": 13,
    "start_time": "2023-04-07T11:24:21.413Z"
   },
   {
    "duration": 4,
    "start_time": "2023-04-07T11:24:48.406Z"
   },
   {
    "duration": 9,
    "start_time": "2023-04-07T11:24:55.302Z"
   },
   {
    "duration": 4,
    "start_time": "2023-04-07T11:24:58.191Z"
   },
   {
    "duration": 4,
    "start_time": "2023-04-07T11:25:12.599Z"
   },
   {
    "duration": 9,
    "start_time": "2023-04-07T11:25:39.591Z"
   },
   {
    "duration": 27,
    "start_time": "2023-04-07T11:25:53.201Z"
   },
   {
    "duration": 4,
    "start_time": "2023-04-07T11:25:57.587Z"
   },
   {
    "duration": 17,
    "start_time": "2023-04-07T11:25:58.329Z"
   },
   {
    "duration": 14,
    "start_time": "2023-04-07T11:26:45.299Z"
   },
   {
    "duration": 174,
    "start_time": "2023-04-07T11:27:34.349Z"
   },
   {
    "duration": 17,
    "start_time": "2023-04-07T11:27:35.336Z"
   },
   {
    "duration": 170,
    "start_time": "2023-04-07T11:29:53.917Z"
   },
   {
    "duration": 17,
    "start_time": "2023-04-07T11:29:54.710Z"
   },
   {
    "duration": 138,
    "start_time": "2023-04-07T11:30:28.696Z"
   },
   {
    "duration": 15,
    "start_time": "2023-04-07T11:30:30.910Z"
   },
   {
    "duration": 139,
    "start_time": "2023-04-07T11:30:54.302Z"
   },
   {
    "duration": 18,
    "start_time": "2023-04-07T11:30:55.097Z"
   },
   {
    "duration": 81,
    "start_time": "2023-04-07T20:25:37.428Z"
   },
   {
    "duration": 529,
    "start_time": "2023-04-07T20:25:46.646Z"
   },
   {
    "duration": 617,
    "start_time": "2023-04-07T20:25:47.177Z"
   },
   {
    "duration": 68,
    "start_time": "2023-04-07T20:25:47.796Z"
   },
   {
    "duration": 81,
    "start_time": "2023-04-07T20:25:47.868Z"
   },
   {
    "duration": 56,
    "start_time": "2023-04-07T20:25:47.951Z"
   },
   {
    "duration": 27,
    "start_time": "2023-04-07T20:25:48.010Z"
   },
   {
    "duration": 18,
    "start_time": "2023-04-07T20:25:48.039Z"
   },
   {
    "duration": 46,
    "start_time": "2023-04-07T20:25:48.059Z"
   },
   {
    "duration": 32,
    "start_time": "2023-04-07T20:25:48.107Z"
   },
   {
    "duration": 16,
    "start_time": "2023-04-07T20:25:48.143Z"
   },
   {
    "duration": 5,
    "start_time": "2023-04-07T20:25:48.161Z"
   },
   {
    "duration": 76,
    "start_time": "2023-04-07T20:25:48.168Z"
   },
   {
    "duration": 5,
    "start_time": "2023-04-07T20:25:48.247Z"
   },
   {
    "duration": 88,
    "start_time": "2023-04-07T20:25:48.254Z"
   },
   {
    "duration": 5,
    "start_time": "2023-04-07T20:25:48.344Z"
   },
   {
    "duration": 44,
    "start_time": "2023-04-07T20:25:48.351Z"
   },
   {
    "duration": 13,
    "start_time": "2023-04-07T20:25:48.397Z"
   },
   {
    "duration": 10,
    "start_time": "2023-04-07T20:25:48.433Z"
   },
   {
    "duration": 12,
    "start_time": "2023-04-07T20:25:48.445Z"
   },
   {
    "duration": 76,
    "start_time": "2023-04-07T20:25:48.459Z"
   },
   {
    "duration": 38,
    "start_time": "2023-04-07T20:25:48.537Z"
   },
   {
    "duration": 34,
    "start_time": "2023-04-07T20:25:48.577Z"
   },
   {
    "duration": 27,
    "start_time": "2023-04-07T20:25:48.612Z"
   },
   {
    "duration": 16,
    "start_time": "2023-04-07T20:25:48.641Z"
   },
   {
    "duration": 38,
    "start_time": "2023-04-07T20:25:48.658Z"
   },
   {
    "duration": 204,
    "start_time": "2023-04-07T20:25:48.698Z"
   },
   {
    "duration": 18,
    "start_time": "2023-04-07T20:25:48.903Z"
   },
   {
    "duration": 1324,
    "start_time": "2023-04-07T20:25:48.937Z"
   },
   {
    "duration": 0,
    "start_time": "2023-04-07T20:25:50.263Z"
   },
   {
    "duration": 0,
    "start_time": "2023-04-07T20:25:50.264Z"
   },
   {
    "duration": 169,
    "start_time": "2023-04-07T20:26:23.336Z"
   },
   {
    "duration": 159,
    "start_time": "2023-04-07T20:26:45.349Z"
   },
   {
    "duration": 6,
    "start_time": "2023-04-07T20:27:06.337Z"
   },
   {
    "duration": 6,
    "start_time": "2023-04-07T20:27:13.328Z"
   },
   {
    "duration": 8,
    "start_time": "2023-04-07T20:27:19.350Z"
   },
   {
    "duration": 7,
    "start_time": "2023-04-07T20:27:27.495Z"
   },
   {
    "duration": 6,
    "start_time": "2023-04-07T20:27:31.835Z"
   },
   {
    "duration": 212,
    "start_time": "2023-04-07T20:27:57.637Z"
   },
   {
    "duration": 165,
    "start_time": "2023-04-07T20:28:13.886Z"
   },
   {
    "duration": 16,
    "start_time": "2023-04-07T20:28:19.680Z"
   },
   {
    "duration": 17,
    "start_time": "2023-04-07T20:37:16.583Z"
   },
   {
    "duration": 85,
    "start_time": "2023-04-07T20:40:34.359Z"
   },
   {
    "duration": 173,
    "start_time": "2023-04-07T20:40:39.686Z"
   },
   {
    "duration": 1590,
    "start_time": "2023-04-07T20:41:28.820Z"
   },
   {
    "duration": 25,
    "start_time": "2023-04-07T20:41:31.441Z"
   },
   {
    "duration": 1611,
    "start_time": "2023-04-07T20:41:46.076Z"
   },
   {
    "duration": 21,
    "start_time": "2023-04-07T20:41:50.020Z"
   },
   {
    "duration": 1767,
    "start_time": "2023-04-07T20:45:34.971Z"
   },
   {
    "duration": 21,
    "start_time": "2023-04-07T20:45:38.729Z"
   },
   {
    "duration": 12,
    "start_time": "2023-04-07T20:48:14.915Z"
   },
   {
    "duration": 1508,
    "start_time": "2023-04-07T20:49:12.891Z"
   },
   {
    "duration": 23,
    "start_time": "2023-04-07T20:49:17.643Z"
   },
   {
    "duration": 17,
    "start_time": "2023-04-07T20:50:37.338Z"
   },
   {
    "duration": 15,
    "start_time": "2023-04-07T20:50:45.746Z"
   },
   {
    "duration": 15,
    "start_time": "2023-04-07T20:51:00.618Z"
   },
   {
    "duration": 17,
    "start_time": "2023-04-07T20:51:03.678Z"
   },
   {
    "duration": 22,
    "start_time": "2023-04-07T20:51:33.224Z"
   },
   {
    "duration": 19,
    "start_time": "2023-04-07T20:52:01.940Z"
   },
   {
    "duration": 20,
    "start_time": "2023-04-07T20:52:10.792Z"
   },
   {
    "duration": 22,
    "start_time": "2023-04-07T20:52:38.746Z"
   },
   {
    "duration": 20,
    "start_time": "2023-04-07T20:52:45.917Z"
   },
   {
    "duration": 22,
    "start_time": "2023-04-07T20:52:50.435Z"
   },
   {
    "duration": 16,
    "start_time": "2023-04-07T21:07:31.993Z"
   },
   {
    "duration": 10,
    "start_time": "2023-04-07T21:07:38.729Z"
   },
   {
    "duration": 17,
    "start_time": "2023-04-07T21:08:07.097Z"
   },
   {
    "duration": 9,
    "start_time": "2023-04-07T21:08:09.873Z"
   },
   {
    "duration": 10,
    "start_time": "2023-04-07T21:08:45.027Z"
   },
   {
    "duration": 8,
    "start_time": "2023-04-07T21:11:56.150Z"
   },
   {
    "duration": 12,
    "start_time": "2023-04-07T21:11:58.446Z"
   },
   {
    "duration": 5,
    "start_time": "2023-04-07T21:14:36.608Z"
   },
   {
    "duration": 13,
    "start_time": "2023-04-07T21:14:39.433Z"
   },
   {
    "duration": 3,
    "start_time": "2023-04-07T21:15:00.966Z"
   },
   {
    "duration": 17,
    "start_time": "2023-04-07T21:15:03.148Z"
   },
   {
    "duration": 14,
    "start_time": "2023-04-07T21:17:08.796Z"
   },
   {
    "duration": 5,
    "start_time": "2023-04-07T21:19:22.854Z"
   },
   {
    "duration": 11,
    "start_time": "2023-04-07T21:19:25.781Z"
   },
   {
    "duration": 8,
    "start_time": "2023-04-07T21:19:35.773Z"
   },
   {
    "duration": 12,
    "start_time": "2023-04-07T21:19:42.252Z"
   },
   {
    "duration": 22,
    "start_time": "2023-04-07T21:19:45.928Z"
   },
   {
    "duration": 18,
    "start_time": "2023-04-07T21:20:28.464Z"
   },
   {
    "duration": 17,
    "start_time": "2023-04-07T21:20:51.838Z"
   },
   {
    "duration": 28,
    "start_time": "2023-04-07T21:22:14.055Z"
   },
   {
    "duration": 28,
    "start_time": "2023-04-07T21:22:20.337Z"
   },
   {
    "duration": 1659,
    "start_time": "2023-04-07T21:26:19.263Z"
   },
   {
    "duration": 7,
    "start_time": "2023-04-07T21:26:22.830Z"
   },
   {
    "duration": 24,
    "start_time": "2023-04-07T21:26:27.853Z"
   },
   {
    "duration": 1580,
    "start_time": "2023-04-07T21:34:52.092Z"
   },
   {
    "duration": 28,
    "start_time": "2023-04-07T21:34:55.003Z"
   },
   {
    "duration": 87,
    "start_time": "2023-04-07T21:40:55.743Z"
   },
   {
    "duration": 1612,
    "start_time": "2023-04-07T21:40:59.814Z"
   },
   {
    "duration": 20,
    "start_time": "2023-04-07T21:41:01.694Z"
   },
   {
    "duration": 1561,
    "start_time": "2023-04-07T21:41:34.230Z"
   },
   {
    "duration": 20,
    "start_time": "2023-04-07T21:41:36.131Z"
   },
   {
    "duration": 1517,
    "start_time": "2023-04-07T21:42:56.821Z"
   },
   {
    "duration": 19,
    "start_time": "2023-04-07T21:42:59.319Z"
   },
   {
    "duration": 1559,
    "start_time": "2023-04-07T21:46:21.513Z"
   },
   {
    "duration": 1529,
    "start_time": "2023-04-07T21:46:40.638Z"
   },
   {
    "duration": 8,
    "start_time": "2023-04-07T22:03:43.917Z"
   },
   {
    "duration": 1008,
    "start_time": "2023-04-07T22:04:19.286Z"
   },
   {
    "duration": 65,
    "start_time": "2023-04-07T22:04:24.457Z"
   },
   {
    "duration": 20,
    "start_time": "2023-04-07T22:05:17.968Z"
   },
   {
    "duration": 11,
    "start_time": "2023-04-07T22:05:59.384Z"
   },
   {
    "duration": 10,
    "start_time": "2023-04-07T22:06:09.597Z"
   },
   {
    "duration": 21,
    "start_time": "2023-04-07T22:13:31.852Z"
   },
   {
    "duration": 94,
    "start_time": "2023-04-07T22:14:42.573Z"
   },
   {
    "duration": 56,
    "start_time": "2023-04-07T22:14:53.287Z"
   },
   {
    "duration": 55,
    "start_time": "2023-04-07T22:17:09.386Z"
   },
   {
    "duration": 53,
    "start_time": "2023-04-07T22:20:36.876Z"
   },
   {
    "duration": 1199,
    "start_time": "2023-04-07T22:20:52.881Z"
   },
   {
    "duration": 490,
    "start_time": "2023-04-07T22:20:54.082Z"
   },
   {
    "duration": 76,
    "start_time": "2023-04-07T22:20:54.574Z"
   },
   {
    "duration": 114,
    "start_time": "2023-04-07T22:20:54.652Z"
   },
   {
    "duration": 47,
    "start_time": "2023-04-07T22:20:54.768Z"
   },
   {
    "duration": 18,
    "start_time": "2023-04-07T22:20:54.816Z"
   },
   {
    "duration": 16,
    "start_time": "2023-04-07T22:20:54.835Z"
   },
   {
    "duration": 37,
    "start_time": "2023-04-07T22:20:54.853Z"
   },
   {
    "duration": 6,
    "start_time": "2023-04-07T22:20:54.892Z"
   },
   {
    "duration": 36,
    "start_time": "2023-04-07T22:20:54.899Z"
   },
   {
    "duration": 4,
    "start_time": "2023-04-07T22:20:54.936Z"
   },
   {
    "duration": 72,
    "start_time": "2023-04-07T22:20:54.942Z"
   },
   {
    "duration": 4,
    "start_time": "2023-04-07T22:20:55.016Z"
   },
   {
    "duration": 74,
    "start_time": "2023-04-07T22:20:55.022Z"
   },
   {
    "duration": 4,
    "start_time": "2023-04-07T22:20:55.098Z"
   },
   {
    "duration": 53,
    "start_time": "2023-04-07T22:20:55.104Z"
   },
   {
    "duration": 10,
    "start_time": "2023-04-07T22:20:55.159Z"
   },
   {
    "duration": 9,
    "start_time": "2023-04-07T22:20:55.171Z"
   },
   {
    "duration": 17,
    "start_time": "2023-04-07T22:20:55.182Z"
   },
   {
    "duration": 47,
    "start_time": "2023-04-07T22:20:55.201Z"
   },
   {
    "duration": 25,
    "start_time": "2023-04-07T22:20:55.250Z"
   },
   {
    "duration": 24,
    "start_time": "2023-04-07T22:20:55.276Z"
   },
   {
    "duration": 15,
    "start_time": "2023-04-07T22:20:55.302Z"
   },
   {
    "duration": 15,
    "start_time": "2023-04-07T22:20:55.319Z"
   },
   {
    "duration": 37,
    "start_time": "2023-04-07T22:20:55.336Z"
   },
   {
    "duration": 1595,
    "start_time": "2023-04-07T22:20:55.375Z"
   },
   {
    "duration": 1222,
    "start_time": "2023-04-07T22:21:54.148Z"
   },
   {
    "duration": 394,
    "start_time": "2023-04-07T22:21:55.372Z"
   },
   {
    "duration": 58,
    "start_time": "2023-04-07T22:21:55.768Z"
   },
   {
    "duration": 51,
    "start_time": "2023-04-07T22:21:55.828Z"
   },
   {
    "duration": 47,
    "start_time": "2023-04-07T22:21:55.883Z"
   },
   {
    "duration": 17,
    "start_time": "2023-04-07T22:21:55.932Z"
   },
   {
    "duration": 16,
    "start_time": "2023-04-07T22:21:55.951Z"
   },
   {
    "duration": 37,
    "start_time": "2023-04-07T22:21:55.969Z"
   },
   {
    "duration": 27,
    "start_time": "2023-04-07T22:21:56.008Z"
   },
   {
    "duration": 12,
    "start_time": "2023-04-07T22:21:56.037Z"
   },
   {
    "duration": 5,
    "start_time": "2023-04-07T22:21:56.051Z"
   },
   {
    "duration": 79,
    "start_time": "2023-04-07T22:21:56.057Z"
   },
   {
    "duration": 4,
    "start_time": "2023-04-07T22:21:56.138Z"
   },
   {
    "duration": 70,
    "start_time": "2023-04-07T22:21:56.146Z"
   },
   {
    "duration": 5,
    "start_time": "2023-04-07T22:21:56.234Z"
   },
   {
    "duration": 43,
    "start_time": "2023-04-07T22:21:56.241Z"
   },
   {
    "duration": 11,
    "start_time": "2023-04-07T22:21:56.287Z"
   },
   {
    "duration": 11,
    "start_time": "2023-04-07T22:21:56.299Z"
   },
   {
    "duration": 5,
    "start_time": "2023-04-07T22:21:56.333Z"
   },
   {
    "duration": 32,
    "start_time": "2023-04-07T22:21:56.340Z"
   },
   {
    "duration": 21,
    "start_time": "2023-04-07T22:21:56.373Z"
   },
   {
    "duration": 39,
    "start_time": "2023-04-07T22:21:56.396Z"
   },
   {
    "duration": 6,
    "start_time": "2023-04-07T22:21:56.437Z"
   },
   {
    "duration": 7,
    "start_time": "2023-04-07T22:21:56.445Z"
   },
   {
    "duration": 41,
    "start_time": "2023-04-07T22:21:56.454Z"
   },
   {
    "duration": 1523,
    "start_time": "2023-04-07T22:21:56.496Z"
   },
   {
    "duration": 102,
    "start_time": "2023-04-07T22:21:58.021Z"
   },
   {
    "duration": 25,
    "start_time": "2023-04-07T22:21:58.126Z"
   },
   {
    "duration": 71,
    "start_time": "2023-04-07T22:23:16.967Z"
   },
   {
    "duration": 11,
    "start_time": "2023-04-07T22:23:30.001Z"
   },
   {
    "duration": 157,
    "start_time": "2023-04-07T22:23:41.044Z"
   },
   {
    "duration": 11,
    "start_time": "2023-04-07T22:24:25.681Z"
   },
   {
    "duration": 13,
    "start_time": "2023-04-07T22:24:55.504Z"
   },
   {
    "duration": 106,
    "start_time": "2023-04-07T22:25:07.323Z"
   },
   {
    "duration": 10,
    "start_time": "2023-04-07T22:25:10.587Z"
   },
   {
    "duration": 12,
    "start_time": "2023-04-07T22:25:43.556Z"
   },
   {
    "duration": 7,
    "start_time": "2023-04-07T22:25:48.742Z"
   },
   {
    "duration": 1626,
    "start_time": "2023-04-07T22:26:33.410Z"
   },
   {
    "duration": 13,
    "start_time": "2023-04-07T22:26:37.117Z"
   },
   {
    "duration": 13,
    "start_time": "2023-04-07T22:27:04.954Z"
   },
   {
    "duration": 17,
    "start_time": "2023-04-07T22:27:52.046Z"
   },
   {
    "duration": 22,
    "start_time": "2023-04-07T22:27:56.587Z"
   },
   {
    "duration": 14,
    "start_time": "2023-04-07T22:34:32.993Z"
   },
   {
    "duration": 59,
    "start_time": "2023-04-08T09:35:33.846Z"
   },
   {
    "duration": 1520,
    "start_time": "2023-04-08T09:35:41.552Z"
   },
   {
    "duration": 588,
    "start_time": "2023-04-08T09:35:43.074Z"
   },
   {
    "duration": 107,
    "start_time": "2023-04-08T09:35:43.664Z"
   },
   {
    "duration": 119,
    "start_time": "2023-04-08T09:35:43.772Z"
   },
   {
    "duration": 39,
    "start_time": "2023-04-08T09:35:43.893Z"
   },
   {
    "duration": 13,
    "start_time": "2023-04-08T09:35:43.934Z"
   },
   {
    "duration": 19,
    "start_time": "2023-04-08T09:35:43.948Z"
   },
   {
    "duration": 36,
    "start_time": "2023-04-08T09:35:43.968Z"
   },
   {
    "duration": 5,
    "start_time": "2023-04-08T09:35:44.005Z"
   },
   {
    "duration": 7,
    "start_time": "2023-04-08T09:35:44.011Z"
   },
   {
    "duration": 37,
    "start_time": "2023-04-08T09:35:44.019Z"
   },
   {
    "duration": 61,
    "start_time": "2023-04-08T09:35:44.059Z"
   },
   {
    "duration": 4,
    "start_time": "2023-04-08T09:35:44.122Z"
   },
   {
    "duration": 76,
    "start_time": "2023-04-08T09:35:44.129Z"
   },
   {
    "duration": 4,
    "start_time": "2023-04-08T09:35:44.207Z"
   },
   {
    "duration": 47,
    "start_time": "2023-04-08T09:35:44.212Z"
   },
   {
    "duration": 11,
    "start_time": "2023-04-08T09:35:44.261Z"
   },
   {
    "duration": 13,
    "start_time": "2023-04-08T09:35:44.273Z"
   },
   {
    "duration": 5,
    "start_time": "2023-04-08T09:35:44.287Z"
   },
   {
    "duration": 23,
    "start_time": "2023-04-08T09:35:44.293Z"
   },
   {
    "duration": 43,
    "start_time": "2023-04-08T09:35:44.318Z"
   },
   {
    "duration": 27,
    "start_time": "2023-04-08T09:35:44.363Z"
   },
   {
    "duration": 5,
    "start_time": "2023-04-08T09:35:44.391Z"
   },
   {
    "duration": 9,
    "start_time": "2023-04-08T09:35:44.398Z"
   },
   {
    "duration": 47,
    "start_time": "2023-04-08T09:35:44.409Z"
   },
   {
    "duration": 1361,
    "start_time": "2023-04-08T09:35:44.458Z"
   },
   {
    "duration": 10,
    "start_time": "2023-04-08T09:35:45.820Z"
   },
   {
    "duration": 5,
    "start_time": "2023-04-08T09:35:45.832Z"
   },
   {
    "duration": 20,
    "start_time": "2023-04-08T09:35:45.849Z"
   },
   {
    "duration": 11,
    "start_time": "2023-04-08T09:37:34.198Z"
   },
   {
    "duration": 131,
    "start_time": "2023-04-08T09:38:35.432Z"
   },
   {
    "duration": 121,
    "start_time": "2023-04-08T09:39:02.682Z"
   },
   {
    "duration": 156,
    "start_time": "2023-04-08T09:39:11.781Z"
   },
   {
    "duration": 17,
    "start_time": "2023-04-08T09:39:29.525Z"
   },
   {
    "duration": 134,
    "start_time": "2023-04-08T09:39:49.149Z"
   },
   {
    "duration": 18,
    "start_time": "2023-04-08T09:43:36.436Z"
   },
   {
    "duration": 15,
    "start_time": "2023-04-08T09:43:45.195Z"
   },
   {
    "duration": 9,
    "start_time": "2023-04-08T09:43:53.681Z"
   },
   {
    "duration": 23,
    "start_time": "2023-04-08T09:43:55.183Z"
   },
   {
    "duration": 7,
    "start_time": "2023-04-08T09:44:02.323Z"
   },
   {
    "duration": 8,
    "start_time": "2023-04-08T09:44:14.814Z"
   },
   {
    "duration": 206,
    "start_time": "2023-04-08T09:44:16.734Z"
   },
   {
    "duration": 8,
    "start_time": "2023-04-08T09:44:37.300Z"
   },
   {
    "duration": 159,
    "start_time": "2023-04-08T09:44:39.251Z"
   },
   {
    "duration": 12,
    "start_time": "2023-04-08T09:44:47.317Z"
   },
   {
    "duration": 138,
    "start_time": "2023-04-08T09:44:49.080Z"
   },
   {
    "duration": 148,
    "start_time": "2023-04-08T09:53:02.224Z"
   },
   {
    "duration": 145,
    "start_time": "2023-04-08T09:53:21.513Z"
   },
   {
    "duration": 154,
    "start_time": "2023-04-08T09:54:36.213Z"
   },
   {
    "duration": 8,
    "start_time": "2023-04-08T09:54:44.883Z"
   },
   {
    "duration": 5,
    "start_time": "2023-04-08T09:54:51.700Z"
   },
   {
    "duration": 142,
    "start_time": "2023-04-08T09:55:03.947Z"
   },
   {
    "duration": 152,
    "start_time": "2023-04-08T09:55:16.832Z"
   },
   {
    "duration": 10,
    "start_time": "2023-04-08T09:58:20.862Z"
   },
   {
    "duration": 9,
    "start_time": "2023-04-08T09:58:29.399Z"
   },
   {
    "duration": 155,
    "start_time": "2023-04-08T10:02:44.675Z"
   },
   {
    "duration": 152,
    "start_time": "2023-04-08T10:02:51.838Z"
   },
   {
    "duration": 5,
    "start_time": "2023-04-08T10:03:05.244Z"
   },
   {
    "duration": 149,
    "start_time": "2023-04-08T10:03:13.978Z"
   },
   {
    "duration": 168,
    "start_time": "2023-04-08T10:03:27.541Z"
   },
   {
    "duration": 242,
    "start_time": "2023-04-08T10:03:31.027Z"
   },
   {
    "duration": 161,
    "start_time": "2023-04-08T10:03:37.378Z"
   },
   {
    "duration": 85,
    "start_time": "2023-04-08T10:04:21.837Z"
   },
   {
    "duration": 150,
    "start_time": "2023-04-08T10:04:29.923Z"
   },
   {
    "duration": 3,
    "start_time": "2023-04-08T10:05:23.824Z"
   },
   {
    "duration": 157,
    "start_time": "2023-04-08T10:05:27.963Z"
   },
   {
    "duration": 157,
    "start_time": "2023-04-08T10:05:35.890Z"
   },
   {
    "duration": 183,
    "start_time": "2023-04-08T10:06:32.063Z"
   },
   {
    "duration": 150,
    "start_time": "2023-04-08T10:07:05.540Z"
   },
   {
    "duration": 153,
    "start_time": "2023-04-08T10:07:16.543Z"
   },
   {
    "duration": 156,
    "start_time": "2023-04-08T10:07:36.075Z"
   },
   {
    "duration": 164,
    "start_time": "2023-04-08T10:09:02.485Z"
   },
   {
    "duration": 153,
    "start_time": "2023-04-08T10:13:26.754Z"
   },
   {
    "duration": 7,
    "start_time": "2023-04-08T10:13:51.686Z"
   },
   {
    "duration": 8,
    "start_time": "2023-04-08T10:27:32.732Z"
   },
   {
    "duration": 467,
    "start_time": "2023-04-08T10:27:36.173Z"
   },
   {
    "duration": 25,
    "start_time": "2023-04-08T10:27:52.439Z"
   },
   {
    "duration": 8,
    "start_time": "2023-04-08T10:28:48.775Z"
   },
   {
    "duration": 25,
    "start_time": "2023-04-08T10:28:56.242Z"
   },
   {
    "duration": 113,
    "start_time": "2023-04-08T10:32:15.398Z"
   },
   {
    "duration": 121,
    "start_time": "2023-04-08T10:32:21.828Z"
   },
   {
    "duration": 173,
    "start_time": "2023-04-08T10:33:44.517Z"
   },
   {
    "duration": 138,
    "start_time": "2023-04-08T10:34:31.372Z"
   },
   {
    "duration": 142,
    "start_time": "2023-04-08T10:35:45.816Z"
   },
   {
    "duration": 155,
    "start_time": "2023-04-08T10:36:21.466Z"
   },
   {
    "duration": 150,
    "start_time": "2023-04-08T10:36:29.379Z"
   },
   {
    "duration": 139,
    "start_time": "2023-04-08T10:36:48.139Z"
   },
   {
    "duration": 16,
    "start_time": "2023-04-08T10:40:11.441Z"
   },
   {
    "duration": 16,
    "start_time": "2023-04-08T10:41:18.237Z"
   },
   {
    "duration": 15,
    "start_time": "2023-04-08T10:41:43.328Z"
   },
   {
    "duration": 15,
    "start_time": "2023-04-08T10:41:48.990Z"
   },
   {
    "duration": 14,
    "start_time": "2023-04-08T10:42:14.703Z"
   },
   {
    "duration": 18,
    "start_time": "2023-04-08T10:42:49.964Z"
   },
   {
    "duration": 481,
    "start_time": "2023-04-08T10:43:00.697Z"
   },
   {
    "duration": 322,
    "start_time": "2023-04-08T10:44:52.245Z"
   },
   {
    "duration": 333,
    "start_time": "2023-04-08T10:46:42.334Z"
   },
   {
    "duration": 103,
    "start_time": "2023-04-08T10:49:12.128Z"
   },
   {
    "duration": 1418,
    "start_time": "2023-04-08T10:49:17.658Z"
   },
   {
    "duration": 1233,
    "start_time": "2023-04-08T10:50:03.621Z"
   },
   {
    "duration": 540,
    "start_time": "2023-04-08T10:50:04.856Z"
   },
   {
    "duration": 101,
    "start_time": "2023-04-08T10:50:05.398Z"
   },
   {
    "duration": 122,
    "start_time": "2023-04-08T10:50:05.501Z"
   },
   {
    "duration": 39,
    "start_time": "2023-04-08T10:50:05.626Z"
   },
   {
    "duration": 16,
    "start_time": "2023-04-08T10:50:05.667Z"
   },
   {
    "duration": 17,
    "start_time": "2023-04-08T10:50:05.684Z"
   },
   {
    "duration": 48,
    "start_time": "2023-04-08T10:50:05.703Z"
   },
   {
    "duration": 5,
    "start_time": "2023-04-08T10:50:05.753Z"
   },
   {
    "duration": 6,
    "start_time": "2023-04-08T10:50:05.760Z"
   },
   {
    "duration": 4,
    "start_time": "2023-04-08T10:50:05.768Z"
   },
   {
    "duration": 79,
    "start_time": "2023-04-08T10:50:05.773Z"
   },
   {
    "duration": 4,
    "start_time": "2023-04-08T10:50:05.853Z"
   },
   {
    "duration": 71,
    "start_time": "2023-04-08T10:50:05.861Z"
   },
   {
    "duration": 4,
    "start_time": "2023-04-08T10:50:05.934Z"
   },
   {
    "duration": 50,
    "start_time": "2023-04-08T10:50:05.939Z"
   },
   {
    "duration": 9,
    "start_time": "2023-04-08T10:50:05.991Z"
   },
   {
    "duration": 27,
    "start_time": "2023-04-08T10:50:06.002Z"
   },
   {
    "duration": 7,
    "start_time": "2023-04-08T10:50:06.031Z"
   },
   {
    "duration": 47,
    "start_time": "2023-04-08T10:50:06.040Z"
   },
   {
    "duration": 20,
    "start_time": "2023-04-08T10:50:06.089Z"
   },
   {
    "duration": 19,
    "start_time": "2023-04-08T10:50:06.111Z"
   },
   {
    "duration": 7,
    "start_time": "2023-04-08T10:50:06.148Z"
   },
   {
    "duration": 14,
    "start_time": "2023-04-08T10:50:06.157Z"
   },
   {
    "duration": 31,
    "start_time": "2023-04-08T10:50:06.173Z"
   },
   {
    "duration": 1409,
    "start_time": "2023-04-08T10:50:06.206Z"
   },
   {
    "duration": 0,
    "start_time": "2023-04-08T10:50:07.616Z"
   },
   {
    "duration": 0,
    "start_time": "2023-04-08T10:50:07.617Z"
   },
   {
    "duration": 0,
    "start_time": "2023-04-08T10:50:07.618Z"
   },
   {
    "duration": 1189,
    "start_time": "2023-04-08T10:51:06.955Z"
   },
   {
    "duration": 477,
    "start_time": "2023-04-08T10:51:08.148Z"
   },
   {
    "duration": 42,
    "start_time": "2023-04-08T10:51:08.627Z"
   },
   {
    "duration": 111,
    "start_time": "2023-04-08T10:51:08.670Z"
   },
   {
    "duration": 39,
    "start_time": "2023-04-08T10:51:08.783Z"
   },
   {
    "duration": 15,
    "start_time": "2023-04-08T10:51:08.824Z"
   },
   {
    "duration": 15,
    "start_time": "2023-04-08T10:51:08.848Z"
   },
   {
    "duration": 35,
    "start_time": "2023-04-08T10:51:08.864Z"
   },
   {
    "duration": 4,
    "start_time": "2023-04-08T10:51:08.900Z"
   },
   {
    "duration": 5,
    "start_time": "2023-04-08T10:51:08.907Z"
   },
   {
    "duration": 36,
    "start_time": "2023-04-08T10:51:08.914Z"
   },
   {
    "duration": 59,
    "start_time": "2023-04-08T10:51:08.951Z"
   },
   {
    "duration": 3,
    "start_time": "2023-04-08T10:51:09.012Z"
   },
   {
    "duration": 92,
    "start_time": "2023-04-08T10:51:09.017Z"
   },
   {
    "duration": 4,
    "start_time": "2023-04-08T10:51:09.111Z"
   },
   {
    "duration": 51,
    "start_time": "2023-04-08T10:51:09.117Z"
   },
   {
    "duration": 9,
    "start_time": "2023-04-08T10:51:09.169Z"
   },
   {
    "duration": 8,
    "start_time": "2023-04-08T10:51:09.179Z"
   },
   {
    "duration": 5,
    "start_time": "2023-04-08T10:51:09.188Z"
   },
   {
    "duration": 25,
    "start_time": "2023-04-08T10:51:09.195Z"
   },
   {
    "duration": 20,
    "start_time": "2023-04-08T10:51:09.250Z"
   },
   {
    "duration": 17,
    "start_time": "2023-04-08T10:51:09.272Z"
   },
   {
    "duration": 6,
    "start_time": "2023-04-08T10:51:09.291Z"
   },
   {
    "duration": 12,
    "start_time": "2023-04-08T10:51:09.298Z"
   },
   {
    "duration": 61,
    "start_time": "2023-04-08T10:51:09.311Z"
   },
   {
    "duration": 1329,
    "start_time": "2023-04-08T10:51:09.374Z"
   },
   {
    "duration": 170,
    "start_time": "2023-04-08T10:51:10.705Z"
   },
   {
    "duration": 147,
    "start_time": "2023-04-08T10:51:10.878Z"
   },
   {
    "duration": 411,
    "start_time": "2023-04-08T10:51:11.026Z"
   },
   {
    "duration": 21,
    "start_time": "2023-04-08T10:51:17.421Z"
   },
   {
    "duration": 13,
    "start_time": "2023-04-08T10:51:26.736Z"
   },
   {
    "duration": 21,
    "start_time": "2023-04-08T10:51:32.648Z"
   },
   {
    "duration": 124,
    "start_time": "2023-04-08T10:52:10.066Z"
   },
   {
    "duration": 309,
    "start_time": "2023-04-08T10:52:17.805Z"
   },
   {
    "duration": 326,
    "start_time": "2023-04-08T10:52:26.450Z"
   },
   {
    "duration": 359,
    "start_time": "2023-04-08T10:52:50.724Z"
   },
   {
    "duration": 308,
    "start_time": "2023-04-08T10:52:58.076Z"
   },
   {
    "duration": 358,
    "start_time": "2023-04-08T10:53:24.989Z"
   },
   {
    "duration": 300,
    "start_time": "2023-04-08T10:54:42.254Z"
   },
   {
    "duration": 298,
    "start_time": "2023-04-08T10:55:22.714Z"
   },
   {
    "duration": 311,
    "start_time": "2023-04-08T10:55:30.874Z"
   },
   {
    "duration": 311,
    "start_time": "2023-04-08T10:55:37.527Z"
   },
   {
    "duration": 28,
    "start_time": "2023-04-08T11:11:00.876Z"
   },
   {
    "duration": 13,
    "start_time": "2023-04-08T11:11:05.401Z"
   },
   {
    "duration": 11,
    "start_time": "2023-04-08T11:12:01.067Z"
   },
   {
    "duration": 12,
    "start_time": "2023-04-08T11:12:20.444Z"
   },
   {
    "duration": 9,
    "start_time": "2023-04-08T11:13:24.119Z"
   },
   {
    "duration": 7,
    "start_time": "2023-04-08T11:13:26.089Z"
   },
   {
    "duration": 121,
    "start_time": "2023-04-08T11:13:27.065Z"
   },
   {
    "duration": 183,
    "start_time": "2023-04-08T11:13:38.501Z"
   },
   {
    "duration": 13,
    "start_time": "2023-04-08T11:13:46.955Z"
   },
   {
    "duration": 10,
    "start_time": "2023-04-08T11:13:51.431Z"
   },
   {
    "duration": 6,
    "start_time": "2023-04-08T11:13:58.857Z"
   },
   {
    "duration": 101,
    "start_time": "2023-04-08T11:14:01.108Z"
   },
   {
    "duration": 15,
    "start_time": "2023-04-08T11:14:13.315Z"
   },
   {
    "duration": 10,
    "start_time": "2023-04-08T11:14:19.779Z"
   },
   {
    "duration": 14,
    "start_time": "2023-04-08T11:14:22.394Z"
   },
   {
    "duration": 60,
    "start_time": "2023-04-08T11:15:14.831Z"
   },
   {
    "duration": 58,
    "start_time": "2023-04-08T11:15:35.246Z"
   },
   {
    "duration": 65,
    "start_time": "2023-04-08T11:16:05.951Z"
   },
   {
    "duration": 65,
    "start_time": "2023-04-08T11:16:57.960Z"
   },
   {
    "duration": 71,
    "start_time": "2023-04-08T11:17:01.303Z"
   },
   {
    "duration": 87,
    "start_time": "2023-04-08T11:17:09.795Z"
   },
   {
    "duration": 61,
    "start_time": "2023-04-08T11:17:45.500Z"
   },
   {
    "duration": 112,
    "start_time": "2023-04-08T11:18:31.162Z"
   },
   {
    "duration": 175,
    "start_time": "2023-04-08T11:19:14.775Z"
   },
   {
    "duration": 138,
    "start_time": "2023-04-08T11:20:01.723Z"
   },
   {
    "duration": 123,
    "start_time": "2023-04-08T11:20:16.688Z"
   },
   {
    "duration": 93,
    "start_time": "2023-04-08T11:20:23.298Z"
   },
   {
    "duration": 107,
    "start_time": "2023-04-08T11:20:34.620Z"
   },
   {
    "duration": 16,
    "start_time": "2023-04-08T11:20:50.181Z"
   },
   {
    "duration": 169,
    "start_time": "2023-04-08T11:21:03.990Z"
   },
   {
    "duration": 98,
    "start_time": "2023-04-08T11:21:08.906Z"
   },
   {
    "duration": 110,
    "start_time": "2023-04-08T11:21:21.248Z"
   },
   {
    "duration": 115,
    "start_time": "2023-04-08T11:28:28.341Z"
   },
   {
    "duration": 121,
    "start_time": "2023-04-08T11:35:04.182Z"
   },
   {
    "duration": 21,
    "start_time": "2023-04-08T11:42:37.994Z"
   },
   {
    "duration": 1143,
    "start_time": "2023-04-08T11:43:48.302Z"
   },
   {
    "duration": 313,
    "start_time": "2023-04-08T11:44:46.404Z"
   },
   {
    "duration": 308,
    "start_time": "2023-04-08T11:44:57.276Z"
   },
   {
    "duration": 1250,
    "start_time": "2023-04-08T11:45:39.287Z"
   },
   {
    "duration": 224,
    "start_time": "2023-04-08T11:45:47.870Z"
   },
   {
    "duration": 67,
    "start_time": "2023-04-08T11:46:46.040Z"
   },
   {
    "duration": 227,
    "start_time": "2023-04-08T11:46:50.582Z"
   },
   {
    "duration": 14,
    "start_time": "2023-04-08T11:53:38.492Z"
   },
   {
    "duration": 41,
    "start_time": "2023-04-08T11:57:55.235Z"
   },
   {
    "duration": 13,
    "start_time": "2023-04-08T11:58:05.193Z"
   },
   {
    "duration": 15,
    "start_time": "2023-04-08T11:58:37.588Z"
   },
   {
    "duration": 14,
    "start_time": "2023-04-08T11:58:42.160Z"
   },
   {
    "duration": 68,
    "start_time": "2023-04-08T11:59:12.406Z"
   },
   {
    "duration": 10,
    "start_time": "2023-04-08T11:59:17.152Z"
   },
   {
    "duration": 70,
    "start_time": "2023-04-08T11:59:30.814Z"
   },
   {
    "duration": 4,
    "start_time": "2023-04-08T11:59:37.964Z"
   },
   {
    "duration": 1229,
    "start_time": "2023-04-08T11:59:41.693Z"
   },
   {
    "duration": 144,
    "start_time": "2023-04-08T11:59:58.104Z"
   },
   {
    "duration": 110,
    "start_time": "2023-04-08T12:00:12.990Z"
   },
   {
    "duration": 112,
    "start_time": "2023-04-08T12:01:36.768Z"
   },
   {
    "duration": 108,
    "start_time": "2023-04-08T12:01:50.733Z"
   },
   {
    "duration": 112,
    "start_time": "2023-04-08T12:01:55.227Z"
   },
   {
    "duration": 130,
    "start_time": "2023-04-08T12:02:04.569Z"
   },
   {
    "duration": 118,
    "start_time": "2023-04-08T12:02:08.983Z"
   },
   {
    "duration": 93,
    "start_time": "2023-04-08T12:05:58.640Z"
   },
   {
    "duration": 301,
    "start_time": "2023-04-08T12:06:36.490Z"
   },
   {
    "duration": 440,
    "start_time": "2023-04-08T12:07:04.410Z"
   },
   {
    "duration": 331,
    "start_time": "2023-04-08T12:07:16.174Z"
   },
   {
    "duration": 385,
    "start_time": "2023-04-08T12:07:44.441Z"
   },
   {
    "duration": 302,
    "start_time": "2023-04-08T12:07:50.836Z"
   },
   {
    "duration": 380,
    "start_time": "2023-04-08T12:07:55.172Z"
   },
   {
    "duration": 243,
    "start_time": "2023-04-08T12:08:20.677Z"
   },
   {
    "duration": 315,
    "start_time": "2023-04-08T12:08:33.550Z"
   },
   {
    "duration": 368,
    "start_time": "2023-04-08T12:08:53.296Z"
   },
   {
    "duration": 344,
    "start_time": "2023-04-08T12:09:37.893Z"
   },
   {
    "duration": 430,
    "start_time": "2023-04-08T12:09:59.025Z"
   },
   {
    "duration": 391,
    "start_time": "2023-04-08T12:10:48.000Z"
   },
   {
    "duration": 356,
    "start_time": "2023-04-08T12:11:06.193Z"
   },
   {
    "duration": 359,
    "start_time": "2023-04-08T12:11:45.623Z"
   },
   {
    "duration": 361,
    "start_time": "2023-04-08T12:11:58.355Z"
   },
   {
    "duration": 459,
    "start_time": "2023-04-08T12:12:05.122Z"
   },
   {
    "duration": 327,
    "start_time": "2023-04-08T12:12:24.399Z"
   },
   {
    "duration": 326,
    "start_time": "2023-04-08T12:13:12.080Z"
   },
   {
    "duration": 22,
    "start_time": "2023-04-08T12:28:11.455Z"
   },
   {
    "duration": 11,
    "start_time": "2023-04-08T12:28:58.733Z"
   },
   {
    "duration": 11,
    "start_time": "2023-04-08T12:29:09.976Z"
   },
   {
    "duration": 10,
    "start_time": "2023-04-08T12:29:15.718Z"
   },
   {
    "duration": 15,
    "start_time": "2023-04-08T12:29:51.304Z"
   },
   {
    "duration": 13,
    "start_time": "2023-04-08T12:30:08.598Z"
   },
   {
    "duration": 22,
    "start_time": "2023-04-08T12:30:50.379Z"
   },
   {
    "duration": 236,
    "start_time": "2023-04-08T12:31:04.004Z"
   },
   {
    "duration": 199,
    "start_time": "2023-04-08T12:31:14.741Z"
   },
   {
    "duration": 216,
    "start_time": "2023-04-08T12:31:21.031Z"
   },
   {
    "duration": 194,
    "start_time": "2023-04-08T12:31:26.824Z"
   },
   {
    "duration": 221,
    "start_time": "2023-04-08T12:32:22.301Z"
   },
   {
    "duration": 294,
    "start_time": "2023-04-08T12:32:32.730Z"
   },
   {
    "duration": 218,
    "start_time": "2023-04-08T12:32:43.883Z"
   },
   {
    "duration": 185,
    "start_time": "2023-04-08T12:33:21.999Z"
   },
   {
    "duration": 230,
    "start_time": "2023-04-08T12:33:29.701Z"
   },
   {
    "duration": 198,
    "start_time": "2023-04-08T12:33:53.224Z"
   },
   {
    "duration": 194,
    "start_time": "2023-04-08T12:33:58.620Z"
   },
   {
    "duration": 226,
    "start_time": "2023-04-08T12:34:07.406Z"
   },
   {
    "duration": 206,
    "start_time": "2023-04-08T12:34:43.468Z"
   },
   {
    "duration": 214,
    "start_time": "2023-04-08T12:34:51.140Z"
   },
   {
    "duration": 200,
    "start_time": "2023-04-08T12:36:15.500Z"
   },
   {
    "duration": 209,
    "start_time": "2023-04-08T12:36:20.994Z"
   },
   {
    "duration": 9,
    "start_time": "2023-04-08T12:44:58.613Z"
   },
   {
    "duration": 7,
    "start_time": "2023-04-08T12:45:01.087Z"
   },
   {
    "duration": 8,
    "start_time": "2023-04-08T12:45:04.739Z"
   },
   {
    "duration": 21,
    "start_time": "2023-04-08T12:45:16.801Z"
   },
   {
    "duration": 19,
    "start_time": "2023-04-08T12:45:54.608Z"
   },
   {
    "duration": 10,
    "start_time": "2023-04-08T12:45:59.849Z"
   },
   {
    "duration": 7,
    "start_time": "2023-04-08T12:46:01.158Z"
   },
   {
    "duration": 9,
    "start_time": "2023-04-08T12:46:12.453Z"
   },
   {
    "duration": 7,
    "start_time": "2023-04-08T12:46:15.181Z"
   },
   {
    "duration": 18,
    "start_time": "2023-04-08T12:47:35.867Z"
   },
   {
    "duration": 11,
    "start_time": "2023-04-08T12:47:45.142Z"
   },
   {
    "duration": 9,
    "start_time": "2023-04-08T12:48:13.645Z"
   },
   {
    "duration": 7,
    "start_time": "2023-04-08T12:48:17.666Z"
   },
   {
    "duration": 9,
    "start_time": "2023-04-08T12:48:28.693Z"
   },
   {
    "duration": 7,
    "start_time": "2023-04-08T12:48:31.882Z"
   },
   {
    "duration": 10,
    "start_time": "2023-04-08T12:49:05.830Z"
   },
   {
    "duration": 281,
    "start_time": "2023-04-08T12:49:24.069Z"
   },
   {
    "duration": 206,
    "start_time": "2023-04-08T12:49:43.441Z"
   },
   {
    "duration": 41,
    "start_time": "2023-04-08T12:52:44.524Z"
   },
   {
    "duration": 424,
    "start_time": "2023-04-08T12:52:59.813Z"
   },
   {
    "duration": 491,
    "start_time": "2023-04-08T12:53:20.051Z"
   },
   {
    "duration": 601,
    "start_time": "2023-04-08T12:54:40.583Z"
   },
   {
    "duration": 480,
    "start_time": "2023-04-08T12:54:45.630Z"
   },
   {
    "duration": 15,
    "start_time": "2023-04-08T12:55:08.532Z"
   },
   {
    "duration": 15,
    "start_time": "2023-04-08T12:55:20.836Z"
   },
   {
    "duration": 15,
    "start_time": "2023-04-08T12:55:23.379Z"
   },
   {
    "duration": 469,
    "start_time": "2023-04-08T12:55:27.712Z"
   },
   {
    "duration": 547,
    "start_time": "2023-04-08T12:56:05.579Z"
   },
   {
    "duration": 3,
    "start_time": "2023-04-08T12:56:48.650Z"
   },
   {
    "duration": 483,
    "start_time": "2023-04-08T12:56:59.882Z"
   },
   {
    "duration": 3,
    "start_time": "2023-04-08T12:57:24.685Z"
   },
   {
    "duration": 480,
    "start_time": "2023-04-08T12:57:30.018Z"
   },
   {
    "duration": 469,
    "start_time": "2023-04-08T12:57:41.984Z"
   },
   {
    "duration": 550,
    "start_time": "2023-04-08T12:59:18.563Z"
   },
   {
    "duration": 493,
    "start_time": "2023-04-08T12:59:37.329Z"
   },
   {
    "duration": 16,
    "start_time": "2023-04-08T12:59:54.769Z"
   },
   {
    "duration": 530,
    "start_time": "2023-04-08T13:00:00.360Z"
   },
   {
    "duration": 270,
    "start_time": "2023-04-08T13:00:21.745Z"
   },
   {
    "duration": 580,
    "start_time": "2023-04-08T13:00:30.143Z"
   },
   {
    "duration": 489,
    "start_time": "2023-04-08T13:00:37.670Z"
   },
   {
    "duration": 212,
    "start_time": "2023-04-08T13:00:47.915Z"
   },
   {
    "duration": 224,
    "start_time": "2023-04-08T13:00:56.287Z"
   },
   {
    "duration": 316,
    "start_time": "2023-04-08T13:01:01.298Z"
   },
   {
    "duration": 594,
    "start_time": "2023-04-08T13:01:23.868Z"
   },
   {
    "duration": 490,
    "start_time": "2023-04-08T13:01:32.381Z"
   },
   {
    "duration": 512,
    "start_time": "2023-04-08T13:01:37.730Z"
   },
   {
    "duration": 557,
    "start_time": "2023-04-08T13:02:21.855Z"
   },
   {
    "duration": 542,
    "start_time": "2023-04-08T13:02:29.935Z"
   },
   {
    "duration": 499,
    "start_time": "2023-04-08T13:02:36.662Z"
   },
   {
    "duration": 494,
    "start_time": "2023-04-08T13:02:43.070Z"
   },
   {
    "duration": 455,
    "start_time": "2023-04-08T13:02:57.525Z"
   },
   {
    "duration": 506,
    "start_time": "2023-04-08T13:03:13.079Z"
   },
   {
    "duration": 476,
    "start_time": "2023-04-08T13:03:47.004Z"
   },
   {
    "duration": 471,
    "start_time": "2023-04-08T13:03:51.189Z"
   },
   {
    "duration": 492,
    "start_time": "2023-04-08T13:04:03.636Z"
   },
   {
    "duration": 487,
    "start_time": "2023-04-08T13:05:13.202Z"
   },
   {
    "duration": 577,
    "start_time": "2023-04-08T13:05:18.295Z"
   },
   {
    "duration": 488,
    "start_time": "2023-04-08T13:05:23.868Z"
   },
   {
    "duration": 482,
    "start_time": "2023-04-08T13:05:50.303Z"
   },
   {
    "duration": 577,
    "start_time": "2023-04-08T13:06:10.929Z"
   },
   {
    "duration": 490,
    "start_time": "2023-04-08T13:11:29.121Z"
   },
   {
    "duration": 490,
    "start_time": "2023-04-08T13:11:46.569Z"
   },
   {
    "duration": 503,
    "start_time": "2023-04-08T13:11:55.920Z"
   },
   {
    "duration": 582,
    "start_time": "2023-04-08T13:12:32.588Z"
   },
   {
    "duration": 516,
    "start_time": "2023-04-08T13:13:10.829Z"
   },
   {
    "duration": 489,
    "start_time": "2023-04-08T13:13:25.966Z"
   },
   {
    "duration": 515,
    "start_time": "2023-04-08T13:13:47.505Z"
   },
   {
    "duration": 656,
    "start_time": "2023-04-08T13:14:08.932Z"
   },
   {
    "duration": 526,
    "start_time": "2023-04-08T13:14:28.758Z"
   },
   {
    "duration": 520,
    "start_time": "2023-04-08T13:14:33.883Z"
   },
   {
    "duration": 594,
    "start_time": "2023-04-08T13:14:37.334Z"
   },
   {
    "duration": 533,
    "start_time": "2023-04-08T13:15:20.953Z"
   },
   {
    "duration": 225,
    "start_time": "2023-04-08T13:26:20.689Z"
   },
   {
    "duration": 229,
    "start_time": "2023-04-08T13:26:46.396Z"
   },
   {
    "duration": 238,
    "start_time": "2023-04-08T13:41:08.167Z"
   },
   {
    "duration": 334,
    "start_time": "2023-04-08T13:41:24.645Z"
   },
   {
    "duration": 1334,
    "start_time": "2023-04-08T13:43:14.292Z"
   },
   {
    "duration": 185,
    "start_time": "2023-04-08T13:43:28.646Z"
   },
   {
    "duration": 157,
    "start_time": "2023-04-08T13:43:35.855Z"
   },
   {
    "duration": 264,
    "start_time": "2023-04-08T13:44:37.426Z"
   },
   {
    "duration": 1221,
    "start_time": "2023-04-08T19:24:43.225Z"
   },
   {
    "duration": 418,
    "start_time": "2023-04-08T19:24:44.447Z"
   },
   {
    "duration": 74,
    "start_time": "2023-04-08T19:24:44.867Z"
   },
   {
    "duration": 115,
    "start_time": "2023-04-08T19:24:44.943Z"
   },
   {
    "duration": 41,
    "start_time": "2023-04-08T19:24:45.059Z"
   },
   {
    "duration": 13,
    "start_time": "2023-04-08T19:24:45.102Z"
   },
   {
    "duration": 13,
    "start_time": "2023-04-08T19:24:45.116Z"
   },
   {
    "duration": 51,
    "start_time": "2023-04-08T19:24:45.131Z"
   },
   {
    "duration": 5,
    "start_time": "2023-04-08T19:24:45.183Z"
   },
   {
    "duration": 10,
    "start_time": "2023-04-08T19:24:45.190Z"
   },
   {
    "duration": 4,
    "start_time": "2023-04-08T19:24:45.202Z"
   },
   {
    "duration": 70,
    "start_time": "2023-04-08T19:24:45.208Z"
   },
   {
    "duration": 4,
    "start_time": "2023-04-08T19:24:45.280Z"
   },
   {
    "duration": 61,
    "start_time": "2023-04-08T19:24:45.285Z"
   },
   {
    "duration": 3,
    "start_time": "2023-04-08T19:24:45.347Z"
   },
   {
    "duration": 49,
    "start_time": "2023-04-08T19:24:45.352Z"
   },
   {
    "duration": 10,
    "start_time": "2023-04-08T19:24:45.403Z"
   },
   {
    "duration": 8,
    "start_time": "2023-04-08T19:24:45.415Z"
   },
   {
    "duration": 5,
    "start_time": "2023-04-08T19:24:45.424Z"
   },
   {
    "duration": 45,
    "start_time": "2023-04-08T19:24:45.430Z"
   },
   {
    "duration": 15,
    "start_time": "2023-04-08T19:24:45.477Z"
   },
   {
    "duration": 15,
    "start_time": "2023-04-08T19:24:45.493Z"
   },
   {
    "duration": 5,
    "start_time": "2023-04-08T19:24:45.510Z"
   },
   {
    "duration": 5,
    "start_time": "2023-04-08T19:24:45.517Z"
   },
   {
    "duration": 62,
    "start_time": "2023-04-08T19:24:45.523Z"
   },
   {
    "duration": 1353,
    "start_time": "2023-04-08T19:24:45.587Z"
   },
   {
    "duration": 178,
    "start_time": "2023-04-08T19:24:46.941Z"
   },
   {
    "duration": 140,
    "start_time": "2023-04-08T19:24:47.122Z"
   },
   {
    "duration": 398,
    "start_time": "2023-04-08T19:24:47.263Z"
   },
   {
    "duration": 140,
    "start_time": "2023-04-08T19:24:47.663Z"
   },
   {
    "duration": 110,
    "start_time": "2023-04-08T19:24:47.805Z"
   },
   {
    "duration": 214,
    "start_time": "2023-04-08T19:24:47.916Z"
   },
   {
    "duration": 312,
    "start_time": "2023-04-08T19:24:48.132Z"
   },
   {
    "duration": 194,
    "start_time": "2023-04-08T19:24:48.445Z"
   },
   {
    "duration": 466,
    "start_time": "2023-04-08T19:24:48.641Z"
   },
   {
    "duration": 18,
    "start_time": "2023-04-08T19:29:02.013Z"
   },
   {
    "duration": 10,
    "start_time": "2023-04-08T19:30:01.110Z"
   },
   {
    "duration": 5,
    "start_time": "2023-04-08T19:30:06.784Z"
   },
   {
    "duration": 109,
    "start_time": "2023-04-08T19:53:58.803Z"
   },
   {
    "duration": 3,
    "start_time": "2023-04-08T19:54:34.060Z"
   },
   {
    "duration": 9,
    "start_time": "2023-04-08T19:54:39.028Z"
   },
   {
    "duration": 10,
    "start_time": "2023-04-08T20:11:18.231Z"
   },
   {
    "duration": 70,
    "start_time": "2023-04-08T20:16:06.866Z"
   },
   {
    "duration": 7,
    "start_time": "2023-04-08T20:21:02.511Z"
   },
   {
    "duration": 26,
    "start_time": "2023-04-08T20:23:31.455Z"
   },
   {
    "duration": 76,
    "start_time": "2023-04-08T20:24:19.331Z"
   },
   {
    "duration": 82,
    "start_time": "2023-04-08T20:24:24.802Z"
   },
   {
    "duration": 4,
    "start_time": "2023-04-08T20:24:44.152Z"
   },
   {
    "duration": 11,
    "start_time": "2023-04-08T20:25:14.926Z"
   },
   {
    "duration": 4,
    "start_time": "2023-04-08T20:30:55.481Z"
   },
   {
    "duration": 10,
    "start_time": "2023-04-08T20:30:56.483Z"
   },
   {
    "duration": 4,
    "start_time": "2023-04-08T20:31:22.449Z"
   },
   {
    "duration": 47,
    "start_time": "2023-04-08T20:31:24.040Z"
   },
   {
    "duration": 5,
    "start_time": "2023-04-08T20:31:47.495Z"
   },
   {
    "duration": 10,
    "start_time": "2023-04-08T20:31:49.772Z"
   },
   {
    "duration": 10,
    "start_time": "2023-04-08T20:32:06.143Z"
   },
   {
    "duration": 4,
    "start_time": "2023-04-08T20:32:44.092Z"
   },
   {
    "duration": 11,
    "start_time": "2023-04-08T20:32:46.119Z"
   },
   {
    "duration": 6,
    "start_time": "2023-04-08T20:33:18.837Z"
   },
   {
    "duration": 6,
    "start_time": "2023-04-08T20:33:25.150Z"
   },
   {
    "duration": 11,
    "start_time": "2023-04-08T20:33:26.317Z"
   },
   {
    "duration": 10,
    "start_time": "2023-04-08T20:33:27.693Z"
   },
   {
    "duration": 11,
    "start_time": "2023-04-08T20:33:37.745Z"
   },
   {
    "duration": 11,
    "start_time": "2023-04-08T20:33:40.747Z"
   },
   {
    "duration": 14,
    "start_time": "2023-04-08T20:34:03.431Z"
   },
   {
    "duration": 5,
    "start_time": "2023-04-08T20:34:47.495Z"
   },
   {
    "duration": 11,
    "start_time": "2023-04-08T20:34:49.219Z"
   },
   {
    "duration": 49,
    "start_time": "2023-04-08T20:34:55.357Z"
   },
   {
    "duration": 5,
    "start_time": "2023-04-08T20:37:16.243Z"
   },
   {
    "duration": 30,
    "start_time": "2023-04-08T20:37:18.143Z"
   },
   {
    "duration": 11,
    "start_time": "2023-04-08T20:37:21.905Z"
   },
   {
    "duration": 11,
    "start_time": "2023-04-08T20:38:03.007Z"
   },
   {
    "duration": 5,
    "start_time": "2023-04-08T20:38:05.094Z"
   },
   {
    "duration": 10,
    "start_time": "2023-04-08T20:38:05.911Z"
   },
   {
    "duration": 52,
    "start_time": "2023-04-08T20:38:21.674Z"
   },
   {
    "duration": 5,
    "start_time": "2023-04-08T20:38:34.368Z"
   },
   {
    "duration": 12,
    "start_time": "2023-04-08T20:38:36.775Z"
   },
   {
    "duration": 6,
    "start_time": "2023-04-08T20:38:42.587Z"
   },
   {
    "duration": 13,
    "start_time": "2023-04-08T20:38:44.357Z"
   },
   {
    "duration": 5,
    "start_time": "2023-04-08T20:39:27.448Z"
   },
   {
    "duration": 10,
    "start_time": "2023-04-08T20:39:28.592Z"
   },
   {
    "duration": 8,
    "start_time": "2023-04-08T20:40:46.716Z"
   },
   {
    "duration": 14,
    "start_time": "2023-04-08T20:40:55.825Z"
   },
   {
    "duration": 6,
    "start_time": "2023-04-08T20:41:26.686Z"
   },
   {
    "duration": 24,
    "start_time": "2023-04-08T20:41:41.333Z"
   },
   {
    "duration": 4,
    "start_time": "2023-04-08T20:43:08.114Z"
   },
   {
    "duration": 30,
    "start_time": "2023-04-08T20:43:11.807Z"
   },
   {
    "duration": 5,
    "start_time": "2023-04-08T20:43:22.185Z"
   },
   {
    "duration": 31,
    "start_time": "2023-04-08T20:43:25.667Z"
   },
   {
    "duration": 4,
    "start_time": "2023-04-08T20:44:25.339Z"
   },
   {
    "duration": 32,
    "start_time": "2023-04-08T20:44:27.321Z"
   },
   {
    "duration": 37,
    "start_time": "2023-04-08T20:44:35.819Z"
   },
   {
    "duration": 28,
    "start_time": "2023-04-08T20:44:50.963Z"
   },
   {
    "duration": 29,
    "start_time": "2023-04-08T20:45:00.371Z"
   },
   {
    "duration": 4,
    "start_time": "2023-04-08T20:45:10.352Z"
   },
   {
    "duration": 62,
    "start_time": "2023-04-08T20:50:10.757Z"
   },
   {
    "duration": 128,
    "start_time": "2023-04-08T20:53:19.630Z"
   },
   {
    "duration": 75,
    "start_time": "2023-04-08T20:53:30.357Z"
   },
   {
    "duration": 5,
    "start_time": "2023-04-08T20:53:42.453Z"
   },
   {
    "duration": 64,
    "start_time": "2023-04-08T20:53:45.305Z"
   },
   {
    "duration": 77,
    "start_time": "2023-04-08T20:56:50.489Z"
   },
   {
    "duration": 8,
    "start_time": "2023-04-08T20:57:02.945Z"
   },
   {
    "duration": 40,
    "start_time": "2023-04-08T20:57:05.400Z"
   },
   {
    "duration": 70,
    "start_time": "2023-04-08T20:57:25.119Z"
   },
   {
    "duration": 76,
    "start_time": "2023-04-08T20:57:31.202Z"
   },
   {
    "duration": 49,
    "start_time": "2023-04-08T20:57:35.574Z"
   },
   {
    "duration": 40,
    "start_time": "2023-04-08T20:57:47.334Z"
   },
   {
    "duration": 43,
    "start_time": "2023-04-08T20:57:54.157Z"
   },
   {
    "duration": 41,
    "start_time": "2023-04-08T20:58:03.312Z"
   },
   {
    "duration": 43,
    "start_time": "2023-04-08T20:58:22.575Z"
   },
   {
    "duration": 79,
    "start_time": "2023-04-08T21:17:12.882Z"
   },
   {
    "duration": 8,
    "start_time": "2023-04-08T21:17:17.266Z"
   },
   {
    "duration": 10,
    "start_time": "2023-04-08T21:17:20.131Z"
   },
   {
    "duration": 11,
    "start_time": "2023-04-08T21:17:41.836Z"
   },
   {
    "duration": 10,
    "start_time": "2023-04-08T21:17:57.758Z"
   },
   {
    "duration": 1292,
    "start_time": "2023-04-08T21:18:02.151Z"
   },
   {
    "duration": 4,
    "start_time": "2023-04-08T21:18:10.239Z"
   },
   {
    "duration": 4,
    "start_time": "2023-04-08T21:19:06.851Z"
   },
   {
    "duration": 13,
    "start_time": "2023-04-08T21:19:18.235Z"
   },
   {
    "duration": 27,
    "start_time": "2023-04-08T21:19:37.619Z"
   },
   {
    "duration": 1229,
    "start_time": "2023-04-08T21:19:47.614Z"
   },
   {
    "duration": 13,
    "start_time": "2023-04-08T21:19:56.782Z"
   },
   {
    "duration": 13,
    "start_time": "2023-04-08T21:20:02.526Z"
   },
   {
    "duration": 8,
    "start_time": "2023-04-08T21:22:26.993Z"
   },
   {
    "duration": 13,
    "start_time": "2023-04-08T21:23:55.000Z"
   },
   {
    "duration": 13,
    "start_time": "2023-04-08T21:56:20.284Z"
   },
   {
    "duration": 54,
    "start_time": "2023-04-09T18:39:26.940Z"
   },
   {
    "duration": 1440,
    "start_time": "2023-04-09T18:39:37.707Z"
   },
   {
    "duration": 710,
    "start_time": "2023-04-09T18:39:39.150Z"
   },
   {
    "duration": 80,
    "start_time": "2023-04-09T18:39:39.862Z"
   },
   {
    "duration": 202,
    "start_time": "2023-04-09T18:39:39.944Z"
   },
   {
    "duration": 63,
    "start_time": "2023-04-09T18:39:40.149Z"
   },
   {
    "duration": 24,
    "start_time": "2023-04-09T18:39:40.217Z"
   },
   {
    "duration": 18,
    "start_time": "2023-04-09T18:39:40.244Z"
   },
   {
    "duration": 75,
    "start_time": "2023-04-09T18:39:40.264Z"
   },
   {
    "duration": 10,
    "start_time": "2023-04-09T18:39:40.341Z"
   },
   {
    "duration": 16,
    "start_time": "2023-04-09T18:39:40.353Z"
   },
   {
    "duration": 5,
    "start_time": "2023-04-09T18:39:40.371Z"
   },
   {
    "duration": 102,
    "start_time": "2023-04-09T18:39:40.378Z"
   },
   {
    "duration": 6,
    "start_time": "2023-04-09T18:39:40.482Z"
   },
   {
    "duration": 117,
    "start_time": "2023-04-09T18:39:40.491Z"
   },
   {
    "duration": 5,
    "start_time": "2023-04-09T18:39:40.612Z"
   },
   {
    "duration": 55,
    "start_time": "2023-04-09T18:39:40.619Z"
   },
   {
    "duration": 13,
    "start_time": "2023-04-09T18:39:40.676Z"
   },
   {
    "duration": 11,
    "start_time": "2023-04-09T18:39:40.691Z"
   },
   {
    "duration": 20,
    "start_time": "2023-04-09T18:39:40.726Z"
   },
   {
    "duration": 36,
    "start_time": "2023-04-09T18:39:40.749Z"
   },
   {
    "duration": 28,
    "start_time": "2023-04-09T18:39:40.788Z"
   },
   {
    "duration": 29,
    "start_time": "2023-04-09T18:39:40.828Z"
   },
   {
    "duration": 8,
    "start_time": "2023-04-09T18:39:40.859Z"
   },
   {
    "duration": 8,
    "start_time": "2023-04-09T18:39:40.869Z"
   },
   {
    "duration": 67,
    "start_time": "2023-04-09T18:39:40.879Z"
   },
   {
    "duration": 1607,
    "start_time": "2023-04-09T18:39:40.948Z"
   },
   {
    "duration": 198,
    "start_time": "2023-04-09T18:39:42.557Z"
   },
   {
    "duration": 177,
    "start_time": "2023-04-09T18:39:42.757Z"
   },
   {
    "duration": 459,
    "start_time": "2023-04-09T18:39:42.938Z"
   },
   {
    "duration": 187,
    "start_time": "2023-04-09T18:39:43.399Z"
   },
   {
    "duration": 152,
    "start_time": "2023-04-09T18:39:43.588Z"
   },
   {
    "duration": 255,
    "start_time": "2023-04-09T18:39:43.742Z"
   },
   {
    "duration": 382,
    "start_time": "2023-04-09T18:39:43.999Z"
   },
   {
    "duration": 233,
    "start_time": "2023-04-09T18:39:44.383Z"
   },
   {
    "duration": 240,
    "start_time": "2023-04-09T18:39:44.622Z"
   },
   {
    "duration": 14,
    "start_time": "2023-04-09T18:39:44.864Z"
   },
   {
    "duration": 6,
    "start_time": "2023-04-09T18:39:44.880Z"
   },
   {
    "duration": 86,
    "start_time": "2023-04-09T18:39:44.888Z"
   },
   {
    "duration": 4,
    "start_time": "2023-04-09T18:39:44.976Z"
   },
   {
    "duration": 9,
    "start_time": "2023-04-09T18:39:44.982Z"
   },
   {
    "duration": 32,
    "start_time": "2023-04-09T18:39:44.995Z"
   },
   {
    "duration": 20,
    "start_time": "2023-04-09T18:39:45.038Z"
   },
   {
    "duration": 617,
    "start_time": "2023-04-09T18:40:03.229Z"
   },
   {
    "duration": 684,
    "start_time": "2023-04-09T18:43:53.296Z"
   },
   {
    "duration": 612,
    "start_time": "2023-04-09T18:44:53.484Z"
   },
   {
    "duration": 595,
    "start_time": "2023-04-09T18:45:54.346Z"
   },
   {
    "duration": 613,
    "start_time": "2023-04-09T18:46:03.704Z"
   },
   {
    "duration": 596,
    "start_time": "2023-04-09T18:46:59.743Z"
   },
   {
    "duration": 13,
    "start_time": "2023-04-09T18:54:19.795Z"
   },
   {
    "duration": 13,
    "start_time": "2023-04-09T18:54:52.545Z"
   },
   {
    "duration": 12,
    "start_time": "2023-04-09T19:03:05.450Z"
   },
   {
    "duration": 1650,
    "start_time": "2023-04-10T07:03:18.541Z"
   },
   {
    "duration": 490,
    "start_time": "2023-04-10T07:03:20.193Z"
   },
   {
    "duration": 92,
    "start_time": "2023-04-10T07:03:20.685Z"
   },
   {
    "duration": 142,
    "start_time": "2023-04-10T07:03:20.779Z"
   },
   {
    "duration": 56,
    "start_time": "2023-04-10T07:03:20.923Z"
   },
   {
    "duration": 18,
    "start_time": "2023-04-10T07:03:20.981Z"
   },
   {
    "duration": 38,
    "start_time": "2023-04-10T07:03:21.002Z"
   },
   {
    "duration": 40,
    "start_time": "2023-04-10T07:03:21.043Z"
   },
   {
    "duration": 6,
    "start_time": "2023-04-10T07:03:21.086Z"
   },
   {
    "duration": 10,
    "start_time": "2023-04-10T07:03:21.094Z"
   },
   {
    "duration": 29,
    "start_time": "2023-04-10T07:03:21.106Z"
   },
   {
    "duration": 75,
    "start_time": "2023-04-10T07:03:21.137Z"
   },
   {
    "duration": 19,
    "start_time": "2023-04-10T07:03:21.214Z"
   },
   {
    "duration": 77,
    "start_time": "2023-04-10T07:03:21.235Z"
   },
   {
    "duration": 3,
    "start_time": "2023-04-10T07:03:21.314Z"
   },
   {
    "duration": 65,
    "start_time": "2023-04-10T07:03:21.334Z"
   },
   {
    "duration": 10,
    "start_time": "2023-04-10T07:03:21.401Z"
   },
   {
    "duration": 14,
    "start_time": "2023-04-10T07:03:21.413Z"
   },
   {
    "duration": 7,
    "start_time": "2023-04-10T07:03:21.430Z"
   },
   {
    "duration": 29,
    "start_time": "2023-04-10T07:03:21.439Z"
   },
   {
    "duration": 23,
    "start_time": "2023-04-10T07:03:21.470Z"
   },
   {
    "duration": 50,
    "start_time": "2023-04-10T07:03:21.495Z"
   },
   {
    "duration": 7,
    "start_time": "2023-04-10T07:03:21.549Z"
   },
   {
    "duration": 10,
    "start_time": "2023-04-10T07:03:21.558Z"
   },
   {
    "duration": 39,
    "start_time": "2023-04-10T07:03:21.570Z"
   },
   {
    "duration": 1633,
    "start_time": "2023-04-10T07:03:21.633Z"
   },
   {
    "duration": 199,
    "start_time": "2023-04-10T07:03:23.268Z"
   },
   {
    "duration": 164,
    "start_time": "2023-04-10T07:03:23.469Z"
   },
   {
    "duration": 543,
    "start_time": "2023-04-10T07:03:23.635Z"
   },
   {
    "duration": 177,
    "start_time": "2023-04-10T07:03:24.180Z"
   },
   {
    "duration": 138,
    "start_time": "2023-04-10T07:03:24.359Z"
   },
   {
    "duration": 264,
    "start_time": "2023-04-10T07:03:24.499Z"
   },
   {
    "duration": 416,
    "start_time": "2023-04-10T07:03:24.766Z"
   },
   {
    "duration": 254,
    "start_time": "2023-04-10T07:03:25.184Z"
   },
   {
    "duration": 583,
    "start_time": "2023-04-10T07:03:25.440Z"
   },
   {
    "duration": 24,
    "start_time": "2023-04-10T07:03:26.025Z"
   },
   {
    "duration": 26,
    "start_time": "2023-04-10T07:03:26.051Z"
   },
   {
    "duration": 85,
    "start_time": "2023-04-10T07:03:26.079Z"
   },
   {
    "duration": 4,
    "start_time": "2023-04-10T07:03:26.166Z"
   },
   {
    "duration": 19,
    "start_time": "2023-04-10T07:03:26.172Z"
   },
   {
    "duration": 12,
    "start_time": "2023-04-10T07:03:26.193Z"
   },
   {
    "duration": 31,
    "start_time": "2023-04-10T07:03:26.207Z"
   },
   {
    "duration": 1404,
    "start_time": "2023-04-10T08:22:19.431Z"
   },
   {
    "duration": 400,
    "start_time": "2023-04-10T08:22:20.838Z"
   },
   {
    "duration": 308,
    "start_time": "2023-04-10T08:22:21.239Z"
   },
   {
    "duration": 122,
    "start_time": "2023-04-10T08:22:21.549Z"
   },
   {
    "duration": 40,
    "start_time": "2023-04-10T08:22:21.673Z"
   },
   {
    "duration": 14,
    "start_time": "2023-04-10T08:22:21.714Z"
   },
   {
    "duration": 28,
    "start_time": "2023-04-10T08:22:21.730Z"
   },
   {
    "duration": 35,
    "start_time": "2023-04-10T08:22:21.759Z"
   },
   {
    "duration": 29,
    "start_time": "2023-04-10T08:22:21.796Z"
   },
   {
    "duration": 14,
    "start_time": "2023-04-10T08:22:21.827Z"
   },
   {
    "duration": 20,
    "start_time": "2023-04-10T08:22:21.842Z"
   },
   {
    "duration": 56,
    "start_time": "2023-04-10T08:22:21.864Z"
   },
   {
    "duration": 3,
    "start_time": "2023-04-10T08:22:21.922Z"
   },
   {
    "duration": 65,
    "start_time": "2023-04-10T08:22:21.927Z"
   },
   {
    "duration": 4,
    "start_time": "2023-04-10T08:22:21.994Z"
   },
   {
    "duration": 48,
    "start_time": "2023-04-10T08:22:21.999Z"
   },
   {
    "duration": 9,
    "start_time": "2023-04-10T08:22:22.049Z"
   },
   {
    "duration": 9,
    "start_time": "2023-04-10T08:22:22.060Z"
   },
   {
    "duration": 12,
    "start_time": "2023-04-10T08:22:22.071Z"
   },
   {
    "duration": 39,
    "start_time": "2023-04-10T08:22:22.084Z"
   },
   {
    "duration": 24,
    "start_time": "2023-04-10T08:22:22.125Z"
   },
   {
    "duration": 20,
    "start_time": "2023-04-10T08:22:22.151Z"
   },
   {
    "duration": 26,
    "start_time": "2023-04-10T08:22:22.172Z"
   },
   {
    "duration": 9,
    "start_time": "2023-04-10T08:22:22.199Z"
   },
   {
    "duration": 39,
    "start_time": "2023-04-10T08:22:22.210Z"
   },
   {
    "duration": 1397,
    "start_time": "2023-04-10T08:22:22.251Z"
   },
   {
    "duration": 168,
    "start_time": "2023-04-10T08:22:23.650Z"
   },
   {
    "duration": 153,
    "start_time": "2023-04-10T08:22:23.821Z"
   },
   {
    "duration": 391,
    "start_time": "2023-04-10T08:22:23.975Z"
   },
   {
    "duration": 175,
    "start_time": "2023-04-10T08:22:24.367Z"
   },
   {
    "duration": 147,
    "start_time": "2023-04-10T08:22:24.543Z"
   },
   {
    "duration": 236,
    "start_time": "2023-04-10T08:22:24.692Z"
   },
   {
    "duration": 347,
    "start_time": "2023-04-10T08:22:24.930Z"
   },
   {
    "duration": 217,
    "start_time": "2023-04-10T08:22:25.279Z"
   },
   {
    "duration": 505,
    "start_time": "2023-04-10T08:22:25.497Z"
   },
   {
    "duration": 11,
    "start_time": "2023-04-10T08:22:26.004Z"
   },
   {
    "duration": 4,
    "start_time": "2023-04-10T08:22:26.017Z"
   },
   {
    "duration": 66,
    "start_time": "2023-04-10T08:22:26.022Z"
   },
   {
    "duration": 4,
    "start_time": "2023-04-10T08:22:26.089Z"
   },
   {
    "duration": 8,
    "start_time": "2023-04-10T08:22:26.095Z"
   },
   {
    "duration": 9,
    "start_time": "2023-04-10T08:22:26.105Z"
   },
   {
    "duration": 42,
    "start_time": "2023-04-10T08:22:26.115Z"
   },
   {
    "duration": 10,
    "start_time": "2023-04-10T08:53:42.981Z"
   }
  ],
  "kernelspec": {
   "display_name": "Python 3 (ipykernel)",
   "language": "python",
   "name": "python3"
  },
  "language_info": {
   "codemirror_mode": {
    "name": "ipython",
    "version": 3
   },
   "file_extension": ".py",
   "mimetype": "text/x-python",
   "name": "python",
   "nbconvert_exporter": "python",
   "pygments_lexer": "ipython3",
   "version": "3.9.13"
  },
  "toc": {
   "base_numbering": 1,
   "nav_menu": {},
   "number_sections": true,
   "sideBar": true,
   "skip_h1_title": true,
   "title_cell": "Содержание",
   "title_sidebar": "Contents",
   "toc_cell": true,
   "toc_position": {
    "height": "calc(100% - 180px)",
    "left": "10px",
    "top": "150px",
    "width": "307px"
   },
   "toc_section_display": true,
   "toc_window_display": true
  }
 },
 "nbformat": 4,
 "nbformat_minor": 2
}
