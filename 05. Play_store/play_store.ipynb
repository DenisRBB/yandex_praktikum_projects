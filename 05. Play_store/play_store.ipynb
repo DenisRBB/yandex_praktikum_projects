{
 "cells": [
  {
   "cell_type": "markdown",
   "metadata": {},
   "source": [
    "# План работы\n",
    "\n",
    "1. Изучение данных\n",
    "2. Предобработка данных\n",
    "3. Исследовательский анализ данных\n",
    "4. Портрет пользователя\n",
    "5. Проверка гипотез\n",
    "6. Вывод\n"
   ]
  },
  {
   "cell_type": "markdown",
   "metadata": {},
   "source": [
    "## Откроем файл с данными и изучим общую информацию"
   ]
  },
  {
   "cell_type": "code",
   "execution_count": 130,
   "metadata": {},
   "outputs": [],
   "source": [
    "# Импортируем библиотеки\n",
    "import pandas as pd \n",
    "import matplotlib.pyplot as plt\n",
    "import numpy as np\n",
    "from scipy import stats as st"
   ]
  },
  {
   "cell_type": "code",
   "execution_count": 131,
   "metadata": {},
   "outputs": [],
   "source": [
    "data = pd.read_csv('/datasets/games.csv') # Сохраним таблицу в переменную data"
   ]
  },
  {
   "cell_type": "code",
   "execution_count": 132,
   "metadata": {},
   "outputs": [
    {
     "data": {
      "text/html": [
       "<div>\n",
       "<style scoped>\n",
       "    .dataframe tbody tr th:only-of-type {\n",
       "        vertical-align: middle;\n",
       "    }\n",
       "\n",
       "    .dataframe tbody tr th {\n",
       "        vertical-align: top;\n",
       "    }\n",
       "\n",
       "    .dataframe thead th {\n",
       "        text-align: right;\n",
       "    }\n",
       "</style>\n",
       "<table border=\"1\" class=\"dataframe\">\n",
       "  <thead>\n",
       "    <tr style=\"text-align: right;\">\n",
       "      <th></th>\n",
       "      <th>Name</th>\n",
       "      <th>Platform</th>\n",
       "      <th>Year_of_Release</th>\n",
       "      <th>Genre</th>\n",
       "      <th>NA_sales</th>\n",
       "      <th>EU_sales</th>\n",
       "      <th>JP_sales</th>\n",
       "      <th>Other_sales</th>\n",
       "      <th>Critic_Score</th>\n",
       "      <th>User_Score</th>\n",
       "      <th>Rating</th>\n",
       "    </tr>\n",
       "  </thead>\n",
       "  <tbody>\n",
       "    <tr>\n",
       "      <th>0</th>\n",
       "      <td>Wii Sports</td>\n",
       "      <td>Wii</td>\n",
       "      <td>2006.0</td>\n",
       "      <td>Sports</td>\n",
       "      <td>41.36</td>\n",
       "      <td>28.96</td>\n",
       "      <td>3.77</td>\n",
       "      <td>8.45</td>\n",
       "      <td>76.0</td>\n",
       "      <td>8</td>\n",
       "      <td>E</td>\n",
       "    </tr>\n",
       "    <tr>\n",
       "      <th>1</th>\n",
       "      <td>Super Mario Bros.</td>\n",
       "      <td>NES</td>\n",
       "      <td>1985.0</td>\n",
       "      <td>Platform</td>\n",
       "      <td>29.08</td>\n",
       "      <td>3.58</td>\n",
       "      <td>6.81</td>\n",
       "      <td>0.77</td>\n",
       "      <td>NaN</td>\n",
       "      <td>NaN</td>\n",
       "      <td>NaN</td>\n",
       "    </tr>\n",
       "    <tr>\n",
       "      <th>2</th>\n",
       "      <td>Mario Kart Wii</td>\n",
       "      <td>Wii</td>\n",
       "      <td>2008.0</td>\n",
       "      <td>Racing</td>\n",
       "      <td>15.68</td>\n",
       "      <td>12.76</td>\n",
       "      <td>3.79</td>\n",
       "      <td>3.29</td>\n",
       "      <td>82.0</td>\n",
       "      <td>8.3</td>\n",
       "      <td>E</td>\n",
       "    </tr>\n",
       "    <tr>\n",
       "      <th>3</th>\n",
       "      <td>Wii Sports Resort</td>\n",
       "      <td>Wii</td>\n",
       "      <td>2009.0</td>\n",
       "      <td>Sports</td>\n",
       "      <td>15.61</td>\n",
       "      <td>10.93</td>\n",
       "      <td>3.28</td>\n",
       "      <td>2.95</td>\n",
       "      <td>80.0</td>\n",
       "      <td>8</td>\n",
       "      <td>E</td>\n",
       "    </tr>\n",
       "    <tr>\n",
       "      <th>4</th>\n",
       "      <td>Pokemon Red/Pokemon Blue</td>\n",
       "      <td>GB</td>\n",
       "      <td>1996.0</td>\n",
       "      <td>Role-Playing</td>\n",
       "      <td>11.27</td>\n",
       "      <td>8.89</td>\n",
       "      <td>10.22</td>\n",
       "      <td>1.00</td>\n",
       "      <td>NaN</td>\n",
       "      <td>NaN</td>\n",
       "      <td>NaN</td>\n",
       "    </tr>\n",
       "  </tbody>\n",
       "</table>\n",
       "</div>"
      ],
      "text/plain": [
       "                       Name Platform  Year_of_Release         Genre  NA_sales  \\\n",
       "0                Wii Sports      Wii           2006.0        Sports     41.36   \n",
       "1         Super Mario Bros.      NES           1985.0      Platform     29.08   \n",
       "2            Mario Kart Wii      Wii           2008.0        Racing     15.68   \n",
       "3         Wii Sports Resort      Wii           2009.0        Sports     15.61   \n",
       "4  Pokemon Red/Pokemon Blue       GB           1996.0  Role-Playing     11.27   \n",
       "\n",
       "   EU_sales  JP_sales  Other_sales  Critic_Score User_Score Rating  \n",
       "0     28.96      3.77         8.45          76.0          8      E  \n",
       "1      3.58      6.81         0.77           NaN        NaN    NaN  \n",
       "2     12.76      3.79         3.29          82.0        8.3      E  \n",
       "3     10.93      3.28         2.95          80.0          8      E  \n",
       "4      8.89     10.22         1.00           NaN        NaN    NaN  "
      ]
     },
     "execution_count": 132,
     "metadata": {},
     "output_type": "execute_result"
    }
   ],
   "source": [
    "data.head(5) # Для ознакомления выведем первые 20 строк"
   ]
  },
  {
   "cell_type": "code",
   "execution_count": 133,
   "metadata": {},
   "outputs": [
    {
     "name": "stdout",
     "output_type": "stream",
     "text": [
      "<class 'pandas.core.frame.DataFrame'>\n",
      "RangeIndex: 16715 entries, 0 to 16714\n",
      "Data columns (total 11 columns):\n",
      " #   Column           Non-Null Count  Dtype  \n",
      "---  ------           --------------  -----  \n",
      " 0   Name             16713 non-null  object \n",
      " 1   Platform         16715 non-null  object \n",
      " 2   Year_of_Release  16446 non-null  float64\n",
      " 3   Genre            16713 non-null  object \n",
      " 4   NA_sales         16715 non-null  float64\n",
      " 5   EU_sales         16715 non-null  float64\n",
      " 6   JP_sales         16715 non-null  float64\n",
      " 7   Other_sales      16715 non-null  float64\n",
      " 8   Critic_Score     8137 non-null   float64\n",
      " 9   User_Score       10014 non-null  object \n",
      " 10  Rating           9949 non-null   object \n",
      "dtypes: float64(6), object(5)\n",
      "memory usage: 1.4+ MB\n"
     ]
    }
   ],
   "source": [
    "data.info() #Выведем основную информацию о датафрейме"
   ]
  },
  {
   "cell_type": "markdown",
   "metadata": {},
   "source": [
    "В данном разделе мы загрузили необходимые нам библиотеки. Также подгрузили файл с данными, проверили корректность его загрузки и изучили общую информацию о нем."
   ]
  },
  {
   "cell_type": "markdown",
   "metadata": {},
   "source": [
    "## Предобработка данных"
   ]
  },
  {
   "cell_type": "markdown",
   "metadata": {},
   "source": [
    "Для начала приведем названия столбцов к нижнему регистру"
   ]
  },
  {
   "cell_type": "code",
   "execution_count": 134,
   "metadata": {},
   "outputs": [
    {
     "data": {
      "text/plain": [
       "Index(['name', 'platform', 'year_of_release', 'genre', 'na_sales', 'eu_sales',\n",
       "       'jp_sales', 'other_sales', 'critic_score', 'user_score', 'rating'],\n",
       "      dtype='object')"
      ]
     },
     "execution_count": 134,
     "metadata": {},
     "output_type": "execute_result"
    }
   ],
   "source": [
    "data.columns = data.columns.str.lower()\n",
    "data.columns"
   ]
  },
  {
   "cell_type": "markdown",
   "metadata": {},
   "source": [
    "### Тип данных"
   ]
  },
  {
   "cell_type": "markdown",
   "metadata": {},
   "source": [
    "Вызовем метод `info()` и изучим тип данных в столбцах - при необходимости изменим.\n",
    "\n",
    "Также выведем первые 5 строк датафрейма, чтобы лучше понимать где стоит изменить тип данных\n"
   ]
  },
  {
   "cell_type": "code",
   "execution_count": 135,
   "metadata": {},
   "outputs": [
    {
     "name": "stdout",
     "output_type": "stream",
     "text": [
      "<class 'pandas.core.frame.DataFrame'>\n",
      "RangeIndex: 16715 entries, 0 to 16714\n",
      "Data columns (total 11 columns):\n",
      " #   Column           Non-Null Count  Dtype  \n",
      "---  ------           --------------  -----  \n",
      " 0   name             16713 non-null  object \n",
      " 1   platform         16715 non-null  object \n",
      " 2   year_of_release  16446 non-null  float64\n",
      " 3   genre            16713 non-null  object \n",
      " 4   na_sales         16715 non-null  float64\n",
      " 5   eu_sales         16715 non-null  float64\n",
      " 6   jp_sales         16715 non-null  float64\n",
      " 7   other_sales      16715 non-null  float64\n",
      " 8   critic_score     8137 non-null   float64\n",
      " 9   user_score       10014 non-null  object \n",
      " 10  rating           9949 non-null   object \n",
      "dtypes: float64(6), object(5)\n",
      "memory usage: 1.4+ MB\n"
     ]
    }
   ],
   "source": [
    "data.info()"
   ]
  },
  {
   "cell_type": "code",
   "execution_count": 136,
   "metadata": {},
   "outputs": [
    {
     "data": {
      "text/html": [
       "<div>\n",
       "<style scoped>\n",
       "    .dataframe tbody tr th:only-of-type {\n",
       "        vertical-align: middle;\n",
       "    }\n",
       "\n",
       "    .dataframe tbody tr th {\n",
       "        vertical-align: top;\n",
       "    }\n",
       "\n",
       "    .dataframe thead th {\n",
       "        text-align: right;\n",
       "    }\n",
       "</style>\n",
       "<table border=\"1\" class=\"dataframe\">\n",
       "  <thead>\n",
       "    <tr style=\"text-align: right;\">\n",
       "      <th></th>\n",
       "      <th>name</th>\n",
       "      <th>platform</th>\n",
       "      <th>year_of_release</th>\n",
       "      <th>genre</th>\n",
       "      <th>na_sales</th>\n",
       "      <th>eu_sales</th>\n",
       "      <th>jp_sales</th>\n",
       "      <th>other_sales</th>\n",
       "      <th>critic_score</th>\n",
       "      <th>user_score</th>\n",
       "      <th>rating</th>\n",
       "    </tr>\n",
       "  </thead>\n",
       "  <tbody>\n",
       "    <tr>\n",
       "      <th>0</th>\n",
       "      <td>Wii Sports</td>\n",
       "      <td>Wii</td>\n",
       "      <td>2006.0</td>\n",
       "      <td>Sports</td>\n",
       "      <td>41.36</td>\n",
       "      <td>28.96</td>\n",
       "      <td>3.77</td>\n",
       "      <td>8.45</td>\n",
       "      <td>76.0</td>\n",
       "      <td>8</td>\n",
       "      <td>E</td>\n",
       "    </tr>\n",
       "    <tr>\n",
       "      <th>1</th>\n",
       "      <td>Super Mario Bros.</td>\n",
       "      <td>NES</td>\n",
       "      <td>1985.0</td>\n",
       "      <td>Platform</td>\n",
       "      <td>29.08</td>\n",
       "      <td>3.58</td>\n",
       "      <td>6.81</td>\n",
       "      <td>0.77</td>\n",
       "      <td>NaN</td>\n",
       "      <td>NaN</td>\n",
       "      <td>NaN</td>\n",
       "    </tr>\n",
       "    <tr>\n",
       "      <th>2</th>\n",
       "      <td>Mario Kart Wii</td>\n",
       "      <td>Wii</td>\n",
       "      <td>2008.0</td>\n",
       "      <td>Racing</td>\n",
       "      <td>15.68</td>\n",
       "      <td>12.76</td>\n",
       "      <td>3.79</td>\n",
       "      <td>3.29</td>\n",
       "      <td>82.0</td>\n",
       "      <td>8.3</td>\n",
       "      <td>E</td>\n",
       "    </tr>\n",
       "    <tr>\n",
       "      <th>3</th>\n",
       "      <td>Wii Sports Resort</td>\n",
       "      <td>Wii</td>\n",
       "      <td>2009.0</td>\n",
       "      <td>Sports</td>\n",
       "      <td>15.61</td>\n",
       "      <td>10.93</td>\n",
       "      <td>3.28</td>\n",
       "      <td>2.95</td>\n",
       "      <td>80.0</td>\n",
       "      <td>8</td>\n",
       "      <td>E</td>\n",
       "    </tr>\n",
       "    <tr>\n",
       "      <th>4</th>\n",
       "      <td>Pokemon Red/Pokemon Blue</td>\n",
       "      <td>GB</td>\n",
       "      <td>1996.0</td>\n",
       "      <td>Role-Playing</td>\n",
       "      <td>11.27</td>\n",
       "      <td>8.89</td>\n",
       "      <td>10.22</td>\n",
       "      <td>1.00</td>\n",
       "      <td>NaN</td>\n",
       "      <td>NaN</td>\n",
       "      <td>NaN</td>\n",
       "    </tr>\n",
       "  </tbody>\n",
       "</table>\n",
       "</div>"
      ],
      "text/plain": [
       "                       name platform  year_of_release         genre  na_sales  \\\n",
       "0                Wii Sports      Wii           2006.0        Sports     41.36   \n",
       "1         Super Mario Bros.      NES           1985.0      Platform     29.08   \n",
       "2            Mario Kart Wii      Wii           2008.0        Racing     15.68   \n",
       "3         Wii Sports Resort      Wii           2009.0        Sports     15.61   \n",
       "4  Pokemon Red/Pokemon Blue       GB           1996.0  Role-Playing     11.27   \n",
       "\n",
       "   eu_sales  jp_sales  other_sales  critic_score user_score rating  \n",
       "0     28.96      3.77         8.45          76.0          8      E  \n",
       "1      3.58      6.81         0.77           NaN        NaN    NaN  \n",
       "2     12.76      3.79         3.29          82.0        8.3      E  \n",
       "3     10.93      3.28         2.95          80.0          8      E  \n",
       "4      8.89     10.22         1.00           NaN        NaN    NaN  "
      ]
     },
     "execution_count": 136,
     "metadata": {},
     "output_type": "execute_result"
    }
   ],
   "source": [
    "data.head(5)"
   ]
  },
  {
   "cell_type": "markdown",
   "metadata": {},
   "source": [
    "Первое, что бросается в глаза - это тип данных `float` в столбце `year_of_release`. Так как в данном столбце заполнен только год, то преобразуем данный столбец в тип данных `int`. Также в столбце `critic_score`, заметил только целые значения. Если это так, то переведем данный столбец к типу `int`. Изначально проверим столбцы на пропуски, так как если у наст есть пропуски в столбцах, где мы хотим изменить тип данных на `int`, то при преобразовании типов мы будем использовать nullable type `Int64`. Заменять тип данных необходимо для удобства работы и вычислений. Столбец `user_score` преобразуем в `float`."
   ]
  },
  {
   "cell_type": "code",
   "execution_count": 137,
   "metadata": {
    "scrolled": true
   },
   "outputs": [
    {
     "data": {
      "text/plain": [
       "array([76., nan, 82., 80., 89., 58., 87., 91., 61., 97., 95., 77., 88.,\n",
       "       83., 94., 93., 85., 86., 98., 96., 90., 84., 73., 74., 78., 92.,\n",
       "       71., 72., 68., 62., 49., 67., 81., 66., 56., 79., 70., 59., 64.,\n",
       "       75., 60., 63., 69., 50., 25., 42., 44., 55., 48., 57., 29., 47.,\n",
       "       65., 54., 20., 53., 37., 38., 33., 52., 30., 32., 43., 45., 51.,\n",
       "       40., 46., 39., 34., 35., 41., 36., 28., 31., 27., 26., 19., 23.,\n",
       "       24., 21., 17., 22., 13.])"
      ]
     },
     "execution_count": 137,
     "metadata": {},
     "output_type": "execute_result"
    }
   ],
   "source": [
    "data['critic_score'].unique() # Изучим и убедимся, в том, что можно преобразовать данный столбец, к формату `int`"
   ]
  },
  {
   "cell_type": "code",
   "execution_count": 138,
   "metadata": {},
   "outputs": [
    {
     "data": {
      "text/plain": [
       "array([2006., 1985., 2008., 2009., 1996., 1989., 1984., 2005., 1999.,\n",
       "       2007., 2010., 2013., 2004., 1990., 1988., 2002., 2001., 2011.,\n",
       "       1998., 2015., 2012., 2014., 1992., 1997., 1993., 1994., 1982.,\n",
       "       2016., 2003., 1986., 2000.,   nan, 1995., 1991., 1981., 1987.,\n",
       "       1980., 1983.])"
      ]
     },
     "execution_count": 138,
     "metadata": {},
     "output_type": "execute_result"
    }
   ],
   "source": [
    "data['year_of_release'].unique() # Изучим и убедимся, в том, что можно преобразовать данный столбец, к формату `int`"
   ]
  },
  {
   "cell_type": "code",
   "execution_count": 139,
   "metadata": {
    "scrolled": true
   },
   "outputs": [
    {
     "data": {
      "text/plain": [
       "array(['8', nan, '8.3', '8.5', '6.6', '8.4', '8.6', '7.7', '6.3', '7.4',\n",
       "       '8.2', '9', '7.9', '8.1', '8.7', '7.1', '3.4', '5.3', '4.8', '3.2',\n",
       "       '8.9', '6.4', '7.8', '7.5', '2.6', '7.2', '9.2', '7', '7.3', '4.3',\n",
       "       '7.6', '5.7', '5', '9.1', '6.5', 'tbd', '8.8', '6.9', '9.4', '6.8',\n",
       "       '6.1', '6.7', '5.4', '4', '4.9', '4.5', '9.3', '6.2', '4.2', '6',\n",
       "       '3.7', '4.1', '5.8', '5.6', '5.5', '4.4', '4.6', '5.9', '3.9',\n",
       "       '3.1', '2.9', '5.2', '3.3', '4.7', '5.1', '3.5', '2.5', '1.9', '3',\n",
       "       '2.7', '2.2', '2', '9.5', '2.1', '3.6', '2.8', '1.8', '3.8', '0',\n",
       "       '1.6', '9.6', '2.4', '1.7', '1.1', '0.3', '1.5', '0.7', '1.2',\n",
       "       '2.3', '0.5', '1.3', '0.2', '0.6', '1.4', '0.9', '1', '9.7'],\n",
       "      dtype=object)"
      ]
     },
     "execution_count": 139,
     "metadata": {},
     "output_type": "execute_result"
    }
   ],
   "source": [
    "data['user_score'].unique() # Изучим и убедимся, в том, что можно преобразовать данный столбец, к формату `float`"
   ]
  },
  {
   "cell_type": "markdown",
   "metadata": {},
   "source": [
    "В столбце есть значение `tbd`, которое означает - будет определенно позже. Следовательно, данные значения мы смело можем заменить на пропуски."
   ]
  },
  {
   "cell_type": "code",
   "execution_count": 140,
   "metadata": {},
   "outputs": [],
   "source": [
    "data['year_of_release'] = data['year_of_release'].astype('Int64')\n",
    "data['critic_score'] = data['critic_score'].astype('Int64')\n",
    "data['user_score'] = pd.to_numeric(data['user_score'], errors='coerce') # В парметре errors указываем coerce, чтобы\n",
    "# неккоректные значения принудительно заменились на `NaN`"
   ]
  },
  {
   "cell_type": "code",
   "execution_count": 141,
   "metadata": {},
   "outputs": [
    {
     "name": "stdout",
     "output_type": "stream",
     "text": [
      "<class 'pandas.core.frame.DataFrame'>\n",
      "RangeIndex: 16715 entries, 0 to 16714\n",
      "Data columns (total 11 columns):\n",
      " #   Column           Non-Null Count  Dtype  \n",
      "---  ------           --------------  -----  \n",
      " 0   name             16713 non-null  object \n",
      " 1   platform         16715 non-null  object \n",
      " 2   year_of_release  16446 non-null  Int64  \n",
      " 3   genre            16713 non-null  object \n",
      " 4   na_sales         16715 non-null  float64\n",
      " 5   eu_sales         16715 non-null  float64\n",
      " 6   jp_sales         16715 non-null  float64\n",
      " 7   other_sales      16715 non-null  float64\n",
      " 8   critic_score     8137 non-null   Int64  \n",
      " 9   user_score       7590 non-null   float64\n",
      " 10  rating           9949 non-null   object \n",
      "dtypes: Int64(2), float64(5), object(4)\n",
      "memory usage: 1.4+ MB\n"
     ]
    }
   ],
   "source": [
    "data.info() # Проверим, изменился ли тип данных"
   ]
  },
  {
   "cell_type": "code",
   "execution_count": 142,
   "metadata": {},
   "outputs": [
    {
     "data": {
      "text/plain": [
       "array([8. , nan, 8.3, 8.5, 6.6, 8.4, 8.6, 7.7, 6.3, 7.4, 8.2, 9. , 7.9,\n",
       "       8.1, 8.7, 7.1, 3.4, 5.3, 4.8, 3.2, 8.9, 6.4, 7.8, 7.5, 2.6, 7.2,\n",
       "       9.2, 7. , 7.3, 4.3, 7.6, 5.7, 5. , 9.1, 6.5, 8.8, 6.9, 9.4, 6.8,\n",
       "       6.1, 6.7, 5.4, 4. , 4.9, 4.5, 9.3, 6.2, 4.2, 6. , 3.7, 4.1, 5.8,\n",
       "       5.6, 5.5, 4.4, 4.6, 5.9, 3.9, 3.1, 2.9, 5.2, 3.3, 4.7, 5.1, 3.5,\n",
       "       2.5, 1.9, 3. , 2.7, 2.2, 2. , 9.5, 2.1, 3.6, 2.8, 1.8, 3.8, 0. ,\n",
       "       1.6, 9.6, 2.4, 1.7, 1.1, 0.3, 1.5, 0.7, 1.2, 2.3, 0.5, 1.3, 0.2,\n",
       "       0.6, 1.4, 0.9, 1. , 9.7])"
      ]
     },
     "execution_count": 142,
     "metadata": {},
     "output_type": "execute_result"
    }
   ],
   "source": [
    "data['user_score'].unique() # Убедимся, что мы избавились от значения tbd"
   ]
  },
  {
   "cell_type": "markdown",
   "metadata": {},
   "source": [
    "### Пропущенные значения"
   ]
  },
  {
   "cell_type": "code",
   "execution_count": 143,
   "metadata": {},
   "outputs": [
    {
     "data": {
      "text/plain": [
       "name                  2\n",
       "platform              0\n",
       "year_of_release     269\n",
       "genre                 2\n",
       "na_sales              0\n",
       "eu_sales              0\n",
       "jp_sales              0\n",
       "other_sales           0\n",
       "critic_score       8578\n",
       "user_score         9125\n",
       "rating             6766\n",
       "dtype: int64"
      ]
     },
     "execution_count": 143,
     "metadata": {},
     "output_type": "execute_result"
    }
   ],
   "source": [
    "data.isna().sum() #Найдем общее количество пропущенных значений"
   ]
  },
  {
   "cell_type": "code",
   "execution_count": 144,
   "metadata": {},
   "outputs": [
    {
     "data": {
      "text/html": [
       "<style  type=\"text/css\" >\n",
       "#T_5c36e_row0_col0,#T_5c36e_row1_col0,#T_5c36e_row3_col0,#T_5c36e_row4_col0,#T_5c36e_row5_col0,#T_5c36e_row6_col0,#T_5c36e_row7_col0{\n",
       "            background-color:  #3b4cc0;\n",
       "            color:  #f1f1f1;\n",
       "        }#T_5c36e_row2_col0{\n",
       "            background-color:  #4358cb;\n",
       "            color:  #f1f1f1;\n",
       "        }#T_5c36e_row8_col0{\n",
       "            background-color:  #ca3b37;\n",
       "            color:  #f1f1f1;\n",
       "        }#T_5c36e_row9_col0{\n",
       "            background-color:  #b40426;\n",
       "            color:  #f1f1f1;\n",
       "        }#T_5c36e_row10_col0{\n",
       "            background-color:  #f59d7e;\n",
       "            color:  #000000;\n",
       "        }</style><table id=\"T_5c36e_\" ><thead>    <tr>        <th class=\"blank level0\" ></th>        <th class=\"col_heading level0 col0\" >0</th>    </tr></thead><tbody>\n",
       "                <tr>\n",
       "                        <th id=\"T_5c36e_level0_row0\" class=\"row_heading level0 row0\" >name</th>\n",
       "                        <td id=\"T_5c36e_row0_col0\" class=\"data row0 col0\" >0.0</td>\n",
       "            </tr>\n",
       "            <tr>\n",
       "                        <th id=\"T_5c36e_level0_row1\" class=\"row_heading level0 row1\" >platform</th>\n",
       "                        <td id=\"T_5c36e_row1_col0\" class=\"data row1 col0\" >0.0</td>\n",
       "            </tr>\n",
       "            <tr>\n",
       "                        <th id=\"T_5c36e_level0_row2\" class=\"row_heading level0 row2\" >year_of_release</th>\n",
       "                        <td id=\"T_5c36e_row2_col0\" class=\"data row2 col0\" >1.6</td>\n",
       "            </tr>\n",
       "            <tr>\n",
       "                        <th id=\"T_5c36e_level0_row3\" class=\"row_heading level0 row3\" >genre</th>\n",
       "                        <td id=\"T_5c36e_row3_col0\" class=\"data row3 col0\" >0.0</td>\n",
       "            </tr>\n",
       "            <tr>\n",
       "                        <th id=\"T_5c36e_level0_row4\" class=\"row_heading level0 row4\" >na_sales</th>\n",
       "                        <td id=\"T_5c36e_row4_col0\" class=\"data row4 col0\" >0.0</td>\n",
       "            </tr>\n",
       "            <tr>\n",
       "                        <th id=\"T_5c36e_level0_row5\" class=\"row_heading level0 row5\" >eu_sales</th>\n",
       "                        <td id=\"T_5c36e_row5_col0\" class=\"data row5 col0\" >0.0</td>\n",
       "            </tr>\n",
       "            <tr>\n",
       "                        <th id=\"T_5c36e_level0_row6\" class=\"row_heading level0 row6\" >jp_sales</th>\n",
       "                        <td id=\"T_5c36e_row6_col0\" class=\"data row6 col0\" >0.0</td>\n",
       "            </tr>\n",
       "            <tr>\n",
       "                        <th id=\"T_5c36e_level0_row7\" class=\"row_heading level0 row7\" >other_sales</th>\n",
       "                        <td id=\"T_5c36e_row7_col0\" class=\"data row7 col0\" >0.0</td>\n",
       "            </tr>\n",
       "            <tr>\n",
       "                        <th id=\"T_5c36e_level0_row8\" class=\"row_heading level0 row8\" >critic_score</th>\n",
       "                        <td id=\"T_5c36e_row8_col0\" class=\"data row8 col0\" >51.3</td>\n",
       "            </tr>\n",
       "            <tr>\n",
       "                        <th id=\"T_5c36e_level0_row9\" class=\"row_heading level0 row9\" >user_score</th>\n",
       "                        <td id=\"T_5c36e_row9_col0\" class=\"data row9 col0\" >54.6</td>\n",
       "            </tr>\n",
       "            <tr>\n",
       "                        <th id=\"T_5c36e_level0_row10\" class=\"row_heading level0 row10\" >rating</th>\n",
       "                        <td id=\"T_5c36e_row10_col0\" class=\"data row10 col0\" >40.5</td>\n",
       "            </tr>\n",
       "    </tbody></table>"
      ],
      "text/plain": [
       "<pandas.io.formats.style.Styler at 0x7f5233ace6a0>"
      ]
     },
     "execution_count": 144,
     "metadata": {},
     "output_type": "execute_result"
    }
   ],
   "source": [
    "#Для лучшей наглядности выведем сразу долю пропусков\n",
    "pd.DataFrame(data.isna().mean()*100).style.set_precision(1).background_gradient('coolwarm')"
   ]
  },
  {
   "cell_type": "markdown",
   "metadata": {},
   "source": [
    "В 6 столбцах были обнаружены пропуски:\n",
    "- `name` - 2 пропуска, которые можно удалить, но для начала ознакомимся с ними;\n",
    "- `year_of_release` - процент пропусков незначителен, ознакомимся с пропусками;\n",
    "- `critic_score`, `user_score`, `rating` - слишком большой процент пропусков. Пропуск в данных, скорее всего, связан с недостаточно накопленной статистикой, для проставления рейтинга или оценки."
   ]
  },
  {
   "cell_type": "code",
   "execution_count": 145,
   "metadata": {},
   "outputs": [
    {
     "data": {
      "text/html": [
       "<div>\n",
       "<style scoped>\n",
       "    .dataframe tbody tr th:only-of-type {\n",
       "        vertical-align: middle;\n",
       "    }\n",
       "\n",
       "    .dataframe tbody tr th {\n",
       "        vertical-align: top;\n",
       "    }\n",
       "\n",
       "    .dataframe thead th {\n",
       "        text-align: right;\n",
       "    }\n",
       "</style>\n",
       "<table border=\"1\" class=\"dataframe\">\n",
       "  <thead>\n",
       "    <tr style=\"text-align: right;\">\n",
       "      <th></th>\n",
       "      <th>name</th>\n",
       "      <th>platform</th>\n",
       "      <th>year_of_release</th>\n",
       "      <th>genre</th>\n",
       "      <th>na_sales</th>\n",
       "      <th>eu_sales</th>\n",
       "      <th>jp_sales</th>\n",
       "      <th>other_sales</th>\n",
       "      <th>critic_score</th>\n",
       "      <th>user_score</th>\n",
       "      <th>rating</th>\n",
       "    </tr>\n",
       "  </thead>\n",
       "  <tbody>\n",
       "    <tr>\n",
       "      <th>659</th>\n",
       "      <td>NaN</td>\n",
       "      <td>GEN</td>\n",
       "      <td>1993</td>\n",
       "      <td>NaN</td>\n",
       "      <td>1.78</td>\n",
       "      <td>0.53</td>\n",
       "      <td>0.00</td>\n",
       "      <td>0.08</td>\n",
       "      <td>&lt;NA&gt;</td>\n",
       "      <td>NaN</td>\n",
       "      <td>NaN</td>\n",
       "    </tr>\n",
       "    <tr>\n",
       "      <th>14244</th>\n",
       "      <td>NaN</td>\n",
       "      <td>GEN</td>\n",
       "      <td>1993</td>\n",
       "      <td>NaN</td>\n",
       "      <td>0.00</td>\n",
       "      <td>0.00</td>\n",
       "      <td>0.03</td>\n",
       "      <td>0.00</td>\n",
       "      <td>&lt;NA&gt;</td>\n",
       "      <td>NaN</td>\n",
       "      <td>NaN</td>\n",
       "    </tr>\n",
       "  </tbody>\n",
       "</table>\n",
       "</div>"
      ],
      "text/plain": [
       "      name platform  year_of_release genre  na_sales  eu_sales  jp_sales  \\\n",
       "659    NaN      GEN             1993   NaN      1.78      0.53      0.00   \n",
       "14244  NaN      GEN             1993   NaN      0.00      0.00      0.03   \n",
       "\n",
       "       other_sales  critic_score  user_score rating  \n",
       "659           0.08          <NA>         NaN    NaN  \n",
       "14244         0.00          <NA>         NaN    NaN  "
      ]
     },
     "execution_count": 145,
     "metadata": {},
     "output_type": "execute_result"
    }
   ],
   "source": [
    "data[data['name'].isna()] # Вглянем на пропущенные значения в столбце name"
   ]
  },
  {
   "cell_type": "code",
   "execution_count": 146,
   "metadata": {},
   "outputs": [
    {
     "data": {
      "text/plain": [
       "16715"
      ]
     },
     "execution_count": 146,
     "metadata": {},
     "output_type": "execute_result"
    }
   ],
   "source": [
    "data.shape[0] # Зафиксируем количество строк перед удалением"
   ]
  },
  {
   "cell_type": "code",
   "execution_count": 147,
   "metadata": {},
   "outputs": [],
   "source": [
    "# Ввиду того, что данные не репрезентативны, то мы просто их удалим\n",
    "data = data.dropna(subset=['name'])"
   ]
  },
  {
   "cell_type": "code",
   "execution_count": 148,
   "metadata": {},
   "outputs": [
    {
     "data": {
      "text/plain": [
       "16713"
      ]
     },
     "execution_count": 148,
     "metadata": {},
     "output_type": "execute_result"
    }
   ],
   "source": [
    "data.shape[0] # Проверим корректно ли прошло удаление"
   ]
  },
  {
   "cell_type": "code",
   "execution_count": 149,
   "metadata": {},
   "outputs": [
    {
     "data": {
      "text/html": [
       "<div>\n",
       "<style scoped>\n",
       "    .dataframe tbody tr th:only-of-type {\n",
       "        vertical-align: middle;\n",
       "    }\n",
       "\n",
       "    .dataframe tbody tr th {\n",
       "        vertical-align: top;\n",
       "    }\n",
       "\n",
       "    .dataframe thead th {\n",
       "        text-align: right;\n",
       "    }\n",
       "</style>\n",
       "<table border=\"1\" class=\"dataframe\">\n",
       "  <thead>\n",
       "    <tr style=\"text-align: right;\">\n",
       "      <th></th>\n",
       "      <th>name</th>\n",
       "      <th>platform</th>\n",
       "      <th>year_of_release</th>\n",
       "      <th>genre</th>\n",
       "      <th>na_sales</th>\n",
       "      <th>eu_sales</th>\n",
       "      <th>jp_sales</th>\n",
       "      <th>other_sales</th>\n",
       "      <th>critic_score</th>\n",
       "      <th>user_score</th>\n",
       "      <th>rating</th>\n",
       "    </tr>\n",
       "  </thead>\n",
       "  <tbody>\n",
       "    <tr>\n",
       "      <th>183</th>\n",
       "      <td>Madden NFL 2004</td>\n",
       "      <td>PS2</td>\n",
       "      <td>&lt;NA&gt;</td>\n",
       "      <td>Sports</td>\n",
       "      <td>4.26</td>\n",
       "      <td>0.26</td>\n",
       "      <td>0.01</td>\n",
       "      <td>0.71</td>\n",
       "      <td>94</td>\n",
       "      <td>8.5</td>\n",
       "      <td>E</td>\n",
       "    </tr>\n",
       "    <tr>\n",
       "      <th>377</th>\n",
       "      <td>FIFA Soccer 2004</td>\n",
       "      <td>PS2</td>\n",
       "      <td>&lt;NA&gt;</td>\n",
       "      <td>Sports</td>\n",
       "      <td>0.59</td>\n",
       "      <td>2.36</td>\n",
       "      <td>0.04</td>\n",
       "      <td>0.51</td>\n",
       "      <td>84</td>\n",
       "      <td>6.4</td>\n",
       "      <td>E</td>\n",
       "    </tr>\n",
       "    <tr>\n",
       "      <th>456</th>\n",
       "      <td>LEGO Batman: The Videogame</td>\n",
       "      <td>Wii</td>\n",
       "      <td>&lt;NA&gt;</td>\n",
       "      <td>Action</td>\n",
       "      <td>1.80</td>\n",
       "      <td>0.97</td>\n",
       "      <td>0.00</td>\n",
       "      <td>0.29</td>\n",
       "      <td>74</td>\n",
       "      <td>7.9</td>\n",
       "      <td>E10+</td>\n",
       "    </tr>\n",
       "    <tr>\n",
       "      <th>475</th>\n",
       "      <td>wwe Smackdown vs. Raw 2006</td>\n",
       "      <td>PS2</td>\n",
       "      <td>&lt;NA&gt;</td>\n",
       "      <td>Fighting</td>\n",
       "      <td>1.57</td>\n",
       "      <td>1.02</td>\n",
       "      <td>0.00</td>\n",
       "      <td>0.41</td>\n",
       "      <td>&lt;NA&gt;</td>\n",
       "      <td>NaN</td>\n",
       "      <td>NaN</td>\n",
       "    </tr>\n",
       "    <tr>\n",
       "      <th>609</th>\n",
       "      <td>Space Invaders</td>\n",
       "      <td>2600</td>\n",
       "      <td>&lt;NA&gt;</td>\n",
       "      <td>Shooter</td>\n",
       "      <td>2.36</td>\n",
       "      <td>0.14</td>\n",
       "      <td>0.00</td>\n",
       "      <td>0.03</td>\n",
       "      <td>&lt;NA&gt;</td>\n",
       "      <td>NaN</td>\n",
       "      <td>NaN</td>\n",
       "    </tr>\n",
       "    <tr>\n",
       "      <th>...</th>\n",
       "      <td>...</td>\n",
       "      <td>...</td>\n",
       "      <td>...</td>\n",
       "      <td>...</td>\n",
       "      <td>...</td>\n",
       "      <td>...</td>\n",
       "      <td>...</td>\n",
       "      <td>...</td>\n",
       "      <td>...</td>\n",
       "      <td>...</td>\n",
       "      <td>...</td>\n",
       "    </tr>\n",
       "    <tr>\n",
       "      <th>16373</th>\n",
       "      <td>PDC World Championship Darts 2008</td>\n",
       "      <td>PSP</td>\n",
       "      <td>&lt;NA&gt;</td>\n",
       "      <td>Sports</td>\n",
       "      <td>0.01</td>\n",
       "      <td>0.00</td>\n",
       "      <td>0.00</td>\n",
       "      <td>0.00</td>\n",
       "      <td>43</td>\n",
       "      <td>NaN</td>\n",
       "      <td>E10+</td>\n",
       "    </tr>\n",
       "    <tr>\n",
       "      <th>16405</th>\n",
       "      <td>Freaky Flyers</td>\n",
       "      <td>GC</td>\n",
       "      <td>&lt;NA&gt;</td>\n",
       "      <td>Racing</td>\n",
       "      <td>0.01</td>\n",
       "      <td>0.00</td>\n",
       "      <td>0.00</td>\n",
       "      <td>0.00</td>\n",
       "      <td>69</td>\n",
       "      <td>6.5</td>\n",
       "      <td>T</td>\n",
       "    </tr>\n",
       "    <tr>\n",
       "      <th>16448</th>\n",
       "      <td>Inversion</td>\n",
       "      <td>PC</td>\n",
       "      <td>&lt;NA&gt;</td>\n",
       "      <td>Shooter</td>\n",
       "      <td>0.01</td>\n",
       "      <td>0.00</td>\n",
       "      <td>0.00</td>\n",
       "      <td>0.00</td>\n",
       "      <td>59</td>\n",
       "      <td>6.7</td>\n",
       "      <td>M</td>\n",
       "    </tr>\n",
       "    <tr>\n",
       "      <th>16458</th>\n",
       "      <td>Hakuouki: Shinsengumi Kitan</td>\n",
       "      <td>PS3</td>\n",
       "      <td>&lt;NA&gt;</td>\n",
       "      <td>Adventure</td>\n",
       "      <td>0.01</td>\n",
       "      <td>0.00</td>\n",
       "      <td>0.00</td>\n",
       "      <td>0.00</td>\n",
       "      <td>&lt;NA&gt;</td>\n",
       "      <td>NaN</td>\n",
       "      <td>NaN</td>\n",
       "    </tr>\n",
       "    <tr>\n",
       "      <th>16522</th>\n",
       "      <td>Virtua Quest</td>\n",
       "      <td>GC</td>\n",
       "      <td>&lt;NA&gt;</td>\n",
       "      <td>Role-Playing</td>\n",
       "      <td>0.01</td>\n",
       "      <td>0.00</td>\n",
       "      <td>0.00</td>\n",
       "      <td>0.00</td>\n",
       "      <td>55</td>\n",
       "      <td>5.5</td>\n",
       "      <td>T</td>\n",
       "    </tr>\n",
       "  </tbody>\n",
       "</table>\n",
       "<p>269 rows × 11 columns</p>\n",
       "</div>"
      ],
      "text/plain": [
       "                                    name platform  year_of_release  \\\n",
       "183                      Madden NFL 2004      PS2             <NA>   \n",
       "377                     FIFA Soccer 2004      PS2             <NA>   \n",
       "456           LEGO Batman: The Videogame      Wii             <NA>   \n",
       "475           wwe Smackdown vs. Raw 2006      PS2             <NA>   \n",
       "609                       Space Invaders     2600             <NA>   \n",
       "...                                  ...      ...              ...   \n",
       "16373  PDC World Championship Darts 2008      PSP             <NA>   \n",
       "16405                      Freaky Flyers       GC             <NA>   \n",
       "16448                          Inversion       PC             <NA>   \n",
       "16458        Hakuouki: Shinsengumi Kitan      PS3             <NA>   \n",
       "16522                       Virtua Quest       GC             <NA>   \n",
       "\n",
       "              genre  na_sales  eu_sales  jp_sales  other_sales  critic_score  \\\n",
       "183          Sports      4.26      0.26      0.01         0.71            94   \n",
       "377          Sports      0.59      2.36      0.04         0.51            84   \n",
       "456          Action      1.80      0.97      0.00         0.29            74   \n",
       "475        Fighting      1.57      1.02      0.00         0.41          <NA>   \n",
       "609         Shooter      2.36      0.14      0.00         0.03          <NA>   \n",
       "...             ...       ...       ...       ...          ...           ...   \n",
       "16373        Sports      0.01      0.00      0.00         0.00            43   \n",
       "16405        Racing      0.01      0.00      0.00         0.00            69   \n",
       "16448       Shooter      0.01      0.00      0.00         0.00            59   \n",
       "16458     Adventure      0.01      0.00      0.00         0.00          <NA>   \n",
       "16522  Role-Playing      0.01      0.00      0.00         0.00            55   \n",
       "\n",
       "       user_score rating  \n",
       "183           8.5      E  \n",
       "377           6.4      E  \n",
       "456           7.9   E10+  \n",
       "475           NaN    NaN  \n",
       "609           NaN    NaN  \n",
       "...           ...    ...  \n",
       "16373         NaN   E10+  \n",
       "16405         6.5      T  \n",
       "16448         6.7      M  \n",
       "16458         NaN    NaN  \n",
       "16522         5.5      T  \n",
       "\n",
       "[269 rows x 11 columns]"
      ]
     },
     "execution_count": 149,
     "metadata": {},
     "output_type": "execute_result"
    }
   ],
   "source": [
    "data[data['year_of_release'].isna()] # Вглянем на пропущенные значения в столбце year_of_release"
   ]
  },
  {
   "cell_type": "code",
   "execution_count": 150,
   "metadata": {},
   "outputs": [],
   "source": [
    "# Так как нам важен год для дальнейшей работы, а процент пропусков составляет менее 2%, то мы\n",
    "# удалим пропущенные значения в столбце `year_of_release`, так как заполнять их медианным или средним значением по\n",
    "# платформе или названию игрв неккоректно, ввиду того, что релизы могут отличаться по годам\n",
    "data = data.dropna(subset=['year_of_release'])"
   ]
  },
  {
   "cell_type": "code",
   "execution_count": 151,
   "metadata": {},
   "outputs": [
    {
     "data": {
      "text/plain": [
       "16444"
      ]
     },
     "execution_count": 151,
     "metadata": {},
     "output_type": "execute_result"
    }
   ],
   "source": [
    "data.shape[0] # Проверим корректно ли прошло удаление"
   ]
  },
  {
   "cell_type": "code",
   "execution_count": 152,
   "metadata": {},
   "outputs": [
    {
     "data": {
      "text/plain": [
       "array(['E', nan, 'M', 'T', 'E10+', 'K-A', 'AO', 'EC', 'RP'], dtype=object)"
      ]
     },
     "execution_count": 152,
     "metadata": {},
     "output_type": "execute_result"
    }
   ],
   "source": [
    "data['rating'].unique()"
   ]
  },
  {
   "cell_type": "code",
   "execution_count": 153,
   "metadata": {},
   "outputs": [
    {
     "data": {
      "text/plain": [
       "NaN     6676\n",
       "E       3921\n",
       "T       2905\n",
       "M       1536\n",
       "E10+    1393\n",
       "EC         8\n",
       "K-A        3\n",
       "RP         1\n",
       "AO         1\n",
       "Name: rating, dtype: int64"
      ]
     },
     "execution_count": 153,
     "metadata": {},
     "output_type": "execute_result"
    }
   ],
   "source": [
    "data['rating'].value_counts(dropna=False) # Изучим данные в столбце `rating`"
   ]
  },
  {
   "cell_type": "markdown",
   "metadata": {},
   "source": [
    "Для начала разберемся, что значат все эти аббревиатуры.\n",
    "- `E`- «Everyone» — «Для всех»: Содержание вполне подходит для всех возрастов;\n",
    "- `M`- «Mature» — «От 17 лет»: Материалы игры не подходят для подростков младше 17 лет;\n",
    "- `T`- «Teen» — «Подросткам»: Игра подходит для лиц от 13 лет и старше;\n",
    "- `E10+`- «Everyone 10 and older» — «Для всех старше 10 лет»: Возрастная категория — от 10 лет;\n",
    "- `AO` - «Adults Only 18+» — «Только для взрослых»: Содержание игры только для взрослых;\n",
    "- `EC` - «Early childhood» — «Для детей младшего возраста»: Игра подходит для детей от 3 лет и старше;\n",
    "- `RP` - «Rating Pending» — «Рейтинг ожидается»: Продукт был отправлен в ESRB и ожидает присвоения рейтинга. Данный логотип используется только на рекламных презентациях и в демо-версиях игр до официального релиза.\n",
    "- `K-A`- «Kids to Adults» — «Для детей и взрослых»: Содержание игры вполне подходит для возрастной категории от 6 лет и старше. Этот рейтинг был заменён на `E` - «Everyone»\n",
    "\n",
    "Так как аббревиатура `K-A` устаревшая, то заменим ее на `E`. Также ввиду небольшого количества игр в ретинге `EC` и их возрастного ограничения - их можно объединить с рейтингом `E`. Также предлагаю 1 игру с рейтингом `AO` внести в рейтинг `M`, так как по мне разница в 1 год очень \"размыта\". Также посомтрим, что за игра с рейтингом `RP`. А все пропущенные значения поменяем на `unrated`."
   ]
  },
  {
   "cell_type": "code",
   "execution_count": 154,
   "metadata": {},
   "outputs": [],
   "source": [
    "data.loc[data['rating'] == 'K-A', 'rating'] = 'E'\n",
    "data.loc[data['rating'] == 'EC', 'rating'] = 'E'\n",
    "data.loc[data['rating'] == 'AO', 'rating'] = 'M'"
   ]
  },
  {
   "cell_type": "code",
   "execution_count": 155,
   "metadata": {},
   "outputs": [
    {
     "data": {
      "text/html": [
       "<div>\n",
       "<style scoped>\n",
       "    .dataframe tbody tr th:only-of-type {\n",
       "        vertical-align: middle;\n",
       "    }\n",
       "\n",
       "    .dataframe tbody tr th {\n",
       "        vertical-align: top;\n",
       "    }\n",
       "\n",
       "    .dataframe thead th {\n",
       "        text-align: right;\n",
       "    }\n",
       "</style>\n",
       "<table border=\"1\" class=\"dataframe\">\n",
       "  <thead>\n",
       "    <tr style=\"text-align: right;\">\n",
       "      <th></th>\n",
       "      <th>name</th>\n",
       "      <th>platform</th>\n",
       "      <th>year_of_release</th>\n",
       "      <th>genre</th>\n",
       "      <th>na_sales</th>\n",
       "      <th>eu_sales</th>\n",
       "      <th>jp_sales</th>\n",
       "      <th>other_sales</th>\n",
       "      <th>critic_score</th>\n",
       "      <th>user_score</th>\n",
       "      <th>rating</th>\n",
       "    </tr>\n",
       "  </thead>\n",
       "  <tbody>\n",
       "    <tr>\n",
       "      <th>14270</th>\n",
       "      <td>Supreme Ruler: Cold War</td>\n",
       "      <td>PC</td>\n",
       "      <td>2011</td>\n",
       "      <td>Strategy</td>\n",
       "      <td>0.0</td>\n",
       "      <td>0.03</td>\n",
       "      <td>0.0</td>\n",
       "      <td>0.01</td>\n",
       "      <td>63</td>\n",
       "      <td>6.8</td>\n",
       "      <td>RP</td>\n",
       "    </tr>\n",
       "  </tbody>\n",
       "</table>\n",
       "</div>"
      ],
      "text/plain": [
       "                          name platform  year_of_release     genre  na_sales  \\\n",
       "14270  Supreme Ruler: Cold War       PC             2011  Strategy       0.0   \n",
       "\n",
       "       eu_sales  jp_sales  other_sales  critic_score  user_score rating  \n",
       "14270      0.03       0.0         0.01            63         6.8     RP  "
      ]
     },
     "execution_count": 155,
     "metadata": {},
     "output_type": "execute_result"
    }
   ],
   "source": [
    "data[data['rating'] == 'RP'] # Посмотрим, что за игра с рейтингом RP"
   ]
  },
  {
   "cell_type": "code",
   "execution_count": 156,
   "metadata": {},
   "outputs": [],
   "source": [
    "data.loc[data['rating'] == 'RP', 'rating'] = 'E10+' # Данной игре организация ESRB присвоила рейтинг E10+"
   ]
  },
  {
   "cell_type": "code",
   "execution_count": 157,
   "metadata": {},
   "outputs": [],
   "source": [
    "data['rating'] = data['rating'].fillna('unrated') # Все пропущенные значения заменим на `unrated`"
   ]
  },
  {
   "cell_type": "markdown",
   "metadata": {},
   "source": [
    "Что касается столбцов `user_score` и `critic_score`, тут мы лучше оставим пустые значения как есть, так как заменять их каким либо показателем будет неккоректно, ввиду того, что каждая игра на любой из платформ имеет разный рейтинг, на который влияет множество факторов."
   ]
  },
  {
   "cell_type": "markdown",
   "metadata": {},
   "source": [
    "### Дубликаты"
   ]
  },
  {
   "cell_type": "markdown",
   "metadata": {},
   "source": [
    "Проверим наши данные на наличие явных и неявных дубликатов."
   ]
  },
  {
   "cell_type": "code",
   "execution_count": 158,
   "metadata": {},
   "outputs": [
    {
     "data": {
      "text/plain": [
       "0"
      ]
     },
     "execution_count": 158,
     "metadata": {},
     "output_type": "execute_result"
    }
   ],
   "source": [
    "data.duplicated().sum() # Явных дубликатов в данных"
   ]
  },
  {
   "cell_type": "code",
   "execution_count": 159,
   "metadata": {},
   "outputs": [
    {
     "data": {
      "text/html": [
       "<div>\n",
       "<style scoped>\n",
       "    .dataframe tbody tr th:only-of-type {\n",
       "        vertical-align: middle;\n",
       "    }\n",
       "\n",
       "    .dataframe tbody tr th {\n",
       "        vertical-align: top;\n",
       "    }\n",
       "\n",
       "    .dataframe thead th {\n",
       "        text-align: right;\n",
       "    }\n",
       "</style>\n",
       "<table border=\"1\" class=\"dataframe\">\n",
       "  <thead>\n",
       "    <tr style=\"text-align: right;\">\n",
       "      <th></th>\n",
       "      <th>name</th>\n",
       "      <th>platform</th>\n",
       "      <th>year_of_release</th>\n",
       "      <th>genre</th>\n",
       "      <th>na_sales</th>\n",
       "      <th>eu_sales</th>\n",
       "      <th>jp_sales</th>\n",
       "      <th>other_sales</th>\n",
       "      <th>critic_score</th>\n",
       "      <th>user_score</th>\n",
       "      <th>rating</th>\n",
       "    </tr>\n",
       "  </thead>\n",
       "  <tbody>\n",
       "    <tr>\n",
       "      <th>1591</th>\n",
       "      <td>Need for Speed: Most Wanted</td>\n",
       "      <td>X360</td>\n",
       "      <td>2005</td>\n",
       "      <td>Racing</td>\n",
       "      <td>1.0</td>\n",
       "      <td>0.13</td>\n",
       "      <td>0.02</td>\n",
       "      <td>0.10</td>\n",
       "      <td>83</td>\n",
       "      <td>8.5</td>\n",
       "      <td>T</td>\n",
       "    </tr>\n",
       "    <tr>\n",
       "      <th>11715</th>\n",
       "      <td>Need for Speed: Most Wanted</td>\n",
       "      <td>PC</td>\n",
       "      <td>2012</td>\n",
       "      <td>Racing</td>\n",
       "      <td>0.0</td>\n",
       "      <td>0.06</td>\n",
       "      <td>0.00</td>\n",
       "      <td>0.02</td>\n",
       "      <td>82</td>\n",
       "      <td>8.5</td>\n",
       "      <td>T</td>\n",
       "    </tr>\n",
       "    <tr>\n",
       "      <th>16230</th>\n",
       "      <td>Madden NFL 13</td>\n",
       "      <td>PS3</td>\n",
       "      <td>2012</td>\n",
       "      <td>Sports</td>\n",
       "      <td>0.0</td>\n",
       "      <td>0.01</td>\n",
       "      <td>0.00</td>\n",
       "      <td>0.00</td>\n",
       "      <td>83</td>\n",
       "      <td>5.5</td>\n",
       "      <td>E</td>\n",
       "    </tr>\n",
       "  </tbody>\n",
       "</table>\n",
       "</div>"
      ],
      "text/plain": [
       "                              name platform  year_of_release   genre  \\\n",
       "1591   Need for Speed: Most Wanted     X360             2005  Racing   \n",
       "11715  Need for Speed: Most Wanted       PC             2012  Racing   \n",
       "16230                Madden NFL 13      PS3             2012  Sports   \n",
       "\n",
       "       na_sales  eu_sales  jp_sales  other_sales  critic_score  user_score  \\\n",
       "1591        1.0      0.13      0.02         0.10            83         8.5   \n",
       "11715       0.0      0.06      0.00         0.02            82         8.5   \n",
       "16230       0.0      0.01      0.00         0.00            83         5.5   \n",
       "\n",
       "      rating  \n",
       "1591       T  \n",
       "11715      T  \n",
       "16230      E  "
      ]
     },
     "execution_count": 159,
     "metadata": {},
     "output_type": "execute_result"
    }
   ],
   "source": [
    "# Посмотрим на наличие неявных дубликатов которые могут оказаться в паре 'name - platform'\n",
    "data[data.duplicated(subset=['name', 'platform'])] "
   ]
  },
  {
   "cell_type": "code",
   "execution_count": 160,
   "metadata": {
    "scrolled": true
   },
   "outputs": [
    {
     "data": {
      "text/html": [
       "<div>\n",
       "<style scoped>\n",
       "    .dataframe tbody tr th:only-of-type {\n",
       "        vertical-align: middle;\n",
       "    }\n",
       "\n",
       "    .dataframe tbody tr th {\n",
       "        vertical-align: top;\n",
       "    }\n",
       "\n",
       "    .dataframe thead th {\n",
       "        text-align: right;\n",
       "    }\n",
       "</style>\n",
       "<table border=\"1\" class=\"dataframe\">\n",
       "  <thead>\n",
       "    <tr style=\"text-align: right;\">\n",
       "      <th></th>\n",
       "      <th>name</th>\n",
       "      <th>platform</th>\n",
       "      <th>year_of_release</th>\n",
       "      <th>genre</th>\n",
       "      <th>na_sales</th>\n",
       "      <th>eu_sales</th>\n",
       "      <th>jp_sales</th>\n",
       "      <th>other_sales</th>\n",
       "      <th>critic_score</th>\n",
       "      <th>user_score</th>\n",
       "      <th>rating</th>\n",
       "    </tr>\n",
       "  </thead>\n",
       "  <tbody>\n",
       "    <tr>\n",
       "      <th>1190</th>\n",
       "      <td>Need for Speed: Most Wanted</td>\n",
       "      <td>X360</td>\n",
       "      <td>2012</td>\n",
       "      <td>Racing</td>\n",
       "      <td>0.62</td>\n",
       "      <td>0.78</td>\n",
       "      <td>0.01</td>\n",
       "      <td>0.15</td>\n",
       "      <td>83</td>\n",
       "      <td>8.5</td>\n",
       "      <td>T</td>\n",
       "    </tr>\n",
       "    <tr>\n",
       "      <th>1591</th>\n",
       "      <td>Need for Speed: Most Wanted</td>\n",
       "      <td>X360</td>\n",
       "      <td>2005</td>\n",
       "      <td>Racing</td>\n",
       "      <td>1.00</td>\n",
       "      <td>0.13</td>\n",
       "      <td>0.02</td>\n",
       "      <td>0.10</td>\n",
       "      <td>83</td>\n",
       "      <td>8.5</td>\n",
       "      <td>T</td>\n",
       "    </tr>\n",
       "  </tbody>\n",
       "</table>\n",
       "</div>"
      ],
      "text/plain": [
       "                             name platform  year_of_release   genre  na_sales  \\\n",
       "1190  Need for Speed: Most Wanted     X360             2012  Racing      0.62   \n",
       "1591  Need for Speed: Most Wanted     X360             2005  Racing      1.00   \n",
       "\n",
       "      eu_sales  jp_sales  other_sales  critic_score  user_score rating  \n",
       "1190      0.78      0.01         0.15            83         8.5      T  \n",
       "1591      0.13      0.02         0.10            83         8.5      T  "
      ]
     },
     "execution_count": 160,
     "metadata": {},
     "output_type": "execute_result"
    }
   ],
   "source": [
    "# Поочередно изучим данные дубликаты\n",
    "data.query('name == \"Need for Speed: Most Wanted\" and platform == \"X360\"')"
   ]
  },
  {
   "cell_type": "markdown",
   "metadata": {},
   "source": [
    "Игра Need for Speed: Most Wanted та приставку Xbox 360 вышла в 2012 году. Поэтому просумируем значения столбцов с продажами по данным дубликатам и оставим только 1 строку, где дата выпуска соответствует правде."
   ]
  },
  {
   "cell_type": "code",
   "execution_count": 161,
   "metadata": {},
   "outputs": [
    {
     "data": {
      "text/plain": [
       "[1.62, 0.91, 0.03, 0.25]"
      ]
     },
     "execution_count": 161,
     "metadata": {},
     "output_type": "execute_result"
    }
   ],
   "source": [
    "# Воспользуемся циклом, переведем значения нужных столбцов в строку и сохраним в переменных\n",
    "l1 = data.loc[1190, 'na_sales':'other_sales'].tolist() \n",
    "l2 = data.loc[1591, 'na_sales':'other_sales'].tolist()\n",
    "l_new=[] \n",
    "\n",
    "for i in range(len(l1)):\n",
    "    t=0\n",
    "    t=l1[i]+l2[i]\n",
    "    l_new.append(t)\n",
    "    \n",
    "l_new # Проверим корректнось сумирования"
   ]
  },
  {
   "cell_type": "code",
   "execution_count": 162,
   "metadata": {},
   "outputs": [
    {
     "data": {
      "text/html": [
       "<div>\n",
       "<style scoped>\n",
       "    .dataframe tbody tr th:only-of-type {\n",
       "        vertical-align: middle;\n",
       "    }\n",
       "\n",
       "    .dataframe tbody tr th {\n",
       "        vertical-align: top;\n",
       "    }\n",
       "\n",
       "    .dataframe thead th {\n",
       "        text-align: right;\n",
       "    }\n",
       "</style>\n",
       "<table border=\"1\" class=\"dataframe\">\n",
       "  <thead>\n",
       "    <tr style=\"text-align: right;\">\n",
       "      <th></th>\n",
       "      <th>name</th>\n",
       "      <th>platform</th>\n",
       "      <th>year_of_release</th>\n",
       "      <th>genre</th>\n",
       "      <th>na_sales</th>\n",
       "      <th>eu_sales</th>\n",
       "      <th>jp_sales</th>\n",
       "      <th>other_sales</th>\n",
       "      <th>critic_score</th>\n",
       "      <th>user_score</th>\n",
       "      <th>rating</th>\n",
       "    </tr>\n",
       "  </thead>\n",
       "  <tbody>\n",
       "    <tr>\n",
       "      <th>1190</th>\n",
       "      <td>Need for Speed: Most Wanted</td>\n",
       "      <td>X360</td>\n",
       "      <td>2012</td>\n",
       "      <td>Racing</td>\n",
       "      <td>1.62</td>\n",
       "      <td>0.91</td>\n",
       "      <td>0.03</td>\n",
       "      <td>0.25</td>\n",
       "      <td>83</td>\n",
       "      <td>8.5</td>\n",
       "      <td>T</td>\n",
       "    </tr>\n",
       "    <tr>\n",
       "      <th>1591</th>\n",
       "      <td>Need for Speed: Most Wanted</td>\n",
       "      <td>X360</td>\n",
       "      <td>2005</td>\n",
       "      <td>Racing</td>\n",
       "      <td>1.00</td>\n",
       "      <td>0.13</td>\n",
       "      <td>0.02</td>\n",
       "      <td>0.10</td>\n",
       "      <td>83</td>\n",
       "      <td>8.5</td>\n",
       "      <td>T</td>\n",
       "    </tr>\n",
       "  </tbody>\n",
       "</table>\n",
       "</div>"
      ],
      "text/plain": [
       "                             name platform  year_of_release   genre  na_sales  \\\n",
       "1190  Need for Speed: Most Wanted     X360             2012  Racing      1.62   \n",
       "1591  Need for Speed: Most Wanted     X360             2005  Racing      1.00   \n",
       "\n",
       "      eu_sales  jp_sales  other_sales  critic_score  user_score rating  \n",
       "1190      0.91      0.03         0.25            83         8.5      T  \n",
       "1591      0.13      0.02         0.10            83         8.5      T  "
      ]
     },
     "execution_count": 162,
     "metadata": {},
     "output_type": "execute_result"
    }
   ],
   "source": [
    "# Теперь заменим значения на полученные и проверим результат\n",
    "data.loc[1190, 'na_sales':'other_sales'] = l_new\n",
    "data.query('name == \"Need for Speed: Most Wanted\" and platform == \"X360\"')"
   ]
  },
  {
   "cell_type": "code",
   "execution_count": 163,
   "metadata": {},
   "outputs": [
    {
     "data": {
      "text/plain": [
       "'Строк в data: 16444'"
      ]
     },
     "metadata": {},
     "output_type": "display_data"
    }
   ],
   "source": [
    "display(f'Строк в data: {data.shape[0]}')"
   ]
  },
  {
   "cell_type": "code",
   "execution_count": 164,
   "metadata": {},
   "outputs": [],
   "source": [
    "# Удалим ненужную строку\n",
    "data = data.drop(index=1591)"
   ]
  },
  {
   "cell_type": "code",
   "execution_count": 165,
   "metadata": {},
   "outputs": [
    {
     "data": {
      "text/plain": [
       "'Строк в data: 16443'"
      ]
     },
     "metadata": {},
     "output_type": "display_data"
    }
   ],
   "source": [
    "display(f'Строк в data: {data.shape[0]}')"
   ]
  },
  {
   "cell_type": "markdown",
   "metadata": {},
   "source": [
    "Теперь повторим действия для остальных дубликатов."
   ]
  },
  {
   "cell_type": "code",
   "execution_count": 166,
   "metadata": {},
   "outputs": [
    {
     "data": {
      "text/html": [
       "<div>\n",
       "<style scoped>\n",
       "    .dataframe tbody tr th:only-of-type {\n",
       "        vertical-align: middle;\n",
       "    }\n",
       "\n",
       "    .dataframe tbody tr th {\n",
       "        vertical-align: top;\n",
       "    }\n",
       "\n",
       "    .dataframe thead th {\n",
       "        text-align: right;\n",
       "    }\n",
       "</style>\n",
       "<table border=\"1\" class=\"dataframe\">\n",
       "  <thead>\n",
       "    <tr style=\"text-align: right;\">\n",
       "      <th></th>\n",
       "      <th>name</th>\n",
       "      <th>platform</th>\n",
       "      <th>year_of_release</th>\n",
       "      <th>genre</th>\n",
       "      <th>na_sales</th>\n",
       "      <th>eu_sales</th>\n",
       "      <th>jp_sales</th>\n",
       "      <th>other_sales</th>\n",
       "      <th>critic_score</th>\n",
       "      <th>user_score</th>\n",
       "      <th>rating</th>\n",
       "    </tr>\n",
       "  </thead>\n",
       "  <tbody>\n",
       "    <tr>\n",
       "      <th>5972</th>\n",
       "      <td>Need for Speed: Most Wanted</td>\n",
       "      <td>PC</td>\n",
       "      <td>2005</td>\n",
       "      <td>Racing</td>\n",
       "      <td>0.02</td>\n",
       "      <td>0.23</td>\n",
       "      <td>0.0</td>\n",
       "      <td>0.04</td>\n",
       "      <td>82</td>\n",
       "      <td>8.5</td>\n",
       "      <td>T</td>\n",
       "    </tr>\n",
       "    <tr>\n",
       "      <th>11715</th>\n",
       "      <td>Need for Speed: Most Wanted</td>\n",
       "      <td>PC</td>\n",
       "      <td>2012</td>\n",
       "      <td>Racing</td>\n",
       "      <td>0.00</td>\n",
       "      <td>0.06</td>\n",
       "      <td>0.0</td>\n",
       "      <td>0.02</td>\n",
       "      <td>82</td>\n",
       "      <td>8.5</td>\n",
       "      <td>T</td>\n",
       "    </tr>\n",
       "  </tbody>\n",
       "</table>\n",
       "</div>"
      ],
      "text/plain": [
       "                              name platform  year_of_release   genre  \\\n",
       "5972   Need for Speed: Most Wanted       PC             2005  Racing   \n",
       "11715  Need for Speed: Most Wanted       PC             2012  Racing   \n",
       "\n",
       "       na_sales  eu_sales  jp_sales  other_sales  critic_score  user_score  \\\n",
       "5972       0.02      0.23       0.0         0.04            82         8.5   \n",
       "11715      0.00      0.06       0.0         0.02            82         8.5   \n",
       "\n",
       "      rating  \n",
       "5972       T  \n",
       "11715      T  "
      ]
     },
     "execution_count": 166,
     "metadata": {},
     "output_type": "execute_result"
    }
   ],
   "source": [
    "data.query('name == \"Need for Speed: Most Wanted\" and platform == \"PC\"')"
   ]
  },
  {
   "cell_type": "code",
   "execution_count": 167,
   "metadata": {},
   "outputs": [
    {
     "data": {
      "text/plain": [
       "[0.02, 0.29, 0.0, 0.06]"
      ]
     },
     "execution_count": 167,
     "metadata": {},
     "output_type": "execute_result"
    }
   ],
   "source": [
    "# На PC игра вышла в 2005 году\n",
    "l1 = data.loc[5972, 'na_sales':'other_sales'].tolist() \n",
    "l2 = data.loc[11715, 'na_sales':'other_sales'].tolist()\n",
    "l_new=[] \n",
    "\n",
    "for i in range(len(l1)):\n",
    "    t=0\n",
    "    t=l1[i]+l2[i]\n",
    "    l_new.append(t)\n",
    "    \n",
    "l_new[1] = l_new[1].round(2)\n",
    "l_new# Проверим корректнось сумирования"
   ]
  },
  {
   "cell_type": "code",
   "execution_count": 168,
   "metadata": {},
   "outputs": [
    {
     "data": {
      "text/html": [
       "<div>\n",
       "<style scoped>\n",
       "    .dataframe tbody tr th:only-of-type {\n",
       "        vertical-align: middle;\n",
       "    }\n",
       "\n",
       "    .dataframe tbody tr th {\n",
       "        vertical-align: top;\n",
       "    }\n",
       "\n",
       "    .dataframe thead th {\n",
       "        text-align: right;\n",
       "    }\n",
       "</style>\n",
       "<table border=\"1\" class=\"dataframe\">\n",
       "  <thead>\n",
       "    <tr style=\"text-align: right;\">\n",
       "      <th></th>\n",
       "      <th>name</th>\n",
       "      <th>platform</th>\n",
       "      <th>year_of_release</th>\n",
       "      <th>genre</th>\n",
       "      <th>na_sales</th>\n",
       "      <th>eu_sales</th>\n",
       "      <th>jp_sales</th>\n",
       "      <th>other_sales</th>\n",
       "      <th>critic_score</th>\n",
       "      <th>user_score</th>\n",
       "      <th>rating</th>\n",
       "    </tr>\n",
       "  </thead>\n",
       "  <tbody>\n",
       "    <tr>\n",
       "      <th>5972</th>\n",
       "      <td>Need for Speed: Most Wanted</td>\n",
       "      <td>PC</td>\n",
       "      <td>2005</td>\n",
       "      <td>Racing</td>\n",
       "      <td>0.02</td>\n",
       "      <td>0.29</td>\n",
       "      <td>0.0</td>\n",
       "      <td>0.06</td>\n",
       "      <td>82</td>\n",
       "      <td>8.5</td>\n",
       "      <td>T</td>\n",
       "    </tr>\n",
       "    <tr>\n",
       "      <th>11715</th>\n",
       "      <td>Need for Speed: Most Wanted</td>\n",
       "      <td>PC</td>\n",
       "      <td>2012</td>\n",
       "      <td>Racing</td>\n",
       "      <td>0.00</td>\n",
       "      <td>0.06</td>\n",
       "      <td>0.0</td>\n",
       "      <td>0.02</td>\n",
       "      <td>82</td>\n",
       "      <td>8.5</td>\n",
       "      <td>T</td>\n",
       "    </tr>\n",
       "  </tbody>\n",
       "</table>\n",
       "</div>"
      ],
      "text/plain": [
       "                              name platform  year_of_release   genre  \\\n",
       "5972   Need for Speed: Most Wanted       PC             2005  Racing   \n",
       "11715  Need for Speed: Most Wanted       PC             2012  Racing   \n",
       "\n",
       "       na_sales  eu_sales  jp_sales  other_sales  critic_score  user_score  \\\n",
       "5972       0.02      0.29       0.0         0.06            82         8.5   \n",
       "11715      0.00      0.06       0.0         0.02            82         8.5   \n",
       "\n",
       "      rating  \n",
       "5972       T  \n",
       "11715      T  "
      ]
     },
     "execution_count": 168,
     "metadata": {},
     "output_type": "execute_result"
    }
   ],
   "source": [
    "# Теперь заменим значения на полученные и проверим результат\n",
    "data.loc[5972, 'na_sales':'other_sales'] = l_new\n",
    "data.query('name == \"Need for Speed: Most Wanted\" and platform == \"PC\"')"
   ]
  },
  {
   "cell_type": "code",
   "execution_count": 169,
   "metadata": {},
   "outputs": [],
   "source": [
    "# Удалим ненужную строку\n",
    "data = data.drop(index=11715)"
   ]
  },
  {
   "cell_type": "code",
   "execution_count": 170,
   "metadata": {},
   "outputs": [
    {
     "data": {
      "text/plain": [
       "'Строк в data: 16442'"
      ]
     },
     "metadata": {},
     "output_type": "display_data"
    }
   ],
   "source": [
    "display(f'Строк в data: {data.shape[0]}')"
   ]
  },
  {
   "cell_type": "code",
   "execution_count": 171,
   "metadata": {},
   "outputs": [
    {
     "data": {
      "text/html": [
       "<div>\n",
       "<style scoped>\n",
       "    .dataframe tbody tr th:only-of-type {\n",
       "        vertical-align: middle;\n",
       "    }\n",
       "\n",
       "    .dataframe tbody tr th {\n",
       "        vertical-align: top;\n",
       "    }\n",
       "\n",
       "    .dataframe thead th {\n",
       "        text-align: right;\n",
       "    }\n",
       "</style>\n",
       "<table border=\"1\" class=\"dataframe\">\n",
       "  <thead>\n",
       "    <tr style=\"text-align: right;\">\n",
       "      <th></th>\n",
       "      <th>name</th>\n",
       "      <th>platform</th>\n",
       "      <th>year_of_release</th>\n",
       "      <th>genre</th>\n",
       "      <th>na_sales</th>\n",
       "      <th>eu_sales</th>\n",
       "      <th>jp_sales</th>\n",
       "      <th>other_sales</th>\n",
       "      <th>critic_score</th>\n",
       "      <th>user_score</th>\n",
       "      <th>rating</th>\n",
       "    </tr>\n",
       "  </thead>\n",
       "  <tbody>\n",
       "    <tr>\n",
       "      <th>604</th>\n",
       "      <td>Madden NFL 13</td>\n",
       "      <td>PS3</td>\n",
       "      <td>2012</td>\n",
       "      <td>Sports</td>\n",
       "      <td>2.11</td>\n",
       "      <td>0.22</td>\n",
       "      <td>0.0</td>\n",
       "      <td>0.23</td>\n",
       "      <td>83</td>\n",
       "      <td>5.5</td>\n",
       "      <td>E</td>\n",
       "    </tr>\n",
       "    <tr>\n",
       "      <th>16230</th>\n",
       "      <td>Madden NFL 13</td>\n",
       "      <td>PS3</td>\n",
       "      <td>2012</td>\n",
       "      <td>Sports</td>\n",
       "      <td>0.00</td>\n",
       "      <td>0.01</td>\n",
       "      <td>0.0</td>\n",
       "      <td>0.00</td>\n",
       "      <td>83</td>\n",
       "      <td>5.5</td>\n",
       "      <td>E</td>\n",
       "    </tr>\n",
       "  </tbody>\n",
       "</table>\n",
       "</div>"
      ],
      "text/plain": [
       "                name platform  year_of_release   genre  na_sales  eu_sales  \\\n",
       "604    Madden NFL 13      PS3             2012  Sports      2.11      0.22   \n",
       "16230  Madden NFL 13      PS3             2012  Sports      0.00      0.01   \n",
       "\n",
       "       jp_sales  other_sales  critic_score  user_score rating  \n",
       "604         0.0         0.23            83         5.5      E  \n",
       "16230       0.0         0.00            83         5.5      E  "
      ]
     },
     "execution_count": 171,
     "metadata": {},
     "output_type": "execute_result"
    }
   ],
   "source": [
    "data.query('name == \"Madden NFL 13\" and platform == \"PS3\"') # Значение в дублирующей строчке не значительно,\n",
    "# поэтому обработаем в ручную и после удалим"
   ]
  },
  {
   "cell_type": "code",
   "execution_count": 172,
   "metadata": {},
   "outputs": [],
   "source": [
    "data.loc[604, 'eu_sales'] = 0.23"
   ]
  },
  {
   "cell_type": "code",
   "execution_count": 173,
   "metadata": {},
   "outputs": [],
   "source": [
    "# Удалим ненужную строку\n",
    "data = data.drop(index=16230)"
   ]
  },
  {
   "cell_type": "code",
   "execution_count": 174,
   "metadata": {},
   "outputs": [
    {
     "data": {
      "text/plain": [
       "'Строк в data: 16441'"
      ]
     },
     "metadata": {},
     "output_type": "display_data"
    }
   ],
   "source": [
    "display(f'Строк в data: {data.shape[0]}')"
   ]
  },
  {
   "cell_type": "code",
   "execution_count": 175,
   "metadata": {},
   "outputs": [
    {
     "data": {
      "text/html": [
       "<div>\n",
       "<style scoped>\n",
       "    .dataframe tbody tr th:only-of-type {\n",
       "        vertical-align: middle;\n",
       "    }\n",
       "\n",
       "    .dataframe tbody tr th {\n",
       "        vertical-align: top;\n",
       "    }\n",
       "\n",
       "    .dataframe thead th {\n",
       "        text-align: right;\n",
       "    }\n",
       "</style>\n",
       "<table border=\"1\" class=\"dataframe\">\n",
       "  <thead>\n",
       "    <tr style=\"text-align: right;\">\n",
       "      <th></th>\n",
       "      <th>name</th>\n",
       "      <th>platform</th>\n",
       "      <th>year_of_release</th>\n",
       "      <th>genre</th>\n",
       "      <th>na_sales</th>\n",
       "      <th>eu_sales</th>\n",
       "      <th>jp_sales</th>\n",
       "      <th>other_sales</th>\n",
       "      <th>critic_score</th>\n",
       "      <th>user_score</th>\n",
       "      <th>rating</th>\n",
       "    </tr>\n",
       "  </thead>\n",
       "  <tbody>\n",
       "    <tr>\n",
       "      <th>0</th>\n",
       "      <td>Wii Sports</td>\n",
       "      <td>Wii</td>\n",
       "      <td>2006</td>\n",
       "      <td>Sports</td>\n",
       "      <td>41.36</td>\n",
       "      <td>28.96</td>\n",
       "      <td>3.77</td>\n",
       "      <td>8.45</td>\n",
       "      <td>76</td>\n",
       "      <td>8.0</td>\n",
       "      <td>E</td>\n",
       "    </tr>\n",
       "    <tr>\n",
       "      <th>1</th>\n",
       "      <td>Super Mario Bros.</td>\n",
       "      <td>NES</td>\n",
       "      <td>1985</td>\n",
       "      <td>Platform</td>\n",
       "      <td>29.08</td>\n",
       "      <td>3.58</td>\n",
       "      <td>6.81</td>\n",
       "      <td>0.77</td>\n",
       "      <td>&lt;NA&gt;</td>\n",
       "      <td>NaN</td>\n",
       "      <td>unrated</td>\n",
       "    </tr>\n",
       "    <tr>\n",
       "      <th>2</th>\n",
       "      <td>Mario Kart Wii</td>\n",
       "      <td>Wii</td>\n",
       "      <td>2008</td>\n",
       "      <td>Racing</td>\n",
       "      <td>15.68</td>\n",
       "      <td>12.76</td>\n",
       "      <td>3.79</td>\n",
       "      <td>3.29</td>\n",
       "      <td>82</td>\n",
       "      <td>8.3</td>\n",
       "      <td>E</td>\n",
       "    </tr>\n",
       "    <tr>\n",
       "      <th>3</th>\n",
       "      <td>Wii Sports Resort</td>\n",
       "      <td>Wii</td>\n",
       "      <td>2009</td>\n",
       "      <td>Sports</td>\n",
       "      <td>15.61</td>\n",
       "      <td>10.93</td>\n",
       "      <td>3.28</td>\n",
       "      <td>2.95</td>\n",
       "      <td>80</td>\n",
       "      <td>8.0</td>\n",
       "      <td>E</td>\n",
       "    </tr>\n",
       "    <tr>\n",
       "      <th>4</th>\n",
       "      <td>Pokemon Red/Pokemon Blue</td>\n",
       "      <td>GB</td>\n",
       "      <td>1996</td>\n",
       "      <td>Role-Playing</td>\n",
       "      <td>11.27</td>\n",
       "      <td>8.89</td>\n",
       "      <td>10.22</td>\n",
       "      <td>1.00</td>\n",
       "      <td>&lt;NA&gt;</td>\n",
       "      <td>NaN</td>\n",
       "      <td>unrated</td>\n",
       "    </tr>\n",
       "  </tbody>\n",
       "</table>\n",
       "</div>"
      ],
      "text/plain": [
       "                       name platform  year_of_release         genre  na_sales  \\\n",
       "0                Wii Sports      Wii             2006        Sports     41.36   \n",
       "1         Super Mario Bros.      NES             1985      Platform     29.08   \n",
       "2            Mario Kart Wii      Wii             2008        Racing     15.68   \n",
       "3         Wii Sports Resort      Wii             2009        Sports     15.61   \n",
       "4  Pokemon Red/Pokemon Blue       GB             1996  Role-Playing     11.27   \n",
       "\n",
       "   eu_sales  jp_sales  other_sales  critic_score  user_score   rating  \n",
       "0     28.96      3.77         8.45            76         8.0        E  \n",
       "1      3.58      6.81         0.77          <NA>         NaN  unrated  \n",
       "2     12.76      3.79         3.29            82         8.3        E  \n",
       "3     10.93      3.28         2.95            80         8.0        E  \n",
       "4      8.89     10.22         1.00          <NA>         NaN  unrated  "
      ]
     },
     "execution_count": 175,
     "metadata": {},
     "output_type": "execute_result"
    }
   ],
   "source": [
    "# После удаления обновим индексы\n",
    "data = data.reset_index(drop=True)\n",
    "data.head()"
   ]
  },
  {
   "cell_type": "code",
   "execution_count": 176,
   "metadata": {},
   "outputs": [
    {
     "data": {
      "text/plain": [
       "11426"
      ]
     },
     "execution_count": 176,
     "metadata": {},
     "output_type": "execute_result"
    }
   ],
   "source": [
    "len(data['name'].unique())"
   ]
  },
  {
   "cell_type": "markdown",
   "metadata": {},
   "source": [
    "Количество уникальных значений в столбце `name` - 11 426. Найти неявные дубликаты будет крайне сложно, даже невозможно, поэтому оставим этот столбец как есть."
   ]
  },
  {
   "cell_type": "code",
   "execution_count": 48,
   "metadata": {},
   "outputs": [
    {
     "data": {
      "text/plain": [
       "array(['Sports', 'Platform', 'Racing', 'Role-Playing', 'Puzzle', 'Misc',\n",
       "       'Shooter', 'Simulation', 'Action', 'Fighting', 'Adventure',\n",
       "       'Strategy'], dtype=object)"
      ]
     },
     "execution_count": 48,
     "metadata": {},
     "output_type": "execute_result"
    }
   ],
   "source": [
    "data['genre'].unique() # Проверим на неявные дубликаты столбец genre"
   ]
  },
  {
   "cell_type": "code",
   "execution_count": 49,
   "metadata": {},
   "outputs": [
    {
     "data": {
      "text/plain": [
       "array(['Wii', 'NES', 'GB', 'DS', 'X360', 'PS3', 'PS2', 'SNES', 'GBA',\n",
       "       'PS4', '3DS', 'N64', 'PS', 'XB', 'PC', '2600', 'PSP', 'XOne',\n",
       "       'WiiU', 'GC', 'GEN', 'DC', 'PSV', 'SAT', 'SCD', 'WS', 'NG', 'TG16',\n",
       "       '3DO', 'GG', 'PCFX'], dtype=object)"
      ]
     },
     "execution_count": 49,
     "metadata": {},
     "output_type": "execute_result"
    }
   ],
   "source": [
    "data['platform'].unique() # Проверим на неявные дубликаты столбец platform"
   ]
  },
  {
   "cell_type": "markdown",
   "metadata": {},
   "source": [
    "### Аномальные значения"
   ]
  },
  {
   "cell_type": "markdown",
   "metadata": {},
   "source": [
    "Аномальные значения могут содержаться в любых данных, которые можно измерить."
   ]
  },
  {
   "cell_type": "code",
   "execution_count": 50,
   "metadata": {},
   "outputs": [
    {
     "data": {
      "text/html": [
       "<div>\n",
       "<style scoped>\n",
       "    .dataframe tbody tr th:only-of-type {\n",
       "        vertical-align: middle;\n",
       "    }\n",
       "\n",
       "    .dataframe tbody tr th {\n",
       "        vertical-align: top;\n",
       "    }\n",
       "\n",
       "    .dataframe thead th {\n",
       "        text-align: right;\n",
       "    }\n",
       "</style>\n",
       "<table border=\"1\" class=\"dataframe\">\n",
       "  <thead>\n",
       "    <tr style=\"text-align: right;\">\n",
       "      <th></th>\n",
       "      <th>year_of_release</th>\n",
       "      <th>na_sales</th>\n",
       "      <th>eu_sales</th>\n",
       "      <th>jp_sales</th>\n",
       "      <th>other_sales</th>\n",
       "      <th>critic_score</th>\n",
       "      <th>user_score</th>\n",
       "    </tr>\n",
       "  </thead>\n",
       "  <tbody>\n",
       "    <tr>\n",
       "      <th>count</th>\n",
       "      <td>16441.000000</td>\n",
       "      <td>16441.000000</td>\n",
       "      <td>16441.000000</td>\n",
       "      <td>16441.000000</td>\n",
       "      <td>16441.000000</td>\n",
       "      <td>7980.000000</td>\n",
       "      <td>7460.000000</td>\n",
       "    </tr>\n",
       "    <tr>\n",
       "      <th>mean</th>\n",
       "      <td>2006.485676</td>\n",
       "      <td>0.264061</td>\n",
       "      <td>0.145957</td>\n",
       "      <td>0.078501</td>\n",
       "      <td>0.047602</td>\n",
       "      <td>68.989223</td>\n",
       "      <td>7.126180</td>\n",
       "    </tr>\n",
       "    <tr>\n",
       "      <th>std</th>\n",
       "      <td>5.875735</td>\n",
       "      <td>0.818491</td>\n",
       "      <td>0.506773</td>\n",
       "      <td>0.311127</td>\n",
       "      <td>0.188027</td>\n",
       "      <td>13.920148</td>\n",
       "      <td>1.499461</td>\n",
       "    </tr>\n",
       "    <tr>\n",
       "      <th>min</th>\n",
       "      <td>1980.000000</td>\n",
       "      <td>0.000000</td>\n",
       "      <td>0.000000</td>\n",
       "      <td>0.000000</td>\n",
       "      <td>0.000000</td>\n",
       "      <td>13.000000</td>\n",
       "      <td>0.000000</td>\n",
       "    </tr>\n",
       "    <tr>\n",
       "      <th>25%</th>\n",
       "      <td>2003.000000</td>\n",
       "      <td>0.000000</td>\n",
       "      <td>0.000000</td>\n",
       "      <td>0.000000</td>\n",
       "      <td>0.000000</td>\n",
       "      <td>60.000000</td>\n",
       "      <td>6.400000</td>\n",
       "    </tr>\n",
       "    <tr>\n",
       "      <th>50%</th>\n",
       "      <td>2007.000000</td>\n",
       "      <td>0.080000</td>\n",
       "      <td>0.020000</td>\n",
       "      <td>0.000000</td>\n",
       "      <td>0.010000</td>\n",
       "      <td>71.000000</td>\n",
       "      <td>7.500000</td>\n",
       "    </tr>\n",
       "    <tr>\n",
       "      <th>75%</th>\n",
       "      <td>2010.000000</td>\n",
       "      <td>0.240000</td>\n",
       "      <td>0.110000</td>\n",
       "      <td>0.040000</td>\n",
       "      <td>0.030000</td>\n",
       "      <td>79.000000</td>\n",
       "      <td>8.200000</td>\n",
       "    </tr>\n",
       "    <tr>\n",
       "      <th>max</th>\n",
       "      <td>2016.000000</td>\n",
       "      <td>41.360000</td>\n",
       "      <td>28.960000</td>\n",
       "      <td>10.220000</td>\n",
       "      <td>10.570000</td>\n",
       "      <td>98.000000</td>\n",
       "      <td>9.700000</td>\n",
       "    </tr>\n",
       "  </tbody>\n",
       "</table>\n",
       "</div>"
      ],
      "text/plain": [
       "       year_of_release      na_sales      eu_sales      jp_sales  \\\n",
       "count     16441.000000  16441.000000  16441.000000  16441.000000   \n",
       "mean       2006.485676      0.264061      0.145957      0.078501   \n",
       "std           5.875735      0.818491      0.506773      0.311127   \n",
       "min        1980.000000      0.000000      0.000000      0.000000   \n",
       "25%        2003.000000      0.000000      0.000000      0.000000   \n",
       "50%        2007.000000      0.080000      0.020000      0.000000   \n",
       "75%        2010.000000      0.240000      0.110000      0.040000   \n",
       "max        2016.000000     41.360000     28.960000     10.220000   \n",
       "\n",
       "        other_sales  critic_score   user_score  \n",
       "count  16441.000000   7980.000000  7460.000000  \n",
       "mean       0.047602     68.989223     7.126180  \n",
       "std        0.188027     13.920148     1.499461  \n",
       "min        0.000000     13.000000     0.000000  \n",
       "25%        0.000000     60.000000     6.400000  \n",
       "50%        0.010000     71.000000     7.500000  \n",
       "75%        0.030000     79.000000     8.200000  \n",
       "max       10.570000     98.000000     9.700000  "
      ]
     },
     "execution_count": 50,
     "metadata": {},
     "output_type": "execute_result"
    }
   ],
   "source": [
    "data.describe() #Посмотрим разброс значений в датафреме и тем самым найдем максимально явные аномалии"
   ]
  },
  {
   "cell_type": "markdown",
   "metadata": {},
   "source": [
    "Каких то аномалий не замечено, все значения в рамках нормы. Создадим отдельный столбец `ttl_sales`, который заполним суммарными продажами во всех регионах."
   ]
  },
  {
   "cell_type": "code",
   "execution_count": 51,
   "metadata": {},
   "outputs": [],
   "source": [
    "# data['ttl_sales'] = data['na_sales'] + data['eu_sales'] + data['jp_sales'] + data['other_sales']"
   ]
  },
  {
   "cell_type": "code",
   "execution_count": 52,
   "metadata": {},
   "outputs": [],
   "source": [
    "data['ttl_sales'] = data[['na_sales','eu_sales','jp_sales', 'other_sales']].sum(axis='columns')"
   ]
  },
  {
   "cell_type": "code",
   "execution_count": 53,
   "metadata": {},
   "outputs": [
    {
     "data": {
      "text/html": [
       "<div>\n",
       "<style scoped>\n",
       "    .dataframe tbody tr th:only-of-type {\n",
       "        vertical-align: middle;\n",
       "    }\n",
       "\n",
       "    .dataframe tbody tr th {\n",
       "        vertical-align: top;\n",
       "    }\n",
       "\n",
       "    .dataframe thead th {\n",
       "        text-align: right;\n",
       "    }\n",
       "</style>\n",
       "<table border=\"1\" class=\"dataframe\">\n",
       "  <thead>\n",
       "    <tr style=\"text-align: right;\">\n",
       "      <th></th>\n",
       "      <th>name</th>\n",
       "      <th>platform</th>\n",
       "      <th>year_of_release</th>\n",
       "      <th>genre</th>\n",
       "      <th>na_sales</th>\n",
       "      <th>eu_sales</th>\n",
       "      <th>jp_sales</th>\n",
       "      <th>other_sales</th>\n",
       "      <th>critic_score</th>\n",
       "      <th>user_score</th>\n",
       "      <th>rating</th>\n",
       "      <th>ttl_sales</th>\n",
       "    </tr>\n",
       "  </thead>\n",
       "  <tbody>\n",
       "    <tr>\n",
       "      <th>0</th>\n",
       "      <td>Wii Sports</td>\n",
       "      <td>Wii</td>\n",
       "      <td>2006</td>\n",
       "      <td>Sports</td>\n",
       "      <td>41.36</td>\n",
       "      <td>28.96</td>\n",
       "      <td>3.77</td>\n",
       "      <td>8.45</td>\n",
       "      <td>76</td>\n",
       "      <td>8.0</td>\n",
       "      <td>E</td>\n",
       "      <td>82.54</td>\n",
       "    </tr>\n",
       "    <tr>\n",
       "      <th>1</th>\n",
       "      <td>Super Mario Bros.</td>\n",
       "      <td>NES</td>\n",
       "      <td>1985</td>\n",
       "      <td>Platform</td>\n",
       "      <td>29.08</td>\n",
       "      <td>3.58</td>\n",
       "      <td>6.81</td>\n",
       "      <td>0.77</td>\n",
       "      <td>&lt;NA&gt;</td>\n",
       "      <td>NaN</td>\n",
       "      <td>unrated</td>\n",
       "      <td>40.24</td>\n",
       "    </tr>\n",
       "    <tr>\n",
       "      <th>2</th>\n",
       "      <td>Mario Kart Wii</td>\n",
       "      <td>Wii</td>\n",
       "      <td>2008</td>\n",
       "      <td>Racing</td>\n",
       "      <td>15.68</td>\n",
       "      <td>12.76</td>\n",
       "      <td>3.79</td>\n",
       "      <td>3.29</td>\n",
       "      <td>82</td>\n",
       "      <td>8.3</td>\n",
       "      <td>E</td>\n",
       "      <td>35.52</td>\n",
       "    </tr>\n",
       "    <tr>\n",
       "      <th>3</th>\n",
       "      <td>Wii Sports Resort</td>\n",
       "      <td>Wii</td>\n",
       "      <td>2009</td>\n",
       "      <td>Sports</td>\n",
       "      <td>15.61</td>\n",
       "      <td>10.93</td>\n",
       "      <td>3.28</td>\n",
       "      <td>2.95</td>\n",
       "      <td>80</td>\n",
       "      <td>8.0</td>\n",
       "      <td>E</td>\n",
       "      <td>32.77</td>\n",
       "    </tr>\n",
       "    <tr>\n",
       "      <th>4</th>\n",
       "      <td>Pokemon Red/Pokemon Blue</td>\n",
       "      <td>GB</td>\n",
       "      <td>1996</td>\n",
       "      <td>Role-Playing</td>\n",
       "      <td>11.27</td>\n",
       "      <td>8.89</td>\n",
       "      <td>10.22</td>\n",
       "      <td>1.00</td>\n",
       "      <td>&lt;NA&gt;</td>\n",
       "      <td>NaN</td>\n",
       "      <td>unrated</td>\n",
       "      <td>31.38</td>\n",
       "    </tr>\n",
       "  </tbody>\n",
       "</table>\n",
       "</div>"
      ],
      "text/plain": [
       "                       name platform  year_of_release         genre  na_sales  \\\n",
       "0                Wii Sports      Wii             2006        Sports     41.36   \n",
       "1         Super Mario Bros.      NES             1985      Platform     29.08   \n",
       "2            Mario Kart Wii      Wii             2008        Racing     15.68   \n",
       "3         Wii Sports Resort      Wii             2009        Sports     15.61   \n",
       "4  Pokemon Red/Pokemon Blue       GB             1996  Role-Playing     11.27   \n",
       "\n",
       "   eu_sales  jp_sales  other_sales  critic_score  user_score   rating  \\\n",
       "0     28.96      3.77         8.45            76         8.0        E   \n",
       "1      3.58      6.81         0.77          <NA>         NaN  unrated   \n",
       "2     12.76      3.79         3.29            82         8.3        E   \n",
       "3     10.93      3.28         2.95            80         8.0        E   \n",
       "4      8.89     10.22         1.00          <NA>         NaN  unrated   \n",
       "\n",
       "   ttl_sales  \n",
       "0      82.54  \n",
       "1      40.24  \n",
       "2      35.52  \n",
       "3      32.77  \n",
       "4      31.38  "
      ]
     },
     "execution_count": 53,
     "metadata": {},
     "output_type": "execute_result"
    }
   ],
   "source": [
    "data.head() # Проверим корректность создания нового столбца"
   ]
  },
  {
   "cell_type": "code",
   "execution_count": 54,
   "metadata": {},
   "outputs": [
    {
     "data": {
      "text/html": [
       "<div>\n",
       "<style scoped>\n",
       "    .dataframe tbody tr th:only-of-type {\n",
       "        vertical-align: middle;\n",
       "    }\n",
       "\n",
       "    .dataframe tbody tr th {\n",
       "        vertical-align: top;\n",
       "    }\n",
       "\n",
       "    .dataframe thead th {\n",
       "        text-align: right;\n",
       "    }\n",
       "</style>\n",
       "<table border=\"1\" class=\"dataframe\">\n",
       "  <thead>\n",
       "    <tr style=\"text-align: right;\">\n",
       "      <th></th>\n",
       "      <th>year_of_release</th>\n",
       "      <th>na_sales</th>\n",
       "      <th>eu_sales</th>\n",
       "      <th>jp_sales</th>\n",
       "      <th>other_sales</th>\n",
       "      <th>critic_score</th>\n",
       "      <th>user_score</th>\n",
       "      <th>ttl_sales</th>\n",
       "    </tr>\n",
       "  </thead>\n",
       "  <tbody>\n",
       "    <tr>\n",
       "      <th>count</th>\n",
       "      <td>16441.000000</td>\n",
       "      <td>16441.000000</td>\n",
       "      <td>16441.000000</td>\n",
       "      <td>16441.000000</td>\n",
       "      <td>16441.000000</td>\n",
       "      <td>7980.000000</td>\n",
       "      <td>7460.000000</td>\n",
       "      <td>16441.000000</td>\n",
       "    </tr>\n",
       "    <tr>\n",
       "      <th>mean</th>\n",
       "      <td>2006.485676</td>\n",
       "      <td>0.264061</td>\n",
       "      <td>0.145957</td>\n",
       "      <td>0.078501</td>\n",
       "      <td>0.047602</td>\n",
       "      <td>68.989223</td>\n",
       "      <td>7.126180</td>\n",
       "      <td>0.536121</td>\n",
       "    </tr>\n",
       "    <tr>\n",
       "      <th>std</th>\n",
       "      <td>5.875735</td>\n",
       "      <td>0.818491</td>\n",
       "      <td>0.506773</td>\n",
       "      <td>0.311127</td>\n",
       "      <td>0.188027</td>\n",
       "      <td>13.920148</td>\n",
       "      <td>1.499461</td>\n",
       "      <td>1.558989</td>\n",
       "    </tr>\n",
       "    <tr>\n",
       "      <th>min</th>\n",
       "      <td>1980.000000</td>\n",
       "      <td>0.000000</td>\n",
       "      <td>0.000000</td>\n",
       "      <td>0.000000</td>\n",
       "      <td>0.000000</td>\n",
       "      <td>13.000000</td>\n",
       "      <td>0.000000</td>\n",
       "      <td>0.000000</td>\n",
       "    </tr>\n",
       "    <tr>\n",
       "      <th>25%</th>\n",
       "      <td>2003.000000</td>\n",
       "      <td>0.000000</td>\n",
       "      <td>0.000000</td>\n",
       "      <td>0.000000</td>\n",
       "      <td>0.000000</td>\n",
       "      <td>60.000000</td>\n",
       "      <td>6.400000</td>\n",
       "      <td>0.060000</td>\n",
       "    </tr>\n",
       "    <tr>\n",
       "      <th>50%</th>\n",
       "      <td>2007.000000</td>\n",
       "      <td>0.080000</td>\n",
       "      <td>0.020000</td>\n",
       "      <td>0.000000</td>\n",
       "      <td>0.010000</td>\n",
       "      <td>71.000000</td>\n",
       "      <td>7.500000</td>\n",
       "      <td>0.170000</td>\n",
       "    </tr>\n",
       "    <tr>\n",
       "      <th>75%</th>\n",
       "      <td>2010.000000</td>\n",
       "      <td>0.240000</td>\n",
       "      <td>0.110000</td>\n",
       "      <td>0.040000</td>\n",
       "      <td>0.030000</td>\n",
       "      <td>79.000000</td>\n",
       "      <td>8.200000</td>\n",
       "      <td>0.470000</td>\n",
       "    </tr>\n",
       "    <tr>\n",
       "      <th>max</th>\n",
       "      <td>2016.000000</td>\n",
       "      <td>41.360000</td>\n",
       "      <td>28.960000</td>\n",
       "      <td>10.220000</td>\n",
       "      <td>10.570000</td>\n",
       "      <td>98.000000</td>\n",
       "      <td>9.700000</td>\n",
       "      <td>82.540000</td>\n",
       "    </tr>\n",
       "  </tbody>\n",
       "</table>\n",
       "</div>"
      ],
      "text/plain": [
       "       year_of_release      na_sales      eu_sales      jp_sales  \\\n",
       "count     16441.000000  16441.000000  16441.000000  16441.000000   \n",
       "mean       2006.485676      0.264061      0.145957      0.078501   \n",
       "std           5.875735      0.818491      0.506773      0.311127   \n",
       "min        1980.000000      0.000000      0.000000      0.000000   \n",
       "25%        2003.000000      0.000000      0.000000      0.000000   \n",
       "50%        2007.000000      0.080000      0.020000      0.000000   \n",
       "75%        2010.000000      0.240000      0.110000      0.040000   \n",
       "max        2016.000000     41.360000     28.960000     10.220000   \n",
       "\n",
       "        other_sales  critic_score   user_score     ttl_sales  \n",
       "count  16441.000000   7980.000000  7460.000000  16441.000000  \n",
       "mean       0.047602     68.989223     7.126180      0.536121  \n",
       "std        0.188027     13.920148     1.499461      1.558989  \n",
       "min        0.000000     13.000000     0.000000      0.000000  \n",
       "25%        0.000000     60.000000     6.400000      0.060000  \n",
       "50%        0.010000     71.000000     7.500000      0.170000  \n",
       "75%        0.030000     79.000000     8.200000      0.470000  \n",
       "max       10.570000     98.000000     9.700000     82.540000  "
      ]
     },
     "execution_count": 54,
     "metadata": {},
     "output_type": "execute_result"
    }
   ],
   "source": [
    "data.describe() #Еще раз взглянем на описание"
   ]
  },
  {
   "cell_type": "markdown",
   "metadata": {},
   "source": [
    "В столбце `ttl_sales` минимальное значение составляет 0, что можно отнести к аномалиям. Взглянем на данные строчки."
   ]
  },
  {
   "cell_type": "code",
   "execution_count": 55,
   "metadata": {},
   "outputs": [
    {
     "data": {
      "text/html": [
       "<div>\n",
       "<style scoped>\n",
       "    .dataframe tbody tr th:only-of-type {\n",
       "        vertical-align: middle;\n",
       "    }\n",
       "\n",
       "    .dataframe tbody tr th {\n",
       "        vertical-align: top;\n",
       "    }\n",
       "\n",
       "    .dataframe thead th {\n",
       "        text-align: right;\n",
       "    }\n",
       "</style>\n",
       "<table border=\"1\" class=\"dataframe\">\n",
       "  <thead>\n",
       "    <tr style=\"text-align: right;\">\n",
       "      <th></th>\n",
       "      <th>name</th>\n",
       "      <th>platform</th>\n",
       "      <th>year_of_release</th>\n",
       "      <th>genre</th>\n",
       "      <th>na_sales</th>\n",
       "      <th>eu_sales</th>\n",
       "      <th>jp_sales</th>\n",
       "      <th>other_sales</th>\n",
       "      <th>critic_score</th>\n",
       "      <th>user_score</th>\n",
       "      <th>rating</th>\n",
       "      <th>ttl_sales</th>\n",
       "    </tr>\n",
       "  </thead>\n",
       "  <tbody>\n",
       "    <tr>\n",
       "      <th>16402</th>\n",
       "      <td>G1 Jockey 4 2008</td>\n",
       "      <td>PS3</td>\n",
       "      <td>2008</td>\n",
       "      <td>Sports</td>\n",
       "      <td>0.0</td>\n",
       "      <td>0.0</td>\n",
       "      <td>0.0</td>\n",
       "      <td>0.0</td>\n",
       "      <td>&lt;NA&gt;</td>\n",
       "      <td>NaN</td>\n",
       "      <td>unrated</td>\n",
       "      <td>0.0</td>\n",
       "    </tr>\n",
       "    <tr>\n",
       "      <th>16435</th>\n",
       "      <td>SCORE International Baja 1000: The Official Game</td>\n",
       "      <td>PS2</td>\n",
       "      <td>2008</td>\n",
       "      <td>Racing</td>\n",
       "      <td>0.0</td>\n",
       "      <td>0.0</td>\n",
       "      <td>0.0</td>\n",
       "      <td>0.0</td>\n",
       "      <td>&lt;NA&gt;</td>\n",
       "      <td>NaN</td>\n",
       "      <td>unrated</td>\n",
       "      <td>0.0</td>\n",
       "    </tr>\n",
       "  </tbody>\n",
       "</table>\n",
       "</div>"
      ],
      "text/plain": [
       "                                                   name platform  \\\n",
       "16402                                  G1 Jockey 4 2008      PS3   \n",
       "16435  SCORE International Baja 1000: The Official Game      PS2   \n",
       "\n",
       "       year_of_release   genre  na_sales  eu_sales  jp_sales  other_sales  \\\n",
       "16402             2008  Sports       0.0       0.0       0.0          0.0   \n",
       "16435             2008  Racing       0.0       0.0       0.0          0.0   \n",
       "\n",
       "       critic_score  user_score   rating  ttl_sales  \n",
       "16402          <NA>         NaN  unrated        0.0  \n",
       "16435          <NA>         NaN  unrated        0.0  "
      ]
     },
     "execution_count": 55,
     "metadata": {},
     "output_type": "execute_result"
    }
   ],
   "source": [
    "data[data['ttl_sales'] == 0]"
   ]
  },
  {
   "cell_type": "markdown",
   "metadata": {},
   "source": [
    "У данных игр полностью отсутствуют продажи, или значения настолько низкие, что приравниваются к 0, так как мы измеряем в миллионах копиях. Избавимся от этих игр."
   ]
  },
  {
   "cell_type": "code",
   "execution_count": 56,
   "metadata": {},
   "outputs": [
    {
     "data": {
      "text/plain": [
       "'Строк в data: 16441'"
      ]
     },
     "metadata": {},
     "output_type": "display_data"
    }
   ],
   "source": [
    "display(f'Строк в data: {data.shape[0]}')"
   ]
  },
  {
   "cell_type": "code",
   "execution_count": 57,
   "metadata": {},
   "outputs": [],
   "source": [
    "data = data[data['ttl_sales'] != 0]"
   ]
  },
  {
   "cell_type": "code",
   "execution_count": 58,
   "metadata": {},
   "outputs": [
    {
     "data": {
      "text/plain": [
       "'Строк в data: 16439'"
      ]
     },
     "metadata": {},
     "output_type": "display_data"
    }
   ],
   "source": [
    "display(f'Строк в data: {data.shape[0]}')"
   ]
  },
  {
   "cell_type": "markdown",
   "metadata": {},
   "source": [
    "Теперь убедимся, что мы удалилил не более 5% дата фрейма. Изначально у нас было 16 715 строк."
   ]
  },
  {
   "cell_type": "code",
   "execution_count": 59,
   "metadata": {},
   "outputs": [
    {
     "data": {
      "text/plain": [
       "'В общей сложности мы удалили приблизительно 1.7%'"
      ]
     },
     "metadata": {},
     "output_type": "display_data"
    }
   ],
   "source": [
    "display(f'В общей сложности мы удалили приблизительно {1-len(data)/16715:.1%}')"
   ]
  },
  {
   "cell_type": "markdown",
   "metadata": {},
   "source": [
    "В данном разделе мы изучили датафрейм на пропуски, дубликаты и аномалии. Данные, которые могли бы повлять на качество анализа, без возможности восстановления, мы удалили. Остальные отклонения обработали и привели данные к нужному типу нам данных для удобства работы с ними."
   ]
  },
  {
   "cell_type": "markdown",
   "metadata": {},
   "source": [
    "## Исследовательский анализ данных"
   ]
  },
  {
   "cell_type": "markdown",
   "metadata": {},
   "source": [
    "В данном разделе мы посмотрим, сколько игр выпускалось в разные годы и как менялись продажи по платформам. Как жанр игры влияет на  продажи и популярность.\n",
    "На основании изученных данных построим прогноз на 2017 год."
   ]
  },
  {
   "cell_type": "markdown",
   "metadata": {},
   "source": [
    "### Обзор и фильтрация данных"
   ]
  },
  {
   "cell_type": "markdown",
   "metadata": {},
   "source": [
    "Изучим количесвто выпускаемых игр за каждый год. За дату выпуска игры, возьмем дату первого релиза данной игры на одну из платформ, то есть если игра была выпущена в 2000 году на PC, то выпуск ее на другую приставку или в другой год, мы уже учитывать не будет, так как это будет просто адптация, но игра уже не новая. \n",
    "\n",
    "Для найдем дубликаты в паре 'name - year_of_release'. Далее отсортируем полученный датафрейм. Так как данные у нас будут отсортированы по возрастанию, то найдем все дубликаты в названиях игр, и оставим только первые значения."
   ]
  },
  {
   "cell_type": "code",
   "execution_count": 60,
   "metadata": {},
   "outputs": [
    {
     "data": {
      "text/html": [
       "<div>\n",
       "<style scoped>\n",
       "    .dataframe tbody tr th:only-of-type {\n",
       "        vertical-align: middle;\n",
       "    }\n",
       "\n",
       "    .dataframe tbody tr th {\n",
       "        vertical-align: top;\n",
       "    }\n",
       "\n",
       "    .dataframe thead th {\n",
       "        text-align: right;\n",
       "    }\n",
       "</style>\n",
       "<table border=\"1\" class=\"dataframe\">\n",
       "  <thead>\n",
       "    <tr style=\"text-align: right;\">\n",
       "      <th></th>\n",
       "      <th>name</th>\n",
       "      <th>platform</th>\n",
       "      <th>year_of_release</th>\n",
       "      <th>genre</th>\n",
       "      <th>na_sales</th>\n",
       "      <th>eu_sales</th>\n",
       "      <th>jp_sales</th>\n",
       "      <th>other_sales</th>\n",
       "      <th>critic_score</th>\n",
       "      <th>user_score</th>\n",
       "      <th>rating</th>\n",
       "      <th>ttl_sales</th>\n",
       "    </tr>\n",
       "  </thead>\n",
       "  <tbody>\n",
       "    <tr>\n",
       "      <th>23</th>\n",
       "      <td>Grand Theft Auto V</td>\n",
       "      <td>X360</td>\n",
       "      <td>2013</td>\n",
       "      <td>Action</td>\n",
       "      <td>9.66</td>\n",
       "      <td>5.14</td>\n",
       "      <td>0.06</td>\n",
       "      <td>1.41</td>\n",
       "      <td>97</td>\n",
       "      <td>8.1</td>\n",
       "      <td>M</td>\n",
       "      <td>16.27</td>\n",
       "    </tr>\n",
       "    <tr>\n",
       "      <th>35</th>\n",
       "      <td>Call of Duty: Black Ops II</td>\n",
       "      <td>X360</td>\n",
       "      <td>2012</td>\n",
       "      <td>Shooter</td>\n",
       "      <td>8.25</td>\n",
       "      <td>4.24</td>\n",
       "      <td>0.07</td>\n",
       "      <td>1.12</td>\n",
       "      <td>83</td>\n",
       "      <td>4.8</td>\n",
       "      <td>M</td>\n",
       "      <td>13.68</td>\n",
       "    </tr>\n",
       "    <tr>\n",
       "      <th>37</th>\n",
       "      <td>Call of Duty: Modern Warfare 3</td>\n",
       "      <td>PS3</td>\n",
       "      <td>2011</td>\n",
       "      <td>Shooter</td>\n",
       "      <td>5.54</td>\n",
       "      <td>5.73</td>\n",
       "      <td>0.49</td>\n",
       "      <td>1.57</td>\n",
       "      <td>88</td>\n",
       "      <td>3.2</td>\n",
       "      <td>M</td>\n",
       "      <td>13.33</td>\n",
       "    </tr>\n",
       "    <tr>\n",
       "      <th>41</th>\n",
       "      <td>Call of Duty: Black Ops</td>\n",
       "      <td>PS3</td>\n",
       "      <td>2010</td>\n",
       "      <td>Shooter</td>\n",
       "      <td>5.99</td>\n",
       "      <td>4.37</td>\n",
       "      <td>0.48</td>\n",
       "      <td>1.79</td>\n",
       "      <td>88</td>\n",
       "      <td>6.4</td>\n",
       "      <td>M</td>\n",
       "      <td>12.63</td>\n",
       "    </tr>\n",
       "    <tr>\n",
       "      <th>55</th>\n",
       "      <td>Call of Duty: Modern Warfare 2</td>\n",
       "      <td>PS3</td>\n",
       "      <td>2009</td>\n",
       "      <td>Shooter</td>\n",
       "      <td>4.99</td>\n",
       "      <td>3.64</td>\n",
       "      <td>0.38</td>\n",
       "      <td>1.60</td>\n",
       "      <td>94</td>\n",
       "      <td>6.3</td>\n",
       "      <td>M</td>\n",
       "      <td>10.61</td>\n",
       "    </tr>\n",
       "    <tr>\n",
       "      <th>...</th>\n",
       "      <td>...</td>\n",
       "      <td>...</td>\n",
       "      <td>...</td>\n",
       "      <td>...</td>\n",
       "      <td>...</td>\n",
       "      <td>...</td>\n",
       "      <td>...</td>\n",
       "      <td>...</td>\n",
       "      <td>...</td>\n",
       "      <td>...</td>\n",
       "      <td>...</td>\n",
       "      <td>...</td>\n",
       "    </tr>\n",
       "    <tr>\n",
       "      <th>16417</th>\n",
       "      <td>Dynasty Warriors: Eiketsuden</td>\n",
       "      <td>PS3</td>\n",
       "      <td>2016</td>\n",
       "      <td>Action</td>\n",
       "      <td>0.00</td>\n",
       "      <td>0.00</td>\n",
       "      <td>0.01</td>\n",
       "      <td>0.00</td>\n",
       "      <td>&lt;NA&gt;</td>\n",
       "      <td>NaN</td>\n",
       "      <td>unrated</td>\n",
       "      <td>0.01</td>\n",
       "    </tr>\n",
       "    <tr>\n",
       "      <th>16418</th>\n",
       "      <td>Metal Gear Solid V: Ground Zeroes</td>\n",
       "      <td>PC</td>\n",
       "      <td>2014</td>\n",
       "      <td>Action</td>\n",
       "      <td>0.00</td>\n",
       "      <td>0.01</td>\n",
       "      <td>0.00</td>\n",
       "      <td>0.00</td>\n",
       "      <td>80</td>\n",
       "      <td>7.6</td>\n",
       "      <td>M</td>\n",
       "      <td>0.01</td>\n",
       "    </tr>\n",
       "    <tr>\n",
       "      <th>16436</th>\n",
       "      <td>Samurai Warriors: Sanada Maru</td>\n",
       "      <td>PS3</td>\n",
       "      <td>2016</td>\n",
       "      <td>Action</td>\n",
       "      <td>0.00</td>\n",
       "      <td>0.00</td>\n",
       "      <td>0.01</td>\n",
       "      <td>0.00</td>\n",
       "      <td>&lt;NA&gt;</td>\n",
       "      <td>NaN</td>\n",
       "      <td>unrated</td>\n",
       "      <td>0.01</td>\n",
       "    </tr>\n",
       "    <tr>\n",
       "      <th>16439</th>\n",
       "      <td>Spirits &amp; Spells</td>\n",
       "      <td>GBA</td>\n",
       "      <td>2003</td>\n",
       "      <td>Platform</td>\n",
       "      <td>0.01</td>\n",
       "      <td>0.00</td>\n",
       "      <td>0.00</td>\n",
       "      <td>0.00</td>\n",
       "      <td>&lt;NA&gt;</td>\n",
       "      <td>NaN</td>\n",
       "      <td>unrated</td>\n",
       "      <td>0.01</td>\n",
       "    </tr>\n",
       "    <tr>\n",
       "      <th>16440</th>\n",
       "      <td>Winning Post 8 2016</td>\n",
       "      <td>PSV</td>\n",
       "      <td>2016</td>\n",
       "      <td>Simulation</td>\n",
       "      <td>0.00</td>\n",
       "      <td>0.00</td>\n",
       "      <td>0.01</td>\n",
       "      <td>0.00</td>\n",
       "      <td>&lt;NA&gt;</td>\n",
       "      <td>NaN</td>\n",
       "      <td>unrated</td>\n",
       "      <td>0.01</td>\n",
       "    </tr>\n",
       "  </tbody>\n",
       "</table>\n",
       "<p>4245 rows × 12 columns</p>\n",
       "</div>"
      ],
      "text/plain": [
       "                                    name platform  year_of_release  \\\n",
       "23                    Grand Theft Auto V     X360             2013   \n",
       "35            Call of Duty: Black Ops II     X360             2012   \n",
       "37        Call of Duty: Modern Warfare 3      PS3             2011   \n",
       "41               Call of Duty: Black Ops      PS3             2010   \n",
       "55        Call of Duty: Modern Warfare 2      PS3             2009   \n",
       "...                                  ...      ...              ...   \n",
       "16417       Dynasty Warriors: Eiketsuden      PS3             2016   \n",
       "16418  Metal Gear Solid V: Ground Zeroes       PC             2014   \n",
       "16436      Samurai Warriors: Sanada Maru      PS3             2016   \n",
       "16439                   Spirits & Spells      GBA             2003   \n",
       "16440                Winning Post 8 2016      PSV             2016   \n",
       "\n",
       "            genre  na_sales  eu_sales  jp_sales  other_sales  critic_score  \\\n",
       "23         Action      9.66      5.14      0.06         1.41            97   \n",
       "35        Shooter      8.25      4.24      0.07         1.12            83   \n",
       "37        Shooter      5.54      5.73      0.49         1.57            88   \n",
       "41        Shooter      5.99      4.37      0.48         1.79            88   \n",
       "55        Shooter      4.99      3.64      0.38         1.60            94   \n",
       "...           ...       ...       ...       ...          ...           ...   \n",
       "16417      Action      0.00      0.00      0.01         0.00          <NA>   \n",
       "16418      Action      0.00      0.01      0.00         0.00            80   \n",
       "16436      Action      0.00      0.00      0.01         0.00          <NA>   \n",
       "16439    Platform      0.01      0.00      0.00         0.00          <NA>   \n",
       "16440  Simulation      0.00      0.00      0.01         0.00          <NA>   \n",
       "\n",
       "       user_score   rating  ttl_sales  \n",
       "23            8.1        M      16.27  \n",
       "35            4.8        M      13.68  \n",
       "37            3.2        M      13.33  \n",
       "41            6.4        M      12.63  \n",
       "55            6.3        M      10.61  \n",
       "...           ...      ...        ...  \n",
       "16417         NaN  unrated       0.01  \n",
       "16418         7.6        M       0.01  \n",
       "16436         NaN  unrated       0.01  \n",
       "16439         NaN  unrated       0.01  \n",
       "16440         NaN  unrated       0.01  \n",
       "\n",
       "[4245 rows x 12 columns]"
      ]
     },
     "execution_count": 60,
     "metadata": {},
     "output_type": "execute_result"
    }
   ],
   "source": [
    "data[data.duplicated(subset=['name', 'year_of_release'])] # Взглянем на дубликаты и их количество"
   ]
  },
  {
   "cell_type": "code",
   "execution_count": 61,
   "metadata": {},
   "outputs": [
    {
     "data": {
      "text/plain": [
       "'Строк в data: 16439'"
      ]
     },
     "metadata": {},
     "output_type": "display_data"
    }
   ],
   "source": [
    "display(f'Строк в data: {data.shape[0]}')"
   ]
  },
  {
   "cell_type": "code",
   "execution_count": 62,
   "metadata": {},
   "outputs": [],
   "source": [
    "data_name_year = data.drop_duplicates(subset=['name', 'year_of_release']) "
   ]
  },
  {
   "cell_type": "code",
   "execution_count": 63,
   "metadata": {},
   "outputs": [
    {
     "data": {
      "text/plain": [
       "'Строк в data_name_year: 12194'"
      ]
     },
     "metadata": {},
     "output_type": "display_data"
    }
   ],
   "source": [
    "display(f'Строк в data_name_year: {data_name_year.shape[0]}')"
   ]
  },
  {
   "cell_type": "code",
   "execution_count": 64,
   "metadata": {},
   "outputs": [
    {
     "data": {
      "text/html": [
       "<div>\n",
       "<style scoped>\n",
       "    .dataframe tbody tr th:only-of-type {\n",
       "        vertical-align: middle;\n",
       "    }\n",
       "\n",
       "    .dataframe tbody tr th {\n",
       "        vertical-align: top;\n",
       "    }\n",
       "\n",
       "    .dataframe thead th {\n",
       "        text-align: right;\n",
       "    }\n",
       "</style>\n",
       "<table border=\"1\" class=\"dataframe\">\n",
       "  <thead>\n",
       "    <tr style=\"text-align: right;\">\n",
       "      <th></th>\n",
       "      <th>name</th>\n",
       "      <th>platform</th>\n",
       "      <th>year_of_release</th>\n",
       "      <th>genre</th>\n",
       "      <th>na_sales</th>\n",
       "      <th>eu_sales</th>\n",
       "      <th>jp_sales</th>\n",
       "      <th>other_sales</th>\n",
       "      <th>critic_score</th>\n",
       "      <th>user_score</th>\n",
       "      <th>rating</th>\n",
       "      <th>ttl_sales</th>\n",
       "    </tr>\n",
       "  </thead>\n",
       "  <tbody>\n",
       "    <tr>\n",
       "      <th>5282</th>\n",
       "      <td>Freeway</td>\n",
       "      <td>2600</td>\n",
       "      <td>1980</td>\n",
       "      <td>Action</td>\n",
       "      <td>0.32</td>\n",
       "      <td>0.02</td>\n",
       "      <td>0.0</td>\n",
       "      <td>0.00</td>\n",
       "      <td>&lt;NA&gt;</td>\n",
       "      <td>NaN</td>\n",
       "      <td>unrated</td>\n",
       "      <td>0.34</td>\n",
       "    </tr>\n",
       "    <tr>\n",
       "      <th>542</th>\n",
       "      <td>Missile Command</td>\n",
       "      <td>2600</td>\n",
       "      <td>1980</td>\n",
       "      <td>Shooter</td>\n",
       "      <td>2.56</td>\n",
       "      <td>0.17</td>\n",
       "      <td>0.0</td>\n",
       "      <td>0.03</td>\n",
       "      <td>&lt;NA&gt;</td>\n",
       "      <td>NaN</td>\n",
       "      <td>unrated</td>\n",
       "      <td>2.76</td>\n",
       "    </tr>\n",
       "    <tr>\n",
       "      <th>2612</th>\n",
       "      <td>Boxing</td>\n",
       "      <td>2600</td>\n",
       "      <td>1980</td>\n",
       "      <td>Fighting</td>\n",
       "      <td>0.72</td>\n",
       "      <td>0.04</td>\n",
       "      <td>0.0</td>\n",
       "      <td>0.01</td>\n",
       "      <td>&lt;NA&gt;</td>\n",
       "      <td>NaN</td>\n",
       "      <td>unrated</td>\n",
       "      <td>0.77</td>\n",
       "    </tr>\n",
       "    <tr>\n",
       "      <th>6201</th>\n",
       "      <td>Bridge</td>\n",
       "      <td>2600</td>\n",
       "      <td>1980</td>\n",
       "      <td>Misc</td>\n",
       "      <td>0.25</td>\n",
       "      <td>0.02</td>\n",
       "      <td>0.0</td>\n",
       "      <td>0.00</td>\n",
       "      <td>&lt;NA&gt;</td>\n",
       "      <td>NaN</td>\n",
       "      <td>unrated</td>\n",
       "      <td>0.27</td>\n",
       "    </tr>\n",
       "    <tr>\n",
       "      <th>3964</th>\n",
       "      <td>Ice Hockey</td>\n",
       "      <td>2600</td>\n",
       "      <td>1980</td>\n",
       "      <td>Sports</td>\n",
       "      <td>0.46</td>\n",
       "      <td>0.03</td>\n",
       "      <td>0.0</td>\n",
       "      <td>0.01</td>\n",
       "      <td>&lt;NA&gt;</td>\n",
       "      <td>NaN</td>\n",
       "      <td>unrated</td>\n",
       "      <td>0.50</td>\n",
       "    </tr>\n",
       "  </tbody>\n",
       "</table>\n",
       "</div>"
      ],
      "text/plain": [
       "                 name platform  year_of_release     genre  na_sales  eu_sales  \\\n",
       "5282          Freeway     2600             1980    Action      0.32      0.02   \n",
       "542   Missile Command     2600             1980   Shooter      2.56      0.17   \n",
       "2612           Boxing     2600             1980  Fighting      0.72      0.04   \n",
       "6201           Bridge     2600             1980      Misc      0.25      0.02   \n",
       "3964       Ice Hockey     2600             1980    Sports      0.46      0.03   \n",
       "\n",
       "      jp_sales  other_sales  critic_score  user_score   rating  ttl_sales  \n",
       "5282       0.0         0.00          <NA>         NaN  unrated       0.34  \n",
       "542        0.0         0.03          <NA>         NaN  unrated       2.76  \n",
       "2612       0.0         0.01          <NA>         NaN  unrated       0.77  \n",
       "6201       0.0         0.00          <NA>         NaN  unrated       0.27  \n",
       "3964       0.0         0.01          <NA>         NaN  unrated       0.50  "
      ]
     },
     "execution_count": 64,
     "metadata": {},
     "output_type": "execute_result"
    }
   ],
   "source": [
    "data_name_year = data_name_year.sort_values('year_of_release')\n",
    "data_name_year.head()"
   ]
  },
  {
   "cell_type": "code",
   "execution_count": 65,
   "metadata": {},
   "outputs": [
    {
     "data": {
      "text/plain": [
       "769"
      ]
     },
     "execution_count": 65,
     "metadata": {},
     "output_type": "execute_result"
    }
   ],
   "source": [
    "data_name_year.duplicated('name').sum()"
   ]
  },
  {
   "cell_type": "code",
   "execution_count": 66,
   "metadata": {},
   "outputs": [],
   "source": [
    "data_name_year = data_name_year.drop_duplicates('name')"
   ]
  },
  {
   "cell_type": "code",
   "execution_count": 67,
   "metadata": {},
   "outputs": [
    {
     "data": {
      "text/plain": [
       "'Строк в data_name_year: 11425'"
      ]
     },
     "metadata": {},
     "output_type": "display_data"
    }
   ],
   "source": [
    "display(f'Строк в data_name_year: {data_name_year.shape[0]}')"
   ]
  },
  {
   "cell_type": "code",
   "execution_count": 68,
   "metadata": {
    "scrolled": false
   },
   "outputs": [
    {
     "data": {
      "image/png": "[encoded data removed]",
      "text/plain": [
       "<Figure size 1080x360 with 1 Axes>"
      ]
     },
     "metadata": {
      "needs_background": "light"
     },
     "output_type": "display_data"
    }
   ],
   "source": [
    "# Визуилизируем данные\n",
    "data_name_year.pivot_table(index='year_of_release', values='name',aggfunc='count').plot(\n",
    "    grid=True,\n",
    "    figsize=(15,5),\n",
    "    xlabel='Год выпуска',\n",
    "    ylabel='Количество выпущенных игр, штук',\n",
    "    legend=False\n",
    ")\n",
    "plt.title('Выпуск игр')\n",
    "plt.show()"
   ]
  },
  {
   "cell_type": "markdown",
   "metadata": {},
   "source": [
    "Исходя из полученного графика, видно постепенное увелечение производства игр, которе связано с развитием технологий. Самый пик по количеству выпущенных игр пришелся на 2008-2009 год, а далее наблюдаем снижение данного покзателя. Данное снижение можно связать с \"подходом\" к производству игр. Многие студии разраблотки игр сделали упор на качество игр, а не на их количество. Также можно обосновать тем, что большинство игр поддерживают он-лайн мультиплеер, в связи с чем студии выгоднее выпускать обновления для игры, нежели разрабатывать новую игру."
   ]
  },
  {
   "cell_type": "code",
   "execution_count": 69,
   "metadata": {
    "scrolled": false
   },
   "outputs": [
    {
     "data": {
      "text/html": [
       "<div>\n",
       "<style scoped>\n",
       "    .dataframe tbody tr th:only-of-type {\n",
       "        vertical-align: middle;\n",
       "    }\n",
       "\n",
       "    .dataframe tbody tr th {\n",
       "        vertical-align: top;\n",
       "    }\n",
       "\n",
       "    .dataframe thead th {\n",
       "        text-align: right;\n",
       "    }\n",
       "</style>\n",
       "<table border=\"1\" class=\"dataframe\">\n",
       "  <thead>\n",
       "    <tr style=\"text-align: right;\">\n",
       "      <th></th>\n",
       "      <th>ttl_sales</th>\n",
       "    </tr>\n",
       "    <tr>\n",
       "      <th>platform</th>\n",
       "      <th></th>\n",
       "    </tr>\n",
       "  </thead>\n",
       "  <tbody>\n",
       "    <tr>\n",
       "      <th>PCFX</th>\n",
       "      <td>0.03</td>\n",
       "    </tr>\n",
       "    <tr>\n",
       "      <th>GG</th>\n",
       "      <td>0.04</td>\n",
       "    </tr>\n",
       "    <tr>\n",
       "      <th>3DO</th>\n",
       "      <td>0.10</td>\n",
       "    </tr>\n",
       "    <tr>\n",
       "      <th>TG16</th>\n",
       "      <td>0.16</td>\n",
       "    </tr>\n",
       "    <tr>\n",
       "      <th>WS</th>\n",
       "      <td>1.42</td>\n",
       "    </tr>\n",
       "    <tr>\n",
       "      <th>NG</th>\n",
       "      <td>1.44</td>\n",
       "    </tr>\n",
       "    <tr>\n",
       "      <th>SCD</th>\n",
       "      <td>1.86</td>\n",
       "    </tr>\n",
       "    <tr>\n",
       "      <th>DC</th>\n",
       "      <td>15.95</td>\n",
       "    </tr>\n",
       "    <tr>\n",
       "      <th>GEN</th>\n",
       "      <td>28.35</td>\n",
       "    </tr>\n",
       "    <tr>\n",
       "      <th>SAT</th>\n",
       "      <td>33.59</td>\n",
       "    </tr>\n",
       "    <tr>\n",
       "      <th>PSV</th>\n",
       "      <td>53.81</td>\n",
       "    </tr>\n",
       "    <tr>\n",
       "      <th>WiiU</th>\n",
       "      <td>82.19</td>\n",
       "    </tr>\n",
       "    <tr>\n",
       "      <th>2600</th>\n",
       "      <td>86.48</td>\n",
       "    </tr>\n",
       "    <tr>\n",
       "      <th>XOne</th>\n",
       "      <td>159.32</td>\n",
       "    </tr>\n",
       "    <tr>\n",
       "      <th>GC</th>\n",
       "      <td>196.73</td>\n",
       "    </tr>\n",
       "    <tr>\n",
       "      <th>SNES</th>\n",
       "      <td>200.04</td>\n",
       "    </tr>\n",
       "    <tr>\n",
       "      <th>N64</th>\n",
       "      <td>218.01</td>\n",
       "    </tr>\n",
       "    <tr>\n",
       "      <th>NES</th>\n",
       "      <td>251.05</td>\n",
       "    </tr>\n",
       "    <tr>\n",
       "      <th>XB</th>\n",
       "      <td>251.57</td>\n",
       "    </tr>\n",
       "    <tr>\n",
       "      <th>GB</th>\n",
       "      <td>254.43</td>\n",
       "    </tr>\n",
       "    <tr>\n",
       "      <th>PC</th>\n",
       "      <td>255.76</td>\n",
       "    </tr>\n",
       "    <tr>\n",
       "      <th>3DS</th>\n",
       "      <td>257.81</td>\n",
       "    </tr>\n",
       "    <tr>\n",
       "      <th>PSP</th>\n",
       "      <td>289.53</td>\n",
       "    </tr>\n",
       "    <tr>\n",
       "      <th>GBA</th>\n",
       "      <td>312.88</td>\n",
       "    </tr>\n",
       "    <tr>\n",
       "      <th>PS4</th>\n",
       "      <td>314.14</td>\n",
       "    </tr>\n",
       "    <tr>\n",
       "      <th>PS</th>\n",
       "      <td>727.58</td>\n",
       "    </tr>\n",
       "    <tr>\n",
       "      <th>DS</th>\n",
       "      <td>802.78</td>\n",
       "    </tr>\n",
       "    <tr>\n",
       "      <th>Wii</th>\n",
       "      <td>891.18</td>\n",
       "    </tr>\n",
       "    <tr>\n",
       "      <th>PS3</th>\n",
       "      <td>931.34</td>\n",
       "    </tr>\n",
       "    <tr>\n",
       "      <th>X360</th>\n",
       "      <td>961.24</td>\n",
       "    </tr>\n",
       "    <tr>\n",
       "      <th>PS2</th>\n",
       "      <td>1233.56</td>\n",
       "    </tr>\n",
       "  </tbody>\n",
       "</table>\n",
       "</div>"
      ],
      "text/plain": [
       "          ttl_sales\n",
       "platform           \n",
       "PCFX           0.03\n",
       "GG             0.04\n",
       "3DO            0.10\n",
       "TG16           0.16\n",
       "WS             1.42\n",
       "NG             1.44\n",
       "SCD            1.86\n",
       "DC            15.95\n",
       "GEN           28.35\n",
       "SAT           33.59\n",
       "PSV           53.81\n",
       "WiiU          82.19\n",
       "2600          86.48\n",
       "XOne         159.32\n",
       "GC           196.73\n",
       "SNES         200.04\n",
       "N64          218.01\n",
       "NES          251.05\n",
       "XB           251.57\n",
       "GB           254.43\n",
       "PC           255.76\n",
       "3DS          257.81\n",
       "PSP          289.53\n",
       "GBA          312.88\n",
       "PS4          314.14\n",
       "PS           727.58\n",
       "DS           802.78\n",
       "Wii          891.18\n",
       "PS3          931.34\n",
       "X360         961.24\n",
       "PS2         1233.56"
      ]
     },
     "execution_count": 69,
     "metadata": {},
     "output_type": "execute_result"
    }
   ],
   "source": [
    "# Изучим количество продаж по каждой платформе\n",
    "data.pivot_table(index='platform', values='ttl_sales', aggfunc='sum').sort_values('ttl_sales') "
   ]
  },
  {
   "cell_type": "markdown",
   "metadata": {},
   "source": [
    "Исходя из полученных данных в топ 10 по количеству проданных игр входят на первый взгляд разные приставки, но тут стоит учитывать тот фактор, что эти приставки могут быть модификациями своих \"старших братьев\", как например, PS, PS2, PS3. Тут очень многое зависит от того, когда была выпущена приставка и как быстро под нее апдатировался рынок, а также как пользователь принял эту приставку."
   ]
  },
  {
   "cell_type": "code",
   "execution_count": 70,
   "metadata": {},
   "outputs": [
    {
     "data": {
      "text/html": [
       "<div>\n",
       "<style scoped>\n",
       "    .dataframe tbody tr th:only-of-type {\n",
       "        vertical-align: middle;\n",
       "    }\n",
       "\n",
       "    .dataframe tbody tr th {\n",
       "        vertical-align: top;\n",
       "    }\n",
       "\n",
       "    .dataframe thead th {\n",
       "        text-align: right;\n",
       "    }\n",
       "</style>\n",
       "<table border=\"1\" class=\"dataframe\">\n",
       "  <thead>\n",
       "    <tr style=\"text-align: right;\">\n",
       "      <th>platform</th>\n",
       "      <th>2600</th>\n",
       "      <th>3DO</th>\n",
       "      <th>3DS</th>\n",
       "      <th>DC</th>\n",
       "      <th>DS</th>\n",
       "      <th>GB</th>\n",
       "      <th>GBA</th>\n",
       "      <th>GC</th>\n",
       "      <th>GEN</th>\n",
       "      <th>GG</th>\n",
       "      <th>...</th>\n",
       "      <th>SAT</th>\n",
       "      <th>SCD</th>\n",
       "      <th>SNES</th>\n",
       "      <th>TG16</th>\n",
       "      <th>WS</th>\n",
       "      <th>Wii</th>\n",
       "      <th>WiiU</th>\n",
       "      <th>X360</th>\n",
       "      <th>XB</th>\n",
       "      <th>XOne</th>\n",
       "    </tr>\n",
       "    <tr>\n",
       "      <th>year_of_release</th>\n",
       "      <th></th>\n",
       "      <th></th>\n",
       "      <th></th>\n",
       "      <th></th>\n",
       "      <th></th>\n",
       "      <th></th>\n",
       "      <th></th>\n",
       "      <th></th>\n",
       "      <th></th>\n",
       "      <th></th>\n",
       "      <th></th>\n",
       "      <th></th>\n",
       "      <th></th>\n",
       "      <th></th>\n",
       "      <th></th>\n",
       "      <th></th>\n",
       "      <th></th>\n",
       "      <th></th>\n",
       "      <th></th>\n",
       "      <th></th>\n",
       "      <th></th>\n",
       "    </tr>\n",
       "  </thead>\n",
       "  <tbody>\n",
       "    <tr>\n",
       "      <th>1980</th>\n",
       "      <td>11.38</td>\n",
       "      <td>NaN</td>\n",
       "      <td>NaN</td>\n",
       "      <td>NaN</td>\n",
       "      <td>NaN</td>\n",
       "      <td>NaN</td>\n",
       "      <td>NaN</td>\n",
       "      <td>NaN</td>\n",
       "      <td>NaN</td>\n",
       "      <td>NaN</td>\n",
       "      <td>...</td>\n",
       "      <td>NaN</td>\n",
       "      <td>NaN</td>\n",
       "      <td>NaN</td>\n",
       "      <td>NaN</td>\n",
       "      <td>NaN</td>\n",
       "      <td>NaN</td>\n",
       "      <td>NaN</td>\n",
       "      <td>NaN</td>\n",
       "      <td>NaN</td>\n",
       "      <td>NaN</td>\n",
       "    </tr>\n",
       "    <tr>\n",
       "      <th>1981</th>\n",
       "      <td>35.68</td>\n",
       "      <td>NaN</td>\n",
       "      <td>NaN</td>\n",
       "      <td>NaN</td>\n",
       "      <td>NaN</td>\n",
       "      <td>NaN</td>\n",
       "      <td>NaN</td>\n",
       "      <td>NaN</td>\n",
       "      <td>NaN</td>\n",
       "      <td>NaN</td>\n",
       "      <td>...</td>\n",
       "      <td>NaN</td>\n",
       "      <td>NaN</td>\n",
       "      <td>NaN</td>\n",
       "      <td>NaN</td>\n",
       "      <td>NaN</td>\n",
       "      <td>NaN</td>\n",
       "      <td>NaN</td>\n",
       "      <td>NaN</td>\n",
       "      <td>NaN</td>\n",
       "      <td>NaN</td>\n",
       "    </tr>\n",
       "    <tr>\n",
       "      <th>1982</th>\n",
       "      <td>28.88</td>\n",
       "      <td>NaN</td>\n",
       "      <td>NaN</td>\n",
       "      <td>NaN</td>\n",
       "      <td>NaN</td>\n",
       "      <td>NaN</td>\n",
       "      <td>NaN</td>\n",
       "      <td>NaN</td>\n",
       "      <td>NaN</td>\n",
       "      <td>NaN</td>\n",
       "      <td>...</td>\n",
       "      <td>NaN</td>\n",
       "      <td>NaN</td>\n",
       "      <td>NaN</td>\n",
       "      <td>NaN</td>\n",
       "      <td>NaN</td>\n",
       "      <td>NaN</td>\n",
       "      <td>NaN</td>\n",
       "      <td>NaN</td>\n",
       "      <td>NaN</td>\n",
       "      <td>NaN</td>\n",
       "    </tr>\n",
       "    <tr>\n",
       "      <th>1983</th>\n",
       "      <td>5.84</td>\n",
       "      <td>NaN</td>\n",
       "      <td>NaN</td>\n",
       "      <td>NaN</td>\n",
       "      <td>NaN</td>\n",
       "      <td>NaN</td>\n",
       "      <td>NaN</td>\n",
       "      <td>NaN</td>\n",
       "      <td>NaN</td>\n",
       "      <td>NaN</td>\n",
       "      <td>...</td>\n",
       "      <td>NaN</td>\n",
       "      <td>NaN</td>\n",
       "      <td>NaN</td>\n",
       "      <td>NaN</td>\n",
       "      <td>NaN</td>\n",
       "      <td>NaN</td>\n",
       "      <td>NaN</td>\n",
       "      <td>NaN</td>\n",
       "      <td>NaN</td>\n",
       "      <td>NaN</td>\n",
       "    </tr>\n",
       "    <tr>\n",
       "      <th>1984</th>\n",
       "      <td>0.27</td>\n",
       "      <td>NaN</td>\n",
       "      <td>NaN</td>\n",
       "      <td>NaN</td>\n",
       "      <td>NaN</td>\n",
       "      <td>NaN</td>\n",
       "      <td>NaN</td>\n",
       "      <td>NaN</td>\n",
       "      <td>NaN</td>\n",
       "      <td>NaN</td>\n",
       "      <td>...</td>\n",
       "      <td>NaN</td>\n",
       "      <td>NaN</td>\n",
       "      <td>NaN</td>\n",
       "      <td>NaN</td>\n",
       "      <td>NaN</td>\n",
       "      <td>NaN</td>\n",
       "      <td>NaN</td>\n",
       "      <td>NaN</td>\n",
       "      <td>NaN</td>\n",
       "      <td>NaN</td>\n",
       "    </tr>\n",
       "    <tr>\n",
       "      <th>1985</th>\n",
       "      <td>0.45</td>\n",
       "      <td>NaN</td>\n",
       "      <td>NaN</td>\n",
       "      <td>NaN</td>\n",
       "      <td>0.02</td>\n",
       "      <td>NaN</td>\n",
       "      <td>NaN</td>\n",
       "      <td>NaN</td>\n",
       "      <td>NaN</td>\n",
       "      <td>NaN</td>\n",
       "      <td>...</td>\n",
       "      <td>NaN</td>\n",
       "      <td>NaN</td>\n",
       "      <td>NaN</td>\n",
       "      <td>NaN</td>\n",
       "      <td>NaN</td>\n",
       "      <td>NaN</td>\n",
       "      <td>NaN</td>\n",
       "      <td>NaN</td>\n",
       "      <td>NaN</td>\n",
       "      <td>NaN</td>\n",
       "    </tr>\n",
       "    <tr>\n",
       "      <th>1986</th>\n",
       "      <td>0.67</td>\n",
       "      <td>NaN</td>\n",
       "      <td>NaN</td>\n",
       "      <td>NaN</td>\n",
       "      <td>NaN</td>\n",
       "      <td>NaN</td>\n",
       "      <td>NaN</td>\n",
       "      <td>NaN</td>\n",
       "      <td>NaN</td>\n",
       "      <td>NaN</td>\n",
       "      <td>...</td>\n",
       "      <td>NaN</td>\n",
       "      <td>NaN</td>\n",
       "      <td>NaN</td>\n",
       "      <td>NaN</td>\n",
       "      <td>NaN</td>\n",
       "      <td>NaN</td>\n",
       "      <td>NaN</td>\n",
       "      <td>NaN</td>\n",
       "      <td>NaN</td>\n",
       "      <td>NaN</td>\n",
       "    </tr>\n",
       "    <tr>\n",
       "      <th>1987</th>\n",
       "      <td>1.94</td>\n",
       "      <td>NaN</td>\n",
       "      <td>NaN</td>\n",
       "      <td>NaN</td>\n",
       "      <td>NaN</td>\n",
       "      <td>NaN</td>\n",
       "      <td>NaN</td>\n",
       "      <td>NaN</td>\n",
       "      <td>NaN</td>\n",
       "      <td>NaN</td>\n",
       "      <td>...</td>\n",
       "      <td>NaN</td>\n",
       "      <td>NaN</td>\n",
       "      <td>NaN</td>\n",
       "      <td>NaN</td>\n",
       "      <td>NaN</td>\n",
       "      <td>NaN</td>\n",
       "      <td>NaN</td>\n",
       "      <td>NaN</td>\n",
       "      <td>NaN</td>\n",
       "      <td>NaN</td>\n",
       "    </tr>\n",
       "    <tr>\n",
       "      <th>1988</th>\n",
       "      <td>0.74</td>\n",
       "      <td>NaN</td>\n",
       "      <td>NaN</td>\n",
       "      <td>NaN</td>\n",
       "      <td>NaN</td>\n",
       "      <td>1.43</td>\n",
       "      <td>NaN</td>\n",
       "      <td>NaN</td>\n",
       "      <td>NaN</td>\n",
       "      <td>NaN</td>\n",
       "      <td>...</td>\n",
       "      <td>NaN</td>\n",
       "      <td>NaN</td>\n",
       "      <td>NaN</td>\n",
       "      <td>NaN</td>\n",
       "      <td>NaN</td>\n",
       "      <td>NaN</td>\n",
       "      <td>NaN</td>\n",
       "      <td>NaN</td>\n",
       "      <td>NaN</td>\n",
       "      <td>NaN</td>\n",
       "    </tr>\n",
       "    <tr>\n",
       "      <th>1989</th>\n",
       "      <td>0.63</td>\n",
       "      <td>NaN</td>\n",
       "      <td>NaN</td>\n",
       "      <td>NaN</td>\n",
       "      <td>NaN</td>\n",
       "      <td>64.97</td>\n",
       "      <td>NaN</td>\n",
       "      <td>NaN</td>\n",
       "      <td>NaN</td>\n",
       "      <td>NaN</td>\n",
       "      <td>...</td>\n",
       "      <td>NaN</td>\n",
       "      <td>NaN</td>\n",
       "      <td>NaN</td>\n",
       "      <td>NaN</td>\n",
       "      <td>NaN</td>\n",
       "      <td>NaN</td>\n",
       "      <td>NaN</td>\n",
       "      <td>NaN</td>\n",
       "      <td>NaN</td>\n",
       "      <td>NaN</td>\n",
       "    </tr>\n",
       "    <tr>\n",
       "      <th>1990</th>\n",
       "      <td>NaN</td>\n",
       "      <td>NaN</td>\n",
       "      <td>NaN</td>\n",
       "      <td>NaN</td>\n",
       "      <td>NaN</td>\n",
       "      <td>4.89</td>\n",
       "      <td>NaN</td>\n",
       "      <td>NaN</td>\n",
       "      <td>2.60</td>\n",
       "      <td>NaN</td>\n",
       "      <td>...</td>\n",
       "      <td>NaN</td>\n",
       "      <td>NaN</td>\n",
       "      <td>26.15</td>\n",
       "      <td>NaN</td>\n",
       "      <td>NaN</td>\n",
       "      <td>NaN</td>\n",
       "      <td>NaN</td>\n",
       "      <td>NaN</td>\n",
       "      <td>NaN</td>\n",
       "      <td>NaN</td>\n",
       "    </tr>\n",
       "    <tr>\n",
       "      <th>1991</th>\n",
       "      <td>NaN</td>\n",
       "      <td>NaN</td>\n",
       "      <td>NaN</td>\n",
       "      <td>NaN</td>\n",
       "      <td>NaN</td>\n",
       "      <td>5.57</td>\n",
       "      <td>NaN</td>\n",
       "      <td>NaN</td>\n",
       "      <td>4.33</td>\n",
       "      <td>NaN</td>\n",
       "      <td>...</td>\n",
       "      <td>NaN</td>\n",
       "      <td>NaN</td>\n",
       "      <td>16.22</td>\n",
       "      <td>NaN</td>\n",
       "      <td>NaN</td>\n",
       "      <td>NaN</td>\n",
       "      <td>NaN</td>\n",
       "      <td>NaN</td>\n",
       "      <td>NaN</td>\n",
       "      <td>NaN</td>\n",
       "    </tr>\n",
       "    <tr>\n",
       "      <th>1992</th>\n",
       "      <td>NaN</td>\n",
       "      <td>NaN</td>\n",
       "      <td>NaN</td>\n",
       "      <td>NaN</td>\n",
       "      <td>NaN</td>\n",
       "      <td>25.49</td>\n",
       "      <td>NaN</td>\n",
       "      <td>NaN</td>\n",
       "      <td>12.64</td>\n",
       "      <td>0.04</td>\n",
       "      <td>...</td>\n",
       "      <td>NaN</td>\n",
       "      <td>NaN</td>\n",
       "      <td>32.98</td>\n",
       "      <td>NaN</td>\n",
       "      <td>NaN</td>\n",
       "      <td>NaN</td>\n",
       "      <td>NaN</td>\n",
       "      <td>NaN</td>\n",
       "      <td>NaN</td>\n",
       "      <td>NaN</td>\n",
       "    </tr>\n",
       "    <tr>\n",
       "      <th>1993</th>\n",
       "      <td>NaN</td>\n",
       "      <td>NaN</td>\n",
       "      <td>NaN</td>\n",
       "      <td>NaN</td>\n",
       "      <td>NaN</td>\n",
       "      <td>NaN</td>\n",
       "      <td>NaN</td>\n",
       "      <td>NaN</td>\n",
       "      <td>0.65</td>\n",
       "      <td>NaN</td>\n",
       "      <td>...</td>\n",
       "      <td>NaN</td>\n",
       "      <td>1.50</td>\n",
       "      <td>40.02</td>\n",
       "      <td>NaN</td>\n",
       "      <td>NaN</td>\n",
       "      <td>NaN</td>\n",
       "      <td>NaN</td>\n",
       "      <td>NaN</td>\n",
       "      <td>NaN</td>\n",
       "      <td>NaN</td>\n",
       "    </tr>\n",
       "    <tr>\n",
       "      <th>1994</th>\n",
       "      <td>NaN</td>\n",
       "      <td>0.02</td>\n",
       "      <td>NaN</td>\n",
       "      <td>NaN</td>\n",
       "      <td>NaN</td>\n",
       "      <td>12.18</td>\n",
       "      <td>NaN</td>\n",
       "      <td>NaN</td>\n",
       "      <td>8.13</td>\n",
       "      <td>NaN</td>\n",
       "      <td>...</td>\n",
       "      <td>3.65</td>\n",
       "      <td>0.36</td>\n",
       "      <td>35.08</td>\n",
       "      <td>NaN</td>\n",
       "      <td>NaN</td>\n",
       "      <td>NaN</td>\n",
       "      <td>NaN</td>\n",
       "      <td>NaN</td>\n",
       "      <td>NaN</td>\n",
       "      <td>NaN</td>\n",
       "    </tr>\n",
       "    <tr>\n",
       "      <th>1995</th>\n",
       "      <td>NaN</td>\n",
       "      <td>0.08</td>\n",
       "      <td>NaN</td>\n",
       "      <td>NaN</td>\n",
       "      <td>NaN</td>\n",
       "      <td>3.60</td>\n",
       "      <td>NaN</td>\n",
       "      <td>NaN</td>\n",
       "      <td>NaN</td>\n",
       "      <td>NaN</td>\n",
       "      <td>...</td>\n",
       "      <td>11.57</td>\n",
       "      <td>NaN</td>\n",
       "      <td>32.20</td>\n",
       "      <td>0.16</td>\n",
       "      <td>NaN</td>\n",
       "      <td>NaN</td>\n",
       "      <td>NaN</td>\n",
       "      <td>NaN</td>\n",
       "      <td>NaN</td>\n",
       "      <td>NaN</td>\n",
       "    </tr>\n",
       "    <tr>\n",
       "      <th>1996</th>\n",
       "      <td>NaN</td>\n",
       "      <td>NaN</td>\n",
       "      <td>NaN</td>\n",
       "      <td>NaN</td>\n",
       "      <td>NaN</td>\n",
       "      <td>36.03</td>\n",
       "      <td>NaN</td>\n",
       "      <td>NaN</td>\n",
       "      <td>NaN</td>\n",
       "      <td>NaN</td>\n",
       "      <td>...</td>\n",
       "      <td>7.69</td>\n",
       "      <td>NaN</td>\n",
       "      <td>15.92</td>\n",
       "      <td>NaN</td>\n",
       "      <td>NaN</td>\n",
       "      <td>NaN</td>\n",
       "      <td>NaN</td>\n",
       "      <td>NaN</td>\n",
       "      <td>NaN</td>\n",
       "      <td>NaN</td>\n",
       "    </tr>\n",
       "    <tr>\n",
       "      <th>1997</th>\n",
       "      <td>NaN</td>\n",
       "      <td>NaN</td>\n",
       "      <td>NaN</td>\n",
       "      <td>NaN</td>\n",
       "      <td>NaN</td>\n",
       "      <td>6.37</td>\n",
       "      <td>NaN</td>\n",
       "      <td>NaN</td>\n",
       "      <td>NaN</td>\n",
       "      <td>NaN</td>\n",
       "      <td>...</td>\n",
       "      <td>6.77</td>\n",
       "      <td>NaN</td>\n",
       "      <td>0.99</td>\n",
       "      <td>NaN</td>\n",
       "      <td>NaN</td>\n",
       "      <td>NaN</td>\n",
       "      <td>NaN</td>\n",
       "      <td>NaN</td>\n",
       "      <td>NaN</td>\n",
       "      <td>NaN</td>\n",
       "    </tr>\n",
       "    <tr>\n",
       "      <th>1998</th>\n",
       "      <td>NaN</td>\n",
       "      <td>NaN</td>\n",
       "      <td>NaN</td>\n",
       "      <td>3.38</td>\n",
       "      <td>NaN</td>\n",
       "      <td>26.90</td>\n",
       "      <td>NaN</td>\n",
       "      <td>NaN</td>\n",
       "      <td>NaN</td>\n",
       "      <td>NaN</td>\n",
       "      <td>...</td>\n",
       "      <td>3.82</td>\n",
       "      <td>NaN</td>\n",
       "      <td>0.22</td>\n",
       "      <td>NaN</td>\n",
       "      <td>NaN</td>\n",
       "      <td>NaN</td>\n",
       "      <td>NaN</td>\n",
       "      <td>NaN</td>\n",
       "      <td>NaN</td>\n",
       "      <td>NaN</td>\n",
       "    </tr>\n",
       "    <tr>\n",
       "      <th>1999</th>\n",
       "      <td>NaN</td>\n",
       "      <td>NaN</td>\n",
       "      <td>NaN</td>\n",
       "      <td>5.16</td>\n",
       "      <td>NaN</td>\n",
       "      <td>38.00</td>\n",
       "      <td>NaN</td>\n",
       "      <td>NaN</td>\n",
       "      <td>NaN</td>\n",
       "      <td>NaN</td>\n",
       "      <td>...</td>\n",
       "      <td>0.09</td>\n",
       "      <td>NaN</td>\n",
       "      <td>0.26</td>\n",
       "      <td>NaN</td>\n",
       "      <td>0.46</td>\n",
       "      <td>NaN</td>\n",
       "      <td>NaN</td>\n",
       "      <td>NaN</td>\n",
       "      <td>NaN</td>\n",
       "      <td>NaN</td>\n",
       "    </tr>\n",
       "    <tr>\n",
       "      <th>2000</th>\n",
       "      <td>NaN</td>\n",
       "      <td>NaN</td>\n",
       "      <td>NaN</td>\n",
       "      <td>5.99</td>\n",
       "      <td>NaN</td>\n",
       "      <td>19.76</td>\n",
       "      <td>0.07</td>\n",
       "      <td>NaN</td>\n",
       "      <td>NaN</td>\n",
       "      <td>NaN</td>\n",
       "      <td>...</td>\n",
       "      <td>NaN</td>\n",
       "      <td>NaN</td>\n",
       "      <td>NaN</td>\n",
       "      <td>NaN</td>\n",
       "      <td>0.68</td>\n",
       "      <td>NaN</td>\n",
       "      <td>NaN</td>\n",
       "      <td>NaN</td>\n",
       "      <td>0.99</td>\n",
       "      <td>NaN</td>\n",
       "    </tr>\n",
       "    <tr>\n",
       "      <th>2001</th>\n",
       "      <td>NaN</td>\n",
       "      <td>NaN</td>\n",
       "      <td>NaN</td>\n",
       "      <td>1.07</td>\n",
       "      <td>NaN</td>\n",
       "      <td>9.24</td>\n",
       "      <td>61.53</td>\n",
       "      <td>26.34</td>\n",
       "      <td>NaN</td>\n",
       "      <td>NaN</td>\n",
       "      <td>...</td>\n",
       "      <td>NaN</td>\n",
       "      <td>NaN</td>\n",
       "      <td>NaN</td>\n",
       "      <td>NaN</td>\n",
       "      <td>0.28</td>\n",
       "      <td>NaN</td>\n",
       "      <td>NaN</td>\n",
       "      <td>NaN</td>\n",
       "      <td>22.26</td>\n",
       "      <td>NaN</td>\n",
       "    </tr>\n",
       "    <tr>\n",
       "      <th>2002</th>\n",
       "      <td>NaN</td>\n",
       "      <td>NaN</td>\n",
       "      <td>NaN</td>\n",
       "      <td>0.29</td>\n",
       "      <td>NaN</td>\n",
       "      <td>NaN</td>\n",
       "      <td>74.16</td>\n",
       "      <td>51.81</td>\n",
       "      <td>NaN</td>\n",
       "      <td>NaN</td>\n",
       "      <td>...</td>\n",
       "      <td>NaN</td>\n",
       "      <td>NaN</td>\n",
       "      <td>NaN</td>\n",
       "      <td>NaN</td>\n",
       "      <td>NaN</td>\n",
       "      <td>NaN</td>\n",
       "      <td>NaN</td>\n",
       "      <td>NaN</td>\n",
       "      <td>48.01</td>\n",
       "      <td>NaN</td>\n",
       "    </tr>\n",
       "    <tr>\n",
       "      <th>2003</th>\n",
       "      <td>NaN</td>\n",
       "      <td>NaN</td>\n",
       "      <td>NaN</td>\n",
       "      <td>NaN</td>\n",
       "      <td>NaN</td>\n",
       "      <td>NaN</td>\n",
       "      <td>56.67</td>\n",
       "      <td>50.61</td>\n",
       "      <td>NaN</td>\n",
       "      <td>NaN</td>\n",
       "      <td>...</td>\n",
       "      <td>NaN</td>\n",
       "      <td>NaN</td>\n",
       "      <td>NaN</td>\n",
       "      <td>NaN</td>\n",
       "      <td>NaN</td>\n",
       "      <td>NaN</td>\n",
       "      <td>NaN</td>\n",
       "      <td>NaN</td>\n",
       "      <td>55.04</td>\n",
       "      <td>NaN</td>\n",
       "    </tr>\n",
       "    <tr>\n",
       "      <th>2004</th>\n",
       "      <td>NaN</td>\n",
       "      <td>NaN</td>\n",
       "      <td>NaN</td>\n",
       "      <td>NaN</td>\n",
       "      <td>17.27</td>\n",
       "      <td>NaN</td>\n",
       "      <td>77.91</td>\n",
       "      <td>28.82</td>\n",
       "      <td>NaN</td>\n",
       "      <td>NaN</td>\n",
       "      <td>...</td>\n",
       "      <td>NaN</td>\n",
       "      <td>NaN</td>\n",
       "      <td>NaN</td>\n",
       "      <td>NaN</td>\n",
       "      <td>NaN</td>\n",
       "      <td>NaN</td>\n",
       "      <td>NaN</td>\n",
       "      <td>NaN</td>\n",
       "      <td>65.42</td>\n",
       "      <td>NaN</td>\n",
       "    </tr>\n",
       "    <tr>\n",
       "      <th>2005</th>\n",
       "      <td>NaN</td>\n",
       "      <td>NaN</td>\n",
       "      <td>NaN</td>\n",
       "      <td>NaN</td>\n",
       "      <td>130.14</td>\n",
       "      <td>NaN</td>\n",
       "      <td>33.86</td>\n",
       "      <td>27.62</td>\n",
       "      <td>NaN</td>\n",
       "      <td>NaN</td>\n",
       "      <td>...</td>\n",
       "      <td>NaN</td>\n",
       "      <td>NaN</td>\n",
       "      <td>NaN</td>\n",
       "      <td>NaN</td>\n",
       "      <td>NaN</td>\n",
       "      <td>NaN</td>\n",
       "      <td>NaN</td>\n",
       "      <td>7.00</td>\n",
       "      <td>49.08</td>\n",
       "      <td>NaN</td>\n",
       "    </tr>\n",
       "    <tr>\n",
       "      <th>2006</th>\n",
       "      <td>NaN</td>\n",
       "      <td>NaN</td>\n",
       "      <td>NaN</td>\n",
       "      <td>NaN</td>\n",
       "      <td>119.81</td>\n",
       "      <td>NaN</td>\n",
       "      <td>5.28</td>\n",
       "      <td>11.26</td>\n",
       "      <td>NaN</td>\n",
       "      <td>NaN</td>\n",
       "      <td>...</td>\n",
       "      <td>NaN</td>\n",
       "      <td>NaN</td>\n",
       "      <td>NaN</td>\n",
       "      <td>NaN</td>\n",
       "      <td>NaN</td>\n",
       "      <td>137.15</td>\n",
       "      <td>NaN</td>\n",
       "      <td>51.62</td>\n",
       "      <td>10.04</td>\n",
       "      <td>NaN</td>\n",
       "    </tr>\n",
       "    <tr>\n",
       "      <th>2007</th>\n",
       "      <td>NaN</td>\n",
       "      <td>NaN</td>\n",
       "      <td>NaN</td>\n",
       "      <td>0.02</td>\n",
       "      <td>146.94</td>\n",
       "      <td>NaN</td>\n",
       "      <td>3.40</td>\n",
       "      <td>0.27</td>\n",
       "      <td>NaN</td>\n",
       "      <td>NaN</td>\n",
       "      <td>...</td>\n",
       "      <td>NaN</td>\n",
       "      <td>NaN</td>\n",
       "      <td>NaN</td>\n",
       "      <td>NaN</td>\n",
       "      <td>NaN</td>\n",
       "      <td>152.77</td>\n",
       "      <td>NaN</td>\n",
       "      <td>95.41</td>\n",
       "      <td>0.55</td>\n",
       "      <td>NaN</td>\n",
       "    </tr>\n",
       "    <tr>\n",
       "      <th>2008</th>\n",
       "      <td>NaN</td>\n",
       "      <td>NaN</td>\n",
       "      <td>NaN</td>\n",
       "      <td>0.04</td>\n",
       "      <td>145.31</td>\n",
       "      <td>NaN</td>\n",
       "      <td>NaN</td>\n",
       "      <td>NaN</td>\n",
       "      <td>NaN</td>\n",
       "      <td>NaN</td>\n",
       "      <td>...</td>\n",
       "      <td>NaN</td>\n",
       "      <td>NaN</td>\n",
       "      <td>NaN</td>\n",
       "      <td>NaN</td>\n",
       "      <td>NaN</td>\n",
       "      <td>171.32</td>\n",
       "      <td>NaN</td>\n",
       "      <td>135.26</td>\n",
       "      <td>0.18</td>\n",
       "      <td>NaN</td>\n",
       "    </tr>\n",
       "    <tr>\n",
       "      <th>2009</th>\n",
       "      <td>NaN</td>\n",
       "      <td>NaN</td>\n",
       "      <td>NaN</td>\n",
       "      <td>NaN</td>\n",
       "      <td>119.54</td>\n",
       "      <td>NaN</td>\n",
       "      <td>NaN</td>\n",
       "      <td>NaN</td>\n",
       "      <td>NaN</td>\n",
       "      <td>NaN</td>\n",
       "      <td>...</td>\n",
       "      <td>NaN</td>\n",
       "      <td>NaN</td>\n",
       "      <td>NaN</td>\n",
       "      <td>NaN</td>\n",
       "      <td>NaN</td>\n",
       "      <td>206.97</td>\n",
       "      <td>NaN</td>\n",
       "      <td>120.29</td>\n",
       "      <td>NaN</td>\n",
       "      <td>NaN</td>\n",
       "    </tr>\n",
       "    <tr>\n",
       "      <th>2010</th>\n",
       "      <td>NaN</td>\n",
       "      <td>NaN</td>\n",
       "      <td>NaN</td>\n",
       "      <td>NaN</td>\n",
       "      <td>85.02</td>\n",
       "      <td>NaN</td>\n",
       "      <td>NaN</td>\n",
       "      <td>NaN</td>\n",
       "      <td>NaN</td>\n",
       "      <td>NaN</td>\n",
       "      <td>...</td>\n",
       "      <td>NaN</td>\n",
       "      <td>NaN</td>\n",
       "      <td>NaN</td>\n",
       "      <td>NaN</td>\n",
       "      <td>NaN</td>\n",
       "      <td>127.95</td>\n",
       "      <td>NaN</td>\n",
       "      <td>170.03</td>\n",
       "      <td>NaN</td>\n",
       "      <td>NaN</td>\n",
       "    </tr>\n",
       "    <tr>\n",
       "      <th>2011</th>\n",
       "      <td>NaN</td>\n",
       "      <td>NaN</td>\n",
       "      <td>63.20</td>\n",
       "      <td>NaN</td>\n",
       "      <td>26.18</td>\n",
       "      <td>NaN</td>\n",
       "      <td>NaN</td>\n",
       "      <td>NaN</td>\n",
       "      <td>NaN</td>\n",
       "      <td>NaN</td>\n",
       "      <td>...</td>\n",
       "      <td>NaN</td>\n",
       "      <td>NaN</td>\n",
       "      <td>NaN</td>\n",
       "      <td>NaN</td>\n",
       "      <td>NaN</td>\n",
       "      <td>59.65</td>\n",
       "      <td>NaN</td>\n",
       "      <td>143.84</td>\n",
       "      <td>NaN</td>\n",
       "      <td>NaN</td>\n",
       "    </tr>\n",
       "    <tr>\n",
       "      <th>2012</th>\n",
       "      <td>NaN</td>\n",
       "      <td>NaN</td>\n",
       "      <td>51.36</td>\n",
       "      <td>NaN</td>\n",
       "      <td>11.01</td>\n",
       "      <td>NaN</td>\n",
       "      <td>NaN</td>\n",
       "      <td>NaN</td>\n",
       "      <td>NaN</td>\n",
       "      <td>NaN</td>\n",
       "      <td>...</td>\n",
       "      <td>NaN</td>\n",
       "      <td>NaN</td>\n",
       "      <td>NaN</td>\n",
       "      <td>NaN</td>\n",
       "      <td>NaN</td>\n",
       "      <td>21.71</td>\n",
       "      <td>17.56</td>\n",
       "      <td>100.99</td>\n",
       "      <td>NaN</td>\n",
       "      <td>NaN</td>\n",
       "    </tr>\n",
       "    <tr>\n",
       "      <th>2013</th>\n",
       "      <td>NaN</td>\n",
       "      <td>NaN</td>\n",
       "      <td>56.57</td>\n",
       "      <td>NaN</td>\n",
       "      <td>1.54</td>\n",
       "      <td>NaN</td>\n",
       "      <td>NaN</td>\n",
       "      <td>NaN</td>\n",
       "      <td>NaN</td>\n",
       "      <td>NaN</td>\n",
       "      <td>...</td>\n",
       "      <td>NaN</td>\n",
       "      <td>NaN</td>\n",
       "      <td>NaN</td>\n",
       "      <td>NaN</td>\n",
       "      <td>NaN</td>\n",
       "      <td>8.59</td>\n",
       "      <td>21.65</td>\n",
       "      <td>88.58</td>\n",
       "      <td>NaN</td>\n",
       "      <td>18.96</td>\n",
       "    </tr>\n",
       "    <tr>\n",
       "      <th>2014</th>\n",
       "      <td>NaN</td>\n",
       "      <td>NaN</td>\n",
       "      <td>43.76</td>\n",
       "      <td>NaN</td>\n",
       "      <td>NaN</td>\n",
       "      <td>NaN</td>\n",
       "      <td>NaN</td>\n",
       "      <td>NaN</td>\n",
       "      <td>NaN</td>\n",
       "      <td>NaN</td>\n",
       "      <td>...</td>\n",
       "      <td>NaN</td>\n",
       "      <td>NaN</td>\n",
       "      <td>NaN</td>\n",
       "      <td>NaN</td>\n",
       "      <td>NaN</td>\n",
       "      <td>3.75</td>\n",
       "      <td>22.03</td>\n",
       "      <td>34.74</td>\n",
       "      <td>NaN</td>\n",
       "      <td>54.07</td>\n",
       "    </tr>\n",
       "    <tr>\n",
       "      <th>2015</th>\n",
       "      <td>NaN</td>\n",
       "      <td>NaN</td>\n",
       "      <td>27.78</td>\n",
       "      <td>NaN</td>\n",
       "      <td>NaN</td>\n",
       "      <td>NaN</td>\n",
       "      <td>NaN</td>\n",
       "      <td>NaN</td>\n",
       "      <td>NaN</td>\n",
       "      <td>NaN</td>\n",
       "      <td>...</td>\n",
       "      <td>NaN</td>\n",
       "      <td>NaN</td>\n",
       "      <td>NaN</td>\n",
       "      <td>NaN</td>\n",
       "      <td>NaN</td>\n",
       "      <td>1.14</td>\n",
       "      <td>16.35</td>\n",
       "      <td>11.96</td>\n",
       "      <td>NaN</td>\n",
       "      <td>60.14</td>\n",
       "    </tr>\n",
       "    <tr>\n",
       "      <th>2016</th>\n",
       "      <td>NaN</td>\n",
       "      <td>NaN</td>\n",
       "      <td>15.14</td>\n",
       "      <td>NaN</td>\n",
       "      <td>NaN</td>\n",
       "      <td>NaN</td>\n",
       "      <td>NaN</td>\n",
       "      <td>NaN</td>\n",
       "      <td>NaN</td>\n",
       "      <td>NaN</td>\n",
       "      <td>...</td>\n",
       "      <td>NaN</td>\n",
       "      <td>NaN</td>\n",
       "      <td>NaN</td>\n",
       "      <td>NaN</td>\n",
       "      <td>NaN</td>\n",
       "      <td>0.18</td>\n",
       "      <td>4.60</td>\n",
       "      <td>1.52</td>\n",
       "      <td>NaN</td>\n",
       "      <td>26.15</td>\n",
       "    </tr>\n",
       "  </tbody>\n",
       "</table>\n",
       "<p>37 rows × 31 columns</p>\n",
       "</div>"
      ],
      "text/plain": [
       "platform          2600   3DO    3DS    DC      DS     GB    GBA     GC    GEN  \\\n",
       "year_of_release                                                                 \n",
       "1980             11.38   NaN    NaN   NaN     NaN    NaN    NaN    NaN    NaN   \n",
       "1981             35.68   NaN    NaN   NaN     NaN    NaN    NaN    NaN    NaN   \n",
       "1982             28.88   NaN    NaN   NaN     NaN    NaN    NaN    NaN    NaN   \n",
       "1983              5.84   NaN    NaN   NaN     NaN    NaN    NaN    NaN    NaN   \n",
       "1984              0.27   NaN    NaN   NaN     NaN    NaN    NaN    NaN    NaN   \n",
       "1985              0.45   NaN    NaN   NaN    0.02    NaN    NaN    NaN    NaN   \n",
       "1986              0.67   NaN    NaN   NaN     NaN    NaN    NaN    NaN    NaN   \n",
       "1987              1.94   NaN    NaN   NaN     NaN    NaN    NaN    NaN    NaN   \n",
       "1988              0.74   NaN    NaN   NaN     NaN   1.43    NaN    NaN    NaN   \n",
       "1989              0.63   NaN    NaN   NaN     NaN  64.97    NaN    NaN    NaN   \n",
       "1990               NaN   NaN    NaN   NaN     NaN   4.89    NaN    NaN   2.60   \n",
       "1991               NaN   NaN    NaN   NaN     NaN   5.57    NaN    NaN   4.33   \n",
       "1992               NaN   NaN    NaN   NaN     NaN  25.49    NaN    NaN  12.64   \n",
       "1993               NaN   NaN    NaN   NaN     NaN    NaN    NaN    NaN   0.65   \n",
       "1994               NaN  0.02    NaN   NaN     NaN  12.18    NaN    NaN   8.13   \n",
       "1995               NaN  0.08    NaN   NaN     NaN   3.60    NaN    NaN    NaN   \n",
       "1996               NaN   NaN    NaN   NaN     NaN  36.03    NaN    NaN    NaN   \n",
       "1997               NaN   NaN    NaN   NaN     NaN   6.37    NaN    NaN    NaN   \n",
       "1998               NaN   NaN    NaN  3.38     NaN  26.90    NaN    NaN    NaN   \n",
       "1999               NaN   NaN    NaN  5.16     NaN  38.00    NaN    NaN    NaN   \n",
       "2000               NaN   NaN    NaN  5.99     NaN  19.76   0.07    NaN    NaN   \n",
       "2001               NaN   NaN    NaN  1.07     NaN   9.24  61.53  26.34    NaN   \n",
       "2002               NaN   NaN    NaN  0.29     NaN    NaN  74.16  51.81    NaN   \n",
       "2003               NaN   NaN    NaN   NaN     NaN    NaN  56.67  50.61    NaN   \n",
       "2004               NaN   NaN    NaN   NaN   17.27    NaN  77.91  28.82    NaN   \n",
       "2005               NaN   NaN    NaN   NaN  130.14    NaN  33.86  27.62    NaN   \n",
       "2006               NaN   NaN    NaN   NaN  119.81    NaN   5.28  11.26    NaN   \n",
       "2007               NaN   NaN    NaN  0.02  146.94    NaN   3.40   0.27    NaN   \n",
       "2008               NaN   NaN    NaN  0.04  145.31    NaN    NaN    NaN    NaN   \n",
       "2009               NaN   NaN    NaN   NaN  119.54    NaN    NaN    NaN    NaN   \n",
       "2010               NaN   NaN    NaN   NaN   85.02    NaN    NaN    NaN    NaN   \n",
       "2011               NaN   NaN  63.20   NaN   26.18    NaN    NaN    NaN    NaN   \n",
       "2012               NaN   NaN  51.36   NaN   11.01    NaN    NaN    NaN    NaN   \n",
       "2013               NaN   NaN  56.57   NaN    1.54    NaN    NaN    NaN    NaN   \n",
       "2014               NaN   NaN  43.76   NaN     NaN    NaN    NaN    NaN    NaN   \n",
       "2015               NaN   NaN  27.78   NaN     NaN    NaN    NaN    NaN    NaN   \n",
       "2016               NaN   NaN  15.14   NaN     NaN    NaN    NaN    NaN    NaN   \n",
       "\n",
       "platform           GG  ...    SAT   SCD   SNES  TG16    WS     Wii   WiiU  \\\n",
       "year_of_release        ...                                                  \n",
       "1980              NaN  ...    NaN   NaN    NaN   NaN   NaN     NaN    NaN   \n",
       "1981              NaN  ...    NaN   NaN    NaN   NaN   NaN     NaN    NaN   \n",
       "1982              NaN  ...    NaN   NaN    NaN   NaN   NaN     NaN    NaN   \n",
       "1983              NaN  ...    NaN   NaN    NaN   NaN   NaN     NaN    NaN   \n",
       "1984              NaN  ...    NaN   NaN    NaN   NaN   NaN     NaN    NaN   \n",
       "1985              NaN  ...    NaN   NaN    NaN   NaN   NaN     NaN    NaN   \n",
       "1986              NaN  ...    NaN   NaN    NaN   NaN   NaN     NaN    NaN   \n",
       "1987              NaN  ...    NaN   NaN    NaN   NaN   NaN     NaN    NaN   \n",
       "1988              NaN  ...    NaN   NaN    NaN   NaN   NaN     NaN    NaN   \n",
       "1989              NaN  ...    NaN   NaN    NaN   NaN   NaN     NaN    NaN   \n",
       "1990              NaN  ...    NaN   NaN  26.15   NaN   NaN     NaN    NaN   \n",
       "1991              NaN  ...    NaN   NaN  16.22   NaN   NaN     NaN    NaN   \n",
       "1992             0.04  ...    NaN   NaN  32.98   NaN   NaN     NaN    NaN   \n",
       "1993              NaN  ...    NaN  1.50  40.02   NaN   NaN     NaN    NaN   \n",
       "1994              NaN  ...   3.65  0.36  35.08   NaN   NaN     NaN    NaN   \n",
       "1995              NaN  ...  11.57   NaN  32.20  0.16   NaN     NaN    NaN   \n",
       "1996              NaN  ...   7.69   NaN  15.92   NaN   NaN     NaN    NaN   \n",
       "1997              NaN  ...   6.77   NaN   0.99   NaN   NaN     NaN    NaN   \n",
       "1998              NaN  ...   3.82   NaN   0.22   NaN   NaN     NaN    NaN   \n",
       "1999              NaN  ...   0.09   NaN   0.26   NaN  0.46     NaN    NaN   \n",
       "2000              NaN  ...    NaN   NaN    NaN   NaN  0.68     NaN    NaN   \n",
       "2001              NaN  ...    NaN   NaN    NaN   NaN  0.28     NaN    NaN   \n",
       "2002              NaN  ...    NaN   NaN    NaN   NaN   NaN     NaN    NaN   \n",
       "2003              NaN  ...    NaN   NaN    NaN   NaN   NaN     NaN    NaN   \n",
       "2004              NaN  ...    NaN   NaN    NaN   NaN   NaN     NaN    NaN   \n",
       "2005              NaN  ...    NaN   NaN    NaN   NaN   NaN     NaN    NaN   \n",
       "2006              NaN  ...    NaN   NaN    NaN   NaN   NaN  137.15    NaN   \n",
       "2007              NaN  ...    NaN   NaN    NaN   NaN   NaN  152.77    NaN   \n",
       "2008              NaN  ...    NaN   NaN    NaN   NaN   NaN  171.32    NaN   \n",
       "2009              NaN  ...    NaN   NaN    NaN   NaN   NaN  206.97    NaN   \n",
       "2010              NaN  ...    NaN   NaN    NaN   NaN   NaN  127.95    NaN   \n",
       "2011              NaN  ...    NaN   NaN    NaN   NaN   NaN   59.65    NaN   \n",
       "2012              NaN  ...    NaN   NaN    NaN   NaN   NaN   21.71  17.56   \n",
       "2013              NaN  ...    NaN   NaN    NaN   NaN   NaN    8.59  21.65   \n",
       "2014              NaN  ...    NaN   NaN    NaN   NaN   NaN    3.75  22.03   \n",
       "2015              NaN  ...    NaN   NaN    NaN   NaN   NaN    1.14  16.35   \n",
       "2016              NaN  ...    NaN   NaN    NaN   NaN   NaN    0.18   4.60   \n",
       "\n",
       "platform           X360     XB   XOne  \n",
       "year_of_release                        \n",
       "1980                NaN    NaN    NaN  \n",
       "1981                NaN    NaN    NaN  \n",
       "1982                NaN    NaN    NaN  \n",
       "1983                NaN    NaN    NaN  \n",
       "1984                NaN    NaN    NaN  \n",
       "1985                NaN    NaN    NaN  \n",
       "1986                NaN    NaN    NaN  \n",
       "1987                NaN    NaN    NaN  \n",
       "1988                NaN    NaN    NaN  \n",
       "1989                NaN    NaN    NaN  \n",
       "1990                NaN    NaN    NaN  \n",
       "1991                NaN    NaN    NaN  \n",
       "1992                NaN    NaN    NaN  \n",
       "1993                NaN    NaN    NaN  \n",
       "1994                NaN    NaN    NaN  \n",
       "1995                NaN    NaN    NaN  \n",
       "1996                NaN    NaN    NaN  \n",
       "1997                NaN    NaN    NaN  \n",
       "1998                NaN    NaN    NaN  \n",
       "1999                NaN    NaN    NaN  \n",
       "2000                NaN   0.99    NaN  \n",
       "2001                NaN  22.26    NaN  \n",
       "2002                NaN  48.01    NaN  \n",
       "2003                NaN  55.04    NaN  \n",
       "2004                NaN  65.42    NaN  \n",
       "2005               7.00  49.08    NaN  \n",
       "2006              51.62  10.04    NaN  \n",
       "2007              95.41   0.55    NaN  \n",
       "2008             135.26   0.18    NaN  \n",
       "2009             120.29    NaN    NaN  \n",
       "2010             170.03    NaN    NaN  \n",
       "2011             143.84    NaN    NaN  \n",
       "2012             100.99    NaN    NaN  \n",
       "2013              88.58    NaN  18.96  \n",
       "2014              34.74    NaN  54.07  \n",
       "2015              11.96    NaN  60.14  \n",
       "2016               1.52    NaN  26.15  \n",
       "\n",
       "[37 rows x 31 columns]"
      ]
     },
     "execution_count": 70,
     "metadata": {},
     "output_type": "execute_result"
    }
   ],
   "source": [
    "# Создадим сводную таблицу, в которой отобразим количество продаж игр по платформам в разрезе по годам и сохраним данные \n",
    "# в переменную data_pivot_year_platform\n",
    "data_pivot_year_platform = data.pivot_table(index='year_of_release', columns='platform', values='ttl_sales',aggfunc='sum')\n",
    "data_pivot_year_platform"
   ]
  },
  {
   "cell_type": "markdown",
   "metadata": {},
   "source": [
    "При изучении таблицы, была замечена аномалия в платформе DS в 1985 году, хотя платформа вышла в 2004 году. Посмотри на аномалию и при возможности обработаем."
   ]
  },
  {
   "cell_type": "code",
   "execution_count": 71,
   "metadata": {},
   "outputs": [
    {
     "data": {
      "text/html": [
       "<div>\n",
       "<style scoped>\n",
       "    .dataframe tbody tr th:only-of-type {\n",
       "        vertical-align: middle;\n",
       "    }\n",
       "\n",
       "    .dataframe tbody tr th {\n",
       "        vertical-align: top;\n",
       "    }\n",
       "\n",
       "    .dataframe thead th {\n",
       "        text-align: right;\n",
       "    }\n",
       "</style>\n",
       "<table border=\"1\" class=\"dataframe\">\n",
       "  <thead>\n",
       "    <tr style=\"text-align: right;\">\n",
       "      <th></th>\n",
       "      <th>name</th>\n",
       "      <th>platform</th>\n",
       "      <th>year_of_release</th>\n",
       "      <th>genre</th>\n",
       "      <th>na_sales</th>\n",
       "      <th>eu_sales</th>\n",
       "      <th>jp_sales</th>\n",
       "      <th>other_sales</th>\n",
       "      <th>critic_score</th>\n",
       "      <th>user_score</th>\n",
       "      <th>rating</th>\n",
       "      <th>ttl_sales</th>\n",
       "    </tr>\n",
       "  </thead>\n",
       "  <tbody>\n",
       "    <tr>\n",
       "      <th>15702</th>\n",
       "      <td>Strongest Tokyo University Shogi DS</td>\n",
       "      <td>DS</td>\n",
       "      <td>1985</td>\n",
       "      <td>Action</td>\n",
       "      <td>0.0</td>\n",
       "      <td>0.0</td>\n",
       "      <td>0.02</td>\n",
       "      <td>0.0</td>\n",
       "      <td>&lt;NA&gt;</td>\n",
       "      <td>NaN</td>\n",
       "      <td>unrated</td>\n",
       "      <td>0.02</td>\n",
       "    </tr>\n",
       "  </tbody>\n",
       "</table>\n",
       "</div>"
      ],
      "text/plain": [
       "                                      name platform  year_of_release   genre  \\\n",
       "15702  Strongest Tokyo University Shogi DS       DS             1985  Action   \n",
       "\n",
       "       na_sales  eu_sales  jp_sales  other_sales  critic_score  user_score  \\\n",
       "15702       0.0       0.0      0.02          0.0          <NA>         NaN   \n",
       "\n",
       "        rating  ttl_sales  \n",
       "15702  unrated       0.02  "
      ]
     },
     "execution_count": 71,
     "metadata": {},
     "output_type": "execute_result"
    }
   ],
   "source": [
    "data.query('platform == \"DS\" and year_of_release == 1985')\n",
    "# Данная игра была выпущена в 2010 году, поэтому просто заменим год"
   ]
  },
  {
   "cell_type": "code",
   "execution_count": 72,
   "metadata": {},
   "outputs": [],
   "source": [
    "data.loc[15702, 'year_of_release'] = 2010"
   ]
  },
  {
   "cell_type": "code",
   "execution_count": 73,
   "metadata": {},
   "outputs": [],
   "source": [
    "# Перезапишем переменную data_pivot_year_platform\n",
    "data_pivot_year_platform = data.pivot_table(index='year_of_release', columns='platform', values='ttl_sales',aggfunc='sum')"
   ]
  },
  {
   "cell_type": "code",
   "execution_count": 74,
   "metadata": {},
   "outputs": [
    {
     "data": {
      "text/plain": [
       "platform\n",
       "GG       1\n",
       "PCFX     1\n",
       "TG16     1\n",
       "3DO      2\n",
       "SCD      2\n",
       "WS       3\n",
       "NG       4\n",
       "PS4      4\n",
       "XOne     4\n",
       "WiiU     5\n",
       "GEN      5\n",
       "3DS      6\n",
       "SAT      6\n",
       "PSV      6\n",
       "GC       7\n",
       "N64      7\n",
       "DC       7\n",
       "GBA      8\n",
       "XB       9\n",
       "SNES    10\n",
       "2600    10\n",
       "DS      10\n",
       "PS      10\n",
       "PS3     11\n",
       "Wii     11\n",
       "PS2     12\n",
       "NES     12\n",
       "X360    12\n",
       "PSP     12\n",
       "GB      13\n",
       "PC      26\n",
       "dtype: int64"
      ]
     },
     "execution_count": 74,
     "metadata": {},
     "output_type": "execute_result"
    }
   ],
   "source": [
    "# Изучим, сколько в среднем держится платформа на рынке игр\n",
    "data_pivot_year_platform.count().sort_values()"
   ]
  },
  {
   "cell_type": "markdown",
   "metadata": {},
   "source": [
    "В среднем приставка на рынке держится около 10 лет. Данный вывод можно сделать исходя из полученных значений по популярным приставкам, таким как PS, PS2, PS3, Wii, XB, X360. Все что меньше - это либо приставка, которая еще актуальна на данный момент времени, или та приставка, которая была выпущена до 2000 годов, и не получила спрос среди игроков. "
   ]
  },
  {
   "cell_type": "code",
   "execution_count": 75,
   "metadata": {},
   "outputs": [
    {
     "data": {
      "text/plain": [
       "['PS2', 'X360', 'PS3', 'Wii', 'DS']"
      ]
     },
     "execution_count": 75,
     "metadata": {},
     "output_type": "execute_result"
    }
   ],
   "source": [
    "# Cоздадим временную пременную, в которой сохраним Топ 5 платформ по проданным копиям\n",
    "tmp = data.pivot_table(index='platform', values='ttl_sales', aggfunc= 'sum').sort_values('ttl_sales', ascending=False) \n",
    "tmp_top5 = tmp.index[:5].tolist()\n",
    "tmp_top5"
   ]
  },
  {
   "cell_type": "code",
   "execution_count": 76,
   "metadata": {},
   "outputs": [
    {
     "data": {
      "image/png": "[encoded data removed]",
      "text/plain": [
       "<Figure size 1080x720 with 1 Axes>"
      ]
     },
     "metadata": {
      "needs_background": "light"
     },
     "output_type": "display_data"
    }
   ],
   "source": [
    "# Возьмем топ 5 по платформам с наибольшими продажами и построим распределение по годам\n",
    "\n",
    "(\n",
    "    data.query('platform in @tmp_top5').\n",
    "    pivot_table(index='year_of_release', columns='platform', values='ttl_sales',aggfunc='sum').\n",
    "    plot(figsize=(15,10), \n",
    "         grid=True,\n",
    "         xlim=(1999,2016),\n",
    "         xlabel='Год выпуска',\n",
    "         ylabel='Количество проданных игр, млн.',\n",
    "        )\n",
    ")\n",
    "plt.title('Топ 5 платформ по проданным играм')\n",
    "plt.show()"
   ]
  },
  {
   "cell_type": "markdown",
   "metadata": {},
   "source": [
    "При визуализации как раз можно отследить срок \"жизни\" топ 5 приставок и их пик популярности. Этот граффик еще раз подтверждает тот факт, что приставка живет в среднем 10 лет, а ее пик приходится через 2-3 года после выхода. Исключение - это персональный компьютер, который модифицируется, заменой \"внутренностей\"."
   ]
  },
  {
   "cell_type": "markdown",
   "metadata": {},
   "source": [
    "### Анализ на основе актуальных данных"
   ]
  },
  {
   "cell_type": "markdown",
   "metadata": {},
   "source": [
    "Для анализа рынка берем данные которые старше за последние 3 года, так индустрия компьютерных игра динамично развивается. В связм с чем создадим переменную `data_actual`, с которой будем работать в дальнейшем."
   ]
  },
  {
   "cell_type": "code",
   "execution_count": 77,
   "metadata": {},
   "outputs": [],
   "source": [
    "data_actual = data.query('year_of_release >= 2014')"
   ]
  },
  {
   "cell_type": "code",
   "execution_count": 78,
   "metadata": {},
   "outputs": [
    {
     "data": {
      "text/html": [
       "<div>\n",
       "<style scoped>\n",
       "    .dataframe tbody tr th:only-of-type {\n",
       "        vertical-align: middle;\n",
       "    }\n",
       "\n",
       "    .dataframe tbody tr th {\n",
       "        vertical-align: top;\n",
       "    }\n",
       "\n",
       "    .dataframe thead th {\n",
       "        text-align: right;\n",
       "    }\n",
       "</style>\n",
       "<table border=\"1\" class=\"dataframe\">\n",
       "  <thead>\n",
       "    <tr style=\"text-align: right;\">\n",
       "      <th></th>\n",
       "      <th>name</th>\n",
       "      <th>platform</th>\n",
       "      <th>year_of_release</th>\n",
       "      <th>genre</th>\n",
       "      <th>na_sales</th>\n",
       "      <th>eu_sales</th>\n",
       "      <th>jp_sales</th>\n",
       "      <th>other_sales</th>\n",
       "      <th>critic_score</th>\n",
       "      <th>user_score</th>\n",
       "      <th>rating</th>\n",
       "      <th>ttl_sales</th>\n",
       "    </tr>\n",
       "  </thead>\n",
       "  <tbody>\n",
       "    <tr>\n",
       "      <th>31</th>\n",
       "      <td>Call of Duty: Black Ops 3</td>\n",
       "      <td>PS4</td>\n",
       "      <td>2015</td>\n",
       "      <td>Shooter</td>\n",
       "      <td>6.03</td>\n",
       "      <td>5.86</td>\n",
       "      <td>0.36</td>\n",
       "      <td>2.38</td>\n",
       "      <td>&lt;NA&gt;</td>\n",
       "      <td>NaN</td>\n",
       "      <td>unrated</td>\n",
       "      <td>14.63</td>\n",
       "    </tr>\n",
       "    <tr>\n",
       "      <th>42</th>\n",
       "      <td>Grand Theft Auto V</td>\n",
       "      <td>PS4</td>\n",
       "      <td>2014</td>\n",
       "      <td>Action</td>\n",
       "      <td>3.96</td>\n",
       "      <td>6.31</td>\n",
       "      <td>0.38</td>\n",
       "      <td>1.97</td>\n",
       "      <td>97</td>\n",
       "      <td>8.3</td>\n",
       "      <td>M</td>\n",
       "      <td>12.62</td>\n",
       "    </tr>\n",
       "    <tr>\n",
       "      <th>47</th>\n",
       "      <td>Pokemon Omega Ruby/Pokemon Alpha Sapphire</td>\n",
       "      <td>3DS</td>\n",
       "      <td>2014</td>\n",
       "      <td>Role-Playing</td>\n",
       "      <td>4.35</td>\n",
       "      <td>3.49</td>\n",
       "      <td>3.10</td>\n",
       "      <td>0.74</td>\n",
       "      <td>&lt;NA&gt;</td>\n",
       "      <td>NaN</td>\n",
       "      <td>unrated</td>\n",
       "      <td>11.68</td>\n",
       "    </tr>\n",
       "    <tr>\n",
       "      <th>77</th>\n",
       "      <td>FIFA 16</td>\n",
       "      <td>PS4</td>\n",
       "      <td>2015</td>\n",
       "      <td>Sports</td>\n",
       "      <td>1.12</td>\n",
       "      <td>6.12</td>\n",
       "      <td>0.06</td>\n",
       "      <td>1.28</td>\n",
       "      <td>82</td>\n",
       "      <td>4.3</td>\n",
       "      <td>E</td>\n",
       "      <td>8.58</td>\n",
       "    </tr>\n",
       "    <tr>\n",
       "      <th>87</th>\n",
       "      <td>Star Wars Battlefront (2015)</td>\n",
       "      <td>PS4</td>\n",
       "      <td>2015</td>\n",
       "      <td>Shooter</td>\n",
       "      <td>2.99</td>\n",
       "      <td>3.49</td>\n",
       "      <td>0.22</td>\n",
       "      <td>1.28</td>\n",
       "      <td>&lt;NA&gt;</td>\n",
       "      <td>NaN</td>\n",
       "      <td>unrated</td>\n",
       "      <td>7.98</td>\n",
       "    </tr>\n",
       "  </tbody>\n",
       "</table>\n",
       "</div>"
      ],
      "text/plain": [
       "                                         name platform  year_of_release  \\\n",
       "31                  Call of Duty: Black Ops 3      PS4             2015   \n",
       "42                         Grand Theft Auto V      PS4             2014   \n",
       "47  Pokemon Omega Ruby/Pokemon Alpha Sapphire      3DS             2014   \n",
       "77                                    FIFA 16      PS4             2015   \n",
       "87               Star Wars Battlefront (2015)      PS4             2015   \n",
       "\n",
       "           genre  na_sales  eu_sales  jp_sales  other_sales  critic_score  \\\n",
       "31       Shooter      6.03      5.86      0.36         2.38          <NA>   \n",
       "42        Action      3.96      6.31      0.38         1.97            97   \n",
       "47  Role-Playing      4.35      3.49      3.10         0.74          <NA>   \n",
       "77        Sports      1.12      6.12      0.06         1.28            82   \n",
       "87       Shooter      2.99      3.49      0.22         1.28          <NA>   \n",
       "\n",
       "    user_score   rating  ttl_sales  \n",
       "31         NaN  unrated      14.63  \n",
       "42         8.3        M      12.62  \n",
       "47         NaN  unrated      11.68  \n",
       "77         4.3        E       8.58  \n",
       "87         NaN  unrated       7.98  "
      ]
     },
     "execution_count": 78,
     "metadata": {},
     "output_type": "execute_result"
    }
   ],
   "source": [
    "data_actual.head()"
   ]
  },
  {
   "cell_type": "markdown",
   "metadata": {},
   "source": [
    "Изучим какие платформы лидируют по продажам, растут или падают. Выберем несколько потенциально прибыльных платформ."
   ]
  },
  {
   "cell_type": "code",
   "execution_count": 79,
   "metadata": {},
   "outputs": [
    {
     "data": {
      "text/plain": [
       "array(['PS4', '3DS', 'XOne', 'WiiU', 'PS3', 'X360', 'PC', 'Wii', 'PSV',\n",
       "       'PSP'], dtype=object)"
      ]
     },
     "execution_count": 79,
     "metadata": {},
     "output_type": "execute_result"
    }
   ],
   "source": [
    "# Посмотрим какие платформы остались начиная с 2014 года\n",
    "data_actual['platform'].unique()"
   ]
  },
  {
   "cell_type": "code",
   "execution_count": 80,
   "metadata": {},
   "outputs": [
    {
     "data": {
      "text/plain": [
       "array(['PS4', '3DS', 'XOne', 'WiiU', 'PS3', 'PC', 'X360', 'PSV', 'Wii'],\n",
       "      dtype=object)"
      ]
     },
     "execution_count": 80,
     "metadata": {},
     "output_type": "execute_result"
    }
   ],
   "source": [
    "# Исключим платформы, которые \"отжили свое\", то есть которых уже нет в 2016 году и оставим только актуальные\n",
    "tmp = data_actual[data_actual['year_of_release'] == 2016]['platform'].unique()\n",
    "tmp"
   ]
  },
  {
   "cell_type": "code",
   "execution_count": 81,
   "metadata": {},
   "outputs": [
    {
     "data": {
      "image/png": "[encoded data removed]",
      "text/plain": [
       "<Figure size 1080x576 with 1 Axes>"
      ]
     },
     "metadata": {
      "needs_background": "light"
     },
     "output_type": "display_data"
    }
   ],
   "source": [
    "# Используя полученные платформы построи график, в котором мы сможем определить потенциально прибыльную платформу\n",
    "(\n",
    "    data_actual.query('platform in @tmp').\n",
    "    pivot_table(index='year_of_release', columns='platform', values='ttl_sales',aggfunc='sum').\n",
    "    plot(figsize=(15,8), \n",
    "         grid=True,\n",
    "         xlabel='Год выпуска',\n",
    "         ylabel='Количество проданных игр, млн.',\n",
    "         \n",
    "        )\n",
    ")\n",
    "plt.xticks([2014,2015,2016])\n",
    "plt.title('Продажи игр')\n",
    "plt.show()"
   ]
  },
  {
   "cell_type": "markdown",
   "metadata": {},
   "source": [
    "Исходя из полученного графика можно сделать следующий вывод по платформам:\n",
    "- `3DS` - идет плавный спад по продажам игр, исходя из личного опыта, портативные консоли пользуются меньшей популярностью. Как такового пика продаж не было. Я бы не относил данную консоль к потенциально прибыльной;\n",
    "- `PC` - как я говорил ранее, персональный компьютер не имеет аналогов на рынке, ввиду того, что он постоянно модернизируется, за счет замены компонентов, следовательно будет актуален всегда. Небольшие продажи по можно связать с особенностью игр на данном устройстве. Например, возьмем Online MMORPG, которые по сути бесплатны для пользователя, но там существует внутриигровой рынок или же необходимо купить \"подписку\", для того, чтобы играть. В связи с чем платных игр на компьютер меньше;\n",
    "- `PS3` - переживает сильный спад на рынке, ввиду того, что появилась новая версия данной консоли - `PS4`, которая в 2015 году находилась на пике продаж, и исходя их того что \"срок жизни\" приставок примерно 10 лет, то можно сделать вывод, что данная консоль будет актуальна еще минимум лет 7;\n",
    "- `PSV` - потенциально не прибыльная консоль, ввиду небольших сумм по продажам и на данный момент идет на спад;\n",
    "- `Wii` - поддержка данной консоли была прекращена в 2013 году, следовательно она \"доживает\" свое с ранее выпущенными играми;\n",
    "- `WiiU` - портативная консоль от Nintendo, которая как видно из графика, не \"зашла\" пользователям, на что указывает отсутствие пика продаж, небольшой \"жизненный цикл\" и спад продаж;\n",
    "- `X360` - консоль, которая \"отжила свое\" и ей на смену пришла новая версия - `XOne`, которая находится, несмотря на спад по продажам, в самом \"расцвете\" сил.\n",
    "\n",
    "В итоге можно выделить только 3 потенциально прибильные платформы, а именно: `PS4`, `XOne`, `PC`."
   ]
  },
  {
   "cell_type": "markdown",
   "metadata": {},
   "source": [
    "Посмотрим как распредделены продажи игр по миру в разбивке по потенциально прибыльным платформам. Для этого построим диаграмму размаха."
   ]
  },
  {
   "cell_type": "code",
   "execution_count": 82,
   "metadata": {
    "scrolled": false
   },
   "outputs": [
    {
     "data": {
      "image/png": "[encoded data removed]",
      "text/plain": [
       "<Figure size 1080x720 with 1 Axes>"
      ]
     },
     "metadata": {
      "needs_background": "light"
     },
     "output_type": "display_data"
    },
    {
     "data": {
      "image/png": "[encoded data removed]",
      "text/plain": [
       "<Figure size 1440x1080 with 1 Axes>"
      ]
     },
     "metadata": {
      "needs_background": "light"
     },
     "output_type": "display_data"
    },
    {
     "data": {
      "image/png": "[encoded data removed]",
      "text/plain": [
       "<Figure size 1440x1080 with 1 Axes>"
      ]
     },
     "metadata": {
      "needs_background": "light"
     },
     "output_type": "display_data"
    }
   ],
   "source": [
    "(\n",
    "    data_actual.query('(platform == \"PS4\" or platform == \"XOne\" or platform == \"PC\") and year_of_release >= 2013').\n",
    "    boxplot(column='ttl_sales', \n",
    "            by='platform', \n",
    "            figsize=(15,10)\n",
    "           )\n",
    ")\n",
    "plt.title('Сравнение платформ PS, PS4, XOne')\n",
    "plt.suptitle('')\n",
    "plt.xlabel('')\n",
    "plt.ylabel('Количество проданных игр, млн.')\n",
    "plt.show()\n",
    "\n",
    "# Приблизим граффик\n",
    "\n",
    "(\n",
    "    data_actual.query('(platform == \"PS4\" or platform == \"XOne\" or platform == \"PC\") and year_of_release >= 2013').\n",
    "    boxplot(column='ttl_sales', \n",
    "            by='platform', \n",
    "            figsize=(20,15)\n",
    "           )\n",
    ")\n",
    "plt.ylim(0,2)\n",
    "plt.title('')\n",
    "plt.suptitle('')\n",
    "plt.xlabel('')\n",
    "plt.ylabel('Количество проданных игр, млн.')\n",
    "plt.show()\n",
    "\n",
    "(\n",
    "    data_actual.query('(platform == \"PS4\" or platform == \"XOne\" or platform == \"PC\") and year_of_release >= 2013').\n",
    "    boxplot(column='ttl_sales', \n",
    "            by='platform', \n",
    "            figsize=(20,15)\n",
    "           )\n",
    ")\n",
    "plt.ylim(0,0.7)\n",
    "plt.title('')\n",
    "plt.suptitle('')\n",
    "plt.xlabel('')\n",
    "plt.ylabel('Количество проданных игр, млн.')\n",
    "plt.show()\n",
    "\n",
    "#(\n",
    "#   data_actual.query('(platform == \"PS4\" or platform == \"XOne\" or platform == \"PC\") and year_of_release >= 2013').\n",
    "#   pivot_table(index='platform', values='ttl_sales', aggfunc=('sum', 'count')).\n",
    "#   sort_values('sum', ascending=False)\n",
    "#)\n"
   ]
  },
  {
   "cell_type": "markdown",
   "metadata": {},
   "source": [
    "Исходя из полученных графиков можно заметить, что медианное значение проданных копий у приставки XOne примерно на 0.02 выше, чем у PS4. При этом разброс значений у PS4, на 0.05 больше, на что указывает 75 квартиль. Выбросы у платформ могут быть связаны с ожидаемыми играми или эклюзивами, на ту или иную приставку, которые скупают по всему миру. Медианное значение PC гораздо ниже, чем у приставок, и не превышает 10 000 проданных копий."
   ]
  },
  {
   "cell_type": "markdown",
   "metadata": {},
   "source": [
    "Посмотрим, как влияют на продажи внутри одной популярной платформы, внашем случае `PS4`, отзывы пользователей и критиков. Построем диаграмму рассеяния и посчитайте корреляцию между отзывами и продажами."
   ]
  },
  {
   "cell_type": "code",
   "execution_count": 83,
   "metadata": {},
   "outputs": [
    {
     "data": {
      "image/png": "[encoded data removed]",
      "text/plain": [
       "<Figure size 1080x360 with 1 Axes>"
      ]
     },
     "metadata": {
      "needs_background": "light"
     },
     "output_type": "display_data"
    },
    {
     "data": {
      "image/png": "[encoded data removed]",
      "text/plain": [
       "<Figure size 1080x360 with 1 Axes>"
      ]
     },
     "metadata": {
      "needs_background": "light"
     },
     "output_type": "display_data"
    }
   ],
   "source": [
    "#Для диаграммы рассеяния укажим коэфициент alpha равным 0.5, чтобы лучше увидеть плотность\n",
    "(\n",
    "    data_actual.query('platform == \"PS4\"').\n",
    "    plot(kind='scatter',\n",
    "         y='ttl_sales',\n",
    "         x='critic_score',\n",
    "         alpha=0.5,\n",
    "         xlabel='Оценка критиков',\n",
    "         ylabel='Всего проданных копий, млн.',\n",
    "         figsize=(15,5)\n",
    "        )\n",
    ")\n",
    "plt.title('Диаграмма зависимости продаж от оценки критиков')\n",
    "plt.show()\n",
    "\n",
    "(\n",
    "    data_actual.query('platform == \"PS4\"').\n",
    "    plot(kind='scatter',\n",
    "         y='ttl_sales',\n",
    "         x='user_score',\n",
    "         alpha=0.5,\n",
    "         xlabel='Оценка пользователей',\n",
    "         ylabel='Всего проданных копий, млн.',\n",
    "         figsize=(15,5)\n",
    "        )\n",
    ")\n",
    "plt.title('Диаграмма зависимости продаж от оценки пользователей')\n",
    "plt.show()"
   ]
  },
  {
   "cell_type": "markdown",
   "metadata": {},
   "source": [
    "Посчитаем корреляцию между отзывами и продажами на платформах PS4, XOne и PC."
   ]
  },
  {
   "cell_type": "code",
   "execution_count": 84,
   "metadata": {
    "scrolled": false
   },
   "outputs": [
    {
     "data": {
      "text/html": [
       "<div>\n",
       "<style scoped>\n",
       "    .dataframe tbody tr th:only-of-type {\n",
       "        vertical-align: middle;\n",
       "    }\n",
       "\n",
       "    .dataframe tbody tr th {\n",
       "        vertical-align: top;\n",
       "    }\n",
       "\n",
       "    .dataframe thead th {\n",
       "        text-align: right;\n",
       "    }\n",
       "</style>\n",
       "<table border=\"1\" class=\"dataframe\">\n",
       "  <thead>\n",
       "    <tr style=\"text-align: right;\">\n",
       "      <th></th>\n",
       "      <th>ttl_sales</th>\n",
       "      <th>critic_score</th>\n",
       "      <th>user_score</th>\n",
       "    </tr>\n",
       "  </thead>\n",
       "  <tbody>\n",
       "    <tr>\n",
       "      <th>ttl_sales</th>\n",
       "      <td>1.000000</td>\n",
       "      <td>0.402661</td>\n",
       "      <td>-0.040132</td>\n",
       "    </tr>\n",
       "    <tr>\n",
       "      <th>critic_score</th>\n",
       "      <td>0.402661</td>\n",
       "      <td>1.000000</td>\n",
       "      <td>0.546434</td>\n",
       "    </tr>\n",
       "    <tr>\n",
       "      <th>user_score</th>\n",
       "      <td>-0.040132</td>\n",
       "      <td>0.546434</td>\n",
       "      <td>1.000000</td>\n",
       "    </tr>\n",
       "  </tbody>\n",
       "</table>\n",
       "</div>"
      ],
      "text/plain": [
       "              ttl_sales  critic_score  user_score\n",
       "ttl_sales      1.000000      0.402661   -0.040132\n",
       "critic_score   0.402661      1.000000    0.546434\n",
       "user_score    -0.040132      0.546434    1.000000"
      ]
     },
     "execution_count": 84,
     "metadata": {},
     "output_type": "execute_result"
    }
   ],
   "source": [
    "data_actual.query('platform == \"PS4\"')[['ttl_sales', 'critic_score', 'user_score']].corr()"
   ]
  },
  {
   "cell_type": "code",
   "execution_count": 85,
   "metadata": {},
   "outputs": [
    {
     "data": {
      "text/html": [
       "<div>\n",
       "<style scoped>\n",
       "    .dataframe tbody tr th:only-of-type {\n",
       "        vertical-align: middle;\n",
       "    }\n",
       "\n",
       "    .dataframe tbody tr th {\n",
       "        vertical-align: top;\n",
       "    }\n",
       "\n",
       "    .dataframe thead th {\n",
       "        text-align: right;\n",
       "    }\n",
       "</style>\n",
       "<table border=\"1\" class=\"dataframe\">\n",
       "  <thead>\n",
       "    <tr style=\"text-align: right;\">\n",
       "      <th></th>\n",
       "      <th>ttl_sales</th>\n",
       "      <th>critic_score</th>\n",
       "      <th>user_score</th>\n",
       "    </tr>\n",
       "  </thead>\n",
       "  <tbody>\n",
       "    <tr>\n",
       "      <th>ttl_sales</th>\n",
       "      <td>1.000000</td>\n",
       "      <td>0.428677</td>\n",
       "      <td>-0.070384</td>\n",
       "    </tr>\n",
       "    <tr>\n",
       "      <th>critic_score</th>\n",
       "      <td>0.428677</td>\n",
       "      <td>1.000000</td>\n",
       "      <td>0.440977</td>\n",
       "    </tr>\n",
       "    <tr>\n",
       "      <th>user_score</th>\n",
       "      <td>-0.070384</td>\n",
       "      <td>0.440977</td>\n",
       "      <td>1.000000</td>\n",
       "    </tr>\n",
       "  </tbody>\n",
       "</table>\n",
       "</div>"
      ],
      "text/plain": [
       "              ttl_sales  critic_score  user_score\n",
       "ttl_sales      1.000000      0.428677   -0.070384\n",
       "critic_score   0.428677      1.000000    0.440977\n",
       "user_score    -0.070384      0.440977    1.000000"
      ]
     },
     "execution_count": 85,
     "metadata": {},
     "output_type": "execute_result"
    }
   ],
   "source": [
    "data_actual.query('platform == \"XOne\"')[['ttl_sales', 'critic_score', 'user_score']].corr()"
   ]
  },
  {
   "cell_type": "code",
   "execution_count": 86,
   "metadata": {},
   "outputs": [
    {
     "data": {
      "text/html": [
       "<div>\n",
       "<style scoped>\n",
       "    .dataframe tbody tr th:only-of-type {\n",
       "        vertical-align: middle;\n",
       "    }\n",
       "\n",
       "    .dataframe tbody tr th {\n",
       "        vertical-align: top;\n",
       "    }\n",
       "\n",
       "    .dataframe thead th {\n",
       "        text-align: right;\n",
       "    }\n",
       "</style>\n",
       "<table border=\"1\" class=\"dataframe\">\n",
       "  <thead>\n",
       "    <tr style=\"text-align: right;\">\n",
       "      <th></th>\n",
       "      <th>ttl_sales</th>\n",
       "      <th>critic_score</th>\n",
       "      <th>user_score</th>\n",
       "    </tr>\n",
       "  </thead>\n",
       "  <tbody>\n",
       "    <tr>\n",
       "      <th>ttl_sales</th>\n",
       "      <td>1.000000</td>\n",
       "      <td>0.174634</td>\n",
       "      <td>-0.071597</td>\n",
       "    </tr>\n",
       "    <tr>\n",
       "      <th>critic_score</th>\n",
       "      <td>0.174634</td>\n",
       "      <td>1.000000</td>\n",
       "      <td>0.466099</td>\n",
       "    </tr>\n",
       "    <tr>\n",
       "      <th>user_score</th>\n",
       "      <td>-0.071597</td>\n",
       "      <td>0.466099</td>\n",
       "      <td>1.000000</td>\n",
       "    </tr>\n",
       "  </tbody>\n",
       "</table>\n",
       "</div>"
      ],
      "text/plain": [
       "              ttl_sales  critic_score  user_score\n",
       "ttl_sales      1.000000      0.174634   -0.071597\n",
       "critic_score   0.174634      1.000000    0.466099\n",
       "user_score    -0.071597      0.466099    1.000000"
      ]
     },
     "execution_count": 86,
     "metadata": {},
     "output_type": "execute_result"
    }
   ],
   "source": [
    "data_actual.query('platform == \"PC\"')[['ttl_sales', 'critic_score', 'user_score']].corr()"
   ]
  },
  {
   "cell_type": "markdown",
   "metadata": {},
   "source": [
    "Исходя из полученных результатов коэффициентов корреляции и диаграмм, можно сказать что оценки критиков демонстрируют прямую, средне-слабую корреляцию с количеством продаж. Оценки пользователей корреляции с продажами не имеют. \n",
    "Игры слишком разнообразны, и находят отклик далеко не у всех пользователей и критиков, так например, пользователи могут ожидать выпуск определенной игры, и скупить много копий в первый день продаж, но игра может выйти \"сырой\", что очень сильно повлияет на оценку. Поэтому данный вывод можно отнести к любой платформе и любой игре."
   ]
  },
  {
   "cell_type": "markdown",
   "metadata": {},
   "source": [
    "Посмотрим на общее распределение игр по жанрам."
   ]
  },
  {
   "cell_type": "code",
   "execution_count": 87,
   "metadata": {},
   "outputs": [
    {
     "data": {
      "image/png": "[encoded data removed]",
      "text/plain": [
       "<Figure size 1080x360 with 1 Axes>"
      ]
     },
     "metadata": {
      "needs_background": "light"
     },
     "output_type": "display_data"
    }
   ],
   "source": [
    "(\n",
    "    data_actual.\n",
    "    plot(kind='scatter',\n",
    "         y='ttl_sales',\n",
    "         x='genre',\n",
    "         alpha=0.5,\n",
    "         xlabel='Жанр игры',\n",
    "         ylabel='Всего проданных копий',\n",
    "         figsize=(15,5)\n",
    "        )\n",
    ")\n",
    "plt.title('Количество проданных игр в разрезе по жанрам')\n",
    "plt.show()"
   ]
  },
  {
   "cell_type": "code",
   "execution_count": 88,
   "metadata": {},
   "outputs": [
    {
     "data": {
      "text/html": [
       "<div>\n",
       "<style scoped>\n",
       "    .dataframe tbody tr th:only-of-type {\n",
       "        vertical-align: middle;\n",
       "    }\n",
       "\n",
       "    .dataframe tbody tr th {\n",
       "        vertical-align: top;\n",
       "    }\n",
       "\n",
       "    .dataframe thead th {\n",
       "        text-align: right;\n",
       "    }\n",
       "</style>\n",
       "<table border=\"1\" class=\"dataframe\">\n",
       "  <thead>\n",
       "    <tr style=\"text-align: right;\">\n",
       "      <th></th>\n",
       "      <th>mean</th>\n",
       "      <th>median</th>\n",
       "    </tr>\n",
       "    <tr>\n",
       "      <th>genre</th>\n",
       "      <th></th>\n",
       "      <th></th>\n",
       "    </tr>\n",
       "  </thead>\n",
       "  <tbody>\n",
       "    <tr>\n",
       "      <th>Shooter</th>\n",
       "      <td>1.335469</td>\n",
       "      <td>0.515</td>\n",
       "    </tr>\n",
       "    <tr>\n",
       "      <th>Sports</th>\n",
       "      <td>0.680000</td>\n",
       "      <td>0.180</td>\n",
       "    </tr>\n",
       "    <tr>\n",
       "      <th>Platform</th>\n",
       "      <td>0.476053</td>\n",
       "      <td>0.140</td>\n",
       "    </tr>\n",
       "    <tr>\n",
       "      <th>Fighting</th>\n",
       "      <td>0.470333</td>\n",
       "      <td>0.125</td>\n",
       "    </tr>\n",
       "    <tr>\n",
       "      <th>Role-Playing</th>\n",
       "      <td>0.459005</td>\n",
       "      <td>0.110</td>\n",
       "    </tr>\n",
       "    <tr>\n",
       "      <th>Simulation</th>\n",
       "      <td>0.298409</td>\n",
       "      <td>0.100</td>\n",
       "    </tr>\n",
       "    <tr>\n",
       "      <th>Action</th>\n",
       "      <td>0.322068</td>\n",
       "      <td>0.090</td>\n",
       "    </tr>\n",
       "    <tr>\n",
       "      <th>Misc</th>\n",
       "      <td>0.332301</td>\n",
       "      <td>0.090</td>\n",
       "    </tr>\n",
       "    <tr>\n",
       "      <th>Racing</th>\n",
       "      <td>0.398841</td>\n",
       "      <td>0.090</td>\n",
       "    </tr>\n",
       "    <tr>\n",
       "      <th>Strategy</th>\n",
       "      <td>0.107027</td>\n",
       "      <td>0.060</td>\n",
       "    </tr>\n",
       "    <tr>\n",
       "      <th>Puzzle</th>\n",
       "      <td>0.157857</td>\n",
       "      <td>0.045</td>\n",
       "    </tr>\n",
       "    <tr>\n",
       "      <th>Adventure</th>\n",
       "      <td>0.094865</td>\n",
       "      <td>0.030</td>\n",
       "    </tr>\n",
       "  </tbody>\n",
       "</table>\n",
       "</div>"
      ],
      "text/plain": [
       "                  mean  median\n",
       "genre                         \n",
       "Shooter       1.335469   0.515\n",
       "Sports        0.680000   0.180\n",
       "Platform      0.476053   0.140\n",
       "Fighting      0.470333   0.125\n",
       "Role-Playing  0.459005   0.110\n",
       "Simulation    0.298409   0.100\n",
       "Action        0.322068   0.090\n",
       "Misc          0.332301   0.090\n",
       "Racing        0.398841   0.090\n",
       "Strategy      0.107027   0.060\n",
       "Puzzle        0.157857   0.045\n",
       "Adventure     0.094865   0.030"
      ]
     },
     "execution_count": 88,
     "metadata": {},
     "output_type": "execute_result"
    }
   ],
   "source": [
    "# Теперь посмотрим медианные и средние значения продаж по жанрам\n",
    "(\n",
    "data_actual.pivot_table(index='genre', values='ttl_sales', aggfunc=('median', 'mean')).\n",
    "sort_values('median', ascending=False)\n",
    ")"
   ]
  },
  {
   "cell_type": "markdown",
   "metadata": {},
   "source": [
    "Исходя из полученных данных можно сказать, что самый прибыльный жанр - это Shooter. Обычно этот жанр раскупается в 515 тысяч копий, что минимум в 2.8 раз меньше чем в других жанрах. К неприбыльным жанрам я бы отнес те жанры, медианные продажи, которых не превышают 90 тысяч копий."
   ]
  },
  {
   "cell_type": "markdown",
   "metadata": {},
   "source": [
    "## Портер пользователя"
   ]
  },
  {
   "cell_type": "markdown",
   "metadata": {},
   "source": [
    "Определим портрет пользователя каждого региона (NA, EU, JP).\n",
    "\n",
    "Для начала найдем топ 5 популярных платформ по продажам игр в каждом регионе."
   ]
  },
  {
   "cell_type": "code",
   "execution_count": 89,
   "metadata": {},
   "outputs": [
    {
     "data": {
      "image/png": "[encoded data removed]",
      "text/plain": [
       "<Figure size 1080x864 with 3 Axes>"
      ]
     },
     "metadata": {
      "needs_background": "light"
     },
     "output_type": "display_data"
    }
   ],
   "source": [
    "(\n",
    "    data_actual.pivot_table(index='platform', values=['eu_sales', 'na_sales', 'jp_sales'], aggfunc='sum').\n",
    "    sort_values('platform', ascending=False).\n",
    "    rename(\n",
    "        columns={\n",
    "            'eu_sales': 'Продажи игр в Европе',\n",
    "            'na_sales': 'Продажи игр в Северной Америке',\n",
    "            'jp_sales': 'Продажи игр в Японии'\n",
    "        }\n",
    "    ).\n",
    "    plot(\n",
    "        kind='bar',\n",
    "        figsize=(15,12),\n",
    "        legend=False,\n",
    "        color=['#D2691E', '#006400', '#191970'],\n",
    "        rot=0,\n",
    "        subplots=True,\n",
    "        grid=True,\n",
    "        xlabel='',\n",
    "        ylabel='Количество проданных игр. млн.',\n",
    "        ylim=(0,140)\n",
    "    )\n",
    ")\n",
    "plt.show()"
   ]
  },
  {
   "cell_type": "markdown",
   "metadata": {},
   "source": [
    "Исходя из полученных графиков можно выделить топ 5 игровых платформ в каждом регионе:\n",
    "- В Европе преобладает приставка PS4, далее идут XOne, PS3, PC и Nintendo 3DS;\n",
    "- В Японии большой популярностью пользуется приставка Nintendo 3DS, что обусловленно менталитетом японцев, ввиду того, что они большую часть жизни находятся на работе, и поиграть дома сложнее, чем в пути на работу. Далее идут приставки PS4, PS Vita, PS3 и WiiU. В итоге в топ 5 входит 3 портативные приставки;\n",
    "- В Северной Америке преобладает приставка PS4. Более ярко выраженным спросом пользуется приставка XOne, ввиду того что данная консоль выпущена американской компанией, и по большей части адаптирована на американский рынок. Далее идут X360, 3DS и PS3. "
   ]
  },
  {
   "cell_type": "markdown",
   "metadata": {},
   "source": [
    "Теперь посмотрим как те или жанры преобладают в разных регионах. Для этого построим круговую диаграмму."
   ]
  },
  {
   "cell_type": "code",
   "execution_count": 90,
   "metadata": {},
   "outputs": [
    {
     "data": {
      "image/png": "[encoded data removed]",
      "text/plain": [
       "<Figure size 1080x864 with 3 Axes>"
      ]
     },
     "metadata": {
      "needs_background": "light"
     },
     "output_type": "display_data"
    }
   ],
   "source": [
    "(\n",
    "    data_actual.pivot_table(index='genre', values=['eu_sales', 'na_sales', 'jp_sales'], aggfunc='sum').\n",
    "    sort_values('genre').\n",
    "    rename(\n",
    "        columns={\n",
    "            'eu_sales': 'Продажи игр в Европе в разрезе по жанрам',\n",
    "            'na_sales': 'Продажи игр в Северной Америке в разрезе по жанрам',\n",
    "            'jp_sales': 'Продажи игр в Японии в разрезе по жанрам'\n",
    "        }\n",
    "    ).\n",
    "    plot(\n",
    "        kind='bar',\n",
    "        figsize=(15,12),\n",
    "        legend=False,\n",
    "        color=['#D2691E', '#006400', '#191970'],\n",
    "        rot=0,\n",
    "        subplots=True,\n",
    "        grid=True,\n",
    "        xlabel='',\n",
    "        ylabel='Количество проданных игр. млн.',\n",
    "        ylim=(0,80)\n",
    "    )\n",
    ")\n",
    "plt.show()"
   ]
  },
  {
   "cell_type": "code",
   "execution_count": 91,
   "metadata": {
    "scrolled": true
   },
   "outputs": [
    {
     "data": {
      "text/plain": [
       "\"(\\n    data_actual.pivot_table(index='genre', values='eu_sales', aggfunc='sum').\\n    sort_values('eu_sales').\\n    plot(\\n        kind='pie',\\n        y='eu_sales',\\n        figsize=(10,10),\\n        autopct='%1.0f%%',\\n        legend=False,\\n        explode = [0, 0, 0, 0, 0, 0, 0, 0.0, 0.0, 0.0, 0.0, 0.05],\\n        ylabel=''\\n    )\\n)\\nplt.title('Продажи игр в Европе в разрезе по жанрам')\\nplt.show()\\n\\n(\\n    data_actual.pivot_table(index='genre', values='jp_sales', aggfunc='sum').\\n    sort_values('jp_sales').\\n    plot(\\n        kind='pie',\\n        y='jp_sales',\\n        figsize=(10,10),\\n        autopct='%1.0f%%',\\n        legend=False,\\n        explode = [0, 0, 0, 0, 0, 0, 0, 0.0, 0.0, 0.0, 0.0, 0.05],\\n        ylabel=''\\n    )\\n)\\nplt.title('Продажи игр в Японии в разрезе по жанрам')\\nplt.show()\\n\\n(\\n    data_actual.pivot_table(index='genre', values='na_sales', aggfunc='sum').\\n    sort_values('na_sales').\\n    plot(\\n        kind='pie',\\n        y='na_sales',\\n        figsize=(10,10),\\n        autopct='%1.0f%%',\\n        legend=False,\\n        explode = [0, 0, 0, 0, 0, 0, 0, 0.0, 0.0, 0.0, 0.0, 0.05],\\n        ylabel=''\\n    )\\n)\\nplt.title('Продажи игр в Северной Америке в разрезе по жанрам')\\nplt.show()\""
      ]
     },
     "execution_count": 91,
     "metadata": {},
     "output_type": "execute_result"
    }
   ],
   "source": [
    "'''(\n",
    "    data_actual.pivot_table(index='genre', values='eu_sales', aggfunc='sum').\n",
    "    sort_values('eu_sales').\n",
    "    plot(\n",
    "        kind='pie',\n",
    "        y='eu_sales',\n",
    "        figsize=(10,10),\n",
    "        autopct='%1.0f%%',\n",
    "        legend=False,\n",
    "        explode = [0, 0, 0, 0, 0, 0, 0, 0.0, 0.0, 0.0, 0.0, 0.05],\n",
    "        ylabel=''\n",
    "    )\n",
    ")\n",
    "plt.title('Продажи игр в Европе в разрезе по жанрам')\n",
    "plt.show()\n",
    "\n",
    "(\n",
    "    data_actual.pivot_table(index='genre', values='jp_sales', aggfunc='sum').\n",
    "    sort_values('jp_sales').\n",
    "    plot(\n",
    "        kind='pie',\n",
    "        y='jp_sales',\n",
    "        figsize=(10,10),\n",
    "        autopct='%1.0f%%',\n",
    "        legend=False,\n",
    "        explode = [0, 0, 0, 0, 0, 0, 0, 0.0, 0.0, 0.0, 0.0, 0.05],\n",
    "        ylabel=''\n",
    "    )\n",
    ")\n",
    "plt.title('Продажи игр в Японии в разрезе по жанрам')\n",
    "plt.show()\n",
    "\n",
    "(\n",
    "    data_actual.pivot_table(index='genre', values='na_sales', aggfunc='sum').\n",
    "    sort_values('na_sales').\n",
    "    plot(\n",
    "        kind='pie',\n",
    "        y='na_sales',\n",
    "        figsize=(10,10),\n",
    "        autopct='%1.0f%%',\n",
    "        legend=False,\n",
    "        explode = [0, 0, 0, 0, 0, 0, 0, 0.0, 0.0, 0.0, 0.0, 0.05],\n",
    "        ylabel=''\n",
    "    )\n",
    ")\n",
    "plt.title('Продажи игр в Северной Америке в разрезе по жанрам')\n",
    "plt.show()'''"
   ]
  },
  {
   "cell_type": "markdown",
   "metadata": {},
   "source": [
    "Распределение продаж по жанрам в Северной Америке и Европе практически идентичны. Первые места занимают `Action` и `Shooter`. Далее идет `Sport`. Можно еще отметить `Role-Playing`, `Fighting` и `Racing`.\n",
    "\n",
    "В Японии наоборот преобладают игры жанра `Role-Playing`, что обусловлено образом жизни японцев, так как они больше проводят времени в интеренете. `Racing` и `Shooter` - совсем не пользуются спросом. Второе место занимает `Action`, далее `Fighting` и `Misc`."
   ]
  },
  {
   "cell_type": "markdown",
   "metadata": {},
   "source": [
    "Посмотрим влияет ли рейтинг ESRB на продажи в регионах."
   ]
  },
  {
   "cell_type": "code",
   "execution_count": 92,
   "metadata": {},
   "outputs": [
    {
     "data": {
      "image/png": "[encoded data removed]",
      "text/plain": [
       "<Figure size 1080x720 with 3 Axes>"
      ]
     },
     "metadata": {
      "needs_background": "light"
     },
     "output_type": "display_data"
    }
   ],
   "source": [
    "(\n",
    "    data_actual.pivot_table(index='rating', values=['eu_sales', 'na_sales', 'jp_sales'], aggfunc='sum').\n",
    "    sort_values('rating', ascending=False).\n",
    "    rename(\n",
    "        columns={\n",
    "            'eu_sales': 'Продажи игр в Европе',\n",
    "            'na_sales': 'Продажи игр в Северной Америке',\n",
    "            'jp_sales': 'Продажи игр в Японии'\n",
    "        }\n",
    "    ).\n",
    "    plot(\n",
    "        kind='bar',\n",
    "        figsize=(15,10),\n",
    "        legend=False,\n",
    "        color=['#D2691E', '#006400', '#191970'],\n",
    "        rot=0,\n",
    "        subplots=True,\n",
    "        grid=True,\n",
    "        xlabel='',\n",
    "        ylabel='Количество проданных игр. млн.',\n",
    "        ylim=(0,100)\n",
    "    )\n",
    ")\n",
    "plt.show()"
   ]
  },
  {
   "cell_type": "markdown",
   "metadata": {},
   "source": [
    "Четкой зависимости продаж от рейтинга не замечено. Данный рейтинг, по моему мнению, носит больше информационный характер, который описвает возрастные ограничения."
   ]
  },
  {
   "cell_type": "markdown",
   "metadata": {},
   "source": [
    "Изучив данные можно составить следующие портреты пользователей в каждом регионе:\n",
    "- Европа - пользователь данного региона предпочитает станционарные приставки, в основном приоритет на семейство PS. Популярные жанры Action, Sport и Shooter;\n",
    "- Северная Америка - портрет пользователя очень схож с европейским, за исключением консоли. Тут предпочтения отдают приставке X360;\n",
    "- Япония - в данном регионе портрет пользователя совершенно отличается от двух других. Здесь преобладают портативные консоли, ввиду жизненного образа японцев. Также отличаются и жанры, которые предпочитают игроки - Role-Playing и Action занимают лидирующие места. На третьем месте жанр \"Разные\"."
   ]
  },
  {
   "cell_type": "markdown",
   "metadata": {},
   "source": [
    "## Гипотезы"
   ]
  },
  {
   "cell_type": "markdown",
   "metadata": {},
   "source": [
    "В данном разделе мы проверим следующие гипотезы:\n",
    "- средние пользовательские рейтинги платформ Xbox One и PC одинаковые;\n",
    "- средние пользовательские рейтинги жанров Action и Sports разные.\n",
    "\n",
    "Для проверки данных гипотез о равенстве среднего двух генеральных совокупностей по взятым из них выборкам воспользуемся методом `scipy.stats.ttest_ind`. Для этого избавимся от пропусков в таблице с актуальными данными."
   ]
  },
  {
   "cell_type": "code",
   "execution_count": 93,
   "metadata": {},
   "outputs": [],
   "source": [
    "data_hypothesis = data_actual.dropna() # Данные без пропусков сохраним в новую переменную"
   ]
  },
  {
   "cell_type": "code",
   "execution_count": 94,
   "metadata": {
    "scrolled": true
   },
   "outputs": [
    {
     "name": "stdout",
     "output_type": "stream",
     "text": [
      "<class 'pandas.core.frame.DataFrame'>\n",
      "Int64Index: 704 entries, 42 to 16418\n",
      "Data columns (total 12 columns):\n",
      " #   Column           Non-Null Count  Dtype  \n",
      "---  ------           --------------  -----  \n",
      " 0   name             704 non-null    object \n",
      " 1   platform         704 non-null    object \n",
      " 2   year_of_release  704 non-null    Int64  \n",
      " 3   genre            704 non-null    object \n",
      " 4   na_sales         704 non-null    float64\n",
      " 5   eu_sales         704 non-null    float64\n",
      " 6   jp_sales         704 non-null    float64\n",
      " 7   other_sales      704 non-null    float64\n",
      " 8   critic_score     704 non-null    Int64  \n",
      " 9   user_score       704 non-null    float64\n",
      " 10  rating           704 non-null    object \n",
      " 11  ttl_sales        704 non-null    float64\n",
      "dtypes: Int64(2), float64(6), object(4)\n",
      "memory usage: 72.9+ KB\n"
     ]
    }
   ],
   "source": [
    "data_hypothesis.info() # Посмотрим на результат"
   ]
  },
  {
   "cell_type": "markdown",
   "metadata": {},
   "source": [
    "Проверим гипотезу о равенстве средних пользовательских рейтингах платформ Xbox One и PC. "
   ]
  },
  {
   "cell_type": "code",
   "execution_count": 95,
   "metadata": {},
   "outputs": [
    {
     "data": {
      "text/plain": [
       "'p-значение: 0.1403785186826978'"
      ]
     },
     "metadata": {},
     "output_type": "display_data"
    },
    {
     "name": "stdout",
     "output_type": "stream",
     "text": [
      "Не получилось отвергнуть нулевую гипотезу\n"
     ]
    }
   ],
   "source": [
    "xone = data_hypothesis[data_hypothesis['platform'] =='XOne']['user_score']\n",
    "pc = data_hypothesis[data_hypothesis['platform'] =='PC']['user_score']\n",
    "\n",
    "results = st.ttest_ind(\n",
    "    xone,\n",
    "    pc,\n",
    "    equal_var=False # Указываем False, так как  можно предположить,что выборки разного размера\n",
    ")\n",
    "   \n",
    "\n",
    "alpha = .01 # Так как объем выборки достаточно большой, то примем критический уровень значимости 0.01\n",
    "# если p-value окажется меньше него - отвергнем гипотезу\n",
    "\n",
    "display(f'p-значение: {results.pvalue}')\n",
    "\n",
    "if results.pvalue < alpha:\n",
    "    print(\"Отвергаем нулевую гипотезу\")\n",
    "else:\n",
    "    print(\"Не получилось отвергнуть нулевую гипотезу\")"
   ]
  },
  {
   "cell_type": "markdown",
   "metadata": {},
   "source": [
    "Из полученного теста можно предположить, что средние пользовательские оценки на платформах Xbox One и PC не одинаковые в генеральной совокупности."
   ]
  },
  {
   "cell_type": "markdown",
   "metadata": {},
   "source": [
    "Теперь проверим, что средние пользовательские рейтинги жанров Action и Sports разные. Следовательно нулевая гипотеза - это то, что средние пользовательские рейтинги жанров Action и Sports одинаковые. Алтернативная - разные."
   ]
  },
  {
   "cell_type": "code",
   "execution_count": 96,
   "metadata": {},
   "outputs": [
    {
     "data": {
      "text/plain": [
       "'p-значение: 8.327612976032047e-09'"
      ]
     },
     "metadata": {},
     "output_type": "display_data"
    },
    {
     "name": "stdout",
     "output_type": "stream",
     "text": [
      "Отвергаем нулевую гипотезу\n"
     ]
    }
   ],
   "source": [
    "action = data_hypothesis[data_hypothesis['genre'] =='Action']['user_score']\n",
    "sports = data_hypothesis[data_hypothesis['genre'] =='Sports']['user_score']\n",
    "\n",
    "results = st.ttest_ind(\n",
    "    action,\n",
    "    sports,\n",
    "    equal_var=False # Указываем False, так как  можно предположить,что выборки разного размера\n",
    ")\n",
    "   \n",
    "\n",
    "alpha = .01 # Так как объем выборки достаточно большой, то примем критический уровень значимости 0.01\n",
    "# если p-value окажется меньше него - отвергнем гипотезу\n",
    "\n",
    "display(f'p-значение: {results.pvalue}')\n",
    "\n",
    "if results.pvalue < alpha:\n",
    "    print(\"Отвергаем нулевую гипотезу\")\n",
    "else:\n",
    "    print(\"Не получилось отвергнуть нулевую гипотезу\")"
   ]
  },
  {
   "cell_type": "markdown",
   "metadata": {},
   "source": [
    "Из полученного теста можно предположить, что средние пользовательские оценки жанров Action и Sports одинаковые в генеральной совокупности."
   ]
  },
  {
   "cell_type": "markdown",
   "metadata": {},
   "source": [
    "## Вывод"
   ]
  },
  {
   "cell_type": "markdown",
   "metadata": {},
   "source": [
    "В данном проекте перед нами стояла задача изучить исторические данные о продажах игр, оценки пользователей и экспертов, жанры и платформы и выявить определяющие успешность игры закономерности, что позволит сделать ставку на потенциально популярный продукт и спланировать рекламные кампании.\n",
    "\n",
    "Для начала мы ознакомились с предоставленными нам данными. Далее данные прошли предобработку, а именно:\n",
    "- изучив информацию о датафрейме, мы изменили типы данных, для удобства работы с ними;\n",
    "- проверили датафрейм на наличие пропусков, где некоторые данные были удалены, некоторые были восстановлены, но в некоторых столбцах обработать пропуски не получилось, так как это могло повлечь за собой неверный анализ данных;\n",
    "- также изучили данные на наличие дубликатов и аномальных значений.\n",
    "\n",
    "Для проведения исследовательского анализа мы взяли данные за актуальный для нас период времени. В нашем случае выбор пал на период с 2000 года, когда продажи игр явно выросли и сама индустрия начала быстрее развиваться. Изучив актуальный период, мы получили следующие результаты:\n",
    "- жизненный цикл игровой приставки в среднем составляет 10 лет;\n",
    "- потенциально прибильные платформы - PS4, XOne, PC\n",
    "- по общему количеству проданных игр среди потенциальных платформ лидирует PS4, хотя в среднем по проданным копиям XOne не отстает. Но тут также важно учитывать, что на PS4 выпускают больше игр;\n",
    "- также выяснили, что оценки пользователей и критиков никак не влияют на продажи игр;\n",
    "- среди жанров игр `Shooter` - самый прибыльный.\n",
    "\n",
    "Также мы составили портрет пользователя в каждом регионе:\n",
    "1. В Европе пользователи предпочитают станционарные приставки, в основном приоритет на семейство PS. Популярные жанры Action, Sport и Shooter;\n",
    "2. В Северной Америке портрет пользователя очень схож с европейским, за исключением того, что тут более популярная консоль X360;\n",
    "3. В Япония портрет пользователя совершенно отличается от двух других. Здесь преобладают портативные консоли, ввиду жизненного образа японцев. Также отличаются и жанры, которые предпочитают игроки - Role-Playing и Action.\n",
    "\n",
    "Также мы проверили гипотезы равентсва средних пользовательских оценок на платформах и жанрах.\n",
    "\n",
    "После проделанной работы можно сделать следующий вывод: потенциально популярный продукт зависит от множества факторов, например, тип платформы, регион, жанр, эксклюзивность, ну и конечно же регион. Если рекламную кампанию планировать в Японии, то упор необходимо делать на игры для портативных приставок в жанре Role-Playing и Action. Если брать в расчет Северную Америку или Европу, то тут выбор падает на 2 консоли - PS4 И XOne, но PS в приоритете. Что касается жанров, то упор нужно делать на Action, Sports и Shooter. Если брать общую оценку по миру, не углубляясь в регионы, самая распространненая приставка - PS4, на которую следует сделать упор, а среди жанров самым прибыльным можно считать - Shooter. Но также важно понимать, что не все игры Shooter прибыльные, например, между Noname Шутером или Fifa, конечно нужно больше рекламировать футбол, так как это популярная игра, на все времена.\n",
    "Рекламную кампанию необходимо планировать распределеяя бюджет между разными жанрами и платформами. Только грамотный сплит поможет эффективно провести рекламние кампании."
   ]
  }
 ],
 "metadata": {
  "ExecuteTimeLog": [
   {
    "duration": 8,
    "start_time": "2022-11-29T06:26:14.880Z"
   },
   {
    "duration": 377,
    "start_time": "2022-11-29T06:30:34.322Z"
   },
   {
    "duration": 182,
    "start_time": "2022-11-29T06:30:34.805Z"
   },
   {
    "duration": 19,
    "start_time": "2022-11-29T06:30:35.637Z"
   },
   {
    "duration": 18,
    "start_time": "2022-11-29T06:31:39.716Z"
   },
   {
    "duration": 15,
    "start_time": "2022-11-29T06:32:13.702Z"
   },
   {
    "duration": 65,
    "start_time": "2022-11-29T06:33:43.512Z"
   },
   {
    "duration": 5,
    "start_time": "2022-11-29T06:49:58.721Z"
   },
   {
    "duration": 3,
    "start_time": "2022-11-29T06:50:22.876Z"
   },
   {
    "duration": 6,
    "start_time": "2022-11-29T06:50:33.523Z"
   },
   {
    "duration": 7,
    "start_time": "2022-11-29T06:50:36.115Z"
   },
   {
    "duration": 3,
    "start_time": "2022-11-29T06:50:39.675Z"
   },
   {
    "duration": 7,
    "start_time": "2022-11-29T06:51:40.413Z"
   },
   {
    "duration": 5,
    "start_time": "2022-11-29T06:51:44.837Z"
   },
   {
    "duration": 10,
    "start_time": "2022-11-29T07:00:19.484Z"
   },
   {
    "duration": 11,
    "start_time": "2022-11-29T07:00:46.432Z"
   },
   {
    "duration": 7,
    "start_time": "2022-11-29T07:01:22.401Z"
   },
   {
    "duration": 8,
    "start_time": "2022-11-29T07:01:36.213Z"
   },
   {
    "duration": 8,
    "start_time": "2022-11-29T07:01:46.259Z"
   },
   {
    "duration": 10,
    "start_time": "2022-11-29T07:01:52.530Z"
   },
   {
    "duration": 12,
    "start_time": "2022-11-29T07:35:49.373Z"
   },
   {
    "duration": 13,
    "start_time": "2022-11-29T07:36:00.367Z"
   },
   {
    "duration": 12,
    "start_time": "2022-11-29T07:36:29.098Z"
   },
   {
    "duration": 13,
    "start_time": "2022-11-29T07:36:36.735Z"
   },
   {
    "duration": 10,
    "start_time": "2022-11-29T07:37:09.352Z"
   },
   {
    "duration": 5,
    "start_time": "2022-11-29T08:15:50.671Z"
   },
   {
    "duration": 7,
    "start_time": "2022-11-29T08:16:27.748Z"
   },
   {
    "duration": 7,
    "start_time": "2022-11-29T08:16:46.991Z"
   },
   {
    "duration": 9,
    "start_time": "2022-11-29T08:17:17.470Z"
   },
   {
    "duration": 8,
    "start_time": "2022-11-29T08:17:27.101Z"
   },
   {
    "duration": 6,
    "start_time": "2022-11-29T08:17:39.534Z"
   },
   {
    "duration": 6,
    "start_time": "2022-11-29T08:25:38.350Z"
   },
   {
    "duration": 12,
    "start_time": "2022-11-29T08:26:59.120Z"
   },
   {
    "duration": 13,
    "start_time": "2022-11-29T08:28:15.049Z"
   },
   {
    "duration": 38,
    "start_time": "2022-11-29T08:30:36.156Z"
   },
   {
    "duration": 20,
    "start_time": "2022-11-29T08:30:58.518Z"
   },
   {
    "duration": 5,
    "start_time": "2022-11-29T08:34:09.880Z"
   },
   {
    "duration": 13,
    "start_time": "2022-11-29T08:34:22.296Z"
   },
   {
    "duration": 51,
    "start_time": "2022-11-29T08:35:30.019Z"
   },
   {
    "duration": 14,
    "start_time": "2022-11-29T08:35:32.289Z"
   },
   {
    "duration": 14,
    "start_time": "2022-11-29T08:36:19.299Z"
   },
   {
    "duration": 14,
    "start_time": "2022-11-29T08:36:22.194Z"
   },
   {
    "duration": 13,
    "start_time": "2022-11-29T08:36:26.260Z"
   },
   {
    "duration": 7,
    "start_time": "2022-11-29T08:36:33.941Z"
   },
   {
    "duration": 13,
    "start_time": "2022-11-29T08:36:35.146Z"
   },
   {
    "duration": 14,
    "start_time": "2022-11-29T08:36:38.188Z"
   },
   {
    "duration": 6,
    "start_time": "2022-11-29T08:37:20.237Z"
   },
   {
    "duration": 14,
    "start_time": "2022-11-29T08:37:21.827Z"
   },
   {
    "duration": 15,
    "start_time": "2022-11-29T08:37:23.884Z"
   },
   {
    "duration": 353,
    "start_time": "2022-11-29T08:37:33.753Z"
   },
   {
    "duration": 53,
    "start_time": "2022-11-29T08:37:34.108Z"
   },
   {
    "duration": 26,
    "start_time": "2022-11-29T08:37:34.163Z"
   },
   {
    "duration": 14,
    "start_time": "2022-11-29T08:37:34.190Z"
   },
   {
    "duration": 14,
    "start_time": "2022-11-29T08:37:34.206Z"
   },
   {
    "duration": 16,
    "start_time": "2022-11-29T08:37:34.222Z"
   },
   {
    "duration": 14,
    "start_time": "2022-11-29T08:37:34.239Z"
   },
   {
    "duration": 11,
    "start_time": "2022-11-29T08:37:34.255Z"
   },
   {
    "duration": 12,
    "start_time": "2022-11-29T08:37:34.268Z"
   },
   {
    "duration": 5,
    "start_time": "2022-11-29T08:37:53.164Z"
   },
   {
    "duration": 14,
    "start_time": "2022-11-29T08:37:55.666Z"
   },
   {
    "duration": 16,
    "start_time": "2022-11-29T08:37:57.494Z"
   },
   {
    "duration": 360,
    "start_time": "2022-11-29T08:39:23.447Z"
   },
   {
    "duration": 52,
    "start_time": "2022-11-29T08:39:23.809Z"
   },
   {
    "duration": 26,
    "start_time": "2022-11-29T08:39:23.863Z"
   },
   {
    "duration": 7,
    "start_time": "2022-11-29T08:39:23.890Z"
   },
   {
    "duration": 42,
    "start_time": "2022-11-29T08:39:23.899Z"
   },
   {
    "duration": 35,
    "start_time": "2022-11-29T08:39:23.943Z"
   },
   {
    "duration": 39,
    "start_time": "2022-11-29T08:39:23.979Z"
   },
   {
    "duration": 27,
    "start_time": "2022-11-29T08:39:24.019Z"
   },
   {
    "duration": 28,
    "start_time": "2022-11-29T08:39:24.047Z"
   },
   {
    "duration": 28,
    "start_time": "2022-11-29T08:39:24.077Z"
   },
   {
    "duration": 433,
    "start_time": "2022-11-29T08:40:28.075Z"
   },
   {
    "duration": 54,
    "start_time": "2022-11-29T08:40:28.510Z"
   },
   {
    "duration": 27,
    "start_time": "2022-11-29T08:40:28.566Z"
   },
   {
    "duration": 5,
    "start_time": "2022-11-29T08:40:28.595Z"
   },
   {
    "duration": 28,
    "start_time": "2022-11-29T08:40:28.603Z"
   },
   {
    "duration": 28,
    "start_time": "2022-11-29T08:40:28.633Z"
   },
   {
    "duration": 46,
    "start_time": "2022-11-29T08:40:28.662Z"
   },
   {
    "duration": 20,
    "start_time": "2022-11-29T08:40:28.709Z"
   },
   {
    "duration": 38,
    "start_time": "2022-11-29T08:40:28.731Z"
   },
   {
    "duration": 23,
    "start_time": "2022-11-29T08:40:28.770Z"
   },
   {
    "duration": 408,
    "start_time": "2022-11-29T08:41:40.973Z"
   },
   {
    "duration": 52,
    "start_time": "2022-11-29T08:41:41.459Z"
   },
   {
    "duration": 26,
    "start_time": "2022-11-29T08:41:41.896Z"
   },
   {
    "duration": 13,
    "start_time": "2022-11-29T08:41:44.895Z"
   },
   {
    "duration": 5,
    "start_time": "2022-11-29T08:41:48.353Z"
   },
   {
    "duration": 13,
    "start_time": "2022-11-29T08:41:58.266Z"
   },
   {
    "duration": 14,
    "start_time": "2022-11-29T08:42:00.915Z"
   },
   {
    "duration": 6,
    "start_time": "2022-11-29T08:42:01.740Z"
   },
   {
    "duration": 14,
    "start_time": "2022-11-29T08:42:03.044Z"
   },
   {
    "duration": 49,
    "start_time": "2022-11-29T08:44:05.660Z"
   },
   {
    "duration": 20,
    "start_time": "2022-11-29T08:44:07.499Z"
   },
   {
    "duration": 13,
    "start_time": "2022-11-29T08:44:26.731Z"
   },
   {
    "duration": 5,
    "start_time": "2022-11-29T08:44:31.387Z"
   },
   {
    "duration": 13,
    "start_time": "2022-11-29T08:44:32.339Z"
   },
   {
    "duration": 11,
    "start_time": "2022-11-29T08:44:47.883Z"
   },
   {
    "duration": 86,
    "start_time": "2022-11-29T08:45:57.300Z"
   },
   {
    "duration": 16,
    "start_time": "2022-11-29T08:46:30.798Z"
   },
   {
    "duration": 353,
    "start_time": "2022-11-29T08:46:43.057Z"
   },
   {
    "duration": 53,
    "start_time": "2022-11-29T08:46:43.411Z"
   },
   {
    "duration": 25,
    "start_time": "2022-11-29T08:46:43.465Z"
   },
   {
    "duration": 12,
    "start_time": "2022-11-29T08:46:43.492Z"
   },
   {
    "duration": 6,
    "start_time": "2022-11-29T08:46:43.505Z"
   },
   {
    "duration": 17,
    "start_time": "2022-11-29T08:46:43.512Z"
   },
   {
    "duration": 14,
    "start_time": "2022-11-29T08:46:43.530Z"
   },
   {
    "duration": 6,
    "start_time": "2022-11-29T08:46:43.545Z"
   },
   {
    "duration": 24,
    "start_time": "2022-11-29T08:46:43.553Z"
   },
   {
    "duration": 13,
    "start_time": "2022-11-29T08:47:23.102Z"
   },
   {
    "duration": 4,
    "start_time": "2022-11-29T08:48:01.070Z"
   },
   {
    "duration": 17,
    "start_time": "2022-11-29T08:54:20.006Z"
   },
   {
    "duration": 9,
    "start_time": "2022-11-29T08:54:25.006Z"
   },
   {
    "duration": 340,
    "start_time": "2022-11-29T08:54:33.854Z"
   },
   {
    "duration": 50,
    "start_time": "2022-11-29T08:54:34.196Z"
   },
   {
    "duration": 24,
    "start_time": "2022-11-29T08:54:34.248Z"
   },
   {
    "duration": 14,
    "start_time": "2022-11-29T08:54:34.273Z"
   },
   {
    "duration": 14,
    "start_time": "2022-11-29T08:54:34.289Z"
   },
   {
    "duration": 20,
    "start_time": "2022-11-29T08:54:34.304Z"
   },
   {
    "duration": 12,
    "start_time": "2022-11-29T08:54:34.326Z"
   },
   {
    "duration": 10,
    "start_time": "2022-11-29T08:54:34.340Z"
   },
   {
    "duration": 12,
    "start_time": "2022-11-29T08:54:34.352Z"
   },
   {
    "duration": 6,
    "start_time": "2022-11-29T08:55:17.816Z"
   },
   {
    "duration": 6,
    "start_time": "2022-11-29T08:57:13.530Z"
   },
   {
    "duration": 7,
    "start_time": "2022-11-29T08:57:16.547Z"
   },
   {
    "duration": 6,
    "start_time": "2022-11-29T08:57:42.858Z"
   },
   {
    "duration": 356,
    "start_time": "2022-11-29T08:57:56.553Z"
   },
   {
    "duration": 53,
    "start_time": "2022-11-29T08:57:56.911Z"
   },
   {
    "duration": 25,
    "start_time": "2022-11-29T08:57:56.966Z"
   },
   {
    "duration": 33,
    "start_time": "2022-11-29T08:57:56.994Z"
   },
   {
    "duration": 28,
    "start_time": "2022-11-29T08:57:57.028Z"
   },
   {
    "duration": 52,
    "start_time": "2022-11-29T08:57:57.057Z"
   },
   {
    "duration": 33,
    "start_time": "2022-11-29T08:57:57.111Z"
   },
   {
    "duration": 37,
    "start_time": "2022-11-29T08:57:57.145Z"
   },
   {
    "duration": 35,
    "start_time": "2022-11-29T08:57:57.184Z"
   },
   {
    "duration": 33,
    "start_time": "2022-11-29T08:57:57.221Z"
   },
   {
    "duration": 15,
    "start_time": "2022-11-29T08:58:23.363Z"
   },
   {
    "duration": 13,
    "start_time": "2022-11-29T08:58:36.131Z"
   },
   {
    "duration": 10,
    "start_time": "2022-11-29T08:59:28.173Z"
   },
   {
    "duration": 539,
    "start_time": "2022-11-29T08:59:36.190Z"
   },
   {
    "duration": 7,
    "start_time": "2022-11-29T09:01:45.847Z"
   },
   {
    "duration": 15,
    "start_time": "2022-11-29T09:01:56.447Z"
   },
   {
    "duration": 21,
    "start_time": "2022-11-29T09:03:20.521Z"
   },
   {
    "duration": 34,
    "start_time": "2022-11-29T09:05:27.540Z"
   },
   {
    "duration": 4,
    "start_time": "2022-11-29T09:08:07.266Z"
   },
   {
    "duration": 6,
    "start_time": "2022-11-29T09:08:53.619Z"
   },
   {
    "duration": 72,
    "start_time": "2022-11-29T09:09:01.919Z"
   },
   {
    "duration": 8,
    "start_time": "2022-11-29T09:09:06.431Z"
   },
   {
    "duration": 9,
    "start_time": "2022-11-29T09:09:10.516Z"
   },
   {
    "duration": 8,
    "start_time": "2022-11-29T09:09:16.617Z"
   },
   {
    "duration": 13,
    "start_time": "2022-11-29T09:09:27.386Z"
   },
   {
    "duration": 31017,
    "start_time": "2022-11-29T09:22:47.247Z"
   },
   {
    "duration": 10,
    "start_time": "2022-11-29T09:23:18.267Z"
   },
   {
    "duration": 36478,
    "start_time": "2022-11-29T09:23:44.546Z"
   },
   {
    "duration": 9,
    "start_time": "2022-11-29T09:24:21.026Z"
   },
   {
    "duration": 4,
    "start_time": "2022-11-29T09:25:52.517Z"
   },
   {
    "duration": 414,
    "start_time": "2022-11-29T09:25:58.822Z"
   },
   {
    "duration": 3,
    "start_time": "2022-11-29T09:25:59.238Z"
   },
   {
    "duration": 57,
    "start_time": "2022-11-29T09:25:59.242Z"
   },
   {
    "duration": 34,
    "start_time": "2022-11-29T09:25:59.300Z"
   },
   {
    "duration": 13,
    "start_time": "2022-11-29T09:25:59.336Z"
   },
   {
    "duration": 11,
    "start_time": "2022-11-29T09:25:59.351Z"
   },
   {
    "duration": 14,
    "start_time": "2022-11-29T09:25:59.364Z"
   },
   {
    "duration": 41,
    "start_time": "2022-11-29T09:25:59.379Z"
   },
   {
    "duration": 14,
    "start_time": "2022-11-29T09:25:59.421Z"
   },
   {
    "duration": 6,
    "start_time": "2022-11-29T09:25:59.436Z"
   },
   {
    "duration": 12,
    "start_time": "2022-11-29T09:25:59.443Z"
   },
   {
    "duration": 15,
    "start_time": "2022-11-29T09:25:59.456Z"
   },
   {
    "duration": 9,
    "start_time": "2022-11-29T09:25:59.473Z"
   },
   {
    "duration": 323,
    "start_time": "2022-11-29T09:25:59.507Z"
   },
   {
    "duration": 34971,
    "start_time": "2022-11-29T09:25:59.833Z"
   },
   {
    "duration": 16,
    "start_time": "2022-11-29T09:26:34.808Z"
   },
   {
    "duration": 13003,
    "start_time": "2022-11-29T09:29:51.174Z"
   },
   {
    "duration": 9,
    "start_time": "2022-11-29T09:30:04.179Z"
   },
   {
    "duration": 7,
    "start_time": "2022-11-29T09:34:50.620Z"
   },
   {
    "duration": 1512,
    "start_time": "2022-11-29T09:35:29.980Z"
   },
   {
    "duration": 87,
    "start_time": "2022-11-29T09:36:04.973Z"
   },
   {
    "duration": 10,
    "start_time": "2022-11-29T09:36:09.245Z"
   },
   {
    "duration": 11,
    "start_time": "2022-11-29T09:39:34.940Z"
   },
   {
    "duration": 12,
    "start_time": "2022-11-29T09:39:37.329Z"
   },
   {
    "duration": 7,
    "start_time": "2022-11-29T09:40:51.995Z"
   },
   {
    "duration": 9,
    "start_time": "2022-11-29T09:41:18.139Z"
   },
   {
    "duration": 15,
    "start_time": "2022-11-29T09:41:31.987Z"
   },
   {
    "duration": 10,
    "start_time": "2022-11-29T09:41:37.508Z"
   },
   {
    "duration": 7,
    "start_time": "2022-11-29T09:42:08.797Z"
   },
   {
    "duration": 8,
    "start_time": "2022-11-29T09:43:00.998Z"
   },
   {
    "duration": 9,
    "start_time": "2022-11-29T09:43:53.697Z"
   },
   {
    "duration": 8,
    "start_time": "2022-11-29T09:43:58.276Z"
   },
   {
    "duration": 7,
    "start_time": "2022-11-29T09:44:04.055Z"
   },
   {
    "duration": 5,
    "start_time": "2022-11-29T09:48:26.852Z"
   },
   {
    "duration": 68,
    "start_time": "2022-11-29T09:50:22.717Z"
   },
   {
    "duration": 26,
    "start_time": "2022-11-29T09:50:27.574Z"
   },
   {
    "duration": 4,
    "start_time": "2022-11-29T09:51:39.352Z"
   },
   {
    "duration": 36,
    "start_time": "2022-11-29T09:51:42.440Z"
   },
   {
    "duration": 9,
    "start_time": "2022-11-29T09:53:46.866Z"
   },
   {
    "duration": 7,
    "start_time": "2022-11-29T09:54:56.347Z"
   },
   {
    "duration": 5,
    "start_time": "2022-11-29T10:01:52.676Z"
   },
   {
    "duration": 14,
    "start_time": "2022-11-29T10:12:39.728Z"
   },
   {
    "duration": 5,
    "start_time": "2022-11-29T10:13:11.193Z"
   },
   {
    "duration": 6,
    "start_time": "2022-11-29T10:13:19.187Z"
   },
   {
    "duration": 7,
    "start_time": "2022-11-29T10:13:37.689Z"
   },
   {
    "duration": 5,
    "start_time": "2022-11-29T10:14:20.787Z"
   },
   {
    "duration": 404,
    "start_time": "2022-11-29T10:14:33.825Z"
   },
   {
    "duration": 4,
    "start_time": "2022-11-29T10:14:34.231Z"
   },
   {
    "duration": 98,
    "start_time": "2022-11-29T10:14:34.236Z"
   },
   {
    "duration": 26,
    "start_time": "2022-11-29T10:14:34.336Z"
   },
   {
    "duration": 16,
    "start_time": "2022-11-29T10:14:34.484Z"
   },
   {
    "duration": 7,
    "start_time": "2022-11-29T10:14:37.456Z"
   },
   {
    "duration": 14,
    "start_time": "2022-11-29T10:14:38.638Z"
   },
   {
    "duration": 13,
    "start_time": "2022-11-29T10:14:38.988Z"
   },
   {
    "duration": 10,
    "start_time": "2022-11-29T10:14:42.477Z"
   },
   {
    "duration": 5,
    "start_time": "2022-11-29T10:14:43.448Z"
   },
   {
    "duration": 6,
    "start_time": "2022-11-29T10:14:45.849Z"
   },
   {
    "duration": 7,
    "start_time": "2022-11-29T10:14:46.334Z"
   },
   {
    "duration": 20,
    "start_time": "2022-11-29T10:14:47.297Z"
   },
   {
    "duration": 10,
    "start_time": "2022-11-29T10:14:56.086Z"
   },
   {
    "duration": 319,
    "start_time": "2022-11-29T10:14:57.789Z"
   },
   {
    "duration": 13,
    "start_time": "2022-11-29T10:15:01.553Z"
   },
   {
    "duration": 5,
    "start_time": "2022-11-29T10:15:02.032Z"
   },
   {
    "duration": 7,
    "start_time": "2022-11-29T10:15:03.184Z"
   },
   {
    "duration": 7,
    "start_time": "2022-11-29T10:15:16.186Z"
   },
   {
    "duration": 5,
    "start_time": "2022-11-29T10:15:17.893Z"
   },
   {
    "duration": 7,
    "start_time": "2022-11-29T10:15:18.242Z"
   },
   {
    "duration": 7,
    "start_time": "2022-11-29T10:15:24.589Z"
   },
   {
    "duration": 30,
    "start_time": "2022-11-29T10:17:52.573Z"
   },
   {
    "duration": 30,
    "start_time": "2022-11-29T10:18:48.271Z"
   },
   {
    "duration": 35,
    "start_time": "2022-11-29T10:20:38.011Z"
   },
   {
    "duration": 46,
    "start_time": "2022-11-29T10:20:48.073Z"
   },
   {
    "duration": 7,
    "start_time": "2022-11-29T10:27:10.152Z"
   },
   {
    "duration": 38883,
    "start_time": "2022-11-29T10:27:23.144Z"
   },
   {
    "duration": 8,
    "start_time": "2022-11-29T10:28:02.029Z"
   },
   {
    "duration": 26,
    "start_time": "2022-11-29T10:28:16.401Z"
   },
   {
    "duration": 7,
    "start_time": "2022-11-29T10:28:39.422Z"
   },
   {
    "duration": 6,
    "start_time": "2022-11-29T10:36:40.275Z"
   },
   {
    "duration": 1015,
    "start_time": "2022-11-29T10:36:54.737Z"
   },
   {
    "duration": 7,
    "start_time": "2022-11-29T10:37:05.699Z"
   },
   {
    "duration": 6,
    "start_time": "2022-11-29T10:37:17.067Z"
   },
   {
    "duration": 8,
    "start_time": "2022-11-29T10:37:43.092Z"
   },
   {
    "duration": 12,
    "start_time": "2022-11-29T10:37:53.324Z"
   },
   {
    "duration": 9,
    "start_time": "2022-11-29T10:37:56.268Z"
   },
   {
    "duration": 20,
    "start_time": "2022-11-29T10:38:16.914Z"
   },
   {
    "duration": 10,
    "start_time": "2022-11-29T10:39:17.121Z"
   },
   {
    "duration": 8,
    "start_time": "2022-11-29T10:39:37.542Z"
   },
   {
    "duration": 9,
    "start_time": "2022-11-29T10:40:09.194Z"
   },
   {
    "duration": 7,
    "start_time": "2022-11-29T10:40:17.799Z"
   },
   {
    "duration": 4,
    "start_time": "2022-11-29T10:41:01.328Z"
   },
   {
    "duration": 5,
    "start_time": "2022-11-29T10:41:03.687Z"
   },
   {
    "duration": 7,
    "start_time": "2022-11-29T10:41:08.840Z"
   },
   {
    "duration": 5,
    "start_time": "2022-11-29T10:41:20.088Z"
   },
   {
    "duration": 11,
    "start_time": "2022-11-29T10:41:23.904Z"
   },
   {
    "duration": 7,
    "start_time": "2022-11-29T10:42:20.297Z"
   },
   {
    "duration": 8,
    "start_time": "2022-11-29T10:42:27.441Z"
   },
   {
    "duration": 13,
    "start_time": "2022-11-29T10:42:57.553Z"
   },
   {
    "duration": 9,
    "start_time": "2022-11-29T10:43:01.786Z"
   },
   {
    "duration": 7,
    "start_time": "2022-11-29T10:43:07.162Z"
   },
   {
    "duration": 5,
    "start_time": "2022-11-29T10:43:12.498Z"
   },
   {
    "duration": 9,
    "start_time": "2022-11-29T10:43:21.634Z"
   },
   {
    "duration": 8,
    "start_time": "2022-11-29T10:43:32.478Z"
   },
   {
    "duration": 37306,
    "start_time": "2022-11-29T10:43:43.378Z"
   },
   {
    "duration": 9,
    "start_time": "2022-11-29T10:44:27.843Z"
   },
   {
    "duration": 16,
    "start_time": "2022-11-29T10:44:33.220Z"
   },
   {
    "duration": 7,
    "start_time": "2022-11-29T10:44:36.355Z"
   },
   {
    "duration": 6,
    "start_time": "2022-11-29T10:44:40.468Z"
   },
   {
    "duration": 657,
    "start_time": "2022-11-29T10:47:12.070Z"
   },
   {
    "duration": 28,
    "start_time": "2022-11-29T10:47:26.687Z"
   },
   {
    "duration": 24,
    "start_time": "2022-11-29T10:47:40.217Z"
   },
   {
    "duration": 343,
    "start_time": "2022-11-29T10:55:39.059Z"
   },
   {
    "duration": 2,
    "start_time": "2022-11-29T10:55:39.537Z"
   },
   {
    "duration": 52,
    "start_time": "2022-11-29T10:55:39.910Z"
   },
   {
    "duration": 26,
    "start_time": "2022-11-29T10:55:40.404Z"
   },
   {
    "duration": 16,
    "start_time": "2022-11-29T10:55:40.800Z"
   },
   {
    "duration": 5,
    "start_time": "2022-11-29T10:55:48.825Z"
   },
   {
    "duration": 14,
    "start_time": "2022-11-29T10:55:55.927Z"
   },
   {
    "duration": 15,
    "start_time": "2022-11-29T10:55:56.178Z"
   },
   {
    "duration": 10,
    "start_time": "2022-11-29T10:56:04.162Z"
   },
   {
    "duration": 5,
    "start_time": "2022-11-29T10:56:11.856Z"
   },
   {
    "duration": 5,
    "start_time": "2022-11-29T10:56:12.274Z"
   },
   {
    "duration": 13,
    "start_time": "2022-11-29T10:56:12.889Z"
   },
   {
    "duration": 10,
    "start_time": "2022-11-29T10:56:23.973Z"
   },
   {
    "duration": 291,
    "start_time": "2022-11-29T10:56:25.303Z"
   },
   {
    "duration": 11,
    "start_time": "2022-11-29T10:56:30.287Z"
   },
   {
    "duration": 7,
    "start_time": "2022-11-29T10:56:33.372Z"
   },
   {
    "duration": 9,
    "start_time": "2022-11-29T10:56:34.259Z"
   },
   {
    "duration": 10,
    "start_time": "2022-11-29T11:20:15.741Z"
   },
   {
    "duration": 6,
    "start_time": "2022-11-29T11:20:17.036Z"
   },
   {
    "duration": 15,
    "start_time": "2022-11-29T11:21:12.573Z"
   },
   {
    "duration": 6,
    "start_time": "2022-11-29T11:23:19.111Z"
   },
   {
    "duration": 8,
    "start_time": "2022-11-29T11:23:20.568Z"
   },
   {
    "duration": 16,
    "start_time": "2022-11-29T11:23:26.952Z"
   },
   {
    "duration": 5,
    "start_time": "2022-11-29T11:23:28.200Z"
   },
   {
    "duration": 85,
    "start_time": "2022-11-29T11:32:59.450Z"
   },
   {
    "duration": 35,
    "start_time": "2022-11-29T11:33:12.531Z"
   },
   {
    "duration": 98,
    "start_time": "2022-11-29T11:33:16.388Z"
   },
   {
    "duration": 615,
    "start_time": "2022-11-29T11:33:19.058Z"
   },
   {
    "duration": 7,
    "start_time": "2022-11-29T11:33:46.285Z"
   },
   {
    "duration": 4,
    "start_time": "2022-11-29T11:34:28.276Z"
   },
   {
    "duration": 4,
    "start_time": "2022-11-29T11:34:52.175Z"
   },
   {
    "duration": 4,
    "start_time": "2022-11-29T11:34:56.485Z"
   },
   {
    "duration": 9,
    "start_time": "2022-11-29T11:35:07.310Z"
   },
   {
    "duration": 5,
    "start_time": "2022-11-29T11:35:18.277Z"
   },
   {
    "duration": 5,
    "start_time": "2022-11-29T11:35:19.701Z"
   },
   {
    "duration": 29,
    "start_time": "2022-11-29T11:35:34.134Z"
   },
   {
    "duration": 52,
    "start_time": "2022-11-29T15:30:30.770Z"
   },
   {
    "duration": 8,
    "start_time": "2022-11-29T15:30:38.680Z"
   },
   {
    "duration": 406,
    "start_time": "2022-11-29T15:30:55.032Z"
   },
   {
    "duration": 3,
    "start_time": "2022-11-29T15:30:55.439Z"
   },
   {
    "duration": 89,
    "start_time": "2022-11-29T15:30:55.583Z"
   },
   {
    "duration": 26,
    "start_time": "2022-11-29T15:30:55.748Z"
   },
   {
    "duration": 16,
    "start_time": "2022-11-29T15:30:55.929Z"
   },
   {
    "duration": 5,
    "start_time": "2022-11-29T15:30:57.649Z"
   },
   {
    "duration": 15,
    "start_time": "2022-11-29T15:30:58.967Z"
   },
   {
    "duration": 14,
    "start_time": "2022-11-29T15:30:59.143Z"
   },
   {
    "duration": 10,
    "start_time": "2022-11-29T15:31:01.519Z"
   },
   {
    "duration": 7,
    "start_time": "2022-11-29T15:31:02.649Z"
   },
   {
    "duration": 72,
    "start_time": "2022-11-29T15:31:03.440Z"
   },
   {
    "duration": 9,
    "start_time": "2022-11-29T15:36:43.040Z"
   },
   {
    "duration": 14,
    "start_time": "2022-11-29T15:36:46.181Z"
   },
   {
    "duration": 452,
    "start_time": "2022-11-29T15:37:32.004Z"
   },
   {
    "duration": 3,
    "start_time": "2022-11-29T15:37:32.459Z"
   },
   {
    "duration": 71,
    "start_time": "2022-11-29T15:37:32.463Z"
   },
   {
    "duration": 26,
    "start_time": "2022-11-29T15:37:32.915Z"
   },
   {
    "duration": 17,
    "start_time": "2022-11-29T15:37:33.534Z"
   },
   {
    "duration": 5,
    "start_time": "2022-11-29T15:37:34.097Z"
   },
   {
    "duration": 14,
    "start_time": "2022-11-29T15:37:35.239Z"
   },
   {
    "duration": 15,
    "start_time": "2022-11-29T15:37:35.412Z"
   },
   {
    "duration": 12,
    "start_time": "2022-11-29T15:37:38.383Z"
   },
   {
    "duration": 5,
    "start_time": "2022-11-29T15:37:39.108Z"
   },
   {
    "duration": 7,
    "start_time": "2022-11-29T15:37:39.696Z"
   },
   {
    "duration": 14,
    "start_time": "2022-11-29T15:37:41.868Z"
   },
   {
    "duration": 13,
    "start_time": "2022-11-29T15:38:51.627Z"
   },
   {
    "duration": 422,
    "start_time": "2022-11-29T15:42:48.764Z"
   },
   {
    "duration": 4,
    "start_time": "2022-11-29T15:42:49.189Z"
   },
   {
    "duration": 88,
    "start_time": "2022-11-29T15:42:49.194Z"
   },
   {
    "duration": 27,
    "start_time": "2022-11-29T15:42:49.284Z"
   },
   {
    "duration": 14,
    "start_time": "2022-11-29T15:42:49.412Z"
   },
   {
    "duration": 5,
    "start_time": "2022-11-29T15:42:50.361Z"
   },
   {
    "duration": 15,
    "start_time": "2022-11-29T15:42:53.603Z"
   },
   {
    "duration": 13,
    "start_time": "2022-11-29T15:42:53.752Z"
   },
   {
    "duration": 5,
    "start_time": "2022-11-29T15:42:56.149Z"
   },
   {
    "duration": 6,
    "start_time": "2022-11-29T15:42:56.743Z"
   },
   {
    "duration": 5,
    "start_time": "2022-11-29T15:42:59.059Z"
   },
   {
    "duration": 6,
    "start_time": "2022-11-29T15:43:11.404Z"
   },
   {
    "duration": 7,
    "start_time": "2022-11-29T15:43:22.173Z"
   },
   {
    "duration": 14,
    "start_time": "2022-11-29T15:43:23.237Z"
   },
   {
    "duration": 5,
    "start_time": "2022-11-29T15:43:49.429Z"
   },
   {
    "duration": 9,
    "start_time": "2022-11-29T15:44:58.397Z"
   },
   {
    "duration": 447,
    "start_time": "2022-11-29T15:44:58.553Z"
   },
   {
    "duration": 12,
    "start_time": "2022-11-29T15:44:59.504Z"
   },
   {
    "duration": 6,
    "start_time": "2022-11-29T15:45:00.861Z"
   },
   {
    "duration": 7,
    "start_time": "2022-11-29T15:45:01.355Z"
   },
   {
    "duration": 8,
    "start_time": "2022-11-29T15:45:04.467Z"
   },
   {
    "duration": 14,
    "start_time": "2022-11-29T15:45:06.482Z"
   },
   {
    "duration": 5,
    "start_time": "2022-11-29T15:45:07.195Z"
   },
   {
    "duration": 23,
    "start_time": "2022-11-29T15:51:58.774Z"
   },
   {
    "duration": 22,
    "start_time": "2022-11-29T15:52:26.673Z"
   },
   {
    "duration": 5,
    "start_time": "2022-11-29T15:53:28.032Z"
   },
   {
    "duration": 33,
    "start_time": "2022-11-29T15:53:52.848Z"
   },
   {
    "duration": 31,
    "start_time": "2022-11-29T15:54:03.336Z"
   },
   {
    "duration": 43,
    "start_time": "2022-11-29T15:54:52.570Z"
   },
   {
    "duration": 38,
    "start_time": "2022-11-29T15:55:18.259Z"
   },
   {
    "duration": 108,
    "start_time": "2022-11-29T16:06:09.005Z"
   },
   {
    "duration": 7,
    "start_time": "2022-11-29T16:06:17.566Z"
   },
   {
    "duration": 5,
    "start_time": "2022-11-29T16:06:36.582Z"
   },
   {
    "duration": 8,
    "start_time": "2022-11-29T16:37:36.737Z"
   },
   {
    "duration": 13,
    "start_time": "2022-11-29T16:37:40.608Z"
   },
   {
    "duration": 444,
    "start_time": "2022-11-29T16:37:50.535Z"
   },
   {
    "duration": 4,
    "start_time": "2022-11-29T16:37:50.981Z"
   },
   {
    "duration": 82,
    "start_time": "2022-11-29T16:37:50.987Z"
   },
   {
    "duration": 39,
    "start_time": "2022-11-29T16:37:51.072Z"
   },
   {
    "duration": 20,
    "start_time": "2022-11-29T16:37:51.143Z"
   },
   {
    "duration": 6,
    "start_time": "2022-11-29T16:37:51.622Z"
   },
   {
    "duration": 18,
    "start_time": "2022-11-29T16:37:52.526Z"
   },
   {
    "duration": 18,
    "start_time": "2022-11-29T16:37:52.666Z"
   },
   {
    "duration": 5,
    "start_time": "2022-11-29T16:37:53.008Z"
   },
   {
    "duration": 5,
    "start_time": "2022-11-29T16:37:54.576Z"
   },
   {
    "duration": 6,
    "start_time": "2022-11-29T16:37:54.740Z"
   },
   {
    "duration": 8,
    "start_time": "2022-11-29T16:37:55.925Z"
   },
   {
    "duration": 14,
    "start_time": "2022-11-29T16:37:59.124Z"
   },
   {
    "duration": 9,
    "start_time": "2022-11-29T16:38:14.788Z"
   },
   {
    "duration": 16,
    "start_time": "2022-11-29T16:38:16.207Z"
   },
   {
    "duration": 5,
    "start_time": "2022-11-29T16:38:47.514Z"
   },
   {
    "duration": 9,
    "start_time": "2022-11-29T16:39:19.965Z"
   },
   {
    "duration": 376,
    "start_time": "2022-11-29T16:39:22.449Z"
   },
   {
    "duration": 11,
    "start_time": "2022-11-29T16:39:30.616Z"
   },
   {
    "duration": 5,
    "start_time": "2022-11-29T16:39:30.869Z"
   },
   {
    "duration": 7,
    "start_time": "2022-11-29T16:39:31.085Z"
   },
   {
    "duration": 8,
    "start_time": "2022-11-29T16:39:32.050Z"
   },
   {
    "duration": 21,
    "start_time": "2022-11-29T16:39:32.482Z"
   },
   {
    "duration": 5,
    "start_time": "2022-11-29T16:39:33.169Z"
   },
   {
    "duration": 4,
    "start_time": "2022-11-29T16:39:35.105Z"
   },
   {
    "duration": 2,
    "start_time": "2022-11-29T16:45:59.891Z"
   },
   {
    "duration": 18,
    "start_time": "2022-11-29T16:46:50.691Z"
   },
   {
    "duration": 13,
    "start_time": "2022-11-29T16:46:55.580Z"
   },
   {
    "duration": 6,
    "start_time": "2022-11-29T16:48:01.775Z"
   },
   {
    "duration": 6,
    "start_time": "2022-11-29T16:48:10.508Z"
   },
   {
    "duration": 6,
    "start_time": "2022-11-29T16:49:40.478Z"
   },
   {
    "duration": 6,
    "start_time": "2022-11-29T16:49:46.358Z"
   },
   {
    "duration": 5,
    "start_time": "2022-11-29T16:51:01.272Z"
   },
   {
    "duration": 4,
    "start_time": "2022-11-29T16:51:06.217Z"
   },
   {
    "duration": 8,
    "start_time": "2022-11-29T16:51:12.481Z"
   },
   {
    "duration": 69,
    "start_time": "2022-11-29T16:51:17.977Z"
   },
   {
    "duration": 10,
    "start_time": "2022-11-29T16:51:21.400Z"
   },
   {
    "duration": 7,
    "start_time": "2022-11-29T16:51:28.337Z"
   },
   {
    "duration": 6,
    "start_time": "2022-11-29T16:51:35.328Z"
   },
   {
    "duration": 6,
    "start_time": "2022-11-29T16:51:44.417Z"
   },
   {
    "duration": 5,
    "start_time": "2022-11-29T16:53:30.827Z"
   },
   {
    "duration": 9,
    "start_time": "2022-11-29T16:53:47.778Z"
   },
   {
    "duration": 9,
    "start_time": "2022-11-29T16:53:51.234Z"
   },
   {
    "duration": 8,
    "start_time": "2022-11-29T16:53:54.091Z"
   },
   {
    "duration": 6,
    "start_time": "2022-11-29T16:54:01.227Z"
   },
   {
    "duration": 43,
    "start_time": "2022-11-29T16:56:34.824Z"
   },
   {
    "duration": 5,
    "start_time": "2022-11-29T17:02:58.597Z"
   },
   {
    "duration": 19,
    "start_time": "2022-11-29T17:03:06.797Z"
   },
   {
    "duration": 45,
    "start_time": "2022-11-29T17:04:45.304Z"
   },
   {
    "duration": 20,
    "start_time": "2022-11-29T17:10:41.988Z"
   },
   {
    "duration": 12,
    "start_time": "2022-11-29T17:13:11.929Z"
   },
   {
    "duration": 6,
    "start_time": "2022-11-29T17:13:27.233Z"
   },
   {
    "duration": 13,
    "start_time": "2022-11-29T17:13:30.489Z"
   },
   {
    "duration": 43,
    "start_time": "2022-11-29T17:13:43.762Z"
   },
   {
    "duration": 4,
    "start_time": "2022-11-29T17:17:06.982Z"
   },
   {
    "duration": 4,
    "start_time": "2022-11-29T17:23:10.284Z"
   },
   {
    "duration": 10,
    "start_time": "2022-11-29T17:23:46.109Z"
   },
   {
    "duration": 7,
    "start_time": "2022-11-29T17:23:50.197Z"
   },
   {
    "duration": 6,
    "start_time": "2022-11-29T17:24:03.109Z"
   },
   {
    "duration": 11,
    "start_time": "2022-11-29T17:25:18.167Z"
   },
   {
    "duration": 17,
    "start_time": "2022-11-29T17:26:49.105Z"
   },
   {
    "duration": 13,
    "start_time": "2022-11-29T17:26:55.534Z"
   },
   {
    "duration": 12,
    "start_time": "2022-11-29T17:30:20.092Z"
   },
   {
    "duration": 13,
    "start_time": "2022-11-29T17:30:28.237Z"
   },
   {
    "duration": 11,
    "start_time": "2022-11-29T17:31:30.094Z"
   },
   {
    "duration": 19,
    "start_time": "2022-11-29T17:31:40.678Z"
   },
   {
    "duration": 4,
    "start_time": "2022-11-29T17:37:00.676Z"
   },
   {
    "duration": 62,
    "start_time": "2022-11-29T17:47:46.984Z"
   },
   {
    "duration": 50,
    "start_time": "2022-11-29T17:48:00.503Z"
   },
   {
    "duration": 12,
    "start_time": "2022-11-29T17:48:27.255Z"
   },
   {
    "duration": 844,
    "start_time": "2022-11-29T17:48:40.696Z"
   },
   {
    "duration": 63,
    "start_time": "2022-11-29T17:56:34.504Z"
   },
   {
    "duration": 58,
    "start_time": "2022-11-29T17:56:50.061Z"
   },
   {
    "duration": 19,
    "start_time": "2022-11-29T17:57:06.363Z"
   },
   {
    "duration": 53,
    "start_time": "2022-11-29T17:57:22.730Z"
   },
   {
    "duration": 1088,
    "start_time": "2022-11-29T18:01:01.575Z"
   },
   {
    "duration": 64,
    "start_time": "2022-11-29T18:04:17.401Z"
   },
   {
    "duration": 7,
    "start_time": "2022-11-29T18:24:43.130Z"
   },
   {
    "duration": 9,
    "start_time": "2022-11-29T18:24:49.274Z"
   },
   {
    "duration": 21,
    "start_time": "2022-11-29T18:24:57.082Z"
   },
   {
    "duration": 13,
    "start_time": "2022-11-29T18:25:16.561Z"
   },
   {
    "duration": 18,
    "start_time": "2022-11-29T18:25:26.650Z"
   },
   {
    "duration": 597,
    "start_time": "2022-11-29T18:28:49.815Z"
   },
   {
    "duration": 45,
    "start_time": "2022-11-29T18:30:37.512Z"
   },
   {
    "duration": 23,
    "start_time": "2022-11-29T18:30:42.571Z"
   },
   {
    "duration": 19,
    "start_time": "2022-11-29T18:30:44.424Z"
   },
   {
    "duration": 54,
    "start_time": "2022-11-29T18:30:55.553Z"
   },
   {
    "duration": 54,
    "start_time": "2022-11-29T18:31:06.253Z"
   },
   {
    "duration": 14,
    "start_time": "2022-11-29T18:31:40.642Z"
   },
   {
    "duration": 20,
    "start_time": "2022-11-29T18:31:42.273Z"
   },
   {
    "duration": 54,
    "start_time": "2022-11-29T18:31:56.554Z"
   },
   {
    "duration": 80,
    "start_time": "2022-11-29T18:33:12.437Z"
   },
   {
    "duration": 55,
    "start_time": "2022-11-29T18:33:18.325Z"
   },
   {
    "duration": 57,
    "start_time": "2022-11-29T18:33:40.445Z"
   },
   {
    "duration": 216,
    "start_time": "2022-11-29T18:34:55.807Z"
   },
   {
    "duration": 390,
    "start_time": "2022-11-29T18:35:02.896Z"
   },
   {
    "duration": 216,
    "start_time": "2022-11-29T18:35:26.014Z"
   },
   {
    "duration": 16,
    "start_time": "2022-11-29T18:35:33.357Z"
   },
   {
    "duration": 19,
    "start_time": "2022-11-29T18:35:41.974Z"
   },
   {
    "duration": 15,
    "start_time": "2022-11-29T18:35:45.101Z"
   },
   {
    "duration": 14,
    "start_time": "2022-11-29T18:35:55.982Z"
   },
   {
    "duration": 14,
    "start_time": "2022-11-29T18:36:00.383Z"
   },
   {
    "duration": 14,
    "start_time": "2022-11-29T18:36:28.205Z"
   },
   {
    "duration": 79,
    "start_time": "2022-11-29T18:36:28.676Z"
   },
   {
    "duration": 16,
    "start_time": "2022-11-29T18:36:36.575Z"
   },
   {
    "duration": 440,
    "start_time": "2022-11-29T18:37:31.017Z"
   },
   {
    "duration": 21,
    "start_time": "2022-11-29T18:37:59.992Z"
   },
   {
    "duration": 5,
    "start_time": "2022-11-29T18:38:42.226Z"
   },
   {
    "duration": 11,
    "start_time": "2022-11-29T18:38:54.441Z"
   },
   {
    "duration": 58,
    "start_time": "2022-11-29T18:39:04.386Z"
   },
   {
    "duration": 84,
    "start_time": "2022-11-29T18:39:15.916Z"
   },
   {
    "duration": 14,
    "start_time": "2022-11-29T18:39:29.756Z"
   },
   {
    "duration": 58,
    "start_time": "2022-11-29T18:39:33.491Z"
   },
   {
    "duration": 19,
    "start_time": "2022-11-29T18:39:42.803Z"
   },
   {
    "duration": 15,
    "start_time": "2022-11-29T18:39:48.394Z"
   },
   {
    "duration": 16,
    "start_time": "2022-11-29T18:40:06.363Z"
   },
   {
    "duration": 14,
    "start_time": "2022-11-29T18:40:24.875Z"
   },
   {
    "duration": 56,
    "start_time": "2022-11-29T18:40:27.419Z"
   },
   {
    "duration": 59,
    "start_time": "2022-11-29T18:40:39.598Z"
   },
   {
    "duration": 57,
    "start_time": "2022-11-29T18:40:49.637Z"
   },
   {
    "duration": 58,
    "start_time": "2022-11-29T18:41:13.373Z"
   },
   {
    "duration": 58,
    "start_time": "2022-11-29T18:41:26.990Z"
   },
   {
    "duration": 20,
    "start_time": "2022-11-29T18:42:14.287Z"
   },
   {
    "duration": 56,
    "start_time": "2022-11-29T18:42:45.918Z"
   },
   {
    "duration": 529,
    "start_time": "2022-11-29T18:42:48.862Z"
   },
   {
    "duration": 53,
    "start_time": "2022-11-29T18:50:03.208Z"
   },
   {
    "duration": 503,
    "start_time": "2022-11-29T18:50:09.894Z"
   },
   {
    "duration": 18,
    "start_time": "2022-11-29T18:50:35.609Z"
   },
   {
    "duration": 55,
    "start_time": "2022-11-29T18:50:47.248Z"
   },
   {
    "duration": 16,
    "start_time": "2022-11-29T18:50:58.201Z"
   },
   {
    "duration": 16,
    "start_time": "2022-11-29T18:51:34.824Z"
   },
   {
    "duration": 17,
    "start_time": "2022-11-29T18:56:31.695Z"
   },
   {
    "duration": 13,
    "start_time": "2022-11-29T18:56:34.999Z"
   },
   {
    "duration": 55,
    "start_time": "2022-11-29T19:00:17.634Z"
   },
   {
    "duration": 17,
    "start_time": "2022-11-29T19:00:30.366Z"
   },
   {
    "duration": 15,
    "start_time": "2022-11-29T19:00:40.444Z"
   },
   {
    "duration": 12,
    "start_time": "2022-11-29T19:03:14.030Z"
   },
   {
    "duration": 54,
    "start_time": "2022-11-29T19:03:23.230Z"
   },
   {
    "duration": 3,
    "start_time": "2022-11-29T19:04:02.015Z"
   },
   {
    "duration": 7,
    "start_time": "2022-11-29T19:04:06.254Z"
   },
   {
    "duration": 14,
    "start_time": "2022-11-29T19:04:21.666Z"
   },
   {
    "duration": 10,
    "start_time": "2022-11-29T19:04:38.768Z"
   },
   {
    "duration": 11,
    "start_time": "2022-11-29T19:04:41.799Z"
   },
   {
    "duration": 7,
    "start_time": "2022-11-29T19:04:48.175Z"
   },
   {
    "duration": 6,
    "start_time": "2022-11-29T19:05:01.943Z"
   },
   {
    "duration": 6,
    "start_time": "2022-11-29T19:05:20.601Z"
   },
   {
    "duration": 6,
    "start_time": "2022-11-29T19:05:30.425Z"
   },
   {
    "duration": 8,
    "start_time": "2022-11-29T19:06:35.865Z"
   },
   {
    "duration": 6,
    "start_time": "2022-11-29T19:06:41.594Z"
   },
   {
    "duration": 140,
    "start_time": "2022-11-29T19:08:26.548Z"
   },
   {
    "duration": 114,
    "start_time": "2022-11-29T19:08:47.757Z"
   },
   {
    "duration": 445,
    "start_time": "2022-11-29T19:09:05.981Z"
   },
   {
    "duration": 35,
    "start_time": "2022-11-29T19:09:48.037Z"
   },
   {
    "duration": 533,
    "start_time": "2022-11-29T19:09:56.573Z"
   },
   {
    "duration": 3,
    "start_time": "2022-11-29T19:11:01.695Z"
   },
   {
    "duration": 20,
    "start_time": "2022-11-29T19:11:29.160Z"
   },
   {
    "duration": 20,
    "start_time": "2022-11-29T19:11:37.496Z"
   },
   {
    "duration": 26,
    "start_time": "2022-11-29T19:11:40.216Z"
   },
   {
    "duration": 20,
    "start_time": "2022-11-29T19:11:43.488Z"
   },
   {
    "duration": 20,
    "start_time": "2022-11-29T19:11:49.584Z"
   },
   {
    "duration": 389,
    "start_time": "2022-11-29T19:12:17.426Z"
   },
   {
    "duration": 477,
    "start_time": "2022-11-29T19:12:23.833Z"
   },
   {
    "duration": 71,
    "start_time": "2022-11-29T19:12:31.554Z"
   },
   {
    "duration": 543,
    "start_time": "2022-11-29T19:12:34.873Z"
   },
   {
    "duration": 484,
    "start_time": "2022-11-29T19:12:43.817Z"
   },
   {
    "duration": 719,
    "start_time": "2022-11-29T19:15:56.053Z"
   },
   {
    "duration": 515,
    "start_time": "2022-11-29T19:16:06.245Z"
   },
   {
    "duration": 514,
    "start_time": "2022-11-29T19:16:58.661Z"
   },
   {
    "duration": 14,
    "start_time": "2022-11-29T19:19:11.688Z"
   },
   {
    "duration": 138,
    "start_time": "2022-11-29T19:19:18.512Z"
   },
   {
    "duration": 149,
    "start_time": "2022-11-29T19:19:41.009Z"
   },
   {
    "duration": 170,
    "start_time": "2022-11-29T19:20:03.889Z"
   },
   {
    "duration": 191,
    "start_time": "2022-11-29T19:20:15.169Z"
   },
   {
    "duration": 297,
    "start_time": "2022-11-29T19:20:20.434Z"
   },
   {
    "duration": 189,
    "start_time": "2022-11-29T19:20:24.377Z"
   },
   {
    "duration": 180,
    "start_time": "2022-11-29T19:20:26.914Z"
   },
   {
    "duration": 46,
    "start_time": "2022-11-29T19:21:42.050Z"
   },
   {
    "duration": 54,
    "start_time": "2022-11-29T19:21:49.835Z"
   },
   {
    "duration": 171,
    "start_time": "2022-11-29T19:22:25.140Z"
   },
   {
    "duration": 57,
    "start_time": "2022-11-29T19:22:54.669Z"
   },
   {
    "duration": 51,
    "start_time": "2022-11-29T19:22:58.476Z"
   },
   {
    "duration": 44,
    "start_time": "2022-11-29T19:23:02.942Z"
   },
   {
    "duration": 48,
    "start_time": "2022-11-29T19:23:14.925Z"
   },
   {
    "duration": 177,
    "start_time": "2022-11-29T19:23:19.332Z"
   },
   {
    "duration": 16,
    "start_time": "2022-11-29T19:24:06.350Z"
   },
   {
    "duration": 3,
    "start_time": "2022-11-29T19:24:20.149Z"
   },
   {
    "duration": 15,
    "start_time": "2022-11-29T19:24:26.126Z"
   },
   {
    "duration": 228,
    "start_time": "2022-11-29T19:25:05.262Z"
   },
   {
    "duration": 178,
    "start_time": "2022-11-29T19:26:44.336Z"
   },
   {
    "duration": 183,
    "start_time": "2022-11-29T19:26:59.633Z"
   },
   {
    "duration": 172,
    "start_time": "2022-11-29T19:27:10.633Z"
   },
   {
    "duration": 158,
    "start_time": "2022-11-29T19:28:08.466Z"
   },
   {
    "duration": 152,
    "start_time": "2022-11-29T19:28:35.147Z"
   },
   {
    "duration": 136,
    "start_time": "2022-11-29T19:28:48.106Z"
   },
   {
    "duration": 14,
    "start_time": "2022-11-29T19:29:03.083Z"
   },
   {
    "duration": 14,
    "start_time": "2022-11-29T19:34:58.714Z"
   },
   {
    "duration": 160,
    "start_time": "2022-11-29T19:35:10.609Z"
   },
   {
    "duration": 13,
    "start_time": "2022-11-29T19:35:51.498Z"
   },
   {
    "duration": 196,
    "start_time": "2022-11-29T19:35:55.994Z"
   },
   {
    "duration": 16,
    "start_time": "2022-11-29T19:39:10.026Z"
   },
   {
    "duration": 176,
    "start_time": "2022-11-29T19:39:20.157Z"
   },
   {
    "duration": 52,
    "start_time": "2022-11-29T19:55:53.057Z"
   },
   {
    "duration": 8,
    "start_time": "2022-11-29T19:55:54.991Z"
   },
   {
    "duration": 717,
    "start_time": "2022-11-29T20:06:20.388Z"
   },
   {
    "duration": 766,
    "start_time": "2022-11-29T20:06:31.980Z"
   },
   {
    "duration": 15,
    "start_time": "2022-11-29T20:06:38.036Z"
   },
   {
    "duration": 469,
    "start_time": "2022-11-29T20:06:59.501Z"
   },
   {
    "duration": 23,
    "start_time": "2022-11-29T20:10:29.226Z"
   },
   {
    "duration": 48,
    "start_time": "2022-11-29T20:10:51.698Z"
   },
   {
    "duration": 587,
    "start_time": "2022-11-29T20:11:05.778Z"
   },
   {
    "duration": 51,
    "start_time": "2022-11-29T20:13:02.348Z"
   },
   {
    "duration": 404,
    "start_time": "2022-11-29T20:13:14.611Z"
   },
   {
    "duration": 48,
    "start_time": "2022-11-29T20:14:37.549Z"
   },
   {
    "duration": 81,
    "start_time": "2022-11-29T20:14:43.486Z"
   },
   {
    "duration": 56,
    "start_time": "2022-11-29T20:14:58.430Z"
   },
   {
    "duration": 50,
    "start_time": "2022-11-29T20:15:09.678Z"
   },
   {
    "duration": 31,
    "start_time": "2022-11-29T20:16:33.913Z"
   },
   {
    "duration": 39,
    "start_time": "2022-11-29T20:17:27.362Z"
   },
   {
    "duration": 260,
    "start_time": "2022-11-29T20:17:57.771Z"
   },
   {
    "duration": 185,
    "start_time": "2022-11-29T20:18:48.474Z"
   },
   {
    "duration": 171,
    "start_time": "2022-11-29T20:18:56.218Z"
   },
   {
    "duration": 239,
    "start_time": "2022-11-29T20:19:49.340Z"
   },
   {
    "duration": 402,
    "start_time": "2022-11-29T20:22:19.286Z"
   },
   {
    "duration": 3,
    "start_time": "2022-11-29T20:22:19.691Z"
   },
   {
    "duration": 72,
    "start_time": "2022-11-29T20:22:19.695Z"
   },
   {
    "duration": 28,
    "start_time": "2022-11-29T20:22:19.770Z"
   },
   {
    "duration": 15,
    "start_time": "2022-11-29T20:22:19.800Z"
   },
   {
    "duration": 19,
    "start_time": "2022-11-29T20:22:19.817Z"
   },
   {
    "duration": 37,
    "start_time": "2022-11-29T20:22:19.837Z"
   },
   {
    "duration": 16,
    "start_time": "2022-11-29T20:22:19.876Z"
   },
   {
    "duration": 13,
    "start_time": "2022-11-29T20:22:19.894Z"
   },
   {
    "duration": 17,
    "start_time": "2022-11-29T20:22:19.911Z"
   },
   {
    "duration": 20,
    "start_time": "2022-11-29T20:22:19.930Z"
   },
   {
    "duration": 52,
    "start_time": "2022-11-29T20:22:19.952Z"
   },
   {
    "duration": 35,
    "start_time": "2022-11-29T20:22:20.007Z"
   },
   {
    "duration": 5,
    "start_time": "2022-11-29T20:22:20.044Z"
   },
   {
    "duration": 16,
    "start_time": "2022-11-29T20:22:20.051Z"
   },
   {
    "duration": 284,
    "start_time": "2022-11-29T20:22:20.068Z"
   },
   {
    "duration": 10,
    "start_time": "2022-11-29T20:22:20.354Z"
   },
   {
    "duration": 5,
    "start_time": "2022-11-29T20:22:20.365Z"
   },
   {
    "duration": 11,
    "start_time": "2022-11-29T20:22:20.372Z"
   },
   {
    "duration": 14,
    "start_time": "2022-11-29T20:22:20.385Z"
   },
   {
    "duration": 15,
    "start_time": "2022-11-29T20:22:20.401Z"
   },
   {
    "duration": 26,
    "start_time": "2022-11-29T20:22:20.418Z"
   },
   {
    "duration": 13,
    "start_time": "2022-11-29T20:22:20.445Z"
   },
   {
    "duration": 17,
    "start_time": "2022-11-29T20:22:20.460Z"
   },
   {
    "duration": 5,
    "start_time": "2022-11-29T20:22:20.479Z"
   },
   {
    "duration": 6,
    "start_time": "2022-11-29T20:22:20.485Z"
   },
   {
    "duration": 9,
    "start_time": "2022-11-29T20:22:20.492Z"
   },
   {
    "duration": 51,
    "start_time": "2022-11-29T20:22:20.505Z"
   },
   {
    "duration": 6,
    "start_time": "2022-11-29T20:22:20.558Z"
   },
   {
    "duration": 26,
    "start_time": "2022-11-29T20:22:20.565Z"
   },
   {
    "duration": 62,
    "start_time": "2022-11-29T20:22:20.593Z"
   },
   {
    "duration": 15,
    "start_time": "2022-11-29T20:22:20.657Z"
   },
   {
    "duration": 11,
    "start_time": "2022-11-29T20:22:20.673Z"
   },
   {
    "duration": 10,
    "start_time": "2022-11-29T20:22:20.686Z"
   },
   {
    "duration": 208,
    "start_time": "2022-11-29T20:22:20.698Z"
   },
   {
    "duration": 16,
    "start_time": "2022-11-29T20:22:20.908Z"
   },
   {
    "duration": 60,
    "start_time": "2022-11-29T20:22:20.935Z"
   },
   {
    "duration": 7,
    "start_time": "2022-11-29T20:22:20.996Z"
   },
   {
    "duration": 293,
    "start_time": "2022-11-29T20:22:21.004Z"
   },
   {
    "duration": 549,
    "start_time": "2022-11-29T20:22:21.299Z"
   },
   {
    "duration": 5,
    "start_time": "2022-11-29T20:22:21.849Z"
   },
   {
    "duration": 274,
    "start_time": "2022-11-29T20:30:53.480Z"
   },
   {
    "duration": 243,
    "start_time": "2022-11-29T20:36:47.912Z"
   },
   {
    "duration": 185,
    "start_time": "2022-11-29T20:37:30.550Z"
   },
   {
    "duration": 226,
    "start_time": "2022-11-29T20:37:45.743Z"
   },
   {
    "duration": 240,
    "start_time": "2022-11-29T20:40:03.609Z"
   },
   {
    "duration": 259,
    "start_time": "2022-11-29T20:42:10.837Z"
   },
   {
    "duration": 254,
    "start_time": "2022-11-29T20:42:18.076Z"
   },
   {
    "duration": 250,
    "start_time": "2022-11-29T20:43:44.198Z"
   },
   {
    "duration": 332,
    "start_time": "2022-11-29T20:52:29.584Z"
   },
   {
    "duration": 3,
    "start_time": "2022-11-29T20:52:37.184Z"
   },
   {
    "duration": 283,
    "start_time": "2022-11-29T20:52:41.816Z"
   },
   {
    "duration": 237,
    "start_time": "2022-11-29T20:52:51.311Z"
   },
   {
    "duration": 17,
    "start_time": "2022-11-29T20:55:33.340Z"
   },
   {
    "duration": 69,
    "start_time": "2022-11-29T20:56:56.685Z"
   },
   {
    "duration": 48,
    "start_time": "2022-11-29T20:59:17.719Z"
   },
   {
    "duration": 44,
    "start_time": "2022-11-29T20:59:24.737Z"
   },
   {
    "duration": 23,
    "start_time": "2022-11-29T20:59:27.016Z"
   },
   {
    "duration": 20,
    "start_time": "2022-11-29T20:59:41.248Z"
   },
   {
    "duration": 20,
    "start_time": "2022-11-29T20:59:56.090Z"
   },
   {
    "duration": 24,
    "start_time": "2022-11-29T21:00:08.824Z"
   },
   {
    "duration": 15,
    "start_time": "2022-11-29T21:01:16.833Z"
   },
   {
    "duration": 15,
    "start_time": "2022-11-29T21:01:33.922Z"
   },
   {
    "duration": 21,
    "start_time": "2022-11-29T21:26:52.599Z"
   },
   {
    "duration": 6,
    "start_time": "2022-11-29T21:27:07.777Z"
   },
   {
    "duration": 21,
    "start_time": "2022-11-29T21:27:19.248Z"
   },
   {
    "duration": 7,
    "start_time": "2022-11-29T21:28:45.146Z"
   },
   {
    "duration": 365,
    "start_time": "2022-11-29T21:28:48.209Z"
   },
   {
    "duration": 56,
    "start_time": "2022-11-29T21:29:28.803Z"
   },
   {
    "duration": 414,
    "start_time": "2022-11-29T21:29:36.067Z"
   },
   {
    "duration": 862,
    "start_time": "2022-11-29T21:31:42.605Z"
   },
   {
    "duration": 6,
    "start_time": "2022-11-29T21:31:51.757Z"
   },
   {
    "duration": 7,
    "start_time": "2022-11-29T21:32:25.232Z"
   },
   {
    "duration": 185,
    "start_time": "2022-11-29T21:32:37.293Z"
   },
   {
    "duration": 8,
    "start_time": "2022-11-29T21:33:07.759Z"
   },
   {
    "duration": 378,
    "start_time": "2022-11-29T21:33:15.099Z"
   },
   {
    "duration": 41,
    "start_time": "2022-11-29T21:36:28.090Z"
   },
   {
    "duration": 812,
    "start_time": "2022-11-29T21:39:50.478Z"
   },
   {
    "duration": 925,
    "start_time": "2022-11-29T21:40:04.214Z"
   },
   {
    "duration": 836,
    "start_time": "2022-11-29T21:40:13.606Z"
   },
   {
    "duration": 848,
    "start_time": "2022-11-29T21:40:29.207Z"
   },
   {
    "duration": 25,
    "start_time": "2022-11-29T21:40:36.767Z"
   },
   {
    "duration": 531,
    "start_time": "2022-11-29T21:40:49.791Z"
   },
   {
    "duration": 358,
    "start_time": "2022-11-29T21:40:58.802Z"
   },
   {
    "duration": 6,
    "start_time": "2022-11-29T21:41:20.551Z"
   },
   {
    "duration": 6,
    "start_time": "2022-11-29T21:41:50.625Z"
   },
   {
    "duration": 10,
    "start_time": "2022-11-29T21:42:20.185Z"
   },
   {
    "duration": 6,
    "start_time": "2022-11-29T21:42:24.424Z"
   },
   {
    "duration": 5,
    "start_time": "2022-11-29T21:43:36.842Z"
   },
   {
    "duration": 275,
    "start_time": "2022-11-29T21:47:11.589Z"
   },
   {
    "duration": 40,
    "start_time": "2022-11-29T21:49:00.623Z"
   },
   {
    "duration": 45,
    "start_time": "2022-11-30T08:22:40.303Z"
   },
   {
    "duration": 442,
    "start_time": "2022-11-30T08:22:48.223Z"
   },
   {
    "duration": 403,
    "start_time": "2022-11-30T08:22:48.667Z"
   },
   {
    "duration": 95,
    "start_time": "2022-11-30T08:22:49.073Z"
   },
   {
    "duration": 25,
    "start_time": "2022-11-30T08:22:49.171Z"
   },
   {
    "duration": 14,
    "start_time": "2022-11-30T08:22:49.198Z"
   },
   {
    "duration": 10,
    "start_time": "2022-11-30T08:22:49.214Z"
   },
   {
    "duration": 18,
    "start_time": "2022-11-30T08:22:49.225Z"
   },
   {
    "duration": 15,
    "start_time": "2022-11-30T08:22:49.254Z"
   },
   {
    "duration": 7,
    "start_time": "2022-11-30T08:22:49.271Z"
   },
   {
    "duration": 6,
    "start_time": "2022-11-30T08:22:49.281Z"
   },
   {
    "duration": 6,
    "start_time": "2022-11-30T08:22:49.289Z"
   },
   {
    "duration": 13,
    "start_time": "2022-11-30T08:22:49.297Z"
   },
   {
    "duration": 47,
    "start_time": "2022-11-30T08:22:49.312Z"
   },
   {
    "duration": 6,
    "start_time": "2022-11-30T08:22:49.361Z"
   },
   {
    "duration": 16,
    "start_time": "2022-11-30T08:22:49.368Z"
   },
   {
    "duration": 70,
    "start_time": "2022-11-30T08:22:49.386Z"
   },
   {
    "duration": 11,
    "start_time": "2022-11-30T08:22:49.457Z"
   },
   {
    "duration": 34,
    "start_time": "2022-11-30T08:22:49.470Z"
   },
   {
    "duration": 11,
    "start_time": "2022-11-30T08:22:49.506Z"
   },
   {
    "duration": 11,
    "start_time": "2022-11-30T08:22:49.519Z"
   },
   {
    "duration": 15,
    "start_time": "2022-11-30T08:22:49.531Z"
   },
   {
    "duration": 8,
    "start_time": "2022-11-30T08:22:49.547Z"
   },
   {
    "duration": 7,
    "start_time": "2022-11-30T08:22:49.556Z"
   },
   {
    "duration": 23,
    "start_time": "2022-11-30T08:22:49.565Z"
   },
   {
    "duration": 6,
    "start_time": "2022-11-30T08:22:49.589Z"
   },
   {
    "duration": 12,
    "start_time": "2022-11-30T08:22:49.596Z"
   },
   {
    "duration": 8,
    "start_time": "2022-11-30T08:22:49.610Z"
   },
   {
    "duration": 55,
    "start_time": "2022-11-30T08:22:49.621Z"
   },
   {
    "duration": 5,
    "start_time": "2022-11-30T08:22:49.678Z"
   },
   {
    "duration": 28,
    "start_time": "2022-11-30T08:22:49.684Z"
   },
   {
    "duration": 62,
    "start_time": "2022-11-30T08:22:49.714Z"
   },
   {
    "duration": 16,
    "start_time": "2022-11-30T08:22:49.778Z"
   },
   {
    "duration": 7,
    "start_time": "2022-11-30T08:22:49.795Z"
   },
   {
    "duration": 9,
    "start_time": "2022-11-30T08:22:49.803Z"
   },
   {
    "duration": 214,
    "start_time": "2022-11-30T08:22:49.814Z"
   },
   {
    "duration": 16,
    "start_time": "2022-11-30T08:22:50.030Z"
   },
   {
    "duration": 59,
    "start_time": "2022-11-30T08:22:50.055Z"
   },
   {
    "duration": 6,
    "start_time": "2022-11-30T08:22:50.116Z"
   },
   {
    "duration": 326,
    "start_time": "2022-11-30T08:22:50.124Z"
   },
   {
    "duration": 7,
    "start_time": "2022-11-30T08:22:50.452Z"
   },
   {
    "duration": 22,
    "start_time": "2022-11-30T08:22:50.460Z"
   },
   {
    "duration": 14,
    "start_time": "2022-11-30T08:22:50.484Z"
   },
   {
    "duration": 9,
    "start_time": "2022-11-30T08:22:50.499Z"
   },
   {
    "duration": 294,
    "start_time": "2022-11-30T08:22:50.509Z"
   },
   {
    "duration": 244,
    "start_time": "2022-11-30T08:22:50.804Z"
   },
   {
    "duration": 0,
    "start_time": "2022-11-30T08:22:51.055Z"
   },
   {
    "duration": 0,
    "start_time": "2022-11-30T08:22:51.056Z"
   },
   {
    "duration": 119,
    "start_time": "2022-11-30T08:24:17.289Z"
   },
   {
    "duration": 97,
    "start_time": "2022-11-30T08:24:29.026Z"
   },
   {
    "duration": 13,
    "start_time": "2022-11-30T08:28:30.182Z"
   },
   {
    "duration": 15,
    "start_time": "2022-11-30T08:29:09.926Z"
   },
   {
    "duration": 100,
    "start_time": "2022-11-30T08:29:13.991Z"
   },
   {
    "duration": 16,
    "start_time": "2022-11-30T08:32:40.690Z"
   },
   {
    "duration": 116,
    "start_time": "2022-11-30T08:34:47.756Z"
   },
   {
    "duration": 112,
    "start_time": "2022-11-30T08:34:55.124Z"
   },
   {
    "duration": 103,
    "start_time": "2022-11-30T08:34:57.831Z"
   },
   {
    "duration": 112,
    "start_time": "2022-11-30T08:35:40.957Z"
   },
   {
    "duration": 343,
    "start_time": "2022-11-30T08:35:49.765Z"
   },
   {
    "duration": 439,
    "start_time": "2022-11-30T08:36:10.542Z"
   },
   {
    "duration": 42,
    "start_time": "2022-11-30T08:36:26.318Z"
   },
   {
    "duration": 203,
    "start_time": "2022-11-30T08:39:43.089Z"
   },
   {
    "duration": 204,
    "start_time": "2022-11-30T08:40:08.010Z"
   },
   {
    "duration": 206,
    "start_time": "2022-11-30T08:41:12.915Z"
   },
   {
    "duration": 190,
    "start_time": "2022-11-30T08:44:10.230Z"
   },
   {
    "duration": 204,
    "start_time": "2022-11-30T08:46:44.969Z"
   },
   {
    "duration": 161,
    "start_time": "2022-11-30T08:47:18.265Z"
   },
   {
    "duration": 203,
    "start_time": "2022-11-30T08:48:00.683Z"
   },
   {
    "duration": 194,
    "start_time": "2022-11-30T08:48:13.196Z"
   },
   {
    "duration": 258,
    "start_time": "2022-11-30T08:50:18.245Z"
   },
   {
    "duration": 219,
    "start_time": "2022-11-30T08:50:31.005Z"
   },
   {
    "duration": 56,
    "start_time": "2022-11-30T08:52:20.519Z"
   },
   {
    "duration": 20,
    "start_time": "2022-11-30T08:52:28.184Z"
   },
   {
    "duration": 18,
    "start_time": "2022-11-30T08:52:42.568Z"
   },
   {
    "duration": 19,
    "start_time": "2022-11-30T08:52:46.624Z"
   },
   {
    "duration": 17,
    "start_time": "2022-11-30T08:52:56.378Z"
   },
   {
    "duration": 18,
    "start_time": "2022-11-30T08:54:02.337Z"
   },
   {
    "duration": 155,
    "start_time": "2022-11-30T08:55:48.155Z"
   },
   {
    "duration": 232,
    "start_time": "2022-11-30T08:56:14.493Z"
   },
   {
    "duration": 209,
    "start_time": "2022-11-30T08:56:23.436Z"
   },
   {
    "duration": 190,
    "start_time": "2022-11-30T08:56:46.652Z"
   },
   {
    "duration": 196,
    "start_time": "2022-11-30T08:57:08.806Z"
   },
   {
    "duration": 201,
    "start_time": "2022-11-30T08:57:36.221Z"
   },
   {
    "duration": 208,
    "start_time": "2022-11-30T08:57:43.909Z"
   },
   {
    "duration": 193,
    "start_time": "2022-11-30T08:57:47.093Z"
   },
   {
    "duration": 45,
    "start_time": "2022-11-30T08:59:50.039Z"
   },
   {
    "duration": 187,
    "start_time": "2022-11-30T09:00:13.976Z"
   },
   {
    "duration": 1180,
    "start_time": "2022-11-30T10:28:15.684Z"
   },
   {
    "duration": 146,
    "start_time": "2022-11-30T10:28:20.276Z"
   },
   {
    "duration": 140,
    "start_time": "2022-11-30T10:28:52.821Z"
   },
   {
    "duration": 161,
    "start_time": "2022-11-30T10:29:26.514Z"
   },
   {
    "duration": 58,
    "start_time": "2022-11-30T10:30:37.791Z"
   },
   {
    "duration": 143,
    "start_time": "2022-11-30T10:30:45.830Z"
   },
   {
    "duration": 142,
    "start_time": "2022-11-30T10:30:52.503Z"
   },
   {
    "duration": 185,
    "start_time": "2022-11-30T10:31:09.640Z"
   },
   {
    "duration": 163,
    "start_time": "2022-11-30T10:31:17.328Z"
   },
   {
    "duration": 154,
    "start_time": "2022-11-30T10:31:22.478Z"
   },
   {
    "duration": 166,
    "start_time": "2022-11-30T10:31:25.479Z"
   },
   {
    "duration": 145,
    "start_time": "2022-11-30T10:31:29.727Z"
   },
   {
    "duration": 158,
    "start_time": "2022-11-30T10:31:32.672Z"
   },
   {
    "duration": 171,
    "start_time": "2022-11-30T10:32:26.201Z"
   },
   {
    "duration": 195,
    "start_time": "2022-11-30T10:33:31.130Z"
   },
   {
    "duration": 434,
    "start_time": "2022-11-30T10:34:01.331Z"
   },
   {
    "duration": 13,
    "start_time": "2022-11-30T10:34:22.309Z"
   },
   {
    "duration": 178,
    "start_time": "2022-11-30T10:35:11.756Z"
   },
   {
    "duration": 237,
    "start_time": "2022-11-30T10:35:15.459Z"
   },
   {
    "duration": 189,
    "start_time": "2022-11-30T10:42:01.669Z"
   },
   {
    "duration": 181,
    "start_time": "2022-11-30T10:42:22.244Z"
   },
   {
    "duration": 162,
    "start_time": "2022-11-30T10:42:45.341Z"
   },
   {
    "duration": 5,
    "start_time": "2022-11-30T10:44:20.311Z"
   },
   {
    "duration": 175,
    "start_time": "2022-11-30T10:45:13.311Z"
   },
   {
    "duration": 319,
    "start_time": "2022-11-30T10:49:37.405Z"
   },
   {
    "duration": 7,
    "start_time": "2022-11-30T10:56:18.180Z"
   },
   {
    "duration": 8,
    "start_time": "2022-11-30T10:56:26.020Z"
   },
   {
    "duration": 11,
    "start_time": "2022-11-30T10:56:34.436Z"
   },
   {
    "duration": 161,
    "start_time": "2022-11-30T10:56:42.204Z"
   },
   {
    "duration": 16,
    "start_time": "2022-11-30T10:57:56.150Z"
   },
   {
    "duration": 9,
    "start_time": "2022-11-30T10:58:26.294Z"
   },
   {
    "duration": 22,
    "start_time": "2022-11-30T10:58:35.871Z"
   },
   {
    "duration": 8,
    "start_time": "2022-11-30T10:59:23.039Z"
   },
   {
    "duration": 8,
    "start_time": "2022-11-30T10:59:28.471Z"
   },
   {
    "duration": 11,
    "start_time": "2022-11-30T11:00:00.512Z"
   },
   {
    "duration": 22,
    "start_time": "2022-11-30T11:00:07.984Z"
   },
   {
    "duration": 24,
    "start_time": "2022-11-30T11:00:13.209Z"
   },
   {
    "duration": 188,
    "start_time": "2022-11-30T11:01:26.011Z"
   },
   {
    "duration": 21,
    "start_time": "2022-11-30T11:03:40.548Z"
   },
   {
    "duration": 21,
    "start_time": "2022-11-30T11:03:56.469Z"
   },
   {
    "duration": 95,
    "start_time": "2022-11-30T11:05:05.062Z"
   },
   {
    "duration": 6,
    "start_time": "2022-11-30T11:05:52.935Z"
   },
   {
    "duration": 7,
    "start_time": "2022-11-30T11:06:12.255Z"
   },
   {
    "duration": 6,
    "start_time": "2022-11-30T11:06:17.303Z"
   },
   {
    "duration": 11,
    "start_time": "2022-11-30T11:15:54.386Z"
   },
   {
    "duration": 10,
    "start_time": "2022-11-30T11:16:02.795Z"
   },
   {
    "duration": 16,
    "start_time": "2022-11-30T11:16:15.722Z"
   },
   {
    "duration": 17,
    "start_time": "2022-11-30T11:16:19.402Z"
   },
   {
    "duration": 12,
    "start_time": "2022-11-30T11:34:59.006Z"
   },
   {
    "duration": 201,
    "start_time": "2022-11-30T11:45:06.609Z"
   },
   {
    "duration": 251,
    "start_time": "2022-11-30T11:46:04.690Z"
   },
   {
    "duration": 216,
    "start_time": "2022-11-30T11:46:28.330Z"
   },
   {
    "duration": 202,
    "start_time": "2022-11-30T11:46:48.907Z"
   },
   {
    "duration": 559,
    "start_time": "2022-11-30T11:47:00.683Z"
   },
   {
    "duration": 289,
    "start_time": "2022-11-30T11:47:13.019Z"
   },
   {
    "duration": 172,
    "start_time": "2022-11-30T11:47:18.211Z"
   },
   {
    "duration": 214,
    "start_time": "2022-11-30T11:47:28.739Z"
   },
   {
    "duration": 499,
    "start_time": "2022-11-30T11:51:04.147Z"
   },
   {
    "duration": 249,
    "start_time": "2022-11-30T11:51:04.649Z"
   },
   {
    "duration": 64,
    "start_time": "2022-11-30T11:51:04.900Z"
   },
   {
    "duration": 29,
    "start_time": "2022-11-30T11:51:04.969Z"
   },
   {
    "duration": 19,
    "start_time": "2022-11-30T11:51:05.000Z"
   },
   {
    "duration": 11,
    "start_time": "2022-11-30T11:51:05.021Z"
   },
   {
    "duration": 30,
    "start_time": "2022-11-30T11:51:05.033Z"
   },
   {
    "duration": 14,
    "start_time": "2022-11-30T11:51:05.065Z"
   },
   {
    "duration": 7,
    "start_time": "2022-11-30T11:51:05.081Z"
   },
   {
    "duration": 7,
    "start_time": "2022-11-30T11:51:05.091Z"
   },
   {
    "duration": 10,
    "start_time": "2022-11-30T11:51:05.100Z"
   },
   {
    "duration": 13,
    "start_time": "2022-11-30T11:51:05.112Z"
   },
   {
    "duration": 37,
    "start_time": "2022-11-30T11:51:05.127Z"
   },
   {
    "duration": 5,
    "start_time": "2022-11-30T11:51:05.166Z"
   },
   {
    "duration": 13,
    "start_time": "2022-11-30T11:51:05.172Z"
   },
   {
    "duration": 81,
    "start_time": "2022-11-30T11:51:05.187Z"
   },
   {
    "duration": 12,
    "start_time": "2022-11-30T11:51:05.270Z"
   },
   {
    "duration": 5,
    "start_time": "2022-11-30T11:51:05.284Z"
   },
   {
    "duration": 13,
    "start_time": "2022-11-30T11:51:05.290Z"
   },
   {
    "duration": 29,
    "start_time": "2022-11-30T11:51:05.304Z"
   },
   {
    "duration": 22,
    "start_time": "2022-11-30T11:51:05.335Z"
   },
   {
    "duration": 8,
    "start_time": "2022-11-30T11:51:05.359Z"
   },
   {
    "duration": 8,
    "start_time": "2022-11-30T11:51:05.368Z"
   },
   {
    "duration": 18,
    "start_time": "2022-11-30T11:51:05.378Z"
   },
   {
    "duration": 5,
    "start_time": "2022-11-30T11:51:05.397Z"
   },
   {
    "duration": 9,
    "start_time": "2022-11-30T11:51:05.404Z"
   },
   {
    "duration": 6,
    "start_time": "2022-11-30T11:51:05.415Z"
   },
   {
    "duration": 66,
    "start_time": "2022-11-30T11:51:05.425Z"
   },
   {
    "duration": 5,
    "start_time": "2022-11-30T11:51:05.492Z"
   },
   {
    "duration": 26,
    "start_time": "2022-11-30T11:51:05.499Z"
   },
   {
    "duration": 64,
    "start_time": "2022-11-30T11:51:05.526Z"
   },
   {
    "duration": 14,
    "start_time": "2022-11-30T11:51:05.591Z"
   },
   {
    "duration": 9,
    "start_time": "2022-11-30T11:51:05.607Z"
   },
   {
    "duration": 15,
    "start_time": "2022-11-30T11:51:05.617Z"
   },
   {
    "duration": 205,
    "start_time": "2022-11-30T11:51:05.634Z"
   },
   {
    "duration": 21,
    "start_time": "2022-11-30T11:51:05.841Z"
   },
   {
    "duration": 61,
    "start_time": "2022-11-30T11:51:05.864Z"
   },
   {
    "duration": 28,
    "start_time": "2022-11-30T11:51:05.927Z"
   },
   {
    "duration": 294,
    "start_time": "2022-11-30T11:51:05.957Z"
   },
   {
    "duration": 7,
    "start_time": "2022-11-30T11:51:06.253Z"
   },
   {
    "duration": 29,
    "start_time": "2022-11-30T11:51:06.261Z"
   },
   {
    "duration": 9,
    "start_time": "2022-11-30T11:51:06.291Z"
   },
   {
    "duration": 8,
    "start_time": "2022-11-30T11:51:06.302Z"
   },
   {
    "duration": 346,
    "start_time": "2022-11-30T11:51:06.312Z"
   },
   {
    "duration": 243,
    "start_time": "2022-11-30T11:51:06.660Z"
   },
   {
    "duration": 342,
    "start_time": "2022-11-30T11:51:06.906Z"
   },
   {
    "duration": 11,
    "start_time": "2022-11-30T11:51:07.255Z"
   },
   {
    "duration": 216,
    "start_time": "2022-11-30T11:51:07.268Z"
   },
   {
    "duration": 22,
    "start_time": "2022-11-30T11:53:41.113Z"
   },
   {
    "duration": 24,
    "start_time": "2022-11-30T11:54:19.194Z"
   },
   {
    "duration": 20,
    "start_time": "2022-11-30T11:55:16.115Z"
   },
   {
    "duration": 19,
    "start_time": "2022-11-30T14:00:43.249Z"
   },
   {
    "duration": 38,
    "start_time": "2022-11-30T14:00:54.545Z"
   },
   {
    "duration": 38,
    "start_time": "2022-11-30T14:01:07.873Z"
   },
   {
    "duration": 36,
    "start_time": "2022-11-30T14:01:17.769Z"
   },
   {
    "duration": 71,
    "start_time": "2022-11-30T15:53:20.000Z"
   },
   {
    "duration": 185,
    "start_time": "2022-11-30T15:53:27.592Z"
   },
   {
    "duration": 183,
    "start_time": "2022-11-30T15:53:53.408Z"
   },
   {
    "duration": 241,
    "start_time": "2022-11-30T15:54:01.360Z"
   },
   {
    "duration": 225,
    "start_time": "2022-11-30T15:59:15.350Z"
   },
   {
    "duration": 423,
    "start_time": "2022-11-30T16:04:02.461Z"
   },
   {
    "duration": 230,
    "start_time": "2022-11-30T16:04:02.886Z"
   },
   {
    "duration": 70,
    "start_time": "2022-11-30T16:04:03.117Z"
   },
   {
    "duration": 25,
    "start_time": "2022-11-30T16:04:03.190Z"
   },
   {
    "duration": 15,
    "start_time": "2022-11-30T16:04:03.216Z"
   },
   {
    "duration": 4,
    "start_time": "2022-11-30T16:04:03.233Z"
   },
   {
    "duration": 14,
    "start_time": "2022-11-30T16:04:03.255Z"
   },
   {
    "duration": 13,
    "start_time": "2022-11-30T16:04:03.270Z"
   },
   {
    "duration": 14,
    "start_time": "2022-11-30T16:04:03.285Z"
   },
   {
    "duration": 20,
    "start_time": "2022-11-30T16:04:03.303Z"
   },
   {
    "duration": 8,
    "start_time": "2022-11-30T16:04:03.325Z"
   },
   {
    "duration": 26,
    "start_time": "2022-11-30T16:04:03.334Z"
   },
   {
    "duration": 13,
    "start_time": "2022-11-30T16:04:03.362Z"
   },
   {
    "duration": 5,
    "start_time": "2022-11-30T16:04:03.377Z"
   },
   {
    "duration": 21,
    "start_time": "2022-11-30T16:04:03.383Z"
   },
   {
    "duration": 75,
    "start_time": "2022-11-30T16:04:03.405Z"
   },
   {
    "duration": 10,
    "start_time": "2022-11-30T16:04:03.482Z"
   },
   {
    "duration": 5,
    "start_time": "2022-11-30T16:04:03.494Z"
   },
   {
    "duration": 9,
    "start_time": "2022-11-30T16:04:03.501Z"
   },
   {
    "duration": 9,
    "start_time": "2022-11-30T16:04:03.512Z"
   },
   {
    "duration": 37,
    "start_time": "2022-11-30T16:04:03.523Z"
   },
   {
    "duration": 7,
    "start_time": "2022-11-30T16:04:03.562Z"
   },
   {
    "duration": 7,
    "start_time": "2022-11-30T16:04:03.571Z"
   },
   {
    "duration": 21,
    "start_time": "2022-11-30T16:04:03.579Z"
   },
   {
    "duration": 8,
    "start_time": "2022-11-30T16:04:03.602Z"
   },
   {
    "duration": 9,
    "start_time": "2022-11-30T16:04:03.612Z"
   },
   {
    "duration": 31,
    "start_time": "2022-11-30T16:04:03.624Z"
   },
   {
    "duration": 59,
    "start_time": "2022-11-30T16:04:03.661Z"
   },
   {
    "duration": 6,
    "start_time": "2022-11-30T16:04:03.722Z"
   },
   {
    "duration": 35,
    "start_time": "2022-11-30T16:04:03.730Z"
   },
   {
    "duration": 52,
    "start_time": "2022-11-30T16:04:03.766Z"
   },
   {
    "duration": 16,
    "start_time": "2022-11-30T16:04:03.819Z"
   },
   {
    "duration": 20,
    "start_time": "2022-11-30T16:04:03.836Z"
   },
   {
    "duration": 4,
    "start_time": "2022-11-30T16:04:03.858Z"
   },
   {
    "duration": 201,
    "start_time": "2022-11-30T16:04:03.864Z"
   },
   {
    "duration": 17,
    "start_time": "2022-11-30T16:04:04.067Z"
   },
   {
    "duration": 75,
    "start_time": "2022-11-30T16:04:04.086Z"
   },
   {
    "duration": 7,
    "start_time": "2022-11-30T16:04:04.163Z"
   },
   {
    "duration": 294,
    "start_time": "2022-11-30T16:04:04.172Z"
   },
   {
    "duration": 9,
    "start_time": "2022-11-30T16:04:04.469Z"
   },
   {
    "duration": 42,
    "start_time": "2022-11-30T16:04:04.480Z"
   },
   {
    "duration": 9,
    "start_time": "2022-11-30T16:04:04.525Z"
   },
   {
    "duration": 24,
    "start_time": "2022-11-30T16:04:04.536Z"
   },
   {
    "duration": 360,
    "start_time": "2022-11-30T16:04:04.563Z"
   },
   {
    "duration": 243,
    "start_time": "2022-11-30T16:04:04.925Z"
   },
   {
    "duration": 344,
    "start_time": "2022-11-30T16:04:05.170Z"
   },
   {
    "duration": 12,
    "start_time": "2022-11-30T16:04:05.516Z"
   },
   {
    "duration": 222,
    "start_time": "2022-11-30T16:04:05.530Z"
   },
   {
    "duration": 46,
    "start_time": "2022-11-30T16:04:05.754Z"
   },
   {
    "duration": 248,
    "start_time": "2022-11-30T16:04:05.802Z"
   },
   {
    "duration": 79,
    "start_time": "2022-11-30T16:04:06.052Z"
   },
   {
    "duration": 128,
    "start_time": "2022-11-30T16:08:12.505Z"
   },
   {
    "duration": 114,
    "start_time": "2022-11-30T16:08:31.241Z"
   },
   {
    "duration": 335,
    "start_time": "2022-11-30T16:10:23.427Z"
   },
   {
    "duration": 330,
    "start_time": "2022-11-30T16:10:45.227Z"
   },
   {
    "duration": 334,
    "start_time": "2022-11-30T16:10:55.686Z"
   },
   {
    "duration": 337,
    "start_time": "2022-11-30T16:11:05.687Z"
   },
   {
    "duration": 404,
    "start_time": "2022-11-30T16:11:46.092Z"
   },
   {
    "duration": 751,
    "start_time": "2022-11-30T16:12:14.254Z"
   },
   {
    "duration": 680,
    "start_time": "2022-11-30T16:13:29.694Z"
   },
   {
    "duration": 46,
    "start_time": "2022-11-30T16:14:10.527Z"
   },
   {
    "duration": 69,
    "start_time": "2022-11-30T16:14:29.440Z"
   },
   {
    "duration": 61,
    "start_time": "2022-11-30T16:14:46.024Z"
   },
   {
    "duration": 721,
    "start_time": "2022-11-30T16:15:03.192Z"
   },
   {
    "duration": 149,
    "start_time": "2022-11-30T16:15:53.987Z"
   },
   {
    "duration": 155,
    "start_time": "2022-11-30T16:16:11.642Z"
   },
   {
    "duration": 146,
    "start_time": "2022-11-30T16:16:15.186Z"
   },
   {
    "duration": 144,
    "start_time": "2022-11-30T16:16:18.474Z"
   },
   {
    "duration": 225,
    "start_time": "2022-11-30T16:16:21.818Z"
   },
   {
    "duration": 145,
    "start_time": "2022-11-30T16:16:29.986Z"
   },
   {
    "duration": 141,
    "start_time": "2022-11-30T16:16:38.563Z"
   },
   {
    "duration": 141,
    "start_time": "2022-11-30T16:16:42.184Z"
   },
   {
    "duration": 142,
    "start_time": "2022-11-30T16:16:45.867Z"
   },
   {
    "duration": 671,
    "start_time": "2022-11-30T16:16:52.884Z"
   },
   {
    "duration": 714,
    "start_time": "2022-11-30T16:18:00.308Z"
   },
   {
    "duration": 744,
    "start_time": "2022-11-30T16:18:04.772Z"
   },
   {
    "duration": 867,
    "start_time": "2022-11-30T16:18:10.027Z"
   },
   {
    "duration": 768,
    "start_time": "2022-11-30T16:18:13.972Z"
   },
   {
    "duration": 774,
    "start_time": "2022-11-30T16:18:20.516Z"
   },
   {
    "duration": 745,
    "start_time": "2022-11-30T16:18:25.772Z"
   },
   {
    "duration": 45,
    "start_time": "2022-11-30T16:20:37.798Z"
   },
   {
    "duration": 60,
    "start_time": "2022-11-30T16:22:34.226Z"
   },
   {
    "duration": 43,
    "start_time": "2022-11-30T16:22:36.495Z"
   },
   {
    "duration": 43,
    "start_time": "2022-11-30T16:22:41.484Z"
   },
   {
    "duration": 17,
    "start_time": "2022-11-30T16:22:52.345Z"
   },
   {
    "duration": 57,
    "start_time": "2022-11-30T16:22:56.329Z"
   },
   {
    "duration": 54,
    "start_time": "2022-11-30T16:24:23.651Z"
   },
   {
    "duration": 611,
    "start_time": "2022-11-30T16:24:34.589Z"
   },
   {
    "duration": 764,
    "start_time": "2022-11-30T16:24:48.603Z"
   },
   {
    "duration": 701,
    "start_time": "2022-11-30T16:25:02.124Z"
   },
   {
    "duration": 764,
    "start_time": "2022-11-30T16:25:04.452Z"
   },
   {
    "duration": 706,
    "start_time": "2022-11-30T16:25:38.654Z"
   },
   {
    "duration": 755,
    "start_time": "2022-11-30T16:25:43.316Z"
   },
   {
    "duration": 635,
    "start_time": "2022-11-30T16:25:50.190Z"
   },
   {
    "duration": 734,
    "start_time": "2022-11-30T16:25:53.844Z"
   },
   {
    "duration": 607,
    "start_time": "2022-11-30T16:25:56.317Z"
   },
   {
    "duration": 654,
    "start_time": "2022-11-30T16:26:00.054Z"
   },
   {
    "duration": 610,
    "start_time": "2022-11-30T16:26:06.084Z"
   },
   {
    "duration": 658,
    "start_time": "2022-11-30T16:26:15.101Z"
   },
   {
    "duration": 711,
    "start_time": "2022-11-30T16:26:18.364Z"
   },
   {
    "duration": 604,
    "start_time": "2022-11-30T16:26:25.951Z"
   },
   {
    "duration": 617,
    "start_time": "2022-11-30T16:26:29.477Z"
   },
   {
    "duration": 601,
    "start_time": "2022-11-30T16:27:10.415Z"
   },
   {
    "duration": 594,
    "start_time": "2022-11-30T16:27:12.326Z"
   },
   {
    "duration": 743,
    "start_time": "2022-11-30T16:27:16.198Z"
   },
   {
    "duration": 515,
    "start_time": "2022-11-30T16:28:21.599Z"
   },
   {
    "duration": 634,
    "start_time": "2022-11-30T16:28:25.575Z"
   },
   {
    "duration": 27,
    "start_time": "2022-11-30T16:28:55.559Z"
   },
   {
    "duration": 39,
    "start_time": "2022-11-30T16:29:00.762Z"
   },
   {
    "duration": 666,
    "start_time": "2022-11-30T16:29:03.140Z"
   },
   {
    "duration": 605,
    "start_time": "2022-11-30T16:29:17.592Z"
   },
   {
    "duration": 639,
    "start_time": "2022-11-30T16:29:21.688Z"
   },
   {
    "duration": 713,
    "start_time": "2022-11-30T16:29:58.562Z"
   },
   {
    "duration": 714,
    "start_time": "2022-11-30T16:30:04.531Z"
   },
   {
    "duration": 616,
    "start_time": "2022-11-30T16:30:07.817Z"
   },
   {
    "duration": 25,
    "start_time": "2022-11-30T16:30:12.289Z"
   },
   {
    "duration": 670,
    "start_time": "2022-11-30T16:30:15.586Z"
   },
   {
    "duration": 719,
    "start_time": "2022-11-30T16:30:19.113Z"
   },
   {
    "duration": 574,
    "start_time": "2022-11-30T16:30:21.193Z"
   },
   {
    "duration": 707,
    "start_time": "2022-11-30T16:30:26.297Z"
   },
   {
    "duration": 73,
    "start_time": "2022-11-30T16:31:01.683Z"
   },
   {
    "duration": 19,
    "start_time": "2022-11-30T16:31:26.750Z"
   },
   {
    "duration": 633,
    "start_time": "2022-11-30T16:31:37.227Z"
   },
   {
    "duration": 666,
    "start_time": "2022-11-30T16:31:47.597Z"
   },
   {
    "duration": 763,
    "start_time": "2022-11-30T16:33:06.417Z"
   },
   {
    "duration": 567,
    "start_time": "2022-11-30T16:33:15.765Z"
   },
   {
    "duration": 1249,
    "start_time": "2022-11-30T16:34:55.245Z"
   },
   {
    "duration": 1237,
    "start_time": "2022-11-30T16:35:10.587Z"
   },
   {
    "duration": 1172,
    "start_time": "2022-11-30T16:35:15.935Z"
   },
   {
    "duration": 1205,
    "start_time": "2022-11-30T16:35:31.695Z"
   },
   {
    "duration": 200,
    "start_time": "2022-11-30T16:35:39.849Z"
   },
   {
    "duration": 205,
    "start_time": "2022-11-30T16:35:48.104Z"
   },
   {
    "duration": 1212,
    "start_time": "2022-11-30T16:36:20.345Z"
   },
   {
    "duration": 1235,
    "start_time": "2022-11-30T16:36:28.496Z"
   },
   {
    "duration": 1073,
    "start_time": "2022-11-30T16:36:47.489Z"
   },
   {
    "duration": 1139,
    "start_time": "2022-11-30T16:36:50.649Z"
   },
   {
    "duration": 1118,
    "start_time": "2022-11-30T16:36:55.841Z"
   },
   {
    "duration": 1131,
    "start_time": "2022-11-30T16:36:59.184Z"
   },
   {
    "duration": 1242,
    "start_time": "2022-11-30T16:37:15.153Z"
   },
   {
    "duration": 1294,
    "start_time": "2022-11-30T16:37:54.778Z"
   },
   {
    "duration": 1229,
    "start_time": "2022-11-30T16:53:20.227Z"
   },
   {
    "duration": 1240,
    "start_time": "2022-11-30T16:53:25.123Z"
   },
   {
    "duration": 13,
    "start_time": "2022-11-30T16:54:30.037Z"
   },
   {
    "duration": 142,
    "start_time": "2022-11-30T16:54:33.941Z"
   },
   {
    "duration": 162,
    "start_time": "2022-11-30T16:57:10.049Z"
   },
   {
    "duration": 282,
    "start_time": "2022-11-30T16:57:14.353Z"
   },
   {
    "duration": 233,
    "start_time": "2022-11-30T16:57:38.433Z"
   },
   {
    "duration": 320,
    "start_time": "2022-11-30T16:57:44.000Z"
   },
   {
    "duration": 248,
    "start_time": "2022-11-30T16:58:00.955Z"
   },
   {
    "duration": 226,
    "start_time": "2022-11-30T16:58:04.832Z"
   },
   {
    "duration": 233,
    "start_time": "2022-11-30T16:58:09.249Z"
   },
   {
    "duration": 213,
    "start_time": "2022-11-30T16:58:25.552Z"
   },
   {
    "duration": 244,
    "start_time": "2022-11-30T16:58:48.011Z"
   },
   {
    "duration": 15,
    "start_time": "2022-11-30T17:00:32.336Z"
   },
   {
    "duration": 230,
    "start_time": "2022-11-30T17:00:38.219Z"
   },
   {
    "duration": 230,
    "start_time": "2022-11-30T17:01:18.556Z"
   },
   {
    "duration": 201,
    "start_time": "2022-11-30T17:01:31.220Z"
   },
   {
    "duration": 270,
    "start_time": "2022-11-30T17:02:22.885Z"
   },
   {
    "duration": 381,
    "start_time": "2022-11-30T17:04:34.471Z"
   },
   {
    "duration": 261,
    "start_time": "2022-11-30T17:05:19.609Z"
   },
   {
    "duration": 249,
    "start_time": "2022-11-30T17:05:25.178Z"
   },
   {
    "duration": 264,
    "start_time": "2022-11-30T17:06:03.313Z"
   },
   {
    "duration": 311,
    "start_time": "2022-11-30T17:06:11.930Z"
   },
   {
    "duration": 638,
    "start_time": "2022-11-30T17:09:08.397Z"
   },
   {
    "duration": 561,
    "start_time": "2022-11-30T17:11:22.264Z"
   },
   {
    "duration": 509,
    "start_time": "2022-11-30T17:11:26.352Z"
   },
   {
    "duration": 515,
    "start_time": "2022-11-30T17:11:32.776Z"
   },
   {
    "duration": 632,
    "start_time": "2022-11-30T17:11:52.056Z"
   },
   {
    "duration": 525,
    "start_time": "2022-11-30T17:12:28.745Z"
   },
   {
    "duration": 610,
    "start_time": "2022-11-30T17:13:00.930Z"
   },
   {
    "duration": 617,
    "start_time": "2022-11-30T17:13:10.690Z"
   },
   {
    "duration": 748,
    "start_time": "2022-11-30T17:13:26.290Z"
   },
   {
    "duration": 554,
    "start_time": "2022-11-30T17:13:55.266Z"
   },
   {
    "duration": 559,
    "start_time": "2022-11-30T17:14:40.251Z"
   },
   {
    "duration": 624,
    "start_time": "2022-11-30T17:15:02.364Z"
   },
   {
    "duration": 583,
    "start_time": "2022-11-30T17:15:15.605Z"
   },
   {
    "duration": 69,
    "start_time": "2022-11-30T17:15:46.736Z"
   },
   {
    "duration": 611,
    "start_time": "2022-11-30T17:15:50.541Z"
   },
   {
    "duration": 726,
    "start_time": "2022-11-30T17:15:56.533Z"
   },
   {
    "duration": 598,
    "start_time": "2022-11-30T17:16:44.046Z"
   },
   {
    "duration": 530,
    "start_time": "2022-11-30T17:16:51.117Z"
   },
   {
    "duration": 586,
    "start_time": "2022-11-30T17:17:08.550Z"
   },
   {
    "duration": 546,
    "start_time": "2022-11-30T17:17:42.759Z"
   },
   {
    "duration": 560,
    "start_time": "2022-11-30T17:17:59.847Z"
   },
   {
    "duration": 793,
    "start_time": "2022-11-30T17:18:16.415Z"
   },
   {
    "duration": 571,
    "start_time": "2022-11-30T17:18:40.617Z"
   },
   {
    "duration": 610,
    "start_time": "2022-11-30T17:18:46.808Z"
   },
   {
    "duration": 47,
    "start_time": "2022-11-30T17:20:21.434Z"
   },
   {
    "duration": 65,
    "start_time": "2022-11-30T17:20:26.139Z"
   },
   {
    "duration": 46,
    "start_time": "2022-11-30T17:20:42.300Z"
   },
   {
    "duration": 18,
    "start_time": "2022-11-30T17:21:10.701Z"
   },
   {
    "duration": 568,
    "start_time": "2022-11-30T17:21:57.300Z"
   },
   {
    "duration": 569,
    "start_time": "2022-11-30T17:23:03.853Z"
   },
   {
    "duration": 545,
    "start_time": "2022-11-30T17:23:09.277Z"
   },
   {
    "duration": 583,
    "start_time": "2022-11-30T17:25:41.656Z"
   },
   {
    "duration": 864,
    "start_time": "2022-11-30T17:26:04.344Z"
   },
   {
    "duration": 589,
    "start_time": "2022-11-30T17:26:21.217Z"
   },
   {
    "duration": 605,
    "start_time": "2022-11-30T17:26:36.210Z"
   },
   {
    "duration": 295,
    "start_time": "2022-11-30T17:29:53.828Z"
   },
   {
    "duration": 407,
    "start_time": "2022-11-30T17:30:17.758Z"
   },
   {
    "duration": 519,
    "start_time": "2022-11-30T17:30:26.078Z"
   },
   {
    "duration": 605,
    "start_time": "2022-11-30T17:30:34.430Z"
   },
   {
    "duration": 558,
    "start_time": "2022-11-30T17:30:50.302Z"
   },
   {
    "duration": 630,
    "start_time": "2022-11-30T17:31:00.782Z"
   },
   {
    "duration": 658,
    "start_time": "2022-11-30T17:31:04.422Z"
   },
   {
    "duration": 559,
    "start_time": "2022-11-30T17:31:12.286Z"
   },
   {
    "duration": 471,
    "start_time": "2022-11-30T17:34:02.906Z"
   },
   {
    "duration": 218,
    "start_time": "2022-11-30T17:34:45.858Z"
   },
   {
    "duration": 705,
    "start_time": "2022-11-30T17:34:57.883Z"
   },
   {
    "duration": 561,
    "start_time": "2022-11-30T17:35:40.219Z"
   },
   {
    "duration": 826,
    "start_time": "2022-11-30T17:35:55.493Z"
   },
   {
    "duration": 737,
    "start_time": "2022-11-30T17:36:06.339Z"
   },
   {
    "duration": 558,
    "start_time": "2022-11-30T17:38:20.471Z"
   },
   {
    "duration": 558,
    "start_time": "2022-11-30T17:38:27.950Z"
   },
   {
    "duration": 547,
    "start_time": "2022-11-30T17:38:32.639Z"
   },
   {
    "duration": 41,
    "start_time": "2022-11-30T17:38:38.838Z"
   },
   {
    "duration": 525,
    "start_time": "2022-11-30T17:38:41.815Z"
   },
   {
    "duration": 582,
    "start_time": "2022-11-30T17:38:46.375Z"
   },
   {
    "duration": 599,
    "start_time": "2022-11-30T17:39:03.679Z"
   },
   {
    "duration": 897,
    "start_time": "2022-11-30T17:40:04.943Z"
   },
   {
    "duration": 549,
    "start_time": "2022-11-30T17:40:12.024Z"
   },
   {
    "duration": 543,
    "start_time": "2022-11-30T17:40:17.392Z"
   },
   {
    "duration": 308,
    "start_time": "2022-11-30T17:40:37.432Z"
   },
   {
    "duration": 310,
    "start_time": "2022-11-30T17:40:57.281Z"
   },
   {
    "duration": 322,
    "start_time": "2022-11-30T17:41:21.257Z"
   },
   {
    "duration": 270,
    "start_time": "2022-11-30T17:41:32.002Z"
   },
   {
    "duration": 301,
    "start_time": "2022-11-30T17:42:20.395Z"
   },
   {
    "duration": 577,
    "start_time": "2022-11-30T17:42:27.075Z"
   },
   {
    "duration": 5,
    "start_time": "2022-11-30T17:43:07.747Z"
   },
   {
    "duration": 578,
    "start_time": "2022-11-30T17:50:55.838Z"
   },
   {
    "duration": 904,
    "start_time": "2022-11-30T17:52:33.647Z"
   },
   {
    "duration": 574,
    "start_time": "2022-11-30T17:53:18.224Z"
   },
   {
    "duration": 99,
    "start_time": "2022-11-30T17:55:24.385Z"
   },
   {
    "duration": 4,
    "start_time": "2022-11-30T18:12:07.301Z"
   },
   {
    "duration": 24087,
    "start_time": "2022-11-30T18:12:50.779Z"
   },
   {
    "duration": 42,
    "start_time": "2022-11-30T18:13:25.054Z"
   },
   {
    "duration": 43,
    "start_time": "2022-11-30T18:13:29.926Z"
   },
   {
    "duration": 117,
    "start_time": "2022-11-30T18:13:49.719Z"
   },
   {
    "duration": 123,
    "start_time": "2022-11-30T18:14:39.295Z"
   },
   {
    "duration": 171,
    "start_time": "2022-11-30T18:14:50.728Z"
   },
   {
    "duration": 119,
    "start_time": "2022-11-30T18:15:07.400Z"
   },
   {
    "duration": 27,
    "start_time": "2022-11-30T18:15:28.703Z"
   },
   {
    "duration": 16,
    "start_time": "2022-11-30T18:15:37.688Z"
   },
   {
    "duration": 17,
    "start_time": "2022-11-30T18:15:48.544Z"
   },
   {
    "duration": 16,
    "start_time": "2022-11-30T18:16:01.289Z"
   },
   {
    "duration": 16,
    "start_time": "2022-11-30T18:16:12.473Z"
   },
   {
    "duration": 224,
    "start_time": "2022-11-30T18:16:36.777Z"
   },
   {
    "duration": 11,
    "start_time": "2022-11-30T18:16:46.121Z"
   },
   {
    "duration": 11,
    "start_time": "2022-11-30T18:16:51.306Z"
   },
   {
    "duration": 40,
    "start_time": "2022-11-30T18:17:07.914Z"
   },
   {
    "duration": 45,
    "start_time": "2022-11-30T18:17:15.938Z"
   },
   {
    "duration": 43,
    "start_time": "2022-11-30T18:18:08.339Z"
   },
   {
    "duration": 57,
    "start_time": "2022-11-30T18:19:08.741Z"
   },
   {
    "duration": 594,
    "start_time": "2022-11-30T18:19:15.964Z"
   },
   {
    "duration": 639,
    "start_time": "2022-11-30T18:21:23.319Z"
   },
   {
    "duration": 595,
    "start_time": "2022-11-30T18:21:33.688Z"
   },
   {
    "duration": 599,
    "start_time": "2022-11-30T18:21:36.472Z"
   },
   {
    "duration": 557,
    "start_time": "2022-11-30T18:21:42.090Z"
   },
   {
    "duration": 638,
    "start_time": "2022-11-30T18:21:48.792Z"
   },
   {
    "duration": 635,
    "start_time": "2022-11-30T18:23:38.026Z"
   },
   {
    "duration": 643,
    "start_time": "2022-11-30T18:24:20.490Z"
   },
   {
    "duration": 643,
    "start_time": "2022-11-30T18:24:41.107Z"
   },
   {
    "duration": 563,
    "start_time": "2022-11-30T18:26:15.046Z"
   },
   {
    "duration": 536,
    "start_time": "2022-11-30T18:27:03.894Z"
   },
   {
    "duration": 2737,
    "start_time": "2022-11-30T18:29:41.577Z"
   },
   {
    "duration": 709,
    "start_time": "2022-11-30T18:29:54.746Z"
   },
   {
    "duration": 576,
    "start_time": "2022-11-30T18:30:08.865Z"
   },
   {
    "duration": 554,
    "start_time": "2022-11-30T18:30:22.064Z"
   },
   {
    "duration": 578,
    "start_time": "2022-11-30T18:30:35.545Z"
   },
   {
    "duration": 608,
    "start_time": "2022-11-30T18:31:14.482Z"
   },
   {
    "duration": 304,
    "start_time": "2022-11-30T18:35:31.351Z"
   },
   {
    "duration": 543,
    "start_time": "2022-11-30T18:35:43.943Z"
   },
   {
    "duration": 303,
    "start_time": "2022-11-30T18:52:37.090Z"
   },
   {
    "duration": 680,
    "start_time": "2022-11-30T18:52:46.299Z"
   },
   {
    "duration": 654,
    "start_time": "2022-11-30T18:53:02.467Z"
   },
   {
    "duration": 898,
    "start_time": "2022-11-30T18:53:09.331Z"
   },
   {
    "duration": 653,
    "start_time": "2022-11-30T18:53:19.228Z"
   },
   {
    "duration": 20,
    "start_time": "2022-11-30T18:54:18.405Z"
   },
   {
    "duration": 720,
    "start_time": "2022-11-30T18:54:50.183Z"
   },
   {
    "duration": 258,
    "start_time": "2022-11-30T18:55:01.942Z"
   },
   {
    "duration": 361,
    "start_time": "2022-11-30T18:55:43.963Z"
   },
   {
    "duration": 365,
    "start_time": "2022-11-30T18:56:09.175Z"
   },
   {
    "duration": 381,
    "start_time": "2022-11-30T18:56:17.879Z"
   },
   {
    "duration": 387,
    "start_time": "2022-11-30T18:58:46.690Z"
   },
   {
    "duration": 370,
    "start_time": "2022-11-30T18:58:55.714Z"
   },
   {
    "duration": 378,
    "start_time": "2022-11-30T18:59:04.035Z"
   },
   {
    "duration": 379,
    "start_time": "2022-11-30T18:59:50.563Z"
   },
   {
    "duration": 330,
    "start_time": "2022-11-30T19:01:29.613Z"
   },
   {
    "duration": 323,
    "start_time": "2022-11-30T19:01:35.790Z"
   },
   {
    "duration": 193,
    "start_time": "2022-11-30T19:03:05.575Z"
   },
   {
    "duration": 211,
    "start_time": "2022-11-30T19:03:11.031Z"
   },
   {
    "duration": 176,
    "start_time": "2022-11-30T19:03:16.927Z"
   },
   {
    "duration": 18,
    "start_time": "2022-11-30T19:03:33.304Z"
   },
   {
    "duration": 1491,
    "start_time": "2022-11-30T19:03:53.120Z"
   },
   {
    "duration": 1333,
    "start_time": "2022-11-30T19:04:04.513Z"
   },
   {
    "duration": 1289,
    "start_time": "2022-11-30T19:04:06.609Z"
   },
   {
    "duration": 1233,
    "start_time": "2022-11-30T19:04:18.705Z"
   },
   {
    "duration": 168,
    "start_time": "2022-11-30T19:06:58.332Z"
   },
   {
    "duration": 219,
    "start_time": "2022-11-30T19:07:28.325Z"
   },
   {
    "duration": 205,
    "start_time": "2022-11-30T19:07:42.316Z"
   },
   {
    "duration": 230,
    "start_time": "2022-11-30T19:07:46.533Z"
   },
   {
    "duration": 215,
    "start_time": "2022-11-30T19:07:49.564Z"
   },
   {
    "duration": 210,
    "start_time": "2022-11-30T19:07:52.509Z"
   },
   {
    "duration": 214,
    "start_time": "2022-11-30T19:07:54.244Z"
   },
   {
    "duration": 218,
    "start_time": "2022-11-30T19:07:57.276Z"
   },
   {
    "duration": 206,
    "start_time": "2022-11-30T19:08:00.133Z"
   },
   {
    "duration": 211,
    "start_time": "2022-11-30T19:08:01.900Z"
   },
   {
    "duration": 204,
    "start_time": "2022-11-30T19:08:21.365Z"
   },
   {
    "duration": 231,
    "start_time": "2022-11-30T19:08:33.582Z"
   },
   {
    "duration": 239,
    "start_time": "2022-11-30T19:08:37.575Z"
   },
   {
    "duration": 210,
    "start_time": "2022-11-30T19:08:40.438Z"
   },
   {
    "duration": 209,
    "start_time": "2022-11-30T19:08:42.805Z"
   },
   {
    "duration": 202,
    "start_time": "2022-11-30T19:08:45.277Z"
   },
   {
    "duration": 216,
    "start_time": "2022-11-30T19:08:48.309Z"
   },
   {
    "duration": 210,
    "start_time": "2022-11-30T19:10:16.128Z"
   },
   {
    "duration": 231,
    "start_time": "2022-11-30T19:10:21.649Z"
   },
   {
    "duration": 213,
    "start_time": "2022-11-30T19:10:32.151Z"
   },
   {
    "duration": 220,
    "start_time": "2022-11-30T19:10:33.951Z"
   },
   {
    "duration": 211,
    "start_time": "2022-11-30T19:10:35.209Z"
   },
   {
    "duration": 200,
    "start_time": "2022-11-30T19:10:36.783Z"
   },
   {
    "duration": 162,
    "start_time": "2022-11-30T19:11:22.808Z"
   },
   {
    "duration": 200,
    "start_time": "2022-11-30T19:11:26.913Z"
   },
   {
    "duration": 217,
    "start_time": "2022-11-30T19:13:50.508Z"
   },
   {
    "duration": 231,
    "start_time": "2022-11-30T19:14:40.412Z"
   },
   {
    "duration": 645,
    "start_time": "2022-11-30T19:14:55.263Z"
   },
   {
    "duration": 616,
    "start_time": "2022-11-30T19:15:51.494Z"
   },
   {
    "duration": 641,
    "start_time": "2022-11-30T19:15:58.814Z"
   },
   {
    "duration": 628,
    "start_time": "2022-11-30T19:16:07.799Z"
   },
   {
    "duration": 639,
    "start_time": "2022-11-30T19:16:15.151Z"
   },
   {
    "duration": 623,
    "start_time": "2022-11-30T19:16:31.822Z"
   },
   {
    "duration": 581,
    "start_time": "2022-11-30T19:21:27.452Z"
   },
   {
    "duration": 628,
    "start_time": "2022-11-30T19:21:48.709Z"
   },
   {
    "duration": 552,
    "start_time": "2022-11-30T19:24:17.567Z"
   },
   {
    "duration": 575,
    "start_time": "2022-11-30T19:24:37.431Z"
   },
   {
    "duration": 166,
    "start_time": "2022-11-30T19:44:26.241Z"
   },
   {
    "duration": 198,
    "start_time": "2022-11-30T19:45:03.751Z"
   },
   {
    "duration": 64,
    "start_time": "2022-11-30T19:45:16.287Z"
   },
   {
    "duration": 350,
    "start_time": "2022-11-30T19:45:56.239Z"
   },
   {
    "duration": 52,
    "start_time": "2022-12-01T08:49:42.046Z"
   },
   {
    "duration": 394,
    "start_time": "2022-12-01T08:49:50.066Z"
   },
   {
    "duration": 394,
    "start_time": "2022-12-01T08:49:50.462Z"
   },
   {
    "duration": 201,
    "start_time": "2022-12-01T08:49:50.858Z"
   },
   {
    "duration": 24,
    "start_time": "2022-12-01T08:49:51.061Z"
   },
   {
    "duration": 19,
    "start_time": "2022-12-01T08:49:51.087Z"
   },
   {
    "duration": 6,
    "start_time": "2022-12-01T08:49:51.108Z"
   },
   {
    "duration": 14,
    "start_time": "2022-12-01T08:49:51.116Z"
   },
   {
    "duration": 14,
    "start_time": "2022-12-01T08:49:51.132Z"
   },
   {
    "duration": 7,
    "start_time": "2022-12-01T08:49:51.147Z"
   },
   {
    "duration": 6,
    "start_time": "2022-12-01T08:49:51.157Z"
   },
   {
    "duration": 7,
    "start_time": "2022-12-01T08:49:51.165Z"
   },
   {
    "duration": 51,
    "start_time": "2022-12-01T08:49:51.174Z"
   },
   {
    "duration": 12,
    "start_time": "2022-12-01T08:49:51.226Z"
   },
   {
    "duration": 5,
    "start_time": "2022-12-01T08:49:51.240Z"
   },
   {
    "duration": 13,
    "start_time": "2022-12-01T08:49:51.246Z"
   },
   {
    "duration": 76,
    "start_time": "2022-12-01T08:49:51.261Z"
   },
   {
    "duration": 10,
    "start_time": "2022-12-01T08:49:51.339Z"
   },
   {
    "duration": 8,
    "start_time": "2022-12-01T08:49:51.350Z"
   },
   {
    "duration": 10,
    "start_time": "2022-12-01T08:49:51.360Z"
   },
   {
    "duration": 10,
    "start_time": "2022-12-01T08:49:51.372Z"
   },
   {
    "duration": 34,
    "start_time": "2022-12-01T08:49:51.384Z"
   },
   {
    "duration": 6,
    "start_time": "2022-12-01T08:49:51.420Z"
   },
   {
    "duration": 11,
    "start_time": "2022-12-01T08:49:51.428Z"
   },
   {
    "duration": 23,
    "start_time": "2022-12-01T08:49:51.440Z"
   },
   {
    "duration": 6,
    "start_time": "2022-12-01T08:49:51.465Z"
   },
   {
    "duration": 6,
    "start_time": "2022-12-01T08:49:51.472Z"
   },
   {
    "duration": 35,
    "start_time": "2022-12-01T08:49:51.479Z"
   },
   {
    "duration": 40,
    "start_time": "2022-12-01T08:49:51.517Z"
   },
   {
    "duration": 5,
    "start_time": "2022-12-01T08:49:51.559Z"
   },
   {
    "duration": 48,
    "start_time": "2022-12-01T08:49:51.566Z"
   },
   {
    "duration": 52,
    "start_time": "2022-12-01T08:49:51.616Z"
   },
   {
    "duration": 17,
    "start_time": "2022-12-01T08:49:51.670Z"
   },
   {
    "duration": 24,
    "start_time": "2022-12-01T08:49:51.689Z"
   },
   {
    "duration": 4,
    "start_time": "2022-12-01T08:49:51.715Z"
   },
   {
    "duration": 186,
    "start_time": "2022-12-01T08:49:51.720Z"
   },
   {
    "duration": 17,
    "start_time": "2022-12-01T08:49:51.908Z"
   },
   {
    "duration": 54,
    "start_time": "2022-12-01T08:49:51.927Z"
   },
   {
    "duration": 32,
    "start_time": "2022-12-01T08:49:51.982Z"
   },
   {
    "duration": 259,
    "start_time": "2022-12-01T08:49:52.015Z"
   },
   {
    "duration": 7,
    "start_time": "2022-12-01T08:49:52.275Z"
   },
   {
    "duration": 34,
    "start_time": "2022-12-01T08:49:52.283Z"
   },
   {
    "duration": 8,
    "start_time": "2022-12-01T08:49:52.319Z"
   },
   {
    "duration": 14,
    "start_time": "2022-12-01T08:49:52.329Z"
   },
   {
    "duration": 290,
    "start_time": "2022-12-01T08:49:52.345Z"
   },
   {
    "duration": 230,
    "start_time": "2022-12-01T08:49:52.636Z"
   },
   {
    "duration": 338,
    "start_time": "2022-12-01T08:49:52.867Z"
   },
   {
    "duration": 12,
    "start_time": "2022-12-01T08:49:53.206Z"
   },
   {
    "duration": 201,
    "start_time": "2022-12-01T08:49:53.220Z"
   },
   {
    "duration": 34,
    "start_time": "2022-12-01T08:49:53.422Z"
   },
   {
    "duration": 554,
    "start_time": "2022-12-01T08:49:53.458Z"
   },
   {
    "duration": 572,
    "start_time": "2022-12-01T08:49:54.014Z"
   },
   {
    "duration": 413,
    "start_time": "2022-12-01T08:49:54.588Z"
   },
   {
    "duration": 14,
    "start_time": "2022-12-01T08:49:55.003Z"
   },
   {
    "duration": 7,
    "start_time": "2022-12-01T08:51:23.950Z"
   },
   {
    "duration": 21,
    "start_time": "2022-12-01T08:51:34.205Z"
   },
   {
    "duration": 14,
    "start_time": "2022-12-01T08:51:56.118Z"
   },
   {
    "duration": 422,
    "start_time": "2022-12-01T09:13:16.711Z"
   },
   {
    "duration": 182,
    "start_time": "2022-12-01T09:13:48.935Z"
   },
   {
    "duration": 324,
    "start_time": "2022-12-01T09:14:06.463Z"
   },
   {
    "duration": 346,
    "start_time": "2022-12-01T09:14:33.119Z"
   },
   {
    "duration": 341,
    "start_time": "2022-12-01T09:14:40.591Z"
   },
   {
    "duration": 425,
    "start_time": "2022-12-01T09:14:46.560Z"
   },
   {
    "duration": 370,
    "start_time": "2022-12-01T09:14:56.871Z"
   },
   {
    "duration": 336,
    "start_time": "2022-12-01T09:15:07.655Z"
   },
   {
    "duration": 331,
    "start_time": "2022-12-01T09:15:13.208Z"
   },
   {
    "duration": 331,
    "start_time": "2022-12-01T09:15:24.463Z"
   },
   {
    "duration": 331,
    "start_time": "2022-12-01T09:15:40.664Z"
   },
   {
    "duration": 424,
    "start_time": "2022-12-01T09:16:54.457Z"
   },
   {
    "duration": 338,
    "start_time": "2022-12-01T09:17:09.797Z"
   },
   {
    "duration": 303,
    "start_time": "2022-12-01T09:26:52.958Z"
   },
   {
    "duration": 324,
    "start_time": "2022-12-01T09:26:57.989Z"
   },
   {
    "duration": 316,
    "start_time": "2022-12-01T09:27:04.780Z"
   },
   {
    "duration": 384,
    "start_time": "2022-12-01T09:33:34.014Z"
   },
   {
    "duration": 280,
    "start_time": "2022-12-01T09:33:55.766Z"
   },
   {
    "duration": 297,
    "start_time": "2022-12-01T09:34:14.333Z"
   },
   {
    "duration": 18,
    "start_time": "2022-12-01T10:47:03.480Z"
   },
   {
    "duration": 18,
    "start_time": "2022-12-01T10:47:40.960Z"
   },
   {
    "duration": 369,
    "start_time": "2022-12-01T10:48:28.450Z"
   },
   {
    "duration": 3,
    "start_time": "2022-12-01T10:48:29.426Z"
   },
   {
    "duration": 13,
    "start_time": "2022-12-01T10:48:34.137Z"
   },
   {
    "duration": 18,
    "start_time": "2022-12-01T11:05:39.016Z"
   },
   {
    "duration": 18,
    "start_time": "2022-12-01T11:05:46.744Z"
   },
   {
    "duration": 16,
    "start_time": "2022-12-01T11:46:46.657Z"
   },
   {
    "duration": 13,
    "start_time": "2022-12-01T11:47:11.797Z"
   },
   {
    "duration": 13,
    "start_time": "2022-12-01T11:48:14.355Z"
   },
   {
    "duration": 13,
    "start_time": "2022-12-01T11:48:23.785Z"
   },
   {
    "duration": 12,
    "start_time": "2022-12-01T11:48:29.955Z"
   },
   {
    "duration": 13,
    "start_time": "2022-12-01T11:48:35.731Z"
   },
   {
    "duration": 15,
    "start_time": "2022-12-01T11:49:06.924Z"
   },
   {
    "duration": 13,
    "start_time": "2022-12-01T11:49:18.782Z"
   },
   {
    "duration": 15,
    "start_time": "2022-12-01T11:49:27.028Z"
   },
   {
    "duration": 13,
    "start_time": "2022-12-01T11:50:42.325Z"
   },
   {
    "duration": 11,
    "start_time": "2022-12-01T11:50:56.246Z"
   },
   {
    "duration": 13,
    "start_time": "2022-12-01T11:51:09.685Z"
   },
   {
    "duration": 12,
    "start_time": "2022-12-01T11:53:00.368Z"
   },
   {
    "duration": 9,
    "start_time": "2022-12-01T11:57:33.245Z"
   },
   {
    "duration": 10,
    "start_time": "2022-12-01T11:57:40.949Z"
   },
   {
    "duration": 11,
    "start_time": "2022-12-01T12:01:01.273Z"
   },
   {
    "duration": 386,
    "start_time": "2022-12-01T12:37:08.181Z"
   },
   {
    "duration": 417,
    "start_time": "2022-12-01T12:37:28.884Z"
   },
   {
    "duration": 240,
    "start_time": "2022-12-01T12:37:29.303Z"
   },
   {
    "duration": 446,
    "start_time": "2022-12-01T12:37:29.546Z"
   },
   {
    "duration": 2,
    "start_time": "2022-12-01T12:37:29.994Z"
   },
   {
    "duration": 60,
    "start_time": "2022-12-01T12:37:29.997Z"
   },
   {
    "duration": 25,
    "start_time": "2022-12-01T12:37:30.059Z"
   },
   {
    "duration": 14,
    "start_time": "2022-12-01T12:37:30.085Z"
   },
   {
    "duration": 20,
    "start_time": "2022-12-01T12:37:30.101Z"
   },
   {
    "duration": 29,
    "start_time": "2022-12-01T12:37:30.123Z"
   },
   {
    "duration": 13,
    "start_time": "2022-12-01T12:37:30.153Z"
   },
   {
    "duration": 35,
    "start_time": "2022-12-01T12:37:30.168Z"
   },
   {
    "duration": 22,
    "start_time": "2022-12-01T12:37:30.205Z"
   },
   {
    "duration": 26,
    "start_time": "2022-12-01T12:37:30.229Z"
   },
   {
    "duration": 43,
    "start_time": "2022-12-01T12:37:30.257Z"
   },
   {
    "duration": 28,
    "start_time": "2022-12-01T12:37:30.302Z"
   },
   {
    "duration": 47,
    "start_time": "2022-12-01T12:37:30.333Z"
   },
   {
    "duration": 48,
    "start_time": "2022-12-01T12:37:30.382Z"
   },
   {
    "duration": 110,
    "start_time": "2022-12-01T12:37:30.433Z"
   },
   {
    "duration": 10,
    "start_time": "2022-12-01T12:37:30.544Z"
   },
   {
    "duration": 24,
    "start_time": "2022-12-01T12:37:30.556Z"
   },
   {
    "duration": 39,
    "start_time": "2022-12-01T12:37:30.582Z"
   },
   {
    "duration": 30,
    "start_time": "2022-12-01T12:37:30.623Z"
   },
   {
    "duration": 30,
    "start_time": "2022-12-01T12:37:30.654Z"
   },
   {
    "duration": 22,
    "start_time": "2022-12-01T12:37:30.686Z"
   },
   {
    "duration": 24,
    "start_time": "2022-12-01T12:37:30.710Z"
   },
   {
    "duration": 40,
    "start_time": "2022-12-01T12:37:30.735Z"
   },
   {
    "duration": 18,
    "start_time": "2022-12-01T12:37:30.779Z"
   },
   {
    "duration": 20,
    "start_time": "2022-12-01T12:37:30.799Z"
   },
   {
    "duration": 21,
    "start_time": "2022-12-01T12:37:30.821Z"
   },
   {
    "duration": 54,
    "start_time": "2022-12-01T12:37:30.844Z"
   },
   {
    "duration": 5,
    "start_time": "2022-12-01T12:37:30.900Z"
   },
   {
    "duration": 47,
    "start_time": "2022-12-01T12:37:30.906Z"
   },
   {
    "duration": 56,
    "start_time": "2022-12-01T12:37:30.956Z"
   },
   {
    "duration": 13,
    "start_time": "2022-12-01T12:37:31.014Z"
   },
   {
    "duration": 13,
    "start_time": "2022-12-01T12:37:31.029Z"
   },
   {
    "duration": 9,
    "start_time": "2022-12-01T12:37:31.044Z"
   },
   {
    "duration": 190,
    "start_time": "2022-12-01T12:37:31.054Z"
   },
   {
    "duration": 16,
    "start_time": "2022-12-01T12:37:31.246Z"
   },
   {
    "duration": 76,
    "start_time": "2022-12-01T12:37:31.263Z"
   },
   {
    "duration": 6,
    "start_time": "2022-12-01T12:37:31.341Z"
   },
   {
    "duration": 265,
    "start_time": "2022-12-01T12:37:31.349Z"
   },
   {
    "duration": 8,
    "start_time": "2022-12-01T12:37:31.615Z"
   },
   {
    "duration": 25,
    "start_time": "2022-12-01T12:37:31.625Z"
   },
   {
    "duration": 7,
    "start_time": "2022-12-01T12:37:31.652Z"
   },
   {
    "duration": 8,
    "start_time": "2022-12-01T12:37:31.661Z"
   },
   {
    "duration": 315,
    "start_time": "2022-12-01T12:37:31.671Z"
   },
   {
    "duration": 395,
    "start_time": "2022-12-01T12:37:31.987Z"
   },
   {
    "duration": 0,
    "start_time": "2022-12-01T12:37:32.384Z"
   },
   {
    "duration": 0,
    "start_time": "2022-12-01T12:37:32.385Z"
   },
   {
    "duration": 0,
    "start_time": "2022-12-01T12:37:32.386Z"
   },
   {
    "duration": 0,
    "start_time": "2022-12-01T12:37:32.388Z"
   },
   {
    "duration": 0,
    "start_time": "2022-12-01T12:37:32.389Z"
   },
   {
    "duration": 0,
    "start_time": "2022-12-01T12:37:32.390Z"
   },
   {
    "duration": 0,
    "start_time": "2022-12-01T12:37:32.391Z"
   },
   {
    "duration": 0,
    "start_time": "2022-12-01T12:37:32.392Z"
   },
   {
    "duration": 0,
    "start_time": "2022-12-01T12:37:32.392Z"
   },
   {
    "duration": 0,
    "start_time": "2022-12-01T12:37:32.393Z"
   },
   {
    "duration": 0,
    "start_time": "2022-12-01T12:37:32.393Z"
   },
   {
    "duration": 301,
    "start_time": "2022-12-01T12:37:51.029Z"
   },
   {
    "duration": 384,
    "start_time": "2022-12-01T12:41:10.922Z"
   },
   {
    "duration": 233,
    "start_time": "2022-12-01T12:41:11.308Z"
   },
   {
    "duration": 432,
    "start_time": "2022-12-01T12:41:11.542Z"
   },
   {
    "duration": 3,
    "start_time": "2022-12-01T12:41:11.975Z"
   },
   {
    "duration": 56,
    "start_time": "2022-12-01T12:41:11.979Z"
   },
   {
    "duration": 26,
    "start_time": "2022-12-01T12:41:12.036Z"
   },
   {
    "duration": 17,
    "start_time": "2022-12-01T12:41:12.064Z"
   },
   {
    "duration": 32,
    "start_time": "2022-12-01T12:41:12.082Z"
   },
   {
    "duration": 22,
    "start_time": "2022-12-01T12:41:12.116Z"
   },
   {
    "duration": 13,
    "start_time": "2022-12-01T12:41:12.142Z"
   },
   {
    "duration": 8,
    "start_time": "2022-12-01T12:41:12.157Z"
   },
   {
    "duration": 5,
    "start_time": "2022-12-01T12:41:12.167Z"
   },
   {
    "duration": 40,
    "start_time": "2022-12-01T12:41:12.174Z"
   },
   {
    "duration": 12,
    "start_time": "2022-12-01T12:41:12.216Z"
   },
   {
    "duration": 15,
    "start_time": "2022-12-01T12:41:12.230Z"
   },
   {
    "duration": 7,
    "start_time": "2022-12-01T12:41:12.247Z"
   },
   {
    "duration": 8,
    "start_time": "2022-12-01T12:41:12.256Z"
   },
   {
    "duration": 128,
    "start_time": "2022-12-01T12:41:12.266Z"
   },
   {
    "duration": 11,
    "start_time": "2022-12-01T12:41:12.396Z"
   },
   {
    "duration": 4,
    "start_time": "2022-12-01T12:41:12.409Z"
   },
   {
    "duration": 8,
    "start_time": "2022-12-01T12:41:12.415Z"
   },
   {
    "duration": 11,
    "start_time": "2022-12-01T12:41:12.425Z"
   },
   {
    "duration": 14,
    "start_time": "2022-12-01T12:41:12.438Z"
   },
   {
    "duration": 12,
    "start_time": "2022-12-01T12:41:12.453Z"
   },
   {
    "duration": 8,
    "start_time": "2022-12-01T12:41:12.466Z"
   },
   {
    "duration": 42,
    "start_time": "2022-12-01T12:41:12.476Z"
   },
   {
    "duration": 6,
    "start_time": "2022-12-01T12:41:12.519Z"
   },
   {
    "duration": 5,
    "start_time": "2022-12-01T12:41:12.529Z"
   },
   {
    "duration": 6,
    "start_time": "2022-12-01T12:41:12.535Z"
   },
   {
    "duration": 72,
    "start_time": "2022-12-01T12:41:12.543Z"
   },
   {
    "duration": 5,
    "start_time": "2022-12-01T12:41:12.617Z"
   },
   {
    "duration": 27,
    "start_time": "2022-12-01T12:41:12.624Z"
   },
   {
    "duration": 61,
    "start_time": "2022-12-01T12:41:12.653Z"
   },
   {
    "duration": 14,
    "start_time": "2022-12-01T12:41:12.716Z"
   },
   {
    "duration": 7,
    "start_time": "2022-12-01T12:41:12.731Z"
   },
   {
    "duration": 5,
    "start_time": "2022-12-01T12:41:12.739Z"
   },
   {
    "duration": 196,
    "start_time": "2022-12-01T12:41:12.745Z"
   },
   {
    "duration": 27,
    "start_time": "2022-12-01T12:41:12.943Z"
   },
   {
    "duration": 76,
    "start_time": "2022-12-01T12:41:12.972Z"
   },
   {
    "duration": 6,
    "start_time": "2022-12-01T12:41:13.050Z"
   },
   {
    "duration": 269,
    "start_time": "2022-12-01T12:41:13.057Z"
   },
   {
    "duration": 7,
    "start_time": "2022-12-01T12:41:13.327Z"
   },
   {
    "duration": 21,
    "start_time": "2022-12-01T12:41:13.335Z"
   },
   {
    "duration": 9,
    "start_time": "2022-12-01T12:41:13.358Z"
   },
   {
    "duration": 8,
    "start_time": "2022-12-01T12:41:13.368Z"
   },
   {
    "duration": 317,
    "start_time": "2022-12-01T12:41:13.378Z"
   },
   {
    "duration": 324,
    "start_time": "2022-12-01T12:41:13.697Z"
   },
   {
    "duration": 336,
    "start_time": "2022-12-01T12:41:14.023Z"
   },
   {
    "duration": 12,
    "start_time": "2022-12-01T12:41:14.362Z"
   },
   {
    "duration": 207,
    "start_time": "2022-12-01T12:41:14.375Z"
   },
   {
    "duration": 44,
    "start_time": "2022-12-01T12:41:14.584Z"
   },
   {
    "duration": 594,
    "start_time": "2022-12-01T12:41:14.630Z"
   },
   {
    "duration": 569,
    "start_time": "2022-12-01T12:41:15.226Z"
   },
   {
    "duration": 327,
    "start_time": "2022-12-01T12:41:15.797Z"
   },
   {
    "duration": 8,
    "start_time": "2022-12-01T12:41:16.125Z"
   },
   {
    "duration": 11,
    "start_time": "2022-12-01T12:41:16.135Z"
   },
   {
    "duration": 8,
    "start_time": "2022-12-01T12:41:16.148Z"
   },
   {
    "duration": 11,
    "start_time": "2022-12-01T12:41:16.158Z"
   },
   {
    "duration": 406,
    "start_time": "2022-12-01T13:13:39.446Z"
   },
   {
    "duration": 231,
    "start_time": "2022-12-01T13:13:39.854Z"
   },
   {
    "duration": 489,
    "start_time": "2022-12-01T13:13:40.086Z"
   },
   {
    "duration": 3,
    "start_time": "2022-12-01T13:13:40.577Z"
   },
   {
    "duration": 73,
    "start_time": "2022-12-01T13:13:40.582Z"
   },
   {
    "duration": 24,
    "start_time": "2022-12-01T13:13:40.657Z"
   },
   {
    "duration": 26,
    "start_time": "2022-12-01T13:13:40.683Z"
   },
   {
    "duration": 9,
    "start_time": "2022-12-01T13:13:40.710Z"
   },
   {
    "duration": 29,
    "start_time": "2022-12-01T13:13:40.720Z"
   },
   {
    "duration": 22,
    "start_time": "2022-12-01T13:13:40.751Z"
   },
   {
    "duration": 5,
    "start_time": "2022-12-01T13:13:40.775Z"
   },
   {
    "duration": 4,
    "start_time": "2022-12-01T13:13:40.782Z"
   },
   {
    "duration": 5,
    "start_time": "2022-12-01T13:13:40.788Z"
   },
   {
    "duration": 10,
    "start_time": "2022-12-01T13:13:40.796Z"
   },
   {
    "duration": 33,
    "start_time": "2022-12-01T13:13:40.808Z"
   },
   {
    "duration": 5,
    "start_time": "2022-12-01T13:13:40.843Z"
   },
   {
    "duration": 13,
    "start_time": "2022-12-01T13:13:40.849Z"
   },
   {
    "duration": 52,
    "start_time": "2022-12-01T13:13:40.864Z"
   },
   {
    "duration": 28,
    "start_time": "2022-12-01T13:13:40.918Z"
   },
   {
    "duration": 6,
    "start_time": "2022-12-01T13:13:40.947Z"
   },
   {
    "duration": 16,
    "start_time": "2022-12-01T13:13:40.955Z"
   },
   {
    "duration": 12,
    "start_time": "2022-12-01T13:13:40.972Z"
   },
   {
    "duration": 23,
    "start_time": "2022-12-01T13:13:40.987Z"
   },
   {
    "duration": 28,
    "start_time": "2022-12-01T13:13:41.011Z"
   },
   {
    "duration": 13,
    "start_time": "2022-12-01T13:13:41.040Z"
   },
   {
    "duration": 18,
    "start_time": "2022-12-01T13:13:41.055Z"
   },
   {
    "duration": 5,
    "start_time": "2022-12-01T13:13:41.075Z"
   },
   {
    "duration": 7,
    "start_time": "2022-12-01T13:13:41.081Z"
   },
   {
    "duration": 5,
    "start_time": "2022-12-01T13:13:41.090Z"
   },
   {
    "duration": 63,
    "start_time": "2022-12-01T13:13:41.097Z"
   },
   {
    "duration": 4,
    "start_time": "2022-12-01T13:13:41.162Z"
   },
   {
    "duration": 39,
    "start_time": "2022-12-01T13:13:41.168Z"
   },
   {
    "duration": 97,
    "start_time": "2022-12-01T13:13:41.208Z"
   },
   {
    "duration": 29,
    "start_time": "2022-12-01T13:13:41.307Z"
   },
   {
    "duration": 32,
    "start_time": "2022-12-01T13:13:41.338Z"
   },
   {
    "duration": 54,
    "start_time": "2022-12-01T13:13:41.372Z"
   },
   {
    "duration": 238,
    "start_time": "2022-12-01T13:13:41.427Z"
   },
   {
    "duration": 16,
    "start_time": "2022-12-01T13:13:41.667Z"
   },
   {
    "duration": 75,
    "start_time": "2022-12-01T13:13:41.685Z"
   },
   {
    "duration": 6,
    "start_time": "2022-12-01T13:13:41.762Z"
   },
   {
    "duration": 298,
    "start_time": "2022-12-01T13:13:41.772Z"
   },
   {
    "duration": 7,
    "start_time": "2022-12-01T13:13:42.072Z"
   },
   {
    "duration": 22,
    "start_time": "2022-12-01T13:13:42.081Z"
   },
   {
    "duration": 10,
    "start_time": "2022-12-01T13:13:42.105Z"
   },
   {
    "duration": 6,
    "start_time": "2022-12-01T13:13:42.117Z"
   },
   {
    "duration": 303,
    "start_time": "2022-12-01T13:13:42.125Z"
   },
   {
    "duration": 325,
    "start_time": "2022-12-01T13:13:42.429Z"
   },
   {
    "duration": 345,
    "start_time": "2022-12-01T13:13:42.755Z"
   },
   {
    "duration": 11,
    "start_time": "2022-12-01T13:13:43.102Z"
   },
   {
    "duration": 217,
    "start_time": "2022-12-01T13:13:43.115Z"
   },
   {
    "duration": 39,
    "start_time": "2022-12-01T13:13:43.337Z"
   },
   {
    "duration": 689,
    "start_time": "2022-12-01T13:13:43.377Z"
   },
   {
    "duration": 622,
    "start_time": "2022-12-01T13:13:44.068Z"
   },
   {
    "duration": 351,
    "start_time": "2022-12-01T13:13:44.692Z"
   },
   {
    "duration": 9,
    "start_time": "2022-12-01T13:13:45.045Z"
   },
   {
    "duration": 12,
    "start_time": "2022-12-01T13:13:45.056Z"
   },
   {
    "duration": 9,
    "start_time": "2022-12-01T13:13:45.070Z"
   },
   {
    "duration": 9,
    "start_time": "2022-12-01T13:13:45.080Z"
   },
   {
    "duration": 426,
    "start_time": "2022-12-01T15:07:15.927Z"
   },
   {
    "duration": 421,
    "start_time": "2022-12-01T15:07:16.354Z"
   },
   {
    "duration": 487,
    "start_time": "2022-12-01T15:07:16.779Z"
   },
   {
    "duration": 3,
    "start_time": "2022-12-01T15:07:17.267Z"
   },
   {
    "duration": 198,
    "start_time": "2022-12-01T15:07:17.272Z"
   },
   {
    "duration": 23,
    "start_time": "2022-12-01T15:07:17.472Z"
   },
   {
    "duration": 15,
    "start_time": "2022-12-01T15:07:17.496Z"
   },
   {
    "duration": 5,
    "start_time": "2022-12-01T15:07:17.513Z"
   },
   {
    "duration": 26,
    "start_time": "2022-12-01T15:07:17.520Z"
   },
   {
    "duration": 13,
    "start_time": "2022-12-01T15:07:17.548Z"
   },
   {
    "duration": 8,
    "start_time": "2022-12-01T15:07:17.562Z"
   },
   {
    "duration": 5,
    "start_time": "2022-12-01T15:07:17.571Z"
   },
   {
    "duration": 9,
    "start_time": "2022-12-01T15:07:17.578Z"
   },
   {
    "duration": 12,
    "start_time": "2022-12-01T15:07:17.588Z"
   },
   {
    "duration": 46,
    "start_time": "2022-12-01T15:07:17.602Z"
   },
   {
    "duration": 5,
    "start_time": "2022-12-01T15:07:17.650Z"
   },
   {
    "duration": 10,
    "start_time": "2022-12-01T15:07:17.656Z"
   },
   {
    "duration": 83,
    "start_time": "2022-12-01T15:07:17.668Z"
   },
   {
    "duration": 14,
    "start_time": "2022-12-01T15:07:17.753Z"
   },
   {
    "duration": 7,
    "start_time": "2022-12-01T15:07:17.769Z"
   },
   {
    "duration": 9,
    "start_time": "2022-12-01T15:07:17.778Z"
   },
   {
    "duration": 11,
    "start_time": "2022-12-01T15:07:17.788Z"
   },
   {
    "duration": 49,
    "start_time": "2022-12-01T15:07:17.800Z"
   },
   {
    "duration": 7,
    "start_time": "2022-12-01T15:07:17.851Z"
   },
   {
    "duration": 6,
    "start_time": "2022-12-01T15:07:17.860Z"
   },
   {
    "duration": 19,
    "start_time": "2022-12-01T15:07:17.868Z"
   },
   {
    "duration": 6,
    "start_time": "2022-12-01T15:07:17.891Z"
   },
   {
    "duration": 8,
    "start_time": "2022-12-01T15:07:17.898Z"
   },
   {
    "duration": 33,
    "start_time": "2022-12-01T15:07:17.908Z"
   },
   {
    "duration": 46,
    "start_time": "2022-12-01T15:07:17.942Z"
   },
   {
    "duration": 5,
    "start_time": "2022-12-01T15:07:17.989Z"
   },
   {
    "duration": 42,
    "start_time": "2022-12-01T15:07:17.996Z"
   },
   {
    "duration": 45,
    "start_time": "2022-12-01T15:07:18.040Z"
   },
   {
    "duration": 13,
    "start_time": "2022-12-01T15:07:18.086Z"
   },
   {
    "duration": 10,
    "start_time": "2022-12-01T15:07:18.101Z"
   },
   {
    "duration": 25,
    "start_time": "2022-12-01T15:07:18.113Z"
   },
   {
    "duration": 203,
    "start_time": "2022-12-01T15:07:18.140Z"
   },
   {
    "duration": 16,
    "start_time": "2022-12-01T15:07:18.344Z"
   },
   {
    "duration": 55,
    "start_time": "2022-12-01T15:07:18.361Z"
   },
   {
    "duration": 7,
    "start_time": "2022-12-01T15:07:18.438Z"
   },
   {
    "duration": 299,
    "start_time": "2022-12-01T15:07:18.447Z"
   },
   {
    "duration": 9,
    "start_time": "2022-12-01T15:07:18.748Z"
   },
   {
    "duration": 22,
    "start_time": "2022-12-01T15:07:18.759Z"
   },
   {
    "duration": 8,
    "start_time": "2022-12-01T15:07:18.783Z"
   },
   {
    "duration": 6,
    "start_time": "2022-12-01T15:07:18.793Z"
   },
   {
    "duration": 394,
    "start_time": "2022-12-01T15:07:18.801Z"
   },
   {
    "duration": 340,
    "start_time": "2022-12-01T15:07:19.197Z"
   },
   {
    "duration": 363,
    "start_time": "2022-12-01T15:07:19.538Z"
   },
   {
    "duration": 11,
    "start_time": "2022-12-01T15:07:19.903Z"
   },
   {
    "duration": 232,
    "start_time": "2022-12-01T15:07:19.916Z"
   },
   {
    "duration": 38,
    "start_time": "2022-12-01T15:07:20.150Z"
   },
   {
    "duration": 664,
    "start_time": "2022-12-01T15:07:20.190Z"
   },
   {
    "duration": 645,
    "start_time": "2022-12-01T15:07:20.856Z"
   },
   {
    "duration": 362,
    "start_time": "2022-12-01T15:07:21.503Z"
   },
   {
    "duration": 11,
    "start_time": "2022-12-01T15:07:21.867Z"
   },
   {
    "duration": 34,
    "start_time": "2022-12-01T15:07:21.880Z"
   },
   {
    "duration": 18,
    "start_time": "2022-12-01T15:07:21.916Z"
   },
   {
    "duration": 16,
    "start_time": "2022-12-01T15:07:21.936Z"
   },
   {
    "duration": 6,
    "start_time": "2022-12-01T15:12:54.555Z"
   },
   {
    "duration": 496,
    "start_time": "2022-12-01T15:34:29.776Z"
   },
   {
    "duration": 647,
    "start_time": "2022-12-01T15:34:30.276Z"
   },
   {
    "duration": 582,
    "start_time": "2022-12-01T15:34:30.926Z"
   },
   {
    "duration": 4,
    "start_time": "2022-12-01T15:34:31.510Z"
   },
   {
    "duration": 338,
    "start_time": "2022-12-01T15:34:31.518Z"
   },
   {
    "duration": 77,
    "start_time": "2022-12-01T15:34:31.859Z"
   },
   {
    "duration": 19,
    "start_time": "2022-12-01T15:34:31.940Z"
   },
   {
    "duration": 56,
    "start_time": "2022-12-01T15:34:31.961Z"
   },
   {
    "duration": 98,
    "start_time": "2022-12-01T15:34:32.020Z"
   },
   {
    "duration": 95,
    "start_time": "2022-12-01T15:34:32.121Z"
   },
   {
    "duration": 14,
    "start_time": "2022-12-01T15:34:32.219Z"
   },
   {
    "duration": 23,
    "start_time": "2022-12-01T15:34:32.235Z"
   },
   {
    "duration": 58,
    "start_time": "2022-12-01T15:34:32.260Z"
   },
   {
    "duration": 48,
    "start_time": "2022-12-01T15:34:32.323Z"
   },
   {
    "duration": 64,
    "start_time": "2022-12-01T15:34:32.373Z"
   },
   {
    "duration": 7,
    "start_time": "2022-12-01T15:34:32.439Z"
   },
   {
    "duration": 79,
    "start_time": "2022-12-01T15:34:32.448Z"
   },
   {
    "duration": 203,
    "start_time": "2022-12-01T15:34:32.530Z"
   },
   {
    "duration": 15,
    "start_time": "2022-12-01T15:34:32.735Z"
   },
   {
    "duration": 6,
    "start_time": "2022-12-01T15:34:32.753Z"
   },
   {
    "duration": 11,
    "start_time": "2022-12-01T15:34:32.815Z"
   },
   {
    "duration": 88,
    "start_time": "2022-12-01T15:34:32.829Z"
   },
   {
    "duration": 41,
    "start_time": "2022-12-01T15:34:32.919Z"
   },
   {
    "duration": 57,
    "start_time": "2022-12-01T15:34:32.962Z"
   },
   {
    "duration": 31,
    "start_time": "2022-12-01T15:34:33.022Z"
   },
   {
    "duration": 80,
    "start_time": "2022-12-01T15:34:33.055Z"
   },
   {
    "duration": 8,
    "start_time": "2022-12-01T15:34:33.137Z"
   },
   {
    "duration": 74,
    "start_time": "2022-12-01T15:34:33.150Z"
   },
   {
    "duration": 60,
    "start_time": "2022-12-01T15:34:33.226Z"
   },
   {
    "duration": 155,
    "start_time": "2022-12-01T15:34:33.288Z"
   },
   {
    "duration": 6,
    "start_time": "2022-12-01T15:34:33.445Z"
   },
   {
    "duration": 93,
    "start_time": "2022-12-01T15:34:33.454Z"
   },
   {
    "duration": 179,
    "start_time": "2022-12-01T15:34:33.550Z"
   },
   {
    "duration": 47,
    "start_time": "2022-12-01T15:34:33.731Z"
   },
   {
    "duration": 40,
    "start_time": "2022-12-01T15:34:33.820Z"
   },
   {
    "duration": 25,
    "start_time": "2022-12-01T15:34:33.863Z"
   },
   {
    "duration": 310,
    "start_time": "2022-12-01T15:34:33.915Z"
   },
   {
    "duration": 26,
    "start_time": "2022-12-01T15:34:34.227Z"
   },
   {
    "duration": 108,
    "start_time": "2022-12-01T15:34:34.255Z"
   },
   {
    "duration": 13,
    "start_time": "2022-12-01T15:34:34.368Z"
   },
   {
    "duration": 482,
    "start_time": "2022-12-01T15:34:34.390Z"
   },
   {
    "duration": 16,
    "start_time": "2022-12-01T15:34:34.874Z"
   },
   {
    "duration": 50,
    "start_time": "2022-12-01T15:34:34.895Z"
   },
   {
    "duration": 7,
    "start_time": "2022-12-01T15:34:34.947Z"
   },
   {
    "duration": 94,
    "start_time": "2022-12-01T15:34:34.958Z"
   },
   {
    "duration": 469,
    "start_time": "2022-12-01T15:34:35.055Z"
   },
   {
    "duration": 478,
    "start_time": "2022-12-01T15:34:35.526Z"
   },
   {
    "duration": 423,
    "start_time": "2022-12-01T15:34:36.006Z"
   },
   {
    "duration": 12,
    "start_time": "2022-12-01T15:34:36.431Z"
   },
   {
    "duration": 220,
    "start_time": "2022-12-01T15:34:36.445Z"
   },
   {
    "duration": 36,
    "start_time": "2022-12-01T15:34:36.667Z"
   },
   {
    "duration": 687,
    "start_time": "2022-12-01T15:34:36.705Z"
   },
   {
    "duration": 624,
    "start_time": "2022-12-01T15:34:37.394Z"
   },
   {
    "duration": 377,
    "start_time": "2022-12-01T15:34:38.020Z"
   },
   {
    "duration": 17,
    "start_time": "2022-12-01T15:34:38.400Z"
   },
   {
    "duration": 50,
    "start_time": "2022-12-01T15:34:38.419Z"
   },
   {
    "duration": 54,
    "start_time": "2022-12-01T15:34:38.471Z"
   },
   {
    "duration": 28,
    "start_time": "2022-12-01T15:34:38.528Z"
   },
   {
    "duration": 1268,
    "start_time": "2022-12-01T16:26:41.611Z"
   },
   {
    "duration": 108,
    "start_time": "2022-12-01T16:27:43.945Z"
   },
   {
    "duration": 105,
    "start_time": "2022-12-01T16:27:47.520Z"
   },
   {
    "duration": 25,
    "start_time": "2022-12-01T16:27:49.110Z"
   },
   {
    "duration": 3,
    "start_time": "2022-12-01T16:30:10.251Z"
   },
   {
    "duration": 50,
    "start_time": "2022-12-01T16:30:11.549Z"
   },
   {
    "duration": 18,
    "start_time": "2022-12-01T16:30:12.284Z"
   },
   {
    "duration": 15,
    "start_time": "2022-12-01T16:30:14.234Z"
   },
   {
    "duration": 53,
    "start_time": "2022-12-01T16:35:07.266Z"
   },
   {
    "duration": 32,
    "start_time": "2022-12-01T16:42:39.529Z"
   },
   {
    "duration": 812,
    "start_time": "2022-12-01T16:43:24.611Z"
   },
   {
    "duration": 903,
    "start_time": "2022-12-01T16:43:34.378Z"
   },
   {
    "duration": 1025,
    "start_time": "2022-12-01T16:43:58.425Z"
   },
   {
    "duration": 3,
    "start_time": "2022-12-01T16:44:01.006Z"
   },
   {
    "duration": 52,
    "start_time": "2022-12-01T16:44:03.843Z"
   },
   {
    "duration": 19,
    "start_time": "2022-12-01T16:44:04.006Z"
   },
   {
    "duration": 17,
    "start_time": "2022-12-01T16:44:04.593Z"
   },
   {
    "duration": 5,
    "start_time": "2022-12-01T16:44:05.774Z"
   },
   {
    "duration": 14,
    "start_time": "2022-12-01T16:44:07.510Z"
   },
   {
    "duration": 33,
    "start_time": "2022-12-01T16:44:08.093Z"
   },
   {
    "duration": 6,
    "start_time": "2022-12-01T16:44:11.686Z"
   },
   {
    "duration": 5,
    "start_time": "2022-12-01T16:44:11.843Z"
   },
   {
    "duration": 5,
    "start_time": "2022-12-01T16:44:12.011Z"
   },
   {
    "duration": 12,
    "start_time": "2022-12-01T16:44:15.343Z"
   },
   {
    "duration": 14,
    "start_time": "2022-12-01T16:44:15.810Z"
   },
   {
    "duration": 5,
    "start_time": "2022-12-01T16:44:19.356Z"
   },
   {
    "duration": 9,
    "start_time": "2022-12-01T16:44:24.068Z"
   },
   {
    "duration": 55,
    "start_time": "2022-12-01T16:44:24.307Z"
   },
   {
    "duration": 15,
    "start_time": "2022-12-01T16:44:27.521Z"
   },
   {
    "duration": 9,
    "start_time": "2022-12-01T16:49:33.937Z"
   },
   {
    "duration": 104,
    "start_time": "2022-12-01T16:51:31.907Z"
   },
   {
    "duration": 5,
    "start_time": "2022-12-01T16:51:35.909Z"
   },
   {
    "duration": 4,
    "start_time": "2022-12-01T16:51:48.651Z"
   },
   {
    "duration": 30,
    "start_time": "2022-12-01T16:55:36.406Z"
   },
   {
    "duration": 33,
    "start_time": "2022-12-01T16:57:37.386Z"
   },
   {
    "duration": 11,
    "start_time": "2022-12-01T17:00:52.573Z"
   },
   {
    "duration": 16,
    "start_time": "2022-12-01T17:01:01.950Z"
   },
   {
    "duration": 24,
    "start_time": "2022-12-01T17:01:26.518Z"
   },
   {
    "duration": 9,
    "start_time": "2022-12-01T17:01:52.767Z"
   },
   {
    "duration": 4,
    "start_time": "2022-12-01T17:04:29.219Z"
   },
   {
    "duration": 7,
    "start_time": "2022-12-01T17:08:18.693Z"
   },
   {
    "duration": 4,
    "start_time": "2022-12-01T17:08:36.277Z"
   },
   {
    "duration": 5,
    "start_time": "2022-12-01T17:16:53.176Z"
   },
   {
    "duration": 7,
    "start_time": "2022-12-01T17:16:54.815Z"
   },
   {
    "duration": 7,
    "start_time": "2022-12-01T17:17:11.920Z"
   },
   {
    "duration": 9,
    "start_time": "2022-12-01T17:18:48.521Z"
   },
   {
    "duration": 14,
    "start_time": "2022-12-01T17:18:49.313Z"
   },
   {
    "duration": 5,
    "start_time": "2022-12-01T17:18:58.802Z"
   },
   {
    "duration": 5,
    "start_time": "2022-12-01T17:18:59.889Z"
   },
   {
    "duration": 16,
    "start_time": "2022-12-01T17:19:18.346Z"
   },
   {
    "duration": 12,
    "start_time": "2022-12-01T19:28:13.044Z"
   },
   {
    "duration": 10,
    "start_time": "2022-12-01T19:28:18.745Z"
   },
   {
    "duration": 10,
    "start_time": "2022-12-01T19:28:23.857Z"
   },
   {
    "duration": 18,
    "start_time": "2022-12-01T19:28:43.281Z"
   },
   {
    "duration": 21,
    "start_time": "2022-12-01T19:29:31.410Z"
   },
   {
    "duration": 1314,
    "start_time": "2022-12-02T09:06:48.688Z"
   },
   {
    "duration": 194,
    "start_time": "2022-12-02T09:06:50.004Z"
   },
   {
    "duration": 19,
    "start_time": "2022-12-02T09:06:50.199Z"
   },
   {
    "duration": 13,
    "start_time": "2022-12-02T09:06:50.220Z"
   },
   {
    "duration": 5,
    "start_time": "2022-12-02T09:06:51.446Z"
   },
   {
    "duration": 14,
    "start_time": "2022-12-02T09:06:51.912Z"
   },
   {
    "duration": 13,
    "start_time": "2022-12-02T09:06:52.078Z"
   },
   {
    "duration": 6,
    "start_time": "2022-12-02T09:06:52.400Z"
   },
   {
    "duration": 6,
    "start_time": "2022-12-02T09:06:52.559Z"
   },
   {
    "duration": 7,
    "start_time": "2022-12-02T09:06:52.711Z"
   },
   {
    "duration": 10,
    "start_time": "2022-12-02T09:06:57.377Z"
   },
   {
    "duration": 14,
    "start_time": "2022-12-02T09:06:57.561Z"
   },
   {
    "duration": 5,
    "start_time": "2022-12-02T09:06:57.730Z"
   },
   {
    "duration": 10,
    "start_time": "2022-12-02T09:06:59.843Z"
   },
   {
    "duration": 51,
    "start_time": "2022-12-02T09:06:59.996Z"
   },
   {
    "duration": 14,
    "start_time": "2022-12-02T09:07:03.766Z"
   },
   {
    "duration": 4,
    "start_time": "2022-12-02T09:07:04.370Z"
   },
   {
    "duration": 11,
    "start_time": "2022-12-02T09:07:04.843Z"
   },
   {
    "duration": 5,
    "start_time": "2022-12-02T09:07:05.481Z"
   },
   {
    "duration": 26,
    "start_time": "2022-12-02T09:07:05.960Z"
   },
   {
    "duration": 9,
    "start_time": "2022-12-02T09:07:07.968Z"
   },
   {
    "duration": 3,
    "start_time": "2022-12-02T09:07:08.392Z"
   },
   {
    "duration": 4,
    "start_time": "2022-12-02T09:07:50.286Z"
   },
   {
    "duration": 7,
    "start_time": "2022-12-02T09:07:50.816Z"
   },
   {
    "duration": 8,
    "start_time": "2022-12-02T09:07:54.280Z"
   },
   {
    "duration": 17,
    "start_time": "2022-12-02T09:07:54.824Z"
   },
   {
    "duration": 5,
    "start_time": "2022-12-02T09:07:57.494Z"
   },
   {
    "duration": 4,
    "start_time": "2022-12-02T09:07:58.271Z"
   },
   {
    "duration": 14,
    "start_time": "2022-12-02T09:08:17.667Z"
   },
   {
    "duration": 24,
    "start_time": "2022-12-02T09:08:33.837Z"
   },
   {
    "duration": 20,
    "start_time": "2022-12-02T09:08:37.461Z"
   },
   {
    "duration": 15,
    "start_time": "2022-12-02T09:10:46.350Z"
   },
   {
    "duration": 113,
    "start_time": "2022-12-02T09:14:15.838Z"
   },
   {
    "duration": 71,
    "start_time": "2022-12-02T09:14:25.642Z"
   },
   {
    "duration": 670,
    "start_time": "2022-12-02T09:14:45.586Z"
   },
   {
    "duration": 17,
    "start_time": "2022-12-02T09:16:11.069Z"
   },
   {
    "duration": 54,
    "start_time": "2022-12-02T09:16:29.917Z"
   },
   {
    "duration": 3,
    "start_time": "2022-12-02T09:16:38.710Z"
   },
   {
    "duration": 26,
    "start_time": "2022-12-02T09:16:40.189Z"
   },
   {
    "duration": 25,
    "start_time": "2022-12-02T09:19:00.759Z"
   },
   {
    "duration": 16,
    "start_time": "2022-12-02T09:19:41.297Z"
   },
   {
    "duration": 4,
    "start_time": "2022-12-02T09:19:54.361Z"
   },
   {
    "duration": 83,
    "start_time": "2022-12-02T09:20:21.737Z"
   },
   {
    "duration": 94,
    "start_time": "2022-12-02T09:20:25.761Z"
   },
   {
    "duration": 6,
    "start_time": "2022-12-02T09:21:07.186Z"
   },
   {
    "duration": 9,
    "start_time": "2022-12-02T09:21:27.951Z"
   },
   {
    "duration": 117,
    "start_time": "2022-12-02T09:21:35.651Z"
   },
   {
    "duration": 5,
    "start_time": "2022-12-02T09:22:41.917Z"
   },
   {
    "duration": 6,
    "start_time": "2022-12-02T09:23:33.461Z"
   },
   {
    "duration": 80,
    "start_time": "2022-12-02T09:27:24.930Z"
   },
   {
    "duration": 648,
    "start_time": "2022-12-02T09:27:30.934Z"
   },
   {
    "duration": 4,
    "start_time": "2022-12-02T09:28:15.811Z"
   },
   {
    "duration": 16,
    "start_time": "2022-12-02T09:28:27.197Z"
   },
   {
    "duration": 10,
    "start_time": "2022-12-02T09:29:07.595Z"
   },
   {
    "duration": 79,
    "start_time": "2022-12-02T09:29:28.638Z"
   },
   {
    "duration": 11,
    "start_time": "2022-12-02T09:29:34.935Z"
   },
   {
    "duration": 15,
    "start_time": "2022-12-02T09:29:40.148Z"
   },
   {
    "duration": 105,
    "start_time": "2022-12-02T09:33:04.009Z"
   },
   {
    "duration": 4,
    "start_time": "2022-12-02T09:33:09.808Z"
   },
   {
    "duration": 16,
    "start_time": "2022-12-02T09:33:13.530Z"
   },
   {
    "duration": 6,
    "start_time": "2022-12-02T09:33:40.113Z"
   },
   {
    "duration": 17,
    "start_time": "2022-12-02T09:33:41.489Z"
   },
   {
    "duration": 6,
    "start_time": "2022-12-02T09:34:39.866Z"
   },
   {
    "duration": 7,
    "start_time": "2022-12-02T09:34:48.794Z"
   },
   {
    "duration": 9,
    "start_time": "2022-12-02T09:40:44.265Z"
   },
   {
    "duration": 7,
    "start_time": "2022-12-02T09:44:23.453Z"
   },
   {
    "duration": 12,
    "start_time": "2022-12-02T09:49:19.012Z"
   },
   {
    "duration": 11,
    "start_time": "2022-12-02T09:50:04.701Z"
   },
   {
    "duration": 6,
    "start_time": "2022-12-02T09:51:08.150Z"
   },
   {
    "duration": 16,
    "start_time": "2022-12-02T09:57:22.765Z"
   },
   {
    "duration": 16,
    "start_time": "2022-12-02T09:59:01.251Z"
   },
   {
    "duration": 8,
    "start_time": "2022-12-02T09:59:25.712Z"
   },
   {
    "duration": 1175,
    "start_time": "2022-12-02T10:00:16.221Z"
   },
   {
    "duration": 61,
    "start_time": "2022-12-02T10:00:17.398Z"
   },
   {
    "duration": 19,
    "start_time": "2022-12-02T10:00:17.461Z"
   },
   {
    "duration": 14,
    "start_time": "2022-12-02T10:00:17.482Z"
   },
   {
    "duration": 5,
    "start_time": "2022-12-02T10:00:18.107Z"
   },
   {
    "duration": 17,
    "start_time": "2022-12-02T10:00:18.561Z"
   },
   {
    "duration": 14,
    "start_time": "2022-12-02T10:00:18.710Z"
   },
   {
    "duration": 6,
    "start_time": "2022-12-02T10:00:19.324Z"
   },
   {
    "duration": 5,
    "start_time": "2022-12-02T10:00:19.479Z"
   },
   {
    "duration": 5,
    "start_time": "2022-12-02T10:00:19.626Z"
   },
   {
    "duration": 11,
    "start_time": "2022-12-02T10:00:22.491Z"
   },
   {
    "duration": 14,
    "start_time": "2022-12-02T10:00:22.674Z"
   },
   {
    "duration": 6,
    "start_time": "2022-12-02T10:00:23.174Z"
   },
   {
    "duration": 12,
    "start_time": "2022-12-02T10:00:25.019Z"
   },
   {
    "duration": 58,
    "start_time": "2022-12-02T10:00:25.176Z"
   },
   {
    "duration": 16,
    "start_time": "2022-12-02T10:00:26.774Z"
   },
   {
    "duration": 5,
    "start_time": "2022-12-02T10:00:26.924Z"
   },
   {
    "duration": 10,
    "start_time": "2022-12-02T10:00:27.078Z"
   },
   {
    "duration": 4,
    "start_time": "2022-12-02T10:00:27.226Z"
   },
   {
    "duration": 27,
    "start_time": "2022-12-02T10:00:27.812Z"
   },
   {
    "duration": 7,
    "start_time": "2022-12-02T10:00:27.970Z"
   },
   {
    "duration": 4,
    "start_time": "2022-12-02T10:00:29.362Z"
   },
   {
    "duration": 5,
    "start_time": "2022-12-02T10:00:33.282Z"
   },
   {
    "duration": 10,
    "start_time": "2022-12-02T10:00:33.792Z"
   },
   {
    "duration": 8,
    "start_time": "2022-12-02T10:00:37.945Z"
   },
   {
    "duration": 14,
    "start_time": "2022-12-02T10:00:39.594Z"
   },
   {
    "duration": 4,
    "start_time": "2022-12-02T10:00:40.144Z"
   },
   {
    "duration": 5,
    "start_time": "2022-12-02T10:00:41.153Z"
   },
   {
    "duration": 16,
    "start_time": "2022-12-02T10:00:45.645Z"
   },
   {
    "duration": 18,
    "start_time": "2022-12-02T10:00:46.499Z"
   },
   {
    "duration": 17,
    "start_time": "2022-12-02T10:00:48.744Z"
   },
   {
    "duration": 7,
    "start_time": "2022-12-02T10:00:52.358Z"
   },
   {
    "duration": 6,
    "start_time": "2022-12-02T10:10:28.724Z"
   },
   {
    "duration": 24,
    "start_time": "2022-12-02T10:12:18.974Z"
   },
   {
    "duration": 4,
    "start_time": "2022-12-02T10:14:07.417Z"
   },
   {
    "duration": 7,
    "start_time": "2022-12-02T10:15:05.852Z"
   },
   {
    "duration": 17,
    "start_time": "2022-12-02T10:15:17.539Z"
   },
   {
    "duration": 4,
    "start_time": "2022-12-02T10:16:33.971Z"
   },
   {
    "duration": 17,
    "start_time": "2022-12-02T10:17:54.308Z"
   },
   {
    "duration": 7,
    "start_time": "2022-12-02T10:28:20.551Z"
   },
   {
    "duration": 106,
    "start_time": "2022-12-02T10:29:12.051Z"
   },
   {
    "duration": 13,
    "start_time": "2022-12-02T10:30:56.974Z"
   },
   {
    "duration": 11,
    "start_time": "2022-12-02T10:31:09.134Z"
   },
   {
    "duration": 9,
    "start_time": "2022-12-02T10:31:13.622Z"
   },
   {
    "duration": 9,
    "start_time": "2022-12-02T10:32:35.297Z"
   },
   {
    "duration": 9,
    "start_time": "2022-12-02T10:33:40.697Z"
   },
   {
    "duration": 7,
    "start_time": "2022-12-02T10:33:50.762Z"
   },
   {
    "duration": 24,
    "start_time": "2022-12-02T10:48:29.192Z"
   },
   {
    "duration": 9,
    "start_time": "2022-12-02T10:48:32.058Z"
   },
   {
    "duration": 8,
    "start_time": "2022-12-02T10:49:13.122Z"
   },
   {
    "duration": 5,
    "start_time": "2022-12-02T10:49:24.216Z"
   },
   {
    "duration": 4,
    "start_time": "2022-12-02T10:49:32.724Z"
   },
   {
    "duration": 9,
    "start_time": "2022-12-02T10:50:27.260Z"
   },
   {
    "duration": 6,
    "start_time": "2022-12-02T10:50:41.084Z"
   },
   {
    "duration": 21,
    "start_time": "2022-12-02T10:53:57.710Z"
   },
   {
    "duration": 3,
    "start_time": "2022-12-02T10:54:48.492Z"
   },
   {
    "duration": 7,
    "start_time": "2022-12-02T10:54:49.463Z"
   },
   {
    "duration": 4,
    "start_time": "2022-12-02T10:54:51.103Z"
   },
   {
    "duration": 19,
    "start_time": "2022-12-02T10:56:02.688Z"
   },
   {
    "duration": 13,
    "start_time": "2022-12-02T10:56:50.966Z"
   },
   {
    "duration": 18,
    "start_time": "2022-12-02T10:57:05.889Z"
   },
   {
    "duration": 6,
    "start_time": "2022-12-02T11:03:46.176Z"
   },
   {
    "duration": 19,
    "start_time": "2022-12-02T11:03:51.384Z"
   },
   {
    "duration": 6,
    "start_time": "2022-12-02T11:04:02.648Z"
   },
   {
    "duration": 18,
    "start_time": "2022-12-02T11:04:03.672Z"
   },
   {
    "duration": 4,
    "start_time": "2022-12-02T11:04:18.457Z"
   },
   {
    "duration": 21,
    "start_time": "2022-12-02T11:04:20.080Z"
   },
   {
    "duration": 1131,
    "start_time": "2022-12-02T11:04:35.706Z"
   },
   {
    "duration": 56,
    "start_time": "2022-12-02T11:04:36.839Z"
   },
   {
    "duration": 18,
    "start_time": "2022-12-02T11:04:36.897Z"
   },
   {
    "duration": 19,
    "start_time": "2022-12-02T11:04:36.918Z"
   },
   {
    "duration": 5,
    "start_time": "2022-12-02T11:04:37.733Z"
   },
   {
    "duration": 14,
    "start_time": "2022-12-02T11:04:38.197Z"
   },
   {
    "duration": 15,
    "start_time": "2022-12-02T11:04:38.344Z"
   },
   {
    "duration": 6,
    "start_time": "2022-12-02T11:04:38.659Z"
   },
   {
    "duration": 7,
    "start_time": "2022-12-02T11:04:38.808Z"
   },
   {
    "duration": 7,
    "start_time": "2022-12-02T11:04:38.966Z"
   },
   {
    "duration": 10,
    "start_time": "2022-12-02T11:04:39.422Z"
   },
   {
    "duration": 14,
    "start_time": "2022-12-02T11:04:39.586Z"
   },
   {
    "duration": 6,
    "start_time": "2022-12-02T11:04:39.738Z"
   },
   {
    "duration": 10,
    "start_time": "2022-12-02T11:04:40.055Z"
   },
   {
    "duration": 57,
    "start_time": "2022-12-02T11:04:40.212Z"
   },
   {
    "duration": 23,
    "start_time": "2022-12-02T11:04:40.698Z"
   },
   {
    "duration": 4,
    "start_time": "2022-12-02T11:04:40.874Z"
   },
   {
    "duration": 7,
    "start_time": "2022-12-02T11:04:41.037Z"
   },
   {
    "duration": 4,
    "start_time": "2022-12-02T11:04:41.205Z"
   },
   {
    "duration": 25,
    "start_time": "2022-12-02T11:04:41.371Z"
   },
   {
    "duration": 6,
    "start_time": "2022-12-02T11:04:41.527Z"
   },
   {
    "duration": 5,
    "start_time": "2022-12-02T11:04:41.688Z"
   },
   {
    "duration": 5,
    "start_time": "2022-12-02T11:04:43.640Z"
   },
   {
    "duration": 8,
    "start_time": "2022-12-02T11:04:43.801Z"
   },
   {
    "duration": 8,
    "start_time": "2022-12-02T11:04:44.714Z"
   },
   {
    "duration": 17,
    "start_time": "2022-12-02T11:04:44.875Z"
   },
   {
    "duration": 6,
    "start_time": "2022-12-02T11:04:45.037Z"
   },
   {
    "duration": 5,
    "start_time": "2022-12-02T11:04:45.449Z"
   },
   {
    "duration": 16,
    "start_time": "2022-12-02T11:04:47.133Z"
   },
   {
    "duration": 19,
    "start_time": "2022-12-02T11:04:47.535Z"
   },
   {
    "duration": 20,
    "start_time": "2022-12-02T11:04:47.732Z"
   },
   {
    "duration": 8,
    "start_time": "2022-12-02T11:04:50.836Z"
   },
   {
    "duration": 17,
    "start_time": "2022-12-02T11:04:53.228Z"
   },
   {
    "duration": 3,
    "start_time": "2022-12-02T11:04:53.681Z"
   },
   {
    "duration": 5,
    "start_time": "2022-12-02T11:04:55.421Z"
   },
   {
    "duration": 4,
    "start_time": "2022-12-02T11:04:55.809Z"
   },
   {
    "duration": 16,
    "start_time": "2022-12-02T11:04:56.739Z"
   },
   {
    "duration": 8,
    "start_time": "2022-12-02T11:04:57.076Z"
   },
   {
    "duration": 18,
    "start_time": "2022-12-02T11:05:01.214Z"
   },
   {
    "duration": 3,
    "start_time": "2022-12-02T11:05:03.477Z"
   },
   {
    "duration": 6,
    "start_time": "2022-12-02T11:05:04.510Z"
   },
   {
    "duration": 4,
    "start_time": "2022-12-02T11:05:05.236Z"
   },
   {
    "duration": 18,
    "start_time": "2022-12-02T11:05:09.161Z"
   },
   {
    "duration": 5,
    "start_time": "2022-12-02T11:05:43.715Z"
   },
   {
    "duration": 6,
    "start_time": "2022-12-02T11:06:13.316Z"
   },
   {
    "duration": 17,
    "start_time": "2022-12-02T11:06:17.539Z"
   },
   {
    "duration": 6,
    "start_time": "2022-12-02T11:06:42.971Z"
   },
   {
    "duration": 7,
    "start_time": "2022-12-02T11:06:48.828Z"
   },
   {
    "duration": 21,
    "start_time": "2022-12-02T11:06:59.659Z"
   },
   {
    "duration": 21,
    "start_time": "2022-12-02T11:07:20.821Z"
   },
   {
    "duration": 23,
    "start_time": "2022-12-02T11:07:32.821Z"
   },
   {
    "duration": 20,
    "start_time": "2022-12-02T11:07:40.485Z"
   },
   {
    "duration": 21,
    "start_time": "2022-12-02T11:07:43.013Z"
   },
   {
    "duration": 4,
    "start_time": "2022-12-02T11:07:52.813Z"
   },
   {
    "duration": 22,
    "start_time": "2022-12-02T11:07:54.533Z"
   },
   {
    "duration": 5,
    "start_time": "2022-12-02T11:08:26.326Z"
   },
   {
    "duration": 17,
    "start_time": "2022-12-02T11:08:44.485Z"
   },
   {
    "duration": 7,
    "start_time": "2022-12-02T11:12:13.689Z"
   },
   {
    "duration": 6,
    "start_time": "2022-12-02T11:12:20.489Z"
   },
   {
    "duration": 6,
    "start_time": "2022-12-02T11:12:22.626Z"
   },
   {
    "duration": 46,
    "start_time": "2022-12-02T11:12:27.617Z"
   },
   {
    "duration": 5,
    "start_time": "2022-12-02T11:14:01.925Z"
   },
   {
    "duration": 15,
    "start_time": "2022-12-02T11:14:03.187Z"
   },
   {
    "duration": 48,
    "start_time": "2022-12-02T11:14:54.429Z"
   },
   {
    "duration": 15,
    "start_time": "2022-12-02T11:14:56.685Z"
   },
   {
    "duration": 5,
    "start_time": "2022-12-02T11:15:08.245Z"
   },
   {
    "duration": 4,
    "start_time": "2022-12-02T11:15:45.678Z"
   },
   {
    "duration": 4,
    "start_time": "2022-12-02T11:15:53.814Z"
   },
   {
    "duration": 4,
    "start_time": "2022-12-02T11:16:00.070Z"
   },
   {
    "duration": 30,
    "start_time": "2022-12-02T11:37:02.463Z"
   },
   {
    "duration": 117,
    "start_time": "2022-12-02T11:38:21.744Z"
   },
   {
    "duration": 10,
    "start_time": "2022-12-02T11:38:24.599Z"
   },
   {
    "duration": 27,
    "start_time": "2022-12-02T11:38:33.064Z"
   },
   {
    "duration": 29,
    "start_time": "2022-12-02T11:52:46.959Z"
   },
   {
    "duration": 5,
    "start_time": "2022-12-02T11:53:32.097Z"
   },
   {
    "duration": 11,
    "start_time": "2022-12-02T11:54:25.602Z"
   },
   {
    "duration": 5,
    "start_time": "2022-12-02T11:54:38.762Z"
   },
   {
    "duration": 4,
    "start_time": "2022-12-02T11:54:54.106Z"
   },
   {
    "duration": 28,
    "start_time": "2022-12-02T11:57:03.124Z"
   },
   {
    "duration": 9,
    "start_time": "2022-12-02T11:57:16.483Z"
   },
   {
    "duration": 11,
    "start_time": "2022-12-02T11:57:44.839Z"
   },
   {
    "duration": 13,
    "start_time": "2022-12-02T11:57:54.454Z"
   },
   {
    "duration": 11,
    "start_time": "2022-12-02T11:58:10.222Z"
   },
   {
    "duration": 5,
    "start_time": "2022-12-02T11:59:15.311Z"
   },
   {
    "duration": 9,
    "start_time": "2022-12-02T12:00:57.344Z"
   },
   {
    "duration": 6,
    "start_time": "2022-12-02T12:01:05.176Z"
   },
   {
    "duration": 18,
    "start_time": "2022-12-02T12:04:17.396Z"
   },
   {
    "duration": 185,
    "start_time": "2022-12-02T12:05:41.142Z"
   },
   {
    "duration": 201,
    "start_time": "2022-12-02T12:06:10.727Z"
   },
   {
    "duration": 10,
    "start_time": "2022-12-02T12:06:49.127Z"
   },
   {
    "duration": 18,
    "start_time": "2022-12-02T12:08:45.297Z"
   },
   {
    "duration": 61,
    "start_time": "2022-12-02T12:08:56.121Z"
   },
   {
    "duration": 36,
    "start_time": "2022-12-02T12:10:06.722Z"
   },
   {
    "duration": 14,
    "start_time": "2022-12-02T12:10:13.950Z"
   },
   {
    "duration": 17,
    "start_time": "2022-12-02T12:10:24.825Z"
   },
   {
    "duration": 72,
    "start_time": "2022-12-02T12:13:07.638Z"
   },
   {
    "duration": 24,
    "start_time": "2022-12-02T12:13:15.031Z"
   },
   {
    "duration": 16,
    "start_time": "2022-12-02T12:13:21.822Z"
   },
   {
    "duration": 18,
    "start_time": "2022-12-02T13:21:33.450Z"
   },
   {
    "duration": 4,
    "start_time": "2022-12-02T13:23:34.390Z"
   },
   {
    "duration": 14,
    "start_time": "2022-12-02T13:23:35.598Z"
   },
   {
    "duration": 29,
    "start_time": "2022-12-02T13:23:45.470Z"
   },
   {
    "duration": 17,
    "start_time": "2022-12-02T13:24:06.967Z"
   },
   {
    "duration": 7,
    "start_time": "2022-12-02T13:24:27.375Z"
   },
   {
    "duration": 278,
    "start_time": "2022-12-02T13:24:51.225Z"
   },
   {
    "duration": 301,
    "start_time": "2022-12-02T13:26:22.394Z"
   },
   {
    "duration": 14,
    "start_time": "2022-12-02T13:27:18.578Z"
   },
   {
    "duration": 21,
    "start_time": "2022-12-02T13:27:23.786Z"
   },
   {
    "duration": 13,
    "start_time": "2022-12-02T13:27:31.202Z"
   },
   {
    "duration": 14,
    "start_time": "2022-12-02T13:30:27.709Z"
   },
   {
    "duration": 7,
    "start_time": "2022-12-02T13:30:29.678Z"
   },
   {
    "duration": 18,
    "start_time": "2022-12-02T13:32:36.096Z"
   },
   {
    "duration": 18,
    "start_time": "2022-12-02T13:32:59.664Z"
   },
   {
    "duration": 1169,
    "start_time": "2022-12-02T13:33:16.968Z"
   },
   {
    "duration": 1269,
    "start_time": "2022-12-02T13:33:26.233Z"
   },
   {
    "duration": 14,
    "start_time": "2022-12-02T13:33:36.113Z"
   },
   {
    "duration": 14,
    "start_time": "2022-12-02T13:33:46.418Z"
   },
   {
    "duration": 17,
    "start_time": "2022-12-02T13:33:55.849Z"
   },
   {
    "duration": 35,
    "start_time": "2022-12-02T13:35:30.572Z"
   },
   {
    "duration": 32,
    "start_time": "2022-12-02T13:36:02.876Z"
   },
   {
    "duration": 10,
    "start_time": "2022-12-02T13:36:31.757Z"
   },
   {
    "duration": 12,
    "start_time": "2022-12-02T13:36:34.557Z"
   },
   {
    "duration": 25,
    "start_time": "2022-12-02T13:36:38.359Z"
   },
   {
    "duration": 30,
    "start_time": "2022-12-02T13:37:11.853Z"
   },
   {
    "duration": 32,
    "start_time": "2022-12-02T13:37:31.918Z"
   },
   {
    "duration": 285,
    "start_time": "2022-12-02T13:38:21.127Z"
   },
   {
    "duration": 56,
    "start_time": "2022-12-02T13:38:57.872Z"
   },
   {
    "duration": 275,
    "start_time": "2022-12-02T13:39:25.082Z"
   },
   {
    "duration": 30,
    "start_time": "2022-12-02T13:41:01.329Z"
   },
   {
    "duration": 13,
    "start_time": "2022-12-02T13:41:05.536Z"
   },
   {
    "duration": 284,
    "start_time": "2022-12-02T13:41:06.162Z"
   },
   {
    "duration": 273,
    "start_time": "2022-12-02T13:42:20.898Z"
   },
   {
    "duration": 69,
    "start_time": "2022-12-02T13:42:55.259Z"
   },
   {
    "duration": 25,
    "start_time": "2022-12-02T13:42:58.372Z"
   },
   {
    "duration": 341,
    "start_time": "2022-12-02T13:43:22.043Z"
   },
   {
    "duration": 322,
    "start_time": "2022-12-02T13:43:28.915Z"
   },
   {
    "duration": 7,
    "start_time": "2022-12-02T13:48:06.287Z"
   },
   {
    "duration": 15,
    "start_time": "2022-12-02T13:48:12.944Z"
   },
   {
    "duration": 4,
    "start_time": "2022-12-02T13:48:20.856Z"
   },
   {
    "duration": 14,
    "start_time": "2022-12-02T13:48:43.406Z"
   },
   {
    "duration": 16,
    "start_time": "2022-12-02T13:48:52.611Z"
   },
   {
    "duration": 7,
    "start_time": "2022-12-02T13:49:55.401Z"
   },
   {
    "duration": 6,
    "start_time": "2022-12-02T13:50:06.178Z"
   },
   {
    "duration": 11,
    "start_time": "2022-12-02T13:50:25.401Z"
   },
   {
    "duration": 5,
    "start_time": "2022-12-02T13:50:30.194Z"
   },
   {
    "duration": 6,
    "start_time": "2022-12-02T13:50:53.154Z"
   },
   {
    "duration": 9,
    "start_time": "2022-12-02T13:50:57.514Z"
   },
   {
    "duration": 329,
    "start_time": "2022-12-02T13:51:02.128Z"
   },
   {
    "duration": 316,
    "start_time": "2022-12-02T13:51:15.987Z"
   },
   {
    "duration": 5,
    "start_time": "2022-12-02T13:52:23.795Z"
   },
   {
    "duration": 8,
    "start_time": "2022-12-02T13:52:36.420Z"
   },
   {
    "duration": 12,
    "start_time": "2022-12-02T13:52:43.092Z"
   },
   {
    "duration": 6,
    "start_time": "2022-12-02T13:52:47.709Z"
   },
   {
    "duration": 301,
    "start_time": "2022-12-02T13:53:01.302Z"
   },
   {
    "duration": 288,
    "start_time": "2022-12-02T13:53:46.349Z"
   },
   {
    "duration": 300,
    "start_time": "2022-12-02T13:53:53.764Z"
   },
   {
    "duration": 314,
    "start_time": "2022-12-02T13:54:10.879Z"
   },
   {
    "duration": 305,
    "start_time": "2022-12-02T13:55:15.033Z"
   },
   {
    "duration": 195,
    "start_time": "2022-12-02T13:56:53.784Z"
   },
   {
    "duration": 210,
    "start_time": "2022-12-02T13:57:04.042Z"
   },
   {
    "duration": 416,
    "start_time": "2022-12-02T13:57:10.484Z"
   },
   {
    "duration": 301,
    "start_time": "2022-12-02T13:57:16.985Z"
   },
   {
    "duration": 295,
    "start_time": "2022-12-02T13:57:29.561Z"
   },
   {
    "duration": 276,
    "start_time": "2022-12-02T13:58:19.044Z"
   },
   {
    "duration": 302,
    "start_time": "2022-12-02T13:58:31.580Z"
   },
   {
    "duration": 274,
    "start_time": "2022-12-02T13:58:43.035Z"
   },
   {
    "duration": 283,
    "start_time": "2022-12-02T13:58:48.468Z"
   },
   {
    "duration": 330,
    "start_time": "2022-12-02T13:59:44.484Z"
   },
   {
    "duration": 331,
    "start_time": "2022-12-02T14:12:46.979Z"
   },
   {
    "duration": 510,
    "start_time": "2022-12-02T14:13:08.699Z"
   },
   {
    "duration": 344,
    "start_time": "2022-12-02T14:13:16.667Z"
   },
   {
    "duration": 367,
    "start_time": "2022-12-02T14:13:27.059Z"
   },
   {
    "duration": 399,
    "start_time": "2022-12-02T14:15:09.601Z"
   },
   {
    "duration": 436,
    "start_time": "2022-12-02T14:15:16.982Z"
   },
   {
    "duration": 597,
    "start_time": "2022-12-02T14:15:25.311Z"
   },
   {
    "duration": 438,
    "start_time": "2022-12-02T14:15:31.030Z"
   },
   {
    "duration": 405,
    "start_time": "2022-12-02T14:15:46.335Z"
   },
   {
    "duration": 426,
    "start_time": "2022-12-02T14:16:04.582Z"
   },
   {
    "duration": 407,
    "start_time": "2022-12-02T14:38:11.244Z"
   },
   {
    "duration": 772,
    "start_time": "2022-12-02T14:39:02.332Z"
   },
   {
    "duration": 621,
    "start_time": "2022-12-02T14:39:12.260Z"
   },
   {
    "duration": 10,
    "start_time": "2022-12-02T14:52:06.715Z"
   },
   {
    "duration": 624,
    "start_time": "2022-12-02T14:54:42.830Z"
   },
   {
    "duration": 648,
    "start_time": "2022-12-02T15:01:49.894Z"
   },
   {
    "duration": 733,
    "start_time": "2022-12-02T15:02:30.704Z"
   },
   {
    "duration": 265,
    "start_time": "2022-12-02T15:02:46.983Z"
   },
   {
    "duration": 287,
    "start_time": "2022-12-02T15:03:06.751Z"
   },
   {
    "duration": 40,
    "start_time": "2022-12-02T15:08:10.509Z"
   },
   {
    "duration": 30,
    "start_time": "2022-12-02T15:09:04.805Z"
   },
   {
    "duration": 24,
    "start_time": "2022-12-02T15:09:25.590Z"
   },
   {
    "duration": 37,
    "start_time": "2022-12-02T15:10:20.576Z"
   },
   {
    "duration": 33,
    "start_time": "2022-12-02T15:10:43.600Z"
   },
   {
    "duration": 33,
    "start_time": "2022-12-02T15:12:50.467Z"
   },
   {
    "duration": 632,
    "start_time": "2022-12-02T15:13:40.140Z"
   },
   {
    "duration": 638,
    "start_time": "2022-12-02T15:13:44.739Z"
   },
   {
    "duration": 35,
    "start_time": "2022-12-02T15:26:44.455Z"
   },
   {
    "duration": 497,
    "start_time": "2022-12-02T15:31:06.366Z"
   },
   {
    "duration": 360,
    "start_time": "2022-12-02T15:31:30.598Z"
   },
   {
    "duration": 18,
    "start_time": "2022-12-02T15:33:08.992Z"
   },
   {
    "duration": 1164,
    "start_time": "2022-12-02T15:33:19.352Z"
   },
   {
    "duration": 14,
    "start_time": "2022-12-02T15:33:28.112Z"
   },
   {
    "duration": 15,
    "start_time": "2022-12-02T15:39:55.255Z"
   },
   {
    "duration": 14,
    "start_time": "2022-12-02T15:39:57.574Z"
   },
   {
    "duration": 1330,
    "start_time": "2022-12-02T15:40:38.304Z"
   },
   {
    "duration": 58,
    "start_time": "2022-12-02T15:40:39.636Z"
   },
   {
    "duration": 22,
    "start_time": "2022-12-02T15:40:39.696Z"
   },
   {
    "duration": 20,
    "start_time": "2022-12-02T15:40:39.721Z"
   },
   {
    "duration": 13,
    "start_time": "2022-12-02T15:40:39.743Z"
   },
   {
    "duration": 24,
    "start_time": "2022-12-02T15:40:39.758Z"
   },
   {
    "duration": 30,
    "start_time": "2022-12-02T15:40:39.784Z"
   },
   {
    "duration": 29,
    "start_time": "2022-12-02T15:40:39.816Z"
   },
   {
    "duration": 14,
    "start_time": "2022-12-02T15:40:39.847Z"
   },
   {
    "duration": 34,
    "start_time": "2022-12-02T15:40:39.864Z"
   },
   {
    "duration": 18,
    "start_time": "2022-12-02T15:40:39.900Z"
   },
   {
    "duration": 34,
    "start_time": "2022-12-02T15:40:39.919Z"
   },
   {
    "duration": 10,
    "start_time": "2022-12-02T15:40:39.955Z"
   },
   {
    "duration": 35,
    "start_time": "2022-12-02T15:40:39.967Z"
   },
   {
    "duration": 89,
    "start_time": "2022-12-02T15:40:40.004Z"
   },
   {
    "duration": 17,
    "start_time": "2022-12-02T15:40:40.095Z"
   },
   {
    "duration": 24,
    "start_time": "2022-12-02T15:40:40.114Z"
   },
   {
    "duration": 9,
    "start_time": "2022-12-02T15:40:40.140Z"
   },
   {
    "duration": 9,
    "start_time": "2022-12-02T15:40:40.151Z"
   },
   {
    "duration": 32,
    "start_time": "2022-12-02T15:40:40.162Z"
   },
   {
    "duration": 41,
    "start_time": "2022-12-02T15:40:40.196Z"
   },
   {
    "duration": 4,
    "start_time": "2022-12-02T15:40:40.240Z"
   },
   {
    "duration": 9,
    "start_time": "2022-12-02T15:40:40.246Z"
   },
   {
    "duration": 10,
    "start_time": "2022-12-02T15:40:40.257Z"
   },
   {
    "duration": 12,
    "start_time": "2022-12-02T15:40:40.269Z"
   },
   {
    "duration": 15,
    "start_time": "2022-12-02T15:40:40.283Z"
   },
   {
    "duration": 40,
    "start_time": "2022-12-02T15:40:40.300Z"
   },
   {
    "duration": 5,
    "start_time": "2022-12-02T15:40:40.345Z"
   },
   {
    "duration": 19,
    "start_time": "2022-12-02T15:40:40.352Z"
   },
   {
    "duration": 18,
    "start_time": "2022-12-02T15:40:40.373Z"
   },
   {
    "duration": 51,
    "start_time": "2022-12-02T15:40:40.393Z"
   },
   {
    "duration": 9,
    "start_time": "2022-12-02T15:40:40.446Z"
   },
   {
    "duration": 21,
    "start_time": "2022-12-02T15:40:40.457Z"
   },
   {
    "duration": 4,
    "start_time": "2022-12-02T15:40:40.480Z"
   },
   {
    "duration": 9,
    "start_time": "2022-12-02T15:40:40.486Z"
   },
   {
    "duration": 44,
    "start_time": "2022-12-02T15:40:40.497Z"
   },
   {
    "duration": 21,
    "start_time": "2022-12-02T15:40:40.543Z"
   },
   {
    "duration": 9,
    "start_time": "2022-12-02T15:40:40.566Z"
   },
   {
    "duration": 23,
    "start_time": "2022-12-02T15:40:40.577Z"
   },
   {
    "duration": 7,
    "start_time": "2022-12-02T15:40:40.638Z"
   },
   {
    "duration": 7,
    "start_time": "2022-12-02T15:40:40.647Z"
   },
   {
    "duration": 20,
    "start_time": "2022-12-02T15:40:40.656Z"
   },
   {
    "duration": 10,
    "start_time": "2022-12-02T15:40:40.678Z"
   },
   {
    "duration": 7,
    "start_time": "2022-12-02T15:40:40.689Z"
   },
   {
    "duration": 40,
    "start_time": "2022-12-02T15:40:40.698Z"
   },
   {
    "duration": 19,
    "start_time": "2022-12-02T15:40:40.740Z"
   },
   {
    "duration": 6,
    "start_time": "2022-12-02T15:40:40.761Z"
   },
   {
    "duration": 5,
    "start_time": "2022-12-02T15:40:40.769Z"
   },
   {
    "duration": 8,
    "start_time": "2022-12-02T15:40:40.776Z"
   },
   {
    "duration": 90,
    "start_time": "2022-12-02T15:40:40.785Z"
   },
   {
    "duration": 3,
    "start_time": "2022-12-02T15:40:40.877Z"
   },
   {
    "duration": 9,
    "start_time": "2022-12-02T15:40:40.881Z"
   },
   {
    "duration": 17,
    "start_time": "2022-12-02T15:40:40.892Z"
   },
   {
    "duration": 82,
    "start_time": "2022-12-02T15:40:40.911Z"
   },
   {
    "duration": 16,
    "start_time": "2022-12-02T15:40:40.995Z"
   },
   {
    "duration": 29,
    "start_time": "2022-12-02T15:40:41.013Z"
   },
   {
    "duration": 9,
    "start_time": "2022-12-02T15:40:41.044Z"
   },
   {
    "duration": 6,
    "start_time": "2022-12-02T15:40:41.055Z"
   },
   {
    "duration": 8,
    "start_time": "2022-12-02T15:40:41.063Z"
   },
   {
    "duration": 37,
    "start_time": "2022-12-02T15:40:41.073Z"
   },
   {
    "duration": 29,
    "start_time": "2022-12-02T15:40:41.112Z"
   },
   {
    "duration": 13,
    "start_time": "2022-12-02T15:40:41.143Z"
   },
   {
    "duration": 4,
    "start_time": "2022-12-02T15:40:41.159Z"
   },
   {
    "duration": 22,
    "start_time": "2022-12-02T15:40:41.165Z"
   },
   {
    "duration": 50,
    "start_time": "2022-12-02T15:40:41.189Z"
   },
   {
    "duration": 9,
    "start_time": "2022-12-02T15:40:41.241Z"
   },
   {
    "duration": 36,
    "start_time": "2022-12-02T15:40:41.252Z"
   },
   {
    "duration": 234,
    "start_time": "2022-12-02T15:40:41.290Z"
   },
   {
    "duration": 18,
    "start_time": "2022-12-02T15:40:41.537Z"
   },
   {
    "duration": 82,
    "start_time": "2022-12-02T15:40:41.558Z"
   },
   {
    "duration": 23,
    "start_time": "2022-12-02T15:40:41.642Z"
   },
   {
    "duration": 21,
    "start_time": "2022-12-02T15:40:41.667Z"
   },
   {
    "duration": 24,
    "start_time": "2022-12-02T15:40:41.690Z"
   },
   {
    "duration": 7,
    "start_time": "2022-12-02T15:40:41.716Z"
   },
   {
    "duration": 14,
    "start_time": "2022-12-02T15:40:41.738Z"
   },
   {
    "duration": 315,
    "start_time": "2022-12-02T15:40:41.754Z"
   },
   {
    "duration": 7,
    "start_time": "2022-12-02T15:40:42.071Z"
   },
   {
    "duration": 21,
    "start_time": "2022-12-02T15:40:42.080Z"
   },
   {
    "duration": 36,
    "start_time": "2022-12-02T15:40:42.103Z"
   },
   {
    "duration": 6,
    "start_time": "2022-12-02T15:40:42.141Z"
   },
   {
    "duration": 304,
    "start_time": "2022-12-02T15:40:42.149Z"
   },
   {
    "duration": 927,
    "start_time": "2022-12-02T15:40:42.459Z"
   },
   {
    "duration": 387,
    "start_time": "2022-12-02T15:40:43.388Z"
   },
   {
    "duration": 13,
    "start_time": "2022-12-02T15:40:43.777Z"
   },
   {
    "duration": 26,
    "start_time": "2022-12-02T15:40:43.792Z"
   },
   {
    "duration": 35,
    "start_time": "2022-12-02T15:40:43.820Z"
   },
   {
    "duration": 313,
    "start_time": "2022-12-02T15:40:43.857Z"
   },
   {
    "duration": 42,
    "start_time": "2022-12-02T15:40:44.172Z"
   },
   {
    "duration": 493,
    "start_time": "2022-12-02T15:40:44.216Z"
   },
   {
    "duration": 672,
    "start_time": "2022-12-02T15:40:44.711Z"
   },
   {
    "duration": 404,
    "start_time": "2022-12-02T15:40:45.385Z"
   },
   {
    "duration": 8,
    "start_time": "2022-12-02T15:40:45.792Z"
   },
   {
    "duration": 39,
    "start_time": "2022-12-02T15:40:45.803Z"
   },
   {
    "duration": 37,
    "start_time": "2022-12-02T15:40:45.845Z"
   },
   {
    "duration": 40,
    "start_time": "2022-12-02T15:40:45.884Z"
   },
   {
    "duration": 217,
    "start_time": "2022-12-02T15:52:22.421Z"
   },
   {
    "duration": 38,
    "start_time": "2022-12-02T15:52:24.941Z"
   },
   {
    "duration": 37,
    "start_time": "2022-12-02T15:54:27.663Z"
   },
   {
    "duration": 20,
    "start_time": "2022-12-02T15:55:48.713Z"
   },
   {
    "duration": 257,
    "start_time": "2022-12-02T16:21:14.214Z"
   },
   {
    "duration": 154,
    "start_time": "2022-12-02T16:21:39.992Z"
   },
   {
    "duration": 698,
    "start_time": "2022-12-02T16:21:55.081Z"
   },
   {
    "duration": 627,
    "start_time": "2022-12-02T16:22:24.776Z"
   },
   {
    "duration": 708,
    "start_time": "2022-12-02T16:22:48.529Z"
   },
   {
    "duration": 740,
    "start_time": "2022-12-02T16:22:59.728Z"
   },
   {
    "duration": 614,
    "start_time": "2022-12-02T16:23:03.936Z"
   },
   {
    "duration": 620,
    "start_time": "2022-12-02T16:23:09.345Z"
   },
   {
    "duration": 625,
    "start_time": "2022-12-02T16:23:14.081Z"
   },
   {
    "duration": 723,
    "start_time": "2022-12-02T16:23:19.289Z"
   },
   {
    "duration": 617,
    "start_time": "2022-12-02T16:24:10.490Z"
   },
   {
    "duration": 626,
    "start_time": "2022-12-02T16:24:25.698Z"
   },
   {
    "duration": 614,
    "start_time": "2022-12-02T16:24:46.907Z"
   },
   {
    "duration": 504,
    "start_time": "2022-12-02T16:25:42.404Z"
   },
   {
    "duration": 457,
    "start_time": "2022-12-02T16:26:05.388Z"
   },
   {
    "duration": 460,
    "start_time": "2022-12-02T16:26:15.780Z"
   },
   {
    "duration": 429,
    "start_time": "2022-12-02T16:26:21.245Z"
   },
   {
    "duration": 466,
    "start_time": "2022-12-02T16:27:05.358Z"
   },
   {
    "duration": 95,
    "start_time": "2022-12-02T16:28:03.997Z"
   },
   {
    "duration": 734,
    "start_time": "2022-12-02T16:28:10.574Z"
   },
   {
    "duration": 469,
    "start_time": "2022-12-02T16:29:36.064Z"
   },
   {
    "duration": 460,
    "start_time": "2022-12-02T16:29:54.288Z"
   },
   {
    "duration": 486,
    "start_time": "2022-12-02T16:30:09.393Z"
   },
   {
    "duration": 74,
    "start_time": "2022-12-02T16:30:57.842Z"
   },
   {
    "duration": 5,
    "start_time": "2022-12-02T16:31:08.273Z"
   },
   {
    "duration": 336,
    "start_time": "2022-12-02T19:01:47.180Z"
   },
   {
    "duration": 426,
    "start_time": "2022-12-02T19:01:54.435Z"
   },
   {
    "duration": 1137,
    "start_time": "2022-12-02T19:02:29.189Z"
   },
   {
    "duration": 55,
    "start_time": "2022-12-02T19:02:30.329Z"
   },
   {
    "duration": 22,
    "start_time": "2022-12-02T19:02:30.386Z"
   },
   {
    "duration": 20,
    "start_time": "2022-12-02T19:02:30.410Z"
   },
   {
    "duration": 8,
    "start_time": "2022-12-02T19:02:30.431Z"
   },
   {
    "duration": 45,
    "start_time": "2022-12-02T19:02:30.441Z"
   },
   {
    "duration": 30,
    "start_time": "2022-12-02T19:02:30.487Z"
   },
   {
    "duration": 27,
    "start_time": "2022-12-02T19:02:30.518Z"
   },
   {
    "duration": 31,
    "start_time": "2022-12-02T19:02:30.547Z"
   },
   {
    "duration": 24,
    "start_time": "2022-12-02T19:02:30.581Z"
   },
   {
    "duration": 41,
    "start_time": "2022-12-02T19:02:30.607Z"
   },
   {
    "duration": 49,
    "start_time": "2022-12-02T19:02:30.650Z"
   },
   {
    "duration": 20,
    "start_time": "2022-12-02T19:02:30.701Z"
   },
   {
    "duration": 28,
    "start_time": "2022-12-02T19:02:30.723Z"
   },
   {
    "duration": 87,
    "start_time": "2022-12-02T19:02:30.753Z"
   },
   {
    "duration": 16,
    "start_time": "2022-12-02T19:02:30.841Z"
   },
   {
    "duration": 11,
    "start_time": "2022-12-02T19:02:30.859Z"
   },
   {
    "duration": 17,
    "start_time": "2022-12-02T19:02:30.871Z"
   },
   {
    "duration": 21,
    "start_time": "2022-12-02T19:02:30.890Z"
   },
   {
    "duration": 37,
    "start_time": "2022-12-02T19:02:30.913Z"
   },
   {
    "duration": 7,
    "start_time": "2022-12-02T19:02:30.952Z"
   },
   {
    "duration": 16,
    "start_time": "2022-12-02T19:02:30.961Z"
   },
   {
    "duration": 9,
    "start_time": "2022-12-02T19:02:30.979Z"
   },
   {
    "duration": 18,
    "start_time": "2022-12-02T19:02:30.989Z"
   },
   {
    "duration": 14,
    "start_time": "2022-12-02T19:02:31.009Z"
   },
   {
    "duration": 32,
    "start_time": "2022-12-02T19:02:31.025Z"
   },
   {
    "duration": 10,
    "start_time": "2022-12-02T19:02:31.059Z"
   },
   {
    "duration": 5,
    "start_time": "2022-12-02T19:02:31.074Z"
   },
   {
    "duration": 31,
    "start_time": "2022-12-02T19:02:31.081Z"
   },
   {
    "duration": 16,
    "start_time": "2022-12-02T19:02:31.114Z"
   },
   {
    "duration": 17,
    "start_time": "2022-12-02T19:02:31.132Z"
   },
   {
    "duration": 9,
    "start_time": "2022-12-02T19:02:31.150Z"
   },
   {
    "duration": 23,
    "start_time": "2022-12-02T19:02:31.160Z"
   },
   {
    "duration": 4,
    "start_time": "2022-12-02T19:02:31.185Z"
   },
   {
    "duration": 7,
    "start_time": "2022-12-02T19:02:31.190Z"
   },
   {
    "duration": 7,
    "start_time": "2022-12-02T19:02:31.198Z"
   },
   {
    "duration": 45,
    "start_time": "2022-12-02T19:02:31.206Z"
   },
   {
    "duration": 7,
    "start_time": "2022-12-02T19:02:31.254Z"
   },
   {
    "duration": 20,
    "start_time": "2022-12-02T19:02:31.263Z"
   },
   {
    "duration": 5,
    "start_time": "2022-12-02T19:02:31.284Z"
   },
   {
    "duration": 11,
    "start_time": "2022-12-02T19:02:31.291Z"
   },
   {
    "duration": 43,
    "start_time": "2022-12-02T19:02:31.304Z"
   },
   {
    "duration": 3,
    "start_time": "2022-12-02T19:02:31.348Z"
   },
   {
    "duration": 12,
    "start_time": "2022-12-02T19:02:31.353Z"
   },
   {
    "duration": 6,
    "start_time": "2022-12-02T19:02:31.366Z"
   },
   {
    "duration": 24,
    "start_time": "2022-12-02T19:02:31.373Z"
   },
   {
    "duration": 6,
    "start_time": "2022-12-02T19:02:31.399Z"
   },
   {
    "duration": 15,
    "start_time": "2022-12-02T19:02:31.406Z"
   },
   {
    "duration": 15,
    "start_time": "2022-12-02T19:02:31.423Z"
   },
   {
    "duration": 45,
    "start_time": "2022-12-02T19:02:31.440Z"
   },
   {
    "duration": 2,
    "start_time": "2022-12-02T19:02:31.487Z"
   },
   {
    "duration": 12,
    "start_time": "2022-12-02T19:02:31.491Z"
   },
   {
    "duration": 39,
    "start_time": "2022-12-02T19:02:31.504Z"
   },
   {
    "duration": 54,
    "start_time": "2022-12-02T19:02:31.545Z"
   },
   {
    "duration": 14,
    "start_time": "2022-12-02T19:02:31.601Z"
   },
   {
    "duration": 6,
    "start_time": "2022-12-02T19:02:31.617Z"
   },
   {
    "duration": 10,
    "start_time": "2022-12-02T19:02:31.638Z"
   },
   {
    "duration": 9,
    "start_time": "2022-12-02T19:02:31.650Z"
   },
   {
    "duration": 8,
    "start_time": "2022-12-02T19:02:31.661Z"
   },
   {
    "duration": 32,
    "start_time": "2022-12-02T19:02:31.670Z"
   },
   {
    "duration": 4,
    "start_time": "2022-12-02T19:02:31.704Z"
   },
   {
    "duration": 28,
    "start_time": "2022-12-02T19:02:31.710Z"
   },
   {
    "duration": 4,
    "start_time": "2022-12-02T19:02:31.740Z"
   },
   {
    "duration": 23,
    "start_time": "2022-12-02T19:02:31.746Z"
   },
   {
    "duration": 9,
    "start_time": "2022-12-02T19:02:31.771Z"
   },
   {
    "duration": 8,
    "start_time": "2022-12-02T19:02:31.781Z"
   },
   {
    "duration": 4,
    "start_time": "2022-12-02T19:02:31.791Z"
   },
   {
    "duration": 218,
    "start_time": "2022-12-02T19:02:31.797Z"
   },
   {
    "duration": 31,
    "start_time": "2022-12-02T19:02:32.016Z"
   },
   {
    "duration": 58,
    "start_time": "2022-12-02T19:02:32.049Z"
   },
   {
    "duration": 29,
    "start_time": "2022-12-02T19:02:32.109Z"
   },
   {
    "duration": 4,
    "start_time": "2022-12-02T19:02:32.140Z"
   },
   {
    "duration": 20,
    "start_time": "2022-12-02T19:02:32.145Z"
   },
   {
    "duration": 7,
    "start_time": "2022-12-02T19:02:32.166Z"
   },
   {
    "duration": 18,
    "start_time": "2022-12-02T19:02:32.174Z"
   },
   {
    "duration": 282,
    "start_time": "2022-12-02T19:02:32.194Z"
   },
   {
    "duration": 6,
    "start_time": "2022-12-02T19:02:32.478Z"
   },
   {
    "duration": 19,
    "start_time": "2022-12-02T19:02:32.486Z"
   },
   {
    "duration": 29,
    "start_time": "2022-12-02T19:02:32.506Z"
   },
   {
    "duration": 7,
    "start_time": "2022-12-02T19:02:32.537Z"
   },
   {
    "duration": 265,
    "start_time": "2022-12-02T19:02:32.546Z"
   },
   {
    "duration": 671,
    "start_time": "2022-12-02T19:02:32.817Z"
   },
   {
    "duration": 362,
    "start_time": "2022-12-02T19:02:33.490Z"
   },
   {
    "duration": 12,
    "start_time": "2022-12-02T19:02:33.854Z"
   },
   {
    "duration": 13,
    "start_time": "2022-12-02T19:02:33.868Z"
   },
   {
    "duration": 15,
    "start_time": "2022-12-02T19:02:33.882Z"
   },
   {
    "duration": 305,
    "start_time": "2022-12-02T19:02:33.899Z"
   },
   {
    "duration": 33,
    "start_time": "2022-12-02T19:02:34.206Z"
   },
   {
    "duration": 448,
    "start_time": "2022-12-02T19:02:34.240Z"
   },
   {
    "duration": 488,
    "start_time": "2022-12-02T19:02:34.690Z"
   },
   {
    "duration": 6,
    "start_time": "2022-12-02T19:02:35.180Z"
   },
   {
    "duration": 430,
    "start_time": "2022-12-02T19:02:35.188Z"
   },
   {
    "duration": 5,
    "start_time": "2022-12-02T19:02:35.620Z"
   },
   {
    "duration": 25,
    "start_time": "2022-12-02T19:02:35.627Z"
   },
   {
    "duration": 20,
    "start_time": "2022-12-02T19:02:35.654Z"
   },
   {
    "duration": 12,
    "start_time": "2022-12-02T19:02:35.675Z"
   },
   {
    "duration": 1207,
    "start_time": "2022-12-03T13:10:20.778Z"
   },
   {
    "duration": 55,
    "start_time": "2022-12-03T13:10:21.987Z"
   },
   {
    "duration": 21,
    "start_time": "2022-12-03T13:10:22.044Z"
   },
   {
    "duration": 15,
    "start_time": "2022-12-03T13:10:22.066Z"
   },
   {
    "duration": 8,
    "start_time": "2022-12-03T13:10:22.083Z"
   },
   {
    "duration": 50,
    "start_time": "2022-12-03T13:10:22.092Z"
   },
   {
    "duration": 20,
    "start_time": "2022-12-03T13:10:22.145Z"
   },
   {
    "duration": 10,
    "start_time": "2022-12-03T13:10:22.168Z"
   },
   {
    "duration": 20,
    "start_time": "2022-12-03T13:10:22.180Z"
   },
   {
    "duration": 14,
    "start_time": "2022-12-03T13:10:22.202Z"
   },
   {
    "duration": 30,
    "start_time": "2022-12-03T13:10:22.217Z"
   },
   {
    "duration": 14,
    "start_time": "2022-12-03T13:10:22.249Z"
   },
   {
    "duration": 9,
    "start_time": "2022-12-03T13:10:22.266Z"
   },
   {
    "duration": 13,
    "start_time": "2022-12-03T13:10:22.280Z"
   },
   {
    "duration": 83,
    "start_time": "2022-12-03T13:10:22.295Z"
   },
   {
    "duration": 17,
    "start_time": "2022-12-03T13:10:22.380Z"
   },
   {
    "duration": 5,
    "start_time": "2022-12-03T13:10:22.398Z"
   },
   {
    "duration": 10,
    "start_time": "2022-12-03T13:10:22.429Z"
   },
   {
    "duration": 9,
    "start_time": "2022-12-03T13:10:22.441Z"
   },
   {
    "duration": 24,
    "start_time": "2022-12-03T13:10:22.452Z"
   },
   {
    "duration": 7,
    "start_time": "2022-12-03T13:10:22.478Z"
   },
   {
    "duration": 6,
    "start_time": "2022-12-03T13:10:22.487Z"
   },
   {
    "duration": 30,
    "start_time": "2022-12-03T13:10:22.495Z"
   },
   {
    "duration": 21,
    "start_time": "2022-12-03T13:10:22.528Z"
   },
   {
    "duration": 12,
    "start_time": "2022-12-03T13:10:22.550Z"
   },
   {
    "duration": 29,
    "start_time": "2022-12-03T13:10:22.564Z"
   },
   {
    "duration": 16,
    "start_time": "2022-12-03T13:10:22.594Z"
   },
   {
    "duration": 11,
    "start_time": "2022-12-03T13:10:22.612Z"
   },
   {
    "duration": 38,
    "start_time": "2022-12-03T13:10:22.625Z"
   },
   {
    "duration": 21,
    "start_time": "2022-12-03T13:10:22.665Z"
   },
   {
    "duration": 18,
    "start_time": "2022-12-03T13:10:22.688Z"
   },
   {
    "duration": 24,
    "start_time": "2022-12-03T13:10:22.708Z"
   },
   {
    "duration": 23,
    "start_time": "2022-12-03T13:10:22.739Z"
   },
   {
    "duration": 4,
    "start_time": "2022-12-03T13:10:22.764Z"
   },
   {
    "duration": 9,
    "start_time": "2022-12-03T13:10:22.770Z"
   },
   {
    "duration": 7,
    "start_time": "2022-12-03T13:10:22.781Z"
   },
   {
    "duration": 19,
    "start_time": "2022-12-03T13:10:22.790Z"
   },
   {
    "duration": 26,
    "start_time": "2022-12-03T13:10:22.811Z"
   },
   {
    "duration": 19,
    "start_time": "2022-12-03T13:10:22.839Z"
   },
   {
    "duration": 4,
    "start_time": "2022-12-03T13:10:22.860Z"
   },
   {
    "duration": 4,
    "start_time": "2022-12-03T13:10:22.868Z"
   },
   {
    "duration": 18,
    "start_time": "2022-12-03T13:10:22.873Z"
   },
   {
    "duration": 5,
    "start_time": "2022-12-03T13:10:22.893Z"
   },
   {
    "duration": 32,
    "start_time": "2022-12-03T13:10:22.899Z"
   },
   {
    "duration": 4,
    "start_time": "2022-12-03T13:10:22.936Z"
   },
   {
    "duration": 18,
    "start_time": "2022-12-03T13:10:22.941Z"
   },
   {
    "duration": 6,
    "start_time": "2022-12-03T13:10:22.960Z"
   },
   {
    "duration": 7,
    "start_time": "2022-12-03T13:10:22.967Z"
   },
   {
    "duration": 8,
    "start_time": "2022-12-03T13:10:22.976Z"
   },
   {
    "duration": 68,
    "start_time": "2022-12-03T13:10:22.986Z"
   },
   {
    "duration": 2,
    "start_time": "2022-12-03T13:10:23.056Z"
   },
   {
    "duration": 8,
    "start_time": "2022-12-03T13:10:23.060Z"
   },
   {
    "duration": 19,
    "start_time": "2022-12-03T13:10:23.069Z"
   },
   {
    "duration": 66,
    "start_time": "2022-12-03T13:10:23.089Z"
   },
   {
    "duration": 14,
    "start_time": "2022-12-03T13:10:23.157Z"
   },
   {
    "duration": 5,
    "start_time": "2022-12-03T13:10:23.173Z"
   },
   {
    "duration": 7,
    "start_time": "2022-12-03T13:10:23.179Z"
   },
   {
    "duration": 4,
    "start_time": "2022-12-03T13:10:23.188Z"
   },
   {
    "duration": 6,
    "start_time": "2022-12-03T13:10:23.193Z"
   },
   {
    "duration": 31,
    "start_time": "2022-12-03T13:10:23.224Z"
   },
   {
    "duration": 3,
    "start_time": "2022-12-03T13:10:23.257Z"
   },
   {
    "duration": 10,
    "start_time": "2022-12-03T13:10:23.262Z"
   },
   {
    "duration": 6,
    "start_time": "2022-12-03T13:10:23.273Z"
   },
   {
    "duration": 21,
    "start_time": "2022-12-03T13:10:23.280Z"
   },
   {
    "duration": 11,
    "start_time": "2022-12-03T13:10:23.331Z"
   },
   {
    "duration": 7,
    "start_time": "2022-12-03T13:10:23.344Z"
   },
   {
    "duration": 4,
    "start_time": "2022-12-03T13:10:23.353Z"
   },
   {
    "duration": 216,
    "start_time": "2022-12-03T13:10:23.359Z"
   },
   {
    "duration": 17,
    "start_time": "2022-12-03T13:10:23.577Z"
   },
   {
    "duration": 74,
    "start_time": "2022-12-03T13:10:23.596Z"
   },
   {
    "duration": 17,
    "start_time": "2022-12-03T13:10:23.672Z"
   },
   {
    "duration": 4,
    "start_time": "2022-12-03T13:10:23.691Z"
   },
   {
    "duration": 39,
    "start_time": "2022-12-03T13:10:23.696Z"
   },
   {
    "duration": 7,
    "start_time": "2022-12-03T13:10:23.736Z"
   },
   {
    "duration": 14,
    "start_time": "2022-12-03T13:10:23.744Z"
   },
   {
    "duration": 298,
    "start_time": "2022-12-03T13:10:23.760Z"
   },
   {
    "duration": 7,
    "start_time": "2022-12-03T13:10:24.060Z"
   },
   {
    "duration": 21,
    "start_time": "2022-12-03T13:10:24.069Z"
   },
   {
    "duration": 8,
    "start_time": "2022-12-03T13:10:24.092Z"
   },
   {
    "duration": 9,
    "start_time": "2022-12-03T13:10:24.125Z"
   },
   {
    "duration": 329,
    "start_time": "2022-12-03T13:10:24.139Z"
   },
   {
    "duration": 667,
    "start_time": "2022-12-03T13:10:24.470Z"
   },
   {
    "duration": 355,
    "start_time": "2022-12-03T13:10:25.139Z"
   },
   {
    "duration": 13,
    "start_time": "2022-12-03T13:10:25.495Z"
   },
   {
    "duration": 40,
    "start_time": "2022-12-03T13:10:25.509Z"
   },
   {
    "duration": 27,
    "start_time": "2022-12-03T13:10:25.550Z"
   },
   {
    "duration": 297,
    "start_time": "2022-12-03T13:10:25.579Z"
   },
   {
    "duration": 22,
    "start_time": "2022-12-03T13:10:25.878Z"
   },
   {
    "duration": 459,
    "start_time": "2022-12-03T13:10:25.901Z"
   },
   {
    "duration": 501,
    "start_time": "2022-12-03T13:10:26.361Z"
   },
   {
    "duration": 5,
    "start_time": "2022-12-03T13:10:26.864Z"
   },
   {
    "duration": 369,
    "start_time": "2022-12-03T13:10:26.871Z"
   },
   {
    "duration": 7,
    "start_time": "2022-12-03T13:10:27.242Z"
   },
   {
    "duration": 11,
    "start_time": "2022-12-03T13:10:27.250Z"
   },
   {
    "duration": 9,
    "start_time": "2022-12-03T13:10:27.263Z"
   },
   {
    "duration": 9,
    "start_time": "2022-12-03T13:10:27.274Z"
   },
   {
    "duration": 4,
    "start_time": "2022-12-03T13:14:02.639Z"
   },
   {
    "duration": 84,
    "start_time": "2022-12-03T13:14:02.649Z"
   },
   {
    "duration": 16,
    "start_time": "2022-12-03T13:14:02.735Z"
   },
   {
    "duration": 26,
    "start_time": "2022-12-03T13:14:02.753Z"
   },
   {
    "duration": 10,
    "start_time": "2022-12-03T13:14:02.782Z"
   },
   {
    "duration": 17,
    "start_time": "2022-12-03T13:14:02.793Z"
   },
   {
    "duration": 38,
    "start_time": "2022-12-03T13:14:02.811Z"
   },
   {
    "duration": 19,
    "start_time": "2022-12-03T13:14:02.851Z"
   },
   {
    "duration": 37,
    "start_time": "2022-12-03T13:14:02.871Z"
   },
   {
    "duration": 12,
    "start_time": "2022-12-03T13:14:02.910Z"
   },
   {
    "duration": 57,
    "start_time": "2022-12-03T13:14:02.925Z"
   },
   {
    "duration": 35,
    "start_time": "2022-12-03T13:14:02.984Z"
   },
   {
    "duration": 31,
    "start_time": "2022-12-03T13:14:03.020Z"
   },
   {
    "duration": 44,
    "start_time": "2022-12-03T13:14:03.053Z"
   },
   {
    "duration": 41,
    "start_time": "2022-12-03T13:14:03.098Z"
   },
   {
    "duration": 28,
    "start_time": "2022-12-03T13:14:03.140Z"
   },
   {
    "duration": 9,
    "start_time": "2022-12-03T13:14:03.169Z"
   },
   {
    "duration": 41,
    "start_time": "2022-12-03T13:14:03.180Z"
   },
   {
    "duration": 25,
    "start_time": "2022-12-03T13:14:03.228Z"
   },
   {
    "duration": 34,
    "start_time": "2022-12-03T13:14:03.255Z"
   },
   {
    "duration": 23,
    "start_time": "2022-12-03T13:14:03.291Z"
   },
   {
    "duration": 28,
    "start_time": "2022-12-03T13:14:03.315Z"
   },
   {
    "duration": 10,
    "start_time": "2022-12-03T13:14:03.344Z"
   },
   {
    "duration": 24,
    "start_time": "2022-12-03T13:14:03.356Z"
   },
   {
    "duration": 10,
    "start_time": "2022-12-03T13:14:03.381Z"
   },
   {
    "duration": 24,
    "start_time": "2022-12-03T13:14:03.392Z"
   },
   {
    "duration": 18,
    "start_time": "2022-12-03T13:14:03.418Z"
   },
   {
    "duration": 15,
    "start_time": "2022-12-03T13:14:03.440Z"
   },
   {
    "duration": 27,
    "start_time": "2022-12-03T13:14:03.458Z"
   },
   {
    "duration": 47,
    "start_time": "2022-12-03T13:14:03.486Z"
   },
   {
    "duration": 19,
    "start_time": "2022-12-03T13:14:03.538Z"
   },
   {
    "duration": 14,
    "start_time": "2022-12-03T13:14:03.559Z"
   },
   {
    "duration": 14,
    "start_time": "2022-12-03T13:14:05.596Z"
   },
   {
    "duration": 2,
    "start_time": "2022-12-03T13:18:56.924Z"
   },
   {
    "duration": 49,
    "start_time": "2022-12-03T13:18:56.942Z"
   },
   {
    "duration": 14,
    "start_time": "2022-12-03T13:18:56.993Z"
   },
   {
    "duration": 22,
    "start_time": "2022-12-03T13:18:57.009Z"
   },
   {
    "duration": 6,
    "start_time": "2022-12-03T13:18:57.033Z"
   },
   {
    "duration": 17,
    "start_time": "2022-12-03T13:18:57.040Z"
   },
   {
    "duration": 15,
    "start_time": "2022-12-03T13:18:57.059Z"
   },
   {
    "duration": 9,
    "start_time": "2022-12-03T13:18:57.076Z"
   },
   {
    "duration": 6,
    "start_time": "2022-12-03T13:18:57.122Z"
   },
   {
    "duration": 8,
    "start_time": "2022-12-03T13:18:57.130Z"
   },
   {
    "duration": 17,
    "start_time": "2022-12-03T13:18:57.141Z"
   },
   {
    "duration": 12,
    "start_time": "2022-12-03T13:18:57.160Z"
   },
   {
    "duration": 5,
    "start_time": "2022-12-03T13:18:57.174Z"
   },
   {
    "duration": 49,
    "start_time": "2022-12-03T13:18:57.181Z"
   },
   {
    "duration": 17,
    "start_time": "2022-12-03T13:18:57.233Z"
   },
   {
    "duration": 17,
    "start_time": "2022-12-03T13:18:57.251Z"
   },
   {
    "duration": 6,
    "start_time": "2022-12-03T13:18:57.270Z"
   },
   {
    "duration": 10,
    "start_time": "2022-12-03T13:18:57.278Z"
   },
   {
    "duration": 33,
    "start_time": "2022-12-03T13:18:57.290Z"
   },
   {
    "duration": 26,
    "start_time": "2022-12-03T13:18:57.325Z"
   },
   {
    "duration": 9,
    "start_time": "2022-12-03T13:18:57.353Z"
   },
   {
    "duration": 6,
    "start_time": "2022-12-03T13:18:57.363Z"
   },
   {
    "duration": 12,
    "start_time": "2022-12-03T13:18:57.370Z"
   },
   {
    "duration": 42,
    "start_time": "2022-12-03T13:18:57.383Z"
   },
   {
    "duration": 9,
    "start_time": "2022-12-03T13:18:57.427Z"
   },
   {
    "duration": 19,
    "start_time": "2022-12-03T13:18:57.437Z"
   },
   {
    "duration": 6,
    "start_time": "2022-12-03T13:18:57.458Z"
   },
   {
    "duration": 7,
    "start_time": "2022-12-03T13:18:57.466Z"
   },
   {
    "duration": 20,
    "start_time": "2022-12-03T13:18:57.476Z"
   },
   {
    "duration": 42,
    "start_time": "2022-12-03T13:18:57.497Z"
   },
   {
    "duration": 16,
    "start_time": "2022-12-03T13:18:57.540Z"
   },
   {
    "duration": 10,
    "start_time": "2022-12-03T13:18:57.557Z"
   },
   {
    "duration": 21,
    "start_time": "2022-12-03T13:18:57.568Z"
   },
   {
    "duration": 4,
    "start_time": "2022-12-03T13:18:57.591Z"
   },
   {
    "duration": 29,
    "start_time": "2022-12-03T13:18:57.596Z"
   },
   {
    "duration": 7,
    "start_time": "2022-12-03T13:18:57.627Z"
   },
   {
    "duration": 19,
    "start_time": "2022-12-03T13:18:57.635Z"
   },
   {
    "duration": 6,
    "start_time": "2022-12-03T13:18:57.656Z"
   },
   {
    "duration": 22,
    "start_time": "2022-12-03T13:18:57.664Z"
   },
   {
    "duration": 5,
    "start_time": "2022-12-03T13:18:57.687Z"
   },
   {
    "duration": 30,
    "start_time": "2022-12-03T13:18:57.693Z"
   },
   {
    "duration": 28,
    "start_time": "2022-12-03T13:18:57.725Z"
   },
   {
    "duration": 8,
    "start_time": "2022-12-03T13:18:57.755Z"
   },
   {
    "duration": 9,
    "start_time": "2022-12-03T13:18:57.765Z"
   },
   {
    "duration": 5,
    "start_time": "2022-12-03T13:18:57.776Z"
   },
   {
    "duration": 18,
    "start_time": "2022-12-03T13:18:57.782Z"
   },
   {
    "duration": 29,
    "start_time": "2022-12-03T13:18:57.801Z"
   },
   {
    "duration": 6,
    "start_time": "2022-12-03T13:18:57.832Z"
   }
  ],
  "kernelspec": {
   "display_name": "Python 3 (ipykernel)",
   "language": "python",
   "name": "python3"
  },
  "language_info": {
   "codemirror_mode": {
    "name": "ipython",
    "version": 3
   },
   "file_extension": ".py",
   "mimetype": "text/x-python",
   "name": "python",
   "nbconvert_exporter": "python",
   "pygments_lexer": "ipython3",
   "version": "3.9.13"
  },
  "toc": {
   "base_numbering": 1,
   "nav_menu": {},
   "number_sections": true,
   "sideBar": true,
   "skip_h1_title": true,
   "title_cell": "Содержание",
   "title_sidebar": "Contents",
   "toc_cell": true,
   "toc_position": {
    "height": "calc(100% - 180px)",
    "left": "10px",
    "top": "150px",
    "width": "366.188px"
   },
   "toc_section_display": true,
   "toc_window_display": true
  }
 },
 "nbformat": 4,
 "nbformat_minor": 2
}
