{
 "cells": [
  {
   "cell_type": "markdown",
   "metadata": {},
   "source": [
    "# Анализ поведения пользователей мобильного приложения"
   ]
  },
  {
   "cell_type": "markdown",
   "metadata": {
    "toc": true
   },
   "source": [
    "<h1>Содержание<span class=\"tocSkip\"></span></h1>\n",
    "<div class=\"toc\"><ul class=\"toc-item\"><li><span><a href=\"#Подготовка-данных\" data-toc-modified-id=\"Подготовка-данных-1\"><span class=\"toc-item-num\">1&nbsp;&nbsp;</span>Подготовка данных</a></span></li><li><span><a href=\"#Изучение-и-проверка-данных\" data-toc-modified-id=\"Изучение-и-проверка-данных-2\"><span class=\"toc-item-num\">2&nbsp;&nbsp;</span>Изучение и проверка данных</a></span></li><li><span><a href=\"#Воронка-событий\" data-toc-modified-id=\"Воронка-событий-3\"><span class=\"toc-item-num\">3&nbsp;&nbsp;</span>Воронка событий</a></span></li><li><span><a href=\"#Изучим-результаты-эксперемента\" data-toc-modified-id=\"Изучим-результаты-эксперемента-4\"><span class=\"toc-item-num\">4&nbsp;&nbsp;</span>Изучим результаты эксперемента</a></span></li><li><span><a href=\"#Вывод\" data-toc-modified-id=\"Вывод-5\"><span class=\"toc-item-num\">5&nbsp;&nbsp;</span>Вывод</a></span></li></ul></div>"
   ]
  },
  {
   "cell_type": "markdown",
   "metadata": {},
   "source": [
    "## Подготовка данных"
   ]
  },
  {
   "cell_type": "markdown",
   "metadata": {},
   "source": [
    "Для начала сохраним нашу таблицу в переменной и изучим ее. Путь к файлу: `/datasets/logs_exp.csv`"
   ]
  },
  {
   "cell_type": "code",
   "execution_count": 1,
   "metadata": {},
   "outputs": [],
   "source": [
    "# Подгрузим необходимые нам библиотеки\n",
    "import pandas as pd\n",
    "import matplotlib.pyplot as plt\n",
    "import numpy as np\n",
    "import datetime as dt\n",
    "import plotly.express as px\n",
    "import math as mth\n",
    "from scipy import stats as st"
   ]
  },
  {
   "cell_type": "code",
   "execution_count": 2,
   "metadata": {},
   "outputs": [],
   "source": [
    "try:\n",
    "    aab_data = pd.read_csv('/datasets/logs_exp.csv', sep='\\t')\n",
    "except:\n",
    "    print('Не удалось загрузить файл')"
   ]
  },
  {
   "cell_type": "code",
   "execution_count": 3,
   "metadata": {},
   "outputs": [
    {
     "data": {
      "text/html": [
       "<div>\n",
       "<style scoped>\n",
       "    .dataframe tbody tr th:only-of-type {\n",
       "        vertical-align: middle;\n",
       "    }\n",
       "\n",
       "    .dataframe tbody tr th {\n",
       "        vertical-align: top;\n",
       "    }\n",
       "\n",
       "    .dataframe thead th {\n",
       "        text-align: right;\n",
       "    }\n",
       "</style>\n",
       "<table border=\"1\" class=\"dataframe\">\n",
       "  <thead>\n",
       "    <tr style=\"text-align: right;\">\n",
       "      <th></th>\n",
       "      <th>EventName</th>\n",
       "      <th>DeviceIDHash</th>\n",
       "      <th>EventTimestamp</th>\n",
       "      <th>ExpId</th>\n",
       "    </tr>\n",
       "  </thead>\n",
       "  <tbody>\n",
       "    <tr>\n",
       "      <th>0</th>\n",
       "      <td>MainScreenAppear</td>\n",
       "      <td>4575588528974610257</td>\n",
       "      <td>1564029816</td>\n",
       "      <td>246</td>\n",
       "    </tr>\n",
       "    <tr>\n",
       "      <th>1</th>\n",
       "      <td>MainScreenAppear</td>\n",
       "      <td>7416695313311560658</td>\n",
       "      <td>1564053102</td>\n",
       "      <td>246</td>\n",
       "    </tr>\n",
       "    <tr>\n",
       "      <th>2</th>\n",
       "      <td>PaymentScreenSuccessful</td>\n",
       "      <td>3518123091307005509</td>\n",
       "      <td>1564054127</td>\n",
       "      <td>248</td>\n",
       "    </tr>\n",
       "    <tr>\n",
       "      <th>3</th>\n",
       "      <td>CartScreenAppear</td>\n",
       "      <td>3518123091307005509</td>\n",
       "      <td>1564054127</td>\n",
       "      <td>248</td>\n",
       "    </tr>\n",
       "    <tr>\n",
       "      <th>4</th>\n",
       "      <td>PaymentScreenSuccessful</td>\n",
       "      <td>6217807653094995999</td>\n",
       "      <td>1564055322</td>\n",
       "      <td>248</td>\n",
       "    </tr>\n",
       "  </tbody>\n",
       "</table>\n",
       "</div>"
      ],
      "text/plain": [
       "                 EventName         DeviceIDHash  EventTimestamp  ExpId\n",
       "0         MainScreenAppear  4575588528974610257      1564029816    246\n",
       "1         MainScreenAppear  7416695313311560658      1564053102    246\n",
       "2  PaymentScreenSuccessful  3518123091307005509      1564054127    248\n",
       "3         CartScreenAppear  3518123091307005509      1564054127    248\n",
       "4  PaymentScreenSuccessful  6217807653094995999      1564055322    248"
      ]
     },
     "execution_count": 3,
     "metadata": {},
     "output_type": "execute_result"
    }
   ],
   "source": [
    "aab_data.head()"
   ]
  },
  {
   "cell_type": "code",
   "execution_count": 4,
   "metadata": {},
   "outputs": [],
   "source": [
    "#Заменим название столбцов\n",
    "aab_data.columns = ['event_name', 'device_id_hash', 'event_timestamp', 'exp_id']"
   ]
  },
  {
   "cell_type": "code",
   "execution_count": 5,
   "metadata": {},
   "outputs": [
    {
     "data": {
      "text/plain": [
       "413"
      ]
     },
     "execution_count": 5,
     "metadata": {},
     "output_type": "execute_result"
    }
   ],
   "source": [
    "# Проверм данные на наличие дубликатов\n",
    "aab_data.duplicated().sum()"
   ]
  },
  {
   "cell_type": "markdown",
   "metadata": {},
   "source": [
    "Ввиду того, что дубликаты составляют менее 1% от датафрейма, то мы их просто удалим"
   ]
  },
  {
   "cell_type": "code",
   "execution_count": 6,
   "metadata": {},
   "outputs": [
    {
     "name": "stdout",
     "output_type": "stream",
     "text": [
      "Строк в aab_data перед началом обработки: 244126\n"
     ]
    }
   ],
   "source": [
    "print(f'Строк в aab_data перед началом обработки: {aab_data.shape[0]}')"
   ]
  },
  {
   "cell_type": "code",
   "execution_count": 7,
   "metadata": {},
   "outputs": [
    {
     "data": {
      "text/plain": [
       "243713"
      ]
     },
     "execution_count": 7,
     "metadata": {},
     "output_type": "execute_result"
    }
   ],
   "source": [
    "aab_data = aab_data.drop_duplicates()\n",
    "aab_data.shape[0]"
   ]
  },
  {
   "cell_type": "code",
   "execution_count": 8,
   "metadata": {},
   "outputs": [
    {
     "data": {
      "text/plain": [
       "event_name         0\n",
       "device_id_hash     0\n",
       "event_timestamp    0\n",
       "exp_id             0\n",
       "dtype: int64"
      ]
     },
     "execution_count": 8,
     "metadata": {},
     "output_type": "execute_result"
    }
   ],
   "source": [
    "# Проверим на наличие пропусков\n",
    "aab_data.isna().sum()"
   ]
  },
  {
   "cell_type": "code",
   "execution_count": 9,
   "metadata": {},
   "outputs": [
    {
     "data": {
      "text/plain": [
       "array(['MainScreenAppear', 'PaymentScreenSuccessful', 'CartScreenAppear',\n",
       "       'OffersScreenAppear', 'Tutorial'], dtype=object)"
      ]
     },
     "metadata": {},
     "output_type": "display_data"
    },
    {
     "data": {
      "text/plain": [
       "array([246, 248, 247])"
      ]
     },
     "execution_count": 9,
     "metadata": {},
     "output_type": "execute_result"
    }
   ],
   "source": [
    "# Изучим содержание столбцов event_name и exp_id\n",
    "display(aab_data['event_name'].unique())\n",
    "aab_data['exp_id'].unique()"
   ]
  },
  {
   "cell_type": "code",
   "execution_count": 10,
   "metadata": {},
   "outputs": [
    {
     "name": "stdout",
     "output_type": "stream",
     "text": [
      "<class 'pandas.core.frame.DataFrame'>\n",
      "Int64Index: 243713 entries, 0 to 244125\n",
      "Data columns (total 4 columns):\n",
      " #   Column           Non-Null Count   Dtype \n",
      "---  ------           --------------   ----- \n",
      " 0   event_name       243713 non-null  object\n",
      " 1   device_id_hash   243713 non-null  int64 \n",
      " 2   event_timestamp  243713 non-null  int64 \n",
      " 3   exp_id           243713 non-null  int64 \n",
      "dtypes: int64(3), object(1)\n",
      "memory usage: 9.3+ MB\n"
     ]
    }
   ],
   "source": [
    "# Изучим типы данных\n",
    "aab_data.info()"
   ]
  },
  {
   "cell_type": "code",
   "execution_count": 11,
   "metadata": {},
   "outputs": [
    {
     "data": {
      "text/html": [
       "<div>\n",
       "<style scoped>\n",
       "    .dataframe tbody tr th:only-of-type {\n",
       "        vertical-align: middle;\n",
       "    }\n",
       "\n",
       "    .dataframe tbody tr th {\n",
       "        vertical-align: top;\n",
       "    }\n",
       "\n",
       "    .dataframe thead th {\n",
       "        text-align: right;\n",
       "    }\n",
       "</style>\n",
       "<table border=\"1\" class=\"dataframe\">\n",
       "  <thead>\n",
       "    <tr style=\"text-align: right;\">\n",
       "      <th></th>\n",
       "      <th>event_name</th>\n",
       "      <th>device_id_hash</th>\n",
       "      <th>event_timestamp</th>\n",
       "      <th>exp_id</th>\n",
       "      <th>event_datetime</th>\n",
       "      <th>event_date</th>\n",
       "    </tr>\n",
       "  </thead>\n",
       "  <tbody>\n",
       "    <tr>\n",
       "      <th>0</th>\n",
       "      <td>MainScreenAppear</td>\n",
       "      <td>4575588528974610257</td>\n",
       "      <td>1564029816</td>\n",
       "      <td>246</td>\n",
       "      <td>2019-07-25 04:43:36</td>\n",
       "      <td>2019-07-25</td>\n",
       "    </tr>\n",
       "    <tr>\n",
       "      <th>1</th>\n",
       "      <td>MainScreenAppear</td>\n",
       "      <td>7416695313311560658</td>\n",
       "      <td>1564053102</td>\n",
       "      <td>246</td>\n",
       "      <td>2019-07-25 11:11:42</td>\n",
       "      <td>2019-07-25</td>\n",
       "    </tr>\n",
       "    <tr>\n",
       "      <th>2</th>\n",
       "      <td>PaymentScreenSuccessful</td>\n",
       "      <td>3518123091307005509</td>\n",
       "      <td>1564054127</td>\n",
       "      <td>248</td>\n",
       "      <td>2019-07-25 11:28:47</td>\n",
       "      <td>2019-07-25</td>\n",
       "    </tr>\n",
       "    <tr>\n",
       "      <th>3</th>\n",
       "      <td>CartScreenAppear</td>\n",
       "      <td>3518123091307005509</td>\n",
       "      <td>1564054127</td>\n",
       "      <td>248</td>\n",
       "      <td>2019-07-25 11:28:47</td>\n",
       "      <td>2019-07-25</td>\n",
       "    </tr>\n",
       "    <tr>\n",
       "      <th>4</th>\n",
       "      <td>PaymentScreenSuccessful</td>\n",
       "      <td>6217807653094995999</td>\n",
       "      <td>1564055322</td>\n",
       "      <td>248</td>\n",
       "      <td>2019-07-25 11:48:42</td>\n",
       "      <td>2019-07-25</td>\n",
       "    </tr>\n",
       "  </tbody>\n",
       "</table>\n",
       "</div>"
      ],
      "text/plain": [
       "                event_name       device_id_hash  event_timestamp  exp_id  \\\n",
       "0         MainScreenAppear  4575588528974610257       1564029816     246   \n",
       "1         MainScreenAppear  7416695313311560658       1564053102     246   \n",
       "2  PaymentScreenSuccessful  3518123091307005509       1564054127     248   \n",
       "3         CartScreenAppear  3518123091307005509       1564054127     248   \n",
       "4  PaymentScreenSuccessful  6217807653094995999       1564055322     248   \n",
       "\n",
       "       event_datetime event_date  \n",
       "0 2019-07-25 04:43:36 2019-07-25  \n",
       "1 2019-07-25 11:11:42 2019-07-25  \n",
       "2 2019-07-25 11:28:47 2019-07-25  \n",
       "3 2019-07-25 11:28:47 2019-07-25  \n",
       "4 2019-07-25 11:48:42 2019-07-25  "
      ]
     },
     "execution_count": 11,
     "metadata": {},
     "output_type": "execute_result"
    }
   ],
   "source": [
    "# Добавим столбец даты и времени, а также отдельный столбец дат\n",
    "aab_data['event_datetime'] = pd.to_datetime(aab_data['event_timestamp'], unit='s')\n",
    "aab_data['event_date'] = aab_data['event_datetime'].astype('datetime64[D]')\n",
    "aab_data.head()"
   ]
  },
  {
   "cell_type": "markdown",
   "metadata": {},
   "source": [
    "Проверим нет ли у нас пользователей, которые оказались сразу в нескольких группах"
   ]
  },
  {
   "cell_type": "code",
   "execution_count": 12,
   "metadata": {},
   "outputs": [
    {
     "data": {
      "text/html": [
       "<div>\n",
       "<style scoped>\n",
       "    .dataframe tbody tr th:only-of-type {\n",
       "        vertical-align: middle;\n",
       "    }\n",
       "\n",
       "    .dataframe tbody tr th {\n",
       "        vertical-align: top;\n",
       "    }\n",
       "\n",
       "    .dataframe thead th {\n",
       "        text-align: right;\n",
       "    }\n",
       "</style>\n",
       "<table border=\"1\" class=\"dataframe\">\n",
       "  <thead>\n",
       "    <tr style=\"text-align: right;\">\n",
       "      <th></th>\n",
       "      <th>device_id_hash</th>\n",
       "      <th>exp_id</th>\n",
       "    </tr>\n",
       "  </thead>\n",
       "  <tbody>\n",
       "    <tr>\n",
       "      <th>0</th>\n",
       "      <td>6888746892508752</td>\n",
       "      <td>1</td>\n",
       "    </tr>\n",
       "    <tr>\n",
       "      <th>5030</th>\n",
       "      <td>6207768971558512760</td>\n",
       "      <td>1</td>\n",
       "    </tr>\n",
       "    <tr>\n",
       "      <th>5042</th>\n",
       "      <td>6217807653094995999</td>\n",
       "      <td>1</td>\n",
       "    </tr>\n",
       "    <tr>\n",
       "      <th>5041</th>\n",
       "      <td>6217295124800833842</td>\n",
       "      <td>1</td>\n",
       "    </tr>\n",
       "    <tr>\n",
       "      <th>5040</th>\n",
       "      <td>6216080220799726690</td>\n",
       "      <td>1</td>\n",
       "    </tr>\n",
       "  </tbody>\n",
       "</table>\n",
       "</div>"
      ],
      "text/plain": [
       "           device_id_hash  exp_id\n",
       "0        6888746892508752       1\n",
       "5030  6207768971558512760       1\n",
       "5042  6217807653094995999       1\n",
       "5041  6217295124800833842       1\n",
       "5040  6216080220799726690       1"
      ]
     },
     "execution_count": 12,
     "metadata": {},
     "output_type": "execute_result"
    }
   ],
   "source": [
    "check = aab_data.groupby('device_id_hash')['exp_id'].nunique().reset_index().sort_values('exp_id', ascending=False)\n",
    "check.head()"
   ]
  },
  {
   "cell_type": "markdown",
   "metadata": {},
   "source": [
    "Исходя из полученной таблицы, видно что пользователи не пересекаются."
   ]
  },
  {
   "cell_type": "markdown",
   "metadata": {},
   "source": [
    "На данном этапе мы подгрузили и подготовили наши данные к дальнейшей работе. Также дополнительно создали 2 столбца с датой и временем, а также только с датой. Проверили пользователей на пересечение."
   ]
  },
  {
   "cell_type": "markdown",
   "metadata": {},
   "source": [
    "## Изучение и проверка данных"
   ]
  },
  {
   "cell_type": "markdown",
   "metadata": {},
   "source": [
    "После подготовки датафрейма к работе, изучим и проверим данные. Ответим на следующие вопросы:\n",
    "- Сколько всего событий в логе?\n",
    "- Сколько всего пользователей в логе?\n",
    "- Сколько в среднем событий приходится на пользователя?\n",
    "- Данными за какой период мы располагаем? Найдем максимальную и минимальную дату. Построим гистограмму по дате и времени. Можем ли мы быть уверенным, что у нас одинаково полные данные за весь период? Технически в логи новых дней по некоторым пользователям могут «доезжать» события из прошлого — это может «перекашивать данные». Определим, с какого момента данные полные и отбросим более старые. Данными за какой период времени мы располагаете на самом деле?\n",
    "- Много ли событий и пользователей мы потеряли, отбросив старые данные?\n",
    "- Проверим, что у нас есть пользователи из всех трёх экспериментальных групп."
   ]
  },
  {
   "cell_type": "markdown",
   "metadata": {},
   "source": [
    "Так как каждая запись в логе — это действие пользователя, или событие, то количество строк в нашем датафрейме - это всего событий в логе."
   ]
  },
  {
   "cell_type": "code",
   "execution_count": 13,
   "metadata": {},
   "outputs": [
    {
     "data": {
      "text/plain": [
       "'Всего событий в логе - 243713'"
      ]
     },
     "metadata": {},
     "output_type": "display_data"
    },
    {
     "data": {
      "text/plain": [
       "'Всего пользователей в логе - 7551'"
      ]
     },
     "metadata": {},
     "output_type": "display_data"
    }
   ],
   "source": [
    "display(f'Всего событий в логе - {aab_data.shape[0]}')\n",
    "display(f'Всего пользователей в логе - {aab_data[\"device_id_hash\"].nunique()}')"
   ]
  },
  {
   "cell_type": "markdown",
   "metadata": {},
   "source": [
    "Найдем среднее количество заказов на пользователя. Для начала изучим наши данные на аномалии."
   ]
  },
  {
   "cell_type": "code",
   "execution_count": 14,
   "metadata": {
    "scrolled": true
   },
   "outputs": [
    {
     "data": {
      "text/html": [
       "<div>\n",
       "<style scoped>\n",
       "    .dataframe tbody tr th:only-of-type {\n",
       "        vertical-align: middle;\n",
       "    }\n",
       "\n",
       "    .dataframe tbody tr th {\n",
       "        vertical-align: top;\n",
       "    }\n",
       "\n",
       "    .dataframe thead th {\n",
       "        text-align: right;\n",
       "    }\n",
       "</style>\n",
       "<table border=\"1\" class=\"dataframe\">\n",
       "  <thead>\n",
       "    <tr style=\"text-align: right;\">\n",
       "      <th></th>\n",
       "      <th>device_id_hash</th>\n",
       "      <th>event_name</th>\n",
       "    </tr>\n",
       "  </thead>\n",
       "  <tbody>\n",
       "    <tr>\n",
       "      <th>count</th>\n",
       "      <td>7.551000e+03</td>\n",
       "      <td>7551.000000</td>\n",
       "    </tr>\n",
       "    <tr>\n",
       "      <th>mean</th>\n",
       "      <td>4.677319e+18</td>\n",
       "      <td>32.275593</td>\n",
       "    </tr>\n",
       "    <tr>\n",
       "      <th>std</th>\n",
       "      <td>2.655343e+18</td>\n",
       "      <td>65.154219</td>\n",
       "    </tr>\n",
       "    <tr>\n",
       "      <th>min</th>\n",
       "      <td>6.888747e+15</td>\n",
       "      <td>1.000000</td>\n",
       "    </tr>\n",
       "    <tr>\n",
       "      <th>25%</th>\n",
       "      <td>2.397700e+18</td>\n",
       "      <td>9.000000</td>\n",
       "    </tr>\n",
       "    <tr>\n",
       "      <th>50%</th>\n",
       "      <td>4.688022e+18</td>\n",
       "      <td>20.000000</td>\n",
       "    </tr>\n",
       "    <tr>\n",
       "      <th>75%</th>\n",
       "      <td>7.007353e+18</td>\n",
       "      <td>37.000000</td>\n",
       "    </tr>\n",
       "    <tr>\n",
       "      <th>max</th>\n",
       "      <td>9.222603e+18</td>\n",
       "      <td>2307.000000</td>\n",
       "    </tr>\n",
       "  </tbody>\n",
       "</table>\n",
       "</div>"
      ],
      "text/plain": [
       "       device_id_hash   event_name\n",
       "count    7.551000e+03  7551.000000\n",
       "mean     4.677319e+18    32.275593\n",
       "std      2.655343e+18    65.154219\n",
       "min      6.888747e+15     1.000000\n",
       "25%      2.397700e+18     9.000000\n",
       "50%      4.688022e+18    20.000000\n",
       "75%      7.007353e+18    37.000000\n",
       "max      9.222603e+18  2307.000000"
      ]
     },
     "metadata": {},
     "output_type": "display_data"
    },
    {
     "data": {
      "image/png": "[encoded data removed]",
      "text/plain": [
       "<Figure size 1080x360 with 1 Axes>"
      ]
     },
     "metadata": {
      "needs_background": "light"
     },
     "output_type": "display_data"
    },
    {
     "data": {
      "image/png": "[encoded data removed]",
      "text/plain": [
       "<Figure size 1080x504 with 1 Axes>"
      ]
     },
     "metadata": {
      "needs_background": "light"
     },
     "output_type": "display_data"
    },
    {
     "data": {
      "text/plain": [
       "array([ 89. , 200.5])"
      ]
     },
     "execution_count": 14,
     "metadata": {},
     "output_type": "execute_result"
    }
   ],
   "source": [
    "# Создадим датафрейм с количеством события на уника\n",
    "data_boxplot = aab_data.groupby('device_id_hash').agg({'event_name':'count'}).reset_index()\n",
    "\n",
    "# Посмотри на данные с помощью метода describe\n",
    "display(data_boxplot.describe())\n",
    "\n",
    "# Построим диаграмму размаха\n",
    "data_boxplot.plot(kind='box', figsize=(15, 5), y='event_name')\n",
    "plt.title('Диаграмма размаха количества событий')\n",
    "plt.xlabel(' ')\n",
    "plt.ylabel('Количество событий')\n",
    "plt.show()\n",
    "\n",
    "# Приблизим диаграмму размаха\n",
    "data_boxplot.plot(kind='box', figsize=(15, 7), y='event_name')\n",
    "plt.ylim(0, 100)\n",
    "plt.title('Диаграмма размаха количества событий')\n",
    "plt.xlabel(' ')\n",
    "plt.ylabel('Количество событий')\n",
    "plt.show()\n",
    "\n",
    "np.percentile(data_boxplot[\"event_name\"], [95, 99])"
   ]
  },
  {
   "cell_type": "markdown",
   "metadata": {},
   "source": [
    "Исходя из полученных результатов видно, что в данных содержатся аномалии. Находятся пользователи, у которых количество событий превышает 2000. Не более 95% пользователей совершили лишь 89 событий. Посмотрим, какой процент данных мы потеряем при удалении данных пользователей из нашего датафрейма"
   ]
  },
  {
   "cell_type": "code",
   "execution_count": 15,
   "metadata": {},
   "outputs": [
    {
     "name": "stdout",
     "output_type": "stream",
     "text": [
      "Сейчас в данных содержится 243713 событий.\n",
      "После удаление аномальных пользователей из датафрейма, останется 172741\n",
      "Что составляет 29.12% от исходных данных\n"
     ]
    }
   ],
   "source": [
    "anomal_users = list(data_boxplot.query('event_name > 89')['device_id_hash'])\n",
    "print(\n",
    "    f'Сейчас в данных содержится {aab_data.shape[0]} событий.'\n",
    ")\n",
    "print(\n",
    "    f'После удаление аномальных пользователей из датафрейма, останется {aab_data.query(\"device_id_hash not in @anomal_users\").shape[0]}'\n",
    ")\n",
    "print(\n",
    "    f'Что составляет {round((aab_data.shape[0] - aab_data.query(\"device_id_hash not in @anomal_users\").shape[0])/aab_data.shape[0]*100,2)}% от исходных данных'\n",
    ")"
   ]
  },
  {
   "cell_type": "markdown",
   "metadata": {},
   "source": [
    "Ввиду того, что аномалии составляют 29% от исходного датафрейма, то их удаление повлечет за собой искажение данных. На данном этапе оставим этих пользователей. Для определения среднего количества заказов на пользователя, воспользуемся медианным значением. В среднем на пользователя приходится 20 событий."
   ]
  },
  {
   "cell_type": "markdown",
   "metadata": {},
   "source": [
    "Посмотрим данными за какой период мы располагаем. Найдем максимальную и минимальную даты, а также построим гистограмму по дате и времени."
   ]
  },
  {
   "cell_type": "code",
   "execution_count": 16,
   "metadata": {},
   "outputs": [
    {
     "data": {
      "text/plain": [
       "' В нашем распоряжении данные за преиод с 2019-07-25 04:43:36 по 2019-08-07 21:15:17'"
      ]
     },
     "execution_count": 16,
     "metadata": {},
     "output_type": "execute_result"
    }
   ],
   "source": [
    "f' В нашем распоряжении данные за преиод с {aab_data[\"event_datetime\"].min()} по {aab_data[\"event_datetime\"].max()}'"
   ]
  },
  {
   "cell_type": "code",
   "execution_count": 17,
   "metadata": {},
   "outputs": [
    {
     "data": {
      "image/png": "[encoded data removed]",
      "text/plain": [
       "<Figure size 1440x504 with 1 Axes>"
      ]
     },
     "metadata": {
      "needs_background": "light"
     },
     "output_type": "display_data"
    }
   ],
   "source": [
    "plt.figure(figsize=(20,7))\n",
    "plt.hist(aab_data['event_datetime'], bins=100, color='#18ded7')\n",
    "plt.title('Гистограмма распределения логов по дате и времени')\n",
    "plt.ylabel('Количество логов')\n",
    "plt.xlabel('Дата')\n",
    "plt.xticks(aab_data['event_date'].unique())\n",
    "plt.grid()\n",
    "plt.show()"
   ]
  },
  {
   "cell_type": "markdown",
   "metadata": {},
   "source": [
    "Благодаря полученной гистограмме можно заметить, что корректно логи начали \"подтягиваться\" начиная с 1 августа. До этого момента данные не полные, и использовать их в дальнейшем некорректно. Для этого создадим новый датафрейм, в котором сохраним логи начиная с 1 августа, включительно."
   ]
  },
  {
   "cell_type": "code",
   "execution_count": 18,
   "metadata": {},
   "outputs": [],
   "source": [
    "aab_data_act = aab_data.query('event_date >= \"2019-08-01\"')"
   ]
  },
  {
   "cell_type": "markdown",
   "metadata": {},
   "source": [
    "После \"чистки\" датафрейма, теперь мы располагаем данными за недельный период - с 1 по 7 августа, включительно.\n",
    "\n",
    "Проверим, много ли пользователей и событий мы потеряли, отбросив старые данные."
   ]
  },
  {
   "cell_type": "code",
   "execution_count": 19,
   "metadata": {},
   "outputs": [
    {
     "name": "stdout",
     "output_type": "stream",
     "text": [
      "2826\n",
      "1.159560630741897\n"
     ]
    }
   ],
   "source": [
    "# Узнаем количество 'потеряных' логов, а также их процент\n",
    "print(aab_data.shape[0] - aab_data_act.shape[0])\n",
    "print((aab_data.shape[0] - aab_data_act.shape[0])/aab_data.shape[0]*100)"
   ]
  },
  {
   "cell_type": "code",
   "execution_count": 20,
   "metadata": {},
   "outputs": [
    {
     "name": "stdout",
     "output_type": "stream",
     "text": [
      "17\n",
      "0.22513574361011784\n"
     ]
    }
   ],
   "source": [
    "# Узнаем количество 'потеряных' пользователей\n",
    "print(aab_data['device_id_hash'].nunique() - aab_data_act['device_id_hash'].nunique())\n",
    "print((aab_data['device_id_hash'].nunique() - aab_data_act['device_id_hash'].nunique())/aab_data['device_id_hash'].nunique()*100)"
   ]
  },
  {
   "cell_type": "markdown",
   "metadata": {},
   "source": [
    "После чистки данных мы избавились всего от 2826 логов и 17 уникальных пользователей, что составляет 1.15% и 0.22% соответственно. Теперь проверим какое количество пользователей приходится на каждую из групп."
   ]
  },
  {
   "cell_type": "code",
   "execution_count": 21,
   "metadata": {},
   "outputs": [
    {
     "data": {
      "text/html": [
       "<div>\n",
       "<style scoped>\n",
       "    .dataframe tbody tr th:only-of-type {\n",
       "        vertical-align: middle;\n",
       "    }\n",
       "\n",
       "    .dataframe tbody tr th {\n",
       "        vertical-align: top;\n",
       "    }\n",
       "\n",
       "    .dataframe thead th {\n",
       "        text-align: right;\n",
       "    }\n",
       "</style>\n",
       "<table border=\"1\" class=\"dataframe\">\n",
       "  <thead>\n",
       "    <tr style=\"text-align: right;\">\n",
       "      <th></th>\n",
       "      <th>device_id_hash</th>\n",
       "    </tr>\n",
       "    <tr>\n",
       "      <th>exp_id</th>\n",
       "      <th></th>\n",
       "    </tr>\n",
       "  </thead>\n",
       "  <tbody>\n",
       "    <tr>\n",
       "      <th>246</th>\n",
       "      <td>2484</td>\n",
       "    </tr>\n",
       "    <tr>\n",
       "      <th>247</th>\n",
       "      <td>2513</td>\n",
       "    </tr>\n",
       "    <tr>\n",
       "      <th>248</th>\n",
       "      <td>2537</td>\n",
       "    </tr>\n",
       "  </tbody>\n",
       "</table>\n",
       "</div>"
      ],
      "text/plain": [
       "        device_id_hash\n",
       "exp_id                \n",
       "246               2484\n",
       "247               2513\n",
       "248               2537"
      ]
     },
     "execution_count": 21,
     "metadata": {},
     "output_type": "execute_result"
    }
   ],
   "source": [
    "aab_data_act.pivot_table(index='exp_id', values='device_id_hash', aggfunc='nunique')"
   ]
  },
  {
   "cell_type": "markdown",
   "metadata": {},
   "source": [
    "По группам видно небольшое расхождение в пользователях. На эксперементальную 248 группу приходится 2537 пользовталей, что менее чем на 1% больше, чем в 247 группе, и на 2% больше, чем в 246 группе."
   ]
  },
  {
   "cell_type": "markdown",
   "metadata": {},
   "source": [
    "В данном разделе мы изучили наши данные, определили сколько событий и пользователей в логе, а также изучили данные на аномалии. Изучили период котороым мы располагаем, отбросив период с неполным данными."
   ]
  },
  {
   "cell_type": "markdown",
   "metadata": {},
   "source": [
    "## Воронка событий"
   ]
  },
  {
   "cell_type": "markdown",
   "metadata": {},
   "source": [
    "Изучим воронку события для нашего стратапа."
   ]
  },
  {
   "cell_type": "markdown",
   "metadata": {},
   "source": [
    "Для начала посмотрим, какие события есть в логах и как часто они встречаются."
   ]
  },
  {
   "cell_type": "code",
   "execution_count": 22,
   "metadata": {},
   "outputs": [
    {
     "data": {
      "text/plain": [
       "MainScreenAppear           117328\n",
       "OffersScreenAppear          46333\n",
       "CartScreenAppear            42303\n",
       "PaymentScreenSuccessful     33918\n",
       "Tutorial                     1005\n",
       "Name: event_name, dtype: int64"
      ]
     },
     "execution_count": 22,
     "metadata": {},
     "output_type": "execute_result"
    }
   ],
   "source": [
    "aab_data_act['event_name'].value_counts()"
   ]
  },
  {
   "cell_type": "markdown",
   "metadata": {},
   "source": [
    "Теперь посчитаем, сколько пользователей совершали каждое из этих событий."
   ]
  },
  {
   "cell_type": "code",
   "execution_count": 23,
   "metadata": {},
   "outputs": [
    {
     "data": {
      "text/html": [
       "<div>\n",
       "<style scoped>\n",
       "    .dataframe tbody tr th:only-of-type {\n",
       "        vertical-align: middle;\n",
       "    }\n",
       "\n",
       "    .dataframe tbody tr th {\n",
       "        vertical-align: top;\n",
       "    }\n",
       "\n",
       "    .dataframe thead th {\n",
       "        text-align: right;\n",
       "    }\n",
       "</style>\n",
       "<table border=\"1\" class=\"dataframe\">\n",
       "  <thead>\n",
       "    <tr style=\"text-align: right;\">\n",
       "      <th></th>\n",
       "      <th>event_name</th>\n",
       "      <th>device_id_hash</th>\n",
       "    </tr>\n",
       "  </thead>\n",
       "  <tbody>\n",
       "    <tr>\n",
       "      <th>0</th>\n",
       "      <td>MainScreenAppear</td>\n",
       "      <td>7419</td>\n",
       "    </tr>\n",
       "    <tr>\n",
       "      <th>1</th>\n",
       "      <td>OffersScreenAppear</td>\n",
       "      <td>4593</td>\n",
       "    </tr>\n",
       "    <tr>\n",
       "      <th>2</th>\n",
       "      <td>CartScreenAppear</td>\n",
       "      <td>3734</td>\n",
       "    </tr>\n",
       "    <tr>\n",
       "      <th>3</th>\n",
       "      <td>PaymentScreenSuccessful</td>\n",
       "      <td>3539</td>\n",
       "    </tr>\n",
       "    <tr>\n",
       "      <th>4</th>\n",
       "      <td>Tutorial</td>\n",
       "      <td>840</td>\n",
       "    </tr>\n",
       "  </tbody>\n",
       "</table>\n",
       "</div>"
      ],
      "text/plain": [
       "                event_name  device_id_hash\n",
       "0         MainScreenAppear            7419\n",
       "1       OffersScreenAppear            4593\n",
       "2         CartScreenAppear            3734\n",
       "3  PaymentScreenSuccessful            3539\n",
       "4                 Tutorial             840"
      ]
     },
     "execution_count": 23,
     "metadata": {},
     "output_type": "execute_result"
    }
   ],
   "source": [
    "events_cnt = (\n",
    "    pd.DataFrame(aab_data_act.groupby('event_name')['device_id_hash']\n",
    "                 .nunique().sort_values(ascending=False)).reset_index()\n",
    ")\n",
    "events_cnt"
   ]
  },
  {
   "cell_type": "markdown",
   "metadata": {},
   "source": [
    "Посчитаем долю пользователей, которые хоть раз совершали событие."
   ]
  },
  {
   "cell_type": "code",
   "execution_count": 24,
   "metadata": {},
   "outputs": [
    {
     "data": {
      "text/html": [
       "<style  type=\"text/css\" >\n",
       "</style><table id=\"T_15e07_\" ><thead>    <tr>        <th class=\"blank level0\" ></th>        <th class=\"col_heading level0 col0\" >device_id_hash</th>    </tr>    <tr>        <th class=\"index_name level0\" >event_name</th>        <th class=\"blank\" ></th>    </tr></thead><tbody>\n",
       "                <tr>\n",
       "                        <th id=\"T_15e07_level0_row0\" class=\"row_heading level0 row0\" >MainScreenAppear</th>\n",
       "                        <td id=\"T_15e07_row0_col0\" class=\"data row0 col0\" >98.5%</td>\n",
       "            </tr>\n",
       "            <tr>\n",
       "                        <th id=\"T_15e07_level0_row1\" class=\"row_heading level0 row1\" >OffersScreenAppear</th>\n",
       "                        <td id=\"T_15e07_row1_col0\" class=\"data row1 col0\" >61.0%</td>\n",
       "            </tr>\n",
       "            <tr>\n",
       "                        <th id=\"T_15e07_level0_row2\" class=\"row_heading level0 row2\" >CartScreenAppear</th>\n",
       "                        <td id=\"T_15e07_row2_col0\" class=\"data row2 col0\" >49.6%</td>\n",
       "            </tr>\n",
       "            <tr>\n",
       "                        <th id=\"T_15e07_level0_row3\" class=\"row_heading level0 row3\" >PaymentScreenSuccessful</th>\n",
       "                        <td id=\"T_15e07_row3_col0\" class=\"data row3 col0\" >47.0%</td>\n",
       "            </tr>\n",
       "            <tr>\n",
       "                        <th id=\"T_15e07_level0_row4\" class=\"row_heading level0 row4\" >Tutorial</th>\n",
       "                        <td id=\"T_15e07_row4_col0\" class=\"data row4 col0\" >11.1%</td>\n",
       "            </tr>\n",
       "    </tbody></table>"
      ],
      "text/plain": [
       "<pandas.io.formats.style.Styler at 0x7f619dd2bca0>"
      ]
     },
     "execution_count": 24,
     "metadata": {},
     "output_type": "execute_result"
    }
   ],
   "source": [
    "(\n",
    "    pd.DataFrame(aab_data_act.groupby('event_name')['device_id_hash'].nunique()\n",
    "                 /aab_data_act['device_id_hash'].nunique()*100)\n",
    "    .sort_values('device_id_hash', ascending=False).style.format('{:.1f}%')\n",
    ")"
   ]
  },
  {
   "cell_type": "markdown",
   "metadata": {},
   "source": [
    "Исходя из полученной таблицы, события имеют следующий порядок `MainScreenAppear` (главный экран) -> `OffersScreenAppear` (экран предожения) -> `CartScreenAppear` (корзина) -> `PaymentScreenSuccessful` (экран успешной оплаты). Событие `Tutorial` (обучение) редко используется пользователями и никак не задействована в воронке событий. Главное событие `MainScreenAppear` - было показано только в 98.5% случаев, что может свидетельствовать о возможных багах приложения.\n",
    "\n",
    "Для наглядности изобразим воронку с абсолютными значениями."
   ]
  },
  {
   "cell_type": "code",
   "execution_count": 42,
   "metadata": {},
   "outputs": [
    {
     "data": {
      "application/vnd.plotly.v1+json": {
       "config": {
        "plotlyServerURL": "https://plot.ly"
       },
       "data": [
        {
         "hovertemplate": "device_id_hash=%{x}<br>event_name=%{y}<extra></extra>",
         "legendgroup": "",
         "marker": {
          "color": "#636efa"
         },
         "name": "",
         "orientation": "h",
         "showlegend": false,
         "type": "funnel",
         "x": [
          7419,
          4593,
          3734,
          3539
         ],
         "xaxis": "x",
         "y": [
          "MainScreenAppear",
          "OffersScreenAppear",
          "CartScreenAppear",
          "PaymentScreenSuccessful"
         ],
         "yaxis": "y"
        }
       ],
       "layout": {
        "legend": {
         "tracegroupgap": 0
        },
        "template": {
         "data": {
          "bar": [
           {
            "error_x": {
             "color": "#2a3f5f"
            },
            "error_y": {
             "color": "#2a3f5f"
            },
            "marker": {
             "line": {
              "color": "#E5ECF6",
              "width": 0.5
             },
             "pattern": {
              "fillmode": "overlay",
              "size": 10,
              "solidity": 0.2
             }
            },
            "type": "bar"
           }
          ],
          "barpolar": [
           {
            "marker": {
             "line": {
              "color": "#E5ECF6",
              "width": 0.5
             },
             "pattern": {
              "fillmode": "overlay",
              "size": 10,
              "solidity": 0.2
             }
            },
            "type": "barpolar"
           }
          ],
          "carpet": [
           {
            "aaxis": {
             "endlinecolor": "#2a3f5f",
             "gridcolor": "white",
             "linecolor": "white",
             "minorgridcolor": "white",
             "startlinecolor": "#2a3f5f"
            },
            "baxis": {
             "endlinecolor": "#2a3f5f",
             "gridcolor": "white",
             "linecolor": "white",
             "minorgridcolor": "white",
             "startlinecolor": "#2a3f5f"
            },
            "type": "carpet"
           }
          ],
          "choropleth": [
           {
            "colorbar": {
             "outlinewidth": 0,
             "ticks": ""
            },
            "type": "choropleth"
           }
          ],
          "contour": [
           {
            "colorbar": {
             "outlinewidth": 0,
             "ticks": ""
            },
            "colorscale": [
             [
              0,
              "#0d0887"
             ],
             [
              0.1111111111111111,
              "#46039f"
             ],
             [
              0.2222222222222222,
              "#7201a8"
             ],
             [
              0.3333333333333333,
              "#9c179e"
             ],
             [
              0.4444444444444444,
              "#bd3786"
             ],
             [
              0.5555555555555556,
              "#d8576b"
             ],
             [
              0.6666666666666666,
              "#ed7953"
             ],
             [
              0.7777777777777778,
              "#fb9f3a"
             ],
             [
              0.8888888888888888,
              "#fdca26"
             ],
             [
              1,
              "#f0f921"
             ]
            ],
            "type": "contour"
           }
          ],
          "contourcarpet": [
           {
            "colorbar": {
             "outlinewidth": 0,
             "ticks": ""
            },
            "type": "contourcarpet"
           }
          ],
          "heatmap": [
           {
            "colorbar": {
             "outlinewidth": 0,
             "ticks": ""
            },
            "colorscale": [
             [
              0,
              "#0d0887"
             ],
             [
              0.1111111111111111,
              "#46039f"
             ],
             [
              0.2222222222222222,
              "#7201a8"
             ],
             [
              0.3333333333333333,
              "#9c179e"
             ],
             [
              0.4444444444444444,
              "#bd3786"
             ],
             [
              0.5555555555555556,
              "#d8576b"
             ],
             [
              0.6666666666666666,
              "#ed7953"
             ],
             [
              0.7777777777777778,
              "#fb9f3a"
             ],
             [
              0.8888888888888888,
              "#fdca26"
             ],
             [
              1,
              "#f0f921"
             ]
            ],
            "type": "heatmap"
           }
          ],
          "heatmapgl": [
           {
            "colorbar": {
             "outlinewidth": 0,
             "ticks": ""
            },
            "colorscale": [
             [
              0,
              "#0d0887"
             ],
             [
              0.1111111111111111,
              "#46039f"
             ],
             [
              0.2222222222222222,
              "#7201a8"
             ],
             [
              0.3333333333333333,
              "#9c179e"
             ],
             [
              0.4444444444444444,
              "#bd3786"
             ],
             [
              0.5555555555555556,
              "#d8576b"
             ],
             [
              0.6666666666666666,
              "#ed7953"
             ],
             [
              0.7777777777777778,
              "#fb9f3a"
             ],
             [
              0.8888888888888888,
              "#fdca26"
             ],
             [
              1,
              "#f0f921"
             ]
            ],
            "type": "heatmapgl"
           }
          ],
          "histogram": [
           {
            "marker": {
             "pattern": {
              "fillmode": "overlay",
              "size": 10,
              "solidity": 0.2
             }
            },
            "type": "histogram"
           }
          ],
          "histogram2d": [
           {
            "colorbar": {
             "outlinewidth": 0,
             "ticks": ""
            },
            "colorscale": [
             [
              0,
              "#0d0887"
             ],
             [
              0.1111111111111111,
              "#46039f"
             ],
             [
              0.2222222222222222,
              "#7201a8"
             ],
             [
              0.3333333333333333,
              "#9c179e"
             ],
             [
              0.4444444444444444,
              "#bd3786"
             ],
             [
              0.5555555555555556,
              "#d8576b"
             ],
             [
              0.6666666666666666,
              "#ed7953"
             ],
             [
              0.7777777777777778,
              "#fb9f3a"
             ],
             [
              0.8888888888888888,
              "#fdca26"
             ],
             [
              1,
              "#f0f921"
             ]
            ],
            "type": "histogram2d"
           }
          ],
          "histogram2dcontour": [
           {
            "colorbar": {
             "outlinewidth": 0,
             "ticks": ""
            },
            "colorscale": [
             [
              0,
              "#0d0887"
             ],
             [
              0.1111111111111111,
              "#46039f"
             ],
             [
              0.2222222222222222,
              "#7201a8"
             ],
             [
              0.3333333333333333,
              "#9c179e"
             ],
             [
              0.4444444444444444,
              "#bd3786"
             ],
             [
              0.5555555555555556,
              "#d8576b"
             ],
             [
              0.6666666666666666,
              "#ed7953"
             ],
             [
              0.7777777777777778,
              "#fb9f3a"
             ],
             [
              0.8888888888888888,
              "#fdca26"
             ],
             [
              1,
              "#f0f921"
             ]
            ],
            "type": "histogram2dcontour"
           }
          ],
          "mesh3d": [
           {
            "colorbar": {
             "outlinewidth": 0,
             "ticks": ""
            },
            "type": "mesh3d"
           }
          ],
          "parcoords": [
           {
            "line": {
             "colorbar": {
              "outlinewidth": 0,
              "ticks": ""
             }
            },
            "type": "parcoords"
           }
          ],
          "pie": [
           {
            "automargin": true,
            "type": "pie"
           }
          ],
          "scatter": [
           {
            "marker": {
             "colorbar": {
              "outlinewidth": 0,
              "ticks": ""
             }
            },
            "type": "scatter"
           }
          ],
          "scatter3d": [
           {
            "line": {
             "colorbar": {
              "outlinewidth": 0,
              "ticks": ""
             }
            },
            "marker": {
             "colorbar": {
              "outlinewidth": 0,
              "ticks": ""
             }
            },
            "type": "scatter3d"
           }
          ],
          "scattercarpet": [
           {
            "marker": {
             "colorbar": {
              "outlinewidth": 0,
              "ticks": ""
             }
            },
            "type": "scattercarpet"
           }
          ],
          "scattergeo": [
           {
            "marker": {
             "colorbar": {
              "outlinewidth": 0,
              "ticks": ""
             }
            },
            "type": "scattergeo"
           }
          ],
          "scattergl": [
           {
            "marker": {
             "colorbar": {
              "outlinewidth": 0,
              "ticks": ""
             }
            },
            "type": "scattergl"
           }
          ],
          "scattermapbox": [
           {
            "marker": {
             "colorbar": {
              "outlinewidth": 0,
              "ticks": ""
             }
            },
            "type": "scattermapbox"
           }
          ],
          "scatterpolar": [
           {
            "marker": {
             "colorbar": {
              "outlinewidth": 0,
              "ticks": ""
             }
            },
            "type": "scatterpolar"
           }
          ],
          "scatterpolargl": [
           {
            "marker": {
             "colorbar": {
              "outlinewidth": 0,
              "ticks": ""
             }
            },
            "type": "scatterpolargl"
           }
          ],
          "scatterternary": [
           {
            "marker": {
             "colorbar": {
              "outlinewidth": 0,
              "ticks": ""
             }
            },
            "type": "scatterternary"
           }
          ],
          "surface": [
           {
            "colorbar": {
             "outlinewidth": 0,
             "ticks": ""
            },
            "colorscale": [
             [
              0,
              "#0d0887"
             ],
             [
              0.1111111111111111,
              "#46039f"
             ],
             [
              0.2222222222222222,
              "#7201a8"
             ],
             [
              0.3333333333333333,
              "#9c179e"
             ],
             [
              0.4444444444444444,
              "#bd3786"
             ],
             [
              0.5555555555555556,
              "#d8576b"
             ],
             [
              0.6666666666666666,
              "#ed7953"
             ],
             [
              0.7777777777777778,
              "#fb9f3a"
             ],
             [
              0.8888888888888888,
              "#fdca26"
             ],
             [
              1,
              "#f0f921"
             ]
            ],
            "type": "surface"
           }
          ],
          "table": [
           {
            "cells": {
             "fill": {
              "color": "#EBF0F8"
             },
             "line": {
              "color": "white"
             }
            },
            "header": {
             "fill": {
              "color": "#C8D4E3"
             },
             "line": {
              "color": "white"
             }
            },
            "type": "table"
           }
          ]
         },
         "layout": {
          "annotationdefaults": {
           "arrowcolor": "#2a3f5f",
           "arrowhead": 0,
           "arrowwidth": 1
          },
          "autotypenumbers": "strict",
          "coloraxis": {
           "colorbar": {
            "outlinewidth": 0,
            "ticks": ""
           }
          },
          "colorscale": {
           "diverging": [
            [
             0,
             "#8e0152"
            ],
            [
             0.1,
             "#c51b7d"
            ],
            [
             0.2,
             "#de77ae"
            ],
            [
             0.3,
             "#f1b6da"
            ],
            [
             0.4,
             "#fde0ef"
            ],
            [
             0.5,
             "#f7f7f7"
            ],
            [
             0.6,
             "#e6f5d0"
            ],
            [
             0.7,
             "#b8e186"
            ],
            [
             0.8,
             "#7fbc41"
            ],
            [
             0.9,
             "#4d9221"
            ],
            [
             1,
             "#276419"
            ]
           ],
           "sequential": [
            [
             0,
             "#0d0887"
            ],
            [
             0.1111111111111111,
             "#46039f"
            ],
            [
             0.2222222222222222,
             "#7201a8"
            ],
            [
             0.3333333333333333,
             "#9c179e"
            ],
            [
             0.4444444444444444,
             "#bd3786"
            ],
            [
             0.5555555555555556,
             "#d8576b"
            ],
            [
             0.6666666666666666,
             "#ed7953"
            ],
            [
             0.7777777777777778,
             "#fb9f3a"
            ],
            [
             0.8888888888888888,
             "#fdca26"
            ],
            [
             1,
             "#f0f921"
            ]
           ],
           "sequentialminus": [
            [
             0,
             "#0d0887"
            ],
            [
             0.1111111111111111,
             "#46039f"
            ],
            [
             0.2222222222222222,
             "#7201a8"
            ],
            [
             0.3333333333333333,
             "#9c179e"
            ],
            [
             0.4444444444444444,
             "#bd3786"
            ],
            [
             0.5555555555555556,
             "#d8576b"
            ],
            [
             0.6666666666666666,
             "#ed7953"
            ],
            [
             0.7777777777777778,
             "#fb9f3a"
            ],
            [
             0.8888888888888888,
             "#fdca26"
            ],
            [
             1,
             "#f0f921"
            ]
           ]
          },
          "colorway": [
           "#636efa",
           "#EF553B",
           "#00cc96",
           "#ab63fa",
           "#FFA15A",
           "#19d3f3",
           "#FF6692",
           "#B6E880",
           "#FF97FF",
           "#FECB52"
          ],
          "font": {
           "color": "#2a3f5f"
          },
          "geo": {
           "bgcolor": "white",
           "lakecolor": "white",
           "landcolor": "#E5ECF6",
           "showlakes": true,
           "showland": true,
           "subunitcolor": "white"
          },
          "hoverlabel": {
           "align": "left"
          },
          "hovermode": "closest",
          "mapbox": {
           "style": "light"
          },
          "paper_bgcolor": "white",
          "plot_bgcolor": "#E5ECF6",
          "polar": {
           "angularaxis": {
            "gridcolor": "white",
            "linecolor": "white",
            "ticks": ""
           },
           "bgcolor": "#E5ECF6",
           "radialaxis": {
            "gridcolor": "white",
            "linecolor": "white",
            "ticks": ""
           }
          },
          "scene": {
           "xaxis": {
            "backgroundcolor": "#E5ECF6",
            "gridcolor": "white",
            "gridwidth": 2,
            "linecolor": "white",
            "showbackground": true,
            "ticks": "",
            "zerolinecolor": "white"
           },
           "yaxis": {
            "backgroundcolor": "#E5ECF6",
            "gridcolor": "white",
            "gridwidth": 2,
            "linecolor": "white",
            "showbackground": true,
            "ticks": "",
            "zerolinecolor": "white"
           },
           "zaxis": {
            "backgroundcolor": "#E5ECF6",
            "gridcolor": "white",
            "gridwidth": 2,
            "linecolor": "white",
            "showbackground": true,
            "ticks": "",
            "zerolinecolor": "white"
           }
          },
          "shapedefaults": {
           "line": {
            "color": "#2a3f5f"
           }
          },
          "ternary": {
           "aaxis": {
            "gridcolor": "white",
            "linecolor": "white",
            "ticks": ""
           },
           "baxis": {
            "gridcolor": "white",
            "linecolor": "white",
            "ticks": ""
           },
           "bgcolor": "#E5ECF6",
           "caxis": {
            "gridcolor": "white",
            "linecolor": "white",
            "ticks": ""
           }
          },
          "title": {
           "x": 0.05
          },
          "xaxis": {
           "automargin": true,
           "gridcolor": "white",
           "linecolor": "white",
           "ticks": "",
           "title": {
            "standoff": 15
           },
           "zerolinecolor": "white",
           "zerolinewidth": 2
          },
          "yaxis": {
           "automargin": true,
           "gridcolor": "white",
           "linecolor": "white",
           "ticks": "",
           "title": {
            "standoff": 15
           },
           "zerolinecolor": "white",
           "zerolinewidth": 2
          }
         }
        },
        "title": {
         "text": "Воронка событий"
        },
        "xaxis": {
         "anchor": "y",
         "domain": [
          0,
          1
         ],
         "title": {
          "text": "device_id_hash"
         }
        },
        "yaxis": {
         "anchor": "x",
         "domain": [
          0,
          1
         ],
         "title": {
          "text": "event_name"
         }
        }
       }
      },
      "text/html": [
       "<div>                            <div id=\"82680f21-579f-4570-b8cb-ef290f4ad0ae\" class=\"plotly-graph-div\" style=\"height:525px; width:100%;\"></div>            <script type=\"text/javascript\">                require([\"plotly\"], function(Plotly) {                    window.PLOTLYENV=window.PLOTLYENV || {};                                    if (document.getElementById(\"82680f21-579f-4570-b8cb-ef290f4ad0ae\")) {                    Plotly.newPlot(                        \"82680f21-579f-4570-b8cb-ef290f4ad0ae\",                        [{\"hovertemplate\":\"device_id_hash=%{x}<br>event_name=%{y}<extra></extra>\",\"legendgroup\":\"\",\"marker\":{\"color\":\"#636efa\"},\"name\":\"\",\"orientation\":\"h\",\"showlegend\":false,\"x\":[7419,4593,3734,3539],\"xaxis\":\"x\",\"y\":[\"MainScreenAppear\",\"OffersScreenAppear\",\"CartScreenAppear\",\"PaymentScreenSuccessful\"],\"yaxis\":\"y\",\"type\":\"funnel\"}],                        {\"template\":{\"data\":{\"bar\":[{\"error_x\":{\"color\":\"#2a3f5f\"},\"error_y\":{\"color\":\"#2a3f5f\"},\"marker\":{\"line\":{\"color\":\"#E5ECF6\",\"width\":0.5},\"pattern\":{\"fillmode\":\"overlay\",\"size\":10,\"solidity\":0.2}},\"type\":\"bar\"}],\"barpolar\":[{\"marker\":{\"line\":{\"color\":\"#E5ECF6\",\"width\":0.5},\"pattern\":{\"fillmode\":\"overlay\",\"size\":10,\"solidity\":0.2}},\"type\":\"barpolar\"}],\"carpet\":[{\"aaxis\":{\"endlinecolor\":\"#2a3f5f\",\"gridcolor\":\"white\",\"linecolor\":\"white\",\"minorgridcolor\":\"white\",\"startlinecolor\":\"#2a3f5f\"},\"baxis\":{\"endlinecolor\":\"#2a3f5f\",\"gridcolor\":\"white\",\"linecolor\":\"white\",\"minorgridcolor\":\"white\",\"startlinecolor\":\"#2a3f5f\"},\"type\":\"carpet\"}],\"choropleth\":[{\"colorbar\":{\"outlinewidth\":0,\"ticks\":\"\"},\"type\":\"choropleth\"}],\"contour\":[{\"colorbar\":{\"outlinewidth\":0,\"ticks\":\"\"},\"colorscale\":[[0.0,\"#0d0887\"],[0.1111111111111111,\"#46039f\"],[0.2222222222222222,\"#7201a8\"],[0.3333333333333333,\"#9c179e\"],[0.4444444444444444,\"#bd3786\"],[0.5555555555555556,\"#d8576b\"],[0.6666666666666666,\"#ed7953\"],[0.7777777777777778,\"#fb9f3a\"],[0.8888888888888888,\"#fdca26\"],[1.0,\"#f0f921\"]],\"type\":\"contour\"}],\"contourcarpet\":[{\"colorbar\":{\"outlinewidth\":0,\"ticks\":\"\"},\"type\":\"contourcarpet\"}],\"heatmap\":[{\"colorbar\":{\"outlinewidth\":0,\"ticks\":\"\"},\"colorscale\":[[0.0,\"#0d0887\"],[0.1111111111111111,\"#46039f\"],[0.2222222222222222,\"#7201a8\"],[0.3333333333333333,\"#9c179e\"],[0.4444444444444444,\"#bd3786\"],[0.5555555555555556,\"#d8576b\"],[0.6666666666666666,\"#ed7953\"],[0.7777777777777778,\"#fb9f3a\"],[0.8888888888888888,\"#fdca26\"],[1.0,\"#f0f921\"]],\"type\":\"heatmap\"}],\"heatmapgl\":[{\"colorbar\":{\"outlinewidth\":0,\"ticks\":\"\"},\"colorscale\":[[0.0,\"#0d0887\"],[0.1111111111111111,\"#46039f\"],[0.2222222222222222,\"#7201a8\"],[0.3333333333333333,\"#9c179e\"],[0.4444444444444444,\"#bd3786\"],[0.5555555555555556,\"#d8576b\"],[0.6666666666666666,\"#ed7953\"],[0.7777777777777778,\"#fb9f3a\"],[0.8888888888888888,\"#fdca26\"],[1.0,\"#f0f921\"]],\"type\":\"heatmapgl\"}],\"histogram\":[{\"marker\":{\"pattern\":{\"fillmode\":\"overlay\",\"size\":10,\"solidity\":0.2}},\"type\":\"histogram\"}],\"histogram2d\":[{\"colorbar\":{\"outlinewidth\":0,\"ticks\":\"\"},\"colorscale\":[[0.0,\"#0d0887\"],[0.1111111111111111,\"#46039f\"],[0.2222222222222222,\"#7201a8\"],[0.3333333333333333,\"#9c179e\"],[0.4444444444444444,\"#bd3786\"],[0.5555555555555556,\"#d8576b\"],[0.6666666666666666,\"#ed7953\"],[0.7777777777777778,\"#fb9f3a\"],[0.8888888888888888,\"#fdca26\"],[1.0,\"#f0f921\"]],\"type\":\"histogram2d\"}],\"histogram2dcontour\":[{\"colorbar\":{\"outlinewidth\":0,\"ticks\":\"\"},\"colorscale\":[[0.0,\"#0d0887\"],[0.1111111111111111,\"#46039f\"],[0.2222222222222222,\"#7201a8\"],[0.3333333333333333,\"#9c179e\"],[0.4444444444444444,\"#bd3786\"],[0.5555555555555556,\"#d8576b\"],[0.6666666666666666,\"#ed7953\"],[0.7777777777777778,\"#fb9f3a\"],[0.8888888888888888,\"#fdca26\"],[1.0,\"#f0f921\"]],\"type\":\"histogram2dcontour\"}],\"mesh3d\":[{\"colorbar\":{\"outlinewidth\":0,\"ticks\":\"\"},\"type\":\"mesh3d\"}],\"parcoords\":[{\"line\":{\"colorbar\":{\"outlinewidth\":0,\"ticks\":\"\"}},\"type\":\"parcoords\"}],\"pie\":[{\"automargin\":true,\"type\":\"pie\"}],\"scatter\":[{\"marker\":{\"colorbar\":{\"outlinewidth\":0,\"ticks\":\"\"}},\"type\":\"scatter\"}],\"scatter3d\":[{\"line\":{\"colorbar\":{\"outlinewidth\":0,\"ticks\":\"\"}},\"marker\":{\"colorbar\":{\"outlinewidth\":0,\"ticks\":\"\"}},\"type\":\"scatter3d\"}],\"scattercarpet\":[{\"marker\":{\"colorbar\":{\"outlinewidth\":0,\"ticks\":\"\"}},\"type\":\"scattercarpet\"}],\"scattergeo\":[{\"marker\":{\"colorbar\":{\"outlinewidth\":0,\"ticks\":\"\"}},\"type\":\"scattergeo\"}],\"scattergl\":[{\"marker\":{\"colorbar\":{\"outlinewidth\":0,\"ticks\":\"\"}},\"type\":\"scattergl\"}],\"scattermapbox\":[{\"marker\":{\"colorbar\":{\"outlinewidth\":0,\"ticks\":\"\"}},\"type\":\"scattermapbox\"}],\"scatterpolar\":[{\"marker\":{\"colorbar\":{\"outlinewidth\":0,\"ticks\":\"\"}},\"type\":\"scatterpolar\"}],\"scatterpolargl\":[{\"marker\":{\"colorbar\":{\"outlinewidth\":0,\"ticks\":\"\"}},\"type\":\"scatterpolargl\"}],\"scatterternary\":[{\"marker\":{\"colorbar\":{\"outlinewidth\":0,\"ticks\":\"\"}},\"type\":\"scatterternary\"}],\"surface\":[{\"colorbar\":{\"outlinewidth\":0,\"ticks\":\"\"},\"colorscale\":[[0.0,\"#0d0887\"],[0.1111111111111111,\"#46039f\"],[0.2222222222222222,\"#7201a8\"],[0.3333333333333333,\"#9c179e\"],[0.4444444444444444,\"#bd3786\"],[0.5555555555555556,\"#d8576b\"],[0.6666666666666666,\"#ed7953\"],[0.7777777777777778,\"#fb9f3a\"],[0.8888888888888888,\"#fdca26\"],[1.0,\"#f0f921\"]],\"type\":\"surface\"}],\"table\":[{\"cells\":{\"fill\":{\"color\":\"#EBF0F8\"},\"line\":{\"color\":\"white\"}},\"header\":{\"fill\":{\"color\":\"#C8D4E3\"},\"line\":{\"color\":\"white\"}},\"type\":\"table\"}]},\"layout\":{\"annotationdefaults\":{\"arrowcolor\":\"#2a3f5f\",\"arrowhead\":0,\"arrowwidth\":1},\"autotypenumbers\":\"strict\",\"coloraxis\":{\"colorbar\":{\"outlinewidth\":0,\"ticks\":\"\"}},\"colorscale\":{\"diverging\":[[0,\"#8e0152\"],[0.1,\"#c51b7d\"],[0.2,\"#de77ae\"],[0.3,\"#f1b6da\"],[0.4,\"#fde0ef\"],[0.5,\"#f7f7f7\"],[0.6,\"#e6f5d0\"],[0.7,\"#b8e186\"],[0.8,\"#7fbc41\"],[0.9,\"#4d9221\"],[1,\"#276419\"]],\"sequential\":[[0.0,\"#0d0887\"],[0.1111111111111111,\"#46039f\"],[0.2222222222222222,\"#7201a8\"],[0.3333333333333333,\"#9c179e\"],[0.4444444444444444,\"#bd3786\"],[0.5555555555555556,\"#d8576b\"],[0.6666666666666666,\"#ed7953\"],[0.7777777777777778,\"#fb9f3a\"],[0.8888888888888888,\"#fdca26\"],[1.0,\"#f0f921\"]],\"sequentialminus\":[[0.0,\"#0d0887\"],[0.1111111111111111,\"#46039f\"],[0.2222222222222222,\"#7201a8\"],[0.3333333333333333,\"#9c179e\"],[0.4444444444444444,\"#bd3786\"],[0.5555555555555556,\"#d8576b\"],[0.6666666666666666,\"#ed7953\"],[0.7777777777777778,\"#fb9f3a\"],[0.8888888888888888,\"#fdca26\"],[1.0,\"#f0f921\"]]},\"colorway\":[\"#636efa\",\"#EF553B\",\"#00cc96\",\"#ab63fa\",\"#FFA15A\",\"#19d3f3\",\"#FF6692\",\"#B6E880\",\"#FF97FF\",\"#FECB52\"],\"font\":{\"color\":\"#2a3f5f\"},\"geo\":{\"bgcolor\":\"white\",\"lakecolor\":\"white\",\"landcolor\":\"#E5ECF6\",\"showlakes\":true,\"showland\":true,\"subunitcolor\":\"white\"},\"hoverlabel\":{\"align\":\"left\"},\"hovermode\":\"closest\",\"mapbox\":{\"style\":\"light\"},\"paper_bgcolor\":\"white\",\"plot_bgcolor\":\"#E5ECF6\",\"polar\":{\"angularaxis\":{\"gridcolor\":\"white\",\"linecolor\":\"white\",\"ticks\":\"\"},\"bgcolor\":\"#E5ECF6\",\"radialaxis\":{\"gridcolor\":\"white\",\"linecolor\":\"white\",\"ticks\":\"\"}},\"scene\":{\"xaxis\":{\"backgroundcolor\":\"#E5ECF6\",\"gridcolor\":\"white\",\"gridwidth\":2,\"linecolor\":\"white\",\"showbackground\":true,\"ticks\":\"\",\"zerolinecolor\":\"white\"},\"yaxis\":{\"backgroundcolor\":\"#E5ECF6\",\"gridcolor\":\"white\",\"gridwidth\":2,\"linecolor\":\"white\",\"showbackground\":true,\"ticks\":\"\",\"zerolinecolor\":\"white\"},\"zaxis\":{\"backgroundcolor\":\"#E5ECF6\",\"gridcolor\":\"white\",\"gridwidth\":2,\"linecolor\":\"white\",\"showbackground\":true,\"ticks\":\"\",\"zerolinecolor\":\"white\"}},\"shapedefaults\":{\"line\":{\"color\":\"#2a3f5f\"}},\"ternary\":{\"aaxis\":{\"gridcolor\":\"white\",\"linecolor\":\"white\",\"ticks\":\"\"},\"baxis\":{\"gridcolor\":\"white\",\"linecolor\":\"white\",\"ticks\":\"\"},\"bgcolor\":\"#E5ECF6\",\"caxis\":{\"gridcolor\":\"white\",\"linecolor\":\"white\",\"ticks\":\"\"}},\"title\":{\"x\":0.05},\"xaxis\":{\"automargin\":true,\"gridcolor\":\"white\",\"linecolor\":\"white\",\"ticks\":\"\",\"title\":{\"standoff\":15},\"zerolinecolor\":\"white\",\"zerolinewidth\":2},\"yaxis\":{\"automargin\":true,\"gridcolor\":\"white\",\"linecolor\":\"white\",\"ticks\":\"\",\"title\":{\"standoff\":15},\"zerolinecolor\":\"white\",\"zerolinewidth\":2}}},\"xaxis\":{\"anchor\":\"y\",\"domain\":[0.0,1.0],\"title\":{\"text\":\"device_id_hash\"}},\"yaxis\":{\"anchor\":\"x\",\"domain\":[0.0,1.0],\"title\":{\"text\":\"event_name\"}},\"legend\":{\"tracegroupgap\":0},\"title\":{\"text\":\"\\u0412\\u043e\\u0440\\u043e\\u043d\\u043a\\u0430 \\u0441\\u043e\\u0431\\u044b\\u0442\\u0438\\u0439\"}},                        {\"responsive\": true}                    ).then(function(){\n",
       "                            \n",
       "var gd = document.getElementById('82680f21-579f-4570-b8cb-ef290f4ad0ae');\n",
       "var x = new MutationObserver(function (mutations, observer) {{\n",
       "        var display = window.getComputedStyle(gd).display;\n",
       "        if (!display || display === 'none') {{\n",
       "            console.log([gd, 'removed!']);\n",
       "            Plotly.purge(gd);\n",
       "            observer.disconnect();\n",
       "        }}\n",
       "}});\n",
       "\n",
       "// Listen for the removal of the full notebook cells\n",
       "var notebookContainer = gd.closest('#notebook-container');\n",
       "if (notebookContainer) {{\n",
       "    x.observe(notebookContainer, {childList: true});\n",
       "}}\n",
       "\n",
       "// Listen for the clearing of the current output cell\n",
       "var outputEl = gd.closest('.output');\n",
       "if (outputEl) {{\n",
       "    x.observe(outputEl, {childList: true});\n",
       "}}\n",
       "\n",
       "                        })                };                });            </script>        </div>"
      ]
     },
     "metadata": {},
     "output_type": "display_data"
    }
   ],
   "source": [
    "u_funnel = events_cnt.query('event_name != \"Tutorial\"')\n",
    "fl = px.funnel(u_funnel, x='device_id_hash', y='event_name', title='Воронка событий')\n",
    "\n",
    "fl.show()"
   ]
  },
  {
   "cell_type": "markdown",
   "metadata": {},
   "source": [
    "Посмотрим какая доля пользователей доходит от первого события до оплаты. Так как событие Tutorial никак не относится к воронке событий, то уберем ее."
   ]
  },
  {
   "cell_type": "code",
   "execution_count": 26,
   "metadata": {},
   "outputs": [],
   "source": [
    "# Создадим для этого новую переменную, и в дальнейшем будем работат с ней\n",
    "clear_data = aab_data_act.query('event_name != \"Tutorial\"')"
   ]
  },
  {
   "cell_type": "code",
   "execution_count": 27,
   "metadata": {},
   "outputs": [
    {
     "data": {
      "text/html": [
       "<div>\n",
       "<style scoped>\n",
       "    .dataframe tbody tr th:only-of-type {\n",
       "        vertical-align: middle;\n",
       "    }\n",
       "\n",
       "    .dataframe tbody tr th {\n",
       "        vertical-align: top;\n",
       "    }\n",
       "\n",
       "    .dataframe thead th {\n",
       "        text-align: right;\n",
       "    }\n",
       "</style>\n",
       "<table border=\"1\" class=\"dataframe\">\n",
       "  <thead>\n",
       "    <tr style=\"text-align: right;\">\n",
       "      <th>event_name</th>\n",
       "      <th>CartScreenAppear</th>\n",
       "      <th>MainScreenAppear</th>\n",
       "      <th>OffersScreenAppear</th>\n",
       "      <th>PaymentScreenSuccessful</th>\n",
       "    </tr>\n",
       "    <tr>\n",
       "      <th>device_id_hash</th>\n",
       "      <th></th>\n",
       "      <th></th>\n",
       "      <th></th>\n",
       "      <th></th>\n",
       "    </tr>\n",
       "  </thead>\n",
       "  <tbody>\n",
       "    <tr>\n",
       "      <th>6888746892508752</th>\n",
       "      <td>NaT</td>\n",
       "      <td>2019-08-06 14:06:34</td>\n",
       "      <td>NaT</td>\n",
       "      <td>NaT</td>\n",
       "    </tr>\n",
       "    <tr>\n",
       "      <th>6909561520679493</th>\n",
       "      <td>2019-08-06 18:52:58</td>\n",
       "      <td>2019-08-06 18:52:54</td>\n",
       "      <td>2019-08-06 18:53:04</td>\n",
       "      <td>2019-08-06 18:52:58</td>\n",
       "    </tr>\n",
       "    <tr>\n",
       "      <th>6922444491712477</th>\n",
       "      <td>2019-08-04 14:19:40</td>\n",
       "      <td>2019-08-04 14:19:33</td>\n",
       "      <td>2019-08-04 14:19:46</td>\n",
       "      <td>2019-08-04 14:19:40</td>\n",
       "    </tr>\n",
       "    <tr>\n",
       "      <th>7435777799948366</th>\n",
       "      <td>NaT</td>\n",
       "      <td>2019-08-05 08:06:34</td>\n",
       "      <td>NaT</td>\n",
       "      <td>NaT</td>\n",
       "    </tr>\n",
       "    <tr>\n",
       "      <th>7702139951469979</th>\n",
       "      <td>2019-08-02 14:28:45</td>\n",
       "      <td>2019-08-01 04:29:54</td>\n",
       "      <td>2019-08-01 04:29:56</td>\n",
       "      <td>2019-08-02 14:28:45</td>\n",
       "    </tr>\n",
       "  </tbody>\n",
       "</table>\n",
       "</div>"
      ],
      "text/plain": [
       "event_name          CartScreenAppear    MainScreenAppear  OffersScreenAppear  \\\n",
       "device_id_hash                                                                 \n",
       "6888746892508752                 NaT 2019-08-06 14:06:34                 NaT   \n",
       "6909561520679493 2019-08-06 18:52:58 2019-08-06 18:52:54 2019-08-06 18:53:04   \n",
       "6922444491712477 2019-08-04 14:19:40 2019-08-04 14:19:33 2019-08-04 14:19:46   \n",
       "7435777799948366                 NaT 2019-08-05 08:06:34                 NaT   \n",
       "7702139951469979 2019-08-02 14:28:45 2019-08-01 04:29:54 2019-08-01 04:29:56   \n",
       "\n",
       "event_name       PaymentScreenSuccessful  \n",
       "device_id_hash                            \n",
       "6888746892508752                     NaT  \n",
       "6909561520679493     2019-08-06 18:52:58  \n",
       "6922444491712477     2019-08-04 14:19:40  \n",
       "7435777799948366                     NaT  \n",
       "7702139951469979     2019-08-02 14:28:45  "
      ]
     },
     "execution_count": 27,
     "metadata": {},
     "output_type": "execute_result"
    }
   ],
   "source": [
    "# Для пользователей найдем время первого срабатывания каждого события\n",
    "events_users = clear_data.pivot_table(\n",
    "    index='device_id_hash', \n",
    "    columns='event_name', \n",
    "    values='event_datetime',\n",
    "    aggfunc='min')\n",
    "events_users.head()"
   ]
  },
  {
   "cell_type": "code",
   "execution_count": 28,
   "metadata": {},
   "outputs": [],
   "source": [
    "# Найдем количество пользователей на каждом шаге\n",
    "step_1 = ~events_users['MainScreenAppear'].isna()\n",
    "step_2 = step_1 & (events_users['OffersScreenAppear'] > events_users['MainScreenAppear']) \n",
    "step_3 = step_2 & (events_users['CartScreenAppear'] > events_users['OffersScreenAppear']) \n",
    "step_4 = step_3 & (events_users['PaymentScreenSuccessful'] > events_users['CartScreenAppear']) "
   ]
  },
  {
   "cell_type": "code",
   "execution_count": 29,
   "metadata": {},
   "outputs": [
    {
     "data": {
      "text/html": [
       "<div>\n",
       "<style scoped>\n",
       "    .dataframe tbody tr th:only-of-type {\n",
       "        vertical-align: middle;\n",
       "    }\n",
       "\n",
       "    .dataframe tbody tr th {\n",
       "        vertical-align: top;\n",
       "    }\n",
       "\n",
       "    .dataframe thead th {\n",
       "        text-align: right;\n",
       "    }\n",
       "</style>\n",
       "<table border=\"1\" class=\"dataframe\">\n",
       "  <thead>\n",
       "    <tr style=\"text-align: right;\">\n",
       "      <th></th>\n",
       "      <th>funnel_stage</th>\n",
       "      <th>users_cnt</th>\n",
       "      <th>CR</th>\n",
       "    </tr>\n",
       "  </thead>\n",
       "  <tbody>\n",
       "    <tr>\n",
       "      <th>0</th>\n",
       "      <td>MainScreenAppear</td>\n",
       "      <td>7419</td>\n",
       "      <td>100.00</td>\n",
       "    </tr>\n",
       "    <tr>\n",
       "      <th>1</th>\n",
       "      <td>OffersScreenAppear</td>\n",
       "      <td>4201</td>\n",
       "      <td>56.62</td>\n",
       "    </tr>\n",
       "    <tr>\n",
       "      <th>2</th>\n",
       "      <td>CartScreenAppear</td>\n",
       "      <td>1767</td>\n",
       "      <td>23.82</td>\n",
       "    </tr>\n",
       "    <tr>\n",
       "      <th>3</th>\n",
       "      <td>PaymentScreenSuccessful</td>\n",
       "      <td>454</td>\n",
       "      <td>6.12</td>\n",
       "    </tr>\n",
       "  </tbody>\n",
       "</table>\n",
       "</div>"
      ],
      "text/plain": [
       "              funnel_stage  users_cnt      CR\n",
       "0         MainScreenAppear       7419  100.00\n",
       "1       OffersScreenAppear       4201   56.62\n",
       "2         CartScreenAppear       1767   23.82\n",
       "3  PaymentScreenSuccessful        454    6.12"
      ]
     },
     "metadata": {},
     "output_type": "display_data"
    },
    {
     "data": {
      "application/vnd.plotly.v1+json": {
       "config": {
        "plotlyServerURL": "https://plot.ly"
       },
       "data": [
        {
         "hovertemplate": "users_cnt=%{x}<br>funnel_stage=%{y}<extra></extra>",
         "legendgroup": "",
         "marker": {
          "color": "#636efa"
         },
         "name": "",
         "orientation": "h",
         "showlegend": false,
         "type": "funnel",
         "x": [
          7419,
          4201,
          1767,
          454
         ],
         "xaxis": "x",
         "y": [
          "MainScreenAppear",
          "OffersScreenAppear",
          "CartScreenAppear",
          "PaymentScreenSuccessful"
         ],
         "yaxis": "y"
        }
       ],
       "layout": {
        "legend": {
         "tracegroupgap": 0
        },
        "template": {
         "data": {
          "bar": [
           {
            "error_x": {
             "color": "#2a3f5f"
            },
            "error_y": {
             "color": "#2a3f5f"
            },
            "marker": {
             "line": {
              "color": "#E5ECF6",
              "width": 0.5
             },
             "pattern": {
              "fillmode": "overlay",
              "size": 10,
              "solidity": 0.2
             }
            },
            "type": "bar"
           }
          ],
          "barpolar": [
           {
            "marker": {
             "line": {
              "color": "#E5ECF6",
              "width": 0.5
             },
             "pattern": {
              "fillmode": "overlay",
              "size": 10,
              "solidity": 0.2
             }
            },
            "type": "barpolar"
           }
          ],
          "carpet": [
           {
            "aaxis": {
             "endlinecolor": "#2a3f5f",
             "gridcolor": "white",
             "linecolor": "white",
             "minorgridcolor": "white",
             "startlinecolor": "#2a3f5f"
            },
            "baxis": {
             "endlinecolor": "#2a3f5f",
             "gridcolor": "white",
             "linecolor": "white",
             "minorgridcolor": "white",
             "startlinecolor": "#2a3f5f"
            },
            "type": "carpet"
           }
          ],
          "choropleth": [
           {
            "colorbar": {
             "outlinewidth": 0,
             "ticks": ""
            },
            "type": "choropleth"
           }
          ],
          "contour": [
           {
            "colorbar": {
             "outlinewidth": 0,
             "ticks": ""
            },
            "colorscale": [
             [
              0,
              "#0d0887"
             ],
             [
              0.1111111111111111,
              "#46039f"
             ],
             [
              0.2222222222222222,
              "#7201a8"
             ],
             [
              0.3333333333333333,
              "#9c179e"
             ],
             [
              0.4444444444444444,
              "#bd3786"
             ],
             [
              0.5555555555555556,
              "#d8576b"
             ],
             [
              0.6666666666666666,
              "#ed7953"
             ],
             [
              0.7777777777777778,
              "#fb9f3a"
             ],
             [
              0.8888888888888888,
              "#fdca26"
             ],
             [
              1,
              "#f0f921"
             ]
            ],
            "type": "contour"
           }
          ],
          "contourcarpet": [
           {
            "colorbar": {
             "outlinewidth": 0,
             "ticks": ""
            },
            "type": "contourcarpet"
           }
          ],
          "heatmap": [
           {
            "colorbar": {
             "outlinewidth": 0,
             "ticks": ""
            },
            "colorscale": [
             [
              0,
              "#0d0887"
             ],
             [
              0.1111111111111111,
              "#46039f"
             ],
             [
              0.2222222222222222,
              "#7201a8"
             ],
             [
              0.3333333333333333,
              "#9c179e"
             ],
             [
              0.4444444444444444,
              "#bd3786"
             ],
             [
              0.5555555555555556,
              "#d8576b"
             ],
             [
              0.6666666666666666,
              "#ed7953"
             ],
             [
              0.7777777777777778,
              "#fb9f3a"
             ],
             [
              0.8888888888888888,
              "#fdca26"
             ],
             [
              1,
              "#f0f921"
             ]
            ],
            "type": "heatmap"
           }
          ],
          "heatmapgl": [
           {
            "colorbar": {
             "outlinewidth": 0,
             "ticks": ""
            },
            "colorscale": [
             [
              0,
              "#0d0887"
             ],
             [
              0.1111111111111111,
              "#46039f"
             ],
             [
              0.2222222222222222,
              "#7201a8"
             ],
             [
              0.3333333333333333,
              "#9c179e"
             ],
             [
              0.4444444444444444,
              "#bd3786"
             ],
             [
              0.5555555555555556,
              "#d8576b"
             ],
             [
              0.6666666666666666,
              "#ed7953"
             ],
             [
              0.7777777777777778,
              "#fb9f3a"
             ],
             [
              0.8888888888888888,
              "#fdca26"
             ],
             [
              1,
              "#f0f921"
             ]
            ],
            "type": "heatmapgl"
           }
          ],
          "histogram": [
           {
            "marker": {
             "pattern": {
              "fillmode": "overlay",
              "size": 10,
              "solidity": 0.2
             }
            },
            "type": "histogram"
           }
          ],
          "histogram2d": [
           {
            "colorbar": {
             "outlinewidth": 0,
             "ticks": ""
            },
            "colorscale": [
             [
              0,
              "#0d0887"
             ],
             [
              0.1111111111111111,
              "#46039f"
             ],
             [
              0.2222222222222222,
              "#7201a8"
             ],
             [
              0.3333333333333333,
              "#9c179e"
             ],
             [
              0.4444444444444444,
              "#bd3786"
             ],
             [
              0.5555555555555556,
              "#d8576b"
             ],
             [
              0.6666666666666666,
              "#ed7953"
             ],
             [
              0.7777777777777778,
              "#fb9f3a"
             ],
             [
              0.8888888888888888,
              "#fdca26"
             ],
             [
              1,
              "#f0f921"
             ]
            ],
            "type": "histogram2d"
           }
          ],
          "histogram2dcontour": [
           {
            "colorbar": {
             "outlinewidth": 0,
             "ticks": ""
            },
            "colorscale": [
             [
              0,
              "#0d0887"
             ],
             [
              0.1111111111111111,
              "#46039f"
             ],
             [
              0.2222222222222222,
              "#7201a8"
             ],
             [
              0.3333333333333333,
              "#9c179e"
             ],
             [
              0.4444444444444444,
              "#bd3786"
             ],
             [
              0.5555555555555556,
              "#d8576b"
             ],
             [
              0.6666666666666666,
              "#ed7953"
             ],
             [
              0.7777777777777778,
              "#fb9f3a"
             ],
             [
              0.8888888888888888,
              "#fdca26"
             ],
             [
              1,
              "#f0f921"
             ]
            ],
            "type": "histogram2dcontour"
           }
          ],
          "mesh3d": [
           {
            "colorbar": {
             "outlinewidth": 0,
             "ticks": ""
            },
            "type": "mesh3d"
           }
          ],
          "parcoords": [
           {
            "line": {
             "colorbar": {
              "outlinewidth": 0,
              "ticks": ""
             }
            },
            "type": "parcoords"
           }
          ],
          "pie": [
           {
            "automargin": true,
            "type": "pie"
           }
          ],
          "scatter": [
           {
            "marker": {
             "colorbar": {
              "outlinewidth": 0,
              "ticks": ""
             }
            },
            "type": "scatter"
           }
          ],
          "scatter3d": [
           {
            "line": {
             "colorbar": {
              "outlinewidth": 0,
              "ticks": ""
             }
            },
            "marker": {
             "colorbar": {
              "outlinewidth": 0,
              "ticks": ""
             }
            },
            "type": "scatter3d"
           }
          ],
          "scattercarpet": [
           {
            "marker": {
             "colorbar": {
              "outlinewidth": 0,
              "ticks": ""
             }
            },
            "type": "scattercarpet"
           }
          ],
          "scattergeo": [
           {
            "marker": {
             "colorbar": {
              "outlinewidth": 0,
              "ticks": ""
             }
            },
            "type": "scattergeo"
           }
          ],
          "scattergl": [
           {
            "marker": {
             "colorbar": {
              "outlinewidth": 0,
              "ticks": ""
             }
            },
            "type": "scattergl"
           }
          ],
          "scattermapbox": [
           {
            "marker": {
             "colorbar": {
              "outlinewidth": 0,
              "ticks": ""
             }
            },
            "type": "scattermapbox"
           }
          ],
          "scatterpolar": [
           {
            "marker": {
             "colorbar": {
              "outlinewidth": 0,
              "ticks": ""
             }
            },
            "type": "scatterpolar"
           }
          ],
          "scatterpolargl": [
           {
            "marker": {
             "colorbar": {
              "outlinewidth": 0,
              "ticks": ""
             }
            },
            "type": "scatterpolargl"
           }
          ],
          "scatterternary": [
           {
            "marker": {
             "colorbar": {
              "outlinewidth": 0,
              "ticks": ""
             }
            },
            "type": "scatterternary"
           }
          ],
          "surface": [
           {
            "colorbar": {
             "outlinewidth": 0,
             "ticks": ""
            },
            "colorscale": [
             [
              0,
              "#0d0887"
             ],
             [
              0.1111111111111111,
              "#46039f"
             ],
             [
              0.2222222222222222,
              "#7201a8"
             ],
             [
              0.3333333333333333,
              "#9c179e"
             ],
             [
              0.4444444444444444,
              "#bd3786"
             ],
             [
              0.5555555555555556,
              "#d8576b"
             ],
             [
              0.6666666666666666,
              "#ed7953"
             ],
             [
              0.7777777777777778,
              "#fb9f3a"
             ],
             [
              0.8888888888888888,
              "#fdca26"
             ],
             [
              1,
              "#f0f921"
             ]
            ],
            "type": "surface"
           }
          ],
          "table": [
           {
            "cells": {
             "fill": {
              "color": "#EBF0F8"
             },
             "line": {
              "color": "white"
             }
            },
            "header": {
             "fill": {
              "color": "#C8D4E3"
             },
             "line": {
              "color": "white"
             }
            },
            "type": "table"
           }
          ]
         },
         "layout": {
          "annotationdefaults": {
           "arrowcolor": "#2a3f5f",
           "arrowhead": 0,
           "arrowwidth": 1
          },
          "autotypenumbers": "strict",
          "coloraxis": {
           "colorbar": {
            "outlinewidth": 0,
            "ticks": ""
           }
          },
          "colorscale": {
           "diverging": [
            [
             0,
             "#8e0152"
            ],
            [
             0.1,
             "#c51b7d"
            ],
            [
             0.2,
             "#de77ae"
            ],
            [
             0.3,
             "#f1b6da"
            ],
            [
             0.4,
             "#fde0ef"
            ],
            [
             0.5,
             "#f7f7f7"
            ],
            [
             0.6,
             "#e6f5d0"
            ],
            [
             0.7,
             "#b8e186"
            ],
            [
             0.8,
             "#7fbc41"
            ],
            [
             0.9,
             "#4d9221"
            ],
            [
             1,
             "#276419"
            ]
           ],
           "sequential": [
            [
             0,
             "#0d0887"
            ],
            [
             0.1111111111111111,
             "#46039f"
            ],
            [
             0.2222222222222222,
             "#7201a8"
            ],
            [
             0.3333333333333333,
             "#9c179e"
            ],
            [
             0.4444444444444444,
             "#bd3786"
            ],
            [
             0.5555555555555556,
             "#d8576b"
            ],
            [
             0.6666666666666666,
             "#ed7953"
            ],
            [
             0.7777777777777778,
             "#fb9f3a"
            ],
            [
             0.8888888888888888,
             "#fdca26"
            ],
            [
             1,
             "#f0f921"
            ]
           ],
           "sequentialminus": [
            [
             0,
             "#0d0887"
            ],
            [
             0.1111111111111111,
             "#46039f"
            ],
            [
             0.2222222222222222,
             "#7201a8"
            ],
            [
             0.3333333333333333,
             "#9c179e"
            ],
            [
             0.4444444444444444,
             "#bd3786"
            ],
            [
             0.5555555555555556,
             "#d8576b"
            ],
            [
             0.6666666666666666,
             "#ed7953"
            ],
            [
             0.7777777777777778,
             "#fb9f3a"
            ],
            [
             0.8888888888888888,
             "#fdca26"
            ],
            [
             1,
             "#f0f921"
            ]
           ]
          },
          "colorway": [
           "#636efa",
           "#EF553B",
           "#00cc96",
           "#ab63fa",
           "#FFA15A",
           "#19d3f3",
           "#FF6692",
           "#B6E880",
           "#FF97FF",
           "#FECB52"
          ],
          "font": {
           "color": "#2a3f5f"
          },
          "geo": {
           "bgcolor": "white",
           "lakecolor": "white",
           "landcolor": "#E5ECF6",
           "showlakes": true,
           "showland": true,
           "subunitcolor": "white"
          },
          "hoverlabel": {
           "align": "left"
          },
          "hovermode": "closest",
          "mapbox": {
           "style": "light"
          },
          "paper_bgcolor": "white",
          "plot_bgcolor": "#E5ECF6",
          "polar": {
           "angularaxis": {
            "gridcolor": "white",
            "linecolor": "white",
            "ticks": ""
           },
           "bgcolor": "#E5ECF6",
           "radialaxis": {
            "gridcolor": "white",
            "linecolor": "white",
            "ticks": ""
           }
          },
          "scene": {
           "xaxis": {
            "backgroundcolor": "#E5ECF6",
            "gridcolor": "white",
            "gridwidth": 2,
            "linecolor": "white",
            "showbackground": true,
            "ticks": "",
            "zerolinecolor": "white"
           },
           "yaxis": {
            "backgroundcolor": "#E5ECF6",
            "gridcolor": "white",
            "gridwidth": 2,
            "linecolor": "white",
            "showbackground": true,
            "ticks": "",
            "zerolinecolor": "white"
           },
           "zaxis": {
            "backgroundcolor": "#E5ECF6",
            "gridcolor": "white",
            "gridwidth": 2,
            "linecolor": "white",
            "showbackground": true,
            "ticks": "",
            "zerolinecolor": "white"
           }
          },
          "shapedefaults": {
           "line": {
            "color": "#2a3f5f"
           }
          },
          "ternary": {
           "aaxis": {
            "gridcolor": "white",
            "linecolor": "white",
            "ticks": ""
           },
           "baxis": {
            "gridcolor": "white",
            "linecolor": "white",
            "ticks": ""
           },
           "bgcolor": "#E5ECF6",
           "caxis": {
            "gridcolor": "white",
            "linecolor": "white",
            "ticks": ""
           }
          },
          "title": {
           "x": 0.05
          },
          "xaxis": {
           "automargin": true,
           "gridcolor": "white",
           "linecolor": "white",
           "ticks": "",
           "title": {
            "standoff": 15
           },
           "zerolinecolor": "white",
           "zerolinewidth": 2
          },
          "yaxis": {
           "automargin": true,
           "gridcolor": "white",
           "linecolor": "white",
           "ticks": "",
           "title": {
            "standoff": 15
           },
           "zerolinecolor": "white",
           "zerolinewidth": 2
          }
         }
        },
        "title": {
         "text": "Воронка событий пользователей прошедших все этапы"
        },
        "xaxis": {
         "anchor": "y",
         "domain": [
          0,
          1
         ],
         "title": {
          "text": "users_cnt"
         }
        },
        "yaxis": {
         "anchor": "x",
         "domain": [
          0,
          1
         ],
         "title": {
          "text": "funnel_stage"
         }
        }
       }
      },
      "text/html": [
       "<div>                            <div id=\"928674e0-12da-400d-b00a-d4a63d8ef3b1\" class=\"plotly-graph-div\" style=\"height:525px; width:100%;\"></div>            <script type=\"text/javascript\">                require([\"plotly\"], function(Plotly) {                    window.PLOTLYENV=window.PLOTLYENV || {};                                    if (document.getElementById(\"928674e0-12da-400d-b00a-d4a63d8ef3b1\")) {                    Plotly.newPlot(                        \"928674e0-12da-400d-b00a-d4a63d8ef3b1\",                        [{\"hovertemplate\":\"users_cnt=%{x}<br>funnel_stage=%{y}<extra></extra>\",\"legendgroup\":\"\",\"marker\":{\"color\":\"#636efa\"},\"name\":\"\",\"orientation\":\"h\",\"showlegend\":false,\"x\":[7419,4201,1767,454],\"xaxis\":\"x\",\"y\":[\"MainScreenAppear\",\"OffersScreenAppear\",\"CartScreenAppear\",\"PaymentScreenSuccessful\"],\"yaxis\":\"y\",\"type\":\"funnel\"}],                        {\"template\":{\"data\":{\"bar\":[{\"error_x\":{\"color\":\"#2a3f5f\"},\"error_y\":{\"color\":\"#2a3f5f\"},\"marker\":{\"line\":{\"color\":\"#E5ECF6\",\"width\":0.5},\"pattern\":{\"fillmode\":\"overlay\",\"size\":10,\"solidity\":0.2}},\"type\":\"bar\"}],\"barpolar\":[{\"marker\":{\"line\":{\"color\":\"#E5ECF6\",\"width\":0.5},\"pattern\":{\"fillmode\":\"overlay\",\"size\":10,\"solidity\":0.2}},\"type\":\"barpolar\"}],\"carpet\":[{\"aaxis\":{\"endlinecolor\":\"#2a3f5f\",\"gridcolor\":\"white\",\"linecolor\":\"white\",\"minorgridcolor\":\"white\",\"startlinecolor\":\"#2a3f5f\"},\"baxis\":{\"endlinecolor\":\"#2a3f5f\",\"gridcolor\":\"white\",\"linecolor\":\"white\",\"minorgridcolor\":\"white\",\"startlinecolor\":\"#2a3f5f\"},\"type\":\"carpet\"}],\"choropleth\":[{\"colorbar\":{\"outlinewidth\":0,\"ticks\":\"\"},\"type\":\"choropleth\"}],\"contour\":[{\"colorbar\":{\"outlinewidth\":0,\"ticks\":\"\"},\"colorscale\":[[0.0,\"#0d0887\"],[0.1111111111111111,\"#46039f\"],[0.2222222222222222,\"#7201a8\"],[0.3333333333333333,\"#9c179e\"],[0.4444444444444444,\"#bd3786\"],[0.5555555555555556,\"#d8576b\"],[0.6666666666666666,\"#ed7953\"],[0.7777777777777778,\"#fb9f3a\"],[0.8888888888888888,\"#fdca26\"],[1.0,\"#f0f921\"]],\"type\":\"contour\"}],\"contourcarpet\":[{\"colorbar\":{\"outlinewidth\":0,\"ticks\":\"\"},\"type\":\"contourcarpet\"}],\"heatmap\":[{\"colorbar\":{\"outlinewidth\":0,\"ticks\":\"\"},\"colorscale\":[[0.0,\"#0d0887\"],[0.1111111111111111,\"#46039f\"],[0.2222222222222222,\"#7201a8\"],[0.3333333333333333,\"#9c179e\"],[0.4444444444444444,\"#bd3786\"],[0.5555555555555556,\"#d8576b\"],[0.6666666666666666,\"#ed7953\"],[0.7777777777777778,\"#fb9f3a\"],[0.8888888888888888,\"#fdca26\"],[1.0,\"#f0f921\"]],\"type\":\"heatmap\"}],\"heatmapgl\":[{\"colorbar\":{\"outlinewidth\":0,\"ticks\":\"\"},\"colorscale\":[[0.0,\"#0d0887\"],[0.1111111111111111,\"#46039f\"],[0.2222222222222222,\"#7201a8\"],[0.3333333333333333,\"#9c179e\"],[0.4444444444444444,\"#bd3786\"],[0.5555555555555556,\"#d8576b\"],[0.6666666666666666,\"#ed7953\"],[0.7777777777777778,\"#fb9f3a\"],[0.8888888888888888,\"#fdca26\"],[1.0,\"#f0f921\"]],\"type\":\"heatmapgl\"}],\"histogram\":[{\"marker\":{\"pattern\":{\"fillmode\":\"overlay\",\"size\":10,\"solidity\":0.2}},\"type\":\"histogram\"}],\"histogram2d\":[{\"colorbar\":{\"outlinewidth\":0,\"ticks\":\"\"},\"colorscale\":[[0.0,\"#0d0887\"],[0.1111111111111111,\"#46039f\"],[0.2222222222222222,\"#7201a8\"],[0.3333333333333333,\"#9c179e\"],[0.4444444444444444,\"#bd3786\"],[0.5555555555555556,\"#d8576b\"],[0.6666666666666666,\"#ed7953\"],[0.7777777777777778,\"#fb9f3a\"],[0.8888888888888888,\"#fdca26\"],[1.0,\"#f0f921\"]],\"type\":\"histogram2d\"}],\"histogram2dcontour\":[{\"colorbar\":{\"outlinewidth\":0,\"ticks\":\"\"},\"colorscale\":[[0.0,\"#0d0887\"],[0.1111111111111111,\"#46039f\"],[0.2222222222222222,\"#7201a8\"],[0.3333333333333333,\"#9c179e\"],[0.4444444444444444,\"#bd3786\"],[0.5555555555555556,\"#d8576b\"],[0.6666666666666666,\"#ed7953\"],[0.7777777777777778,\"#fb9f3a\"],[0.8888888888888888,\"#fdca26\"],[1.0,\"#f0f921\"]],\"type\":\"histogram2dcontour\"}],\"mesh3d\":[{\"colorbar\":{\"outlinewidth\":0,\"ticks\":\"\"},\"type\":\"mesh3d\"}],\"parcoords\":[{\"line\":{\"colorbar\":{\"outlinewidth\":0,\"ticks\":\"\"}},\"type\":\"parcoords\"}],\"pie\":[{\"automargin\":true,\"type\":\"pie\"}],\"scatter\":[{\"marker\":{\"colorbar\":{\"outlinewidth\":0,\"ticks\":\"\"}},\"type\":\"scatter\"}],\"scatter3d\":[{\"line\":{\"colorbar\":{\"outlinewidth\":0,\"ticks\":\"\"}},\"marker\":{\"colorbar\":{\"outlinewidth\":0,\"ticks\":\"\"}},\"type\":\"scatter3d\"}],\"scattercarpet\":[{\"marker\":{\"colorbar\":{\"outlinewidth\":0,\"ticks\":\"\"}},\"type\":\"scattercarpet\"}],\"scattergeo\":[{\"marker\":{\"colorbar\":{\"outlinewidth\":0,\"ticks\":\"\"}},\"type\":\"scattergeo\"}],\"scattergl\":[{\"marker\":{\"colorbar\":{\"outlinewidth\":0,\"ticks\":\"\"}},\"type\":\"scattergl\"}],\"scattermapbox\":[{\"marker\":{\"colorbar\":{\"outlinewidth\":0,\"ticks\":\"\"}},\"type\":\"scattermapbox\"}],\"scatterpolar\":[{\"marker\":{\"colorbar\":{\"outlinewidth\":0,\"ticks\":\"\"}},\"type\":\"scatterpolar\"}],\"scatterpolargl\":[{\"marker\":{\"colorbar\":{\"outlinewidth\":0,\"ticks\":\"\"}},\"type\":\"scatterpolargl\"}],\"scatterternary\":[{\"marker\":{\"colorbar\":{\"outlinewidth\":0,\"ticks\":\"\"}},\"type\":\"scatterternary\"}],\"surface\":[{\"colorbar\":{\"outlinewidth\":0,\"ticks\":\"\"},\"colorscale\":[[0.0,\"#0d0887\"],[0.1111111111111111,\"#46039f\"],[0.2222222222222222,\"#7201a8\"],[0.3333333333333333,\"#9c179e\"],[0.4444444444444444,\"#bd3786\"],[0.5555555555555556,\"#d8576b\"],[0.6666666666666666,\"#ed7953\"],[0.7777777777777778,\"#fb9f3a\"],[0.8888888888888888,\"#fdca26\"],[1.0,\"#f0f921\"]],\"type\":\"surface\"}],\"table\":[{\"cells\":{\"fill\":{\"color\":\"#EBF0F8\"},\"line\":{\"color\":\"white\"}},\"header\":{\"fill\":{\"color\":\"#C8D4E3\"},\"line\":{\"color\":\"white\"}},\"type\":\"table\"}]},\"layout\":{\"annotationdefaults\":{\"arrowcolor\":\"#2a3f5f\",\"arrowhead\":0,\"arrowwidth\":1},\"autotypenumbers\":\"strict\",\"coloraxis\":{\"colorbar\":{\"outlinewidth\":0,\"ticks\":\"\"}},\"colorscale\":{\"diverging\":[[0,\"#8e0152\"],[0.1,\"#c51b7d\"],[0.2,\"#de77ae\"],[0.3,\"#f1b6da\"],[0.4,\"#fde0ef\"],[0.5,\"#f7f7f7\"],[0.6,\"#e6f5d0\"],[0.7,\"#b8e186\"],[0.8,\"#7fbc41\"],[0.9,\"#4d9221\"],[1,\"#276419\"]],\"sequential\":[[0.0,\"#0d0887\"],[0.1111111111111111,\"#46039f\"],[0.2222222222222222,\"#7201a8\"],[0.3333333333333333,\"#9c179e\"],[0.4444444444444444,\"#bd3786\"],[0.5555555555555556,\"#d8576b\"],[0.6666666666666666,\"#ed7953\"],[0.7777777777777778,\"#fb9f3a\"],[0.8888888888888888,\"#fdca26\"],[1.0,\"#f0f921\"]],\"sequentialminus\":[[0.0,\"#0d0887\"],[0.1111111111111111,\"#46039f\"],[0.2222222222222222,\"#7201a8\"],[0.3333333333333333,\"#9c179e\"],[0.4444444444444444,\"#bd3786\"],[0.5555555555555556,\"#d8576b\"],[0.6666666666666666,\"#ed7953\"],[0.7777777777777778,\"#fb9f3a\"],[0.8888888888888888,\"#fdca26\"],[1.0,\"#f0f921\"]]},\"colorway\":[\"#636efa\",\"#EF553B\",\"#00cc96\",\"#ab63fa\",\"#FFA15A\",\"#19d3f3\",\"#FF6692\",\"#B6E880\",\"#FF97FF\",\"#FECB52\"],\"font\":{\"color\":\"#2a3f5f\"},\"geo\":{\"bgcolor\":\"white\",\"lakecolor\":\"white\",\"landcolor\":\"#E5ECF6\",\"showlakes\":true,\"showland\":true,\"subunitcolor\":\"white\"},\"hoverlabel\":{\"align\":\"left\"},\"hovermode\":\"closest\",\"mapbox\":{\"style\":\"light\"},\"paper_bgcolor\":\"white\",\"plot_bgcolor\":\"#E5ECF6\",\"polar\":{\"angularaxis\":{\"gridcolor\":\"white\",\"linecolor\":\"white\",\"ticks\":\"\"},\"bgcolor\":\"#E5ECF6\",\"radialaxis\":{\"gridcolor\":\"white\",\"linecolor\":\"white\",\"ticks\":\"\"}},\"scene\":{\"xaxis\":{\"backgroundcolor\":\"#E5ECF6\",\"gridcolor\":\"white\",\"gridwidth\":2,\"linecolor\":\"white\",\"showbackground\":true,\"ticks\":\"\",\"zerolinecolor\":\"white\"},\"yaxis\":{\"backgroundcolor\":\"#E5ECF6\",\"gridcolor\":\"white\",\"gridwidth\":2,\"linecolor\":\"white\",\"showbackground\":true,\"ticks\":\"\",\"zerolinecolor\":\"white\"},\"zaxis\":{\"backgroundcolor\":\"#E5ECF6\",\"gridcolor\":\"white\",\"gridwidth\":2,\"linecolor\":\"white\",\"showbackground\":true,\"ticks\":\"\",\"zerolinecolor\":\"white\"}},\"shapedefaults\":{\"line\":{\"color\":\"#2a3f5f\"}},\"ternary\":{\"aaxis\":{\"gridcolor\":\"white\",\"linecolor\":\"white\",\"ticks\":\"\"},\"baxis\":{\"gridcolor\":\"white\",\"linecolor\":\"white\",\"ticks\":\"\"},\"bgcolor\":\"#E5ECF6\",\"caxis\":{\"gridcolor\":\"white\",\"linecolor\":\"white\",\"ticks\":\"\"}},\"title\":{\"x\":0.05},\"xaxis\":{\"automargin\":true,\"gridcolor\":\"white\",\"linecolor\":\"white\",\"ticks\":\"\",\"title\":{\"standoff\":15},\"zerolinecolor\":\"white\",\"zerolinewidth\":2},\"yaxis\":{\"automargin\":true,\"gridcolor\":\"white\",\"linecolor\":\"white\",\"ticks\":\"\",\"title\":{\"standoff\":15},\"zerolinecolor\":\"white\",\"zerolinewidth\":2}}},\"xaxis\":{\"anchor\":\"y\",\"domain\":[0.0,1.0],\"title\":{\"text\":\"users_cnt\"}},\"yaxis\":{\"anchor\":\"x\",\"domain\":[0.0,1.0],\"title\":{\"text\":\"funnel_stage\"}},\"legend\":{\"tracegroupgap\":0},\"title\":{\"text\":\"\\u0412\\u043e\\u0440\\u043e\\u043d\\u043a\\u0430 \\u0441\\u043e\\u0431\\u044b\\u0442\\u0438\\u0439 \\u043f\\u043e\\u043b\\u044c\\u0437\\u043e\\u0432\\u0430\\u0442\\u0435\\u043b\\u0435\\u0439 \\u043f\\u0440\\u043e\\u0448\\u0435\\u0434\\u0448\\u0438\\u0445 \\u0432\\u0441\\u0435 \\u044d\\u0442\\u0430\\u043f\\u044b\"}},                        {\"responsive\": true}                    ).then(function(){\n",
       "                            \n",
       "var gd = document.getElementById('928674e0-12da-400d-b00a-d4a63d8ef3b1');\n",
       "var x = new MutationObserver(function (mutations, observer) {{\n",
       "        var display = window.getComputedStyle(gd).display;\n",
       "        if (!display || display === 'none') {{\n",
       "            console.log([gd, 'removed!']);\n",
       "            Plotly.purge(gd);\n",
       "            observer.disconnect();\n",
       "        }}\n",
       "}});\n",
       "\n",
       "// Listen for the removal of the full notebook cells\n",
       "var notebookContainer = gd.closest('#notebook-container');\n",
       "if (notebookContainer) {{\n",
       "    x.observe(notebookContainer, {childList: true});\n",
       "}}\n",
       "\n",
       "// Listen for the clearing of the current output cell\n",
       "var outputEl = gd.closest('.output');\n",
       "if (outputEl) {{\n",
       "    x.observe(outputEl, {childList: true});\n",
       "}}\n",
       "\n",
       "                        })                };                });            </script>        </div>"
      ]
     },
     "metadata": {},
     "output_type": "display_data"
    }
   ],
   "source": [
    "temp = (\n",
    "    {'funnel_stage':list(clear_data['event_name'].unique())\n",
    "     , 'users_cnt': [step_1.sum(), step_2.sum(), step_3.sum(), step_4.sum()]}\n",
    ")\n",
    "events_funnel = pd.DataFrame(data=temp)\n",
    "events_funnel['CR'] = round(events_funnel['users_cnt']/step_1.sum()*100, 2)\n",
    "display(events_funnel)\n",
    "f2 = px.funnel(events_funnel, y='funnel_stage', x='users_cnt', title='Воронка событий пользователей прошедших все этапы')\n",
    "f2.show()"
   ]
  },
  {
   "cell_type": "markdown",
   "metadata": {},
   "source": [
    "Чуть более 6% пользователей проходят весь путь воронки до этапа оплаты."
   ]
  },
  {
   "cell_type": "markdown",
   "metadata": {},
   "source": [
    "На даном этапе мы изучили воронку, по которой проходят пользователи. А также нашли процент пользователей, которые проходят весь путь воронки от начал до конца."
   ]
  },
  {
   "cell_type": "markdown",
   "metadata": {},
   "source": [
    "## Изучим результаты эксперемента"
   ]
  },
  {
   "cell_type": "markdown",
   "metadata": {},
   "source": [
    "Для начала посмотрим сколько пользователей в каждой из групп"
   ]
  },
  {
   "cell_type": "code",
   "execution_count": 30,
   "metadata": {},
   "outputs": [
    {
     "data": {
      "text/html": [
       "<div>\n",
       "<style scoped>\n",
       "    .dataframe tbody tr th:only-of-type {\n",
       "        vertical-align: middle;\n",
       "    }\n",
       "\n",
       "    .dataframe tbody tr th {\n",
       "        vertical-align: top;\n",
       "    }\n",
       "\n",
       "    .dataframe thead th {\n",
       "        text-align: right;\n",
       "    }\n",
       "</style>\n",
       "<table border=\"1\" class=\"dataframe\">\n",
       "  <thead>\n",
       "    <tr style=\"text-align: right;\">\n",
       "      <th></th>\n",
       "      <th>exp_id</th>\n",
       "      <th>users_cnt</th>\n",
       "    </tr>\n",
       "  </thead>\n",
       "  <tbody>\n",
       "    <tr>\n",
       "      <th>0</th>\n",
       "      <td>246</td>\n",
       "      <td>2483</td>\n",
       "    </tr>\n",
       "    <tr>\n",
       "      <th>1</th>\n",
       "      <td>247</td>\n",
       "      <td>2512</td>\n",
       "    </tr>\n",
       "    <tr>\n",
       "      <th>2</th>\n",
       "      <td>248</td>\n",
       "      <td>2535</td>\n",
       "    </tr>\n",
       "  </tbody>\n",
       "</table>\n",
       "</div>"
      ],
      "text/plain": [
       "   exp_id  users_cnt\n",
       "0     246       2483\n",
       "1     247       2512\n",
       "2     248       2535"
      ]
     },
     "execution_count": 30,
     "metadata": {},
     "output_type": "execute_result"
    }
   ],
   "source": [
    "users_in_group = clear_data.pivot_table(index='exp_id', values='device_id_hash', aggfunc='nunique').reset_index()\n",
    "users_in_group.columns = ['exp_id', 'users_cnt']\n",
    "users_in_group"
   ]
  },
  {
   "cell_type": "code",
   "execution_count": 31,
   "metadata": {},
   "outputs": [],
   "source": [
    "# разделим данные по каждой группе и обозначим долю пользователей совершивших каждое событие, для удобства сделаем функцию\n",
    "def sep_group(id):\n",
    "    temp = clear_data.query('exp_id == @id')\n",
    "    temp2 = temp.groupby('event_name')['device_id_hash'].nunique().sort_values(ascending=False).reset_index()\n",
    "    temp3 = temp['device_id_hash'].nunique()\n",
    "    temp2.loc[len(temp2)]=['TotalUsers', temp3]\n",
    "    temp2.columns = ['event_name', 'users_cnt']\n",
    "    temp2['sou'] = round(temp2['users_cnt']/temp3*100, 2)\n",
    "    return  temp2.sort_values('users_cnt', ascending=False).reset_index(drop=True)"
   ]
  },
  {
   "cell_type": "code",
   "execution_count": 32,
   "metadata": {},
   "outputs": [],
   "source": [
    "# Сохраним все в соответствующие переменные\n",
    "a1_246 = sep_group(246)\n",
    "a2_247 = sep_group(247)\n",
    "b_248 = sep_group(248)\n",
    "aa_246_247 = sep_group([246, 247])"
   ]
  },
  {
   "cell_type": "markdown",
   "metadata": {},
   "source": [
    "Проверим корректность работы формулы:"
   ]
  },
  {
   "cell_type": "code",
   "execution_count": 33,
   "metadata": {
    "scrolled": true
   },
   "outputs": [
    {
     "data": {
      "text/html": [
       "<div>\n",
       "<style scoped>\n",
       "    .dataframe tbody tr th:only-of-type {\n",
       "        vertical-align: middle;\n",
       "    }\n",
       "\n",
       "    .dataframe tbody tr th {\n",
       "        vertical-align: top;\n",
       "    }\n",
       "\n",
       "    .dataframe thead th {\n",
       "        text-align: right;\n",
       "    }\n",
       "</style>\n",
       "<table border=\"1\" class=\"dataframe\">\n",
       "  <thead>\n",
       "    <tr style=\"text-align: right;\">\n",
       "      <th></th>\n",
       "      <th>event_name</th>\n",
       "      <th>users_cnt</th>\n",
       "      <th>sou</th>\n",
       "    </tr>\n",
       "  </thead>\n",
       "  <tbody>\n",
       "    <tr>\n",
       "      <th>0</th>\n",
       "      <td>TotalUsers</td>\n",
       "      <td>2483</td>\n",
       "      <td>100.00</td>\n",
       "    </tr>\n",
       "    <tr>\n",
       "      <th>1</th>\n",
       "      <td>MainScreenAppear</td>\n",
       "      <td>2450</td>\n",
       "      <td>98.67</td>\n",
       "    </tr>\n",
       "    <tr>\n",
       "      <th>2</th>\n",
       "      <td>OffersScreenAppear</td>\n",
       "      <td>1542</td>\n",
       "      <td>62.10</td>\n",
       "    </tr>\n",
       "    <tr>\n",
       "      <th>3</th>\n",
       "      <td>CartScreenAppear</td>\n",
       "      <td>1266</td>\n",
       "      <td>50.99</td>\n",
       "    </tr>\n",
       "    <tr>\n",
       "      <th>4</th>\n",
       "      <td>PaymentScreenSuccessful</td>\n",
       "      <td>1200</td>\n",
       "      <td>48.33</td>\n",
       "    </tr>\n",
       "  </tbody>\n",
       "</table>\n",
       "</div>"
      ],
      "text/plain": [
       "                event_name  users_cnt     sou\n",
       "0               TotalUsers       2483  100.00\n",
       "1         MainScreenAppear       2450   98.67\n",
       "2       OffersScreenAppear       1542   62.10\n",
       "3         CartScreenAppear       1266   50.99\n",
       "4  PaymentScreenSuccessful       1200   48.33"
      ]
     },
     "metadata": {},
     "output_type": "display_data"
    },
    {
     "data": {
      "text/html": [
       "<div>\n",
       "<style scoped>\n",
       "    .dataframe tbody tr th:only-of-type {\n",
       "        vertical-align: middle;\n",
       "    }\n",
       "\n",
       "    .dataframe tbody tr th {\n",
       "        vertical-align: top;\n",
       "    }\n",
       "\n",
       "    .dataframe thead th {\n",
       "        text-align: right;\n",
       "    }\n",
       "</style>\n",
       "<table border=\"1\" class=\"dataframe\">\n",
       "  <thead>\n",
       "    <tr style=\"text-align: right;\">\n",
       "      <th></th>\n",
       "      <th>event_name</th>\n",
       "      <th>users_cnt</th>\n",
       "      <th>sou</th>\n",
       "    </tr>\n",
       "  </thead>\n",
       "  <tbody>\n",
       "    <tr>\n",
       "      <th>0</th>\n",
       "      <td>TotalUsers</td>\n",
       "      <td>2512</td>\n",
       "      <td>100.00</td>\n",
       "    </tr>\n",
       "    <tr>\n",
       "      <th>1</th>\n",
       "      <td>MainScreenAppear</td>\n",
       "      <td>2476</td>\n",
       "      <td>98.57</td>\n",
       "    </tr>\n",
       "    <tr>\n",
       "      <th>2</th>\n",
       "      <td>OffersScreenAppear</td>\n",
       "      <td>1520</td>\n",
       "      <td>60.51</td>\n",
       "    </tr>\n",
       "    <tr>\n",
       "      <th>3</th>\n",
       "      <td>CartScreenAppear</td>\n",
       "      <td>1238</td>\n",
       "      <td>49.28</td>\n",
       "    </tr>\n",
       "    <tr>\n",
       "      <th>4</th>\n",
       "      <td>PaymentScreenSuccessful</td>\n",
       "      <td>1158</td>\n",
       "      <td>46.10</td>\n",
       "    </tr>\n",
       "  </tbody>\n",
       "</table>\n",
       "</div>"
      ],
      "text/plain": [
       "                event_name  users_cnt     sou\n",
       "0               TotalUsers       2512  100.00\n",
       "1         MainScreenAppear       2476   98.57\n",
       "2       OffersScreenAppear       1520   60.51\n",
       "3         CartScreenAppear       1238   49.28\n",
       "4  PaymentScreenSuccessful       1158   46.10"
      ]
     },
     "metadata": {},
     "output_type": "display_data"
    },
    {
     "data": {
      "text/html": [
       "<div>\n",
       "<style scoped>\n",
       "    .dataframe tbody tr th:only-of-type {\n",
       "        vertical-align: middle;\n",
       "    }\n",
       "\n",
       "    .dataframe tbody tr th {\n",
       "        vertical-align: top;\n",
       "    }\n",
       "\n",
       "    .dataframe thead th {\n",
       "        text-align: right;\n",
       "    }\n",
       "</style>\n",
       "<table border=\"1\" class=\"dataframe\">\n",
       "  <thead>\n",
       "    <tr style=\"text-align: right;\">\n",
       "      <th></th>\n",
       "      <th>event_name</th>\n",
       "      <th>users_cnt</th>\n",
       "      <th>sou</th>\n",
       "    </tr>\n",
       "  </thead>\n",
       "  <tbody>\n",
       "    <tr>\n",
       "      <th>0</th>\n",
       "      <td>TotalUsers</td>\n",
       "      <td>2535</td>\n",
       "      <td>100.00</td>\n",
       "    </tr>\n",
       "    <tr>\n",
       "      <th>1</th>\n",
       "      <td>MainScreenAppear</td>\n",
       "      <td>2493</td>\n",
       "      <td>98.34</td>\n",
       "    </tr>\n",
       "    <tr>\n",
       "      <th>2</th>\n",
       "      <td>OffersScreenAppear</td>\n",
       "      <td>1531</td>\n",
       "      <td>60.39</td>\n",
       "    </tr>\n",
       "    <tr>\n",
       "      <th>3</th>\n",
       "      <td>CartScreenAppear</td>\n",
       "      <td>1230</td>\n",
       "      <td>48.52</td>\n",
       "    </tr>\n",
       "    <tr>\n",
       "      <th>4</th>\n",
       "      <td>PaymentScreenSuccessful</td>\n",
       "      <td>1181</td>\n",
       "      <td>46.59</td>\n",
       "    </tr>\n",
       "  </tbody>\n",
       "</table>\n",
       "</div>"
      ],
      "text/plain": [
       "                event_name  users_cnt     sou\n",
       "0               TotalUsers       2535  100.00\n",
       "1         MainScreenAppear       2493   98.34\n",
       "2       OffersScreenAppear       1531   60.39\n",
       "3         CartScreenAppear       1230   48.52\n",
       "4  PaymentScreenSuccessful       1181   46.59"
      ]
     },
     "metadata": {},
     "output_type": "display_data"
    },
    {
     "data": {
      "text/html": [
       "<div>\n",
       "<style scoped>\n",
       "    .dataframe tbody tr th:only-of-type {\n",
       "        vertical-align: middle;\n",
       "    }\n",
       "\n",
       "    .dataframe tbody tr th {\n",
       "        vertical-align: top;\n",
       "    }\n",
       "\n",
       "    .dataframe thead th {\n",
       "        text-align: right;\n",
       "    }\n",
       "</style>\n",
       "<table border=\"1\" class=\"dataframe\">\n",
       "  <thead>\n",
       "    <tr style=\"text-align: right;\">\n",
       "      <th></th>\n",
       "      <th>event_name</th>\n",
       "      <th>users_cnt</th>\n",
       "      <th>sou</th>\n",
       "    </tr>\n",
       "  </thead>\n",
       "  <tbody>\n",
       "    <tr>\n",
       "      <th>0</th>\n",
       "      <td>TotalUsers</td>\n",
       "      <td>4995</td>\n",
       "      <td>100.00</td>\n",
       "    </tr>\n",
       "    <tr>\n",
       "      <th>1</th>\n",
       "      <td>MainScreenAppear</td>\n",
       "      <td>4926</td>\n",
       "      <td>98.62</td>\n",
       "    </tr>\n",
       "    <tr>\n",
       "      <th>2</th>\n",
       "      <td>OffersScreenAppear</td>\n",
       "      <td>3062</td>\n",
       "      <td>61.30</td>\n",
       "    </tr>\n",
       "    <tr>\n",
       "      <th>3</th>\n",
       "      <td>CartScreenAppear</td>\n",
       "      <td>2504</td>\n",
       "      <td>50.13</td>\n",
       "    </tr>\n",
       "    <tr>\n",
       "      <th>4</th>\n",
       "      <td>PaymentScreenSuccessful</td>\n",
       "      <td>2358</td>\n",
       "      <td>47.21</td>\n",
       "    </tr>\n",
       "  </tbody>\n",
       "</table>\n",
       "</div>"
      ],
      "text/plain": [
       "                event_name  users_cnt     sou\n",
       "0               TotalUsers       4995  100.00\n",
       "1         MainScreenAppear       4926   98.62\n",
       "2       OffersScreenAppear       3062   61.30\n",
       "3         CartScreenAppear       2504   50.13\n",
       "4  PaymentScreenSuccessful       2358   47.21"
      ]
     },
     "metadata": {},
     "output_type": "display_data"
    }
   ],
   "source": [
    "display(a1_246)\n",
    "display(a2_247)\n",
    "display(b_248)\n",
    "display(aa_246_247)"
   ]
  },
  {
   "cell_type": "markdown",
   "metadata": {},
   "source": [
    "Для 2 контрольнх групп А/А-эксперимента проверим корректность всех механизмов и расчётов. Проверим, находят ли статистические критерии разницу между выборками 246 и 247. Для этих проверок будем использовать z-критерий на равенство долей. Обозначим гипотезы:\n",
    "- Нулевая гипотеза: нет оснований считать доли разными\n",
    "- Алтернативная гипотеза: между долями есть значимая разница\n",
    "\n"
   ]
  },
  {
   "cell_type": "code",
   "execution_count": 34,
   "metadata": {},
   "outputs": [],
   "source": [
    "# Так как нам предстоит много тестов, то завернем все в функцию\n",
    "def z_test(group_1, group_2, event, alpha):\n",
    "    \n",
    "    if event == 'MainScreenAppear':\n",
    "        index_ev = 1\n",
    "    elif event == 'OffersScreenAppear':\n",
    "        index_ev = 2\n",
    "    elif event == 'CartScreenAppear':\n",
    "        index_ev = 3\n",
    "    else:\n",
    "        index_ev = 4\n",
    "\n",
    "    аlpha = alpha\n",
    "\n",
    "    current = np.array([group_1.loc[index_ev,'users_cnt'], group_2.loc[index_ev,'users_cnt']])\n",
    "    pervious = np.array([group_1.loc[0,'users_cnt'], group_2.loc[0,'users_cnt']])\n",
    "\n",
    "    p1 = current[0]/pervious[0]\n",
    "\n",
    "    p2 = current[1]/pervious[1]\n",
    "\n",
    "    p_combined = (current[0] + current[1]) / (pervious[0] + pervious[1])\n",
    "\n",
    "    diff = p1-p2\n",
    "\n",
    "    z_value = diff / mth.sqrt(p_combined * (1 - p_combined) * (1/pervious[0] + 1/pervious[1]))\n",
    "\n",
    "    distr = st.norm(0, 1)  \n",
    "\n",
    "    p_value = (1 - distr.cdf(abs(z_value))) * 2\n",
    "    \n",
    "    shidaka_alpha = 1 - (1 - alpha)**(1/16)\n",
    "    \n",
    "    print('p-значение: ', p_value)\n",
    "\n",
    "    if p_value < shidaka_alpha:\n",
    "        print('Отвергаем нулевую гипотезу: между долями есть значимая разница')\n",
    "    else:\n",
    "        print(\n",
    "        'Не получилось отвергнуть нулевую гипотезу, нет оснований считать доли разными'\n",
    "        )\n",
    "    "
   ]
  },
  {
   "cell_type": "markdown",
   "metadata": {},
   "source": [
    "Возьмем уровень значимости alpha = 0.05"
   ]
  },
  {
   "cell_type": "code",
   "execution_count": 35,
   "metadata": {},
   "outputs": [
    {
     "name": "stdout",
     "output_type": "stream",
     "text": [
      "Все события между группами 246 и 247\n",
      "-----------------------------------------------------------------------------\n",
      "p-значение:  0.7526703436483038\n",
      "Не получилось отвергнуть нулевую гипотезу, нет оснований считать доли разными\n",
      "p-значение:  0.24786096925282264\n",
      "Не получилось отвергнуть нулевую гипотезу, нет оснований считать доли разными\n",
      "p-значение:  0.22867643757335676\n",
      "Не получилось отвергнуть нулевую гипотезу, нет оснований считать доли разными\n",
      "p-значение:  0.11446627829276612\n",
      "Не получилось отвергнуть нулевую гипотезу, нет оснований считать доли разными\n"
     ]
    }
   ],
   "source": [
    "print('Все события между группами 246 и 247')\n",
    "print('-----------------------------------------------------------------------------')\n",
    "z_test(a1_246, a2_247, 'MainScreenAppear', 0.05)\n",
    "z_test(a1_246, a2_247, 'OffersScreenAppear', 0.05)\n",
    "z_test(a1_246, a2_247, 'CartScreenAppear', 0.05)\n",
    "z_test(a1_246, a2_247, 'PaymentScreenSuccessful', 0.05)"
   ]
  },
  {
   "cell_type": "markdown",
   "metadata": {},
   "source": [
    "Как видно из полученных результатов несмотря на разные доли пользователей у групп на каждое событие, разница между ними не оказалась значимой. Следовательно, моожно считать, что разбиение на группы отрабатывает корректно.\n",
    "\n",
    "Самое популярное событие - `MainScreenAppear` - посчитаем число пользователей, совершивших это событие в каждой из контрольных групп, а также долю пользователей, совершивших это событие. "
   ]
  },
  {
   "cell_type": "code",
   "execution_count": 36,
   "metadata": {
    "scrolled": true
   },
   "outputs": [
    {
     "name": "stdout",
     "output_type": "stream",
     "text": [
      "[2450]\n",
      "[2476]\n",
      "[2493]\n",
      "98.52589641434263\n"
     ]
    }
   ],
   "source": [
    "print(list(a1_246.query('event_name == \"MainScreenAppear\"')['users_cnt']))\n",
    "print(list(a2_247.query('event_name == \"MainScreenAppear\"')['users_cnt']))\n",
    "print(list(b_248.query('event_name == \"MainScreenAppear\"')['users_cnt']))\n",
    "print(\n",
    "    clear_data.query('event_name == \"MainScreenAppear\"')['device_id_hash'].nunique()\n",
    "    /clear_data['device_id_hash'].nunique()*100\n",
    ")"
   ]
  },
  {
   "cell_type": "markdown",
   "metadata": {},
   "source": [
    "В группе 246 самое популярное событие `MainScreenAppear` было совершенно 2450 раз, в группк 247 - 2476, а в группе 248 - 2493. Доля пользователей совершивших это событие в общем - 98.5%."
   ]
  },
  {
   "cell_type": "markdown",
   "metadata": {},
   "source": [
    "Проведем тест с каждой из контрольных групп в отдельности по каждому событию, а также объединённой контрольной группой. Гипотезы остаются прежними:\n",
    "- Нулевая гипотеза: нет оснований считать доли разными\n",
    "- Алтернативная гипотеза: между долями есть значимая разница"
   ]
  },
  {
   "cell_type": "code",
   "execution_count": 37,
   "metadata": {},
   "outputs": [
    {
     "name": "stdout",
     "output_type": "stream",
     "text": [
      "Все события между группами 246 и 248\n",
      "-----------------------------------------------------------------------------\n",
      "p-значение:  0.3387114076159288\n",
      "Не получилось отвергнуть нулевую гипотезу, нет оснований считать доли разными\n",
      "p-значение:  0.21442476639710506\n",
      "Не получилось отвергнуть нулевую гипотезу, нет оснований считать доли разными\n",
      "p-значение:  0.08067367598823139\n",
      "Не получилось отвергнуть нулевую гипотезу, нет оснований считать доли разными\n",
      "p-значение:  0.21693033984516674\n",
      "Не получилось отвергнуть нулевую гипотезу, нет оснований считать доли разными\n"
     ]
    }
   ],
   "source": [
    "print('Все события между группами 246 и 248')\n",
    "print('-----------------------------------------------------------------------------')\n",
    "z_test(a1_246, b_248, 'MainScreenAppear', 0.05)\n",
    "z_test(a1_246, b_248, 'OffersScreenAppear', 0.05)\n",
    "z_test(a1_246, b_248, 'CartScreenAppear', 0.05)\n",
    "z_test(a1_246, b_248, 'PaymentScreenSuccessful', 0.05)"
   ]
  },
  {
   "cell_type": "code",
   "execution_count": 38,
   "metadata": {},
   "outputs": [
    {
     "name": "stdout",
     "output_type": "stream",
     "text": [
      "Все события между группами 247 и 248\n",
      "-----------------------------------------------------------------------------\n",
      "p-значение:  0.5194964354051703\n",
      "Не получилось отвергнуть нулевую гипотезу, нет оснований считать доли разными\n",
      "p-значение:  0.9333751305879443\n",
      "Не получилось отвергнуть нулевую гипотезу, нет оснований считать доли разными\n",
      "p-значение:  0.5878284605111943\n",
      "Не получилось отвергнуть нулевую гипотезу, нет оснований считать доли разными\n",
      "p-значение:  0.7275718682261119\n",
      "Не получилось отвергнуть нулевую гипотезу, нет оснований считать доли разными\n"
     ]
    }
   ],
   "source": [
    "print('Все события между группами 247 и 248')\n",
    "print('-----------------------------------------------------------------------------')\n",
    "z_test(a2_247, b_248, 'MainScreenAppear', 0.05)\n",
    "z_test(a2_247, b_248, 'OffersScreenAppear', 0.05)\n",
    "z_test(a2_247, b_248, 'CartScreenAppear', 0.05)\n",
    "z_test(a2_247, b_248, 'PaymentScreenSuccessful', 0.05)"
   ]
  },
  {
   "cell_type": "code",
   "execution_count": 39,
   "metadata": {},
   "outputs": [
    {
     "name": "stdout",
     "output_type": "stream",
     "text": [
      "Все события между группами 246+247 и 248\n",
      "-----------------------------------------------------------------------------\n",
      "p-значение:  0.3486684291093256\n",
      "Не получилось отвергнуть нулевую гипотезу, нет оснований считать доли разными\n",
      "p-значение:  0.44582745409482394\n",
      "Не получилось отвергнуть нулевую гипотезу, нет оснований считать доли разными\n",
      "p-значение:  0.18683558686831558\n",
      "Не получилось отвергнуть нулевую гипотезу, нет оснований считать доли разными\n",
      "p-значение:  0.6107918742187335\n",
      "Не получилось отвергнуть нулевую гипотезу, нет оснований считать доли разными\n"
     ]
    }
   ],
   "source": [
    "print('Все события между группами 246+247 и 248')\n",
    "print('-----------------------------------------------------------------------------')\n",
    "z_test(aa_246_247, b_248, 'MainScreenAppear', 0.05)\n",
    "z_test(aa_246_247, b_248, 'OffersScreenAppear', 0.05)\n",
    "z_test(aa_246_247, b_248, 'CartScreenAppear', 0.05)\n",
    "z_test(aa_246_247, b_248, 'PaymentScreenSuccessful', 0.05)"
   ]
  },
  {
   "cell_type": "markdown",
   "metadata": {},
   "source": [
    "В ходе изучения результатов А/В теста, удалось выяснить, что между долями пользователей разных групп, которые совершили каждое из событий, нету статистически значимой разницы. Из чего можно сделать вывод, что доля пользователей совершивших одно и тоже событие одинаковая для всех групп. Следовательно, изменение шрифта, внутри приложения, никак не повлияло на пользователей."
   ]
  },
  {
   "cell_type": "markdown",
   "metadata": {},
   "source": [
    "## Вывод"
   ]
  },
  {
   "cell_type": "markdown",
   "metadata": {},
   "source": [
    "В данном проекте перед нами стояла задача определить как ведут себя пользователи нашего мобильного приложения, изучить воронку событий и исследовть результаты А/А/В теста.\n",
    "\n",
    "На первом этапе данные были изучены и обработаны. Был определен период с актуальными данными, что бы избежать искажения анализа.\n",
    "\n",
    "На втором этапе мы изучили воронку событий, по которой проходит пользователь нашего мобильного приложения. Здесь можно обозначить следуюшие итоги:\n",
    "- `MainScreenAppear` (основной экран приложения) - самое частое событие, которое было совершено 117 328 раз.\n",
    "- `Tutorial` (обучение) - было вызвано всего 11.1% пользователей, от общего числа уников.\n",
    "- `PaymentScreenSuccessful` - до страницы успешной оплаты дошло 47% пользователей, за рассматриваемый период.\n",
    "- Больше всего пользователей теряется на на этапе `OffersScreenAppear`. До данного этапа воронки дошли лишь 61% пользовталей, от общего числа уников.\n",
    "- Чуть более 6% пользователей проходят весь путь воронки от главного экрана до этапа оплаты.\n",
    "\n",
    "На этапе изучения результатов А/А/В тестирования были проведены проверки на равенство долей между каждой группой и каждым событием. Всего было проведено 16 тестов. При уровне значимости alpha=0.05 между долями пользователей разных групп, которые совершили каждое из событий, статистически значимой разницы не было обнаружено. Следовательно, изменение шрифта, внутри приложения, никак не повлияло на поведение пользователей внутри приложения.\n",
    "\n",
    "При выборе alpha=0.1 вырастает вероятность отвергнуть нулевую гипотезу, и тем самым поставить под сомнения вывод, что шрифт никак не повлиял на пользователей."
   ]
  },
  {
   "cell_type": "code",
   "execution_count": null,
   "metadata": {},
   "outputs": [],
   "source": []
  }
 ],
 "metadata": {
  "ExecuteTimeLog": [
   {
    "duration": 742,
    "start_time": "2023-02-20T12:15:32.991Z"
   },
   {
    "duration": 856,
    "start_time": "2023-02-20T12:17:29.502Z"
   },
   {
    "duration": 4,
    "start_time": "2023-02-20T12:17:33.942Z"
   },
   {
    "duration": 276,
    "start_time": "2023-02-20T12:17:36.950Z"
   },
   {
    "duration": 73,
    "start_time": "2023-02-20T12:17:51.590Z"
   },
   {
    "duration": 10,
    "start_time": "2023-02-20T12:17:55.130Z"
   },
   {
    "duration": 149,
    "start_time": "2023-02-20T12:18:18.103Z"
   },
   {
    "duration": 8,
    "start_time": "2023-02-20T12:18:20.221Z"
   },
   {
    "duration": 19,
    "start_time": "2023-02-20T12:18:43.050Z"
   },
   {
    "duration": 8,
    "start_time": "2023-02-20T12:20:59.759Z"
   },
   {
    "duration": 13,
    "start_time": "2023-02-20T12:21:25.540Z"
   },
   {
    "duration": 8,
    "start_time": "2023-02-20T12:22:57.809Z"
   },
   {
    "duration": 14,
    "start_time": "2023-02-20T12:23:02.181Z"
   },
   {
    "duration": 3,
    "start_time": "2023-02-20T12:23:14.650Z"
   },
   {
    "duration": 4,
    "start_time": "2023-02-20T12:23:42.940Z"
   },
   {
    "duration": 17,
    "start_time": "2023-02-20T12:24:10.249Z"
   },
   {
    "duration": 10,
    "start_time": "2023-02-20T12:27:27.318Z"
   },
   {
    "duration": 69,
    "start_time": "2023-02-20T12:27:30.900Z"
   },
   {
    "duration": 54,
    "start_time": "2023-02-20T12:27:36.050Z"
   },
   {
    "duration": 8,
    "start_time": "2023-02-20T12:27:39.379Z"
   },
   {
    "duration": 54,
    "start_time": "2023-02-20T12:27:44.659Z"
   },
   {
    "duration": 7,
    "start_time": "2023-02-20T12:28:53.679Z"
   },
   {
    "duration": 72,
    "start_time": "2023-02-20T12:29:02.448Z"
   },
   {
    "duration": 4,
    "start_time": "2023-02-20T12:29:40.919Z"
   },
   {
    "duration": 9,
    "start_time": "2023-02-20T12:29:50.258Z"
   },
   {
    "duration": 11,
    "start_time": "2023-02-20T12:29:56.826Z"
   },
   {
    "duration": 80,
    "start_time": "2023-02-20T12:30:23.128Z"
   },
   {
    "duration": 53,
    "start_time": "2023-02-20T12:30:29.905Z"
   },
   {
    "duration": 5,
    "start_time": "2023-02-20T12:30:45.948Z"
   },
   {
    "duration": 3,
    "start_time": "2023-02-20T12:30:48.587Z"
   },
   {
    "duration": 4,
    "start_time": "2023-02-20T12:30:51.049Z"
   },
   {
    "duration": 4,
    "start_time": "2023-02-20T12:32:13.851Z"
   },
   {
    "duration": 4,
    "start_time": "2023-02-20T12:32:32.870Z"
   },
   {
    "duration": 58,
    "start_time": "2023-02-20T12:35:30.958Z"
   },
   {
    "duration": 59,
    "start_time": "2023-02-20T12:35:43.372Z"
   },
   {
    "duration": 19,
    "start_time": "2023-02-20T12:36:32.057Z"
   },
   {
    "duration": 14,
    "start_time": "2023-02-20T12:36:38.458Z"
   },
   {
    "duration": 11,
    "start_time": "2023-02-20T12:36:59.177Z"
   },
   {
    "duration": 7,
    "start_time": "2023-02-20T12:37:02.375Z"
   },
   {
    "duration": 8,
    "start_time": "2023-02-20T12:37:06.197Z"
   },
   {
    "duration": 17,
    "start_time": "2023-02-20T12:37:27.320Z"
   },
   {
    "duration": 18,
    "start_time": "2023-02-20T12:38:34.388Z"
   },
   {
    "duration": 20,
    "start_time": "2023-02-20T12:38:40.548Z"
   },
   {
    "duration": 28,
    "start_time": "2023-02-20T12:38:45.589Z"
   },
   {
    "duration": 21,
    "start_time": "2023-02-20T12:38:58.217Z"
   },
   {
    "duration": 3,
    "start_time": "2023-02-20T12:39:19.677Z"
   },
   {
    "duration": 20,
    "start_time": "2023-02-20T12:39:27.557Z"
   },
   {
    "duration": 18,
    "start_time": "2023-02-20T12:40:31.477Z"
   },
   {
    "duration": 790,
    "start_time": "2023-02-20T12:42:29.036Z"
   },
   {
    "duration": 9,
    "start_time": "2023-02-20T12:42:37.546Z"
   },
   {
    "duration": 12,
    "start_time": "2023-02-20T12:42:44.727Z"
   },
   {
    "duration": 11,
    "start_time": "2023-02-20T12:43:22.027Z"
   },
   {
    "duration": 18,
    "start_time": "2023-02-20T12:45:08.519Z"
   },
   {
    "duration": 9,
    "start_time": "2023-02-20T12:48:21.060Z"
   },
   {
    "duration": 9,
    "start_time": "2023-02-20T12:48:39.884Z"
   },
   {
    "duration": 8,
    "start_time": "2023-02-20T12:49:16.577Z"
   },
   {
    "duration": 8,
    "start_time": "2023-02-20T12:50:47.398Z"
   },
   {
    "duration": 3,
    "start_time": "2023-02-20T12:50:55.876Z"
   },
   {
    "duration": 9,
    "start_time": "2023-02-20T12:51:00.900Z"
   },
   {
    "duration": 11,
    "start_time": "2023-02-20T12:51:07.901Z"
   },
   {
    "duration": 9,
    "start_time": "2023-02-20T12:51:46.537Z"
   },
   {
    "duration": 7,
    "start_time": "2023-02-20T12:51:54.648Z"
   },
   {
    "duration": 763,
    "start_time": "2023-02-20T12:52:01.299Z"
   },
   {
    "duration": 74,
    "start_time": "2023-02-20T12:52:09.435Z"
   },
   {
    "duration": 23,
    "start_time": "2023-02-20T12:52:14.836Z"
   },
   {
    "duration": 15,
    "start_time": "2023-02-20T12:52:18.089Z"
   },
   {
    "duration": 652,
    "start_time": "2023-02-20T12:52:41.956Z"
   },
   {
    "duration": 148,
    "start_time": "2023-02-20T12:52:42.610Z"
   },
   {
    "duration": 12,
    "start_time": "2023-02-20T12:52:42.759Z"
   },
   {
    "duration": 9,
    "start_time": "2023-02-20T12:52:42.772Z"
   },
   {
    "duration": 79,
    "start_time": "2023-02-20T12:52:42.786Z"
   },
   {
    "duration": 3,
    "start_time": "2023-02-20T12:52:42.867Z"
   },
   {
    "duration": 87,
    "start_time": "2023-02-20T12:52:42.871Z"
   },
   {
    "duration": 16,
    "start_time": "2023-02-20T12:52:42.960Z"
   },
   {
    "duration": 41,
    "start_time": "2023-02-20T12:52:42.986Z"
   },
   {
    "duration": 18,
    "start_time": "2023-02-20T12:52:43.028Z"
   },
   {
    "duration": 56,
    "start_time": "2023-02-20T12:52:43.048Z"
   },
   {
    "duration": 0,
    "start_time": "2023-02-20T12:52:43.106Z"
   },
   {
    "duration": 8,
    "start_time": "2023-02-20T12:52:57.306Z"
   },
   {
    "duration": 11,
    "start_time": "2023-02-20T12:53:04.614Z"
   },
   {
    "duration": 895,
    "start_time": "2023-02-20T12:54:28.674Z"
   },
   {
    "duration": 804,
    "start_time": "2023-02-20T12:55:23.896Z"
   },
   {
    "duration": 19,
    "start_time": "2023-02-20T12:55:29.544Z"
   },
   {
    "duration": 26,
    "start_time": "2023-02-20T12:55:36.024Z"
   },
   {
    "duration": 30,
    "start_time": "2023-02-20T12:55:39.897Z"
   },
   {
    "duration": 687,
    "start_time": "2023-02-20T12:57:48.174Z"
   },
   {
    "duration": 172,
    "start_time": "2023-02-20T12:57:48.863Z"
   },
   {
    "duration": 12,
    "start_time": "2023-02-20T12:57:49.037Z"
   },
   {
    "duration": 18,
    "start_time": "2023-02-20T12:57:49.051Z"
   },
   {
    "duration": 137,
    "start_time": "2023-02-20T12:57:49.071Z"
   },
   {
    "duration": 12,
    "start_time": "2023-02-20T12:57:49.213Z"
   },
   {
    "duration": 118,
    "start_time": "2023-02-20T12:57:49.226Z"
   },
   {
    "duration": 13,
    "start_time": "2023-02-20T12:57:49.346Z"
   },
   {
    "duration": 45,
    "start_time": "2023-02-20T12:57:49.361Z"
   },
   {
    "duration": 36,
    "start_time": "2023-02-20T12:57:49.407Z"
   },
   {
    "duration": 29,
    "start_time": "2023-02-20T12:57:49.445Z"
   },
   {
    "duration": 33,
    "start_time": "2023-02-20T12:58:03.317Z"
   },
   {
    "duration": 42,
    "start_time": "2023-02-20T13:19:40.643Z"
   },
   {
    "duration": 5,
    "start_time": "2023-02-20T13:19:46.143Z"
   },
   {
    "duration": 53,
    "start_time": "2023-02-20T13:20:55.505Z"
   },
   {
    "duration": 53,
    "start_time": "2023-02-20T13:21:29.262Z"
   },
   {
    "duration": 57,
    "start_time": "2023-02-20T13:21:42.125Z"
   },
   {
    "duration": 101,
    "start_time": "2023-02-20T13:21:50.874Z"
   },
   {
    "duration": 15,
    "start_time": "2023-02-20T13:22:08.985Z"
   },
   {
    "duration": 11,
    "start_time": "2023-02-20T13:22:15.225Z"
   },
   {
    "duration": 6,
    "start_time": "2023-02-20T13:22:27.303Z"
   },
   {
    "duration": 11,
    "start_time": "2023-02-20T13:22:31.533Z"
   },
   {
    "duration": 14,
    "start_time": "2023-02-20T13:22:34.284Z"
   },
   {
    "duration": 10,
    "start_time": "2023-02-20T13:22:41.133Z"
   },
   {
    "duration": 12,
    "start_time": "2023-02-20T13:23:24.844Z"
   },
   {
    "duration": 13,
    "start_time": "2023-02-20T13:23:35.182Z"
   },
   {
    "duration": 12,
    "start_time": "2023-02-20T14:20:51.015Z"
   },
   {
    "duration": 11,
    "start_time": "2023-02-20T14:21:14.264Z"
   },
   {
    "duration": 14,
    "start_time": "2023-02-20T14:21:40.314Z"
   },
   {
    "duration": 5,
    "start_time": "2023-02-20T14:26:59.763Z"
   },
   {
    "duration": 6,
    "start_time": "2023-02-20T14:28:34.484Z"
   },
   {
    "duration": 11,
    "start_time": "2023-02-20T14:28:44.286Z"
   },
   {
    "duration": 318,
    "start_time": "2023-02-20T14:30:52.821Z"
   },
   {
    "duration": 210,
    "start_time": "2023-02-20T14:32:09.804Z"
   },
   {
    "duration": 212,
    "start_time": "2023-02-20T14:32:45.218Z"
   },
   {
    "duration": 406,
    "start_time": "2023-02-20T14:32:55.030Z"
   },
   {
    "duration": 227,
    "start_time": "2023-02-20T14:33:04.097Z"
   },
   {
    "duration": 211,
    "start_time": "2023-02-20T14:33:08.644Z"
   },
   {
    "duration": 203,
    "start_time": "2023-02-20T14:33:13.774Z"
   },
   {
    "duration": 211,
    "start_time": "2023-02-20T14:36:42.324Z"
   },
   {
    "duration": 733,
    "start_time": "2023-02-20T14:37:28.918Z"
   },
   {
    "duration": 822,
    "start_time": "2023-02-20T14:37:36.742Z"
   },
   {
    "duration": 725,
    "start_time": "2023-02-20T14:37:53.453Z"
   },
   {
    "duration": 762,
    "start_time": "2023-02-20T14:37:59.724Z"
   },
   {
    "duration": 753,
    "start_time": "2023-02-20T14:38:39.872Z"
   },
   {
    "duration": 215,
    "start_time": "2023-02-20T14:38:59.995Z"
   },
   {
    "duration": 248,
    "start_time": "2023-02-20T14:39:21.172Z"
   },
   {
    "duration": 189,
    "start_time": "2023-02-20T14:39:32.494Z"
   },
   {
    "duration": 298,
    "start_time": "2023-02-20T14:39:43.662Z"
   },
   {
    "duration": 271,
    "start_time": "2023-02-20T14:39:52.184Z"
   },
   {
    "duration": 218,
    "start_time": "2023-02-20T14:40:01.364Z"
   },
   {
    "duration": 209,
    "start_time": "2023-02-20T14:40:29.732Z"
   },
   {
    "duration": 309,
    "start_time": "2023-02-20T14:40:40.924Z"
   },
   {
    "duration": 341,
    "start_time": "2023-02-20T14:40:52.676Z"
   },
   {
    "duration": 45,
    "start_time": "2023-02-20T14:45:37.614Z"
   },
   {
    "duration": 6,
    "start_time": "2023-02-20T14:45:52.332Z"
   },
   {
    "duration": 8,
    "start_time": "2023-02-20T14:46:02.772Z"
   },
   {
    "duration": 6,
    "start_time": "2023-02-20T14:46:08.382Z"
   },
   {
    "duration": 5,
    "start_time": "2023-02-20T14:47:19.638Z"
   },
   {
    "duration": 6,
    "start_time": "2023-02-20T14:47:23.896Z"
   },
   {
    "duration": 467,
    "start_time": "2023-02-20T14:52:27.207Z"
   },
   {
    "duration": 355,
    "start_time": "2023-02-20T14:53:33.151Z"
   },
   {
    "duration": 373,
    "start_time": "2023-02-20T14:54:18.581Z"
   },
   {
    "duration": 333,
    "start_time": "2023-02-20T14:56:01.101Z"
   },
   {
    "duration": 45,
    "start_time": "2023-02-20T14:56:19.299Z"
   },
   {
    "duration": 319,
    "start_time": "2023-02-20T14:56:24.062Z"
   },
   {
    "duration": 419,
    "start_time": "2023-02-20T14:56:32.399Z"
   },
   {
    "duration": 321,
    "start_time": "2023-02-20T14:56:39.411Z"
   },
   {
    "duration": 386,
    "start_time": "2023-02-20T14:56:45.518Z"
   },
   {
    "duration": 345,
    "start_time": "2023-02-20T14:57:16.111Z"
   },
   {
    "duration": 380,
    "start_time": "2023-02-20T14:57:35.701Z"
   },
   {
    "duration": 339,
    "start_time": "2023-02-20T14:57:51.330Z"
   },
   {
    "duration": 471,
    "start_time": "2023-02-20T15:09:42.969Z"
   },
   {
    "duration": 356,
    "start_time": "2023-02-20T15:10:28.249Z"
   },
   {
    "duration": 21,
    "start_time": "2023-02-20T15:19:50.362Z"
   },
   {
    "duration": 13,
    "start_time": "2023-02-20T15:20:29.283Z"
   },
   {
    "duration": 1732,
    "start_time": "2023-02-20T15:20:46.711Z"
   },
   {
    "duration": 394,
    "start_time": "2023-02-20T15:21:03.219Z"
   },
   {
    "duration": 49,
    "start_time": "2023-02-20T15:21:27.643Z"
   },
   {
    "duration": 78,
    "start_time": "2023-02-20T15:21:37.123Z"
   },
   {
    "duration": 47,
    "start_time": "2023-02-20T15:21:55.603Z"
   },
   {
    "duration": 4,
    "start_time": "2023-02-20T15:31:02.052Z"
   },
   {
    "duration": 121,
    "start_time": "2023-02-20T15:31:47.637Z"
   },
   {
    "duration": 48,
    "start_time": "2023-02-20T15:31:51.835Z"
   },
   {
    "duration": 12,
    "start_time": "2023-02-20T15:31:54.801Z"
   },
   {
    "duration": 10,
    "start_time": "2023-02-20T15:36:58.747Z"
   },
   {
    "duration": 7,
    "start_time": "2023-02-20T15:37:06.744Z"
   },
   {
    "duration": 8,
    "start_time": "2023-02-20T15:41:27.973Z"
   },
   {
    "duration": 47,
    "start_time": "2023-02-20T15:41:48.787Z"
   },
   {
    "duration": 13,
    "start_time": "2023-02-20T16:07:27.462Z"
   },
   {
    "duration": 20,
    "start_time": "2023-02-20T16:07:47.151Z"
   },
   {
    "duration": 10,
    "start_time": "2023-02-20T16:25:53.912Z"
   },
   {
    "duration": 17,
    "start_time": "2023-02-20T16:32:17.831Z"
   },
   {
    "duration": 49,
    "start_time": "2023-02-20T16:32:26.713Z"
   },
   {
    "duration": 54,
    "start_time": "2023-02-20T16:32:51.825Z"
   },
   {
    "duration": 42,
    "start_time": "2023-02-20T16:35:33.213Z"
   },
   {
    "duration": 54,
    "start_time": "2023-02-20T16:35:39.084Z"
   },
   {
    "duration": 56,
    "start_time": "2023-02-20T16:36:33.005Z"
   },
   {
    "duration": 795,
    "start_time": "2023-02-20T16:36:39.563Z"
   },
   {
    "duration": 70,
    "start_time": "2023-02-20T16:36:45.656Z"
   },
   {
    "duration": 55,
    "start_time": "2023-02-20T16:38:08.911Z"
   },
   {
    "duration": 58,
    "start_time": "2023-02-20T16:38:20.613Z"
   },
   {
    "duration": 55,
    "start_time": "2023-02-20T16:38:26.813Z"
   },
   {
    "duration": 56,
    "start_time": "2023-02-20T16:39:07.763Z"
   },
   {
    "duration": 9,
    "start_time": "2023-02-20T16:39:15.004Z"
   },
   {
    "duration": 76,
    "start_time": "2023-02-20T16:39:22.424Z"
   },
   {
    "duration": 8,
    "start_time": "2023-02-20T16:39:37.409Z"
   },
   {
    "duration": 51,
    "start_time": "2023-02-20T16:39:43.698Z"
   },
   {
    "duration": 62,
    "start_time": "2023-02-20T16:40:25.067Z"
   },
   {
    "duration": 111,
    "start_time": "2023-02-20T16:40:52.144Z"
   },
   {
    "duration": 62,
    "start_time": "2023-02-20T16:41:04.863Z"
   },
   {
    "duration": 64,
    "start_time": "2023-02-20T16:43:14.332Z"
   },
   {
    "duration": 50,
    "start_time": "2023-02-20T16:44:09.133Z"
   },
   {
    "duration": 79,
    "start_time": "2023-02-20T16:44:25.724Z"
   },
   {
    "duration": 62,
    "start_time": "2023-02-20T16:44:40.573Z"
   },
   {
    "duration": 56,
    "start_time": "2023-02-20T16:44:47.118Z"
   },
   {
    "duration": 57,
    "start_time": "2023-02-20T16:44:53.673Z"
   },
   {
    "duration": 60,
    "start_time": "2023-02-20T16:45:11.074Z"
   },
   {
    "duration": 61,
    "start_time": "2023-02-20T16:45:19.053Z"
   },
   {
    "duration": 57,
    "start_time": "2023-02-20T16:45:36.163Z"
   },
   {
    "duration": 55,
    "start_time": "2023-02-20T16:45:48.903Z"
   },
   {
    "duration": 53,
    "start_time": "2023-02-20T16:45:59.700Z"
   },
   {
    "duration": 65,
    "start_time": "2023-02-20T16:46:15.533Z"
   },
   {
    "duration": 92,
    "start_time": "2023-02-20T16:50:37.533Z"
   },
   {
    "duration": 64,
    "start_time": "2023-02-20T16:50:50.123Z"
   },
   {
    "duration": 59,
    "start_time": "2023-02-20T16:51:01.225Z"
   },
   {
    "duration": 78,
    "start_time": "2023-02-20T16:52:03.143Z"
   },
   {
    "duration": 3,
    "start_time": "2023-02-20T16:52:12.722Z"
   },
   {
    "duration": 50,
    "start_time": "2023-02-20T16:52:17.324Z"
   },
   {
    "duration": 64,
    "start_time": "2023-02-20T16:52:25.045Z"
   },
   {
    "duration": 61,
    "start_time": "2023-02-20T16:52:30.473Z"
   },
   {
    "duration": 56,
    "start_time": "2023-02-20T16:52:33.516Z"
   },
   {
    "duration": 55,
    "start_time": "2023-02-20T16:52:38.544Z"
   },
   {
    "duration": 53,
    "start_time": "2023-02-20T16:53:48.524Z"
   },
   {
    "duration": 67,
    "start_time": "2023-02-20T16:54:02.674Z"
   },
   {
    "duration": 68,
    "start_time": "2023-02-20T16:54:11.883Z"
   },
   {
    "duration": 72,
    "start_time": "2023-02-20T16:54:16.644Z"
   },
   {
    "duration": 69,
    "start_time": "2023-02-20T16:55:08.884Z"
   },
   {
    "duration": 53,
    "start_time": "2023-02-20T16:55:13.919Z"
   },
   {
    "duration": 92,
    "start_time": "2023-02-20T17:05:57.312Z"
   },
   {
    "duration": 47,
    "start_time": "2023-02-20T17:06:51.701Z"
   },
   {
    "duration": 44,
    "start_time": "2023-02-20T17:07:22.800Z"
   },
   {
    "duration": 28,
    "start_time": "2023-02-20T17:07:26.371Z"
   },
   {
    "duration": 561,
    "start_time": "2023-02-20T17:07:36.052Z"
   },
   {
    "duration": 4,
    "start_time": "2023-02-20T17:10:53.622Z"
   },
   {
    "duration": 51,
    "start_time": "2023-02-20T17:11:18.760Z"
   },
   {
    "duration": 7,
    "start_time": "2023-02-20T17:11:20.943Z"
   },
   {
    "duration": 2,
    "start_time": "2023-02-20T17:11:49.871Z"
   },
   {
    "duration": 55,
    "start_time": "2023-02-20T17:11:52.404Z"
   },
   {
    "duration": 9,
    "start_time": "2023-02-20T17:11:55.966Z"
   },
   {
    "duration": 63,
    "start_time": "2023-02-20T17:12:38.201Z"
   },
   {
    "duration": 18,
    "start_time": "2023-02-20T17:12:38.983Z"
   },
   {
    "duration": 8,
    "start_time": "2023-02-20T17:12:43.741Z"
   },
   {
    "duration": 47,
    "start_time": "2023-02-20T17:12:54.430Z"
   },
   {
    "duration": 8,
    "start_time": "2023-02-20T17:12:56.532Z"
   },
   {
    "duration": 5,
    "start_time": "2023-02-20T17:15:27.240Z"
   },
   {
    "duration": 8,
    "start_time": "2023-02-20T17:15:31.330Z"
   },
   {
    "duration": 11,
    "start_time": "2023-02-20T17:15:55.851Z"
   },
   {
    "duration": 14,
    "start_time": "2023-02-20T17:16:51.741Z"
   },
   {
    "duration": 12,
    "start_time": "2023-02-20T17:17:29.511Z"
   },
   {
    "duration": 13,
    "start_time": "2023-02-20T17:17:38.145Z"
   },
   {
    "duration": 12,
    "start_time": "2023-02-20T17:17:43.416Z"
   },
   {
    "duration": 10,
    "start_time": "2023-02-20T17:17:45.270Z"
   },
   {
    "duration": 52,
    "start_time": "2023-02-20T17:18:15.795Z"
   },
   {
    "duration": 23,
    "start_time": "2023-02-20T17:18:20.470Z"
   },
   {
    "duration": 8,
    "start_time": "2023-02-20T17:18:23.749Z"
   },
   {
    "duration": 18,
    "start_time": "2023-02-20T17:18:29.420Z"
   },
   {
    "duration": 8,
    "start_time": "2023-02-20T17:18:32.613Z"
   },
   {
    "duration": 18,
    "start_time": "2023-02-20T17:18:40.240Z"
   },
   {
    "duration": 45,
    "start_time": "2023-02-20T17:18:41.629Z"
   },
   {
    "duration": 16,
    "start_time": "2023-02-20T17:18:43.714Z"
   },
   {
    "duration": 6,
    "start_time": "2023-02-20T17:18:51.716Z"
   },
   {
    "duration": 15,
    "start_time": "2023-02-20T17:18:54.023Z"
   },
   {
    "duration": 7,
    "start_time": "2023-02-20T17:18:55.127Z"
   },
   {
    "duration": 12,
    "start_time": "2023-02-20T17:19:06.279Z"
   },
   {
    "duration": 8,
    "start_time": "2023-02-20T17:19:09.730Z"
   },
   {
    "duration": 7,
    "start_time": "2023-02-20T17:19:40.660Z"
   },
   {
    "duration": 9,
    "start_time": "2023-02-20T17:23:31.760Z"
   },
   {
    "duration": 10,
    "start_time": "2023-02-20T17:23:38.518Z"
   },
   {
    "duration": 9,
    "start_time": "2023-02-20T17:25:02.470Z"
   },
   {
    "duration": 6,
    "start_time": "2023-02-20T17:25:18.131Z"
   },
   {
    "duration": 903,
    "start_time": "2023-02-21T19:30:46.236Z"
   },
   {
    "duration": 500,
    "start_time": "2023-02-21T19:30:47.142Z"
   },
   {
    "duration": 11,
    "start_time": "2023-02-21T19:30:47.644Z"
   },
   {
    "duration": 9,
    "start_time": "2023-02-21T19:30:47.656Z"
   },
   {
    "duration": 67,
    "start_time": "2023-02-21T19:30:47.666Z"
   },
   {
    "duration": 3,
    "start_time": "2023-02-21T19:30:47.734Z"
   },
   {
    "duration": 79,
    "start_time": "2023-02-21T19:30:47.739Z"
   },
   {
    "duration": 16,
    "start_time": "2023-02-21T19:30:47.819Z"
   },
   {
    "duration": 27,
    "start_time": "2023-02-21T19:30:47.837Z"
   },
   {
    "duration": 39,
    "start_time": "2023-02-21T19:30:47.867Z"
   },
   {
    "duration": 24,
    "start_time": "2023-02-21T19:30:47.908Z"
   },
   {
    "duration": 13,
    "start_time": "2023-02-21T19:30:47.933Z"
   },
   {
    "duration": 5,
    "start_time": "2023-02-21T19:30:47.948Z"
   },
   {
    "duration": 441,
    "start_time": "2023-02-21T19:30:47.955Z"
   },
   {
    "duration": 20,
    "start_time": "2023-02-21T19:30:48.397Z"
   },
   {
    "duration": 4,
    "start_time": "2023-02-21T19:30:48.419Z"
   },
   {
    "duration": 17,
    "start_time": "2023-02-21T19:30:48.424Z"
   },
   {
    "duration": 86,
    "start_time": "2023-02-21T19:30:48.443Z"
   },
   {
    "duration": 22,
    "start_time": "2023-02-21T19:30:48.530Z"
   },
   {
    "duration": 68,
    "start_time": "2023-02-21T19:30:48.554Z"
   },
   {
    "duration": 98,
    "start_time": "2023-02-21T19:30:48.624Z"
   },
   {
    "duration": 55,
    "start_time": "2023-02-21T19:30:48.724Z"
   },
   {
    "duration": 7,
    "start_time": "2023-02-21T19:30:48.790Z"
   },
   {
    "duration": 99,
    "start_time": "2023-02-21T19:30:48.799Z"
   },
   {
    "duration": 0,
    "start_time": "2023-02-21T19:30:48.900Z"
   },
   {
    "duration": 13,
    "start_time": "2023-02-21T19:31:00.307Z"
   },
   {
    "duration": 50,
    "start_time": "2023-02-21T19:39:31.479Z"
   },
   {
    "duration": 51,
    "start_time": "2023-02-21T19:39:43.425Z"
   },
   {
    "duration": 62,
    "start_time": "2023-02-21T19:43:10.947Z"
   },
   {
    "duration": 1128,
    "start_time": "2023-02-21T19:43:51.786Z"
   },
   {
    "duration": 45,
    "start_time": "2023-02-21T19:45:21.176Z"
   },
   {
    "duration": 8,
    "start_time": "2023-02-21T19:46:28.625Z"
   },
   {
    "duration": 7,
    "start_time": "2023-02-21T19:46:40.808Z"
   },
   {
    "duration": 61,
    "start_time": "2023-02-21T19:48:16.207Z"
   },
   {
    "duration": 55,
    "start_time": "2023-02-21T19:48:20.385Z"
   },
   {
    "duration": 40,
    "start_time": "2023-02-21T19:48:21.706Z"
   },
   {
    "duration": 8,
    "start_time": "2023-02-21T19:48:40.455Z"
   },
   {
    "duration": 4,
    "start_time": "2023-02-21T19:49:58.566Z"
   },
   {
    "duration": 7,
    "start_time": "2023-02-21T19:50:04.577Z"
   },
   {
    "duration": 7,
    "start_time": "2023-02-21T19:59:41.660Z"
   },
   {
    "duration": 10,
    "start_time": "2023-02-21T20:00:53.540Z"
   },
   {
    "duration": 756,
    "start_time": "2023-02-21T20:01:13.809Z"
   },
   {
    "duration": 163,
    "start_time": "2023-02-21T20:01:14.567Z"
   },
   {
    "duration": 11,
    "start_time": "2023-02-21T20:01:14.732Z"
   },
   {
    "duration": 3,
    "start_time": "2023-02-21T20:01:14.745Z"
   },
   {
    "duration": 83,
    "start_time": "2023-02-21T20:01:14.749Z"
   },
   {
    "duration": 3,
    "start_time": "2023-02-21T20:01:14.833Z"
   },
   {
    "duration": 87,
    "start_time": "2023-02-21T20:01:14.838Z"
   },
   {
    "duration": 16,
    "start_time": "2023-02-21T20:01:14.927Z"
   },
   {
    "duration": 21,
    "start_time": "2023-02-21T20:01:14.944Z"
   },
   {
    "duration": 35,
    "start_time": "2023-02-21T20:01:14.968Z"
   },
   {
    "duration": 24,
    "start_time": "2023-02-21T20:01:15.004Z"
   },
   {
    "duration": 15,
    "start_time": "2023-02-21T20:01:15.030Z"
   },
   {
    "duration": 7,
    "start_time": "2023-02-21T20:01:15.047Z"
   },
   {
    "duration": 528,
    "start_time": "2023-02-21T20:01:15.056Z"
   },
   {
    "duration": 20,
    "start_time": "2023-02-21T20:01:15.591Z"
   },
   {
    "duration": 4,
    "start_time": "2023-02-21T20:01:15.613Z"
   },
   {
    "duration": 17,
    "start_time": "2023-02-21T20:01:15.619Z"
   },
   {
    "duration": 68,
    "start_time": "2023-02-21T20:01:15.638Z"
   },
   {
    "duration": 23,
    "start_time": "2023-02-21T20:01:15.708Z"
   },
   {
    "duration": 85,
    "start_time": "2023-02-21T20:01:15.733Z"
   },
   {
    "duration": 90,
    "start_time": "2023-02-21T20:01:15.819Z"
   },
   {
    "duration": 409,
    "start_time": "2023-02-21T20:01:15.911Z"
   },
   {
    "duration": 11,
    "start_time": "2023-02-21T20:01:16.323Z"
   },
   {
    "duration": 183,
    "start_time": "2023-02-21T20:01:16.336Z"
   },
   {
    "duration": 0,
    "start_time": "2023-02-21T20:01:16.520Z"
   },
   {
    "duration": 0,
    "start_time": "2023-02-21T20:01:16.521Z"
   },
   {
    "duration": 0,
    "start_time": "2023-02-21T20:01:16.523Z"
   },
   {
    "duration": 9,
    "start_time": "2023-02-21T20:02:04.000Z"
   },
   {
    "duration": 9,
    "start_time": "2023-02-21T20:02:04.978Z"
   },
   {
    "duration": 9,
    "start_time": "2023-02-21T20:03:51.589Z"
   },
   {
    "duration": 4,
    "start_time": "2023-02-21T20:03:58.152Z"
   },
   {
    "duration": 10,
    "start_time": "2023-02-21T20:04:06.209Z"
   },
   {
    "duration": 9,
    "start_time": "2023-02-21T20:05:53.259Z"
   },
   {
    "duration": 9,
    "start_time": "2023-02-21T20:06:24.789Z"
   },
   {
    "duration": 9,
    "start_time": "2023-02-21T20:06:45.167Z"
   },
   {
    "duration": 11,
    "start_time": "2023-02-21T20:06:49.969Z"
   },
   {
    "duration": 10,
    "start_time": "2023-02-21T20:07:10.760Z"
   },
   {
    "duration": 12,
    "start_time": "2023-02-21T20:07:55.903Z"
   },
   {
    "duration": 14,
    "start_time": "2023-02-21T20:08:00.439Z"
   },
   {
    "duration": 9,
    "start_time": "2023-02-21T20:08:01.207Z"
   },
   {
    "duration": 12,
    "start_time": "2023-02-21T20:08:01.988Z"
   },
   {
    "duration": 10,
    "start_time": "2023-02-21T20:08:02.605Z"
   },
   {
    "duration": 10,
    "start_time": "2023-02-21T20:10:14.862Z"
   },
   {
    "duration": 13,
    "start_time": "2023-02-21T20:12:02.946Z"
   },
   {
    "duration": 11,
    "start_time": "2023-02-21T20:12:20.800Z"
   },
   {
    "duration": 11,
    "start_time": "2023-02-21T20:12:28.799Z"
   },
   {
    "duration": 10,
    "start_time": "2023-02-21T20:14:09.791Z"
   },
   {
    "duration": 5,
    "start_time": "2023-02-21T20:15:20.710Z"
   },
   {
    "duration": 9,
    "start_time": "2023-02-21T20:15:45.159Z"
   },
   {
    "duration": 9,
    "start_time": "2023-02-21T20:16:10.451Z"
   },
   {
    "duration": 9,
    "start_time": "2023-02-21T20:16:14.460Z"
   },
   {
    "duration": 684,
    "start_time": "2023-02-21T20:16:29.720Z"
   },
   {
    "duration": 154,
    "start_time": "2023-02-21T20:16:30.406Z"
   },
   {
    "duration": 11,
    "start_time": "2023-02-21T20:16:30.563Z"
   },
   {
    "duration": 29,
    "start_time": "2023-02-21T20:16:30.576Z"
   },
   {
    "duration": 82,
    "start_time": "2023-02-21T20:16:30.607Z"
   },
   {
    "duration": 3,
    "start_time": "2023-02-21T20:16:30.691Z"
   },
   {
    "duration": 108,
    "start_time": "2023-02-21T20:16:30.696Z"
   },
   {
    "duration": 15,
    "start_time": "2023-02-21T20:16:30.806Z"
   },
   {
    "duration": 51,
    "start_time": "2023-02-21T20:16:30.823Z"
   },
   {
    "duration": 84,
    "start_time": "2023-02-21T20:16:30.876Z"
   },
   {
    "duration": 52,
    "start_time": "2023-02-21T20:16:30.962Z"
   },
   {
    "duration": 31,
    "start_time": "2023-02-21T20:16:31.016Z"
   },
   {
    "duration": 17,
    "start_time": "2023-02-21T20:16:31.049Z"
   },
   {
    "duration": 427,
    "start_time": "2023-02-21T20:16:31.068Z"
   },
   {
    "duration": 21,
    "start_time": "2023-02-21T20:16:31.496Z"
   },
   {
    "duration": 4,
    "start_time": "2023-02-21T20:16:31.519Z"
   },
   {
    "duration": 32,
    "start_time": "2023-02-21T20:16:31.524Z"
   },
   {
    "duration": 51,
    "start_time": "2023-02-21T20:16:31.558Z"
   },
   {
    "duration": 26,
    "start_time": "2023-02-21T20:16:31.611Z"
   },
   {
    "duration": 90,
    "start_time": "2023-02-21T20:16:31.640Z"
   },
   {
    "duration": 93,
    "start_time": "2023-02-21T20:16:31.731Z"
   },
   {
    "duration": 653,
    "start_time": "2023-02-21T20:16:31.825Z"
   },
   {
    "duration": 7,
    "start_time": "2023-02-21T20:16:32.480Z"
   },
   {
    "duration": 13,
    "start_time": "2023-02-21T20:16:46.745Z"
   },
   {
    "duration": 9,
    "start_time": "2023-02-21T20:16:52.628Z"
   },
   {
    "duration": 724,
    "start_time": "2023-02-21T20:17:02.370Z"
   },
   {
    "duration": 153,
    "start_time": "2023-02-21T20:17:03.096Z"
   },
   {
    "duration": 12,
    "start_time": "2023-02-21T20:17:03.251Z"
   },
   {
    "duration": 3,
    "start_time": "2023-02-21T20:17:03.265Z"
   },
   {
    "duration": 77,
    "start_time": "2023-02-21T20:17:03.272Z"
   },
   {
    "duration": 3,
    "start_time": "2023-02-21T20:17:03.350Z"
   },
   {
    "duration": 86,
    "start_time": "2023-02-21T20:17:03.355Z"
   },
   {
    "duration": 14,
    "start_time": "2023-02-21T20:17:03.443Z"
   },
   {
    "duration": 33,
    "start_time": "2023-02-21T20:17:03.459Z"
   },
   {
    "duration": 18,
    "start_time": "2023-02-21T20:17:03.494Z"
   },
   {
    "duration": 34,
    "start_time": "2023-02-21T20:17:03.514Z"
   },
   {
    "duration": 13,
    "start_time": "2023-02-21T20:17:03.549Z"
   },
   {
    "duration": 32,
    "start_time": "2023-02-21T20:17:03.563Z"
   },
   {
    "duration": 404,
    "start_time": "2023-02-21T20:17:03.597Z"
   },
   {
    "duration": 20,
    "start_time": "2023-02-21T20:17:04.003Z"
   },
   {
    "duration": 4,
    "start_time": "2023-02-21T20:17:04.024Z"
   },
   {
    "duration": 20,
    "start_time": "2023-02-21T20:17:04.029Z"
   },
   {
    "duration": 63,
    "start_time": "2023-02-21T20:17:04.050Z"
   },
   {
    "duration": 22,
    "start_time": "2023-02-21T20:17:04.115Z"
   },
   {
    "duration": 67,
    "start_time": "2023-02-21T20:17:04.139Z"
   },
   {
    "duration": 90,
    "start_time": "2023-02-21T20:17:04.208Z"
   },
   {
    "duration": 403,
    "start_time": "2023-02-21T20:17:04.300Z"
   },
   {
    "duration": 9,
    "start_time": "2023-02-21T20:17:04.706Z"
   },
   {
    "duration": 15,
    "start_time": "2023-02-21T20:17:04.716Z"
   },
   {
    "duration": 4,
    "start_time": "2023-02-21T20:17:44.320Z"
   },
   {
    "duration": 703,
    "start_time": "2023-02-21T20:18:01.220Z"
   },
   {
    "duration": 201,
    "start_time": "2023-02-21T20:18:01.925Z"
   },
   {
    "duration": 10,
    "start_time": "2023-02-21T20:18:02.128Z"
   },
   {
    "duration": 16,
    "start_time": "2023-02-21T20:18:02.140Z"
   },
   {
    "duration": 72,
    "start_time": "2023-02-21T20:18:02.158Z"
   },
   {
    "duration": 4,
    "start_time": "2023-02-21T20:18:02.231Z"
   },
   {
    "duration": 83,
    "start_time": "2023-02-21T20:18:02.236Z"
   },
   {
    "duration": 18,
    "start_time": "2023-02-21T20:18:02.320Z"
   },
   {
    "duration": 32,
    "start_time": "2023-02-21T20:18:02.340Z"
   },
   {
    "duration": 43,
    "start_time": "2023-02-21T20:18:02.375Z"
   },
   {
    "duration": 26,
    "start_time": "2023-02-21T20:18:02.420Z"
   },
   {
    "duration": 18,
    "start_time": "2023-02-21T20:18:02.447Z"
   },
   {
    "duration": 7,
    "start_time": "2023-02-21T20:18:02.490Z"
   },
   {
    "duration": 410,
    "start_time": "2023-02-21T20:18:02.499Z"
   },
   {
    "duration": 20,
    "start_time": "2023-02-21T20:18:02.911Z"
   },
   {
    "duration": 4,
    "start_time": "2023-02-21T20:18:02.934Z"
   },
   {
    "duration": 25,
    "start_time": "2023-02-21T20:18:02.940Z"
   },
   {
    "duration": 71,
    "start_time": "2023-02-21T20:18:02.967Z"
   },
   {
    "duration": 26,
    "start_time": "2023-02-21T20:18:03.039Z"
   },
   {
    "duration": 77,
    "start_time": "2023-02-21T20:18:03.066Z"
   },
   {
    "duration": 95,
    "start_time": "2023-02-21T20:18:03.145Z"
   },
   {
    "duration": 381,
    "start_time": "2023-02-21T20:18:03.242Z"
   },
   {
    "duration": 11,
    "start_time": "2023-02-21T20:18:03.624Z"
   },
   {
    "duration": 3,
    "start_time": "2023-02-21T20:19:49.478Z"
   },
   {
    "duration": 6,
    "start_time": "2023-02-21T20:19:53.950Z"
   },
   {
    "duration": 10,
    "start_time": "2023-02-21T20:20:40.107Z"
   },
   {
    "duration": 674,
    "start_time": "2023-02-21T20:21:40.410Z"
   },
   {
    "duration": 157,
    "start_time": "2023-02-21T20:21:41.086Z"
   },
   {
    "duration": 14,
    "start_time": "2023-02-21T20:21:41.245Z"
   },
   {
    "duration": 4,
    "start_time": "2023-02-21T20:21:41.261Z"
   },
   {
    "duration": 107,
    "start_time": "2023-02-21T20:21:41.267Z"
   },
   {
    "duration": 4,
    "start_time": "2023-02-21T20:21:41.377Z"
   },
   {
    "duration": 76,
    "start_time": "2023-02-21T20:21:41.382Z"
   },
   {
    "duration": 14,
    "start_time": "2023-02-21T20:21:41.459Z"
   },
   {
    "duration": 32,
    "start_time": "2023-02-21T20:21:41.474Z"
   },
   {
    "duration": 18,
    "start_time": "2023-02-21T20:21:41.508Z"
   },
   {
    "duration": 24,
    "start_time": "2023-02-21T20:21:41.527Z"
   },
   {
    "duration": 46,
    "start_time": "2023-02-21T20:21:41.552Z"
   },
   {
    "duration": 7,
    "start_time": "2023-02-21T20:21:41.599Z"
   },
   {
    "duration": 432,
    "start_time": "2023-02-21T20:21:41.608Z"
   },
   {
    "duration": 24,
    "start_time": "2023-02-21T20:21:42.042Z"
   },
   {
    "duration": 3,
    "start_time": "2023-02-21T20:21:42.068Z"
   },
   {
    "duration": 27,
    "start_time": "2023-02-21T20:21:42.072Z"
   },
   {
    "duration": 42,
    "start_time": "2023-02-21T20:21:42.100Z"
   },
   {
    "duration": 22,
    "start_time": "2023-02-21T20:21:42.144Z"
   },
   {
    "duration": 90,
    "start_time": "2023-02-21T20:21:42.167Z"
   },
   {
    "duration": 113,
    "start_time": "2023-02-21T20:21:42.259Z"
   },
   {
    "duration": 389,
    "start_time": "2023-02-21T20:21:42.374Z"
   },
   {
    "duration": 10,
    "start_time": "2023-02-21T20:21:42.766Z"
   },
   {
    "duration": 21,
    "start_time": "2023-02-21T20:21:42.777Z"
   },
   {
    "duration": 692,
    "start_time": "2023-02-21T20:22:23.989Z"
   },
   {
    "duration": 153,
    "start_time": "2023-02-21T20:22:24.682Z"
   },
   {
    "duration": 11,
    "start_time": "2023-02-21T20:22:24.837Z"
   },
   {
    "duration": 9,
    "start_time": "2023-02-21T20:22:24.850Z"
   },
   {
    "duration": 82,
    "start_time": "2023-02-21T20:22:24.861Z"
   },
   {
    "duration": 4,
    "start_time": "2023-02-21T20:22:24.945Z"
   },
   {
    "duration": 86,
    "start_time": "2023-02-21T20:22:24.950Z"
   },
   {
    "duration": 15,
    "start_time": "2023-02-21T20:22:25.039Z"
   },
   {
    "duration": 38,
    "start_time": "2023-02-21T20:22:25.055Z"
   },
   {
    "duration": 18,
    "start_time": "2023-02-21T20:22:25.095Z"
   },
   {
    "duration": 30,
    "start_time": "2023-02-21T20:22:25.115Z"
   },
   {
    "duration": 14,
    "start_time": "2023-02-21T20:22:25.146Z"
   },
   {
    "duration": 31,
    "start_time": "2023-02-21T20:22:25.162Z"
   },
   {
    "duration": 422,
    "start_time": "2023-02-21T20:22:25.197Z"
   },
   {
    "duration": 21,
    "start_time": "2023-02-21T20:22:25.621Z"
   },
   {
    "duration": 4,
    "start_time": "2023-02-21T20:22:25.643Z"
   },
   {
    "duration": 15,
    "start_time": "2023-02-21T20:22:25.648Z"
   },
   {
    "duration": 59,
    "start_time": "2023-02-21T20:22:25.664Z"
   },
   {
    "duration": 21,
    "start_time": "2023-02-21T20:22:25.724Z"
   },
   {
    "duration": 64,
    "start_time": "2023-02-21T20:22:25.746Z"
   },
   {
    "duration": 99,
    "start_time": "2023-02-21T20:22:25.812Z"
   },
   {
    "duration": 393,
    "start_time": "2023-02-21T20:22:25.913Z"
   },
   {
    "duration": 8,
    "start_time": "2023-02-21T20:22:26.308Z"
   },
   {
    "duration": 1344,
    "start_time": "2023-02-21T20:23:34.310Z"
   },
   {
    "duration": 3,
    "start_time": "2023-02-21T20:23:51.920Z"
   },
   {
    "duration": 1086,
    "start_time": "2023-02-21T20:23:55.348Z"
   },
   {
    "duration": 12,
    "start_time": "2023-02-21T20:24:15.279Z"
   },
   {
    "duration": 11,
    "start_time": "2023-02-21T20:24:53.270Z"
   },
   {
    "duration": 11,
    "start_time": "2023-02-21T20:24:59.609Z"
   },
   {
    "duration": 5,
    "start_time": "2023-02-21T20:25:46.940Z"
   },
   {
    "duration": 10,
    "start_time": "2023-02-21T20:25:55.907Z"
   },
   {
    "duration": 13,
    "start_time": "2023-02-21T20:27:03.611Z"
   },
   {
    "duration": 19,
    "start_time": "2023-02-21T20:27:14.489Z"
   },
   {
    "duration": 135,
    "start_time": "2023-02-21T20:27:29.022Z"
   },
   {
    "duration": 68,
    "start_time": "2023-02-21T20:27:36.310Z"
   },
   {
    "duration": 14,
    "start_time": "2023-02-21T20:27:41.561Z"
   },
   {
    "duration": 13,
    "start_time": "2023-02-21T20:27:52.710Z"
   },
   {
    "duration": 644,
    "start_time": "2023-02-21T20:28:32.753Z"
   },
   {
    "duration": 153,
    "start_time": "2023-02-21T20:28:33.399Z"
   },
   {
    "duration": 10,
    "start_time": "2023-02-21T20:28:33.554Z"
   },
   {
    "duration": 5,
    "start_time": "2023-02-21T20:28:33.566Z"
   },
   {
    "duration": 69,
    "start_time": "2023-02-21T20:28:33.574Z"
   },
   {
    "duration": 4,
    "start_time": "2023-02-21T20:28:33.644Z"
   },
   {
    "duration": 79,
    "start_time": "2023-02-21T20:28:33.649Z"
   },
   {
    "duration": 14,
    "start_time": "2023-02-21T20:28:33.730Z"
   },
   {
    "duration": 21,
    "start_time": "2023-02-21T20:28:33.746Z"
   },
   {
    "duration": 40,
    "start_time": "2023-02-21T20:28:33.768Z"
   },
   {
    "duration": 32,
    "start_time": "2023-02-21T20:28:33.810Z"
   },
   {
    "duration": 15,
    "start_time": "2023-02-21T20:28:33.845Z"
   },
   {
    "duration": 34,
    "start_time": "2023-02-21T20:28:33.861Z"
   },
   {
    "duration": 399,
    "start_time": "2023-02-21T20:28:33.898Z"
   },
   {
    "duration": 20,
    "start_time": "2023-02-21T20:28:34.299Z"
   },
   {
    "duration": 4,
    "start_time": "2023-02-21T20:28:34.320Z"
   },
   {
    "duration": 14,
    "start_time": "2023-02-21T20:28:34.325Z"
   },
   {
    "duration": 61,
    "start_time": "2023-02-21T20:28:34.340Z"
   },
   {
    "duration": 22,
    "start_time": "2023-02-21T20:28:34.403Z"
   },
   {
    "duration": 71,
    "start_time": "2023-02-21T20:28:34.426Z"
   },
   {
    "duration": 81,
    "start_time": "2023-02-21T20:28:34.498Z"
   },
   {
    "duration": 393,
    "start_time": "2023-02-21T20:28:34.581Z"
   },
   {
    "duration": 13,
    "start_time": "2023-02-21T20:28:34.976Z"
   },
   {
    "duration": 1303,
    "start_time": "2023-02-21T20:35:46.818Z"
   },
   {
    "duration": 4,
    "start_time": "2023-02-21T20:35:58.216Z"
   },
   {
    "duration": 1091,
    "start_time": "2023-02-21T20:36:32.333Z"
   },
   {
    "duration": 1105,
    "start_time": "2023-02-21T20:36:41.859Z"
   },
   {
    "duration": 87,
    "start_time": "2023-02-21T20:37:13.729Z"
   },
   {
    "duration": 72,
    "start_time": "2023-02-21T20:37:19.090Z"
   },
   {
    "duration": 4,
    "start_time": "2023-02-21T20:37:22.352Z"
   },
   {
    "duration": 69,
    "start_time": "2023-02-21T20:37:29.812Z"
   },
   {
    "duration": 77,
    "start_time": "2023-02-21T20:37:37.075Z"
   },
   {
    "duration": 4,
    "start_time": "2023-02-21T20:38:46.703Z"
   },
   {
    "duration": 11,
    "start_time": "2023-02-21T20:39:34.911Z"
   },
   {
    "duration": 17,
    "start_time": "2023-02-21T20:39:41.681Z"
   },
   {
    "duration": 82,
    "start_time": "2023-02-21T20:39:50.978Z"
   },
   {
    "duration": 5,
    "start_time": "2023-02-21T20:39:55.039Z"
   },
   {
    "duration": 6,
    "start_time": "2023-02-21T20:40:16.127Z"
   },
   {
    "duration": 12,
    "start_time": "2023-02-21T21:07:25.163Z"
   },
   {
    "duration": 10,
    "start_time": "2023-02-21T21:07:52.752Z"
   },
   {
    "duration": 34,
    "start_time": "2023-02-21T21:08:07.612Z"
   },
   {
    "duration": 70,
    "start_time": "2023-02-21T21:09:03.662Z"
   },
   {
    "duration": 50,
    "start_time": "2023-02-21T21:09:17.001Z"
   },
   {
    "duration": 44,
    "start_time": "2023-02-21T21:09:31.363Z"
   },
   {
    "duration": 42,
    "start_time": "2023-02-21T21:09:55.492Z"
   },
   {
    "duration": 906,
    "start_time": "2023-02-22T07:14:08.230Z"
   },
   {
    "duration": 517,
    "start_time": "2023-02-22T07:14:09.139Z"
   },
   {
    "duration": 11,
    "start_time": "2023-02-22T07:14:09.658Z"
   },
   {
    "duration": 32,
    "start_time": "2023-02-22T07:14:09.670Z"
   },
   {
    "duration": 82,
    "start_time": "2023-02-22T07:14:09.704Z"
   },
   {
    "duration": 4,
    "start_time": "2023-02-22T07:14:09.788Z"
   },
   {
    "duration": 90,
    "start_time": "2023-02-22T07:14:09.794Z"
   },
   {
    "duration": 16,
    "start_time": "2023-02-22T07:14:09.886Z"
   },
   {
    "duration": 59,
    "start_time": "2023-02-22T07:14:09.903Z"
   },
   {
    "duration": 39,
    "start_time": "2023-02-22T07:14:09.965Z"
   },
   {
    "duration": 46,
    "start_time": "2023-02-22T07:14:10.006Z"
   },
   {
    "duration": 14,
    "start_time": "2023-02-22T07:14:10.054Z"
   },
   {
    "duration": 14,
    "start_time": "2023-02-22T07:14:10.069Z"
   },
   {
    "duration": 462,
    "start_time": "2023-02-22T07:14:10.084Z"
   },
   {
    "duration": 22,
    "start_time": "2023-02-22T07:14:10.548Z"
   },
   {
    "duration": 3,
    "start_time": "2023-02-22T07:14:10.572Z"
   },
   {
    "duration": 14,
    "start_time": "2023-02-22T07:14:10.577Z"
   },
   {
    "duration": 64,
    "start_time": "2023-02-22T07:14:10.592Z"
   },
   {
    "duration": 21,
    "start_time": "2023-02-22T07:14:10.658Z"
   },
   {
    "duration": 73,
    "start_time": "2023-02-22T07:14:10.681Z"
   },
   {
    "duration": 94,
    "start_time": "2023-02-22T07:14:10.756Z"
   },
   {
    "duration": 429,
    "start_time": "2023-02-22T07:14:10.852Z"
   },
   {
    "duration": 11,
    "start_time": "2023-02-22T07:14:11.284Z"
   },
   {
    "duration": 6,
    "start_time": "2023-02-22T07:14:11.297Z"
   },
   {
    "duration": 79,
    "start_time": "2023-02-22T07:14:11.304Z"
   },
   {
    "duration": 70,
    "start_time": "2023-02-22T07:14:11.385Z"
   },
   {
    "duration": 453,
    "start_time": "2023-02-22T07:18:04.071Z"
   },
   {
    "duration": 104,
    "start_time": "2023-02-22T07:28:58.852Z"
   },
   {
    "duration": 89,
    "start_time": "2023-02-22T07:29:03.812Z"
   },
   {
    "duration": 58,
    "start_time": "2023-02-22T07:29:25.680Z"
   },
   {
    "duration": 75,
    "start_time": "2023-02-22T07:30:07.731Z"
   },
   {
    "duration": 60,
    "start_time": "2023-02-22T07:30:41.334Z"
   },
   {
    "duration": 21,
    "start_time": "2023-02-22T07:31:20.531Z"
   },
   {
    "duration": 16,
    "start_time": "2023-02-22T07:31:41.201Z"
   },
   {
    "duration": 13,
    "start_time": "2023-02-22T08:04:07.730Z"
   },
   {
    "duration": 22,
    "start_time": "2023-02-22T08:05:32.079Z"
   },
   {
    "duration": 157,
    "start_time": "2023-02-22T08:06:45.119Z"
   },
   {
    "duration": 54,
    "start_time": "2023-02-22T08:07:11.811Z"
   },
   {
    "duration": 57,
    "start_time": "2023-02-22T08:07:20.112Z"
   },
   {
    "duration": 53,
    "start_time": "2023-02-22T08:12:04.329Z"
   },
   {
    "duration": 55,
    "start_time": "2023-02-22T08:12:56.019Z"
   },
   {
    "duration": 53,
    "start_time": "2023-02-22T08:14:18.600Z"
   },
   {
    "duration": 10,
    "start_time": "2023-02-22T08:15:08.839Z"
   },
   {
    "duration": 8,
    "start_time": "2023-02-22T08:15:13.421Z"
   },
   {
    "duration": 7,
    "start_time": "2023-02-22T08:15:17.221Z"
   },
   {
    "duration": 6,
    "start_time": "2023-02-22T08:15:28.075Z"
   },
   {
    "duration": 6,
    "start_time": "2023-02-22T08:15:32.469Z"
   },
   {
    "duration": 4,
    "start_time": "2023-02-22T08:20:43.539Z"
   },
   {
    "duration": 6,
    "start_time": "2023-02-22T08:20:50.079Z"
   },
   {
    "duration": 5,
    "start_time": "2023-02-22T08:20:57.319Z"
   },
   {
    "duration": 5,
    "start_time": "2023-02-22T08:21:15.650Z"
   },
   {
    "duration": 5,
    "start_time": "2023-02-22T08:21:21.718Z"
   },
   {
    "duration": 5,
    "start_time": "2023-02-22T08:21:26.108Z"
   },
   {
    "duration": 6,
    "start_time": "2023-02-22T08:21:34.589Z"
   },
   {
    "duration": 11,
    "start_time": "2023-02-22T08:23:48.591Z"
   },
   {
    "duration": 7,
    "start_time": "2023-02-22T08:24:03.399Z"
   },
   {
    "duration": 6,
    "start_time": "2023-02-22T08:24:08.958Z"
   },
   {
    "duration": 10,
    "start_time": "2023-02-22T08:29:08.620Z"
   },
   {
    "duration": 7,
    "start_time": "2023-02-22T08:30:09.131Z"
   },
   {
    "duration": 11,
    "start_time": "2023-02-22T08:31:27.634Z"
   },
   {
    "duration": 11,
    "start_time": "2023-02-22T08:31:31.455Z"
   },
   {
    "duration": 38,
    "start_time": "2023-02-22T08:31:48.051Z"
   },
   {
    "duration": 14,
    "start_time": "2023-02-22T08:32:24.779Z"
   },
   {
    "duration": 99,
    "start_time": "2023-02-22T08:32:35.771Z"
   },
   {
    "duration": 8,
    "start_time": "2023-02-22T08:32:40.649Z"
   },
   {
    "duration": 6,
    "start_time": "2023-02-22T08:33:23.520Z"
   },
   {
    "duration": 14,
    "start_time": "2023-02-22T08:36:30.524Z"
   },
   {
    "duration": 41,
    "start_time": "2023-02-22T08:36:35.499Z"
   },
   {
    "duration": 15,
    "start_time": "2023-02-22T08:36:54.550Z"
   },
   {
    "duration": 6,
    "start_time": "2023-02-22T08:37:11.033Z"
   },
   {
    "duration": 7,
    "start_time": "2023-02-22T08:37:18.088Z"
   },
   {
    "duration": 4,
    "start_time": "2023-02-22T08:37:26.769Z"
   },
   {
    "duration": 10,
    "start_time": "2023-02-22T08:37:56.489Z"
   },
   {
    "duration": 5,
    "start_time": "2023-02-22T08:38:40.558Z"
   },
   {
    "duration": 8,
    "start_time": "2023-02-22T08:38:41.329Z"
   },
   {
    "duration": 6,
    "start_time": "2023-02-22T08:38:55.749Z"
   },
   {
    "duration": 34,
    "start_time": "2023-02-22T08:38:56.828Z"
   },
   {
    "duration": 8,
    "start_time": "2023-02-22T08:39:07.128Z"
   },
   {
    "duration": 14,
    "start_time": "2023-02-22T08:41:34.677Z"
   },
   {
    "duration": 15,
    "start_time": "2023-02-22T08:41:40.431Z"
   },
   {
    "duration": 7,
    "start_time": "2023-02-22T08:42:51.548Z"
   },
   {
    "duration": 11,
    "start_time": "2023-02-22T08:43:14.728Z"
   },
   {
    "duration": 10,
    "start_time": "2023-02-22T08:43:22.949Z"
   },
   {
    "duration": 11,
    "start_time": "2023-02-22T08:45:30.122Z"
   },
   {
    "duration": 14,
    "start_time": "2023-02-22T08:45:40.958Z"
   },
   {
    "duration": 13,
    "start_time": "2023-02-22T08:46:50.854Z"
   },
   {
    "duration": 13,
    "start_time": "2023-02-22T08:47:04.222Z"
   },
   {
    "duration": 11,
    "start_time": "2023-02-22T08:48:40.747Z"
   },
   {
    "duration": 11,
    "start_time": "2023-02-22T08:48:47.481Z"
   },
   {
    "duration": 73,
    "start_time": "2023-02-22T08:48:52.704Z"
   },
   {
    "duration": 10,
    "start_time": "2023-02-22T08:48:59.221Z"
   },
   {
    "duration": 10,
    "start_time": "2023-02-22T08:49:07.259Z"
   },
   {
    "duration": 10,
    "start_time": "2023-02-22T08:49:11.919Z"
   },
   {
    "duration": 4,
    "start_time": "2023-02-22T08:49:26.941Z"
   },
   {
    "duration": 6,
    "start_time": "2023-02-22T08:49:57.189Z"
   },
   {
    "duration": 20,
    "start_time": "2023-02-22T08:50:04.107Z"
   },
   {
    "duration": 22,
    "start_time": "2023-02-22T08:50:10.938Z"
   },
   {
    "duration": 10,
    "start_time": "2023-02-22T08:50:23.269Z"
   },
   {
    "duration": 17,
    "start_time": "2023-02-22T08:50:29.459Z"
   },
   {
    "duration": 17,
    "start_time": "2023-02-22T08:51:09.791Z"
   },
   {
    "duration": 34,
    "start_time": "2023-02-22T08:51:36.188Z"
   },
   {
    "duration": 31,
    "start_time": "2023-02-22T08:52:56.248Z"
   },
   {
    "duration": 32,
    "start_time": "2023-02-22T08:53:25.532Z"
   },
   {
    "duration": 34,
    "start_time": "2023-02-22T08:54:39.620Z"
   },
   {
    "duration": 39,
    "start_time": "2023-02-22T08:54:50.529Z"
   },
   {
    "duration": 46,
    "start_time": "2023-02-22T08:55:25.658Z"
   },
   {
    "duration": 45,
    "start_time": "2023-02-22T08:55:53.959Z"
   },
   {
    "duration": 47,
    "start_time": "2023-02-22T08:56:00.871Z"
   },
   {
    "duration": 72,
    "start_time": "2023-02-22T08:56:18.928Z"
   },
   {
    "duration": 67,
    "start_time": "2023-02-22T08:56:28.638Z"
   },
   {
    "duration": 72,
    "start_time": "2023-02-22T08:56:47.419Z"
   },
   {
    "duration": 3,
    "start_time": "2023-02-22T08:59:19.024Z"
   },
   {
    "duration": 42,
    "start_time": "2023-02-22T09:00:16.949Z"
   },
   {
    "duration": 115,
    "start_time": "2023-02-22T09:00:57.576Z"
   },
   {
    "duration": 75,
    "start_time": "2023-02-22T09:01:11.841Z"
   },
   {
    "duration": 88,
    "start_time": "2023-02-22T09:01:23.360Z"
   },
   {
    "duration": 138,
    "start_time": "2023-02-22T09:01:36.530Z"
   },
   {
    "duration": 74,
    "start_time": "2023-02-22T09:02:26.130Z"
   },
   {
    "duration": 90,
    "start_time": "2023-02-22T09:02:33.849Z"
   },
   {
    "duration": 156,
    "start_time": "2023-02-22T09:02:40.600Z"
   },
   {
    "duration": 106,
    "start_time": "2023-02-22T09:02:52.180Z"
   },
   {
    "duration": 108,
    "start_time": "2023-02-22T09:03:01.160Z"
   },
   {
    "duration": 3,
    "start_time": "2023-02-22T09:03:34.331Z"
   },
   {
    "duration": 60,
    "start_time": "2023-02-22T09:04:19.290Z"
   },
   {
    "duration": 62,
    "start_time": "2023-02-22T09:18:14.639Z"
   },
   {
    "duration": 64,
    "start_time": "2023-02-22T09:18:41.402Z"
   },
   {
    "duration": 63,
    "start_time": "2023-02-22T09:18:54.291Z"
   },
   {
    "duration": 42,
    "start_time": "2023-02-22T09:24:05.094Z"
   },
   {
    "duration": 1347,
    "start_time": "2023-02-22T13:52:46.591Z"
   },
   {
    "duration": 781,
    "start_time": "2023-02-22T13:52:47.940Z"
   },
   {
    "duration": 21,
    "start_time": "2023-02-22T13:52:48.723Z"
   },
   {
    "duration": 4,
    "start_time": "2023-02-22T13:52:48.746Z"
   },
   {
    "duration": 71,
    "start_time": "2023-02-22T13:52:48.752Z"
   },
   {
    "duration": 3,
    "start_time": "2023-02-22T13:52:48.827Z"
   },
   {
    "duration": 101,
    "start_time": "2023-02-22T13:52:48.831Z"
   },
   {
    "duration": 14,
    "start_time": "2023-02-22T13:52:48.937Z"
   },
   {
    "duration": 22,
    "start_time": "2023-02-22T13:52:48.953Z"
   },
   {
    "duration": 18,
    "start_time": "2023-02-22T13:52:48.978Z"
   },
   {
    "duration": 57,
    "start_time": "2023-02-22T13:52:48.997Z"
   },
   {
    "duration": 12,
    "start_time": "2023-02-22T13:52:49.056Z"
   },
   {
    "duration": 5,
    "start_time": "2023-02-22T13:52:49.069Z"
   },
   {
    "duration": 473,
    "start_time": "2023-02-22T13:52:49.076Z"
   },
   {
    "duration": 21,
    "start_time": "2023-02-22T13:52:49.551Z"
   },
   {
    "duration": 4,
    "start_time": "2023-02-22T13:52:49.574Z"
   },
   {
    "duration": 16,
    "start_time": "2023-02-22T13:52:49.579Z"
   },
   {
    "duration": 70,
    "start_time": "2023-02-22T13:52:49.597Z"
   },
   {
    "duration": 21,
    "start_time": "2023-02-22T13:52:49.669Z"
   },
   {
    "duration": 79,
    "start_time": "2023-02-22T13:52:49.691Z"
   },
   {
    "duration": 102,
    "start_time": "2023-02-22T13:52:49.771Z"
   },
   {
    "duration": 479,
    "start_time": "2023-02-22T13:52:49.875Z"
   },
   {
    "duration": 13,
    "start_time": "2023-02-22T13:52:50.356Z"
   },
   {
    "duration": 64,
    "start_time": "2023-02-22T13:52:50.371Z"
   },
   {
    "duration": 129,
    "start_time": "2023-02-22T13:52:50.436Z"
   },
   {
    "duration": 7,
    "start_time": "2023-02-22T13:52:50.567Z"
   },
   {
    "duration": 130,
    "start_time": "2023-02-22T13:52:50.576Z"
   },
   {
    "duration": 49,
    "start_time": "2023-02-22T13:52:50.710Z"
   },
   {
    "duration": 2,
    "start_time": "2023-02-22T13:52:50.761Z"
   },
   {
    "duration": 42,
    "start_time": "2023-02-22T13:53:03.835Z"
   },
   {
    "duration": 15,
    "start_time": "2023-02-22T13:53:11.603Z"
   },
   {
    "duration": 19,
    "start_time": "2023-02-22T13:53:17.302Z"
   },
   {
    "duration": 29,
    "start_time": "2023-02-22T13:53:32.374Z"
   },
   {
    "duration": 48,
    "start_time": "2023-02-22T14:04:04.873Z"
   },
   {
    "duration": 4,
    "start_time": "2023-02-22T14:04:10.502Z"
   },
   {
    "duration": 183,
    "start_time": "2023-02-22T14:04:43.026Z"
   },
   {
    "duration": 3,
    "start_time": "2023-02-22T14:05:20.691Z"
   },
   {
    "duration": 35,
    "start_time": "2023-02-22T14:05:23.339Z"
   },
   {
    "duration": 3,
    "start_time": "2023-02-22T14:05:31.513Z"
   },
   {
    "duration": 24,
    "start_time": "2023-02-22T14:05:34.082Z"
   },
   {
    "duration": 25,
    "start_time": "2023-02-22T14:05:41.608Z"
   },
   {
    "duration": 3,
    "start_time": "2023-02-22T14:06:17.206Z"
   },
   {
    "duration": 40,
    "start_time": "2023-02-22T14:06:17.813Z"
   },
   {
    "duration": 3,
    "start_time": "2023-02-22T14:06:25.863Z"
   },
   {
    "duration": 40,
    "start_time": "2023-02-22T14:06:26.654Z"
   },
   {
    "duration": 39,
    "start_time": "2023-02-22T14:07:09.945Z"
   },
   {
    "duration": 58,
    "start_time": "2023-02-22T14:07:14.893Z"
   },
   {
    "duration": 44,
    "start_time": "2023-02-22T14:07:31.242Z"
   },
   {
    "duration": 11,
    "start_time": "2023-02-22T14:13:19.172Z"
   },
   {
    "duration": 92,
    "start_time": "2023-02-22T14:13:24.995Z"
   },
   {
    "duration": 8,
    "start_time": "2023-02-22T14:13:26.302Z"
   },
   {
    "duration": 68,
    "start_time": "2023-02-22T14:15:03.982Z"
   },
   {
    "duration": 889,
    "start_time": "2023-02-22T14:22:21.967Z"
   },
   {
    "duration": 5,
    "start_time": "2023-02-22T14:22:51.343Z"
   },
   {
    "duration": 12,
    "start_time": "2023-02-22T14:25:24.292Z"
   },
   {
    "duration": 10,
    "start_time": "2023-02-22T14:25:56.149Z"
   },
   {
    "duration": 8,
    "start_time": "2023-02-22T14:26:11.543Z"
   },
   {
    "duration": 7,
    "start_time": "2023-02-22T14:28:05.743Z"
   },
   {
    "duration": 753,
    "start_time": "2023-02-22T14:28:58.834Z"
   },
   {
    "duration": 44,
    "start_time": "2023-02-22T14:29:15.974Z"
   },
   {
    "duration": 53,
    "start_time": "2023-02-22T14:29:31.991Z"
   },
   {
    "duration": 726,
    "start_time": "2023-02-22T14:29:37.703Z"
   },
   {
    "duration": 5,
    "start_time": "2023-02-22T14:29:50.072Z"
   },
   {
    "duration": 50,
    "start_time": "2023-02-22T14:29:57.892Z"
   },
   {
    "duration": 40,
    "start_time": "2023-02-22T14:30:00.053Z"
   },
   {
    "duration": 47,
    "start_time": "2023-02-22T14:30:23.374Z"
   },
   {
    "duration": 34,
    "start_time": "2023-02-22T14:30:28.716Z"
   },
   {
    "duration": 5,
    "start_time": "2023-02-22T14:30:45.262Z"
   },
   {
    "duration": 60,
    "start_time": "2023-02-22T14:39:35.848Z"
   },
   {
    "duration": 73,
    "start_time": "2023-02-22T14:41:00.922Z"
   },
   {
    "duration": 11,
    "start_time": "2023-02-22T14:41:06.553Z"
   },
   {
    "duration": 13,
    "start_time": "2023-02-22T14:41:20.112Z"
   },
   {
    "duration": 8,
    "start_time": "2023-02-22T14:42:16.844Z"
   },
   {
    "duration": 1348,
    "start_time": "2023-02-22T16:55:13.079Z"
   },
   {
    "duration": 512,
    "start_time": "2023-02-22T16:55:14.429Z"
   },
   {
    "duration": 12,
    "start_time": "2023-02-22T16:55:14.942Z"
   },
   {
    "duration": 3,
    "start_time": "2023-02-22T16:55:14.956Z"
   },
   {
    "duration": 68,
    "start_time": "2023-02-22T16:55:14.961Z"
   },
   {
    "duration": 3,
    "start_time": "2023-02-22T16:55:15.031Z"
   },
   {
    "duration": 74,
    "start_time": "2023-02-22T16:55:15.036Z"
   },
   {
    "duration": 14,
    "start_time": "2023-02-22T16:55:15.112Z"
   },
   {
    "duration": 26,
    "start_time": "2023-02-22T16:55:15.128Z"
   },
   {
    "duration": 41,
    "start_time": "2023-02-22T16:55:15.157Z"
   },
   {
    "duration": 24,
    "start_time": "2023-02-22T16:55:15.200Z"
   },
   {
    "duration": 11,
    "start_time": "2023-02-22T16:55:15.226Z"
   },
   {
    "duration": 5,
    "start_time": "2023-02-22T16:55:15.238Z"
   },
   {
    "duration": 427,
    "start_time": "2023-02-22T16:55:15.244Z"
   },
   {
    "duration": 26,
    "start_time": "2023-02-22T16:55:15.672Z"
   },
   {
    "duration": 3,
    "start_time": "2023-02-22T16:55:15.700Z"
   },
   {
    "duration": 15,
    "start_time": "2023-02-22T16:55:15.705Z"
   },
   {
    "duration": 39,
    "start_time": "2023-02-22T16:55:15.722Z"
   },
   {
    "duration": 38,
    "start_time": "2023-02-22T16:55:15.763Z"
   },
   {
    "duration": 59,
    "start_time": "2023-02-22T16:55:15.803Z"
   },
   {
    "duration": 101,
    "start_time": "2023-02-22T16:55:15.864Z"
   },
   {
    "duration": 428,
    "start_time": "2023-02-22T16:55:15.967Z"
   },
   {
    "duration": 10,
    "start_time": "2023-02-22T16:55:16.398Z"
   },
   {
    "duration": 23,
    "start_time": "2023-02-22T16:55:16.409Z"
   },
   {
    "duration": 163,
    "start_time": "2023-02-22T16:55:16.434Z"
   },
   {
    "duration": 8,
    "start_time": "2023-02-22T16:55:16.600Z"
   },
   {
    "duration": 107,
    "start_time": "2023-02-22T16:55:16.610Z"
   },
   {
    "duration": 57,
    "start_time": "2023-02-22T16:55:16.721Z"
   },
   {
    "duration": 4,
    "start_time": "2023-02-22T16:55:16.791Z"
   },
   {
    "duration": 75,
    "start_time": "2023-02-22T16:55:16.797Z"
   },
   {
    "duration": 5,
    "start_time": "2023-02-22T16:55:16.873Z"
   },
   {
    "duration": 7,
    "start_time": "2023-02-22T16:55:16.890Z"
   },
   {
    "duration": 7,
    "start_time": "2023-02-22T16:55:16.899Z"
   },
   {
    "duration": 4,
    "start_time": "2023-02-22T16:58:49.898Z"
   },
   {
    "duration": 58,
    "start_time": "2023-02-22T16:58:52.348Z"
   },
   {
    "duration": 6,
    "start_time": "2023-02-22T16:58:53.719Z"
   },
   {
    "duration": 93,
    "start_time": "2023-02-22T16:59:17.390Z"
   },
   {
    "duration": 160,
    "start_time": "2023-02-22T17:00:08.600Z"
   },
   {
    "duration": 8,
    "start_time": "2023-02-22T17:00:19.869Z"
   },
   {
    "duration": 6,
    "start_time": "2023-02-22T17:00:21.170Z"
   },
   {
    "duration": 7,
    "start_time": "2023-02-22T17:00:22.759Z"
   },
   {
    "duration": 93,
    "start_time": "2023-02-22T17:01:03.214Z"
   },
   {
    "duration": 9,
    "start_time": "2023-02-22T17:01:15.848Z"
   },
   {
    "duration": 39,
    "start_time": "2023-02-22T17:02:43.557Z"
   },
   {
    "duration": 35,
    "start_time": "2023-02-22T17:03:27.479Z"
   },
   {
    "duration": 3,
    "start_time": "2023-02-22T17:08:43.297Z"
   },
   {
    "duration": 97,
    "start_time": "2023-02-22T17:08:43.978Z"
   },
   {
    "duration": 6,
    "start_time": "2023-02-22T17:08:46.880Z"
   },
   {
    "duration": 40,
    "start_time": "2023-02-22T17:11:31.813Z"
   },
   {
    "duration": 36,
    "start_time": "2023-02-22T17:11:48.298Z"
   },
   {
    "duration": 38,
    "start_time": "2023-02-22T17:13:13.269Z"
   },
   {
    "duration": 10,
    "start_time": "2023-02-22T17:15:05.459Z"
   },
   {
    "duration": 28,
    "start_time": "2023-02-22T17:15:50.378Z"
   },
   {
    "duration": 15,
    "start_time": "2023-02-22T17:15:59.750Z"
   },
   {
    "duration": 19,
    "start_time": "2023-02-22T17:16:06.280Z"
   },
   {
    "duration": 17,
    "start_time": "2023-02-22T17:16:17.379Z"
   },
   {
    "duration": 20,
    "start_time": "2023-02-22T17:16:26.109Z"
   },
   {
    "duration": 32,
    "start_time": "2023-02-22T17:16:46.078Z"
   },
   {
    "duration": 21,
    "start_time": "2023-02-22T17:17:21.419Z"
   },
   {
    "duration": 20,
    "start_time": "2023-02-22T17:17:27.728Z"
   },
   {
    "duration": 15,
    "start_time": "2023-02-22T17:17:32.679Z"
   },
   {
    "duration": 4,
    "start_time": "2023-02-22T17:18:19.668Z"
   },
   {
    "duration": 9820,
    "start_time": "2023-02-22T17:18:20.529Z"
   },
   {
    "duration": 4,
    "start_time": "2023-02-22T17:18:42.359Z"
   },
   {
    "duration": 106,
    "start_time": "2023-02-22T17:18:43.229Z"
   },
   {
    "duration": 7,
    "start_time": "2023-02-22T17:18:46.788Z"
   },
   {
    "duration": 7,
    "start_time": "2023-02-22T17:18:48.286Z"
   },
   {
    "duration": 8,
    "start_time": "2023-02-22T17:18:49.725Z"
   },
   {
    "duration": 6,
    "start_time": "2023-02-22T17:18:50.576Z"
   },
   {
    "duration": 4,
    "start_time": "2023-02-22T17:19:09.019Z"
   },
   {
    "duration": 104,
    "start_time": "2023-02-22T17:19:11.051Z"
   },
   {
    "duration": 6,
    "start_time": "2023-02-22T17:19:54.233Z"
   },
   {
    "duration": 6,
    "start_time": "2023-02-22T17:19:55.579Z"
   },
   {
    "duration": 7,
    "start_time": "2023-02-22T17:19:57.327Z"
   },
   {
    "duration": 4,
    "start_time": "2023-02-22T17:21:26.510Z"
   },
   {
    "duration": 103,
    "start_time": "2023-02-22T17:21:27.369Z"
   },
   {
    "duration": 6,
    "start_time": "2023-02-22T17:21:28.414Z"
   },
   {
    "duration": 4,
    "start_time": "2023-02-22T17:21:44.259Z"
   },
   {
    "duration": 42,
    "start_time": "2023-02-22T17:21:45.830Z"
   },
   {
    "duration": 4,
    "start_time": "2023-02-22T17:21:50.619Z"
   },
   {
    "duration": 39,
    "start_time": "2023-02-22T17:21:50.819Z"
   },
   {
    "duration": 4,
    "start_time": "2023-02-22T17:22:02.028Z"
   },
   {
    "duration": 133,
    "start_time": "2023-02-22T17:22:03.069Z"
   },
   {
    "duration": 6,
    "start_time": "2023-02-22T17:22:04.228Z"
   },
   {
    "duration": 4,
    "start_time": "2023-02-22T17:22:16.229Z"
   },
   {
    "duration": 168,
    "start_time": "2023-02-22T17:22:17.740Z"
   },
   {
    "duration": 7,
    "start_time": "2023-02-22T17:22:19.098Z"
   },
   {
    "duration": 7,
    "start_time": "2023-02-22T17:22:20.841Z"
   },
   {
    "duration": 8,
    "start_time": "2023-02-22T17:22:22.530Z"
   },
   {
    "duration": 8,
    "start_time": "2023-02-22T17:22:35.008Z"
   },
   {
    "duration": 1332,
    "start_time": "2023-02-22T19:24:42.691Z"
   },
   {
    "duration": 951,
    "start_time": "2023-02-22T19:24:44.024Z"
   },
   {
    "duration": 13,
    "start_time": "2023-02-22T19:24:44.976Z"
   },
   {
    "duration": 3,
    "start_time": "2023-02-22T19:24:44.990Z"
   },
   {
    "duration": 77,
    "start_time": "2023-02-22T19:24:44.994Z"
   },
   {
    "duration": 4,
    "start_time": "2023-02-22T19:24:45.074Z"
   },
   {
    "duration": 82,
    "start_time": "2023-02-22T19:24:45.080Z"
   },
   {
    "duration": 15,
    "start_time": "2023-02-22T19:24:45.164Z"
   },
   {
    "duration": 24,
    "start_time": "2023-02-22T19:24:45.180Z"
   },
   {
    "duration": 25,
    "start_time": "2023-02-22T19:24:45.206Z"
   },
   {
    "duration": 50,
    "start_time": "2023-02-22T19:24:45.232Z"
   },
   {
    "duration": 14,
    "start_time": "2023-02-22T19:24:45.283Z"
   },
   {
    "duration": 5,
    "start_time": "2023-02-22T19:24:45.299Z"
   },
   {
    "duration": 462,
    "start_time": "2023-02-22T19:24:45.306Z"
   },
   {
    "duration": 18,
    "start_time": "2023-02-22T19:24:45.770Z"
   },
   {
    "duration": 4,
    "start_time": "2023-02-22T19:24:45.790Z"
   },
   {
    "duration": 13,
    "start_time": "2023-02-22T19:24:45.796Z"
   },
   {
    "duration": 62,
    "start_time": "2023-02-22T19:24:45.810Z"
   },
   {
    "duration": 23,
    "start_time": "2023-02-22T19:24:45.874Z"
   },
   {
    "duration": 72,
    "start_time": "2023-02-22T19:24:45.898Z"
   },
   {
    "duration": 103,
    "start_time": "2023-02-22T19:24:45.971Z"
   },
   {
    "duration": 451,
    "start_time": "2023-02-22T19:24:46.076Z"
   },
   {
    "duration": 16,
    "start_time": "2023-02-22T19:24:46.529Z"
   },
   {
    "duration": 21,
    "start_time": "2023-02-22T19:24:46.552Z"
   },
   {
    "duration": 117,
    "start_time": "2023-02-22T19:24:46.575Z"
   },
   {
    "duration": 8,
    "start_time": "2023-02-22T19:24:46.697Z"
   },
   {
    "duration": 89,
    "start_time": "2023-02-22T19:24:46.706Z"
   },
   {
    "duration": 58,
    "start_time": "2023-02-22T19:24:46.798Z"
   },
   {
    "duration": 4,
    "start_time": "2023-02-22T19:24:46.857Z"
   },
   {
    "duration": 131,
    "start_time": "2023-02-22T19:24:46.863Z"
   },
   {
    "duration": 7,
    "start_time": "2023-02-22T19:24:46.996Z"
   },
   {
    "duration": 8,
    "start_time": "2023-02-22T19:24:47.005Z"
   },
   {
    "duration": 10,
    "start_time": "2023-02-22T19:24:47.015Z"
   },
   {
    "duration": 30,
    "start_time": "2023-02-22T19:24:47.027Z"
   },
   {
    "duration": 42,
    "start_time": "2023-02-22T19:24:47.059Z"
   },
   {
    "duration": 0,
    "start_time": "2023-02-22T19:24:47.103Z"
   },
   {
    "duration": 0,
    "start_time": "2023-02-22T19:24:47.104Z"
   },
   {
    "duration": 0,
    "start_time": "2023-02-22T19:24:47.105Z"
   },
   {
    "duration": 0,
    "start_time": "2023-02-22T19:24:47.106Z"
   },
   {
    "duration": 0,
    "start_time": "2023-02-22T19:24:47.107Z"
   },
   {
    "duration": 0,
    "start_time": "2023-02-22T19:24:47.108Z"
   },
   {
    "duration": 3,
    "start_time": "2023-02-22T19:25:37.931Z"
   },
   {
    "duration": 112,
    "start_time": "2023-02-22T19:25:38.652Z"
   },
   {
    "duration": 8,
    "start_time": "2023-02-22T19:25:39.584Z"
   },
   {
    "duration": 6,
    "start_time": "2023-02-22T19:25:41.442Z"
   },
   {
    "duration": 9,
    "start_time": "2023-02-22T19:25:42.781Z"
   },
   {
    "duration": 6,
    "start_time": "2023-02-22T19:25:43.929Z"
   },
   {
    "duration": 174,
    "start_time": "2023-02-22T19:34:27.427Z"
   },
   {
    "duration": 699,
    "start_time": "2023-02-22T19:34:40.222Z"
   },
   {
    "duration": 670,
    "start_time": "2023-02-22T19:34:55.831Z"
   },
   {
    "duration": 668,
    "start_time": "2023-02-22T19:35:23.592Z"
   },
   {
    "duration": 5,
    "start_time": "2023-02-22T19:35:34.328Z"
   },
   {
    "duration": 4,
    "start_time": "2023-02-22T19:35:43.471Z"
   },
   {
    "duration": 17,
    "start_time": "2023-02-22T19:36:28.239Z"
   },
   {
    "duration": 15,
    "start_time": "2023-02-22T19:38:39.581Z"
   },
   {
    "duration": 7,
    "start_time": "2023-02-22T19:39:09.370Z"
   },
   {
    "duration": 9,
    "start_time": "2023-02-22T19:42:40.730Z"
   },
   {
    "duration": 6,
    "start_time": "2023-02-22T19:42:42.583Z"
   },
   {
    "duration": 5,
    "start_time": "2023-02-22T19:42:50.191Z"
   },
   {
    "duration": 5,
    "start_time": "2023-02-22T19:44:38.022Z"
   },
   {
    "duration": 5,
    "start_time": "2023-02-22T19:44:50.472Z"
   },
   {
    "duration": 10,
    "start_time": "2023-02-22T19:46:21.142Z"
   },
   {
    "duration": 5,
    "start_time": "2023-02-22T19:46:25.830Z"
   },
   {
    "duration": 11,
    "start_time": "2023-02-22T19:47:16.352Z"
   },
   {
    "duration": 9,
    "start_time": "2023-02-22T19:47:26.221Z"
   },
   {
    "duration": 8,
    "start_time": "2023-02-22T19:48:03.152Z"
   },
   {
    "duration": 11,
    "start_time": "2023-02-22T19:48:31.051Z"
   },
   {
    "duration": 9,
    "start_time": "2023-02-22T19:48:40.563Z"
   },
   {
    "duration": 9,
    "start_time": "2023-02-22T19:50:16.882Z"
   },
   {
    "duration": 7,
    "start_time": "2023-02-22T19:51:37.222Z"
   },
   {
    "duration": 8,
    "start_time": "2023-02-22T19:54:09.533Z"
   },
   {
    "duration": 7,
    "start_time": "2023-02-22T19:54:13.662Z"
   },
   {
    "duration": 10,
    "start_time": "2023-02-22T19:54:46.742Z"
   },
   {
    "duration": 18,
    "start_time": "2023-02-22T19:55:14.831Z"
   },
   {
    "duration": 11,
    "start_time": "2023-02-22T19:58:15.914Z"
   },
   {
    "duration": 46,
    "start_time": "2023-02-22T19:58:36.431Z"
   },
   {
    "duration": 11,
    "start_time": "2023-02-22T19:58:43.741Z"
   },
   {
    "duration": 10,
    "start_time": "2023-02-22T19:58:53.924Z"
   },
   {
    "duration": 10,
    "start_time": "2023-02-22T19:59:01.881Z"
   },
   {
    "duration": 10,
    "start_time": "2023-02-22T19:59:10.482Z"
   },
   {
    "duration": 8,
    "start_time": "2023-02-22T19:59:12.542Z"
   },
   {
    "duration": 11,
    "start_time": "2023-02-22T20:00:00.593Z"
   },
   {
    "duration": 6,
    "start_time": "2023-02-22T20:21:22.193Z"
   },
   {
    "duration": 9,
    "start_time": "2023-02-22T20:21:32.426Z"
   },
   {
    "duration": 9,
    "start_time": "2023-02-22T20:23:21.317Z"
   },
   {
    "duration": 9,
    "start_time": "2023-02-22T20:23:22.264Z"
   },
   {
    "duration": 9,
    "start_time": "2023-02-22T20:23:23.586Z"
   },
   {
    "duration": 10,
    "start_time": "2023-02-22T20:23:24.750Z"
   },
   {
    "duration": 1146,
    "start_time": "2023-02-22T20:38:34.665Z"
   },
   {
    "duration": 159,
    "start_time": "2023-02-22T20:38:35.813Z"
   },
   {
    "duration": 13,
    "start_time": "2023-02-22T20:38:35.974Z"
   },
   {
    "duration": 20,
    "start_time": "2023-02-22T20:38:35.989Z"
   },
   {
    "duration": 86,
    "start_time": "2023-02-22T20:38:36.010Z"
   },
   {
    "duration": 3,
    "start_time": "2023-02-22T20:38:36.098Z"
   },
   {
    "duration": 92,
    "start_time": "2023-02-22T20:38:36.103Z"
   },
   {
    "duration": 16,
    "start_time": "2023-02-22T20:38:36.197Z"
   },
   {
    "duration": 40,
    "start_time": "2023-02-22T20:38:36.215Z"
   },
   {
    "duration": 21,
    "start_time": "2023-02-22T20:38:36.257Z"
   },
   {
    "duration": 26,
    "start_time": "2023-02-22T20:38:36.280Z"
   },
   {
    "duration": 13,
    "start_time": "2023-02-22T20:38:36.307Z"
   },
   {
    "duration": 35,
    "start_time": "2023-02-22T20:38:36.322Z"
   },
   {
    "duration": 452,
    "start_time": "2023-02-22T20:38:36.358Z"
   },
   {
    "duration": 22,
    "start_time": "2023-02-22T20:38:36.811Z"
   },
   {
    "duration": 4,
    "start_time": "2023-02-22T20:38:36.834Z"
   },
   {
    "duration": 13,
    "start_time": "2023-02-22T20:38:36.853Z"
   },
   {
    "duration": 42,
    "start_time": "2023-02-22T20:38:36.867Z"
   },
   {
    "duration": 21,
    "start_time": "2023-02-22T20:38:36.911Z"
   },
   {
    "duration": 60,
    "start_time": "2023-02-22T20:38:36.954Z"
   },
   {
    "duration": 107,
    "start_time": "2023-02-22T20:38:37.016Z"
   },
   {
    "duration": 502,
    "start_time": "2023-02-22T20:38:37.125Z"
   },
   {
    "duration": 22,
    "start_time": "2023-02-22T20:38:37.629Z"
   },
   {
    "duration": 116,
    "start_time": "2023-02-22T20:38:37.652Z"
   },
   {
    "duration": 5,
    "start_time": "2023-02-22T20:38:37.770Z"
   },
   {
    "duration": 80,
    "start_time": "2023-02-22T20:38:37.776Z"
   },
   {
    "duration": 39,
    "start_time": "2023-02-22T20:38:37.858Z"
   },
   {
    "duration": 4,
    "start_time": "2023-02-22T20:38:37.901Z"
   },
   {
    "duration": 131,
    "start_time": "2023-02-22T20:38:37.906Z"
   },
   {
    "duration": 23,
    "start_time": "2023-02-22T20:38:38.039Z"
   },
   {
    "duration": 5,
    "start_time": "2023-02-22T20:38:38.064Z"
   },
   {
    "duration": 19,
    "start_time": "2023-02-22T20:38:38.071Z"
   },
   {
    "duration": 11,
    "start_time": "2023-02-22T20:38:38.092Z"
   },
   {
    "duration": 28,
    "start_time": "2023-02-22T20:38:38.104Z"
   },
   {
    "duration": 14,
    "start_time": "2023-02-22T20:38:38.134Z"
   },
   {
    "duration": 4,
    "start_time": "2023-02-22T20:43:15.166Z"
   },
   {
    "duration": 125,
    "start_time": "2023-02-22T20:43:16.076Z"
   },
   {
    "duration": 18,
    "start_time": "2023-02-22T20:43:16.648Z"
   },
   {
    "duration": 4,
    "start_time": "2023-02-22T20:45:10.246Z"
   },
   {
    "duration": 125,
    "start_time": "2023-02-22T20:45:11.076Z"
   },
   {
    "duration": 25,
    "start_time": "2023-02-22T20:45:12.306Z"
   },
   {
    "duration": 4,
    "start_time": "2023-02-22T20:45:46.415Z"
   },
   {
    "duration": 120,
    "start_time": "2023-02-22T20:45:48.014Z"
   },
   {
    "duration": 21,
    "start_time": "2023-02-22T20:45:48.609Z"
   },
   {
    "duration": 4,
    "start_time": "2023-02-22T20:46:17.367Z"
   },
   {
    "duration": 115,
    "start_time": "2023-02-22T20:46:18.255Z"
   },
   {
    "duration": 21,
    "start_time": "2023-02-22T20:46:18.965Z"
   },
   {
    "duration": 9,
    "start_time": "2023-02-22T20:51:10.406Z"
   },
   {
    "duration": 10,
    "start_time": "2023-02-22T20:51:11.606Z"
   },
   {
    "duration": 9,
    "start_time": "2023-02-22T20:51:12.606Z"
   },
   {
    "duration": 10,
    "start_time": "2023-02-22T20:51:39.715Z"
   },
   {
    "duration": 10,
    "start_time": "2023-02-22T20:51:40.345Z"
   },
   {
    "duration": 10,
    "start_time": "2023-02-22T20:51:40.845Z"
   },
   {
    "duration": 9,
    "start_time": "2023-02-22T20:51:41.396Z"
   },
   {
    "duration": 9,
    "start_time": "2023-02-22T20:51:41.946Z"
   },
   {
    "duration": 10,
    "start_time": "2023-02-22T20:51:42.466Z"
   },
   {
    "duration": 9,
    "start_time": "2023-02-22T20:51:42.954Z"
   },
   {
    "duration": 11,
    "start_time": "2023-02-22T20:51:47.528Z"
   },
   {
    "duration": 8,
    "start_time": "2023-02-22T20:51:48.016Z"
   },
   {
    "duration": 9,
    "start_time": "2023-02-22T20:51:48.486Z"
   },
   {
    "duration": 8,
    "start_time": "2023-02-22T20:51:48.906Z"
   },
   {
    "duration": 10,
    "start_time": "2023-02-22T20:51:49.425Z"
   },
   {
    "duration": 8,
    "start_time": "2023-02-22T20:51:52.347Z"
   },
   {
    "duration": 10,
    "start_time": "2023-02-22T20:51:52.835Z"
   },
   {
    "duration": 9,
    "start_time": "2023-02-22T20:51:53.256Z"
   },
   {
    "duration": 9,
    "start_time": "2023-02-22T20:51:53.686Z"
   },
   {
    "duration": 10,
    "start_time": "2023-02-22T20:51:54.146Z"
   },
   {
    "duration": 8,
    "start_time": "2023-02-22T20:51:54.606Z"
   },
   {
    "duration": 10,
    "start_time": "2023-02-22T20:51:55.076Z"
   },
   {
    "duration": 10,
    "start_time": "2023-02-22T20:51:55.557Z"
   },
   {
    "duration": 9,
    "start_time": "2023-02-22T20:51:55.996Z"
   },
   {
    "duration": 10,
    "start_time": "2023-02-22T20:51:56.435Z"
   },
   {
    "duration": 10,
    "start_time": "2023-02-22T20:51:56.927Z"
   },
   {
    "duration": 12,
    "start_time": "2023-02-22T20:51:57.355Z"
   },
   {
    "duration": 10,
    "start_time": "2023-02-22T20:51:57.837Z"
   },
   {
    "duration": 10,
    "start_time": "2023-02-22T20:51:58.295Z"
   },
   {
    "duration": 8,
    "start_time": "2023-02-22T20:51:58.815Z"
   },
   {
    "duration": 9,
    "start_time": "2023-02-22T20:51:59.275Z"
   },
   {
    "duration": 11,
    "start_time": "2023-02-22T20:51:59.795Z"
   },
   {
    "duration": 11,
    "start_time": "2023-02-22T20:52:00.485Z"
   },
   {
    "duration": 9,
    "start_time": "2023-02-22T20:52:00.796Z"
   },
   {
    "duration": 9,
    "start_time": "2023-02-22T20:52:01.423Z"
   },
   {
    "duration": 10,
    "start_time": "2023-02-22T20:52:01.916Z"
   },
   {
    "duration": 9,
    "start_time": "2023-02-22T20:52:02.444Z"
   },
   {
    "duration": 10,
    "start_time": "2023-02-22T20:52:03.476Z"
   },
   {
    "duration": 9,
    "start_time": "2023-02-22T20:52:04.006Z"
   },
   {
    "duration": 9,
    "start_time": "2023-02-22T20:52:04.477Z"
   },
   {
    "duration": 10,
    "start_time": "2023-02-22T20:52:04.946Z"
   },
   {
    "duration": 9,
    "start_time": "2023-02-22T20:52:05.636Z"
   },
   {
    "duration": 11,
    "start_time": "2023-02-22T20:52:06.207Z"
   },
   {
    "duration": 9,
    "start_time": "2023-02-22T20:52:06.936Z"
   },
   {
    "duration": 11,
    "start_time": "2023-02-22T20:52:12.095Z"
   },
   {
    "duration": 1296,
    "start_time": "2023-02-23T08:52:19.872Z"
   },
   {
    "duration": 159,
    "start_time": "2023-02-23T08:52:21.170Z"
   },
   {
    "duration": 13,
    "start_time": "2023-02-23T08:52:21.330Z"
   },
   {
    "duration": 4,
    "start_time": "2023-02-23T08:52:21.345Z"
   },
   {
    "duration": 85,
    "start_time": "2023-02-23T08:52:21.352Z"
   },
   {
    "duration": 4,
    "start_time": "2023-02-23T08:52:21.439Z"
   },
   {
    "duration": 96,
    "start_time": "2023-02-23T08:52:21.445Z"
   },
   {
    "duration": 16,
    "start_time": "2023-02-23T08:52:21.543Z"
   },
   {
    "duration": 43,
    "start_time": "2023-02-23T08:52:21.561Z"
   },
   {
    "duration": 20,
    "start_time": "2023-02-23T08:52:21.606Z"
   },
   {
    "duration": 30,
    "start_time": "2023-02-23T08:52:21.629Z"
   },
   {
    "duration": 44,
    "start_time": "2023-02-23T08:52:21.661Z"
   },
   {
    "duration": 6,
    "start_time": "2023-02-23T08:52:21.707Z"
   },
   {
    "duration": 480,
    "start_time": "2023-02-23T08:52:21.716Z"
   },
   {
    "duration": 21,
    "start_time": "2023-02-23T08:52:22.198Z"
   },
   {
    "duration": 4,
    "start_time": "2023-02-23T08:52:22.221Z"
   },
   {
    "duration": 24,
    "start_time": "2023-02-23T08:52:22.227Z"
   },
   {
    "duration": 61,
    "start_time": "2023-02-23T08:52:22.253Z"
   },
   {
    "duration": 25,
    "start_time": "2023-02-23T08:52:22.315Z"
   },
   {
    "duration": 82,
    "start_time": "2023-02-23T08:52:22.341Z"
   },
   {
    "duration": 106,
    "start_time": "2023-02-23T08:52:22.425Z"
   },
   {
    "duration": 506,
    "start_time": "2023-02-23T08:52:22.533Z"
   },
   {
    "duration": 21,
    "start_time": "2023-02-23T08:52:23.041Z"
   },
   {
    "duration": 100,
    "start_time": "2023-02-23T08:52:23.064Z"
   },
   {
    "duration": 36,
    "start_time": "2023-02-23T08:52:23.166Z"
   },
   {
    "duration": 68,
    "start_time": "2023-02-23T08:52:23.204Z"
   },
   {
    "duration": 55,
    "start_time": "2023-02-23T08:52:23.273Z"
   },
   {
    "duration": 4,
    "start_time": "2023-02-23T08:52:23.329Z"
   },
   {
    "duration": 141,
    "start_time": "2023-02-23T08:52:23.335Z"
   },
   {
    "duration": 33,
    "start_time": "2023-02-23T08:52:23.477Z"
   },
   {
    "duration": 7,
    "start_time": "2023-02-23T08:52:23.512Z"
   },
   {
    "duration": 18,
    "start_time": "2023-02-23T08:52:23.521Z"
   },
   {
    "duration": 13,
    "start_time": "2023-02-23T08:52:23.541Z"
   },
   {
    "duration": 11,
    "start_time": "2023-02-23T08:52:23.557Z"
   },
   {
    "duration": 15,
    "start_time": "2023-02-23T08:52:23.599Z"
   },
   {
    "duration": 46,
    "start_time": "2023-02-23T19:17:01.759Z"
   },
   {
    "duration": 1398,
    "start_time": "2023-02-23T19:17:09.590Z"
   },
   {
    "duration": 761,
    "start_time": "2023-02-23T19:17:10.990Z"
   },
   {
    "duration": 13,
    "start_time": "2023-02-23T19:17:11.752Z"
   },
   {
    "duration": 3,
    "start_time": "2023-02-23T19:17:11.767Z"
   },
   {
    "duration": 71,
    "start_time": "2023-02-23T19:17:11.773Z"
   },
   {
    "duration": 6,
    "start_time": "2023-02-23T19:17:11.846Z"
   },
   {
    "duration": 83,
    "start_time": "2023-02-23T19:17:11.854Z"
   },
   {
    "duration": 15,
    "start_time": "2023-02-23T19:17:11.945Z"
   },
   {
    "duration": 23,
    "start_time": "2023-02-23T19:17:11.962Z"
   },
   {
    "duration": 41,
    "start_time": "2023-02-23T19:17:11.987Z"
   },
   {
    "duration": 32,
    "start_time": "2023-02-23T19:17:12.029Z"
   },
   {
    "duration": 109,
    "start_time": "2023-02-23T19:17:12.062Z"
   },
   {
    "duration": 0,
    "start_time": "2023-02-23T19:17:12.173Z"
   },
   {
    "duration": 0,
    "start_time": "2023-02-23T19:17:12.174Z"
   },
   {
    "duration": 0,
    "start_time": "2023-02-23T19:17:12.176Z"
   },
   {
    "duration": 0,
    "start_time": "2023-02-23T19:17:12.177Z"
   },
   {
    "duration": 0,
    "start_time": "2023-02-23T19:17:12.178Z"
   },
   {
    "duration": 0,
    "start_time": "2023-02-23T19:17:12.179Z"
   },
   {
    "duration": 0,
    "start_time": "2023-02-23T19:17:12.180Z"
   },
   {
    "duration": 0,
    "start_time": "2023-02-23T19:17:12.181Z"
   },
   {
    "duration": 0,
    "start_time": "2023-02-23T19:17:12.182Z"
   },
   {
    "duration": 0,
    "start_time": "2023-02-23T19:17:12.184Z"
   },
   {
    "duration": 0,
    "start_time": "2023-02-23T19:17:12.185Z"
   },
   {
    "duration": 0,
    "start_time": "2023-02-23T19:17:12.186Z"
   },
   {
    "duration": 0,
    "start_time": "2023-02-23T19:17:12.187Z"
   },
   {
    "duration": 0,
    "start_time": "2023-02-23T19:17:12.188Z"
   },
   {
    "duration": 0,
    "start_time": "2023-02-23T19:17:12.190Z"
   },
   {
    "duration": 0,
    "start_time": "2023-02-23T19:17:12.191Z"
   },
   {
    "duration": 0,
    "start_time": "2023-02-23T19:17:12.192Z"
   },
   {
    "duration": 0,
    "start_time": "2023-02-23T19:17:12.193Z"
   },
   {
    "duration": 0,
    "start_time": "2023-02-23T19:17:12.229Z"
   },
   {
    "duration": 0,
    "start_time": "2023-02-23T19:17:12.229Z"
   },
   {
    "duration": 0,
    "start_time": "2023-02-23T19:17:12.230Z"
   },
   {
    "duration": 0,
    "start_time": "2023-02-23T19:17:12.231Z"
   },
   {
    "duration": 0,
    "start_time": "2023-02-23T19:17:12.231Z"
   },
   {
    "duration": 0,
    "start_time": "2023-02-23T19:17:12.232Z"
   },
   {
    "duration": 22,
    "start_time": "2023-02-23T19:17:27.011Z"
   },
   {
    "duration": 18,
    "start_time": "2023-02-23T19:17:54.844Z"
   },
   {
    "duration": 22,
    "start_time": "2023-02-23T19:18:12.040Z"
   },
   {
    "duration": 14,
    "start_time": "2023-02-23T19:18:39.802Z"
   },
   {
    "duration": 19,
    "start_time": "2023-02-23T19:18:50.674Z"
   },
   {
    "duration": 12,
    "start_time": "2023-02-23T19:19:02.575Z"
   },
   {
    "duration": 797,
    "start_time": "2023-02-23T19:20:51.644Z"
   },
   {
    "duration": 767,
    "start_time": "2023-02-23T19:20:55.652Z"
   },
   {
    "duration": 16,
    "start_time": "2023-02-23T19:21:01.052Z"
   },
   {
    "duration": 19,
    "start_time": "2023-02-23T19:21:32.411Z"
   },
   {
    "duration": 33,
    "start_time": "2023-02-23T19:21:58.487Z"
   },
   {
    "duration": 10,
    "start_time": "2023-02-23T19:22:55.304Z"
   },
   {
    "duration": 1236,
    "start_time": "2023-02-23T19:23:06.883Z"
   },
   {
    "duration": 164,
    "start_time": "2023-02-23T19:23:08.122Z"
   },
   {
    "duration": 15,
    "start_time": "2023-02-23T19:23:08.288Z"
   },
   {
    "duration": 4,
    "start_time": "2023-02-23T19:23:08.304Z"
   },
   {
    "duration": 73,
    "start_time": "2023-02-23T19:23:08.311Z"
   },
   {
    "duration": 4,
    "start_time": "2023-02-23T19:23:08.386Z"
   },
   {
    "duration": 82,
    "start_time": "2023-02-23T19:23:08.392Z"
   },
   {
    "duration": 14,
    "start_time": "2023-02-23T19:23:08.476Z"
   },
   {
    "duration": 39,
    "start_time": "2023-02-23T19:23:08.492Z"
   },
   {
    "duration": 18,
    "start_time": "2023-02-23T19:23:08.532Z"
   },
   {
    "duration": 25,
    "start_time": "2023-02-23T19:23:08.552Z"
   },
   {
    "duration": 74,
    "start_time": "2023-02-23T19:23:08.578Z"
   },
   {
    "duration": 104,
    "start_time": "2023-02-23T19:23:08.653Z"
   },
   {
    "duration": 0,
    "start_time": "2023-02-23T19:23:08.759Z"
   },
   {
    "duration": 0,
    "start_time": "2023-02-23T19:23:08.761Z"
   },
   {
    "duration": 0,
    "start_time": "2023-02-23T19:23:08.762Z"
   },
   {
    "duration": 0,
    "start_time": "2023-02-23T19:23:08.763Z"
   },
   {
    "duration": 0,
    "start_time": "2023-02-23T19:23:08.764Z"
   },
   {
    "duration": 0,
    "start_time": "2023-02-23T19:23:08.765Z"
   },
   {
    "duration": 0,
    "start_time": "2023-02-23T19:23:08.766Z"
   },
   {
    "duration": 0,
    "start_time": "2023-02-23T19:23:08.767Z"
   },
   {
    "duration": 0,
    "start_time": "2023-02-23T19:23:08.768Z"
   },
   {
    "duration": 0,
    "start_time": "2023-02-23T19:23:08.769Z"
   },
   {
    "duration": 0,
    "start_time": "2023-02-23T19:23:08.770Z"
   },
   {
    "duration": 0,
    "start_time": "2023-02-23T19:23:08.771Z"
   },
   {
    "duration": 0,
    "start_time": "2023-02-23T19:23:08.772Z"
   },
   {
    "duration": 0,
    "start_time": "2023-02-23T19:23:08.773Z"
   },
   {
    "duration": 0,
    "start_time": "2023-02-23T19:23:08.774Z"
   },
   {
    "duration": 0,
    "start_time": "2023-02-23T19:23:08.775Z"
   },
   {
    "duration": 0,
    "start_time": "2023-02-23T19:23:08.776Z"
   },
   {
    "duration": 0,
    "start_time": "2023-02-23T19:23:08.777Z"
   },
   {
    "duration": 0,
    "start_time": "2023-02-23T19:23:08.778Z"
   },
   {
    "duration": 0,
    "start_time": "2023-02-23T19:23:08.780Z"
   },
   {
    "duration": 0,
    "start_time": "2023-02-23T19:23:08.780Z"
   },
   {
    "duration": 0,
    "start_time": "2023-02-23T19:23:08.781Z"
   },
   {
    "duration": 0,
    "start_time": "2023-02-23T19:23:08.782Z"
   },
   {
    "duration": 0,
    "start_time": "2023-02-23T19:23:08.783Z"
   },
   {
    "duration": 15,
    "start_time": "2023-02-23T19:23:22.202Z"
   },
   {
    "duration": 1178,
    "start_time": "2023-02-23T19:23:31.013Z"
   },
   {
    "duration": 143,
    "start_time": "2023-02-23T19:23:32.193Z"
   },
   {
    "duration": 12,
    "start_time": "2023-02-23T19:23:32.338Z"
   },
   {
    "duration": 3,
    "start_time": "2023-02-23T19:23:32.352Z"
   },
   {
    "duration": 81,
    "start_time": "2023-02-23T19:23:32.356Z"
   },
   {
    "duration": 4,
    "start_time": "2023-02-23T19:23:32.438Z"
   },
   {
    "duration": 85,
    "start_time": "2023-02-23T19:23:32.443Z"
   },
   {
    "duration": 13,
    "start_time": "2023-02-23T19:23:32.529Z"
   },
   {
    "duration": 22,
    "start_time": "2023-02-23T19:23:32.544Z"
   },
   {
    "duration": 19,
    "start_time": "2023-02-23T19:23:32.568Z"
   },
   {
    "duration": 66,
    "start_time": "2023-02-23T19:23:32.589Z"
   },
   {
    "duration": 47,
    "start_time": "2023-02-23T19:23:32.656Z"
   },
   {
    "duration": 28,
    "start_time": "2023-02-23T19:23:32.705Z"
   },
   {
    "duration": 7,
    "start_time": "2023-02-23T19:23:32.736Z"
   },
   {
    "duration": 453,
    "start_time": "2023-02-23T19:23:32.746Z"
   },
   {
    "duration": 26,
    "start_time": "2023-02-23T19:23:33.201Z"
   },
   {
    "duration": 4,
    "start_time": "2023-02-23T19:23:33.229Z"
   },
   {
    "duration": 14,
    "start_time": "2023-02-23T19:23:33.234Z"
   },
   {
    "duration": 40,
    "start_time": "2023-02-23T19:23:33.249Z"
   },
   {
    "duration": 45,
    "start_time": "2023-02-23T19:23:33.291Z"
   },
   {
    "duration": 64,
    "start_time": "2023-02-23T19:23:33.337Z"
   },
   {
    "duration": 90,
    "start_time": "2023-02-23T19:23:33.403Z"
   },
   {
    "duration": 461,
    "start_time": "2023-02-23T19:23:33.495Z"
   },
   {
    "duration": 19,
    "start_time": "2023-02-23T19:23:33.958Z"
   },
   {
    "duration": 89,
    "start_time": "2023-02-23T19:23:33.979Z"
   },
   {
    "duration": 5,
    "start_time": "2023-02-23T19:23:34.070Z"
   },
   {
    "duration": 109,
    "start_time": "2023-02-23T19:23:34.077Z"
   },
   {
    "duration": 57,
    "start_time": "2023-02-23T19:23:34.189Z"
   },
   {
    "duration": 5,
    "start_time": "2023-02-23T19:23:34.248Z"
   },
   {
    "duration": 127,
    "start_time": "2023-02-23T19:23:34.254Z"
   },
   {
    "duration": 22,
    "start_time": "2023-02-23T19:23:34.383Z"
   },
   {
    "duration": 23,
    "start_time": "2023-02-23T19:23:34.407Z"
   },
   {
    "duration": 16,
    "start_time": "2023-02-23T19:23:34.431Z"
   },
   {
    "duration": 9,
    "start_time": "2023-02-23T19:23:34.449Z"
   },
   {
    "duration": 10,
    "start_time": "2023-02-23T19:23:34.460Z"
   },
   {
    "duration": 9,
    "start_time": "2023-02-23T19:23:34.471Z"
   },
   {
    "duration": 21,
    "start_time": "2023-02-23T19:24:39.002Z"
   },
   {
    "duration": 35,
    "start_time": "2023-02-23T19:24:44.162Z"
   },
   {
    "duration": 19,
    "start_time": "2023-02-23T19:25:09.383Z"
   },
   {
    "duration": 25,
    "start_time": "2023-02-23T19:25:24.063Z"
   },
   {
    "duration": 3,
    "start_time": "2023-02-23T19:27:31.263Z"
   },
   {
    "duration": 5,
    "start_time": "2023-02-23T19:27:37.122Z"
   },
   {
    "duration": 12,
    "start_time": "2023-02-23T19:27:51.243Z"
   },
   {
    "duration": 40,
    "start_time": "2023-02-23T19:28:08.302Z"
   },
   {
    "duration": 41,
    "start_time": "2023-02-23T19:28:32.972Z"
   },
   {
    "duration": 168,
    "start_time": "2023-02-23T19:28:43.260Z"
   },
   {
    "duration": 39,
    "start_time": "2023-02-23T19:28:52.102Z"
   },
   {
    "duration": 41,
    "start_time": "2023-02-23T19:29:03.933Z"
   },
   {
    "duration": 56,
    "start_time": "2023-02-23T19:29:18.173Z"
   },
   {
    "duration": 39,
    "start_time": "2023-02-23T19:30:00.873Z"
   },
   {
    "duration": 37,
    "start_time": "2023-02-23T19:30:35.084Z"
   },
   {
    "duration": 11,
    "start_time": "2023-02-23T19:33:20.058Z"
   },
   {
    "duration": 38,
    "start_time": "2023-02-23T19:33:28.373Z"
   },
   {
    "duration": 9,
    "start_time": "2023-02-23T19:36:42.374Z"
   },
   {
    "duration": 13,
    "start_time": "2023-02-23T19:39:05.414Z"
   },
   {
    "duration": 29,
    "start_time": "2023-02-23T19:39:34.365Z"
   },
   {
    "duration": 25,
    "start_time": "2023-02-23T19:39:44.698Z"
   },
   {
    "duration": 42,
    "start_time": "2023-02-23T19:40:20.044Z"
   },
   {
    "duration": 27,
    "start_time": "2023-02-23T19:41:23.503Z"
   },
   {
    "duration": 28,
    "start_time": "2023-02-23T19:41:32.126Z"
   },
   {
    "duration": 139,
    "start_time": "2023-02-23T19:41:57.456Z"
   },
   {
    "duration": 45,
    "start_time": "2023-02-23T19:42:16.603Z"
   },
   {
    "duration": 131,
    "start_time": "2023-02-23T19:42:30.126Z"
   },
   {
    "duration": 151,
    "start_time": "2023-02-23T19:44:31.283Z"
   },
   {
    "duration": 136,
    "start_time": "2023-02-23T19:44:40.074Z"
   },
   {
    "duration": 39,
    "start_time": "2023-02-23T19:46:37.302Z"
   },
   {
    "duration": 36,
    "start_time": "2023-02-23T19:46:49.052Z"
   },
   {
    "duration": 36,
    "start_time": "2023-02-23T19:46:57.142Z"
   },
   {
    "duration": 40,
    "start_time": "2023-02-23T19:47:12.923Z"
   },
   {
    "duration": 123,
    "start_time": "2023-02-23T19:47:23.754Z"
   },
   {
    "duration": 143,
    "start_time": "2023-02-23T19:47:51.502Z"
   },
   {
    "duration": 156,
    "start_time": "2023-02-23T19:48:00.142Z"
   },
   {
    "duration": 166,
    "start_time": "2023-02-23T19:48:06.230Z"
   },
   {
    "duration": 153,
    "start_time": "2023-02-23T19:48:16.591Z"
   },
   {
    "duration": 153,
    "start_time": "2023-02-23T19:48:21.321Z"
   },
   {
    "duration": 136,
    "start_time": "2023-02-23T19:48:36.152Z"
   },
   {
    "duration": 243,
    "start_time": "2023-02-23T19:49:22.242Z"
   },
   {
    "duration": 164,
    "start_time": "2023-02-23T19:50:19.962Z"
   },
   {
    "duration": 180,
    "start_time": "2023-02-23T19:52:24.746Z"
   },
   {
    "duration": 165,
    "start_time": "2023-02-23T19:52:34.081Z"
   },
   {
    "duration": 159,
    "start_time": "2023-02-23T19:52:41.220Z"
   },
   {
    "duration": 171,
    "start_time": "2023-02-23T19:52:52.850Z"
   },
   {
    "duration": 161,
    "start_time": "2023-02-23T19:53:05.317Z"
   },
   {
    "duration": 176,
    "start_time": "2023-02-23T19:55:03.061Z"
   },
   {
    "duration": 300,
    "start_time": "2023-02-23T19:55:32.549Z"
   },
   {
    "duration": 299,
    "start_time": "2023-02-23T19:55:48.664Z"
   },
   {
    "duration": 346,
    "start_time": "2023-02-23T19:56:15.830Z"
   },
   {
    "duration": 409,
    "start_time": "2023-02-23T19:57:32.290Z"
   },
   {
    "duration": 50,
    "start_time": "2023-02-23T19:58:08.360Z"
   },
   {
    "duration": 469,
    "start_time": "2023-02-23T19:58:12.410Z"
   },
   {
    "duration": 486,
    "start_time": "2023-02-23T19:58:24.440Z"
   },
   {
    "duration": 489,
    "start_time": "2023-02-23T19:58:30.321Z"
   },
   {
    "duration": 46,
    "start_time": "2023-02-23T20:00:50.587Z"
   },
   {
    "duration": 307,
    "start_time": "2023-02-23T20:01:15.269Z"
   },
   {
    "duration": 51,
    "start_time": "2023-02-23T20:01:26.031Z"
   },
   {
    "duration": 295,
    "start_time": "2023-02-23T20:01:53.479Z"
   },
   {
    "duration": 12,
    "start_time": "2023-02-23T20:02:50.238Z"
   },
   {
    "duration": 18,
    "start_time": "2023-02-23T20:03:09.589Z"
   },
   {
    "duration": 17,
    "start_time": "2023-02-23T20:03:19.829Z"
   },
   {
    "duration": 55,
    "start_time": "2023-02-23T20:03:27.610Z"
   },
   {
    "duration": 11,
    "start_time": "2023-02-23T20:03:31.428Z"
   },
   {
    "duration": 8,
    "start_time": "2023-02-23T20:03:37.851Z"
   },
   {
    "duration": 8,
    "start_time": "2023-02-23T20:16:25.261Z"
   },
   {
    "duration": 15,
    "start_time": "2023-02-23T20:16:32.101Z"
   },
   {
    "duration": 7,
    "start_time": "2023-02-23T20:19:34.218Z"
   },
   {
    "duration": 46,
    "start_time": "2023-02-23T20:21:39.469Z"
   },
   {
    "duration": 48,
    "start_time": "2023-02-23T20:21:53.098Z"
   },
   {
    "duration": 8,
    "start_time": "2023-02-23T20:22:01.010Z"
   },
   {
    "duration": 6,
    "start_time": "2023-02-23T20:22:04.339Z"
   },
   {
    "duration": 22,
    "start_time": "2023-02-23T20:23:22.009Z"
   },
   {
    "duration": 24,
    "start_time": "2023-02-23T20:23:56.399Z"
   },
   {
    "duration": 44,
    "start_time": "2023-02-23T20:24:28.502Z"
   },
   {
    "duration": 45,
    "start_time": "2023-02-23T20:24:32.348Z"
   },
   {
    "duration": 23,
    "start_time": "2023-02-23T20:24:36.108Z"
   },
   {
    "duration": 47,
    "start_time": "2023-02-23T20:27:23.128Z"
   },
   {
    "duration": 45,
    "start_time": "2023-02-23T20:27:26.760Z"
   },
   {
    "duration": 56,
    "start_time": "2023-02-23T20:27:44.001Z"
   },
   {
    "duration": 43,
    "start_time": "2023-02-23T20:27:50.011Z"
   },
   {
    "duration": 42,
    "start_time": "2023-02-23T20:28:00.188Z"
   },
   {
    "duration": 41,
    "start_time": "2023-02-23T20:28:35.449Z"
   },
   {
    "duration": 32,
    "start_time": "2023-02-23T20:28:57.582Z"
   },
   {
    "duration": 34,
    "start_time": "2023-02-23T20:29:09.471Z"
   },
   {
    "duration": 31,
    "start_time": "2023-02-23T20:29:15.287Z"
   },
   {
    "duration": 42,
    "start_time": "2023-02-23T20:29:27.489Z"
   },
   {
    "duration": 32,
    "start_time": "2023-02-23T20:29:40.080Z"
   },
   {
    "duration": 5,
    "start_time": "2023-02-23T20:36:39.431Z"
   },
   {
    "duration": 7,
    "start_time": "2023-02-23T20:37:00.690Z"
   },
   {
    "duration": 5,
    "start_time": "2023-02-23T20:37:12.349Z"
   },
   {
    "duration": 28,
    "start_time": "2023-02-23T20:37:54.600Z"
   },
   {
    "duration": 25,
    "start_time": "2023-02-23T20:38:07.300Z"
   },
   {
    "duration": 22,
    "start_time": "2023-02-23T20:38:13.970Z"
   },
   {
    "duration": 327,
    "start_time": "2023-02-23T20:40:46.779Z"
   },
   {
    "duration": 327,
    "start_time": "2023-02-23T20:43:35.975Z"
   },
   {
    "duration": 397,
    "start_time": "2023-02-23T20:44:01.761Z"
   },
   {
    "duration": 163,
    "start_time": "2023-02-23T20:45:29.056Z"
   },
   {
    "duration": 192,
    "start_time": "2023-02-23T20:45:35.179Z"
   },
   {
    "duration": 53,
    "start_time": "2023-02-23T20:45:49.299Z"
   },
   {
    "duration": 56,
    "start_time": "2023-02-23T20:47:53.490Z"
   },
   {
    "duration": 76,
    "start_time": "2023-02-23T20:49:30.769Z"
   },
   {
    "duration": 11,
    "start_time": "2023-02-23T21:00:07.708Z"
   },
   {
    "duration": 860,
    "start_time": "2023-02-23T21:00:22.387Z"
   },
   {
    "duration": 867,
    "start_time": "2023-02-23T21:00:29.209Z"
   },
   {
    "duration": 7,
    "start_time": "2023-02-23T21:00:40.178Z"
   },
   {
    "duration": 8,
    "start_time": "2023-02-23T21:00:49.850Z"
   },
   {
    "duration": 7,
    "start_time": "2023-02-23T21:01:39.929Z"
   },
   {
    "duration": 7,
    "start_time": "2023-02-23T21:02:01.472Z"
   },
   {
    "duration": 7,
    "start_time": "2023-02-23T21:02:07.151Z"
   },
   {
    "duration": 16,
    "start_time": "2023-02-23T21:02:13.574Z"
   },
   {
    "duration": 21,
    "start_time": "2023-02-23T21:02:23.459Z"
   },
   {
    "duration": 25,
    "start_time": "2023-02-23T21:02:28.419Z"
   },
   {
    "duration": 14,
    "start_time": "2023-02-23T21:02:40.012Z"
   },
   {
    "duration": 12,
    "start_time": "2023-02-23T21:02:51.074Z"
   },
   {
    "duration": 7,
    "start_time": "2023-02-23T21:02:56.216Z"
   },
   {
    "duration": 14,
    "start_time": "2023-02-23T21:03:28.421Z"
   },
   {
    "duration": 11,
    "start_time": "2023-02-23T21:03:35.528Z"
   },
   {
    "duration": 11,
    "start_time": "2023-02-23T21:03:53.938Z"
   },
   {
    "duration": 17,
    "start_time": "2023-02-23T21:06:58.929Z"
   },
   {
    "duration": 51,
    "start_time": "2023-02-23T21:08:13.148Z"
   },
   {
    "duration": 15,
    "start_time": "2023-02-23T21:08:17.710Z"
   },
   {
    "duration": 51,
    "start_time": "2023-02-23T21:08:24.863Z"
   },
   {
    "duration": 28,
    "start_time": "2023-02-23T21:09:47.569Z"
   },
   {
    "duration": 25,
    "start_time": "2023-02-23T21:10:03.558Z"
   },
   {
    "duration": 51,
    "start_time": "2023-02-23T21:11:12.131Z"
   },
   {
    "duration": 48,
    "start_time": "2023-02-23T21:11:24.750Z"
   },
   {
    "duration": 51,
    "start_time": "2023-02-23T21:11:37.534Z"
   },
   {
    "duration": 25,
    "start_time": "2023-02-23T21:11:41.595Z"
   },
   {
    "duration": 27,
    "start_time": "2023-02-23T21:12:06.081Z"
   },
   {
    "duration": 29,
    "start_time": "2023-02-23T21:12:39.378Z"
   },
   {
    "duration": 10,
    "start_time": "2023-02-23T21:17:13.328Z"
   },
   {
    "duration": 12,
    "start_time": "2023-02-23T21:22:34.922Z"
   },
   {
    "duration": 6,
    "start_time": "2023-02-23T21:23:13.686Z"
   },
   {
    "duration": 25,
    "start_time": "2023-02-23T21:23:14.375Z"
   },
   {
    "duration": 9,
    "start_time": "2023-02-23T21:23:22.456Z"
   },
   {
    "duration": 15,
    "start_time": "2023-02-23T21:23:23.809Z"
   },
   {
    "duration": 9,
    "start_time": "2023-02-23T21:23:47.067Z"
   },
   {
    "duration": 14,
    "start_time": "2023-02-23T21:23:50.228Z"
   },
   {
    "duration": 9,
    "start_time": "2023-02-23T21:24:10.855Z"
   },
   {
    "duration": 13,
    "start_time": "2023-02-23T21:24:12.070Z"
   },
   {
    "duration": 45,
    "start_time": "2023-02-23T21:24:14.908Z"
   },
   {
    "duration": 16,
    "start_time": "2023-02-23T21:24:17.229Z"
   },
   {
    "duration": 14,
    "start_time": "2023-02-23T21:24:18.601Z"
   },
   {
    "duration": 13,
    "start_time": "2023-02-23T21:24:21.498Z"
   },
   {
    "duration": 9,
    "start_time": "2023-02-23T21:30:09.265Z"
   },
   {
    "duration": 12,
    "start_time": "2023-02-23T21:30:12.377Z"
   },
   {
    "duration": 29,
    "start_time": "2023-02-23T21:30:13.645Z"
   },
   {
    "duration": 10,
    "start_time": "2023-02-23T21:30:15.357Z"
   },
   {
    "duration": 12,
    "start_time": "2023-02-23T21:30:16.858Z"
   },
   {
    "duration": 19,
    "start_time": "2023-02-23T21:30:18.327Z"
   },
   {
    "duration": 1271,
    "start_time": "2023-02-24T08:44:14.715Z"
   },
   {
    "duration": 160,
    "start_time": "2023-02-24T08:44:15.988Z"
   },
   {
    "duration": 12,
    "start_time": "2023-02-24T08:44:16.150Z"
   },
   {
    "duration": 4,
    "start_time": "2023-02-24T08:44:16.164Z"
   },
   {
    "duration": 79,
    "start_time": "2023-02-24T08:44:16.170Z"
   },
   {
    "duration": 4,
    "start_time": "2023-02-24T08:44:16.250Z"
   },
   {
    "duration": 82,
    "start_time": "2023-02-24T08:44:16.255Z"
   },
   {
    "duration": 17,
    "start_time": "2023-02-24T08:44:16.348Z"
   },
   {
    "duration": 22,
    "start_time": "2023-02-24T08:44:16.367Z"
   },
   {
    "duration": 19,
    "start_time": "2023-02-24T08:44:16.391Z"
   },
   {
    "duration": 52,
    "start_time": "2023-02-24T08:44:16.412Z"
   },
   {
    "duration": 42,
    "start_time": "2023-02-24T08:44:16.465Z"
   },
   {
    "duration": 8,
    "start_time": "2023-02-24T08:44:16.509Z"
   },
   {
    "duration": 336,
    "start_time": "2023-02-24T08:44:16.519Z"
   },
   {
    "duration": 40,
    "start_time": "2023-02-24T08:44:16.857Z"
   },
   {
    "duration": 6,
    "start_time": "2023-02-24T08:44:16.899Z"
   },
   {
    "duration": 428,
    "start_time": "2023-02-24T08:44:16.906Z"
   },
   {
    "duration": 20,
    "start_time": "2023-02-24T08:44:17.336Z"
   },
   {
    "duration": 4,
    "start_time": "2023-02-24T08:44:17.358Z"
   },
   {
    "duration": 35,
    "start_time": "2023-02-24T08:44:17.364Z"
   },
   {
    "duration": 56,
    "start_time": "2023-02-24T08:44:17.401Z"
   },
   {
    "duration": 23,
    "start_time": "2023-02-24T08:44:17.459Z"
   },
   {
    "duration": 72,
    "start_time": "2023-02-24T08:44:17.484Z"
   },
   {
    "duration": 99,
    "start_time": "2023-02-24T08:44:17.557Z"
   },
   {
    "duration": 475,
    "start_time": "2023-02-24T08:44:17.658Z"
   },
   {
    "duration": 23,
    "start_time": "2023-02-24T08:44:18.135Z"
   },
   {
    "duration": 137,
    "start_time": "2023-02-24T08:44:18.160Z"
   },
   {
    "duration": 51,
    "start_time": "2023-02-24T08:44:18.301Z"
   },
   {
    "duration": 80,
    "start_time": "2023-02-24T08:44:18.354Z"
   },
   {
    "duration": 52,
    "start_time": "2023-02-24T08:44:18.436Z"
   },
   {
    "duration": 4,
    "start_time": "2023-02-24T08:44:18.490Z"
   },
   {
    "duration": 139,
    "start_time": "2023-02-24T08:44:18.496Z"
   },
   {
    "duration": 28,
    "start_time": "2023-02-24T08:44:18.637Z"
   },
   {
    "duration": 7,
    "start_time": "2023-02-24T08:44:18.666Z"
   },
   {
    "duration": 20,
    "start_time": "2023-02-24T08:44:18.674Z"
   },
   {
    "duration": 52,
    "start_time": "2023-02-24T08:44:18.696Z"
   },
   {
    "duration": 10,
    "start_time": "2023-02-24T08:44:18.750Z"
   },
   {
    "duration": 13,
    "start_time": "2023-02-24T08:44:18.762Z"
   },
   {
    "duration": 10,
    "start_time": "2023-02-24T08:44:18.776Z"
   },
   {
    "duration": 155,
    "start_time": "2023-02-24T08:55:51.238Z"
   },
   {
    "duration": 15,
    "start_time": "2023-02-24T08:56:01.949Z"
   },
   {
    "duration": 45,
    "start_time": "2023-02-24T08:56:07.028Z"
   }
  ],
  "kernelspec": {
   "display_name": "Python 3 (ipykernel)",
   "language": "python",
   "name": "python3"
  },
  "language_info": {
   "codemirror_mode": {
    "name": "ipython",
    "version": 3
   },
   "file_extension": ".py",
   "mimetype": "text/x-python",
   "name": "python",
   "nbconvert_exporter": "python",
   "pygments_lexer": "ipython3",
   "version": "3.9.13"
  },
  "toc": {
   "base_numbering": 1,
   "nav_menu": {},
   "number_sections": true,
   "sideBar": true,
   "skip_h1_title": true,
   "title_cell": "Содержание",
   "title_sidebar": "Contents",
   "toc_cell": true,
   "toc_position": {
    "height": "calc(100% - 180px)",
    "left": "10px",
    "top": "150px",
    "width": "220.183px"
   },
   "toc_section_display": true,
   "toc_window_display": true
  }
 },
 "nbformat": 4,
 "nbformat_minor": 2
}
