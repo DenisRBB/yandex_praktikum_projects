{
 "cells": [
  {
   "cell_type": "markdown",
   "metadata": {},
   "source": [
    "# План работы"
   ]
  },
  {
   "cell_type": "markdown",
   "metadata": {},
   "source": [
    "1. Изучение данных\n",
    "2. Предобработка данных\n",
    "3. Расчет необходимых данных\n",
    "4. Анализ полученных данных\n",
    "5. Вывод"
   ]
  },
  {
   "cell_type": "markdown",
   "metadata": {},
   "source": [
    "## Откройте файл с данными и изучите общую информацию. "
   ]
  },
  {
   "cell_type": "code",
   "execution_count": 1,
   "metadata": {},
   "outputs": [],
   "source": [
    "import pandas as pd #Импортируем библиотеку pandas"
   ]
  },
  {
   "cell_type": "code",
   "execution_count": 2,
   "metadata": {},
   "outputs": [],
   "source": [
    "import matplotlib.pyplot as plt"
   ]
  },
  {
   "cell_type": "code",
   "execution_count": 3,
   "metadata": {},
   "outputs": [],
   "source": [
    "#Данную библиотеку и код мне подсказал преподаваетль, так как далее при выполнении кода, выходила ошибка,\n",
    "#которая мешала визуально)\n",
    "import warnings\n",
    "warnings.filterwarnings(\"ignore\", category=RuntimeWarning) "
   ]
  },
  {
   "cell_type": "code",
   "execution_count": 4,
   "metadata": {},
   "outputs": [],
   "source": [
    "data = pd.read_csv('/datasets/real_estate_data.csv', sep='\\t') #Сохраняем таблицу в переменную data"
   ]
  },
  {
   "cell_type": "code",
   "execution_count": 5,
   "metadata": {},
   "outputs": [
    {
     "data": {
      "text/html": [
       "<div>\n",
       "<style scoped>\n",
       "    .dataframe tbody tr th:only-of-type {\n",
       "        vertical-align: middle;\n",
       "    }\n",
       "\n",
       "    .dataframe tbody tr th {\n",
       "        vertical-align: top;\n",
       "    }\n",
       "\n",
       "    .dataframe thead th {\n",
       "        text-align: right;\n",
       "    }\n",
       "</style>\n",
       "<table border=\"1\" class=\"dataframe\">\n",
       "  <thead>\n",
       "    <tr style=\"text-align: right;\">\n",
       "      <th></th>\n",
       "      <th>total_images</th>\n",
       "      <th>last_price</th>\n",
       "      <th>total_area</th>\n",
       "      <th>first_day_exposition</th>\n",
       "      <th>rooms</th>\n",
       "      <th>ceiling_height</th>\n",
       "      <th>floors_total</th>\n",
       "      <th>living_area</th>\n",
       "      <th>floor</th>\n",
       "      <th>is_apartment</th>\n",
       "      <th>...</th>\n",
       "      <th>kitchen_area</th>\n",
       "      <th>balcony</th>\n",
       "      <th>locality_name</th>\n",
       "      <th>airports_nearest</th>\n",
       "      <th>cityCenters_nearest</th>\n",
       "      <th>parks_around3000</th>\n",
       "      <th>parks_nearest</th>\n",
       "      <th>ponds_around3000</th>\n",
       "      <th>ponds_nearest</th>\n",
       "      <th>days_exposition</th>\n",
       "    </tr>\n",
       "  </thead>\n",
       "  <tbody>\n",
       "    <tr>\n",
       "      <th>0</th>\n",
       "      <td>20</td>\n",
       "      <td>13000000.0</td>\n",
       "      <td>108.00</td>\n",
       "      <td>2019-03-07T00:00:00</td>\n",
       "      <td>3</td>\n",
       "      <td>2.70</td>\n",
       "      <td>16.0</td>\n",
       "      <td>51.00</td>\n",
       "      <td>8</td>\n",
       "      <td>NaN</td>\n",
       "      <td>...</td>\n",
       "      <td>25.00</td>\n",
       "      <td>NaN</td>\n",
       "      <td>Санкт-Петербург</td>\n",
       "      <td>18863.0</td>\n",
       "      <td>16028.0</td>\n",
       "      <td>1.0</td>\n",
       "      <td>482.0</td>\n",
       "      <td>2.0</td>\n",
       "      <td>755.0</td>\n",
       "      <td>NaN</td>\n",
       "    </tr>\n",
       "    <tr>\n",
       "      <th>1</th>\n",
       "      <td>7</td>\n",
       "      <td>3350000.0</td>\n",
       "      <td>40.40</td>\n",
       "      <td>2018-12-04T00:00:00</td>\n",
       "      <td>1</td>\n",
       "      <td>NaN</td>\n",
       "      <td>11.0</td>\n",
       "      <td>18.60</td>\n",
       "      <td>1</td>\n",
       "      <td>NaN</td>\n",
       "      <td>...</td>\n",
       "      <td>11.00</td>\n",
       "      <td>2.0</td>\n",
       "      <td>посёлок Шушары</td>\n",
       "      <td>12817.0</td>\n",
       "      <td>18603.0</td>\n",
       "      <td>0.0</td>\n",
       "      <td>NaN</td>\n",
       "      <td>0.0</td>\n",
       "      <td>NaN</td>\n",
       "      <td>81.0</td>\n",
       "    </tr>\n",
       "    <tr>\n",
       "      <th>2</th>\n",
       "      <td>10</td>\n",
       "      <td>5196000.0</td>\n",
       "      <td>56.00</td>\n",
       "      <td>2015-08-20T00:00:00</td>\n",
       "      <td>2</td>\n",
       "      <td>NaN</td>\n",
       "      <td>5.0</td>\n",
       "      <td>34.30</td>\n",
       "      <td>4</td>\n",
       "      <td>NaN</td>\n",
       "      <td>...</td>\n",
       "      <td>8.30</td>\n",
       "      <td>0.0</td>\n",
       "      <td>Санкт-Петербург</td>\n",
       "      <td>21741.0</td>\n",
       "      <td>13933.0</td>\n",
       "      <td>1.0</td>\n",
       "      <td>90.0</td>\n",
       "      <td>2.0</td>\n",
       "      <td>574.0</td>\n",
       "      <td>558.0</td>\n",
       "    </tr>\n",
       "    <tr>\n",
       "      <th>3</th>\n",
       "      <td>0</td>\n",
       "      <td>64900000.0</td>\n",
       "      <td>159.00</td>\n",
       "      <td>2015-07-24T00:00:00</td>\n",
       "      <td>3</td>\n",
       "      <td>NaN</td>\n",
       "      <td>14.0</td>\n",
       "      <td>NaN</td>\n",
       "      <td>9</td>\n",
       "      <td>NaN</td>\n",
       "      <td>...</td>\n",
       "      <td>NaN</td>\n",
       "      <td>0.0</td>\n",
       "      <td>Санкт-Петербург</td>\n",
       "      <td>28098.0</td>\n",
       "      <td>6800.0</td>\n",
       "      <td>2.0</td>\n",
       "      <td>84.0</td>\n",
       "      <td>3.0</td>\n",
       "      <td>234.0</td>\n",
       "      <td>424.0</td>\n",
       "    </tr>\n",
       "    <tr>\n",
       "      <th>4</th>\n",
       "      <td>2</td>\n",
       "      <td>10000000.0</td>\n",
       "      <td>100.00</td>\n",
       "      <td>2018-06-19T00:00:00</td>\n",
       "      <td>2</td>\n",
       "      <td>3.03</td>\n",
       "      <td>14.0</td>\n",
       "      <td>32.00</td>\n",
       "      <td>13</td>\n",
       "      <td>NaN</td>\n",
       "      <td>...</td>\n",
       "      <td>41.00</td>\n",
       "      <td>NaN</td>\n",
       "      <td>Санкт-Петербург</td>\n",
       "      <td>31856.0</td>\n",
       "      <td>8098.0</td>\n",
       "      <td>2.0</td>\n",
       "      <td>112.0</td>\n",
       "      <td>1.0</td>\n",
       "      <td>48.0</td>\n",
       "      <td>121.0</td>\n",
       "    </tr>\n",
       "    <tr>\n",
       "      <th>5</th>\n",
       "      <td>10</td>\n",
       "      <td>2890000.0</td>\n",
       "      <td>30.40</td>\n",
       "      <td>2018-09-10T00:00:00</td>\n",
       "      <td>1</td>\n",
       "      <td>NaN</td>\n",
       "      <td>12.0</td>\n",
       "      <td>14.40</td>\n",
       "      <td>5</td>\n",
       "      <td>NaN</td>\n",
       "      <td>...</td>\n",
       "      <td>9.10</td>\n",
       "      <td>NaN</td>\n",
       "      <td>городской посёлок Янино-1</td>\n",
       "      <td>NaN</td>\n",
       "      <td>NaN</td>\n",
       "      <td>NaN</td>\n",
       "      <td>NaN</td>\n",
       "      <td>NaN</td>\n",
       "      <td>NaN</td>\n",
       "      <td>55.0</td>\n",
       "    </tr>\n",
       "    <tr>\n",
       "      <th>6</th>\n",
       "      <td>6</td>\n",
       "      <td>3700000.0</td>\n",
       "      <td>37.30</td>\n",
       "      <td>2017-11-02T00:00:00</td>\n",
       "      <td>1</td>\n",
       "      <td>NaN</td>\n",
       "      <td>26.0</td>\n",
       "      <td>10.60</td>\n",
       "      <td>6</td>\n",
       "      <td>NaN</td>\n",
       "      <td>...</td>\n",
       "      <td>14.40</td>\n",
       "      <td>1.0</td>\n",
       "      <td>посёлок Парголово</td>\n",
       "      <td>52996.0</td>\n",
       "      <td>19143.0</td>\n",
       "      <td>0.0</td>\n",
       "      <td>NaN</td>\n",
       "      <td>0.0</td>\n",
       "      <td>NaN</td>\n",
       "      <td>155.0</td>\n",
       "    </tr>\n",
       "    <tr>\n",
       "      <th>7</th>\n",
       "      <td>5</td>\n",
       "      <td>7915000.0</td>\n",
       "      <td>71.60</td>\n",
       "      <td>2019-04-18T00:00:00</td>\n",
       "      <td>2</td>\n",
       "      <td>NaN</td>\n",
       "      <td>24.0</td>\n",
       "      <td>NaN</td>\n",
       "      <td>22</td>\n",
       "      <td>NaN</td>\n",
       "      <td>...</td>\n",
       "      <td>18.90</td>\n",
       "      <td>2.0</td>\n",
       "      <td>Санкт-Петербург</td>\n",
       "      <td>23982.0</td>\n",
       "      <td>11634.0</td>\n",
       "      <td>0.0</td>\n",
       "      <td>NaN</td>\n",
       "      <td>0.0</td>\n",
       "      <td>NaN</td>\n",
       "      <td>NaN</td>\n",
       "    </tr>\n",
       "    <tr>\n",
       "      <th>8</th>\n",
       "      <td>20</td>\n",
       "      <td>2900000.0</td>\n",
       "      <td>33.16</td>\n",
       "      <td>2018-05-23T00:00:00</td>\n",
       "      <td>1</td>\n",
       "      <td>NaN</td>\n",
       "      <td>27.0</td>\n",
       "      <td>15.43</td>\n",
       "      <td>26</td>\n",
       "      <td>NaN</td>\n",
       "      <td>...</td>\n",
       "      <td>8.81</td>\n",
       "      <td>NaN</td>\n",
       "      <td>посёлок Мурино</td>\n",
       "      <td>NaN</td>\n",
       "      <td>NaN</td>\n",
       "      <td>NaN</td>\n",
       "      <td>NaN</td>\n",
       "      <td>NaN</td>\n",
       "      <td>NaN</td>\n",
       "      <td>189.0</td>\n",
       "    </tr>\n",
       "    <tr>\n",
       "      <th>9</th>\n",
       "      <td>18</td>\n",
       "      <td>5400000.0</td>\n",
       "      <td>61.00</td>\n",
       "      <td>2017-02-26T00:00:00</td>\n",
       "      <td>3</td>\n",
       "      <td>2.50</td>\n",
       "      <td>9.0</td>\n",
       "      <td>43.60</td>\n",
       "      <td>7</td>\n",
       "      <td>NaN</td>\n",
       "      <td>...</td>\n",
       "      <td>6.50</td>\n",
       "      <td>2.0</td>\n",
       "      <td>Санкт-Петербург</td>\n",
       "      <td>50898.0</td>\n",
       "      <td>15008.0</td>\n",
       "      <td>0.0</td>\n",
       "      <td>NaN</td>\n",
       "      <td>0.0</td>\n",
       "      <td>NaN</td>\n",
       "      <td>289.0</td>\n",
       "    </tr>\n",
       "    <tr>\n",
       "      <th>10</th>\n",
       "      <td>5</td>\n",
       "      <td>5050000.0</td>\n",
       "      <td>39.60</td>\n",
       "      <td>2017-11-16T00:00:00</td>\n",
       "      <td>1</td>\n",
       "      <td>2.67</td>\n",
       "      <td>12.0</td>\n",
       "      <td>20.30</td>\n",
       "      <td>3</td>\n",
       "      <td>NaN</td>\n",
       "      <td>...</td>\n",
       "      <td>8.50</td>\n",
       "      <td>NaN</td>\n",
       "      <td>Санкт-Петербург</td>\n",
       "      <td>38357.0</td>\n",
       "      <td>13878.0</td>\n",
       "      <td>1.0</td>\n",
       "      <td>310.0</td>\n",
       "      <td>2.0</td>\n",
       "      <td>553.0</td>\n",
       "      <td>137.0</td>\n",
       "    </tr>\n",
       "    <tr>\n",
       "      <th>11</th>\n",
       "      <td>9</td>\n",
       "      <td>3300000.0</td>\n",
       "      <td>44.00</td>\n",
       "      <td>2018-08-27T00:00:00</td>\n",
       "      <td>2</td>\n",
       "      <td>NaN</td>\n",
       "      <td>5.0</td>\n",
       "      <td>31.00</td>\n",
       "      <td>4</td>\n",
       "      <td>False</td>\n",
       "      <td>...</td>\n",
       "      <td>6.00</td>\n",
       "      <td>1.0</td>\n",
       "      <td>Ломоносов</td>\n",
       "      <td>48252.0</td>\n",
       "      <td>51677.0</td>\n",
       "      <td>0.0</td>\n",
       "      <td>NaN</td>\n",
       "      <td>0.0</td>\n",
       "      <td>NaN</td>\n",
       "      <td>7.0</td>\n",
       "    </tr>\n",
       "    <tr>\n",
       "      <th>12</th>\n",
       "      <td>10</td>\n",
       "      <td>3890000.0</td>\n",
       "      <td>54.00</td>\n",
       "      <td>2016-06-30T00:00:00</td>\n",
       "      <td>2</td>\n",
       "      <td>NaN</td>\n",
       "      <td>5.0</td>\n",
       "      <td>30.00</td>\n",
       "      <td>5</td>\n",
       "      <td>NaN</td>\n",
       "      <td>...</td>\n",
       "      <td>9.00</td>\n",
       "      <td>0.0</td>\n",
       "      <td>Сертолово</td>\n",
       "      <td>NaN</td>\n",
       "      <td>NaN</td>\n",
       "      <td>NaN</td>\n",
       "      <td>NaN</td>\n",
       "      <td>NaN</td>\n",
       "      <td>NaN</td>\n",
       "      <td>90.0</td>\n",
       "    </tr>\n",
       "    <tr>\n",
       "      <th>13</th>\n",
       "      <td>20</td>\n",
       "      <td>3550000.0</td>\n",
       "      <td>42.80</td>\n",
       "      <td>2017-07-01T00:00:00</td>\n",
       "      <td>2</td>\n",
       "      <td>2.56</td>\n",
       "      <td>5.0</td>\n",
       "      <td>27.00</td>\n",
       "      <td>5</td>\n",
       "      <td>NaN</td>\n",
       "      <td>...</td>\n",
       "      <td>5.20</td>\n",
       "      <td>1.0</td>\n",
       "      <td>Петергоф</td>\n",
       "      <td>37868.0</td>\n",
       "      <td>33058.0</td>\n",
       "      <td>1.0</td>\n",
       "      <td>294.0</td>\n",
       "      <td>3.0</td>\n",
       "      <td>298.0</td>\n",
       "      <td>366.0</td>\n",
       "    </tr>\n",
       "    <tr>\n",
       "      <th>14</th>\n",
       "      <td>1</td>\n",
       "      <td>4400000.0</td>\n",
       "      <td>36.00</td>\n",
       "      <td>2016-06-23T00:00:00</td>\n",
       "      <td>1</td>\n",
       "      <td>NaN</td>\n",
       "      <td>6.0</td>\n",
       "      <td>17.00</td>\n",
       "      <td>1</td>\n",
       "      <td>NaN</td>\n",
       "      <td>...</td>\n",
       "      <td>8.00</td>\n",
       "      <td>0.0</td>\n",
       "      <td>Пушкин</td>\n",
       "      <td>20782.0</td>\n",
       "      <td>30759.0</td>\n",
       "      <td>0.0</td>\n",
       "      <td>NaN</td>\n",
       "      <td>1.0</td>\n",
       "      <td>96.0</td>\n",
       "      <td>203.0</td>\n",
       "    </tr>\n",
       "    <tr>\n",
       "      <th>15</th>\n",
       "      <td>16</td>\n",
       "      <td>4650000.0</td>\n",
       "      <td>39.00</td>\n",
       "      <td>2017-11-18T00:00:00</td>\n",
       "      <td>1</td>\n",
       "      <td>NaN</td>\n",
       "      <td>14.0</td>\n",
       "      <td>20.50</td>\n",
       "      <td>5</td>\n",
       "      <td>NaN</td>\n",
       "      <td>...</td>\n",
       "      <td>7.60</td>\n",
       "      <td>1.0</td>\n",
       "      <td>Санкт-Петербург</td>\n",
       "      <td>12900.0</td>\n",
       "      <td>14259.0</td>\n",
       "      <td>1.0</td>\n",
       "      <td>590.0</td>\n",
       "      <td>1.0</td>\n",
       "      <td>296.0</td>\n",
       "      <td>19.0</td>\n",
       "    </tr>\n",
       "    <tr>\n",
       "      <th>16</th>\n",
       "      <td>11</td>\n",
       "      <td>6700000.0</td>\n",
       "      <td>82.00</td>\n",
       "      <td>2017-11-23T00:00:00</td>\n",
       "      <td>3</td>\n",
       "      <td>3.05</td>\n",
       "      <td>5.0</td>\n",
       "      <td>55.60</td>\n",
       "      <td>1</td>\n",
       "      <td>NaN</td>\n",
       "      <td>...</td>\n",
       "      <td>9.00</td>\n",
       "      <td>NaN</td>\n",
       "      <td>Санкт-Петербург</td>\n",
       "      <td>22108.0</td>\n",
       "      <td>10698.0</td>\n",
       "      <td>3.0</td>\n",
       "      <td>420.0</td>\n",
       "      <td>0.0</td>\n",
       "      <td>NaN</td>\n",
       "      <td>397.0</td>\n",
       "    </tr>\n",
       "    <tr>\n",
       "      <th>17</th>\n",
       "      <td>6</td>\n",
       "      <td>4180000.0</td>\n",
       "      <td>36.00</td>\n",
       "      <td>2016-09-09T00:00:00</td>\n",
       "      <td>1</td>\n",
       "      <td>NaN</td>\n",
       "      <td>17.0</td>\n",
       "      <td>16.50</td>\n",
       "      <td>7</td>\n",
       "      <td>NaN</td>\n",
       "      <td>...</td>\n",
       "      <td>11.00</td>\n",
       "      <td>1.0</td>\n",
       "      <td>Санкт-Петербург</td>\n",
       "      <td>33564.0</td>\n",
       "      <td>14616.0</td>\n",
       "      <td>0.0</td>\n",
       "      <td>NaN</td>\n",
       "      <td>1.0</td>\n",
       "      <td>859.0</td>\n",
       "      <td>571.0</td>\n",
       "    </tr>\n",
       "    <tr>\n",
       "      <th>18</th>\n",
       "      <td>8</td>\n",
       "      <td>3250000.0</td>\n",
       "      <td>31.00</td>\n",
       "      <td>2017-01-27T00:00:00</td>\n",
       "      <td>1</td>\n",
       "      <td>2.50</td>\n",
       "      <td>5.0</td>\n",
       "      <td>19.40</td>\n",
       "      <td>2</td>\n",
       "      <td>NaN</td>\n",
       "      <td>...</td>\n",
       "      <td>5.60</td>\n",
       "      <td>1.0</td>\n",
       "      <td>Санкт-Петербург</td>\n",
       "      <td>44060.0</td>\n",
       "      <td>10842.0</td>\n",
       "      <td>1.0</td>\n",
       "      <td>759.0</td>\n",
       "      <td>0.0</td>\n",
       "      <td>NaN</td>\n",
       "      <td>168.0</td>\n",
       "    </tr>\n",
       "    <tr>\n",
       "      <th>19</th>\n",
       "      <td>16</td>\n",
       "      <td>14200000.0</td>\n",
       "      <td>121.00</td>\n",
       "      <td>2019-01-09T00:00:00</td>\n",
       "      <td>3</td>\n",
       "      <td>2.75</td>\n",
       "      <td>16.0</td>\n",
       "      <td>76.00</td>\n",
       "      <td>8</td>\n",
       "      <td>NaN</td>\n",
       "      <td>...</td>\n",
       "      <td>12.00</td>\n",
       "      <td>NaN</td>\n",
       "      <td>Санкт-Петербург</td>\n",
       "      <td>38900.0</td>\n",
       "      <td>12843.0</td>\n",
       "      <td>0.0</td>\n",
       "      <td>NaN</td>\n",
       "      <td>0.0</td>\n",
       "      <td>NaN</td>\n",
       "      <td>97.0</td>\n",
       "    </tr>\n",
       "  </tbody>\n",
       "</table>\n",
       "<p>20 rows × 22 columns</p>\n",
       "</div>"
      ],
      "text/plain": [
       "    total_images  last_price  total_area first_day_exposition  rooms  \\\n",
       "0             20  13000000.0      108.00  2019-03-07T00:00:00      3   \n",
       "1              7   3350000.0       40.40  2018-12-04T00:00:00      1   \n",
       "2             10   5196000.0       56.00  2015-08-20T00:00:00      2   \n",
       "3              0  64900000.0      159.00  2015-07-24T00:00:00      3   \n",
       "4              2  10000000.0      100.00  2018-06-19T00:00:00      2   \n",
       "5             10   2890000.0       30.40  2018-09-10T00:00:00      1   \n",
       "6              6   3700000.0       37.30  2017-11-02T00:00:00      1   \n",
       "7              5   7915000.0       71.60  2019-04-18T00:00:00      2   \n",
       "8             20   2900000.0       33.16  2018-05-23T00:00:00      1   \n",
       "9             18   5400000.0       61.00  2017-02-26T00:00:00      3   \n",
       "10             5   5050000.0       39.60  2017-11-16T00:00:00      1   \n",
       "11             9   3300000.0       44.00  2018-08-27T00:00:00      2   \n",
       "12            10   3890000.0       54.00  2016-06-30T00:00:00      2   \n",
       "13            20   3550000.0       42.80  2017-07-01T00:00:00      2   \n",
       "14             1   4400000.0       36.00  2016-06-23T00:00:00      1   \n",
       "15            16   4650000.0       39.00  2017-11-18T00:00:00      1   \n",
       "16            11   6700000.0       82.00  2017-11-23T00:00:00      3   \n",
       "17             6   4180000.0       36.00  2016-09-09T00:00:00      1   \n",
       "18             8   3250000.0       31.00  2017-01-27T00:00:00      1   \n",
       "19            16  14200000.0      121.00  2019-01-09T00:00:00      3   \n",
       "\n",
       "    ceiling_height  floors_total  living_area  floor is_apartment  ...  \\\n",
       "0             2.70          16.0        51.00      8          NaN  ...   \n",
       "1              NaN          11.0        18.60      1          NaN  ...   \n",
       "2              NaN           5.0        34.30      4          NaN  ...   \n",
       "3              NaN          14.0          NaN      9          NaN  ...   \n",
       "4             3.03          14.0        32.00     13          NaN  ...   \n",
       "5              NaN          12.0        14.40      5          NaN  ...   \n",
       "6              NaN          26.0        10.60      6          NaN  ...   \n",
       "7              NaN          24.0          NaN     22          NaN  ...   \n",
       "8              NaN          27.0        15.43     26          NaN  ...   \n",
       "9             2.50           9.0        43.60      7          NaN  ...   \n",
       "10            2.67          12.0        20.30      3          NaN  ...   \n",
       "11             NaN           5.0        31.00      4        False  ...   \n",
       "12             NaN           5.0        30.00      5          NaN  ...   \n",
       "13            2.56           5.0        27.00      5          NaN  ...   \n",
       "14             NaN           6.0        17.00      1          NaN  ...   \n",
       "15             NaN          14.0        20.50      5          NaN  ...   \n",
       "16            3.05           5.0        55.60      1          NaN  ...   \n",
       "17             NaN          17.0        16.50      7          NaN  ...   \n",
       "18            2.50           5.0        19.40      2          NaN  ...   \n",
       "19            2.75          16.0        76.00      8          NaN  ...   \n",
       "\n",
       "    kitchen_area  balcony              locality_name  airports_nearest  \\\n",
       "0          25.00      NaN            Санкт-Петербург           18863.0   \n",
       "1          11.00      2.0             посёлок Шушары           12817.0   \n",
       "2           8.30      0.0            Санкт-Петербург           21741.0   \n",
       "3            NaN      0.0            Санкт-Петербург           28098.0   \n",
       "4          41.00      NaN            Санкт-Петербург           31856.0   \n",
       "5           9.10      NaN  городской посёлок Янино-1               NaN   \n",
       "6          14.40      1.0          посёлок Парголово           52996.0   \n",
       "7          18.90      2.0            Санкт-Петербург           23982.0   \n",
       "8           8.81      NaN             посёлок Мурино               NaN   \n",
       "9           6.50      2.0            Санкт-Петербург           50898.0   \n",
       "10          8.50      NaN            Санкт-Петербург           38357.0   \n",
       "11          6.00      1.0                  Ломоносов           48252.0   \n",
       "12          9.00      0.0                  Сертолово               NaN   \n",
       "13          5.20      1.0                   Петергоф           37868.0   \n",
       "14          8.00      0.0                     Пушкин           20782.0   \n",
       "15          7.60      1.0            Санкт-Петербург           12900.0   \n",
       "16          9.00      NaN            Санкт-Петербург           22108.0   \n",
       "17         11.00      1.0            Санкт-Петербург           33564.0   \n",
       "18          5.60      1.0            Санкт-Петербург           44060.0   \n",
       "19         12.00      NaN            Санкт-Петербург           38900.0   \n",
       "\n",
       "   cityCenters_nearest  parks_around3000  parks_nearest  ponds_around3000  \\\n",
       "0              16028.0               1.0          482.0               2.0   \n",
       "1              18603.0               0.0            NaN               0.0   \n",
       "2              13933.0               1.0           90.0               2.0   \n",
       "3               6800.0               2.0           84.0               3.0   \n",
       "4               8098.0               2.0          112.0               1.0   \n",
       "5                  NaN               NaN            NaN               NaN   \n",
       "6              19143.0               0.0            NaN               0.0   \n",
       "7              11634.0               0.0            NaN               0.0   \n",
       "8                  NaN               NaN            NaN               NaN   \n",
       "9              15008.0               0.0            NaN               0.0   \n",
       "10             13878.0               1.0          310.0               2.0   \n",
       "11             51677.0               0.0            NaN               0.0   \n",
       "12                 NaN               NaN            NaN               NaN   \n",
       "13             33058.0               1.0          294.0               3.0   \n",
       "14             30759.0               0.0            NaN               1.0   \n",
       "15             14259.0               1.0          590.0               1.0   \n",
       "16             10698.0               3.0          420.0               0.0   \n",
       "17             14616.0               0.0            NaN               1.0   \n",
       "18             10842.0               1.0          759.0               0.0   \n",
       "19             12843.0               0.0            NaN               0.0   \n",
       "\n",
       "    ponds_nearest  days_exposition  \n",
       "0           755.0              NaN  \n",
       "1             NaN             81.0  \n",
       "2           574.0            558.0  \n",
       "3           234.0            424.0  \n",
       "4            48.0            121.0  \n",
       "5             NaN             55.0  \n",
       "6             NaN            155.0  \n",
       "7             NaN              NaN  \n",
       "8             NaN            189.0  \n",
       "9             NaN            289.0  \n",
       "10          553.0            137.0  \n",
       "11            NaN              7.0  \n",
       "12            NaN             90.0  \n",
       "13          298.0            366.0  \n",
       "14           96.0            203.0  \n",
       "15          296.0             19.0  \n",
       "16            NaN            397.0  \n",
       "17          859.0            571.0  \n",
       "18            NaN            168.0  \n",
       "19            NaN             97.0  \n",
       "\n",
       "[20 rows x 22 columns]"
      ]
     },
     "execution_count": 5,
     "metadata": {},
     "output_type": "execute_result"
    }
   ],
   "source": [
    "data.head(20) #Для ознакомления выведем первые 20 строк"
   ]
  },
  {
   "cell_type": "code",
   "execution_count": 6,
   "metadata": {},
   "outputs": [
    {
     "name": "stdout",
     "output_type": "stream",
     "text": [
      "<class 'pandas.core.frame.DataFrame'>\n",
      "RangeIndex: 23699 entries, 0 to 23698\n",
      "Data columns (total 22 columns):\n",
      " #   Column                Non-Null Count  Dtype  \n",
      "---  ------                --------------  -----  \n",
      " 0   total_images          23699 non-null  int64  \n",
      " 1   last_price            23699 non-null  float64\n",
      " 2   total_area            23699 non-null  float64\n",
      " 3   first_day_exposition  23699 non-null  object \n",
      " 4   rooms                 23699 non-null  int64  \n",
      " 5   ceiling_height        14504 non-null  float64\n",
      " 6   floors_total          23613 non-null  float64\n",
      " 7   living_area           21796 non-null  float64\n",
      " 8   floor                 23699 non-null  int64  \n",
      " 9   is_apartment          2775 non-null   object \n",
      " 10  studio                23699 non-null  bool   \n",
      " 11  open_plan             23699 non-null  bool   \n",
      " 12  kitchen_area          21421 non-null  float64\n",
      " 13  balcony               12180 non-null  float64\n",
      " 14  locality_name         23650 non-null  object \n",
      " 15  airports_nearest      18157 non-null  float64\n",
      " 16  cityCenters_nearest   18180 non-null  float64\n",
      " 17  parks_around3000      18181 non-null  float64\n",
      " 18  parks_nearest         8079 non-null   float64\n",
      " 19  ponds_around3000      18181 non-null  float64\n",
      " 20  ponds_nearest         9110 non-null   float64\n",
      " 21  days_exposition       20518 non-null  float64\n",
      "dtypes: bool(2), float64(14), int64(3), object(3)\n",
      "memory usage: 3.7+ MB\n"
     ]
    }
   ],
   "source": [
    "data.info() #Выведем основную информацию о датафрейме"
   ]
  },
  {
   "cell_type": "code",
   "execution_count": 7,
   "metadata": {
    "scrolled": true
   },
   "outputs": [
    {
     "data": {
      "text/plain": [
       "array([[<AxesSubplot:title={'center':'total_images'}>,\n",
       "        <AxesSubplot:title={'center':'last_price'}>,\n",
       "        <AxesSubplot:title={'center':'total_area'}>,\n",
       "        <AxesSubplot:title={'center':'rooms'}>],\n",
       "       [<AxesSubplot:title={'center':'ceiling_height'}>,\n",
       "        <AxesSubplot:title={'center':'floors_total'}>,\n",
       "        <AxesSubplot:title={'center':'living_area'}>,\n",
       "        <AxesSubplot:title={'center':'floor'}>],\n",
       "       [<AxesSubplot:title={'center':'kitchen_area'}>,\n",
       "        <AxesSubplot:title={'center':'balcony'}>,\n",
       "        <AxesSubplot:title={'center':'airports_nearest'}>,\n",
       "        <AxesSubplot:title={'center':'cityCenters_nearest'}>],\n",
       "       [<AxesSubplot:title={'center':'parks_around3000'}>,\n",
       "        <AxesSubplot:title={'center':'parks_nearest'}>,\n",
       "        <AxesSubplot:title={'center':'ponds_around3000'}>,\n",
       "        <AxesSubplot:title={'center':'ponds_nearest'}>],\n",
       "       [<AxesSubplot:title={'center':'days_exposition'}>, <AxesSubplot:>,\n",
       "        <AxesSubplot:>, <AxesSubplot:>]], dtype=object)"
      ]
     },
     "execution_count": 7,
     "metadata": {},
     "output_type": "execute_result"
    },
    {
     "data": {
      "image/png": "[encoded data removed]",
      "text/plain": [
       "<Figure size 1080x1440 with 20 Axes>"
      ]
     },
     "metadata": {
      "needs_background": "light"
     },
     "output_type": "display_data"
    }
   ],
   "source": [
    "data.hist(figsize=(15, 20)) #Для наглядности построем общую гистограмму для всех числовых столбцов таблицы."
   ]
  },
  {
   "cell_type": "markdown",
   "metadata": {},
   "source": [
    "## Предобработка данных"
   ]
  },
  {
   "cell_type": "markdown",
   "metadata": {},
   "source": [
    "### Пропущенные значения"
   ]
  },
  {
   "cell_type": "code",
   "execution_count": 8,
   "metadata": {},
   "outputs": [
    {
     "data": {
      "text/plain": [
       "total_images                0\n",
       "last_price                  0\n",
       "total_area                  0\n",
       "first_day_exposition        0\n",
       "rooms                       0\n",
       "ceiling_height           9195\n",
       "floors_total               86\n",
       "living_area              1903\n",
       "floor                       0\n",
       "is_apartment            20924\n",
       "studio                      0\n",
       "open_plan                   0\n",
       "kitchen_area             2278\n",
       "balcony                 11519\n",
       "locality_name              49\n",
       "airports_nearest         5542\n",
       "cityCenters_nearest      5519\n",
       "parks_around3000         5518\n",
       "parks_nearest           15620\n",
       "ponds_around3000         5518\n",
       "ponds_nearest           14589\n",
       "days_exposition          3181\n",
       "dtype: int64"
      ]
     },
     "execution_count": 8,
     "metadata": {},
     "output_type": "execute_result"
    }
   ],
   "source": [
    "data.isna().sum() #Найдем общее количество пропущенных значений"
   ]
  },
  {
   "cell_type": "code",
   "execution_count": 9,
   "metadata": {
    "scrolled": true
   },
   "outputs": [
    {
     "data": {
      "text/html": [
       "<style  type=\"text/css\" >\n",
       "#T_c8476_row0_col0,#T_c8476_row1_col0,#T_c8476_row2_col0,#T_c8476_row3_col0,#T_c8476_row4_col0,#T_c8476_row8_col0,#T_c8476_row10_col0,#T_c8476_row11_col0,#T_c8476_row14_col0{\n",
       "            background-color:  #3b4cc0;\n",
       "            color:  #f1f1f1;\n",
       "        }#T_c8476_row5_col0{\n",
       "            background-color:  #ccd9ed;\n",
       "            color:  #000000;\n",
       "        }#T_c8476_row6_col0{\n",
       "            background-color:  #3c4ec2;\n",
       "            color:  #f1f1f1;\n",
       "        }#T_c8476_row7_col0{\n",
       "            background-color:  #5673e0;\n",
       "            color:  #000000;\n",
       "        }#T_c8476_row9_col0{\n",
       "            background-color:  #b40426;\n",
       "            color:  #f1f1f1;\n",
       "        }#T_c8476_row12_col0{\n",
       "            background-color:  #5b7ae5;\n",
       "            color:  #000000;\n",
       "        }#T_c8476_row13_col0{\n",
       "            background-color:  #e9d5cb;\n",
       "            color:  #000000;\n",
       "        }#T_c8476_row15_col0,#T_c8476_row16_col0,#T_c8476_row17_col0,#T_c8476_row19_col0{\n",
       "            background-color:  #92b4fe;\n",
       "            color:  #000000;\n",
       "        }#T_c8476_row18_col0{\n",
       "            background-color:  #f49a7b;\n",
       "            color:  #000000;\n",
       "        }#T_c8476_row20_col0{\n",
       "            background-color:  #f7ad90;\n",
       "            color:  #000000;\n",
       "        }#T_c8476_row21_col0{\n",
       "            background-color:  #6a8bef;\n",
       "            color:  #000000;\n",
       "        }</style><table id=\"T_c8476_\" ><thead>    <tr>        <th class=\"blank level0\" ></th>        <th class=\"col_heading level0 col0\" >0</th>    </tr></thead><tbody>\n",
       "                <tr>\n",
       "                        <th id=\"T_c8476_level0_row0\" class=\"row_heading level0 row0\" >total_images</th>\n",
       "                        <td id=\"T_c8476_row0_col0\" class=\"data row0 col0\" >0.0</td>\n",
       "            </tr>\n",
       "            <tr>\n",
       "                        <th id=\"T_c8476_level0_row1\" class=\"row_heading level0 row1\" >last_price</th>\n",
       "                        <td id=\"T_c8476_row1_col0\" class=\"data row1 col0\" >0.0</td>\n",
       "            </tr>\n",
       "            <tr>\n",
       "                        <th id=\"T_c8476_level0_row2\" class=\"row_heading level0 row2\" >total_area</th>\n",
       "                        <td id=\"T_c8476_row2_col0\" class=\"data row2 col0\" >0.0</td>\n",
       "            </tr>\n",
       "            <tr>\n",
       "                        <th id=\"T_c8476_level0_row3\" class=\"row_heading level0 row3\" >first_day_exposition</th>\n",
       "                        <td id=\"T_c8476_row3_col0\" class=\"data row3 col0\" >0.0</td>\n",
       "            </tr>\n",
       "            <tr>\n",
       "                        <th id=\"T_c8476_level0_row4\" class=\"row_heading level0 row4\" >rooms</th>\n",
       "                        <td id=\"T_c8476_row4_col0\" class=\"data row4 col0\" >0.0</td>\n",
       "            </tr>\n",
       "            <tr>\n",
       "                        <th id=\"T_c8476_level0_row5\" class=\"row_heading level0 row5\" >ceiling_height</th>\n",
       "                        <td id=\"T_c8476_row5_col0\" class=\"data row5 col0\" >38.8</td>\n",
       "            </tr>\n",
       "            <tr>\n",
       "                        <th id=\"T_c8476_level0_row6\" class=\"row_heading level0 row6\" >floors_total</th>\n",
       "                        <td id=\"T_c8476_row6_col0\" class=\"data row6 col0\" >0.4</td>\n",
       "            </tr>\n",
       "            <tr>\n",
       "                        <th id=\"T_c8476_level0_row7\" class=\"row_heading level0 row7\" >living_area</th>\n",
       "                        <td id=\"T_c8476_row7_col0\" class=\"data row7 col0\" >8.0</td>\n",
       "            </tr>\n",
       "            <tr>\n",
       "                        <th id=\"T_c8476_level0_row8\" class=\"row_heading level0 row8\" >floor</th>\n",
       "                        <td id=\"T_c8476_row8_col0\" class=\"data row8 col0\" >0.0</td>\n",
       "            </tr>\n",
       "            <tr>\n",
       "                        <th id=\"T_c8476_level0_row9\" class=\"row_heading level0 row9\" >is_apartment</th>\n",
       "                        <td id=\"T_c8476_row9_col0\" class=\"data row9 col0\" >88.3</td>\n",
       "            </tr>\n",
       "            <tr>\n",
       "                        <th id=\"T_c8476_level0_row10\" class=\"row_heading level0 row10\" >studio</th>\n",
       "                        <td id=\"T_c8476_row10_col0\" class=\"data row10 col0\" >0.0</td>\n",
       "            </tr>\n",
       "            <tr>\n",
       "                        <th id=\"T_c8476_level0_row11\" class=\"row_heading level0 row11\" >open_plan</th>\n",
       "                        <td id=\"T_c8476_row11_col0\" class=\"data row11 col0\" >0.0</td>\n",
       "            </tr>\n",
       "            <tr>\n",
       "                        <th id=\"T_c8476_level0_row12\" class=\"row_heading level0 row12\" >kitchen_area</th>\n",
       "                        <td id=\"T_c8476_row12_col0\" class=\"data row12 col0\" >9.6</td>\n",
       "            </tr>\n",
       "            <tr>\n",
       "                        <th id=\"T_c8476_level0_row13\" class=\"row_heading level0 row13\" >balcony</th>\n",
       "                        <td id=\"T_c8476_row13_col0\" class=\"data row13 col0\" >48.6</td>\n",
       "            </tr>\n",
       "            <tr>\n",
       "                        <th id=\"T_c8476_level0_row14\" class=\"row_heading level0 row14\" >locality_name</th>\n",
       "                        <td id=\"T_c8476_row14_col0\" class=\"data row14 col0\" >0.2</td>\n",
       "            </tr>\n",
       "            <tr>\n",
       "                        <th id=\"T_c8476_level0_row15\" class=\"row_heading level0 row15\" >airports_nearest</th>\n",
       "                        <td id=\"T_c8476_row15_col0\" class=\"data row15 col0\" >23.4</td>\n",
       "            </tr>\n",
       "            <tr>\n",
       "                        <th id=\"T_c8476_level0_row16\" class=\"row_heading level0 row16\" >cityCenters_nearest</th>\n",
       "                        <td id=\"T_c8476_row16_col0\" class=\"data row16 col0\" >23.3</td>\n",
       "            </tr>\n",
       "            <tr>\n",
       "                        <th id=\"T_c8476_level0_row17\" class=\"row_heading level0 row17\" >parks_around3000</th>\n",
       "                        <td id=\"T_c8476_row17_col0\" class=\"data row17 col0\" >23.3</td>\n",
       "            </tr>\n",
       "            <tr>\n",
       "                        <th id=\"T_c8476_level0_row18\" class=\"row_heading level0 row18\" >parks_nearest</th>\n",
       "                        <td id=\"T_c8476_row18_col0\" class=\"data row18 col0\" >65.9</td>\n",
       "            </tr>\n",
       "            <tr>\n",
       "                        <th id=\"T_c8476_level0_row19\" class=\"row_heading level0 row19\" >ponds_around3000</th>\n",
       "                        <td id=\"T_c8476_row19_col0\" class=\"data row19 col0\" >23.3</td>\n",
       "            </tr>\n",
       "            <tr>\n",
       "                        <th id=\"T_c8476_level0_row20\" class=\"row_heading level0 row20\" >ponds_nearest</th>\n",
       "                        <td id=\"T_c8476_row20_col0\" class=\"data row20 col0\" >61.6</td>\n",
       "            </tr>\n",
       "            <tr>\n",
       "                        <th id=\"T_c8476_level0_row21\" class=\"row_heading level0 row21\" >days_exposition</th>\n",
       "                        <td id=\"T_c8476_row21_col0\" class=\"data row21 col0\" >13.4</td>\n",
       "            </tr>\n",
       "    </tbody></table>"
      ],
      "text/plain": [
       "<pandas.io.formats.style.Styler at 0x7f088ee68910>"
      ]
     },
     "execution_count": 9,
     "metadata": {},
     "output_type": "execute_result"
    }
   ],
   "source": [
    "#Для лучшей наглядности выведем сразу долю пропусков\n",
    "pd.DataFrame(data.isna().mean()*100).style.set_precision(1).background_gradient('coolwarm')"
   ]
  },
  {
   "cell_type": "markdown",
   "metadata": {},
   "source": [
    "В 14 столбцах из 22 были найдены пропущенные значения. Изучим столбцы и заполним пропущенные значения там, где это возможно.\n",
    "- `is_apartment` - первое что бросается в глаза с долей пропусков в 88%. Исходя из описания к данным - этот столбец отвечает на вопрос: относится ли данное помещение к апартаментам? Для начала разберемся: что такое апартаменты? Апартаменты — это нежилые, но по характеристикам и удобствам практически не уступающие квартирам помещения, в которых можно жить. Ввиду большого процента пропусков, отследить как те или данные влияют на данный столбец - мы не можем, и следовательно восстановить данные также не получится. В связи с этим, это столбец можем оставить без обработки.\n",
    "- `airports_nearest`, `cityCenters_nearest`, `parks_around3000`, `parks_nearest`, `ponds_around3000`, `ponds_nearest` - значения в данных столбцах были получены автоматически на основе картографических данных. Следовательно пропуски в значениях могут означать, что то или иное значение просто невозможно указать. Например, отсутствие аэропорта в посёлке, и тем самым указывать расстояние до аэропорта - неккоректно, или расстояние до ближайшего парка, может указывать на то, что парка в населенном пункте - нет. Единственные пропуски, которые можно обработать в данных столбцах - это наличие парков или водоемов в радиусе 3 км - если данные не удалось получить, то можно предположить, что их просто нет, и следовательно все пропуски мы може прировнять к нулю. Следовательно отсутствие значений в расстояних до ближайшего водоема или парка, указывает опять же на то, что в радиусе 3 км, их просто нет, следовательно значения можно оставить пустыми, так как заполнять их какими то медианными или срелними значениями будет неккоректно.\n",
    "- `balcony` - продавец просто мог не указать количество балконов, так как их у него нет. Следовательно все пропуски можно заполнить значением '0'.\n",
    "- `ceiling_height` - пропуски в данном столбце можно заполнить медианным значением по каждому населенному пункту, предварительно изучив столбец на аномалии.\n",
    "- `floors_total` - процент пропусков незначителен, поэтому пропуски можно удалить.\n",
    "- `locality_name` - доля пропусков совсем мала, строки с пропущенными значениями просто удалим\n",
    "- `kitchen area` и `living_area` - найдем соотношение медианной общей площади к медианной жилой/кухонной. А затем, заполним пропуски в столбце `living_area`/`kitchen_area` отношением общей площади к найденному соотношению.\n",
    "- `days_exposition` - пропуски в данних столбцах могут озночать то, что на момент выгрузки данных, объявление еще активно"
   ]
  },
  {
   "cell_type": "code",
   "execution_count": 10,
   "metadata": {},
   "outputs": [],
   "source": [
    "data['balcony'] = data['balcony'].fillna(0) #Заполним пропуски в столбце balcony"
   ]
  },
  {
   "cell_type": "code",
   "execution_count": 11,
   "metadata": {},
   "outputs": [],
   "source": [
    "data = data.dropna(subset=['locality_name']) #Удалим пропущенные значения в столбце locality_name"
   ]
  },
  {
   "cell_type": "code",
   "execution_count": 12,
   "metadata": {},
   "outputs": [],
   "source": [
    "data = data.dropna(subset=['floors_total']) #Удалим пропущенные значения в столбце locality_name"
   ]
  },
  {
   "cell_type": "code",
   "execution_count": 13,
   "metadata": {},
   "outputs": [],
   "source": [
    "data['parks_around3000'] = data['parks_around3000'].fillna(0) #Заполним пропуски в park_nearest"
   ]
  },
  {
   "cell_type": "code",
   "execution_count": 14,
   "metadata": {},
   "outputs": [],
   "source": [
    "data['ponds_around3000'] = data['ponds_around3000'].fillna(0) #Заполним пропуски в ponds_nearest"
   ]
  },
  {
   "cell_type": "code",
   "execution_count": 15,
   "metadata": {},
   "outputs": [],
   "source": [
    "#Высоту потолков каждого населенного пункта заполним медианным значением этого населенного пункта\n",
    "for t in data['locality_name'].unique():\n",
    "    try:\n",
    "        data.loc[(data['locality_name'] == t) & (data['ceiling_height'].isna()), 'ceiling_height'] = \\\n",
    "        data.loc[(data['locality_name'] == t), 'ceiling_height'].median()\n",
    "    except:\n",
    "        pass\n",
    "#Ввиду отсутствия значения высоты потолка в некоторых населенных пунктах, выходила ошибка, которую мы убрали с помощью\n",
    "#библиотеки warnings"
   ]
  },
  {
   "cell_type": "code",
   "execution_count": 16,
   "metadata": {
    "scrolled": true
   },
   "outputs": [
    {
     "data": {
      "text/plain": [
       "120"
      ]
     },
     "execution_count": 16,
     "metadata": {},
     "output_type": "execute_result"
    }
   ],
   "source": [
    "data['ceiling_height'].isna().sum() #Проверим количество пропущенных значений после заполнения медианной"
   ]
  },
  {
   "cell_type": "markdown",
   "metadata": {},
   "source": [
    "В столбце `ceiling_height` осталось незначительно количество пропусков, от которых мы просто избавимся."
   ]
  },
  {
   "cell_type": "code",
   "execution_count": 17,
   "metadata": {},
   "outputs": [],
   "source": [
    "data = data.dropna(subset=['ceiling_height'])"
   ]
  },
  {
   "cell_type": "code",
   "execution_count": 18,
   "metadata": {},
   "outputs": [
    {
     "data": {
      "text/html": [
       "<style  type=\"text/css\" >\n",
       "#T_e1529_row0_col0,#T_e1529_row1_col0,#T_e1529_row2_col0,#T_e1529_row3_col0,#T_e1529_row4_col0,#T_e1529_row5_col0,#T_e1529_row6_col0,#T_e1529_row8_col0,#T_e1529_row10_col0,#T_e1529_row11_col0,#T_e1529_row13_col0,#T_e1529_row14_col0,#T_e1529_row17_col0,#T_e1529_row19_col0{\n",
       "            background-color:  #3b4cc0;\n",
       "            color:  #f1f1f1;\n",
       "        }#T_e1529_row7_col0{\n",
       "            background-color:  #5572df;\n",
       "            color:  #000000;\n",
       "        }#T_e1529_row9_col0{\n",
       "            background-color:  #b40426;\n",
       "            color:  #f1f1f1;\n",
       "        }#T_e1529_row12_col0{\n",
       "            background-color:  #5b7ae5;\n",
       "            color:  #000000;\n",
       "        }#T_e1529_row15_col0,#T_e1529_row16_col0{\n",
       "            background-color:  #90b2fe;\n",
       "            color:  #000000;\n",
       "        }#T_e1529_row18_col0{\n",
       "            background-color:  #f59c7d;\n",
       "            color:  #000000;\n",
       "        }#T_e1529_row20_col0{\n",
       "            background-color:  #f7ad90;\n",
       "            color:  #000000;\n",
       "        }#T_e1529_row21_col0{\n",
       "            background-color:  #6a8bef;\n",
       "            color:  #000000;\n",
       "        }</style><table id=\"T_e1529_\" ><thead>    <tr>        <th class=\"blank level0\" ></th>        <th class=\"col_heading level0 col0\" >0</th>    </tr></thead><tbody>\n",
       "                <tr>\n",
       "                        <th id=\"T_e1529_level0_row0\" class=\"row_heading level0 row0\" >total_images</th>\n",
       "                        <td id=\"T_e1529_row0_col0\" class=\"data row0 col0\" >0.0</td>\n",
       "            </tr>\n",
       "            <tr>\n",
       "                        <th id=\"T_e1529_level0_row1\" class=\"row_heading level0 row1\" >last_price</th>\n",
       "                        <td id=\"T_e1529_row1_col0\" class=\"data row1 col0\" >0.0</td>\n",
       "            </tr>\n",
       "            <tr>\n",
       "                        <th id=\"T_e1529_level0_row2\" class=\"row_heading level0 row2\" >total_area</th>\n",
       "                        <td id=\"T_e1529_row2_col0\" class=\"data row2 col0\" >0.0</td>\n",
       "            </tr>\n",
       "            <tr>\n",
       "                        <th id=\"T_e1529_level0_row3\" class=\"row_heading level0 row3\" >first_day_exposition</th>\n",
       "                        <td id=\"T_e1529_row3_col0\" class=\"data row3 col0\" >0.0</td>\n",
       "            </tr>\n",
       "            <tr>\n",
       "                        <th id=\"T_e1529_level0_row4\" class=\"row_heading level0 row4\" >rooms</th>\n",
       "                        <td id=\"T_e1529_row4_col0\" class=\"data row4 col0\" >0.0</td>\n",
       "            </tr>\n",
       "            <tr>\n",
       "                        <th id=\"T_e1529_level0_row5\" class=\"row_heading level0 row5\" >ceiling_height</th>\n",
       "                        <td id=\"T_e1529_row5_col0\" class=\"data row5 col0\" >0.0</td>\n",
       "            </tr>\n",
       "            <tr>\n",
       "                        <th id=\"T_e1529_level0_row6\" class=\"row_heading level0 row6\" >floors_total</th>\n",
       "                        <td id=\"T_e1529_row6_col0\" class=\"data row6 col0\" >0.0</td>\n",
       "            </tr>\n",
       "            <tr>\n",
       "                        <th id=\"T_e1529_level0_row7\" class=\"row_heading level0 row7\" >living_area</th>\n",
       "                        <td id=\"T_e1529_row7_col0\" class=\"data row7 col0\" >7.9</td>\n",
       "            </tr>\n",
       "            <tr>\n",
       "                        <th id=\"T_e1529_level0_row8\" class=\"row_heading level0 row8\" >floor</th>\n",
       "                        <td id=\"T_e1529_row8_col0\" class=\"data row8 col0\" >0.0</td>\n",
       "            </tr>\n",
       "            <tr>\n",
       "                        <th id=\"T_e1529_level0_row9\" class=\"row_heading level0 row9\" >is_apartment</th>\n",
       "                        <td id=\"T_e1529_row9_col0\" class=\"data row9 col0\" >88.3</td>\n",
       "            </tr>\n",
       "            <tr>\n",
       "                        <th id=\"T_e1529_level0_row10\" class=\"row_heading level0 row10\" >studio</th>\n",
       "                        <td id=\"T_e1529_row10_col0\" class=\"data row10 col0\" >0.0</td>\n",
       "            </tr>\n",
       "            <tr>\n",
       "                        <th id=\"T_e1529_level0_row11\" class=\"row_heading level0 row11\" >open_plan</th>\n",
       "                        <td id=\"T_e1529_row11_col0\" class=\"data row11 col0\" >0.0</td>\n",
       "            </tr>\n",
       "            <tr>\n",
       "                        <th id=\"T_e1529_level0_row12\" class=\"row_heading level0 row12\" >kitchen_area</th>\n",
       "                        <td id=\"T_e1529_row12_col0\" class=\"data row12 col0\" >9.4</td>\n",
       "            </tr>\n",
       "            <tr>\n",
       "                        <th id=\"T_e1529_level0_row13\" class=\"row_heading level0 row13\" >balcony</th>\n",
       "                        <td id=\"T_e1529_row13_col0\" class=\"data row13 col0\" >0.0</td>\n",
       "            </tr>\n",
       "            <tr>\n",
       "                        <th id=\"T_e1529_level0_row14\" class=\"row_heading level0 row14\" >locality_name</th>\n",
       "                        <td id=\"T_e1529_row14_col0\" class=\"data row14 col0\" >0.0</td>\n",
       "            </tr>\n",
       "            <tr>\n",
       "                        <th id=\"T_e1529_level0_row15\" class=\"row_heading level0 row15\" >airports_nearest</th>\n",
       "                        <td id=\"T_e1529_row15_col0\" class=\"data row15 col0\" >23.1</td>\n",
       "            </tr>\n",
       "            <tr>\n",
       "                        <th id=\"T_e1529_level0_row16\" class=\"row_heading level0 row16\" >cityCenters_nearest</th>\n",
       "                        <td id=\"T_e1529_row16_col0\" class=\"data row16 col0\" >23.0</td>\n",
       "            </tr>\n",
       "            <tr>\n",
       "                        <th id=\"T_e1529_level0_row17\" class=\"row_heading level0 row17\" >parks_around3000</th>\n",
       "                        <td id=\"T_e1529_row17_col0\" class=\"data row17 col0\" >0.0</td>\n",
       "            </tr>\n",
       "            <tr>\n",
       "                        <th id=\"T_e1529_level0_row18\" class=\"row_heading level0 row18\" >parks_nearest</th>\n",
       "                        <td id=\"T_e1529_row18_col0\" class=\"data row18 col0\" >65.7</td>\n",
       "            </tr>\n",
       "            <tr>\n",
       "                        <th id=\"T_e1529_level0_row19\" class=\"row_heading level0 row19\" >ponds_around3000</th>\n",
       "                        <td id=\"T_e1529_row19_col0\" class=\"data row19 col0\" >0.0</td>\n",
       "            </tr>\n",
       "            <tr>\n",
       "                        <th id=\"T_e1529_level0_row20\" class=\"row_heading level0 row20\" >ponds_nearest</th>\n",
       "                        <td id=\"T_e1529_row20_col0\" class=\"data row20 col0\" >61.5</td>\n",
       "            </tr>\n",
       "            <tr>\n",
       "                        <th id=\"T_e1529_level0_row21\" class=\"row_heading level0 row21\" >days_exposition</th>\n",
       "                        <td id=\"T_e1529_row21_col0\" class=\"data row21 col0\" >13.4</td>\n",
       "            </tr>\n",
       "    </tbody></table>"
      ],
      "text/plain": [
       "<pandas.io.formats.style.Styler at 0x7f088f8fa970>"
      ]
     },
     "execution_count": 18,
     "metadata": {},
     "output_type": "execute_result"
    }
   ],
   "source": [
    "#Еще раз взглянем на пропущенные значения\n",
    "pd.DataFrame(data.isna().mean()*100).style.set_precision(1).background_gradient('coolwarm')"
   ]
  },
  {
   "cell_type": "code",
   "execution_count": 19,
   "metadata": {},
   "outputs": [],
   "source": [
    "#код ревьюера\n",
    "living_median_area = (data['total_area']).median()/(data['living_area']).median()\n",
    "data.loc[data['living_area'].isna(),'living_area'] = data['total_area']/living_median_area\n",
    "\n",
    "kitchen_median_area = (data['total_area']).median()/(data['kitchen_area']).median()\n",
    "data.loc[data['kitchen_area'].isna(),'kitchen_area'] = data['total_area']/kitchen_median_area"
   ]
  },
  {
   "cell_type": "code",
   "execution_count": 20,
   "metadata": {},
   "outputs": [],
   "source": [
    "#Найдем соотношение медианной общей площади к медианной жилой площади и сохраним в переменной ratio_la\n",
    "#ratio_la = data['total_area'].median()/data['living_area'].median()"
   ]
  },
  {
   "cell_type": "code",
   "execution_count": 21,
   "metadata": {},
   "outputs": [
    {
     "data": {
      "text/plain": [
       "\"for row in data['total_area']:\\n    data.loc[(data['total_area'] == row) & (data['living_area'].isna()), 'living_area'] =     row / ratio_la\""
      ]
     },
     "execution_count": 21,
     "metadata": {},
     "output_type": "execute_result"
    }
   ],
   "source": [
    "#Далее применим цикл, который пройдется по каждому значению общей площади, и заполнит пропуски \n",
    "#отношением общей площади к найденному соотношению\n",
    "'''for row in data['total_area']:\n",
    "    data.loc[(data['total_area'] == row) & (data['living_area'].isna()), 'living_area'] = \\\n",
    "    row / ratio_la'''"
   ]
  },
  {
   "cell_type": "code",
   "execution_count": 22,
   "metadata": {},
   "outputs": [],
   "source": [
    "#Повторим действия, но уже для заполнения пропусков в площадях кухонь\n",
    "#ratio_ka = data['total_area'].median()/data['kitchen_area'].median()"
   ]
  },
  {
   "cell_type": "code",
   "execution_count": 23,
   "metadata": {},
   "outputs": [
    {
     "data": {
      "text/plain": [
       "\"for row in data['total_area']:\\n    data.loc[(data['total_area'] == row) & (data['kitchen_area'].isna()), 'kitchen_area'] =     row / ratio_ka\""
      ]
     },
     "execution_count": 23,
     "metadata": {},
     "output_type": "execute_result"
    }
   ],
   "source": [
    "'''for row in data['total_area']:\n",
    "    data.loc[(data['total_area'] == row) & (data['kitchen_area'].isna()), 'kitchen_area'] = \\\n",
    "    row / ratio_ka'''"
   ]
  },
  {
   "cell_type": "code",
   "execution_count": 24,
   "metadata": {},
   "outputs": [
    {
     "data": {
      "text/html": [
       "<style  type=\"text/css\" >\n",
       "#T_7aae8_row0_col0,#T_7aae8_row1_col0,#T_7aae8_row2_col0,#T_7aae8_row3_col0,#T_7aae8_row4_col0,#T_7aae8_row5_col0,#T_7aae8_row6_col0,#T_7aae8_row7_col0,#T_7aae8_row8_col0,#T_7aae8_row10_col0,#T_7aae8_row11_col0,#T_7aae8_row12_col0,#T_7aae8_row13_col0,#T_7aae8_row14_col0,#T_7aae8_row17_col0,#T_7aae8_row19_col0{\n",
       "            background-color:  #3b4cc0;\n",
       "            color:  #f1f1f1;\n",
       "        }#T_7aae8_row9_col0{\n",
       "            background-color:  #b40426;\n",
       "            color:  #f1f1f1;\n",
       "        }#T_7aae8_row15_col0,#T_7aae8_row16_col0{\n",
       "            background-color:  #90b2fe;\n",
       "            color:  #000000;\n",
       "        }#T_7aae8_row18_col0{\n",
       "            background-color:  #f59c7d;\n",
       "            color:  #000000;\n",
       "        }#T_7aae8_row20_col0{\n",
       "            background-color:  #f7ad90;\n",
       "            color:  #000000;\n",
       "        }#T_7aae8_row21_col0{\n",
       "            background-color:  #6a8bef;\n",
       "            color:  #000000;\n",
       "        }</style><table id=\"T_7aae8_\" ><thead>    <tr>        <th class=\"blank level0\" ></th>        <th class=\"col_heading level0 col0\" >0</th>    </tr></thead><tbody>\n",
       "                <tr>\n",
       "                        <th id=\"T_7aae8_level0_row0\" class=\"row_heading level0 row0\" >total_images</th>\n",
       "                        <td id=\"T_7aae8_row0_col0\" class=\"data row0 col0\" >0.0</td>\n",
       "            </tr>\n",
       "            <tr>\n",
       "                        <th id=\"T_7aae8_level0_row1\" class=\"row_heading level0 row1\" >last_price</th>\n",
       "                        <td id=\"T_7aae8_row1_col0\" class=\"data row1 col0\" >0.0</td>\n",
       "            </tr>\n",
       "            <tr>\n",
       "                        <th id=\"T_7aae8_level0_row2\" class=\"row_heading level0 row2\" >total_area</th>\n",
       "                        <td id=\"T_7aae8_row2_col0\" class=\"data row2 col0\" >0.0</td>\n",
       "            </tr>\n",
       "            <tr>\n",
       "                        <th id=\"T_7aae8_level0_row3\" class=\"row_heading level0 row3\" >first_day_exposition</th>\n",
       "                        <td id=\"T_7aae8_row3_col0\" class=\"data row3 col0\" >0.0</td>\n",
       "            </tr>\n",
       "            <tr>\n",
       "                        <th id=\"T_7aae8_level0_row4\" class=\"row_heading level0 row4\" >rooms</th>\n",
       "                        <td id=\"T_7aae8_row4_col0\" class=\"data row4 col0\" >0.0</td>\n",
       "            </tr>\n",
       "            <tr>\n",
       "                        <th id=\"T_7aae8_level0_row5\" class=\"row_heading level0 row5\" >ceiling_height</th>\n",
       "                        <td id=\"T_7aae8_row5_col0\" class=\"data row5 col0\" >0.0</td>\n",
       "            </tr>\n",
       "            <tr>\n",
       "                        <th id=\"T_7aae8_level0_row6\" class=\"row_heading level0 row6\" >floors_total</th>\n",
       "                        <td id=\"T_7aae8_row6_col0\" class=\"data row6 col0\" >0.0</td>\n",
       "            </tr>\n",
       "            <tr>\n",
       "                        <th id=\"T_7aae8_level0_row7\" class=\"row_heading level0 row7\" >living_area</th>\n",
       "                        <td id=\"T_7aae8_row7_col0\" class=\"data row7 col0\" >0.0</td>\n",
       "            </tr>\n",
       "            <tr>\n",
       "                        <th id=\"T_7aae8_level0_row8\" class=\"row_heading level0 row8\" >floor</th>\n",
       "                        <td id=\"T_7aae8_row8_col0\" class=\"data row8 col0\" >0.0</td>\n",
       "            </tr>\n",
       "            <tr>\n",
       "                        <th id=\"T_7aae8_level0_row9\" class=\"row_heading level0 row9\" >is_apartment</th>\n",
       "                        <td id=\"T_7aae8_row9_col0\" class=\"data row9 col0\" >88.3</td>\n",
       "            </tr>\n",
       "            <tr>\n",
       "                        <th id=\"T_7aae8_level0_row10\" class=\"row_heading level0 row10\" >studio</th>\n",
       "                        <td id=\"T_7aae8_row10_col0\" class=\"data row10 col0\" >0.0</td>\n",
       "            </tr>\n",
       "            <tr>\n",
       "                        <th id=\"T_7aae8_level0_row11\" class=\"row_heading level0 row11\" >open_plan</th>\n",
       "                        <td id=\"T_7aae8_row11_col0\" class=\"data row11 col0\" >0.0</td>\n",
       "            </tr>\n",
       "            <tr>\n",
       "                        <th id=\"T_7aae8_level0_row12\" class=\"row_heading level0 row12\" >kitchen_area</th>\n",
       "                        <td id=\"T_7aae8_row12_col0\" class=\"data row12 col0\" >0.0</td>\n",
       "            </tr>\n",
       "            <tr>\n",
       "                        <th id=\"T_7aae8_level0_row13\" class=\"row_heading level0 row13\" >balcony</th>\n",
       "                        <td id=\"T_7aae8_row13_col0\" class=\"data row13 col0\" >0.0</td>\n",
       "            </tr>\n",
       "            <tr>\n",
       "                        <th id=\"T_7aae8_level0_row14\" class=\"row_heading level0 row14\" >locality_name</th>\n",
       "                        <td id=\"T_7aae8_row14_col0\" class=\"data row14 col0\" >0.0</td>\n",
       "            </tr>\n",
       "            <tr>\n",
       "                        <th id=\"T_7aae8_level0_row15\" class=\"row_heading level0 row15\" >airports_nearest</th>\n",
       "                        <td id=\"T_7aae8_row15_col0\" class=\"data row15 col0\" >23.1</td>\n",
       "            </tr>\n",
       "            <tr>\n",
       "                        <th id=\"T_7aae8_level0_row16\" class=\"row_heading level0 row16\" >cityCenters_nearest</th>\n",
       "                        <td id=\"T_7aae8_row16_col0\" class=\"data row16 col0\" >23.0</td>\n",
       "            </tr>\n",
       "            <tr>\n",
       "                        <th id=\"T_7aae8_level0_row17\" class=\"row_heading level0 row17\" >parks_around3000</th>\n",
       "                        <td id=\"T_7aae8_row17_col0\" class=\"data row17 col0\" >0.0</td>\n",
       "            </tr>\n",
       "            <tr>\n",
       "                        <th id=\"T_7aae8_level0_row18\" class=\"row_heading level0 row18\" >parks_nearest</th>\n",
       "                        <td id=\"T_7aae8_row18_col0\" class=\"data row18 col0\" >65.7</td>\n",
       "            </tr>\n",
       "            <tr>\n",
       "                        <th id=\"T_7aae8_level0_row19\" class=\"row_heading level0 row19\" >ponds_around3000</th>\n",
       "                        <td id=\"T_7aae8_row19_col0\" class=\"data row19 col0\" >0.0</td>\n",
       "            </tr>\n",
       "            <tr>\n",
       "                        <th id=\"T_7aae8_level0_row20\" class=\"row_heading level0 row20\" >ponds_nearest</th>\n",
       "                        <td id=\"T_7aae8_row20_col0\" class=\"data row20 col0\" >61.5</td>\n",
       "            </tr>\n",
       "            <tr>\n",
       "                        <th id=\"T_7aae8_level0_row21\" class=\"row_heading level0 row21\" >days_exposition</th>\n",
       "                        <td id=\"T_7aae8_row21_col0\" class=\"data row21 col0\" >13.4</td>\n",
       "            </tr>\n",
       "    </tbody></table>"
      ],
      "text/plain": [
       "<pandas.io.formats.style.Styler at 0x7f088ed16250>"
      ]
     },
     "execution_count": 24,
     "metadata": {},
     "output_type": "execute_result"
    }
   ],
   "source": [
    "#Еще раз взглянем на пропущенные значения\n",
    "pd.DataFrame(data.isna().mean()*100).style.set_precision(1).background_gradient('coolwarm')"
   ]
  },
  {
   "cell_type": "markdown",
   "metadata": {},
   "source": [
    "### Тип данных"
   ]
  },
  {
   "cell_type": "markdown",
   "metadata": {},
   "source": [
    "Еще раз вызовем метод `info()` и изучим тип данных в столбцах, и при необходимости изменим."
   ]
  },
  {
   "cell_type": "code",
   "execution_count": 25,
   "metadata": {},
   "outputs": [
    {
     "name": "stdout",
     "output_type": "stream",
     "text": [
      "<class 'pandas.core.frame.DataFrame'>\n",
      "Int64Index: 23445 entries, 0 to 23698\n",
      "Data columns (total 22 columns):\n",
      " #   Column                Non-Null Count  Dtype  \n",
      "---  ------                --------------  -----  \n",
      " 0   total_images          23445 non-null  int64  \n",
      " 1   last_price            23445 non-null  float64\n",
      " 2   total_area            23445 non-null  float64\n",
      " 3   first_day_exposition  23445 non-null  object \n",
      " 4   rooms                 23445 non-null  int64  \n",
      " 5   ceiling_height        23445 non-null  float64\n",
      " 6   floors_total          23445 non-null  float64\n",
      " 7   living_area           23445 non-null  float64\n",
      " 8   floor                 23445 non-null  int64  \n",
      " 9   is_apartment          2748 non-null   object \n",
      " 10  studio                23445 non-null  bool   \n",
      " 11  open_plan             23445 non-null  bool   \n",
      " 12  kitchen_area          23445 non-null  float64\n",
      " 13  balcony               23445 non-null  float64\n",
      " 14  locality_name         23445 non-null  object \n",
      " 15  airports_nearest      18036 non-null  float64\n",
      " 16  cityCenters_nearest   18059 non-null  float64\n",
      " 17  parks_around3000      23445 non-null  float64\n",
      " 18  parks_nearest         8030 non-null   float64\n",
      " 19  ponds_around3000      23445 non-null  float64\n",
      " 20  ponds_nearest         9034 non-null   float64\n",
      " 21  days_exposition       20300 non-null  float64\n",
      "dtypes: bool(2), float64(14), int64(3), object(3)\n",
      "memory usage: 4.3+ MB\n"
     ]
    }
   ],
   "source": [
    "data.info()"
   ]
  },
  {
   "cell_type": "markdown",
   "metadata": {},
   "source": [
    "Первое, что бросается в глаза - это тип данных `object` столбца `first_day_exposition`. Заменим формат данного столбца на `datetime`.\n",
    "Также заменим тип данных в столбцах `balcony`, `parks_around3000`, `ponds_around3000`,  с `float` на `int`, так как данные величины могут быть только целым числом.\n",
    "`floors_total`, `days_exposition` - так как в столбце есть пропуски, то при преобразовании типов сиспользуем nullable type `Int64`.\n",
    "Заменять тип данных необходимо для удобства работы и вычислений."
   ]
  },
  {
   "cell_type": "code",
   "execution_count": 26,
   "metadata": {},
   "outputs": [],
   "source": [
    "data['first_day_exposition'] = pd.to_datetime(data['first_day_exposition'], format='%Y-%m-%dT%H:%M:%S')"
   ]
  },
  {
   "cell_type": "code",
   "execution_count": 27,
   "metadata": {},
   "outputs": [],
   "source": [
    "data['balcony'] = data['balcony'].astype(int)\n",
    "data['parks_around3000'] = data['parks_around3000'].astype(int)\n",
    "data['ponds_around3000'] = data['ponds_around3000'].astype(int)\n",
    "data['floors_total'] = data['floors_total'].round().astype('Int64')\n",
    "data['days_exposition'] = data['days_exposition'].round().astype('Int64')"
   ]
  },
  {
   "cell_type": "code",
   "execution_count": 28,
   "metadata": {},
   "outputs": [
    {
     "name": "stdout",
     "output_type": "stream",
     "text": [
      "<class 'pandas.core.frame.DataFrame'>\n",
      "Int64Index: 23445 entries, 0 to 23698\n",
      "Data columns (total 22 columns):\n",
      " #   Column                Non-Null Count  Dtype         \n",
      "---  ------                --------------  -----         \n",
      " 0   total_images          23445 non-null  int64         \n",
      " 1   last_price            23445 non-null  float64       \n",
      " 2   total_area            23445 non-null  float64       \n",
      " 3   first_day_exposition  23445 non-null  datetime64[ns]\n",
      " 4   rooms                 23445 non-null  int64         \n",
      " 5   ceiling_height        23445 non-null  float64       \n",
      " 6   floors_total          23445 non-null  Int64         \n",
      " 7   living_area           23445 non-null  float64       \n",
      " 8   floor                 23445 non-null  int64         \n",
      " 9   is_apartment          2748 non-null   object        \n",
      " 10  studio                23445 non-null  bool          \n",
      " 11  open_plan             23445 non-null  bool          \n",
      " 12  kitchen_area          23445 non-null  float64       \n",
      " 13  balcony               23445 non-null  int64         \n",
      " 14  locality_name         23445 non-null  object        \n",
      " 15  airports_nearest      18036 non-null  float64       \n",
      " 16  cityCenters_nearest   18059 non-null  float64       \n",
      " 17  parks_around3000      23445 non-null  int64         \n",
      " 18  parks_nearest         8030 non-null   float64       \n",
      " 19  ponds_around3000      23445 non-null  int64         \n",
      " 20  ponds_nearest         9034 non-null   float64       \n",
      " 21  days_exposition       20300 non-null  Int64         \n",
      "dtypes: Int64(2), bool(2), datetime64[ns](1), float64(9), int64(6), object(2)\n",
      "memory usage: 4.3+ MB\n"
     ]
    }
   ],
   "source": [
    "data.info()"
   ]
  },
  {
   "cell_type": "markdown",
   "metadata": {},
   "source": [
    "### Дубликаты"
   ]
  },
  {
   "cell_type": "markdown",
   "metadata": {},
   "source": [
    "Изучим данные на наличие явных и неявных дубликатов. Неявные дубликаты могут содержаться в названиях населенного пункта."
   ]
  },
  {
   "cell_type": "code",
   "execution_count": 29,
   "metadata": {
    "scrolled": true
   },
   "outputs": [
    {
     "data": {
      "text/plain": [
       "0"
      ]
     },
     "execution_count": 29,
     "metadata": {},
     "output_type": "execute_result"
    }
   ],
   "source": [
    "data.duplicated().sum() #Явных дубликатов в данных"
   ]
  },
  {
   "cell_type": "code",
   "execution_count": 30,
   "metadata": {},
   "outputs": [
    {
     "data": {
      "text/plain": [
       "array(['Санкт-Петербург', 'посёлок Шушары', 'городской посёлок Янино-1',\n",
       "       'посёлок Парголово', 'посёлок Мурино', 'Ломоносов', 'Сертолово',\n",
       "       'Петергоф', 'Пушкин', 'деревня Кудрово', 'Коммунар', 'Колпино',\n",
       "       'поселок городского типа Красный Бор', 'Гатчина', 'поселок Мурино',\n",
       "       'деревня Фёдоровское', 'Выборг', 'Кронштадт', 'Кировск',\n",
       "       'деревня Новое Девяткино', 'посёлок Металлострой',\n",
       "       'посёлок городского типа Лебяжье',\n",
       "       'посёлок городского типа Сиверский', 'поселок Молодцово',\n",
       "       'поселок городского типа Кузьмоловский',\n",
       "       'садовое товарищество Новая Ропша', 'Павловск', 'Всеволожск',\n",
       "       'Волхов', 'Кингисепп', 'Приозерск', 'Сестрорецк',\n",
       "       'деревня Куттузи', 'посёлок Аннино',\n",
       "       'поселок городского типа Ефимовский', 'посёлок Плодовое',\n",
       "       'поселок Торковичи', 'поселок Первомайское', 'Красное Село',\n",
       "       'посёлок Понтонный', 'Сясьстрой', 'деревня Старая',\n",
       "       'деревня Лесколово', 'посёлок Новый Свет', 'Сланцы',\n",
       "       'село Путилово', 'Ивангород', 'Мурино', 'Шлиссельбург',\n",
       "       'Никольское', 'Зеленогорск', 'Сосновый Бор', 'поселок Новый Свет',\n",
       "       'деревня Оржицы', 'деревня Кальтино', 'Кудрово',\n",
       "       'поселок Романовка', 'посёлок Бугры', 'поселок Бугры',\n",
       "       'поселок городского типа Рощино', 'Кириши', 'Луга', 'Волосово',\n",
       "       'Отрадное', 'село Павлово', 'поселок Оредеж', 'село Копорье',\n",
       "       'посёлок городского типа Красный Бор', 'посёлок Молодёжное',\n",
       "       'Тихвин', 'посёлок Победа', 'деревня Нурма',\n",
       "       'поселок городского типа Синявино', 'Тосно',\n",
       "       'посёлок городского типа Кузьмоловский', 'посёлок Стрельна',\n",
       "       'Бокситогорск', 'посёлок Александровская', 'деревня Лопухинка',\n",
       "       'Пикалёво', 'поселок Терволово',\n",
       "       'поселок городского типа Советский', 'Подпорожье',\n",
       "       'посёлок Петровское', 'посёлок городского типа Токсово',\n",
       "       'поселок Сельцо', 'посёлок городского типа Вырица',\n",
       "       'деревня Кипень', 'деревня Келози', 'деревня Вартемяги',\n",
       "       'посёлок Тельмана', 'городской поселок Большая Ижора',\n",
       "       'городской посёлок Павлово', 'деревня Агалатово',\n",
       "       'посёлок Новогорелово', 'городской посёлок Лесогорский',\n",
       "       'деревня Лаголово', 'поселок Цвелодубово',\n",
       "       'поселок городского типа Рахья', 'поселок городского типа Вырица',\n",
       "       'деревня Белогорка', 'поселок Заводской',\n",
       "       'городской посёлок Новоселье', 'деревня Большие Колпаны',\n",
       "       'деревня Горбунки', 'деревня Батово', 'деревня Заневка',\n",
       "       'Приморск', 'городской посёлок Фёдоровское', 'деревня Мистолово',\n",
       "       'Новая Ладога', 'поселок Зимитицы', 'поселок Барышево',\n",
       "       'деревня Разметелево', 'поселок городского типа имени Свердлова',\n",
       "       'деревня Пеники', 'поселок Рябово', 'деревня Пудомяги',\n",
       "       'деревня Низино', 'деревня Бегуницы', 'посёлок Поляны',\n",
       "       'городской посёлок Мга', 'поселок Елизаветино',\n",
       "       'посёлок городского типа Кузнечное', 'деревня Колтуши',\n",
       "       'поселок Запорожское', 'посёлок городского типа Рощино',\n",
       "       'деревня Гостилицы', 'деревня Малое Карлино',\n",
       "       'посёлок Мичуринское', 'посёлок городского типа имени Морозова',\n",
       "       'посёлок Песочный', 'посёлок Сосново', 'поселок Ильичёво',\n",
       "       'посёлок городского типа Тайцы', 'деревня Малое Верево',\n",
       "       'деревня Извара', 'поселок станции Вещево', 'деревня Калитино',\n",
       "       'посёлок городского типа Ульяновка',\n",
       "       'поселок городского типа Дубровка', 'деревня Мины',\n",
       "       'поселок Войсковицы', 'посёлок городского типа имени Свердлова',\n",
       "       'деревня Коркино', 'посёлок Ропша',\n",
       "       'поселок городского типа Приладожский', 'посёлок Щеглово',\n",
       "       'посёлок Гаврилово', 'Лодейное Поле', 'деревня Рабитицы',\n",
       "       'поселок городского типа Никольский', 'деревня Кузьмолово',\n",
       "       'деревня Малые Колпаны', 'поселок Тельмана',\n",
       "       'городской посёлок Назия', 'посёлок Репино', 'посёлок Ильичёво',\n",
       "       'поселок Углово', 'садовое товарищество Рахья', 'поселок Аннино',\n",
       "       'поселок Победа', 'деревня Меньково', 'посёлок Сапёрный',\n",
       "       'поселок Семрино', 'поселок Глажево', 'деревня Гарболово',\n",
       "       'деревня Юкки', 'поселок станции Приветнинское', 'поселок Поляны',\n",
       "       'поселок Мельниково', 'посёлок Пудость', 'Светогорск', 'Любань',\n",
       "       'Каменногорск', 'деревня Кривко', 'поселок Глебычево',\n",
       "       'деревня Парицы', 'поселок Жилпосёлок',\n",
       "       'посёлок городского типа Мга', 'городской поселок Янино-1',\n",
       "       'посёлок Войскорово', 'посёлок Терволово', 'поселок Стеклянный',\n",
       "       'посёлок городского типа Важины', 'село Русско-Высоцкое',\n",
       "       'поселок городского типа Лебяжье', 'поселок Житково',\n",
       "       'городской посёлок Виллози', 'деревня Лампово',\n",
       "       'деревня Шпаньково', 'посёлок Сумино', 'посёлок Возрождение',\n",
       "       'деревня Старосиверская', 'посёлок Кикерино',\n",
       "       'поселок Возрождение', 'посёлок Пригородный', 'посёлок Торфяное',\n",
       "       'городской посёлок Будогощь', 'поселок Суходолье',\n",
       "       'поселок Красная Долина', 'деревня Хапо-Ое',\n",
       "       'поселок городского типа Дружная Горка', 'поселок Лисий Нос',\n",
       "       'деревня Яльгелево', 'посёлок Стеклянный', 'деревня Сяськелево',\n",
       "       'деревня Камышовка', 'деревня Хязельки',\n",
       "       'посёлок городского типа Павлово', 'деревня Ялгино',\n",
       "       'поселок Новый Учхоз', 'городской посёлок Рощино',\n",
       "       'поселок Гончарово', 'поселок Почап', 'посёлок Сапёрное',\n",
       "       'посёлок Платформа 69-й километр', 'деревня Фалилеево',\n",
       "       'поселок Серебрянский', 'поселок Лукаши', 'поселок Петровское',\n",
       "       'поселок Мичуринское', 'деревня Тарасово', 'поселок Кингисеппский',\n",
       "       'посёлок при железнодорожной станции Вещево', 'поселок Ушаки',\n",
       "       'деревня Котлы', 'деревня Торосово', 'деревня Новолисино',\n",
       "       'посёлок станции Громово', 'деревня Глинка', 'посёлок Мельниково',\n",
       "       'деревня Старая Пустошь', 'поселок Коммунары', 'поселок Починок',\n",
       "       'деревня Разбегаево', 'посёлок городского типа Рябово',\n",
       "       'поселок Гладкое',\n",
       "       'посёлок при железнодорожной станции Приветнинское',\n",
       "       'посёлок Жилгородок', 'деревня Бор', 'посёлок Коробицыно',\n",
       "       'деревня Большая Вруда', 'посёлок Лисий Нос',\n",
       "       'городской посёлок Советский', 'посёлок Кобралово',\n",
       "       'деревня Суоранда', 'поселок Кобралово',\n",
       "       'поселок городского типа Кондратьево',\n",
       "       'коттеджный поселок Счастье', 'поселок Любань', 'деревня Зимитицы',\n",
       "       'деревня Тойворово', 'поселок Лесное', 'поселок Совхозный',\n",
       "       'посёлок Ленинское', 'посёлок Суйда',\n",
       "       'посёлок городского типа Форносово', 'поселок Перово', 'Высоцк',\n",
       "       'поселок Гарболово', 'поселок Котельский',\n",
       "       'деревня Большая Пустомержа', 'деревня Вахнова Кара',\n",
       "       'коттеджный поселок Кивеннапа Север', 'поселок Коробицыно',\n",
       "       'поселок Ромашки', 'деревня Каськово', 'поселок Сумино',\n",
       "       'деревня Ваганово', 'поселок Пушное',\n",
       "       'городской посёлок Свирьстрой', 'поселок Громово',\n",
       "       'деревня Кисельня', 'посёлок Старая Малукса', 'деревня Ненимяки',\n",
       "       'поселок Пансионат Зелёный Бор', 'деревня Рапполово',\n",
       "       'поселок Рабитицы', 'поселок Дружноселье', 'деревня Нижняя',\n",
       "       'деревня Борисова Грива', 'посёлок Дзержинского'], dtype=object)"
      ]
     },
     "execution_count": 30,
     "metadata": {},
     "output_type": "execute_result"
    }
   ],
   "source": [
    "data['locality_name'].unique() #Изучим названия всех населенных пунктов"
   ]
  },
  {
   "cell_type": "code",
   "execution_count": 31,
   "metadata": {},
   "outputs": [
    {
     "data": {
      "text/plain": [
       "283"
      ]
     },
     "execution_count": 31,
     "metadata": {},
     "output_type": "execute_result"
    }
   ],
   "source": [
    "data['locality_name'].nunique() #Посмотрим сколько всего уникальных значений"
   ]
  },
  {
   "cell_type": "code",
   "execution_count": 32,
   "metadata": {},
   "outputs": [],
   "source": [
    "#Заменим все ё на ё, чтобы убрать посёлки и оставить только поселки)\n",
    "data['locality_name'] = data['locality_name'].str.replace('ё', 'е') "
   ]
  },
  {
   "cell_type": "markdown",
   "metadata": {},
   "source": [
    "Для удобства расчетов и поиска дубликатов - категоризируем данные. Создадим новый столбец `locality_type`, где отнесем тот или иной населенный пункт к определенному типу: \n",
    "- деревня\n",
    "- село\n",
    "- поселок\n",
    "- город \n",
    "- садовое товарищество\n",
    "- котеджный поселок"
   ]
  },
  {
   "cell_type": "code",
   "execution_count": 33,
   "metadata": {},
   "outputs": [],
   "source": [
    "#Пройдемся по столбцу функцией, которая будет возвращать тот или иной тип населеного пункта\n",
    "def what_locality_type(row):\n",
    "    if 'коттеджный' in row:\n",
    "        return 'Котеджный поселок'\n",
    "    elif 'поселок' in row:\n",
    "        return 'Поселок'\n",
    "    elif 'село' in row:\n",
    "        return 'Село'\n",
    "    elif 'деревня' in row:\n",
    "        return 'Деревня'\n",
    "    elif 'товарищество' in row:\n",
    "        return 'Садовое товарищество'\n",
    "    else:\n",
    "        return 'Город'"
   ]
  },
  {
   "cell_type": "code",
   "execution_count": 34,
   "metadata": {},
   "outputs": [],
   "source": [
    "data['locality_type'] = data['locality_name'].apply(what_locality_type) #Применим функцию"
   ]
  },
  {
   "cell_type": "code",
   "execution_count": 35,
   "metadata": {},
   "outputs": [
    {
     "data": {
      "text/plain": [
       "locality_type\n",
       "Город                   19934\n",
       "Деревня                   900\n",
       "Котеджный поселок           2\n",
       "Поселок                  2584\n",
       "Садовое товарищество        2\n",
       "Село                       23\n",
       "Name: locality_name, dtype: int64"
      ]
     },
     "execution_count": 35,
     "metadata": {},
     "output_type": "execute_result"
    }
   ],
   "source": [
    "data.groupby('locality_type')['locality_name'].count() #Проверим, что получилось"
   ]
  },
  {
   "cell_type": "markdown",
   "metadata": {},
   "source": [
    "Теперь можно избавляться от типа населеного пункта в столбце `locality_name`"
   ]
  },
  {
   "cell_type": "code",
   "execution_count": 36,
   "metadata": {},
   "outputs": [],
   "source": [
    "#Для удобства сосздадим функцию, которая на вход будет принимать значения от которых необходимо избавиться, а на выходе менять \n",
    "#данное значение на пробел\n",
    "def del_type(wrong_values):\n",
    "    for i in wrong_values:\n",
    "        data['locality_name'] = data['locality_name'].str.replace(i, '')\n",
    "        \n",
    "#Значения пропишем в виде списка, при необходимости который можно будет дополнить    \n",
    "wrong_values = ['поселок', 'городского типа', 'городской', 'деревня', 'село'\n",
    "                , 'садовое товарищество','садоводческое некоммерческое товарищество', 'станции', 'при железнодорожной'\n",
    "               , 'коттеджный']\n",
    "\n",
    "del_type(wrong_values) #применим функцию"
   ]
  },
  {
   "cell_type": "code",
   "execution_count": 37,
   "metadata": {},
   "outputs": [
    {
     "data": {
      "text/plain": [
       "array(['Санкт-Петербург', 'Шушары', 'Янино-1', 'Парголово', 'Мурино',\n",
       "       'Ломоносов', 'Сертолово', 'Петергоф', 'Пушкин', 'Кудрово',\n",
       "       'Коммунар', 'Колпино', 'Красный Бор', 'Гатчина', 'Федоровское',\n",
       "       'Выборг', 'Кронштадт', 'Кировск', 'Новое Девяткино',\n",
       "       'Металлострой', 'Лебяжье', 'Сиверский', 'Молодцово',\n",
       "       'Кузьмоловский', 'Новая Ропша', 'Павловск', 'Всеволожск', 'Волхов',\n",
       "       'Кингисепп', 'Приозерск', 'Сестрорецк', 'Куттузи', 'Аннино',\n",
       "       'Ефимовский', 'Плодовое', 'Торковичи', 'Первомайское',\n",
       "       'Красное Село', 'Понтонный', 'Сясьстрой', 'Старая', 'Лесколово',\n",
       "       'Новый Свет', 'Сланцы', 'Путилово', 'Ивангород', 'Шлиссельбург',\n",
       "       'Никольское', 'Зеленогорск', 'Сосновый Бор', 'Оржицы', 'Кальтино',\n",
       "       'Романовка', 'Бугры', 'Рощино', 'Кириши', 'Луга', 'Волосово',\n",
       "       'Отрадное', 'Павлово', 'Оредеж', 'Копорье', 'Молодежное', 'Тихвин',\n",
       "       'Победа', 'Нурма', 'Синявино', 'Тосно', 'Стрельна', 'Бокситогорск',\n",
       "       'Александровская', 'Лопухинка', 'Пикалево', 'Терволово',\n",
       "       'Советский', 'Подпорожье', 'Петровское', 'Токсово', 'Сельцо',\n",
       "       'Вырица', 'Кипень', 'Келози', 'Вартемяги', 'Тельмана',\n",
       "       'Большая Ижора', 'Агалатово', 'Новогорелово', 'Лесогорский',\n",
       "       'Лаголово', 'Цвелодубово', 'Рахья', 'Белогорка', 'Заводской',\n",
       "       'Новоселье', 'Большие Колпаны', 'Горбунки', 'Батово', 'Заневка',\n",
       "       'Приморск', 'Мистолово', 'Новая Ладога', 'Зимитицы', 'Барышево',\n",
       "       'Разметелево', 'имени Свердлова', 'Пеники', 'Рябово', 'Пудомяги',\n",
       "       'Низино', 'Бегуницы', 'Поляны', 'Мга', 'Елизаветино', 'Кузнечное',\n",
       "       'Колтуши', 'Запорожское', 'Гостилицы', 'Малое Карлино',\n",
       "       'Мичуринское', 'имени Морозова', 'Песочный', 'Сосново', 'Ильичево',\n",
       "       'Тайцы', 'Малое Верево', 'Извара', 'Вещево', 'Калитино',\n",
       "       'Ульяновка', 'Дубровка', 'Мины', 'Войсковицы', 'Коркино', 'Ропша',\n",
       "       'Приладожский', 'Щеглово', 'Гаврилово', 'Лодейное Поле',\n",
       "       'Рабитицы', 'Никольский', 'Кузьмолово', 'Малые Колпаны', 'Назия',\n",
       "       'Репино', 'Углово', 'Меньково', 'Саперный', 'Семрино', 'Глажево',\n",
       "       'Гарболово', 'Юкки', 'Приветнинское', 'Мельниково', 'Пудость',\n",
       "       'Светогорск', 'Любань', 'Каменногорск', 'Кривко', 'Глебычево',\n",
       "       'Парицы', 'Жил', 'Войскорово', 'Стеклянный', 'Важины',\n",
       "       'Русско-Высоцкое', 'Житково', 'Виллози', 'Лампово', 'Шпаньково',\n",
       "       'Сумино', 'Возрождение', 'Старосиверская', 'Кикерино',\n",
       "       'Пригородный', 'Торфяное', 'Будогощь', 'Суходолье',\n",
       "       'Красная Долина', 'Хапо-Ое', 'Дружная Горка', 'Лисий Нос',\n",
       "       'Яльгелево', 'Сяськелево', 'Камышовка', 'Хязельки', 'Ялгино',\n",
       "       'Новый Учхоз', 'Гончарово', 'Почап', 'Саперное',\n",
       "       'Платформа 69-й километр', 'Фалилеево', 'Серебрянский', 'Лукаши',\n",
       "       'Тарасово', 'Кингисеппский', 'Ушаки', 'Котлы', 'Торосово',\n",
       "       'Новолисино', 'Громово', 'Глинка', 'Старая Пустошь', 'Коммунары',\n",
       "       'Починок', 'Разбегаево', 'Гладкое', 'Жилгородок', 'Бор',\n",
       "       'Коробицыно', 'Большая Вруда', 'Кобралово', 'Суоранда',\n",
       "       'Кондратьево', 'Счастье', 'Тойворово', 'Лесное', 'Совхозный',\n",
       "       'Ленинское', 'Суйда', 'Форносово', 'Перово', 'Высоцк',\n",
       "       'Котельский', 'Большая Пустомержа', 'Вахнова Кара',\n",
       "       'Кивеннапа Север', 'Ромашки', 'Каськово', 'Ваганово', 'Пушное',\n",
       "       'Свирьстрой', 'Кисельня', 'Старая Малукса', 'Ненимяки',\n",
       "       'Пансионат Зеленый Бор', 'Рапполово', 'Дружноселье', 'Нижняя',\n",
       "       'Борисова Грива', 'Дзержинского'], dtype=object)"
      ]
     },
     "execution_count": 37,
     "metadata": {},
     "output_type": "execute_result"
    }
   ],
   "source": [
    "data['locality_name'] = data['locality_name'].str.strip() #Избавимся от пробелов\n",
    "data['locality_name'].unique() #Проверим полученный результат"
   ]
  },
  {
   "cell_type": "markdown",
   "metadata": {},
   "source": [
    "Такие значения `str` как `имени` - оставим, так как при сложении `locality_type` + `locality_name` в сумме получим полноценное название."
   ]
  },
  {
   "cell_type": "code",
   "execution_count": 38,
   "metadata": {},
   "outputs": [
    {
     "data": {
      "text/plain": [
       "locality_type\n",
       "Город                   19934\n",
       "Поселок                  2584\n",
       "Деревня                   900\n",
       "Село                       23\n",
       "Котеджный поселок           2\n",
       "Садовое товарищество        2\n",
       "dtype: int64"
      ]
     },
     "execution_count": 38,
     "metadata": {},
     "output_type": "execute_result"
    }
   ],
   "source": [
    "data.value_counts('locality_type')"
   ]
  },
  {
   "cell_type": "markdown",
   "metadata": {},
   "source": [
    "### Аномальные значения"
   ]
  },
  {
   "cell_type": "markdown",
   "metadata": {},
   "source": [
    "Аномальные значения могут содержаться в любых данных, которые можно измерить. "
   ]
  },
  {
   "cell_type": "code",
   "execution_count": 39,
   "metadata": {},
   "outputs": [
    {
     "data": {
      "text/html": [
       "<div>\n",
       "<style scoped>\n",
       "    .dataframe tbody tr th:only-of-type {\n",
       "        vertical-align: middle;\n",
       "    }\n",
       "\n",
       "    .dataframe tbody tr th {\n",
       "        vertical-align: top;\n",
       "    }\n",
       "\n",
       "    .dataframe thead th {\n",
       "        text-align: right;\n",
       "    }\n",
       "</style>\n",
       "<table border=\"1\" class=\"dataframe\">\n",
       "  <thead>\n",
       "    <tr style=\"text-align: right;\">\n",
       "      <th></th>\n",
       "      <th>total_images</th>\n",
       "      <th>last_price</th>\n",
       "      <th>total_area</th>\n",
       "      <th>rooms</th>\n",
       "      <th>ceiling_height</th>\n",
       "      <th>floors_total</th>\n",
       "      <th>living_area</th>\n",
       "      <th>floor</th>\n",
       "      <th>kitchen_area</th>\n",
       "      <th>balcony</th>\n",
       "      <th>airports_nearest</th>\n",
       "      <th>cityCenters_nearest</th>\n",
       "      <th>parks_around3000</th>\n",
       "      <th>parks_nearest</th>\n",
       "      <th>ponds_around3000</th>\n",
       "      <th>ponds_nearest</th>\n",
       "      <th>days_exposition</th>\n",
       "    </tr>\n",
       "  </thead>\n",
       "  <tbody>\n",
       "    <tr>\n",
       "      <th>count</th>\n",
       "      <td>23445.000000</td>\n",
       "      <td>2.344500e+04</td>\n",
       "      <td>23445.000000</td>\n",
       "      <td>23445.000000</td>\n",
       "      <td>23445.000000</td>\n",
       "      <td>23445.000000</td>\n",
       "      <td>23445.00000</td>\n",
       "      <td>23445.000000</td>\n",
       "      <td>23445.000000</td>\n",
       "      <td>23445.000000</td>\n",
       "      <td>18036.000000</td>\n",
       "      <td>18059.000000</td>\n",
       "      <td>23445.000000</td>\n",
       "      <td>8030.000000</td>\n",
       "      <td>23445.000000</td>\n",
       "      <td>9034.000000</td>\n",
       "      <td>20300.000000</td>\n",
       "    </tr>\n",
       "    <tr>\n",
       "      <th>mean</th>\n",
       "      <td>9.885605</td>\n",
       "      <td>6.564800e+06</td>\n",
       "      <td>60.385002</td>\n",
       "      <td>2.071614</td>\n",
       "      <td>2.733913</td>\n",
       "      <td>10.708936</td>\n",
       "      <td>34.65335</td>\n",
       "      <td>5.894306</td>\n",
       "      <td>10.511222</td>\n",
       "      <td>0.594498</td>\n",
       "      <td>28794.859226</td>\n",
       "      <td>14188.378869</td>\n",
       "      <td>0.471231</td>\n",
       "      <td>490.580448</td>\n",
       "      <td>0.592792</td>\n",
       "      <td>518.295439</td>\n",
       "      <td>180.972709</td>\n",
       "    </tr>\n",
       "    <tr>\n",
       "      <th>std</th>\n",
       "      <td>5.684592</td>\n",
       "      <td>1.093316e+07</td>\n",
       "      <td>35.726061</td>\n",
       "      <td>1.079836</td>\n",
       "      <td>1.014787</td>\n",
       "      <td>6.593479</td>\n",
       "      <td>22.44247</td>\n",
       "      <td>4.876604</td>\n",
       "      <td>6.048156</td>\n",
       "      <td>0.961818</td>\n",
       "      <td>12630.985024</td>\n",
       "      <td>8610.347594</td>\n",
       "      <td>0.749562</td>\n",
       "      <td>341.572956</td>\n",
       "      <td>0.885180</td>\n",
       "      <td>278.028337</td>\n",
       "      <td>219.987774</td>\n",
       "    </tr>\n",
       "    <tr>\n",
       "      <th>min</th>\n",
       "      <td>0.000000</td>\n",
       "      <td>1.219000e+04</td>\n",
       "      <td>12.000000</td>\n",
       "      <td>0.000000</td>\n",
       "      <td>1.000000</td>\n",
       "      <td>1.000000</td>\n",
       "      <td>2.00000</td>\n",
       "      <td>1.000000</td>\n",
       "      <td>1.300000</td>\n",
       "      <td>0.000000</td>\n",
       "      <td>0.000000</td>\n",
       "      <td>181.000000</td>\n",
       "      <td>0.000000</td>\n",
       "      <td>1.000000</td>\n",
       "      <td>0.000000</td>\n",
       "      <td>13.000000</td>\n",
       "      <td>1.000000</td>\n",
       "    </tr>\n",
       "    <tr>\n",
       "      <th>25%</th>\n",
       "      <td>6.000000</td>\n",
       "      <td>3.450000e+06</td>\n",
       "      <td>40.000000</td>\n",
       "      <td>1.000000</td>\n",
       "      <td>2.550000</td>\n",
       "      <td>5.000000</td>\n",
       "      <td>19.00000</td>\n",
       "      <td>2.000000</td>\n",
       "      <td>7.000000</td>\n",
       "      <td>0.000000</td>\n",
       "      <td>18557.000000</td>\n",
       "      <td>9238.000000</td>\n",
       "      <td>0.000000</td>\n",
       "      <td>288.000000</td>\n",
       "      <td>0.000000</td>\n",
       "      <td>293.000000</td>\n",
       "      <td>45.000000</td>\n",
       "    </tr>\n",
       "    <tr>\n",
       "      <th>50%</th>\n",
       "      <td>9.000000</td>\n",
       "      <td>4.650000e+06</td>\n",
       "      <td>52.000000</td>\n",
       "      <td>2.000000</td>\n",
       "      <td>2.700000</td>\n",
       "      <td>9.000000</td>\n",
       "      <td>30.00000</td>\n",
       "      <td>4.000000</td>\n",
       "      <td>9.000000</td>\n",
       "      <td>0.000000</td>\n",
       "      <td>26757.000000</td>\n",
       "      <td>13094.000000</td>\n",
       "      <td>0.000000</td>\n",
       "      <td>455.000000</td>\n",
       "      <td>0.000000</td>\n",
       "      <td>503.000000</td>\n",
       "      <td>95.000000</td>\n",
       "    </tr>\n",
       "    <tr>\n",
       "      <th>75%</th>\n",
       "      <td>14.000000</td>\n",
       "      <td>6.800000e+06</td>\n",
       "      <td>70.000000</td>\n",
       "      <td>3.000000</td>\n",
       "      <td>2.700000</td>\n",
       "      <td>16.000000</td>\n",
       "      <td>42.20000</td>\n",
       "      <td>8.000000</td>\n",
       "      <td>12.000000</td>\n",
       "      <td>1.000000</td>\n",
       "      <td>37273.000000</td>\n",
       "      <td>16280.000000</td>\n",
       "      <td>1.000000</td>\n",
       "      <td>612.000000</td>\n",
       "      <td>1.000000</td>\n",
       "      <td>730.000000</td>\n",
       "      <td>232.000000</td>\n",
       "    </tr>\n",
       "    <tr>\n",
       "      <th>max</th>\n",
       "      <td>50.000000</td>\n",
       "      <td>7.630000e+08</td>\n",
       "      <td>900.000000</td>\n",
       "      <td>19.000000</td>\n",
       "      <td>100.000000</td>\n",
       "      <td>60.000000</td>\n",
       "      <td>409.70000</td>\n",
       "      <td>33.000000</td>\n",
       "      <td>112.000000</td>\n",
       "      <td>5.000000</td>\n",
       "      <td>84869.000000</td>\n",
       "      <td>65968.000000</td>\n",
       "      <td>3.000000</td>\n",
       "      <td>3190.000000</td>\n",
       "      <td>3.000000</td>\n",
       "      <td>1344.000000</td>\n",
       "      <td>1580.000000</td>\n",
       "    </tr>\n",
       "  </tbody>\n",
       "</table>\n",
       "</div>"
      ],
      "text/plain": [
       "       total_images    last_price    total_area         rooms  ceiling_height  \\\n",
       "count  23445.000000  2.344500e+04  23445.000000  23445.000000    23445.000000   \n",
       "mean       9.885605  6.564800e+06     60.385002      2.071614        2.733913   \n",
       "std        5.684592  1.093316e+07     35.726061      1.079836        1.014787   \n",
       "min        0.000000  1.219000e+04     12.000000      0.000000        1.000000   \n",
       "25%        6.000000  3.450000e+06     40.000000      1.000000        2.550000   \n",
       "50%        9.000000  4.650000e+06     52.000000      2.000000        2.700000   \n",
       "75%       14.000000  6.800000e+06     70.000000      3.000000        2.700000   \n",
       "max       50.000000  7.630000e+08    900.000000     19.000000      100.000000   \n",
       "\n",
       "       floors_total  living_area         floor  kitchen_area       balcony  \\\n",
       "count  23445.000000  23445.00000  23445.000000  23445.000000  23445.000000   \n",
       "mean      10.708936     34.65335      5.894306     10.511222      0.594498   \n",
       "std        6.593479     22.44247      4.876604      6.048156      0.961818   \n",
       "min        1.000000      2.00000      1.000000      1.300000      0.000000   \n",
       "25%        5.000000     19.00000      2.000000      7.000000      0.000000   \n",
       "50%        9.000000     30.00000      4.000000      9.000000      0.000000   \n",
       "75%       16.000000     42.20000      8.000000     12.000000      1.000000   \n",
       "max       60.000000    409.70000     33.000000    112.000000      5.000000   \n",
       "\n",
       "       airports_nearest  cityCenters_nearest  parks_around3000  parks_nearest  \\\n",
       "count      18036.000000         18059.000000      23445.000000    8030.000000   \n",
       "mean       28794.859226         14188.378869          0.471231     490.580448   \n",
       "std        12630.985024          8610.347594          0.749562     341.572956   \n",
       "min            0.000000           181.000000          0.000000       1.000000   \n",
       "25%        18557.000000          9238.000000          0.000000     288.000000   \n",
       "50%        26757.000000         13094.000000          0.000000     455.000000   \n",
       "75%        37273.000000         16280.000000          1.000000     612.000000   \n",
       "max        84869.000000         65968.000000          3.000000    3190.000000   \n",
       "\n",
       "       ponds_around3000  ponds_nearest  days_exposition  \n",
       "count      23445.000000    9034.000000     20300.000000  \n",
       "mean           0.592792     518.295439       180.972709  \n",
       "std            0.885180     278.028337       219.987774  \n",
       "min            0.000000      13.000000         1.000000  \n",
       "25%            0.000000     293.000000        45.000000  \n",
       "50%            0.000000     503.000000        95.000000  \n",
       "75%            1.000000     730.000000       232.000000  \n",
       "max            3.000000    1344.000000      1580.000000  "
      ]
     },
     "execution_count": 39,
     "metadata": {},
     "output_type": "execute_result"
    }
   ],
   "source": [
    "data.describe() #Посмотрим разброс значений в датафреме и тем самым найдем максимально явные аномалии"
   ]
  },
  {
   "cell_type": "markdown",
   "metadata": {},
   "source": [
    "Сразу обратим внимание на максимальные и минимальные значения в столбцах. Явно выделяются следующие аномалии:\n",
    "- максимальная и минимальная высоты потолка - 1 метр и 100 метров соответственно\n",
    "- максимальная площадь - 900 квадратных метров - это может быть как артефакт, так и корректной величиной.\n",
    "- 19 комнат вглядит подозрительно\n",
    "- 60 этажей\n",
    "- минимальная цена 12 190\n",
    "- расстояние до аэропорта 0 метров\n",
    "- подозрительные значения сроков объявлений на 25% и 50%\n",
    "\n",
    "Сначала рассмотрим высоту потолка. Стандартная высота потолков в квартире варьируется от 2.1 до 3.2 метров в зависимости от типа жилья. В редких случаях можно рассмматривать высоту потолка в 2 метра, например, старый частный дом, построенный \"своими руками\". Также можно рассмотреть высоту потолка до 4.5 метров включительно, предположив, например, что это частный элитный дом или \"сталинская\" постройка, где потолки гораздо выше. Все остальные значения, предлагаю рассмотреть как аномальные, и в зависимости от показателя обработать или удалить."
   ]
  },
  {
   "cell_type": "code",
   "execution_count": 40,
   "metadata": {},
   "outputs": [
    {
     "data": {
      "image/png": "[encoded data removed]",
      "text/plain": [
       "<Figure size 432x288 with 1 Axes>"
      ]
     },
     "metadata": {
      "needs_background": "light"
     },
     "output_type": "display_data"
    },
    {
     "data": {
      "image/png": "[encoded data removed]",
      "text/plain": [
       "<Figure size 432x288 with 1 Axes>"
      ]
     },
     "metadata": {
      "needs_background": "light"
     },
     "output_type": "display_data"
    }
   ],
   "source": [
    "#Изучим данные с помощью диаграммы размаха\n",
    "data.boxplot(column='ceiling_height')\n",
    "plt.ylim(0, 100)\n",
    "plt.show()\n",
    "data.boxplot(column='ceiling_height')\n",
    "plt.ylim(0, 10)\n",
    "plt.show()"
   ]
  },
  {
   "cell_type": "markdown",
   "metadata": {},
   "source": [
    "На графике видно нормальное распределение, которое примерно базируется от 2.5 до 3 метров. Ввиду того, что данные столбцы были заполнены человеком, то нужно учитывать человеческий фактор. Например, при указании высоты потолка, продавец мог просто забыть поставить точку, тем самы потолок из 25 метров превращается в 2.5, что уже похоже на правду. Следовательно значения от 20 метров можно обработать вручную, поделив все значения на 10. После обработки, все строки со значениями от 4.5 метров удаляем, так как эти значения могут в дальнейшем неккоректно повлиять на анализ."
   ]
  },
  {
   "cell_type": "code",
   "execution_count": 41,
   "metadata": {},
   "outputs": [],
   "source": [
    "data.loc[data['ceiling_height'] >= 20, 'ceiling_height'] = data.loc[data['ceiling_height'] > 20, 'ceiling_height'] / 10"
   ]
  },
  {
   "cell_type": "code",
   "execution_count": 42,
   "metadata": {},
   "outputs": [],
   "source": [
    "data = data[(data['ceiling_height'] >= 2) & (data['ceiling_height'] <= 4.5)]"
   ]
  },
  {
   "cell_type": "markdown",
   "metadata": {},
   "source": [
    "Теперь изучим общую площадь помещения"
   ]
  },
  {
   "cell_type": "code",
   "execution_count": 43,
   "metadata": {},
   "outputs": [
    {
     "data": {
      "image/png": "[encoded data removed]",
      "text/plain": [
       "<Figure size 432x288 with 1 Axes>"
      ]
     },
     "metadata": {
      "needs_background": "light"
     },
     "output_type": "display_data"
    },
    {
     "data": {
      "image/png": "[encoded data removed]",
      "text/plain": [
       "<Figure size 432x288 with 1 Axes>"
      ]
     },
     "metadata": {
      "needs_background": "light"
     },
     "output_type": "display_data"
    }
   ],
   "source": [
    "#Изучим данные с помощью диаграммы размаха\n",
    "data.boxplot(column='total_area')\n",
    "plt.ylim(0, 900)\n",
    "plt.show()\n",
    "data.boxplot(column='total_area')\n",
    "plt.ylim(0, 150)\n",
    "plt.show()"
   ]
  },
  {
   "cell_type": "code",
   "execution_count": 44,
   "metadata": {},
   "outputs": [
    {
     "data": {
      "text/html": [
       "<div>\n",
       "<style scoped>\n",
       "    .dataframe tbody tr th:only-of-type {\n",
       "        vertical-align: middle;\n",
       "    }\n",
       "\n",
       "    .dataframe tbody tr th {\n",
       "        vertical-align: top;\n",
       "    }\n",
       "\n",
       "    .dataframe thead th {\n",
       "        text-align: right;\n",
       "    }\n",
       "</style>\n",
       "<table border=\"1\" class=\"dataframe\">\n",
       "  <thead>\n",
       "    <tr style=\"text-align: right;\">\n",
       "      <th></th>\n",
       "      <th>total_images</th>\n",
       "      <th>last_price</th>\n",
       "      <th>total_area</th>\n",
       "      <th>first_day_exposition</th>\n",
       "      <th>rooms</th>\n",
       "      <th>ceiling_height</th>\n",
       "      <th>floors_total</th>\n",
       "      <th>living_area</th>\n",
       "      <th>floor</th>\n",
       "      <th>is_apartment</th>\n",
       "      <th>...</th>\n",
       "      <th>balcony</th>\n",
       "      <th>locality_name</th>\n",
       "      <th>airports_nearest</th>\n",
       "      <th>cityCenters_nearest</th>\n",
       "      <th>parks_around3000</th>\n",
       "      <th>parks_nearest</th>\n",
       "      <th>ponds_around3000</th>\n",
       "      <th>ponds_nearest</th>\n",
       "      <th>days_exposition</th>\n",
       "      <th>locality_type</th>\n",
       "    </tr>\n",
       "  </thead>\n",
       "  <tbody>\n",
       "    <tr>\n",
       "      <th>155</th>\n",
       "      <td>8</td>\n",
       "      <td>96000000.0</td>\n",
       "      <td>317.0</td>\n",
       "      <td>2017-07-07</td>\n",
       "      <td>4</td>\n",
       "      <td>3.50</td>\n",
       "      <td>3</td>\n",
       "      <td>183.000000</td>\n",
       "      <td>3</td>\n",
       "      <td>NaN</td>\n",
       "      <td>...</td>\n",
       "      <td>1</td>\n",
       "      <td>Санкт-Петербург</td>\n",
       "      <td>22673.0</td>\n",
       "      <td>1771.0</td>\n",
       "      <td>2</td>\n",
       "      <td>508.0</td>\n",
       "      <td>3</td>\n",
       "      <td>366.0</td>\n",
       "      <td>62</td>\n",
       "      <td>Город</td>\n",
       "    </tr>\n",
       "    <tr>\n",
       "      <th>492</th>\n",
       "      <td>18</td>\n",
       "      <td>95000000.0</td>\n",
       "      <td>216.0</td>\n",
       "      <td>2017-12-05</td>\n",
       "      <td>4</td>\n",
       "      <td>3.00</td>\n",
       "      <td>5</td>\n",
       "      <td>86.000000</td>\n",
       "      <td>4</td>\n",
       "      <td>NaN</td>\n",
       "      <td>...</td>\n",
       "      <td>0</td>\n",
       "      <td>Санкт-Петербург</td>\n",
       "      <td>21740.0</td>\n",
       "      <td>436.0</td>\n",
       "      <td>2</td>\n",
       "      <td>138.0</td>\n",
       "      <td>3</td>\n",
       "      <td>620.0</td>\n",
       "      <td>14</td>\n",
       "      <td>Город</td>\n",
       "    </tr>\n",
       "    <tr>\n",
       "      <th>509</th>\n",
       "      <td>5</td>\n",
       "      <td>90000000.0</td>\n",
       "      <td>225.0</td>\n",
       "      <td>2016-06-26</td>\n",
       "      <td>6</td>\n",
       "      <td>2.70</td>\n",
       "      <td>4</td>\n",
       "      <td>134.000000</td>\n",
       "      <td>2</td>\n",
       "      <td>NaN</td>\n",
       "      <td>...</td>\n",
       "      <td>2</td>\n",
       "      <td>Санкт-Петербург</td>\n",
       "      <td>32864.0</td>\n",
       "      <td>5720.0</td>\n",
       "      <td>0</td>\n",
       "      <td>NaN</td>\n",
       "      <td>2</td>\n",
       "      <td>519.0</td>\n",
       "      <td>416</td>\n",
       "      <td>Город</td>\n",
       "    </tr>\n",
       "    <tr>\n",
       "      <th>521</th>\n",
       "      <td>20</td>\n",
       "      <td>25717300.0</td>\n",
       "      <td>230.1</td>\n",
       "      <td>2015-01-21</td>\n",
       "      <td>3</td>\n",
       "      <td>2.60</td>\n",
       "      <td>3</td>\n",
       "      <td>130.000000</td>\n",
       "      <td>1</td>\n",
       "      <td>NaN</td>\n",
       "      <td>...</td>\n",
       "      <td>1</td>\n",
       "      <td>Пушкин</td>\n",
       "      <td>16877.0</td>\n",
       "      <td>29030.0</td>\n",
       "      <td>2</td>\n",
       "      <td>676.0</td>\n",
       "      <td>3</td>\n",
       "      <td>278.0</td>\n",
       "      <td>1441</td>\n",
       "      <td>Город</td>\n",
       "    </tr>\n",
       "    <tr>\n",
       "      <th>581</th>\n",
       "      <td>20</td>\n",
       "      <td>65000000.0</td>\n",
       "      <td>365.0</td>\n",
       "      <td>2019-03-18</td>\n",
       "      <td>7</td>\n",
       "      <td>2.90</td>\n",
       "      <td>7</td>\n",
       "      <td>210.576923</td>\n",
       "      <td>7</td>\n",
       "      <td>NaN</td>\n",
       "      <td>...</td>\n",
       "      <td>0</td>\n",
       "      <td>Санкт-Петербург</td>\n",
       "      <td>19827.0</td>\n",
       "      <td>1690.0</td>\n",
       "      <td>3</td>\n",
       "      <td>378.0</td>\n",
       "      <td>3</td>\n",
       "      <td>58.0</td>\n",
       "      <td>&lt;NA&gt;</td>\n",
       "      <td>Город</td>\n",
       "    </tr>\n",
       "    <tr>\n",
       "      <th>...</th>\n",
       "      <td>...</td>\n",
       "      <td>...</td>\n",
       "      <td>...</td>\n",
       "      <td>...</td>\n",
       "      <td>...</td>\n",
       "      <td>...</td>\n",
       "      <td>...</td>\n",
       "      <td>...</td>\n",
       "      <td>...</td>\n",
       "      <td>...</td>\n",
       "      <td>...</td>\n",
       "      <td>...</td>\n",
       "      <td>...</td>\n",
       "      <td>...</td>\n",
       "      <td>...</td>\n",
       "      <td>...</td>\n",
       "      <td>...</td>\n",
       "      <td>...</td>\n",
       "      <td>...</td>\n",
       "      <td>...</td>\n",
       "      <td>...</td>\n",
       "    </tr>\n",
       "    <tr>\n",
       "      <th>23005</th>\n",
       "      <td>20</td>\n",
       "      <td>30750000.0</td>\n",
       "      <td>297.5</td>\n",
       "      <td>2018-09-09</td>\n",
       "      <td>6</td>\n",
       "      <td>3.14</td>\n",
       "      <td>4</td>\n",
       "      <td>181.800000</td>\n",
       "      <td>2</td>\n",
       "      <td>NaN</td>\n",
       "      <td>...</td>\n",
       "      <td>0</td>\n",
       "      <td>Санкт-Петербург</td>\n",
       "      <td>20630.0</td>\n",
       "      <td>1229.0</td>\n",
       "      <td>3</td>\n",
       "      <td>189.0</td>\n",
       "      <td>3</td>\n",
       "      <td>40.0</td>\n",
       "      <td>42</td>\n",
       "      <td>Город</td>\n",
       "    </tr>\n",
       "    <tr>\n",
       "      <th>23281</th>\n",
       "      <td>20</td>\n",
       "      <td>24800000.0</td>\n",
       "      <td>231.2</td>\n",
       "      <td>2015-01-21</td>\n",
       "      <td>6</td>\n",
       "      <td>3.10</td>\n",
       "      <td>5</td>\n",
       "      <td>99.800000</td>\n",
       "      <td>4</td>\n",
       "      <td>NaN</td>\n",
       "      <td>...</td>\n",
       "      <td>0</td>\n",
       "      <td>Санкт-Петербург</td>\n",
       "      <td>21480.0</td>\n",
       "      <td>2453.0</td>\n",
       "      <td>3</td>\n",
       "      <td>75.0</td>\n",
       "      <td>1</td>\n",
       "      <td>795.0</td>\n",
       "      <td>&lt;NA&gt;</td>\n",
       "      <td>Город</td>\n",
       "    </tr>\n",
       "    <tr>\n",
       "      <th>23327</th>\n",
       "      <td>19</td>\n",
       "      <td>34400000.0</td>\n",
       "      <td>215.0</td>\n",
       "      <td>2019-03-15</td>\n",
       "      <td>5</td>\n",
       "      <td>2.75</td>\n",
       "      <td>4</td>\n",
       "      <td>82.400000</td>\n",
       "      <td>4</td>\n",
       "      <td>NaN</td>\n",
       "      <td>...</td>\n",
       "      <td>0</td>\n",
       "      <td>Санкт-Петербург</td>\n",
       "      <td>37268.0</td>\n",
       "      <td>15419.0</td>\n",
       "      <td>0</td>\n",
       "      <td>NaN</td>\n",
       "      <td>0</td>\n",
       "      <td>NaN</td>\n",
       "      <td>&lt;NA&gt;</td>\n",
       "      <td>Город</td>\n",
       "    </tr>\n",
       "    <tr>\n",
       "      <th>23400</th>\n",
       "      <td>17</td>\n",
       "      <td>30000000.0</td>\n",
       "      <td>213.0</td>\n",
       "      <td>2017-09-28</td>\n",
       "      <td>7</td>\n",
       "      <td>3.40</td>\n",
       "      <td>5</td>\n",
       "      <td>151.400000</td>\n",
       "      <td>5</td>\n",
       "      <td>NaN</td>\n",
       "      <td>...</td>\n",
       "      <td>0</td>\n",
       "      <td>Санкт-Петербург</td>\n",
       "      <td>21146.0</td>\n",
       "      <td>1225.0</td>\n",
       "      <td>2</td>\n",
       "      <td>342.0</td>\n",
       "      <td>3</td>\n",
       "      <td>30.0</td>\n",
       "      <td>299</td>\n",
       "      <td>Город</td>\n",
       "    </tr>\n",
       "    <tr>\n",
       "      <th>23491</th>\n",
       "      <td>20</td>\n",
       "      <td>21800000.0</td>\n",
       "      <td>250.0</td>\n",
       "      <td>2017-09-16</td>\n",
       "      <td>3</td>\n",
       "      <td>2.70</td>\n",
       "      <td>12</td>\n",
       "      <td>104.000000</td>\n",
       "      <td>7</td>\n",
       "      <td>NaN</td>\n",
       "      <td>...</td>\n",
       "      <td>0</td>\n",
       "      <td>Санкт-Петербург</td>\n",
       "      <td>43558.0</td>\n",
       "      <td>13138.0</td>\n",
       "      <td>0</td>\n",
       "      <td>NaN</td>\n",
       "      <td>0</td>\n",
       "      <td>NaN</td>\n",
       "      <td>49</td>\n",
       "      <td>Город</td>\n",
       "    </tr>\n",
       "  </tbody>\n",
       "</table>\n",
       "<p>220 rows × 23 columns</p>\n",
       "</div>"
      ],
      "text/plain": [
       "       total_images  last_price  total_area first_day_exposition  rooms  \\\n",
       "155               8  96000000.0       317.0           2017-07-07      4   \n",
       "492              18  95000000.0       216.0           2017-12-05      4   \n",
       "509               5  90000000.0       225.0           2016-06-26      6   \n",
       "521              20  25717300.0       230.1           2015-01-21      3   \n",
       "581              20  65000000.0       365.0           2019-03-18      7   \n",
       "...             ...         ...         ...                  ...    ...   \n",
       "23005            20  30750000.0       297.5           2018-09-09      6   \n",
       "23281            20  24800000.0       231.2           2015-01-21      6   \n",
       "23327            19  34400000.0       215.0           2019-03-15      5   \n",
       "23400            17  30000000.0       213.0           2017-09-28      7   \n",
       "23491            20  21800000.0       250.0           2017-09-16      3   \n",
       "\n",
       "       ceiling_height  floors_total  living_area  floor is_apartment  ...  \\\n",
       "155              3.50             3   183.000000      3          NaN  ...   \n",
       "492              3.00             5    86.000000      4          NaN  ...   \n",
       "509              2.70             4   134.000000      2          NaN  ...   \n",
       "521              2.60             3   130.000000      1          NaN  ...   \n",
       "581              2.90             7   210.576923      7          NaN  ...   \n",
       "...               ...           ...          ...    ...          ...  ...   \n",
       "23005            3.14             4   181.800000      2          NaN  ...   \n",
       "23281            3.10             5    99.800000      4          NaN  ...   \n",
       "23327            2.75             4    82.400000      4          NaN  ...   \n",
       "23400            3.40             5   151.400000      5          NaN  ...   \n",
       "23491            2.70            12   104.000000      7          NaN  ...   \n",
       "\n",
       "       balcony    locality_name  airports_nearest  cityCenters_nearest  \\\n",
       "155          1  Санкт-Петербург           22673.0               1771.0   \n",
       "492          0  Санкт-Петербург           21740.0                436.0   \n",
       "509          2  Санкт-Петербург           32864.0               5720.0   \n",
       "521          1           Пушкин           16877.0              29030.0   \n",
       "581          0  Санкт-Петербург           19827.0               1690.0   \n",
       "...        ...              ...               ...                  ...   \n",
       "23005        0  Санкт-Петербург           20630.0               1229.0   \n",
       "23281        0  Санкт-Петербург           21480.0               2453.0   \n",
       "23327        0  Санкт-Петербург           37268.0              15419.0   \n",
       "23400        0  Санкт-Петербург           21146.0               1225.0   \n",
       "23491        0  Санкт-Петербург           43558.0              13138.0   \n",
       "\n",
       "      parks_around3000  parks_nearest  ponds_around3000  ponds_nearest  \\\n",
       "155                  2          508.0                 3          366.0   \n",
       "492                  2          138.0                 3          620.0   \n",
       "509                  0            NaN                 2          519.0   \n",
       "521                  2          676.0                 3          278.0   \n",
       "581                  3          378.0                 3           58.0   \n",
       "...                ...            ...               ...            ...   \n",
       "23005                3          189.0                 3           40.0   \n",
       "23281                3           75.0                 1          795.0   \n",
       "23327                0            NaN                 0            NaN   \n",
       "23400                2          342.0                 3           30.0   \n",
       "23491                0            NaN                 0            NaN   \n",
       "\n",
       "       days_exposition  locality_type  \n",
       "155                 62          Город  \n",
       "492                 14          Город  \n",
       "509                416          Город  \n",
       "521               1441          Город  \n",
       "581               <NA>          Город  \n",
       "...                ...            ...  \n",
       "23005               42          Город  \n",
       "23281             <NA>          Город  \n",
       "23327             <NA>          Город  \n",
       "23400              299          Город  \n",
       "23491               49          Город  \n",
       "\n",
       "[220 rows x 23 columns]"
      ]
     },
     "execution_count": 44,
     "metadata": {},
     "output_type": "execute_result"
    }
   ],
   "source": [
    "data[data['total_area'] > 200] #Изучим данные, где площадь более 200 метров"
   ]
  },
  {
   "cell_type": "markdown",
   "metadata": {},
   "source": [
    "Всего квартир с квадратурой более 200 метров - 220 штук, что составляеет менее 1% от общего числа объявлений. Данные квартиры уже можно считать элитной недвижимостью, следовательно чтобы избежать искажения анализа - уберем эти квартиры из таблицы.\n",
    "\n",
    "Далее рассмотрим комнаты."
   ]
  },
  {
   "cell_type": "code",
   "execution_count": 45,
   "metadata": {},
   "outputs": [],
   "source": [
    "data = data[data['total_area'] <= 200]"
   ]
  },
  {
   "cell_type": "code",
   "execution_count": 46,
   "metadata": {},
   "outputs": [
    {
     "data": {
      "image/png": "[encoded data removed]",
      "text/plain": [
       "<Figure size 432x288 with 1 Axes>"
      ]
     },
     "metadata": {
      "needs_background": "light"
     },
     "output_type": "display_data"
    }
   ],
   "source": [
    "#Изучим данные с помощью диаграммы размаха\n",
    "data.boxplot(column='rooms')\n",
    "plt.ylim(0, 12)\n",
    "plt.show()"
   ]
  },
  {
   "cell_type": "code",
   "execution_count": 47,
   "metadata": {},
   "outputs": [
    {
     "data": {
      "text/html": [
       "<div>\n",
       "<style scoped>\n",
       "    .dataframe tbody tr th:only-of-type {\n",
       "        vertical-align: middle;\n",
       "    }\n",
       "\n",
       "    .dataframe tbody tr th {\n",
       "        vertical-align: top;\n",
       "    }\n",
       "\n",
       "    .dataframe thead th {\n",
       "        text-align: right;\n",
       "    }\n",
       "</style>\n",
       "<table border=\"1\" class=\"dataframe\">\n",
       "  <thead>\n",
       "    <tr style=\"text-align: right;\">\n",
       "      <th></th>\n",
       "      <th>total_images</th>\n",
       "      <th>last_price</th>\n",
       "      <th>total_area</th>\n",
       "      <th>first_day_exposition</th>\n",
       "      <th>rooms</th>\n",
       "      <th>ceiling_height</th>\n",
       "      <th>floors_total</th>\n",
       "      <th>living_area</th>\n",
       "      <th>floor</th>\n",
       "      <th>is_apartment</th>\n",
       "      <th>...</th>\n",
       "      <th>balcony</th>\n",
       "      <th>locality_name</th>\n",
       "      <th>airports_nearest</th>\n",
       "      <th>cityCenters_nearest</th>\n",
       "      <th>parks_around3000</th>\n",
       "      <th>parks_nearest</th>\n",
       "      <th>ponds_around3000</th>\n",
       "      <th>ponds_nearest</th>\n",
       "      <th>days_exposition</th>\n",
       "      <th>locality_type</th>\n",
       "    </tr>\n",
       "  </thead>\n",
       "  <tbody>\n",
       "    <tr>\n",
       "      <th>648</th>\n",
       "      <td>3</td>\n",
       "      <td>17500000.0</td>\n",
       "      <td>183.7</td>\n",
       "      <td>2018-07-01</td>\n",
       "      <td>11</td>\n",
       "      <td>3.40</td>\n",
       "      <td>7</td>\n",
       "      <td>138.800000</td>\n",
       "      <td>7</td>\n",
       "      <td>NaN</td>\n",
       "      <td>...</td>\n",
       "      <td>0</td>\n",
       "      <td>Санкт-Петербург</td>\n",
       "      <td>23606.0</td>\n",
       "      <td>3148.0</td>\n",
       "      <td>0</td>\n",
       "      <td>NaN</td>\n",
       "      <td>0</td>\n",
       "      <td>NaN</td>\n",
       "      <td>&lt;NA&gt;</td>\n",
       "      <td>Город</td>\n",
       "    </tr>\n",
       "    <tr>\n",
       "      <th>750</th>\n",
       "      <td>9</td>\n",
       "      <td>29500000.0</td>\n",
       "      <td>188.8</td>\n",
       "      <td>2017-03-04</td>\n",
       "      <td>7</td>\n",
       "      <td>2.70</td>\n",
       "      <td>2</td>\n",
       "      <td>119.300000</td>\n",
       "      <td>1</td>\n",
       "      <td>NaN</td>\n",
       "      <td>...</td>\n",
       "      <td>0</td>\n",
       "      <td>Санкт-Петербург</td>\n",
       "      <td>20965.0</td>\n",
       "      <td>814.0</td>\n",
       "      <td>0</td>\n",
       "      <td>NaN</td>\n",
       "      <td>2</td>\n",
       "      <td>267.0</td>\n",
       "      <td>246</td>\n",
       "      <td>Город</td>\n",
       "    </tr>\n",
       "    <tr>\n",
       "      <th>855</th>\n",
       "      <td>18</td>\n",
       "      <td>15000000.0</td>\n",
       "      <td>134.0</td>\n",
       "      <td>2017-10-27</td>\n",
       "      <td>7</td>\n",
       "      <td>2.70</td>\n",
       "      <td>4</td>\n",
       "      <td>88.000000</td>\n",
       "      <td>3</td>\n",
       "      <td>NaN</td>\n",
       "      <td>...</td>\n",
       "      <td>0</td>\n",
       "      <td>Санкт-Петербург</td>\n",
       "      <td>22670.0</td>\n",
       "      <td>3936.0</td>\n",
       "      <td>1</td>\n",
       "      <td>803.0</td>\n",
       "      <td>1</td>\n",
       "      <td>387.0</td>\n",
       "      <td>150</td>\n",
       "      <td>Город</td>\n",
       "    </tr>\n",
       "    <tr>\n",
       "      <th>1813</th>\n",
       "      <td>0</td>\n",
       "      <td>15000000.0</td>\n",
       "      <td>179.0</td>\n",
       "      <td>2017-04-09</td>\n",
       "      <td>7</td>\n",
       "      <td>2.70</td>\n",
       "      <td>5</td>\n",
       "      <td>126.400000</td>\n",
       "      <td>5</td>\n",
       "      <td>NaN</td>\n",
       "      <td>...</td>\n",
       "      <td>0</td>\n",
       "      <td>Санкт-Петербург</td>\n",
       "      <td>20070.0</td>\n",
       "      <td>3186.0</td>\n",
       "      <td>1</td>\n",
       "      <td>104.0</td>\n",
       "      <td>1</td>\n",
       "      <td>803.0</td>\n",
       "      <td>15</td>\n",
       "      <td>Город</td>\n",
       "    </tr>\n",
       "    <tr>\n",
       "      <th>1943</th>\n",
       "      <td>20</td>\n",
       "      <td>16000000.0</td>\n",
       "      <td>184.4</td>\n",
       "      <td>2018-10-21</td>\n",
       "      <td>7</td>\n",
       "      <td>2.70</td>\n",
       "      <td>6</td>\n",
       "      <td>125.700000</td>\n",
       "      <td>5</td>\n",
       "      <td>NaN</td>\n",
       "      <td>...</td>\n",
       "      <td>0</td>\n",
       "      <td>Санкт-Петербург</td>\n",
       "      <td>23382.0</td>\n",
       "      <td>2923.0</td>\n",
       "      <td>1</td>\n",
       "      <td>525.0</td>\n",
       "      <td>1</td>\n",
       "      <td>791.0</td>\n",
       "      <td>109</td>\n",
       "      <td>Город</td>\n",
       "    </tr>\n",
       "    <tr>\n",
       "      <th>2039</th>\n",
       "      <td>3</td>\n",
       "      <td>13520000.0</td>\n",
       "      <td>162.8</td>\n",
       "      <td>2018-03-21</td>\n",
       "      <td>7</td>\n",
       "      <td>3.00</td>\n",
       "      <td>4</td>\n",
       "      <td>121.600000</td>\n",
       "      <td>4</td>\n",
       "      <td>NaN</td>\n",
       "      <td>...</td>\n",
       "      <td>0</td>\n",
       "      <td>Санкт-Петербург</td>\n",
       "      <td>20631.0</td>\n",
       "      <td>1899.0</td>\n",
       "      <td>3</td>\n",
       "      <td>360.0</td>\n",
       "      <td>3</td>\n",
       "      <td>153.0</td>\n",
       "      <td>&lt;NA&gt;</td>\n",
       "      <td>Город</td>\n",
       "    </tr>\n",
       "    <tr>\n",
       "      <th>2261</th>\n",
       "      <td>15</td>\n",
       "      <td>17800000.0</td>\n",
       "      <td>164.0</td>\n",
       "      <td>2019-02-12</td>\n",
       "      <td>7</td>\n",
       "      <td>2.70</td>\n",
       "      <td>7</td>\n",
       "      <td>125.900000</td>\n",
       "      <td>7</td>\n",
       "      <td>NaN</td>\n",
       "      <td>...</td>\n",
       "      <td>0</td>\n",
       "      <td>Санкт-Петербург</td>\n",
       "      <td>20139.0</td>\n",
       "      <td>2670.0</td>\n",
       "      <td>2</td>\n",
       "      <td>41.0</td>\n",
       "      <td>3</td>\n",
       "      <td>397.0</td>\n",
       "      <td>&lt;NA&gt;</td>\n",
       "      <td>Город</td>\n",
       "    </tr>\n",
       "    <tr>\n",
       "      <th>3365</th>\n",
       "      <td>13</td>\n",
       "      <td>22190000.0</td>\n",
       "      <td>197.0</td>\n",
       "      <td>2017-11-20</td>\n",
       "      <td>7</td>\n",
       "      <td>2.90</td>\n",
       "      <td>6</td>\n",
       "      <td>107.600000</td>\n",
       "      <td>1</td>\n",
       "      <td>NaN</td>\n",
       "      <td>...</td>\n",
       "      <td>0</td>\n",
       "      <td>Санкт-Петербург</td>\n",
       "      <td>21583.0</td>\n",
       "      <td>1211.0</td>\n",
       "      <td>1</td>\n",
       "      <td>437.0</td>\n",
       "      <td>2</td>\n",
       "      <td>22.0</td>\n",
       "      <td>130</td>\n",
       "      <td>Город</td>\n",
       "    </tr>\n",
       "    <tr>\n",
       "      <th>3545</th>\n",
       "      <td>6</td>\n",
       "      <td>13700000.0</td>\n",
       "      <td>154.4</td>\n",
       "      <td>2017-02-02</td>\n",
       "      <td>7</td>\n",
       "      <td>3.70</td>\n",
       "      <td>5</td>\n",
       "      <td>117.400000</td>\n",
       "      <td>5</td>\n",
       "      <td>NaN</td>\n",
       "      <td>...</td>\n",
       "      <td>0</td>\n",
       "      <td>Санкт-Петербург</td>\n",
       "      <td>25881.0</td>\n",
       "      <td>4456.0</td>\n",
       "      <td>1</td>\n",
       "      <td>480.0</td>\n",
       "      <td>0</td>\n",
       "      <td>NaN</td>\n",
       "      <td>727</td>\n",
       "      <td>Город</td>\n",
       "    </tr>\n",
       "    <tr>\n",
       "      <th>4159</th>\n",
       "      <td>8</td>\n",
       "      <td>17500000.0</td>\n",
       "      <td>146.3</td>\n",
       "      <td>2017-11-08</td>\n",
       "      <td>7</td>\n",
       "      <td>3.30</td>\n",
       "      <td>4</td>\n",
       "      <td>108.000000</td>\n",
       "      <td>3</td>\n",
       "      <td>NaN</td>\n",
       "      <td>...</td>\n",
       "      <td>0</td>\n",
       "      <td>Санкт-Петербург</td>\n",
       "      <td>22665.0</td>\n",
       "      <td>3607.0</td>\n",
       "      <td>0</td>\n",
       "      <td>NaN</td>\n",
       "      <td>0</td>\n",
       "      <td>NaN</td>\n",
       "      <td>&lt;NA&gt;</td>\n",
       "      <td>Город</td>\n",
       "    </tr>\n",
       "    <tr>\n",
       "      <th>4435</th>\n",
       "      <td>13</td>\n",
       "      <td>22190000.0</td>\n",
       "      <td>191.2</td>\n",
       "      <td>2017-12-05</td>\n",
       "      <td>8</td>\n",
       "      <td>2.90</td>\n",
       "      <td>6</td>\n",
       "      <td>115.800000</td>\n",
       "      <td>1</td>\n",
       "      <td>NaN</td>\n",
       "      <td>...</td>\n",
       "      <td>0</td>\n",
       "      <td>Санкт-Петербург</td>\n",
       "      <td>21589.0</td>\n",
       "      <td>1152.0</td>\n",
       "      <td>1</td>\n",
       "      <td>587.0</td>\n",
       "      <td>2</td>\n",
       "      <td>155.0</td>\n",
       "      <td>115</td>\n",
       "      <td>Город</td>\n",
       "    </tr>\n",
       "    <tr>\n",
       "      <th>5711</th>\n",
       "      <td>17</td>\n",
       "      <td>18000000.0</td>\n",
       "      <td>171.0</td>\n",
       "      <td>2017-06-16</td>\n",
       "      <td>7</td>\n",
       "      <td>3.38</td>\n",
       "      <td>7</td>\n",
       "      <td>127.700000</td>\n",
       "      <td>5</td>\n",
       "      <td>False</td>\n",
       "      <td>...</td>\n",
       "      <td>0</td>\n",
       "      <td>Санкт-Петербург</td>\n",
       "      <td>26345.0</td>\n",
       "      <td>5048.0</td>\n",
       "      <td>3</td>\n",
       "      <td>384.0</td>\n",
       "      <td>1</td>\n",
       "      <td>84.0</td>\n",
       "      <td>&lt;NA&gt;</td>\n",
       "      <td>Город</td>\n",
       "    </tr>\n",
       "    <tr>\n",
       "      <th>8758</th>\n",
       "      <td>5</td>\n",
       "      <td>16100000.0</td>\n",
       "      <td>150.0</td>\n",
       "      <td>2018-07-10</td>\n",
       "      <td>8</td>\n",
       "      <td>2.92</td>\n",
       "      <td>5</td>\n",
       "      <td>107.000000</td>\n",
       "      <td>1</td>\n",
       "      <td>NaN</td>\n",
       "      <td>...</td>\n",
       "      <td>0</td>\n",
       "      <td>Санкт-Петербург</td>\n",
       "      <td>26080.0</td>\n",
       "      <td>4782.0</td>\n",
       "      <td>2</td>\n",
       "      <td>473.0</td>\n",
       "      <td>0</td>\n",
       "      <td>NaN</td>\n",
       "      <td>&lt;NA&gt;</td>\n",
       "      <td>Город</td>\n",
       "    </tr>\n",
       "    <tr>\n",
       "      <th>9688</th>\n",
       "      <td>8</td>\n",
       "      <td>33000000.0</td>\n",
       "      <td>194.1</td>\n",
       "      <td>2017-02-07</td>\n",
       "      <td>11</td>\n",
       "      <td>3.43</td>\n",
       "      <td>5</td>\n",
       "      <td>129.000000</td>\n",
       "      <td>2</td>\n",
       "      <td>NaN</td>\n",
       "      <td>...</td>\n",
       "      <td>0</td>\n",
       "      <td>Санкт-Петербург</td>\n",
       "      <td>21469.0</td>\n",
       "      <td>1015.0</td>\n",
       "      <td>1</td>\n",
       "      <td>686.0</td>\n",
       "      <td>2</td>\n",
       "      <td>66.0</td>\n",
       "      <td>813</td>\n",
       "      <td>Город</td>\n",
       "    </tr>\n",
       "    <tr>\n",
       "      <th>9889</th>\n",
       "      <td>1</td>\n",
       "      <td>12990000.0</td>\n",
       "      <td>191.0</td>\n",
       "      <td>2017-08-31</td>\n",
       "      <td>7</td>\n",
       "      <td>3.30</td>\n",
       "      <td>5</td>\n",
       "      <td>136.100000</td>\n",
       "      <td>2</td>\n",
       "      <td>NaN</td>\n",
       "      <td>...</td>\n",
       "      <td>0</td>\n",
       "      <td>Санкт-Петербург</td>\n",
       "      <td>26856.0</td>\n",
       "      <td>5704.0</td>\n",
       "      <td>0</td>\n",
       "      <td>NaN</td>\n",
       "      <td>1</td>\n",
       "      <td>1017.0</td>\n",
       "      <td>77</td>\n",
       "      <td>Город</td>\n",
       "    </tr>\n",
       "    <tr>\n",
       "      <th>13776</th>\n",
       "      <td>5</td>\n",
       "      <td>30600000.0</td>\n",
       "      <td>162.0</td>\n",
       "      <td>2018-07-09</td>\n",
       "      <td>7</td>\n",
       "      <td>3.00</td>\n",
       "      <td>5</td>\n",
       "      <td>100.900000</td>\n",
       "      <td>3</td>\n",
       "      <td>NaN</td>\n",
       "      <td>...</td>\n",
       "      <td>0</td>\n",
       "      <td>Санкт-Петербург</td>\n",
       "      <td>21857.0</td>\n",
       "      <td>423.0</td>\n",
       "      <td>3</td>\n",
       "      <td>388.0</td>\n",
       "      <td>2</td>\n",
       "      <td>516.0</td>\n",
       "      <td>&lt;NA&gt;</td>\n",
       "      <td>Город</td>\n",
       "    </tr>\n",
       "    <tr>\n",
       "      <th>14603</th>\n",
       "      <td>12</td>\n",
       "      <td>13490000.0</td>\n",
       "      <td>100.6</td>\n",
       "      <td>2018-07-31</td>\n",
       "      <td>7</td>\n",
       "      <td>2.70</td>\n",
       "      <td>4</td>\n",
       "      <td>58.038462</td>\n",
       "      <td>2</td>\n",
       "      <td>True</td>\n",
       "      <td>...</td>\n",
       "      <td>0</td>\n",
       "      <td>Санкт-Петербург</td>\n",
       "      <td>24309.0</td>\n",
       "      <td>3876.0</td>\n",
       "      <td>3</td>\n",
       "      <td>574.0</td>\n",
       "      <td>3</td>\n",
       "      <td>325.0</td>\n",
       "      <td>50</td>\n",
       "      <td>Город</td>\n",
       "    </tr>\n",
       "    <tr>\n",
       "      <th>15196</th>\n",
       "      <td>20</td>\n",
       "      <td>24000000.0</td>\n",
       "      <td>135.0</td>\n",
       "      <td>2019-05-01</td>\n",
       "      <td>7</td>\n",
       "      <td>3.00</td>\n",
       "      <td>5</td>\n",
       "      <td>75.100000</td>\n",
       "      <td>1</td>\n",
       "      <td>NaN</td>\n",
       "      <td>...</td>\n",
       "      <td>0</td>\n",
       "      <td>Санкт-Петербург</td>\n",
       "      <td>25942.0</td>\n",
       "      <td>4789.0</td>\n",
       "      <td>0</td>\n",
       "      <td>NaN</td>\n",
       "      <td>1</td>\n",
       "      <td>667.0</td>\n",
       "      <td>&lt;NA&gt;</td>\n",
       "      <td>Город</td>\n",
       "    </tr>\n",
       "    <tr>\n",
       "      <th>17350</th>\n",
       "      <td>18</td>\n",
       "      <td>25000000.0</td>\n",
       "      <td>134.0</td>\n",
       "      <td>2016-12-01</td>\n",
       "      <td>7</td>\n",
       "      <td>3.29</td>\n",
       "      <td>6</td>\n",
       "      <td>104.000000</td>\n",
       "      <td>2</td>\n",
       "      <td>NaN</td>\n",
       "      <td>...</td>\n",
       "      <td>0</td>\n",
       "      <td>Санкт-Петербург</td>\n",
       "      <td>25257.0</td>\n",
       "      <td>6060.0</td>\n",
       "      <td>1</td>\n",
       "      <td>761.0</td>\n",
       "      <td>1</td>\n",
       "      <td>584.0</td>\n",
       "      <td>278</td>\n",
       "      <td>Город</td>\n",
       "    </tr>\n",
       "    <tr>\n",
       "      <th>17991</th>\n",
       "      <td>19</td>\n",
       "      <td>12000000.0</td>\n",
       "      <td>125.0</td>\n",
       "      <td>2017-02-09</td>\n",
       "      <td>7</td>\n",
       "      <td>3.30</td>\n",
       "      <td>6</td>\n",
       "      <td>82.000000</td>\n",
       "      <td>5</td>\n",
       "      <td>False</td>\n",
       "      <td>...</td>\n",
       "      <td>0</td>\n",
       "      <td>Санкт-Петербург</td>\n",
       "      <td>24697.0</td>\n",
       "      <td>5265.0</td>\n",
       "      <td>1</td>\n",
       "      <td>407.0</td>\n",
       "      <td>0</td>\n",
       "      <td>NaN</td>\n",
       "      <td>138</td>\n",
       "      <td>Город</td>\n",
       "    </tr>\n",
       "    <tr>\n",
       "      <th>21689</th>\n",
       "      <td>8</td>\n",
       "      <td>15000000.0</td>\n",
       "      <td>145.2</td>\n",
       "      <td>2019-03-07</td>\n",
       "      <td>7</td>\n",
       "      <td>2.70</td>\n",
       "      <td>2</td>\n",
       "      <td>115.000000</td>\n",
       "      <td>2</td>\n",
       "      <td>NaN</td>\n",
       "      <td>...</td>\n",
       "      <td>0</td>\n",
       "      <td>Санкт-Петербург</td>\n",
       "      <td>26288.0</td>\n",
       "      <td>5135.0</td>\n",
       "      <td>1</td>\n",
       "      <td>545.0</td>\n",
       "      <td>0</td>\n",
       "      <td>NaN</td>\n",
       "      <td>&lt;NA&gt;</td>\n",
       "      <td>Город</td>\n",
       "    </tr>\n",
       "    <tr>\n",
       "      <th>22264</th>\n",
       "      <td>20</td>\n",
       "      <td>22000000.0</td>\n",
       "      <td>141.0</td>\n",
       "      <td>2019-01-24</td>\n",
       "      <td>7</td>\n",
       "      <td>2.70</td>\n",
       "      <td>5</td>\n",
       "      <td>84.000000</td>\n",
       "      <td>2</td>\n",
       "      <td>NaN</td>\n",
       "      <td>...</td>\n",
       "      <td>0</td>\n",
       "      <td>Санкт-Петербург</td>\n",
       "      <td>20243.0</td>\n",
       "      <td>3334.0</td>\n",
       "      <td>2</td>\n",
       "      <td>447.0</td>\n",
       "      <td>1</td>\n",
       "      <td>468.0</td>\n",
       "      <td>90</td>\n",
       "      <td>Город</td>\n",
       "    </tr>\n",
       "    <tr>\n",
       "      <th>22420</th>\n",
       "      <td>12</td>\n",
       "      <td>25000000.0</td>\n",
       "      <td>196.0</td>\n",
       "      <td>2016-11-04</td>\n",
       "      <td>7</td>\n",
       "      <td>3.50</td>\n",
       "      <td>6</td>\n",
       "      <td>145.000000</td>\n",
       "      <td>5</td>\n",
       "      <td>NaN</td>\n",
       "      <td>...</td>\n",
       "      <td>1</td>\n",
       "      <td>Санкт-Петербург</td>\n",
       "      <td>25083.0</td>\n",
       "      <td>3658.0</td>\n",
       "      <td>1</td>\n",
       "      <td>552.0</td>\n",
       "      <td>0</td>\n",
       "      <td>NaN</td>\n",
       "      <td>&lt;NA&gt;</td>\n",
       "      <td>Город</td>\n",
       "    </tr>\n",
       "    <tr>\n",
       "      <th>23555</th>\n",
       "      <td>5</td>\n",
       "      <td>15350000.0</td>\n",
       "      <td>158.5</td>\n",
       "      <td>2019-03-07</td>\n",
       "      <td>7</td>\n",
       "      <td>2.95</td>\n",
       "      <td>7</td>\n",
       "      <td>57.400000</td>\n",
       "      <td>7</td>\n",
       "      <td>NaN</td>\n",
       "      <td>...</td>\n",
       "      <td>1</td>\n",
       "      <td>Санкт-Петербург</td>\n",
       "      <td>23546.0</td>\n",
       "      <td>3088.0</td>\n",
       "      <td>1</td>\n",
       "      <td>347.0</td>\n",
       "      <td>0</td>\n",
       "      <td>NaN</td>\n",
       "      <td>&lt;NA&gt;</td>\n",
       "      <td>Город</td>\n",
       "    </tr>\n",
       "  </tbody>\n",
       "</table>\n",
       "<p>24 rows × 23 columns</p>\n",
       "</div>"
      ],
      "text/plain": [
       "       total_images  last_price  total_area first_day_exposition  rooms  \\\n",
       "648               3  17500000.0       183.7           2018-07-01     11   \n",
       "750               9  29500000.0       188.8           2017-03-04      7   \n",
       "855              18  15000000.0       134.0           2017-10-27      7   \n",
       "1813              0  15000000.0       179.0           2017-04-09      7   \n",
       "1943             20  16000000.0       184.4           2018-10-21      7   \n",
       "2039              3  13520000.0       162.8           2018-03-21      7   \n",
       "2261             15  17800000.0       164.0           2019-02-12      7   \n",
       "3365             13  22190000.0       197.0           2017-11-20      7   \n",
       "3545              6  13700000.0       154.4           2017-02-02      7   \n",
       "4159              8  17500000.0       146.3           2017-11-08      7   \n",
       "4435             13  22190000.0       191.2           2017-12-05      8   \n",
       "5711             17  18000000.0       171.0           2017-06-16      7   \n",
       "8758              5  16100000.0       150.0           2018-07-10      8   \n",
       "9688              8  33000000.0       194.1           2017-02-07     11   \n",
       "9889              1  12990000.0       191.0           2017-08-31      7   \n",
       "13776             5  30600000.0       162.0           2018-07-09      7   \n",
       "14603            12  13490000.0       100.6           2018-07-31      7   \n",
       "15196            20  24000000.0       135.0           2019-05-01      7   \n",
       "17350            18  25000000.0       134.0           2016-12-01      7   \n",
       "17991            19  12000000.0       125.0           2017-02-09      7   \n",
       "21689             8  15000000.0       145.2           2019-03-07      7   \n",
       "22264            20  22000000.0       141.0           2019-01-24      7   \n",
       "22420            12  25000000.0       196.0           2016-11-04      7   \n",
       "23555             5  15350000.0       158.5           2019-03-07      7   \n",
       "\n",
       "       ceiling_height  floors_total  living_area  floor is_apartment  ...  \\\n",
       "648              3.40             7   138.800000      7          NaN  ...   \n",
       "750              2.70             2   119.300000      1          NaN  ...   \n",
       "855              2.70             4    88.000000      3          NaN  ...   \n",
       "1813             2.70             5   126.400000      5          NaN  ...   \n",
       "1943             2.70             6   125.700000      5          NaN  ...   \n",
       "2039             3.00             4   121.600000      4          NaN  ...   \n",
       "2261             2.70             7   125.900000      7          NaN  ...   \n",
       "3365             2.90             6   107.600000      1          NaN  ...   \n",
       "3545             3.70             5   117.400000      5          NaN  ...   \n",
       "4159             3.30             4   108.000000      3          NaN  ...   \n",
       "4435             2.90             6   115.800000      1          NaN  ...   \n",
       "5711             3.38             7   127.700000      5        False  ...   \n",
       "8758             2.92             5   107.000000      1          NaN  ...   \n",
       "9688             3.43             5   129.000000      2          NaN  ...   \n",
       "9889             3.30             5   136.100000      2          NaN  ...   \n",
       "13776            3.00             5   100.900000      3          NaN  ...   \n",
       "14603            2.70             4    58.038462      2         True  ...   \n",
       "15196            3.00             5    75.100000      1          NaN  ...   \n",
       "17350            3.29             6   104.000000      2          NaN  ...   \n",
       "17991            3.30             6    82.000000      5        False  ...   \n",
       "21689            2.70             2   115.000000      2          NaN  ...   \n",
       "22264            2.70             5    84.000000      2          NaN  ...   \n",
       "22420            3.50             6   145.000000      5          NaN  ...   \n",
       "23555            2.95             7    57.400000      7          NaN  ...   \n",
       "\n",
       "       balcony    locality_name  airports_nearest  cityCenters_nearest  \\\n",
       "648          0  Санкт-Петербург           23606.0               3148.0   \n",
       "750          0  Санкт-Петербург           20965.0                814.0   \n",
       "855          0  Санкт-Петербург           22670.0               3936.0   \n",
       "1813         0  Санкт-Петербург           20070.0               3186.0   \n",
       "1943         0  Санкт-Петербург           23382.0               2923.0   \n",
       "2039         0  Санкт-Петербург           20631.0               1899.0   \n",
       "2261         0  Санкт-Петербург           20139.0               2670.0   \n",
       "3365         0  Санкт-Петербург           21583.0               1211.0   \n",
       "3545         0  Санкт-Петербург           25881.0               4456.0   \n",
       "4159         0  Санкт-Петербург           22665.0               3607.0   \n",
       "4435         0  Санкт-Петербург           21589.0               1152.0   \n",
       "5711         0  Санкт-Петербург           26345.0               5048.0   \n",
       "8758         0  Санкт-Петербург           26080.0               4782.0   \n",
       "9688         0  Санкт-Петербург           21469.0               1015.0   \n",
       "9889         0  Санкт-Петербург           26856.0               5704.0   \n",
       "13776        0  Санкт-Петербург           21857.0                423.0   \n",
       "14603        0  Санкт-Петербург           24309.0               3876.0   \n",
       "15196        0  Санкт-Петербург           25942.0               4789.0   \n",
       "17350        0  Санкт-Петербург           25257.0               6060.0   \n",
       "17991        0  Санкт-Петербург           24697.0               5265.0   \n",
       "21689        0  Санкт-Петербург           26288.0               5135.0   \n",
       "22264        0  Санкт-Петербург           20243.0               3334.0   \n",
       "22420        1  Санкт-Петербург           25083.0               3658.0   \n",
       "23555        1  Санкт-Петербург           23546.0               3088.0   \n",
       "\n",
       "      parks_around3000  parks_nearest  ponds_around3000  ponds_nearest  \\\n",
       "648                  0            NaN                 0            NaN   \n",
       "750                  0            NaN                 2          267.0   \n",
       "855                  1          803.0                 1          387.0   \n",
       "1813                 1          104.0                 1          803.0   \n",
       "1943                 1          525.0                 1          791.0   \n",
       "2039                 3          360.0                 3          153.0   \n",
       "2261                 2           41.0                 3          397.0   \n",
       "3365                 1          437.0                 2           22.0   \n",
       "3545                 1          480.0                 0            NaN   \n",
       "4159                 0            NaN                 0            NaN   \n",
       "4435                 1          587.0                 2          155.0   \n",
       "5711                 3          384.0                 1           84.0   \n",
       "8758                 2          473.0                 0            NaN   \n",
       "9688                 1          686.0                 2           66.0   \n",
       "9889                 0            NaN                 1         1017.0   \n",
       "13776                3          388.0                 2          516.0   \n",
       "14603                3          574.0                 3          325.0   \n",
       "15196                0            NaN                 1          667.0   \n",
       "17350                1          761.0                 1          584.0   \n",
       "17991                1          407.0                 0            NaN   \n",
       "21689                1          545.0                 0            NaN   \n",
       "22264                2          447.0                 1          468.0   \n",
       "22420                1          552.0                 0            NaN   \n",
       "23555                1          347.0                 0            NaN   \n",
       "\n",
       "       days_exposition  locality_type  \n",
       "648               <NA>          Город  \n",
       "750                246          Город  \n",
       "855                150          Город  \n",
       "1813                15          Город  \n",
       "1943               109          Город  \n",
       "2039              <NA>          Город  \n",
       "2261              <NA>          Город  \n",
       "3365               130          Город  \n",
       "3545               727          Город  \n",
       "4159              <NA>          Город  \n",
       "4435               115          Город  \n",
       "5711              <NA>          Город  \n",
       "8758              <NA>          Город  \n",
       "9688               813          Город  \n",
       "9889                77          Город  \n",
       "13776             <NA>          Город  \n",
       "14603               50          Город  \n",
       "15196             <NA>          Город  \n",
       "17350              278          Город  \n",
       "17991              138          Город  \n",
       "21689             <NA>          Город  \n",
       "22264               90          Город  \n",
       "22420             <NA>          Город  \n",
       "23555             <NA>          Город  \n",
       "\n",
       "[24 rows x 23 columns]"
      ]
     },
     "execution_count": 47,
     "metadata": {},
     "output_type": "execute_result"
    }
   ],
   "source": [
    "data[data['rooms'] > 6] #Изучим данные, которые выходят за 6 комнат"
   ]
  },
  {
   "cell_type": "markdown",
   "metadata": {},
   "source": [
    "Данные выглядят правдоподобно, нигде не замечены аномалии.\n",
    "\n",
    "Далее проверим количество этажей и сам этаж."
   ]
  },
  {
   "cell_type": "code",
   "execution_count": 48,
   "metadata": {},
   "outputs": [
    {
     "data": {
      "image/png": "[encoded data removed]",
      "text/plain": [
       "<Figure size 432x288 with 1 Axes>"
      ]
     },
     "metadata": {
      "needs_background": "light"
     },
     "output_type": "display_data"
    }
   ],
   "source": [
    "#Изучим данные с помощью диаграммы размаха\n",
    "data.boxplot(column='floors_total')\n",
    "plt.ylim(0, 60)\n",
    "plt.show()"
   ]
  },
  {
   "cell_type": "code",
   "execution_count": 49,
   "metadata": {},
   "outputs": [
    {
     "data": {
      "text/html": [
       "<div>\n",
       "<style scoped>\n",
       "    .dataframe tbody tr th:only-of-type {\n",
       "        vertical-align: middle;\n",
       "    }\n",
       "\n",
       "    .dataframe tbody tr th {\n",
       "        vertical-align: top;\n",
       "    }\n",
       "\n",
       "    .dataframe thead th {\n",
       "        text-align: right;\n",
       "    }\n",
       "</style>\n",
       "<table border=\"1\" class=\"dataframe\">\n",
       "  <thead>\n",
       "    <tr style=\"text-align: right;\">\n",
       "      <th></th>\n",
       "      <th>total_images</th>\n",
       "      <th>last_price</th>\n",
       "      <th>total_area</th>\n",
       "      <th>first_day_exposition</th>\n",
       "      <th>rooms</th>\n",
       "      <th>ceiling_height</th>\n",
       "      <th>floors_total</th>\n",
       "      <th>living_area</th>\n",
       "      <th>floor</th>\n",
       "      <th>is_apartment</th>\n",
       "      <th>...</th>\n",
       "      <th>balcony</th>\n",
       "      <th>locality_name</th>\n",
       "      <th>airports_nearest</th>\n",
       "      <th>cityCenters_nearest</th>\n",
       "      <th>parks_around3000</th>\n",
       "      <th>parks_nearest</th>\n",
       "      <th>ponds_around3000</th>\n",
       "      <th>ponds_nearest</th>\n",
       "      <th>days_exposition</th>\n",
       "      <th>locality_type</th>\n",
       "    </tr>\n",
       "  </thead>\n",
       "  <tbody>\n",
       "    <tr>\n",
       "      <th>397</th>\n",
       "      <td>15</td>\n",
       "      <td>5990000.0</td>\n",
       "      <td>54.0</td>\n",
       "      <td>2018-03-22</td>\n",
       "      <td>2</td>\n",
       "      <td>2.70</td>\n",
       "      <td>36</td>\n",
       "      <td>21.400000</td>\n",
       "      <td>28</td>\n",
       "      <td>NaN</td>\n",
       "      <td>...</td>\n",
       "      <td>1</td>\n",
       "      <td>Санкт-Петербург</td>\n",
       "      <td>18732.0</td>\n",
       "      <td>20444.0</td>\n",
       "      <td>0</td>\n",
       "      <td>NaN</td>\n",
       "      <td>3</td>\n",
       "      <td>80.0</td>\n",
       "      <td>11</td>\n",
       "      <td>Город</td>\n",
       "    </tr>\n",
       "    <tr>\n",
       "      <th>871</th>\n",
       "      <td>14</td>\n",
       "      <td>7777777.0</td>\n",
       "      <td>75.0</td>\n",
       "      <td>2017-11-16</td>\n",
       "      <td>2</td>\n",
       "      <td>2.70</td>\n",
       "      <td>35</td>\n",
       "      <td>40.500000</td>\n",
       "      <td>23</td>\n",
       "      <td>NaN</td>\n",
       "      <td>...</td>\n",
       "      <td>0</td>\n",
       "      <td>Санкт-Петербург</td>\n",
       "      <td>18732.0</td>\n",
       "      <td>20444.0</td>\n",
       "      <td>0</td>\n",
       "      <td>NaN</td>\n",
       "      <td>3</td>\n",
       "      <td>80.0</td>\n",
       "      <td>169</td>\n",
       "      <td>Город</td>\n",
       "    </tr>\n",
       "    <tr>\n",
       "      <th>1060</th>\n",
       "      <td>10</td>\n",
       "      <td>5200000.0</td>\n",
       "      <td>50.0</td>\n",
       "      <td>2015-11-06</td>\n",
       "      <td>2</td>\n",
       "      <td>2.70</td>\n",
       "      <td>35</td>\n",
       "      <td>39.000000</td>\n",
       "      <td>15</td>\n",
       "      <td>False</td>\n",
       "      <td>...</td>\n",
       "      <td>2</td>\n",
       "      <td>Санкт-Петербург</td>\n",
       "      <td>18732.0</td>\n",
       "      <td>20444.0</td>\n",
       "      <td>0</td>\n",
       "      <td>NaN</td>\n",
       "      <td>3</td>\n",
       "      <td>80.0</td>\n",
       "      <td>281</td>\n",
       "      <td>Город</td>\n",
       "    </tr>\n",
       "    <tr>\n",
       "      <th>1697</th>\n",
       "      <td>11</td>\n",
       "      <td>3550000.0</td>\n",
       "      <td>28.0</td>\n",
       "      <td>2018-02-08</td>\n",
       "      <td>1</td>\n",
       "      <td>2.65</td>\n",
       "      <td>34</td>\n",
       "      <td>18.000000</td>\n",
       "      <td>23</td>\n",
       "      <td>NaN</td>\n",
       "      <td>...</td>\n",
       "      <td>0</td>\n",
       "      <td>Санкт-Петербург</td>\n",
       "      <td>18732.0</td>\n",
       "      <td>20444.0</td>\n",
       "      <td>0</td>\n",
       "      <td>NaN</td>\n",
       "      <td>3</td>\n",
       "      <td>80.0</td>\n",
       "      <td>410</td>\n",
       "      <td>Город</td>\n",
       "    </tr>\n",
       "    <tr>\n",
       "      <th>1917</th>\n",
       "      <td>13</td>\n",
       "      <td>10150000.0</td>\n",
       "      <td>74.0</td>\n",
       "      <td>2017-11-17</td>\n",
       "      <td>2</td>\n",
       "      <td>2.80</td>\n",
       "      <td>35</td>\n",
       "      <td>34.400000</td>\n",
       "      <td>30</td>\n",
       "      <td>NaN</td>\n",
       "      <td>...</td>\n",
       "      <td>0</td>\n",
       "      <td>Санкт-Петербург</td>\n",
       "      <td>18732.0</td>\n",
       "      <td>20444.0</td>\n",
       "      <td>0</td>\n",
       "      <td>NaN</td>\n",
       "      <td>3</td>\n",
       "      <td>80.0</td>\n",
       "      <td>&lt;NA&gt;</td>\n",
       "      <td>Город</td>\n",
       "    </tr>\n",
       "    <tr>\n",
       "      <th>2253</th>\n",
       "      <td>12</td>\n",
       "      <td>3800000.0</td>\n",
       "      <td>45.5</td>\n",
       "      <td>2018-06-28</td>\n",
       "      <td>2</td>\n",
       "      <td>2.88</td>\n",
       "      <td>60</td>\n",
       "      <td>27.400000</td>\n",
       "      <td>4</td>\n",
       "      <td>NaN</td>\n",
       "      <td>...</td>\n",
       "      <td>0</td>\n",
       "      <td>Кронштадт</td>\n",
       "      <td>67763.0</td>\n",
       "      <td>49488.0</td>\n",
       "      <td>2</td>\n",
       "      <td>342.0</td>\n",
       "      <td>3</td>\n",
       "      <td>614.0</td>\n",
       "      <td>166</td>\n",
       "      <td>Город</td>\n",
       "    </tr>\n",
       "    <tr>\n",
       "      <th>2966</th>\n",
       "      <td>9</td>\n",
       "      <td>4300000.0</td>\n",
       "      <td>37.0</td>\n",
       "      <td>2017-08-08</td>\n",
       "      <td>1</td>\n",
       "      <td>2.70</td>\n",
       "      <td>35</td>\n",
       "      <td>14.000000</td>\n",
       "      <td>15</td>\n",
       "      <td>NaN</td>\n",
       "      <td>...</td>\n",
       "      <td>0</td>\n",
       "      <td>Санкт-Петербург</td>\n",
       "      <td>18732.0</td>\n",
       "      <td>20444.0</td>\n",
       "      <td>0</td>\n",
       "      <td>NaN</td>\n",
       "      <td>3</td>\n",
       "      <td>80.0</td>\n",
       "      <td>50</td>\n",
       "      <td>Город</td>\n",
       "    </tr>\n",
       "    <tr>\n",
       "      <th>4855</th>\n",
       "      <td>12</td>\n",
       "      <td>5500000.0</td>\n",
       "      <td>50.0</td>\n",
       "      <td>2017-06-22</td>\n",
       "      <td>1</td>\n",
       "      <td>2.80</td>\n",
       "      <td>35</td>\n",
       "      <td>22.000000</td>\n",
       "      <td>4</td>\n",
       "      <td>NaN</td>\n",
       "      <td>...</td>\n",
       "      <td>0</td>\n",
       "      <td>Санкт-Петербург</td>\n",
       "      <td>18627.0</td>\n",
       "      <td>20339.0</td>\n",
       "      <td>1</td>\n",
       "      <td>609.0</td>\n",
       "      <td>3</td>\n",
       "      <td>145.0</td>\n",
       "      <td>537</td>\n",
       "      <td>Город</td>\n",
       "    </tr>\n",
       "    <tr>\n",
       "      <th>5749</th>\n",
       "      <td>20</td>\n",
       "      <td>3590000.0</td>\n",
       "      <td>25.0</td>\n",
       "      <td>2017-08-30</td>\n",
       "      <td>0</td>\n",
       "      <td>2.80</td>\n",
       "      <td>35</td>\n",
       "      <td>14.423077</td>\n",
       "      <td>26</td>\n",
       "      <td>NaN</td>\n",
       "      <td>...</td>\n",
       "      <td>2</td>\n",
       "      <td>Санкт-Петербург</td>\n",
       "      <td>18732.0</td>\n",
       "      <td>20444.0</td>\n",
       "      <td>0</td>\n",
       "      <td>NaN</td>\n",
       "      <td>3</td>\n",
       "      <td>80.0</td>\n",
       "      <td>198</td>\n",
       "      <td>Город</td>\n",
       "    </tr>\n",
       "    <tr>\n",
       "      <th>5807</th>\n",
       "      <td>17</td>\n",
       "      <td>8150000.0</td>\n",
       "      <td>80.0</td>\n",
       "      <td>2019-01-09</td>\n",
       "      <td>2</td>\n",
       "      <td>2.70</td>\n",
       "      <td>36</td>\n",
       "      <td>41.000000</td>\n",
       "      <td>13</td>\n",
       "      <td>NaN</td>\n",
       "      <td>...</td>\n",
       "      <td>5</td>\n",
       "      <td>Санкт-Петербург</td>\n",
       "      <td>18732.0</td>\n",
       "      <td>20444.0</td>\n",
       "      <td>0</td>\n",
       "      <td>NaN</td>\n",
       "      <td>3</td>\n",
       "      <td>80.0</td>\n",
       "      <td>38</td>\n",
       "      <td>Город</td>\n",
       "    </tr>\n",
       "    <tr>\n",
       "      <th>5808</th>\n",
       "      <td>12</td>\n",
       "      <td>4590000.0</td>\n",
       "      <td>43.0</td>\n",
       "      <td>2018-10-19</td>\n",
       "      <td>1</td>\n",
       "      <td>2.70</td>\n",
       "      <td>35</td>\n",
       "      <td>14.000000</td>\n",
       "      <td>11</td>\n",
       "      <td>NaN</td>\n",
       "      <td>...</td>\n",
       "      <td>0</td>\n",
       "      <td>Санкт-Петербург</td>\n",
       "      <td>18732.0</td>\n",
       "      <td>20444.0</td>\n",
       "      <td>0</td>\n",
       "      <td>NaN</td>\n",
       "      <td>3</td>\n",
       "      <td>80.0</td>\n",
       "      <td>82</td>\n",
       "      <td>Город</td>\n",
       "    </tr>\n",
       "    <tr>\n",
       "      <th>7236</th>\n",
       "      <td>10</td>\n",
       "      <td>4599000.0</td>\n",
       "      <td>42.0</td>\n",
       "      <td>2019-01-10</td>\n",
       "      <td>1</td>\n",
       "      <td>2.70</td>\n",
       "      <td>35</td>\n",
       "      <td>15.000000</td>\n",
       "      <td>12</td>\n",
       "      <td>NaN</td>\n",
       "      <td>...</td>\n",
       "      <td>2</td>\n",
       "      <td>Санкт-Петербург</td>\n",
       "      <td>18732.0</td>\n",
       "      <td>20444.0</td>\n",
       "      <td>0</td>\n",
       "      <td>NaN</td>\n",
       "      <td>3</td>\n",
       "      <td>80.0</td>\n",
       "      <td>72</td>\n",
       "      <td>Город</td>\n",
       "    </tr>\n",
       "    <tr>\n",
       "      <th>8496</th>\n",
       "      <td>20</td>\n",
       "      <td>7500000.0</td>\n",
       "      <td>73.3</td>\n",
       "      <td>2017-05-18</td>\n",
       "      <td>3</td>\n",
       "      <td>2.70</td>\n",
       "      <td>35</td>\n",
       "      <td>28.000000</td>\n",
       "      <td>27</td>\n",
       "      <td>NaN</td>\n",
       "      <td>...</td>\n",
       "      <td>0</td>\n",
       "      <td>Санкт-Петербург</td>\n",
       "      <td>18732.0</td>\n",
       "      <td>20444.0</td>\n",
       "      <td>0</td>\n",
       "      <td>NaN</td>\n",
       "      <td>3</td>\n",
       "      <td>80.0</td>\n",
       "      <td>250</td>\n",
       "      <td>Город</td>\n",
       "    </tr>\n",
       "    <tr>\n",
       "      <th>9186</th>\n",
       "      <td>7</td>\n",
       "      <td>6500000.0</td>\n",
       "      <td>49.1</td>\n",
       "      <td>2019-04-12</td>\n",
       "      <td>1</td>\n",
       "      <td>2.50</td>\n",
       "      <td>35</td>\n",
       "      <td>31.000000</td>\n",
       "      <td>3</td>\n",
       "      <td>NaN</td>\n",
       "      <td>...</td>\n",
       "      <td>0</td>\n",
       "      <td>Санкт-Петербург</td>\n",
       "      <td>18732.0</td>\n",
       "      <td>20444.0</td>\n",
       "      <td>0</td>\n",
       "      <td>NaN</td>\n",
       "      <td>3</td>\n",
       "      <td>80.0</td>\n",
       "      <td>3</td>\n",
       "      <td>Город</td>\n",
       "    </tr>\n",
       "    <tr>\n",
       "      <th>9370</th>\n",
       "      <td>12</td>\n",
       "      <td>7390000.0</td>\n",
       "      <td>70.0</td>\n",
       "      <td>2017-02-21</td>\n",
       "      <td>2</td>\n",
       "      <td>2.70</td>\n",
       "      <td>35</td>\n",
       "      <td>28.000000</td>\n",
       "      <td>3</td>\n",
       "      <td>False</td>\n",
       "      <td>...</td>\n",
       "      <td>2</td>\n",
       "      <td>Санкт-Петербург</td>\n",
       "      <td>18732.0</td>\n",
       "      <td>20444.0</td>\n",
       "      <td>0</td>\n",
       "      <td>NaN</td>\n",
       "      <td>3</td>\n",
       "      <td>80.0</td>\n",
       "      <td>236</td>\n",
       "      <td>Город</td>\n",
       "    </tr>\n",
       "    <tr>\n",
       "      <th>9579</th>\n",
       "      <td>9</td>\n",
       "      <td>3450000.0</td>\n",
       "      <td>24.8</td>\n",
       "      <td>2019-02-01</td>\n",
       "      <td>0</td>\n",
       "      <td>2.68</td>\n",
       "      <td>35</td>\n",
       "      <td>16.000000</td>\n",
       "      <td>17</td>\n",
       "      <td>NaN</td>\n",
       "      <td>...</td>\n",
       "      <td>2</td>\n",
       "      <td>Санкт-Петербург</td>\n",
       "      <td>18732.0</td>\n",
       "      <td>20444.0</td>\n",
       "      <td>0</td>\n",
       "      <td>NaN</td>\n",
       "      <td>3</td>\n",
       "      <td>80.0</td>\n",
       "      <td>45</td>\n",
       "      <td>Город</td>\n",
       "    </tr>\n",
       "    <tr>\n",
       "      <th>11079</th>\n",
       "      <td>16</td>\n",
       "      <td>9200000.0</td>\n",
       "      <td>75.0</td>\n",
       "      <td>2019-02-22</td>\n",
       "      <td>2</td>\n",
       "      <td>2.70</td>\n",
       "      <td>36</td>\n",
       "      <td>40.000000</td>\n",
       "      <td>29</td>\n",
       "      <td>NaN</td>\n",
       "      <td>...</td>\n",
       "      <td>2</td>\n",
       "      <td>Санкт-Петербург</td>\n",
       "      <td>18732.0</td>\n",
       "      <td>20444.0</td>\n",
       "      <td>0</td>\n",
       "      <td>NaN</td>\n",
       "      <td>3</td>\n",
       "      <td>80.0</td>\n",
       "      <td>&lt;NA&gt;</td>\n",
       "      <td>Город</td>\n",
       "    </tr>\n",
       "    <tr>\n",
       "      <th>11575</th>\n",
       "      <td>9</td>\n",
       "      <td>9900000.0</td>\n",
       "      <td>101.0</td>\n",
       "      <td>2016-04-28</td>\n",
       "      <td>3</td>\n",
       "      <td>2.70</td>\n",
       "      <td>33</td>\n",
       "      <td>53.000000</td>\n",
       "      <td>32</td>\n",
       "      <td>False</td>\n",
       "      <td>...</td>\n",
       "      <td>0</td>\n",
       "      <td>Санкт-Петербург</td>\n",
       "      <td>18732.0</td>\n",
       "      <td>20444.0</td>\n",
       "      <td>0</td>\n",
       "      <td>NaN</td>\n",
       "      <td>3</td>\n",
       "      <td>80.0</td>\n",
       "      <td>53</td>\n",
       "      <td>Город</td>\n",
       "    </tr>\n",
       "    <tr>\n",
       "      <th>12888</th>\n",
       "      <td>7</td>\n",
       "      <td>7600000.0</td>\n",
       "      <td>70.0</td>\n",
       "      <td>2016-11-18</td>\n",
       "      <td>3</td>\n",
       "      <td>2.70</td>\n",
       "      <td>35</td>\n",
       "      <td>36.500000</td>\n",
       "      <td>27</td>\n",
       "      <td>NaN</td>\n",
       "      <td>...</td>\n",
       "      <td>2</td>\n",
       "      <td>Санкт-Петербург</td>\n",
       "      <td>18732.0</td>\n",
       "      <td>20444.0</td>\n",
       "      <td>0</td>\n",
       "      <td>NaN</td>\n",
       "      <td>3</td>\n",
       "      <td>80.0</td>\n",
       "      <td>413</td>\n",
       "      <td>Город</td>\n",
       "    </tr>\n",
       "    <tr>\n",
       "      <th>12960</th>\n",
       "      <td>20</td>\n",
       "      <td>6140000.0</td>\n",
       "      <td>54.0</td>\n",
       "      <td>2018-10-09</td>\n",
       "      <td>2</td>\n",
       "      <td>2.70</td>\n",
       "      <td>35</td>\n",
       "      <td>26.600000</td>\n",
       "      <td>13</td>\n",
       "      <td>NaN</td>\n",
       "      <td>...</td>\n",
       "      <td>2</td>\n",
       "      <td>Санкт-Петербург</td>\n",
       "      <td>18732.0</td>\n",
       "      <td>20444.0</td>\n",
       "      <td>0</td>\n",
       "      <td>NaN</td>\n",
       "      <td>3</td>\n",
       "      <td>80.0</td>\n",
       "      <td>155</td>\n",
       "      <td>Город</td>\n",
       "    </tr>\n",
       "    <tr>\n",
       "      <th>13975</th>\n",
       "      <td>19</td>\n",
       "      <td>6990000.0</td>\n",
       "      <td>65.0</td>\n",
       "      <td>2018-10-06</td>\n",
       "      <td>2</td>\n",
       "      <td>2.70</td>\n",
       "      <td>35</td>\n",
       "      <td>32.100000</td>\n",
       "      <td>23</td>\n",
       "      <td>NaN</td>\n",
       "      <td>...</td>\n",
       "      <td>0</td>\n",
       "      <td>Санкт-Петербург</td>\n",
       "      <td>18732.0</td>\n",
       "      <td>20444.0</td>\n",
       "      <td>0</td>\n",
       "      <td>NaN</td>\n",
       "      <td>3</td>\n",
       "      <td>80.0</td>\n",
       "      <td>89</td>\n",
       "      <td>Город</td>\n",
       "    </tr>\n",
       "    <tr>\n",
       "      <th>14347</th>\n",
       "      <td>14</td>\n",
       "      <td>8595000.0</td>\n",
       "      <td>69.7</td>\n",
       "      <td>2018-09-26</td>\n",
       "      <td>2</td>\n",
       "      <td>2.70</td>\n",
       "      <td>35</td>\n",
       "      <td>27.400000</td>\n",
       "      <td>26</td>\n",
       "      <td>NaN</td>\n",
       "      <td>...</td>\n",
       "      <td>0</td>\n",
       "      <td>Санкт-Петербург</td>\n",
       "      <td>18732.0</td>\n",
       "      <td>20444.0</td>\n",
       "      <td>0</td>\n",
       "      <td>NaN</td>\n",
       "      <td>3</td>\n",
       "      <td>80.0</td>\n",
       "      <td>&lt;NA&gt;</td>\n",
       "      <td>Город</td>\n",
       "    </tr>\n",
       "    <tr>\n",
       "      <th>15982</th>\n",
       "      <td>1</td>\n",
       "      <td>5900000.0</td>\n",
       "      <td>62.0</td>\n",
       "      <td>2015-03-01</td>\n",
       "      <td>2</td>\n",
       "      <td>2.70</td>\n",
       "      <td>35</td>\n",
       "      <td>34.000000</td>\n",
       "      <td>9</td>\n",
       "      <td>False</td>\n",
       "      <td>...</td>\n",
       "      <td>1</td>\n",
       "      <td>Санкт-Петербург</td>\n",
       "      <td>18732.0</td>\n",
       "      <td>20444.0</td>\n",
       "      <td>0</td>\n",
       "      <td>NaN</td>\n",
       "      <td>3</td>\n",
       "      <td>80.0</td>\n",
       "      <td>547</td>\n",
       "      <td>Город</td>\n",
       "    </tr>\n",
       "    <tr>\n",
       "      <th>16731</th>\n",
       "      <td>9</td>\n",
       "      <td>3978000.0</td>\n",
       "      <td>40.0</td>\n",
       "      <td>2018-09-24</td>\n",
       "      <td>1</td>\n",
       "      <td>2.65</td>\n",
       "      <td>52</td>\n",
       "      <td>10.500000</td>\n",
       "      <td>18</td>\n",
       "      <td>NaN</td>\n",
       "      <td>...</td>\n",
       "      <td>0</td>\n",
       "      <td>Санкт-Петербург</td>\n",
       "      <td>20728.0</td>\n",
       "      <td>12978.0</td>\n",
       "      <td>1</td>\n",
       "      <td>793.0</td>\n",
       "      <td>0</td>\n",
       "      <td>NaN</td>\n",
       "      <td>45</td>\n",
       "      <td>Город</td>\n",
       "    </tr>\n",
       "    <tr>\n",
       "      <th>18218</th>\n",
       "      <td>4</td>\n",
       "      <td>9900000.0</td>\n",
       "      <td>101.0</td>\n",
       "      <td>2018-09-27</td>\n",
       "      <td>3</td>\n",
       "      <td>2.70</td>\n",
       "      <td>35</td>\n",
       "      <td>53.400000</td>\n",
       "      <td>33</td>\n",
       "      <td>NaN</td>\n",
       "      <td>...</td>\n",
       "      <td>2</td>\n",
       "      <td>Санкт-Петербург</td>\n",
       "      <td>18737.0</td>\n",
       "      <td>20450.0</td>\n",
       "      <td>0</td>\n",
       "      <td>NaN</td>\n",
       "      <td>3</td>\n",
       "      <td>72.0</td>\n",
       "      <td>7</td>\n",
       "      <td>Город</td>\n",
       "    </tr>\n",
       "    <tr>\n",
       "      <th>18617</th>\n",
       "      <td>8</td>\n",
       "      <td>7350000.0</td>\n",
       "      <td>68.5</td>\n",
       "      <td>2017-10-09</td>\n",
       "      <td>2</td>\n",
       "      <td>2.70</td>\n",
       "      <td>35</td>\n",
       "      <td>27.000000</td>\n",
       "      <td>3</td>\n",
       "      <td>NaN</td>\n",
       "      <td>...</td>\n",
       "      <td>1</td>\n",
       "      <td>Санкт-Петербург</td>\n",
       "      <td>18627.0</td>\n",
       "      <td>20339.0</td>\n",
       "      <td>1</td>\n",
       "      <td>609.0</td>\n",
       "      <td>3</td>\n",
       "      <td>145.0</td>\n",
       "      <td>41</td>\n",
       "      <td>Город</td>\n",
       "    </tr>\n",
       "    <tr>\n",
       "      <th>18629</th>\n",
       "      <td>20</td>\n",
       "      <td>5700000.0</td>\n",
       "      <td>54.0</td>\n",
       "      <td>2017-12-08</td>\n",
       "      <td>1</td>\n",
       "      <td>2.70</td>\n",
       "      <td>35</td>\n",
       "      <td>21.000000</td>\n",
       "      <td>31</td>\n",
       "      <td>NaN</td>\n",
       "      <td>...</td>\n",
       "      <td>0</td>\n",
       "      <td>Санкт-Петербург</td>\n",
       "      <td>18732.0</td>\n",
       "      <td>20444.0</td>\n",
       "      <td>0</td>\n",
       "      <td>NaN</td>\n",
       "      <td>3</td>\n",
       "      <td>80.0</td>\n",
       "      <td>128</td>\n",
       "      <td>Город</td>\n",
       "    </tr>\n",
       "    <tr>\n",
       "      <th>20938</th>\n",
       "      <td>18</td>\n",
       "      <td>9900000.0</td>\n",
       "      <td>100.9</td>\n",
       "      <td>2019-04-08</td>\n",
       "      <td>3</td>\n",
       "      <td>2.70</td>\n",
       "      <td>35</td>\n",
       "      <td>53.400000</td>\n",
       "      <td>22</td>\n",
       "      <td>NaN</td>\n",
       "      <td>...</td>\n",
       "      <td>0</td>\n",
       "      <td>Санкт-Петербург</td>\n",
       "      <td>18732.0</td>\n",
       "      <td>20444.0</td>\n",
       "      <td>0</td>\n",
       "      <td>NaN</td>\n",
       "      <td>3</td>\n",
       "      <td>80.0</td>\n",
       "      <td>&lt;NA&gt;</td>\n",
       "      <td>Город</td>\n",
       "    </tr>\n",
       "    <tr>\n",
       "      <th>21599</th>\n",
       "      <td>12</td>\n",
       "      <td>6200000.0</td>\n",
       "      <td>51.0</td>\n",
       "      <td>2017-08-27</td>\n",
       "      <td>2</td>\n",
       "      <td>2.70</td>\n",
       "      <td>35</td>\n",
       "      <td>27.000000</td>\n",
       "      <td>13</td>\n",
       "      <td>NaN</td>\n",
       "      <td>...</td>\n",
       "      <td>0</td>\n",
       "      <td>Санкт-Петербург</td>\n",
       "      <td>18732.0</td>\n",
       "      <td>20444.0</td>\n",
       "      <td>0</td>\n",
       "      <td>NaN</td>\n",
       "      <td>3</td>\n",
       "      <td>80.0</td>\n",
       "      <td>&lt;NA&gt;</td>\n",
       "      <td>Город</td>\n",
       "    </tr>\n",
       "    <tr>\n",
       "      <th>21809</th>\n",
       "      <td>20</td>\n",
       "      <td>10600000.0</td>\n",
       "      <td>77.0</td>\n",
       "      <td>2019-04-16</td>\n",
       "      <td>2</td>\n",
       "      <td>2.70</td>\n",
       "      <td>35</td>\n",
       "      <td>39.000000</td>\n",
       "      <td>11</td>\n",
       "      <td>NaN</td>\n",
       "      <td>...</td>\n",
       "      <td>2</td>\n",
       "      <td>Санкт-Петербург</td>\n",
       "      <td>18732.0</td>\n",
       "      <td>20444.0</td>\n",
       "      <td>0</td>\n",
       "      <td>NaN</td>\n",
       "      <td>3</td>\n",
       "      <td>80.0</td>\n",
       "      <td>&lt;NA&gt;</td>\n",
       "      <td>Город</td>\n",
       "    </tr>\n",
       "    <tr>\n",
       "      <th>22946</th>\n",
       "      <td>14</td>\n",
       "      <td>7690000.0</td>\n",
       "      <td>75.0</td>\n",
       "      <td>2018-03-27</td>\n",
       "      <td>2</td>\n",
       "      <td>2.70</td>\n",
       "      <td>35</td>\n",
       "      <td>40.000000</td>\n",
       "      <td>8</td>\n",
       "      <td>NaN</td>\n",
       "      <td>...</td>\n",
       "      <td>0</td>\n",
       "      <td>Санкт-Петербург</td>\n",
       "      <td>18732.0</td>\n",
       "      <td>20444.0</td>\n",
       "      <td>0</td>\n",
       "      <td>NaN</td>\n",
       "      <td>3</td>\n",
       "      <td>80.0</td>\n",
       "      <td>&lt;NA&gt;</td>\n",
       "      <td>Город</td>\n",
       "    </tr>\n",
       "  </tbody>\n",
       "</table>\n",
       "<p>31 rows × 23 columns</p>\n",
       "</div>"
      ],
      "text/plain": [
       "       total_images  last_price  total_area first_day_exposition  rooms  \\\n",
       "397              15   5990000.0        54.0           2018-03-22      2   \n",
       "871              14   7777777.0        75.0           2017-11-16      2   \n",
       "1060             10   5200000.0        50.0           2015-11-06      2   \n",
       "1697             11   3550000.0        28.0           2018-02-08      1   \n",
       "1917             13  10150000.0        74.0           2017-11-17      2   \n",
       "2253             12   3800000.0        45.5           2018-06-28      2   \n",
       "2966              9   4300000.0        37.0           2017-08-08      1   \n",
       "4855             12   5500000.0        50.0           2017-06-22      1   \n",
       "5749             20   3590000.0        25.0           2017-08-30      0   \n",
       "5807             17   8150000.0        80.0           2019-01-09      2   \n",
       "5808             12   4590000.0        43.0           2018-10-19      1   \n",
       "7236             10   4599000.0        42.0           2019-01-10      1   \n",
       "8496             20   7500000.0        73.3           2017-05-18      3   \n",
       "9186              7   6500000.0        49.1           2019-04-12      1   \n",
       "9370             12   7390000.0        70.0           2017-02-21      2   \n",
       "9579              9   3450000.0        24.8           2019-02-01      0   \n",
       "11079            16   9200000.0        75.0           2019-02-22      2   \n",
       "11575             9   9900000.0       101.0           2016-04-28      3   \n",
       "12888             7   7600000.0        70.0           2016-11-18      3   \n",
       "12960            20   6140000.0        54.0           2018-10-09      2   \n",
       "13975            19   6990000.0        65.0           2018-10-06      2   \n",
       "14347            14   8595000.0        69.7           2018-09-26      2   \n",
       "15982             1   5900000.0        62.0           2015-03-01      2   \n",
       "16731             9   3978000.0        40.0           2018-09-24      1   \n",
       "18218             4   9900000.0       101.0           2018-09-27      3   \n",
       "18617             8   7350000.0        68.5           2017-10-09      2   \n",
       "18629            20   5700000.0        54.0           2017-12-08      1   \n",
       "20938            18   9900000.0       100.9           2019-04-08      3   \n",
       "21599            12   6200000.0        51.0           2017-08-27      2   \n",
       "21809            20  10600000.0        77.0           2019-04-16      2   \n",
       "22946            14   7690000.0        75.0           2018-03-27      2   \n",
       "\n",
       "       ceiling_height  floors_total  living_area  floor is_apartment  ...  \\\n",
       "397              2.70            36    21.400000     28          NaN  ...   \n",
       "871              2.70            35    40.500000     23          NaN  ...   \n",
       "1060             2.70            35    39.000000     15        False  ...   \n",
       "1697             2.65            34    18.000000     23          NaN  ...   \n",
       "1917             2.80            35    34.400000     30          NaN  ...   \n",
       "2253             2.88            60    27.400000      4          NaN  ...   \n",
       "2966             2.70            35    14.000000     15          NaN  ...   \n",
       "4855             2.80            35    22.000000      4          NaN  ...   \n",
       "5749             2.80            35    14.423077     26          NaN  ...   \n",
       "5807             2.70            36    41.000000     13          NaN  ...   \n",
       "5808             2.70            35    14.000000     11          NaN  ...   \n",
       "7236             2.70            35    15.000000     12          NaN  ...   \n",
       "8496             2.70            35    28.000000     27          NaN  ...   \n",
       "9186             2.50            35    31.000000      3          NaN  ...   \n",
       "9370             2.70            35    28.000000      3        False  ...   \n",
       "9579             2.68            35    16.000000     17          NaN  ...   \n",
       "11079            2.70            36    40.000000     29          NaN  ...   \n",
       "11575            2.70            33    53.000000     32        False  ...   \n",
       "12888            2.70            35    36.500000     27          NaN  ...   \n",
       "12960            2.70            35    26.600000     13          NaN  ...   \n",
       "13975            2.70            35    32.100000     23          NaN  ...   \n",
       "14347            2.70            35    27.400000     26          NaN  ...   \n",
       "15982            2.70            35    34.000000      9        False  ...   \n",
       "16731            2.65            52    10.500000     18          NaN  ...   \n",
       "18218            2.70            35    53.400000     33          NaN  ...   \n",
       "18617            2.70            35    27.000000      3          NaN  ...   \n",
       "18629            2.70            35    21.000000     31          NaN  ...   \n",
       "20938            2.70            35    53.400000     22          NaN  ...   \n",
       "21599            2.70            35    27.000000     13          NaN  ...   \n",
       "21809            2.70            35    39.000000     11          NaN  ...   \n",
       "22946            2.70            35    40.000000      8          NaN  ...   \n",
       "\n",
       "       balcony    locality_name  airports_nearest  cityCenters_nearest  \\\n",
       "397          1  Санкт-Петербург           18732.0              20444.0   \n",
       "871          0  Санкт-Петербург           18732.0              20444.0   \n",
       "1060         2  Санкт-Петербург           18732.0              20444.0   \n",
       "1697         0  Санкт-Петербург           18732.0              20444.0   \n",
       "1917         0  Санкт-Петербург           18732.0              20444.0   \n",
       "2253         0        Кронштадт           67763.0              49488.0   \n",
       "2966         0  Санкт-Петербург           18732.0              20444.0   \n",
       "4855         0  Санкт-Петербург           18627.0              20339.0   \n",
       "5749         2  Санкт-Петербург           18732.0              20444.0   \n",
       "5807         5  Санкт-Петербург           18732.0              20444.0   \n",
       "5808         0  Санкт-Петербург           18732.0              20444.0   \n",
       "7236         2  Санкт-Петербург           18732.0              20444.0   \n",
       "8496         0  Санкт-Петербург           18732.0              20444.0   \n",
       "9186         0  Санкт-Петербург           18732.0              20444.0   \n",
       "9370         2  Санкт-Петербург           18732.0              20444.0   \n",
       "9579         2  Санкт-Петербург           18732.0              20444.0   \n",
       "11079        2  Санкт-Петербург           18732.0              20444.0   \n",
       "11575        0  Санкт-Петербург           18732.0              20444.0   \n",
       "12888        2  Санкт-Петербург           18732.0              20444.0   \n",
       "12960        2  Санкт-Петербург           18732.0              20444.0   \n",
       "13975        0  Санкт-Петербург           18732.0              20444.0   \n",
       "14347        0  Санкт-Петербург           18732.0              20444.0   \n",
       "15982        1  Санкт-Петербург           18732.0              20444.0   \n",
       "16731        0  Санкт-Петербург           20728.0              12978.0   \n",
       "18218        2  Санкт-Петербург           18737.0              20450.0   \n",
       "18617        1  Санкт-Петербург           18627.0              20339.0   \n",
       "18629        0  Санкт-Петербург           18732.0              20444.0   \n",
       "20938        0  Санкт-Петербург           18732.0              20444.0   \n",
       "21599        0  Санкт-Петербург           18732.0              20444.0   \n",
       "21809        2  Санкт-Петербург           18732.0              20444.0   \n",
       "22946        0  Санкт-Петербург           18732.0              20444.0   \n",
       "\n",
       "      parks_around3000  parks_nearest  ponds_around3000  ponds_nearest  \\\n",
       "397                  0            NaN                 3           80.0   \n",
       "871                  0            NaN                 3           80.0   \n",
       "1060                 0            NaN                 3           80.0   \n",
       "1697                 0            NaN                 3           80.0   \n",
       "1917                 0            NaN                 3           80.0   \n",
       "2253                 2          342.0                 3          614.0   \n",
       "2966                 0            NaN                 3           80.0   \n",
       "4855                 1          609.0                 3          145.0   \n",
       "5749                 0            NaN                 3           80.0   \n",
       "5807                 0            NaN                 3           80.0   \n",
       "5808                 0            NaN                 3           80.0   \n",
       "7236                 0            NaN                 3           80.0   \n",
       "8496                 0            NaN                 3           80.0   \n",
       "9186                 0            NaN                 3           80.0   \n",
       "9370                 0            NaN                 3           80.0   \n",
       "9579                 0            NaN                 3           80.0   \n",
       "11079                0            NaN                 3           80.0   \n",
       "11575                0            NaN                 3           80.0   \n",
       "12888                0            NaN                 3           80.0   \n",
       "12960                0            NaN                 3           80.0   \n",
       "13975                0            NaN                 3           80.0   \n",
       "14347                0            NaN                 3           80.0   \n",
       "15982                0            NaN                 3           80.0   \n",
       "16731                1          793.0                 0            NaN   \n",
       "18218                0            NaN                 3           72.0   \n",
       "18617                1          609.0                 3          145.0   \n",
       "18629                0            NaN                 3           80.0   \n",
       "20938                0            NaN                 3           80.0   \n",
       "21599                0            NaN                 3           80.0   \n",
       "21809                0            NaN                 3           80.0   \n",
       "22946                0            NaN                 3           80.0   \n",
       "\n",
       "       days_exposition  locality_type  \n",
       "397                 11          Город  \n",
       "871                169          Город  \n",
       "1060               281          Город  \n",
       "1697               410          Город  \n",
       "1917              <NA>          Город  \n",
       "2253               166          Город  \n",
       "2966                50          Город  \n",
       "4855               537          Город  \n",
       "5749               198          Город  \n",
       "5807                38          Город  \n",
       "5808                82          Город  \n",
       "7236                72          Город  \n",
       "8496               250          Город  \n",
       "9186                 3          Город  \n",
       "9370               236          Город  \n",
       "9579                45          Город  \n",
       "11079             <NA>          Город  \n",
       "11575               53          Город  \n",
       "12888              413          Город  \n",
       "12960              155          Город  \n",
       "13975               89          Город  \n",
       "14347             <NA>          Город  \n",
       "15982              547          Город  \n",
       "16731               45          Город  \n",
       "18218                7          Город  \n",
       "18617               41          Город  \n",
       "18629              128          Город  \n",
       "20938             <NA>          Город  \n",
       "21599             <NA>          Город  \n",
       "21809             <NA>          Город  \n",
       "22946             <NA>          Город  \n",
       "\n",
       "[31 rows x 23 columns]"
      ]
     },
     "execution_count": 49,
     "metadata": {},
     "output_type": "execute_result"
    }
   ],
   "source": [
    "data[data['floors_total'] > 30] #Изучим данные, которые выходят за 30 этажей"
   ]
  },
  {
   "cell_type": "markdown",
   "metadata": {},
   "source": [
    "Всего 31 строк, которые выходят за 'усы', что составляет менее 1% от общего числа объявлений. 30 этажей и более - это скорее редкое значение, поэтому избавимся от них."
   ]
  },
  {
   "cell_type": "code",
   "execution_count": 50,
   "metadata": {},
   "outputs": [],
   "source": [
    "data = data[data['floors_total'] < 30]"
   ]
  },
  {
   "cell_type": "code",
   "execution_count": 51,
   "metadata": {},
   "outputs": [
    {
     "data": {
      "text/html": [
       "<div>\n",
       "<style scoped>\n",
       "    .dataframe tbody tr th:only-of-type {\n",
       "        vertical-align: middle;\n",
       "    }\n",
       "\n",
       "    .dataframe tbody tr th {\n",
       "        vertical-align: top;\n",
       "    }\n",
       "\n",
       "    .dataframe thead th {\n",
       "        text-align: right;\n",
       "    }\n",
       "</style>\n",
       "<table border=\"1\" class=\"dataframe\">\n",
       "  <thead>\n",
       "    <tr style=\"text-align: right;\">\n",
       "      <th></th>\n",
       "      <th>total_images</th>\n",
       "      <th>last_price</th>\n",
       "      <th>total_area</th>\n",
       "      <th>first_day_exposition</th>\n",
       "      <th>rooms</th>\n",
       "      <th>ceiling_height</th>\n",
       "      <th>floors_total</th>\n",
       "      <th>living_area</th>\n",
       "      <th>floor</th>\n",
       "      <th>is_apartment</th>\n",
       "      <th>...</th>\n",
       "      <th>balcony</th>\n",
       "      <th>locality_name</th>\n",
       "      <th>airports_nearest</th>\n",
       "      <th>cityCenters_nearest</th>\n",
       "      <th>parks_around3000</th>\n",
       "      <th>parks_nearest</th>\n",
       "      <th>ponds_around3000</th>\n",
       "      <th>ponds_nearest</th>\n",
       "      <th>days_exposition</th>\n",
       "      <th>locality_type</th>\n",
       "    </tr>\n",
       "  </thead>\n",
       "  <tbody>\n",
       "    <tr>\n",
       "      <th>8793</th>\n",
       "      <td>7</td>\n",
       "      <td>12190.0</td>\n",
       "      <td>109.0</td>\n",
       "      <td>2019-03-20</td>\n",
       "      <td>2</td>\n",
       "      <td>2.750</td>\n",
       "      <td>25</td>\n",
       "      <td>32.000000</td>\n",
       "      <td>25</td>\n",
       "      <td>NaN</td>\n",
       "      <td>...</td>\n",
       "      <td>0</td>\n",
       "      <td>Санкт-Петербург</td>\n",
       "      <td>36421.0</td>\n",
       "      <td>9176.0</td>\n",
       "      <td>1</td>\n",
       "      <td>805.0</td>\n",
       "      <td>0</td>\n",
       "      <td>NaN</td>\n",
       "      <td>8</td>\n",
       "      <td>Город</td>\n",
       "    </tr>\n",
       "    <tr>\n",
       "      <th>17456</th>\n",
       "      <td>7</td>\n",
       "      <td>430000.0</td>\n",
       "      <td>30.4</td>\n",
       "      <td>2019-04-22</td>\n",
       "      <td>1</td>\n",
       "      <td>2.500</td>\n",
       "      <td>2</td>\n",
       "      <td>16.000000</td>\n",
       "      <td>1</td>\n",
       "      <td>NaN</td>\n",
       "      <td>...</td>\n",
       "      <td>0</td>\n",
       "      <td>Сланцы</td>\n",
       "      <td>NaN</td>\n",
       "      <td>NaN</td>\n",
       "      <td>0</td>\n",
       "      <td>NaN</td>\n",
       "      <td>0</td>\n",
       "      <td>NaN</td>\n",
       "      <td>&lt;NA&gt;</td>\n",
       "      <td>Город</td>\n",
       "    </tr>\n",
       "    <tr>\n",
       "      <th>16219</th>\n",
       "      <td>14</td>\n",
       "      <td>450000.0</td>\n",
       "      <td>38.5</td>\n",
       "      <td>2018-07-11</td>\n",
       "      <td>2</td>\n",
       "      <td>2.650</td>\n",
       "      <td>2</td>\n",
       "      <td>22.211538</td>\n",
       "      <td>1</td>\n",
       "      <td>NaN</td>\n",
       "      <td>...</td>\n",
       "      <td>0</td>\n",
       "      <td>Вахнова Кара</td>\n",
       "      <td>NaN</td>\n",
       "      <td>NaN</td>\n",
       "      <td>0</td>\n",
       "      <td>NaN</td>\n",
       "      <td>0</td>\n",
       "      <td>NaN</td>\n",
       "      <td>45</td>\n",
       "      <td>Деревня</td>\n",
       "    </tr>\n",
       "    <tr>\n",
       "      <th>5698</th>\n",
       "      <td>7</td>\n",
       "      <td>450000.0</td>\n",
       "      <td>42.0</td>\n",
       "      <td>2017-07-31</td>\n",
       "      <td>2</td>\n",
       "      <td>2.615</td>\n",
       "      <td>1</td>\n",
       "      <td>23.000000</td>\n",
       "      <td>1</td>\n",
       "      <td>NaN</td>\n",
       "      <td>...</td>\n",
       "      <td>0</td>\n",
       "      <td>Будогощь</td>\n",
       "      <td>NaN</td>\n",
       "      <td>NaN</td>\n",
       "      <td>0</td>\n",
       "      <td>NaN</td>\n",
       "      <td>0</td>\n",
       "      <td>NaN</td>\n",
       "      <td>233</td>\n",
       "      <td>Поселок</td>\n",
       "    </tr>\n",
       "    <tr>\n",
       "      <th>23484</th>\n",
       "      <td>11</td>\n",
       "      <td>470000.0</td>\n",
       "      <td>44.5</td>\n",
       "      <td>2018-07-02</td>\n",
       "      <td>2</td>\n",
       "      <td>2.500</td>\n",
       "      <td>2</td>\n",
       "      <td>28.000000</td>\n",
       "      <td>2</td>\n",
       "      <td>NaN</td>\n",
       "      <td>...</td>\n",
       "      <td>0</td>\n",
       "      <td>Сланцы</td>\n",
       "      <td>NaN</td>\n",
       "      <td>NaN</td>\n",
       "      <td>0</td>\n",
       "      <td>NaN</td>\n",
       "      <td>0</td>\n",
       "      <td>NaN</td>\n",
       "      <td>298</td>\n",
       "      <td>Город</td>\n",
       "    </tr>\n",
       "    <tr>\n",
       "      <th>...</th>\n",
       "      <td>...</td>\n",
       "      <td>...</td>\n",
       "      <td>...</td>\n",
       "      <td>...</td>\n",
       "      <td>...</td>\n",
       "      <td>...</td>\n",
       "      <td>...</td>\n",
       "      <td>...</td>\n",
       "      <td>...</td>\n",
       "      <td>...</td>\n",
       "      <td>...</td>\n",
       "      <td>...</td>\n",
       "      <td>...</td>\n",
       "      <td>...</td>\n",
       "      <td>...</td>\n",
       "      <td>...</td>\n",
       "      <td>...</td>\n",
       "      <td>...</td>\n",
       "      <td>...</td>\n",
       "      <td>...</td>\n",
       "      <td>...</td>\n",
       "    </tr>\n",
       "    <tr>\n",
       "      <th>16647</th>\n",
       "      <td>15</td>\n",
       "      <td>122000000.0</td>\n",
       "      <td>145.0</td>\n",
       "      <td>2017-04-25</td>\n",
       "      <td>3</td>\n",
       "      <td>3.300</td>\n",
       "      <td>6</td>\n",
       "      <td>36.000000</td>\n",
       "      <td>2</td>\n",
       "      <td>NaN</td>\n",
       "      <td>...</td>\n",
       "      <td>0</td>\n",
       "      <td>Санкт-Петербург</td>\n",
       "      <td>33931.0</td>\n",
       "      <td>7023.0</td>\n",
       "      <td>2</td>\n",
       "      <td>478.0</td>\n",
       "      <td>3</td>\n",
       "      <td>250.0</td>\n",
       "      <td>335</td>\n",
       "      <td>Город</td>\n",
       "    </tr>\n",
       "    <tr>\n",
       "      <th>4996</th>\n",
       "      <td>20</td>\n",
       "      <td>124000000.0</td>\n",
       "      <td>124.5</td>\n",
       "      <td>2017-10-12</td>\n",
       "      <td>4</td>\n",
       "      <td>3.000</td>\n",
       "      <td>4</td>\n",
       "      <td>67.200000</td>\n",
       "      <td>2</td>\n",
       "      <td>False</td>\n",
       "      <td>...</td>\n",
       "      <td>0</td>\n",
       "      <td>Санкт-Петербург</td>\n",
       "      <td>20399.0</td>\n",
       "      <td>1722.0</td>\n",
       "      <td>3</td>\n",
       "      <td>302.0</td>\n",
       "      <td>3</td>\n",
       "      <td>172.0</td>\n",
       "      <td>45</td>\n",
       "      <td>Город</td>\n",
       "    </tr>\n",
       "    <tr>\n",
       "      <th>17912</th>\n",
       "      <td>17</td>\n",
       "      <td>135000000.0</td>\n",
       "      <td>166.0</td>\n",
       "      <td>2019-02-07</td>\n",
       "      <td>3</td>\n",
       "      <td>3.300</td>\n",
       "      <td>7</td>\n",
       "      <td>52.000000</td>\n",
       "      <td>1</td>\n",
       "      <td>NaN</td>\n",
       "      <td>...</td>\n",
       "      <td>0</td>\n",
       "      <td>Санкт-Петербург</td>\n",
       "      <td>32863.0</td>\n",
       "      <td>5955.0</td>\n",
       "      <td>2</td>\n",
       "      <td>230.0</td>\n",
       "      <td>3</td>\n",
       "      <td>215.0</td>\n",
       "      <td>&lt;NA&gt;</td>\n",
       "      <td>Город</td>\n",
       "    </tr>\n",
       "    <tr>\n",
       "      <th>22831</th>\n",
       "      <td>18</td>\n",
       "      <td>289238400.0</td>\n",
       "      <td>187.5</td>\n",
       "      <td>2019-03-19</td>\n",
       "      <td>2</td>\n",
       "      <td>3.370</td>\n",
       "      <td>6</td>\n",
       "      <td>63.700000</td>\n",
       "      <td>6</td>\n",
       "      <td>NaN</td>\n",
       "      <td>...</td>\n",
       "      <td>0</td>\n",
       "      <td>Санкт-Петербург</td>\n",
       "      <td>22494.0</td>\n",
       "      <td>1073.0</td>\n",
       "      <td>3</td>\n",
       "      <td>386.0</td>\n",
       "      <td>3</td>\n",
       "      <td>188.0</td>\n",
       "      <td>&lt;NA&gt;</td>\n",
       "      <td>Город</td>\n",
       "    </tr>\n",
       "    <tr>\n",
       "      <th>1436</th>\n",
       "      <td>19</td>\n",
       "      <td>330000000.0</td>\n",
       "      <td>190.0</td>\n",
       "      <td>2018-04-04</td>\n",
       "      <td>3</td>\n",
       "      <td>3.500</td>\n",
       "      <td>7</td>\n",
       "      <td>95.000000</td>\n",
       "      <td>5</td>\n",
       "      <td>NaN</td>\n",
       "      <td>...</td>\n",
       "      <td>0</td>\n",
       "      <td>Санкт-Петербург</td>\n",
       "      <td>23011.0</td>\n",
       "      <td>1197.0</td>\n",
       "      <td>3</td>\n",
       "      <td>519.0</td>\n",
       "      <td>3</td>\n",
       "      <td>285.0</td>\n",
       "      <td>233</td>\n",
       "      <td>Город</td>\n",
       "    </tr>\n",
       "  </tbody>\n",
       "</table>\n",
       "<p>23167 rows × 23 columns</p>\n",
       "</div>"
      ],
      "text/plain": [
       "       total_images   last_price  total_area first_day_exposition  rooms  \\\n",
       "8793              7      12190.0       109.0           2019-03-20      2   \n",
       "17456             7     430000.0        30.4           2019-04-22      1   \n",
       "16219            14     450000.0        38.5           2018-07-11      2   \n",
       "5698              7     450000.0        42.0           2017-07-31      2   \n",
       "23484            11     470000.0        44.5           2018-07-02      2   \n",
       "...             ...          ...         ...                  ...    ...   \n",
       "16647            15  122000000.0       145.0           2017-04-25      3   \n",
       "4996             20  124000000.0       124.5           2017-10-12      4   \n",
       "17912            17  135000000.0       166.0           2019-02-07      3   \n",
       "22831            18  289238400.0       187.5           2019-03-19      2   \n",
       "1436             19  330000000.0       190.0           2018-04-04      3   \n",
       "\n",
       "       ceiling_height  floors_total  living_area  floor is_apartment  ...  \\\n",
       "8793            2.750            25    32.000000     25          NaN  ...   \n",
       "17456           2.500             2    16.000000      1          NaN  ...   \n",
       "16219           2.650             2    22.211538      1          NaN  ...   \n",
       "5698            2.615             1    23.000000      1          NaN  ...   \n",
       "23484           2.500             2    28.000000      2          NaN  ...   \n",
       "...               ...           ...          ...    ...          ...  ...   \n",
       "16647           3.300             6    36.000000      2          NaN  ...   \n",
       "4996            3.000             4    67.200000      2        False  ...   \n",
       "17912           3.300             7    52.000000      1          NaN  ...   \n",
       "22831           3.370             6    63.700000      6          NaN  ...   \n",
       "1436            3.500             7    95.000000      5          NaN  ...   \n",
       "\n",
       "       balcony    locality_name  airports_nearest  cityCenters_nearest  \\\n",
       "8793         0  Санкт-Петербург           36421.0               9176.0   \n",
       "17456        0           Сланцы               NaN                  NaN   \n",
       "16219        0     Вахнова Кара               NaN                  NaN   \n",
       "5698         0         Будогощь               NaN                  NaN   \n",
       "23484        0           Сланцы               NaN                  NaN   \n",
       "...        ...              ...               ...                  ...   \n",
       "16647        0  Санкт-Петербург           33931.0               7023.0   \n",
       "4996         0  Санкт-Петербург           20399.0               1722.0   \n",
       "17912        0  Санкт-Петербург           32863.0               5955.0   \n",
       "22831        0  Санкт-Петербург           22494.0               1073.0   \n",
       "1436         0  Санкт-Петербург           23011.0               1197.0   \n",
       "\n",
       "      parks_around3000  parks_nearest  ponds_around3000  ponds_nearest  \\\n",
       "8793                 1          805.0                 0            NaN   \n",
       "17456                0            NaN                 0            NaN   \n",
       "16219                0            NaN                 0            NaN   \n",
       "5698                 0            NaN                 0            NaN   \n",
       "23484                0            NaN                 0            NaN   \n",
       "...                ...            ...               ...            ...   \n",
       "16647                2          478.0                 3          250.0   \n",
       "4996                 3          302.0                 3          172.0   \n",
       "17912                2          230.0                 3          215.0   \n",
       "22831                3          386.0                 3          188.0   \n",
       "1436                 3          519.0                 3          285.0   \n",
       "\n",
       "       days_exposition  locality_type  \n",
       "8793                 8          Город  \n",
       "17456             <NA>          Город  \n",
       "16219               45        Деревня  \n",
       "5698               233        Поселок  \n",
       "23484              298          Город  \n",
       "...                ...            ...  \n",
       "16647              335          Город  \n",
       "4996                45          Город  \n",
       "17912             <NA>          Город  \n",
       "22831             <NA>          Город  \n",
       "1436               233          Город  \n",
       "\n",
       "[23167 rows x 23 columns]"
      ]
     },
     "execution_count": 51,
     "metadata": {},
     "output_type": "execute_result"
    }
   ],
   "source": [
    "data.sort_values('last_price') \n",
    "#Цена в объявлении равна 12 190, что скорее всего соответствует 12 190 000, судя по квадратуре помещения, но мы не можем знать\n",
    "#точно, поэтому от данной строчки лучше избавиться"
   ]
  },
  {
   "cell_type": "code",
   "execution_count": 52,
   "metadata": {},
   "outputs": [],
   "source": [
    "data = data[data['last_price'] != 12190]"
   ]
  },
  {
   "cell_type": "code",
   "execution_count": 53,
   "metadata": {},
   "outputs": [
    {
     "data": {
      "text/plain": [
       "21085       0.0\n",
       "4017     6450.0\n",
       "12899    6450.0\n",
       "7778     6914.0\n",
       "23150    6949.0\n",
       "          ...  \n",
       "23682       NaN\n",
       "23683       NaN\n",
       "23692       NaN\n",
       "23695       NaN\n",
       "23698       NaN\n",
       "Name: airports_nearest, Length: 23166, dtype: float64"
      ]
     },
     "execution_count": 53,
     "metadata": {},
     "output_type": "execute_result"
    }
   ],
   "source": [
    "data['airports_nearest'].sort_values() #Маловероятно, что жилье находится в аэропорту"
   ]
  },
  {
   "cell_type": "code",
   "execution_count": 54,
   "metadata": {},
   "outputs": [],
   "source": [
    "data = data[data['airports_nearest'] != 0]"
   ]
  },
  {
   "cell_type": "code",
   "execution_count": 55,
   "metadata": {},
   "outputs": [
    {
     "data": {
      "image/png": "[encoded data removed]",
      "text/plain": [
       "<Figure size 432x288 with 1 Axes>"
      ]
     },
     "metadata": {
      "needs_background": "light"
     },
     "output_type": "display_data"
    },
    {
     "data": {
      "image/png": "[encoded data removed]",
      "text/plain": [
       "<Figure size 432x288 with 1 Axes>"
      ]
     },
     "metadata": {
      "needs_background": "light"
     },
     "output_type": "display_data"
    }
   ],
   "source": [
    "#Изучим сроки размещений объявлений с помощью гистограммы\n",
    "data['days_exposition'].hist(bins=100)\n",
    "plt.show()\n",
    "data['days_exposition'].hist(bins=100, range=(0, 100))\n",
    "plt.show()"
   ]
  },
  {
   "cell_type": "markdown",
   "metadata": {},
   "source": [
    "На гистограмме четко видны выбросы в значениях 45, 60 и 90 дней. Скорее всего данные выбросы связаны с тем, что продавец прибегал к услугам фирм, для продажи квартир, которые обязуются продать квартиру за определенный срок или выкупят ее сами. Избавимся от данных выбросов."
   ]
  },
  {
   "cell_type": "code",
   "execution_count": 56,
   "metadata": {},
   "outputs": [],
   "source": [
    "data = data.query('days_exposition != 45 and days_exposition != 60 and days_exposition != 90')"
   ]
  },
  {
   "cell_type": "markdown",
   "metadata": {},
   "source": [
    "Еще раз изучим данные о таблице, что бы посмотреть от какого количества данных мы избавились"
   ]
  },
  {
   "cell_type": "code",
   "execution_count": 57,
   "metadata": {},
   "outputs": [
    {
     "data": {
      "text/plain": [
       "18497"
      ]
     },
     "execution_count": 57,
     "metadata": {},
     "output_type": "execute_result"
    }
   ],
   "source": [
    "len(data) # 23 699 изначальное количество строк в таблице"
   ]
  },
  {
   "cell_type": "code",
   "execution_count": 58,
   "metadata": {},
   "outputs": [
    {
     "data": {
      "text/plain": [
       "'В общей сложности мы удалили приблизительно 22.0%'"
      ]
     },
     "metadata": {},
     "output_type": "display_data"
    }
   ],
   "source": [
    "display(f'В общей сложности мы удалили приблизительно {1-len(data)/23699:.1%}')"
   ]
  },
  {
   "cell_type": "markdown",
   "metadata": {},
   "source": [
    "В общей сложности не рекомендуется удалять более 10% от исходных данных, но ввиду всех изменений наши данные стали более качественные, и тем самым анализ будет более точным."
   ]
  },
  {
   "cell_type": "code",
   "execution_count": 59,
   "metadata": {},
   "outputs": [
    {
     "data": {
      "text/html": [
       "<div>\n",
       "<style scoped>\n",
       "    .dataframe tbody tr th:only-of-type {\n",
       "        vertical-align: middle;\n",
       "    }\n",
       "\n",
       "    .dataframe tbody tr th {\n",
       "        vertical-align: top;\n",
       "    }\n",
       "\n",
       "    .dataframe thead th {\n",
       "        text-align: right;\n",
       "    }\n",
       "</style>\n",
       "<table border=\"1\" class=\"dataframe\">\n",
       "  <thead>\n",
       "    <tr style=\"text-align: right;\">\n",
       "      <th></th>\n",
       "      <th>total_images</th>\n",
       "      <th>last_price</th>\n",
       "      <th>total_area</th>\n",
       "      <th>rooms</th>\n",
       "      <th>ceiling_height</th>\n",
       "      <th>floors_total</th>\n",
       "      <th>living_area</th>\n",
       "      <th>floor</th>\n",
       "      <th>kitchen_area</th>\n",
       "      <th>balcony</th>\n",
       "      <th>airports_nearest</th>\n",
       "      <th>cityCenters_nearest</th>\n",
       "      <th>parks_around3000</th>\n",
       "      <th>parks_nearest</th>\n",
       "      <th>ponds_around3000</th>\n",
       "      <th>ponds_nearest</th>\n",
       "      <th>days_exposition</th>\n",
       "    </tr>\n",
       "  </thead>\n",
       "  <tbody>\n",
       "    <tr>\n",
       "      <th>count</th>\n",
       "      <td>18497.000000</td>\n",
       "      <td>1.849700e+04</td>\n",
       "      <td>18497.000000</td>\n",
       "      <td>18497.000000</td>\n",
       "      <td>18497.000000</td>\n",
       "      <td>18497.000000</td>\n",
       "      <td>18497.000000</td>\n",
       "      <td>18497.000000</td>\n",
       "      <td>18497.000000</td>\n",
       "      <td>18497.000000</td>\n",
       "      <td>14461.000000</td>\n",
       "      <td>14478.000000</td>\n",
       "      <td>18497.000000</td>\n",
       "      <td>6318.000000</td>\n",
       "      <td>18497.000000</td>\n",
       "      <td>7130.000000</td>\n",
       "      <td>18497.000000</td>\n",
       "    </tr>\n",
       "    <tr>\n",
       "      <th>mean</th>\n",
       "      <td>9.735687</td>\n",
       "      <td>5.807066e+06</td>\n",
       "      <td>57.042208</td>\n",
       "      <td>1.995945</td>\n",
       "      <td>2.695438</td>\n",
       "      <td>10.892307</td>\n",
       "      <td>32.576457</td>\n",
       "      <td>5.978537</td>\n",
       "      <td>10.156985</td>\n",
       "      <td>0.599286</td>\n",
       "      <td>28792.964041</td>\n",
       "      <td>14311.888935</td>\n",
       "      <td>0.465211</td>\n",
       "      <td>490.675530</td>\n",
       "      <td>0.586257</td>\n",
       "      <td>523.764376</td>\n",
       "      <td>190.505433</td>\n",
       "    </tr>\n",
       "    <tr>\n",
       "      <th>std</th>\n",
       "      <td>5.631349</td>\n",
       "      <td>5.598275e+06</td>\n",
       "      <td>25.678405</td>\n",
       "      <td>0.977933</td>\n",
       "      <td>0.202263</td>\n",
       "      <td>6.564383</td>\n",
       "      <td>16.811991</td>\n",
       "      <td>4.901233</td>\n",
       "      <td>5.126677</td>\n",
       "      <td>0.951003</td>\n",
       "      <td>12723.138435</td>\n",
       "      <td>8509.182353</td>\n",
       "      <td>0.739395</td>\n",
       "      <td>342.880769</td>\n",
       "      <td>0.874494</td>\n",
       "      <td>276.587398</td>\n",
       "      <td>224.650443</td>\n",
       "    </tr>\n",
       "    <tr>\n",
       "      <th>min</th>\n",
       "      <td>0.000000</td>\n",
       "      <td>4.500000e+05</td>\n",
       "      <td>12.000000</td>\n",
       "      <td>0.000000</td>\n",
       "      <td>2.000000</td>\n",
       "      <td>1.000000</td>\n",
       "      <td>2.000000</td>\n",
       "      <td>1.000000</td>\n",
       "      <td>2.000000</td>\n",
       "      <td>0.000000</td>\n",
       "      <td>6450.000000</td>\n",
       "      <td>208.000000</td>\n",
       "      <td>0.000000</td>\n",
       "      <td>1.000000</td>\n",
       "      <td>0.000000</td>\n",
       "      <td>13.000000</td>\n",
       "      <td>1.000000</td>\n",
       "    </tr>\n",
       "    <tr>\n",
       "      <th>25%</th>\n",
       "      <td>6.000000</td>\n",
       "      <td>3.400000e+06</td>\n",
       "      <td>39.300000</td>\n",
       "      <td>1.000000</td>\n",
       "      <td>2.550000</td>\n",
       "      <td>5.000000</td>\n",
       "      <td>18.500000</td>\n",
       "      <td>2.000000</td>\n",
       "      <td>7.000000</td>\n",
       "      <td>0.000000</td>\n",
       "      <td>18398.000000</td>\n",
       "      <td>9626.000000</td>\n",
       "      <td>0.000000</td>\n",
       "      <td>287.000000</td>\n",
       "      <td>0.000000</td>\n",
       "      <td>303.000000</td>\n",
       "      <td>41.000000</td>\n",
       "    </tr>\n",
       "    <tr>\n",
       "      <th>50%</th>\n",
       "      <td>9.000000</td>\n",
       "      <td>4.500000e+06</td>\n",
       "      <td>50.400000</td>\n",
       "      <td>2.000000</td>\n",
       "      <td>2.700000</td>\n",
       "      <td>9.000000</td>\n",
       "      <td>29.900000</td>\n",
       "      <td>4.000000</td>\n",
       "      <td>9.000000</td>\n",
       "      <td>0.000000</td>\n",
       "      <td>26799.000000</td>\n",
       "      <td>13174.500000</td>\n",
       "      <td>0.000000</td>\n",
       "      <td>455.000000</td>\n",
       "      <td>0.000000</td>\n",
       "      <td>509.000000</td>\n",
       "      <td>109.000000</td>\n",
       "    </tr>\n",
       "    <tr>\n",
       "      <th>75%</th>\n",
       "      <td>14.000000</td>\n",
       "      <td>6.498000e+06</td>\n",
       "      <td>67.200000</td>\n",
       "      <td>3.000000</td>\n",
       "      <td>2.700000</td>\n",
       "      <td>16.000000</td>\n",
       "      <td>41.000000</td>\n",
       "      <td>8.000000</td>\n",
       "      <td>11.600000</td>\n",
       "      <td>1.000000</td>\n",
       "      <td>37407.000000</td>\n",
       "      <td>16293.000000</td>\n",
       "      <td>1.000000</td>\n",
       "      <td>614.000000</td>\n",
       "      <td>1.000000</td>\n",
       "      <td>733.000000</td>\n",
       "      <td>250.000000</td>\n",
       "    </tr>\n",
       "    <tr>\n",
       "      <th>max</th>\n",
       "      <td>50.000000</td>\n",
       "      <td>3.300000e+08</td>\n",
       "      <td>200.000000</td>\n",
       "      <td>11.000000</td>\n",
       "      <td>4.500000</td>\n",
       "      <td>28.000000</td>\n",
       "      <td>159.600000</td>\n",
       "      <td>27.000000</td>\n",
       "      <td>93.200000</td>\n",
       "      <td>5.000000</td>\n",
       "      <td>84869.000000</td>\n",
       "      <td>65968.000000</td>\n",
       "      <td>3.000000</td>\n",
       "      <td>3190.000000</td>\n",
       "      <td>3.000000</td>\n",
       "      <td>1344.000000</td>\n",
       "      <td>1580.000000</td>\n",
       "    </tr>\n",
       "  </tbody>\n",
       "</table>\n",
       "</div>"
      ],
      "text/plain": [
       "       total_images    last_price    total_area         rooms  ceiling_height  \\\n",
       "count  18497.000000  1.849700e+04  18497.000000  18497.000000    18497.000000   \n",
       "mean       9.735687  5.807066e+06     57.042208      1.995945        2.695438   \n",
       "std        5.631349  5.598275e+06     25.678405      0.977933        0.202263   \n",
       "min        0.000000  4.500000e+05     12.000000      0.000000        2.000000   \n",
       "25%        6.000000  3.400000e+06     39.300000      1.000000        2.550000   \n",
       "50%        9.000000  4.500000e+06     50.400000      2.000000        2.700000   \n",
       "75%       14.000000  6.498000e+06     67.200000      3.000000        2.700000   \n",
       "max       50.000000  3.300000e+08    200.000000     11.000000        4.500000   \n",
       "\n",
       "       floors_total   living_area         floor  kitchen_area       balcony  \\\n",
       "count  18497.000000  18497.000000  18497.000000  18497.000000  18497.000000   \n",
       "mean      10.892307     32.576457      5.978537     10.156985      0.599286   \n",
       "std        6.564383     16.811991      4.901233      5.126677      0.951003   \n",
       "min        1.000000      2.000000      1.000000      2.000000      0.000000   \n",
       "25%        5.000000     18.500000      2.000000      7.000000      0.000000   \n",
       "50%        9.000000     29.900000      4.000000      9.000000      0.000000   \n",
       "75%       16.000000     41.000000      8.000000     11.600000      1.000000   \n",
       "max       28.000000    159.600000     27.000000     93.200000      5.000000   \n",
       "\n",
       "       airports_nearest  cityCenters_nearest  parks_around3000  parks_nearest  \\\n",
       "count      14461.000000         14478.000000      18497.000000    6318.000000   \n",
       "mean       28792.964041         14311.888935          0.465211     490.675530   \n",
       "std        12723.138435          8509.182353          0.739395     342.880769   \n",
       "min         6450.000000           208.000000          0.000000       1.000000   \n",
       "25%        18398.000000          9626.000000          0.000000     287.000000   \n",
       "50%        26799.000000         13174.500000          0.000000     455.000000   \n",
       "75%        37407.000000         16293.000000          1.000000     614.000000   \n",
       "max        84869.000000         65968.000000          3.000000    3190.000000   \n",
       "\n",
       "       ponds_around3000  ponds_nearest  days_exposition  \n",
       "count      18497.000000    7130.000000     18497.000000  \n",
       "mean           0.586257     523.764376       190.505433  \n",
       "std            0.874494     276.587398       224.650443  \n",
       "min            0.000000      13.000000         1.000000  \n",
       "25%            0.000000     303.000000        41.000000  \n",
       "50%            0.000000     509.000000       109.000000  \n",
       "75%            1.000000     733.000000       250.000000  \n",
       "max            3.000000    1344.000000      1580.000000  "
      ]
     },
     "execution_count": 59,
     "metadata": {},
     "output_type": "execute_result"
    }
   ],
   "source": [
    "data.describe()"
   ]
  },
  {
   "cell_type": "markdown",
   "metadata": {},
   "source": [
    "## Посчитайте и добавьте в таблицу новые столбцы"
   ]
  },
  {
   "cell_type": "markdown",
   "metadata": {},
   "source": [
    "Добавим в таблицу новые столбцы, которые будут содержать слудующую информацию:\n",
    "- `square_meter_price` - цена одного квадратного метра;\n",
    "- `week_of_publication` - день недели публикации объявления (0 — понедельник, 1 — вторник и так далее);\n",
    "- `month_of_publication` - месяц публикации объявления;\n",
    "- `year_of_publication` - год публикации объявления;\n",
    "- `floor_category` - тип этажа квартиры (значения — «первый», «последний», «другой»);\n",
    "- `cityCenters_disctance` - расстояние до центра города в километрах."
   ]
  },
  {
   "cell_type": "code",
   "execution_count": 60,
   "metadata": {},
   "outputs": [],
   "source": [
    "data['square_meter_price'] = data['last_price'] / data['total_area']"
   ]
  },
  {
   "cell_type": "code",
   "execution_count": 61,
   "metadata": {},
   "outputs": [],
   "source": [
    "data['week_of_publication'] = data['first_day_exposition'].dt.weekday"
   ]
  },
  {
   "cell_type": "code",
   "execution_count": 62,
   "metadata": {},
   "outputs": [],
   "source": [
    "data['month_of_publication'] = data['first_day_exposition'].dt.month"
   ]
  },
  {
   "cell_type": "code",
   "execution_count": 63,
   "metadata": {},
   "outputs": [],
   "source": [
    "data['year_of_publication'] = data['first_day_exposition'].dt.year"
   ]
  },
  {
   "cell_type": "code",
   "execution_count": 64,
   "metadata": {},
   "outputs": [],
   "source": [
    "#Напишем функцию, которая поможет определить тип этажа\n",
    "def categorize_floor (row):\n",
    "    try:\n",
    "        if row['floor'] == 1:\n",
    "            return 'Первый'\n",
    "        elif row['floor'] == row['floors_total']:\n",
    "            return 'Последний'\n",
    "        else:\n",
    "            return 'Другой'\n",
    "    except:\n",
    "        return 'Нет категории'"
   ]
  },
  {
   "cell_type": "code",
   "execution_count": 65,
   "metadata": {},
   "outputs": [],
   "source": [
    "data['floor_category'] = data.apply(categorize_floor, axis=1)"
   ]
  },
  {
   "cell_type": "code",
   "execution_count": 66,
   "metadata": {},
   "outputs": [],
   "source": [
    "data['cityCenters_disctance'] = (data['cityCenters_nearest'] / 1000).round()"
   ]
  },
  {
   "cell_type": "markdown",
   "metadata": {},
   "source": [
    "## Проведите исследовательский анализ данных"
   ]
  },
  {
   "cell_type": "markdown",
   "metadata": {},
   "source": [
    "### Изучим параметры объекта"
   ]
  },
  {
   "cell_type": "code",
   "execution_count": 67,
   "metadata": {},
   "outputs": [
    {
     "data": {
      "text/plain": [
       "<AxesSubplot:>"
      ]
     },
     "execution_count": 67,
     "metadata": {},
     "output_type": "execute_result"
    },
    {
     "data": {
      "image/png": "[encoded data removed]",
      "text/plain": [
       "<Figure size 432x288 with 1 Axes>"
      ]
     },
     "metadata": {
      "needs_background": "light"
     },
     "output_type": "display_data"
    }
   ],
   "source": [
    "data['total_area'].hist(bins=50)"
   ]
  },
  {
   "cell_type": "markdown",
   "metadata": {},
   "source": [
    "По гистограмме видно, что большая часть объявлений имеет общую площадь примерно от 30 квадратных метров до 80, что свойственно 1-комнатным - 3х-комнатным квратирам. После 80 квадратов идет равномерный спад."
   ]
  },
  {
   "cell_type": "code",
   "execution_count": 68,
   "metadata": {},
   "outputs": [
    {
     "data": {
      "text/plain": [
       "<AxesSubplot:>"
      ]
     },
     "execution_count": 68,
     "metadata": {},
     "output_type": "execute_result"
    },
    {
     "data": {
      "image/png": "[encoded data removed]",
      "text/plain": [
       "<Figure size 432x288 with 1 Axes>"
      ]
     },
     "metadata": {
      "needs_background": "light"
     },
     "output_type": "display_data"
    }
   ],
   "source": [
    "data['living_area'].hist(bins=50)"
   ]
  },
  {
   "cell_type": "markdown",
   "metadata": {},
   "source": [
    "На данной гистограмме видно 3 пика, около 18 квадратных метров, 30 и 45, что опять же свойственно 1, 2 и 3х-комнатным квратирам соответственно, так как такие предложения преобладают на рынке недвижимости."
   ]
  },
  {
   "cell_type": "code",
   "execution_count": 69,
   "metadata": {},
   "outputs": [
    {
     "data": {
      "text/plain": [
       "<AxesSubplot:>"
      ]
     },
     "execution_count": 69,
     "metadata": {},
     "output_type": "execute_result"
    },
    {
     "data": {
      "image/png": "[encoded data removed]",
      "text/plain": [
       "<Figure size 432x288 with 1 Axes>"
      ]
     },
     "metadata": {
      "needs_background": "light"
     },
     "output_type": "display_data"
    }
   ],
   "source": [
    "data['kitchen_area'].hist(bins=50)"
   ]
  },
  {
   "cell_type": "markdown",
   "metadata": {},
   "source": [
    "Данная гистограмма показывает нормальное распределение, так как в основном площадь кухни в квартирах варьируется от 5 до 15 квадратных метров. Все что больше может относится, например, к частному дому, где размер кухни зависит только от владельца."
   ]
  },
  {
   "cell_type": "code",
   "execution_count": 70,
   "metadata": {},
   "outputs": [
    {
     "data": {
      "text/plain": [
       "<AxesSubplot:>"
      ]
     },
     "execution_count": 70,
     "metadata": {},
     "output_type": "execute_result"
    },
    {
     "data": {
      "image/png": "[encoded data removed]",
      "text/plain": [
       "<Figure size 432x288 with 1 Axes>"
      ]
     },
     "metadata": {
      "needs_background": "light"
     },
     "output_type": "display_data"
    }
   ],
   "source": [
    "data['last_price'].hist(bins=50, range=(0,50000000))"
   ]
  },
  {
   "cell_type": "markdown",
   "metadata": {},
   "source": [
    "Изначально гистограмма была построена без применения аргумента `range`, для полного изучения данных. Ввиду маленкого количества объявлений, которые превышают порог в 50 миллионов, я отобразил гистограмму чуть ближе. По графику видно, что в основном, цена квартиры варьируется от 400 000 (исходя из таблицы с описаниями данных) до 15 миллионов, что опять же свойственной преобладающему большенству 1, 2 и 3х комнатных квартир."
   ]
  },
  {
   "cell_type": "code",
   "execution_count": 71,
   "metadata": {},
   "outputs": [
    {
     "data": {
      "text/plain": [
       "<AxesSubplot:>"
      ]
     },
     "execution_count": 71,
     "metadata": {},
     "output_type": "execute_result"
    },
    {
     "data": {
      "image/png": "[encoded data removed]",
      "text/plain": [
       "<Figure size 432x288 with 1 Axes>"
      ]
     },
     "metadata": {
      "needs_background": "light"
     },
     "output_type": "display_data"
    }
   ],
   "source": [
    "data['rooms'].hist(bins=50)"
   ]
  },
  {
   "cell_type": "markdown",
   "metadata": {},
   "source": [
    "Данная гистограмма, еще раз подтверждает о преобладании 1, 2 и 3х комнатных квартир. Студии встречаются редко."
   ]
  },
  {
   "cell_type": "code",
   "execution_count": 72,
   "metadata": {},
   "outputs": [
    {
     "data": {
      "text/plain": [
       "<AxesSubplot:>"
      ]
     },
     "execution_count": 72,
     "metadata": {},
     "output_type": "execute_result"
    },
    {
     "data": {
      "image/png": "[encoded data removed]",
      "text/plain": [
       "<Figure size 432x288 with 1 Axes>"
      ]
     },
     "metadata": {
      "needs_background": "light"
     },
     "output_type": "display_data"
    }
   ],
   "source": [
    "data['ceiling_height'].hist(bins=50)"
   ]
  },
  {
   "cell_type": "markdown",
   "metadata": {},
   "source": [
    "Средняя высота потолка в квартирах находится в диапозоне от 2.5 метров до 2.8, что подтверждает гистограмма."
   ]
  },
  {
   "cell_type": "code",
   "execution_count": 73,
   "metadata": {},
   "outputs": [
    {
     "data": {
      "text/plain": [
       "<AxesSubplot:>"
      ]
     },
     "execution_count": 73,
     "metadata": {},
     "output_type": "execute_result"
    },
    {
     "data": {
      "image/png": "[encoded data removed]",
      "text/plain": [
       "<Figure size 432x288 with 1 Axes>"
      ]
     },
     "metadata": {
      "needs_background": "light"
     },
     "output_type": "display_data"
    }
   ],
   "source": [
    "data['floor'].hist(bins=50)"
   ]
  },
  {
   "cell_type": "markdown",
   "metadata": {},
   "source": [
    "На данной гистограмме можно отследить 3 отрезка:\n",
    "- квартиры которые находятся с 1 по 5 этаж\n",
    "- с 6 по 9\n",
    "- 10 и далее по убыванию\n",
    "\n",
    "По большей части, что может быть связано с типом постройки:\n",
    "- 5ти этажный дом\n",
    "- 9 или 10 этажный дом (как раз 10 этаж служит серединой между 2 и 3 отрезком)\n",
    "- и много-этажный дом"
   ]
  },
  {
   "cell_type": "code",
   "execution_count": 74,
   "metadata": {},
   "outputs": [
    {
     "data": {
      "text/plain": [
       "<AxesSubplot:>"
      ]
     },
     "execution_count": 74,
     "metadata": {},
     "output_type": "execute_result"
    },
    {
     "data": {
      "image/png": "[encoded data removed]",
      "text/plain": [
       "<Figure size 432x288 with 1 Axes>"
      ]
     },
     "metadata": {
      "needs_background": "light"
     },
     "output_type": "display_data"
    }
   ],
   "source": [
    "data['floor_category'].hist(bins=5)"
   ]
  },
  {
   "cell_type": "markdown",
   "metadata": {},
   "source": [
    "Преобладающее большинство объявленй находится на \"другом\" этаже, что характерно для нормального распределения"
   ]
  },
  {
   "cell_type": "code",
   "execution_count": 75,
   "metadata": {},
   "outputs": [
    {
     "data": {
      "text/plain": [
       "<AxesSubplot:>"
      ]
     },
     "execution_count": 75,
     "metadata": {},
     "output_type": "execute_result"
    },
    {
     "data": {
      "image/png": "[encoded data removed]",
      "text/plain": [
       "<Figure size 432x288 with 1 Axes>"
      ]
     },
     "metadata": {
      "needs_background": "light"
     },
     "output_type": "display_data"
    }
   ],
   "source": [
    "data['floors_total'].hist(bins=50)"
   ]
  },
  {
   "cell_type": "markdown",
   "metadata": {},
   "source": [
    "Как раз на данном графике мы можем отследить, что:\n",
    "- 5ти этажные дома преобладают в объявлениях\n",
    "- далее идут 9ти этажные дома\n",
    "- 12ти этажные дома\n",
    "- 16ти этажные\n",
    "- 25 ти этажные\n",
    "- остальные - это скорее отклонение от \"классической\" застройки"
   ]
  },
  {
   "cell_type": "code",
   "execution_count": 76,
   "metadata": {},
   "outputs": [
    {
     "data": {
      "text/plain": [
       "<AxesSubplot:>"
      ]
     },
     "execution_count": 76,
     "metadata": {},
     "output_type": "execute_result"
    },
    {
     "data": {
      "image/png": "[encoded data removed]",
      "text/plain": [
       "<Figure size 432x288 with 1 Axes>"
      ]
     },
     "metadata": {
      "needs_background": "light"
     },
     "output_type": "display_data"
    }
   ],
   "source": [
    "data['cityCenters_nearest'].hist(bins=50)"
   ]
  },
  {
   "cell_type": "markdown",
   "metadata": {},
   "source": [
    "Большинство квартир находятся в пределах 20км от центра, далее объявлений на продажу уже меньше."
   ]
  },
  {
   "cell_type": "code",
   "execution_count": 77,
   "metadata": {},
   "outputs": [
    {
     "data": {
      "text/plain": [
       "<AxesSubplot:>"
      ]
     },
     "execution_count": 77,
     "metadata": {},
     "output_type": "execute_result"
    },
    {
     "data": {
      "image/png": "[encoded data removed]",
      "text/plain": [
       "<Figure size 432x288 with 1 Axes>"
      ]
     },
     "metadata": {
      "needs_background": "light"
     },
     "output_type": "display_data"
    }
   ],
   "source": [
    "data['airports_nearest'].hist(bins=50)"
   ]
  },
  {
   "cell_type": "markdown",
   "metadata": {},
   "source": [
    "Ввиду тоого, что аэропорт, в основном, находится за чертой города, то и расстояние до аэропорта ничинается с отметки в 6.5 км, равномерно отдалясь от него."
   ]
  },
  {
   "cell_type": "code",
   "execution_count": 78,
   "metadata": {},
   "outputs": [
    {
     "data": {
      "text/plain": [
       "<AxesSubplot:>"
      ]
     },
     "execution_count": 78,
     "metadata": {},
     "output_type": "execute_result"
    },
    {
     "data": {
      "image/png": "[encoded data removed]",
      "text/plain": [
       "<Figure size 432x288 with 1 Axes>"
      ]
     },
     "metadata": {
      "needs_background": "light"
     },
     "output_type": "display_data"
    }
   ],
   "source": [
    "data['parks_nearest'].hist(bins=50)"
   ]
  },
  {
   "cell_type": "markdown",
   "metadata": {},
   "source": [
    "Так как большая часть объявлений находится в черте города, то следовательно все они находятся недалеко от парков."
   ]
  },
  {
   "cell_type": "code",
   "execution_count": 79,
   "metadata": {},
   "outputs": [
    {
     "data": {
      "text/plain": [
       "<AxesSubplot:>"
      ]
     },
     "execution_count": 79,
     "metadata": {},
     "output_type": "execute_result"
    },
    {
     "data": {
      "image/png": "[encoded data removed]",
      "text/plain": [
       "<Figure size 432x288 with 1 Axes>"
      ]
     },
     "metadata": {
      "needs_background": "light"
     },
     "output_type": "display_data"
    }
   ],
   "source": [
    "data['month_of_publication'].hist(bins=24)"
   ]
  },
  {
   "cell_type": "markdown",
   "metadata": {},
   "source": [
    "Активнее всего недвижимость выставляют на продажу весной и осенью."
   ]
  },
  {
   "cell_type": "markdown",
   "metadata": {},
   "source": [
    "### Изучим, как быстро продавались квартиры"
   ]
  },
  {
   "cell_type": "code",
   "execution_count": 80,
   "metadata": {
    "scrolled": true
   },
   "outputs": [
    {
     "data": {
      "image/png": "[encoded data removed]",
      "text/plain": [
       "<Figure size 432x288 with 1 Axes>"
      ]
     },
     "metadata": {
      "needs_background": "light"
     },
     "output_type": "display_data"
    },
    {
     "data": {
      "image/png": "[encoded data removed]",
      "text/plain": [
       "<Figure size 432x288 with 1 Axes>"
      ]
     },
     "metadata": {
      "needs_background": "light"
     },
     "output_type": "display_data"
    }
   ],
   "source": [
    "data['days_exposition'].hist(bins=100)\n",
    "plt.show()\n",
    "data['days_exposition'].hist(bins=100, range=(0, 100))\n",
    "plt.show()"
   ]
  },
  {
   "cell_type": "code",
   "execution_count": 81,
   "metadata": {},
   "outputs": [
    {
     "data": {
      "image/png": "[encoded data removed]",
      "text/plain": [
       "<Figure size 432x288 with 1 Axes>"
      ]
     },
     "metadata": {
      "needs_background": "light"
     },
     "output_type": "display_data"
    },
    {
     "data": {
      "image/png": "[encoded data removed]",
      "text/plain": [
       "<Figure size 432x288 with 1 Axes>"
      ]
     },
     "metadata": {
      "needs_background": "light"
     },
     "output_type": "display_data"
    }
   ],
   "source": [
    "data.boxplot(column='days_exposition')\n",
    "plt.show()\n",
    "data.boxplot(column='days_exposition')\n",
    "plt.ylim(-10, 600)\n",
    "plt.show()"
   ]
  },
  {
   "cell_type": "markdown",
   "metadata": {},
   "source": [
    "Изучив графики, можно замтить, что обычно продажа квартиры занимает в среднем 110 дней. Если отталкиваться от диаграммы размаха, то все что продавалось более 500 дней - можно считать долгой продажей, а все что меньше 40 дней - быстрой.\n",
    "\n",
    "Посчитаем среднее значение и медиану продаж сначала в разрезе по типу населенного пункта, а затем в целом."
   ]
  },
  {
   "cell_type": "code",
   "execution_count": 82,
   "metadata": {
    "scrolled": true
   },
   "outputs": [
    {
     "data": {
      "text/html": [
       "<div>\n",
       "<style scoped>\n",
       "    .dataframe tbody tr th:only-of-type {\n",
       "        vertical-align: middle;\n",
       "    }\n",
       "\n",
       "    .dataframe tbody tr th {\n",
       "        vertical-align: top;\n",
       "    }\n",
       "\n",
       "    .dataframe thead th {\n",
       "        text-align: right;\n",
       "    }\n",
       "</style>\n",
       "<table border=\"1\" class=\"dataframe\">\n",
       "  <thead>\n",
       "    <tr style=\"text-align: right;\">\n",
       "      <th></th>\n",
       "      <th>count</th>\n",
       "      <th>mean</th>\n",
       "      <th>median</th>\n",
       "    </tr>\n",
       "    <tr>\n",
       "      <th>locality_type</th>\n",
       "      <th></th>\n",
       "      <th></th>\n",
       "      <th></th>\n",
       "    </tr>\n",
       "  </thead>\n",
       "  <tbody>\n",
       "    <tr>\n",
       "      <th>Котеджный поселок</th>\n",
       "      <td>1</td>\n",
       "      <td>7.0</td>\n",
       "      <td>7.0</td>\n",
       "    </tr>\n",
       "    <tr>\n",
       "      <th>Садовое товарищество</th>\n",
       "      <td>1</td>\n",
       "      <td>307.0</td>\n",
       "      <td>307.0</td>\n",
       "    </tr>\n",
       "    <tr>\n",
       "      <th>Село</th>\n",
       "      <td>16</td>\n",
       "      <td>272.1875</td>\n",
       "      <td>268.5</td>\n",
       "    </tr>\n",
       "    <tr>\n",
       "      <th>Деревня</th>\n",
       "      <td>710</td>\n",
       "      <td>215.035211</td>\n",
       "      <td>123.5</td>\n",
       "    </tr>\n",
       "    <tr>\n",
       "      <th>Поселок</th>\n",
       "      <td>2057</td>\n",
       "      <td>177.437044</td>\n",
       "      <td>107.0</td>\n",
       "    </tr>\n",
       "    <tr>\n",
       "      <th>Город</th>\n",
       "      <td>15712</td>\n",
       "      <td>191.028959</td>\n",
       "      <td>108.0</td>\n",
       "    </tr>\n",
       "  </tbody>\n",
       "</table>\n",
       "</div>"
      ],
      "text/plain": [
       "                      count        mean median\n",
       "locality_type                                 \n",
       "Котеджный поселок         1         7.0    7.0\n",
       "Садовое товарищество      1       307.0  307.0\n",
       "Село                     16    272.1875  268.5\n",
       "Деревня                 710  215.035211  123.5\n",
       "Поселок                2057  177.437044  107.0\n",
       "Город                 15712  191.028959  108.0"
      ]
     },
     "execution_count": 82,
     "metadata": {},
     "output_type": "execute_result"
    }
   ],
   "source": [
    "data.pivot_table(index='locality_type', values='days_exposition',aggfunc=('count', 'mean', 'median')).sort_values('count')"
   ]
  },
  {
   "cell_type": "markdown",
   "metadata": {},
   "source": [
    "Ввиду того, что количество объявлений в саодовом товариществе, коттеджном поселке и селе незначительно, то данные по ним смотряться нерепрезентативно. В деревне недвижимость продается дольше, чем в поселках и городах, при этом медиана больше всего на 16, но по сути - это не сопоставимые данные ввиду большого расхождения в количестве объявлений. Если рассматривать про длительность размещения объявлений по продаже квартир в городе, медиана еще раз указывает на то, что продажа квартир занимает 108 дней. Если смотреть на среднее значение, то можно заметить что \"долгих\" продаж, гораздо больше, чем \"быстрых\", на что указывает смещение показателя к 190 дням."
   ]
  },
  {
   "cell_type": "code",
   "execution_count": 83,
   "metadata": {},
   "outputs": [
    {
     "data": {
      "text/plain": [
       "190.5054333135103"
      ]
     },
     "execution_count": 83,
     "metadata": {},
     "output_type": "execute_result"
    }
   ],
   "source": [
    "data['days_exposition'].mean()"
   ]
  },
  {
   "cell_type": "code",
   "execution_count": 84,
   "metadata": {},
   "outputs": [
    {
     "data": {
      "text/plain": [
       "109.0"
      ]
     },
     "execution_count": 84,
     "metadata": {},
     "output_type": "execute_result"
    }
   ],
   "source": [
    "data['days_exposition'].median()"
   ]
  },
  {
   "cell_type": "markdown",
   "metadata": {},
   "source": [
    "Если не рассматривать в разрезе по типу населеного пункта, а в целом, то ввиду преобладания по количеству объявлений а городе, средняя и медиана не сильно отличается, от данных полученных в разрезе."
   ]
  },
  {
   "cell_type": "markdown",
   "metadata": {},
   "source": [
    "### Факторы влияющие на стоимость квартиры"
   ]
  },
  {
   "cell_type": "markdown",
   "metadata": {},
   "source": [
    "Рассмотрим какие факторы влияют на общую стоимость квартиры. Изучим, зависит ли цена от:\n",
    "- общей площади;\n",
    "- жилой площади;\n",
    "- площади кухни;\n",
    "- количества комнат;\n",
    "- этажа, на котором расположена квартира (первый, последний, другой);\n",
    "- даты размещения (день недели, месяц, год).\n",
    "\n",
    "Для каждого параметра узнаем коэффициент корреляции и построим диаграмму рассеяния, чтобы выяснить насколько взаимосвязаны данные показатели."
   ]
  },
  {
   "cell_type": "code",
   "execution_count": 85,
   "metadata": {},
   "outputs": [
    {
     "data": {
      "text/plain": [
       "0.671921290969173"
      ]
     },
     "execution_count": 85,
     "metadata": {},
     "output_type": "execute_result"
    },
    {
     "data": {
      "image/png": "[encoded data removed]",
      "text/plain": [
       "<Figure size 432x288 with 1 Axes>"
      ]
     },
     "metadata": {
      "needs_background": "light"
     },
     "output_type": "display_data"
    }
   ],
   "source": [
    "#Для диаграммы рассеяния укажим коэфициент alpha равным 0.5, чтобы лучше увидеть плотность\n",
    "(\n",
    "    data.pivot_table(index='total_area', values='last_price', aggfunc=('mean')).reset_index()\n",
    "    .plot(kind='scatter', y='last_price', x='total_area', alpha=0.5)\n",
    ")\n",
    "data['last_price'].corr(data['total_area'])"
   ]
  },
  {
   "cell_type": "markdown",
   "metadata": {},
   "source": [
    "Исходя из полученного коэффициента и диаграммы видим наличие связи между 2мя параметрами, но не сильной. Увеличение площади сопровождается увеличением площади, но так бывает не всегда, исключения могут быть связаны, например, с районом квартиры и наличием других факторов."
   ]
  },
  {
   "cell_type": "code",
   "execution_count": 86,
   "metadata": {},
   "outputs": [
    {
     "data": {
      "text/plain": [
       "0.5651123343966357"
      ]
     },
     "execution_count": 86,
     "metadata": {},
     "output_type": "execute_result"
    },
    {
     "data": {
      "image/png": "[encoded data removed]",
      "text/plain": [
       "<Figure size 432x288 with 1 Axes>"
      ]
     },
     "metadata": {
      "needs_background": "light"
     },
     "output_type": "display_data"
    }
   ],
   "source": [
    "(\n",
    "    data.pivot_table(index='living_area', values='last_price', aggfunc=('mean')).reset_index()\n",
    "    .plot(kind='scatter', y='last_price', x='living_area', alpha=0.5)\n",
    ")\n",
    "data['last_price'].corr(data['living_area'])"
   ]
  },
  {
   "cell_type": "markdown",
   "metadata": {},
   "source": [
    "Зависимость цены от жилой площади присутствует, но выражена менее ярко, так по большей части, на цену влияет общая площадь помещения."
   ]
  },
  {
   "cell_type": "code",
   "execution_count": 87,
   "metadata": {},
   "outputs": [
    {
     "data": {
      "text/plain": [
       "0.5447075943502409"
      ]
     },
     "execution_count": 87,
     "metadata": {},
     "output_type": "execute_result"
    },
    {
     "data": {
      "image/png": "[encoded data removed]",
      "text/plain": [
       "<Figure size 432x288 with 1 Axes>"
      ]
     },
     "metadata": {
      "needs_background": "light"
     },
     "output_type": "display_data"
    }
   ],
   "source": [
    "(\n",
    "    data.pivot_table(index='kitchen_area', values='last_price', aggfunc=('mean')).reset_index()\n",
    "    .plot(kind='scatter', y='last_price', x='kitchen_area', alpha=0.5)\n",
    ")\n",
    "data['last_price'].corr(data['kitchen_area'])"
   ]
  },
  {
   "cell_type": "markdown",
   "metadata": {},
   "source": [
    "Ситуация аналогична с зависимостью цены от жилой площади. Также надо учитывать тот фактор, что есть небольшая доля пропусков в таблице, по жилой площади и кухонной, что также влияет на данные диаграммы."
   ]
  },
  {
   "cell_type": "code",
   "execution_count": 88,
   "metadata": {},
   "outputs": [
    {
     "data": {
      "text/plain": [
       "0.39544785886321376"
      ]
     },
     "execution_count": 88,
     "metadata": {},
     "output_type": "execute_result"
    },
    {
     "data": {
      "image/png": "[encoded data removed]",
      "text/plain": [
       "<Figure size 432x288 with 1 Axes>"
      ]
     },
     "metadata": {
      "needs_background": "light"
     },
     "output_type": "display_data"
    }
   ],
   "source": [
    "(\n",
    "    data.pivot_table(index='rooms', values='last_price', aggfunc=('mean')).reset_index()\n",
    "    .plot(kind='scatter', y='last_price', x='rooms')\n",
    ")\n",
    "data['last_price'].corr(data['rooms'])"
   ]
  },
  {
   "cell_type": "markdown",
   "metadata": {},
   "source": [
    "Зависимость цены от количества комнат незначительна, практически отсутствует. Надо понимать, что планировки бывают разными, следовательно больше комнат, не всегда равно увеличение площади."
   ]
  },
  {
   "cell_type": "code",
   "execution_count": 89,
   "metadata": {},
   "outputs": [
    {
     "data": {
      "text/plain": [
       "Другой       13774\n",
       "Последний     2507\n",
       "Первый        2216\n",
       "Name: floor_category, dtype: int64"
      ]
     },
     "execution_count": 89,
     "metadata": {},
     "output_type": "execute_result"
    },
    {
     "data": {
      "image/png": "[encoded data removed]",
      "text/plain": [
       "<Figure size 432x288 with 1 Axes>"
      ]
     },
     "metadata": {
      "needs_background": "light"
     },
     "output_type": "display_data"
    }
   ],
   "source": [
    "(\n",
    "    data.pivot_table(index='floor_category', values='last_price', aggfunc=('mean')).reset_index()\n",
    "    .plot(kind='scatter', y='last_price', x='floor_category')\n",
    ")\n",
    "data['floor_category'].value_counts()"
   ]
  },
  {
   "cell_type": "markdown",
   "metadata": {},
   "source": [
    "Так как на данной зависимости мы имеем типы данных `str` и `int`, которые несопоставимы при использовании коэффициента корреляции, то зависимость я решил показать по-другому. На диаграмме видно, что цена квартиры влияет на стоимость квартиры, если мы сопоставляем первый и последний этажи. Первый этаж менее востребован, что нормально для рынка недвижимости, следовательно цена на данные объявления ниже. Но если сопоставлять данные с \"другими\" этажами - то это некорректно, так как количество таких объявлений во много раз превышает объявления с последними и первыми этажами. Следовательно, самые дорогие квартиры могут находится в диапазоне другие, что очень сильно влияет на стоимость."
   ]
  },
  {
   "cell_type": "code",
   "execution_count": 90,
   "metadata": {},
   "outputs": [
    {
     "data": {
      "text/plain": [
       "<AxesSubplot:xlabel='year_of_publication', ylabel='last_price'>"
      ]
     },
     "execution_count": 90,
     "metadata": {},
     "output_type": "execute_result"
    },
    {
     "data": {
      "image/png": "[encoded data removed]",
      "text/plain": [
       "<Figure size 432x288 with 1 Axes>"
      ]
     },
     "metadata": {
      "needs_background": "light"
     },
     "output_type": "display_data"
    },
    {
     "data": {
      "image/png": "[encoded data removed]",
      "text/plain": [
       "<Figure size 432x288 with 1 Axes>"
      ]
     },
     "metadata": {
      "needs_background": "light"
     },
     "output_type": "display_data"
    },
    {
     "data": {
      "image/png": "[encoded data removed]",
      "text/plain": [
       "<Figure size 432x288 with 1 Axes>"
      ]
     },
     "metadata": {
      "needs_background": "light"
     },
     "output_type": "display_data"
    }
   ],
   "source": [
    "(\n",
    "    data.pivot_table(index='week_of_publication', values='last_price', aggfunc=('mean')).reset_index()\n",
    "    .plot(kind='scatter', y='last_price', x='week_of_publication')\n",
    ")\n",
    "(\n",
    "    data.pivot_table(index='month_of_publication', values='last_price', aggfunc=('mean')).reset_index()\n",
    "    .plot(kind='scatter', y='last_price', x='month_of_publication')\n",
    ")\n",
    "(\n",
    "    data.pivot_table(index='year_of_publication', values='last_price', aggfunc=('mean')).reset_index()\n",
    "    .plot(kind='scatter', y='last_price', x='year_of_publication')\n",
    ")"
   ]
  },
  {
   "cell_type": "code",
   "execution_count": 91,
   "metadata": {},
   "outputs": [
    {
     "data": {
      "text/html": [
       "<div>\n",
       "<style scoped>\n",
       "    .dataframe tbody tr th:only-of-type {\n",
       "        vertical-align: middle;\n",
       "    }\n",
       "\n",
       "    .dataframe tbody tr th {\n",
       "        vertical-align: top;\n",
       "    }\n",
       "\n",
       "    .dataframe thead th {\n",
       "        text-align: right;\n",
       "    }\n",
       "</style>\n",
       "<table border=\"1\" class=\"dataframe\">\n",
       "  <thead>\n",
       "    <tr style=\"text-align: right;\">\n",
       "      <th></th>\n",
       "      <th>index</th>\n",
       "      <th>year_of_publication</th>\n",
       "    </tr>\n",
       "  </thead>\n",
       "  <tbody>\n",
       "    <tr>\n",
       "      <th>5</th>\n",
       "      <td>2014</td>\n",
       "      <td>115</td>\n",
       "    </tr>\n",
       "    <tr>\n",
       "      <th>3</th>\n",
       "      <td>2015</td>\n",
       "      <td>1061</td>\n",
       "    </tr>\n",
       "    <tr>\n",
       "      <th>2</th>\n",
       "      <td>2016</td>\n",
       "      <td>2517</td>\n",
       "    </tr>\n",
       "    <tr>\n",
       "      <th>0</th>\n",
       "      <td>2017</td>\n",
       "      <td>7219</td>\n",
       "    </tr>\n",
       "    <tr>\n",
       "      <th>1</th>\n",
       "      <td>2018</td>\n",
       "      <td>6599</td>\n",
       "    </tr>\n",
       "    <tr>\n",
       "      <th>4</th>\n",
       "      <td>2019</td>\n",
       "      <td>986</td>\n",
       "    </tr>\n",
       "  </tbody>\n",
       "</table>\n",
       "</div>"
      ],
      "text/plain": [
       "   index  year_of_publication\n",
       "5   2014                  115\n",
       "3   2015                 1061\n",
       "2   2016                 2517\n",
       "0   2017                 7219\n",
       "1   2018                 6599\n",
       "4   2019                  986"
      ]
     },
     "execution_count": 91,
     "metadata": {},
     "output_type": "execute_result"
    }
   ],
   "source": [
    "#Изучим количество объявлений за каждый год\n",
    "data['year_of_publication'].value_counts().reset_index().sort_values('index')"
   ]
  },
  {
   "cell_type": "code",
   "execution_count": 92,
   "metadata": {},
   "outputs": [
    {
     "data": {
      "text/plain": [
       "-0.06494010116109508"
      ]
     },
     "execution_count": 92,
     "metadata": {},
     "output_type": "execute_result"
    }
   ],
   "source": [
    "data['year_of_publication'].corr(data['last_price'])"
   ]
  },
  {
   "cell_type": "markdown",
   "metadata": {},
   "source": [
    "Из диаграмм можно сделать вывод, что цена недвижимости никак не зависит от дня недели или месяца публикации. Коэффициент корреляции близится у нулю. Таже ситуаци и с годом, нет четкой зависимости цены от года размещения. Можно отследить динамику спада в цене с 2017 года по 2018 год, но это будет неккоректно, так как в объявлениях 2018 года могут преобладать 1 комнатные квартиры, которые ниже в цене. Корректно будеть сравнивать динамику роста или снижения цены за квадратный метр. "
   ]
  },
  {
   "cell_type": "markdown",
   "metadata": {},
   "source": [
    "### Средняя стоимость 1 квадратного метра"
   ]
  },
  {
   "cell_type": "markdown",
   "metadata": {},
   "source": [
    "Посчитаем среднюю цену одного квадратного метра в 10 населённых пунктах с наибольшим числом объявлений. Выделим населённые пункты с самой высокой и низкой стоимостью квадратного метра."
   ]
  },
  {
   "cell_type": "code",
   "execution_count": 93,
   "metadata": {},
   "outputs": [
    {
     "data": {
      "text/plain": [
       "Index(['Санкт-Петербург', 'Мурино', 'Кудрово', 'Шушары', 'Всеволожск',\n",
       "       'Пушкин', 'Колпино', 'Парголово', 'Гатчина', 'Выборг'],\n",
       "      dtype='object')"
      ]
     },
     "execution_count": 93,
     "metadata": {},
     "output_type": "execute_result"
    }
   ],
   "source": [
    "#Найдем топ 10 городов по количеству объявлений и сохраним списком\n",
    "top_10_locality_list = data['locality_name'].value_counts().head(10).index\n",
    "top_10_locality_list"
   ]
  },
  {
   "cell_type": "code",
   "execution_count": 94,
   "metadata": {},
   "outputs": [
    {
     "data": {
      "text/html": [
       "<div>\n",
       "<style scoped>\n",
       "    .dataframe tbody tr th:only-of-type {\n",
       "        vertical-align: middle;\n",
       "    }\n",
       "\n",
       "    .dataframe tbody tr th {\n",
       "        vertical-align: top;\n",
       "    }\n",
       "\n",
       "    .dataframe thead th {\n",
       "        text-align: right;\n",
       "    }\n",
       "</style>\n",
       "<table border=\"1\" class=\"dataframe\">\n",
       "  <thead>\n",
       "    <tr style=\"text-align: right;\">\n",
       "      <th></th>\n",
       "      <th>total_images</th>\n",
       "      <th>last_price</th>\n",
       "      <th>total_area</th>\n",
       "      <th>first_day_exposition</th>\n",
       "      <th>rooms</th>\n",
       "      <th>ceiling_height</th>\n",
       "      <th>floors_total</th>\n",
       "      <th>living_area</th>\n",
       "      <th>floor</th>\n",
       "      <th>is_apartment</th>\n",
       "      <th>...</th>\n",
       "      <th>ponds_around3000</th>\n",
       "      <th>ponds_nearest</th>\n",
       "      <th>days_exposition</th>\n",
       "      <th>locality_type</th>\n",
       "      <th>square_meter_price</th>\n",
       "      <th>week_of_publication</th>\n",
       "      <th>month_of_publication</th>\n",
       "      <th>year_of_publication</th>\n",
       "      <th>floor_category</th>\n",
       "      <th>cityCenters_disctance</th>\n",
       "    </tr>\n",
       "  </thead>\n",
       "  <tbody>\n",
       "    <tr>\n",
       "      <th>1</th>\n",
       "      <td>7</td>\n",
       "      <td>3350000.0</td>\n",
       "      <td>40.40</td>\n",
       "      <td>2018-12-04</td>\n",
       "      <td>1</td>\n",
       "      <td>2.615</td>\n",
       "      <td>11</td>\n",
       "      <td>18.600000</td>\n",
       "      <td>1</td>\n",
       "      <td>NaN</td>\n",
       "      <td>...</td>\n",
       "      <td>0</td>\n",
       "      <td>NaN</td>\n",
       "      <td>81</td>\n",
       "      <td>Поселок</td>\n",
       "      <td>82920.792079</td>\n",
       "      <td>1</td>\n",
       "      <td>12</td>\n",
       "      <td>2018</td>\n",
       "      <td>Первый</td>\n",
       "      <td>19.0</td>\n",
       "    </tr>\n",
       "    <tr>\n",
       "      <th>2</th>\n",
       "      <td>10</td>\n",
       "      <td>5196000.0</td>\n",
       "      <td>56.00</td>\n",
       "      <td>2015-08-20</td>\n",
       "      <td>2</td>\n",
       "      <td>2.700</td>\n",
       "      <td>5</td>\n",
       "      <td>34.300000</td>\n",
       "      <td>4</td>\n",
       "      <td>NaN</td>\n",
       "      <td>...</td>\n",
       "      <td>2</td>\n",
       "      <td>574.0</td>\n",
       "      <td>558</td>\n",
       "      <td>Город</td>\n",
       "      <td>92785.714286</td>\n",
       "      <td>3</td>\n",
       "      <td>8</td>\n",
       "      <td>2015</td>\n",
       "      <td>Другой</td>\n",
       "      <td>14.0</td>\n",
       "    </tr>\n",
       "    <tr>\n",
       "      <th>3</th>\n",
       "      <td>0</td>\n",
       "      <td>64900000.0</td>\n",
       "      <td>159.00</td>\n",
       "      <td>2015-07-24</td>\n",
       "      <td>3</td>\n",
       "      <td>2.700</td>\n",
       "      <td>14</td>\n",
       "      <td>91.730769</td>\n",
       "      <td>9</td>\n",
       "      <td>NaN</td>\n",
       "      <td>...</td>\n",
       "      <td>3</td>\n",
       "      <td>234.0</td>\n",
       "      <td>424</td>\n",
       "      <td>Город</td>\n",
       "      <td>408176.100629</td>\n",
       "      <td>4</td>\n",
       "      <td>7</td>\n",
       "      <td>2015</td>\n",
       "      <td>Другой</td>\n",
       "      <td>7.0</td>\n",
       "    </tr>\n",
       "    <tr>\n",
       "      <th>4</th>\n",
       "      <td>2</td>\n",
       "      <td>10000000.0</td>\n",
       "      <td>100.00</td>\n",
       "      <td>2018-06-19</td>\n",
       "      <td>2</td>\n",
       "      <td>3.030</td>\n",
       "      <td>14</td>\n",
       "      <td>32.000000</td>\n",
       "      <td>13</td>\n",
       "      <td>NaN</td>\n",
       "      <td>...</td>\n",
       "      <td>1</td>\n",
       "      <td>48.0</td>\n",
       "      <td>121</td>\n",
       "      <td>Город</td>\n",
       "      <td>100000.000000</td>\n",
       "      <td>1</td>\n",
       "      <td>6</td>\n",
       "      <td>2018</td>\n",
       "      <td>Другой</td>\n",
       "      <td>8.0</td>\n",
       "    </tr>\n",
       "    <tr>\n",
       "      <th>6</th>\n",
       "      <td>6</td>\n",
       "      <td>3700000.0</td>\n",
       "      <td>37.30</td>\n",
       "      <td>2017-11-02</td>\n",
       "      <td>1</td>\n",
       "      <td>2.640</td>\n",
       "      <td>26</td>\n",
       "      <td>10.600000</td>\n",
       "      <td>6</td>\n",
       "      <td>NaN</td>\n",
       "      <td>...</td>\n",
       "      <td>0</td>\n",
       "      <td>NaN</td>\n",
       "      <td>155</td>\n",
       "      <td>Поселок</td>\n",
       "      <td>99195.710456</td>\n",
       "      <td>3</td>\n",
       "      <td>11</td>\n",
       "      <td>2017</td>\n",
       "      <td>Другой</td>\n",
       "      <td>19.0</td>\n",
       "    </tr>\n",
       "    <tr>\n",
       "      <th>...</th>\n",
       "      <td>...</td>\n",
       "      <td>...</td>\n",
       "      <td>...</td>\n",
       "      <td>...</td>\n",
       "      <td>...</td>\n",
       "      <td>...</td>\n",
       "      <td>...</td>\n",
       "      <td>...</td>\n",
       "      <td>...</td>\n",
       "      <td>...</td>\n",
       "      <td>...</td>\n",
       "      <td>...</td>\n",
       "      <td>...</td>\n",
       "      <td>...</td>\n",
       "      <td>...</td>\n",
       "      <td>...</td>\n",
       "      <td>...</td>\n",
       "      <td>...</td>\n",
       "      <td>...</td>\n",
       "      <td>...</td>\n",
       "      <td>...</td>\n",
       "    </tr>\n",
       "    <tr>\n",
       "      <th>23688</th>\n",
       "      <td>19</td>\n",
       "      <td>9200000.0</td>\n",
       "      <td>101.00</td>\n",
       "      <td>2019-04-01</td>\n",
       "      <td>3</td>\n",
       "      <td>3.050</td>\n",
       "      <td>15</td>\n",
       "      <td>63.000000</td>\n",
       "      <td>12</td>\n",
       "      <td>NaN</td>\n",
       "      <td>...</td>\n",
       "      <td>0</td>\n",
       "      <td>NaN</td>\n",
       "      <td>23</td>\n",
       "      <td>Город</td>\n",
       "      <td>91089.108911</td>\n",
       "      <td>0</td>\n",
       "      <td>4</td>\n",
       "      <td>2019</td>\n",
       "      <td>Другой</td>\n",
       "      <td>14.0</td>\n",
       "    </tr>\n",
       "    <tr>\n",
       "      <th>23689</th>\n",
       "      <td>13</td>\n",
       "      <td>3550000.0</td>\n",
       "      <td>35.30</td>\n",
       "      <td>2018-02-28</td>\n",
       "      <td>1</td>\n",
       "      <td>2.860</td>\n",
       "      <td>15</td>\n",
       "      <td>16.300000</td>\n",
       "      <td>4</td>\n",
       "      <td>NaN</td>\n",
       "      <td>...</td>\n",
       "      <td>2</td>\n",
       "      <td>652.0</td>\n",
       "      <td>29</td>\n",
       "      <td>Город</td>\n",
       "      <td>100566.572238</td>\n",
       "      <td>2</td>\n",
       "      <td>2</td>\n",
       "      <td>2018</td>\n",
       "      <td>Другой</td>\n",
       "      <td>16.0</td>\n",
       "    </tr>\n",
       "    <tr>\n",
       "      <th>23690</th>\n",
       "      <td>3</td>\n",
       "      <td>5500000.0</td>\n",
       "      <td>52.00</td>\n",
       "      <td>2018-07-19</td>\n",
       "      <td>2</td>\n",
       "      <td>2.700</td>\n",
       "      <td>5</td>\n",
       "      <td>31.000000</td>\n",
       "      <td>2</td>\n",
       "      <td>NaN</td>\n",
       "      <td>...</td>\n",
       "      <td>0</td>\n",
       "      <td>NaN</td>\n",
       "      <td>15</td>\n",
       "      <td>Город</td>\n",
       "      <td>105769.230769</td>\n",
       "      <td>3</td>\n",
       "      <td>7</td>\n",
       "      <td>2018</td>\n",
       "      <td>Другой</td>\n",
       "      <td>6.0</td>\n",
       "    </tr>\n",
       "    <tr>\n",
       "      <th>23691</th>\n",
       "      <td>11</td>\n",
       "      <td>9470000.0</td>\n",
       "      <td>72.90</td>\n",
       "      <td>2016-10-13</td>\n",
       "      <td>2</td>\n",
       "      <td>2.750</td>\n",
       "      <td>25</td>\n",
       "      <td>40.300000</td>\n",
       "      <td>7</td>\n",
       "      <td>NaN</td>\n",
       "      <td>...</td>\n",
       "      <td>1</td>\n",
       "      <td>806.0</td>\n",
       "      <td>519</td>\n",
       "      <td>Город</td>\n",
       "      <td>129903.978052</td>\n",
       "      <td>3</td>\n",
       "      <td>10</td>\n",
       "      <td>2016</td>\n",
       "      <td>Другой</td>\n",
       "      <td>4.0</td>\n",
       "    </tr>\n",
       "    <tr>\n",
       "      <th>23697</th>\n",
       "      <td>13</td>\n",
       "      <td>11475000.0</td>\n",
       "      <td>76.75</td>\n",
       "      <td>2017-03-28</td>\n",
       "      <td>2</td>\n",
       "      <td>3.000</td>\n",
       "      <td>17</td>\n",
       "      <td>44.278846</td>\n",
       "      <td>12</td>\n",
       "      <td>NaN</td>\n",
       "      <td>...</td>\n",
       "      <td>3</td>\n",
       "      <td>196.0</td>\n",
       "      <td>602</td>\n",
       "      <td>Город</td>\n",
       "      <td>149511.400651</td>\n",
       "      <td>1</td>\n",
       "      <td>3</td>\n",
       "      <td>2017</td>\n",
       "      <td>Другой</td>\n",
       "      <td>10.0</td>\n",
       "    </tr>\n",
       "  </tbody>\n",
       "</table>\n",
       "<p>15336 rows × 29 columns</p>\n",
       "</div>"
      ],
      "text/plain": [
       "       total_images  last_price  total_area first_day_exposition  rooms  \\\n",
       "1                 7   3350000.0       40.40           2018-12-04      1   \n",
       "2                10   5196000.0       56.00           2015-08-20      2   \n",
       "3                 0  64900000.0      159.00           2015-07-24      3   \n",
       "4                 2  10000000.0      100.00           2018-06-19      2   \n",
       "6                 6   3700000.0       37.30           2017-11-02      1   \n",
       "...             ...         ...         ...                  ...    ...   \n",
       "23688            19   9200000.0      101.00           2019-04-01      3   \n",
       "23689            13   3550000.0       35.30           2018-02-28      1   \n",
       "23690             3   5500000.0       52.00           2018-07-19      2   \n",
       "23691            11   9470000.0       72.90           2016-10-13      2   \n",
       "23697            13  11475000.0       76.75           2017-03-28      2   \n",
       "\n",
       "       ceiling_height  floors_total  living_area  floor is_apartment  ...  \\\n",
       "1               2.615            11    18.600000      1          NaN  ...   \n",
       "2               2.700             5    34.300000      4          NaN  ...   \n",
       "3               2.700            14    91.730769      9          NaN  ...   \n",
       "4               3.030            14    32.000000     13          NaN  ...   \n",
       "6               2.640            26    10.600000      6          NaN  ...   \n",
       "...               ...           ...          ...    ...          ...  ...   \n",
       "23688           3.050            15    63.000000     12          NaN  ...   \n",
       "23689           2.860            15    16.300000      4          NaN  ...   \n",
       "23690           2.700             5    31.000000      2          NaN  ...   \n",
       "23691           2.750            25    40.300000      7          NaN  ...   \n",
       "23697           3.000            17    44.278846     12          NaN  ...   \n",
       "\n",
       "       ponds_around3000  ponds_nearest  days_exposition  locality_type  \\\n",
       "1                     0            NaN               81        Поселок   \n",
       "2                     2          574.0              558          Город   \n",
       "3                     3          234.0              424          Город   \n",
       "4                     1           48.0              121          Город   \n",
       "6                     0            NaN              155        Поселок   \n",
       "...                 ...            ...              ...            ...   \n",
       "23688                 0            NaN               23          Город   \n",
       "23689                 2          652.0               29          Город   \n",
       "23690                 0            NaN               15          Город   \n",
       "23691                 1          806.0              519          Город   \n",
       "23697                 3          196.0              602          Город   \n",
       "\n",
       "      square_meter_price  week_of_publication  month_of_publication  \\\n",
       "1           82920.792079                    1                    12   \n",
       "2           92785.714286                    3                     8   \n",
       "3          408176.100629                    4                     7   \n",
       "4          100000.000000                    1                     6   \n",
       "6           99195.710456                    3                    11   \n",
       "...                  ...                  ...                   ...   \n",
       "23688       91089.108911                    0                     4   \n",
       "23689      100566.572238                    2                     2   \n",
       "23690      105769.230769                    3                     7   \n",
       "23691      129903.978052                    3                    10   \n",
       "23697      149511.400651                    1                     3   \n",
       "\n",
       "       year_of_publication  floor_category  cityCenters_disctance  \n",
       "1                     2018          Первый                   19.0  \n",
       "2                     2015          Другой                   14.0  \n",
       "3                     2015          Другой                    7.0  \n",
       "4                     2018          Другой                    8.0  \n",
       "6                     2017          Другой                   19.0  \n",
       "...                    ...             ...                    ...  \n",
       "23688                 2019          Другой                   14.0  \n",
       "23689                 2018          Другой                   16.0  \n",
       "23690                 2018          Другой                    6.0  \n",
       "23691                 2016          Другой                    4.0  \n",
       "23697                 2017          Другой                   10.0  \n",
       "\n",
       "[15336 rows x 29 columns]"
      ]
     },
     "execution_count": 94,
     "metadata": {},
     "output_type": "execute_result"
    }
   ],
   "source": [
    "#Найдем все строки с топ городами и сохраним в переменной data_top_10\n",
    "data_top_10 = data[data['locality_name'].isin(top_10_locality_list)]\n",
    "data_top_10"
   ]
  },
  {
   "cell_type": "code",
   "execution_count": 95,
   "metadata": {},
   "outputs": [
    {
     "data": {
      "text/plain": [
       "15336"
      ]
     },
     "execution_count": 95,
     "metadata": {},
     "output_type": "execute_result"
    }
   ],
   "source": [
    "#Проверим по сумме объявлений верно ли выгрузились данные\n",
    "data['locality_name'].value_counts().head(10).sum()"
   ]
  },
  {
   "cell_type": "code",
   "execution_count": 96,
   "metadata": {},
   "outputs": [
    {
     "data": {
      "text/html": [
       "<div>\n",
       "<style scoped>\n",
       "    .dataframe tbody tr th:only-of-type {\n",
       "        vertical-align: middle;\n",
       "    }\n",
       "\n",
       "    .dataframe tbody tr th {\n",
       "        vertical-align: top;\n",
       "    }\n",
       "\n",
       "    .dataframe thead th {\n",
       "        text-align: right;\n",
       "    }\n",
       "</style>\n",
       "<table border=\"1\" class=\"dataframe\">\n",
       "  <thead>\n",
       "    <tr style=\"text-align: right;\">\n",
       "      <th></th>\n",
       "      <th>square_meter_price</th>\n",
       "    </tr>\n",
       "    <tr>\n",
       "      <th>locality_name</th>\n",
       "      <th></th>\n",
       "    </tr>\n",
       "  </thead>\n",
       "  <tbody>\n",
       "    <tr>\n",
       "      <th>Выборг</th>\n",
       "      <td>56887.490234</td>\n",
       "    </tr>\n",
       "    <tr>\n",
       "      <th>Гатчина</th>\n",
       "      <td>67458.973708</td>\n",
       "    </tr>\n",
       "    <tr>\n",
       "      <th>Всеволожск</th>\n",
       "      <td>68517.228964</td>\n",
       "    </tr>\n",
       "    <tr>\n",
       "      <th>Колпино</th>\n",
       "      <td>75015.810727</td>\n",
       "    </tr>\n",
       "    <tr>\n",
       "      <th>Шушары</th>\n",
       "      <td>78027.721964</td>\n",
       "    </tr>\n",
       "    <tr>\n",
       "      <th>Мурино</th>\n",
       "      <td>85526.524168</td>\n",
       "    </tr>\n",
       "    <tr>\n",
       "      <th>Парголово</th>\n",
       "      <td>90035.581112</td>\n",
       "    </tr>\n",
       "    <tr>\n",
       "      <th>Кудрово</th>\n",
       "      <td>94035.816090</td>\n",
       "    </tr>\n",
       "    <tr>\n",
       "      <th>Пушкин</th>\n",
       "      <td>102415.694134</td>\n",
       "    </tr>\n",
       "    <tr>\n",
       "      <th>Санкт-Петербург</th>\n",
       "      <td>110799.384627</td>\n",
       "    </tr>\n",
       "  </tbody>\n",
       "</table>\n",
       "</div>"
      ],
      "text/plain": [
       "                 square_meter_price\n",
       "locality_name                      \n",
       "Выборг                 56887.490234\n",
       "Гатчина                67458.973708\n",
       "Всеволожск             68517.228964\n",
       "Колпино                75015.810727\n",
       "Шушары                 78027.721964\n",
       "Мурино                 85526.524168\n",
       "Парголово              90035.581112\n",
       "Кудрово                94035.816090\n",
       "Пушкин                102415.694134\n",
       "Санкт-Петербург       110799.384627"
      ]
     },
     "execution_count": 96,
     "metadata": {},
     "output_type": "execute_result"
    }
   ],
   "source": [
    "#Посчитаем среднюю стоимость квадратного метра по топ городам\n",
    "data_top_10.pivot_table(index='locality_name', values='square_meter_price', aggfunc='mean').sort_values('square_meter_price')"
   ]
  },
  {
   "cell_type": "markdown",
   "metadata": {},
   "source": [
    "Самая высокая стоимость квадратного метра, как и ожидалось, в Санк-Петербурге, самая низкая в Выборге."
   ]
  },
  {
   "cell_type": "markdown",
   "metadata": {},
   "source": [
    "###  Как влияет расстояние до центра города на стоимость квартиры"
   ]
  },
  {
   "cell_type": "markdown",
   "metadata": {},
   "source": [
    "Ранее мы посчитали расстояние до центра города в километрах. Теперь выделим квартиры в Санкт-Петербурге и вычислим среднюю цену каждого километра."
   ]
  },
  {
   "cell_type": "code",
   "execution_count": 97,
   "metadata": {},
   "outputs": [
    {
     "data": {
      "text/html": [
       "<div>\n",
       "<style scoped>\n",
       "    .dataframe tbody tr th:only-of-type {\n",
       "        vertical-align: middle;\n",
       "    }\n",
       "\n",
       "    .dataframe tbody tr th {\n",
       "        vertical-align: top;\n",
       "    }\n",
       "\n",
       "    .dataframe thead th {\n",
       "        text-align: right;\n",
       "    }\n",
       "</style>\n",
       "<table border=\"1\" class=\"dataframe\">\n",
       "  <thead>\n",
       "    <tr style=\"text-align: right;\">\n",
       "      <th></th>\n",
       "      <th>total_images</th>\n",
       "      <th>last_price</th>\n",
       "      <th>total_area</th>\n",
       "      <th>first_day_exposition</th>\n",
       "      <th>rooms</th>\n",
       "      <th>ceiling_height</th>\n",
       "      <th>floors_total</th>\n",
       "      <th>living_area</th>\n",
       "      <th>floor</th>\n",
       "      <th>is_apartment</th>\n",
       "      <th>...</th>\n",
       "      <th>ponds_around3000</th>\n",
       "      <th>ponds_nearest</th>\n",
       "      <th>days_exposition</th>\n",
       "      <th>locality_type</th>\n",
       "      <th>square_meter_price</th>\n",
       "      <th>week_of_publication</th>\n",
       "      <th>month_of_publication</th>\n",
       "      <th>year_of_publication</th>\n",
       "      <th>floor_category</th>\n",
       "      <th>cityCenters_disctance</th>\n",
       "    </tr>\n",
       "  </thead>\n",
       "  <tbody>\n",
       "    <tr>\n",
       "      <th>2</th>\n",
       "      <td>10</td>\n",
       "      <td>5196000.0</td>\n",
       "      <td>56.00</td>\n",
       "      <td>2015-08-20</td>\n",
       "      <td>2</td>\n",
       "      <td>2.70</td>\n",
       "      <td>5</td>\n",
       "      <td>34.300000</td>\n",
       "      <td>4</td>\n",
       "      <td>NaN</td>\n",
       "      <td>...</td>\n",
       "      <td>2</td>\n",
       "      <td>574.0</td>\n",
       "      <td>558</td>\n",
       "      <td>Город</td>\n",
       "      <td>92785.714286</td>\n",
       "      <td>3</td>\n",
       "      <td>8</td>\n",
       "      <td>2015</td>\n",
       "      <td>Другой</td>\n",
       "      <td>14.0</td>\n",
       "    </tr>\n",
       "    <tr>\n",
       "      <th>3</th>\n",
       "      <td>0</td>\n",
       "      <td>64900000.0</td>\n",
       "      <td>159.00</td>\n",
       "      <td>2015-07-24</td>\n",
       "      <td>3</td>\n",
       "      <td>2.70</td>\n",
       "      <td>14</td>\n",
       "      <td>91.730769</td>\n",
       "      <td>9</td>\n",
       "      <td>NaN</td>\n",
       "      <td>...</td>\n",
       "      <td>3</td>\n",
       "      <td>234.0</td>\n",
       "      <td>424</td>\n",
       "      <td>Город</td>\n",
       "      <td>408176.100629</td>\n",
       "      <td>4</td>\n",
       "      <td>7</td>\n",
       "      <td>2015</td>\n",
       "      <td>Другой</td>\n",
       "      <td>7.0</td>\n",
       "    </tr>\n",
       "    <tr>\n",
       "      <th>4</th>\n",
       "      <td>2</td>\n",
       "      <td>10000000.0</td>\n",
       "      <td>100.00</td>\n",
       "      <td>2018-06-19</td>\n",
       "      <td>2</td>\n",
       "      <td>3.03</td>\n",
       "      <td>14</td>\n",
       "      <td>32.000000</td>\n",
       "      <td>13</td>\n",
       "      <td>NaN</td>\n",
       "      <td>...</td>\n",
       "      <td>1</td>\n",
       "      <td>48.0</td>\n",
       "      <td>121</td>\n",
       "      <td>Город</td>\n",
       "      <td>100000.000000</td>\n",
       "      <td>1</td>\n",
       "      <td>6</td>\n",
       "      <td>2018</td>\n",
       "      <td>Другой</td>\n",
       "      <td>8.0</td>\n",
       "    </tr>\n",
       "    <tr>\n",
       "      <th>9</th>\n",
       "      <td>18</td>\n",
       "      <td>5400000.0</td>\n",
       "      <td>61.00</td>\n",
       "      <td>2017-02-26</td>\n",
       "      <td>3</td>\n",
       "      <td>2.50</td>\n",
       "      <td>9</td>\n",
       "      <td>43.600000</td>\n",
       "      <td>7</td>\n",
       "      <td>NaN</td>\n",
       "      <td>...</td>\n",
       "      <td>0</td>\n",
       "      <td>NaN</td>\n",
       "      <td>289</td>\n",
       "      <td>Город</td>\n",
       "      <td>88524.590164</td>\n",
       "      <td>6</td>\n",
       "      <td>2</td>\n",
       "      <td>2017</td>\n",
       "      <td>Другой</td>\n",
       "      <td>15.0</td>\n",
       "    </tr>\n",
       "    <tr>\n",
       "      <th>10</th>\n",
       "      <td>5</td>\n",
       "      <td>5050000.0</td>\n",
       "      <td>39.60</td>\n",
       "      <td>2017-11-16</td>\n",
       "      <td>1</td>\n",
       "      <td>2.67</td>\n",
       "      <td>12</td>\n",
       "      <td>20.300000</td>\n",
       "      <td>3</td>\n",
       "      <td>NaN</td>\n",
       "      <td>...</td>\n",
       "      <td>2</td>\n",
       "      <td>553.0</td>\n",
       "      <td>137</td>\n",
       "      <td>Город</td>\n",
       "      <td>127525.252525</td>\n",
       "      <td>3</td>\n",
       "      <td>11</td>\n",
       "      <td>2017</td>\n",
       "      <td>Другой</td>\n",
       "      <td>14.0</td>\n",
       "    </tr>\n",
       "    <tr>\n",
       "      <th>...</th>\n",
       "      <td>...</td>\n",
       "      <td>...</td>\n",
       "      <td>...</td>\n",
       "      <td>...</td>\n",
       "      <td>...</td>\n",
       "      <td>...</td>\n",
       "      <td>...</td>\n",
       "      <td>...</td>\n",
       "      <td>...</td>\n",
       "      <td>...</td>\n",
       "      <td>...</td>\n",
       "      <td>...</td>\n",
       "      <td>...</td>\n",
       "      <td>...</td>\n",
       "      <td>...</td>\n",
       "      <td>...</td>\n",
       "      <td>...</td>\n",
       "      <td>...</td>\n",
       "      <td>...</td>\n",
       "      <td>...</td>\n",
       "      <td>...</td>\n",
       "    </tr>\n",
       "    <tr>\n",
       "      <th>23688</th>\n",
       "      <td>19</td>\n",
       "      <td>9200000.0</td>\n",
       "      <td>101.00</td>\n",
       "      <td>2019-04-01</td>\n",
       "      <td>3</td>\n",
       "      <td>3.05</td>\n",
       "      <td>15</td>\n",
       "      <td>63.000000</td>\n",
       "      <td>12</td>\n",
       "      <td>NaN</td>\n",
       "      <td>...</td>\n",
       "      <td>0</td>\n",
       "      <td>NaN</td>\n",
       "      <td>23</td>\n",
       "      <td>Город</td>\n",
       "      <td>91089.108911</td>\n",
       "      <td>0</td>\n",
       "      <td>4</td>\n",
       "      <td>2019</td>\n",
       "      <td>Другой</td>\n",
       "      <td>14.0</td>\n",
       "    </tr>\n",
       "    <tr>\n",
       "      <th>23689</th>\n",
       "      <td>13</td>\n",
       "      <td>3550000.0</td>\n",
       "      <td>35.30</td>\n",
       "      <td>2018-02-28</td>\n",
       "      <td>1</td>\n",
       "      <td>2.86</td>\n",
       "      <td>15</td>\n",
       "      <td>16.300000</td>\n",
       "      <td>4</td>\n",
       "      <td>NaN</td>\n",
       "      <td>...</td>\n",
       "      <td>2</td>\n",
       "      <td>652.0</td>\n",
       "      <td>29</td>\n",
       "      <td>Город</td>\n",
       "      <td>100566.572238</td>\n",
       "      <td>2</td>\n",
       "      <td>2</td>\n",
       "      <td>2018</td>\n",
       "      <td>Другой</td>\n",
       "      <td>16.0</td>\n",
       "    </tr>\n",
       "    <tr>\n",
       "      <th>23690</th>\n",
       "      <td>3</td>\n",
       "      <td>5500000.0</td>\n",
       "      <td>52.00</td>\n",
       "      <td>2018-07-19</td>\n",
       "      <td>2</td>\n",
       "      <td>2.70</td>\n",
       "      <td>5</td>\n",
       "      <td>31.000000</td>\n",
       "      <td>2</td>\n",
       "      <td>NaN</td>\n",
       "      <td>...</td>\n",
       "      <td>0</td>\n",
       "      <td>NaN</td>\n",
       "      <td>15</td>\n",
       "      <td>Город</td>\n",
       "      <td>105769.230769</td>\n",
       "      <td>3</td>\n",
       "      <td>7</td>\n",
       "      <td>2018</td>\n",
       "      <td>Другой</td>\n",
       "      <td>6.0</td>\n",
       "    </tr>\n",
       "    <tr>\n",
       "      <th>23691</th>\n",
       "      <td>11</td>\n",
       "      <td>9470000.0</td>\n",
       "      <td>72.90</td>\n",
       "      <td>2016-10-13</td>\n",
       "      <td>2</td>\n",
       "      <td>2.75</td>\n",
       "      <td>25</td>\n",
       "      <td>40.300000</td>\n",
       "      <td>7</td>\n",
       "      <td>NaN</td>\n",
       "      <td>...</td>\n",
       "      <td>1</td>\n",
       "      <td>806.0</td>\n",
       "      <td>519</td>\n",
       "      <td>Город</td>\n",
       "      <td>129903.978052</td>\n",
       "      <td>3</td>\n",
       "      <td>10</td>\n",
       "      <td>2016</td>\n",
       "      <td>Другой</td>\n",
       "      <td>4.0</td>\n",
       "    </tr>\n",
       "    <tr>\n",
       "      <th>23697</th>\n",
       "      <td>13</td>\n",
       "      <td>11475000.0</td>\n",
       "      <td>76.75</td>\n",
       "      <td>2017-03-28</td>\n",
       "      <td>2</td>\n",
       "      <td>3.00</td>\n",
       "      <td>17</td>\n",
       "      <td>44.278846</td>\n",
       "      <td>12</td>\n",
       "      <td>NaN</td>\n",
       "      <td>...</td>\n",
       "      <td>3</td>\n",
       "      <td>196.0</td>\n",
       "      <td>602</td>\n",
       "      <td>Город</td>\n",
       "      <td>149511.400651</td>\n",
       "      <td>1</td>\n",
       "      <td>3</td>\n",
       "      <td>2017</td>\n",
       "      <td>Другой</td>\n",
       "      <td>10.0</td>\n",
       "    </tr>\n",
       "  </tbody>\n",
       "</table>\n",
       "<p>12499 rows × 29 columns</p>\n",
       "</div>"
      ],
      "text/plain": [
       "       total_images  last_price  total_area first_day_exposition  rooms  \\\n",
       "2                10   5196000.0       56.00           2015-08-20      2   \n",
       "3                 0  64900000.0      159.00           2015-07-24      3   \n",
       "4                 2  10000000.0      100.00           2018-06-19      2   \n",
       "9                18   5400000.0       61.00           2017-02-26      3   \n",
       "10                5   5050000.0       39.60           2017-11-16      1   \n",
       "...             ...         ...         ...                  ...    ...   \n",
       "23688            19   9200000.0      101.00           2019-04-01      3   \n",
       "23689            13   3550000.0       35.30           2018-02-28      1   \n",
       "23690             3   5500000.0       52.00           2018-07-19      2   \n",
       "23691            11   9470000.0       72.90           2016-10-13      2   \n",
       "23697            13  11475000.0       76.75           2017-03-28      2   \n",
       "\n",
       "       ceiling_height  floors_total  living_area  floor is_apartment  ...  \\\n",
       "2                2.70             5    34.300000      4          NaN  ...   \n",
       "3                2.70            14    91.730769      9          NaN  ...   \n",
       "4                3.03            14    32.000000     13          NaN  ...   \n",
       "9                2.50             9    43.600000      7          NaN  ...   \n",
       "10               2.67            12    20.300000      3          NaN  ...   \n",
       "...               ...           ...          ...    ...          ...  ...   \n",
       "23688            3.05            15    63.000000     12          NaN  ...   \n",
       "23689            2.86            15    16.300000      4          NaN  ...   \n",
       "23690            2.70             5    31.000000      2          NaN  ...   \n",
       "23691            2.75            25    40.300000      7          NaN  ...   \n",
       "23697            3.00            17    44.278846     12          NaN  ...   \n",
       "\n",
       "       ponds_around3000  ponds_nearest  days_exposition  locality_type  \\\n",
       "2                     2          574.0              558          Город   \n",
       "3                     3          234.0              424          Город   \n",
       "4                     1           48.0              121          Город   \n",
       "9                     0            NaN              289          Город   \n",
       "10                    2          553.0              137          Город   \n",
       "...                 ...            ...              ...            ...   \n",
       "23688                 0            NaN               23          Город   \n",
       "23689                 2          652.0               29          Город   \n",
       "23690                 0            NaN               15          Город   \n",
       "23691                 1          806.0              519          Город   \n",
       "23697                 3          196.0              602          Город   \n",
       "\n",
       "      square_meter_price  week_of_publication  month_of_publication  \\\n",
       "2           92785.714286                    3                     8   \n",
       "3          408176.100629                    4                     7   \n",
       "4          100000.000000                    1                     6   \n",
       "9           88524.590164                    6                     2   \n",
       "10         127525.252525                    3                    11   \n",
       "...                  ...                  ...                   ...   \n",
       "23688       91089.108911                    0                     4   \n",
       "23689      100566.572238                    2                     2   \n",
       "23690      105769.230769                    3                     7   \n",
       "23691      129903.978052                    3                    10   \n",
       "23697      149511.400651                    1                     3   \n",
       "\n",
       "       year_of_publication  floor_category  cityCenters_disctance  \n",
       "2                     2015          Другой                   14.0  \n",
       "3                     2015          Другой                    7.0  \n",
       "4                     2018          Другой                    8.0  \n",
       "9                     2017          Другой                   15.0  \n",
       "10                    2017          Другой                   14.0  \n",
       "...                    ...             ...                    ...  \n",
       "23688                 2019          Другой                   14.0  \n",
       "23689                 2018          Другой                   16.0  \n",
       "23690                 2018          Другой                    6.0  \n",
       "23691                 2016          Другой                    4.0  \n",
       "23697                 2017          Другой                   10.0  \n",
       "\n",
       "[12499 rows x 29 columns]"
      ]
     },
     "execution_count": 97,
     "metadata": {},
     "output_type": "execute_result"
    }
   ],
   "source": [
    "#Найдем все объявления в Санк-Петербурге и сохраним в переменную sbp_data\n",
    "spb_data = data[data['locality_name'] == 'Санкт-Петербург']\n",
    "spb_data"
   ]
  },
  {
   "cell_type": "code",
   "execution_count": 98,
   "metadata": {
    "scrolled": true
   },
   "outputs": [
    {
     "data": {
      "text/html": [
       "<div>\n",
       "<style scoped>\n",
       "    .dataframe tbody tr th:only-of-type {\n",
       "        vertical-align: middle;\n",
       "    }\n",
       "\n",
       "    .dataframe tbody tr th {\n",
       "        vertical-align: top;\n",
       "    }\n",
       "\n",
       "    .dataframe thead th {\n",
       "        text-align: right;\n",
       "    }\n",
       "</style>\n",
       "<table border=\"1\" class=\"dataframe\">\n",
       "  <thead>\n",
       "    <tr style=\"text-align: right;\">\n",
       "      <th></th>\n",
       "      <th>cityCenters_disctance</th>\n",
       "      <th>square_meter_price</th>\n",
       "    </tr>\n",
       "  </thead>\n",
       "  <tbody>\n",
       "    <tr>\n",
       "      <th>0</th>\n",
       "      <td>0.0</td>\n",
       "      <td>198989.280916</td>\n",
       "    </tr>\n",
       "    <tr>\n",
       "      <th>1</th>\n",
       "      <td>1.0</td>\n",
       "      <td>149924.646937</td>\n",
       "    </tr>\n",
       "    <tr>\n",
       "      <th>2</th>\n",
       "      <td>2.0</td>\n",
       "      <td>141612.566858</td>\n",
       "    </tr>\n",
       "    <tr>\n",
       "      <th>3</th>\n",
       "      <td>3.0</td>\n",
       "      <td>115939.853532</td>\n",
       "    </tr>\n",
       "    <tr>\n",
       "      <th>4</th>\n",
       "      <td>4.0</td>\n",
       "      <td>126013.991961</td>\n",
       "    </tr>\n",
       "    <tr>\n",
       "      <th>5</th>\n",
       "      <td>5.0</td>\n",
       "      <td>134479.601407</td>\n",
       "    </tr>\n",
       "    <tr>\n",
       "      <th>6</th>\n",
       "      <td>6.0</td>\n",
       "      <td>142060.802387</td>\n",
       "    </tr>\n",
       "    <tr>\n",
       "      <th>7</th>\n",
       "      <td>7.0</td>\n",
       "      <td>149282.324257</td>\n",
       "    </tr>\n",
       "    <tr>\n",
       "      <th>8</th>\n",
       "      <td>8.0</td>\n",
       "      <td>121810.479525</td>\n",
       "    </tr>\n",
       "    <tr>\n",
       "      <th>9</th>\n",
       "      <td>9.0</td>\n",
       "      <td>110633.895683</td>\n",
       "    </tr>\n",
       "    <tr>\n",
       "      <th>10</th>\n",
       "      <td>10.0</td>\n",
       "      <td>111133.024170</td>\n",
       "    </tr>\n",
       "    <tr>\n",
       "      <th>11</th>\n",
       "      <td>11.0</td>\n",
       "      <td>105986.170669</td>\n",
       "    </tr>\n",
       "    <tr>\n",
       "      <th>12</th>\n",
       "      <td>12.0</td>\n",
       "      <td>106007.091693</td>\n",
       "    </tr>\n",
       "    <tr>\n",
       "      <th>13</th>\n",
       "      <td>13.0</td>\n",
       "      <td>106283.220569</td>\n",
       "    </tr>\n",
       "    <tr>\n",
       "      <th>14</th>\n",
       "      <td>14.0</td>\n",
       "      <td>102824.597729</td>\n",
       "    </tr>\n",
       "    <tr>\n",
       "      <th>15</th>\n",
       "      <td>15.0</td>\n",
       "      <td>102319.304989</td>\n",
       "    </tr>\n",
       "    <tr>\n",
       "      <th>16</th>\n",
       "      <td>16.0</td>\n",
       "      <td>99015.386412</td>\n",
       "    </tr>\n",
       "    <tr>\n",
       "      <th>17</th>\n",
       "      <td>17.0</td>\n",
       "      <td>96095.809775</td>\n",
       "    </tr>\n",
       "    <tr>\n",
       "      <th>18</th>\n",
       "      <td>18.0</td>\n",
       "      <td>95519.572191</td>\n",
       "    </tr>\n",
       "    <tr>\n",
       "      <th>19</th>\n",
       "      <td>19.0</td>\n",
       "      <td>98119.710651</td>\n",
       "    </tr>\n",
       "    <tr>\n",
       "      <th>20</th>\n",
       "      <td>20.0</td>\n",
       "      <td>87099.173174</td>\n",
       "    </tr>\n",
       "    <tr>\n",
       "      <th>21</th>\n",
       "      <td>21.0</td>\n",
       "      <td>90964.782662</td>\n",
       "    </tr>\n",
       "    <tr>\n",
       "      <th>22</th>\n",
       "      <td>22.0</td>\n",
       "      <td>89127.699187</td>\n",
       "    </tr>\n",
       "    <tr>\n",
       "      <th>23</th>\n",
       "      <td>23.0</td>\n",
       "      <td>88064.024452</td>\n",
       "    </tr>\n",
       "    <tr>\n",
       "      <th>24</th>\n",
       "      <td>24.0</td>\n",
       "      <td>83990.855201</td>\n",
       "    </tr>\n",
       "    <tr>\n",
       "      <th>25</th>\n",
       "      <td>25.0</td>\n",
       "      <td>92613.742665</td>\n",
       "    </tr>\n",
       "    <tr>\n",
       "      <th>26</th>\n",
       "      <td>26.0</td>\n",
       "      <td>87269.572776</td>\n",
       "    </tr>\n",
       "    <tr>\n",
       "      <th>27</th>\n",
       "      <td>27.0</td>\n",
       "      <td>132115.709459</td>\n",
       "    </tr>\n",
       "    <tr>\n",
       "      <th>28</th>\n",
       "      <td>28.0</td>\n",
       "      <td>81161.915320</td>\n",
       "    </tr>\n",
       "    <tr>\n",
       "      <th>29</th>\n",
       "      <td>29.0</td>\n",
       "      <td>76238.677228</td>\n",
       "    </tr>\n",
       "  </tbody>\n",
       "</table>\n",
       "</div>"
      ],
      "text/plain": [
       "    cityCenters_disctance  square_meter_price\n",
       "0                     0.0       198989.280916\n",
       "1                     1.0       149924.646937\n",
       "2                     2.0       141612.566858\n",
       "3                     3.0       115939.853532\n",
       "4                     4.0       126013.991961\n",
       "5                     5.0       134479.601407\n",
       "6                     6.0       142060.802387\n",
       "7                     7.0       149282.324257\n",
       "8                     8.0       121810.479525\n",
       "9                     9.0       110633.895683\n",
       "10                   10.0       111133.024170\n",
       "11                   11.0       105986.170669\n",
       "12                   12.0       106007.091693\n",
       "13                   13.0       106283.220569\n",
       "14                   14.0       102824.597729\n",
       "15                   15.0       102319.304989\n",
       "16                   16.0        99015.386412\n",
       "17                   17.0        96095.809775\n",
       "18                   18.0        95519.572191\n",
       "19                   19.0        98119.710651\n",
       "20                   20.0        87099.173174\n",
       "21                   21.0        90964.782662\n",
       "22                   22.0        89127.699187\n",
       "23                   23.0        88064.024452\n",
       "24                   24.0        83990.855201\n",
       "25                   25.0        92613.742665\n",
       "26                   26.0        87269.572776\n",
       "27                   27.0       132115.709459\n",
       "28                   28.0        81161.915320\n",
       "29                   29.0        76238.677228"
      ]
     },
     "execution_count": 98,
     "metadata": {},
     "output_type": "execute_result"
    }
   ],
   "source": [
    "#Найдем среднюю цену квадратного метра в зависимости от удаленности от центра города и сохраним в переменной spb_data_pivot\n",
    "#и обновим индексы, чтобы в дальнейшем мы могли использовать данную переменную для визуализации\n",
    "spb_data_pivot = spb_data.pivot_table(index='cityCenters_disctance', values='square_meter_price', aggfunc='mean').reset_index()\n",
    "spb_data_pivot"
   ]
  },
  {
   "cell_type": "code",
   "execution_count": 99,
   "metadata": {},
   "outputs": [
    {
     "data": {
      "text/plain": [
       "-0.7859548358107822"
      ]
     },
     "execution_count": 99,
     "metadata": {},
     "output_type": "execute_result"
    },
    {
     "data": {
      "image/png": "[encoded data removed]",
      "text/plain": [
       "<Figure size 432x288 with 1 Axes>"
      ]
     },
     "metadata": {
      "needs_background": "light"
     },
     "output_type": "display_data"
    }
   ],
   "source": [
    "spb_data_pivot.plot(kind='scatter', x='cityCenters_disctance', y='square_meter_price')\n",
    "spb_data_pivot['cityCenters_disctance'].corr(spb_data_pivot['square_meter_price'])"
   ]
  },
  {
   "cell_type": "markdown",
   "metadata": {},
   "source": [
    "Благодаря графику и коэффициенту корреляции видна сильная зависимость цены недвижимости за квадратный метр от близости к центру города. Положительный коэффициент корреляции с 3 по 7 км., может быть связан, например, с осбенностью районов в этой зоне, что сказывается на цене. Но общая картина показывает обратную зависимость."
   ]
  },
  {
   "cell_type": "markdown",
   "metadata": {},
   "source": [
    "## Общий вывод"
   ]
  },
  {
   "cell_type": "markdown",
   "metadata": {},
   "source": [
    "В данном проекте нам было предложено ознакомиться с данными сервиса Яндекс Недвижимость, которые содержат архив объявлений за несколько лет о продаже квартир в Санкт-Петербурге и соседних населённых пунктах. Первым делом данные прошли предобработку, а именно: \n",
    "1. Мы проверили данные на наличие пропущенных значений, которые по возможности были восстановлены, а остальные удалены;\n",
    "2. Изучив информацию о датафрейме, мы изменили типы данных, для удобства работы с ними;\n",
    "3. Таблица была проверена на наличие дубликатов, как явных, так и неявных. Ввиду большого количества дубликатов в столбце `locality_name`, который хранит в себе названия населенных пунктов, было принято решение категоризировать их по типу населенного пункта и оставить только названия, тем самым полностью избавляясь от дубликатов;\n",
    "4. Все аномальные значения в данных были либо устранены, либо скорректированы.\n",
    "\n",
    "Для дальнейшего анализа в датафрейм были добавлены следующие столбцы:\n",
    "- square_meter_price - цена одного квадратного метра;\n",
    "- week_of_publication - день недели публикации объявления (0 — понедельник, 1 — вторник и так далее);\n",
    "- month_of_publication - месяц публикации объявления;\n",
    "- year_of_publication - год публикации объявления;\n",
    "- floor_category - тип этажа квартиры (значения — «первый», «последний», «другой»);\n",
    "- cityCenters_disctance - расстояние до центра города в километрах.\n",
    "\n",
    "Для начала анализа мы изучили параметры объявлений и как быстро продавались те или иные типы квартир.\n",
    "Изучили факторы влияющие на стоимость квартиры и высчитали среднюю стоимость 1 квадратного метра топ 10 городов по количеству объявлений. А в конце посмотрели, как влияет расстояние до центра на цену за квадратный метр.\n",
    "\n",
    "После проделанной работы можно сделать следующие выводы:\n",
    "1. Большую часть объявлений приходится на 1, 2 и 3х комнатные квартиры с общей площадью до 80 квадратных метров;\n",
    "2. Средняя высота потолка в квартирах находится в диапозоне от 2.5 метров до 2.8;\n",
    "3. Основная сачть домов в объявлениях - это 5ти или 9ти этажные;\n",
    "4. В среднем продажа квартиры занимает около 110 дней; \n",
    "6. Стоимость 1 квадратного метра в Санкт-Петербурге дороже, чем в соседних населенных пунктах;\n",
    "\n",
    "Общая стоимость квартиры складывается из различных факторов, которые так или иначе влекут за собой увеличение или уменьшение цены. Например, планировка, наличие ремонта, этаж, район, наличие балкона и так далее. Но самые основные факторы которые влияют на цену - это тип населенного пункта, где находится помещение, а также общая площадь и расстояние до центра города."
   ]
  }
 ],
 "metadata": {
  "ExecuteTimeLog": [
   {
    "duration": 419,
    "start_time": "2022-11-11T19:42:14.659Z"
   },
   {
    "duration": 122,
    "start_time": "2022-11-11T19:42:16.070Z"
   },
   {
    "duration": 14,
    "start_time": "2022-11-11T19:42:16.479Z"
   },
   {
    "duration": 81,
    "start_time": "2022-11-11T19:42:50.380Z"
   },
   {
    "duration": 41,
    "start_time": "2022-11-11T19:42:51.049Z"
   },
   {
    "duration": 25,
    "start_time": "2022-11-11T19:43:22.456Z"
   },
   {
    "duration": 36,
    "start_time": "2022-11-11T19:43:33.318Z"
   },
   {
    "duration": 12,
    "start_time": "2022-11-11T19:43:45.847Z"
   },
   {
    "duration": 14,
    "start_time": "2022-11-11T19:43:50.947Z"
   },
   {
    "duration": 77,
    "start_time": "2022-11-11T19:43:57.947Z"
   },
   {
    "duration": 15,
    "start_time": "2022-11-11T19:43:58.489Z"
   },
   {
    "duration": 14,
    "start_time": "2022-11-11T19:44:20.697Z"
   },
   {
    "duration": 14,
    "start_time": "2022-11-11T19:44:23.697Z"
   },
   {
    "duration": 3,
    "start_time": "2022-11-11T19:44:26.326Z"
   },
   {
    "duration": 76,
    "start_time": "2022-11-11T19:44:26.777Z"
   },
   {
    "duration": 14,
    "start_time": "2022-11-11T19:44:27.150Z"
   },
   {
    "duration": 34,
    "start_time": "2022-11-11T19:44:38.657Z"
   },
   {
    "duration": 2280,
    "start_time": "2022-11-11T19:45:52.549Z"
   },
   {
    "duration": 26,
    "start_time": "2022-11-11T19:50:49.407Z"
   },
   {
    "duration": 9,
    "start_time": "2022-11-11T19:50:57.527Z"
   },
   {
    "duration": 11,
    "start_time": "2022-11-11T19:51:11.736Z"
   },
   {
    "duration": 34,
    "start_time": "2022-11-11T20:00:33.352Z"
   },
   {
    "duration": 14,
    "start_time": "2022-11-11T20:00:49.553Z"
   },
   {
    "duration": 50,
    "start_time": "2022-11-11T20:01:37.222Z"
   },
   {
    "duration": 15,
    "start_time": "2022-11-11T20:02:11.970Z"
   },
   {
    "duration": 14,
    "start_time": "2022-11-11T20:02:19.773Z"
   },
   {
    "duration": 6,
    "start_time": "2022-11-11T20:04:45.292Z"
   },
   {
    "duration": 34,
    "start_time": "2022-11-11T20:04:49.442Z"
   },
   {
    "duration": 3,
    "start_time": "2022-11-11T20:05:35.822Z"
   },
   {
    "duration": 3,
    "start_time": "2022-11-11T20:05:39.084Z"
   },
   {
    "duration": 42,
    "start_time": "2022-11-11T20:05:40.384Z"
   },
   {
    "duration": 6,
    "start_time": "2022-11-11T20:06:06.413Z"
   },
   {
    "duration": 31,
    "start_time": "2022-11-11T20:06:08.473Z"
   },
   {
    "duration": 4,
    "start_time": "2022-11-11T20:06:10.812Z"
   },
   {
    "duration": 32,
    "start_time": "2022-11-11T20:06:11.374Z"
   },
   {
    "duration": 24,
    "start_time": "2022-11-11T20:08:55.922Z"
   },
   {
    "duration": 1003,
    "start_time": "2022-11-11T20:13:43.185Z"
   },
   {
    "duration": 825,
    "start_time": "2022-11-11T20:14:06.202Z"
   },
   {
    "duration": 8,
    "start_time": "2022-11-11T20:14:29.992Z"
   },
   {
    "duration": 31,
    "start_time": "2022-11-11T20:14:40.432Z"
   },
   {
    "duration": 4,
    "start_time": "2022-11-11T20:20:42.700Z"
   },
   {
    "duration": 10,
    "start_time": "2022-11-11T20:24:05.078Z"
   },
   {
    "duration": 4,
    "start_time": "2022-11-11T20:24:10.846Z"
   },
   {
    "duration": 32,
    "start_time": "2022-11-11T20:24:14.909Z"
   },
   {
    "duration": 425,
    "start_time": "2022-11-11T20:24:30.278Z"
   },
   {
    "duration": 89,
    "start_time": "2022-11-11T20:24:30.705Z"
   },
   {
    "duration": 42,
    "start_time": "2022-11-11T20:24:30.796Z"
   },
   {
    "duration": 13,
    "start_time": "2022-11-11T20:24:30.840Z"
   },
   {
    "duration": 2118,
    "start_time": "2022-11-11T20:24:30.855Z"
   },
   {
    "duration": 8,
    "start_time": "2022-11-11T20:24:32.975Z"
   },
   {
    "duration": 53,
    "start_time": "2022-11-11T20:24:32.985Z"
   },
   {
    "duration": 3,
    "start_time": "2022-11-11T20:24:33.040Z"
   },
   {
    "duration": 10,
    "start_time": "2022-11-11T20:24:33.045Z"
   },
   {
    "duration": 40,
    "start_time": "2022-11-11T20:24:33.056Z"
   },
   {
    "duration": 18,
    "start_time": "2022-11-11T20:24:33.097Z"
   },
   {
    "duration": 67,
    "start_time": "2022-11-11T20:31:53.006Z"
   },
   {
    "duration": 10,
    "start_time": "2022-11-11T20:32:01.058Z"
   },
   {
    "duration": 9,
    "start_time": "2022-11-11T20:32:11.198Z"
   },
   {
    "duration": 12,
    "start_time": "2022-11-11T20:32:55.887Z"
   },
   {
    "duration": 8,
    "start_time": "2022-11-11T20:33:01.129Z"
   },
   {
    "duration": 8,
    "start_time": "2022-11-11T20:34:01.438Z"
   },
   {
    "duration": 9,
    "start_time": "2022-11-11T20:34:07.388Z"
   },
   {
    "duration": 8,
    "start_time": "2022-11-11T20:34:34.639Z"
   },
   {
    "duration": 5,
    "start_time": "2022-11-11T20:34:45.920Z"
   },
   {
    "duration": 9,
    "start_time": "2022-11-11T20:35:08.889Z"
   },
   {
    "duration": 6,
    "start_time": "2022-11-11T20:35:23.338Z"
   },
   {
    "duration": 5,
    "start_time": "2022-11-11T20:40:51.338Z"
   },
   {
    "duration": 15,
    "start_time": "2022-11-11T20:42:59.636Z"
   },
   {
    "duration": 62,
    "start_time": "2022-11-11T20:46:36.558Z"
   },
   {
    "duration": 1637,
    "start_time": "2022-11-11T21:19:40.170Z"
   },
   {
    "duration": 8,
    "start_time": "2022-11-11T21:19:56.435Z"
   },
   {
    "duration": 10,
    "start_time": "2022-11-11T21:20:33.076Z"
   },
   {
    "duration": 9,
    "start_time": "2022-11-11T21:20:46.435Z"
   },
   {
    "duration": 7,
    "start_time": "2022-11-11T21:20:56.117Z"
   },
   {
    "duration": 37,
    "start_time": "2022-11-11T21:21:17.225Z"
   },
   {
    "duration": 45,
    "start_time": "2022-11-11T21:21:58.217Z"
   },
   {
    "duration": 43,
    "start_time": "2022-11-11T21:22:51.856Z"
   },
   {
    "duration": 43,
    "start_time": "2022-11-11T21:24:01.786Z"
   },
   {
    "duration": 43,
    "start_time": "2022-11-11T21:25:05.063Z"
   },
   {
    "duration": 34,
    "start_time": "2022-11-11T21:25:11.074Z"
   },
   {
    "duration": 14,
    "start_time": "2022-11-11T21:25:21.678Z"
   },
   {
    "duration": 41,
    "start_time": "2022-11-11T21:25:29.815Z"
   },
   {
    "duration": 44,
    "start_time": "2022-11-11T21:25:44.454Z"
   },
   {
    "duration": 29,
    "start_time": "2022-11-11T21:26:28.657Z"
   },
   {
    "duration": 60,
    "start_time": "2022-11-11T21:26:35.275Z"
   },
   {
    "duration": 15,
    "start_time": "2022-11-11T21:26:50.655Z"
   },
   {
    "duration": 15,
    "start_time": "2022-11-11T21:27:05.564Z"
   },
   {
    "duration": 28,
    "start_time": "2022-11-11T21:27:21.204Z"
   },
   {
    "duration": 15,
    "start_time": "2022-11-11T21:28:43.567Z"
   },
   {
    "duration": 67,
    "start_time": "2022-11-11T21:28:54.655Z"
   },
   {
    "duration": 58,
    "start_time": "2022-11-11T21:29:19.757Z"
   },
   {
    "duration": 14,
    "start_time": "2022-11-11T21:29:34.277Z"
   },
   {
    "duration": 28,
    "start_time": "2022-11-11T21:29:48.457Z"
   },
   {
    "duration": 14,
    "start_time": "2022-11-11T21:29:53.275Z"
   },
   {
    "duration": 43,
    "start_time": "2022-11-11T21:30:55.846Z"
   },
   {
    "duration": 34,
    "start_time": "2022-11-11T21:31:53.986Z"
   },
   {
    "duration": 15,
    "start_time": "2022-11-11T21:32:03.384Z"
   },
   {
    "duration": 36,
    "start_time": "2022-11-11T21:32:11.195Z"
   },
   {
    "duration": 14,
    "start_time": "2022-11-11T21:32:23.078Z"
   },
   {
    "duration": 44,
    "start_time": "2022-11-11T21:32:58.055Z"
   },
   {
    "duration": 35,
    "start_time": "2022-11-11T21:34:42.766Z"
   },
   {
    "duration": 34,
    "start_time": "2022-11-11T21:35:54.005Z"
   },
   {
    "duration": 15,
    "start_time": "2022-11-11T21:36:05.645Z"
   },
   {
    "duration": 15,
    "start_time": "2022-11-11T21:36:21.835Z"
   },
   {
    "duration": 15,
    "start_time": "2022-11-11T21:36:25.597Z"
   },
   {
    "duration": 10,
    "start_time": "2022-11-11T21:37:06.306Z"
   },
   {
    "duration": 6,
    "start_time": "2022-11-11T21:37:22.585Z"
   },
   {
    "duration": 5,
    "start_time": "2022-11-11T21:37:30.755Z"
   },
   {
    "duration": 5,
    "start_time": "2022-11-11T21:38:14.026Z"
   },
   {
    "duration": 9,
    "start_time": "2022-11-11T21:38:47.315Z"
   },
   {
    "duration": 1086,
    "start_time": "2022-11-11T21:39:29.265Z"
   },
   {
    "duration": 38,
    "start_time": "2022-11-11T21:40:48.885Z"
   },
   {
    "duration": 35,
    "start_time": "2022-11-11T21:41:27.307Z"
   },
   {
    "duration": 61,
    "start_time": "2022-11-11T21:41:48.195Z"
   },
   {
    "duration": 413,
    "start_time": "2022-11-12T06:44:03.244Z"
   },
   {
    "duration": 327,
    "start_time": "2022-11-12T06:44:03.658Z"
   },
   {
    "duration": 42,
    "start_time": "2022-11-12T06:44:03.986Z"
   },
   {
    "duration": 28,
    "start_time": "2022-11-12T06:44:04.030Z"
   },
   {
    "duration": 2253,
    "start_time": "2022-11-12T06:44:04.060Z"
   },
   {
    "duration": 9,
    "start_time": "2022-11-12T06:44:06.315Z"
   },
   {
    "duration": 67,
    "start_time": "2022-11-12T06:44:06.325Z"
   },
   {
    "duration": 3,
    "start_time": "2022-11-12T06:44:06.393Z"
   },
   {
    "duration": 7,
    "start_time": "2022-11-12T06:44:06.398Z"
   },
   {
    "duration": 8,
    "start_time": "2022-11-12T06:44:06.407Z"
   },
   {
    "duration": 94,
    "start_time": "2022-11-12T06:44:06.417Z"
   },
   {
    "duration": 11,
    "start_time": "2022-11-12T06:44:06.513Z"
   },
   {
    "duration": 49,
    "start_time": "2022-11-12T06:44:06.525Z"
   },
   {
    "duration": 7,
    "start_time": "2022-11-12T06:44:06.576Z"
   },
   {
    "duration": 50,
    "start_time": "2022-11-12T06:57:01.843Z"
   },
   {
    "duration": 72,
    "start_time": "2022-11-12T06:57:16.443Z"
   },
   {
    "duration": 8,
    "start_time": "2022-11-12T06:57:37.611Z"
   },
   {
    "duration": 48,
    "start_time": "2022-11-12T06:57:46.483Z"
   },
   {
    "duration": 420,
    "start_time": "2022-11-12T07:45:38.430Z"
   },
   {
    "duration": 93,
    "start_time": "2022-11-12T07:45:38.852Z"
   },
   {
    "duration": 44,
    "start_time": "2022-11-12T07:45:38.946Z"
   },
   {
    "duration": 17,
    "start_time": "2022-11-12T07:45:38.992Z"
   },
   {
    "duration": 2052,
    "start_time": "2022-11-12T07:45:39.011Z"
   },
   {
    "duration": 10,
    "start_time": "2022-11-12T07:45:41.064Z"
   },
   {
    "duration": 56,
    "start_time": "2022-11-12T07:45:41.075Z"
   },
   {
    "duration": 3,
    "start_time": "2022-11-12T07:45:41.133Z"
   },
   {
    "duration": 81,
    "start_time": "2022-11-12T07:45:41.138Z"
   },
   {
    "duration": 0,
    "start_time": "2022-11-12T07:45:41.221Z"
   },
   {
    "duration": 0,
    "start_time": "2022-11-12T07:45:41.222Z"
   },
   {
    "duration": 0,
    "start_time": "2022-11-12T07:45:41.223Z"
   },
   {
    "duration": 0,
    "start_time": "2022-11-12T07:45:41.224Z"
   },
   {
    "duration": 0,
    "start_time": "2022-11-12T07:45:41.225Z"
   },
   {
    "duration": 11,
    "start_time": "2022-11-12T07:46:13.470Z"
   },
   {
    "duration": 746,
    "start_time": "2022-11-12T07:46:16.061Z"
   },
   {
    "duration": 16,
    "start_time": "2022-11-12T07:46:51.680Z"
   },
   {
    "duration": 36,
    "start_time": "2022-11-12T07:48:15.160Z"
   },
   {
    "duration": 20,
    "start_time": "2022-11-12T07:54:10.232Z"
   },
   {
    "duration": 21,
    "start_time": "2022-11-12T07:54:50.988Z"
   },
   {
    "duration": 15,
    "start_time": "2022-11-12T07:55:04.979Z"
   },
   {
    "duration": 20,
    "start_time": "2022-11-12T07:55:18.667Z"
   },
   {
    "duration": 18,
    "start_time": "2022-11-12T07:55:32.170Z"
   },
   {
    "duration": 385,
    "start_time": "2022-11-12T07:55:57.190Z"
   },
   {
    "duration": 97,
    "start_time": "2022-11-12T07:55:57.577Z"
   },
   {
    "duration": 46,
    "start_time": "2022-11-12T07:55:57.676Z"
   },
   {
    "duration": 31,
    "start_time": "2022-11-12T07:55:57.724Z"
   },
   {
    "duration": 2140,
    "start_time": "2022-11-12T07:55:57.759Z"
   },
   {
    "duration": 11,
    "start_time": "2022-11-12T07:55:59.901Z"
   },
   {
    "duration": 54,
    "start_time": "2022-11-12T07:55:59.914Z"
   },
   {
    "duration": 3,
    "start_time": "2022-11-12T07:55:59.970Z"
   },
   {
    "duration": 17,
    "start_time": "2022-11-12T07:55:59.975Z"
   },
   {
    "duration": 18,
    "start_time": "2022-11-12T07:55:59.995Z"
   },
   {
    "duration": 39,
    "start_time": "2022-11-12T07:56:00.015Z"
   },
   {
    "duration": 44,
    "start_time": "2022-11-12T07:56:00.056Z"
   },
   {
    "duration": 17,
    "start_time": "2022-11-12T07:56:00.102Z"
   },
   {
    "duration": 15,
    "start_time": "2022-11-12T08:02:48.868Z"
   },
   {
    "duration": 375,
    "start_time": "2022-11-12T08:02:55.179Z"
   },
   {
    "duration": 90,
    "start_time": "2022-11-12T08:02:55.556Z"
   },
   {
    "duration": 53,
    "start_time": "2022-11-12T08:02:55.647Z"
   },
   {
    "duration": 13,
    "start_time": "2022-11-12T08:02:55.702Z"
   },
   {
    "duration": 2897,
    "start_time": "2022-11-12T08:02:55.718Z"
   },
   {
    "duration": 10,
    "start_time": "2022-11-12T08:02:58.616Z"
   },
   {
    "duration": 51,
    "start_time": "2022-11-12T08:02:58.627Z"
   },
   {
    "duration": 3,
    "start_time": "2022-11-12T08:02:58.680Z"
   },
   {
    "duration": 15,
    "start_time": "2022-11-12T08:02:58.684Z"
   },
   {
    "duration": 4,
    "start_time": "2022-11-12T08:02:58.700Z"
   },
   {
    "duration": 954,
    "start_time": "2022-11-12T08:02:58.705Z"
   },
   {
    "duration": 0,
    "start_time": "2022-11-12T08:02:59.661Z"
   },
   {
    "duration": 0,
    "start_time": "2022-11-12T08:02:59.662Z"
   },
   {
    "duration": 3,
    "start_time": "2022-11-12T08:03:07.108Z"
   },
   {
    "duration": 16,
    "start_time": "2022-11-12T08:03:09.037Z"
   },
   {
    "duration": 15,
    "start_time": "2022-11-12T08:05:06.327Z"
   },
   {
    "duration": 11,
    "start_time": "2022-11-12T08:11:12.786Z"
   },
   {
    "duration": 718,
    "start_time": "2022-11-12T08:13:00.706Z"
   },
   {
    "duration": 736,
    "start_time": "2022-11-12T08:14:26.527Z"
   },
   {
    "duration": 714,
    "start_time": "2022-11-12T08:15:47.814Z"
   },
   {
    "duration": 15,
    "start_time": "2022-11-12T08:30:03.073Z"
   },
   {
    "duration": 11,
    "start_time": "2022-11-12T08:32:37.135Z"
   },
   {
    "duration": 15,
    "start_time": "2022-11-12T08:32:37.812Z"
   },
   {
    "duration": 436,
    "start_time": "2022-11-12T08:33:27.764Z"
   },
   {
    "duration": 91,
    "start_time": "2022-11-12T08:33:28.203Z"
   },
   {
    "duration": 73,
    "start_time": "2022-11-12T08:33:28.295Z"
   },
   {
    "duration": 19,
    "start_time": "2022-11-12T08:33:28.369Z"
   },
   {
    "duration": 2128,
    "start_time": "2022-11-12T08:33:28.391Z"
   },
   {
    "duration": 27,
    "start_time": "2022-11-12T08:33:30.522Z"
   },
   {
    "duration": 71,
    "start_time": "2022-11-12T08:33:30.552Z"
   },
   {
    "duration": 4,
    "start_time": "2022-11-12T08:33:30.626Z"
   },
   {
    "duration": 33,
    "start_time": "2022-11-12T08:33:30.632Z"
   },
   {
    "duration": 16,
    "start_time": "2022-11-12T08:33:30.667Z"
   },
   {
    "duration": 20,
    "start_time": "2022-11-12T08:33:30.686Z"
   },
   {
    "duration": 36,
    "start_time": "2022-11-12T08:33:30.708Z"
   },
   {
    "duration": 28,
    "start_time": "2022-11-12T08:33:30.746Z"
   },
   {
    "duration": 8,
    "start_time": "2022-11-12T08:33:30.777Z"
   },
   {
    "duration": 19,
    "start_time": "2022-11-12T08:33:30.787Z"
   },
   {
    "duration": 43,
    "start_time": "2022-11-12T08:33:30.808Z"
   },
   {
    "duration": 22,
    "start_time": "2022-11-12T09:21:42.039Z"
   },
   {
    "duration": 22,
    "start_time": "2022-11-12T09:21:52.290Z"
   },
   {
    "duration": 20,
    "start_time": "2022-11-12T09:23:35.610Z"
   },
   {
    "duration": 6,
    "start_time": "2022-11-12T09:23:36.770Z"
   },
   {
    "duration": 69,
    "start_time": "2022-11-12T09:25:06.532Z"
   },
   {
    "duration": 9,
    "start_time": "2022-11-12T09:25:23.880Z"
   },
   {
    "duration": 9,
    "start_time": "2022-11-12T09:25:26.560Z"
   },
   {
    "duration": 7,
    "start_time": "2022-11-12T09:25:37.471Z"
   },
   {
    "duration": 9,
    "start_time": "2022-11-12T09:29:00.565Z"
   },
   {
    "duration": 8,
    "start_time": "2022-11-12T09:29:06.410Z"
   },
   {
    "duration": 11,
    "start_time": "2022-11-12T09:29:17.018Z"
   },
   {
    "duration": 11,
    "start_time": "2022-11-12T09:29:37.090Z"
   },
   {
    "duration": 8,
    "start_time": "2022-11-12T09:29:40.591Z"
   },
   {
    "duration": 8,
    "start_time": "2022-11-12T09:30:26.890Z"
   },
   {
    "duration": 7,
    "start_time": "2022-11-12T09:31:04.331Z"
   },
   {
    "duration": 11,
    "start_time": "2022-11-12T09:31:56.681Z"
   },
   {
    "duration": 6,
    "start_time": "2022-11-12T09:32:01.909Z"
   },
   {
    "duration": 9,
    "start_time": "2022-11-12T09:32:23.120Z"
   },
   {
    "duration": 6,
    "start_time": "2022-11-12T09:32:39.582Z"
   },
   {
    "duration": 4,
    "start_time": "2022-11-12T09:33:13.010Z"
   },
   {
    "duration": 7,
    "start_time": "2022-11-12T09:33:21.400Z"
   },
   {
    "duration": 10,
    "start_time": "2022-11-12T09:34:02.938Z"
   },
   {
    "duration": 7,
    "start_time": "2022-11-12T09:34:07.651Z"
   },
   {
    "duration": 6,
    "start_time": "2022-11-12T09:37:52.209Z"
   },
   {
    "duration": 13,
    "start_time": "2022-11-12T09:37:54.080Z"
   },
   {
    "duration": 9,
    "start_time": "2022-11-12T09:41:16.980Z"
   },
   {
    "duration": 10,
    "start_time": "2022-11-12T09:41:20.050Z"
   },
   {
    "duration": 9,
    "start_time": "2022-11-12T09:41:31.159Z"
   },
   {
    "duration": 7,
    "start_time": "2022-11-12T09:42:05.519Z"
   },
   {
    "duration": 12,
    "start_time": "2022-11-12T09:44:18.680Z"
   },
   {
    "duration": 7,
    "start_time": "2022-11-12T09:44:30.181Z"
   },
   {
    "duration": 374,
    "start_time": "2022-11-12T09:44:46.368Z"
   },
   {
    "duration": 94,
    "start_time": "2022-11-12T09:44:46.744Z"
   },
   {
    "duration": 43,
    "start_time": "2022-11-12T09:44:46.840Z"
   },
   {
    "duration": 14,
    "start_time": "2022-11-12T09:44:46.885Z"
   },
   {
    "duration": 1967,
    "start_time": "2022-11-12T09:44:46.900Z"
   },
   {
    "duration": 9,
    "start_time": "2022-11-12T09:44:48.868Z"
   },
   {
    "duration": 71,
    "start_time": "2022-11-12T09:44:48.878Z"
   },
   {
    "duration": 4,
    "start_time": "2022-11-12T09:44:48.951Z"
   },
   {
    "duration": 20,
    "start_time": "2022-11-12T09:44:48.957Z"
   },
   {
    "duration": 4,
    "start_time": "2022-11-12T09:44:48.980Z"
   },
   {
    "duration": 5,
    "start_time": "2022-11-12T09:44:48.985Z"
   },
   {
    "duration": 23,
    "start_time": "2022-11-12T09:44:48.992Z"
   },
   {
    "duration": 38,
    "start_time": "2022-11-12T09:44:49.016Z"
   },
   {
    "duration": 8,
    "start_time": "2022-11-12T09:44:49.055Z"
   },
   {
    "duration": 30,
    "start_time": "2022-11-12T09:44:49.064Z"
   },
   {
    "duration": 17,
    "start_time": "2022-11-12T09:44:49.095Z"
   },
   {
    "duration": 41,
    "start_time": "2022-11-12T09:44:49.114Z"
   },
   {
    "duration": 8,
    "start_time": "2022-11-12T09:44:49.157Z"
   },
   {
    "duration": 8,
    "start_time": "2022-11-12T09:44:49.167Z"
   },
   {
    "duration": 15,
    "start_time": "2022-11-12T09:44:49.177Z"
   },
   {
    "duration": 13,
    "start_time": "2022-11-12T09:44:49.194Z"
   },
   {
    "duration": 44,
    "start_time": "2022-11-12T09:44:49.209Z"
   },
   {
    "duration": 12,
    "start_time": "2022-11-12T09:45:25.311Z"
   },
   {
    "duration": 8,
    "start_time": "2022-11-12T09:45:27.288Z"
   },
   {
    "duration": 10,
    "start_time": "2022-11-12T09:58:37.979Z"
   },
   {
    "duration": 20,
    "start_time": "2022-11-12T10:00:09.929Z"
   },
   {
    "duration": 3,
    "start_time": "2022-11-12T10:18:47.099Z"
   },
   {
    "duration": 10,
    "start_time": "2022-11-12T10:19:58.168Z"
   },
   {
    "duration": 34,
    "start_time": "2022-11-12T10:19:59.389Z"
   },
   {
    "duration": 40,
    "start_time": "2022-11-12T10:20:48.068Z"
   },
   {
    "duration": 43,
    "start_time": "2022-11-12T10:27:38.340Z"
   },
   {
    "duration": 23,
    "start_time": "2022-11-12T10:30:07.598Z"
   },
   {
    "duration": 27,
    "start_time": "2022-11-12T10:37:42.688Z"
   },
   {
    "duration": 6,
    "start_time": "2022-11-12T10:38:08.506Z"
   },
   {
    "duration": 5,
    "start_time": "2022-11-12T10:40:17.120Z"
   },
   {
    "duration": 6,
    "start_time": "2022-11-12T10:40:19.528Z"
   },
   {
    "duration": 358,
    "start_time": "2022-11-12T10:40:30.483Z"
   },
   {
    "duration": 99,
    "start_time": "2022-11-12T10:40:30.843Z"
   },
   {
    "duration": 53,
    "start_time": "2022-11-12T10:40:30.944Z"
   },
   {
    "duration": 17,
    "start_time": "2022-11-12T10:40:30.999Z"
   },
   {
    "duration": 2094,
    "start_time": "2022-11-12T10:40:31.019Z"
   },
   {
    "duration": 9,
    "start_time": "2022-11-12T10:40:33.115Z"
   },
   {
    "duration": 73,
    "start_time": "2022-11-12T10:40:33.125Z"
   },
   {
    "duration": 4,
    "start_time": "2022-11-12T10:40:33.199Z"
   },
   {
    "duration": 18,
    "start_time": "2022-11-12T10:40:33.204Z"
   },
   {
    "duration": 11,
    "start_time": "2022-11-12T10:40:33.223Z"
   },
   {
    "duration": 23,
    "start_time": "2022-11-12T10:40:33.235Z"
   },
   {
    "duration": 16,
    "start_time": "2022-11-12T10:40:33.261Z"
   },
   {
    "duration": 16,
    "start_time": "2022-11-12T10:40:33.279Z"
   },
   {
    "duration": 9,
    "start_time": "2022-11-12T10:40:33.297Z"
   },
   {
    "duration": 67,
    "start_time": "2022-11-12T10:40:33.308Z"
   },
   {
    "duration": 18,
    "start_time": "2022-11-12T10:40:33.376Z"
   },
   {
    "duration": 21,
    "start_time": "2022-11-12T10:40:33.396Z"
   },
   {
    "duration": 6,
    "start_time": "2022-11-12T10:40:33.419Z"
   },
   {
    "duration": 8,
    "start_time": "2022-11-12T10:40:33.426Z"
   },
   {
    "duration": 27,
    "start_time": "2022-11-12T10:40:33.436Z"
   },
   {
    "duration": 12,
    "start_time": "2022-11-12T10:40:33.465Z"
   },
   {
    "duration": 18,
    "start_time": "2022-11-12T10:40:33.478Z"
   },
   {
    "duration": 26,
    "start_time": "2022-11-12T10:40:33.498Z"
   },
   {
    "duration": 27,
    "start_time": "2022-11-12T10:40:33.526Z"
   },
   {
    "duration": 20,
    "start_time": "2022-11-12T10:40:33.557Z"
   },
   {
    "duration": 15,
    "start_time": "2022-11-12T10:41:16.167Z"
   },
   {
    "duration": 7,
    "start_time": "2022-11-12T10:41:17.677Z"
   },
   {
    "duration": 31,
    "start_time": "2022-11-12T10:42:00.095Z"
   },
   {
    "duration": 6,
    "start_time": "2022-11-12T10:42:01.088Z"
   },
   {
    "duration": 32,
    "start_time": "2022-11-12T10:42:11.277Z"
   },
   {
    "duration": 35,
    "start_time": "2022-11-12T10:42:22.798Z"
   },
   {
    "duration": 40,
    "start_time": "2022-11-12T10:42:24.767Z"
   },
   {
    "duration": 36,
    "start_time": "2022-11-12T10:42:31.869Z"
   },
   {
    "duration": 6,
    "start_time": "2022-11-12T10:42:33.788Z"
   },
   {
    "duration": 46,
    "start_time": "2022-11-12T10:42:47.668Z"
   },
   {
    "duration": 6,
    "start_time": "2022-11-12T10:42:49.241Z"
   },
   {
    "duration": 76,
    "start_time": "2022-11-12T10:43:05.248Z"
   },
   {
    "duration": 7,
    "start_time": "2022-11-12T10:43:06.959Z"
   },
   {
    "duration": 55,
    "start_time": "2022-11-12T10:55:14.440Z"
   },
   {
    "duration": 51,
    "start_time": "2022-11-12T10:55:32.538Z"
   },
   {
    "duration": 86,
    "start_time": "2022-11-12T10:56:11.648Z"
   },
   {
    "duration": 60,
    "start_time": "2022-11-12T10:56:26.138Z"
   },
   {
    "duration": 49,
    "start_time": "2022-11-12T10:57:03.466Z"
   },
   {
    "duration": 376,
    "start_time": "2022-11-12T10:58:20.779Z"
   },
   {
    "duration": 93,
    "start_time": "2022-11-12T10:58:21.158Z"
   },
   {
    "duration": 44,
    "start_time": "2022-11-12T10:58:21.258Z"
   },
   {
    "duration": 14,
    "start_time": "2022-11-12T10:58:21.304Z"
   },
   {
    "duration": 2205,
    "start_time": "2022-11-12T10:58:21.321Z"
   },
   {
    "duration": 23,
    "start_time": "2022-11-12T10:58:23.528Z"
   },
   {
    "duration": 57,
    "start_time": "2022-11-12T10:58:23.556Z"
   },
   {
    "duration": 3,
    "start_time": "2022-11-12T10:58:23.614Z"
   },
   {
    "duration": 36,
    "start_time": "2022-11-12T10:58:23.619Z"
   },
   {
    "duration": 20,
    "start_time": "2022-11-12T10:58:23.657Z"
   },
   {
    "duration": 16,
    "start_time": "2022-11-12T10:58:23.678Z"
   },
   {
    "duration": 15,
    "start_time": "2022-11-12T10:58:23.696Z"
   },
   {
    "duration": 15,
    "start_time": "2022-11-12T10:58:23.713Z"
   },
   {
    "duration": 13,
    "start_time": "2022-11-12T10:58:23.749Z"
   },
   {
    "duration": 13,
    "start_time": "2022-11-12T10:58:23.763Z"
   },
   {
    "duration": 23,
    "start_time": "2022-11-12T10:58:23.778Z"
   },
   {
    "duration": 20,
    "start_time": "2022-11-12T10:58:23.802Z"
   },
   {
    "duration": 25,
    "start_time": "2022-11-12T10:58:23.823Z"
   },
   {
    "duration": 15,
    "start_time": "2022-11-12T10:58:23.849Z"
   },
   {
    "duration": 18,
    "start_time": "2022-11-12T10:58:23.865Z"
   },
   {
    "duration": 5,
    "start_time": "2022-11-12T10:58:23.884Z"
   },
   {
    "duration": 15,
    "start_time": "2022-11-12T10:58:23.890Z"
   },
   {
    "duration": 50,
    "start_time": "2022-11-12T10:58:23.906Z"
   },
   {
    "duration": 13,
    "start_time": "2022-11-12T10:58:23.957Z"
   },
   {
    "duration": 7,
    "start_time": "2022-11-12T10:58:23.972Z"
   },
   {
    "duration": 70,
    "start_time": "2022-11-12T10:58:51.848Z"
   },
   {
    "duration": 6,
    "start_time": "2022-11-12T10:58:53.920Z"
   },
   {
    "duration": 68,
    "start_time": "2022-11-12T10:59:13.780Z"
   },
   {
    "duration": 10,
    "start_time": "2022-11-12T10:59:16.448Z"
   },
   {
    "duration": 433,
    "start_time": "2022-11-12T10:59:25.917Z"
   },
   {
    "duration": 99,
    "start_time": "2022-11-12T10:59:26.352Z"
   },
   {
    "duration": 46,
    "start_time": "2022-11-12T10:59:26.452Z"
   },
   {
    "duration": 21,
    "start_time": "2022-11-12T10:59:26.500Z"
   },
   {
    "duration": 2130,
    "start_time": "2022-11-12T10:59:26.549Z"
   },
   {
    "duration": 10,
    "start_time": "2022-11-12T10:59:28.681Z"
   },
   {
    "duration": 79,
    "start_time": "2022-11-12T10:59:28.692Z"
   },
   {
    "duration": 3,
    "start_time": "2022-11-12T10:59:28.773Z"
   },
   {
    "duration": 12,
    "start_time": "2022-11-12T10:59:28.777Z"
   },
   {
    "duration": 6,
    "start_time": "2022-11-12T10:59:28.790Z"
   },
   {
    "duration": 5,
    "start_time": "2022-11-12T10:59:28.797Z"
   },
   {
    "duration": 45,
    "start_time": "2022-11-12T10:59:28.804Z"
   },
   {
    "duration": 19,
    "start_time": "2022-11-12T10:59:28.855Z"
   },
   {
    "duration": 6,
    "start_time": "2022-11-12T10:59:28.877Z"
   },
   {
    "duration": 12,
    "start_time": "2022-11-12T10:59:28.885Z"
   },
   {
    "duration": 12,
    "start_time": "2022-11-12T10:59:28.898Z"
   },
   {
    "duration": 31,
    "start_time": "2022-11-12T10:59:28.951Z"
   },
   {
    "duration": 8,
    "start_time": "2022-11-12T10:59:28.983Z"
   },
   {
    "duration": 9,
    "start_time": "2022-11-12T10:59:28.993Z"
   },
   {
    "duration": 49,
    "start_time": "2022-11-12T10:59:29.003Z"
   },
   {
    "duration": 8,
    "start_time": "2022-11-12T10:59:29.054Z"
   },
   {
    "duration": 11,
    "start_time": "2022-11-12T10:59:29.064Z"
   },
   {
    "duration": 27,
    "start_time": "2022-11-12T10:59:29.076Z"
   },
   {
    "duration": 92,
    "start_time": "2022-11-12T10:59:29.105Z"
   },
   {
    "duration": 8,
    "start_time": "2022-11-12T10:59:29.199Z"
   },
   {
    "duration": 113,
    "start_time": "2022-11-12T11:00:36.529Z"
   },
   {
    "duration": 8,
    "start_time": "2022-11-12T11:00:37.289Z"
   },
   {
    "duration": 71,
    "start_time": "2022-11-12T11:05:44.060Z"
   },
   {
    "duration": 8,
    "start_time": "2022-11-12T11:05:47.989Z"
   },
   {
    "duration": 7,
    "start_time": "2022-11-12T11:05:52.110Z"
   },
   {
    "duration": 393,
    "start_time": "2022-11-12T11:06:02.721Z"
   },
   {
    "duration": 97,
    "start_time": "2022-11-12T11:06:03.116Z"
   },
   {
    "duration": 57,
    "start_time": "2022-11-12T11:06:03.215Z"
   },
   {
    "duration": 14,
    "start_time": "2022-11-12T11:06:03.273Z"
   },
   {
    "duration": 2240,
    "start_time": "2022-11-12T11:06:03.290Z"
   },
   {
    "duration": 23,
    "start_time": "2022-11-12T11:06:05.532Z"
   },
   {
    "duration": 77,
    "start_time": "2022-11-12T11:06:05.557Z"
   },
   {
    "duration": 4,
    "start_time": "2022-11-12T11:06:05.637Z"
   },
   {
    "duration": 34,
    "start_time": "2022-11-12T11:06:05.643Z"
   },
   {
    "duration": 21,
    "start_time": "2022-11-12T11:06:05.678Z"
   },
   {
    "duration": 6,
    "start_time": "2022-11-12T11:06:05.701Z"
   },
   {
    "duration": 19,
    "start_time": "2022-11-12T11:06:05.708Z"
   },
   {
    "duration": 15,
    "start_time": "2022-11-12T11:06:05.728Z"
   },
   {
    "duration": 14,
    "start_time": "2022-11-12T11:06:05.745Z"
   },
   {
    "duration": 21,
    "start_time": "2022-11-12T11:06:05.760Z"
   },
   {
    "duration": 14,
    "start_time": "2022-11-12T11:06:05.783Z"
   },
   {
    "duration": 23,
    "start_time": "2022-11-12T11:06:05.800Z"
   },
   {
    "duration": 16,
    "start_time": "2022-11-12T11:06:05.848Z"
   },
   {
    "duration": 14,
    "start_time": "2022-11-12T11:06:05.865Z"
   },
   {
    "duration": 17,
    "start_time": "2022-11-12T11:06:05.881Z"
   },
   {
    "duration": 8,
    "start_time": "2022-11-12T11:06:05.900Z"
   },
   {
    "duration": 51,
    "start_time": "2022-11-12T11:06:05.909Z"
   },
   {
    "duration": 65,
    "start_time": "2022-11-12T11:06:05.963Z"
   },
   {
    "duration": 79,
    "start_time": "2022-11-12T11:06:06.030Z"
   },
   {
    "duration": 8,
    "start_time": "2022-11-12T11:06:06.111Z"
   },
   {
    "duration": 3,
    "start_time": "2022-11-12T11:08:58.570Z"
   },
   {
    "duration": 11,
    "start_time": "2022-11-12T11:09:00.988Z"
   },
   {
    "duration": 42,
    "start_time": "2022-11-12T11:09:01.887Z"
   },
   {
    "duration": 106,
    "start_time": "2022-11-12T11:09:05.179Z"
   },
   {
    "duration": 6,
    "start_time": "2022-11-12T11:09:07.268Z"
   },
   {
    "duration": 77,
    "start_time": "2022-11-12T11:10:01.398Z"
   },
   {
    "duration": 7,
    "start_time": "2022-11-12T11:10:06.400Z"
   },
   {
    "duration": 452,
    "start_time": "2022-11-12T11:13:27.242Z"
   },
   {
    "duration": 106,
    "start_time": "2022-11-12T11:13:27.696Z"
   },
   {
    "duration": 50,
    "start_time": "2022-11-12T11:13:27.803Z"
   },
   {
    "duration": 21,
    "start_time": "2022-11-12T11:13:27.861Z"
   },
   {
    "duration": 2291,
    "start_time": "2022-11-12T11:13:27.883Z"
   },
   {
    "duration": 15,
    "start_time": "2022-11-12T11:13:30.176Z"
   },
   {
    "duration": 97,
    "start_time": "2022-11-12T11:13:30.194Z"
   },
   {
    "duration": 4,
    "start_time": "2022-11-12T11:13:30.293Z"
   },
   {
    "duration": 55,
    "start_time": "2022-11-12T11:13:30.298Z"
   },
   {
    "duration": 139,
    "start_time": "2022-11-12T11:13:30.356Z"
   },
   {
    "duration": 46,
    "start_time": "2022-11-12T11:13:30.497Z"
   },
   {
    "duration": 87,
    "start_time": "2022-11-12T11:13:30.545Z"
   },
   {
    "duration": 19,
    "start_time": "2022-11-12T11:13:30.634Z"
   },
   {
    "duration": 45,
    "start_time": "2022-11-12T11:13:30.655Z"
   },
   {
    "duration": 24,
    "start_time": "2022-11-12T11:13:30.702Z"
   },
   {
    "duration": 17,
    "start_time": "2022-11-12T11:13:30.727Z"
   },
   {
    "duration": 65,
    "start_time": "2022-11-12T11:13:30.745Z"
   },
   {
    "duration": 10,
    "start_time": "2022-11-12T11:13:30.811Z"
   },
   {
    "duration": 15,
    "start_time": "2022-11-12T11:13:30.823Z"
   },
   {
    "duration": 59,
    "start_time": "2022-11-12T11:13:30.840Z"
   },
   {
    "duration": 23,
    "start_time": "2022-11-12T11:13:30.900Z"
   },
   {
    "duration": 22,
    "start_time": "2022-11-12T11:13:30.925Z"
   },
   {
    "duration": 52,
    "start_time": "2022-11-12T11:13:30.951Z"
   },
   {
    "duration": 101,
    "start_time": "2022-11-12T11:13:31.005Z"
   },
   {
    "duration": 7,
    "start_time": "2022-11-12T11:13:31.107Z"
   },
   {
    "duration": 8,
    "start_time": "2022-11-12T11:20:07.390Z"
   },
   {
    "duration": 106,
    "start_time": "2022-11-12T11:23:31.029Z"
   },
   {
    "duration": 9,
    "start_time": "2022-11-12T11:23:38.840Z"
   },
   {
    "duration": 5,
    "start_time": "2022-11-12T11:23:46.192Z"
   },
   {
    "duration": 13,
    "start_time": "2022-11-12T11:24:35.138Z"
   },
   {
    "duration": 13,
    "start_time": "2022-11-12T11:25:21.278Z"
   },
   {
    "duration": 106,
    "start_time": "2022-11-12T11:37:42.875Z"
   },
   {
    "duration": 19,
    "start_time": "2022-11-12T11:37:44.664Z"
   },
   {
    "duration": 116,
    "start_time": "2022-11-12T11:38:06.075Z"
   },
   {
    "duration": 14,
    "start_time": "2022-11-12T11:38:09.071Z"
   },
   {
    "duration": 117,
    "start_time": "2022-11-12T11:46:47.923Z"
   },
   {
    "duration": 16,
    "start_time": "2022-11-12T11:46:50.313Z"
   },
   {
    "duration": 135,
    "start_time": "2022-11-12T12:00:01.279Z"
   },
   {
    "duration": 6,
    "start_time": "2022-11-12T12:02:06.696Z"
   },
   {
    "duration": 54,
    "start_time": "2022-11-13T20:31:07.079Z"
   },
   {
    "duration": 414,
    "start_time": "2022-11-13T20:31:17.835Z"
   },
   {
    "duration": 357,
    "start_time": "2022-11-13T20:31:18.251Z"
   },
   {
    "duration": 56,
    "start_time": "2022-11-13T20:31:18.610Z"
   },
   {
    "duration": 28,
    "start_time": "2022-11-13T20:31:18.668Z"
   },
   {
    "duration": 2706,
    "start_time": "2022-11-13T20:31:18.703Z"
   },
   {
    "duration": 12,
    "start_time": "2022-11-13T20:31:21.411Z"
   },
   {
    "duration": 103,
    "start_time": "2022-11-13T20:31:21.424Z"
   },
   {
    "duration": 4,
    "start_time": "2022-11-13T20:31:21.529Z"
   },
   {
    "duration": 26,
    "start_time": "2022-11-13T20:31:21.534Z"
   },
   {
    "duration": 30,
    "start_time": "2022-11-13T20:31:21.562Z"
   },
   {
    "duration": 24,
    "start_time": "2022-11-13T20:31:21.595Z"
   },
   {
    "duration": 42,
    "start_time": "2022-11-13T20:31:21.621Z"
   },
   {
    "duration": 44,
    "start_time": "2022-11-13T20:31:21.665Z"
   },
   {
    "duration": 8,
    "start_time": "2022-11-13T20:31:21.712Z"
   },
   {
    "duration": 22,
    "start_time": "2022-11-13T20:31:21.722Z"
   },
   {
    "duration": 41,
    "start_time": "2022-11-13T20:31:21.746Z"
   },
   {
    "duration": 26,
    "start_time": "2022-11-13T20:31:21.795Z"
   },
   {
    "duration": 9,
    "start_time": "2022-11-13T20:31:21.823Z"
   },
   {
    "duration": 26,
    "start_time": "2022-11-13T20:31:21.834Z"
   },
   {
    "duration": 35,
    "start_time": "2022-11-13T20:31:21.862Z"
   },
   {
    "duration": 17,
    "start_time": "2022-11-13T20:31:21.898Z"
   },
   {
    "duration": 37,
    "start_time": "2022-11-13T20:31:21.917Z"
   },
   {
    "duration": 48,
    "start_time": "2022-11-13T20:31:21.956Z"
   },
   {
    "duration": 144,
    "start_time": "2022-11-13T20:31:22.006Z"
   },
   {
    "duration": 17,
    "start_time": "2022-11-13T20:31:22.152Z"
   },
   {
    "duration": 111,
    "start_time": "2022-11-13T20:31:22.181Z"
   },
   {
    "duration": 318,
    "start_time": "2022-11-13T20:31:22.294Z"
   },
   {
    "duration": 255,
    "start_time": "2022-11-13T20:31:32.941Z"
   },
   {
    "duration": 4,
    "start_time": "2022-11-13T20:32:42.393Z"
   },
   {
    "duration": 683,
    "start_time": "2022-11-13T20:33:09.801Z"
   },
   {
    "duration": 99,
    "start_time": "2022-11-13T20:33:21.270Z"
   },
   {
    "duration": 10,
    "start_time": "2022-11-13T20:34:22.580Z"
   },
   {
    "duration": 647,
    "start_time": "2022-11-13T20:34:28.363Z"
   },
   {
    "duration": 162,
    "start_time": "2022-11-13T20:36:55.388Z"
   },
   {
    "duration": 111,
    "start_time": "2022-11-13T20:37:14.905Z"
   },
   {
    "duration": 135,
    "start_time": "2022-11-13T20:37:28.366Z"
   },
   {
    "duration": 134,
    "start_time": "2022-11-13T20:37:37.695Z"
   },
   {
    "duration": 141,
    "start_time": "2022-11-13T20:37:51.366Z"
   },
   {
    "duration": 122,
    "start_time": "2022-11-13T20:37:54.950Z"
   },
   {
    "duration": 10,
    "start_time": "2022-11-13T20:39:38.602Z"
   },
   {
    "duration": 356,
    "start_time": "2022-11-14T08:40:47.810Z"
   },
   {
    "duration": 411,
    "start_time": "2022-11-14T08:40:48.168Z"
   },
   {
    "duration": 300,
    "start_time": "2022-11-14T08:40:48.581Z"
   },
   {
    "duration": 51,
    "start_time": "2022-11-14T08:40:48.883Z"
   },
   {
    "duration": 15,
    "start_time": "2022-11-14T08:40:48.935Z"
   },
   {
    "duration": 2002,
    "start_time": "2022-11-14T08:40:48.951Z"
   },
   {
    "duration": 9,
    "start_time": "2022-11-14T08:40:50.955Z"
   },
   {
    "duration": 78,
    "start_time": "2022-11-14T08:40:50.966Z"
   },
   {
    "duration": 3,
    "start_time": "2022-11-14T08:40:51.046Z"
   },
   {
    "duration": 35,
    "start_time": "2022-11-14T08:40:51.052Z"
   },
   {
    "duration": 21,
    "start_time": "2022-11-14T08:40:51.088Z"
   },
   {
    "duration": 30,
    "start_time": "2022-11-14T08:40:51.111Z"
   },
   {
    "duration": 20,
    "start_time": "2022-11-14T08:40:51.142Z"
   },
   {
    "duration": 22,
    "start_time": "2022-11-14T08:40:51.164Z"
   },
   {
    "duration": 16,
    "start_time": "2022-11-14T08:40:51.188Z"
   },
   {
    "duration": 21,
    "start_time": "2022-11-14T08:40:51.205Z"
   },
   {
    "duration": 31,
    "start_time": "2022-11-14T08:40:51.227Z"
   },
   {
    "duration": 22,
    "start_time": "2022-11-14T08:40:51.260Z"
   },
   {
    "duration": 7,
    "start_time": "2022-11-14T08:40:51.284Z"
   },
   {
    "duration": 46,
    "start_time": "2022-11-14T08:40:51.293Z"
   },
   {
    "duration": 30,
    "start_time": "2022-11-14T08:40:51.341Z"
   },
   {
    "duration": 28,
    "start_time": "2022-11-14T08:40:51.373Z"
   },
   {
    "duration": 50,
    "start_time": "2022-11-14T08:40:51.403Z"
   },
   {
    "duration": 40,
    "start_time": "2022-11-14T08:40:51.455Z"
   },
   {
    "duration": 124,
    "start_time": "2022-11-14T08:40:51.497Z"
   },
   {
    "duration": 13,
    "start_time": "2022-11-14T08:40:51.622Z"
   },
   {
    "duration": 106,
    "start_time": "2022-11-14T08:40:51.637Z"
   },
   {
    "duration": 245,
    "start_time": "2022-11-14T08:40:51.745Z"
   },
   {
    "duration": 121,
    "start_time": "2022-11-14T08:40:51.992Z"
   },
   {
    "duration": 61,
    "start_time": "2022-11-14T08:40:52.115Z"
   },
   {
    "duration": 245,
    "start_time": "2022-11-14T08:49:48.881Z"
   },
   {
    "duration": 24,
    "start_time": "2022-11-14T08:50:29.605Z"
   },
   {
    "duration": 354,
    "start_time": "2022-11-14T09:01:46.730Z"
   },
   {
    "duration": 274,
    "start_time": "2022-11-14T09:01:54.577Z"
   },
   {
    "duration": 274,
    "start_time": "2022-11-14T09:02:01.058Z"
   },
   {
    "duration": 107,
    "start_time": "2022-11-14T09:02:22.370Z"
   },
   {
    "duration": 101,
    "start_time": "2022-11-14T09:02:39.122Z"
   },
   {
    "duration": 75,
    "start_time": "2022-11-14T09:03:20.089Z"
   },
   {
    "duration": 10,
    "start_time": "2022-11-14T09:03:24.211Z"
   },
   {
    "duration": 8,
    "start_time": "2022-11-14T09:03:28.859Z"
   },
   {
    "duration": 7,
    "start_time": "2022-11-14T09:03:55.557Z"
   },
   {
    "duration": 11,
    "start_time": "2022-11-14T09:04:13.620Z"
   },
   {
    "duration": 9,
    "start_time": "2022-11-14T09:04:19.540Z"
   },
   {
    "duration": 9,
    "start_time": "2022-11-14T09:04:25.997Z"
   },
   {
    "duration": 97,
    "start_time": "2022-11-14T09:05:57.574Z"
   },
   {
    "duration": 131,
    "start_time": "2022-11-14T09:06:13.214Z"
   },
   {
    "duration": 120,
    "start_time": "2022-11-14T09:06:22.343Z"
   },
   {
    "duration": 212,
    "start_time": "2022-11-14T09:06:33.183Z"
   },
   {
    "duration": 110,
    "start_time": "2022-11-14T09:08:51.146Z"
   },
   {
    "duration": 105,
    "start_time": "2022-11-14T09:09:05.505Z"
   },
   {
    "duration": 109,
    "start_time": "2022-11-14T09:12:22.885Z"
   },
   {
    "duration": 176,
    "start_time": "2022-11-14T09:13:55.744Z"
   },
   {
    "duration": 133,
    "start_time": "2022-11-14T09:14:00.720Z"
   },
   {
    "duration": 204,
    "start_time": "2022-11-14T09:14:14.923Z"
   },
   {
    "duration": 193,
    "start_time": "2022-11-14T09:14:28.216Z"
   },
   {
    "duration": 205,
    "start_time": "2022-11-14T09:16:22.284Z"
   },
   {
    "duration": 201,
    "start_time": "2022-11-14T09:16:32.730Z"
   },
   {
    "duration": 40,
    "start_time": "2022-11-14T09:23:57.875Z"
   },
   {
    "duration": 10,
    "start_time": "2022-11-14T09:28:09.259Z"
   },
   {
    "duration": 10,
    "start_time": "2022-11-14T09:28:38.441Z"
   },
   {
    "duration": 69,
    "start_time": "2022-11-14T09:28:57.759Z"
   },
   {
    "duration": 34,
    "start_time": "2022-11-14T09:29:40.029Z"
   },
   {
    "duration": 11,
    "start_time": "2022-11-14T09:36:35.157Z"
   },
   {
    "duration": 6,
    "start_time": "2022-11-14T09:40:35.861Z"
   },
   {
    "duration": 126,
    "start_time": "2022-11-14T09:40:49.174Z"
   },
   {
    "duration": 6,
    "start_time": "2022-11-14T09:40:58.014Z"
   },
   {
    "duration": 203,
    "start_time": "2022-11-14T09:40:59.069Z"
   },
   {
    "duration": 106,
    "start_time": "2022-11-14T09:41:07.702Z"
   },
   {
    "duration": 202,
    "start_time": "2022-11-14T09:42:59.969Z"
   },
   {
    "duration": 10,
    "start_time": "2022-11-14T09:43:24.344Z"
   },
   {
    "duration": 4,
    "start_time": "2022-11-14T09:44:19.669Z"
   },
   {
    "duration": 94,
    "start_time": "2022-11-14T09:44:28.618Z"
   },
   {
    "duration": 96,
    "start_time": "2022-11-14T09:44:36.602Z"
   },
   {
    "duration": 409,
    "start_time": "2022-11-14T09:44:47.655Z"
   },
   {
    "duration": 223,
    "start_time": "2022-11-14T09:44:48.066Z"
   },
   {
    "duration": 85,
    "start_time": "2022-11-14T09:44:48.291Z"
   },
   {
    "duration": 42,
    "start_time": "2022-11-14T09:44:48.378Z"
   },
   {
    "duration": 13,
    "start_time": "2022-11-14T09:44:48.421Z"
   },
   {
    "duration": 2017,
    "start_time": "2022-11-14T09:44:48.436Z"
   },
   {
    "duration": 9,
    "start_time": "2022-11-14T09:44:50.455Z"
   },
   {
    "duration": 56,
    "start_time": "2022-11-14T09:44:50.466Z"
   },
   {
    "duration": 3,
    "start_time": "2022-11-14T09:44:50.524Z"
   },
   {
    "duration": 12,
    "start_time": "2022-11-14T09:44:50.529Z"
   },
   {
    "duration": 4,
    "start_time": "2022-11-14T09:44:50.543Z"
   },
   {
    "duration": 21,
    "start_time": "2022-11-14T09:44:50.548Z"
   },
   {
    "duration": 17,
    "start_time": "2022-11-14T09:44:50.571Z"
   },
   {
    "duration": 13,
    "start_time": "2022-11-14T09:44:50.590Z"
   },
   {
    "duration": 7,
    "start_time": "2022-11-14T09:44:50.605Z"
   },
   {
    "duration": 15,
    "start_time": "2022-11-14T09:44:50.613Z"
   },
   {
    "duration": 39,
    "start_time": "2022-11-14T09:44:50.630Z"
   },
   {
    "duration": 22,
    "start_time": "2022-11-14T09:44:50.670Z"
   },
   {
    "duration": 18,
    "start_time": "2022-11-14T09:44:50.693Z"
   },
   {
    "duration": 24,
    "start_time": "2022-11-14T09:44:50.712Z"
   },
   {
    "duration": 19,
    "start_time": "2022-11-14T09:44:50.737Z"
   },
   {
    "duration": 8,
    "start_time": "2022-11-14T09:44:50.758Z"
   },
   {
    "duration": 12,
    "start_time": "2022-11-14T09:44:50.767Z"
   },
   {
    "duration": 37,
    "start_time": "2022-11-14T09:44:50.781Z"
   },
   {
    "duration": 109,
    "start_time": "2022-11-14T09:44:50.819Z"
   },
   {
    "duration": 13,
    "start_time": "2022-11-14T09:44:50.930Z"
   },
   {
    "duration": 97,
    "start_time": "2022-11-14T09:44:50.945Z"
   },
   {
    "duration": 201,
    "start_time": "2022-11-14T09:44:51.045Z"
   },
   {
    "duration": 5,
    "start_time": "2022-11-14T09:44:51.248Z"
   },
   {
    "duration": 14,
    "start_time": "2022-11-14T09:44:51.254Z"
   },
   {
    "duration": 87,
    "start_time": "2022-11-14T09:44:51.269Z"
   },
   {
    "duration": 5,
    "start_time": "2022-11-14T09:44:51.367Z"
   },
   {
    "duration": 98,
    "start_time": "2022-11-14T09:45:02.170Z"
   },
   {
    "duration": 97,
    "start_time": "2022-11-14T09:45:27.722Z"
   },
   {
    "duration": 367,
    "start_time": "2022-11-14T09:45:42.315Z"
   },
   {
    "duration": 216,
    "start_time": "2022-11-14T09:45:42.684Z"
   },
   {
    "duration": 85,
    "start_time": "2022-11-14T09:45:42.901Z"
   },
   {
    "duration": 41,
    "start_time": "2022-11-14T09:45:42.988Z"
   },
   {
    "duration": 14,
    "start_time": "2022-11-14T09:45:43.031Z"
   },
   {
    "duration": 1975,
    "start_time": "2022-11-14T09:45:43.046Z"
   },
   {
    "duration": 9,
    "start_time": "2022-11-14T09:45:45.023Z"
   },
   {
    "duration": 62,
    "start_time": "2022-11-14T09:45:45.033Z"
   },
   {
    "duration": 3,
    "start_time": "2022-11-14T09:45:45.097Z"
   },
   {
    "duration": 15,
    "start_time": "2022-11-14T09:45:45.102Z"
   },
   {
    "duration": 6,
    "start_time": "2022-11-14T09:45:45.119Z"
   },
   {
    "duration": 6,
    "start_time": "2022-11-14T09:45:45.127Z"
   },
   {
    "duration": 18,
    "start_time": "2022-11-14T09:45:45.135Z"
   },
   {
    "duration": 21,
    "start_time": "2022-11-14T09:45:45.154Z"
   },
   {
    "duration": 7,
    "start_time": "2022-11-14T09:45:45.177Z"
   },
   {
    "duration": 27,
    "start_time": "2022-11-14T09:45:45.186Z"
   },
   {
    "duration": 31,
    "start_time": "2022-11-14T09:45:45.215Z"
   },
   {
    "duration": 21,
    "start_time": "2022-11-14T09:45:45.248Z"
   },
   {
    "duration": 6,
    "start_time": "2022-11-14T09:45:45.271Z"
   },
   {
    "duration": 19,
    "start_time": "2022-11-14T09:45:45.278Z"
   },
   {
    "duration": 14,
    "start_time": "2022-11-14T09:45:45.299Z"
   },
   {
    "duration": 12,
    "start_time": "2022-11-14T09:45:45.314Z"
   },
   {
    "duration": 35,
    "start_time": "2022-11-14T09:45:45.328Z"
   },
   {
    "duration": 16,
    "start_time": "2022-11-14T09:45:45.364Z"
   },
   {
    "duration": 112,
    "start_time": "2022-11-14T09:45:45.382Z"
   },
   {
    "duration": 12,
    "start_time": "2022-11-14T09:45:45.496Z"
   },
   {
    "duration": 95,
    "start_time": "2022-11-14T09:45:45.510Z"
   },
   {
    "duration": 198,
    "start_time": "2022-11-14T09:45:45.608Z"
   },
   {
    "duration": 6,
    "start_time": "2022-11-14T09:45:45.807Z"
   },
   {
    "duration": 8,
    "start_time": "2022-11-14T09:45:45.814Z"
   },
   {
    "duration": 111,
    "start_time": "2022-11-14T09:45:45.823Z"
   },
   {
    "duration": 6,
    "start_time": "2022-11-14T09:45:45.936Z"
   },
   {
    "duration": 100,
    "start_time": "2022-11-14T09:45:54.443Z"
   },
   {
    "duration": 8,
    "start_time": "2022-11-14T09:46:18.076Z"
   },
   {
    "duration": 368,
    "start_time": "2022-11-14T09:47:58.394Z"
   },
   {
    "duration": 227,
    "start_time": "2022-11-14T09:47:58.764Z"
   },
   {
    "duration": 88,
    "start_time": "2022-11-14T09:47:58.992Z"
   },
   {
    "duration": 42,
    "start_time": "2022-11-14T09:47:59.083Z"
   },
   {
    "duration": 15,
    "start_time": "2022-11-14T09:47:59.127Z"
   },
   {
    "duration": 2070,
    "start_time": "2022-11-14T09:47:59.143Z"
   },
   {
    "duration": 9,
    "start_time": "2022-11-14T09:48:01.215Z"
   },
   {
    "duration": 82,
    "start_time": "2022-11-14T09:48:01.225Z"
   },
   {
    "duration": 3,
    "start_time": "2022-11-14T09:48:01.309Z"
   },
   {
    "duration": 34,
    "start_time": "2022-11-14T09:48:01.316Z"
   },
   {
    "duration": 6,
    "start_time": "2022-11-14T09:48:01.352Z"
   },
   {
    "duration": 28,
    "start_time": "2022-11-14T09:48:01.359Z"
   },
   {
    "duration": 29,
    "start_time": "2022-11-14T09:48:01.389Z"
   },
   {
    "duration": 15,
    "start_time": "2022-11-14T09:48:01.420Z"
   },
   {
    "duration": 13,
    "start_time": "2022-11-14T09:48:01.436Z"
   },
   {
    "duration": 24,
    "start_time": "2022-11-14T09:48:01.451Z"
   },
   {
    "duration": 19,
    "start_time": "2022-11-14T09:48:01.477Z"
   },
   {
    "duration": 25,
    "start_time": "2022-11-14T09:48:01.498Z"
   },
   {
    "duration": 6,
    "start_time": "2022-11-14T09:48:01.525Z"
   },
   {
    "duration": 19,
    "start_time": "2022-11-14T09:48:01.533Z"
   },
   {
    "duration": 35,
    "start_time": "2022-11-14T09:48:01.553Z"
   },
   {
    "duration": 40,
    "start_time": "2022-11-14T09:48:01.590Z"
   },
   {
    "duration": 20,
    "start_time": "2022-11-14T09:48:01.632Z"
   },
   {
    "duration": 30,
    "start_time": "2022-11-14T09:48:01.654Z"
   },
   {
    "duration": 140,
    "start_time": "2022-11-14T09:48:01.685Z"
   },
   {
    "duration": 15,
    "start_time": "2022-11-14T09:48:01.826Z"
   },
   {
    "duration": 97,
    "start_time": "2022-11-14T09:48:01.842Z"
   },
   {
    "duration": 216,
    "start_time": "2022-11-14T09:48:01.942Z"
   },
   {
    "duration": 11,
    "start_time": "2022-11-14T09:48:02.160Z"
   },
   {
    "duration": 28,
    "start_time": "2022-11-14T09:48:02.173Z"
   },
   {
    "duration": 16,
    "start_time": "2022-11-14T09:48:02.203Z"
   },
   {
    "duration": 15,
    "start_time": "2022-11-14T09:48:02.221Z"
   },
   {
    "duration": 5,
    "start_time": "2022-11-14T09:49:32.032Z"
   },
   {
    "duration": 5,
    "start_time": "2022-11-14T09:49:37.657Z"
   },
   {
    "duration": 5,
    "start_time": "2022-11-14T09:50:28.937Z"
   },
   {
    "duration": 5,
    "start_time": "2022-11-14T09:51:24.994Z"
   },
   {
    "duration": 403,
    "start_time": "2022-11-14T09:51:32.661Z"
   },
   {
    "duration": 225,
    "start_time": "2022-11-14T09:51:33.068Z"
   },
   {
    "duration": 91,
    "start_time": "2022-11-14T09:51:33.295Z"
   },
   {
    "duration": 41,
    "start_time": "2022-11-14T09:51:33.388Z"
   },
   {
    "duration": 15,
    "start_time": "2022-11-14T09:51:33.431Z"
   },
   {
    "duration": 2041,
    "start_time": "2022-11-14T09:51:33.448Z"
   },
   {
    "duration": 9,
    "start_time": "2022-11-14T09:51:35.491Z"
   },
   {
    "duration": 57,
    "start_time": "2022-11-14T09:51:35.502Z"
   },
   {
    "duration": 8,
    "start_time": "2022-11-14T09:51:35.560Z"
   },
   {
    "duration": 9,
    "start_time": "2022-11-14T09:51:35.569Z"
   },
   {
    "duration": 4,
    "start_time": "2022-11-14T09:51:35.580Z"
   },
   {
    "duration": 9,
    "start_time": "2022-11-14T09:51:35.586Z"
   },
   {
    "duration": 20,
    "start_time": "2022-11-14T09:51:35.597Z"
   },
   {
    "duration": 15,
    "start_time": "2022-11-14T09:51:35.620Z"
   },
   {
    "duration": 37,
    "start_time": "2022-11-14T09:51:35.636Z"
   },
   {
    "duration": 13,
    "start_time": "2022-11-14T09:51:35.674Z"
   },
   {
    "duration": 15,
    "start_time": "2022-11-14T09:51:35.689Z"
   },
   {
    "duration": 19,
    "start_time": "2022-11-14T09:51:35.705Z"
   },
   {
    "duration": 23,
    "start_time": "2022-11-14T09:51:35.726Z"
   },
   {
    "duration": 22,
    "start_time": "2022-11-14T09:51:35.751Z"
   },
   {
    "duration": 6,
    "start_time": "2022-11-14T09:51:35.775Z"
   },
   {
    "duration": 13,
    "start_time": "2022-11-14T09:51:35.783Z"
   },
   {
    "duration": 5,
    "start_time": "2022-11-14T09:51:35.798Z"
   },
   {
    "duration": 13,
    "start_time": "2022-11-14T09:51:35.805Z"
   },
   {
    "duration": 9,
    "start_time": "2022-11-14T09:51:35.819Z"
   },
   {
    "duration": 150,
    "start_time": "2022-11-14T09:51:35.829Z"
   },
   {
    "duration": 21,
    "start_time": "2022-11-14T09:51:35.983Z"
   },
   {
    "duration": 121,
    "start_time": "2022-11-14T09:51:36.007Z"
   },
   {
    "duration": 232,
    "start_time": "2022-11-14T09:51:36.130Z"
   },
   {
    "duration": 5,
    "start_time": "2022-11-14T09:51:36.369Z"
   },
   {
    "duration": 11,
    "start_time": "2022-11-14T09:51:36.375Z"
   },
   {
    "duration": 8,
    "start_time": "2022-11-14T09:51:36.388Z"
   },
   {
    "duration": 5,
    "start_time": "2022-11-14T09:51:36.398Z"
   },
   {
    "duration": 13,
    "start_time": "2022-11-14T09:53:55.621Z"
   },
   {
    "duration": 399,
    "start_time": "2022-11-14T09:54:25.432Z"
   },
   {
    "duration": 257,
    "start_time": "2022-11-14T09:54:25.833Z"
   },
   {
    "duration": 102,
    "start_time": "2022-11-14T09:54:26.092Z"
   },
   {
    "duration": 49,
    "start_time": "2022-11-14T09:54:26.197Z"
   },
   {
    "duration": 23,
    "start_time": "2022-11-14T09:54:26.247Z"
   },
   {
    "duration": 2002,
    "start_time": "2022-11-14T09:54:26.271Z"
   },
   {
    "duration": 11,
    "start_time": "2022-11-14T09:54:28.275Z"
   },
   {
    "duration": 52,
    "start_time": "2022-11-14T09:54:28.288Z"
   },
   {
    "duration": 5,
    "start_time": "2022-11-14T09:54:28.341Z"
   },
   {
    "duration": 9,
    "start_time": "2022-11-14T09:54:28.370Z"
   },
   {
    "duration": 5,
    "start_time": "2022-11-14T09:54:28.381Z"
   },
   {
    "duration": 5,
    "start_time": "2022-11-14T09:54:28.387Z"
   },
   {
    "duration": 16,
    "start_time": "2022-11-14T09:54:28.394Z"
   },
   {
    "duration": 15,
    "start_time": "2022-11-14T09:54:28.412Z"
   },
   {
    "duration": 38,
    "start_time": "2022-11-14T09:54:28.430Z"
   },
   {
    "duration": 23,
    "start_time": "2022-11-14T09:54:28.470Z"
   },
   {
    "duration": 16,
    "start_time": "2022-11-14T09:54:28.496Z"
   },
   {
    "duration": 28,
    "start_time": "2022-11-14T09:54:28.514Z"
   },
   {
    "duration": 7,
    "start_time": "2022-11-14T09:54:28.545Z"
   },
   {
    "duration": 8,
    "start_time": "2022-11-14T09:54:28.569Z"
   },
   {
    "duration": 13,
    "start_time": "2022-11-14T09:54:28.578Z"
   },
   {
    "duration": 7,
    "start_time": "2022-11-14T09:54:28.592Z"
   },
   {
    "duration": 14,
    "start_time": "2022-11-14T09:54:28.601Z"
   },
   {
    "duration": 8,
    "start_time": "2022-11-14T09:54:28.616Z"
   },
   {
    "duration": 142,
    "start_time": "2022-11-14T09:54:28.626Z"
   },
   {
    "duration": 14,
    "start_time": "2022-11-14T09:54:28.769Z"
   },
   {
    "duration": 97,
    "start_time": "2022-11-14T09:54:28.784Z"
   },
   {
    "duration": 207,
    "start_time": "2022-11-14T09:54:28.884Z"
   },
   {
    "duration": 6,
    "start_time": "2022-11-14T09:54:29.093Z"
   },
   {
    "duration": 16,
    "start_time": "2022-11-14T09:54:29.101Z"
   },
   {
    "duration": 7,
    "start_time": "2022-11-14T09:54:29.120Z"
   },
   {
    "duration": 10,
    "start_time": "2022-11-14T09:54:29.128Z"
   },
   {
    "duration": 33,
    "start_time": "2022-11-14T09:54:29.139Z"
   },
   {
    "duration": 16,
    "start_time": "2022-11-14T09:54:29.174Z"
   },
   {
    "duration": 74,
    "start_time": "2022-11-14T10:06:13.360Z"
   },
   {
    "duration": 678,
    "start_time": "2022-11-14T10:06:18.585Z"
   },
   {
    "duration": 407,
    "start_time": "2022-11-14T10:06:24.963Z"
   },
   {
    "duration": 237,
    "start_time": "2022-11-14T10:06:25.372Z"
   },
   {
    "duration": 91,
    "start_time": "2022-11-14T10:06:25.611Z"
   },
   {
    "duration": 41,
    "start_time": "2022-11-14T10:06:25.704Z"
   },
   {
    "duration": 27,
    "start_time": "2022-11-14T10:06:25.748Z"
   },
   {
    "duration": 1999,
    "start_time": "2022-11-14T10:06:25.778Z"
   },
   {
    "duration": 8,
    "start_time": "2022-11-14T10:06:27.779Z"
   },
   {
    "duration": 50,
    "start_time": "2022-11-14T10:06:27.789Z"
   },
   {
    "duration": 4,
    "start_time": "2022-11-14T10:06:27.840Z"
   },
   {
    "duration": 27,
    "start_time": "2022-11-14T10:06:27.845Z"
   },
   {
    "duration": 4,
    "start_time": "2022-11-14T10:06:27.874Z"
   },
   {
    "duration": 8,
    "start_time": "2022-11-14T10:06:27.880Z"
   },
   {
    "duration": 1288,
    "start_time": "2022-11-14T10:06:27.890Z"
   },
   {
    "duration": 16,
    "start_time": "2022-11-14T10:06:29.180Z"
   },
   {
    "duration": 13,
    "start_time": "2022-11-14T10:06:29.197Z"
   },
   {
    "duration": 10,
    "start_time": "2022-11-14T10:06:29.212Z"
   },
   {
    "duration": 12,
    "start_time": "2022-11-14T10:06:29.223Z"
   },
   {
    "duration": 40,
    "start_time": "2022-11-14T10:06:29.237Z"
   },
   {
    "duration": 23,
    "start_time": "2022-11-14T10:06:29.279Z"
   },
   {
    "duration": 8,
    "start_time": "2022-11-14T10:06:29.304Z"
   },
   {
    "duration": 7,
    "start_time": "2022-11-14T10:06:29.314Z"
   },
   {
    "duration": 10,
    "start_time": "2022-11-14T10:06:29.323Z"
   },
   {
    "duration": 33,
    "start_time": "2022-11-14T10:06:29.335Z"
   },
   {
    "duration": 16,
    "start_time": "2022-11-14T10:06:29.370Z"
   },
   {
    "duration": 13,
    "start_time": "2022-11-14T10:06:29.388Z"
   },
   {
    "duration": 131,
    "start_time": "2022-11-14T10:06:29.402Z"
   },
   {
    "duration": 15,
    "start_time": "2022-11-14T10:06:29.534Z"
   },
   {
    "duration": 112,
    "start_time": "2022-11-14T10:06:29.550Z"
   },
   {
    "duration": 240,
    "start_time": "2022-11-14T10:06:29.664Z"
   },
   {
    "duration": 7,
    "start_time": "2022-11-14T10:06:29.907Z"
   },
   {
    "duration": 23,
    "start_time": "2022-11-14T10:06:29.915Z"
   },
   {
    "duration": 6,
    "start_time": "2022-11-14T10:06:29.939Z"
   },
   {
    "duration": 29,
    "start_time": "2022-11-14T10:06:29.947Z"
   },
   {
    "duration": 5,
    "start_time": "2022-11-14T10:06:29.978Z"
   },
   {
    "duration": 19,
    "start_time": "2022-11-14T10:06:29.984Z"
   },
   {
    "duration": 48,
    "start_time": "2022-11-14T10:08:57.038Z"
   },
   {
    "duration": 377,
    "start_time": "2022-11-14T10:09:12.594Z"
   },
   {
    "duration": 247,
    "start_time": "2022-11-14T10:09:12.973Z"
   },
   {
    "duration": 91,
    "start_time": "2022-11-14T10:09:13.222Z"
   },
   {
    "duration": 44,
    "start_time": "2022-11-14T10:09:13.315Z"
   },
   {
    "duration": 17,
    "start_time": "2022-11-14T10:09:13.362Z"
   },
   {
    "duration": 2076,
    "start_time": "2022-11-14T10:09:13.381Z"
   },
   {
    "duration": 8,
    "start_time": "2022-11-14T10:09:15.459Z"
   },
   {
    "duration": 52,
    "start_time": "2022-11-14T10:09:15.469Z"
   },
   {
    "duration": 4,
    "start_time": "2022-11-14T10:09:15.523Z"
   },
   {
    "duration": 12,
    "start_time": "2022-11-14T10:09:15.528Z"
   },
   {
    "duration": 3,
    "start_time": "2022-11-14T10:09:15.542Z"
   },
   {
    "duration": 22,
    "start_time": "2022-11-14T10:09:15.547Z"
   },
   {
    "duration": 51,
    "start_time": "2022-11-14T10:09:15.571Z"
   },
   {
    "duration": 0,
    "start_time": "2022-11-14T10:09:15.624Z"
   },
   {
    "duration": 0,
    "start_time": "2022-11-14T10:09:15.626Z"
   },
   {
    "duration": 0,
    "start_time": "2022-11-14T10:09:15.627Z"
   },
   {
    "duration": 0,
    "start_time": "2022-11-14T10:09:15.628Z"
   },
   {
    "duration": 0,
    "start_time": "2022-11-14T10:09:15.629Z"
   },
   {
    "duration": 0,
    "start_time": "2022-11-14T10:09:15.630Z"
   },
   {
    "duration": 0,
    "start_time": "2022-11-14T10:09:15.631Z"
   },
   {
    "duration": 0,
    "start_time": "2022-11-14T10:09:15.632Z"
   },
   {
    "duration": 0,
    "start_time": "2022-11-14T10:09:15.633Z"
   },
   {
    "duration": 0,
    "start_time": "2022-11-14T10:09:15.634Z"
   },
   {
    "duration": 0,
    "start_time": "2022-11-14T10:09:15.635Z"
   },
   {
    "duration": 0,
    "start_time": "2022-11-14T10:09:15.636Z"
   },
   {
    "duration": 0,
    "start_time": "2022-11-14T10:09:15.637Z"
   },
   {
    "duration": 0,
    "start_time": "2022-11-14T10:09:15.638Z"
   },
   {
    "duration": 0,
    "start_time": "2022-11-14T10:09:15.639Z"
   },
   {
    "duration": 0,
    "start_time": "2022-11-14T10:09:15.640Z"
   },
   {
    "duration": 0,
    "start_time": "2022-11-14T10:09:15.641Z"
   },
   {
    "duration": 0,
    "start_time": "2022-11-14T10:09:15.642Z"
   },
   {
    "duration": 0,
    "start_time": "2022-11-14T10:09:15.643Z"
   },
   {
    "duration": 0,
    "start_time": "2022-11-14T10:09:15.644Z"
   },
   {
    "duration": 0,
    "start_time": "2022-11-14T10:09:15.645Z"
   },
   {
    "duration": 0,
    "start_time": "2022-11-14T10:09:15.646Z"
   },
   {
    "duration": 62,
    "start_time": "2022-11-14T10:10:20.838Z"
   },
   {
    "duration": 88,
    "start_time": "2022-11-14T10:10:28.574Z"
   },
   {
    "duration": 1297,
    "start_time": "2022-11-14T10:10:50.015Z"
   },
   {
    "duration": 1288,
    "start_time": "2022-11-14T10:10:59.631Z"
   },
   {
    "duration": 368,
    "start_time": "2022-11-14T10:11:41.308Z"
   },
   {
    "duration": 237,
    "start_time": "2022-11-14T10:11:41.678Z"
   },
   {
    "duration": 88,
    "start_time": "2022-11-14T10:11:41.917Z"
   },
   {
    "duration": 40,
    "start_time": "2022-11-14T10:11:42.006Z"
   },
   {
    "duration": 30,
    "start_time": "2022-11-14T10:11:42.048Z"
   },
   {
    "duration": 1937,
    "start_time": "2022-11-14T10:11:42.080Z"
   },
   {
    "duration": 8,
    "start_time": "2022-11-14T10:11:44.019Z"
   },
   {
    "duration": 58,
    "start_time": "2022-11-14T10:11:44.029Z"
   },
   {
    "duration": 4,
    "start_time": "2022-11-14T10:11:44.090Z"
   },
   {
    "duration": 13,
    "start_time": "2022-11-14T10:11:44.095Z"
   },
   {
    "duration": 3,
    "start_time": "2022-11-14T10:11:44.111Z"
   },
   {
    "duration": 5,
    "start_time": "2022-11-14T10:11:44.116Z"
   },
   {
    "duration": 1309,
    "start_time": "2022-11-14T10:11:44.123Z"
   },
   {
    "duration": 14,
    "start_time": "2022-11-14T10:11:45.434Z"
   },
   {
    "duration": 30,
    "start_time": "2022-11-14T10:11:45.450Z"
   },
   {
    "duration": 7,
    "start_time": "2022-11-14T10:11:45.482Z"
   },
   {
    "duration": 14,
    "start_time": "2022-11-14T10:11:45.491Z"
   },
   {
    "duration": 14,
    "start_time": "2022-11-14T10:11:45.506Z"
   },
   {
    "duration": 21,
    "start_time": "2022-11-14T10:11:45.522Z"
   },
   {
    "duration": 7,
    "start_time": "2022-11-14T10:11:45.568Z"
   },
   {
    "duration": 9,
    "start_time": "2022-11-14T10:11:45.577Z"
   },
   {
    "duration": 13,
    "start_time": "2022-11-14T10:11:45.587Z"
   },
   {
    "duration": 3,
    "start_time": "2022-11-14T10:11:45.602Z"
   },
   {
    "duration": 14,
    "start_time": "2022-11-14T10:11:45.607Z"
   },
   {
    "duration": 10,
    "start_time": "2022-11-14T10:11:45.623Z"
   },
   {
    "duration": 145,
    "start_time": "2022-11-14T10:11:45.635Z"
   },
   {
    "duration": 13,
    "start_time": "2022-11-14T10:11:45.784Z"
   },
   {
    "duration": 104,
    "start_time": "2022-11-14T10:11:45.799Z"
   },
   {
    "duration": 220,
    "start_time": "2022-11-14T10:11:45.905Z"
   },
   {
    "duration": 6,
    "start_time": "2022-11-14T10:11:46.126Z"
   },
   {
    "duration": 19,
    "start_time": "2022-11-14T10:11:46.133Z"
   },
   {
    "duration": 19,
    "start_time": "2022-11-14T10:11:46.153Z"
   },
   {
    "duration": 9,
    "start_time": "2022-11-14T10:11:46.174Z"
   },
   {
    "duration": 5,
    "start_time": "2022-11-14T10:11:46.185Z"
   },
   {
    "duration": 16,
    "start_time": "2022-11-14T10:11:46.191Z"
   },
   {
    "duration": 839,
    "start_time": "2022-11-14T10:15:15.058Z"
   },
   {
    "duration": 389,
    "start_time": "2022-11-14T10:15:26.017Z"
   },
   {
    "duration": 277,
    "start_time": "2022-11-14T10:15:26.409Z"
   },
   {
    "duration": 103,
    "start_time": "2022-11-14T10:15:26.688Z"
   },
   {
    "duration": 75,
    "start_time": "2022-11-14T10:15:26.793Z"
   },
   {
    "duration": 16,
    "start_time": "2022-11-14T10:15:26.870Z"
   },
   {
    "duration": 2029,
    "start_time": "2022-11-14T10:15:26.888Z"
   },
   {
    "duration": 11,
    "start_time": "2022-11-14T10:15:28.919Z"
   },
   {
    "duration": 91,
    "start_time": "2022-11-14T10:15:28.931Z"
   },
   {
    "duration": 3,
    "start_time": "2022-11-14T10:15:29.024Z"
   },
   {
    "duration": 25,
    "start_time": "2022-11-14T10:15:29.029Z"
   },
   {
    "duration": 18,
    "start_time": "2022-11-14T10:15:29.055Z"
   },
   {
    "duration": 7,
    "start_time": "2022-11-14T10:15:29.074Z"
   },
   {
    "duration": 1266,
    "start_time": "2022-11-14T10:15:29.082Z"
   },
   {
    "duration": 28,
    "start_time": "2022-11-14T10:15:30.350Z"
   },
   {
    "duration": 52,
    "start_time": "2022-11-14T10:15:30.380Z"
   },
   {
    "duration": 51,
    "start_time": "2022-11-14T10:15:30.434Z"
   },
   {
    "duration": 95,
    "start_time": "2022-11-14T10:15:30.487Z"
   },
   {
    "duration": 27,
    "start_time": "2022-11-14T10:15:30.584Z"
   },
   {
    "duration": 76,
    "start_time": "2022-11-14T10:15:30.613Z"
   },
   {
    "duration": 21,
    "start_time": "2022-11-14T10:15:30.690Z"
   },
   {
    "duration": 31,
    "start_time": "2022-11-14T10:15:30.713Z"
   },
   {
    "duration": 47,
    "start_time": "2022-11-14T10:15:30.746Z"
   },
   {
    "duration": 57,
    "start_time": "2022-11-14T10:15:30.795Z"
   },
   {
    "duration": 33,
    "start_time": "2022-11-14T10:15:30.853Z"
   },
   {
    "duration": 43,
    "start_time": "2022-11-14T10:15:30.888Z"
   },
   {
    "duration": 157,
    "start_time": "2022-11-14T10:15:30.933Z"
   },
   {
    "duration": 15,
    "start_time": "2022-11-14T10:15:31.092Z"
   },
   {
    "duration": 136,
    "start_time": "2022-11-14T10:15:31.109Z"
   },
   {
    "duration": 204,
    "start_time": "2022-11-14T10:15:31.246Z"
   },
   {
    "duration": 17,
    "start_time": "2022-11-14T10:15:31.452Z"
   },
   {
    "duration": 15,
    "start_time": "2022-11-14T10:15:31.470Z"
   },
   {
    "duration": 18,
    "start_time": "2022-11-14T10:15:31.487Z"
   },
   {
    "duration": 12,
    "start_time": "2022-11-14T10:15:31.507Z"
   },
   {
    "duration": 44,
    "start_time": "2022-11-14T10:15:31.520Z"
   },
   {
    "duration": 18,
    "start_time": "2022-11-14T10:15:31.566Z"
   },
   {
    "duration": 16,
    "start_time": "2022-11-14T10:24:27.962Z"
   },
   {
    "duration": 416,
    "start_time": "2022-11-14T10:25:13.400Z"
   },
   {
    "duration": 231,
    "start_time": "2022-11-14T10:25:13.818Z"
   },
   {
    "duration": 92,
    "start_time": "2022-11-14T10:25:14.051Z"
   },
   {
    "duration": 40,
    "start_time": "2022-11-14T10:25:14.145Z"
   },
   {
    "duration": 15,
    "start_time": "2022-11-14T10:25:14.187Z"
   },
   {
    "duration": 2178,
    "start_time": "2022-11-14T10:25:14.203Z"
   },
   {
    "duration": 13,
    "start_time": "2022-11-14T10:25:16.384Z"
   },
   {
    "duration": 59,
    "start_time": "2022-11-14T10:25:16.400Z"
   },
   {
    "duration": 8,
    "start_time": "2022-11-14T10:25:16.461Z"
   },
   {
    "duration": 30,
    "start_time": "2022-11-14T10:25:16.471Z"
   },
   {
    "duration": 5,
    "start_time": "2022-11-14T10:25:16.503Z"
   },
   {
    "duration": 18,
    "start_time": "2022-11-14T10:25:16.509Z"
   },
   {
    "duration": 1299,
    "start_time": "2022-11-14T10:25:16.529Z"
   },
   {
    "duration": 16,
    "start_time": "2022-11-14T10:25:17.829Z"
   },
   {
    "duration": 30,
    "start_time": "2022-11-14T10:25:17.846Z"
   },
   {
    "duration": 8,
    "start_time": "2022-11-14T10:25:17.878Z"
   },
   {
    "duration": 14,
    "start_time": "2022-11-14T10:25:17.888Z"
   },
   {
    "duration": 14,
    "start_time": "2022-11-14T10:25:17.903Z"
   },
   {
    "duration": 23,
    "start_time": "2022-11-14T10:25:17.919Z"
   },
   {
    "duration": 8,
    "start_time": "2022-11-14T10:25:17.969Z"
   },
   {
    "duration": 7,
    "start_time": "2022-11-14T10:25:17.979Z"
   },
   {
    "duration": 11,
    "start_time": "2022-11-14T10:25:17.988Z"
   },
   {
    "duration": 4,
    "start_time": "2022-11-14T10:25:18.002Z"
   },
   {
    "duration": 23,
    "start_time": "2022-11-14T10:25:18.008Z"
   },
   {
    "duration": 11,
    "start_time": "2022-11-14T10:25:18.033Z"
   },
   {
    "duration": 127,
    "start_time": "2022-11-14T10:25:18.068Z"
   },
   {
    "duration": 14,
    "start_time": "2022-11-14T10:25:18.197Z"
   },
   {
    "duration": 99,
    "start_time": "2022-11-14T10:25:18.213Z"
   },
   {
    "duration": 218,
    "start_time": "2022-11-14T10:25:18.313Z"
   },
   {
    "duration": 5,
    "start_time": "2022-11-14T10:25:18.533Z"
   },
   {
    "duration": 30,
    "start_time": "2022-11-14T10:25:18.540Z"
   },
   {
    "duration": 8,
    "start_time": "2022-11-14T10:25:18.572Z"
   },
   {
    "duration": 10,
    "start_time": "2022-11-14T10:25:18.582Z"
   },
   {
    "duration": 6,
    "start_time": "2022-11-14T10:25:18.593Z"
   },
   {
    "duration": 18,
    "start_time": "2022-11-14T10:25:18.600Z"
   },
   {
    "duration": 6,
    "start_time": "2022-11-14T10:26:20.809Z"
   },
   {
    "duration": 6,
    "start_time": "2022-11-14T10:26:30.336Z"
   },
   {
    "duration": 5,
    "start_time": "2022-11-14T10:26:38.025Z"
   },
   {
    "duration": 16,
    "start_time": "2022-11-14T10:27:30.682Z"
   },
   {
    "duration": 391,
    "start_time": "2022-11-14T10:27:38.680Z"
   },
   {
    "duration": 227,
    "start_time": "2022-11-14T10:27:39.073Z"
   },
   {
    "duration": 91,
    "start_time": "2022-11-14T10:27:39.302Z"
   },
   {
    "duration": 42,
    "start_time": "2022-11-14T10:27:39.396Z"
   },
   {
    "duration": 32,
    "start_time": "2022-11-14T10:27:39.440Z"
   },
   {
    "duration": 2012,
    "start_time": "2022-11-14T10:27:39.473Z"
   },
   {
    "duration": 9,
    "start_time": "2022-11-14T10:27:41.487Z"
   },
   {
    "duration": 66,
    "start_time": "2022-11-14T10:27:41.498Z"
   },
   {
    "duration": 4,
    "start_time": "2022-11-14T10:27:41.566Z"
   },
   {
    "duration": 15,
    "start_time": "2022-11-14T10:27:41.574Z"
   },
   {
    "duration": 23,
    "start_time": "2022-11-14T10:27:41.590Z"
   },
   {
    "duration": 9,
    "start_time": "2022-11-14T10:27:41.615Z"
   },
   {
    "duration": 1294,
    "start_time": "2022-11-14T10:27:41.625Z"
   },
   {
    "duration": 14,
    "start_time": "2022-11-14T10:27:42.921Z"
   },
   {
    "duration": 31,
    "start_time": "2022-11-14T10:27:42.937Z"
   },
   {
    "duration": 9,
    "start_time": "2022-11-14T10:27:42.969Z"
   },
   {
    "duration": 17,
    "start_time": "2022-11-14T10:27:42.980Z"
   },
   {
    "duration": 14,
    "start_time": "2022-11-14T10:27:42.999Z"
   },
   {
    "duration": 22,
    "start_time": "2022-11-14T10:27:43.014Z"
   },
   {
    "duration": 6,
    "start_time": "2022-11-14T10:27:43.038Z"
   },
   {
    "duration": 7,
    "start_time": "2022-11-14T10:27:43.068Z"
   },
   {
    "duration": 12,
    "start_time": "2022-11-14T10:27:43.077Z"
   },
   {
    "duration": 6,
    "start_time": "2022-11-14T10:27:43.090Z"
   },
   {
    "duration": 15,
    "start_time": "2022-11-14T10:27:43.097Z"
   },
   {
    "duration": 7,
    "start_time": "2022-11-14T10:27:43.114Z"
   },
   {
    "duration": 140,
    "start_time": "2022-11-14T10:27:43.123Z"
   },
   {
    "duration": 13,
    "start_time": "2022-11-14T10:27:43.268Z"
   },
   {
    "duration": 100,
    "start_time": "2022-11-14T10:27:43.284Z"
   },
   {
    "duration": 227,
    "start_time": "2022-11-14T10:27:43.386Z"
   },
   {
    "duration": 6,
    "start_time": "2022-11-14T10:27:43.615Z"
   },
   {
    "duration": 26,
    "start_time": "2022-11-14T10:27:43.622Z"
   },
   {
    "duration": 7,
    "start_time": "2022-11-14T10:27:43.649Z"
   },
   {
    "duration": 9,
    "start_time": "2022-11-14T10:27:43.667Z"
   },
   {
    "duration": 5,
    "start_time": "2022-11-14T10:27:43.678Z"
   },
   {
    "duration": 17,
    "start_time": "2022-11-14T10:27:43.684Z"
   },
   {
    "duration": 400,
    "start_time": "2022-11-14T10:28:56.863Z"
   },
   {
    "duration": 224,
    "start_time": "2022-11-14T10:28:57.265Z"
   },
   {
    "duration": 90,
    "start_time": "2022-11-14T10:28:57.491Z"
   },
   {
    "duration": 41,
    "start_time": "2022-11-14T10:28:57.584Z"
   },
   {
    "duration": 14,
    "start_time": "2022-11-14T10:28:57.628Z"
   },
   {
    "duration": 2137,
    "start_time": "2022-11-14T10:28:57.644Z"
   },
   {
    "duration": 9,
    "start_time": "2022-11-14T10:28:59.783Z"
   },
   {
    "duration": 49,
    "start_time": "2022-11-14T10:28:59.794Z"
   },
   {
    "duration": 4,
    "start_time": "2022-11-14T10:28:59.845Z"
   },
   {
    "duration": 19,
    "start_time": "2022-11-14T10:28:59.851Z"
   },
   {
    "duration": 4,
    "start_time": "2022-11-14T10:28:59.871Z"
   },
   {
    "duration": 9,
    "start_time": "2022-11-14T10:28:59.877Z"
   },
   {
    "duration": 1392,
    "start_time": "2022-11-14T10:28:59.888Z"
   },
   {
    "duration": 16,
    "start_time": "2022-11-14T10:29:01.282Z"
   },
   {
    "duration": 16,
    "start_time": "2022-11-14T10:29:01.299Z"
   },
   {
    "duration": 13,
    "start_time": "2022-11-14T10:29:01.316Z"
   },
   {
    "duration": 23,
    "start_time": "2022-11-14T10:29:01.330Z"
   },
   {
    "duration": 40,
    "start_time": "2022-11-14T10:29:01.355Z"
   },
   {
    "duration": 23,
    "start_time": "2022-11-14T10:29:01.397Z"
   },
   {
    "duration": 7,
    "start_time": "2022-11-14T10:29:01.422Z"
   },
   {
    "duration": 22,
    "start_time": "2022-11-14T10:29:01.431Z"
   },
   {
    "duration": 51,
    "start_time": "2022-11-14T10:29:01.454Z"
   },
   {
    "duration": 26,
    "start_time": "2022-11-14T10:29:01.506Z"
   },
   {
    "duration": 34,
    "start_time": "2022-11-14T10:29:01.534Z"
   },
   {
    "duration": 19,
    "start_time": "2022-11-14T10:29:01.570Z"
   },
   {
    "duration": 128,
    "start_time": "2022-11-14T10:29:01.590Z"
   },
   {
    "duration": 15,
    "start_time": "2022-11-14T10:29:01.720Z"
   },
   {
    "duration": 99,
    "start_time": "2022-11-14T10:29:01.738Z"
   },
   {
    "duration": 239,
    "start_time": "2022-11-14T10:29:01.839Z"
   },
   {
    "duration": 3,
    "start_time": "2022-11-14T10:29:02.080Z"
   },
   {
    "duration": 17,
    "start_time": "2022-11-14T10:29:02.085Z"
   },
   {
    "duration": 28,
    "start_time": "2022-11-14T10:29:02.104Z"
   },
   {
    "duration": 20,
    "start_time": "2022-11-14T10:29:02.133Z"
   },
   {
    "duration": 11,
    "start_time": "2022-11-14T10:29:02.155Z"
   },
   {
    "duration": 13,
    "start_time": "2022-11-14T10:29:02.169Z"
   },
   {
    "duration": 881,
    "start_time": "2022-11-14T10:29:24.197Z"
   },
   {
    "duration": 6,
    "start_time": "2022-11-14T10:29:36.101Z"
   },
   {
    "duration": 6,
    "start_time": "2022-11-14T10:29:43.701Z"
   },
   {
    "duration": 41,
    "start_time": "2022-11-14T10:32:42.001Z"
   },
   {
    "duration": 7,
    "start_time": "2022-11-14T10:37:40.458Z"
   },
   {
    "duration": 3,
    "start_time": "2022-11-14T10:40:28.040Z"
   },
   {
    "duration": 1179,
    "start_time": "2022-11-14T10:41:41.773Z"
   },
   {
    "duration": 1205,
    "start_time": "2022-11-14T10:41:44.123Z"
   },
   {
    "duration": 428,
    "start_time": "2022-11-14T10:42:05.243Z"
   },
   {
    "duration": 228,
    "start_time": "2022-11-14T10:42:05.673Z"
   },
   {
    "duration": 3,
    "start_time": "2022-11-14T10:42:05.902Z"
   },
   {
    "duration": 121,
    "start_time": "2022-11-14T10:42:05.907Z"
   },
   {
    "duration": 66,
    "start_time": "2022-11-14T10:42:06.031Z"
   },
   {
    "duration": 17,
    "start_time": "2022-11-14T10:42:06.100Z"
   },
   {
    "duration": 2130,
    "start_time": "2022-11-14T10:42:06.119Z"
   },
   {
    "duration": 9,
    "start_time": "2022-11-14T10:42:08.251Z"
   },
   {
    "duration": 68,
    "start_time": "2022-11-14T10:42:08.262Z"
   },
   {
    "duration": 4,
    "start_time": "2022-11-14T10:42:08.332Z"
   },
   {
    "duration": 18,
    "start_time": "2022-11-14T10:42:08.337Z"
   },
   {
    "duration": 41,
    "start_time": "2022-11-14T10:42:08.357Z"
   },
   {
    "duration": 30,
    "start_time": "2022-11-14T10:42:08.400Z"
   },
   {
    "duration": 10,
    "start_time": "2022-11-14T10:42:08.432Z"
   },
   {
    "duration": 1310,
    "start_time": "2022-11-14T10:42:08.444Z"
   },
   {
    "duration": 44,
    "start_time": "2022-11-14T10:42:09.756Z"
   },
   {
    "duration": 15,
    "start_time": "2022-11-14T10:42:09.802Z"
   },
   {
    "duration": 13,
    "start_time": "2022-11-14T10:42:09.818Z"
   },
   {
    "duration": 13,
    "start_time": "2022-11-14T10:42:09.833Z"
   },
   {
    "duration": 10,
    "start_time": "2022-11-14T10:42:09.868Z"
   },
   {
    "duration": 14,
    "start_time": "2022-11-14T10:42:09.880Z"
   },
   {
    "duration": 21,
    "start_time": "2022-11-14T10:42:09.896Z"
   },
   {
    "duration": 7,
    "start_time": "2022-11-14T10:42:09.918Z"
   },
   {
    "duration": 10,
    "start_time": "2022-11-14T10:42:09.927Z"
   },
   {
    "duration": 11,
    "start_time": "2022-11-14T10:42:09.969Z"
   },
   {
    "duration": 12,
    "start_time": "2022-11-14T10:42:09.981Z"
   },
   {
    "duration": 16,
    "start_time": "2022-11-14T10:42:09.995Z"
   },
   {
    "duration": 25,
    "start_time": "2022-11-14T10:42:10.015Z"
   },
   {
    "duration": 127,
    "start_time": "2022-11-14T10:42:10.041Z"
   },
   {
    "duration": 15,
    "start_time": "2022-11-14T10:42:10.169Z"
   },
   {
    "duration": 100,
    "start_time": "2022-11-14T10:42:10.185Z"
   },
   {
    "duration": 228,
    "start_time": "2022-11-14T10:42:10.287Z"
   },
   {
    "duration": 2,
    "start_time": "2022-11-14T10:42:10.517Z"
   },
   {
    "duration": 5,
    "start_time": "2022-11-14T10:42:10.521Z"
   },
   {
    "duration": 5,
    "start_time": "2022-11-14T10:42:10.527Z"
   },
   {
    "duration": 9,
    "start_time": "2022-11-14T10:42:10.534Z"
   },
   {
    "duration": 4,
    "start_time": "2022-11-14T10:42:10.545Z"
   },
   {
    "duration": 6,
    "start_time": "2022-11-14T10:42:10.551Z"
   },
   {
    "duration": 1052,
    "start_time": "2022-11-14T10:42:39.869Z"
   },
   {
    "duration": 4,
    "start_time": "2022-11-14T10:43:42.318Z"
   },
   {
    "duration": 8,
    "start_time": "2022-11-14T10:45:37.936Z"
   },
   {
    "duration": 17,
    "start_time": "2022-11-14T10:45:40.216Z"
   },
   {
    "duration": 218,
    "start_time": "2022-11-14T11:01:50.434Z"
   },
   {
    "duration": 84,
    "start_time": "2022-11-14T11:02:08.323Z"
   },
   {
    "duration": 396,
    "start_time": "2022-11-14T11:02:56.666Z"
   },
   {
    "duration": 225,
    "start_time": "2022-11-14T11:02:57.064Z"
   },
   {
    "duration": 3,
    "start_time": "2022-11-14T11:02:57.290Z"
   },
   {
    "duration": 94,
    "start_time": "2022-11-14T11:02:57.295Z"
   },
   {
    "duration": 42,
    "start_time": "2022-11-14T11:02:57.391Z"
   },
   {
    "duration": 15,
    "start_time": "2022-11-14T11:02:57.434Z"
   },
   {
    "duration": 2011,
    "start_time": "2022-11-14T11:02:57.450Z"
   },
   {
    "duration": 9,
    "start_time": "2022-11-14T11:02:59.463Z"
   },
   {
    "duration": 54,
    "start_time": "2022-11-14T11:02:59.474Z"
   },
   {
    "duration": 3,
    "start_time": "2022-11-14T11:02:59.532Z"
   },
   {
    "duration": 32,
    "start_time": "2022-11-14T11:02:59.537Z"
   },
   {
    "duration": 9,
    "start_time": "2022-11-14T11:02:59.571Z"
   },
   {
    "duration": 3,
    "start_time": "2022-11-14T11:02:59.582Z"
   },
   {
    "duration": 9,
    "start_time": "2022-11-14T11:02:59.587Z"
   },
   {
    "duration": 6,
    "start_time": "2022-11-14T11:02:59.598Z"
   },
   {
    "duration": 6,
    "start_time": "2022-11-14T11:02:59.606Z"
   },
   {
    "duration": 12,
    "start_time": "2022-11-14T11:02:59.613Z"
   },
   {
    "duration": 14,
    "start_time": "2022-11-14T11:02:59.626Z"
   },
   {
    "duration": 32,
    "start_time": "2022-11-14T11:02:59.642Z"
   },
   {
    "duration": 6,
    "start_time": "2022-11-14T11:02:59.675Z"
   },
   {
    "duration": 14,
    "start_time": "2022-11-14T11:02:59.682Z"
   },
   {
    "duration": 14,
    "start_time": "2022-11-14T11:02:59.697Z"
   },
   {
    "duration": 16,
    "start_time": "2022-11-14T11:02:59.712Z"
   },
   {
    "duration": 5,
    "start_time": "2022-11-14T11:02:59.729Z"
   },
   {
    "duration": 39,
    "start_time": "2022-11-14T11:02:59.736Z"
   },
   {
    "duration": 8,
    "start_time": "2022-11-14T11:02:59.777Z"
   },
   {
    "duration": 4,
    "start_time": "2022-11-14T11:02:59.786Z"
   },
   {
    "duration": 12,
    "start_time": "2022-11-14T11:02:59.793Z"
   },
   {
    "duration": 20,
    "start_time": "2022-11-14T11:02:59.806Z"
   },
   {
    "duration": 81,
    "start_time": "2022-11-14T11:02:59.828Z"
   },
   {
    "duration": 10,
    "start_time": "2022-11-14T11:02:59.911Z"
   },
   {
    "duration": 80,
    "start_time": "2022-11-14T11:02:59.922Z"
   },
   {
    "duration": 217,
    "start_time": "2022-11-14T11:03:00.004Z"
   },
   {
    "duration": 3,
    "start_time": "2022-11-14T11:03:00.222Z"
   },
   {
    "duration": 31,
    "start_time": "2022-11-14T11:03:00.227Z"
   },
   {
    "duration": 20,
    "start_time": "2022-11-14T11:03:00.260Z"
   },
   {
    "duration": 27,
    "start_time": "2022-11-14T11:03:00.282Z"
   },
   {
    "duration": 36,
    "start_time": "2022-11-14T11:03:00.311Z"
   },
   {
    "duration": 25,
    "start_time": "2022-11-14T11:03:00.349Z"
   },
   {
    "duration": 381,
    "start_time": "2022-11-14T11:03:55.387Z"
   },
   {
    "duration": 231,
    "start_time": "2022-11-14T11:03:55.770Z"
   },
   {
    "duration": 3,
    "start_time": "2022-11-14T11:03:56.002Z"
   },
   {
    "duration": 105,
    "start_time": "2022-11-14T11:03:56.007Z"
   },
   {
    "duration": 42,
    "start_time": "2022-11-14T11:03:56.113Z"
   },
   {
    "duration": 23,
    "start_time": "2022-11-14T11:03:56.157Z"
   },
   {
    "duration": 2055,
    "start_time": "2022-11-14T11:03:56.182Z"
   },
   {
    "duration": 9,
    "start_time": "2022-11-14T11:03:58.239Z"
   },
   {
    "duration": 56,
    "start_time": "2022-11-14T11:03:58.250Z"
   },
   {
    "duration": 4,
    "start_time": "2022-11-14T11:03:58.308Z"
   },
   {
    "duration": 11,
    "start_time": "2022-11-14T11:03:58.313Z"
   },
   {
    "duration": 9,
    "start_time": "2022-11-14T11:03:58.326Z"
   },
   {
    "duration": 3,
    "start_time": "2022-11-14T11:03:58.337Z"
   },
   {
    "duration": 7,
    "start_time": "2022-11-14T11:03:58.341Z"
   },
   {
    "duration": 20,
    "start_time": "2022-11-14T11:03:58.350Z"
   },
   {
    "duration": 20,
    "start_time": "2022-11-14T11:03:58.372Z"
   },
   {
    "duration": 17,
    "start_time": "2022-11-14T11:03:58.394Z"
   },
   {
    "duration": 23,
    "start_time": "2022-11-14T11:03:58.413Z"
   },
   {
    "duration": 14,
    "start_time": "2022-11-14T11:03:58.437Z"
   },
   {
    "duration": 9,
    "start_time": "2022-11-14T11:03:58.452Z"
   },
   {
    "duration": 19,
    "start_time": "2022-11-14T11:03:58.462Z"
   },
   {
    "duration": 14,
    "start_time": "2022-11-14T11:03:58.484Z"
   },
   {
    "duration": 23,
    "start_time": "2022-11-14T11:03:58.500Z"
   },
   {
    "duration": 6,
    "start_time": "2022-11-14T11:03:58.525Z"
   },
   {
    "duration": 11,
    "start_time": "2022-11-14T11:03:58.533Z"
   },
   {
    "duration": 25,
    "start_time": "2022-11-14T11:03:58.546Z"
   },
   {
    "duration": 3,
    "start_time": "2022-11-14T11:03:58.572Z"
   },
   {
    "duration": 16,
    "start_time": "2022-11-14T11:03:58.578Z"
   },
   {
    "duration": 18,
    "start_time": "2022-11-14T11:03:58.596Z"
   },
   {
    "duration": 117,
    "start_time": "2022-11-14T11:03:58.615Z"
   },
   {
    "duration": 13,
    "start_time": "2022-11-14T11:03:58.734Z"
   },
   {
    "duration": 96,
    "start_time": "2022-11-14T11:03:58.749Z"
   },
   {
    "duration": 210,
    "start_time": "2022-11-14T11:03:58.847Z"
   },
   {
    "duration": 3,
    "start_time": "2022-11-14T11:03:59.067Z"
   },
   {
    "duration": 18,
    "start_time": "2022-11-14T11:03:59.071Z"
   },
   {
    "duration": 10,
    "start_time": "2022-11-14T11:03:59.091Z"
   },
   {
    "duration": 16,
    "start_time": "2022-11-14T11:03:59.102Z"
   },
   {
    "duration": 9,
    "start_time": "2022-11-14T11:03:59.119Z"
   },
   {
    "duration": 16,
    "start_time": "2022-11-14T11:03:59.129Z"
   },
   {
    "duration": 369,
    "start_time": "2022-11-14T11:05:07.330Z"
   },
   {
    "duration": 246,
    "start_time": "2022-11-14T11:05:07.701Z"
   },
   {
    "duration": 3,
    "start_time": "2022-11-14T11:05:07.949Z"
   },
   {
    "duration": 103,
    "start_time": "2022-11-14T11:05:07.953Z"
   },
   {
    "duration": 44,
    "start_time": "2022-11-14T11:05:08.058Z"
   },
   {
    "duration": 15,
    "start_time": "2022-11-14T11:05:08.105Z"
   },
   {
    "duration": 2007,
    "start_time": "2022-11-14T11:05:08.122Z"
   },
   {
    "duration": 9,
    "start_time": "2022-11-14T11:05:10.131Z"
   },
   {
    "duration": 56,
    "start_time": "2022-11-14T11:05:10.142Z"
   },
   {
    "duration": 4,
    "start_time": "2022-11-14T11:05:10.200Z"
   },
   {
    "duration": 12,
    "start_time": "2022-11-14T11:05:10.206Z"
   },
   {
    "duration": 10,
    "start_time": "2022-11-14T11:05:10.219Z"
   },
   {
    "duration": 5,
    "start_time": "2022-11-14T11:05:10.230Z"
   },
   {
    "duration": 30,
    "start_time": "2022-11-14T11:05:10.239Z"
   },
   {
    "duration": 1250,
    "start_time": "2022-11-14T11:05:10.271Z"
   },
   {
    "duration": 6,
    "start_time": "2022-11-14T11:05:11.523Z"
   },
   {
    "duration": 16,
    "start_time": "2022-11-14T11:05:11.531Z"
   },
   {
    "duration": 21,
    "start_time": "2022-11-14T11:05:11.549Z"
   },
   {
    "duration": 14,
    "start_time": "2022-11-14T11:05:11.572Z"
   },
   {
    "duration": 8,
    "start_time": "2022-11-14T11:05:11.588Z"
   },
   {
    "duration": 15,
    "start_time": "2022-11-14T11:05:11.597Z"
   },
   {
    "duration": 19,
    "start_time": "2022-11-14T11:05:11.613Z"
   },
   {
    "duration": 42,
    "start_time": "2022-11-14T11:05:11.634Z"
   },
   {
    "duration": 6,
    "start_time": "2022-11-14T11:05:11.678Z"
   },
   {
    "duration": 8,
    "start_time": "2022-11-14T11:05:11.686Z"
   },
   {
    "duration": 13,
    "start_time": "2022-11-14T11:05:11.695Z"
   },
   {
    "duration": 7,
    "start_time": "2022-11-14T11:05:11.709Z"
   },
   {
    "duration": 17,
    "start_time": "2022-11-14T11:05:11.717Z"
   },
   {
    "duration": 17,
    "start_time": "2022-11-14T11:05:11.735Z"
   },
   {
    "duration": 124,
    "start_time": "2022-11-14T11:05:11.768Z"
   },
   {
    "duration": 15,
    "start_time": "2022-11-14T11:05:11.894Z"
   },
   {
    "duration": 95,
    "start_time": "2022-11-14T11:05:11.910Z"
   },
   {
    "duration": 227,
    "start_time": "2022-11-14T11:05:12.007Z"
   },
   {
    "duration": 3,
    "start_time": "2022-11-14T11:05:12.235Z"
   },
   {
    "duration": 6,
    "start_time": "2022-11-14T11:05:12.239Z"
   },
   {
    "duration": 6,
    "start_time": "2022-11-14T11:05:12.247Z"
   },
   {
    "duration": 14,
    "start_time": "2022-11-14T11:05:12.254Z"
   },
   {
    "duration": 6,
    "start_time": "2022-11-14T11:05:12.269Z"
   },
   {
    "duration": 7,
    "start_time": "2022-11-14T11:05:12.276Z"
   },
   {
    "duration": 401,
    "start_time": "2022-11-14T11:20:58.858Z"
   },
   {
    "duration": 227,
    "start_time": "2022-11-14T11:20:59.260Z"
   },
   {
    "duration": 3,
    "start_time": "2022-11-14T11:20:59.489Z"
   },
   {
    "duration": 129,
    "start_time": "2022-11-14T11:20:59.494Z"
   },
   {
    "duration": 45,
    "start_time": "2022-11-14T11:20:59.625Z"
   },
   {
    "duration": 14,
    "start_time": "2022-11-14T11:20:59.672Z"
   },
   {
    "duration": 2141,
    "start_time": "2022-11-14T11:20:59.688Z"
   },
   {
    "duration": 10,
    "start_time": "2022-11-14T11:21:01.831Z"
   },
   {
    "duration": 71,
    "start_time": "2022-11-14T11:21:01.843Z"
   },
   {
    "duration": 4,
    "start_time": "2022-11-14T11:21:01.917Z"
   },
   {
    "duration": 26,
    "start_time": "2022-11-14T11:21:01.922Z"
   },
   {
    "duration": 17,
    "start_time": "2022-11-14T11:21:01.949Z"
   },
   {
    "duration": 39,
    "start_time": "2022-11-14T11:21:01.968Z"
   },
   {
    "duration": 15,
    "start_time": "2022-11-14T11:21:02.009Z"
   },
   {
    "duration": 1281,
    "start_time": "2022-11-14T11:21:02.025Z"
   },
   {
    "duration": 4,
    "start_time": "2022-11-14T11:21:03.308Z"
   },
   {
    "duration": 14,
    "start_time": "2022-11-14T11:21:03.315Z"
   },
   {
    "duration": 17,
    "start_time": "2022-11-14T11:21:03.331Z"
   },
   {
    "duration": 33,
    "start_time": "2022-11-14T11:21:03.350Z"
   },
   {
    "duration": 16,
    "start_time": "2022-11-14T11:21:03.384Z"
   },
   {
    "duration": 17,
    "start_time": "2022-11-14T11:21:03.402Z"
   },
   {
    "duration": 19,
    "start_time": "2022-11-14T11:21:03.420Z"
   },
   {
    "duration": 49,
    "start_time": "2022-11-14T11:21:03.441Z"
   },
   {
    "duration": 8,
    "start_time": "2022-11-14T11:21:03.492Z"
   },
   {
    "duration": 16,
    "start_time": "2022-11-14T11:21:03.502Z"
   },
   {
    "duration": 18,
    "start_time": "2022-11-14T11:21:03.520Z"
   },
   {
    "duration": 17,
    "start_time": "2022-11-14T11:21:03.542Z"
   },
   {
    "duration": 14,
    "start_time": "2022-11-14T11:21:03.562Z"
   },
   {
    "duration": 16,
    "start_time": "2022-11-14T11:21:03.578Z"
   },
   {
    "duration": 125,
    "start_time": "2022-11-14T11:21:03.596Z"
   },
   {
    "duration": 15,
    "start_time": "2022-11-14T11:21:03.723Z"
   },
   {
    "duration": 108,
    "start_time": "2022-11-14T11:21:03.740Z"
   },
   {
    "duration": 228,
    "start_time": "2022-11-14T11:21:03.850Z"
   },
   {
    "duration": 6,
    "start_time": "2022-11-14T11:21:04.080Z"
   },
   {
    "duration": 23,
    "start_time": "2022-11-14T11:21:04.089Z"
   },
   {
    "duration": 7,
    "start_time": "2022-11-14T11:21:04.114Z"
   },
   {
    "duration": 9,
    "start_time": "2022-11-14T11:21:04.123Z"
   },
   {
    "duration": 11,
    "start_time": "2022-11-14T11:21:04.134Z"
   },
   {
    "duration": 16,
    "start_time": "2022-11-14T11:21:04.167Z"
   },
   {
    "duration": 202,
    "start_time": "2022-11-14T11:25:29.772Z"
   },
   {
    "duration": 298,
    "start_time": "2022-11-14T11:25:35.540Z"
   },
   {
    "duration": 229,
    "start_time": "2022-11-14T11:25:41.676Z"
   },
   {
    "duration": 47,
    "start_time": "2022-11-14T11:26:30.059Z"
   },
   {
    "duration": 53,
    "start_time": "2022-11-14T11:27:44.175Z"
   },
   {
    "duration": 26,
    "start_time": "2022-11-14T11:29:55.994Z"
   },
   {
    "duration": 28,
    "start_time": "2022-11-14T11:31:53.331Z"
   },
   {
    "duration": 35,
    "start_time": "2022-11-14T11:35:21.111Z"
   },
   {
    "duration": 422,
    "start_time": "2022-11-14T11:37:14.546Z"
   },
   {
    "duration": 257,
    "start_time": "2022-11-14T11:37:14.970Z"
   },
   {
    "duration": 3,
    "start_time": "2022-11-14T11:37:15.229Z"
   },
   {
    "duration": 98,
    "start_time": "2022-11-14T11:37:15.234Z"
   },
   {
    "duration": 43,
    "start_time": "2022-11-14T11:37:15.333Z"
   },
   {
    "duration": 14,
    "start_time": "2022-11-14T11:37:15.378Z"
   },
   {
    "duration": 2071,
    "start_time": "2022-11-14T11:37:15.394Z"
   },
   {
    "duration": 9,
    "start_time": "2022-11-14T11:37:17.467Z"
   },
   {
    "duration": 51,
    "start_time": "2022-11-14T11:37:17.477Z"
   },
   {
    "duration": 3,
    "start_time": "2022-11-14T11:37:17.530Z"
   },
   {
    "duration": 10,
    "start_time": "2022-11-14T11:37:17.535Z"
   },
   {
    "duration": 29,
    "start_time": "2022-11-14T11:37:17.547Z"
   },
   {
    "duration": 5,
    "start_time": "2022-11-14T11:37:17.578Z"
   },
   {
    "duration": 5,
    "start_time": "2022-11-14T11:37:17.584Z"
   },
   {
    "duration": 1249,
    "start_time": "2022-11-14T11:37:17.590Z"
   },
   {
    "duration": 5,
    "start_time": "2022-11-14T11:37:18.841Z"
   },
   {
    "duration": 20,
    "start_time": "2022-11-14T11:37:18.848Z"
   },
   {
    "duration": 16,
    "start_time": "2022-11-14T11:37:18.869Z"
   },
   {
    "duration": 19,
    "start_time": "2022-11-14T11:37:18.887Z"
   },
   {
    "duration": 9,
    "start_time": "2022-11-14T11:37:18.908Z"
   },
   {
    "duration": 15,
    "start_time": "2022-11-14T11:37:18.919Z"
   },
   {
    "duration": 43,
    "start_time": "2022-11-14T11:37:18.936Z"
   },
   {
    "duration": 24,
    "start_time": "2022-11-14T11:37:18.980Z"
   },
   {
    "duration": 9,
    "start_time": "2022-11-14T11:37:19.006Z"
   },
   {
    "duration": 26,
    "start_time": "2022-11-14T11:37:19.017Z"
   },
   {
    "duration": 23,
    "start_time": "2022-11-14T11:37:19.046Z"
   },
   {
    "duration": 10,
    "start_time": "2022-11-14T11:37:19.071Z"
   },
   {
    "duration": 27,
    "start_time": "2022-11-14T11:37:19.085Z"
   },
   {
    "duration": 11,
    "start_time": "2022-11-14T11:37:19.113Z"
   },
   {
    "duration": 122,
    "start_time": "2022-11-14T11:37:19.126Z"
   },
   {
    "duration": 20,
    "start_time": "2022-11-14T11:37:19.249Z"
   },
   {
    "duration": 99,
    "start_time": "2022-11-14T11:37:19.271Z"
   },
   {
    "duration": 225,
    "start_time": "2022-11-14T11:37:19.372Z"
   },
   {
    "duration": 6,
    "start_time": "2022-11-14T11:37:19.598Z"
   },
   {
    "duration": 12,
    "start_time": "2022-11-14T11:37:19.605Z"
   },
   {
    "duration": 250,
    "start_time": "2022-11-14T11:37:19.618Z"
   },
   {
    "duration": 37,
    "start_time": "2022-11-14T11:37:19.869Z"
   },
   {
    "duration": 33,
    "start_time": "2022-11-14T11:38:01.410Z"
   },
   {
    "duration": 265,
    "start_time": "2022-11-14T11:40:22.709Z"
   },
   {
    "duration": 218,
    "start_time": "2022-11-14T11:40:31.956Z"
   },
   {
    "duration": 119,
    "start_time": "2022-11-14T11:40:40.796Z"
   },
   {
    "duration": 47,
    "start_time": "2022-11-14T11:41:37.238Z"
   },
   {
    "duration": 32,
    "start_time": "2022-11-14T11:41:59.799Z"
   },
   {
    "duration": 113,
    "start_time": "2022-11-14T11:43:54.041Z"
   },
   {
    "duration": 114,
    "start_time": "2022-11-14T11:43:57.384Z"
   },
   {
    "duration": 41,
    "start_time": "2022-11-14T11:44:25.545Z"
   },
   {
    "duration": 8,
    "start_time": "2022-11-14T11:52:38.986Z"
   },
   {
    "duration": 40,
    "start_time": "2022-11-14T11:57:06.447Z"
   },
   {
    "duration": 40,
    "start_time": "2022-11-14T11:57:14.931Z"
   },
   {
    "duration": 15,
    "start_time": "2022-11-14T11:57:43.232Z"
   },
   {
    "duration": 38,
    "start_time": "2022-11-14T12:00:50.660Z"
   },
   {
    "duration": 56,
    "start_time": "2022-11-14T12:01:11.830Z"
   },
   {
    "duration": 38,
    "start_time": "2022-11-14T12:01:24.777Z"
   },
   {
    "duration": 38,
    "start_time": "2022-11-14T12:01:40.973Z"
   },
   {
    "duration": 63,
    "start_time": "2022-11-14T12:01:49.333Z"
   },
   {
    "duration": 39,
    "start_time": "2022-11-14T12:02:34.288Z"
   },
   {
    "duration": 6,
    "start_time": "2022-11-14T12:05:51.569Z"
   },
   {
    "duration": 126,
    "start_time": "2022-11-14T12:05:53.553Z"
   },
   {
    "duration": 405,
    "start_time": "2022-11-14T12:05:59.485Z"
   },
   {
    "duration": 257,
    "start_time": "2022-11-14T12:05:59.892Z"
   },
   {
    "duration": 3,
    "start_time": "2022-11-14T12:06:00.151Z"
   },
   {
    "duration": 152,
    "start_time": "2022-11-14T12:06:00.156Z"
   },
   {
    "duration": 46,
    "start_time": "2022-11-14T12:06:00.310Z"
   },
   {
    "duration": 44,
    "start_time": "2022-11-14T12:06:00.357Z"
   },
   {
    "duration": 2126,
    "start_time": "2022-11-14T12:06:00.403Z"
   },
   {
    "duration": 9,
    "start_time": "2022-11-14T12:06:02.531Z"
   },
   {
    "duration": 56,
    "start_time": "2022-11-14T12:06:02.542Z"
   },
   {
    "duration": 4,
    "start_time": "2022-11-14T12:06:02.600Z"
   },
   {
    "duration": 23,
    "start_time": "2022-11-14T12:06:02.605Z"
   },
   {
    "duration": 9,
    "start_time": "2022-11-14T12:06:02.630Z"
   },
   {
    "duration": 14,
    "start_time": "2022-11-14T12:06:02.641Z"
   },
   {
    "duration": 18,
    "start_time": "2022-11-14T12:06:02.657Z"
   },
   {
    "duration": 1310,
    "start_time": "2022-11-14T12:06:02.677Z"
   },
   {
    "duration": 5,
    "start_time": "2022-11-14T12:06:03.989Z"
   },
   {
    "duration": 21,
    "start_time": "2022-11-14T12:06:03.996Z"
   },
   {
    "duration": 20,
    "start_time": "2022-11-14T12:06:04.019Z"
   },
   {
    "duration": 28,
    "start_time": "2022-11-14T12:06:04.041Z"
   },
   {
    "duration": 10,
    "start_time": "2022-11-14T12:06:04.071Z"
   },
   {
    "duration": 13,
    "start_time": "2022-11-14T12:06:04.083Z"
   },
   {
    "duration": 17,
    "start_time": "2022-11-14T12:06:04.098Z"
   },
   {
    "duration": 24,
    "start_time": "2022-11-14T12:06:04.117Z"
   },
   {
    "duration": 7,
    "start_time": "2022-11-14T12:06:04.168Z"
   },
   {
    "duration": 13,
    "start_time": "2022-11-14T12:06:04.177Z"
   },
   {
    "duration": 29,
    "start_time": "2022-11-14T12:06:04.192Z"
   },
   {
    "duration": 7,
    "start_time": "2022-11-14T12:06:04.223Z"
   },
   {
    "duration": 13,
    "start_time": "2022-11-14T12:06:04.234Z"
   },
   {
    "duration": 7,
    "start_time": "2022-11-14T12:06:04.249Z"
   },
   {
    "duration": 117,
    "start_time": "2022-11-14T12:06:04.268Z"
   },
   {
    "duration": 14,
    "start_time": "2022-11-14T12:06:04.387Z"
   },
   {
    "duration": 105,
    "start_time": "2022-11-14T12:06:04.403Z"
   },
   {
    "duration": 223,
    "start_time": "2022-11-14T12:06:04.510Z"
   },
   {
    "duration": 6,
    "start_time": "2022-11-14T12:06:04.735Z"
   },
   {
    "duration": 19,
    "start_time": "2022-11-14T12:06:04.742Z"
   },
   {
    "duration": 245,
    "start_time": "2022-11-14T12:06:04.762Z"
   },
   {
    "duration": 43,
    "start_time": "2022-11-14T12:06:05.009Z"
   },
   {
    "duration": 20,
    "start_time": "2022-11-14T12:06:05.054Z"
   },
   {
    "duration": 128,
    "start_time": "2022-11-14T12:06:05.075Z"
   },
   {
    "duration": 30,
    "start_time": "2022-11-14T12:06:05.205Z"
   },
   {
    "duration": 207,
    "start_time": "2022-11-14T12:06:05.237Z"
   },
   {
    "duration": 48,
    "start_time": "2022-11-14T12:06:05.446Z"
   },
   {
    "duration": 6,
    "start_time": "2022-11-14T12:06:05.495Z"
   },
   {
    "duration": 18,
    "start_time": "2022-11-14T12:06:05.503Z"
   },
   {
    "duration": 40,
    "start_time": "2022-11-14T12:07:17.852Z"
   },
   {
    "duration": 26,
    "start_time": "2022-11-14T12:07:31.062Z"
   },
   {
    "duration": 29,
    "start_time": "2022-11-14T12:07:41.845Z"
   },
   {
    "duration": 109,
    "start_time": "2022-11-14T12:07:59.005Z"
   },
   {
    "duration": 392,
    "start_time": "2022-11-14T12:08:07.794Z"
   },
   {
    "duration": 217,
    "start_time": "2022-11-14T12:08:08.187Z"
   },
   {
    "duration": 3,
    "start_time": "2022-11-14T12:08:08.405Z"
   },
   {
    "duration": 108,
    "start_time": "2022-11-14T12:08:08.410Z"
   },
   {
    "duration": 51,
    "start_time": "2022-11-14T12:08:08.520Z"
   },
   {
    "duration": 13,
    "start_time": "2022-11-14T12:08:08.573Z"
   },
   {
    "duration": 1985,
    "start_time": "2022-11-14T12:08:08.588Z"
   },
   {
    "duration": 9,
    "start_time": "2022-11-14T12:08:10.575Z"
   },
   {
    "duration": 56,
    "start_time": "2022-11-14T12:08:10.586Z"
   },
   {
    "duration": 4,
    "start_time": "2022-11-14T12:08:10.645Z"
   },
   {
    "duration": 27,
    "start_time": "2022-11-14T12:08:10.650Z"
   },
   {
    "duration": 10,
    "start_time": "2022-11-14T12:08:10.678Z"
   },
   {
    "duration": 4,
    "start_time": "2022-11-14T12:08:10.689Z"
   },
   {
    "duration": 7,
    "start_time": "2022-11-14T12:08:10.694Z"
   },
   {
    "duration": 1250,
    "start_time": "2022-11-14T12:08:10.703Z"
   },
   {
    "duration": 5,
    "start_time": "2022-11-14T12:08:11.954Z"
   },
   {
    "duration": 8,
    "start_time": "2022-11-14T12:08:11.968Z"
   },
   {
    "duration": 20,
    "start_time": "2022-11-14T12:08:11.978Z"
   },
   {
    "duration": 17,
    "start_time": "2022-11-14T12:08:12.000Z"
   },
   {
    "duration": 8,
    "start_time": "2022-11-14T12:08:12.019Z"
   },
   {
    "duration": 12,
    "start_time": "2022-11-14T12:08:12.029Z"
   },
   {
    "duration": 40,
    "start_time": "2022-11-14T12:08:12.042Z"
   },
   {
    "duration": 22,
    "start_time": "2022-11-14T12:08:12.084Z"
   },
   {
    "duration": 8,
    "start_time": "2022-11-14T12:08:12.108Z"
   },
   {
    "duration": 9,
    "start_time": "2022-11-14T12:08:12.117Z"
   },
   {
    "duration": 43,
    "start_time": "2022-11-14T12:08:12.128Z"
   },
   {
    "duration": 6,
    "start_time": "2022-11-14T12:08:12.174Z"
   },
   {
    "duration": 9,
    "start_time": "2022-11-14T12:08:12.184Z"
   },
   {
    "duration": 16,
    "start_time": "2022-11-14T12:08:12.194Z"
   },
   {
    "duration": 131,
    "start_time": "2022-11-14T12:08:12.212Z"
   },
   {
    "duration": 14,
    "start_time": "2022-11-14T12:08:12.345Z"
   },
   {
    "duration": 84,
    "start_time": "2022-11-14T12:08:12.368Z"
   },
   {
    "duration": 221,
    "start_time": "2022-11-14T12:08:12.453Z"
   },
   {
    "duration": 5,
    "start_time": "2022-11-14T12:08:12.676Z"
   },
   {
    "duration": 12,
    "start_time": "2022-11-14T12:08:12.683Z"
   },
   {
    "duration": 246,
    "start_time": "2022-11-14T12:08:12.697Z"
   },
   {
    "duration": 52,
    "start_time": "2022-11-14T12:08:12.945Z"
   },
   {
    "duration": 6,
    "start_time": "2022-11-14T12:08:12.999Z"
   },
   {
    "duration": 123,
    "start_time": "2022-11-14T12:08:13.006Z"
   },
   {
    "duration": 27,
    "start_time": "2022-11-14T12:08:13.130Z"
   },
   {
    "duration": 201,
    "start_time": "2022-11-14T12:08:13.168Z"
   },
   {
    "duration": 43,
    "start_time": "2022-11-14T12:08:13.370Z"
   },
   {
    "duration": 6,
    "start_time": "2022-11-14T12:08:13.415Z"
   },
   {
    "duration": 19,
    "start_time": "2022-11-14T12:08:13.422Z"
   },
   {
    "duration": 108,
    "start_time": "2022-11-14T12:09:17.302Z"
   },
   {
    "duration": 40,
    "start_time": "2022-11-14T12:09:26.352Z"
   },
   {
    "duration": 39,
    "start_time": "2022-11-14T12:09:31.606Z"
   },
   {
    "duration": 98,
    "start_time": "2022-11-14T12:09:43.910Z"
   },
   {
    "duration": 38,
    "start_time": "2022-11-14T12:09:52.808Z"
   },
   {
    "duration": 382,
    "start_time": "2022-11-14T12:10:04.489Z"
   },
   {
    "duration": 253,
    "start_time": "2022-11-14T12:10:04.873Z"
   },
   {
    "duration": 3,
    "start_time": "2022-11-14T12:10:05.127Z"
   },
   {
    "duration": 130,
    "start_time": "2022-11-14T12:10:05.132Z"
   },
   {
    "duration": 49,
    "start_time": "2022-11-14T12:10:05.264Z"
   },
   {
    "duration": 15,
    "start_time": "2022-11-14T12:10:05.314Z"
   },
   {
    "duration": 2038,
    "start_time": "2022-11-14T12:10:05.331Z"
   },
   {
    "duration": 12,
    "start_time": "2022-11-14T12:10:07.371Z"
   },
   {
    "duration": 73,
    "start_time": "2022-11-14T12:10:07.384Z"
   },
   {
    "duration": 3,
    "start_time": "2022-11-14T12:10:07.460Z"
   },
   {
    "duration": 25,
    "start_time": "2022-11-14T12:10:07.464Z"
   },
   {
    "duration": 40,
    "start_time": "2022-11-14T12:10:07.491Z"
   },
   {
    "duration": 18,
    "start_time": "2022-11-14T12:10:07.532Z"
   },
   {
    "duration": 22,
    "start_time": "2022-11-14T12:10:07.552Z"
   },
   {
    "duration": 1215,
    "start_time": "2022-11-14T12:10:07.576Z"
   },
   {
    "duration": 4,
    "start_time": "2022-11-14T12:10:08.793Z"
   },
   {
    "duration": 41,
    "start_time": "2022-11-14T12:10:08.798Z"
   },
   {
    "duration": 36,
    "start_time": "2022-11-14T12:10:08.842Z"
   },
   {
    "duration": 34,
    "start_time": "2022-11-14T12:10:08.880Z"
   },
   {
    "duration": 10,
    "start_time": "2022-11-14T12:10:08.916Z"
   },
   {
    "duration": 22,
    "start_time": "2022-11-14T12:10:08.927Z"
   },
   {
    "duration": 17,
    "start_time": "2022-11-14T12:10:08.951Z"
   },
   {
    "duration": 21,
    "start_time": "2022-11-14T12:10:08.969Z"
   },
   {
    "duration": 6,
    "start_time": "2022-11-14T12:10:08.992Z"
   },
   {
    "duration": 9,
    "start_time": "2022-11-14T12:10:09.000Z"
   },
   {
    "duration": 26,
    "start_time": "2022-11-14T12:10:09.010Z"
   },
   {
    "duration": 10,
    "start_time": "2022-11-14T12:10:09.037Z"
   },
   {
    "duration": 21,
    "start_time": "2022-11-14T12:10:09.050Z"
   },
   {
    "duration": 8,
    "start_time": "2022-11-14T12:10:09.073Z"
   },
   {
    "duration": 119,
    "start_time": "2022-11-14T12:10:09.083Z"
   },
   {
    "duration": 14,
    "start_time": "2022-11-14T12:10:09.204Z"
   },
   {
    "duration": 98,
    "start_time": "2022-11-14T12:10:09.220Z"
   },
   {
    "duration": 214,
    "start_time": "2022-11-14T12:10:09.320Z"
   },
   {
    "duration": 6,
    "start_time": "2022-11-14T12:10:09.535Z"
   },
   {
    "duration": 9,
    "start_time": "2022-11-14T12:10:09.542Z"
   },
   {
    "duration": 240,
    "start_time": "2022-11-14T12:10:09.553Z"
   },
   {
    "duration": 38,
    "start_time": "2022-11-14T12:10:09.795Z"
   },
   {
    "duration": 5,
    "start_time": "2022-11-14T12:10:09.835Z"
   },
   {
    "duration": 126,
    "start_time": "2022-11-14T12:10:09.842Z"
   },
   {
    "duration": 39,
    "start_time": "2022-11-14T12:10:09.969Z"
   },
   {
    "duration": 195,
    "start_time": "2022-11-14T12:10:10.009Z"
   },
   {
    "duration": 41,
    "start_time": "2022-11-14T12:10:10.206Z"
   },
   {
    "duration": 21,
    "start_time": "2022-11-14T12:10:10.249Z"
   },
   {
    "duration": 15,
    "start_time": "2022-11-14T12:10:10.272Z"
   },
   {
    "duration": 7,
    "start_time": "2022-11-14T12:15:13.312Z"
   },
   {
    "duration": 8,
    "start_time": "2022-11-14T12:15:19.146Z"
   },
   {
    "duration": 348,
    "start_time": "2022-11-14T12:15:32.324Z"
   },
   {
    "duration": 226,
    "start_time": "2022-11-14T12:15:32.674Z"
   },
   {
    "duration": 3,
    "start_time": "2022-11-14T12:15:32.902Z"
   },
   {
    "duration": 102,
    "start_time": "2022-11-14T12:15:32.907Z"
   },
   {
    "duration": 43,
    "start_time": "2022-11-14T12:15:33.011Z"
   },
   {
    "duration": 24,
    "start_time": "2022-11-14T12:15:33.055Z"
   },
   {
    "duration": 1988,
    "start_time": "2022-11-14T12:15:33.081Z"
   },
   {
    "duration": 10,
    "start_time": "2022-11-14T12:15:35.070Z"
   },
   {
    "duration": 58,
    "start_time": "2022-11-14T12:15:35.082Z"
   },
   {
    "duration": 3,
    "start_time": "2022-11-14T12:15:35.142Z"
   },
   {
    "duration": 24,
    "start_time": "2022-11-14T12:15:35.147Z"
   },
   {
    "duration": 8,
    "start_time": "2022-11-14T12:15:35.173Z"
   },
   {
    "duration": 4,
    "start_time": "2022-11-14T12:15:35.183Z"
   },
   {
    "duration": 15,
    "start_time": "2022-11-14T12:15:35.188Z"
   },
   {
    "duration": 1301,
    "start_time": "2022-11-14T12:15:35.204Z"
   },
   {
    "duration": 6,
    "start_time": "2022-11-14T12:15:36.507Z"
   },
   {
    "duration": 11,
    "start_time": "2022-11-14T12:15:36.515Z"
   },
   {
    "duration": 16,
    "start_time": "2022-11-14T12:15:36.528Z"
   },
   {
    "duration": 29,
    "start_time": "2022-11-14T12:15:36.546Z"
   },
   {
    "duration": 8,
    "start_time": "2022-11-14T12:15:36.576Z"
   },
   {
    "duration": 10,
    "start_time": "2022-11-14T12:15:36.585Z"
   },
   {
    "duration": 12,
    "start_time": "2022-11-14T12:15:36.596Z"
   },
   {
    "duration": 19,
    "start_time": "2022-11-14T12:15:36.610Z"
   },
   {
    "duration": 38,
    "start_time": "2022-11-14T12:15:36.631Z"
   },
   {
    "duration": 7,
    "start_time": "2022-11-14T12:15:36.670Z"
   },
   {
    "duration": 12,
    "start_time": "2022-11-14T12:15:36.678Z"
   },
   {
    "duration": 3,
    "start_time": "2022-11-14T12:15:36.692Z"
   },
   {
    "duration": 12,
    "start_time": "2022-11-14T12:15:36.698Z"
   },
   {
    "duration": 9,
    "start_time": "2022-11-14T12:15:36.711Z"
   },
   {
    "duration": 130,
    "start_time": "2022-11-14T12:15:36.722Z"
   },
   {
    "duration": 21,
    "start_time": "2022-11-14T12:15:36.854Z"
   },
   {
    "duration": 92,
    "start_time": "2022-11-14T12:15:36.877Z"
   },
   {
    "duration": 214,
    "start_time": "2022-11-14T12:15:36.971Z"
   },
   {
    "duration": 5,
    "start_time": "2022-11-14T12:15:37.187Z"
   },
   {
    "duration": 11,
    "start_time": "2022-11-14T12:15:37.194Z"
   },
   {
    "duration": 243,
    "start_time": "2022-11-14T12:15:37.206Z"
   },
   {
    "duration": 50,
    "start_time": "2022-11-14T12:15:37.450Z"
   },
   {
    "duration": 7,
    "start_time": "2022-11-14T12:15:37.503Z"
   },
   {
    "duration": 132,
    "start_time": "2022-11-14T12:15:37.511Z"
   },
   {
    "duration": 47,
    "start_time": "2022-11-14T12:15:37.645Z"
   },
   {
    "duration": 184,
    "start_time": "2022-11-14T12:15:37.694Z"
   },
   {
    "duration": 42,
    "start_time": "2022-11-14T12:15:37.880Z"
   },
   {
    "duration": 5,
    "start_time": "2022-11-14T12:15:37.924Z"
   },
   {
    "duration": 38,
    "start_time": "2022-11-14T12:15:37.930Z"
   },
   {
    "duration": 81,
    "start_time": "2022-11-14T12:17:16.618Z"
   },
   {
    "duration": 4,
    "start_time": "2022-11-14T12:32:14.938Z"
   },
   {
    "duration": 6,
    "start_time": "2022-11-14T12:32:23.232Z"
   },
   {
    "duration": 44,
    "start_time": "2022-11-14T12:35:21.220Z"
   },
   {
    "duration": 6,
    "start_time": "2022-11-14T12:35:27.467Z"
   },
   {
    "duration": 43,
    "start_time": "2022-11-14T12:35:29.124Z"
   },
   {
    "duration": 77,
    "start_time": "2022-11-14T12:36:23.597Z"
   },
   {
    "duration": 6,
    "start_time": "2022-11-14T12:36:27.436Z"
   },
   {
    "duration": 6,
    "start_time": "2022-11-14T12:40:42.177Z"
   },
   {
    "duration": 5,
    "start_time": "2022-11-14T12:40:50.369Z"
   },
   {
    "duration": 6,
    "start_time": "2022-11-14T12:41:24.266Z"
   },
   {
    "duration": 5,
    "start_time": "2022-11-14T12:41:29.490Z"
   },
   {
    "duration": 46,
    "start_time": "2022-11-14T12:42:58.028Z"
   },
   {
    "duration": 3,
    "start_time": "2022-11-14T12:53:28.058Z"
   },
   {
    "duration": 200,
    "start_time": "2022-11-14T12:54:45.762Z"
   },
   {
    "duration": 17,
    "start_time": "2022-11-14T12:56:33.804Z"
   },
   {
    "duration": 92,
    "start_time": "2022-11-14T12:56:52.795Z"
   },
   {
    "duration": 3,
    "start_time": "2022-11-14T12:56:54.132Z"
   },
   {
    "duration": 310,
    "start_time": "2022-11-14T12:56:54.680Z"
   },
   {
    "duration": 50,
    "start_time": "2022-11-14T12:57:03.683Z"
   },
   {
    "duration": 569,
    "start_time": "2022-11-14T12:57:27.196Z"
   },
   {
    "duration": 324,
    "start_time": "2022-11-14T12:57:34.788Z"
   },
   {
    "duration": 4,
    "start_time": "2022-11-14T12:58:27.333Z"
   },
   {
    "duration": 397,
    "start_time": "2022-11-14T12:58:30.229Z"
   },
   {
    "duration": 6,
    "start_time": "2022-11-14T12:58:55.728Z"
   },
   {
    "duration": 4,
    "start_time": "2022-11-14T13:00:38.824Z"
   },
   {
    "duration": 43,
    "start_time": "2022-11-14T13:00:48.271Z"
   },
   {
    "duration": 1183,
    "start_time": "2022-11-14T13:01:32.257Z"
   },
   {
    "duration": 794,
    "start_time": "2022-11-14T13:01:43.481Z"
   },
   {
    "duration": 45,
    "start_time": "2022-11-14T13:02:26.034Z"
   },
   {
    "duration": 5,
    "start_time": "2022-11-14T13:03:26.708Z"
   },
   {
    "duration": 6,
    "start_time": "2022-11-14T13:03:37.123Z"
   },
   {
    "duration": 11,
    "start_time": "2022-11-14T13:11:09.531Z"
   },
   {
    "duration": 12,
    "start_time": "2022-11-14T13:11:26.460Z"
   },
   {
    "duration": 136,
    "start_time": "2022-11-14T15:53:13.815Z"
   },
   {
    "duration": 244,
    "start_time": "2022-11-14T15:53:31.503Z"
   },
   {
    "duration": 355,
    "start_time": "2022-11-14T15:54:36.769Z"
   },
   {
    "duration": 1419,
    "start_time": "2022-11-14T15:54:51.377Z"
   },
   {
    "duration": 240,
    "start_time": "2022-11-14T15:54:57.504Z"
   },
   {
    "duration": 232,
    "start_time": "2022-11-14T15:55:12.273Z"
   },
   {
    "duration": 190,
    "start_time": "2022-11-14T15:57:23.379Z"
   },
   {
    "duration": 15,
    "start_time": "2022-11-14T15:57:53.012Z"
   },
   {
    "duration": 23,
    "start_time": "2022-11-14T15:58:13.252Z"
   },
   {
    "duration": 16,
    "start_time": "2022-11-14T15:59:26.254Z"
   },
   {
    "duration": 16,
    "start_time": "2022-11-14T16:00:00.151Z"
   },
   {
    "duration": 762,
    "start_time": "2022-11-14T16:00:04.542Z"
   },
   {
    "duration": 17,
    "start_time": "2022-11-14T16:00:13.503Z"
   },
   {
    "duration": 20,
    "start_time": "2022-11-14T16:00:21.791Z"
   },
   {
    "duration": 13,
    "start_time": "2022-11-14T16:01:01.792Z"
   },
   {
    "duration": 10,
    "start_time": "2022-11-14T16:01:09.320Z"
   },
   {
    "duration": 6,
    "start_time": "2022-11-14T16:01:13.872Z"
   },
   {
    "duration": 10,
    "start_time": "2022-11-14T16:01:48.505Z"
   },
   {
    "duration": 40,
    "start_time": "2022-11-14T16:02:31.234Z"
   },
   {
    "duration": 27,
    "start_time": "2022-11-14T16:03:49.643Z"
   },
   {
    "duration": 7,
    "start_time": "2022-11-14T16:04:31.028Z"
   },
   {
    "duration": 7,
    "start_time": "2022-11-14T16:04:45.340Z"
   },
   {
    "duration": 842,
    "start_time": "2022-11-14T16:05:30.101Z"
   },
   {
    "duration": 1289,
    "start_time": "2022-11-14T16:05:42.989Z"
   },
   {
    "duration": 11,
    "start_time": "2022-11-14T16:05:58.293Z"
   },
   {
    "duration": 1298,
    "start_time": "2022-11-14T16:06:11.748Z"
   },
   {
    "duration": 7,
    "start_time": "2022-11-14T16:06:40.622Z"
   },
   {
    "duration": 7,
    "start_time": "2022-11-14T16:07:10.480Z"
   },
   {
    "duration": 292,
    "start_time": "2022-11-14T19:13:24.853Z"
   },
   {
    "duration": 124,
    "start_time": "2022-11-14T19:13:37.084Z"
   },
   {
    "duration": 135,
    "start_time": "2022-11-14T19:14:12.061Z"
   },
   {
    "duration": 197,
    "start_time": "2022-11-14T19:14:19.021Z"
   },
   {
    "duration": 130,
    "start_time": "2022-11-14T19:14:35.702Z"
   },
   {
    "duration": 168,
    "start_time": "2022-11-14T19:14:43.414Z"
   },
   {
    "duration": 186,
    "start_time": "2022-11-14T19:14:47.278Z"
   },
   {
    "duration": 179,
    "start_time": "2022-11-14T19:14:52.566Z"
   },
   {
    "duration": 184,
    "start_time": "2022-11-14T19:14:58.463Z"
   },
   {
    "duration": 140,
    "start_time": "2022-11-14T19:15:08.687Z"
   },
   {
    "duration": 192,
    "start_time": "2022-11-14T19:15:16.686Z"
   },
   {
    "duration": 178,
    "start_time": "2022-11-14T19:15:42.982Z"
   },
   {
    "duration": 419,
    "start_time": "2022-11-14T19:15:58.166Z"
   },
   {
    "duration": 117,
    "start_time": "2022-11-14T19:16:04.303Z"
   },
   {
    "duration": 131,
    "start_time": "2022-11-14T19:16:13.119Z"
   },
   {
    "duration": 172,
    "start_time": "2022-11-14T19:16:15.711Z"
   },
   {
    "duration": 186,
    "start_time": "2022-11-14T19:17:01.720Z"
   },
   {
    "duration": 138,
    "start_time": "2022-11-14T19:17:09.969Z"
   },
   {
    "duration": 105,
    "start_time": "2022-11-14T19:17:12.393Z"
   },
   {
    "duration": 111,
    "start_time": "2022-11-14T19:17:18.721Z"
   },
   {
    "duration": 140,
    "start_time": "2022-11-14T19:17:39.481Z"
   },
   {
    "duration": 151,
    "start_time": "2022-11-14T19:17:46.441Z"
   },
   {
    "duration": 161,
    "start_time": "2022-11-14T19:17:50.480Z"
   },
   {
    "duration": 134,
    "start_time": "2022-11-14T19:18:31.289Z"
   },
   {
    "duration": 187,
    "start_time": "2022-11-14T19:18:35.722Z"
   },
   {
    "duration": 159,
    "start_time": "2022-11-14T19:19:09.250Z"
   },
   {
    "duration": 172,
    "start_time": "2022-11-14T19:19:41.643Z"
   },
   {
    "duration": 1357,
    "start_time": "2022-11-14T19:20:01.044Z"
   },
   {
    "duration": 314,
    "start_time": "2022-11-14T19:20:04.059Z"
   },
   {
    "duration": 1311,
    "start_time": "2022-11-14T19:23:31.287Z"
   },
   {
    "duration": 179,
    "start_time": "2022-11-14T19:23:56.287Z"
   },
   {
    "duration": 196,
    "start_time": "2022-11-14T19:24:12.248Z"
   },
   {
    "duration": 302,
    "start_time": "2022-11-14T19:24:22.552Z"
   },
   {
    "duration": 134,
    "start_time": "2022-11-14T19:24:27.352Z"
   },
   {
    "duration": 115,
    "start_time": "2022-11-14T19:24:54.113Z"
   },
   {
    "duration": 126,
    "start_time": "2022-11-14T19:25:01.241Z"
   },
   {
    "duration": 143,
    "start_time": "2022-11-14T19:25:06.377Z"
   },
   {
    "duration": 424,
    "start_time": "2022-11-14T19:27:18.192Z"
   },
   {
    "duration": 247,
    "start_time": "2022-11-14T19:27:18.618Z"
   },
   {
    "duration": 3,
    "start_time": "2022-11-14T19:27:18.867Z"
   },
   {
    "duration": 102,
    "start_time": "2022-11-14T19:27:18.871Z"
   },
   {
    "duration": 53,
    "start_time": "2022-11-14T19:27:18.975Z"
   },
   {
    "duration": 15,
    "start_time": "2022-11-14T19:27:19.030Z"
   },
   {
    "duration": 1979,
    "start_time": "2022-11-14T19:27:19.047Z"
   },
   {
    "duration": 11,
    "start_time": "2022-11-14T19:27:21.027Z"
   },
   {
    "duration": 58,
    "start_time": "2022-11-14T19:27:21.040Z"
   },
   {
    "duration": 3,
    "start_time": "2022-11-14T19:27:21.101Z"
   },
   {
    "duration": 12,
    "start_time": "2022-11-14T19:27:21.105Z"
   },
   {
    "duration": 10,
    "start_time": "2022-11-14T19:27:21.118Z"
   },
   {
    "duration": 3,
    "start_time": "2022-11-14T19:27:21.130Z"
   },
   {
    "duration": 6,
    "start_time": "2022-11-14T19:27:21.135Z"
   },
   {
    "duration": 1238,
    "start_time": "2022-11-14T19:27:21.142Z"
   },
   {
    "duration": 5,
    "start_time": "2022-11-14T19:27:22.381Z"
   },
   {
    "duration": 7,
    "start_time": "2022-11-14T19:27:22.396Z"
   },
   {
    "duration": 29,
    "start_time": "2022-11-14T19:27:22.404Z"
   },
   {
    "duration": 14,
    "start_time": "2022-11-14T19:27:22.434Z"
   },
   {
    "duration": 7,
    "start_time": "2022-11-14T19:27:22.449Z"
   },
   {
    "duration": 12,
    "start_time": "2022-11-14T19:27:22.458Z"
   },
   {
    "duration": 24,
    "start_time": "2022-11-14T19:27:22.472Z"
   },
   {
    "duration": 21,
    "start_time": "2022-11-14T19:27:22.498Z"
   },
   {
    "duration": 8,
    "start_time": "2022-11-14T19:27:22.521Z"
   },
   {
    "duration": 13,
    "start_time": "2022-11-14T19:27:22.530Z"
   },
   {
    "duration": 17,
    "start_time": "2022-11-14T19:27:22.544Z"
   },
   {
    "duration": 4,
    "start_time": "2022-11-14T19:27:22.563Z"
   },
   {
    "duration": 37,
    "start_time": "2022-11-14T19:27:22.571Z"
   },
   {
    "duration": 21,
    "start_time": "2022-11-14T19:27:22.610Z"
   },
   {
    "duration": 108,
    "start_time": "2022-11-14T19:27:22.633Z"
   },
   {
    "duration": 14,
    "start_time": "2022-11-14T19:27:22.742Z"
   },
   {
    "duration": 98,
    "start_time": "2022-11-14T19:27:22.757Z"
   },
   {
    "duration": 218,
    "start_time": "2022-11-14T19:27:22.857Z"
   },
   {
    "duration": 5,
    "start_time": "2022-11-14T19:27:23.077Z"
   },
   {
    "duration": 29,
    "start_time": "2022-11-14T19:27:23.083Z"
   },
   {
    "duration": 240,
    "start_time": "2022-11-14T19:27:23.114Z"
   },
   {
    "duration": 47,
    "start_time": "2022-11-14T19:27:23.356Z"
   },
   {
    "duration": 6,
    "start_time": "2022-11-14T19:27:23.405Z"
   },
   {
    "duration": 121,
    "start_time": "2022-11-14T19:27:23.412Z"
   },
   {
    "duration": 44,
    "start_time": "2022-11-14T19:27:23.535Z"
   },
   {
    "duration": 209,
    "start_time": "2022-11-14T19:27:23.581Z"
   },
   {
    "duration": 46,
    "start_time": "2022-11-14T19:27:23.791Z"
   },
   {
    "duration": 6,
    "start_time": "2022-11-14T19:27:23.838Z"
   },
   {
    "duration": 17,
    "start_time": "2022-11-14T19:27:23.846Z"
   },
   {
    "duration": 102,
    "start_time": "2022-11-14T19:27:23.864Z"
   },
   {
    "duration": 4,
    "start_time": "2022-11-14T19:27:23.969Z"
   },
   {
    "duration": 11,
    "start_time": "2022-11-14T19:27:23.975Z"
   },
   {
    "duration": 9,
    "start_time": "2022-11-14T19:27:23.995Z"
   },
   {
    "duration": 6,
    "start_time": "2022-11-14T19:27:24.005Z"
   },
   {
    "duration": 8,
    "start_time": "2022-11-14T19:27:24.013Z"
   },
   {
    "duration": 352,
    "start_time": "2022-11-14T19:27:24.023Z"
   },
   {
    "duration": 5,
    "start_time": "2022-11-14T19:27:24.376Z"
   },
   {
    "duration": 180,
    "start_time": "2022-11-14T19:27:24.383Z"
   },
   {
    "duration": 214,
    "start_time": "2022-11-14T19:27:24.565Z"
   },
   {
    "duration": 169,
    "start_time": "2022-11-14T19:27:24.780Z"
   },
   {
    "duration": 196,
    "start_time": "2022-11-14T19:27:24.951Z"
   },
   {
    "duration": 200,
    "start_time": "2022-11-14T19:27:25.148Z"
   },
   {
    "duration": 194,
    "start_time": "2022-11-14T19:27:25.349Z"
   },
   {
    "duration": 278,
    "start_time": "2022-11-14T19:27:25.545Z"
   },
   {
    "duration": 151,
    "start_time": "2022-11-14T19:27:25.825Z"
   },
   {
    "duration": 196,
    "start_time": "2022-11-14T19:27:25.978Z"
   },
   {
    "duration": 217,
    "start_time": "2022-11-14T19:27:26.176Z"
   },
   {
    "duration": 171,
    "start_time": "2022-11-14T19:27:26.397Z"
   },
   {
    "duration": 178,
    "start_time": "2022-11-14T19:27:26.570Z"
   },
   {
    "duration": 158,
    "start_time": "2022-11-14T19:27:26.749Z"
   },
   {
    "duration": 362,
    "start_time": "2022-11-14T19:27:37.267Z"
   },
   {
    "duration": 453,
    "start_time": "2022-11-14T19:27:59.516Z"
   },
   {
    "duration": 345,
    "start_time": "2022-11-14T19:28:06.525Z"
   },
   {
    "duration": 158,
    "start_time": "2022-11-14T19:28:13.797Z"
   },
   {
    "duration": 174,
    "start_time": "2022-11-14T19:28:21.237Z"
   },
   {
    "duration": 269,
    "start_time": "2022-11-14T19:28:25.972Z"
   },
   {
    "duration": 195,
    "start_time": "2022-11-14T19:31:43.384Z"
   },
   {
    "duration": 185,
    "start_time": "2022-11-14T19:31:57.328Z"
   },
   {
    "duration": 352,
    "start_time": "2022-11-14T19:35:15.412Z"
   },
   {
    "duration": 167,
    "start_time": "2022-11-14T19:35:25.236Z"
   },
   {
    "duration": 176,
    "start_time": "2022-11-14T19:37:22.966Z"
   },
   {
    "duration": 128,
    "start_time": "2022-11-14T19:37:31.534Z"
   },
   {
    "duration": 122,
    "start_time": "2022-11-14T19:37:37.694Z"
   },
   {
    "duration": 151,
    "start_time": "2022-11-14T19:37:46.223Z"
   },
   {
    "duration": 119,
    "start_time": "2022-11-14T19:37:50.846Z"
   },
   {
    "duration": 112,
    "start_time": "2022-11-14T19:37:52.222Z"
   },
   {
    "duration": 114,
    "start_time": "2022-11-14T19:37:53.398Z"
   },
   {
    "duration": 112,
    "start_time": "2022-11-14T19:37:54.911Z"
   },
   {
    "duration": 114,
    "start_time": "2022-11-14T19:37:56.423Z"
   },
   {
    "duration": 130,
    "start_time": "2022-11-14T19:37:59.046Z"
   },
   {
    "duration": 171,
    "start_time": "2022-11-14T19:38:04.375Z"
   },
   {
    "duration": 175,
    "start_time": "2022-11-14T19:38:37.447Z"
   },
   {
    "duration": 183,
    "start_time": "2022-11-14T19:40:00.354Z"
   },
   {
    "duration": 5,
    "start_time": "2022-11-14T19:40:35.674Z"
   },
   {
    "duration": 77,
    "start_time": "2022-11-14T19:40:51.450Z"
   },
   {
    "duration": 7,
    "start_time": "2022-11-14T19:40:55.114Z"
   },
   {
    "duration": 11,
    "start_time": "2022-11-14T19:41:00.938Z"
   },
   {
    "duration": 111,
    "start_time": "2022-11-14T19:41:48.291Z"
   },
   {
    "duration": 113,
    "start_time": "2022-11-14T19:41:58.523Z"
   },
   {
    "duration": 111,
    "start_time": "2022-11-14T19:42:25.507Z"
   },
   {
    "duration": 100,
    "start_time": "2022-11-14T19:42:32.691Z"
   },
   {
    "duration": 103,
    "start_time": "2022-11-14T19:42:38.460Z"
   },
   {
    "duration": 262,
    "start_time": "2022-11-14T19:42:42.612Z"
   },
   {
    "duration": 105,
    "start_time": "2022-11-14T19:42:45.972Z"
   },
   {
    "duration": 106,
    "start_time": "2022-11-14T19:43:10.636Z"
   },
   {
    "duration": 6,
    "start_time": "2022-11-14T19:45:23.919Z"
   },
   {
    "duration": 5,
    "start_time": "2022-11-14T19:45:27.831Z"
   },
   {
    "duration": 9,
    "start_time": "2022-11-14T19:45:38.607Z"
   },
   {
    "duration": 8,
    "start_time": "2022-11-14T19:47:30.674Z"
   },
   {
    "duration": 8,
    "start_time": "2022-11-14T19:47:36.426Z"
   },
   {
    "duration": 19,
    "start_time": "2022-11-14T19:48:13.708Z"
   },
   {
    "duration": 56,
    "start_time": "2022-11-14T19:48:42.915Z"
   },
   {
    "duration": 52,
    "start_time": "2022-11-14T19:50:33.622Z"
   },
   {
    "duration": 62,
    "start_time": "2022-11-14T19:51:19.342Z"
   },
   {
    "duration": 60,
    "start_time": "2022-11-14T19:51:22.830Z"
   },
   {
    "duration": 8,
    "start_time": "2022-11-14T19:51:26.270Z"
   },
   {
    "duration": 16,
    "start_time": "2022-11-14T19:51:28.862Z"
   },
   {
    "duration": 4,
    "start_time": "2022-11-14T19:51:38.079Z"
   },
   {
    "duration": 54,
    "start_time": "2022-11-14T19:51:58.735Z"
   },
   {
    "duration": 9,
    "start_time": "2022-11-14T19:52:10.055Z"
   },
   {
    "duration": 4,
    "start_time": "2022-11-14T19:52:36.310Z"
   },
   {
    "duration": 97,
    "start_time": "2022-11-14T19:53:28.353Z"
   },
   {
    "duration": 404,
    "start_time": "2022-11-14T19:53:36.642Z"
   },
   {
    "duration": 222,
    "start_time": "2022-11-14T19:53:37.048Z"
   },
   {
    "duration": 3,
    "start_time": "2022-11-14T19:53:37.271Z"
   },
   {
    "duration": 98,
    "start_time": "2022-11-14T19:53:37.277Z"
   },
   {
    "duration": 41,
    "start_time": "2022-11-14T19:53:37.377Z"
   },
   {
    "duration": 16,
    "start_time": "2022-11-14T19:53:37.420Z"
   },
   {
    "duration": 1973,
    "start_time": "2022-11-14T19:53:37.437Z"
   },
   {
    "duration": 11,
    "start_time": "2022-11-14T19:53:39.411Z"
   },
   {
    "duration": 63,
    "start_time": "2022-11-14T19:53:39.423Z"
   },
   {
    "duration": 3,
    "start_time": "2022-11-14T19:53:39.489Z"
   },
   {
    "duration": 13,
    "start_time": "2022-11-14T19:53:39.494Z"
   },
   {
    "duration": 9,
    "start_time": "2022-11-14T19:53:39.508Z"
   },
   {
    "duration": 8,
    "start_time": "2022-11-14T19:53:39.518Z"
   },
   {
    "duration": 7,
    "start_time": "2022-11-14T19:53:39.528Z"
   },
   {
    "duration": 1234,
    "start_time": "2022-11-14T19:53:39.537Z"
   },
   {
    "duration": 5,
    "start_time": "2022-11-14T19:53:40.773Z"
   },
   {
    "duration": 17,
    "start_time": "2022-11-14T19:53:40.780Z"
   },
   {
    "duration": 15,
    "start_time": "2022-11-14T19:53:40.798Z"
   },
   {
    "duration": 15,
    "start_time": "2022-11-14T19:53:40.815Z"
   },
   {
    "duration": 10,
    "start_time": "2022-11-14T19:53:40.832Z"
   },
   {
    "duration": 11,
    "start_time": "2022-11-14T19:53:40.844Z"
   },
   {
    "duration": 48,
    "start_time": "2022-11-14T19:53:40.857Z"
   },
   {
    "duration": 21,
    "start_time": "2022-11-14T19:53:40.906Z"
   },
   {
    "duration": 7,
    "start_time": "2022-11-14T19:53:40.929Z"
   },
   {
    "duration": 14,
    "start_time": "2022-11-14T19:53:40.938Z"
   },
   {
    "duration": 41,
    "start_time": "2022-11-14T19:53:40.955Z"
   },
   {
    "duration": 5,
    "start_time": "2022-11-14T19:53:40.999Z"
   },
   {
    "duration": 16,
    "start_time": "2022-11-14T19:53:41.011Z"
   },
   {
    "duration": 11,
    "start_time": "2022-11-14T19:53:41.030Z"
   },
   {
    "duration": 129,
    "start_time": "2022-11-14T19:53:41.043Z"
   },
   {
    "duration": 13,
    "start_time": "2022-11-14T19:53:41.174Z"
   },
   {
    "duration": 82,
    "start_time": "2022-11-14T19:53:41.197Z"
   },
   {
    "duration": 228,
    "start_time": "2022-11-14T19:53:41.281Z"
   },
   {
    "duration": 5,
    "start_time": "2022-11-14T19:53:41.510Z"
   },
   {
    "duration": 8,
    "start_time": "2022-11-14T19:53:41.517Z"
   },
   {
    "duration": 260,
    "start_time": "2022-11-14T19:53:41.527Z"
   },
   {
    "duration": 44,
    "start_time": "2022-11-14T19:53:41.795Z"
   },
   {
    "duration": 7,
    "start_time": "2022-11-14T19:53:41.841Z"
   },
   {
    "duration": 126,
    "start_time": "2022-11-14T19:53:41.849Z"
   },
   {
    "duration": 45,
    "start_time": "2022-11-14T19:53:41.977Z"
   },
   {
    "duration": 192,
    "start_time": "2022-11-14T19:53:42.023Z"
   },
   {
    "duration": 42,
    "start_time": "2022-11-14T19:53:42.216Z"
   },
   {
    "duration": 6,
    "start_time": "2022-11-14T19:53:42.260Z"
   },
   {
    "duration": 76,
    "start_time": "2022-11-14T19:53:42.267Z"
   },
   {
    "duration": 6,
    "start_time": "2022-11-14T19:53:42.344Z"
   },
   {
    "duration": 4,
    "start_time": "2022-11-14T19:53:42.351Z"
   },
   {
    "duration": 108,
    "start_time": "2022-11-14T19:53:42.356Z"
   },
   {
    "duration": 4,
    "start_time": "2022-11-14T19:53:42.466Z"
   },
   {
    "duration": 9,
    "start_time": "2022-11-14T19:53:42.471Z"
   },
   {
    "duration": 18,
    "start_time": "2022-11-14T19:53:42.481Z"
   },
   {
    "duration": 5,
    "start_time": "2022-11-14T19:53:42.501Z"
   },
   {
    "duration": 12,
    "start_time": "2022-11-14T19:53:42.508Z"
   },
   {
    "duration": 336,
    "start_time": "2022-11-14T19:53:42.521Z"
   },
   {
    "duration": 4,
    "start_time": "2022-11-14T19:53:42.859Z"
   },
   {
    "duration": 190,
    "start_time": "2022-11-14T19:53:42.865Z"
   },
   {
    "duration": 204,
    "start_time": "2022-11-14T19:53:43.057Z"
   },
   {
    "duration": 183,
    "start_time": "2022-11-14T19:53:43.264Z"
   },
   {
    "duration": 186,
    "start_time": "2022-11-14T19:53:43.450Z"
   },
   {
    "duration": 201,
    "start_time": "2022-11-14T19:53:43.638Z"
   },
   {
    "duration": 210,
    "start_time": "2022-11-14T19:53:43.840Z"
   },
   {
    "duration": 269,
    "start_time": "2022-11-14T19:53:44.052Z"
   },
   {
    "duration": 136,
    "start_time": "2022-11-14T19:53:44.323Z"
   },
   {
    "duration": 180,
    "start_time": "2022-11-14T19:53:44.461Z"
   },
   {
    "duration": 196,
    "start_time": "2022-11-14T19:53:44.642Z"
   },
   {
    "duration": 187,
    "start_time": "2022-11-14T19:53:44.841Z"
   },
   {
    "duration": 200,
    "start_time": "2022-11-14T19:53:45.029Z"
   },
   {
    "duration": 149,
    "start_time": "2022-11-14T19:53:45.231Z"
   },
   {
    "duration": 8,
    "start_time": "2022-11-14T19:53:45.381Z"
   },
   {
    "duration": 7,
    "start_time": "2022-11-14T19:53:45.396Z"
   },
   {
    "duration": 193,
    "start_time": "2022-11-14T19:53:56.489Z"
   },
   {
    "duration": 215,
    "start_time": "2022-11-14T19:54:26.338Z"
   },
   {
    "duration": 180,
    "start_time": "2022-11-14T19:55:27.197Z"
   },
   {
    "duration": 274,
    "start_time": "2022-11-14T19:55:33.475Z"
   },
   {
    "duration": 181,
    "start_time": "2022-11-14T20:08:56.411Z"
   },
   {
    "duration": 172,
    "start_time": "2022-11-14T20:09:17.187Z"
   },
   {
    "duration": 172,
    "start_time": "2022-11-14T20:10:16.732Z"
   },
   {
    "duration": 73,
    "start_time": "2022-11-14T20:19:35.302Z"
   },
   {
    "duration": 10,
    "start_time": "2022-11-14T20:19:54.679Z"
   },
   {
    "duration": 61,
    "start_time": "2022-11-14T20:20:02.631Z"
   },
   {
    "duration": 9,
    "start_time": "2022-11-14T20:20:46.657Z"
   },
   {
    "duration": 7,
    "start_time": "2022-11-14T20:22:11.898Z"
   },
   {
    "duration": 4,
    "start_time": "2022-11-14T20:22:13.136Z"
   },
   {
    "duration": 7,
    "start_time": "2022-11-14T20:22:25.707Z"
   },
   {
    "duration": 4,
    "start_time": "2022-11-14T20:22:26.777Z"
   },
   {
    "duration": 8,
    "start_time": "2022-11-14T20:23:00.667Z"
   },
   {
    "duration": 6,
    "start_time": "2022-11-14T20:23:01.586Z"
   },
   {
    "duration": 7,
    "start_time": "2022-11-14T20:23:19.299Z"
   },
   {
    "duration": 5,
    "start_time": "2022-11-14T20:23:20.130Z"
   },
   {
    "duration": 401,
    "start_time": "2022-11-14T20:23:39.719Z"
   },
   {
    "duration": 227,
    "start_time": "2022-11-14T20:23:40.122Z"
   },
   {
    "duration": 4,
    "start_time": "2022-11-14T20:23:40.352Z"
   },
   {
    "duration": 114,
    "start_time": "2022-11-14T20:23:40.358Z"
   },
   {
    "duration": 45,
    "start_time": "2022-11-14T20:23:40.474Z"
   },
   {
    "duration": 15,
    "start_time": "2022-11-14T20:23:40.520Z"
   },
   {
    "duration": 2005,
    "start_time": "2022-11-14T20:23:40.537Z"
   },
   {
    "duration": 13,
    "start_time": "2022-11-14T20:23:42.544Z"
   },
   {
    "duration": 54,
    "start_time": "2022-11-14T20:23:42.559Z"
   },
   {
    "duration": 3,
    "start_time": "2022-11-14T20:23:42.615Z"
   },
   {
    "duration": 12,
    "start_time": "2022-11-14T20:23:42.620Z"
   },
   {
    "duration": 8,
    "start_time": "2022-11-14T20:23:42.633Z"
   },
   {
    "duration": 3,
    "start_time": "2022-11-14T20:23:42.643Z"
   },
   {
    "duration": 5,
    "start_time": "2022-11-14T20:23:42.648Z"
   },
   {
    "duration": 1275,
    "start_time": "2022-11-14T20:23:42.654Z"
   },
   {
    "duration": 6,
    "start_time": "2022-11-14T20:23:43.931Z"
   },
   {
    "duration": 16,
    "start_time": "2022-11-14T20:23:43.939Z"
   },
   {
    "duration": 18,
    "start_time": "2022-11-14T20:23:43.957Z"
   },
   {
    "duration": 32,
    "start_time": "2022-11-14T20:23:43.977Z"
   },
   {
    "duration": 9,
    "start_time": "2022-11-14T20:23:44.010Z"
   },
   {
    "duration": 15,
    "start_time": "2022-11-14T20:23:44.021Z"
   },
   {
    "duration": 15,
    "start_time": "2022-11-14T20:23:44.038Z"
   },
   {
    "duration": 54,
    "start_time": "2022-11-14T20:23:44.054Z"
   },
   {
    "duration": 6,
    "start_time": "2022-11-14T20:23:44.110Z"
   },
   {
    "duration": 8,
    "start_time": "2022-11-14T20:23:44.118Z"
   },
   {
    "duration": 11,
    "start_time": "2022-11-14T20:23:44.127Z"
   },
   {
    "duration": 9,
    "start_time": "2022-11-14T20:23:44.139Z"
   },
   {
    "duration": 14,
    "start_time": "2022-11-14T20:23:44.152Z"
   },
   {
    "duration": 29,
    "start_time": "2022-11-14T20:23:44.168Z"
   },
   {
    "duration": 124,
    "start_time": "2022-11-14T20:23:44.199Z"
   },
   {
    "duration": 13,
    "start_time": "2022-11-14T20:23:44.325Z"
   },
   {
    "duration": 91,
    "start_time": "2022-11-14T20:23:44.340Z"
   },
   {
    "duration": 213,
    "start_time": "2022-11-14T20:23:44.433Z"
   },
   {
    "duration": 6,
    "start_time": "2022-11-14T20:23:44.648Z"
   },
   {
    "duration": 11,
    "start_time": "2022-11-14T20:23:44.655Z"
   },
   {
    "duration": 252,
    "start_time": "2022-11-14T20:23:44.667Z"
   },
   {
    "duration": 46,
    "start_time": "2022-11-14T20:23:44.921Z"
   },
   {
    "duration": 5,
    "start_time": "2022-11-14T20:23:44.969Z"
   },
   {
    "duration": 124,
    "start_time": "2022-11-14T20:23:44.976Z"
   },
   {
    "duration": 40,
    "start_time": "2022-11-14T20:23:45.102Z"
   },
   {
    "duration": 212,
    "start_time": "2022-11-14T20:23:45.144Z"
   },
   {
    "duration": 47,
    "start_time": "2022-11-14T20:23:45.358Z"
   },
   {
    "duration": 6,
    "start_time": "2022-11-14T20:23:45.407Z"
   },
   {
    "duration": 53,
    "start_time": "2022-11-14T20:23:45.414Z"
   },
   {
    "duration": 6,
    "start_time": "2022-11-14T20:23:45.469Z"
   },
   {
    "duration": 9,
    "start_time": "2022-11-14T20:23:45.497Z"
   },
   {
    "duration": 7,
    "start_time": "2022-11-14T20:23:45.508Z"
   },
   {
    "duration": 5,
    "start_time": "2022-11-14T20:23:45.517Z"
   },
   {
    "duration": 110,
    "start_time": "2022-11-14T20:23:45.524Z"
   },
   {
    "duration": 4,
    "start_time": "2022-11-14T20:23:45.635Z"
   },
   {
    "duration": 9,
    "start_time": "2022-11-14T20:23:45.641Z"
   },
   {
    "duration": 6,
    "start_time": "2022-11-14T20:23:45.651Z"
   },
   {
    "duration": 6,
    "start_time": "2022-11-14T20:23:45.658Z"
   },
   {
    "duration": 5,
    "start_time": "2022-11-14T20:23:45.665Z"
   },
   {
    "duration": 338,
    "start_time": "2022-11-14T20:23:45.671Z"
   },
   {
    "duration": 6,
    "start_time": "2022-11-14T20:23:46.011Z"
   },
   {
    "duration": 234,
    "start_time": "2022-11-14T20:23:46.019Z"
   },
   {
    "duration": 203,
    "start_time": "2022-11-14T20:23:46.254Z"
   },
   {
    "duration": 172,
    "start_time": "2022-11-14T20:23:46.459Z"
   },
   {
    "duration": 174,
    "start_time": "2022-11-14T20:23:46.633Z"
   },
   {
    "duration": 194,
    "start_time": "2022-11-14T20:23:46.809Z"
   },
   {
    "duration": 196,
    "start_time": "2022-11-14T20:23:47.004Z"
   },
   {
    "duration": 258,
    "start_time": "2022-11-14T20:23:47.202Z"
   },
   {
    "duration": 141,
    "start_time": "2022-11-14T20:23:47.462Z"
   },
   {
    "duration": 180,
    "start_time": "2022-11-14T20:23:47.605Z"
   },
   {
    "duration": 212,
    "start_time": "2022-11-14T20:23:47.787Z"
   },
   {
    "duration": 180,
    "start_time": "2022-11-14T20:23:48.000Z"
   },
   {
    "duration": 175,
    "start_time": "2022-11-14T20:23:48.182Z"
   },
   {
    "duration": 141,
    "start_time": "2022-11-14T20:23:48.358Z"
   },
   {
    "duration": 9,
    "start_time": "2022-11-14T20:23:48.501Z"
   },
   {
    "duration": 7,
    "start_time": "2022-11-14T20:23:48.512Z"
   },
   {
    "duration": 174,
    "start_time": "2022-11-14T20:32:28.862Z"
   },
   {
    "duration": 276,
    "start_time": "2022-11-14T20:32:36.277Z"
   },
   {
    "duration": 6,
    "start_time": "2022-11-14T20:33:22.598Z"
   },
   {
    "duration": 6,
    "start_time": "2022-11-14T20:33:25.174Z"
   },
   {
    "duration": 10,
    "start_time": "2022-11-14T20:36:10.297Z"
   },
   {
    "duration": 79,
    "start_time": "2022-11-14T20:36:43.745Z"
   },
   {
    "duration": 9,
    "start_time": "2022-11-14T20:36:53.330Z"
   },
   {
    "duration": 48,
    "start_time": "2022-11-14T20:37:44.267Z"
   },
   {
    "duration": 27,
    "start_time": "2022-11-14T20:37:49.867Z"
   },
   {
    "duration": 6,
    "start_time": "2022-11-14T20:38:20.732Z"
   },
   {
    "duration": 6,
    "start_time": "2022-11-14T20:38:23.035Z"
   },
   {
    "duration": 225,
    "start_time": "2022-11-14T20:40:18.949Z"
   },
   {
    "duration": 149,
    "start_time": "2022-11-14T20:40:25.950Z"
   },
   {
    "duration": 161,
    "start_time": "2022-11-14T20:40:41.582Z"
   },
   {
    "duration": 231,
    "start_time": "2022-11-14T20:40:55.590Z"
   },
   {
    "duration": 217,
    "start_time": "2022-11-14T20:43:25.401Z"
   },
   {
    "duration": 223,
    "start_time": "2022-11-14T20:44:10.506Z"
   },
   {
    "duration": 245,
    "start_time": "2022-11-14T20:44:15.834Z"
   },
   {
    "duration": 241,
    "start_time": "2022-11-14T20:46:14.966Z"
   },
   {
    "duration": 248,
    "start_time": "2022-11-14T20:46:39.645Z"
   },
   {
    "duration": 612,
    "start_time": "2022-11-14T20:47:37.534Z"
   },
   {
    "duration": 24,
    "start_time": "2022-11-14T20:49:40.008Z"
   },
   {
    "duration": 21,
    "start_time": "2022-11-14T20:49:47.067Z"
   },
   {
    "duration": 22,
    "start_time": "2022-11-14T20:50:02.017Z"
   },
   {
    "duration": 8,
    "start_time": "2022-11-14T20:51:32.994Z"
   },
   {
    "duration": 23,
    "start_time": "2022-11-14T20:54:15.101Z"
   },
   {
    "duration": 23,
    "start_time": "2022-11-14T20:54:31.718Z"
   },
   {
    "duration": 20,
    "start_time": "2022-11-14T20:54:40.622Z"
   },
   {
    "duration": 64,
    "start_time": "2022-11-14T20:58:12.346Z"
   },
   {
    "duration": 23,
    "start_time": "2022-11-14T20:59:06.803Z"
   },
   {
    "duration": 23,
    "start_time": "2022-11-14T20:59:53.588Z"
   },
   {
    "duration": 21,
    "start_time": "2022-11-14T21:00:08.405Z"
   },
   {
    "duration": 21,
    "start_time": "2022-11-14T21:00:20.869Z"
   },
   {
    "duration": 67,
    "start_time": "2022-11-15T10:41:10.417Z"
   },
   {
    "duration": 376,
    "start_time": "2022-11-15T10:41:17.653Z"
   },
   {
    "duration": 437,
    "start_time": "2022-11-15T10:41:18.031Z"
   },
   {
    "duration": 3,
    "start_time": "2022-11-15T10:41:18.470Z"
   },
   {
    "duration": 331,
    "start_time": "2022-11-15T10:41:18.474Z"
   },
   {
    "duration": 45,
    "start_time": "2022-11-15T10:41:18.807Z"
   },
   {
    "duration": 15,
    "start_time": "2022-11-15T10:41:18.854Z"
   },
   {
    "duration": 2095,
    "start_time": "2022-11-15T10:41:18.871Z"
   },
   {
    "duration": 19,
    "start_time": "2022-11-15T10:41:20.968Z"
   },
   {
    "duration": 57,
    "start_time": "2022-11-15T10:41:20.989Z"
   },
   {
    "duration": 3,
    "start_time": "2022-11-15T10:41:21.048Z"
   },
   {
    "duration": 12,
    "start_time": "2022-11-15T10:41:21.052Z"
   },
   {
    "duration": 8,
    "start_time": "2022-11-15T10:41:21.066Z"
   },
   {
    "duration": 22,
    "start_time": "2022-11-15T10:41:21.075Z"
   },
   {
    "duration": 4,
    "start_time": "2022-11-15T10:41:21.100Z"
   },
   {
    "duration": 1265,
    "start_time": "2022-11-15T10:41:21.105Z"
   },
   {
    "duration": 5,
    "start_time": "2022-11-15T10:41:22.372Z"
   },
   {
    "duration": 21,
    "start_time": "2022-11-15T10:41:22.378Z"
   },
   {
    "duration": 14,
    "start_time": "2022-11-15T10:41:22.401Z"
   },
   {
    "duration": 12,
    "start_time": "2022-11-15T10:41:22.417Z"
   },
   {
    "duration": 7,
    "start_time": "2022-11-15T10:41:22.431Z"
   },
   {
    "duration": 15,
    "start_time": "2022-11-15T10:41:22.440Z"
   },
   {
    "duration": 12,
    "start_time": "2022-11-15T10:41:22.457Z"
   },
   {
    "duration": 45,
    "start_time": "2022-11-15T10:41:22.470Z"
   },
   {
    "duration": 6,
    "start_time": "2022-11-15T10:41:22.516Z"
   },
   {
    "duration": 7,
    "start_time": "2022-11-15T10:41:22.523Z"
   },
   {
    "duration": 10,
    "start_time": "2022-11-15T10:41:22.531Z"
   },
   {
    "duration": 3,
    "start_time": "2022-11-15T10:41:22.543Z"
   },
   {
    "duration": 49,
    "start_time": "2022-11-15T10:41:22.547Z"
   },
   {
    "duration": 7,
    "start_time": "2022-11-15T10:41:22.598Z"
   },
   {
    "duration": 117,
    "start_time": "2022-11-15T10:41:22.607Z"
   },
   {
    "duration": 12,
    "start_time": "2022-11-15T10:41:22.726Z"
   },
   {
    "duration": 9,
    "start_time": "2022-11-15T10:41:22.740Z"
   },
   {
    "duration": 103,
    "start_time": "2022-11-15T10:41:22.751Z"
   },
   {
    "duration": 223,
    "start_time": "2022-11-15T10:41:22.855Z"
   },
   {
    "duration": 5,
    "start_time": "2022-11-15T10:41:23.080Z"
   },
   {
    "duration": 12,
    "start_time": "2022-11-15T10:41:23.096Z"
   },
   {
    "duration": 237,
    "start_time": "2022-11-15T10:41:23.109Z"
   },
   {
    "duration": 53,
    "start_time": "2022-11-15T10:41:23.348Z"
   },
   {
    "duration": 6,
    "start_time": "2022-11-15T10:41:23.403Z"
   },
   {
    "duration": 115,
    "start_time": "2022-11-15T10:41:23.411Z"
   },
   {
    "duration": 35,
    "start_time": "2022-11-15T10:41:23.531Z"
   },
   {
    "duration": 191,
    "start_time": "2022-11-15T10:41:23.567Z"
   },
   {
    "duration": 44,
    "start_time": "2022-11-15T10:41:23.760Z"
   },
   {
    "duration": 5,
    "start_time": "2022-11-15T10:41:23.806Z"
   },
   {
    "duration": 50,
    "start_time": "2022-11-15T10:41:23.813Z"
   },
   {
    "duration": 6,
    "start_time": "2022-11-15T10:41:23.865Z"
   },
   {
    "duration": 31,
    "start_time": "2022-11-15T10:41:23.872Z"
   },
   {
    "duration": 6,
    "start_time": "2022-11-15T10:41:23.905Z"
   },
   {
    "duration": 4,
    "start_time": "2022-11-15T10:41:23.912Z"
   },
   {
    "duration": 111,
    "start_time": "2022-11-15T10:41:23.918Z"
   },
   {
    "duration": 4,
    "start_time": "2022-11-15T10:41:24.031Z"
   },
   {
    "duration": 13,
    "start_time": "2022-11-15T10:41:24.037Z"
   },
   {
    "duration": 5,
    "start_time": "2022-11-15T10:41:24.052Z"
   },
   {
    "duration": 7,
    "start_time": "2022-11-15T10:41:24.059Z"
   },
   {
    "duration": 3,
    "start_time": "2022-11-15T10:41:24.068Z"
   },
   {
    "duration": 341,
    "start_time": "2022-11-15T10:41:24.097Z"
   },
   {
    "duration": 5,
    "start_time": "2022-11-15T10:41:24.440Z"
   },
   {
    "duration": 199,
    "start_time": "2022-11-15T10:41:24.447Z"
   },
   {
    "duration": 222,
    "start_time": "2022-11-15T10:41:24.648Z"
   },
   {
    "duration": 193,
    "start_time": "2022-11-15T10:41:24.872Z"
   },
   {
    "duration": 225,
    "start_time": "2022-11-15T10:41:25.066Z"
   },
   {
    "duration": 214,
    "start_time": "2022-11-15T10:41:25.293Z"
   },
   {
    "duration": 221,
    "start_time": "2022-11-15T10:41:25.509Z"
   },
   {
    "duration": 343,
    "start_time": "2022-11-15T10:41:25.732Z"
   },
   {
    "duration": 190,
    "start_time": "2022-11-15T10:41:26.078Z"
   },
   {
    "duration": 202,
    "start_time": "2022-11-15T10:41:26.270Z"
   },
   {
    "duration": 206,
    "start_time": "2022-11-15T10:41:26.474Z"
   },
   {
    "duration": 188,
    "start_time": "2022-11-15T10:41:26.682Z"
   },
   {
    "duration": 195,
    "start_time": "2022-11-15T10:41:26.871Z"
   },
   {
    "duration": 158,
    "start_time": "2022-11-15T10:41:27.068Z"
   },
   {
    "duration": 608,
    "start_time": "2022-11-15T10:41:27.227Z"
   },
   {
    "duration": 278,
    "start_time": "2022-11-15T10:41:27.837Z"
   },
   {
    "duration": 24,
    "start_time": "2022-11-15T10:41:28.117Z"
   },
   {
    "duration": 5,
    "start_time": "2022-11-15T10:41:28.143Z"
   },
   {
    "duration": 6,
    "start_time": "2022-11-15T10:41:28.150Z"
   },
   {
    "duration": 41,
    "start_time": "2022-11-15T10:41:28.158Z"
   },
   {
    "duration": 1467,
    "start_time": "2022-11-15T10:43:32.465Z"
   },
   {
    "duration": 21,
    "start_time": "2022-11-15T10:44:03.246Z"
   },
   {
    "duration": 1254,
    "start_time": "2022-11-15T10:44:17.550Z"
   },
   {
    "duration": 162,
    "start_time": "2022-11-15T10:45:17.210Z"
   },
   {
    "duration": 178,
    "start_time": "2022-11-15T10:46:30.697Z"
   },
   {
    "duration": 1267,
    "start_time": "2022-11-15T10:46:48.509Z"
   },
   {
    "duration": 23,
    "start_time": "2022-11-15T10:46:59.589Z"
   },
   {
    "duration": 88,
    "start_time": "2022-11-15T10:47:47.706Z"
   },
   {
    "duration": 15,
    "start_time": "2022-11-15T10:51:10.910Z"
   },
   {
    "duration": 14,
    "start_time": "2022-11-15T10:51:20.551Z"
   },
   {
    "duration": 15,
    "start_time": "2022-11-15T10:51:48.697Z"
   },
   {
    "duration": 17,
    "start_time": "2022-11-15T10:52:31.283Z"
   },
   {
    "duration": 14,
    "start_time": "2022-11-15T10:52:53.733Z"
   },
   {
    "duration": 17,
    "start_time": "2022-11-15T10:53:25.616Z"
   },
   {
    "duration": 22,
    "start_time": "2022-11-15T10:53:35.623Z"
   },
   {
    "duration": 32,
    "start_time": "2022-11-15T10:53:42.638Z"
   },
   {
    "duration": 432,
    "start_time": "2022-11-15T10:54:13.344Z"
   },
   {
    "duration": 27,
    "start_time": "2022-11-15T10:54:27.481Z"
   },
   {
    "duration": 530,
    "start_time": "2022-11-15T10:54:49.229Z"
   },
   {
    "duration": 28,
    "start_time": "2022-11-15T10:55:06.276Z"
   },
   {
    "duration": 24,
    "start_time": "2022-11-15T10:55:21.021Z"
   },
   {
    "duration": 25,
    "start_time": "2022-11-15T10:55:27.506Z"
   },
   {
    "duration": 28,
    "start_time": "2022-11-15T10:55:41.654Z"
   },
   {
    "duration": 2069,
    "start_time": "2022-11-15T10:56:01.078Z"
   },
   {
    "duration": 1351,
    "start_time": "2022-11-15T10:56:10.203Z"
   },
   {
    "duration": 165,
    "start_time": "2022-11-15T10:56:22.764Z"
   },
   {
    "duration": 226,
    "start_time": "2022-11-15T10:56:55.978Z"
   },
   {
    "duration": 179,
    "start_time": "2022-11-15T10:57:04.324Z"
   },
   {
    "duration": 315,
    "start_time": "2022-11-15T10:57:17.885Z"
   },
   {
    "duration": 27,
    "start_time": "2022-11-15T10:57:46.244Z"
   },
   {
    "duration": 33,
    "start_time": "2022-11-15T10:58:07.770Z"
   },
   {
    "duration": 26,
    "start_time": "2022-11-15T10:58:36.557Z"
   },
   {
    "duration": 27,
    "start_time": "2022-11-15T10:59:36.886Z"
   },
   {
    "duration": 29,
    "start_time": "2022-11-15T11:00:08.956Z"
   },
   {
    "duration": 175,
    "start_time": "2022-11-15T11:00:16.879Z"
   },
   {
    "duration": 3149,
    "start_time": "2022-11-15T11:00:36.205Z"
   },
   {
    "duration": 206,
    "start_time": "2022-11-15T11:00:46.015Z"
   },
   {
    "duration": 173,
    "start_time": "2022-11-15T11:01:01.236Z"
   },
   {
    "duration": 299,
    "start_time": "2022-11-15T11:01:27.113Z"
   },
   {
    "duration": 1990,
    "start_time": "2022-11-15T11:08:05.314Z"
   },
   {
    "duration": 1323,
    "start_time": "2022-11-15T11:08:26.251Z"
   },
   {
    "duration": 161,
    "start_time": "2022-11-15T11:08:57.030Z"
   },
   {
    "duration": 158,
    "start_time": "2022-11-15T11:09:37.065Z"
   },
   {
    "duration": 8,
    "start_time": "2022-11-15T11:10:50.153Z"
   },
   {
    "duration": 74,
    "start_time": "2022-11-15T11:11:01.734Z"
   },
   {
    "duration": 116,
    "start_time": "2022-11-15T11:13:38.372Z"
   },
   {
    "duration": 156,
    "start_time": "2022-11-15T11:14:28.708Z"
   },
   {
    "duration": 150,
    "start_time": "2022-11-15T11:14:37.233Z"
   },
   {
    "duration": 155,
    "start_time": "2022-11-15T11:14:40.905Z"
   },
   {
    "duration": 162,
    "start_time": "2022-11-15T11:15:20.941Z"
   },
   {
    "duration": 183,
    "start_time": "2022-11-15T11:15:35.886Z"
   },
   {
    "duration": 155,
    "start_time": "2022-11-15T11:15:56.837Z"
   },
   {
    "duration": 158,
    "start_time": "2022-11-15T12:02:47.694Z"
   },
   {
    "duration": 138,
    "start_time": "2022-11-15T12:04:50.437Z"
   },
   {
    "duration": 134,
    "start_time": "2022-11-15T12:06:52.057Z"
   },
   {
    "duration": 587,
    "start_time": "2022-11-15T12:09:28.335Z"
   },
   {
    "duration": 148,
    "start_time": "2022-11-15T12:09:38.287Z"
   },
   {
    "duration": 126,
    "start_time": "2022-11-15T12:09:51.207Z"
   },
   {
    "duration": 742,
    "start_time": "2022-11-15T12:09:56.258Z"
   },
   {
    "duration": 144,
    "start_time": "2022-11-15T12:10:15.286Z"
   },
   {
    "duration": 137,
    "start_time": "2022-11-15T12:10:32.678Z"
   },
   {
    "duration": 129,
    "start_time": "2022-11-15T12:10:39.411Z"
   },
   {
    "duration": 68,
    "start_time": "2022-11-15T12:11:05.230Z"
   },
   {
    "duration": 14,
    "start_time": "2022-11-15T12:11:12.325Z"
   },
   {
    "duration": 14,
    "start_time": "2022-11-15T12:11:23.117Z"
   },
   {
    "duration": 128,
    "start_time": "2022-11-15T12:12:51.610Z"
   },
   {
    "duration": 529,
    "start_time": "2022-11-15T12:13:33.213Z"
   },
   {
    "duration": 5,
    "start_time": "2022-11-15T12:14:04.627Z"
   },
   {
    "duration": 509,
    "start_time": "2022-11-15T12:14:09.405Z"
   },
   {
    "duration": 135,
    "start_time": "2022-11-15T12:14:45.794Z"
   },
   {
    "duration": 129,
    "start_time": "2022-11-15T12:14:54.948Z"
   },
   {
    "duration": 69,
    "start_time": "2022-11-15T12:15:23.216Z"
   },
   {
    "duration": 9,
    "start_time": "2022-11-15T12:16:36.581Z"
   },
   {
    "duration": 134,
    "start_time": "2022-11-15T12:16:50.393Z"
   },
   {
    "duration": 418,
    "start_time": "2022-11-15T14:15:07.931Z"
   },
   {
    "duration": 411,
    "start_time": "2022-11-15T14:15:08.352Z"
   },
   {
    "duration": 3,
    "start_time": "2022-11-15T14:15:08.765Z"
   },
   {
    "duration": 158,
    "start_time": "2022-11-15T14:15:08.770Z"
   },
   {
    "duration": 44,
    "start_time": "2022-11-15T14:15:08.929Z"
   },
   {
    "duration": 17,
    "start_time": "2022-11-15T14:15:08.974Z"
   },
   {
    "duration": 2107,
    "start_time": "2022-11-15T14:15:08.992Z"
   },
   {
    "duration": 9,
    "start_time": "2022-11-15T14:15:11.101Z"
   },
   {
    "duration": 67,
    "start_time": "2022-11-15T14:15:11.111Z"
   },
   {
    "duration": 43,
    "start_time": "2022-11-15T14:15:11.181Z"
   },
   {
    "duration": 13,
    "start_time": "2022-11-15T14:15:11.225Z"
   },
   {
    "duration": 9,
    "start_time": "2022-11-15T14:15:11.240Z"
   },
   {
    "duration": 3,
    "start_time": "2022-11-15T14:15:11.251Z"
   },
   {
    "duration": 5,
    "start_time": "2022-11-15T14:15:11.256Z"
   },
   {
    "duration": 1396,
    "start_time": "2022-11-15T14:15:11.263Z"
   },
   {
    "duration": 4,
    "start_time": "2022-11-15T14:15:12.661Z"
   },
   {
    "duration": 11,
    "start_time": "2022-11-15T14:15:12.667Z"
   },
   {
    "duration": 15,
    "start_time": "2022-11-15T14:15:12.679Z"
   },
   {
    "duration": 33,
    "start_time": "2022-11-15T14:15:12.696Z"
   },
   {
    "duration": 8,
    "start_time": "2022-11-15T14:15:12.731Z"
   },
   {
    "duration": 14,
    "start_time": "2022-11-15T14:15:12.741Z"
   },
   {
    "duration": 26,
    "start_time": "2022-11-15T14:15:12.757Z"
   },
   {
    "duration": 21,
    "start_time": "2022-11-15T14:15:12.785Z"
   },
   {
    "duration": 19,
    "start_time": "2022-11-15T14:15:12.807Z"
   },
   {
    "duration": 8,
    "start_time": "2022-11-15T14:15:12.827Z"
   },
   {
    "duration": 11,
    "start_time": "2022-11-15T14:15:12.836Z"
   },
   {
    "duration": 8,
    "start_time": "2022-11-15T14:15:12.848Z"
   },
   {
    "duration": 10,
    "start_time": "2022-11-15T14:15:12.861Z"
   },
   {
    "duration": 14,
    "start_time": "2022-11-15T14:15:12.873Z"
   },
   {
    "duration": 147,
    "start_time": "2022-11-15T14:15:12.888Z"
   },
   {
    "duration": 14,
    "start_time": "2022-11-15T14:15:13.037Z"
   },
   {
    "duration": 17,
    "start_time": "2022-11-15T14:15:13.053Z"
   },
   {
    "duration": 99,
    "start_time": "2022-11-15T14:15:13.072Z"
   },
   {
    "duration": 218,
    "start_time": "2022-11-15T14:15:13.173Z"
   },
   {
    "duration": 6,
    "start_time": "2022-11-15T14:15:13.393Z"
   },
   {
    "duration": 25,
    "start_time": "2022-11-15T14:15:13.400Z"
   },
   {
    "duration": 243,
    "start_time": "2022-11-15T14:15:13.427Z"
   },
   {
    "duration": 53,
    "start_time": "2022-11-15T14:15:13.672Z"
   },
   {
    "duration": 6,
    "start_time": "2022-11-15T14:15:13.727Z"
   },
   {
    "duration": 131,
    "start_time": "2022-11-15T14:15:13.735Z"
   },
   {
    "duration": 41,
    "start_time": "2022-11-15T14:15:13.867Z"
   },
   {
    "duration": 228,
    "start_time": "2022-11-15T14:15:13.923Z"
   },
   {
    "duration": 68,
    "start_time": "2022-11-15T14:15:14.155Z"
   },
   {
    "duration": 15,
    "start_time": "2022-11-15T14:15:14.226Z"
   },
   {
    "duration": 92,
    "start_time": "2022-11-15T14:15:14.244Z"
   },
   {
    "duration": 8,
    "start_time": "2022-11-15T14:15:14.338Z"
   },
   {
    "duration": 25,
    "start_time": "2022-11-15T14:15:14.348Z"
   },
   {
    "duration": 11,
    "start_time": "2022-11-15T14:15:14.375Z"
   },
   {
    "duration": 20,
    "start_time": "2022-11-15T14:15:14.388Z"
   },
   {
    "duration": 90,
    "start_time": "2022-11-15T14:15:14.410Z"
   },
   {
    "duration": 5,
    "start_time": "2022-11-15T14:15:14.502Z"
   },
   {
    "duration": 14,
    "start_time": "2022-11-15T14:15:14.509Z"
   },
   {
    "duration": 15,
    "start_time": "2022-11-15T14:15:14.525Z"
   },
   {
    "duration": 17,
    "start_time": "2022-11-15T14:15:14.542Z"
   },
   {
    "duration": 14,
    "start_time": "2022-11-15T14:15:14.561Z"
   },
   {
    "duration": 323,
    "start_time": "2022-11-15T14:15:14.577Z"
   },
   {
    "duration": 4,
    "start_time": "2022-11-15T14:15:14.902Z"
   },
   {
    "duration": 196,
    "start_time": "2022-11-15T14:15:14.908Z"
   },
   {
    "duration": 209,
    "start_time": "2022-11-15T14:15:15.106Z"
   },
   {
    "duration": 171,
    "start_time": "2022-11-15T14:15:15.322Z"
   },
   {
    "duration": 180,
    "start_time": "2022-11-15T14:15:15.495Z"
   },
   {
    "duration": 203,
    "start_time": "2022-11-15T14:15:15.676Z"
   },
   {
    "duration": 208,
    "start_time": "2022-11-15T14:15:15.881Z"
   },
   {
    "duration": 277,
    "start_time": "2022-11-15T14:15:16.091Z"
   },
   {
    "duration": 144,
    "start_time": "2022-11-15T14:15:16.370Z"
   },
   {
    "duration": 193,
    "start_time": "2022-11-15T14:15:16.522Z"
   },
   {
    "duration": 208,
    "start_time": "2022-11-15T14:15:16.717Z"
   },
   {
    "duration": 196,
    "start_time": "2022-11-15T14:15:16.927Z"
   },
   {
    "duration": 188,
    "start_time": "2022-11-15T14:15:17.124Z"
   },
   {
    "duration": 159,
    "start_time": "2022-11-15T14:15:17.313Z"
   },
   {
    "duration": 593,
    "start_time": "2022-11-15T14:15:17.474Z"
   },
   {
    "duration": 235,
    "start_time": "2022-11-15T14:15:18.068Z"
   },
   {
    "duration": 37,
    "start_time": "2022-11-15T14:15:18.305Z"
   },
   {
    "duration": 4,
    "start_time": "2022-11-15T14:15:18.344Z"
   },
   {
    "duration": 7,
    "start_time": "2022-11-15T14:15:18.350Z"
   },
   {
    "duration": 195,
    "start_time": "2022-11-15T14:15:18.359Z"
   },
   {
    "duration": 166,
    "start_time": "2022-11-15T14:15:18.556Z"
   },
   {
    "duration": 151,
    "start_time": "2022-11-15T14:15:18.724Z"
   },
   {
    "duration": 147,
    "start_time": "2022-11-15T14:15:18.877Z"
   },
   {
    "duration": 165,
    "start_time": "2022-11-15T14:15:19.026Z"
   },
   {
    "duration": 1298,
    "start_time": "2022-11-15T14:15:48.103Z"
   },
   {
    "duration": 132,
    "start_time": "2022-11-15T14:16:25.542Z"
   },
   {
    "duration": 154,
    "start_time": "2022-11-15T14:17:04.848Z"
   },
   {
    "duration": 1264,
    "start_time": "2022-11-15T14:17:33.764Z"
   },
   {
    "duration": 146,
    "start_time": "2022-11-15T14:17:42.797Z"
   },
   {
    "duration": 313,
    "start_time": "2022-11-15T14:18:42.250Z"
   },
   {
    "duration": 445,
    "start_time": "2022-11-15T14:19:22.034Z"
   },
   {
    "duration": 6,
    "start_time": "2022-11-15T14:22:18.206Z"
   },
   {
    "duration": 26,
    "start_time": "2022-11-15T14:22:49.459Z"
   },
   {
    "duration": 15,
    "start_time": "2022-11-15T14:23:11.220Z"
   },
   {
    "duration": 9,
    "start_time": "2022-11-15T14:26:09.347Z"
   },
   {
    "duration": 5,
    "start_time": "2022-11-15T14:27:17.094Z"
   },
   {
    "duration": 8,
    "start_time": "2022-11-15T14:52:39.373Z"
   },
   {
    "duration": 9,
    "start_time": "2022-11-15T14:52:54.212Z"
   },
   {
    "duration": 6,
    "start_time": "2022-11-15T14:53:12.560Z"
   },
   {
    "duration": 5,
    "start_time": "2022-11-15T14:53:23.262Z"
   },
   {
    "duration": 8,
    "start_time": "2022-11-15T15:00:12.616Z"
   },
   {
    "duration": 76,
    "start_time": "2022-11-15T15:03:12.646Z"
   },
   {
    "duration": 12,
    "start_time": "2022-11-15T15:04:19.166Z"
   },
   {
    "duration": 10,
    "start_time": "2022-11-15T15:04:50.207Z"
   },
   {
    "duration": 8,
    "start_time": "2022-11-15T15:05:05.975Z"
   },
   {
    "duration": 7,
    "start_time": "2022-11-15T15:05:16.268Z"
   },
   {
    "duration": 74,
    "start_time": "2022-11-15T15:05:30.472Z"
   },
   {
    "duration": 8,
    "start_time": "2022-11-15T15:06:34.716Z"
   },
   {
    "duration": 7,
    "start_time": "2022-11-15T15:08:46.974Z"
   },
   {
    "duration": 7,
    "start_time": "2022-11-15T15:08:57.180Z"
   },
   {
    "duration": 10,
    "start_time": "2022-11-15T15:10:14.610Z"
   },
   {
    "duration": 11,
    "start_time": "2022-11-15T15:10:15.913Z"
   },
   {
    "duration": 46,
    "start_time": "2022-11-15T15:10:18.300Z"
   },
   {
    "duration": 8,
    "start_time": "2022-11-15T15:11:08.297Z"
   },
   {
    "duration": 9,
    "start_time": "2022-11-15T15:11:21.023Z"
   },
   {
    "duration": 7,
    "start_time": "2022-11-15T15:11:26.274Z"
   },
   {
    "duration": 63,
    "start_time": "2022-11-15T15:11:47.200Z"
   },
   {
    "duration": 8,
    "start_time": "2022-11-15T15:16:53.956Z"
   },
   {
    "duration": 7,
    "start_time": "2022-11-15T15:19:50.399Z"
   },
   {
    "duration": 14,
    "start_time": "2022-11-15T15:19:54.652Z"
   },
   {
    "duration": 18,
    "start_time": "2022-11-15T15:20:19.907Z"
   },
   {
    "duration": 23,
    "start_time": "2022-11-15T15:20:28.329Z"
   },
   {
    "duration": 8,
    "start_time": "2022-11-15T15:24:28.673Z"
   },
   {
    "duration": 7,
    "start_time": "2022-11-15T15:24:40.113Z"
   },
   {
    "duration": 13,
    "start_time": "2022-11-15T15:32:03.073Z"
   },
   {
    "duration": 14,
    "start_time": "2022-11-15T15:34:12.476Z"
   },
   {
    "duration": 462,
    "start_time": "2022-11-15T15:34:23.182Z"
   },
   {
    "duration": 273,
    "start_time": "2022-11-15T15:34:23.646Z"
   },
   {
    "duration": 4,
    "start_time": "2022-11-15T15:34:23.921Z"
   },
   {
    "duration": 147,
    "start_time": "2022-11-15T15:34:23.927Z"
   },
   {
    "duration": 64,
    "start_time": "2022-11-15T15:34:24.078Z"
   },
   {
    "duration": 23,
    "start_time": "2022-11-15T15:34:24.144Z"
   },
   {
    "duration": 2318,
    "start_time": "2022-11-15T15:34:24.170Z"
   },
   {
    "duration": 10,
    "start_time": "2022-11-15T15:34:26.490Z"
   },
   {
    "duration": 61,
    "start_time": "2022-11-15T15:34:26.502Z"
   },
   {
    "duration": 4,
    "start_time": "2022-11-15T15:34:26.565Z"
   },
   {
    "duration": 12,
    "start_time": "2022-11-15T15:34:26.570Z"
   },
   {
    "duration": 9,
    "start_time": "2022-11-15T15:34:26.584Z"
   },
   {
    "duration": 4,
    "start_time": "2022-11-15T15:34:26.594Z"
   },
   {
    "duration": 4,
    "start_time": "2022-11-15T15:34:26.600Z"
   },
   {
    "duration": 1360,
    "start_time": "2022-11-15T15:34:26.622Z"
   },
   {
    "duration": 4,
    "start_time": "2022-11-15T15:34:27.984Z"
   },
   {
    "duration": 11,
    "start_time": "2022-11-15T15:34:27.990Z"
   },
   {
    "duration": 35,
    "start_time": "2022-11-15T15:34:28.003Z"
   },
   {
    "duration": 14,
    "start_time": "2022-11-15T15:34:28.040Z"
   },
   {
    "duration": 7,
    "start_time": "2022-11-15T15:34:28.055Z"
   },
   {
    "duration": 15,
    "start_time": "2022-11-15T15:34:28.064Z"
   },
   {
    "duration": 14,
    "start_time": "2022-11-15T15:34:28.081Z"
   },
   {
    "duration": 40,
    "start_time": "2022-11-15T15:34:28.096Z"
   },
   {
    "duration": 6,
    "start_time": "2022-11-15T15:34:28.138Z"
   },
   {
    "duration": 8,
    "start_time": "2022-11-15T15:34:28.145Z"
   },
   {
    "duration": 13,
    "start_time": "2022-11-15T15:34:28.155Z"
   },
   {
    "duration": 9,
    "start_time": "2022-11-15T15:34:28.170Z"
   },
   {
    "duration": 13,
    "start_time": "2022-11-15T15:34:28.180Z"
   },
   {
    "duration": 38,
    "start_time": "2022-11-15T15:34:28.194Z"
   },
   {
    "duration": 128,
    "start_time": "2022-11-15T15:34:28.235Z"
   },
   {
    "duration": 14,
    "start_time": "2022-11-15T15:34:28.365Z"
   },
   {
    "duration": 9,
    "start_time": "2022-11-15T15:34:28.380Z"
   },
   {
    "duration": 109,
    "start_time": "2022-11-15T15:34:28.391Z"
   },
   {
    "duration": 233,
    "start_time": "2022-11-15T15:34:28.502Z"
   },
   {
    "duration": 5,
    "start_time": "2022-11-15T15:34:28.738Z"
   },
   {
    "duration": 9,
    "start_time": "2022-11-15T15:34:28.745Z"
   },
   {
    "duration": 260,
    "start_time": "2022-11-15T15:34:28.755Z"
   },
   {
    "duration": 57,
    "start_time": "2022-11-15T15:34:29.017Z"
   },
   {
    "duration": 6,
    "start_time": "2022-11-15T15:34:29.075Z"
   },
   {
    "duration": 114,
    "start_time": "2022-11-15T15:34:29.083Z"
   },
   {
    "duration": 134,
    "start_time": "2022-11-15T15:34:29.202Z"
   },
   {
    "duration": 125,
    "start_time": "2022-11-15T15:34:29.339Z"
   },
   {
    "duration": 69,
    "start_time": "2022-11-15T15:34:29.466Z"
   },
   {
    "duration": 6,
    "start_time": "2022-11-15T15:34:29.537Z"
   },
   {
    "duration": 55,
    "start_time": "2022-11-15T15:34:29.545Z"
   },
   {
    "duration": 6,
    "start_time": "2022-11-15T15:34:29.601Z"
   },
   {
    "duration": 332,
    "start_time": "2022-11-15T15:34:29.608Z"
   },
   {
    "duration": 225,
    "start_time": "2022-11-15T15:34:29.941Z"
   },
   {
    "duration": 7,
    "start_time": "2022-11-15T15:34:30.168Z"
   },
   {
    "duration": 103,
    "start_time": "2022-11-15T15:34:30.176Z"
   },
   {
    "duration": 5,
    "start_time": "2022-11-15T15:34:30.281Z"
   },
   {
    "duration": 43,
    "start_time": "2022-11-15T15:34:30.288Z"
   },
   {
    "duration": 8,
    "start_time": "2022-11-15T15:34:30.333Z"
   },
   {
    "duration": 19,
    "start_time": "2022-11-15T15:34:30.342Z"
   },
   {
    "duration": 9,
    "start_time": "2022-11-15T15:34:30.363Z"
   },
   {
    "duration": 334,
    "start_time": "2022-11-15T15:34:30.373Z"
   },
   {
    "duration": 4,
    "start_time": "2022-11-15T15:34:30.709Z"
   },
   {
    "duration": 214,
    "start_time": "2022-11-15T15:34:30.724Z"
   },
   {
    "duration": 221,
    "start_time": "2022-11-15T15:34:30.940Z"
   },
   {
    "duration": 189,
    "start_time": "2022-11-15T15:34:31.163Z"
   },
   {
    "duration": 200,
    "start_time": "2022-11-15T15:34:31.353Z"
   },
   {
    "duration": 222,
    "start_time": "2022-11-15T15:34:31.554Z"
   },
   {
    "duration": 222,
    "start_time": "2022-11-15T15:34:31.777Z"
   },
   {
    "duration": 289,
    "start_time": "2022-11-15T15:34:32.000Z"
   },
   {
    "duration": 148,
    "start_time": "2022-11-15T15:34:32.291Z"
   },
   {
    "duration": 197,
    "start_time": "2022-11-15T15:34:32.440Z"
   },
   {
    "duration": 204,
    "start_time": "2022-11-15T15:34:32.638Z"
   },
   {
    "duration": 201,
    "start_time": "2022-11-15T15:34:32.844Z"
   },
   {
    "duration": 196,
    "start_time": "2022-11-15T15:34:33.047Z"
   },
   {
    "duration": 153,
    "start_time": "2022-11-15T15:34:33.245Z"
   },
   {
    "duration": 623,
    "start_time": "2022-11-15T15:34:33.399Z"
   },
   {
    "duration": 309,
    "start_time": "2022-11-15T15:34:34.027Z"
   },
   {
    "duration": 33,
    "start_time": "2022-11-15T15:34:34.340Z"
   },
   {
    "duration": 11,
    "start_time": "2022-11-15T15:34:34.375Z"
   },
   {
    "duration": 17,
    "start_time": "2022-11-15T15:34:34.388Z"
   },
   {
    "duration": 193,
    "start_time": "2022-11-15T15:34:34.407Z"
   },
   {
    "duration": 161,
    "start_time": "2022-11-15T15:34:34.603Z"
   },
   {
    "duration": 207,
    "start_time": "2022-11-15T15:34:34.765Z"
   },
   {
    "duration": 163,
    "start_time": "2022-11-15T15:34:34.974Z"
   },
   {
    "duration": 145,
    "start_time": "2022-11-15T15:34:35.139Z"
   },
   {
    "duration": 449,
    "start_time": "2022-11-15T15:34:35.285Z"
   },
   {
    "duration": 10,
    "start_time": "2022-11-15T15:34:35.736Z"
   },
   {
    "duration": 4,
    "start_time": "2022-11-15T15:34:35.748Z"
   },
   {
    "duration": 9,
    "start_time": "2022-11-15T15:34:35.754Z"
   },
   {
    "duration": 62,
    "start_time": "2022-11-15T15:34:35.765Z"
   },
   {
    "duration": 9,
    "start_time": "2022-11-15T15:34:35.836Z"
   },
   {
    "duration": 22,
    "start_time": "2022-11-15T15:34:35.846Z"
   },
   {
    "duration": 91,
    "start_time": "2022-11-15T15:34:35.870Z"
   },
   {
    "duration": 48,
    "start_time": "2022-11-15T15:35:18.636Z"
   },
   {
    "duration": 10,
    "start_time": "2022-11-15T15:37:29.535Z"
   },
   {
    "duration": 4,
    "start_time": "2022-11-15T15:38:32.975Z"
   },
   {
    "duration": 28,
    "start_time": "2022-11-15T15:41:04.232Z"
   },
   {
    "duration": 62,
    "start_time": "2022-11-15T15:43:39.096Z"
   },
   {
    "duration": 9,
    "start_time": "2022-11-15T15:43:45.650Z"
   },
   {
    "duration": 15,
    "start_time": "2022-11-15T15:43:52.259Z"
   },
   {
    "duration": 8,
    "start_time": "2022-11-15T15:44:19.355Z"
   },
   {
    "duration": 20,
    "start_time": "2022-11-15T15:44:26.945Z"
   },
   {
    "duration": 16,
    "start_time": "2022-11-15T15:44:42.400Z"
   },
   {
    "duration": 18,
    "start_time": "2022-11-15T15:45:28.061Z"
   },
   {
    "duration": 14,
    "start_time": "2022-11-15T15:46:32.907Z"
   },
   {
    "duration": 182,
    "start_time": "2022-11-15T15:47:01.178Z"
   },
   {
    "duration": 184,
    "start_time": "2022-11-15T15:47:13.875Z"
   },
   {
    "duration": 174,
    "start_time": "2022-11-15T15:47:39.979Z"
   },
   {
    "duration": 152,
    "start_time": "2022-11-15T15:47:48.362Z"
   },
   {
    "duration": 166,
    "start_time": "2022-11-15T15:48:27.973Z"
   },
   {
    "duration": 49,
    "start_time": "2022-11-15T18:13:41.702Z"
   },
   {
    "duration": 390,
    "start_time": "2022-11-15T18:13:54.162Z"
   },
   {
    "duration": 394,
    "start_time": "2022-11-15T18:13:54.554Z"
   },
   {
    "duration": 3,
    "start_time": "2022-11-15T18:13:54.950Z"
   },
   {
    "duration": 387,
    "start_time": "2022-11-15T18:13:54.954Z"
   },
   {
    "duration": 38,
    "start_time": "2022-11-15T18:13:55.346Z"
   },
   {
    "duration": 14,
    "start_time": "2022-11-15T18:13:55.386Z"
   },
   {
    "duration": 1918,
    "start_time": "2022-11-15T18:13:55.402Z"
   },
   {
    "duration": 16,
    "start_time": "2022-11-15T18:13:57.323Z"
   },
   {
    "duration": 60,
    "start_time": "2022-11-15T18:13:57.340Z"
   },
   {
    "duration": 4,
    "start_time": "2022-11-15T18:13:57.402Z"
   },
   {
    "duration": 24,
    "start_time": "2022-11-15T18:13:57.408Z"
   },
   {
    "duration": 10,
    "start_time": "2022-11-15T18:13:57.435Z"
   },
   {
    "duration": 7,
    "start_time": "2022-11-15T18:13:57.447Z"
   },
   {
    "duration": 10,
    "start_time": "2022-11-15T18:13:57.457Z"
   },
   {
    "duration": 1287,
    "start_time": "2022-11-15T18:13:57.468Z"
   },
   {
    "duration": 4,
    "start_time": "2022-11-15T18:13:58.756Z"
   },
   {
    "duration": 11,
    "start_time": "2022-11-15T18:13:58.761Z"
   },
   {
    "duration": 18,
    "start_time": "2022-11-15T18:13:58.773Z"
   },
   {
    "duration": 36,
    "start_time": "2022-11-15T18:13:58.792Z"
   },
   {
    "duration": 7,
    "start_time": "2022-11-15T18:13:58.836Z"
   },
   {
    "duration": 12,
    "start_time": "2022-11-15T18:13:58.844Z"
   },
   {
    "duration": 13,
    "start_time": "2022-11-15T18:13:58.857Z"
   },
   {
    "duration": 20,
    "start_time": "2022-11-15T18:13:58.871Z"
   },
   {
    "duration": 5,
    "start_time": "2022-11-15T18:13:58.893Z"
   },
   {
    "duration": 31,
    "start_time": "2022-11-15T18:13:58.899Z"
   },
   {
    "duration": 11,
    "start_time": "2022-11-15T18:13:58.932Z"
   },
   {
    "duration": 5,
    "start_time": "2022-11-15T18:13:58.945Z"
   },
   {
    "duration": 16,
    "start_time": "2022-11-15T18:13:58.951Z"
   },
   {
    "duration": 11,
    "start_time": "2022-11-15T18:13:58.969Z"
   },
   {
    "duration": 117,
    "start_time": "2022-11-15T18:13:58.982Z"
   },
   {
    "duration": 25,
    "start_time": "2022-11-15T18:13:59.101Z"
   },
   {
    "duration": 10,
    "start_time": "2022-11-15T18:13:59.127Z"
   },
   {
    "duration": 95,
    "start_time": "2022-11-15T18:13:59.138Z"
   },
   {
    "duration": 201,
    "start_time": "2022-11-15T18:13:59.234Z"
   },
   {
    "duration": 5,
    "start_time": "2022-11-15T18:13:59.437Z"
   },
   {
    "duration": 13,
    "start_time": "2022-11-15T18:13:59.444Z"
   },
   {
    "duration": 226,
    "start_time": "2022-11-15T18:13:59.459Z"
   },
   {
    "duration": 53,
    "start_time": "2022-11-15T18:13:59.688Z"
   },
   {
    "duration": 6,
    "start_time": "2022-11-15T18:13:59.743Z"
   },
   {
    "duration": 106,
    "start_time": "2022-11-15T18:13:59.750Z"
   },
   {
    "duration": 110,
    "start_time": "2022-11-15T18:13:59.861Z"
   },
   {
    "duration": 123,
    "start_time": "2022-11-15T18:13:59.972Z"
   },
   {
    "duration": 50,
    "start_time": "2022-11-15T18:14:00.097Z"
   },
   {
    "duration": 7,
    "start_time": "2022-11-15T18:14:00.149Z"
   },
   {
    "duration": 53,
    "start_time": "2022-11-15T18:14:00.157Z"
   },
   {
    "duration": 23,
    "start_time": "2022-11-15T18:14:00.212Z"
   },
   {
    "duration": 24,
    "start_time": "2022-11-15T18:14:00.237Z"
   },
   {
    "duration": 32,
    "start_time": "2022-11-15T18:14:00.262Z"
   },
   {
    "duration": 21,
    "start_time": "2022-11-15T18:14:00.296Z"
   },
   {
    "duration": 103,
    "start_time": "2022-11-15T18:14:00.320Z"
   },
   {
    "duration": 3,
    "start_time": "2022-11-15T18:14:00.425Z"
   },
   {
    "duration": 32,
    "start_time": "2022-11-15T18:14:00.430Z"
   },
   {
    "duration": 28,
    "start_time": "2022-11-15T18:14:00.463Z"
   },
   {
    "duration": 27,
    "start_time": "2022-11-15T18:14:00.492Z"
   },
   {
    "duration": 49,
    "start_time": "2022-11-15T18:14:00.521Z"
   },
   {
    "duration": 363,
    "start_time": "2022-11-15T18:14:00.571Z"
   },
   {
    "duration": 5,
    "start_time": "2022-11-15T18:14:00.936Z"
   },
   {
    "duration": 220,
    "start_time": "2022-11-15T18:14:00.942Z"
   },
   {
    "duration": 199,
    "start_time": "2022-11-15T18:14:01.164Z"
   },
   {
    "duration": 188,
    "start_time": "2022-11-15T18:14:01.364Z"
   },
   {
    "duration": 191,
    "start_time": "2022-11-15T18:14:01.554Z"
   },
   {
    "duration": 193,
    "start_time": "2022-11-15T18:14:01.746Z"
   },
   {
    "duration": 189,
    "start_time": "2022-11-15T18:14:01.941Z"
   },
   {
    "duration": 275,
    "start_time": "2022-11-15T18:14:02.132Z"
   },
   {
    "duration": 135,
    "start_time": "2022-11-15T18:14:02.409Z"
   },
   {
    "duration": 192,
    "start_time": "2022-11-15T18:14:02.546Z"
   },
   {
    "duration": 202,
    "start_time": "2022-11-15T18:14:02.739Z"
   },
   {
    "duration": 170,
    "start_time": "2022-11-15T18:14:02.943Z"
   },
   {
    "duration": 176,
    "start_time": "2022-11-15T18:14:03.115Z"
   },
   {
    "duration": 167,
    "start_time": "2022-11-15T18:14:03.293Z"
   },
   {
    "duration": 577,
    "start_time": "2022-11-15T18:14:03.462Z"
   },
   {
    "duration": 217,
    "start_time": "2022-11-15T18:14:04.041Z"
   },
   {
    "duration": 22,
    "start_time": "2022-11-15T18:14:04.260Z"
   },
   {
    "duration": 4,
    "start_time": "2022-11-15T18:14:04.284Z"
   },
   {
    "duration": 6,
    "start_time": "2022-11-15T18:14:04.289Z"
   },
   {
    "duration": 177,
    "start_time": "2022-11-15T18:14:04.297Z"
   },
   {
    "duration": 160,
    "start_time": "2022-11-15T18:14:04.475Z"
   },
   {
    "duration": 125,
    "start_time": "2022-11-15T18:14:04.637Z"
   },
   {
    "duration": 130,
    "start_time": "2022-11-15T18:14:04.763Z"
   },
   {
    "duration": 137,
    "start_time": "2022-11-15T18:14:04.895Z"
   },
   {
    "duration": 406,
    "start_time": "2022-11-15T18:14:05.036Z"
   },
   {
    "duration": 9,
    "start_time": "2022-11-15T18:14:05.444Z"
   },
   {
    "duration": 27,
    "start_time": "2022-11-15T18:14:05.455Z"
   },
   {
    "duration": 16,
    "start_time": "2022-11-15T18:14:05.484Z"
   },
   {
    "duration": 68,
    "start_time": "2022-11-15T18:14:05.502Z"
   },
   {
    "duration": 8,
    "start_time": "2022-11-15T18:14:05.572Z"
   },
   {
    "duration": 31,
    "start_time": "2022-11-15T18:14:05.581Z"
   },
   {
    "duration": 43,
    "start_time": "2022-11-15T18:14:05.613Z"
   },
   {
    "duration": 14,
    "start_time": "2022-11-15T18:14:05.658Z"
   },
   {
    "duration": 140,
    "start_time": "2022-11-15T18:14:05.674Z"
   },
   {
    "duration": 16,
    "start_time": "2022-11-15T18:14:19.343Z"
   },
   {
    "duration": 160,
    "start_time": "2022-11-15T18:14:22.046Z"
   },
   {
    "duration": 50,
    "start_time": "2022-11-15T18:15:00.614Z"
   },
   {
    "duration": 21,
    "start_time": "2022-11-15T18:15:16.338Z"
   },
   {
    "duration": 15,
    "start_time": "2022-11-15T18:15:50.644Z"
   },
   {
    "duration": 413,
    "start_time": "2022-11-15T18:55:56.151Z"
   },
   {
    "duration": 212,
    "start_time": "2022-11-15T18:55:56.566Z"
   },
   {
    "duration": 3,
    "start_time": "2022-11-15T18:55:56.780Z"
   },
   {
    "duration": 101,
    "start_time": "2022-11-15T18:55:56.785Z"
   },
   {
    "duration": 49,
    "start_time": "2022-11-15T18:55:56.888Z"
   },
   {
    "duration": 14,
    "start_time": "2022-11-15T18:55:56.938Z"
   },
   {
    "duration": 1910,
    "start_time": "2022-11-15T18:55:56.953Z"
   },
   {
    "duration": 8,
    "start_time": "2022-11-15T18:55:58.865Z"
   },
   {
    "duration": 57,
    "start_time": "2022-11-15T18:55:58.875Z"
   },
   {
    "duration": 3,
    "start_time": "2022-11-15T18:55:58.935Z"
   },
   {
    "duration": 14,
    "start_time": "2022-11-15T18:55:58.939Z"
   },
   {
    "duration": 8,
    "start_time": "2022-11-15T18:55:58.955Z"
   },
   {
    "duration": 8,
    "start_time": "2022-11-15T18:55:58.965Z"
   },
   {
    "duration": 9,
    "start_time": "2022-11-15T18:55:58.974Z"
   },
   {
    "duration": 1305,
    "start_time": "2022-11-15T18:55:58.984Z"
   },
   {
    "duration": 4,
    "start_time": "2022-11-15T18:56:00.290Z"
   },
   {
    "duration": 42,
    "start_time": "2022-11-15T18:56:00.295Z"
   },
   {
    "duration": 39,
    "start_time": "2022-11-15T18:56:00.338Z"
   },
   {
    "duration": 39,
    "start_time": "2022-11-15T18:56:00.378Z"
   },
   {
    "duration": 47,
    "start_time": "2022-11-15T18:56:00.419Z"
   },
   {
    "duration": 63,
    "start_time": "2022-11-15T18:56:00.467Z"
   },
   {
    "duration": 67,
    "start_time": "2022-11-15T18:56:00.532Z"
   },
   {
    "duration": 71,
    "start_time": "2022-11-15T18:56:00.600Z"
   },
   {
    "duration": 23,
    "start_time": "2022-11-15T18:56:00.673Z"
   },
   {
    "duration": 51,
    "start_time": "2022-11-15T18:56:00.697Z"
   },
   {
    "duration": 95,
    "start_time": "2022-11-15T18:56:00.750Z"
   },
   {
    "duration": 46,
    "start_time": "2022-11-15T18:56:00.847Z"
   },
   {
    "duration": 34,
    "start_time": "2022-11-15T18:56:00.897Z"
   },
   {
    "duration": 31,
    "start_time": "2022-11-15T18:56:00.933Z"
   },
   {
    "duration": 137,
    "start_time": "2022-11-15T18:56:00.965Z"
   },
   {
    "duration": 30,
    "start_time": "2022-11-15T18:56:01.104Z"
   },
   {
    "duration": 40,
    "start_time": "2022-11-15T18:56:01.136Z"
   },
   {
    "duration": 133,
    "start_time": "2022-11-15T18:56:01.178Z"
   },
   {
    "duration": 221,
    "start_time": "2022-11-15T18:56:01.313Z"
   },
   {
    "duration": 7,
    "start_time": "2022-11-15T18:56:01.538Z"
   },
   {
    "duration": 95,
    "start_time": "2022-11-15T18:56:01.548Z"
   },
   {
    "duration": 236,
    "start_time": "2022-11-15T18:56:01.645Z"
   },
   {
    "duration": 54,
    "start_time": "2022-11-15T18:56:01.883Z"
   },
   {
    "duration": 7,
    "start_time": "2022-11-15T18:56:01.938Z"
   },
   {
    "duration": 139,
    "start_time": "2022-11-15T18:56:01.946Z"
   },
   {
    "duration": 50,
    "start_time": "2022-11-15T18:56:02.087Z"
   },
   {
    "duration": 197,
    "start_time": "2022-11-15T18:56:02.139Z"
   },
   {
    "duration": 44,
    "start_time": "2022-11-15T18:56:02.337Z"
   },
   {
    "duration": 18,
    "start_time": "2022-11-15T18:56:02.382Z"
   },
   {
    "duration": 69,
    "start_time": "2022-11-15T18:56:02.402Z"
   },
   {
    "duration": 7,
    "start_time": "2022-11-15T18:56:02.472Z"
   },
   {
    "duration": 40,
    "start_time": "2022-11-15T18:56:02.480Z"
   },
   {
    "duration": 31,
    "start_time": "2022-11-15T18:56:02.525Z"
   },
   {
    "duration": 16,
    "start_time": "2022-11-15T18:56:02.557Z"
   },
   {
    "duration": 107,
    "start_time": "2022-11-15T18:56:02.575Z"
   },
   {
    "duration": 4,
    "start_time": "2022-11-15T18:56:02.683Z"
   },
   {
    "duration": 20,
    "start_time": "2022-11-15T18:56:02.688Z"
   },
   {
    "duration": 33,
    "start_time": "2022-11-15T18:56:02.709Z"
   },
   {
    "duration": 22,
    "start_time": "2022-11-15T18:56:02.744Z"
   },
   {
    "duration": 10,
    "start_time": "2022-11-15T18:56:02.767Z"
   },
   {
    "duration": 334,
    "start_time": "2022-11-15T18:56:02.780Z"
   },
   {
    "duration": 7,
    "start_time": "2022-11-15T18:56:03.115Z"
   },
   {
    "duration": 167,
    "start_time": "2022-11-15T18:56:03.123Z"
   },
   {
    "duration": 181,
    "start_time": "2022-11-15T18:56:03.292Z"
   },
   {
    "duration": 166,
    "start_time": "2022-11-15T18:56:03.474Z"
   },
   {
    "duration": 186,
    "start_time": "2022-11-15T18:56:03.641Z"
   },
   {
    "duration": 175,
    "start_time": "2022-11-15T18:56:03.829Z"
   },
   {
    "duration": 182,
    "start_time": "2022-11-15T18:56:04.006Z"
   },
   {
    "duration": 250,
    "start_time": "2022-11-15T18:56:04.189Z"
   },
   {
    "duration": 129,
    "start_time": "2022-11-15T18:56:04.440Z"
   },
   {
    "duration": 184,
    "start_time": "2022-11-15T18:56:04.571Z"
   },
   {
    "duration": 187,
    "start_time": "2022-11-15T18:56:04.757Z"
   },
   {
    "duration": 188,
    "start_time": "2022-11-15T18:56:04.946Z"
   },
   {
    "duration": 149,
    "start_time": "2022-11-15T18:56:05.136Z"
   },
   {
    "duration": 185,
    "start_time": "2022-11-15T18:56:05.287Z"
   },
   {
    "duration": 543,
    "start_time": "2022-11-15T18:56:05.474Z"
   },
   {
    "duration": 222,
    "start_time": "2022-11-15T18:56:06.027Z"
   },
   {
    "duration": 21,
    "start_time": "2022-11-15T18:56:06.251Z"
   },
   {
    "duration": 4,
    "start_time": "2022-11-15T18:56:06.273Z"
   },
   {
    "duration": 19,
    "start_time": "2022-11-15T18:56:06.279Z"
   },
   {
    "duration": 154,
    "start_time": "2022-11-15T18:56:06.300Z"
   },
   {
    "duration": 151,
    "start_time": "2022-11-15T18:56:06.455Z"
   },
   {
    "duration": 143,
    "start_time": "2022-11-15T18:56:06.608Z"
   },
   {
    "duration": 152,
    "start_time": "2022-11-15T18:56:06.752Z"
   },
   {
    "duration": 141,
    "start_time": "2022-11-15T18:56:06.906Z"
   },
   {
    "duration": 404,
    "start_time": "2022-11-15T18:56:07.049Z"
   },
   {
    "duration": 9,
    "start_time": "2022-11-15T18:56:07.458Z"
   },
   {
    "duration": 16,
    "start_time": "2022-11-15T18:56:07.469Z"
   },
   {
    "duration": 14,
    "start_time": "2022-11-15T18:56:07.487Z"
   },
   {
    "duration": 56,
    "start_time": "2022-11-15T18:56:07.503Z"
   },
   {
    "duration": 6,
    "start_time": "2022-11-15T18:56:07.560Z"
   },
   {
    "duration": 21,
    "start_time": "2022-11-15T18:56:07.567Z"
   },
   {
    "duration": 69,
    "start_time": "2022-11-15T18:56:07.589Z"
   },
   {
    "duration": 16,
    "start_time": "2022-11-15T18:56:07.659Z"
   },
   {
    "duration": 165,
    "start_time": "2022-11-15T18:56:07.676Z"
   },
   {
    "duration": 4,
    "start_time": "2022-11-15T19:48:18.749Z"
   },
   {
    "duration": 6,
    "start_time": "2022-11-15T19:48:23.301Z"
   },
   {
    "duration": 6,
    "start_time": "2022-11-15T19:52:35.132Z"
   },
   {
    "duration": 11,
    "start_time": "2022-11-15T19:52:37.217Z"
   },
   {
    "duration": 30,
    "start_time": "2022-11-15T19:55:48.245Z"
   },
   {
    "duration": 31,
    "start_time": "2022-11-15T20:15:27.477Z"
   },
   {
    "duration": 36,
    "start_time": "2022-11-15T20:15:36.542Z"
   },
   {
    "duration": 44,
    "start_time": "2022-11-15T20:15:40.589Z"
   },
   {
    "duration": 36,
    "start_time": "2022-11-15T20:16:10.079Z"
   },
   {
    "duration": 7,
    "start_time": "2022-11-15T20:16:51.469Z"
   },
   {
    "duration": 41,
    "start_time": "2022-11-15T20:17:01.223Z"
   },
   {
    "duration": 2653,
    "start_time": "2022-11-15T20:17:30.033Z"
   },
   {
    "duration": 35,
    "start_time": "2022-11-15T20:17:36.583Z"
   },
   {
    "duration": 2543,
    "start_time": "2022-11-15T20:18:57.498Z"
   },
   {
    "duration": 77,
    "start_time": "2022-11-15T20:20:21.874Z"
   },
   {
    "duration": 34,
    "start_time": "2022-11-15T20:34:42.433Z"
   },
   {
    "duration": 39850,
    "start_time": "2022-11-15T20:37:39.598Z"
   },
   {
    "duration": 34,
    "start_time": "2022-11-15T20:38:19.450Z"
   },
   {
    "duration": 40428,
    "start_time": "2022-11-15T20:38:38.462Z"
   },
   {
    "duration": 34,
    "start_time": "2022-11-15T20:39:24.080Z"
   },
   {
    "duration": 45882,
    "start_time": "2022-11-15T20:40:45.202Z"
   },
   {
    "duration": 50,
    "start_time": "2022-11-15T20:41:31.086Z"
   },
   {
    "duration": 9,
    "start_time": "2022-11-15T20:41:36.596Z"
   },
   {
    "duration": 45011,
    "start_time": "2022-11-15T20:42:33.490Z"
   },
   {
    "duration": 48,
    "start_time": "2022-11-15T20:43:18.502Z"
   },
   {
    "duration": 35,
    "start_time": "2022-11-15T20:43:23.532Z"
   },
   {
    "duration": 6,
    "start_time": "2022-11-15T20:44:33.380Z"
   },
   {
    "duration": 400,
    "start_time": "2022-11-15T20:46:01.638Z"
   },
   {
    "duration": 225,
    "start_time": "2022-11-15T20:46:02.137Z"
   },
   {
    "duration": 3,
    "start_time": "2022-11-15T20:46:02.943Z"
   },
   {
    "duration": 95,
    "start_time": "2022-11-15T20:46:03.437Z"
   },
   {
    "duration": 39,
    "start_time": "2022-11-15T20:46:03.837Z"
   },
   {
    "duration": 14,
    "start_time": "2022-11-15T20:46:04.190Z"
   },
   {
    "duration": 1885,
    "start_time": "2022-11-15T20:46:05.379Z"
   },
   {
    "duration": 10,
    "start_time": "2022-11-15T20:46:13.795Z"
   },
   {
    "duration": 53,
    "start_time": "2022-11-15T20:46:14.546Z"
   },
   {
    "duration": 3,
    "start_time": "2022-11-15T20:46:18.116Z"
   },
   {
    "duration": 15,
    "start_time": "2022-11-15T20:46:18.430Z"
   },
   {
    "duration": 11,
    "start_time": "2022-11-15T20:46:18.692Z"
   },
   {
    "duration": 4,
    "start_time": "2022-11-15T20:46:18.942Z"
   },
   {
    "duration": 3,
    "start_time": "2022-11-15T20:46:19.409Z"
   },
   {
    "duration": 1360,
    "start_time": "2022-11-15T20:46:20.023Z"
   },
   {
    "duration": 5,
    "start_time": "2022-11-15T20:46:22.948Z"
   },
   {
    "duration": 7,
    "start_time": "2022-11-15T20:46:24.751Z"
   },
   {
    "duration": 22,
    "start_time": "2022-11-15T20:46:25.259Z"
   },
   {
    "duration": 53,
    "start_time": "2022-11-15T20:46:29.419Z"
   },
   {
    "duration": 46416,
    "start_time": "2022-11-15T20:46:45.533Z"
   },
   {
    "duration": 43,
    "start_time": "2022-11-15T20:47:31.951Z"
   },
   {
    "duration": 9,
    "start_time": "2022-11-15T20:48:24.033Z"
   },
   {
    "duration": 5,
    "start_time": "2022-11-15T20:48:25.040Z"
   },
   {
    "duration": 7,
    "start_time": "2022-11-15T20:48:27.112Z"
   },
   {
    "duration": 42,
    "start_time": "2022-11-15T20:48:46.777Z"
   },
   {
    "duration": 15,
    "start_time": "2022-11-15T20:50:35.819Z"
   },
   {
    "duration": 402,
    "start_time": "2022-11-15T20:50:51.510Z"
   },
   {
    "duration": 220,
    "start_time": "2022-11-15T20:50:52.916Z"
   },
   {
    "duration": 3,
    "start_time": "2022-11-15T20:50:53.138Z"
   },
   {
    "duration": 95,
    "start_time": "2022-11-15T20:50:53.264Z"
   },
   {
    "duration": 40,
    "start_time": "2022-11-15T20:50:53.434Z"
   },
   {
    "duration": 17,
    "start_time": "2022-11-15T20:50:53.573Z"
   },
   {
    "duration": 1889,
    "start_time": "2022-11-15T20:50:53.727Z"
   },
   {
    "duration": 13,
    "start_time": "2022-11-15T20:50:55.618Z"
   },
   {
    "duration": 81,
    "start_time": "2022-11-15T20:50:55.632Z"
   },
   {
    "duration": 4,
    "start_time": "2022-11-15T20:50:55.716Z"
   },
   {
    "duration": 31,
    "start_time": "2022-11-15T20:50:55.722Z"
   },
   {
    "duration": 20,
    "start_time": "2022-11-15T20:50:55.755Z"
   },
   {
    "duration": 12,
    "start_time": "2022-11-15T20:50:55.777Z"
   },
   {
    "duration": 3,
    "start_time": "2022-11-15T20:50:55.899Z"
   },
   {
    "duration": 1283,
    "start_time": "2022-11-15T20:50:56.080Z"
   },
   {
    "duration": 4,
    "start_time": "2022-11-15T20:50:57.365Z"
   },
   {
    "duration": 7,
    "start_time": "2022-11-15T20:50:57.479Z"
   },
   {
    "duration": 16,
    "start_time": "2022-11-15T20:50:57.642Z"
   },
   {
    "duration": 47,
    "start_time": "2022-11-15T20:51:00.218Z"
   },
   {
    "duration": 5,
    "start_time": "2022-11-15T20:51:05.515Z"
   },
   {
    "duration": 6,
    "start_time": "2022-11-15T20:51:06.419Z"
   },
   {
    "duration": 5,
    "start_time": "2022-11-15T20:51:07.275Z"
   },
   {
    "duration": 17512,
    "start_time": "2022-11-15T20:51:25.987Z"
   },
   {
    "duration": 48,
    "start_time": "2022-11-15T20:51:48.661Z"
   },
   {
    "duration": 56,
    "start_time": "2022-11-15T20:53:31.194Z"
   },
   {
    "duration": 6,
    "start_time": "2022-11-15T20:53:31.340Z"
   },
   {
    "duration": 7,
    "start_time": "2022-11-15T20:53:31.477Z"
   },
   {
    "duration": 9,
    "start_time": "2022-11-15T20:53:31.622Z"
   },
   {
    "duration": 9,
    "start_time": "2022-11-15T20:53:31.932Z"
   },
   {
    "duration": 416,
    "start_time": "2022-11-15T20:53:44.706Z"
   },
   {
    "duration": 284,
    "start_time": "2022-11-15T20:53:45.124Z"
   },
   {
    "duration": 2,
    "start_time": "2022-11-15T20:53:45.411Z"
   },
   {
    "duration": 112,
    "start_time": "2022-11-15T20:53:45.415Z"
   },
   {
    "duration": 40,
    "start_time": "2022-11-15T20:53:45.530Z"
   },
   {
    "duration": 14,
    "start_time": "2022-11-15T20:53:45.596Z"
   },
   {
    "duration": 1904,
    "start_time": "2022-11-15T20:53:45.756Z"
   },
   {
    "duration": 9,
    "start_time": "2022-11-15T20:53:47.772Z"
   },
   {
    "duration": 56,
    "start_time": "2022-11-15T20:53:48.511Z"
   },
   {
    "duration": 4,
    "start_time": "2022-11-15T20:53:50.316Z"
   },
   {
    "duration": 8,
    "start_time": "2022-11-15T20:53:50.651Z"
   },
   {
    "duration": 18,
    "start_time": "2022-11-15T20:53:50.820Z"
   },
   {
    "duration": 5,
    "start_time": "2022-11-15T20:53:51.267Z"
   },
   {
    "duration": 3,
    "start_time": "2022-11-15T20:53:51.678Z"
   },
   {
    "duration": 1319,
    "start_time": "2022-11-15T20:53:52.188Z"
   },
   {
    "duration": 4,
    "start_time": "2022-11-15T20:53:53.509Z"
   },
   {
    "duration": 7,
    "start_time": "2022-11-15T20:53:54.402Z"
   },
   {
    "duration": 16,
    "start_time": "2022-11-15T20:53:55.570Z"
   },
   {
    "duration": 43,
    "start_time": "2022-11-15T20:54:00.055Z"
   },
   {
    "duration": 6,
    "start_time": "2022-11-15T20:54:03.731Z"
   },
   {
    "duration": 6,
    "start_time": "2022-11-15T20:54:04.322Z"
   },
   {
    "duration": 6,
    "start_time": "2022-11-15T20:54:05.384Z"
   },
   {
    "duration": 6,
    "start_time": "2022-11-15T20:54:20.455Z"
   },
   {
    "duration": 5,
    "start_time": "2022-11-15T20:54:34.408Z"
   },
   {
    "duration": 10049,
    "start_time": "2022-11-15T20:54:40.577Z"
   },
   {
    "duration": 52,
    "start_time": "2022-11-15T20:54:57.185Z"
   },
   {
    "duration": 9,
    "start_time": "2022-11-15T20:56:05.127Z"
   },
   {
    "duration": 383,
    "start_time": "2022-11-15T20:56:20.648Z"
   },
   {
    "duration": 230,
    "start_time": "2022-11-15T20:56:21.035Z"
   },
   {
    "duration": 3,
    "start_time": "2022-11-15T20:56:21.266Z"
   },
   {
    "duration": 109,
    "start_time": "2022-11-15T20:56:21.271Z"
   },
   {
    "duration": 52,
    "start_time": "2022-11-15T20:56:21.382Z"
   },
   {
    "duration": 14,
    "start_time": "2022-11-15T20:56:22.252Z"
   },
   {
    "duration": 1939,
    "start_time": "2022-11-15T20:56:22.433Z"
   },
   {
    "duration": 10,
    "start_time": "2022-11-15T20:56:24.374Z"
   },
   {
    "duration": 59,
    "start_time": "2022-11-15T20:56:24.385Z"
   },
   {
    "duration": 4,
    "start_time": "2022-11-15T20:56:24.446Z"
   },
   {
    "duration": 11,
    "start_time": "2022-11-15T20:56:24.451Z"
   },
   {
    "duration": 9,
    "start_time": "2022-11-15T20:56:24.463Z"
   },
   {
    "duration": 3,
    "start_time": "2022-11-15T20:56:24.473Z"
   },
   {
    "duration": 4,
    "start_time": "2022-11-15T20:56:24.584Z"
   },
   {
    "duration": 1355,
    "start_time": "2022-11-15T20:56:24.944Z"
   },
   {
    "duration": 4,
    "start_time": "2022-11-15T20:56:26.301Z"
   },
   {
    "duration": 6,
    "start_time": "2022-11-15T20:56:26.407Z"
   },
   {
    "duration": 22,
    "start_time": "2022-11-15T20:56:27.508Z"
   },
   {
    "duration": 46,
    "start_time": "2022-11-15T20:56:31.051Z"
   },
   {
    "duration": 5,
    "start_time": "2022-11-15T20:56:34.437Z"
   },
   {
    "duration": 5,
    "start_time": "2022-11-15T20:56:34.774Z"
   },
   {
    "duration": 11,
    "start_time": "2022-11-15T20:56:35.277Z"
   },
   {
    "duration": 17430,
    "start_time": "2022-11-15T20:56:38.338Z"
   },
   {
    "duration": 4,
    "start_time": "2022-11-15T20:56:55.770Z"
   },
   {
    "duration": 45,
    "start_time": "2022-11-15T20:57:01.011Z"
   },
   {
    "duration": 5,
    "start_time": "2022-11-15T20:59:55.968Z"
   },
   {
    "duration": 17962,
    "start_time": "2022-11-15T21:01:59.985Z"
   },
   {
    "duration": 41,
    "start_time": "2022-11-15T21:04:10.458Z"
   },
   {
    "duration": 44,
    "start_time": "2022-11-15T21:04:30.127Z"
   },
   {
    "duration": 40,
    "start_time": "2022-11-15T21:04:38.633Z"
   },
   {
    "duration": 5,
    "start_time": "2022-11-15T21:05:50.813Z"
   },
   {
    "duration": 18846,
    "start_time": "2022-11-15T21:05:52.221Z"
   },
   {
    "duration": 61,
    "start_time": "2022-11-15T21:06:13.214Z"
   },
   {
    "duration": 6,
    "start_time": "2022-11-15T21:06:45.014Z"
   },
   {
    "duration": 15,
    "start_time": "2022-11-15T21:06:57.182Z"
   },
   {
    "duration": 372,
    "start_time": "2022-11-15T21:07:53.133Z"
   },
   {
    "duration": 220,
    "start_time": "2022-11-15T21:07:53.534Z"
   },
   {
    "duration": 3,
    "start_time": "2022-11-15T21:07:54.018Z"
   },
   {
    "duration": 99,
    "start_time": "2022-11-15T21:07:54.611Z"
   },
   {
    "duration": 41,
    "start_time": "2022-11-15T21:07:54.973Z"
   },
   {
    "duration": 15,
    "start_time": "2022-11-15T21:07:59.165Z"
   },
   {
    "duration": 1876,
    "start_time": "2022-11-15T21:07:59.384Z"
   },
   {
    "duration": 8,
    "start_time": "2022-11-15T21:08:03.451Z"
   },
   {
    "duration": 49,
    "start_time": "2022-11-15T21:08:05.153Z"
   },
   {
    "duration": 3,
    "start_time": "2022-11-15T21:08:14.943Z"
   },
   {
    "duration": 12,
    "start_time": "2022-11-15T21:08:15.371Z"
   },
   {
    "duration": 9,
    "start_time": "2022-11-15T21:08:16.072Z"
   },
   {
    "duration": 3,
    "start_time": "2022-11-15T21:08:16.497Z"
   },
   {
    "duration": 4,
    "start_time": "2022-11-15T21:08:16.909Z"
   },
   {
    "duration": 1283,
    "start_time": "2022-11-15T21:08:18.405Z"
   },
   {
    "duration": 5,
    "start_time": "2022-11-15T21:08:21.437Z"
   },
   {
    "duration": 7,
    "start_time": "2022-11-15T21:08:27.736Z"
   },
   {
    "duration": 16,
    "start_time": "2022-11-15T21:08:29.033Z"
   },
   {
    "duration": 5,
    "start_time": "2022-11-15T21:10:09.335Z"
   },
   {
    "duration": 17973,
    "start_time": "2022-11-15T21:10:10.957Z"
   },
   {
    "duration": 10,
    "start_time": "2022-11-15T21:10:28.934Z"
   },
   {
    "duration": 17399,
    "start_time": "2022-11-15T21:10:28.946Z"
   },
   {
    "duration": 16,
    "start_time": "2022-11-15T21:10:46.347Z"
   },
   {
    "duration": 23,
    "start_time": "2022-11-15T21:13:11.411Z"
   },
   {
    "duration": 8,
    "start_time": "2022-11-15T21:13:13.080Z"
   },
   {
    "duration": 11,
    "start_time": "2022-11-15T21:13:14.954Z"
   },
   {
    "duration": 16,
    "start_time": "2022-11-15T21:13:15.372Z"
   },
   {
    "duration": 21,
    "start_time": "2022-11-15T21:14:01.746Z"
   },
   {
    "duration": 6,
    "start_time": "2022-11-15T21:14:02.167Z"
   },
   {
    "duration": 7,
    "start_time": "2022-11-15T21:14:02.640Z"
   },
   {
    "duration": 10,
    "start_time": "2022-11-15T21:14:03.694Z"
   },
   {
    "duration": 5,
    "start_time": "2022-11-15T21:14:05.282Z"
   },
   {
    "duration": 11,
    "start_time": "2022-11-15T21:14:05.338Z"
   },
   {
    "duration": 8,
    "start_time": "2022-11-15T21:14:05.686Z"
   },
   {
    "duration": 123,
    "start_time": "2022-11-15T21:14:06.484Z"
   },
   {
    "duration": 16,
    "start_time": "2022-11-15T21:14:07.037Z"
   },
   {
    "duration": 6,
    "start_time": "2022-11-15T21:14:09.934Z"
   },
   {
    "duration": 92,
    "start_time": "2022-11-15T21:14:17.077Z"
   },
   {
    "duration": 197,
    "start_time": "2022-11-15T21:14:18.140Z"
   },
   {
    "duration": 6,
    "start_time": "2022-11-15T21:14:21.558Z"
   },
   {
    "duration": 8,
    "start_time": "2022-11-15T21:14:22.535Z"
   },
   {
    "duration": 275,
    "start_time": "2022-11-15T21:14:25.396Z"
   },
   {
    "duration": 46,
    "start_time": "2022-11-15T21:14:25.787Z"
   },
   {
    "duration": 7,
    "start_time": "2022-11-15T21:14:28.734Z"
   },
   {
    "duration": 104,
    "start_time": "2022-11-15T21:14:29.187Z"
   },
   {
    "duration": 43,
    "start_time": "2022-11-15T21:15:02.411Z"
   },
   {
    "duration": 181,
    "start_time": "2022-11-15T21:15:05.434Z"
   },
   {
    "duration": 44,
    "start_time": "2022-11-15T21:15:06.594Z"
   },
   {
    "duration": 6,
    "start_time": "2022-11-15T21:15:10.487Z"
   },
   {
    "duration": 50,
    "start_time": "2022-11-15T21:15:11.060Z"
   },
   {
    "duration": 6,
    "start_time": "2022-11-15T21:15:14.010Z"
   },
   {
    "duration": 10,
    "start_time": "2022-11-15T21:15:14.666Z"
   },
   {
    "duration": 7,
    "start_time": "2022-11-15T21:15:15.689Z"
   },
   {
    "duration": 3,
    "start_time": "2022-11-15T21:15:17.907Z"
   },
   {
    "duration": 88,
    "start_time": "2022-11-15T21:15:18.499Z"
   },
   {
    "duration": 4,
    "start_time": "2022-11-15T21:15:25.473Z"
   },
   {
    "duration": 6,
    "start_time": "2022-11-15T21:15:25.862Z"
   },
   {
    "duration": 6,
    "start_time": "2022-11-15T21:15:26.060Z"
   },
   {
    "duration": 6,
    "start_time": "2022-11-15T21:15:26.511Z"
   },
   {
    "duration": 3,
    "start_time": "2022-11-15T21:15:27.210Z"
   },
   {
    "duration": 309,
    "start_time": "2022-11-15T21:15:54.333Z"
   },
   {
    "duration": 5,
    "start_time": "2022-11-15T21:15:54.786Z"
   },
   {
    "duration": 174,
    "start_time": "2022-11-15T21:16:29.405Z"
   },
   {
    "duration": 198,
    "start_time": "2022-11-15T21:16:30.639Z"
   },
   {
    "duration": 156,
    "start_time": "2022-11-15T21:16:32.397Z"
   },
   {
    "duration": 161,
    "start_time": "2022-11-15T21:16:49.777Z"
   },
   {
    "duration": 162,
    "start_time": "2022-11-15T21:16:51.335Z"
   },
   {
    "duration": 180,
    "start_time": "2022-11-15T21:16:54.668Z"
   },
   {
    "duration": 259,
    "start_time": "2022-11-15T21:16:55.489Z"
   },
   {
    "duration": 109,
    "start_time": "2022-11-15T21:16:57.632Z"
   },
   {
    "duration": 183,
    "start_time": "2022-11-15T21:16:57.991Z"
   },
   {
    "duration": 172,
    "start_time": "2022-11-15T21:16:59.047Z"
   },
   {
    "duration": 168,
    "start_time": "2022-11-15T21:16:59.378Z"
   },
   {
    "duration": 164,
    "start_time": "2022-11-15T21:17:00.233Z"
   },
   {
    "duration": 146,
    "start_time": "2022-11-15T21:17:01.598Z"
   },
   {
    "duration": 597,
    "start_time": "2022-11-15T21:17:12.366Z"
   },
   {
    "duration": 234,
    "start_time": "2022-11-15T21:17:12.975Z"
   },
   {
    "duration": 25,
    "start_time": "2022-11-15T21:17:15.161Z"
   },
   {
    "duration": 5,
    "start_time": "2022-11-15T21:17:16.312Z"
   },
   {
    "duration": 6,
    "start_time": "2022-11-15T21:17:17.007Z"
   },
   {
    "duration": 36,
    "start_time": "2022-11-15T21:20:42.663Z"
   },
   {
    "duration": 16,
    "start_time": "2022-11-15T21:28:16.311Z"
   },
   {
    "duration": 41,
    "start_time": "2022-11-15T21:28:25.799Z"
   },
   {
    "duration": 98,
    "start_time": "2022-11-15T21:35:39.848Z"
   },
   {
    "duration": 115,
    "start_time": "2022-11-15T21:35:44.232Z"
   },
   {
    "duration": 7,
    "start_time": "2022-11-15T21:36:10.632Z"
   },
   {
    "duration": 7,
    "start_time": "2022-11-15T21:36:45.480Z"
   },
   {
    "duration": 435,
    "start_time": "2022-11-15T21:38:30.236Z"
   },
   {
    "duration": 45,
    "start_time": "2022-11-15T21:50:53.496Z"
   },
   {
    "duration": 9,
    "start_time": "2022-11-15T21:51:26.257Z"
   },
   {
    "duration": 4,
    "start_time": "2022-11-15T21:51:30.505Z"
   },
   {
    "duration": 51,
    "start_time": "2022-11-15T21:56:16.334Z"
   },
   {
    "duration": 4,
    "start_time": "2022-11-15T21:57:36.080Z"
   },
   {
    "duration": 5,
    "start_time": "2022-11-15T21:58:05.465Z"
   },
   {
    "duration": 4,
    "start_time": "2022-11-15T21:58:10.857Z"
   },
   {
    "duration": 4,
    "start_time": "2022-11-15T21:58:23.906Z"
   },
   {
    "duration": 3,
    "start_time": "2022-11-15T21:59:20.403Z"
   },
   {
    "duration": 68,
    "start_time": "2022-11-15T21:59:50.891Z"
   },
   {
    "duration": 7,
    "start_time": "2022-11-15T21:59:55.435Z"
   },
   {
    "duration": 52,
    "start_time": "2022-11-15T22:00:06.355Z"
   },
   {
    "duration": 4,
    "start_time": "2022-11-15T22:00:50.348Z"
   },
   {
    "duration": 4,
    "start_time": "2022-11-15T22:03:12.975Z"
   },
   {
    "duration": 3,
    "start_time": "2022-11-15T22:03:24.197Z"
   },
   {
    "duration": 3,
    "start_time": "2022-11-15T22:03:33.343Z"
   },
   {
    "duration": 3,
    "start_time": "2022-11-15T22:03:55.280Z"
   },
   {
    "duration": 4,
    "start_time": "2022-11-15T22:04:17.393Z"
   },
   {
    "duration": 5,
    "start_time": "2022-11-15T22:04:33.399Z"
   },
   {
    "duration": 4,
    "start_time": "2022-11-15T22:04:39.480Z"
   },
   {
    "duration": 4,
    "start_time": "2022-11-15T22:04:58.401Z"
   },
   {
    "duration": 4,
    "start_time": "2022-11-15T22:05:01.801Z"
   },
   {
    "duration": 43,
    "start_time": "2022-11-15T22:07:51.237Z"
   },
   {
    "duration": 371,
    "start_time": "2022-11-15T22:08:03.353Z"
   },
   {
    "duration": 361,
    "start_time": "2022-11-15T22:08:13.068Z"
   },
   {
    "duration": 214,
    "start_time": "2022-11-15T22:08:13.791Z"
   },
   {
    "duration": 3,
    "start_time": "2022-11-15T22:08:18.190Z"
   },
   {
    "duration": 97,
    "start_time": "2022-11-15T22:08:19.077Z"
   },
   {
    "duration": 38,
    "start_time": "2022-11-15T22:08:19.333Z"
   },
   {
    "duration": 19,
    "start_time": "2022-11-15T22:08:19.612Z"
   },
   {
    "duration": 1982,
    "start_time": "2022-11-15T22:08:20.358Z"
   },
   {
    "duration": 10,
    "start_time": "2022-11-15T22:08:24.335Z"
   },
   {
    "duration": 60,
    "start_time": "2022-11-15T22:08:25.384Z"
   },
   {
    "duration": 4,
    "start_time": "2022-11-15T22:08:26.782Z"
   },
   {
    "duration": 9,
    "start_time": "2022-11-15T22:08:26.940Z"
   },
   {
    "duration": 10,
    "start_time": "2022-11-15T22:08:27.113Z"
   },
   {
    "duration": 4,
    "start_time": "2022-11-15T22:08:27.306Z"
   },
   {
    "duration": 4,
    "start_time": "2022-11-15T22:08:27.761Z"
   },
   {
    "duration": 1217,
    "start_time": "2022-11-15T22:08:28.498Z"
   },
   {
    "duration": 6,
    "start_time": "2022-11-15T22:08:29.717Z"
   },
   {
    "duration": 11,
    "start_time": "2022-11-15T22:08:29.724Z"
   },
   {
    "duration": 15,
    "start_time": "2022-11-15T22:08:29.800Z"
   },
   {
    "duration": 5,
    "start_time": "2022-11-15T22:08:32.535Z"
   },
   {
    "duration": 16818,
    "start_time": "2022-11-15T22:08:33.351Z"
   },
   {
    "duration": 5,
    "start_time": "2022-11-15T22:08:50.171Z"
   },
   {
    "duration": 17418,
    "start_time": "2022-11-15T22:08:50.178Z"
   },
   {
    "duration": 14,
    "start_time": "2022-11-15T22:09:07.598Z"
   },
   {
    "duration": 13,
    "start_time": "2022-11-15T22:09:13.653Z"
   },
   {
    "duration": 8,
    "start_time": "2022-11-15T22:09:15.141Z"
   },
   {
    "duration": 11,
    "start_time": "2022-11-15T22:09:15.508Z"
   },
   {
    "duration": 12,
    "start_time": "2022-11-15T22:10:59.518Z"
   },
   {
    "duration": 22,
    "start_time": "2022-11-15T22:11:56.875Z"
   },
   {
    "duration": 6,
    "start_time": "2022-11-15T22:11:57.044Z"
   },
   {
    "duration": 8,
    "start_time": "2022-11-15T22:11:57.214Z"
   },
   {
    "duration": 11,
    "start_time": "2022-11-15T22:11:57.378Z"
   },
   {
    "duration": 4,
    "start_time": "2022-11-15T22:11:58.075Z"
   },
   {
    "duration": 10,
    "start_time": "2022-11-15T22:11:58.466Z"
   },
   {
    "duration": 8,
    "start_time": "2022-11-15T22:11:59.041Z"
   },
   {
    "duration": 101,
    "start_time": "2022-11-15T22:12:00.200Z"
   },
   {
    "duration": 14,
    "start_time": "2022-11-15T22:12:00.608Z"
   },
   {
    "duration": 12,
    "start_time": "2022-11-15T22:12:36.455Z"
   },
   {
    "duration": 8,
    "start_time": "2022-11-15T22:12:39.855Z"
   },
   {
    "duration": 82,
    "start_time": "2022-11-15T22:12:42.735Z"
   },
   {
    "duration": 189,
    "start_time": "2022-11-15T22:12:44.787Z"
   },
   {
    "duration": 6,
    "start_time": "2022-11-15T22:12:45.638Z"
   },
   {
    "duration": 7,
    "start_time": "2022-11-15T22:12:46.832Z"
   },
   {
    "duration": 220,
    "start_time": "2022-11-15T22:12:47.215Z"
   },
   {
    "duration": 35,
    "start_time": "2022-11-15T22:12:47.437Z"
   },
   {
    "duration": 6,
    "start_time": "2022-11-15T22:12:48.216Z"
   },
   {
    "duration": 95,
    "start_time": "2022-11-15T22:12:48.679Z"
   },
   {
    "duration": 34,
    "start_time": "2022-11-15T22:12:49.471Z"
   },
   {
    "duration": 176,
    "start_time": "2022-11-15T22:12:50.653Z"
   },
   {
    "duration": 41,
    "start_time": "2022-11-15T22:12:51.053Z"
   },
   {
    "duration": 6,
    "start_time": "2022-11-15T22:12:52.467Z"
   },
   {
    "duration": 46,
    "start_time": "2022-11-15T22:12:52.943Z"
   },
   {
    "duration": 6,
    "start_time": "2022-11-15T22:12:53.616Z"
   },
   {
    "duration": 7,
    "start_time": "2022-11-15T22:12:54.239Z"
   },
   {
    "duration": 7,
    "start_time": "2022-11-15T22:12:54.438Z"
   },
   {
    "duration": 415,
    "start_time": "2022-11-15T22:12:55.969Z"
   },
   {
    "duration": 11,
    "start_time": "2022-11-15T22:12:58.571Z"
   },
   {
    "duration": 4,
    "start_time": "2022-11-15T22:12:59.928Z"
   },
   {
    "duration": 4,
    "start_time": "2022-11-15T22:13:00.676Z"
   },
   {
    "duration": 89,
    "start_time": "2022-11-15T22:13:03.093Z"
   },
   {
    "duration": 4,
    "start_time": "2022-11-15T22:13:08.072Z"
   },
   {
    "duration": 5,
    "start_time": "2022-11-15T22:13:08.265Z"
   },
   {
    "duration": 6,
    "start_time": "2022-11-15T22:13:08.439Z"
   },
   {
    "duration": 6,
    "start_time": "2022-11-15T22:13:08.627Z"
   },
   {
    "duration": 3,
    "start_time": "2022-11-15T22:13:09.212Z"
   },
   {
    "duration": 262,
    "start_time": "2022-11-15T22:13:09.700Z"
   },
   {
    "duration": 5,
    "start_time": "2022-11-15T22:13:10.275Z"
   },
   {
    "duration": 167,
    "start_time": "2022-11-15T22:13:12.584Z"
   },
   {
    "duration": 177,
    "start_time": "2022-11-15T22:13:23.981Z"
   },
   {
    "duration": 240,
    "start_time": "2022-11-15T22:13:32.400Z"
   },
   {
    "duration": 169,
    "start_time": "2022-11-15T22:13:35.949Z"
   },
   {
    "duration": 162,
    "start_time": "2022-11-15T22:14:00.483Z"
   },
   {
    "duration": 168,
    "start_time": "2022-11-15T22:14:02.985Z"
   },
   {
    "duration": 147,
    "start_time": "2022-11-15T22:14:08.687Z"
   },
   {
    "duration": 106,
    "start_time": "2022-11-15T22:14:17.475Z"
   },
   {
    "duration": 169,
    "start_time": "2022-11-15T22:14:20.804Z"
   },
   {
    "duration": 161,
    "start_time": "2022-11-15T22:14:23.658Z"
   },
   {
    "duration": 174,
    "start_time": "2022-11-15T22:14:28.133Z"
   },
   {
    "duration": 169,
    "start_time": "2022-11-15T22:14:31.148Z"
   },
   {
    "duration": 149,
    "start_time": "2022-11-15T22:14:33.822Z"
   },
   {
    "duration": 508,
    "start_time": "2022-11-15T22:15:10.908Z"
   },
   {
    "duration": 13,
    "start_time": "2022-11-15T22:16:04.262Z"
   },
   {
    "duration": 4,
    "start_time": "2022-11-15T22:16:05.789Z"
   },
   {
    "duration": 3,
    "start_time": "2022-11-15T22:16:07.797Z"
   },
   {
    "duration": 374,
    "start_time": "2022-11-15T22:17:26.382Z"
   },
   {
    "duration": 197,
    "start_time": "2022-11-15T22:17:26.757Z"
   },
   {
    "duration": 2,
    "start_time": "2022-11-15T22:17:26.956Z"
   },
   {
    "duration": 93,
    "start_time": "2022-11-15T22:17:26.960Z"
   },
   {
    "duration": 36,
    "start_time": "2022-11-15T22:17:27.055Z"
   },
   {
    "duration": 12,
    "start_time": "2022-11-15T22:17:27.092Z"
   },
   {
    "duration": 1794,
    "start_time": "2022-11-15T22:17:27.106Z"
   },
   {
    "duration": 11,
    "start_time": "2022-11-15T22:17:28.902Z"
   },
   {
    "duration": 51,
    "start_time": "2022-11-15T22:17:28.914Z"
   },
   {
    "duration": 4,
    "start_time": "2022-11-15T22:17:28.968Z"
   },
   {
    "duration": 12,
    "start_time": "2022-11-15T22:17:28.973Z"
   },
   {
    "duration": 8,
    "start_time": "2022-11-15T22:17:28.987Z"
   },
   {
    "duration": 5,
    "start_time": "2022-11-15T22:17:28.996Z"
   },
   {
    "duration": 19,
    "start_time": "2022-11-15T22:17:29.002Z"
   },
   {
    "duration": 1201,
    "start_time": "2022-11-15T22:17:29.022Z"
   },
   {
    "duration": 5,
    "start_time": "2022-11-15T22:17:30.224Z"
   },
   {
    "duration": 25,
    "start_time": "2022-11-15T22:17:30.230Z"
   },
   {
    "duration": 51,
    "start_time": "2022-11-15T22:17:30.257Z"
   },
   {
    "duration": 20,
    "start_time": "2022-11-15T22:17:30.310Z"
   },
   {
    "duration": 16333,
    "start_time": "2022-11-15T22:17:30.332Z"
   },
   {
    "duration": 5,
    "start_time": "2022-11-15T22:17:46.667Z"
   },
   {
    "duration": 16332,
    "start_time": "2022-11-15T22:17:46.673Z"
   },
   {
    "duration": 16,
    "start_time": "2022-11-15T22:18:03.007Z"
   },
   {
    "duration": 18,
    "start_time": "2022-11-15T22:18:03.025Z"
   },
   {
    "duration": 15,
    "start_time": "2022-11-15T22:18:03.044Z"
   },
   {
    "duration": 31,
    "start_time": "2022-11-15T22:18:03.060Z"
   },
   {
    "duration": 16,
    "start_time": "2022-11-15T22:18:03.093Z"
   },
   {
    "duration": 19,
    "start_time": "2022-11-15T22:18:03.113Z"
   },
   {
    "duration": 5,
    "start_time": "2022-11-15T22:18:03.134Z"
   },
   {
    "duration": 7,
    "start_time": "2022-11-15T22:18:03.141Z"
   },
   {
    "duration": 15,
    "start_time": "2022-11-15T22:18:03.149Z"
   },
   {
    "duration": 4,
    "start_time": "2022-11-15T22:18:03.165Z"
   },
   {
    "duration": 11,
    "start_time": "2022-11-15T22:18:03.170Z"
   },
   {
    "duration": 11,
    "start_time": "2022-11-15T22:18:03.183Z"
   },
   {
    "duration": 153,
    "start_time": "2022-11-15T22:18:03.196Z"
   },
   {
    "duration": 13,
    "start_time": "2022-11-15T22:18:03.350Z"
   },
   {
    "duration": 12,
    "start_time": "2022-11-15T22:18:03.364Z"
   },
   {
    "duration": 92,
    "start_time": "2022-11-15T22:18:03.378Z"
   },
   {
    "duration": 199,
    "start_time": "2022-11-15T22:18:03.472Z"
   },
   {
    "duration": 5,
    "start_time": "2022-11-15T22:18:03.674Z"
   },
   {
    "duration": 10,
    "start_time": "2022-11-15T22:18:03.680Z"
   },
   {
    "duration": 234,
    "start_time": "2022-11-15T22:18:03.691Z"
   },
   {
    "duration": 38,
    "start_time": "2022-11-15T22:18:03.926Z"
   },
   {
    "duration": 6,
    "start_time": "2022-11-15T22:18:03.965Z"
   },
   {
    "duration": 124,
    "start_time": "2022-11-15T22:18:03.972Z"
   },
   {
    "duration": 41,
    "start_time": "2022-11-15T22:18:04.098Z"
   },
   {
    "duration": 182,
    "start_time": "2022-11-15T22:18:04.140Z"
   },
   {
    "duration": 37,
    "start_time": "2022-11-15T22:18:04.324Z"
   },
   {
    "duration": 6,
    "start_time": "2022-11-15T22:18:04.362Z"
   },
   {
    "duration": 66,
    "start_time": "2022-11-15T22:18:04.369Z"
   },
   {
    "duration": 6,
    "start_time": "2022-11-15T22:18:04.437Z"
   },
   {
    "duration": 7,
    "start_time": "2022-11-15T22:18:04.445Z"
   },
   {
    "duration": 9,
    "start_time": "2022-11-15T22:18:04.454Z"
   },
   {
    "duration": 515,
    "start_time": "2022-11-15T22:18:04.465Z"
   },
   {
    "duration": 9,
    "start_time": "2022-11-15T22:18:04.982Z"
   },
   {
    "duration": 4,
    "start_time": "2022-11-15T22:18:04.992Z"
   },
   {
    "duration": 14,
    "start_time": "2022-11-15T22:18:04.998Z"
   },
   {
    "duration": 75,
    "start_time": "2022-11-15T22:18:05.013Z"
   },
   {
    "duration": 3,
    "start_time": "2022-11-15T22:18:05.090Z"
   },
   {
    "duration": 20,
    "start_time": "2022-11-15T22:18:05.094Z"
   },
   {
    "duration": 6,
    "start_time": "2022-11-15T22:18:05.115Z"
   },
   {
    "duration": 6,
    "start_time": "2022-11-15T22:18:05.122Z"
   },
   {
    "duration": 4,
    "start_time": "2022-11-15T22:18:05.129Z"
   },
   {
    "duration": 421,
    "start_time": "2022-11-15T22:18:05.135Z"
   },
   {
    "duration": 4,
    "start_time": "2022-11-15T22:18:05.557Z"
   },
   {
    "duration": 175,
    "start_time": "2022-11-15T22:18:05.562Z"
   },
   {
    "duration": 184,
    "start_time": "2022-11-15T22:18:05.738Z"
   },
   {
    "duration": 242,
    "start_time": "2022-11-15T22:18:05.923Z"
   },
   {
    "duration": 168,
    "start_time": "2022-11-15T22:18:06.167Z"
   },
   {
    "duration": 167,
    "start_time": "2022-11-15T22:18:06.337Z"
   },
   {
    "duration": 179,
    "start_time": "2022-11-15T22:18:06.505Z"
   },
   {
    "duration": 155,
    "start_time": "2022-11-15T22:18:06.685Z"
   },
   {
    "duration": 117,
    "start_time": "2022-11-15T22:18:06.841Z"
   },
   {
    "duration": 162,
    "start_time": "2022-11-15T22:18:06.959Z"
   },
   {
    "duration": 169,
    "start_time": "2022-11-15T22:18:07.123Z"
   },
   {
    "duration": 186,
    "start_time": "2022-11-15T22:18:07.294Z"
   },
   {
    "duration": 174,
    "start_time": "2022-11-15T22:18:07.481Z"
   },
   {
    "duration": 144,
    "start_time": "2022-11-15T22:18:07.656Z"
   },
   {
    "duration": 665,
    "start_time": "2022-11-15T22:18:07.801Z"
   },
   {
    "duration": 407,
    "start_time": "2022-11-15T22:18:08.521Z"
   },
   {
    "duration": 24,
    "start_time": "2022-11-15T22:18:08.930Z"
   },
   {
    "duration": 3,
    "start_time": "2022-11-15T22:18:08.959Z"
   },
   {
    "duration": 6,
    "start_time": "2022-11-15T22:18:09.020Z"
   },
   {
    "duration": 304,
    "start_time": "2022-11-15T22:18:09.027Z"
   },
   {
    "duration": 305,
    "start_time": "2022-11-15T22:18:09.332Z"
   },
   {
    "duration": 217,
    "start_time": "2022-11-15T22:18:09.638Z"
   },
   {
    "duration": 134,
    "start_time": "2022-11-15T22:18:09.856Z"
   },
   {
    "duration": 123,
    "start_time": "2022-11-15T22:18:09.992Z"
   },
   {
    "duration": 372,
    "start_time": "2022-11-15T22:18:10.121Z"
   },
   {
    "duration": 8,
    "start_time": "2022-11-15T22:18:10.495Z"
   },
   {
    "duration": 18,
    "start_time": "2022-11-15T22:18:10.504Z"
   },
   {
    "duration": 6,
    "start_time": "2022-11-15T22:18:10.523Z"
   },
   {
    "duration": 48,
    "start_time": "2022-11-15T22:18:10.531Z"
   },
   {
    "duration": 5,
    "start_time": "2022-11-15T22:18:10.581Z"
   },
   {
    "duration": 33,
    "start_time": "2022-11-15T22:18:10.588Z"
   },
   {
    "duration": 46,
    "start_time": "2022-11-15T22:18:10.622Z"
   },
   {
    "duration": 13,
    "start_time": "2022-11-15T22:18:10.670Z"
   },
   {
    "duration": 145,
    "start_time": "2022-11-15T22:18:10.685Z"
   },
   {
    "duration": 201,
    "start_time": "2022-11-15T22:21:58.580Z"
   },
   {
    "duration": 343,
    "start_time": "2022-11-15T22:22:06.923Z"
   },
   {
    "duration": 426,
    "start_time": "2022-11-16T08:15:57.195Z"
   },
   {
    "duration": 360,
    "start_time": "2022-11-16T08:15:57.623Z"
   },
   {
    "duration": 3,
    "start_time": "2022-11-16T08:15:57.985Z"
   },
   {
    "duration": 145,
    "start_time": "2022-11-16T08:15:57.989Z"
   },
   {
    "duration": 40,
    "start_time": "2022-11-16T08:15:58.136Z"
   },
   {
    "duration": 14,
    "start_time": "2022-11-16T08:15:58.178Z"
   },
   {
    "duration": 1822,
    "start_time": "2022-11-16T08:15:58.194Z"
   },
   {
    "duration": 9,
    "start_time": "2022-11-16T08:16:00.017Z"
   },
   {
    "duration": 54,
    "start_time": "2022-11-16T08:16:00.027Z"
   },
   {
    "duration": 4,
    "start_time": "2022-11-16T08:16:00.083Z"
   },
   {
    "duration": 13,
    "start_time": "2022-11-16T08:16:00.088Z"
   },
   {
    "duration": 16,
    "start_time": "2022-11-16T08:16:00.103Z"
   },
   {
    "duration": 10,
    "start_time": "2022-11-16T08:16:00.120Z"
   },
   {
    "duration": 11,
    "start_time": "2022-11-16T08:16:00.132Z"
   },
   {
    "duration": 1209,
    "start_time": "2022-11-16T08:16:00.144Z"
   },
   {
    "duration": 4,
    "start_time": "2022-11-16T08:16:01.355Z"
   },
   {
    "duration": 25,
    "start_time": "2022-11-16T08:16:01.360Z"
   },
   {
    "duration": 24,
    "start_time": "2022-11-16T08:16:01.387Z"
   },
   {
    "duration": 10,
    "start_time": "2022-11-16T08:16:01.413Z"
   },
   {
    "duration": 2,
    "start_time": "2022-11-16T08:16:01.424Z"
   },
   {
    "duration": 10,
    "start_time": "2022-11-16T08:16:01.428Z"
   },
   {
    "duration": 7,
    "start_time": "2022-11-16T08:16:01.439Z"
   },
   {
    "duration": 6,
    "start_time": "2022-11-16T08:16:01.447Z"
   },
   {
    "duration": 19,
    "start_time": "2022-11-16T08:16:01.454Z"
   },
   {
    "duration": 12,
    "start_time": "2022-11-16T08:16:01.475Z"
   },
   {
    "duration": 28,
    "start_time": "2022-11-16T08:16:01.489Z"
   },
   {
    "duration": 14,
    "start_time": "2022-11-16T08:16:01.518Z"
   },
   {
    "duration": 13,
    "start_time": "2022-11-16T08:16:01.536Z"
   },
   {
    "duration": 28,
    "start_time": "2022-11-16T08:16:01.550Z"
   },
   {
    "duration": 7,
    "start_time": "2022-11-16T08:16:01.580Z"
   },
   {
    "duration": 25,
    "start_time": "2022-11-16T08:16:01.589Z"
   },
   {
    "duration": 10,
    "start_time": "2022-11-16T08:16:01.616Z"
   },
   {
    "duration": 6,
    "start_time": "2022-11-16T08:16:01.627Z"
   },
   {
    "duration": 13,
    "start_time": "2022-11-16T08:16:01.635Z"
   },
   {
    "duration": 11,
    "start_time": "2022-11-16T08:16:01.649Z"
   },
   {
    "duration": 124,
    "start_time": "2022-11-16T08:16:01.661Z"
   },
   {
    "duration": 26,
    "start_time": "2022-11-16T08:16:01.787Z"
   },
   {
    "duration": 7,
    "start_time": "2022-11-16T08:16:01.814Z"
   },
   {
    "duration": 98,
    "start_time": "2022-11-16T08:16:01.822Z"
   },
   {
    "duration": 196,
    "start_time": "2022-11-16T08:16:01.922Z"
   },
   {
    "duration": 5,
    "start_time": "2022-11-16T08:16:02.120Z"
   },
   {
    "duration": 9,
    "start_time": "2022-11-16T08:16:02.127Z"
   },
   {
    "duration": 228,
    "start_time": "2022-11-16T08:16:02.138Z"
   },
   {
    "duration": 47,
    "start_time": "2022-11-16T08:16:02.367Z"
   },
   {
    "duration": 6,
    "start_time": "2022-11-16T08:16:02.415Z"
   },
   {
    "duration": 117,
    "start_time": "2022-11-16T08:16:02.423Z"
   },
   {
    "duration": 37,
    "start_time": "2022-11-16T08:16:02.542Z"
   },
   {
    "duration": 191,
    "start_time": "2022-11-16T08:16:02.581Z"
   },
   {
    "duration": 46,
    "start_time": "2022-11-16T08:16:02.774Z"
   },
   {
    "duration": 6,
    "start_time": "2022-11-16T08:16:02.822Z"
   },
   {
    "duration": 47,
    "start_time": "2022-11-16T08:16:02.829Z"
   },
   {
    "duration": 5,
    "start_time": "2022-11-16T08:16:02.878Z"
   },
   {
    "duration": 7,
    "start_time": "2022-11-16T08:16:02.884Z"
   },
   {
    "duration": 6,
    "start_time": "2022-11-16T08:16:02.912Z"
   },
   {
    "duration": 433,
    "start_time": "2022-11-16T08:16:02.920Z"
   },
   {
    "duration": 9,
    "start_time": "2022-11-16T08:16:03.355Z"
   },
   {
    "duration": 3,
    "start_time": "2022-11-16T08:16:03.366Z"
   },
   {
    "duration": 6,
    "start_time": "2022-11-16T08:16:03.371Z"
   },
   {
    "duration": 89,
    "start_time": "2022-11-16T08:16:03.378Z"
   },
   {
    "duration": 3,
    "start_time": "2022-11-16T08:16:03.469Z"
   },
   {
    "duration": 9,
    "start_time": "2022-11-16T08:16:03.474Z"
   },
   {
    "duration": 5,
    "start_time": "2022-11-16T08:16:03.484Z"
   },
   {
    "duration": 21,
    "start_time": "2022-11-16T08:16:03.491Z"
   },
   {
    "duration": 3,
    "start_time": "2022-11-16T08:16:03.514Z"
   },
   {
    "duration": 238,
    "start_time": "2022-11-16T08:16:03.519Z"
   },
   {
    "duration": 5,
    "start_time": "2022-11-16T08:16:03.758Z"
   },
   {
    "duration": 186,
    "start_time": "2022-11-16T08:16:03.765Z"
   },
   {
    "duration": 183,
    "start_time": "2022-11-16T08:16:03.952Z"
   },
   {
    "duration": 261,
    "start_time": "2022-11-16T08:16:04.137Z"
   },
   {
    "duration": 189,
    "start_time": "2022-11-16T08:16:04.400Z"
   },
   {
    "duration": 201,
    "start_time": "2022-11-16T08:16:04.591Z"
   },
   {
    "duration": 176,
    "start_time": "2022-11-16T08:16:04.793Z"
   },
   {
    "duration": 164,
    "start_time": "2022-11-16T08:16:04.970Z"
   },
   {
    "duration": 113,
    "start_time": "2022-11-16T08:16:05.135Z"
   },
   {
    "duration": 180,
    "start_time": "2022-11-16T08:16:05.250Z"
   },
   {
    "duration": 182,
    "start_time": "2022-11-16T08:16:05.431Z"
   },
   {
    "duration": 181,
    "start_time": "2022-11-16T08:16:05.614Z"
   },
   {
    "duration": 177,
    "start_time": "2022-11-16T08:16:05.796Z"
   },
   {
    "duration": 144,
    "start_time": "2022-11-16T08:16:05.974Z"
   },
   {
    "duration": 527,
    "start_time": "2022-11-16T08:16:06.120Z"
   },
   {
    "duration": 223,
    "start_time": "2022-11-16T08:16:06.648Z"
   },
   {
    "duration": 22,
    "start_time": "2022-11-16T08:16:06.876Z"
   },
   {
    "duration": 16,
    "start_time": "2022-11-16T08:16:06.899Z"
   },
   {
    "duration": 22,
    "start_time": "2022-11-16T08:16:06.916Z"
   },
   {
    "duration": 155,
    "start_time": "2022-11-16T08:16:06.940Z"
   },
   {
    "duration": 159,
    "start_time": "2022-11-16T08:16:07.097Z"
   },
   {
    "duration": 136,
    "start_time": "2022-11-16T08:16:07.258Z"
   },
   {
    "duration": 125,
    "start_time": "2022-11-16T08:16:07.395Z"
   },
   {
    "duration": 139,
    "start_time": "2022-11-16T08:16:07.522Z"
   },
   {
    "duration": 397,
    "start_time": "2022-11-16T08:16:07.663Z"
   },
   {
    "duration": 8,
    "start_time": "2022-11-16T08:16:08.061Z"
   },
   {
    "duration": 5,
    "start_time": "2022-11-16T08:16:08.071Z"
   },
   {
    "duration": 7,
    "start_time": "2022-11-16T08:16:08.077Z"
   },
   {
    "duration": 58,
    "start_time": "2022-11-16T08:16:08.085Z"
   },
   {
    "duration": 6,
    "start_time": "2022-11-16T08:16:08.144Z"
   },
   {
    "duration": 14,
    "start_time": "2022-11-16T08:16:08.151Z"
   },
   {
    "duration": 56,
    "start_time": "2022-11-16T08:16:08.166Z"
   },
   {
    "duration": 14,
    "start_time": "2022-11-16T08:16:08.223Z"
   },
   {
    "duration": 139,
    "start_time": "2022-11-16T08:16:08.239Z"
   }
  ],
  "kernelspec": {
   "display_name": "Python 3 (ipykernel)",
   "language": "python",
   "name": "python3"
  },
  "language_info": {
   "codemirror_mode": {
    "name": "ipython",
    "version": 3
   },
   "file_extension": ".py",
   "mimetype": "text/x-python",
   "name": "python",
   "nbconvert_exporter": "python",
   "pygments_lexer": "ipython3",
   "version": "3.9.13"
  },
  "toc": {
   "base_numbering": "1",
   "nav_menu": {
    "height": "147px",
    "width": "904px"
   },
   "number_sections": true,
   "sideBar": true,
   "skip_h1_title": true,
   "title_cell": "Содержание",
   "title_sidebar": "Содержание",
   "toc_cell": true,
   "toc_position": {
    "height": "calc(100% - 180px)",
    "left": "10px",
    "top": "150px",
    "width": "242px"
   },
   "toc_section_display": true,
   "toc_window_display": true
  }
 },
 "nbformat": 4,
 "nbformat_minor": 2
}
